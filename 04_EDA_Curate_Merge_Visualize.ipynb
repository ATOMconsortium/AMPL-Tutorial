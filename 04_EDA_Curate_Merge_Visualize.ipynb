{
  "nbformat": 4,
  "nbformat_minor": 0,
  "metadata": {
    "kernelspec": {
      "display_name": "Python 3",
      "language": "python",
      "name": "python3"
    },
    "language_info": {
      "codemirror_mode": {
        "name": "ipython",
        "version": 3
      },
      "file_extension": ".py",
      "mimetype": "text/x-python",
      "name": "python",
      "nbconvert_exporter": "python",
      "pygments_lexer": "ipython3",
      "version": "3.6.10"
    },
    "colab": {
      "name": "04_EDA_Curate_Merge_Visualize.ipynb",
      "provenance": [],
      "collapsed_sections": [],
      "include_colab_link": true
    },
    "accelerator": "TPU"
  },
  "cells": [
    {
      "cell_type": "markdown",
      "metadata": {
        "id": "view-in-github",
        "colab_type": "text"
      },
      "source": [
        "<a href=\"https://colab.research.google.com/github/ravichas/AMPL-Tutorial/blob/master/04_EDA_Curate_Merge_Visualize.ipynb\" target=\"_parent\"><img src=\"https://colab.research.google.com/assets/colab-badge.svg\" alt=\"Open In Colab\"/></a>"
      ]
    },
    {
      "cell_type": "markdown",
      "metadata": {
        "id": "kt3SCLIe98ok"
      },
      "source": [
        "# 04_EDA: Curate, Merge and Visualize Datasets (< 4 minutes)\n",
        "\n",
        "The ATOM Modeling PipeLine (AMPL; https://github.com/ATOMconsortium/AMPL) is an open-source, modular, extensible software pipeline for building and sharing models to advance in silico drug discovery.\n",
        "\n",
        "**Warning: This is an experimental notebook**\n"
      ]
    },
    {
      "cell_type": "markdown",
      "metadata": {
        "id": "z5P9jG8ijD3q"
      },
      "source": [
        "## Goals\n",
        "\n",
        "We will use the predownloaded ChEMBL datasets to carry out some of the following basic EDA using AMPL:  \n",
        "* Loading the data\n",
        "* Cleaning\n",
        "* Merge datasets\n",
        "* Visualization \n",
        "* Carry out some basic analysis"
      ]
    },
    {
      "cell_type": "markdown",
      "metadata": {
        "id": "bYM-a4PE_AIZ"
      },
      "source": [
        "## Install AMPL"
      ]
    },
    {
      "cell_type": "code",
      "metadata": {
        "id": "lEwg8SNq_B73"
      },
      "source": [
        "import requests\n",
        "import sys\n",
        "\n",
        "# Copy AMPL install script\n",
        "url='https://raw.githubusercontent.com/ravichas/AMPL-Tutorial/master/config/install_AMPL_GPU.sh'\n",
        "\n",
        "downloaded_obj = requests.get(url)\n",
        "with open(\"install_AMPL_GPU.sh\", \"wb\") as file:\n",
        "    file.write(downloaded_obj.content)\n",
        "\n",
        "\n",
        "# Install AMPL\n",
        "!chmod u+x install_AMPL_GPU.sh\n",
        "!time ./install_AMPL_GPU.sh\n",
        "\n",
        "if '/content/AMPL/lib/python3.6/site-packages' not in sys.path:\n",
        "    sys.path.insert(1, '/content/AMPL/lib/python3.6/site-packages')"
      ],
      "execution_count": null,
      "outputs": []
    },
    {
      "cell_type": "markdown",
      "metadata": {
        "id": "CHqM4j5ijUHu"
      },
      "source": [
        "## Let us download the datasets from Github "
      ]
    },
    {
      "cell_type": "code",
      "metadata": {
        "id": "185uZ5CifANl"
      },
      "source": [
        "## Roll this into a  function\n",
        "import os\n",
        "import requests\n",
        "working_dir=\"/content\"\n",
        "# list_files = ['pgp_chembl.csv','bcrp_chembl.csv']\n",
        "dataset_file = os.path.join(working_dir, 'pgp_chembl.csv')\n",
        "if (not os.path.isfile(dataset_file)):\n",
        "    r = requests.get('https://raw.githubusercontent.com/ravichas/AMPL-Tutorial/master/datasets/pgp_chembl.csv', verify=True)\n",
        "    with open(dataset_file, 'wb') as f:\n",
        "        f.write(r.content)\n",
        "\n",
        "dataset_file = os.path.join(working_dir, 'bcrp_chembl.csv')\n",
        "if (not os.path.isfile(dataset_file)):\n",
        "    r = requests.get('https://raw.githubusercontent.com/ravichas/AMPL-Tutorial/master/datasets/bcrp_chembl.csv', verify=True)\n",
        "    with open(dataset_file, 'wb') as f:\n",
        "        f.write(r.content)"
      ],
      "execution_count": 3,
      "outputs": []
    },
    {
      "cell_type": "code",
      "metadata": {
        "id": "rHx_XeG4jldd",
        "outputId": "b304505a-b81d-4e85-cfb8-48acecde25b0",
        "colab": {
          "base_uri": "https://localhost:8080/",
          "height": 390
        }
      },
      "source": [
        "%%bash\n",
        "head bcrp*csv\n",
        "echo ' '\n",
        "head pgp*csv"
      ],
      "execution_count": null,
      "outputs": [
        {
          "output_type": "stream",
          "text": [
            ",chembl,smile,pAct,relationship\n",
            "0,BOERAVINONE G_CHEMBL221371,COc1cc(O)c2c(=O)c3c(oc2c1)C(OC)Oc1c(O)cccc1-3,6.16,=\n",
            "1,BOERAVINONE H_CHEMBL222265,COc1cc2oc3c(c(=O)c2c(O)c1C)-c1cccc(O)c1OC3OC,5.6,=\n",
            "2,None_CHEMBL243813,COc1cccc2[nH]c3ccccc3c(=O)c12,5.2,=\n",
            "3,None_CHEMBL243169,COc1ccc2c(=O)c3cccc(C(=O)NCCc4ccc(OC)c(OC)c4)c3[nH]c2c1,5.86,=\n",
            "4,None_CHEMBL243168,COc1ccc(CCNC(=O)c2cccc3c(=O)c4ccc(OC)cc4[nH]c23)cc1,6.25,=\n",
            "5,None_CHEMBL243167,COc1ccc(CCNC(=O)c2cccc3c(=O)c4ccccc4[nH]c23)cc1OC,6.35,=\n",
            "6,None_CHEMBL397235,COc1ccc(CCNC(=O)c2cccc3c(=O)c4ccccc4[nH]c23)cc1,6.46,=\n",
            "7,None_CHEMBL242513,COc1cc(C(F)(F)F)cc2[nH]c3ccccc3c(=O)c12,6.11,=\n",
            "8,None_CHEMBL243814,COc1cc(OC)c2c(=O)c3ccccc3[nH]c2c1,5.1,=\n",
            " \n",
            ",chembl,smile,pAct,relationship\n",
            "0,None_CHEMBL354935,COc1cc(NC(=O)Cc2cccc(-n3c(=O)c4c(C)onc4c4c(Cl)cccc43)c2)cc(OC)c1O,5.89,=\n",
            "1,None_CHEMBL434871,COc1ccc(NC(=O)Cc2cccc(-n3c(=O)c4c(C)onc4c4c(Cl)cccc43)c2)cc1OC,5.39,=\n",
            "2,None_CHEMBL354544,Cc1onc2c1c(=O)n(-c1cccc(CC(=O)Nc3ccc4c(c3)OCO4)c1)c1cccc(Cl)c21,5.4,=\n",
            "3,None_CHEMBL172059,Cc1onc2c1c(=O)n(-c1cccc(CC(=O)Nc3ccc(C#N)cc3)c1)c1cccc(Cl)c21,5.31,=\n",
            "4,None_CHEMBL170699,COc1cc(NC(=O)Cc2cccc(-n3c(=O)c4c(C)onc4c4c(Cl)cccc43)c2)cc(OC)c1,5.68,=\n",
            "5,None_CHEMBL355346,Cc1onc2c1c(=O)n(-c1cccc(CC(=O)Nc3ccccc3)c1)c1cccc(Cl)c21,5.64,=\n",
            "6,None_CHEMBL169803,Cc1cc(C(=O)N[C@@H]2c3cc(-n4c(=O)c5c(C)onc5c5c(Cl)cccc54)ccc3C[C@H]2O)no1,5.0,=\n",
            "7,None_CHEMBL170624,COc1cc(CNCc2cccc(-n3c(=O)c4c(C)onc4c4c(Cl)cccc43)c2)cc(OC)c1OC,5.75,=\n",
            "8,None_CHEMBL168831,COc1cc(N(C)C(=O)Cc2cccc(-n3c(=O)c4c(C)onc4c4c(Cl)cccc43)c2)cc(OC)c1OC,6.19,=\n"
          ],
          "name": "stdout"
        }
      ]
    },
    {
      "cell_type": "markdown",
      "metadata": {
        "id": "68iGa_IBjknz"
      },
      "source": [
        ""
      ]
    },
    {
      "cell_type": "code",
      "metadata": {
        "id": "REQrIXCH_Z4h",
        "outputId": "bd1e519b-7fb8-4cda-c4f3-81326aa0363a",
        "colab": {
          "base_uri": "https://localhost:8080/",
          "height": 212
        }
      },
      "source": [
        "# Load AMPL in this notebook\n",
        "\n",
        "site_packages_path = '/content/AMPL/lib/python3.7/site-packages'\n",
        "if site_packages_path not in sys.path:\n",
        "  sys.path.insert(1, site_packages_path)\n",
        "sys.path"
      ],
      "execution_count": null,
      "outputs": [
        {
          "output_type": "execute_result",
          "data": {
            "text/plain": [
              "['',\n",
              " '/content/AMPL/lib/python3.7/site-packages',\n",
              " '/content/AMPL/lib/python3.6/site-packages',\n",
              " '/env/python',\n",
              " '/usr/lib/python36.zip',\n",
              " '/usr/lib/python3.6',\n",
              " '/usr/lib/python3.6/lib-dynload',\n",
              " '/usr/local/lib/python3.6/dist-packages',\n",
              " '/usr/lib/python3/dist-packages',\n",
              " '/usr/local/lib/python3.6/dist-packages/IPython/extensions',\n",
              " '/root/.ipython']"
            ]
          },
          "metadata": {
            "tags": []
          },
          "execution_count": 4
        }
      ]
    },
    {
      "cell_type": "code",
      "metadata": {
        "id": "p-tnkVmA_dE5"
      },
      "source": [
        "# There is a problem with the previously imported cffi, so delete it and load it with AMPL instead\n",
        "if 'cffi' in sys.modules:\n",
        "  del sys.modules['cffi']"
      ],
      "execution_count": null,
      "outputs": []
    },
    {
      "cell_type": "markdown",
      "metadata": {
        "id": "iy-UAiTc9Ck0"
      },
      "source": [
        "\n",
        "\n",
        "Here we will load 2 datasets, curate the rows, and visualize some basic tenets of the data. **Your starting dataset should have columns including:**\n",
        "- unique compound identifier\n",
        "- smiles strings (see https://pubchem.ncbi.nlm.nih.gov/idexchange/idexchange.cgi for a good lookup service)\n",
        "    - **IMPORTANT: for optimal harmonizaton, first translate all SMILES to pubchem SMILES using the linked service**\n",
        "    - either look up pubchem CIDs for compounds or do SMILES -> SMILES\n",
        "    - this greatly improves RDKit base_smiles_from_smiles reduction\n",
        "- an assay measurement value, ie pIC50\n",
        "- labels like \"active\" or \"inactive\" or another label you want, such as the source of the data.\n",
        "\n",
        "# Load packages, define functions"
      ]
    },
    {
      "cell_type": "code",
      "metadata": {
        "id": "p3ReIgoV9Ck1"
      },
      "source": [
        "# manipulate data\n",
        "import pandas as pd\n",
        "\n",
        "# plot data\n",
        "import numpy as np\n",
        "import matplotlib.pyplot as plt\n",
        "\n",
        "# curate data\n",
        "import atomsci.ddm.utils.struct_utils as struct_utils\n",
        "import atomsci.ddm.utils.curate_data as curate_data\n",
        "\n",
        "# visualize compound structures\n",
        "import tempfile\n",
        "from rdkit import Chem\n",
        "from rdkit.Chem import Draw\n",
        "from itertools import islice\n",
        "from IPython.display import Image, display\n",
        "\n",
        "pd.set_option('display.max_columns',(90))\n",
        "pd.set_option('display.max_rows',(20))"
      ],
      "execution_count": null,
      "outputs": []
    },
    {
      "cell_type": "markdown",
      "metadata": {
        "id": "RbQg0Ufm9Ck5"
      },
      "source": [
        "# Curating and merging datasets\n",
        "Some of these merging steps will be highly dependent on the information contained in each individual dataset and what you want to keep after curation.\n",
        "\n",
        "### **Step 0:** Read dataset\n",
        "Read in dataset to be curated and merged. \n",
        "\n",
        "### Step 1: Initial curation for nan's and outliers\n",
        "Drop NA values for assay measurement column. Here you should also examine empty quotes, unexpected zeros, or other values that might not be real.\n",
        "\n",
        "### **Step 2:** Canonicalize smiles strings\n",
        "Canonicalize smiles strings so they are comparable across datasets with `struct_utils.base_smiles_from_smiles`. Even though the next function performs this step, we need to do this here in order to maintain correct metadata indices."
      ]
    },
    {
      "cell_type": "code",
      "metadata": {
        "id": "vjYkWEYk95qX"
      },
      "source": [
        "dfp = pd.read_csv(\"pgp_chembl.csv\", index_col=0)\n",
        "dfp['rdkit_smile'] = dfp['smile'].apply(curate_data.base_smiles_from_smiles)\n",
        "#remove chemicals without smile strings\n",
        "dfp.drop(dfp[dfp.smile == \"\"].index, inplace=True)"
      ],
      "execution_count": 7,
      "outputs": []
    },
    {
      "cell_type": "code",
      "metadata": {
        "id": "iVFkzLR2hwNG",
        "outputId": "40874be7-1b0b-439f-9893-01fb4d24b3d0",
        "colab": {
          "base_uri": "https://localhost:8080/",
          "height": 297
        }
      },
      "source": [
        "dfp.describe()"
      ],
      "execution_count": 9,
      "outputs": [
        {
          "output_type": "execute_result",
          "data": {
            "text/html": [
              "<div>\n",
              "<style scoped>\n",
              "    .dataframe tbody tr th:only-of-type {\n",
              "        vertical-align: middle;\n",
              "    }\n",
              "\n",
              "    .dataframe tbody tr th {\n",
              "        vertical-align: top;\n",
              "    }\n",
              "\n",
              "    .dataframe thead th {\n",
              "        text-align: right;\n",
              "    }\n",
              "</style>\n",
              "<table border=\"1\" class=\"dataframe\">\n",
              "  <thead>\n",
              "    <tr style=\"text-align: right;\">\n",
              "      <th></th>\n",
              "      <th>pAct</th>\n",
              "    </tr>\n",
              "  </thead>\n",
              "  <tbody>\n",
              "    <tr>\n",
              "      <th>count</th>\n",
              "      <td>2449.000000</td>\n",
              "    </tr>\n",
              "    <tr>\n",
              "      <th>mean</th>\n",
              "      <td>5.835321</td>\n",
              "    </tr>\n",
              "    <tr>\n",
              "      <th>std</th>\n",
              "      <td>1.128584</td>\n",
              "    </tr>\n",
              "    <tr>\n",
              "      <th>min</th>\n",
              "      <td>4.000000</td>\n",
              "    </tr>\n",
              "    <tr>\n",
              "      <th>25%</th>\n",
              "      <td>5.080000</td>\n",
              "    </tr>\n",
              "    <tr>\n",
              "      <th>50%</th>\n",
              "      <td>5.700000</td>\n",
              "    </tr>\n",
              "    <tr>\n",
              "      <th>75%</th>\n",
              "      <td>6.400000</td>\n",
              "    </tr>\n",
              "    <tr>\n",
              "      <th>max</th>\n",
              "      <td>10.990000</td>\n",
              "    </tr>\n",
              "  </tbody>\n",
              "</table>\n",
              "</div>"
            ],
            "text/plain": [
              "              pAct\n",
              "count  2449.000000\n",
              "mean      5.835321\n",
              "std       1.128584\n",
              "min       4.000000\n",
              "25%       5.080000\n",
              "50%       5.700000\n",
              "75%       6.400000\n",
              "max      10.990000"
            ]
          },
          "metadata": {
            "tags": []
          },
          "execution_count": 9
        }
      ]
    },
    {
      "cell_type": "code",
      "metadata": {
        "id": "1YPikop8_hfT",
        "outputId": "c3d6456e-f159-4f2e-9a89-2b4e6d79ae2a",
        "colab": {
          "base_uri": "https://localhost:8080/",
          "height": 70
        }
      },
      "source": [
        "# look at length of dataset and duplicates.\n",
        "print('Name duplecates:', dfp['chembl'].duplicated().sum())\n",
        "print('SMILES duplecates:', dfp.rdkit_smile.duplicated().sum())\n",
        "print('Shape:',dfp.shape)"
      ],
      "execution_count": null,
      "outputs": [
        {
          "output_type": "stream",
          "text": [
            "Name duplecates: 786\n",
            "SMILES duplecates: 789\n",
            "Shape: (2449, 6)\n"
          ],
          "name": "stdout"
        }
      ]
    },
    {
      "cell_type": "markdown",
      "metadata": {
        "id": "XMjyews09ClD"
      },
      "source": [
        "### **Step 3:** Preserve and aggregate metadata\n",
        "Split off metadata from parent dataframe and aggregate labels."
      ]
    },
    {
      "cell_type": "code",
      "metadata": {
        "id": "1xPQrIU09ClE",
        "outputId": "b0a4a41c-a263-458f-e0fe-9ffb27dfde2c",
        "colab": {
          "base_uri": "https://localhost:8080/",
          "height": 34
        }
      },
      "source": [
        "dfp.columns"
      ],
      "execution_count": null,
      "outputs": [
        {
          "output_type": "execute_result",
          "data": {
            "text/plain": [
              "Index(['Unnamed: 0', 'chembl', 'smile', 'pAct', 'relationship', 'rdkit_smile'], dtype='object')"
            ]
          },
          "metadata": {
            "tags": []
          },
          "execution_count": 10
        }
      ]
    },
    {
      "cell_type": "markdown",
      "metadata": {
        "id": "bA3Bpcpk9ClO"
      },
      "source": [
        "### **Step 4:** Aggregate assay data\n",
        "Use the `aggregate_assay_data()` function to aggregate duplicate assay measurements, deal with censored values, and standardize measurement dataframe for modeling later. This method also re-does the canonical smiles strings. *Even if you know you have no duplicates, still perform this step to standardize the dataframe.* \n",
        "\n",
        "### **Step 5:** Merge metadata back in\n",
        "Merge metadata with aggregated assay data."
      ]
    },
    {
      "cell_type": "code",
      "metadata": {
        "id": "dVgNoZ1C9ClP",
        "outputId": "7ceb21ff-c18d-45f5-abf1-3d5f886a4a49",
        "colab": {
          "base_uri": "https://localhost:8080/",
          "height": 34
        }
      },
      "source": [
        "# 60uM threshold -> pIC50\n",
        "import numpy as np\n",
        "thresh=-np.log10(60/1000000)\n",
        "thresh"
      ],
      "execution_count": null,
      "outputs": [
        {
          "output_type": "execute_result",
          "data": {
            "text/plain": [
              "4.221848749616356"
            ]
          },
          "metadata": {
            "tags": []
          },
          "execution_count": 11
        }
      ]
    },
    {
      "cell_type": "code",
      "metadata": {
        "id": "MGIJceJi9ClS",
        "outputId": "bdf99aa3-2c38-4468-9f26-68de073f60e3",
        "colab": {
          "base_uri": "https://localhost:8080/",
          "height": 70
        }
      },
      "source": [
        "#average duplicated data\n",
        "dfp_cur = curate_data.aggregate_assay_data(dfp, \n",
        "                         value_col='pAct', \n",
        "                         output_value_col='pAct_pgp',\n",
        "                         label_actives=True, \n",
        "                         active_thresh=thresh,\n",
        "                         id_col='chembl', \n",
        "                         smiles_col='rdkit_smile', \n",
        "                         relation_col='relationship', \n",
        "                         date_col=None)\n",
        "print('actives:', dfp_cur.active.sum())"
      ],
      "execution_count": null,
      "outputs": [
        {
          "output_type": "stream",
          "text": [
            "2 entries in input table are missing SMILES strings\n",
            "1659 unique SMILES strings are reduced to 1659 unique base SMILES strings\n",
            "actives: 1606\n"
          ],
          "name": "stdout"
        }
      ]
    },
    {
      "cell_type": "code",
      "metadata": {
        "id": "URSPXm_6ioVw",
        "outputId": "bb217060-c085-46f1-d02b-89922fabef6c",
        "colab": {
          "base_uri": "https://localhost:8080/",
          "height": 406
        }
      },
      "source": [
        "dfp_cur"
      ],
      "execution_count": null,
      "outputs": [
        {
          "output_type": "execute_result",
          "data": {
            "text/html": [
              "<div>\n",
              "<style scoped>\n",
              "    .dataframe tbody tr th:only-of-type {\n",
              "        vertical-align: middle;\n",
              "    }\n",
              "\n",
              "    .dataframe tbody tr th {\n",
              "        vertical-align: top;\n",
              "    }\n",
              "\n",
              "    .dataframe thead th {\n",
              "        text-align: right;\n",
              "    }\n",
              "</style>\n",
              "<table border=\"1\" class=\"dataframe\">\n",
              "  <thead>\n",
              "    <tr style=\"text-align: right;\">\n",
              "      <th></th>\n",
              "      <th>compound_id</th>\n",
              "      <th>base_rdkit_smiles</th>\n",
              "      <th>relation</th>\n",
              "      <th>pAct_pgp</th>\n",
              "      <th>active</th>\n",
              "    </tr>\n",
              "  </thead>\n",
              "  <tbody>\n",
              "    <tr>\n",
              "      <th>0</th>\n",
              "      <td>None_CHEMBL2372475</td>\n",
              "      <td>CC/C=C/C[C@@H](C)C[C@H]1C(=O)N[C@@H](C(C)C)C(=...</td>\n",
              "      <td></td>\n",
              "      <td>5.570</td>\n",
              "      <td>1</td>\n",
              "    </tr>\n",
              "    <tr>\n",
              "      <th>1</th>\n",
              "      <td>None_CHEMBL2449493</td>\n",
              "      <td>CCC(=O)c1ccc(OC[C@H](O)CN2CCN(c3ccccc3C)CC2)cc1</td>\n",
              "      <td></td>\n",
              "      <td>6.060</td>\n",
              "      <td>1</td>\n",
              "    </tr>\n",
              "    <tr>\n",
              "      <th>2</th>\n",
              "      <td>None_CHEMBL358299</td>\n",
              "      <td>OC(COc1ccccc1C(O)CCc1ccccc1)CN1CCCCC1</td>\n",
              "      <td></td>\n",
              "      <td>6.045</td>\n",
              "      <td>1</td>\n",
              "    </tr>\n",
              "    <tr>\n",
              "      <th>3</th>\n",
              "      <td>None_CHEMBL2449384</td>\n",
              "      <td>O=C(CCc1ccccc1)c1cc(OCc2ccccc2)ccc1OC[C@H](O)C...</td>\n",
              "      <td></td>\n",
              "      <td>6.940</td>\n",
              "      <td>1</td>\n",
              "    </tr>\n",
              "    <tr>\n",
              "      <th>4</th>\n",
              "      <td>None_CHEMBL1608805</td>\n",
              "      <td>CCOC(=O)c1cccc(NC(=O)c2cnc3ccccc3n2)c1</td>\n",
              "      <td></td>\n",
              "      <td>4.510</td>\n",
              "      <td>1</td>\n",
              "    </tr>\n",
              "    <tr>\n",
              "      <th>...</th>\n",
              "      <td>...</td>\n",
              "      <td>...</td>\n",
              "      <td>...</td>\n",
              "      <td>...</td>\n",
              "      <td>...</td>\n",
              "    </tr>\n",
              "    <tr>\n",
              "      <th>1654</th>\n",
              "      <td>None_CHEMBL3355362</td>\n",
              "      <td>COc1cccc(CCNCCCCc2cn(-c3ccc(F)cc3)c3ccccc23)c1</td>\n",
              "      <td></td>\n",
              "      <td>5.140</td>\n",
              "      <td>1</td>\n",
              "    </tr>\n",
              "    <tr>\n",
              "      <th>1655</th>\n",
              "      <td>None_CHEMBL131005</td>\n",
              "      <td>Cc1ccccc1N1CCN(CC(O)Cn2c(C)c(C(=O)CCc3ccccc3)c...</td>\n",
              "      <td></td>\n",
              "      <td>6.680</td>\n",
              "      <td>1</td>\n",
              "    </tr>\n",
              "    <tr>\n",
              "      <th>1656</th>\n",
              "      <td>None_CHEMBL2449339</td>\n",
              "      <td>CC(=O)c1ccccc1OC[C@H](O)CN1CCCCC1</td>\n",
              "      <td></td>\n",
              "      <td>4.500</td>\n",
              "      <td>1</td>\n",
              "    </tr>\n",
              "    <tr>\n",
              "      <th>1657</th>\n",
              "      <td>None_CHEMBL1900518</td>\n",
              "      <td>COc1cccc(-c2cc3nc(C)c(C)c(N4CCN(C(=O)c5ccoc5)C...</td>\n",
              "      <td></td>\n",
              "      <td>10.890</td>\n",
              "      <td>1</td>\n",
              "    </tr>\n",
              "    <tr>\n",
              "      <th>1658</th>\n",
              "      <td>None_CHEMBL2143184</td>\n",
              "      <td>Cc1cc(N2CCN(C(=O)c3ccco3)CC2)n2nc(-c3ccccc3)nc2n1</td>\n",
              "      <td></td>\n",
              "      <td>9.260</td>\n",
              "      <td>1</td>\n",
              "    </tr>\n",
              "  </tbody>\n",
              "</table>\n",
              "<p>1659 rows × 5 columns</p>\n",
              "</div>"
            ],
            "text/plain": [
              "             compound_id                                  base_rdkit_smiles  \\\n",
              "0     None_CHEMBL2372475  CC/C=C/C[C@@H](C)C[C@H]1C(=O)N[C@@H](C(C)C)C(=...   \n",
              "1     None_CHEMBL2449493    CCC(=O)c1ccc(OC[C@H](O)CN2CCN(c3ccccc3C)CC2)cc1   \n",
              "2      None_CHEMBL358299              OC(COc1ccccc1C(O)CCc1ccccc1)CN1CCCCC1   \n",
              "3     None_CHEMBL2449384  O=C(CCc1ccccc1)c1cc(OCc2ccccc2)ccc1OC[C@H](O)C...   \n",
              "4     None_CHEMBL1608805             CCOC(=O)c1cccc(NC(=O)c2cnc3ccccc3n2)c1   \n",
              "...                  ...                                                ...   \n",
              "1654  None_CHEMBL3355362     COc1cccc(CCNCCCCc2cn(-c3ccc(F)cc3)c3ccccc23)c1   \n",
              "1655   None_CHEMBL131005  Cc1ccccc1N1CCN(CC(O)Cn2c(C)c(C(=O)CCc3ccccc3)c...   \n",
              "1656  None_CHEMBL2449339                  CC(=O)c1ccccc1OC[C@H](O)CN1CCCCC1   \n",
              "1657  None_CHEMBL1900518  COc1cccc(-c2cc3nc(C)c(C)c(N4CCN(C(=O)c5ccoc5)C...   \n",
              "1658  None_CHEMBL2143184  Cc1cc(N2CCN(C(=O)c3ccco3)CC2)n2nc(-c3ccccc3)nc2n1   \n",
              "\n",
              "     relation  pAct_pgp  active  \n",
              "0                 5.570       1  \n",
              "1                 6.060       1  \n",
              "2                 6.045       1  \n",
              "3                 6.940       1  \n",
              "4                 4.510       1  \n",
              "...       ...       ...     ...  \n",
              "1654              5.140       1  \n",
              "1655              6.680       1  \n",
              "1656              4.500       1  \n",
              "1657             10.890       1  \n",
              "1658              9.260       1  \n",
              "\n",
              "[1659 rows x 5 columns]"
            ]
          },
          "metadata": {
            "tags": []
          },
          "execution_count": 13
        }
      ]
    },
    {
      "cell_type": "code",
      "metadata": {
        "id": "lenFGsPp9ClV",
        "outputId": "a783f505-dbfb-4bac-c614-d5b484f9a060",
        "colab": {
          "base_uri": "https://localhost:8080/",
          "height": 34
        }
      },
      "source": [
        "# previously this was 96!\n",
        "print(\"Total uncensored values:\", len(dfp_cur[dfp_cur.relation != '']))"
      ],
      "execution_count": null,
      "outputs": [
        {
          "output_type": "stream",
          "text": [
            "Total uncensored values: 0\n"
          ],
          "name": "stdout"
        }
      ]
    },
    {
      "cell_type": "code",
      "metadata": {
        "id": "S2T4JchB9ClY",
        "outputId": "e8b6fdb2-f2d2-4f1a-bf95-c1750028949a",
        "colab": {
          "base_uri": "https://localhost:8080/",
          "height": 34
        }
      },
      "source": [
        "dfp_cur.columns"
      ],
      "execution_count": null,
      "outputs": [
        {
          "output_type": "execute_result",
          "data": {
            "text/plain": [
              "Index(['compound_id', 'base_rdkit_smiles', 'relation', 'pAct_pgp', 'active'], dtype='object')"
            ]
          },
          "metadata": {
            "tags": []
          },
          "execution_count": 15
        }
      ]
    },
    {
      "cell_type": "code",
      "metadata": {
        "id": "kTdcCDxL9Clb",
        "outputId": "fbf08854-64ef-4362-edf8-e310e20fa738",
        "colab": {
          "base_uri": "https://localhost:8080/",
          "height": 34
        }
      },
      "source": [
        "print(\"Shape of curated dataframe:\", dfp_cur.shape)"
      ],
      "execution_count": null,
      "outputs": [
        {
          "output_type": "stream",
          "text": [
            "Shape of curated dataframe: (1659, 5)\n"
          ],
          "name": "stdout"
        }
      ]
    },
    {
      "cell_type": "markdown",
      "metadata": {
        "id": "kVW1EfiO9Clf"
      },
      "source": [
        "### Step 5.5: Repeat\n",
        "**Repeat** steps 1-5 for all dataframes you want to curate and merge."
      ]
    },
    {
      "cell_type": "code",
      "metadata": {
        "id": "DOgrGz-y-7Dn"
      },
      "source": [
        "dfb = pd.read_csv(\"bcrp_chembl.csv\", index_col=0)\n",
        "dfb['rdkit_smile'] = dfb['smile'].apply(curate_data.base_smiles_from_smiles)\n",
        "#remove chemicals without smile strings\n",
        "dfb.drop(dfb[dfb.smile == \"\"].index, inplace=True)"
      ],
      "execution_count": null,
      "outputs": []
    },
    {
      "cell_type": "code",
      "metadata": {
        "id": "t85tMrGz98ib",
        "outputId": "a2793fb6-b6af-4df4-9ce6-b8ac834f874b",
        "colab": {
          "base_uri": "https://localhost:8080/",
          "height": 70
        }
      },
      "source": [
        "# look at length of dataset and duplicates.\n",
        "print('name dupes:', dfb['chembl'].duplicated().sum())\n",
        "print('smiles dupes:', dfb.rdkit_smile.duplicated().sum())\n",
        "print('shape:',dfb.shape)"
      ],
      "execution_count": null,
      "outputs": [
        {
          "output_type": "stream",
          "text": [
            "name dupes: 494\n",
            "smiles dupes: 494\n",
            "shape: (1251, 6)\n"
          ],
          "name": "stdout"
        }
      ]
    },
    {
      "cell_type": "code",
      "metadata": {
        "id": "BEoZ2uk89Clg",
        "outputId": "6c1dcee0-c230-4e02-a4fc-b727718b08e4",
        "colab": {
          "base_uri": "https://localhost:8080/",
          "height": 70
        }
      },
      "source": [
        "# BCRP\n",
        "#run this for every pIC column\n",
        "dfb_cur = curate_data.aggregate_assay_data(dfb, \n",
        "                         value_col='pAct', \n",
        "                         output_value_col='pAct_bcrp',\n",
        "                         label_actives=True, \n",
        "                         active_thresh=thresh,\n",
        "                         id_col='chembl', \n",
        "                         smiles_col='rdkit_smile', \n",
        "                         relation_col='relationship', \n",
        "                         date_col=None)\n",
        "print('actives:', dfb_cur.active.sum())"
      ],
      "execution_count": null,
      "outputs": [
        {
          "output_type": "stream",
          "text": [
            "0 entries in input table are missing SMILES strings\n",
            "757 unique SMILES strings are reduced to 757 unique base SMILES strings\n",
            "actives: 743\n"
          ],
          "name": "stdout"
        }
      ]
    },
    {
      "cell_type": "code",
      "metadata": {
        "id": "JGbtclg_9Clj",
        "outputId": "8c9a47ac-02ae-47eb-aef1-81c4f198cda9",
        "colab": {
          "base_uri": "https://localhost:8080/",
          "height": 34
        }
      },
      "source": [
        "# previously this was 215\n",
        "print(\"Total uncensored values:\", len(dfb_cur[dfb_cur.relation != '']))"
      ],
      "execution_count": null,
      "outputs": [
        {
          "output_type": "stream",
          "text": [
            "Total uncensored values: 0\n"
          ],
          "name": "stdout"
        }
      ]
    },
    {
      "cell_type": "code",
      "metadata": {
        "id": "BIraM3ld9Clo",
        "outputId": "06847dee-8eac-4992-98d2-8454d523cccd",
        "colab": {
          "base_uri": "https://localhost:8080/",
          "height": 34
        }
      },
      "source": [
        "# previously this was 571\n",
        "print(\"Total uncensored values:\", len(dfb_cur[(dfb_cur.relation != '')&(dfb_cur.relation != '')]))"
      ],
      "execution_count": null,
      "outputs": [
        {
          "output_type": "stream",
          "text": [
            "Total uncensored values: 0\n"
          ],
          "name": "stdout"
        }
      ]
    },
    {
      "cell_type": "markdown",
      "metadata": {
        "id": "OK60Bu3f9Clt"
      },
      "source": [
        "### Step 6: (optional)  Merge datasets for multitask modeling\n",
        "Merge processed assay values together for each dataframe."
      ]
    },
    {
      "cell_type": "code",
      "metadata": {
        "id": "4OSkxIxS9Clu",
        "outputId": "16d3e081-4e26-4802-dd85-d8e6f0d05aa4",
        "colab": {
          "base_uri": "https://localhost:8080/",
          "height": 52
        }
      },
      "source": [
        "print(dfp_cur.shape)\n",
        "print(dfb_cur.shape)"
      ],
      "execution_count": null,
      "outputs": [
        {
          "output_type": "stream",
          "text": [
            "(1659, 5)\n",
            "(757, 5)\n"
          ],
          "name": "stdout"
        }
      ]
    },
    {
      "cell_type": "code",
      "metadata": {
        "id": "VzR9VOg29Cly",
        "outputId": "e4d6d674-33e0-4f7e-c38c-f8707df486d2",
        "colab": {
          "base_uri": "https://localhost:8080/",
          "height": 665
        }
      },
      "source": [
        "# shape should be 1 extra for control compound\n",
        "merge1 = pd.merge(dfp_cur, dfb_cur, how=\"outer\", on=(\"compound_id\", \"base_rdkit_smiles\", \"relation\", \"active\"), suffixes = (\"_pgp\", \"_bcrp\"))\n",
        "print(\"Shape of merge1 dataframe:\", merge1.shape)\n",
        "\n",
        "#show compounds which are only active against either P-GP or BCRP\n",
        "merge1[merge1.duplicated(subset='compound_id', keep=False)].sort_values('base_rdkit_smiles')"
      ],
      "execution_count": null,
      "outputs": [
        {
          "output_type": "stream",
          "text": [
            "Shape of merge1 dataframe: (2228, 6)\n"
          ],
          "name": "stdout"
        },
        {
          "output_type": "execute_result",
          "data": {
            "text/html": [
              "<div>\n",
              "<style scoped>\n",
              "    .dataframe tbody tr th:only-of-type {\n",
              "        vertical-align: middle;\n",
              "    }\n",
              "\n",
              "    .dataframe tbody tr th {\n",
              "        vertical-align: top;\n",
              "    }\n",
              "\n",
              "    .dataframe thead th {\n",
              "        text-align: right;\n",
              "    }\n",
              "</style>\n",
              "<table border=\"1\" class=\"dataframe\">\n",
              "  <thead>\n",
              "    <tr style=\"text-align: right;\">\n",
              "      <th></th>\n",
              "      <th>compound_id</th>\n",
              "      <th>base_rdkit_smiles</th>\n",
              "      <th>relation</th>\n",
              "      <th>pAct_pgp</th>\n",
              "      <th>active</th>\n",
              "      <th>pAct_bcrp</th>\n",
              "    </tr>\n",
              "  </thead>\n",
              "  <tbody>\n",
              "    <tr>\n",
              "      <th>1565</th>\n",
              "      <td>None_CHEMBL3764781</td>\n",
              "      <td>COc1cc(OC)c2c(=O)cc(N3CCN(Cc4ccc(F)c(F)c4)CC3)...</td>\n",
              "      <td></td>\n",
              "      <td>4.230000</td>\n",
              "      <td>1</td>\n",
              "      <td>NaN</td>\n",
              "    </tr>\n",
              "    <tr>\n",
              "      <th>2072</th>\n",
              "      <td>None_CHEMBL3764781</td>\n",
              "      <td>COc1cc(OC)c2c(=O)cc(N3CCN(Cc4ccc(F)c(F)c4)CC3)...</td>\n",
              "      <td></td>\n",
              "      <td>NaN</td>\n",
              "      <td>0</td>\n",
              "      <td>4.180</td>\n",
              "    </tr>\n",
              "    <tr>\n",
              "      <th>614</th>\n",
              "      <td>None_CHEMBL260599</td>\n",
              "      <td>COc1cc2c(cc1OC)CN(CC/C=C1\\CCCc3c(OC)cccc31)CC2</td>\n",
              "      <td></td>\n",
              "      <td>5.898571</td>\n",
              "      <td>1</td>\n",
              "      <td>NaN</td>\n",
              "    </tr>\n",
              "    <tr>\n",
              "      <th>1957</th>\n",
              "      <td>None_CHEMBL260599</td>\n",
              "      <td>COc1cc2c(cc1OC)CN(CC/C=C1\\CCCc3c(OC)cccc31)CC2</td>\n",
              "      <td></td>\n",
              "      <td>NaN</td>\n",
              "      <td>0</td>\n",
              "      <td>4.050</td>\n",
              "    </tr>\n",
              "    <tr>\n",
              "      <th>565</th>\n",
              "      <td>None_CHEMBL472818</td>\n",
              "      <td>COc1cc2c(cc1OC)CN(CCc1ccc(NC(=O)Nc3ccccc3N)cc1...</td>\n",
              "      <td></td>\n",
              "      <td>4.680000</td>\n",
              "      <td>1</td>\n",
              "      <td>NaN</td>\n",
              "    </tr>\n",
              "    <tr>\n",
              "      <th>1866</th>\n",
              "      <td>None_CHEMBL472818</td>\n",
              "      <td>COc1cc2c(cc1OC)CN(CCc1ccc(NC(=O)Nc3ccccc3N)cc1...</td>\n",
              "      <td></td>\n",
              "      <td>NaN</td>\n",
              "      <td>0</td>\n",
              "      <td>4.205</td>\n",
              "    </tr>\n",
              "    <tr>\n",
              "      <th>1970</th>\n",
              "      <td>None_CHEMBL258574</td>\n",
              "      <td>COc1cc2c(cc1OC)CN(CCc1ccc(NC(=O)c3cc(OC)c(OC)c...</td>\n",
              "      <td></td>\n",
              "      <td>NaN</td>\n",
              "      <td>0</td>\n",
              "      <td>4.190</td>\n",
              "    </tr>\n",
              "    <tr>\n",
              "      <th>626</th>\n",
              "      <td>None_CHEMBL258574</td>\n",
              "      <td>COc1cc2c(cc1OC)CN(CCc1ccc(NC(=O)c3cc(OC)c(OC)c...</td>\n",
              "      <td></td>\n",
              "      <td>5.180000</td>\n",
              "      <td>1</td>\n",
              "      <td>NaN</td>\n",
              "    </tr>\n",
              "    <tr>\n",
              "      <th>1735</th>\n",
              "      <td>None_CHEMBL261632</td>\n",
              "      <td>COc1cc2c(cc1OC)CN(CCc1ccc(NC(=O)c3ccc(N)cc3)cc...</td>\n",
              "      <td></td>\n",
              "      <td>NaN</td>\n",
              "      <td>0</td>\n",
              "      <td>4.010</td>\n",
              "    </tr>\n",
              "    <tr>\n",
              "      <th>59</th>\n",
              "      <td>None_CHEMBL261632</td>\n",
              "      <td>COc1cc2c(cc1OC)CN(CCc1ccc(NC(=O)c3ccc(N)cc3)cc...</td>\n",
              "      <td></td>\n",
              "      <td>5.262500</td>\n",
              "      <td>1</td>\n",
              "      <td>NaN</td>\n",
              "    </tr>\n",
              "    <tr>\n",
              "      <th>1415</th>\n",
              "      <td>None_CHEMBL260505</td>\n",
              "      <td>COc1cc2c(cc1OC)CN(Cc1ccc(-c3ccc(O)cc3)cc1)CC2</td>\n",
              "      <td></td>\n",
              "      <td>5.783333</td>\n",
              "      <td>1</td>\n",
              "      <td>NaN</td>\n",
              "    </tr>\n",
              "    <tr>\n",
              "      <th>1911</th>\n",
              "      <td>None_CHEMBL260505</td>\n",
              "      <td>COc1cc2c(cc1OC)CN(Cc1ccc(-c3ccc(O)cc3)cc1)CC2</td>\n",
              "      <td></td>\n",
              "      <td>NaN</td>\n",
              "      <td>0</td>\n",
              "      <td>4.140</td>\n",
              "    </tr>\n",
              "    <tr>\n",
              "      <th>383</th>\n",
              "      <td>None_CHEMBL476292</td>\n",
              "      <td>COc1ccc2c(c1)C(=O)CC(c1ccccc1)O2</td>\n",
              "      <td></td>\n",
              "      <td>4.190000</td>\n",
              "      <td>0</td>\n",
              "      <td>NaN</td>\n",
              "    </tr>\n",
              "    <tr>\n",
              "      <th>2193</th>\n",
              "      <td>None_CHEMBL476292</td>\n",
              "      <td>COc1ccc2c(c1)C(=O)CC(c1ccccc1)O2</td>\n",
              "      <td></td>\n",
              "      <td>NaN</td>\n",
              "      <td>1</td>\n",
              "      <td>4.530</td>\n",
              "    </tr>\n",
              "    <tr>\n",
              "      <th>1808</th>\n",
              "      <td>None_CHEMBL258611</td>\n",
              "      <td>COc1cccc(COc2ccccc2CCc2ccccc2)c1OC</td>\n",
              "      <td></td>\n",
              "      <td>NaN</td>\n",
              "      <td>0</td>\n",
              "      <td>4.120</td>\n",
              "    </tr>\n",
              "    <tr>\n",
              "      <th>509</th>\n",
              "      <td>None_CHEMBL258611</td>\n",
              "      <td>COc1cccc(COc2ccccc2CCc2ccccc2)c1OC</td>\n",
              "      <td></td>\n",
              "      <td>6.100000</td>\n",
              "      <td>1</td>\n",
              "      <td>NaN</td>\n",
              "    </tr>\n",
              "    <tr>\n",
              "      <th>1027</th>\n",
              "      <td>None_CHEMBL410897</td>\n",
              "      <td>Nc1ccc(C(=O)Nc2ccc(CCN3CCc4ccccc4C3)cc2)cc1</td>\n",
              "      <td></td>\n",
              "      <td>5.137500</td>\n",
              "      <td>1</td>\n",
              "      <td>NaN</td>\n",
              "    </tr>\n",
              "    <tr>\n",
              "      <th>1981</th>\n",
              "      <td>None_CHEMBL410897</td>\n",
              "      <td>Nc1ccc(C(=O)Nc2ccc(CCN3CCc4ccccc4C3)cc2)cc1</td>\n",
              "      <td></td>\n",
              "      <td>NaN</td>\n",
              "      <td>0</td>\n",
              "      <td>4.110</td>\n",
              "    </tr>\n",
              "    <tr>\n",
              "      <th>723</th>\n",
              "      <td>None_CHEMBL472819</td>\n",
              "      <td>Nc1ccccc1NC(=O)Nc1ccc(CCN2CCc3ccccc3C2)cc1</td>\n",
              "      <td></td>\n",
              "      <td>4.720000</td>\n",
              "      <td>1</td>\n",
              "      <td>NaN</td>\n",
              "    </tr>\n",
              "    <tr>\n",
              "      <th>2091</th>\n",
              "      <td>None_CHEMBL472819</td>\n",
              "      <td>Nc1ccccc1NC(=O)Nc1ccc(CCN2CCc3ccccc3C2)cc1</td>\n",
              "      <td></td>\n",
              "      <td>NaN</td>\n",
              "      <td>0</td>\n",
              "      <td>4.130</td>\n",
              "    </tr>\n",
              "  </tbody>\n",
              "</table>\n",
              "</div>"
            ],
            "text/plain": [
              "             compound_id                                  base_rdkit_smiles  \\\n",
              "1565  None_CHEMBL3764781  COc1cc(OC)c2c(=O)cc(N3CCN(Cc4ccc(F)c(F)c4)CC3)...   \n",
              "2072  None_CHEMBL3764781  COc1cc(OC)c2c(=O)cc(N3CCN(Cc4ccc(F)c(F)c4)CC3)...   \n",
              "614    None_CHEMBL260599     COc1cc2c(cc1OC)CN(CC/C=C1\\CCCc3c(OC)cccc31)CC2   \n",
              "1957   None_CHEMBL260599     COc1cc2c(cc1OC)CN(CC/C=C1\\CCCc3c(OC)cccc31)CC2   \n",
              "565    None_CHEMBL472818  COc1cc2c(cc1OC)CN(CCc1ccc(NC(=O)Nc3ccccc3N)cc1...   \n",
              "1866   None_CHEMBL472818  COc1cc2c(cc1OC)CN(CCc1ccc(NC(=O)Nc3ccccc3N)cc1...   \n",
              "1970   None_CHEMBL258574  COc1cc2c(cc1OC)CN(CCc1ccc(NC(=O)c3cc(OC)c(OC)c...   \n",
              "626    None_CHEMBL258574  COc1cc2c(cc1OC)CN(CCc1ccc(NC(=O)c3cc(OC)c(OC)c...   \n",
              "1735   None_CHEMBL261632  COc1cc2c(cc1OC)CN(CCc1ccc(NC(=O)c3ccc(N)cc3)cc...   \n",
              "59     None_CHEMBL261632  COc1cc2c(cc1OC)CN(CCc1ccc(NC(=O)c3ccc(N)cc3)cc...   \n",
              "1415   None_CHEMBL260505      COc1cc2c(cc1OC)CN(Cc1ccc(-c3ccc(O)cc3)cc1)CC2   \n",
              "1911   None_CHEMBL260505      COc1cc2c(cc1OC)CN(Cc1ccc(-c3ccc(O)cc3)cc1)CC2   \n",
              "383    None_CHEMBL476292                   COc1ccc2c(c1)C(=O)CC(c1ccccc1)O2   \n",
              "2193   None_CHEMBL476292                   COc1ccc2c(c1)C(=O)CC(c1ccccc1)O2   \n",
              "1808   None_CHEMBL258611                 COc1cccc(COc2ccccc2CCc2ccccc2)c1OC   \n",
              "509    None_CHEMBL258611                 COc1cccc(COc2ccccc2CCc2ccccc2)c1OC   \n",
              "1027   None_CHEMBL410897        Nc1ccc(C(=O)Nc2ccc(CCN3CCc4ccccc4C3)cc2)cc1   \n",
              "1981   None_CHEMBL410897        Nc1ccc(C(=O)Nc2ccc(CCN3CCc4ccccc4C3)cc2)cc1   \n",
              "723    None_CHEMBL472819         Nc1ccccc1NC(=O)Nc1ccc(CCN2CCc3ccccc3C2)cc1   \n",
              "2091   None_CHEMBL472819         Nc1ccccc1NC(=O)Nc1ccc(CCN2CCc3ccccc3C2)cc1   \n",
              "\n",
              "     relation  pAct_pgp  active  pAct_bcrp  \n",
              "1565           4.230000       1        NaN  \n",
              "2072                NaN       0      4.180  \n",
              "614            5.898571       1        NaN  \n",
              "1957                NaN       0      4.050  \n",
              "565            4.680000       1        NaN  \n",
              "1866                NaN       0      4.205  \n",
              "1970                NaN       0      4.190  \n",
              "626            5.180000       1        NaN  \n",
              "1735                NaN       0      4.010  \n",
              "59             5.262500       1        NaN  \n",
              "1415           5.783333       1        NaN  \n",
              "1911                NaN       0      4.140  \n",
              "383            4.190000       0        NaN  \n",
              "2193                NaN       1      4.530  \n",
              "1808                NaN       0      4.120  \n",
              "509            6.100000       1        NaN  \n",
              "1027           5.137500       1        NaN  \n",
              "1981                NaN       0      4.110  \n",
              "723            4.720000       1        NaN  \n",
              "2091                NaN       0      4.130  "
            ]
          },
          "metadata": {
            "tags": []
          },
          "execution_count": 23
        }
      ]
    },
    {
      "cell_type": "code",
      "metadata": {
        "id": "7R4UVqAB9CmB"
      },
      "source": [
        "merge1.to_csv('txptr_merged.csv')"
      ],
      "execution_count": null,
      "outputs": []
    },
    {
      "cell_type": "markdown",
      "metadata": {
        "id": "2_GfdWE09CmD"
      },
      "source": [
        "### **Step 7:** Recreate associated metadata / labels"
      ]
    },
    {
      "cell_type": "code",
      "metadata": {
        "id": "urBd9Fc99CmE"
      },
      "source": [
        "import seaborn as sns\n",
        "sns.set_context('poster')"
      ],
      "execution_count": null,
      "outputs": []
    },
    {
      "cell_type": "code",
      "metadata": {
        "id": "LalQotYb9CmH"
      },
      "source": [
        "df=pd.read_csv(\"txptr_merged.csv\", index_col=0)"
      ],
      "execution_count": null,
      "outputs": []
    },
    {
      "cell_type": "markdown",
      "metadata": {
        "id": "OEwUZEyy9CmK"
      },
      "source": [
        "### **Step 8:** Filter for other outliers\n",
        "### Filter large compounds\n",
        "I wanted to examine and model small molecules from this dataset so I removed compounds with long SMILES strings. This can also be done with molecular weight or other features of the data."
      ]
    },
    {
      "cell_type": "code",
      "metadata": {
        "id": "zhzZBGYk9CmK",
        "outputId": "31ece2b8-a165-4c69-9b27-ee1c1ea693fe",
        "colab": {
          "base_uri": "https://localhost:8080/",
          "height": 70
        }
      },
      "source": [
        "# calculate molecular weight\n",
        "df[\"mol_wt\"] = [Chem.Descriptors.ExactMolWt(Chem.MolFromSmiles(smile)) for smile in df[\"base_rdkit_smiles\"]]\n",
        "df.columns"
      ],
      "execution_count": null,
      "outputs": [
        {
          "output_type": "execute_result",
          "data": {
            "text/plain": [
              "Index(['compound_id', 'base_rdkit_smiles', 'relation', 'pAct_pgp', 'active',\n",
              "       'pAct_bcrp', 'mol_wt'],\n",
              "      dtype='object')"
            ]
          },
          "metadata": {
            "tags": []
          },
          "execution_count": 27
        }
      ]
    },
    {
      "cell_type": "code",
      "metadata": {
        "id": "qoBWHDaL9CmN",
        "outputId": "3523df86-a28c-42a8-d4cf-94decf489fc6",
        "colab": {
          "base_uri": "https://localhost:8080/",
          "height": 586
        }
      },
      "source": [
        "# visualize distribution of molecular weights\n",
        "df=df.sort_values(by='mol_wt')\n",
        "df=df.reset_index(drop=True)\n",
        "df=df.reset_index()\n",
        "\n",
        "fig,ax=plt.subplots(1,2, figsize=(30,10))\n",
        "df.plot(kind='scatter', x='index', y='mol_wt', ax=ax[0])\n",
        "df.plot(kind='hist', x=\"index\", y=\"mol_wt\", ax=ax[1])\n",
        "fig.suptitle(\"Distribution of molecular weights\")"
      ],
      "execution_count": null,
      "outputs": [
        {
          "output_type": "execute_result",
          "data": {
            "text/plain": [
              "Text(0.5, 0.98, 'Distribution of molecular weights')"
            ]
          },
          "metadata": {
            "tags": []
          },
          "execution_count": 28
        },
        {
          "output_type": "display_data",
          "data": {
            "image/png": "[encoded data removed]",
            "text/plain": [
              "<Figure size 2160x720 with 2 Axes>"
            ]
          },
          "metadata": {
            "tags": [],
            "needs_background": "light"
          }
        }
      ]
    },
    {
      "cell_type": "code",
      "metadata": {
        "id": "VFgQahoe9Cmc",
        "outputId": "9e0a2f8c-bf74-4670-dc18-47edd0c93fe1",
        "colab": {
          "base_uri": "https://localhost:8080/",
          "height": 230
        }
      },
      "source": [
        "print(\"Length of dataset:\", df.shape[0])\n",
        "\n",
        "print(\"\\nMissing compound_id entries:\", df['compound_id'].isna().sum())\n",
        "print(\"Duplicate chembl_ids:\", df['compound_id'].duplicated().sum())\n",
        "\n",
        "print(\"\\nMissing SMILES:\", df['base_rdkit_smiles'].isna().sum())\n",
        "print(\"Duplicate SMILES:\", df['base_rdkit_smiles'].duplicated().sum())\n",
        "\n",
        "print(\"\\nMissing values should only be transporter-specific now because not all compounds have all measurements:\")\n",
        "print(\"Other missing values:\", df.columns[df.isna().any()].tolist())\n",
        "print(\"Missing P-GP values:\", df['pAct_pgp'].isna().sum())\n",
        "print(\"Missing BCRP values:\", df['pAct_bcrp'].isna().sum())"
      ],
      "execution_count": null,
      "outputs": [
        {
          "output_type": "stream",
          "text": [
            "Length of dataset: 2228\n",
            "\n",
            "Missing compound_id entries: 0\n",
            "Duplicate chembl_ids: 10\n",
            "\n",
            "Missing SMILES: 0\n",
            "Duplicate SMILES: 11\n",
            "\n",
            "Missing values should only be transporter-specific now because not all compounds have all measurements:\n",
            "Other missing values: ['relation', 'pAct_pgp', 'pAct_bcrp']\n",
            "Missing P-GP values: 569\n",
            "Missing BCRP values: 1471\n"
          ],
          "name": "stdout"
        }
      ]
    },
    {
      "cell_type": "markdown",
      "metadata": {
        "id": "07M3vQ7E9Cmi"
      },
      "source": [
        "### Step 9: Save dataframes"
      ]
    },
    {
      "cell_type": "code",
      "metadata": {
        "id": "jX9a0q5W9Cmi",
        "outputId": "cccd1f1e-bf00-48a8-d859-4b85e3758e7c",
        "colab": {
          "base_uri": "https://localhost:8080/",
          "height": 34
        }
      },
      "source": [
        "!pwd"
      ],
      "execution_count": null,
      "outputs": [
        {
          "output_type": "stream",
          "text": [
            "/content\n"
          ],
          "name": "stdout"
        }
      ]
    },
    {
      "cell_type": "code",
      "metadata": {
        "id": "d_io6wJb9Cml"
      },
      "source": [
        "dfp_cur.to_csv(\"pgp_curated.csv\")\n",
        "dfb_cur.to_csv(\"bcrp_curated.csv\")"
      ],
      "execution_count": null,
      "outputs": []
    },
    {
      "cell_type": "code",
      "metadata": {
        "id": "ZyQ0sWUT9Cmn",
        "outputId": "a2f8fef9-6320-4dc9-e7da-f294fbd68846",
        "colab": {
          "base_uri": "https://localhost:8080/",
          "height": 70
        }
      },
      "source": [
        "df.columns"
      ],
      "execution_count": null,
      "outputs": [
        {
          "output_type": "execute_result",
          "data": {
            "text/plain": [
              "Index(['index', 'compound_id', 'base_rdkit_smiles', 'relation', 'pAct_pgp',\n",
              "       'active', 'pAct_bcrp', 'mol_wt'],\n",
              "      dtype='object')"
            ]
          },
          "metadata": {
            "tags": []
          },
          "execution_count": 32
        }
      ]
    },
    {
      "cell_type": "code",
      "metadata": {
        "id": "Y7Qcn2UevzkQ",
        "outputId": "6dd30716-470f-4a3c-b007-a60f21f05761",
        "colab": {
          "base_uri": "https://localhost:8080/",
          "height": 406
        }
      },
      "source": [
        "df"
      ],
      "execution_count": null,
      "outputs": [
        {
          "output_type": "execute_result",
          "data": {
            "text/html": [
              "<div>\n",
              "<style scoped>\n",
              "    .dataframe tbody tr th:only-of-type {\n",
              "        vertical-align: middle;\n",
              "    }\n",
              "\n",
              "    .dataframe tbody tr th {\n",
              "        vertical-align: top;\n",
              "    }\n",
              "\n",
              "    .dataframe thead th {\n",
              "        text-align: right;\n",
              "    }\n",
              "</style>\n",
              "<table border=\"1\" class=\"dataframe\">\n",
              "  <thead>\n",
              "    <tr style=\"text-align: right;\">\n",
              "      <th></th>\n",
              "      <th>index</th>\n",
              "      <th>compound_id</th>\n",
              "      <th>base_rdkit_smiles</th>\n",
              "      <th>relation</th>\n",
              "      <th>pAct_pgp</th>\n",
              "      <th>active</th>\n",
              "      <th>pAct_bcrp</th>\n",
              "      <th>mol_wt</th>\n",
              "    </tr>\n",
              "  </thead>\n",
              "  <tbody>\n",
              "    <tr>\n",
              "      <th>0</th>\n",
              "      <td>0</td>\n",
              "      <td>None_CHEMBL1215507</td>\n",
              "      <td>O=[N+]([O-])c1c(-c2ccccc2)no[n+]1[O-]</td>\n",
              "      <td>NaN</td>\n",
              "      <td>4.28</td>\n",
              "      <td>1</td>\n",
              "      <td>NaN</td>\n",
              "      <td>207.028006</td>\n",
              "    </tr>\n",
              "    <tr>\n",
              "      <th>1</th>\n",
              "      <td>1</td>\n",
              "      <td>FLAVONE_CHEMBL275638</td>\n",
              "      <td>O=c1cc(-c2ccccc2)oc2ccccc12</td>\n",
              "      <td>NaN</td>\n",
              "      <td>4.47</td>\n",
              "      <td>1</td>\n",
              "      <td>4.675</td>\n",
              "      <td>222.068080</td>\n",
              "    </tr>\n",
              "    <tr>\n",
              "      <th>2</th>\n",
              "      <td>2</td>\n",
              "      <td>None_CHEMBL4091769</td>\n",
              "      <td>Cc1cc(C)c2[nH]c3ccccc3c(=O)c2c1</td>\n",
              "      <td>NaN</td>\n",
              "      <td>7.57</td>\n",
              "      <td>1</td>\n",
              "      <td>NaN</td>\n",
              "      <td>223.099714</td>\n",
              "    </tr>\n",
              "    <tr>\n",
              "      <th>3</th>\n",
              "      <td>3</td>\n",
              "      <td>None_CHEMBL573373</td>\n",
              "      <td>CSc1nc(N)c2c(C)c(C)sc2n1</td>\n",
              "      <td>NaN</td>\n",
              "      <td>5.88</td>\n",
              "      <td>1</td>\n",
              "      <td>NaN</td>\n",
              "      <td>225.039439</td>\n",
              "    </tr>\n",
              "    <tr>\n",
              "      <th>4</th>\n",
              "      <td>4</td>\n",
              "      <td>None_CHEMBL388886</td>\n",
              "      <td>COc1ccc2[nH]c3ccccc3c(=O)c2c1</td>\n",
              "      <td>NaN</td>\n",
              "      <td>NaN</td>\n",
              "      <td>1</td>\n",
              "      <td>5.320</td>\n",
              "      <td>225.078979</td>\n",
              "    </tr>\n",
              "    <tr>\n",
              "      <th>...</th>\n",
              "      <td>...</td>\n",
              "      <td>...</td>\n",
              "      <td>...</td>\n",
              "      <td>...</td>\n",
              "      <td>...</td>\n",
              "      <td>...</td>\n",
              "      <td>...</td>\n",
              "      <td>...</td>\n",
              "    </tr>\n",
              "    <tr>\n",
              "      <th>2223</th>\n",
              "      <td>2223</td>\n",
              "      <td>None_CHEMBL2372501</td>\n",
              "      <td>CC/C=C/C[C@@H](C)[C@@H](O)[C@H]1C(=O)N[C@@H](C...</td>\n",
              "      <td>NaN</td>\n",
              "      <td>5.82</td>\n",
              "      <td>1</td>\n",
              "      <td>NaN</td>\n",
              "      <td>1305.903968</td>\n",
              "    </tr>\n",
              "    <tr>\n",
              "      <th>2224</th>\n",
              "      <td>2224</td>\n",
              "      <td>None_CHEMBL4104354</td>\n",
              "      <td>CCOC(=O)C1=C(C)NC(C)=C(C(=O)OCc2cn(CCOCCOCCOCC...</td>\n",
              "      <td>NaN</td>\n",
              "      <td>5.86</td>\n",
              "      <td>1</td>\n",
              "      <td>NaN</td>\n",
              "      <td>1328.338886</td>\n",
              "    </tr>\n",
              "    <tr>\n",
              "      <th>2225</th>\n",
              "      <td>2225</td>\n",
              "      <td>None_CHEMBL4071511</td>\n",
              "      <td>CCOC(=O)C1=C(C)NC(C)=C(C(=O)OCc2cn(CCOCCOCCOCC...</td>\n",
              "      <td>NaN</td>\n",
              "      <td>5.54</td>\n",
              "      <td>1</td>\n",
              "      <td>NaN</td>\n",
              "      <td>1328.338886</td>\n",
              "    </tr>\n",
              "    <tr>\n",
              "      <th>2226</th>\n",
              "      <td>2226</td>\n",
              "      <td>None_CHEMBL4092304</td>\n",
              "      <td>CCOC(=O)C1=C(C)NC(C)=C(C(=O)OCc2cn(CCOCCOCCOCC...</td>\n",
              "      <td>NaN</td>\n",
              "      <td>5.89</td>\n",
              "      <td>1</td>\n",
              "      <td>NaN</td>\n",
              "      <td>1328.338886</td>\n",
              "    </tr>\n",
              "    <tr>\n",
              "      <th>2227</th>\n",
              "      <td>2227</td>\n",
              "      <td>None_CHEMBL3344501</td>\n",
              "      <td>C/C=C/C[C@@H](C)[C@@H](O)[C@H]1C(=O)N[C@@H](CC...</td>\n",
              "      <td>NaN</td>\n",
              "      <td>5.20</td>\n",
              "      <td>1</td>\n",
              "      <td>NaN</td>\n",
              "      <td>1343.951981</td>\n",
              "    </tr>\n",
              "  </tbody>\n",
              "</table>\n",
              "<p>2228 rows × 8 columns</p>\n",
              "</div>"
            ],
            "text/plain": [
              "      index           compound_id  \\\n",
              "0         0    None_CHEMBL1215507   \n",
              "1         1  FLAVONE_CHEMBL275638   \n",
              "2         2    None_CHEMBL4091769   \n",
              "3         3     None_CHEMBL573373   \n",
              "4         4     None_CHEMBL388886   \n",
              "...     ...                   ...   \n",
              "2223   2223    None_CHEMBL2372501   \n",
              "2224   2224    None_CHEMBL4104354   \n",
              "2225   2225    None_CHEMBL4071511   \n",
              "2226   2226    None_CHEMBL4092304   \n",
              "2227   2227    None_CHEMBL3344501   \n",
              "\n",
              "                                      base_rdkit_smiles  relation  pAct_pgp  \\\n",
              "0                 O=[N+]([O-])c1c(-c2ccccc2)no[n+]1[O-]       NaN      4.28   \n",
              "1                           O=c1cc(-c2ccccc2)oc2ccccc12       NaN      4.47   \n",
              "2                       Cc1cc(C)c2[nH]c3ccccc3c(=O)c2c1       NaN      7.57   \n",
              "3                              CSc1nc(N)c2c(C)c(C)sc2n1       NaN      5.88   \n",
              "4                         COc1ccc2[nH]c3ccccc3c(=O)c2c1       NaN       NaN   \n",
              "...                                                 ...       ...       ...   \n",
              "2223  CC/C=C/C[C@@H](C)[C@@H](O)[C@H]1C(=O)N[C@@H](C...       NaN      5.82   \n",
              "2224  CCOC(=O)C1=C(C)NC(C)=C(C(=O)OCc2cn(CCOCCOCCOCC...       NaN      5.86   \n",
              "2225  CCOC(=O)C1=C(C)NC(C)=C(C(=O)OCc2cn(CCOCCOCCOCC...       NaN      5.54   \n",
              "2226  CCOC(=O)C1=C(C)NC(C)=C(C(=O)OCc2cn(CCOCCOCCOCC...       NaN      5.89   \n",
              "2227  C/C=C/C[C@@H](C)[C@@H](O)[C@H]1C(=O)N[C@@H](CC...       NaN      5.20   \n",
              "\n",
              "      active  pAct_bcrp       mol_wt  \n",
              "0          1        NaN   207.028006  \n",
              "1          1      4.675   222.068080  \n",
              "2          1        NaN   223.099714  \n",
              "3          1        NaN   225.039439  \n",
              "4          1      5.320   225.078979  \n",
              "...      ...        ...          ...  \n",
              "2223       1        NaN  1305.903968  \n",
              "2224       1        NaN  1328.338886  \n",
              "2225       1        NaN  1328.338886  \n",
              "2226       1        NaN  1328.338886  \n",
              "2227       1        NaN  1343.951981  \n",
              "\n",
              "[2228 rows x 8 columns]"
            ]
          },
          "metadata": {
            "tags": []
          },
          "execution_count": 33
        }
      ]
    },
    {
      "cell_type": "code",
      "metadata": {
        "id": "kKt5Q9Tt9Cmp"
      },
      "source": [
        "df.to_csv(\"transporters_merged.csv\")"
      ],
      "execution_count": null,
      "outputs": []
    },
    {
      "cell_type": "code",
      "metadata": {
        "id": "TMC7dkVY9Cmr"
      },
      "source": [
        "data = [dfp_cur[\"base_rdkit_smiles\"], dfb_cur[\"base_rdkit_smiles\"]]\n",
        "headers = [\"pgp\", \"bcrp\"]\n",
        "smiles_csv = pd.concat(data, axis=1, keys=headers)\n",
        "smiles_csv.to_csv(\"transporters_rdkitsmiles.csv\")"
      ],
      "execution_count": null,
      "outputs": []
    },
    {
      "cell_type": "markdown",
      "metadata": {
        "id": "Idf8FzUn9Cmu"
      },
      "source": [
        "# Visualize data\n",
        "- Compound overlaps\n",
        "- pIC50 overlaps\n",
        "- non-censored pIC50 value distributions\n",
        "#### *Here outlier pIC50 values can also be filtered before continuing to model!*"
      ]
    },
    {
      "cell_type": "code",
      "metadata": {
        "id": "nRSX1Z_49Cmu"
      },
      "source": [
        "import matplotlib_venn as mpv\n",
        "\n",
        "from scipy.stats import pearsonr\n",
        "\n",
        "sns.set_context(\"poster\")\n",
        "sns.set_style(\"whitegrid\")\n",
        "sns.set_palette(\"Set2\")\n",
        "pal = sns.color_palette()\n",
        "plt.rcParams['figure.figsize'] = [10,10]"
      ],
      "execution_count": null,
      "outputs": []
    },
    {
      "cell_type": "markdown",
      "metadata": {
        "id": "7h9Qu-R79Cmy"
      },
      "source": [
        "## Compound overlaps"
      ]
    },
    {
      "cell_type": "code",
      "metadata": {
        "id": "f_WR53pt9Cmy",
        "outputId": "75ab3cc5-bc0f-4263-9596-346376910843",
        "colab": {
          "base_uri": "https://localhost:8080/",
          "height": 483
        }
      },
      "source": [
        "mpv.venn2_unweighted([set(smiles_csv[\"pgp\"]), set(smiles_csv[\"bcrp\"])], set_labels = (\"pgp\", \"bcrp\"), set_colors = (pal[0], pal[1]))\n",
        "plt.title('Overlap of compounds for transporter inhibition datasets');"
      ],
      "execution_count": null,
      "outputs": [
        {
          "output_type": "display_data",
          "data": {
            "image/png": "[encoded data removed]",
            "text/plain": [
              "<Figure size 720x720 with 1 Axes>"
            ]
          },
          "metadata": {
            "tags": []
          }
        }
      ]
    },
    {
      "cell_type": "markdown",
      "metadata": {
        "id": "OY8gabVy9Cnp"
      },
      "source": [
        "# Conclusions\n",
        "- there's a subset of values from tcpl vs kevin's code that are very different\n",
        "- this is much better now that I ID'd my mistake in tcpl processing code"
      ]
    },
    {
      "cell_type": "code",
      "metadata": {
        "id": "rvj1eUFn9Cnp",
        "outputId": "53476be2-2728-4642-a607-3458298130ea",
        "colab": {
          "base_uri": "https://localhost:8080/",
          "height": 70
        }
      },
      "source": [
        "df.columns"
      ],
      "execution_count": null,
      "outputs": [
        {
          "output_type": "execute_result",
          "data": {
            "text/plain": [
              "Index(['index', 'compound_id', 'base_rdkit_smiles', 'relation', 'pAct_pgp',\n",
              "       'active', 'pAct_bcrp', 'mol_wt'],\n",
              "      dtype='object')"
            ]
          },
          "metadata": {
            "tags": []
          },
          "execution_count": 38
        }
      ]
    },
    {
      "cell_type": "code",
      "metadata": {
        "id": "9LafJk1W9Cnt",
        "outputId": "3292c11b-978b-43d0-bef9-5cce38ac5dc7",
        "colab": {
          "base_uri": "https://localhost:8080/",
          "height": 747
        }
      },
      "source": [
        "plotdf=df\n",
        "plotdf=plotdf.drop(columns=\"index\")\n",
        "plotdf=plotdf.sort_values('pAct_pgp')\n",
        "plotdf=plotdf.reset_index(drop=True)\n",
        "plotdf=plotdf.reset_index()\n",
        "\n",
        "fig,ax=plt.subplots(figsize=(20, 10))\n",
        "plotdf.plot(kind='scatter', x='index', y='pAct_pgp', label = 'pChEMBL', ax=ax)\n",
        "fig.suptitle(\"P-GP pAct values in ascending order\")\n",
        "ax.legend();"
      ],
      "execution_count": null,
      "outputs": [
        {
          "output_type": "stream",
          "text": [
            "*c* argument looks like a single numeric RGB or RGBA sequence, which should be avoided as value-mapping will have precedence in case its length matches with *x* & *y*.  Please use the *color* keyword-argument or provide a 2-D array with a single row if you intend to specify the same RGB or RGBA value for all points.\n"
          ],
          "name": "stderr"
        },
        {
          "output_type": "display_data",
          "data": {
            "image/png": "[encoded data removed]",
            "text/plain": [
              "<Figure size 1440x720 with 1 Axes>"
            ]
          },
          "metadata": {
            "tags": []
          }
        }
      ]
    },
    {
      "cell_type": "code",
      "metadata": {
        "id": "TDYT42aC9Cnv",
        "outputId": "1f494bd8-e268-4f15-9d52-5f6eee237290",
        "colab": {
          "base_uri": "https://localhost:8080/",
          "height": 747
        }
      },
      "source": [
        "plotdf=df\n",
        "plotdf=plotdf.drop(columns=\"index\")\n",
        "plotdf=plotdf.sort_values('pAct_bcrp')\n",
        "plotdf=plotdf.reset_index(drop=True)\n",
        "plotdf=plotdf.reset_index()\n",
        "\n",
        "fig,ax=plt.subplots(figsize=(20, 10))\n",
        "plotdf.plot(kind='scatter', x='index', y='pAct_bcrp', label = 'pChEMBL', ax=ax)\n",
        "fig.suptitle(\"BCRP pAct values in ascending order\")\n",
        "ax.legend();"
      ],
      "execution_count": null,
      "outputs": [
        {
          "output_type": "stream",
          "text": [
            "*c* argument looks like a single numeric RGB or RGBA sequence, which should be avoided as value-mapping will have precedence in case its length matches with *x* & *y*.  Please use the *color* keyword-argument or provide a 2-D array with a single row if you intend to specify the same RGB or RGBA value for all points.\n"
          ],
          "name": "stderr"
        },
        {
          "output_type": "display_data",
          "data": {
            "image/png": "[encoded data removed]",
            "text/plain": [
              "<Figure size 1440x720 with 1 Axes>"
            ]
          },
          "metadata": {
            "tags": []
          }
        }
      ]
    },
    {
      "cell_type": "markdown",
      "metadata": {
        "id": "vAL2m49voFqB"
      },
      "source": [
        "## Optional steps:\n",
        "\n",
        "If you want to save the files, then mount your Google Drive and copy it to a directory of your choice"
      ]
    },
    {
      "cell_type": "code",
      "metadata": {
        "id": "c5YG2saNoCYP"
      },
      "source": [
        "# from google.colab import drive\n",
        "# drive.mount('/content/drive')"
      ],
      "execution_count": null,
      "outputs": []
    },
    {
      "cell_type": "code",
      "metadata": {
        "id": "Ybg-ZmbF97nR"
      },
      "source": [
        "#copy files back to google drive to use them for other notebooks.\n",
        "# %%bash\n",
        "\n",
        "# cp /content/bcrp_curated.csv /content/drive/My\\ Drive/\n",
        "# cp /content/pgp_curated.csv /content/drive/My\\ Drive/\n",
        "# cp /content/transporters_merged.csv /content/drive/My\\ Drive/\n",
        "# cp /content/transporters_rdkitsmiles.csv /content/drive/My\\ Drive/\n",
        "# cp /content/txptr_merged.csv /content/drive/My\\ Drive/\n",
        "# cp /content/pgp_chembl.csv /content/drive/My\\ Drive/\n",
        "# cp /content/bcrp_chembl.csv /content/drive/My\\ Drive/"
      ],
      "execution_count": null,
      "outputs": []
    },
    {
      "cell_type": "code",
      "metadata": {
        "id": "QGL79-__jgQu"
      },
      "source": [
        ""
      ],
      "execution_count": null,
      "outputs": []
    }
  ]
}