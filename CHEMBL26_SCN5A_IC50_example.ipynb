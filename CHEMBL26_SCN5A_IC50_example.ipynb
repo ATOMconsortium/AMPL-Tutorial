{
  "nbformat": 4,
  "nbformat_minor": 0,
  "metadata": {
    "colab": {
      "name": "CHEMBL26_SCN5A_IC50_example.ipynb",
      "provenance": [],
      "collapsed_sections": [],
      "include_colab_link": true
    },
    "kernelspec": {
      "name": "python3",
      "display_name": "Python 3"
    },
    "accelerator": "TPU"
  },
  "cells": [
    {
      "cell_type": "markdown",
      "metadata": {
        "id": "view-in-github",
        "colab_type": "text"
      },
      "source": [
        "<a href=\"https://colab.research.google.com/github/ravichas/AMPL-Tutorial/blob/master/CHEMBL26_SCN5A_IC50_example.ipynb\" target=\"_parent\"><img src=\"https://colab.research.google.com/assets/colab-badge.svg\" alt=\"Open In Colab\"/></a>"
      ]
    },
    {
      "cell_type": "markdown",
      "metadata": {
        "id": "DKOt6zePpD62",
        "colab_type": "text"
      },
      "source": [
        "**Warning: this is an experimental notebook**\n",
        "\n",
        "AMPL is using Python 3.6.6 while Colab is currently using 3.6.9 listed below so they do not currently match. Your mileage may vary.\n",
        "\n",
        "The ideal solution would be to attempt to solve the dependencies for AMPL with Python 3.6.9, but given AMPL's very large dependency list, this may not be possible.\n",
        "\n",
        "Another option could be to run a local runtime with Python 3.6.6 or use another service which allows changing Python version."
      ]
    },
    {
      "cell_type": "code",
      "metadata": {
        "id": "KfQDH9NRiJVi",
        "colab_type": "code",
        "colab": {
          "base_uri": "https://localhost:8080/",
          "height": 34
        },
        "outputId": "1ab0a8bb-b332-49d2-d69f-501f531c30ca"
      },
      "source": [
        "# Colab Python version\n",
        "!python --version"
      ],
      "execution_count": 1,
      "outputs": [
        {
          "output_type": "stream",
          "text": [
            "Python 3.6.9\n"
          ],
          "name": "stdout"
        }
      ]
    },
    {
      "cell_type": "markdown",
      "metadata": {
        "id": "fDf8gIXPcWWK",
        "colab_type": "text"
      },
      "source": [
        "## Get the Miniconda package and install it"
      ]
    },
    {
      "cell_type": "code",
      "metadata": {
        "id": "N-4zItgVib3L",
        "colab_type": "code",
        "colab": {
          "base_uri": "https://localhost:8080/",
          "height": 283
        },
        "outputId": "a29a0e3a-c8a5-482a-b2fb-54189205345a"
      },
      "source": [
        "!time wget https://repo.anaconda.com/miniconda/Miniconda3-latest-Linux-x86_64.sh"
      ],
      "execution_count": 2,
      "outputs": [
        {
          "output_type": "stream",
          "text": [
            "--2020-09-16 15:03:25--  https://repo.anaconda.com/miniconda/Miniconda3-latest-Linux-x86_64.sh\n",
            "Resolving repo.anaconda.com (repo.anaconda.com)... 104.16.130.3, 104.16.131.3, 2606:4700::6810:8203, ...\n",
            "Connecting to repo.anaconda.com (repo.anaconda.com)|104.16.130.3|:443... connected.\n",
            "HTTP request sent, awaiting response... 200 OK\n",
            "Length: 93052469 (89M) [application/x-sh]\n",
            "Saving to: ‘Miniconda3-latest-Linux-x86_64.sh’\n",
            "\n",
            "Miniconda3-latest-L 100%[===================>]  88.74M   136MB/s    in 0.7s    \n",
            "\n",
            "2020-09-16 15:03:25 (136 MB/s) - ‘Miniconda3-latest-Linux-x86_64.sh’ saved [93052469/93052469]\n",
            "\n",
            "\n",
            "real\t0m0.776s\n",
            "user\t0m0.104s\n",
            "sys\t0m0.269s\n"
          ],
          "name": "stdout"
        }
      ]
    },
    {
      "cell_type": "code",
      "metadata": {
        "id": "iRetpekZicTc",
        "colab_type": "code",
        "colab": {
          "base_uri": "https://localhost:8080/",
          "height": 1000
        },
        "outputId": "3d4dba4d-40fc-4dda-8ffa-d45d50360537"
      },
      "source": [
        "!time bash Miniconda3-latest-Linux-x86_64.sh -b"
      ],
      "execution_count": 3,
      "outputs": [
        {
          "output_type": "stream",
          "text": [
            "PREFIX=/root/miniconda3\n",
            "Unpacking payload ...\n",
            "Collecting package metadata (current_repodata.json): - \b\b\\ \b\b| \b\bdone\n",
            "Solving environment: - \b\b\\ \b\bdone\n",
            "\n",
            "## Package Plan ##\n",
            "\n",
            "  environment location: /root/miniconda3\n",
            "\n",
            "  added / updated specs:\n",
            "    - _libgcc_mutex==0.1=main\n",
            "    - ca-certificates==2020.1.1=0\n",
            "    - certifi==2020.4.5.1=py38_0\n",
            "    - cffi==1.14.0=py38he30daa8_1\n",
            "    - chardet==3.0.4=py38_1003\n",
            "    - conda-package-handling==1.6.1=py38h7b6447c_0\n",
            "    - conda==4.8.3=py38_0\n",
            "    - cryptography==2.9.2=py38h1ba5d50_0\n",
            "    - idna==2.9=py_1\n",
            "    - ld_impl_linux-64==2.33.1=h53a641e_7\n",
            "    - libedit==3.1.20181209=hc058e9b_0\n",
            "    - libffi==3.3=he6710b0_1\n",
            "    - libgcc-ng==9.1.0=hdf63c60_0\n",
            "    - libstdcxx-ng==9.1.0=hdf63c60_0\n",
            "    - ncurses==6.2=he6710b0_1\n",
            "    - openssl==1.1.1g=h7b6447c_0\n",
            "    - pip==20.0.2=py38_3\n",
            "    - pycosat==0.6.3=py38h7b6447c_1\n",
            "    - pycparser==2.20=py_0\n",
            "    - pyopenssl==19.1.0=py38_0\n",
            "    - pysocks==1.7.1=py38_0\n",
            "    - python==3.8.3=hcff3b4d_0\n",
            "    - readline==8.0=h7b6447c_0\n",
            "    - requests==2.23.0=py38_0\n",
            "    - ruamel_yaml==0.15.87=py38h7b6447c_0\n",
            "    - setuptools==46.4.0=py38_0\n",
            "    - six==1.14.0=py38_0\n",
            "    - sqlite==3.31.1=h62c20be_1\n",
            "    - tk==8.6.8=hbc83047_0\n",
            "    - tqdm==4.46.0=py_0\n",
            "    - urllib3==1.25.8=py38_0\n",
            "    - wheel==0.34.2=py38_0\n",
            "    - xz==5.2.5=h7b6447c_0\n",
            "    - yaml==0.1.7=had09818_2\n",
            "    - zlib==1.2.11=h7b6447c_3\n",
            "\n",
            "\n",
            "The following NEW packages will be INSTALLED:\n",
            "\n",
            "  _libgcc_mutex      pkgs/main/linux-64::_libgcc_mutex-0.1-main\n",
            "  ca-certificates    pkgs/main/linux-64::ca-certificates-2020.1.1-0\n",
            "  certifi            pkgs/main/linux-64::certifi-2020.4.5.1-py38_0\n",
            "  cffi               pkgs/main/linux-64::cffi-1.14.0-py38he30daa8_1\n",
            "  chardet            pkgs/main/linux-64::chardet-3.0.4-py38_1003\n",
            "  conda              pkgs/main/linux-64::conda-4.8.3-py38_0\n",
            "  conda-package-han~ pkgs/main/linux-64::conda-package-handling-1.6.1-py38h7b6447c_0\n",
            "  cryptography       pkgs/main/linux-64::cryptography-2.9.2-py38h1ba5d50_0\n",
            "  idna               pkgs/main/noarch::idna-2.9-py_1\n",
            "  ld_impl_linux-64   pkgs/main/linux-64::ld_impl_linux-64-2.33.1-h53a641e_7\n",
            "  libedit            pkgs/main/linux-64::libedit-3.1.20181209-hc058e9b_0\n",
            "  libffi             pkgs/main/linux-64::libffi-3.3-he6710b0_1\n",
            "  libgcc-ng          pkgs/main/linux-64::libgcc-ng-9.1.0-hdf63c60_0\n",
            "  libstdcxx-ng       pkgs/main/linux-64::libstdcxx-ng-9.1.0-hdf63c60_0\n",
            "  ncurses            pkgs/main/linux-64::ncurses-6.2-he6710b0_1\n",
            "  openssl            pkgs/main/linux-64::openssl-1.1.1g-h7b6447c_0\n",
            "  pip                pkgs/main/linux-64::pip-20.0.2-py38_3\n",
            "  pycosat            pkgs/main/linux-64::pycosat-0.6.3-py38h7b6447c_1\n",
            "  pycparser          pkgs/main/noarch::pycparser-2.20-py_0\n",
            "  pyopenssl          pkgs/main/linux-64::pyopenssl-19.1.0-py38_0\n",
            "  pysocks            pkgs/main/linux-64::pysocks-1.7.1-py38_0\n",
            "  python             pkgs/main/linux-64::python-3.8.3-hcff3b4d_0\n",
            "  readline           pkgs/main/linux-64::readline-8.0-h7b6447c_0\n",
            "  requests           pkgs/main/linux-64::requests-2.23.0-py38_0\n",
            "  ruamel_yaml        pkgs/main/linux-64::ruamel_yaml-0.15.87-py38h7b6447c_0\n",
            "  setuptools         pkgs/main/linux-64::setuptools-46.4.0-py38_0\n",
            "  six                pkgs/main/linux-64::six-1.14.0-py38_0\n",
            "  sqlite             pkgs/main/linux-64::sqlite-3.31.1-h62c20be_1\n",
            "  tk                 pkgs/main/linux-64::tk-8.6.8-hbc83047_0\n",
            "  tqdm               pkgs/main/noarch::tqdm-4.46.0-py_0\n",
            "  urllib3            pkgs/main/linux-64::urllib3-1.25.8-py38_0\n",
            "  wheel              pkgs/main/linux-64::wheel-0.34.2-py38_0\n",
            "  xz                 pkgs/main/linux-64::xz-5.2.5-h7b6447c_0\n",
            "  yaml               pkgs/main/linux-64::yaml-0.1.7-had09818_2\n",
            "  zlib               pkgs/main/linux-64::zlib-1.2.11-h7b6447c_3\n",
            "\n",
            "\n",
            "Preparing transaction: / \b\b- \b\b\\ \b\b| \b\bdone\n",
            "Executing transaction: - \b\b\\ \b\b| \b\b/ \b\b- \b\b\\ \b\b| \b\b/ \b\b- \b\b\\ \b\bdone\n",
            "installation finished.\n",
            "WARNING:\n",
            "    You currently have a PYTHONPATH environment variable set. This may cause\n",
            "    unexpected behavior when running the Python interpreter in Miniconda3.\n",
            "    For best results, please verify that your PYTHONPATH only points to\n",
            "    directories of packages that are compatible with the Python interpreter\n",
            "    in Miniconda3: /root/miniconda3\n",
            "\n",
            "real\t0m14.950s\n",
            "user\t0m12.385s\n",
            "sys\t0m3.268s\n"
          ],
          "name": "stdout"
        }
      ]
    },
    {
      "cell_type": "markdown",
      "metadata": {
        "id": "tsDTjWhwcgWG",
        "colab_type": "text"
      },
      "source": [
        "## Install Conda "
      ]
    },
    {
      "cell_type": "code",
      "metadata": {
        "id": "Kkwaad5PieG9",
        "colab_type": "code",
        "colab": {
          "base_uri": "https://localhost:8080/",
          "height": 1000
        },
        "outputId": "bbd8375f-6568-4e3e-a1ab-2cfde58effc2"
      },
      "source": [
        "!/root/miniconda3/bin/conda install conda=4.6.12 python=3.6.6 -y"
      ],
      "execution_count": 4,
      "outputs": [
        {
          "output_type": "stream",
          "text": [
            "Collecting package metadata (current_repodata.json): - \b\b\\ \b\b| \b\b/ \b\b- \b\b\\ \b\b| \b\b/ \b\b- \b\b\\ \b\b| \b\b/ \b\b- \b\b\\ \b\b| \b\bdone\n",
            "Solving environment: - \b\bfailed with initial frozen solve. Retrying with flexible solve.\n",
            "Collecting package metadata (repodata.json): | \b\b/ \b\b- \b\b\\ \b\b| \b\b/ \b\b- \b\b\\ \b\b| \b\b/ \b\b- \b\b\\ \b\b| \b\b/ \b\b- \b\b\\ \b\b| \b\b/ \b\b- \b\b\\ \b\b| \b\b/ \b\b- \b\b\\ \b\b| \b\b/ \b\b- \b\b\\ \b\b| \b\b/ \b\b- \b\b\\ \b\bdone\n",
            "Solving environment: / \b\b- \b\b\\ \b\b| \b\b/ \b\b- \b\b\\ \b\b| \b\b/ \b\b- \b\b\\ \b\b| \b\b/ \b\b- \b\b\\ \b\b| \b\b/ \b\b- \b\b\\ \b\b| \b\bdone\n",
            "\n",
            "\n",
            "==> WARNING: A newer version of conda exists. <==\n",
            "  current version: 4.8.3\n",
            "  latest version: 4.8.4\n",
            "\n",
            "Please update conda by running\n",
            "\n",
            "    $ conda update -n base -c defaults conda\n",
            "\n",
            "\n",
            "\n",
            "## Package Plan ##\n",
            "\n",
            "  environment location: /root/miniconda3\n",
            "\n",
            "  added / updated specs:\n",
            "    - conda=4.6.12\n",
            "    - python=3.6.6\n",
            "\n",
            "\n",
            "The following packages will be downloaded:\n",
            "\n",
            "    package                    |            build\n",
            "    ---------------------------|-----------------\n",
            "    asn1crypto-1.4.0           |             py_0          80 KB\n",
            "    brotlipy-0.7.0             |py36h7b6447c_1000         323 KB\n",
            "    ca-certificates-2020.7.22  |                0         125 KB\n",
            "    certifi-2020.6.20          |           py36_0         156 KB\n",
            "    cffi-1.14.0                |   py36h2e261b9_0         223 KB\n",
            "    chardet-3.0.4              |        py36_1003         180 KB\n",
            "    conda-4.6.12               |           py36_1         1.9 MB\n",
            "    cryptography-2.3.1         |   py36hc365091_0         514 KB\n",
            "    libffi-3.2.1               |       hd88cf55_4          40 KB\n",
            "    openssl-1.0.2u             |       h7b6447c_0         2.2 MB\n",
            "    pip-20.2.2                 |           py36_0         1.8 MB\n",
            "    pycosat-0.6.3              |   py36h7b6447c_0          82 KB\n",
            "    pyopenssl-19.0.0           |           py36_0          82 KB\n",
            "    pysocks-1.7.1              |           py36_0          30 KB\n",
            "    python-3.6.6               |       h6e4f718_2        25.7 MB\n",
            "    readline-7.0               |       h7b6447c_5         324 KB\n",
            "    requests-2.24.0            |             py_0          56 KB\n",
            "    ruamel_yaml-0.15.87        |   py36h7b6447c_0         257 KB\n",
            "    setuptools-49.6.0          |           py36_0         757 KB\n",
            "    six-1.15.0                 |             py_0          13 KB\n",
            "    urllib3-1.25.10            |             py_0          98 KB\n",
            "    wheel-0.35.1               |             py_0          37 KB\n",
            "    ------------------------------------------------------------\n",
            "                                           Total:        34.8 MB\n",
            "\n",
            "The following NEW packages will be INSTALLED:\n",
            "\n",
            "  asn1crypto         pkgs/main/noarch::asn1crypto-1.4.0-py_0\n",
            "  brotlipy           pkgs/main/linux-64::brotlipy-0.7.0-py36h7b6447c_1000\n",
            "\n",
            "The following packages will be REMOVED:\n",
            "\n",
            "  conda-package-handling-1.6.1-py38h7b6447c_0\n",
            "\n",
            "The following packages will be UPDATED:\n",
            "\n",
            "  ca-certificates                                2020.1.1-0 --> 2020.7.22-0\n",
            "  certifi                                 2020.4.5.1-py38_0 --> 2020.6.20-py36_0\n",
            "  pip                                         20.0.2-py38_3 --> 20.2.2-py36_0\n",
            "  requests           pkgs/main/linux-64::requests-2.23.0-p~ --> pkgs/main/noarch::requests-2.24.0-py_0\n",
            "  setuptools                                  46.4.0-py38_0 --> 49.6.0-py36_0\n",
            "  six                 pkgs/main/linux-64::six-1.14.0-py38_0 --> pkgs/main/noarch::six-1.15.0-py_0\n",
            "  urllib3            pkgs/main/linux-64::urllib3-1.25.8-py~ --> pkgs/main/noarch::urllib3-1.25.10-py_0\n",
            "  wheel              pkgs/main/linux-64::wheel-0.34.2-py38~ --> pkgs/main/noarch::wheel-0.35.1-py_0\n",
            "\n",
            "The following packages will be DOWNGRADED:\n",
            "\n",
            "  cffi                                1.14.0-py38he30daa8_1 --> 1.14.0-py36h2e261b9_0\n",
            "  chardet                                   3.0.4-py38_1003 --> 3.0.4-py36_1003\n",
            "  conda                                        4.8.3-py38_0 --> 4.6.12-py36_1\n",
            "  cryptography                         2.9.2-py38h1ba5d50_0 --> 2.3.1-py36hc365091_0\n",
            "  libffi                                     3.3-he6710b0_1 --> 3.2.1-hd88cf55_4\n",
            "  openssl                                 1.1.1g-h7b6447c_0 --> 1.0.2u-h7b6447c_0\n",
            "  pycosat                              0.6.3-py38h7b6447c_1 --> 0.6.3-py36h7b6447c_0\n",
            "  pyopenssl                                   19.1.0-py38_0 --> 19.0.0-py36_0\n",
            "  pysocks                                      1.7.1-py38_0 --> 1.7.1-py36_0\n",
            "  python                                   3.8.3-hcff3b4d_0 --> 3.6.6-h6e4f718_2\n",
            "  readline                                   8.0-h7b6447c_0 --> 7.0-h7b6447c_5\n",
            "  ruamel_yaml                        0.15.87-py38h7b6447c_0 --> 0.15.87-py36h7b6447c_0\n",
            "\n",
            "\n",
            "\n",
            "Downloading and Extracting Packages\n",
            "brotlipy-0.7.0       | 323 KB    | : 100% 1.0/1 [00:00<00:00,  6.08it/s]               \n",
            "six-1.15.0           | 13 KB     | : 100% 1.0/1 [00:00<00:00, 18.75it/s]\n",
            "pip-20.2.2           | 1.8 MB    | : 100% 1.0/1 [00:00<00:00,  5.48it/s]\n",
            "requests-2.24.0      | 56 KB     | : 100% 1.0/1 [00:00<00:00, 12.56it/s]\n",
            "pysocks-1.7.1        | 30 KB     | : 100% 1.0/1 [00:00<00:00, 16.76it/s]\n",
            "cryptography-2.3.1   | 514 KB    | : 100% 1.0/1 [00:00<00:00, 11.17it/s]\n",
            "openssl-1.0.2u       | 2.2 MB    | : 100% 1.0/1 [00:00<00:00,  7.18it/s]\n",
            "wheel-0.35.1         | 37 KB     | : 100% 1.0/1 [00:00<00:00, 15.28it/s]\n",
            "python-3.6.6         | 25.7 MB   | : 100% 1.0/1 [00:00<00:00,  1.15it/s]               \n",
            "certifi-2020.6.20    | 156 KB    | : 100% 1.0/1 [00:00<00:00, 16.43it/s]\n",
            "urllib3-1.25.10      | 98 KB     | : 100% 1.0/1 [00:00<00:00, 11.21it/s]\n",
            "readline-7.0         | 324 KB    | : 100% 1.0/1 [00:00<00:00, 13.22it/s]\n",
            "libffi-3.2.1         | 40 KB     | : 100% 1.0/1 [00:00<00:00, 15.73it/s]\n",
            "ruamel_yaml-0.15.87  | 257 KB    | : 100% 1.0/1 [00:00<00:00, 13.29it/s]\n",
            "chardet-3.0.4        | 180 KB    | : 100% 1.0/1 [00:00<00:00, 15.41it/s]\n",
            "setuptools-49.6.0    | 757 KB    | : 100% 1.0/1 [00:00<00:00,  8.69it/s]\n",
            "ca-certificates-2020 | 125 KB    | : 100% 1.0/1 [00:00<00:00, 13.60it/s]\n",
            "pyopenssl-19.0.0     | 82 KB     | : 100% 1.0/1 [00:00<00:00, 15.64it/s]\n",
            "pycosat-0.6.3        | 82 KB     | : 100% 1.0/1 [00:00<00:00, 17.46it/s]\n",
            "asn1crypto-1.4.0     | 80 KB     | : 100% 1.0/1 [00:00<00:00, 15.31it/s]\n",
            "cffi-1.14.0          | 223 KB    | : 100% 1.0/1 [00:00<00:00, 11.36it/s]\n",
            "conda-4.6.12         | 1.9 MB    | : 100% 1.0/1 [00:00<00:00,  6.51it/s]\n",
            "Preparing transaction: - \b\b\\ \b\b| \b\bdone\n",
            "Verifying transaction: - \b\b\\ \b\b| \b\b/ \b\b- \b\b\\ \b\b| \b\bdone\n",
            "Executing transaction: - \b\b\\ \b\b| \b\b/ \b\b- \b\b\\ \b\b| \b\b/ \b\b- \b\b\\ \b\b| \b\b/ \b\b- \b\bdone\n"
          ],
          "name": "stdout"
        }
      ]
    },
    {
      "cell_type": "markdown",
      "metadata": {
        "id": "fTPz3kTtdtgF",
        "colab_type": "text"
      },
      "source": [
        "## Clone and install AMPL Github repository (~ 7-8 minutes)"
      ]
    },
    {
      "cell_type": "code",
      "metadata": {
        "id": "t1JgqHIGiuTs",
        "colab_type": "code",
        "colab": {
          "base_uri": "https://localhost:8080/",
          "height": 141
        },
        "outputId": "76e05a91-570b-496c-e022-b0b8dea37383"
      },
      "source": [
        "!git clone https://github.com/ATOMconsortium/AMPL.git"
      ],
      "execution_count": 5,
      "outputs": [
        {
          "output_type": "stream",
          "text": [
            "Cloning into 'AMPL'...\n",
            "remote: Enumerating objects: 375, done.\u001b[K\n",
            "remote: Counting objects: 100% (375/375), done.\u001b[K\n",
            "remote: Compressing objects: 100% (200/200), done.\u001b[K\n",
            "remote: Total 1216 (delta 208), reused 320 (delta 173), pack-reused 841\u001b[K\n",
            "Receiving objects: 100% (1216/1216), 9.51 MiB | 19.91 MiB/s, done.\n",
            "Resolving deltas: 100% (632/632), done.\n"
          ],
          "name": "stdout"
        }
      ]
    },
    {
      "cell_type": "code",
      "metadata": {
        "id": "SiJL8BImEpSb",
        "colab_type": "code",
        "colab": {
          "base_uri": "https://localhost:8080/",
          "height": 34
        },
        "outputId": "17e64e13-7133-434a-c4ca-b27cc0bdd404"
      },
      "source": [
        "# There is a problem with the UMAP package, so temporarily remove umap import\n",
        "%%bash\n",
        "cat << EOF > ampl.patch\n",
        "--- transformations.py  2020-09-14 17:08:22.225747322 -0700\n",
        "+++ transformations_patched.py  2020-09-14 17:08:07.869651225 -0700\n",
        "@@ -9,7 +9,7 @@\n",
        "\n",
        " import numpy as np\n",
        " import pandas as pd\n",
        "-import umap\n",
        "+# import umap\n",
        "\n",
        " import deepchem as dc\n",
        " from deepchem.trans.transformers import Transformer, NormalizationTransformer\n",
        "EOF\n",
        "\n",
        "patch -N /content/AMPL/atomsci/ddm/pipeline/transformations.py ampl.patch"
      ],
      "execution_count": 6,
      "outputs": [
        {
          "output_type": "stream",
          "text": [
            "patching file /content/AMPL/atomsci/ddm/pipeline/transformations.py\n"
          ],
          "name": "stdout"
        }
      ]
    },
    {
      "cell_type": "markdown",
      "metadata": {
        "id": "Dg2c6mMufVVl",
        "colab_type": "text"
      },
      "source": [
        "**The following code-chunk will take about 6-7 minutes**"
      ]
    },
    {
      "cell_type": "code",
      "metadata": {
        "id": "NadTbhGOjEFl",
        "colab_type": "code",
        "colab": {
          "base_uri": "https://localhost:8080/",
          "height": 1000
        },
        "outputId": "c7b2f510-c110-47a3-d0b3-81fd44acc45d"
      },
      "source": [
        "%cd /content/AMPL/conda\n",
        "!/root/miniconda3/bin/conda install --file conda_package_list.txt -y\n",
        "%cd /content"
      ],
      "execution_count": 7,
      "outputs": [
        {
          "output_type": "stream",
          "text": [
            "/content/AMPL/conda\n",
            "\n",
            "Downloading and Extracting Packages\n",
            "conda-env-2.6.0      | : 100% 1.0/1 [00:00<00:00,  5.38it/s] \n",
            "libtool-2.4.6        | : 100% 1.0/1 [00:00<00:00,  2.58it/s]               \n",
            "blas-1.0             | : 100% 1.0/1 [00:00<00:00, 29.90it/s]\n",
            "ca-certificates-2019 | : 100% 1.0/1 [00:00<00:00,  6.26it/s]                \n",
            "cudatoolkit-9.0      | : 100% 1.0/1 [01:36<00:00, 96.33s/it]                \n",
            "fftw3f-3.3.4         | : 100% 1.0/1 [00:01<00:00,  1.02s/it]               \n",
            "intel-openmp-2018.0. | : 100% 1.0/1 [00:00<00:00,  3.23it/s]               \n",
            "jpeg-9b              | : 100% 1.0/1 [00:00<00:00,  9.94it/s]\n",
            "libgcc-ng-8.2.0      | : 100% 1.0/1 [00:02<00:00,  2.91s/it]              \n",
            "libgfortran-ng-7.2.0 | : 100% 1.0/1 [00:00<00:00,  1.71it/s]               \n",
            "libstdcxx-ng-7.2.0   | : 100% 1.0/1 [00:01<00:00,  1.03s/it]               \n",
            "lzo-2.10             | : 100% 1.0/1 [00:00<00:00,  9.52it/s]\n",
            "pixman-0.34.0        | : 100% 1.0/1 [00:00<00:00,  3.32it/s]               \n",
            "tk-8.6.7             | : 100% 1.0/1 [00:01<00:00,  1.56s/it]               \n",
            "yaml-0.1.7           | : 100% 1.0/1 [00:00<00:00, 10.54it/s]\n",
            "zlib-1.2.11          | : 100% 1.0/1 [00:00<00:00, 13.05it/s]\n",
            "bzip2-1.0.6          | : 100% 1.0/1 [00:00<00:00,  4.33it/s]               \n",
            "c-ares-1.14.0        | : 100% 1.0/1 [00:00<00:00,  9.99it/s]\n",
            "expat-2.2.5          | : 100% 1.0/1 [00:00<00:00,  8.63it/s]\n",
            "gmp-6.1.2            | : 100% 1.0/1 [00:00<00:00,  2.58it/s]               \n",
            "graphite2-1.3.11     | : 100% 1.0/1 [00:00<00:00, 11.07it/s]\n",
            "hdf5-1.10.2          | : 100% 1.0/1 [00:02<00:00,  2.72s/it]               \n",
            "icu-58.2             | : 100% 1.0/1 [00:08<00:00,  8.32s/it]               \n",
            "jbig-2.1             | : 100% 1.0/1 [00:00<00:00, 14.26it/s]\n",
            "libffi-3.2.1         | : 100% 1.0/1 [00:00<00:00, 15.10it/s]\n",
            "libpng-1.6.34        | : 100% 1.0/1 [00:00<00:00,  5.12it/s]               \n",
            "libprotobuf-3.6.0    | : 100% 1.0/1 [00:02<00:00,  2.18s/it]               \n",
            "libsodium-1.0.16     | : 100% 1.0/1 [00:00<00:00,  9.72it/s]\n",
            "libxcb-1.13          | : 100% 1.0/1 [00:00<00:00,  2.24it/s]               \n",
            "mkl-2018.0.3         | : 100% 1.0/1 [01:22<00:00, 82.61s/it]                \n",
            "ncurses-6.1          | : 100% 1.0/1 [00:01<00:00,  1.19s/it]               \n",
            "openssl-1.0.2r       | : 100% 1.0/1 [00:01<00:00,  1.28s/it]               \n",
            "patchelf-0.9         | : 100% 1.0/1 [00:00<00:00, 18.05it/s]\n",
            "pcre-8.42            | : 100% 1.0/1 [00:00<00:00,  9.96it/s]\n",
            "snappy-1.1.7         | : 100% 1.0/1 [00:00<00:00, 12.88it/s]\n",
            "unixodbc-2.3.6       | : 100% 1.0/1 [00:00<00:00,  9.97it/s]\n",
            "xz-5.2.4             | : 100% 1.0/1 [00:00<00:00,  9.96it/s]\n",
            "blosc-1.14.3         | : 100% 1.0/1 [00:00<00:00,  3.81it/s]               \n",
            "freetype-2.8         | : 100% 1.0/1 [00:00<00:00,  2.67it/s]               \n",
            "glib-2.56.1          | : 100% 1.0/1 [00:03<00:00,  3.22s/it]               \n",
            "libedit-3.1.20170329 | : 100% 1.0/1 [00:00<00:00,  5.73it/s]               \n",
            "libssh2-1.8.0        | : 100% 1.0/1 [00:00<00:00,  9.98it/s]\n",
            "libtiff-4.0.9        | : 100% 1.0/1 [00:00<00:00,  3.44it/s]               \n",
            "libxml2-2.9.8        | : 100% 1.0/1 [00:01<00:00,  1.08s/it]               \n",
            "mpfr-3.1.5           | : 100% 1.0/1 [00:00<00:00,  8.83it/s]\n",
            "pandoc-1.19.2.1      | : 100% 1.0/1 [00:09<00:00,  9.95s/it]               \n",
            "readline-7.0         | : 100% 1.0/1 [00:00<00:00,  2.43it/s]               \n",
            "zeromq-4.2.5         | : 100% 1.0/1 [00:00<00:00,  3.01it/s]               \n",
            "dbus-1.13.2          | : 100% 1.0/1 [00:00<00:00,  3.61it/s]               \n",
            "fontconfig-2.12.6    | : 100% 1.0/1 [00:00<00:00,  9.94it/s]\n",
            "gstreamer-1.14.0     | : 100% 1.0/1 [00:01<00:00,  1.40s/it]               \n",
            "libcurl-7.60.0       | : 100% 1.0/1 [00:00<00:00,  9.09it/s]\n",
            "libxslt-1.1.32       | : 100% 1.0/1 [00:00<00:00,  2.48it/s]               \n",
            "mpc-1.0.3            | : 100% 1.0/1 [00:00<00:00, 13.37it/s]\n",
            "sqlite-3.24.0        | : 100% 1.0/1 [00:00<00:00,  1.54it/s]               \n",
            "cairo-1.14.12        | : 100% 1.0/1 [00:00<00:00,  1.53it/s]               \n",
            "curl-7.60.0          | : 100% 1.0/1 [00:00<00:00, 15.51it/s]\n",
            "gst-plugins-base-1.1 | : 100% 1.0/1 [00:02<00:00,  2.25s/it]               \n",
            "python-3.6.6         | : 100% 1.0/1 [00:09<00:00,  9.15s/it]              \n",
            "alabaster-0.7.10     | : 100% 1.0/1 [00:00<00:00, 23.62it/s]\n",
            "asn1crypto-0.24.0    | : 100% 1.0/1 [00:00<00:00,  7.75it/s]\n",
            "astor-0.7.1          | : 100% 1.0/1 [00:00<00:00, 12.81it/s]\n",
            "attrs-18.1.0         | : 100% 1.0/1 [00:00<00:00, 18.87it/s]\n",
            "backcall-0.1.0       | : 100% 1.0/1 [00:00<00:00, 23.34it/s]\n",
            "backports-1.0        | : 100% 1.0/1 [00:00<00:00, 20.80it/s]\n",
            "beautifulsoup4-4.6.0 | : 100% 1.0/1 [00:00<00:00,  8.81it/s]\n",
            "bitarray-0.8.1       | : 100% 1.0/1 [00:00<00:00, 13.25it/s]\n",
            "boto-2.48.0          | : 100% 1.0/1 [00:01<00:00,  1.29s/it]               \n",
            "certifi-2019.3.9     | : 100% 1.0/1 [00:00<00:00, 12.02it/s]\n",
            "chardet-3.0.4        | : 100% 1.0/1 [00:00<00:00,  9.66it/s]\n",
            "click-6.7            | : 100% 1.0/1 [00:00<00:00,  8.95it/s]\n",
            "cloudpickle-0.5.3    | : 100% 1.0/1 [00:00<00:00, 18.28it/s]\n",
            "colorama-0.3.9       | : 100% 1.0/1 [00:00<00:00, 15.16it/s]\n",
            "contextlib2-0.5.5    | : 100% 1.0/1 [00:00<00:00, 27.03it/s]\n",
            "dask-core-0.17.5     | : 100% 1.0/1 [00:00<00:00,  1.54it/s]               \n",
            "decorator-4.3.0      | : 100% 1.0/1 [00:00<00:00, 12.11it/s]\n",
            "docutils-0.14        | : 100% 1.0/1 [00:00<00:00,  2.07it/s]              \n",
            "entrypoints-0.2.3    | : 100% 1.0/1 [00:00<00:00, 20.67it/s]\n",
            "et_xmlfile-1.0.1     | : 100% 1.0/1 [00:00<00:00, 23.76it/s]\n",
            "fastcache-1.0.2      | : 100% 1.0/1 [00:00<00:00, 18.83it/s]\n",
            "filelock-3.0.4       | : 100% 1.0/1 [00:00<00:00, 15.14it/s]\n",
            "gast-0.2.0           | : 100% 1.0/1 [00:00<00:00, 17.15it/s]\n",
            "glob2-0.6            | : 100% 1.0/1 [00:00<00:00,  9.40it/s]\n",
            "gmpy2-2.0.8          | : 100% 1.0/1 [00:00<00:00, 10.91it/s]\n",
            "greenlet-0.4.13      | : 100% 1.0/1 [00:00<00:00, 29.00it/s]\n",
            "harfbuzz-1.7.6       | : 100% 1.0/1 [00:00<00:00,  3.21it/s]               \n",
            "heapdict-1.0.0       | : 100% 1.0/1 [00:00<00:00, 19.47it/s]\n",
            "idna-2.6             | : 100% 1.0/1 [00:00<00:00, 12.11it/s]\n",
            "imagesize-1.0.0      | : 100% 1.0/1 [00:00<00:00, 30.44it/s]\n",
            "ipython_genutils-0.2 | : 100% 1.0/1 [00:00<00:00, 12.20it/s]\n",
            "itsdangerous-0.24    | : 100% 1.0/1 [00:00<00:00, 24.90it/s]\n",
            "jdcal-1.4            | : 100% 1.0/1 [00:00<00:00, 25.43it/s]\n",
            "joblib-0.11          | : 100% 1.0/1 [00:00<00:00,  7.96it/s]\n",
            "kiwisolver-1.0.1     | : 100% 1.0/1 [00:00<00:00, 16.52it/s]\n",
            "lazy-object-proxy-1. | : 100% 1.0/1 [00:00<00:00, 21.04it/s]\n",
            "llvmlite-0.23.1      | : 100% 1.0/1 [00:06<00:00,  6.38s/it]               \n",
            "locket-0.2.0         | : 100% 1.0/1 [00:00<00:00, 28.60it/s]\n",
            "lxml-4.2.1           | : 100% 1.0/1 [00:00<00:00,  1.76it/s]               \n",
            "markdown-2.6.11      | : 100% 1.0/1 [00:00<00:00, 13.02it/s]\n",
            "markupsafe-1.0       | : 100% 1.0/1 [00:00<00:00, 23.23it/s]\n",
            "mccabe-0.6.1         | : 100% 1.0/1 [00:00<00:00, 25.16it/s]\n",
            "mistune-0.8.3        | : 100% 1.0/1 [00:00<00:00,  9.95it/s]\n",
            "mkl-service-1.1.2    | : 100% 1.0/1 [00:00<00:00, 25.26it/s]\n",
            "mpmath-1.0.0         | : 100% 1.0/1 [00:00<00:00,  1.98it/s]              \n",
            "msgpack-python-0.5.6 | : 100% 1.0/1 [00:00<00:00, 11.96it/s]\n",
            "multipledispatch-0.5 | : 100% 1.0/1 [00:00<00:00, 21.95it/s]\n",
            "ninja-1.8.2          | : 100% 1.0/1 [00:00<00:00,  1.96it/s]               \n",
            "numpy-base-1.15.4    | : 100% 1.0/1 [00:02<00:00,  2.41s/it]              \n",
            "olefile-0.45.1       | : 100% 1.0/1 [00:00<00:00, 18.13it/s]\n",
            "pandocfilters-1.4.2  | : 100% 1.0/1 [00:00<00:00, 27.42it/s]\n",
            "parso-0.2.0          | : 100% 1.0/1 [00:00<00:00, 10.29it/s]\n",
            "path.py-11.0.1       | : 100% 1.0/1 [00:00<00:00, 16.18it/s]\n",
            "pep8-1.7.1           | : 100% 1.0/1 [00:00<00:00, 17.52it/s]\n",
            "pickleshare-0.7.4    | : 100% 1.0/1 [00:00<00:00, 27.63it/s]\n",
            "pkginfo-1.4.2        | : 100% 1.0/1 [00:00<00:00, 16.58it/s]\n",
            "pluggy-0.6.0         | : 100% 1.0/1 [00:00<00:00, 21.54it/s]\n",
            "ply-3.11             | : 100% 1.0/1 [00:00<00:00, 14.83it/s]\n",
            "psutil-5.4.5         | : 100% 1.0/1 [00:00<00:00,  9.18it/s]\n",
            "ptyprocess-0.5.2     | : 100% 1.0/1 [00:00<00:00, 22.31it/s]\n",
            "py-1.5.3             | : 100% 1.0/1 [00:00<00:00,  8.96it/s]\n",
            "pycodestyle-2.4.0    | : 100% 1.0/1 [00:00<00:00, 16.61it/s]\n",
            "pycosat-0.6.3        | : 100% 1.0/1 [00:00<00:00, 13.01it/s]\n",
            "pycparser-2.18       | : 100% 1.0/1 [00:00<00:00,  7.15it/s]\n",
            "pycrypto-2.6.1       | : 100% 1.0/1 [00:00<00:00,  2.71it/s]               \n",
            "pycurl-7.43.0.1      | : 100% 1.0/1 [00:00<00:00, 18.23it/s]\n",
            "pyodbc-4.0.23        | : 100% 1.0/1 [00:00<00:00, 21.46it/s]\n",
            "pyparsing-2.2.0      | : 100% 1.0/1 [00:00<00:00, 13.70it/s]\n",
            "pysocks-1.6.8        | : 100% 1.0/1 [00:00<00:00, 19.73it/s]\n",
            "pytz-2018.4          | : 100% 1.0/1 [00:00<00:00,  3.29it/s]               \n",
            "pyyaml-3.12          | : 100% 1.0/1 [00:00<00:00,  9.81it/s]\n",
            "pyzmq-17.0.0         | : 100% 1.0/1 [00:00<00:00,  2.82it/s]               \n",
            "qt-5.9.5             | : 100% 1.0/1 [00:34<00:00, 34.93s/it]              \n",
            "qtpy-1.4.1           | : 100% 1.0/1 [00:00<00:00, 11.46it/s]\n",
            "rope-0.10.7          | : 100% 1.0/1 [00:00<00:00,  3.66it/s]               \n",
            "ruamel_yaml-0.15.35  | : 100% 1.0/1 [00:00<00:00,  9.96it/s]\n",
            "send2trash-1.5.0     | : 100% 1.0/1 [00:00<00:00, 23.28it/s]\n",
            "simplegeneric-0.8.1  | : 100% 1.0/1 [00:00<00:00, 27.13it/s]\n",
            "sip-4.19.8           | : 100% 1.0/1 [00:00<00:00,  9.99it/s]\n",
            "six-1.11.0           | : 100% 1.0/1 [00:00<00:00, 25.98it/s]\n",
            "snowballstemmer-1.2. | : 100% 1.0/1 [00:00<00:00,  8.70it/s]\n",
            "sortedcontainers-1.5 | : 100% 1.0/1 [00:00<00:00, 14.12it/s]\n",
            "sphinxcontrib-1.0    | : 100% 1.0/1 [00:00<00:00, 28.85it/s]\n",
            "sqlalchemy-1.2.7     | : 100% 1.0/1 [00:01<00:00,  1.16s/it]               \n",
            "tblib-1.3.2          | : 100% 1.0/1 [00:00<00:00, 24.45it/s]\n",
            "termcolor-1.1.0      | : 100% 1.0/1 [00:00<00:00, 20.45it/s]\n",
            "testpath-0.3.1       | : 100% 1.0/1 [00:00<00:00, 11.31it/s]\n",
            "toolz-0.9.0          | : 100% 1.0/1 [00:00<00:00,  9.92it/s]\n",
            "tornado-5.0.2        | : 100% 1.0/1 [00:00<00:00,  2.15it/s]               \n",
            "typing-3.6.4         | : 100% 1.0/1 [00:00<00:00, 18.50it/s]\n",
            "unicodecsv-0.14.1    | : 100% 1.0/1 [00:00<00:00, 16.92it/s]\n",
            "wcwidth-0.1.7        | : 100% 1.0/1 [00:00<00:00, 26.18it/s]\n",
            "webencodings-0.5.1   | : 100% 1.0/1 [00:00<00:00, 24.77it/s]\n",
            "werkzeug-0.14.1      | : 100% 1.0/1 [00:00<00:00,  3.44it/s]               \n",
            "wrapt-1.10.11        | : 100% 1.0/1 [00:00<00:00, 13.83it/s]\n",
            "xlrd-1.1.0           | : 100% 1.0/1 [00:00<00:00,  8.10it/s]\n",
            "xlsxwriter-1.0.4     | : 100% 1.0/1 [00:00<00:00,  9.99it/s]\n",
            "xlwt-1.3.0           | : 100% 1.0/1 [00:00<00:00,  8.00it/s]\n",
            "absl-py-0.4.1        | : 100% 1.0/1 [00:00<00:00, 11.11it/s]\n",
            "babel-2.5.3          | : 100% 1.0/1 [00:02<00:00,  2.34s/it]               \n",
            "backports.shutil_get | : 100% 1.0/1 [00:00<00:00, 24.25it/s]\n",
            "cffi-1.11.5          | : 100% 1.0/1 [00:00<00:00,  7.50it/s]\n",
            "conda-verify-2.0.0   | : 100% 1.0/1 [00:00<00:00, 18.95it/s]\n",
            "cycler-0.10.0        | : 100% 1.0/1 [00:00<00:00, 25.36it/s]\n",
            "cytoolz-0.9.0.1      | : 100% 1.0/1 [00:00<00:00,  9.10it/s]\n",
            "html5lib-0.9999999   | : 100% 1.0/1 [00:00<00:00,  9.98it/s]\n",
            "jedi-0.12.0          | : 100% 1.0/1 [00:00<00:00,  4.77it/s]               \n",
            "more-itertools-4.1.0 | : 100% 1.0/1 [00:00<00:00, 12.57it/s]\n",
            "networkx-2.1         | : 100% 1.0/1 [00:01<00:00,  1.32s/it]               \n",
            "nltk-3.3.0           | : 100% 1.0/1 [00:01<00:00,  1.24s/it]               \n",
            "openpyxl-2.5.3       | : 100% 1.0/1 [00:00<00:00,  2.71it/s]               \n",
            "packaging-17.1       | : 100% 1.0/1 [00:00<00:00, 18.65it/s]\n",
            "pango-1.41.0         | : 100% 1.0/1 [00:00<00:00,  2.61it/s]               \n",
            "partd-0.3.8          | : 100% 1.0/1 [00:00<00:00, 19.01it/s]\n",
            "pathlib2-2.3.2       | : 100% 1.0/1 [00:00<00:00, 22.79it/s]\n",
            "pexpect-4.5.0        | : 100% 1.0/1 [00:00<00:00, 13.99it/s]\n",
            "pillow-5.0.0         | : 100% 1.0/1 [00:00<00:00,  1.68it/s]               \n",
            "pyqt-5.9.2           | : 100% 1.0/1 [00:03<00:00,  3.07s/it]               \n",
            "python-dateutil-2.7. | : 100% 1.0/1 [00:00<00:00,  5.32it/s]               \n",
            "qtawesome-0.4.4      | : 100% 1.0/1 [00:00<00:00,  9.95it/s]\n",
            "setuptools-39.1.0    | : 100% 1.0/1 [00:00<00:00,  2.44it/s]               \n",
            "singledispatch-3.4.0 | : 100% 1.0/1 [00:00<00:00, 27.49it/s]\n",
            "sortedcollections-0. | : 100% 1.0/1 [00:00<00:00, 24.13it/s]\n",
            "sphinxcontrib-websup | : 100% 1.0/1 [00:00<00:00, 17.55it/s]\n",
            "sympy-1.1.1          | : 100% 1.0/1 [00:04<00:00,  4.09s/it]               \n",
            "terminado-0.8.1      | : 100% 1.0/1 [00:00<00:00, 25.55it/s]\n",
            "traitlets-4.3.2      | : 100% 1.0/1 [00:00<00:00,  8.54it/s]\n",
            "zict-0.1.3           | : 100% 1.0/1 [00:00<00:00, 22.39it/s]\n",
            "astroid-1.6.3        | : 100% 1.0/1 [00:05<00:00,  5.58s/it]               \n",
            "bleach-1.5.0         | : 100% 1.0/1 [00:00<00:00, 16.85it/s]\n",
            "clyent-1.2.2         | : 100% 1.0/1 [00:00<00:00,  9.69it/s]\n",
            "cryptography-2.2.2   | : 100% 1.0/1 [00:00<00:00,  2.68it/s]               \n",
            "cython-0.28.2        | : 100% 1.0/1 [00:01<00:00,  1.50s/it]               \n",
            "distributed-1.21.8   | : 100% 1.0/1 [00:00<00:00,  1.69it/s]               \n",
            "get_terminal_size-1. | : 100% 1.0/1 [00:00<00:00, 31.39it/s]\n",
            "gevent-1.3.0         | : 100% 1.0/1 [00:01<00:00,  1.19s/it]               \n",
            "grpcio-1.14.1        | : 100% 1.0/1 [00:01<00:00,  1.72s/it]               \n",
            "isort-4.3.4          | : 100% 1.0/1 [00:00<00:00, 15.32it/s]\n",
            "jinja2-2.10          | : 100% 1.0/1 [00:00<00:00,  7.80it/s]\n",
            "jsonschema-2.6.0     | : 100% 1.0/1 [00:00<00:00, 12.63it/s]\n",
            "jupyter_core-4.4.0   | : 100% 1.0/1 [00:00<00:00, 10.32it/s]\n",
            "navigator-updater-0. | : 100% 1.0/1 [00:00<00:00,  2.21it/s]               \n",
            "nose-1.3.7           | : 100% 1.0/1 [00:00<00:00,  9.93it/s]\n",
            "protobuf-3.6.0       | : 100% 1.0/1 [00:00<00:00,  1.17it/s]               \n",
            "pyflakes-1.6.0       | : 100% 1.0/1 [00:00<00:00, 11.17it/s]\n",
            "pygments-2.2.0       | : 100% 1.0/1 [00:00<00:00,  1.22it/s]              \n",
            "pytest-3.5.1         | : 100% 1.0/1 [00:00<00:00,  9.92it/s]\n",
            "wheel-0.31.1         | : 100% 1.0/1 [00:00<00:00, 14.42it/s]\n",
            "flask-1.0.2          | : 100% 1.0/1 [00:00<00:00,  7.39it/s]\n",
            "jupyter_client-5.2.3 | : 100% 1.0/1 [00:00<00:00,  7.64it/s]\n",
            "nbformat-4.4.0       | : 100% 1.0/1 [00:00<00:00,  6.87it/s]\n",
            "pip-10.0.1           | : 100% 1.0/1 [00:01<00:00,  1.00s/it]               \n",
            "prompt_toolkit-1.0.1 | : 100% 1.0/1 [00:00<00:00,  3.27it/s]               \n",
            "pylint-1.8.4         | : 100% 1.0/1 [00:00<00:00,  1.12it/s]               \n",
            "pyopenssl-18.0.0     | : 100% 1.0/1 [00:00<00:00, 12.80it/s]\n",
            "pytest-openfiles-0.3 | : 100% 1.0/1 [00:00<00:00, 24.31it/s]\n",
            "pytest-remotedata-0. | : 100% 1.0/1 [00:00<00:00, 25.52it/s]\n",
            "flask-cors-3.0.4     | : 100% 1.0/1 [00:00<00:00, 12.72it/s]\n",
            "ipython-6.4.0        | : 100% 1.0/1 [00:00<00:00,  1.36it/s]               \n",
            "nbconvert-5.3.1      | : 100% 1.0/1 [00:00<00:00,  3.08it/s]               \n",
            "urllib3-1.22         | : 100% 1.0/1 [00:00<00:00,  7.12it/s]\n",
            "ipykernel-4.8.2      | : 100% 1.0/1 [00:00<00:00,  6.76it/s]\n",
            "requests-2.18.4      | : 100% 1.0/1 [00:00<00:00, 10.33it/s]\n",
            "anaconda-client-1.6. | : 100% 1.0/1 [00:00<00:00,  6.42it/s]\n",
            "conda-4.6.12         | : 100% 1.0/1 [00:01<00:00,  1.21s/it]               \n",
            "jupyter_console-5.2. | : 100% 1.0/1 [00:00<00:00, 15.66it/s]\n",
            "notebook-5.5.0       | : 100% 1.0/1 [00:03<00:00,  3.36s/it]               \n",
            "qtconsole-4.3.1      | : 100% 1.0/1 [00:00<00:00,  7.46it/s]\n",
            "sphinx-1.7.4         | : 100% 1.0/1 [00:01<00:00,  1.32s/it]               \n",
            "anaconda-navigator-1 | : 100% 1.0/1 [00:01<00:00,  1.60s/it]               \n",
            "anaconda-project-0.8 | : 100% 1.0/1 [00:00<00:00,  2.35it/s]               \n",
            "conda-build-3.10.5   | : 100% 1.0/1 [00:00<00:00,  3.79it/s]               \n",
            "jupyterlab_launcher- | : 100% 1.0/1 [00:00<00:00, 20.34it/s]\n",
            "numpydoc-0.8.0       | : 100% 1.0/1 [00:00<00:00, 19.73it/s]\n",
            "widgetsnbextension-3 | : 100% 1.0/1 [00:00<00:00,  1.04it/s]              \n",
            "ipywidgets-7.2.1     | : 100% 1.0/1 [00:00<00:00,  8.53it/s]\n",
            "jupyterlab-0.32.1    | : 100% 1.0/1 [00:04<00:00,  4.67s/it]               \n",
            "spyder-3.2.8         | : 100% 1.0/1 [00:01<00:00,  1.50s/it]               \n",
            "_ipyw_jlab_nb_ext_co | : 100% 1.0/1 [00:00<00:00, 33.68it/s]\n",
            "jupyter-1.0.0        | : 100% 1.0/1 [00:00<00:00, 21.57it/s]\n",
            "bokeh-0.12.16        | : 100% 1.0/1 [00:02<00:00,  2.48s/it]               \n",
            "boost-1.63.0         | : 100% 1.0/1 [00:13<00:00, 13.55s/it]               \n",
            "bottleneck-1.2.1     | : 100% 1.0/1 [00:00<00:00,  8.37it/s]\n",
            "datashape-0.5.4      | : 100% 1.0/1 [00:00<00:00,  8.24it/s]\n",
            "h5py-2.7.1           | : 100% 1.0/1 [00:00<00:00,  1.61it/s]               \n",
            "imageio-2.3.0        | : 100% 1.0/1 [00:00<00:00,  1.04it/s]               \n",
            "matplotlib-2.2.2     | : 100% 1.0/1 [00:02<00:00,  2.96s/it]               \n",
            "mkl_fft-1.0.4        | : 100% 1.0/1 [00:00<00:00, 10.00it/s]\n",
            "mkl_random-1.0.1     | : 100% 1.0/1 [00:00<00:00,  5.11it/s]              \n",
            "numpy-1.15.4         | : 100% 1.0/1 [00:00<00:00, 19.78it/s]\n",
            "numba-0.38.0         | : 100% 1.0/1 [00:01<00:00,  1.56s/it]              \n",
            "numexpr-2.6.5        | : 100% 1.0/1 [00:00<00:00,  9.36it/s]\n",
            "openmm-7.2.2         | : 100% 1.0/1 [00:05<00:00,  5.59s/it]               \n",
            "pandas-0.22.0        | : 100% 1.0/1 [00:10<00:00, 10.42s/it]               \n",
            "pytest-arraydiff-0.2 | : 100% 1.0/1 [00:00<00:00, 18.81it/s]\n",
            "pytest-doctestplus-0 | : 100% 1.0/1 [00:00<00:00, 24.62it/s]\n",
            "pytorch-1.0.1        | : 100% 1.0/1 [01:49<00:00, 109.06s/it]               \n",
            "pywavelets-0.5.2     | : 100% 1.0/1 [00:01<00:00,  1.26s/it]              \n",
            "scipy-1.1.0          | : 100% 1.0/1 [00:06<00:00,  6.73s/it]               \n",
            "tensorboard-1.6.0    | : 100% 1.0/1 [00:00<00:00,  1.21it/s]               \n",
            "bkcharts-0.2         | : 100% 1.0/1 [00:00<00:00,  7.51it/s]\n",
            "dask-0.17.5          | : 100% 1.0/1 [00:00<00:00, 30.57it/s]\n",
            "patsy-0.5.0          | : 100% 1.0/1 [00:00<00:00,  4.65it/s]               \n",
            "pdbfixer-1.4         | : 100% 1.0/1 [00:00<00:00,  1.62it/s]               \n",
            "pytables-3.4.3       | : 100% 1.0/1 [00:00<00:00,  1.30it/s]               \n",
            "pytest-astropy-0.3.0 | : 100% 1.0/1 [00:00<00:00, 26.57it/s]\n",
            "rdkit-2017.09.1      | : 100% 1.0/1 [00:04<00:00, 10.91s/it]               \n",
            "scikit-learn-0.19.1  | : 100% 1.0/1 [00:02<00:00,  2.64s/it]               \n",
            "simdna-0.4.2         | : 100% 1.0/1 [00:00<00:00,  1.38it/s]               \n",
            "tensorflow-1.6.0     | : 100% 1.0/1 [00:21<00:00, 21.73s/it]               \n",
            "torchvision-0.2.2    | : 100% 1.0/1 [00:00<00:00,  2.31it/s]               \n",
            "xgboost-0.6a2        | : 100% 1.0/1 [00:00<00:00,  1.72it/s]               \n",
            "astropy-3.0.2        | : 100% 1.0/1 [00:03<00:00,  3.50s/it]               \n",
            "mdtraj-1.9.1         | : 100% 1.0/1 [00:02<00:00,  2.53s/it]              \n",
            "odo-0.5.1            | : 100% 1.0/1 [00:00<00:00,  9.93it/s]\n",
            "scikit-image-0.13.1  | : 100% 1.0/1 [00:06<00:00,  6.18s/it]               \n",
            "statsmodels-0.9.0    | : 100% 1.0/1 [00:04<00:00,  4.09s/it]               \n",
            "blaze-0.11.3         | : 100% 1.0/1 [00:00<00:00,  2.38it/s]               \n",
            "deepchem-2.1.0       | : 100% 1.0/1 [00:00<00:00,  1.19s/it]               \n",
            "seaborn-0.9.0        | : 100% 1.0/1 [00:00<00:00,  4.24it/s]              \n",
            "Preparing transaction: - \b\b\\ \b\b| \b\b/ \b\b- \b\b\\ \b\b| \b\b/ \b\b- \b\b\\ \b\b| \b\b/ \b\b- \b\b\\ \b\b| \b\b/ \b\b- \b\b\\ \b\b| \b\b/ \b\b- \b\b\\ \b\b| \b\b/ \b\b- \b\b\\ \b\b| \b\b/ \b\b- \b\b\\ \b\b| \b\bdone\n",
            "Verifying transaction: - \b\b\\ \b\b| \b\b/ \b\b- \b\b\\ \b\b| \b\b/ \b\b- \b\b\\ \b\b| \b\b/ \b\b- \b\b\\ \b\b| \b\b/ \b\b- \b\b\\ \b\b| \b\b/ \b\b- \b\b\\ \b\b| \b\b/ \b\b- \b\b\\ \b\b| \b\b/ \b\b- \b\b\\ \b\b| \b\b/ \b\b- \b\b\\ \b\b| \b\b/ \b\b- \b\b\\ \b\b| \b\b/ \b\b- \b\b\\ \b\b| \b\b/ \b\b- \b\b\\ \b\b| \b\b/ \b\b- \b\b\\ \b\b| \b\b/ \b\b- \b\b\\ \b\b| \b\b/ \b\b- \b\b\\ \b\b| \b\b/ \b\b- \b\b\\ \b\b| \b\b/ \b\b- \b\b\\ \b\b| \b\b/ \b\b- \b\b\\ \b\b| \b\b/ \b\b- \b\b\\ \b\b| \b\b/ \b\b- \b\b\\ \b\b| \b\b/ \b\b- \b\b\\ \b\b| \b\b/ \b\b- \b\b\\ \b\b| \b\b/ \b\b- \b\b\\ \b\b| \b\b/ \b\b- \b\b\\ \b\b| \b\b/ \b\b- \b\b\\ \b\b| \b\b/ \b\b- \b\b\\ \b\b| \b\b/ \b\b- \b\bdone\n",
            "Executing transaction: | \b\b/ \b\b- \b\b\\ \b\b| \b\b/ \b\b- \b\b\\ \b\b| \b\b/ \b\b- \b\b\\ \b\b| \b\b/ \b\b- \b\b\\ \b\b| \b\b/ \b\b- \b\b\\ \b\b| \b\b/ \b\b- \b\b\\ \b\b| \b\b/ \b\b- \b\b\\ \b\b| \b\b/ \b\b- \b\b\\ \b\b| \b\b/ \b\b- \b\b\\ \b\b| \b\b/ \b\b- \b\b\\ \b\b| \b\b/ \b\b- \b\b\\ \b\b| \b\b/ \b\b- \b\b\\ \b\b| \b\b/ \b\b- \b\b\\ \b\b| \b\b/ \b\b- \b\b\\ \b\b| \b\b/ \b\b- \b\b\\ \b\b| \b\b/ \b\b- \b\b\\ \b\b| \b\b/ \b\b- \b\b\\ \b\b| \b\b/ \b\b- \b\b\\ \b\b| \b\b/ \b\b- \b\b\\ \b\b| \b\b/ \b\b- \b\b\\ \b\b| \b\b/ \b\b- \b\b\\ \b\b| \b\b/ \b\b- \b\b\\ \b\b| \b\b/ \b\b- \b\b\\ \b\b| \b\b/ \b\bdone\n",
            "/content\n"
          ],
          "name": "stdout"
        }
      ]
    },
    {
      "cell_type": "code",
      "metadata": {
        "id": "UI660g5CjJPE",
        "colab_type": "code",
        "colab": {
          "base_uri": "https://localhost:8080/",
          "height": 1000
        },
        "outputId": "e1f659a0-7f9c-4427-ac50-c63ed2f220af"
      },
      "source": [
        "%cd /content/AMPL/conda\n",
        "!/root/miniconda3/bin/pip install -r pip_requirements.txt\n",
        "%cd /content"
      ],
      "execution_count": 8,
      "outputs": [
        {
          "output_type": "stream",
          "text": [
            "/content/AMPL/conda\n",
            "Requirement already satisfied: absl-py==0.4.1 in /root/miniconda3/lib/python3.6/site-packages (from -r pip_requirements.txt (line 1)) (0.4.1)\n",
            "Requirement already satisfied: alabaster==0.7.10 in /root/miniconda3/lib/python3.6/site-packages (from -r pip_requirements.txt (line 2)) (0.7.10)\n",
            "Requirement already satisfied: anaconda-client==1.6.14 in /root/miniconda3/lib/python3.6/site-packages (from -r pip_requirements.txt (line 3)) (1.6.14)\n",
            "Requirement already satisfied: anaconda-navigator==1.8.7 in /root/miniconda3/lib/python3.6/site-packages (from -r pip_requirements.txt (line 4)) (1.8.7)\n",
            "Requirement already satisfied: anaconda-project==0.8.2 in /root/miniconda3/lib/python3.6/site-packages (from -r pip_requirements.txt (line 5)) (0.8.2)\n",
            "Collecting anyconfig==0.9.7 (from -r pip_requirements.txt (line 6))\n",
            "\u001b[?25l  Downloading https://files.pythonhosted.org/packages/7e/92/31d19738dc851af340605682465d437a36bccfaebc6042c589904c36fc68/anyconfig-0.9.7.tar.gz (97kB)\n",
            "\u001b[K    100% |████████████████████████████████| 102kB 3.6MB/s \n",
            "\u001b[?25hRequirement already satisfied: asn1crypto==0.24.0 in /root/miniconda3/lib/python3.6/site-packages (from -r pip_requirements.txt (line 7)) (0.24.0)\n",
            "Requirement already satisfied: astor==0.7.1 in /root/miniconda3/lib/python3.6/site-packages (from -r pip_requirements.txt (line 8)) (0.7.1)\n",
            "Requirement already satisfied: astroid==1.6.3 in /root/miniconda3/lib/python3.6/site-packages (from -r pip_requirements.txt (line 9)) (1.6.3)\n",
            "Requirement already satisfied: astropy==3.0.2 in /root/miniconda3/lib/python3.6/site-packages (from -r pip_requirements.txt (line 10)) (3.0.2)\n",
            "Requirement already satisfied: attrs==18.1.0 in /root/miniconda3/lib/python3.6/site-packages (from -r pip_requirements.txt (line 11)) (18.1.0)\n",
            "Requirement already satisfied: Babel==2.5.3 in /root/miniconda3/lib/python3.6/site-packages (from -r pip_requirements.txt (line 12)) (2.5.3)\n",
            "Requirement already satisfied: backcall==0.1.0 in /root/miniconda3/lib/python3.6/site-packages (from -r pip_requirements.txt (line 13)) (0.1.0)\n",
            "Requirement already satisfied: backports.shutil-get-terminal-size==1.0.0 in /root/miniconda3/lib/python3.6/site-packages (from -r pip_requirements.txt (line 14)) (1.0.0)\n",
            "Requirement already satisfied: beautifulsoup4==4.6.0 in /root/miniconda3/lib/python3.6/site-packages (from -r pip_requirements.txt (line 15)) (4.6.0)\n",
            "Requirement already satisfied: bitarray==0.8.1 in /root/miniconda3/lib/python3.6/site-packages (from -r pip_requirements.txt (line 16)) (0.8.1)\n",
            "Requirement already satisfied: bkcharts==0.2 in /root/miniconda3/lib/python3.6/site-packages (from -r pip_requirements.txt (line 17)) (0.2)\n",
            "Requirement already satisfied: blaze==0.11.3 in /root/miniconda3/lib/python3.6/site-packages (from -r pip_requirements.txt (line 18)) (0.11.3)\n",
            "Requirement already satisfied: bleach==1.5.0 in /root/miniconda3/lib/python3.6/site-packages (from -r pip_requirements.txt (line 19)) (1.5.0)\n",
            "Requirement already satisfied: bokeh==0.12.16 in /root/miniconda3/lib/python3.6/site-packages (from -r pip_requirements.txt (line 20)) (0.12.16)\n",
            "Requirement already satisfied: boto==2.48.0 in /root/miniconda3/lib/python3.6/site-packages (from -r pip_requirements.txt (line 21)) (2.48.0)\n",
            "Requirement already satisfied: Bottleneck==1.2.1 in /root/miniconda3/lib/python3.6/site-packages (from -r pip_requirements.txt (line 22)) (1.2.1)\n",
            "Collecting bravado==10.2.1 (from -r pip_requirements.txt (line 23))\n",
            "  Downloading https://files.pythonhosted.org/packages/17/f2/299c0563e5aa1e6b0c0fa28ce2350be4b7ef99693451fa87ec96b837b67f/bravado-10.2.1-py2.py3-none-any.whl\n",
            "Collecting bravado-core==5.10.0 (from -r pip_requirements.txt (line 24))\n",
            "\u001b[?25l  Downloading https://files.pythonhosted.org/packages/6f/6f/c9fb1d7414b0e92e2fa2ddf3f21ed9950aae7296e389c709f0c18bd4baca/bravado_core-5.10.0-py2.py3-none-any.whl (52kB)\n",
            "\u001b[K    100% |████████████████████████████████| 61kB 9.3MB/s \n",
            "\u001b[?25hRequirement already satisfied: certifi==2019.3.9 in /root/miniconda3/lib/python3.6/site-packages (from -r pip_requirements.txt (line 25)) (2019.3.9)\n",
            "Requirement already satisfied: cffi==1.11.5 in /root/miniconda3/lib/python3.6/site-packages (from -r pip_requirements.txt (line 26)) (1.11.5)\n",
            "Requirement already satisfied: chardet==3.0.4 in /root/miniconda3/lib/python3.6/site-packages (from -r pip_requirements.txt (line 27)) (3.0.4)\n",
            "Requirement already satisfied: click==6.7 in /root/miniconda3/lib/python3.6/site-packages (from -r pip_requirements.txt (line 28)) (6.7)\n",
            "Requirement already satisfied: cloudpickle==0.5.3 in /root/miniconda3/lib/python3.6/site-packages (from -r pip_requirements.txt (line 29)) (0.5.3)\n",
            "Requirement already satisfied: clyent==1.2.2 in /root/miniconda3/lib/python3.6/site-packages (from -r pip_requirements.txt (line 30)) (1.2.2)\n",
            "Requirement already satisfied: colorama==0.3.9 in /root/miniconda3/lib/python3.6/site-packages (from -r pip_requirements.txt (line 31)) (0.3.9)\n",
            "Requirement already satisfied: conda==4.6.12 in /root/miniconda3/lib/python3.6/site-packages (from -r pip_requirements.txt (line 32)) (4.6.12)\n",
            "Requirement already satisfied: conda-build==3.10.5 in /root/miniconda3/lib/python3.6/site-packages (from -r pip_requirements.txt (line 33)) (3.10.5)\n",
            "Requirement already satisfied: conda-verify==2.0.0 in /root/miniconda3/lib/python3.6/site-packages (from -r pip_requirements.txt (line 34)) (2.0.0)\n",
            "Requirement already satisfied: contextlib2==0.5.5 in /root/miniconda3/lib/python3.6/site-packages (from -r pip_requirements.txt (line 35)) (0.5.5)\n",
            "Requirement already satisfied: cryptography==2.2.2 in /root/miniconda3/lib/python3.6/site-packages (from -r pip_requirements.txt (line 36)) (2.2.2)\n",
            "Requirement already satisfied: cycler==0.10.0 in /root/miniconda3/lib/python3.6/site-packages (from -r pip_requirements.txt (line 37)) (0.10.0)\n",
            "Requirement already satisfied: Cython==0.28.2 in /root/miniconda3/lib/python3.6/site-packages (from -r pip_requirements.txt (line 38)) (0.28.2)\n",
            "Requirement already satisfied: cytoolz==0.9.0.1 in /root/miniconda3/lib/python3.6/site-packages (from -r pip_requirements.txt (line 39)) (0.9.0.1)\n",
            "Requirement already satisfied: dask==0.17.5 in /root/miniconda3/lib/python3.6/site-packages (from -r pip_requirements.txt (line 40)) (0.17.5)\n",
            "Requirement already satisfied: datashape==0.5.4 in /root/miniconda3/lib/python3.6/site-packages (from -r pip_requirements.txt (line 41)) (0.5.4)\n",
            "Requirement already satisfied: decorator==4.3.0 in /root/miniconda3/lib/python3.6/site-packages (from -r pip_requirements.txt (line 42)) (4.3.0)\n",
            "Requirement already satisfied: deepchem==2.1.0 in /root/miniconda3/lib/python3.6/site-packages (from -r pip_requirements.txt (line 43)) (2.1.0)\n",
            "Requirement already satisfied: distributed==1.21.8 in /root/miniconda3/lib/python3.6/site-packages (from -r pip_requirements.txt (line 44)) (1.21.8)\n",
            "Requirement already satisfied: docutils==0.14 in /root/miniconda3/lib/python3.6/site-packages (from -r pip_requirements.txt (line 45)) (0.14)\n",
            "Requirement already satisfied: entrypoints==0.2.3 in /root/miniconda3/lib/python3.6/site-packages (from -r pip_requirements.txt (line 46)) (0.2.3)\n",
            "Requirement already satisfied: et-xmlfile==1.0.1 in /root/miniconda3/lib/python3.6/site-packages (from -r pip_requirements.txt (line 47)) (1.0.1)\n",
            "Requirement already satisfied: fastcache==1.0.2 in /root/miniconda3/lib/python3.6/site-packages (from -r pip_requirements.txt (line 48)) (1.0.2)\n",
            "Collecting feather-format==0.4.0 (from -r pip_requirements.txt (line 49))\n",
            "  Downloading https://files.pythonhosted.org/packages/08/55/940b97cc6f19a19f5dab9efef2f68a0ce43a7632f858b272391f0b851a7e/feather-format-0.4.0.tar.gz\n",
            "Requirement already satisfied: filelock==3.0.4 in /root/miniconda3/lib/python3.6/site-packages (from -r pip_requirements.txt (line 50)) (3.0.4)\n",
            "Requirement already satisfied: Flask==1.0.2 in /root/miniconda3/lib/python3.6/site-packages (from -r pip_requirements.txt (line 51)) (1.0.2)\n",
            "Requirement already satisfied: Flask-Cors==3.0.4 in /root/miniconda3/lib/python3.6/site-packages (from -r pip_requirements.txt (line 52)) (3.0.4)\n",
            "Requirement already satisfied: gast==0.2.0 in /root/miniconda3/lib/python3.6/site-packages (from -r pip_requirements.txt (line 53)) (0.2.0)\n",
            "Requirement already satisfied: gevent==1.3.0 in /root/miniconda3/lib/python3.6/site-packages (from -r pip_requirements.txt (line 54)) (1.3.0)\n",
            "Requirement already satisfied: glob2==0.6 in /root/miniconda3/lib/python3.6/site-packages (from -r pip_requirements.txt (line 55)) (0.6)\n",
            "Requirement already satisfied: gmpy2==2.0.8 in /root/miniconda3/lib/python3.6/site-packages (from -r pip_requirements.txt (line 56)) (2.0.8)\n",
            "Requirement already satisfied: greenlet==0.4.13 in /root/miniconda3/lib/python3.6/site-packages (from -r pip_requirements.txt (line 57)) (0.4.13)\n",
            "Requirement already satisfied: grpcio==1.14.1 in /root/miniconda3/lib/python3.6/site-packages (from -r pip_requirements.txt (line 58)) (1.14.1)\n",
            "Requirement already satisfied: h5py==2.7.1 in /root/miniconda3/lib/python3.6/site-packages (from -r pip_requirements.txt (line 59)) (2.7.1)\n",
            "Requirement already satisfied: heapdict==1.0.0 in /root/miniconda3/lib/python3.6/site-packages (from -r pip_requirements.txt (line 60)) (1.0.0)\n",
            "Requirement already satisfied: html5lib==0.9999999 in /root/miniconda3/lib/python3.6/site-packages (from -r pip_requirements.txt (line 61)) (0.9999999)\n",
            "Requirement already satisfied: idna==2.6 in /root/miniconda3/lib/python3.6/site-packages (from -r pip_requirements.txt (line 62)) (2.6)\n",
            "Requirement already satisfied: imageio==2.3.0 in /root/miniconda3/lib/python3.6/site-packages (from -r pip_requirements.txt (line 63)) (2.3.0)\n",
            "Requirement already satisfied: imagesize==1.0.0 in /root/miniconda3/lib/python3.6/site-packages (from -r pip_requirements.txt (line 64)) (1.0.0)\n",
            "Requirement already satisfied: ipykernel==4.8.2 in /root/miniconda3/lib/python3.6/site-packages (from -r pip_requirements.txt (line 65)) (4.8.2)\n",
            "Requirement already satisfied: ipython==6.4.0 in /root/miniconda3/lib/python3.6/site-packages (from -r pip_requirements.txt (line 66)) (6.4.0)\n",
            "Requirement already satisfied: ipython-genutils==0.2.0 in /root/miniconda3/lib/python3.6/site-packages (from -r pip_requirements.txt (line 67)) (0.2.0)\n",
            "Requirement already satisfied: ipywidgets==7.2.1 in /root/miniconda3/lib/python3.6/site-packages (from -r pip_requirements.txt (line 68)) (7.2.1)\n",
            "Requirement already satisfied: isort==4.3.4 in /root/miniconda3/lib/python3.6/site-packages (from -r pip_requirements.txt (line 69)) (4.3.4)\n",
            "Requirement already satisfied: itsdangerous==0.24 in /root/miniconda3/lib/python3.6/site-packages (from -r pip_requirements.txt (line 70)) (0.24)\n",
            "Requirement already satisfied: jdcal==1.4 in /root/miniconda3/lib/python3.6/site-packages (from -r pip_requirements.txt (line 71)) (1.4)\n",
            "Requirement already satisfied: jedi==0.12.0 in /root/miniconda3/lib/python3.6/site-packages (from -r pip_requirements.txt (line 72)) (0.12.0)\n",
            "Requirement already satisfied: Jinja2==2.10 in /root/miniconda3/lib/python3.6/site-packages (from -r pip_requirements.txt (line 73)) (2.10)\n",
            "Requirement already satisfied: joblib==0.11 in /root/miniconda3/lib/python3.6/site-packages (from -r pip_requirements.txt (line 74)) (0.11)\n",
            "Collecting jsonref==0.2 (from -r pip_requirements.txt (line 75))\n",
            "  Downloading https://files.pythonhosted.org/packages/07/92/f8e4ac824b14af77e613984e480fa818397c72d4141fc466decb26752749/jsonref-0.2-py3-none-any.whl\n",
            "Requirement already satisfied: jsonschema==2.6.0 in /root/miniconda3/lib/python3.6/site-packages (from -r pip_requirements.txt (line 76)) (2.6.0)\n",
            "Requirement already satisfied: jupyter==1.0.0 in /root/miniconda3/lib/python3.6/site-packages (from -r pip_requirements.txt (line 77)) (1.0.0)\n",
            "Requirement already satisfied: jupyter-client==5.2.3 in /root/miniconda3/lib/python3.6/site-packages (from -r pip_requirements.txt (line 78)) (5.2.3)\n",
            "Requirement already satisfied: jupyter-console==5.2.0 in /root/miniconda3/lib/python3.6/site-packages (from -r pip_requirements.txt (line 79)) (5.2.0)\n",
            "Requirement already satisfied: jupyter-core==4.4.0 in /root/miniconda3/lib/python3.6/site-packages (from -r pip_requirements.txt (line 80)) (4.4.0)\n",
            "Requirement already satisfied: jupyterlab==0.32.1 in /root/miniconda3/lib/python3.6/site-packages (from -r pip_requirements.txt (line 81)) (0.32.1)\n",
            "Requirement already satisfied: jupyterlab-launcher==0.10.5 in /root/miniconda3/lib/python3.6/site-packages (from -r pip_requirements.txt (line 82)) (0.10.5)\n",
            "Collecting Keras==2.2.4 (from -r pip_requirements.txt (line 83))\n",
            "\u001b[?25l  Downloading https://files.pythonhosted.org/packages/5e/10/aa32dad071ce52b5502266b5c659451cfd6ffcbf14e6c8c4f16c0ff5aaab/Keras-2.2.4-py2.py3-none-any.whl (312kB)\n",
            "\u001b[K    100% |████████████████████████████████| 317kB 9.2MB/s \n",
            "\u001b[?25hCollecting Keras-Applications==1.0.7 (from -r pip_requirements.txt (line 84))\n",
            "\u001b[?25l  Downloading https://files.pythonhosted.org/packages/90/85/64c82949765cfb246bbdaf5aca2d55f400f792655927a017710a78445def/Keras_Applications-1.0.7-py2.py3-none-any.whl (51kB)\n",
            "\u001b[K    100% |████████████████████████████████| 61kB 23.4MB/s \n",
            "\u001b[?25hCollecting Keras-Preprocessing==1.0.9 (from -r pip_requirements.txt (line 85))\n",
            "\u001b[?25l  Downloading https://files.pythonhosted.org/packages/c0/bf/0315ef6a9fd3fc2346e85b0ff1f5f83ca17073f2c31ac719ab2e4da0d4a3/Keras_Preprocessing-1.0.9-py2.py3-none-any.whl (59kB)\n",
            "\u001b[K    100% |████████████████████████████████| 61kB 16.3MB/s \n",
            "\u001b[?25hRequirement already satisfied: kiwisolver==1.0.1 in /root/miniconda3/lib/python3.6/site-packages (from -r pip_requirements.txt (line 86)) (1.0.1)\n",
            "Requirement already satisfied: lazy-object-proxy==1.3.1 in /root/miniconda3/lib/python3.6/site-packages (from -r pip_requirements.txt (line 87)) (1.3.1)\n",
            "Collecting libroadrunner==1.5.3 (from -r pip_requirements.txt (line 88))\n",
            "\u001b[?25l  Downloading https://files.pythonhosted.org/packages/7a/21/1b50ad95ca6c05be4ec58ef3a0cccc13082cbda9a18a90bb16914988ac43/libroadrunner-1.5.3-cp36-cp36m-manylinux1_x86_64.whl (34.5MB)\n",
            "\u001b[K    100% |████████████████████████████████| 34.5MB 1.5MB/s \n",
            "\u001b[?25hRequirement already satisfied: llvmlite==0.23.1 in /root/miniconda3/lib/python3.6/site-packages (from -r pip_requirements.txt (line 89)) (0.23.1)\n",
            "Requirement already satisfied: locket==0.2.0 in /root/miniconda3/lib/python3.6/site-packages (from -r pip_requirements.txt (line 90)) (0.2.0)\n",
            "Requirement already satisfied: lxml==4.2.1 in /root/miniconda3/lib/python3.6/site-packages (from -r pip_requirements.txt (line 91)) (4.2.1)\n",
            "Requirement already satisfied: Markdown==2.6.11 in /root/miniconda3/lib/python3.6/site-packages (from -r pip_requirements.txt (line 92)) (2.6.11)\n",
            "Requirement already satisfied: MarkupSafe==1.0 in /root/miniconda3/lib/python3.6/site-packages (from -r pip_requirements.txt (line 93)) (1.0)\n",
            "Requirement already satisfied: matplotlib==2.2.2 in /root/miniconda3/lib/python3.6/site-packages (from -r pip_requirements.txt (line 94)) (2.2.2)\n",
            "Requirement already satisfied: mccabe==0.6.1 in /root/miniconda3/lib/python3.6/site-packages (from -r pip_requirements.txt (line 95)) (0.6.1)\n",
            "Requirement already satisfied: mdtraj==1.9.1 in /root/miniconda3/lib/python3.6/site-packages (from -r pip_requirements.txt (line 96)) (1.9.1)\n",
            "Requirement already satisfied: mistune==0.8.3 in /root/miniconda3/lib/python3.6/site-packages (from -r pip_requirements.txt (line 97)) (0.8.3)\n",
            "Requirement already satisfied: mkl-fft==1.0.4 in /root/miniconda3/lib/python3.6/site-packages (from -r pip_requirements.txt (line 98)) (1.0.4)\n",
            "Requirement already satisfied: mkl-random==1.0.1 in /root/miniconda3/lib/python3.6/site-packages (from -r pip_requirements.txt (line 99)) (1.0.1)\n",
            "Collecting MolVS==0.1.1 (from -r pip_requirements.txt (line 100))\n",
            "\u001b[?25l  Downloading https://files.pythonhosted.org/packages/08/dc/d948e83b97f2c420cb6c7e2143ae349560d3b5b061945f1b2a4eefb0231c/MolVS-0.1.1.tar.gz (61kB)\n",
            "\u001b[K    100% |████████████████████████████████| 71kB 27.3MB/s \n",
            "\u001b[?25hCollecting monotonic==1.5 (from -r pip_requirements.txt (line 101))\n",
            "  Downloading https://files.pythonhosted.org/packages/ac/aa/063eca6a416f397bd99552c534c6d11d57f58f2e94c14780f3bbf818c4cf/monotonic-1.5-py2.py3-none-any.whl\n",
            "Collecting mordred==1.2.0 (from -r pip_requirements.txt (line 102))\n",
            "\u001b[?25l  Downloading https://files.pythonhosted.org/packages/93/3d/26c908ece761adafcea06320bf8fe73f4de69979273fb164226dc6038c39/mordred-1.2.0.tar.gz (128kB)\n",
            "\u001b[K    100% |████████████████████████████████| 133kB 33.6MB/s \n",
            "\u001b[?25hRequirement already satisfied: more-itertools==4.1.0 in /root/miniconda3/lib/python3.6/site-packages (from -r pip_requirements.txt (line 103)) (4.1.0)\n",
            "Requirement already satisfied: mpmath==1.0.0 in /root/miniconda3/lib/python3.6/site-packages (from -r pip_requirements.txt (line 104)) (1.0.0)\n",
            "Collecting msgpack==0.6.1 (from -r pip_requirements.txt (line 105))\n",
            "\u001b[?25l  Downloading https://files.pythonhosted.org/packages/92/7e/ae9e91c1bb8d846efafd1f353476e3fd7309778b582d2fb4cea4cc15b9a2/msgpack-0.6.1-cp36-cp36m-manylinux1_x86_64.whl (248kB)\n",
            "\u001b[K    100% |████████████████████████████████| 256kB 32.7MB/s \n",
            "\u001b[?25hRequirement already satisfied: msgpack-python==0.5.6 in /root/miniconda3/lib/python3.6/site-packages (from -r pip_requirements.txt (line 106)) (0.5.6)\n",
            "Requirement already satisfied: multipledispatch==0.5.0 in /root/miniconda3/lib/python3.6/site-packages (from -r pip_requirements.txt (line 107)) (0.5.0)\n",
            "Requirement already satisfied: navigator-updater==0.2.1 in /root/miniconda3/lib/python3.6/site-packages (from -r pip_requirements.txt (line 108)) (0.2.1)\n",
            "Requirement already satisfied: nbconvert==5.3.1 in /root/miniconda3/lib/python3.6/site-packages (from -r pip_requirements.txt (line 109)) (5.3.1)\n",
            "Requirement already satisfied: nbformat==4.4.0 in /root/miniconda3/lib/python3.6/site-packages (from -r pip_requirements.txt (line 110)) (4.4.0)\n",
            "Requirement already satisfied: networkx==2.1 in /root/miniconda3/lib/python3.6/site-packages (from -r pip_requirements.txt (line 111)) (2.1)\n",
            "Requirement already satisfied: nltk==3.3 in /root/miniconda3/lib/python3.6/site-packages (from -r pip_requirements.txt (line 112)) (3.3)\n",
            "Requirement already satisfied: nose==1.3.7 in /root/miniconda3/lib/python3.6/site-packages (from -r pip_requirements.txt (line 113)) (1.3.7)\n",
            "Requirement already satisfied: notebook==5.5.0 in /root/miniconda3/lib/python3.6/site-packages (from -r pip_requirements.txt (line 114)) (5.5.0)\n",
            "Requirement already satisfied: numba==0.38.0 in /root/miniconda3/lib/python3.6/site-packages (from -r pip_requirements.txt (line 115)) (0.38.0)\n",
            "Requirement already satisfied: numexpr==2.6.5 in /root/miniconda3/lib/python3.6/site-packages (from -r pip_requirements.txt (line 116)) (2.6.5)\n",
            "Collecting numpy==1.16.2 (from -r pip_requirements.txt (line 117))\n",
            "\u001b[?25l  Downloading https://files.pythonhosted.org/packages/35/d5/4f8410ac303e690144f0a0603c4b8fd3b986feb2749c435f7cdbb288f17e/numpy-1.16.2-cp36-cp36m-manylinux1_x86_64.whl (17.3MB)\n",
            "\u001b[K    100% |████████████████████████████████| 17.3MB 2.5MB/s \n",
            "\u001b[?25hRequirement already satisfied: numpydoc==0.8.0 in /root/miniconda3/lib/python3.6/site-packages (from -r pip_requirements.txt (line 118)) (0.8.0)\n",
            "Requirement already satisfied: odo==0.5.1 in /root/miniconda3/lib/python3.6/site-packages (from -r pip_requirements.txt (line 119)) (0.5.1)\n",
            "Requirement already satisfied: olefile==0.45.1 in /root/miniconda3/lib/python3.6/site-packages (from -r pip_requirements.txt (line 120)) (0.45.1)\n",
            "Requirement already satisfied: OpenMM==7.2.2 in /root/miniconda3/lib/python3.6/site-packages (from -r pip_requirements.txt (line 121)) (7.2.2)\n",
            "Requirement already satisfied: openpyxl==2.5.3 in /root/miniconda3/lib/python3.6/site-packages (from -r pip_requirements.txt (line 122)) (2.5.3)\n",
            "Requirement already satisfied: packaging==17.1 in /root/miniconda3/lib/python3.6/site-packages (from -r pip_requirements.txt (line 123)) (17.1)\n",
            "Requirement already satisfied: pandas==0.22.0 in /root/miniconda3/lib/python3.6/site-packages (from -r pip_requirements.txt (line 124)) (0.22.0)\n",
            "Requirement already satisfied: pandocfilters==1.4.2 in /root/miniconda3/lib/python3.6/site-packages (from -r pip_requirements.txt (line 125)) (1.4.2)\n",
            "Requirement already satisfied: parso==0.2.0 in /root/miniconda3/lib/python3.6/site-packages (from -r pip_requirements.txt (line 126)) (0.2.0)\n",
            "Requirement already satisfied: partd==0.3.8 in /root/miniconda3/lib/python3.6/site-packages (from -r pip_requirements.txt (line 127)) (0.3.8)\n",
            "Requirement already satisfied: path.py==11.0.1 in /root/miniconda3/lib/python3.6/site-packages (from -r pip_requirements.txt (line 128)) (11.0.1)\n",
            "Requirement already satisfied: pathlib2==2.3.2 in /root/miniconda3/lib/python3.6/site-packages (from -r pip_requirements.txt (line 129)) (2.3.2)\n",
            "Requirement already satisfied: patsy==0.5.0 in /root/miniconda3/lib/python3.6/site-packages (from -r pip_requirements.txt (line 130)) (0.5.0)\n",
            "Requirement already satisfied: pdbfixer==1.4 in /root/miniconda3/lib/python3.6/site-packages (from -r pip_requirements.txt (line 131)) (1.4)\n",
            "Requirement already satisfied: pep8==1.7.1 in /root/miniconda3/lib/python3.6/site-packages (from -r pip_requirements.txt (line 132)) (1.7.1)\n",
            "Requirement already satisfied: pexpect==4.5.0 in /root/miniconda3/lib/python3.6/site-packages (from -r pip_requirements.txt (line 133)) (4.5.0)\n",
            "Requirement already satisfied: pickleshare==0.7.4 in /root/miniconda3/lib/python3.6/site-packages (from -r pip_requirements.txt (line 134)) (0.7.4)\n",
            "Requirement already satisfied: Pillow==5.0.0 in /root/miniconda3/lib/python3.6/site-packages (from -r pip_requirements.txt (line 135)) (5.0.0)\n",
            "Requirement already satisfied: pkginfo==1.4.2 in /root/miniconda3/lib/python3.6/site-packages (from -r pip_requirements.txt (line 136)) (1.4.2)\n",
            "Requirement already satisfied: pluggy==0.6.0 in /root/miniconda3/lib/python3.6/site-packages (from -r pip_requirements.txt (line 137)) (0.6.0)\n",
            "Requirement already satisfied: ply==3.11 in /root/miniconda3/lib/python3.6/site-packages (from -r pip_requirements.txt (line 138)) (3.11)\n",
            "Requirement already satisfied: prompt-toolkit==1.0.15 in /root/miniconda3/lib/python3.6/site-packages (from -r pip_requirements.txt (line 139)) (1.0.15)\n",
            "Requirement already satisfied: protobuf==3.6.0 in /root/miniconda3/lib/python3.6/site-packages (from -r pip_requirements.txt (line 140)) (3.6.0)\n",
            "Requirement already satisfied: psutil==5.4.5 in /root/miniconda3/lib/python3.6/site-packages (from -r pip_requirements.txt (line 141)) (5.4.5)\n",
            "Requirement already satisfied: ptyprocess==0.5.2 in /root/miniconda3/lib/python3.6/site-packages (from -r pip_requirements.txt (line 142)) (0.5.2)\n",
            "Requirement already satisfied: py==1.5.3 in /root/miniconda3/lib/python3.6/site-packages (from -r pip_requirements.txt (line 143)) (1.5.3)\n",
            "Collecting py4j==0.10.7 (from -r pip_requirements.txt (line 144))\n",
            "\u001b[?25l  Downloading https://files.pythonhosted.org/packages/e3/53/c737818eb9a7dc32a7cd4f1396e787bd94200c3997c72c1dbe028587bd76/py4j-0.10.7-py2.py3-none-any.whl (197kB)\n",
            "\u001b[K    100% |████████████████████████████████| 204kB 33.8MB/s \n",
            "\u001b[?25hCollecting pyaml==18.11.0 (from -r pip_requirements.txt (line 145))\n",
            "  Downloading https://files.pythonhosted.org/packages/c5/e1/1523fb1dab744e2c6b1f02446f2139a78726c18c062a8ddd53875abb20f8/pyaml-18.11.0-py2.py3-none-any.whl\n",
            "Collecting pyarrow==0.12.0 (from -r pip_requirements.txt (line 146))\n",
            "\u001b[?25l  Downloading https://files.pythonhosted.org/packages/42/be/8682e7f6c12dd42f31f32b18d5d61b4f578f12aaa9058081aef954a481d3/pyarrow-0.12.0-cp36-cp36m-manylinux1_x86_64.whl (12.5MB)\n",
            "\u001b[K    100% |████████████████████████████████| 12.5MB 4.8MB/s \n",
            "\u001b[?25hRequirement already satisfied: pycodestyle==2.4.0 in /root/miniconda3/lib/python3.6/site-packages (from -r pip_requirements.txt (line 147)) (2.4.0)\n",
            "Requirement already satisfied: pycosat==0.6.3 in /root/miniconda3/lib/python3.6/site-packages (from -r pip_requirements.txt (line 148)) (0.6.3)\n",
            "Requirement already satisfied: pycparser==2.18 in /root/miniconda3/lib/python3.6/site-packages (from -r pip_requirements.txt (line 149)) (2.18)\n",
            "Requirement already satisfied: pycrypto==2.6.1 in /root/miniconda3/lib/python3.6/site-packages (from -r pip_requirements.txt (line 150)) (2.6.1)\n",
            "Requirement already satisfied: pycurl==7.43.0.1 in /root/miniconda3/lib/python3.6/site-packages (from -r pip_requirements.txt (line 151)) (7.43.0.1)\n",
            "Requirement already satisfied: pyflakes==1.6.0 in /root/miniconda3/lib/python3.6/site-packages (from -r pip_requirements.txt (line 152)) (1.6.0)\n",
            "Requirement already satisfied: Pygments==2.2.0 in /root/miniconda3/lib/python3.6/site-packages (from -r pip_requirements.txt (line 153)) (2.2.0)\n",
            "Requirement already satisfied: pylint==1.8.4 in /root/miniconda3/lib/python3.6/site-packages (from -r pip_requirements.txt (line 154)) (1.8.4)\n",
            "Requirement already satisfied: pyodbc==4.0.23 in /root/miniconda3/lib/python3.6/site-packages (from -r pip_requirements.txt (line 155)) (4.0.23)\n",
            "Requirement already satisfied: pyOpenSSL==18.0.0 in /root/miniconda3/lib/python3.6/site-packages (from -r pip_requirements.txt (line 156)) (18.0.0)\n",
            "Requirement already satisfied: pyparsing==2.2.0 in /root/miniconda3/lib/python3.6/site-packages (from -r pip_requirements.txt (line 157)) (2.2.0)\n",
            "Requirement already satisfied: PySocks==1.6.8 in /root/miniconda3/lib/python3.6/site-packages (from -r pip_requirements.txt (line 158)) (1.6.8)\n",
            "Collecting pyspark==2.4.0 (from -r pip_requirements.txt (line 159))\n",
            "\u001b[?25l  Downloading https://files.pythonhosted.org/packages/88/01/a37e827c2d80c6a754e40e99b9826d978b55254cc6c6672b5b08f2e18a7f/pyspark-2.4.0.tar.gz (213.4MB)\n",
            "\u001b[K    100% |████████████████████████████████| 213.4MB 160kB/s \n",
            "\u001b[?25hRequirement already satisfied: pytest==3.5.1 in /root/miniconda3/lib/python3.6/site-packages (from -r pip_requirements.txt (line 160)) (3.5.1)\n",
            "Requirement already satisfied: pytest-arraydiff==0.2 in /root/miniconda3/lib/python3.6/site-packages (from -r pip_requirements.txt (line 161)) (0.2)\n",
            "Requirement already satisfied: pytest-astropy==0.3.0 in /root/miniconda3/lib/python3.6/site-packages (from -r pip_requirements.txt (line 162)) (0.3.0)\n",
            "Requirement already satisfied: pytest-doctestplus==0.1.3 in /root/miniconda3/lib/python3.6/site-packages (from -r pip_requirements.txt (line 163)) (0.1.3)\n",
            "Requirement already satisfied: pytest-openfiles==0.3.0 in /root/miniconda3/lib/python3.6/site-packages (from -r pip_requirements.txt (line 164)) (0.3.0)\n",
            "Requirement already satisfied: pytest-remotedata==0.2.1 in /root/miniconda3/lib/python3.6/site-packages (from -r pip_requirements.txt (line 165)) (0.2.1)\n",
            "Requirement already satisfied: python-dateutil==2.7.3 in /root/miniconda3/lib/python3.6/site-packages (from -r pip_requirements.txt (line 166)) (2.7.3)\n",
            "Requirement already satisfied: pytz==2018.4 in /root/miniconda3/lib/python3.6/site-packages (from -r pip_requirements.txt (line 167)) (2018.4)\n",
            "Requirement already satisfied: PyWavelets==0.5.2 in /root/miniconda3/lib/python3.6/site-packages (from -r pip_requirements.txt (line 168)) (0.5.2)\n",
            "Requirement already satisfied: PyYAML==3.12 in /root/miniconda3/lib/python3.6/site-packages (from -r pip_requirements.txt (line 169)) (3.12)\n",
            "Requirement already satisfied: pyzmq==17.0.0 in /root/miniconda3/lib/python3.6/site-packages (from -r pip_requirements.txt (line 170)) (17.0.0)\n",
            "Requirement already satisfied: QtAwesome==0.4.4 in /root/miniconda3/lib/python3.6/site-packages (from -r pip_requirements.txt (line 171)) (0.4.4)\n",
            "Requirement already satisfied: qtconsole==4.3.1 in /root/miniconda3/lib/python3.6/site-packages (from -r pip_requirements.txt (line 172)) (4.3.1)\n",
            "Requirement already satisfied: QtPy==1.4.1 in /root/miniconda3/lib/python3.6/site-packages (from -r pip_requirements.txt (line 173)) (1.4.1)\n",
            "Requirement already satisfied: requests==2.18.4 in /root/miniconda3/lib/python3.6/site-packages (from -r pip_requirements.txt (line 174)) (2.18.4)\n",
            "Collecting rfc3987==1.3.8 (from -r pip_requirements.txt (line 175))\n",
            "  Downloading https://files.pythonhosted.org/packages/65/d4/f7407c3d15d5ac779c3dd34fbbc6ea2090f77bd7dd12f207ccf881551208/rfc3987-1.3.8-py2.py3-none-any.whl\n",
            "Requirement already satisfied: rope==0.10.7 in /root/miniconda3/lib/python3.6/site-packages (from -r pip_requirements.txt (line 176)) (0.10.7)\n",
            "Requirement already satisfied: ruamel-yaml==0.15.35 in /root/miniconda3/lib/python3.6/site-packages (from -r pip_requirements.txt (line 177)) (0.15.35)\n",
            "Requirement already satisfied: scikit-image==0.13.1 in /root/miniconda3/lib/python3.6/site-packages (from -r pip_requirements.txt (line 178)) (0.13.1)\n",
            "Requirement already satisfied: scikit-learn==0.19.1 in /root/miniconda3/lib/python3.6/site-packages (from -r pip_requirements.txt (line 179)) (0.19.1)\n",
            "Requirement already satisfied: scipy==1.1.0 in /root/miniconda3/lib/python3.6/site-packages (from -r pip_requirements.txt (line 180)) (1.1.0)\n",
            "Requirement already satisfied: seaborn==0.9.0 in /root/miniconda3/lib/python3.6/site-packages (from -r pip_requirements.txt (line 181)) (0.9.0)\n",
            "Requirement already satisfied: Send2Trash==1.5.0 in /root/miniconda3/lib/python3.6/site-packages (from -r pip_requirements.txt (line 182)) (1.5.0)\n",
            "Requirement already satisfied: simdna==0.4.2 in /root/miniconda3/lib/python3.6/site-packages (from -r pip_requirements.txt (line 183)) (0.4.2)\n",
            "Requirement already satisfied: simplegeneric==0.8.1 in /root/miniconda3/lib/python3.6/site-packages (from -r pip_requirements.txt (line 184)) (0.8.1)\n",
            "Collecting simplejson==3.16.0 (from -r pip_requirements.txt (line 185))\n",
            "\u001b[?25l  Downloading https://files.pythonhosted.org/packages/e3/24/c35fb1c1c315fc0fffe61ea00d3f88e85469004713dab488dee4f35b0aff/simplejson-3.16.0.tar.gz (81kB)\n",
            "\u001b[K    100% |████████████████████████████████| 81kB 20.0MB/s \n",
            "\u001b[?25hRequirement already satisfied: singledispatch==3.4.0.3 in /root/miniconda3/lib/python3.6/site-packages (from -r pip_requirements.txt (line 186)) (3.4.0.3)\n",
            "Requirement already satisfied: six==1.11.0 in /root/miniconda3/lib/python3.6/site-packages (from -r pip_requirements.txt (line 187)) (1.11.0)\n",
            "Requirement already satisfied: snowballstemmer==1.2.1 in /root/miniconda3/lib/python3.6/site-packages (from -r pip_requirements.txt (line 188)) (1.2.1)\n",
            "Requirement already satisfied: sortedcollections==0.6.1 in /root/miniconda3/lib/python3.6/site-packages (from -r pip_requirements.txt (line 189)) (0.6.1)\n",
            "Requirement already satisfied: sortedcontainers==1.5.10 in /root/miniconda3/lib/python3.6/site-packages (from -r pip_requirements.txt (line 190)) (1.5.10)\n",
            "Requirement already satisfied: Sphinx==1.7.4 in /root/miniconda3/lib/python3.6/site-packages (from -r pip_requirements.txt (line 191)) (1.7.4)\n",
            "Requirement already satisfied: sphinxcontrib-websupport==1.0.1 in /root/miniconda3/lib/python3.6/site-packages (from -r pip_requirements.txt (line 192)) (1.0.1)\n",
            "Requirement already satisfied: spyder==3.2.8 in /root/miniconda3/lib/python3.6/site-packages (from -r pip_requirements.txt (line 193)) (3.2.8)\n",
            "Requirement already satisfied: SQLAlchemy==1.2.7 in /root/miniconda3/lib/python3.6/site-packages (from -r pip_requirements.txt (line 194)) (1.2.7)\n",
            "Requirement already satisfied: statsmodels==0.9.0 in /root/miniconda3/lib/python3.6/site-packages (from -r pip_requirements.txt (line 195)) (0.9.0)\n",
            "Collecting strict-rfc3339==0.7 (from -r pip_requirements.txt (line 196))\n",
            "  Downloading https://files.pythonhosted.org/packages/56/e4/879ef1dbd6ddea1c77c0078cd59b503368b0456bcca7d063a870ca2119d3/strict-rfc3339-0.7.tar.gz\n",
            "Collecting swagger-spec-validator==2.4.1 (from -r pip_requirements.txt (line 197))\n",
            "  Downloading https://files.pythonhosted.org/packages/e8/3b/351ede61f9b34d46e3d254889b40ecbcc1521bdb87ad17c43a6b8e4b80b2/swagger_spec_validator-2.4.1-py2.py3-none-any.whl\n",
            "Requirement already satisfied: sympy==1.1.1 in /root/miniconda3/lib/python3.6/site-packages (from -r pip_requirements.txt (line 198)) (1.1.1)\n",
            "Requirement already satisfied: tables==3.4.3 in /root/miniconda3/lib/python3.6/site-packages (from -r pip_requirements.txt (line 199)) (3.4.3)\n",
            "Requirement already satisfied: tblib==1.3.2 in /root/miniconda3/lib/python3.6/site-packages (from -r pip_requirements.txt (line 200)) (1.3.2)\n",
            "Requirement already satisfied: tensorboard==1.6.0 in /root/miniconda3/lib/python3.6/site-packages (from -r pip_requirements.txt (line 201)) (1.6.0)\n",
            "Requirement already satisfied: tensorflow==1.6.0 in /root/miniconda3/lib/python3.6/site-packages (from -r pip_requirements.txt (line 202)) (1.6.0)\n",
            "Requirement already satisfied: termcolor==1.1.0 in /root/miniconda3/lib/python3.6/site-packages (from -r pip_requirements.txt (line 203)) (1.1.0)\n",
            "Requirement already satisfied: terminado==0.8.1 in /root/miniconda3/lib/python3.6/site-packages (from -r pip_requirements.txt (line 204)) (0.8.1)\n",
            "Requirement already satisfied: testpath==0.3.1 in /root/miniconda3/lib/python3.6/site-packages (from -r pip_requirements.txt (line 205)) (0.3.1)\n",
            "Requirement already satisfied: toolz==0.9.0 in /root/miniconda3/lib/python3.6/site-packages (from -r pip_requirements.txt (line 206)) (0.9.0)\n",
            "Requirement already satisfied: torch==1.0.1.post2 in /root/miniconda3/lib/python3.6/site-packages (from -r pip_requirements.txt (line 207)) (1.0.1.post2)\n",
            "Requirement already satisfied: torchvision==0.2.2 in /root/miniconda3/lib/python3.6/site-packages (from -r pip_requirements.txt (line 208)) (0.2.2)\n",
            "Requirement already satisfied: tornado==5.0.2 in /root/miniconda3/lib/python3.6/site-packages (from -r pip_requirements.txt (line 209)) (5.0.2)\n",
            "Requirement already satisfied: traitlets==4.3.2 in /root/miniconda3/lib/python3.6/site-packages (from -r pip_requirements.txt (line 210)) (4.3.2)\n",
            "Requirement already satisfied: typing==3.6.4 in /root/miniconda3/lib/python3.6/site-packages (from -r pip_requirements.txt (line 211)) (3.6.4)\n",
            "Collecting umap-learn==0.3.7 (from -r pip_requirements.txt (line 212))\n",
            "\u001b[?25l  Downloading https://files.pythonhosted.org/packages/4e/ce/33e260133f2a8e6c24a434e22de31f1dff01d58b3beec033d5c1b544bfb7/umap-learn-0.3.7.tar.gz (40kB)\n",
            "\u001b[K    100% |████████████████████████████████| 40kB 17.8MB/s \n",
            "\u001b[?25hRequirement already satisfied: unicodecsv==0.14.1 in /root/miniconda3/lib/python3.6/site-packages (from -r pip_requirements.txt (line 213)) (0.14.1)\n",
            "Requirement already satisfied: urllib3==1.22 in /root/miniconda3/lib/python3.6/site-packages (from -r pip_requirements.txt (line 214)) (1.22)\n",
            "Requirement already satisfied: wcwidth==0.1.7 in /root/miniconda3/lib/python3.6/site-packages (from -r pip_requirements.txt (line 215)) (0.1.7)\n",
            "Collecting webcolors==1.8.1 (from -r pip_requirements.txt (line 216))\n",
            "  Downloading https://files.pythonhosted.org/packages/1d/44/c4902683be73beba20afd299705e11f0a753a01cc7f9d6a070841848605b/webcolors-1.8.1-py2.py3-none-any.whl\n",
            "Requirement already satisfied: webencodings==0.5.1 in /root/miniconda3/lib/python3.6/site-packages (from -r pip_requirements.txt (line 217)) (0.5.1)\n",
            "Requirement already satisfied: Werkzeug==0.14.1 in /root/miniconda3/lib/python3.6/site-packages (from -r pip_requirements.txt (line 218)) (0.14.1)\n",
            "Requirement already satisfied: widgetsnbextension==3.2.1 in /root/miniconda3/lib/python3.6/site-packages (from -r pip_requirements.txt (line 219)) (3.2.1)\n",
            "Requirement already satisfied: wrapt==1.10.11 in /root/miniconda3/lib/python3.6/site-packages (from -r pip_requirements.txt (line 220)) (1.10.11)\n",
            "Requirement already satisfied: xgboost==0.6a2 in /root/miniconda3/lib/python3.6/site-packages (from -r pip_requirements.txt (line 221)) (0.6a2)\n",
            "Requirement already satisfied: xlrd==1.1.0 in /root/miniconda3/lib/python3.6/site-packages (from -r pip_requirements.txt (line 222)) (1.1.0)\n",
            "Requirement already satisfied: XlsxWriter==1.0.4 in /root/miniconda3/lib/python3.6/site-packages (from -r pip_requirements.txt (line 223)) (1.0.4)\n",
            "Requirement already satisfied: xlwt==1.3.0 in /root/miniconda3/lib/python3.6/site-packages (from -r pip_requirements.txt (line 224)) (1.3.0)\n",
            "Requirement already satisfied: zict==0.1.3 in /root/miniconda3/lib/python3.6/site-packages (from -r pip_requirements.txt (line 225)) (0.1.3)\n",
            "Requirement already satisfied: setuptools in /root/miniconda3/lib/python3.6/site-packages (from anaconda-client==1.6.14->-r pip_requirements.txt (line 3)) (39.1.0)\n",
            "Requirement already satisfied: wheel>=0.26; python_version >= \"3\" in /root/miniconda3/lib/python3.6/site-packages (from tensorboard==1.6.0->-r pip_requirements.txt (line 201)) (0.31.1)\n",
            "Building wheels for collected packages: anyconfig, feather-format, MolVS, mordred, pyspark, simplejson, strict-rfc3339, umap-learn\n",
            "  Running setup.py bdist_wheel for anyconfig ... \u001b[?25ldone\n",
            "\u001b[?25h  Stored in directory: /root/.cache/pip/wheels/b7/a5/72/d61e674d700a5175495a85c7d9717efc60b6d781cd5264700c\n",
            "  Running setup.py bdist_wheel for feather-format ... \u001b[?25ldone\n",
            "\u001b[?25h  Stored in directory: /root/.cache/pip/wheels/85/7d/12/2dfa5c0195f921ac935f5e8f27deada74972edc0ae9988a9c1\n",
            "  Running setup.py bdist_wheel for MolVS ... \u001b[?25ldone\n",
            "\u001b[?25h  Stored in directory: /root/.cache/pip/wheels/30/37/a8/8ac8147605c9de6b45ffd66d1cc19761d41467db12b34a0de8\n",
            "  Running setup.py bdist_wheel for mordred ... \u001b[?25ldone\n",
            "\u001b[?25h  Stored in directory: /root/.cache/pip/wheels/ac/74/3f/2fd81b1187013f2eadb15620434813f1824c4c03b7bd1f94f6\n",
            "  Running setup.py bdist_wheel for pyspark ... \u001b[?25ldone\n",
            "\u001b[?25h  Stored in directory: /root/.cache/pip/wheels/cd/54/c2/abfcc942eddeaa7101228ebd6127a30dbdf903c72db4235b23\n",
            "  Running setup.py bdist_wheel for simplejson ... \u001b[?25ldone\n",
            "\u001b[?25h  Stored in directory: /root/.cache/pip/wheels/5d/1a/1e/0350bb3df3e74215cd91325344cc86c2c691f5306eb4d22c77\n",
            "  Running setup.py bdist_wheel for strict-rfc3339 ... \u001b[?25ldone\n",
            "\u001b[?25h  Stored in directory: /root/.cache/pip/wheels/bb/af/c9/b6e9fb5f9b2470e4ed2a7241c9ab3a8cdd3bc8555ae02ca2e6\n",
            "  Running setup.py bdist_wheel for umap-learn ... \u001b[?25ldone\n",
            "\u001b[?25h  Stored in directory: /root/.cache/pip/wheels/be/a5/95/6cb125db66c98d790fa627977d6cacd16c59a6bfeeab957aa3\n",
            "Successfully built anyconfig feather-format MolVS mordred pyspark simplejson strict-rfc3339 umap-learn\n",
            "Installing collected packages: anyconfig, monotonic, jsonref, swagger-spec-validator, simplejson, bravado-core, bravado, numpy, pyarrow, feather-format, Keras-Preprocessing, Keras-Applications, Keras, libroadrunner, MolVS, mordred, msgpack, py4j, pyaml, pyspark, rfc3987, strict-rfc3339, umap-learn, webcolors\n",
            "  Found existing installation: numpy 1.15.4\n",
            "    Uninstalling numpy-1.15.4:\n",
            "      Successfully uninstalled numpy-1.15.4\n",
            "Successfully installed Keras-2.2.4 Keras-Applications-1.0.7 Keras-Preprocessing-1.0.9 MolVS-0.1.1 anyconfig-0.9.7 bravado-10.2.1 bravado-core-5.10.0 feather-format-0.4.0 jsonref-0.2 libroadrunner-1.5.3 monotonic-1.5 mordred-1.2.0 msgpack-0.6.1 numpy-1.16.2 py4j-0.10.7 pyaml-18.11.0 pyarrow-0.12.0 pyspark-2.4.0 rfc3987-1.3.8 simplejson-3.16.0 strict-rfc3339-0.7 swagger-spec-validator-2.4.1 umap-learn-0.3.7 webcolors-1.8.1\n",
            "/content\n"
          ],
          "name": "stdout"
        }
      ]
    },
    {
      "cell_type": "code",
      "metadata": {
        "id": "mGZQvkfnjU0L",
        "colab_type": "code",
        "colab": {
          "base_uri": "https://localhost:8080/",
          "height": 1000
        },
        "outputId": "04280c38-1a12-4723-cbce-026784ab97db"
      },
      "source": [
        "%cd /content/AMPL\n",
        "!./build.sh\n",
        "!./install.sh system\n",
        "%cd /content"
      ],
      "execution_count": 9,
      "outputs": [
        {
          "output_type": "stream",
          "text": [
            "/content/AMPL\n",
            "running build\n",
            "running build_py\n",
            "creating /content/AMPL.build/ampl/lib\n",
            "creating /content/AMPL.build/ampl/lib/atomsci\n",
            "copying atomsci/__init__.py -> /content/AMPL.build/ampl/lib/atomsci\n",
            "creating /content/AMPL.build/ampl/lib/atomsci/ddm\n",
            "copying atomsci/ddm/__init__.py -> /content/AMPL.build/ampl/lib/atomsci/ddm\n",
            "creating /content/AMPL.build/ampl/lib/atomsci/ddm/utils\n",
            "copying atomsci/ddm/utils/llnl_utils.py -> /content/AMPL.build/ampl/lib/atomsci/ddm/utils\n",
            "copying atomsci/ddm/utils/genTestset.py -> /content/AMPL.build/ampl/lib/atomsci/ddm/utils\n",
            "copying atomsci/ddm/utils/data_curation_functions.py -> /content/AMPL.build/ampl/lib/atomsci/ddm/utils\n",
            "copying atomsci/ddm/utils/datastore_functions.py -> /content/AMPL.build/ampl/lib/atomsci/ddm/utils\n",
            "copying atomsci/ddm/utils/pubchem_utils.py -> /content/AMPL.build/ampl/lib/atomsci/ddm/utils\n",
            "copying atomsci/ddm/utils/hyperparam_search_wrapper.py -> /content/AMPL.build/ampl/lib/atomsci/ddm/utils\n",
            "copying atomsci/ddm/utils/curate_data.py -> /content/AMPL.build/ampl/lib/atomsci/ddm/utils\n",
            "copying atomsci/ddm/utils/struct_utils.py -> /content/AMPL.build/ampl/lib/atomsci/ddm/utils\n",
            "copying atomsci/ddm/utils/open-docs.py -> /content/AMPL.build/ampl/lib/atomsci/ddm/utils\n",
            "copying atomsci/ddm/utils/__init__.py -> /content/AMPL.build/ampl/lib/atomsci/ddm/utils\n",
            "copying atomsci/ddm/utils/process_slurm.py -> /content/AMPL.build/ampl/lib/atomsci/ddm/utils\n",
            "creating /content/AMPL.build/ampl/lib/atomsci/ddm/pipeline\n",
            "copying atomsci/ddm/pipeline/model_datasets.py -> /content/AMPL.build/ampl/lib/atomsci/ddm/pipeline\n",
            "copying atomsci/ddm/pipeline/dist_metrics.py -> /content/AMPL.build/ampl/lib/atomsci/ddm/pipeline\n",
            "copying atomsci/ddm/pipeline/hyper_perf_plots.py -> /content/AMPL.build/ampl/lib/atomsci/ddm/pipeline\n",
            "copying atomsci/ddm/pipeline/model_tracker.py -> /content/AMPL.build/ampl/lib/atomsci/ddm/pipeline\n",
            "copying atomsci/ddm/pipeline/chem_diversity.py -> /content/AMPL.build/ampl/lib/atomsci/ddm/pipeline\n",
            "copying atomsci/ddm/pipeline/model_pipeline.py -> /content/AMPL.build/ampl/lib/atomsci/ddm/pipeline\n",
            "copying atomsci/ddm/pipeline/perf_data.py -> /content/AMPL.build/ampl/lib/atomsci/ddm/pipeline\n",
            "copying atomsci/ddm/pipeline/perf_plots.py -> /content/AMPL.build/ampl/lib/atomsci/ddm/pipeline\n",
            "copying atomsci/ddm/pipeline/temporal_splitter.py -> /content/AMPL.build/ampl/lib/atomsci/ddm/pipeline\n",
            "copying atomsci/ddm/pipeline/ave_splitter.py -> /content/AMPL.build/ampl/lib/atomsci/ddm/pipeline\n",
            "copying atomsci/ddm/pipeline/model_wrapper.py -> /content/AMPL.build/ampl/lib/atomsci/ddm/pipeline\n",
            "copying atomsci/ddm/pipeline/compare_models.py -> /content/AMPL.build/ampl/lib/atomsci/ddm/pipeline\n",
            "copying atomsci/ddm/pipeline/featurization.py -> /content/AMPL.build/ampl/lib/atomsci/ddm/pipeline\n",
            "copying atomsci/ddm/pipeline/transformations.py -> /content/AMPL.build/ampl/lib/atomsci/ddm/pipeline\n",
            "copying atomsci/ddm/pipeline/parameter_parser.py -> /content/AMPL.build/ampl/lib/atomsci/ddm/pipeline\n",
            "copying atomsci/ddm/pipeline/__init__.py -> /content/AMPL.build/ampl/lib/atomsci/ddm/pipeline\n",
            "copying atomsci/ddm/pipeline/splitting.py -> /content/AMPL.build/ampl/lib/atomsci/ddm/pipeline\n",
            "copying atomsci/ddm/pipeline/diversity_plots.py -> /content/AMPL.build/ampl/lib/atomsci/ddm/pipeline\n",
            "running egg_info\n",
            "creating /content/AMPL.build/ampl/atomsci_ampl.egg-info\n",
            "writing /content/AMPL.build/ampl/atomsci_ampl.egg-info/PKG-INFO\n",
            "writing dependency_links to /content/AMPL.build/ampl/atomsci_ampl.egg-info/dependency_links.txt\n",
            "writing namespace_packages to /content/AMPL.build/ampl/atomsci_ampl.egg-info/namespace_packages.txt\n",
            "writing top-level names to /content/AMPL.build/ampl/atomsci_ampl.egg-info/top_level.txt\n",
            "writing manifest file '/content/AMPL.build/ampl/atomsci_ampl.egg-info/SOURCES.txt'\n",
            "reading manifest template 'MANIFEST.in'\n",
            "warning: no files found matching 'atomsci/*/*.yaml'\n",
            "writing manifest file '/content/AMPL.build/ampl/atomsci_ampl.egg-info/SOURCES.txt'\n",
            "copying atomsci/ddm/Delaney_Example.ipynb -> /content/AMPL.build/ampl/lib/atomsci/ddm\n",
            "copying atomsci/ddm/Makefile -> /content/AMPL.build/ampl/lib/atomsci/ddm\n",
            "creating /content/AMPL.build/ampl/lib/atomsci/ddm/config\n",
            "copying atomsci/ddm/config/config_graphconv_fit_NN.json -> /content/AMPL.build/ampl/lib/atomsci/ddm/config\n",
            "copying atomsci/ddm/config/config_mordred_fit_RF.json -> /content/AMPL.build/ampl/lib/atomsci/ddm/config\n",
            "creating /content/AMPL.build/ampl/lib/atomsci/ddm/config_files\n",
            "copying atomsci/ddm/config_files/sol_chembl_scaffold_ecfp_nn_hyper_config1.json -> /content/AMPL.build/ampl/lib/atomsci/ddm/config_files\n",
            "copying atomsci/ddm/config_files/sol_chembl_scaffold_graphconv_nn_hyper_config1.json -> /content/AMPL.build/ampl/lib/atomsci/ddm/config_files\n",
            "copying atomsci/ddm/config_files/sol_chembl_scaffold_mordred_nn_hyper_config1.json -> /content/AMPL.build/ampl/lib/atomsci/ddm/config_files\n",
            "creating /content/AMPL.build/ampl/lib/atomsci/ddm/data\n",
            "copying atomsci/ddm/data/descriptor_sets_sources_by_descr_type.csv -> /content/AMPL.build/ampl/lib/atomsci/ddm/data\n",
            "creating /content/AMPL.build/ampl/lib/atomsci/ddm/docs\n",
            "copying atomsci/ddm/docs/ATOM_cymatics_black_wordmark.jpg -> /content/AMPL.build/ampl/lib/atomsci/ddm/docs\n",
            "copying atomsci/ddm/docs/ATOM_wordmark_black_transparent.png -> /content/AMPL.build/ampl/lib/atomsci/ddm/docs\n",
            "copying atomsci/ddm/docs/Makefile -> /content/AMPL.build/ampl/lib/atomsci/ddm/docs\n",
            "copying atomsci/ddm/docs/PARAMETERS.md -> /content/AMPL.build/ampl/lib/atomsci/ddm/docs\n",
            "creating /content/AMPL.build/ampl/lib/atomsci/ddm/docs/build\n",
            "creating /content/AMPL.build/ampl/lib/atomsci/ddm/docs/build/doctrees\n",
            "copying atomsci/ddm/docs/build/doctrees/environment.pickle -> /content/AMPL.build/ampl/lib/atomsci/ddm/docs/build/doctrees\n",
            "copying atomsci/ddm/docs/build/doctrees/index.doctree -> /content/AMPL.build/ampl/lib/atomsci/ddm/docs/build/doctrees\n",
            "copying atomsci/ddm/docs/build/doctrees/modules.doctree -> /content/AMPL.build/ampl/lib/atomsci/ddm/docs/build/doctrees\n",
            "copying atomsci/ddm/docs/build/doctrees/pipeline.doctree -> /content/AMPL.build/ampl/lib/atomsci/ddm/docs/build/doctrees\n",
            "creating /content/AMPL.build/ampl/lib/atomsci/ddm/docs/build/html\n",
            "copying atomsci/ddm/docs/build/html/.buildinfo -> /content/AMPL.build/ampl/lib/atomsci/ddm/docs/build/html\n",
            "copying atomsci/ddm/docs/build/html/genindex.html -> /content/AMPL.build/ampl/lib/atomsci/ddm/docs/build/html\n",
            "copying atomsci/ddm/docs/build/html/index.html -> /content/AMPL.build/ampl/lib/atomsci/ddm/docs/build/html\n",
            "copying atomsci/ddm/docs/build/html/modules.html -> /content/AMPL.build/ampl/lib/atomsci/ddm/docs/build/html\n",
            "copying atomsci/ddm/docs/build/html/objects.inv -> /content/AMPL.build/ampl/lib/atomsci/ddm/docs/build/html\n",
            "copying atomsci/ddm/docs/build/html/pipeline.html -> /content/AMPL.build/ampl/lib/atomsci/ddm/docs/build/html\n",
            "copying atomsci/ddm/docs/build/html/py-modindex.html -> /content/AMPL.build/ampl/lib/atomsci/ddm/docs/build/html\n",
            "copying atomsci/ddm/docs/build/html/search.html -> /content/AMPL.build/ampl/lib/atomsci/ddm/docs/build/html\n",
            "copying atomsci/ddm/docs/build/html/searchindex.js -> /content/AMPL.build/ampl/lib/atomsci/ddm/docs/build/html\n",
            "creating /content/AMPL.build/ampl/lib/atomsci/ddm/docs/build/html/_modules\n",
            "copying atomsci/ddm/docs/build/html/_modules/index.html -> /content/AMPL.build/ampl/lib/atomsci/ddm/docs/build/html/_modules\n",
            "creating /content/AMPL.build/ampl/lib/atomsci/ddm/docs/build/html/_modules/pipeline\n",
            "copying atomsci/ddm/docs/build/html/_modules/pipeline/ave_splitter.html -> /content/AMPL.build/ampl/lib/atomsci/ddm/docs/build/html/_modules/pipeline\n",
            "copying atomsci/ddm/docs/build/html/_modules/pipeline/chem_diversity.html -> /content/AMPL.build/ampl/lib/atomsci/ddm/docs/build/html/_modules/pipeline\n",
            "copying atomsci/ddm/docs/build/html/_modules/pipeline/compare_models.html -> /content/AMPL.build/ampl/lib/atomsci/ddm/docs/build/html/_modules/pipeline\n",
            "copying atomsci/ddm/docs/build/html/_modules/pipeline/dist_metrics.html -> /content/AMPL.build/ampl/lib/atomsci/ddm/docs/build/html/_modules/pipeline\n",
            "copying atomsci/ddm/docs/build/html/_modules/pipeline/diversity_plots.html -> /content/AMPL.build/ampl/lib/atomsci/ddm/docs/build/html/_modules/pipeline\n",
            "copying atomsci/ddm/docs/build/html/_modules/pipeline/featurization.html -> /content/AMPL.build/ampl/lib/atomsci/ddm/docs/build/html/_modules/pipeline\n",
            "copying atomsci/ddm/docs/build/html/_modules/pipeline/hyper_perf_plots.html -> /content/AMPL.build/ampl/lib/atomsci/ddm/docs/build/html/_modules/pipeline\n",
            "copying atomsci/ddm/docs/build/html/_modules/pipeline/mlmt_client_wrapper.html -> /content/AMPL.build/ampl/lib/atomsci/ddm/docs/build/html/_modules/pipeline\n",
            "copying atomsci/ddm/docs/build/html/_modules/pipeline/model_datasets.html -> /content/AMPL.build/ampl/lib/atomsci/ddm/docs/build/html/_modules/pipeline\n",
            "copying atomsci/ddm/docs/build/html/_modules/pipeline/model_pipeline.html -> /content/AMPL.build/ampl/lib/atomsci/ddm/docs/build/html/_modules/pipeline\n",
            "copying atomsci/ddm/docs/build/html/_modules/pipeline/model_tracker.html -> /content/AMPL.build/ampl/lib/atomsci/ddm/docs/build/html/_modules/pipeline\n",
            "copying atomsci/ddm/docs/build/html/_modules/pipeline/model_wrapper.html -> /content/AMPL.build/ampl/lib/atomsci/ddm/docs/build/html/_modules/pipeline\n",
            "copying atomsci/ddm/docs/build/html/_modules/pipeline/parameter_parser.html -> /content/AMPL.build/ampl/lib/atomsci/ddm/docs/build/html/_modules/pipeline\n",
            "copying atomsci/ddm/docs/build/html/_modules/pipeline/perf_data.html -> /content/AMPL.build/ampl/lib/atomsci/ddm/docs/build/html/_modules/pipeline\n",
            "copying atomsci/ddm/docs/build/html/_modules/pipeline/perf_plots.html -> /content/AMPL.build/ampl/lib/atomsci/ddm/docs/build/html/_modules/pipeline\n",
            "copying atomsci/ddm/docs/build/html/_modules/pipeline/splitting.html -> /content/AMPL.build/ampl/lib/atomsci/ddm/docs/build/html/_modules/pipeline\n",
            "copying atomsci/ddm/docs/build/html/_modules/pipeline/transformations.html -> /content/AMPL.build/ampl/lib/atomsci/ddm/docs/build/html/_modules/pipeline\n",
            "creating /content/AMPL.build/ampl/lib/atomsci/ddm/docs/build/html/_sources\n",
            "copying atomsci/ddm/docs/build/html/_sources/index.rst.txt -> /content/AMPL.build/ampl/lib/atomsci/ddm/docs/build/html/_sources\n",
            "copying atomsci/ddm/docs/build/html/_sources/modules.rst.txt -> /content/AMPL.build/ampl/lib/atomsci/ddm/docs/build/html/_sources\n",
            "copying atomsci/ddm/docs/build/html/_sources/pipeline.rst.txt -> /content/AMPL.build/ampl/lib/atomsci/ddm/docs/build/html/_sources\n",
            "creating /content/AMPL.build/ampl/lib/atomsci/ddm/docs/build/html/_static\n",
            "copying atomsci/ddm/docs/build/html/_static/ajax-loader.gif -> /content/AMPL.build/ampl/lib/atomsci/ddm/docs/build/html/_static\n",
            "copying atomsci/ddm/docs/build/html/_static/basic.css -> /content/AMPL.build/ampl/lib/atomsci/ddm/docs/build/html/_static\n",
            "copying atomsci/ddm/docs/build/html/_static/comment-bright.png -> /content/AMPL.build/ampl/lib/atomsci/ddm/docs/build/html/_static\n",
            "copying atomsci/ddm/docs/build/html/_static/comment-close.png -> /content/AMPL.build/ampl/lib/atomsci/ddm/docs/build/html/_static\n",
            "copying atomsci/ddm/docs/build/html/_static/comment.png -> /content/AMPL.build/ampl/lib/atomsci/ddm/docs/build/html/_static\n",
            "copying atomsci/ddm/docs/build/html/_static/doctools.js -> /content/AMPL.build/ampl/lib/atomsci/ddm/docs/build/html/_static\n",
            "copying atomsci/ddm/docs/build/html/_static/documentation_options.js -> /content/AMPL.build/ampl/lib/atomsci/ddm/docs/build/html/_static\n",
            "copying atomsci/ddm/docs/build/html/_static/down-pressed.png -> /content/AMPL.build/ampl/lib/atomsci/ddm/docs/build/html/_static\n",
            "copying atomsci/ddm/docs/build/html/_static/down.png -> /content/AMPL.build/ampl/lib/atomsci/ddm/docs/build/html/_static\n",
            "copying atomsci/ddm/docs/build/html/_static/file.png -> /content/AMPL.build/ampl/lib/atomsci/ddm/docs/build/html/_static\n",
            "copying atomsci/ddm/docs/build/html/_static/jquery-3.1.0.js -> /content/AMPL.build/ampl/lib/atomsci/ddm/docs/build/html/_static\n",
            "copying atomsci/ddm/docs/build/html/_static/jquery-3.2.1.js -> /content/AMPL.build/ampl/lib/atomsci/ddm/docs/build/html/_static\n",
            "copying atomsci/ddm/docs/build/html/_static/jquery.js -> /content/AMPL.build/ampl/lib/atomsci/ddm/docs/build/html/_static\n",
            "copying atomsci/ddm/docs/build/html/_static/minus.png -> /content/AMPL.build/ampl/lib/atomsci/ddm/docs/build/html/_static\n",
            "copying atomsci/ddm/docs/build/html/_static/plus.png -> /content/AMPL.build/ampl/lib/atomsci/ddm/docs/build/html/_static\n",
            "copying atomsci/ddm/docs/build/html/_static/pygments.css -> /content/AMPL.build/ampl/lib/atomsci/ddm/docs/build/html/_static\n",
            "copying atomsci/ddm/docs/build/html/_static/searchtools.js -> /content/AMPL.build/ampl/lib/atomsci/ddm/docs/build/html/_static\n",
            "copying atomsci/ddm/docs/build/html/_static/underscore-1.3.1.js -> /content/AMPL.build/ampl/lib/atomsci/ddm/docs/build/html/_static\n",
            "copying atomsci/ddm/docs/build/html/_static/underscore.js -> /content/AMPL.build/ampl/lib/atomsci/ddm/docs/build/html/_static\n",
            "copying atomsci/ddm/docs/build/html/_static/up-pressed.png -> /content/AMPL.build/ampl/lib/atomsci/ddm/docs/build/html/_static\n",
            "copying atomsci/ddm/docs/build/html/_static/up.png -> /content/AMPL.build/ampl/lib/atomsci/ddm/docs/build/html/_static\n",
            "copying atomsci/ddm/docs/build/html/_static/websupport.js -> /content/AMPL.build/ampl/lib/atomsci/ddm/docs/build/html/_static\n",
            "creating /content/AMPL.build/ampl/lib/atomsci/ddm/docs/build/html/_static/css\n",
            "copying atomsci/ddm/docs/build/html/_static/css/badge_only.css -> /content/AMPL.build/ampl/lib/atomsci/ddm/docs/build/html/_static/css\n",
            "copying atomsci/ddm/docs/build/html/_static/css/theme.css -> /content/AMPL.build/ampl/lib/atomsci/ddm/docs/build/html/_static/css\n",
            "creating /content/AMPL.build/ampl/lib/atomsci/ddm/docs/build/html/_static/fonts\n",
            "copying atomsci/ddm/docs/build/html/_static/fonts/fontawesome-webfont.eot -> /content/AMPL.build/ampl/lib/atomsci/ddm/docs/build/html/_static/fonts\n",
            "copying atomsci/ddm/docs/build/html/_static/fonts/fontawesome-webfont.svg -> /content/AMPL.build/ampl/lib/atomsci/ddm/docs/build/html/_static/fonts\n",
            "copying atomsci/ddm/docs/build/html/_static/fonts/fontawesome-webfont.ttf -> /content/AMPL.build/ampl/lib/atomsci/ddm/docs/build/html/_static/fonts\n",
            "copying atomsci/ddm/docs/build/html/_static/fonts/fontawesome-webfont.woff -> /content/AMPL.build/ampl/lib/atomsci/ddm/docs/build/html/_static/fonts\n",
            "copying atomsci/ddm/docs/build/html/_static/fonts/fontawesome-webfont.woff2 -> /content/AMPL.build/ampl/lib/atomsci/ddm/docs/build/html/_static/fonts\n",
            "creating /content/AMPL.build/ampl/lib/atomsci/ddm/docs/build/html/_static/fonts/Lato\n",
            "copying atomsci/ddm/docs/build/html/_static/fonts/Lato/lato-bold.eot -> /content/AMPL.build/ampl/lib/atomsci/ddm/docs/build/html/_static/fonts/Lato\n",
            "copying atomsci/ddm/docs/build/html/_static/fonts/Lato/lato-bold.ttf -> /content/AMPL.build/ampl/lib/atomsci/ddm/docs/build/html/_static/fonts/Lato\n",
            "copying atomsci/ddm/docs/build/html/_static/fonts/Lato/lato-bold.woff -> /content/AMPL.build/ampl/lib/atomsci/ddm/docs/build/html/_static/fonts/Lato\n",
            "copying atomsci/ddm/docs/build/html/_static/fonts/Lato/lato-bold.woff2 -> /content/AMPL.build/ampl/lib/atomsci/ddm/docs/build/html/_static/fonts/Lato\n",
            "copying atomsci/ddm/docs/build/html/_static/fonts/Lato/lato-bolditalic.eot -> /content/AMPL.build/ampl/lib/atomsci/ddm/docs/build/html/_static/fonts/Lato\n",
            "copying atomsci/ddm/docs/build/html/_static/fonts/Lato/lato-bolditalic.ttf -> /content/AMPL.build/ampl/lib/atomsci/ddm/docs/build/html/_static/fonts/Lato\n",
            "copying atomsci/ddm/docs/build/html/_static/fonts/Lato/lato-bolditalic.woff -> /content/AMPL.build/ampl/lib/atomsci/ddm/docs/build/html/_static/fonts/Lato\n",
            "copying atomsci/ddm/docs/build/html/_static/fonts/Lato/lato-bolditalic.woff2 -> /content/AMPL.build/ampl/lib/atomsci/ddm/docs/build/html/_static/fonts/Lato\n",
            "copying atomsci/ddm/docs/build/html/_static/fonts/Lato/lato-italic.eot -> /content/AMPL.build/ampl/lib/atomsci/ddm/docs/build/html/_static/fonts/Lato\n",
            "copying atomsci/ddm/docs/build/html/_static/fonts/Lato/lato-italic.ttf -> /content/AMPL.build/ampl/lib/atomsci/ddm/docs/build/html/_static/fonts/Lato\n",
            "copying atomsci/ddm/docs/build/html/_static/fonts/Lato/lato-italic.woff -> /content/AMPL.build/ampl/lib/atomsci/ddm/docs/build/html/_static/fonts/Lato\n",
            "copying atomsci/ddm/docs/build/html/_static/fonts/Lato/lato-italic.woff2 -> /content/AMPL.build/ampl/lib/atomsci/ddm/docs/build/html/_static/fonts/Lato\n",
            "copying atomsci/ddm/docs/build/html/_static/fonts/Lato/lato-regular.eot -> /content/AMPL.build/ampl/lib/atomsci/ddm/docs/build/html/_static/fonts/Lato\n",
            "copying atomsci/ddm/docs/build/html/_static/fonts/Lato/lato-regular.ttf -> /content/AMPL.build/ampl/lib/atomsci/ddm/docs/build/html/_static/fonts/Lato\n",
            "copying atomsci/ddm/docs/build/html/_static/fonts/Lato/lato-regular.woff -> /content/AMPL.build/ampl/lib/atomsci/ddm/docs/build/html/_static/fonts/Lato\n",
            "copying atomsci/ddm/docs/build/html/_static/fonts/Lato/lato-regular.woff2 -> /content/AMPL.build/ampl/lib/atomsci/ddm/docs/build/html/_static/fonts/Lato\n",
            "creating /content/AMPL.build/ampl/lib/atomsci/ddm/docs/build/html/_static/fonts/RobotoSlab\n",
            "copying atomsci/ddm/docs/build/html/_static/fonts/RobotoSlab/roboto-slab-v7-bold.eot -> /content/AMPL.build/ampl/lib/atomsci/ddm/docs/build/html/_static/fonts/RobotoSlab\n",
            "copying atomsci/ddm/docs/build/html/_static/fonts/RobotoSlab/roboto-slab-v7-bold.ttf -> /content/AMPL.build/ampl/lib/atomsci/ddm/docs/build/html/_static/fonts/RobotoSlab\n",
            "copying atomsci/ddm/docs/build/html/_static/fonts/RobotoSlab/roboto-slab-v7-bold.woff -> /content/AMPL.build/ampl/lib/atomsci/ddm/docs/build/html/_static/fonts/RobotoSlab\n",
            "copying atomsci/ddm/docs/build/html/_static/fonts/RobotoSlab/roboto-slab-v7-bold.woff2 -> /content/AMPL.build/ampl/lib/atomsci/ddm/docs/build/html/_static/fonts/RobotoSlab\n",
            "copying atomsci/ddm/docs/build/html/_static/fonts/RobotoSlab/roboto-slab-v7-regular.eot -> /content/AMPL.build/ampl/lib/atomsci/ddm/docs/build/html/_static/fonts/RobotoSlab\n",
            "copying atomsci/ddm/docs/build/html/_static/fonts/RobotoSlab/roboto-slab-v7-regular.ttf -> /content/AMPL.build/ampl/lib/atomsci/ddm/docs/build/html/_static/fonts/RobotoSlab\n",
            "copying atomsci/ddm/docs/build/html/_static/fonts/RobotoSlab/roboto-slab-v7-regular.woff -> /content/AMPL.build/ampl/lib/atomsci/ddm/docs/build/html/_static/fonts/RobotoSlab\n",
            "copying atomsci/ddm/docs/build/html/_static/fonts/RobotoSlab/roboto-slab-v7-regular.woff2 -> /content/AMPL.build/ampl/lib/atomsci/ddm/docs/build/html/_static/fonts/RobotoSlab\n",
            "creating /content/AMPL.build/ampl/lib/atomsci/ddm/docs/build/html/_static/js\n",
            "copying atomsci/ddm/docs/build/html/_static/js/modernizr.min.js -> /content/AMPL.build/ampl/lib/atomsci/ddm/docs/build/html/_static/js\n",
            "copying atomsci/ddm/docs/build/html/_static/js/theme.js -> /content/AMPL.build/ampl/lib/atomsci/ddm/docs/build/html/_static/js\n",
            "creating /content/AMPL.build/ampl/lib/atomsci/ddm/docs/source\n",
            "copying atomsci/ddm/docs/source/conf.py -> /content/AMPL.build/ampl/lib/atomsci/ddm/docs/source\n",
            "copying atomsci/ddm/docs/source/index.rst -> /content/AMPL.build/ampl/lib/atomsci/ddm/docs/source\n",
            "copying atomsci/ddm/docs/source/modules.rst -> /content/AMPL.build/ampl/lib/atomsci/ddm/docs/source\n",
            "copying atomsci/ddm/docs/source/pipeline.rst -> /content/AMPL.build/ampl/lib/atomsci/ddm/docs/source\n",
            "creating /content/AMPL.build/ampl/lib/atomsci/ddm/examples\n",
            "creating /content/AMPL.build/ampl/lib/atomsci/ddm/examples/BSEP\n",
            "copying atomsci/ddm/examples/BSEP/LICENSE.pdf -> /content/AMPL.build/ampl/lib/atomsci/ddm/examples/BSEP\n",
            "copying atomsci/ddm/examples/BSEP/README.md -> /content/AMPL.build/ampl/lib/atomsci/ddm/examples/BSEP\n",
            "copying atomsci/ddm/examples/BSEP/predict_bsep_inhibition.py -> /content/AMPL.build/ampl/lib/atomsci/ddm/examples/BSEP\n",
            "creating /content/AMPL.build/ampl/lib/atomsci/ddm/examples/BSEP/data\n",
            "copying atomsci/ddm/examples/BSEP/data/ChEMBL25_BSEP_curated_data.csv -> /content/AMPL.build/ampl/lib/atomsci/ddm/examples/BSEP/data\n",
            "copying atomsci/ddm/examples/BSEP/data/ChEMBL25_BSEP_test_data.csv -> /content/AMPL.build/ampl/lib/atomsci/ddm/examples/BSEP/data\n",
            "copying atomsci/ddm/examples/BSEP/data/README.md -> /content/AMPL.build/ampl/lib/atomsci/ddm/examples/BSEP/data\n",
            "copying atomsci/ddm/examples/BSEP/data/morgan_warner_combined_bsep_data.csv -> /content/AMPL.build/ampl/lib/atomsci/ddm/examples/BSEP/data\n",
            "copying atomsci/ddm/examples/BSEP/data/small_test_data.csv -> /content/AMPL.build/ampl/lib/atomsci/ddm/examples/BSEP/data\n",
            "creating /content/AMPL.build/ampl/lib/atomsci/ddm/examples/BSEP/models\n",
            "copying atomsci/ddm/examples/BSEP/models/bsep_classif_random_split.tar.gz -> /content/AMPL.build/ampl/lib/atomsci/ddm/examples/BSEP/models\n",
            "copying atomsci/ddm/examples/BSEP/models/bsep_classif_scaffold_split.tar.gz -> /content/AMPL.build/ampl/lib/atomsci/ddm/examples/BSEP/models\n",
            "creating /content/AMPL.build/ampl/lib/atomsci/ddm/examples/data_curation\n",
            "copying atomsci/ddm/examples/data_curation/cyp3a4.csv -> /content/AMPL.build/ampl/lib/atomsci/ddm/examples/data_curation\n",
            "copying atomsci/ddm/examples/data_curation/cyp3a4_dtc_data_curation_example.py -> /content/AMPL.build/ampl/lib/atomsci/ddm/examples/data_curation\n",
            "copying atomsci/ddm/examples/data_curation/cyp3a4_dtc_smiles.csv -> /content/AMPL.build/ampl/lib/atomsci/ddm/examples/data_curation\n",
            "creating /content/AMPL.build/ampl/lib/atomsci/ddm/test\n",
            "copying atomsci/ddm/test/download_dataset.sh -> /content/AMPL.build/ampl/lib/atomsci/ddm/test\n",
            "copying atomsci/ddm/test/pytest.ini -> /content/AMPL.build/ampl/lib/atomsci/ddm/test\n",
            "creating /content/AMPL.build/ampl/lib/atomsci/ddm/test/integrative\n",
            "copying atomsci/ddm/test/integrative/integrative_utilities.py -> /content/AMPL.build/ampl/lib/atomsci/ddm/test/integrative\n",
            "creating /content/AMPL.build/ampl/lib/atomsci/ddm/test/integrative/delaney_NN\n",
            "copying atomsci/ddm/test/integrative/delaney_NN/config_delaney_predict_NN.json -> /content/AMPL.build/ampl/lib/atomsci/ddm/test/integrative/delaney_NN\n",
            "copying atomsci/ddm/test/integrative/delaney_NN/config_delaney_train_NN.json -> /content/AMPL.build/ampl/lib/atomsci/ddm/test/integrative/delaney_NN\n",
            "copying atomsci/ddm/test/integrative/delaney_NN/download_dataset.sh -> /content/AMPL.build/ampl/lib/atomsci/ddm/test/integrative/delaney_NN\n",
            "copying atomsci/ddm/test/integrative/delaney_NN/pytest_slurm.sh -> /content/AMPL.build/ampl/lib/atomsci/ddm/test/integrative/delaney_NN\n",
            "copying atomsci/ddm/test/integrative/delaney_NN/test_delaney_NN.py -> /content/AMPL.build/ampl/lib/atomsci/ddm/test/integrative/delaney_NN\n",
            "creating /content/AMPL.build/ampl/lib/atomsci/ddm/test/integrative/delaney_RF\n",
            "copying atomsci/ddm/test/integrative/delaney_RF/config_delaney_fit_RF.json -> /content/AMPL.build/ampl/lib/atomsci/ddm/test/integrative/delaney_RF\n",
            "copying atomsci/ddm/test/integrative/delaney_RF/config_delaney_predict_RF.json -> /content/AMPL.build/ampl/lib/atomsci/ddm/test/integrative/delaney_RF\n",
            "copying atomsci/ddm/test/integrative/delaney_RF/download_dataset.sh -> /content/AMPL.build/ampl/lib/atomsci/ddm/test/integrative/delaney_RF\n",
            "copying atomsci/ddm/test/integrative/delaney_RF/pytest_slurm.sh -> /content/AMPL.build/ampl/lib/atomsci/ddm/test/integrative/delaney_RF\n",
            "copying atomsci/ddm/test/integrative/delaney_RF/test_delany_RF.py -> /content/AMPL.build/ampl/lib/atomsci/ddm/test/integrative/delaney_RF\n",
            "creating /content/AMPL.build/ampl/lib/atomsci/ddm/test/integrative/wenzel_NN\n",
            "copying atomsci/ddm/test/integrative/wenzel_NN/config_wenzel_fit_NN.json -> /content/AMPL.build/ampl/lib/atomsci/ddm/test/integrative/wenzel_NN\n",
            "copying atomsci/ddm/test/integrative/wenzel_NN/config_wenzel_predict_NN.json -> /content/AMPL.build/ampl/lib/atomsci/ddm/test/integrative/wenzel_NN\n",
            "copying atomsci/ddm/test/integrative/wenzel_NN/download_dataset.sh -> /content/AMPL.build/ampl/lib/atomsci/ddm/test/integrative/wenzel_NN\n",
            "copying atomsci/ddm/test/integrative/wenzel_NN/pytest_slurm.sh -> /content/AMPL.build/ampl/lib/atomsci/ddm/test/integrative/wenzel_NN\n",
            "copying atomsci/ddm/test/integrative/wenzel_NN/test_wenzel_NN.py -> /content/AMPL.build/ampl/lib/atomsci/ddm/test/integrative/wenzel_NN\n",
            "creating /content/AMPL.build/ampl/lib/atomsci/ddm/test/services\n",
            "creating /content/AMPL.build/ampl/lib/atomsci/ddm/test/services/mlmt_client\n",
            "copying atomsci/ddm/test/services/mlmt_client/test_mlmt_client_collections.py -> /content/AMPL.build/ampl/lib/atomsci/ddm/test/services/mlmt_client\n",
            "copying atomsci/ddm/test/services/mlmt_client/test_mlmt_client_metadata.py -> /content/AMPL.build/ampl/lib/atomsci/ddm/test/services/mlmt_client\n",
            "copying atomsci/ddm/test/services/mlmt_client/test_mlmt_client_metrics.py -> /content/AMPL.build/ampl/lib/atomsci/ddm/test/services/mlmt_client\n",
            "copying atomsci/ddm/test/services/mlmt_client/test_mlmt_client_models.py -> /content/AMPL.build/ampl/lib/atomsci/ddm/test/services/mlmt_client\n",
            "copying atomsci/ddm/test/services/mlmt_client/test_mlmt_client_port.py -> /content/AMPL.build/ampl/lib/atomsci/ddm/test/services/mlmt_client\n",
            "copying atomsci/ddm/test/services/mlmt_client/utilities.py -> /content/AMPL.build/ampl/lib/atomsci/ddm/test/services/mlmt_client\n",
            "creating /content/AMPL.build/ampl/lib/atomsci/ddm/test/unit\n",
            "copying atomsci/ddm/test/unit/config_MAOA_moe_descriptors.json -> /content/AMPL.build/ampl/lib/atomsci/ddm/test/unit\n",
            "copying atomsci/ddm/test/unit/config_MAOA_moe_descriptors_ds.json -> /content/AMPL.build/ampl/lib/atomsci/ddm/test/unit\n",
            "copying atomsci/ddm/test/unit/config_datastore_dset_cav12.json -> /content/AMPL.build/ampl/lib/atomsci/ddm/test/unit\n",
            "copying atomsci/ddm/test/unit/config_delaney.json -> /content/AMPL.build/ampl/lib/atomsci/ddm/test/unit\n",
            "copying atomsci/ddm/test/unit/config_dupe_inputs.json -> /content/AMPL.build/ampl/lib/atomsci/ddm/test/unit\n",
            "copying atomsci/ddm/test/unit/config_list_inputs.json -> /content/AMPL.build/ampl/lib/atomsci/ddm/test/unit\n",
            "copying atomsci/ddm/test/unit/config_required_inputs.json -> /content/AMPL.build/ampl/lib/atomsci/ddm/test/unit\n",
            "copying atomsci/ddm/test/unit/config_uncurated_bp.json -> /content/AMPL.build/ampl/lib/atomsci/ddm/test/unit\n",
            "copying atomsci/ddm/test/unit/config_wrong_inputs.json -> /content/AMPL.build/ampl/lib/atomsci/ddm/test/unit\n",
            "copying atomsci/ddm/test/unit/download_dataset.sh -> /content/AMPL.build/ampl/lib/atomsci/ddm/test/unit\n",
            "copying atomsci/ddm/test/unit/filter_dict_example.json -> /content/AMPL.build/ampl/lib/atomsci/ddm/test/unit\n",
            "copying atomsci/ddm/test/unit/metadata_test.json -> /content/AMPL.build/ampl/lib/atomsci/ddm/test/unit\n",
            "copying atomsci/ddm/test/unit/test_featurization.py -> /content/AMPL.build/ampl/lib/atomsci/ddm/test/unit\n",
            "copying atomsci/ddm/test/unit/test_model_dataset.py -> /content/AMPL.build/ampl/lib/atomsci/ddm/test/unit\n",
            "copying atomsci/ddm/test/unit/test_model_wrapper.py -> /content/AMPL.build/ampl/lib/atomsci/ddm/test/unit\n",
            "copying atomsci/ddm/test/unit/test_param_parser.py -> /content/AMPL.build/ampl/lib/atomsci/ddm/test/unit\n",
            "copying atomsci/ddm/test/unit/test_splitting.py -> /content/AMPL.build/ampl/lib/atomsci/ddm/test/unit\n",
            "copying atomsci/ddm/test/unit/utils_testing.py -> /content/AMPL.build/ampl/lib/atomsci/ddm/test/unit\n",
            "running bdist_wheel\n",
            "installing to /content/AMPL.build/ampl/bdist.linux-x86_64/wheel\n",
            "running install\n",
            "running install_lib\n",
            "Skipping installation of /content/AMPL.build/ampl/bdist.linux-x86_64/wheel/atomsci/__init__.py (namespace package)\n",
            "copying atomsci/ddm/Makefile -> /content/AMPL.build/ampl/bdist.linux-x86_64/wheel/atomsci/ddm\n",
            "copying atomsci/ddm/__init__.py -> /content/AMPL.build/ampl/bdist.linux-x86_64/wheel/atomsci/ddm\n",
            "copying atomsci/ddm/Delaney_Example.ipynb -> /content/AMPL.build/ampl/bdist.linux-x86_64/wheel/atomsci/ddm\n",
            "copying atomsci/ddm/test/download_dataset.sh -> /content/AMPL.build/ampl/bdist.linux-x86_64/wheel/atomsci/ddm/test\n",
            "copying atomsci/ddm/test/pytest.ini -> /content/AMPL.build/ampl/bdist.linux-x86_64/wheel/atomsci/ddm/test\n",
            "copying atomsci/ddm/test/services/mlmt_client/utilities.py -> /content/AMPL.build/ampl/bdist.linux-x86_64/wheel/atomsci/ddm/test/services/mlmt_client\n",
            "copying atomsci/ddm/test/services/mlmt_client/test_mlmt_client_models.py -> /content/AMPL.build/ampl/bdist.linux-x86_64/wheel/atomsci/ddm/test/services/mlmt_client\n",
            "copying atomsci/ddm/test/services/mlmt_client/test_mlmt_client_collections.py -> /content/AMPL.build/ampl/bdist.linux-x86_64/wheel/atomsci/ddm/test/services/mlmt_client\n",
            "copying atomsci/ddm/test/services/mlmt_client/test_mlmt_client_metadata.py -> /content/AMPL.build/ampl/bdist.linux-x86_64/wheel/atomsci/ddm/test/services/mlmt_client\n",
            "copying atomsci/ddm/test/services/mlmt_client/test_mlmt_client_port.py -> /content/AMPL.build/ampl/bdist.linux-x86_64/wheel/atomsci/ddm/test/services/mlmt_client\n",
            "copying atomsci/ddm/test/services/mlmt_client/test_mlmt_client_metrics.py -> /content/AMPL.build/ampl/bdist.linux-x86_64/wheel/atomsci/ddm/test/services/mlmt_client\n",
            "copying atomsci/ddm/test/integrative/integrative_utilities.py -> /content/AMPL.build/ampl/bdist.linux-x86_64/wheel/atomsci/ddm/test/integrative\n",
            "copying atomsci/ddm/test/integrative/wenzel_NN/download_dataset.sh -> /content/AMPL.build/ampl/bdist.linux-x86_64/wheel/atomsci/ddm/test/integrative/wenzel_NN\n",
            "copying atomsci/ddm/test/integrative/wenzel_NN/test_wenzel_NN.py -> /content/AMPL.build/ampl/bdist.linux-x86_64/wheel/atomsci/ddm/test/integrative/wenzel_NN\n",
            "copying atomsci/ddm/test/integrative/wenzel_NN/config_wenzel_fit_NN.json -> /content/AMPL.build/ampl/bdist.linux-x86_64/wheel/atomsci/ddm/test/integrative/wenzel_NN\n",
            "copying atomsci/ddm/test/integrative/wenzel_NN/config_wenzel_predict_NN.json -> /content/AMPL.build/ampl/bdist.linux-x86_64/wheel/atomsci/ddm/test/integrative/wenzel_NN\n",
            "copying atomsci/ddm/test/integrative/wenzel_NN/pytest_slurm.sh -> /content/AMPL.build/ampl/bdist.linux-x86_64/wheel/atomsci/ddm/test/integrative/wenzel_NN\n",
            "copying atomsci/ddm/test/integrative/delaney_NN/config_delaney_train_NN.json -> /content/AMPL.build/ampl/bdist.linux-x86_64/wheel/atomsci/ddm/test/integrative/delaney_NN\n",
            "copying atomsci/ddm/test/integrative/delaney_NN/download_dataset.sh -> /content/AMPL.build/ampl/bdist.linux-x86_64/wheel/atomsci/ddm/test/integrative/delaney_NN\n",
            "copying atomsci/ddm/test/integrative/delaney_NN/config_delaney_predict_NN.json -> /content/AMPL.build/ampl/bdist.linux-x86_64/wheel/atomsci/ddm/test/integrative/delaney_NN\n",
            "copying atomsci/ddm/test/integrative/delaney_NN/test_delaney_NN.py -> /content/AMPL.build/ampl/bdist.linux-x86_64/wheel/atomsci/ddm/test/integrative/delaney_NN\n",
            "copying atomsci/ddm/test/integrative/delaney_NN/pytest_slurm.sh -> /content/AMPL.build/ampl/bdist.linux-x86_64/wheel/atomsci/ddm/test/integrative/delaney_NN\n",
            "copying atomsci/ddm/test/integrative/delaney_RF/download_dataset.sh -> /content/AMPL.build/ampl/bdist.linux-x86_64/wheel/atomsci/ddm/test/integrative/delaney_RF\n",
            "copying atomsci/ddm/test/integrative/delaney_RF/config_delaney_predict_RF.json -> /content/AMPL.build/ampl/bdist.linux-x86_64/wheel/atomsci/ddm/test/integrative/delaney_RF\n",
            "copying atomsci/ddm/test/integrative/delaney_RF/config_delaney_fit_RF.json -> /content/AMPL.build/ampl/bdist.linux-x86_64/wheel/atomsci/ddm/test/integrative/delaney_RF\n",
            "copying atomsci/ddm/test/integrative/delaney_RF/pytest_slurm.sh -> /content/AMPL.build/ampl/bdist.linux-x86_64/wheel/atomsci/ddm/test/integrative/delaney_RF\n",
            "copying atomsci/ddm/test/integrative/delaney_RF/test_delany_RF.py -> /content/AMPL.build/ampl/bdist.linux-x86_64/wheel/atomsci/ddm/test/integrative/delaney_RF\n",
            "copying atomsci/ddm/test/unit/config_dupe_inputs.json -> /content/AMPL.build/ampl/bdist.linux-x86_64/wheel/atomsci/ddm/test/unit\n",
            "copying atomsci/ddm/test/unit/config_uncurated_bp.json -> /content/AMPL.build/ampl/bdist.linux-x86_64/wheel/atomsci/ddm/test/unit\n",
            "copying atomsci/ddm/test/unit/test_model_wrapper.py -> /content/AMPL.build/ampl/bdist.linux-x86_64/wheel/atomsci/ddm/test/unit\n",
            "copying atomsci/ddm/test/unit/filter_dict_example.json -> /content/AMPL.build/ampl/bdist.linux-x86_64/wheel/atomsci/ddm/test/unit\n",
            "copying atomsci/ddm/test/unit/download_dataset.sh -> /content/AMPL.build/ampl/bdist.linux-x86_64/wheel/atomsci/ddm/test/unit\n",
            "copying atomsci/ddm/test/unit/config_datastore_dset_cav12.json -> /content/AMPL.build/ampl/bdist.linux-x86_64/wheel/atomsci/ddm/test/unit\n",
            "copying atomsci/ddm/test/unit/config_required_inputs.json -> /content/AMPL.build/ampl/bdist.linux-x86_64/wheel/atomsci/ddm/test/unit\n",
            "copying atomsci/ddm/test/unit/config_delaney.json -> /content/AMPL.build/ampl/bdist.linux-x86_64/wheel/atomsci/ddm/test/unit\n",
            "copying atomsci/ddm/test/unit/utils_testing.py -> /content/AMPL.build/ampl/bdist.linux-x86_64/wheel/atomsci/ddm/test/unit\n",
            "copying atomsci/ddm/test/unit/config_list_inputs.json -> /content/AMPL.build/ampl/bdist.linux-x86_64/wheel/atomsci/ddm/test/unit\n",
            "copying atomsci/ddm/test/unit/config_MAOA_moe_descriptors.json -> /content/AMPL.build/ampl/bdist.linux-x86_64/wheel/atomsci/ddm/test/unit\n",
            "copying atomsci/ddm/test/unit/test_splitting.py -> /content/AMPL.build/ampl/bdist.linux-x86_64/wheel/atomsci/ddm/test/unit\n",
            "copying atomsci/ddm/test/unit/test_model_dataset.py -> /content/AMPL.build/ampl/bdist.linux-x86_64/wheel/atomsci/ddm/test/unit\n",
            "copying atomsci/ddm/test/unit/test_param_parser.py -> /content/AMPL.build/ampl/bdist.linux-x86_64/wheel/atomsci/ddm/test/unit\n",
            "copying atomsci/ddm/test/unit/config_wrong_inputs.json -> /content/AMPL.build/ampl/bdist.linux-x86_64/wheel/atomsci/ddm/test/unit\n",
            "copying atomsci/ddm/test/unit/config_MAOA_moe_descriptors_ds.json -> /content/AMPL.build/ampl/bdist.linux-x86_64/wheel/atomsci/ddm/test/unit\n",
            "copying atomsci/ddm/test/unit/test_featurization.py -> /content/AMPL.build/ampl/bdist.linux-x86_64/wheel/atomsci/ddm/test/unit\n",
            "copying atomsci/ddm/test/unit/metadata_test.json -> /content/AMPL.build/ampl/bdist.linux-x86_64/wheel/atomsci/ddm/test/unit\n",
            "copying atomsci/ddm/utils/llnl_utils.py -> /content/AMPL.build/ampl/bdist.linux-x86_64/wheel/atomsci/ddm/utils\n",
            "copying atomsci/ddm/utils/genTestset.py -> /content/AMPL.build/ampl/bdist.linux-x86_64/wheel/atomsci/ddm/utils\n",
            "copying atomsci/ddm/utils/data_curation_functions.py -> /content/AMPL.build/ampl/bdist.linux-x86_64/wheel/atomsci/ddm/utils\n",
            "copying atomsci/ddm/utils/datastore_functions.py -> /content/AMPL.build/ampl/bdist.linux-x86_64/wheel/atomsci/ddm/utils\n",
            "copying atomsci/ddm/utils/pubchem_utils.py -> /content/AMPL.build/ampl/bdist.linux-x86_64/wheel/atomsci/ddm/utils\n",
            "copying atomsci/ddm/utils/hyperparam_search_wrapper.py -> /content/AMPL.build/ampl/bdist.linux-x86_64/wheel/atomsci/ddm/utils\n",
            "copying atomsci/ddm/utils/curate_data.py -> /content/AMPL.build/ampl/bdist.linux-x86_64/wheel/atomsci/ddm/utils\n",
            "copying atomsci/ddm/utils/struct_utils.py -> /content/AMPL.build/ampl/bdist.linux-x86_64/wheel/atomsci/ddm/utils\n",
            "copying atomsci/ddm/utils/open-docs.py -> /content/AMPL.build/ampl/bdist.linux-x86_64/wheel/atomsci/ddm/utils\n",
            "copying atomsci/ddm/utils/__init__.py -> /content/AMPL.build/ampl/bdist.linux-x86_64/wheel/atomsci/ddm/utils\n",
            "copying atomsci/ddm/utils/process_slurm.py -> /content/AMPL.build/ampl/bdist.linux-x86_64/wheel/atomsci/ddm/utils\n",
            "copying atomsci/ddm/config/config_mordred_fit_RF.json -> /content/AMPL.build/ampl/bdist.linux-x86_64/wheel/atomsci/ddm/config\n",
            "copying atomsci/ddm/config/config_graphconv_fit_NN.json -> /content/AMPL.build/ampl/bdist.linux-x86_64/wheel/atomsci/ddm/config\n",
            "copying atomsci/ddm/config_files/sol_chembl_scaffold_graphconv_nn_hyper_config1.json -> /content/AMPL.build/ampl/bdist.linux-x86_64/wheel/atomsci/ddm/config_files\n",
            "copying atomsci/ddm/config_files/sol_chembl_scaffold_mordred_nn_hyper_config1.json -> /content/AMPL.build/ampl/bdist.linux-x86_64/wheel/atomsci/ddm/config_files\n",
            "copying atomsci/ddm/config_files/sol_chembl_scaffold_ecfp_nn_hyper_config1.json -> /content/AMPL.build/ampl/bdist.linux-x86_64/wheel/atomsci/ddm/config_files\n",
            "copying atomsci/ddm/pipeline/model_datasets.py -> /content/AMPL.build/ampl/bdist.linux-x86_64/wheel/atomsci/ddm/pipeline\n",
            "copying atomsci/ddm/pipeline/dist_metrics.py -> /content/AMPL.build/ampl/bdist.linux-x86_64/wheel/atomsci/ddm/pipeline\n",
            "copying atomsci/ddm/pipeline/hyper_perf_plots.py -> /content/AMPL.build/ampl/bdist.linux-x86_64/wheel/atomsci/ddm/pipeline\n",
            "copying atomsci/ddm/pipeline/model_tracker.py -> /content/AMPL.build/ampl/bdist.linux-x86_64/wheel/atomsci/ddm/pipeline\n",
            "copying atomsci/ddm/pipeline/chem_diversity.py -> /content/AMPL.build/ampl/bdist.linux-x86_64/wheel/atomsci/ddm/pipeline\n",
            "copying atomsci/ddm/pipeline/model_pipeline.py -> /content/AMPL.build/ampl/bdist.linux-x86_64/wheel/atomsci/ddm/pipeline\n",
            "copying atomsci/ddm/pipeline/perf_data.py -> /content/AMPL.build/ampl/bdist.linux-x86_64/wheel/atomsci/ddm/pipeline\n",
            "copying atomsci/ddm/pipeline/perf_plots.py -> /content/AMPL.build/ampl/bdist.linux-x86_64/wheel/atomsci/ddm/pipeline\n",
            "copying atomsci/ddm/pipeline/temporal_splitter.py -> /content/AMPL.build/ampl/bdist.linux-x86_64/wheel/atomsci/ddm/pipeline\n",
            "copying atomsci/ddm/pipeline/ave_splitter.py -> /content/AMPL.build/ampl/bdist.linux-x86_64/wheel/atomsci/ddm/pipeline\n",
            "copying atomsci/ddm/pipeline/model_wrapper.py -> /content/AMPL.build/ampl/bdist.linux-x86_64/wheel/atomsci/ddm/pipeline\n",
            "copying atomsci/ddm/pipeline/compare_models.py -> /content/AMPL.build/ampl/bdist.linux-x86_64/wheel/atomsci/ddm/pipeline\n",
            "copying atomsci/ddm/pipeline/featurization.py -> /content/AMPL.build/ampl/bdist.linux-x86_64/wheel/atomsci/ddm/pipeline\n",
            "copying atomsci/ddm/pipeline/transformations.py -> /content/AMPL.build/ampl/bdist.linux-x86_64/wheel/atomsci/ddm/pipeline\n",
            "copying atomsci/ddm/pipeline/parameter_parser.py -> /content/AMPL.build/ampl/bdist.linux-x86_64/wheel/atomsci/ddm/pipeline\n",
            "copying atomsci/ddm/pipeline/__init__.py -> /content/AMPL.build/ampl/bdist.linux-x86_64/wheel/atomsci/ddm/pipeline\n",
            "copying atomsci/ddm/pipeline/splitting.py -> /content/AMPL.build/ampl/bdist.linux-x86_64/wheel/atomsci/ddm/pipeline\n",
            "copying atomsci/ddm/pipeline/diversity_plots.py -> /content/AMPL.build/ampl/bdist.linux-x86_64/wheel/atomsci/ddm/pipeline\n",
            "copying atomsci/ddm/examples/BSEP/README.md -> /content/AMPL.build/ampl/bdist.linux-x86_64/wheel/atomsci/ddm/examples/BSEP\n",
            "copying atomsci/ddm/examples/BSEP/predict_bsep_inhibition.py -> /content/AMPL.build/ampl/bdist.linux-x86_64/wheel/atomsci/ddm/examples/BSEP\n",
            "copying atomsci/ddm/examples/BSEP/LICENSE.pdf -> /content/AMPL.build/ampl/bdist.linux-x86_64/wheel/atomsci/ddm/examples/BSEP\n",
            "copying atomsci/ddm/examples/BSEP/models/bsep_classif_random_split.tar.gz -> /content/AMPL.build/ampl/bdist.linux-x86_64/wheel/atomsci/ddm/examples/BSEP/models\n",
            "copying atomsci/ddm/examples/BSEP/models/bsep_classif_scaffold_split.tar.gz -> /content/AMPL.build/ampl/bdist.linux-x86_64/wheel/atomsci/ddm/examples/BSEP/models\n",
            "copying atomsci/ddm/examples/BSEP/data/ChEMBL25_BSEP_curated_data.csv -> /content/AMPL.build/ampl/bdist.linux-x86_64/wheel/atomsci/ddm/examples/BSEP/data\n",
            "copying atomsci/ddm/examples/BSEP/data/small_test_data.csv -> /content/AMPL.build/ampl/bdist.linux-x86_64/wheel/atomsci/ddm/examples/BSEP/data\n",
            "copying atomsci/ddm/examples/BSEP/data/README.md -> /content/AMPL.build/ampl/bdist.linux-x86_64/wheel/atomsci/ddm/examples/BSEP/data\n",
            "copying atomsci/ddm/examples/BSEP/data/ChEMBL25_BSEP_test_data.csv -> /content/AMPL.build/ampl/bdist.linux-x86_64/wheel/atomsci/ddm/examples/BSEP/data\n",
            "copying atomsci/ddm/examples/BSEP/data/morgan_warner_combined_bsep_data.csv -> /content/AMPL.build/ampl/bdist.linux-x86_64/wheel/atomsci/ddm/examples/BSEP/data\n",
            "copying atomsci/ddm/examples/data_curation/cyp3a4_dtc_data_curation_example.py -> /content/AMPL.build/ampl/bdist.linux-x86_64/wheel/atomsci/ddm/examples/data_curation\n",
            "copying atomsci/ddm/examples/data_curation/cyp3a4.csv -> /content/AMPL.build/ampl/bdist.linux-x86_64/wheel/atomsci/ddm/examples/data_curation\n",
            "copying atomsci/ddm/examples/data_curation/cyp3a4_dtc_smiles.csv -> /content/AMPL.build/ampl/bdist.linux-x86_64/wheel/atomsci/ddm/examples/data_curation\n",
            "copying atomsci/ddm/data/descriptor_sets_sources_by_descr_type.csv -> /content/AMPL.build/ampl/bdist.linux-x86_64/wheel/atomsci/ddm/data\n",
            "copying atomsci/ddm/docs/Makefile -> /content/AMPL.build/ampl/bdist.linux-x86_64/wheel/atomsci/ddm/docs\n",
            "copying atomsci/ddm/docs/ATOM_cymatics_black_wordmark.jpg -> /content/AMPL.build/ampl/bdist.linux-x86_64/wheel/atomsci/ddm/docs\n",
            "copying atomsci/ddm/docs/PARAMETERS.md -> /content/AMPL.build/ampl/bdist.linux-x86_64/wheel/atomsci/ddm/docs\n",
            "copying atomsci/ddm/docs/ATOM_wordmark_black_transparent.png -> /content/AMPL.build/ampl/bdist.linux-x86_64/wheel/atomsci/ddm/docs\n",
            "copying atomsci/ddm/docs/build/doctrees/modules.doctree -> /content/AMPL.build/ampl/bdist.linux-x86_64/wheel/atomsci/ddm/docs/build/doctrees\n",
            "copying atomsci/ddm/docs/build/doctrees/index.doctree -> /content/AMPL.build/ampl/bdist.linux-x86_64/wheel/atomsci/ddm/docs/build/doctrees\n",
            "copying atomsci/ddm/docs/build/doctrees/environment.pickle -> /content/AMPL.build/ampl/bdist.linux-x86_64/wheel/atomsci/ddm/docs/build/doctrees\n",
            "copying atomsci/ddm/docs/build/doctrees/pipeline.doctree -> /content/AMPL.build/ampl/bdist.linux-x86_64/wheel/atomsci/ddm/docs/build/doctrees\n",
            "copying atomsci/ddm/docs/build/html/search.html -> /content/AMPL.build/ampl/bdist.linux-x86_64/wheel/atomsci/ddm/docs/build/html\n",
            "copying atomsci/ddm/docs/build/html/.buildinfo -> /content/AMPL.build/ampl/bdist.linux-x86_64/wheel/atomsci/ddm/docs/build/html\n",
            "copying atomsci/ddm/docs/build/html/modules.html -> /content/AMPL.build/ampl/bdist.linux-x86_64/wheel/atomsci/ddm/docs/build/html\n",
            "copying atomsci/ddm/docs/build/html/index.html -> /content/AMPL.build/ampl/bdist.linux-x86_64/wheel/atomsci/ddm/docs/build/html\n",
            "copying atomsci/ddm/docs/build/html/py-modindex.html -> /content/AMPL.build/ampl/bdist.linux-x86_64/wheel/atomsci/ddm/docs/build/html\n",
            "copying atomsci/ddm/docs/build/html/objects.inv -> /content/AMPL.build/ampl/bdist.linux-x86_64/wheel/atomsci/ddm/docs/build/html\n",
            "copying atomsci/ddm/docs/build/html/pipeline.html -> /content/AMPL.build/ampl/bdist.linux-x86_64/wheel/atomsci/ddm/docs/build/html\n",
            "copying atomsci/ddm/docs/build/html/searchindex.js -> /content/AMPL.build/ampl/bdist.linux-x86_64/wheel/atomsci/ddm/docs/build/html\n",
            "copying atomsci/ddm/docs/build/html/genindex.html -> /content/AMPL.build/ampl/bdist.linux-x86_64/wheel/atomsci/ddm/docs/build/html\n",
            "copying atomsci/ddm/docs/build/html/_sources/index.rst.txt -> /content/AMPL.build/ampl/bdist.linux-x86_64/wheel/atomsci/ddm/docs/build/html/_sources\n",
            "copying atomsci/ddm/docs/build/html/_sources/modules.rst.txt -> /content/AMPL.build/ampl/bdist.linux-x86_64/wheel/atomsci/ddm/docs/build/html/_sources\n",
            "copying atomsci/ddm/docs/build/html/_sources/pipeline.rst.txt -> /content/AMPL.build/ampl/bdist.linux-x86_64/wheel/atomsci/ddm/docs/build/html/_sources\n",
            "copying atomsci/ddm/docs/build/html/_static/comment-bright.png -> /content/AMPL.build/ampl/bdist.linux-x86_64/wheel/atomsci/ddm/docs/build/html/_static\n",
            "copying atomsci/ddm/docs/build/html/_static/comment-close.png -> /content/AMPL.build/ampl/bdist.linux-x86_64/wheel/atomsci/ddm/docs/build/html/_static\n",
            "copying atomsci/ddm/docs/build/html/_static/documentation_options.js -> /content/AMPL.build/ampl/bdist.linux-x86_64/wheel/atomsci/ddm/docs/build/html/_static\n",
            "copying atomsci/ddm/docs/build/html/_static/up.png -> /content/AMPL.build/ampl/bdist.linux-x86_64/wheel/atomsci/ddm/docs/build/html/_static\n",
            "copying atomsci/ddm/docs/build/html/_static/down.png -> /content/AMPL.build/ampl/bdist.linux-x86_64/wheel/atomsci/ddm/docs/build/html/_static\n",
            "copying atomsci/ddm/docs/build/html/_static/comment.png -> /content/AMPL.build/ampl/bdist.linux-x86_64/wheel/atomsci/ddm/docs/build/html/_static\n",
            "copying atomsci/ddm/docs/build/html/_static/basic.css -> /content/AMPL.build/ampl/bdist.linux-x86_64/wheel/atomsci/ddm/docs/build/html/_static\n",
            "copying atomsci/ddm/docs/build/html/_static/doctools.js -> /content/AMPL.build/ampl/bdist.linux-x86_64/wheel/atomsci/ddm/docs/build/html/_static\n",
            "copying atomsci/ddm/docs/build/html/_static/ajax-loader.gif -> /content/AMPL.build/ampl/bdist.linux-x86_64/wheel/atomsci/ddm/docs/build/html/_static\n",
            "copying atomsci/ddm/docs/build/html/_static/websupport.js -> /content/AMPL.build/ampl/bdist.linux-x86_64/wheel/atomsci/ddm/docs/build/html/_static\n",
            "copying atomsci/ddm/docs/build/html/_static/minus.png -> /content/AMPL.build/ampl/bdist.linux-x86_64/wheel/atomsci/ddm/docs/build/html/_static\n",
            "copying atomsci/ddm/docs/build/html/_static/down-pressed.png -> /content/AMPL.build/ampl/bdist.linux-x86_64/wheel/atomsci/ddm/docs/build/html/_static\n",
            "copying atomsci/ddm/docs/build/html/_static/underscore.js -> /content/AMPL.build/ampl/bdist.linux-x86_64/wheel/atomsci/ddm/docs/build/html/_static\n",
            "copying atomsci/ddm/docs/build/html/_static/jquery.js -> /content/AMPL.build/ampl/bdist.linux-x86_64/wheel/atomsci/ddm/docs/build/html/_static\n",
            "copying atomsci/ddm/docs/build/html/_static/pygments.css -> /content/AMPL.build/ampl/bdist.linux-x86_64/wheel/atomsci/ddm/docs/build/html/_static\n",
            "copying atomsci/ddm/docs/build/html/_static/plus.png -> /content/AMPL.build/ampl/bdist.linux-x86_64/wheel/atomsci/ddm/docs/build/html/_static\n",
            "copying atomsci/ddm/docs/build/html/_static/searchtools.js -> /content/AMPL.build/ampl/bdist.linux-x86_64/wheel/atomsci/ddm/docs/build/html/_static\n",
            "copying atomsci/ddm/docs/build/html/_static/jquery-3.1.0.js -> /content/AMPL.build/ampl/bdist.linux-x86_64/wheel/atomsci/ddm/docs/build/html/_static\n",
            "copying atomsci/ddm/docs/build/html/_static/up-pressed.png -> /content/AMPL.build/ampl/bdist.linux-x86_64/wheel/atomsci/ddm/docs/build/html/_static\n",
            "copying atomsci/ddm/docs/build/html/_static/file.png -> /content/AMPL.build/ampl/bdist.linux-x86_64/wheel/atomsci/ddm/docs/build/html/_static\n",
            "copying atomsci/ddm/docs/build/html/_static/underscore-1.3.1.js -> /content/AMPL.build/ampl/bdist.linux-x86_64/wheel/atomsci/ddm/docs/build/html/_static\n",
            "copying atomsci/ddm/docs/build/html/_static/jquery-3.2.1.js -> /content/AMPL.build/ampl/bdist.linux-x86_64/wheel/atomsci/ddm/docs/build/html/_static\n",
            "copying atomsci/ddm/docs/build/html/_static/fonts/fontawesome-webfont.svg -> /content/AMPL.build/ampl/bdist.linux-x86_64/wheel/atomsci/ddm/docs/build/html/_static/fonts\n",
            "copying atomsci/ddm/docs/build/html/_static/fonts/fontawesome-webfont.woff -> /content/AMPL.build/ampl/bdist.linux-x86_64/wheel/atomsci/ddm/docs/build/html/_static/fonts\n",
            "copying atomsci/ddm/docs/build/html/_static/fonts/fontawesome-webfont.eot -> /content/AMPL.build/ampl/bdist.linux-x86_64/wheel/atomsci/ddm/docs/build/html/_static/fonts\n",
            "copying atomsci/ddm/docs/build/html/_static/fonts/fontawesome-webfont.woff2 -> /content/AMPL.build/ampl/bdist.linux-x86_64/wheel/atomsci/ddm/docs/build/html/_static/fonts\n",
            "copying atomsci/ddm/docs/build/html/_static/fonts/fontawesome-webfont.ttf -> /content/AMPL.build/ampl/bdist.linux-x86_64/wheel/atomsci/ddm/docs/build/html/_static/fonts\n",
            "copying atomsci/ddm/docs/build/html/_static/fonts/RobotoSlab/roboto-slab-v7-regular.eot -> /content/AMPL.build/ampl/bdist.linux-x86_64/wheel/atomsci/ddm/docs/build/html/_static/fonts/RobotoSlab\n",
            "copying atomsci/ddm/docs/build/html/_static/fonts/RobotoSlab/roboto-slab-v7-bold.eot -> /content/AMPL.build/ampl/bdist.linux-x86_64/wheel/atomsci/ddm/docs/build/html/_static/fonts/RobotoSlab\n",
            "copying atomsci/ddm/docs/build/html/_static/fonts/RobotoSlab/roboto-slab-v7-regular.woff2 -> /content/AMPL.build/ampl/bdist.linux-x86_64/wheel/atomsci/ddm/docs/build/html/_static/fonts/RobotoSlab\n",
            "copying atomsci/ddm/docs/build/html/_static/fonts/RobotoSlab/roboto-slab-v7-bold.ttf -> /content/AMPL.build/ampl/bdist.linux-x86_64/wheel/atomsci/ddm/docs/build/html/_static/fonts/RobotoSlab\n",
            "copying atomsci/ddm/docs/build/html/_static/fonts/RobotoSlab/roboto-slab-v7-regular.ttf -> /content/AMPL.build/ampl/bdist.linux-x86_64/wheel/atomsci/ddm/docs/build/html/_static/fonts/RobotoSlab\n",
            "copying atomsci/ddm/docs/build/html/_static/fonts/RobotoSlab/roboto-slab-v7-regular.woff -> /content/AMPL.build/ampl/bdist.linux-x86_64/wheel/atomsci/ddm/docs/build/html/_static/fonts/RobotoSlab\n",
            "copying atomsci/ddm/docs/build/html/_static/fonts/RobotoSlab/roboto-slab-v7-bold.woff2 -> /content/AMPL.build/ampl/bdist.linux-x86_64/wheel/atomsci/ddm/docs/build/html/_static/fonts/RobotoSlab\n",
            "copying atomsci/ddm/docs/build/html/_static/fonts/RobotoSlab/roboto-slab-v7-bold.woff -> /content/AMPL.build/ampl/bdist.linux-x86_64/wheel/atomsci/ddm/docs/build/html/_static/fonts/RobotoSlab\n",
            "copying atomsci/ddm/docs/build/html/_static/fonts/Lato/lato-italic.ttf -> /content/AMPL.build/ampl/bdist.linux-x86_64/wheel/atomsci/ddm/docs/build/html/_static/fonts/Lato\n",
            "copying atomsci/ddm/docs/build/html/_static/fonts/Lato/lato-bold.woff2 -> /content/AMPL.build/ampl/bdist.linux-x86_64/wheel/atomsci/ddm/docs/build/html/_static/fonts/Lato\n",
            "copying atomsci/ddm/docs/build/html/_static/fonts/Lato/lato-bolditalic.woff -> /content/AMPL.build/ampl/bdist.linux-x86_64/wheel/atomsci/ddm/docs/build/html/_static/fonts/Lato\n",
            "copying atomsci/ddm/docs/build/html/_static/fonts/Lato/lato-bold.ttf -> /content/AMPL.build/ampl/bdist.linux-x86_64/wheel/atomsci/ddm/docs/build/html/_static/fonts/Lato\n",
            "copying atomsci/ddm/docs/build/html/_static/fonts/Lato/lato-bolditalic.ttf -> /content/AMPL.build/ampl/bdist.linux-x86_64/wheel/atomsci/ddm/docs/build/html/_static/fonts/Lato\n",
            "copying atomsci/ddm/docs/build/html/_static/fonts/Lato/lato-italic.woff -> /content/AMPL.build/ampl/bdist.linux-x86_64/wheel/atomsci/ddm/docs/build/html/_static/fonts/Lato\n",
            "copying atomsci/ddm/docs/build/html/_static/fonts/Lato/lato-bold.woff -> /content/AMPL.build/ampl/bdist.linux-x86_64/wheel/atomsci/ddm/docs/build/html/_static/fonts/Lato\n",
            "copying atomsci/ddm/docs/build/html/_static/fonts/Lato/lato-italic.eot -> /content/AMPL.build/ampl/bdist.linux-x86_64/wheel/atomsci/ddm/docs/build/html/_static/fonts/Lato\n",
            "copying atomsci/ddm/docs/build/html/_static/fonts/Lato/lato-regular.eot -> /content/AMPL.build/ampl/bdist.linux-x86_64/wheel/atomsci/ddm/docs/build/html/_static/fonts/Lato\n",
            "copying atomsci/ddm/docs/build/html/_static/fonts/Lato/lato-bolditalic.eot -> /content/AMPL.build/ampl/bdist.linux-x86_64/wheel/atomsci/ddm/docs/build/html/_static/fonts/Lato\n",
            "copying atomsci/ddm/docs/build/html/_static/fonts/Lato/lato-regular.ttf -> /content/AMPL.build/ampl/bdist.linux-x86_64/wheel/atomsci/ddm/docs/build/html/_static/fonts/Lato\n",
            "copying atomsci/ddm/docs/build/html/_static/fonts/Lato/lato-bold.eot -> /content/AMPL.build/ampl/bdist.linux-x86_64/wheel/atomsci/ddm/docs/build/html/_static/fonts/Lato\n",
            "copying atomsci/ddm/docs/build/html/_static/fonts/Lato/lato-regular.woff2 -> /content/AMPL.build/ampl/bdist.linux-x86_64/wheel/atomsci/ddm/docs/build/html/_static/fonts/Lato\n",
            "copying atomsci/ddm/docs/build/html/_static/fonts/Lato/lato-bolditalic.woff2 -> /content/AMPL.build/ampl/bdist.linux-x86_64/wheel/atomsci/ddm/docs/build/html/_static/fonts/Lato\n",
            "copying atomsci/ddm/docs/build/html/_static/fonts/Lato/lato-regular.woff -> /content/AMPL.build/ampl/bdist.linux-x86_64/wheel/atomsci/ddm/docs/build/html/_static/fonts/Lato\n",
            "copying atomsci/ddm/docs/build/html/_static/fonts/Lato/lato-italic.woff2 -> /content/AMPL.build/ampl/bdist.linux-x86_64/wheel/atomsci/ddm/docs/build/html/_static/fonts/Lato\n",
            "copying atomsci/ddm/docs/build/html/_static/js/modernizr.min.js -> /content/AMPL.build/ampl/bdist.linux-x86_64/wheel/atomsci/ddm/docs/build/html/_static/js\n",
            "copying atomsci/ddm/docs/build/html/_static/js/theme.js -> /content/AMPL.build/ampl/bdist.linux-x86_64/wheel/atomsci/ddm/docs/build/html/_static/js\n",
            "copying atomsci/ddm/docs/build/html/_static/css/badge_only.css -> /content/AMPL.build/ampl/bdist.linux-x86_64/wheel/atomsci/ddm/docs/build/html/_static/css\n",
            "copying atomsci/ddm/docs/build/html/_static/css/theme.css -> /content/AMPL.build/ampl/bdist.linux-x86_64/wheel/atomsci/ddm/docs/build/html/_static/css\n",
            "copying atomsci/ddm/docs/build/html/_modules/index.html -> /content/AMPL.build/ampl/bdist.linux-x86_64/wheel/atomsci/ddm/docs/build/html/_modules\n",
            "copying atomsci/ddm/docs/build/html/_modules/pipeline/diversity_plots.html -> /content/AMPL.build/ampl/bdist.linux-x86_64/wheel/atomsci/ddm/docs/build/html/_modules/pipeline\n",
            "copying atomsci/ddm/docs/build/html/_modules/pipeline/hyper_perf_plots.html -> /content/AMPL.build/ampl/bdist.linux-x86_64/wheel/atomsci/ddm/docs/build/html/_modules/pipeline\n",
            "copying atomsci/ddm/docs/build/html/_modules/pipeline/ave_splitter.html -> /content/AMPL.build/ampl/bdist.linux-x86_64/wheel/atomsci/ddm/docs/build/html/_modules/pipeline\n",
            "copying atomsci/ddm/docs/build/html/_modules/pipeline/parameter_parser.html -> /content/AMPL.build/ampl/bdist.linux-x86_64/wheel/atomsci/ddm/docs/build/html/_modules/pipeline\n",
            "copying atomsci/ddm/docs/build/html/_modules/pipeline/model_wrapper.html -> /content/AMPL.build/ampl/bdist.linux-x86_64/wheel/atomsci/ddm/docs/build/html/_modules/pipeline\n",
            "copying atomsci/ddm/docs/build/html/_modules/pipeline/featurization.html -> /content/AMPL.build/ampl/bdist.linux-x86_64/wheel/atomsci/ddm/docs/build/html/_modules/pipeline\n",
            "copying atomsci/ddm/docs/build/html/_modules/pipeline/dist_metrics.html -> /content/AMPL.build/ampl/bdist.linux-x86_64/wheel/atomsci/ddm/docs/build/html/_modules/pipeline\n",
            "copying atomsci/ddm/docs/build/html/_modules/pipeline/model_tracker.html -> /content/AMPL.build/ampl/bdist.linux-x86_64/wheel/atomsci/ddm/docs/build/html/_modules/pipeline\n",
            "copying atomsci/ddm/docs/build/html/_modules/pipeline/perf_data.html -> /content/AMPL.build/ampl/bdist.linux-x86_64/wheel/atomsci/ddm/docs/build/html/_modules/pipeline\n",
            "copying atomsci/ddm/docs/build/html/_modules/pipeline/chem_diversity.html -> /content/AMPL.build/ampl/bdist.linux-x86_64/wheel/atomsci/ddm/docs/build/html/_modules/pipeline\n",
            "copying atomsci/ddm/docs/build/html/_modules/pipeline/compare_models.html -> /content/AMPL.build/ampl/bdist.linux-x86_64/wheel/atomsci/ddm/docs/build/html/_modules/pipeline\n",
            "copying atomsci/ddm/docs/build/html/_modules/pipeline/model_datasets.html -> /content/AMPL.build/ampl/bdist.linux-x86_64/wheel/atomsci/ddm/docs/build/html/_modules/pipeline\n",
            "copying atomsci/ddm/docs/build/html/_modules/pipeline/mlmt_client_wrapper.html -> /content/AMPL.build/ampl/bdist.linux-x86_64/wheel/atomsci/ddm/docs/build/html/_modules/pipeline\n",
            "copying atomsci/ddm/docs/build/html/_modules/pipeline/perf_plots.html -> /content/AMPL.build/ampl/bdist.linux-x86_64/wheel/atomsci/ddm/docs/build/html/_modules/pipeline\n",
            "copying atomsci/ddm/docs/build/html/_modules/pipeline/transformations.html -> /content/AMPL.build/ampl/bdist.linux-x86_64/wheel/atomsci/ddm/docs/build/html/_modules/pipeline\n",
            "copying atomsci/ddm/docs/build/html/_modules/pipeline/model_pipeline.html -> /content/AMPL.build/ampl/bdist.linux-x86_64/wheel/atomsci/ddm/docs/build/html/_modules/pipeline\n",
            "copying atomsci/ddm/docs/build/html/_modules/pipeline/splitting.html -> /content/AMPL.build/ampl/bdist.linux-x86_64/wheel/atomsci/ddm/docs/build/html/_modules/pipeline\n",
            "copying atomsci/ddm/docs/source/index.rst -> /content/AMPL.build/ampl/bdist.linux-x86_64/wheel/atomsci/ddm/docs/source\n",
            "copying atomsci/ddm/docs/source/pipeline.rst -> /content/AMPL.build/ampl/bdist.linux-x86_64/wheel/atomsci/ddm/docs/source\n",
            "copying atomsci/ddm/docs/source/modules.rst -> /content/AMPL.build/ampl/bdist.linux-x86_64/wheel/atomsci/ddm/docs/source\n",
            "copying atomsci/ddm/docs/source/conf.py -> /content/AMPL.build/ampl/bdist.linux-x86_64/wheel/atomsci/ddm/docs/source\n",
            "running install_egg_info\n",
            "Copying /content/AMPL.build/ampl/atomsci_ampl.egg-info to /content/AMPL.build/ampl/bdist.linux-x86_64/wheel/atomsci_ampl-1.0.0.dev1-py3.6.egg-info\n",
            "Installing /content/AMPL.build/ampl/bdist.linux-x86_64/wheel/atomsci_ampl-1.0.0.dev1-py3.6-nspkg.pth\n",
            "running install_scripts\n",
            "adding license file \"LICENSE\" (matched pattern \"LICEN[CS]E*\")\n",
            "adding license file \"NOTICE\" (matched pattern \"NOTICE*\")\n",
            "creating /content/AMPL.build/ampl/bdist.linux-x86_64/wheel/atomsci_ampl-1.0.0.dev1.dist-info/WHEEL\n",
            "creating '/content/AMPL.dist/atomsci_ampl-1.0.0.dev1-py3-none-any.whl' and adding '/content/AMPL.build/ampl/bdist.linux-x86_64/wheel' to it\n",
            "adding 'atomsci_ampl-1.0.0.dev1-py3.6-nspkg.pth'\n",
            "adding 'atomsci/ddm/Delaney_Example.ipynb'\n",
            "adding 'atomsci/ddm/Makefile'\n",
            "adding 'atomsci/ddm/__init__.py'\n",
            "adding 'atomsci/ddm/config/config_graphconv_fit_NN.json'\n",
            "adding 'atomsci/ddm/config/config_mordred_fit_RF.json'\n",
            "adding 'atomsci/ddm/config_files/sol_chembl_scaffold_ecfp_nn_hyper_config1.json'\n",
            "adding 'atomsci/ddm/config_files/sol_chembl_scaffold_graphconv_nn_hyper_config1.json'\n",
            "adding 'atomsci/ddm/config_files/sol_chembl_scaffold_mordred_nn_hyper_config1.json'\n",
            "adding 'atomsci/ddm/data/descriptor_sets_sources_by_descr_type.csv'\n",
            "adding 'atomsci/ddm/docs/ATOM_cymatics_black_wordmark.jpg'\n",
            "adding 'atomsci/ddm/docs/ATOM_wordmark_black_transparent.png'\n",
            "adding 'atomsci/ddm/docs/Makefile'\n",
            "adding 'atomsci/ddm/docs/PARAMETERS.md'\n",
            "adding 'atomsci/ddm/docs/build/doctrees/environment.pickle'\n",
            "adding 'atomsci/ddm/docs/build/doctrees/index.doctree'\n",
            "adding 'atomsci/ddm/docs/build/doctrees/modules.doctree'\n",
            "adding 'atomsci/ddm/docs/build/doctrees/pipeline.doctree'\n",
            "adding 'atomsci/ddm/docs/build/html/.buildinfo'\n",
            "adding 'atomsci/ddm/docs/build/html/genindex.html'\n",
            "adding 'atomsci/ddm/docs/build/html/index.html'\n",
            "adding 'atomsci/ddm/docs/build/html/modules.html'\n",
            "adding 'atomsci/ddm/docs/build/html/objects.inv'\n",
            "adding 'atomsci/ddm/docs/build/html/pipeline.html'\n",
            "adding 'atomsci/ddm/docs/build/html/py-modindex.html'\n",
            "adding 'atomsci/ddm/docs/build/html/search.html'\n",
            "adding 'atomsci/ddm/docs/build/html/searchindex.js'\n",
            "adding 'atomsci/ddm/docs/build/html/_modules/index.html'\n",
            "adding 'atomsci/ddm/docs/build/html/_modules/pipeline/ave_splitter.html'\n",
            "adding 'atomsci/ddm/docs/build/html/_modules/pipeline/chem_diversity.html'\n",
            "adding 'atomsci/ddm/docs/build/html/_modules/pipeline/compare_models.html'\n",
            "adding 'atomsci/ddm/docs/build/html/_modules/pipeline/dist_metrics.html'\n",
            "adding 'atomsci/ddm/docs/build/html/_modules/pipeline/diversity_plots.html'\n",
            "adding 'atomsci/ddm/docs/build/html/_modules/pipeline/featurization.html'\n",
            "adding 'atomsci/ddm/docs/build/html/_modules/pipeline/hyper_perf_plots.html'\n",
            "adding 'atomsci/ddm/docs/build/html/_modules/pipeline/mlmt_client_wrapper.html'\n",
            "adding 'atomsci/ddm/docs/build/html/_modules/pipeline/model_datasets.html'\n",
            "adding 'atomsci/ddm/docs/build/html/_modules/pipeline/model_pipeline.html'\n",
            "adding 'atomsci/ddm/docs/build/html/_modules/pipeline/model_tracker.html'\n",
            "adding 'atomsci/ddm/docs/build/html/_modules/pipeline/model_wrapper.html'\n",
            "adding 'atomsci/ddm/docs/build/html/_modules/pipeline/parameter_parser.html'\n",
            "adding 'atomsci/ddm/docs/build/html/_modules/pipeline/perf_data.html'\n",
            "adding 'atomsci/ddm/docs/build/html/_modules/pipeline/perf_plots.html'\n",
            "adding 'atomsci/ddm/docs/build/html/_modules/pipeline/splitting.html'\n",
            "adding 'atomsci/ddm/docs/build/html/_modules/pipeline/transformations.html'\n",
            "adding 'atomsci/ddm/docs/build/html/_sources/index.rst.txt'\n",
            "adding 'atomsci/ddm/docs/build/html/_sources/modules.rst.txt'\n",
            "adding 'atomsci/ddm/docs/build/html/_sources/pipeline.rst.txt'\n",
            "adding 'atomsci/ddm/docs/build/html/_static/ajax-loader.gif'\n",
            "adding 'atomsci/ddm/docs/build/html/_static/basic.css'\n",
            "adding 'atomsci/ddm/docs/build/html/_static/comment-bright.png'\n",
            "adding 'atomsci/ddm/docs/build/html/_static/comment-close.png'\n",
            "adding 'atomsci/ddm/docs/build/html/_static/comment.png'\n",
            "adding 'atomsci/ddm/docs/build/html/_static/doctools.js'\n",
            "adding 'atomsci/ddm/docs/build/html/_static/documentation_options.js'\n",
            "adding 'atomsci/ddm/docs/build/html/_static/down-pressed.png'\n",
            "adding 'atomsci/ddm/docs/build/html/_static/down.png'\n",
            "adding 'atomsci/ddm/docs/build/html/_static/file.png'\n",
            "adding 'atomsci/ddm/docs/build/html/_static/jquery-3.1.0.js'\n",
            "adding 'atomsci/ddm/docs/build/html/_static/jquery-3.2.1.js'\n",
            "adding 'atomsci/ddm/docs/build/html/_static/jquery.js'\n",
            "adding 'atomsci/ddm/docs/build/html/_static/minus.png'\n",
            "adding 'atomsci/ddm/docs/build/html/_static/plus.png'\n",
            "adding 'atomsci/ddm/docs/build/html/_static/pygments.css'\n",
            "adding 'atomsci/ddm/docs/build/html/_static/searchtools.js'\n",
            "adding 'atomsci/ddm/docs/build/html/_static/underscore-1.3.1.js'\n",
            "adding 'atomsci/ddm/docs/build/html/_static/underscore.js'\n",
            "adding 'atomsci/ddm/docs/build/html/_static/up-pressed.png'\n",
            "adding 'atomsci/ddm/docs/build/html/_static/up.png'\n",
            "adding 'atomsci/ddm/docs/build/html/_static/websupport.js'\n",
            "adding 'atomsci/ddm/docs/build/html/_static/css/badge_only.css'\n",
            "adding 'atomsci/ddm/docs/build/html/_static/css/theme.css'\n",
            "adding 'atomsci/ddm/docs/build/html/_static/fonts/fontawesome-webfont.eot'\n",
            "adding 'atomsci/ddm/docs/build/html/_static/fonts/fontawesome-webfont.svg'\n",
            "adding 'atomsci/ddm/docs/build/html/_static/fonts/fontawesome-webfont.ttf'\n",
            "adding 'atomsci/ddm/docs/build/html/_static/fonts/fontawesome-webfont.woff'\n",
            "adding 'atomsci/ddm/docs/build/html/_static/fonts/fontawesome-webfont.woff2'\n",
            "adding 'atomsci/ddm/docs/build/html/_static/fonts/Lato/lato-bold.eot'\n",
            "adding 'atomsci/ddm/docs/build/html/_static/fonts/Lato/lato-bold.ttf'\n",
            "adding 'atomsci/ddm/docs/build/html/_static/fonts/Lato/lato-bold.woff'\n",
            "adding 'atomsci/ddm/docs/build/html/_static/fonts/Lato/lato-bold.woff2'\n",
            "adding 'atomsci/ddm/docs/build/html/_static/fonts/Lato/lato-bolditalic.eot'\n",
            "adding 'atomsci/ddm/docs/build/html/_static/fonts/Lato/lato-bolditalic.ttf'\n",
            "adding 'atomsci/ddm/docs/build/html/_static/fonts/Lato/lato-bolditalic.woff'\n",
            "adding 'atomsci/ddm/docs/build/html/_static/fonts/Lato/lato-bolditalic.woff2'\n",
            "adding 'atomsci/ddm/docs/build/html/_static/fonts/Lato/lato-italic.eot'\n",
            "adding 'atomsci/ddm/docs/build/html/_static/fonts/Lato/lato-italic.ttf'\n",
            "adding 'atomsci/ddm/docs/build/html/_static/fonts/Lato/lato-italic.woff'\n",
            "adding 'atomsci/ddm/docs/build/html/_static/fonts/Lato/lato-italic.woff2'\n",
            "adding 'atomsci/ddm/docs/build/html/_static/fonts/Lato/lato-regular.eot'\n",
            "adding 'atomsci/ddm/docs/build/html/_static/fonts/Lato/lato-regular.ttf'\n",
            "adding 'atomsci/ddm/docs/build/html/_static/fonts/Lato/lato-regular.woff'\n",
            "adding 'atomsci/ddm/docs/build/html/_static/fonts/Lato/lato-regular.woff2'\n",
            "adding 'atomsci/ddm/docs/build/html/_static/fonts/RobotoSlab/roboto-slab-v7-bold.eot'\n",
            "adding 'atomsci/ddm/docs/build/html/_static/fonts/RobotoSlab/roboto-slab-v7-bold.ttf'\n",
            "adding 'atomsci/ddm/docs/build/html/_static/fonts/RobotoSlab/roboto-slab-v7-bold.woff'\n",
            "adding 'atomsci/ddm/docs/build/html/_static/fonts/RobotoSlab/roboto-slab-v7-bold.woff2'\n",
            "adding 'atomsci/ddm/docs/build/html/_static/fonts/RobotoSlab/roboto-slab-v7-regular.eot'\n",
            "adding 'atomsci/ddm/docs/build/html/_static/fonts/RobotoSlab/roboto-slab-v7-regular.ttf'\n",
            "adding 'atomsci/ddm/docs/build/html/_static/fonts/RobotoSlab/roboto-slab-v7-regular.woff'\n",
            "adding 'atomsci/ddm/docs/build/html/_static/fonts/RobotoSlab/roboto-slab-v7-regular.woff2'\n",
            "adding 'atomsci/ddm/docs/build/html/_static/js/modernizr.min.js'\n",
            "adding 'atomsci/ddm/docs/build/html/_static/js/theme.js'\n",
            "adding 'atomsci/ddm/docs/source/conf.py'\n",
            "adding 'atomsci/ddm/docs/source/index.rst'\n",
            "adding 'atomsci/ddm/docs/source/modules.rst'\n",
            "adding 'atomsci/ddm/docs/source/pipeline.rst'\n",
            "adding 'atomsci/ddm/examples/BSEP/LICENSE.pdf'\n",
            "adding 'atomsci/ddm/examples/BSEP/README.md'\n",
            "adding 'atomsci/ddm/examples/BSEP/predict_bsep_inhibition.py'\n",
            "adding 'atomsci/ddm/examples/BSEP/data/ChEMBL25_BSEP_curated_data.csv'\n",
            "adding 'atomsci/ddm/examples/BSEP/data/ChEMBL25_BSEP_test_data.csv'\n",
            "adding 'atomsci/ddm/examples/BSEP/data/README.md'\n",
            "adding 'atomsci/ddm/examples/BSEP/data/morgan_warner_combined_bsep_data.csv'\n",
            "adding 'atomsci/ddm/examples/BSEP/data/small_test_data.csv'\n",
            "adding 'atomsci/ddm/examples/BSEP/models/bsep_classif_random_split.tar.gz'\n",
            "adding 'atomsci/ddm/examples/BSEP/models/bsep_classif_scaffold_split.tar.gz'\n",
            "adding 'atomsci/ddm/examples/data_curation/cyp3a4.csv'\n",
            "adding 'atomsci/ddm/examples/data_curation/cyp3a4_dtc_data_curation_example.py'\n",
            "adding 'atomsci/ddm/examples/data_curation/cyp3a4_dtc_smiles.csv'\n",
            "adding 'atomsci/ddm/pipeline/__init__.py'\n",
            "adding 'atomsci/ddm/pipeline/ave_splitter.py'\n",
            "adding 'atomsci/ddm/pipeline/chem_diversity.py'\n",
            "adding 'atomsci/ddm/pipeline/compare_models.py'\n",
            "adding 'atomsci/ddm/pipeline/dist_metrics.py'\n",
            "adding 'atomsci/ddm/pipeline/diversity_plots.py'\n",
            "adding 'atomsci/ddm/pipeline/featurization.py'\n",
            "adding 'atomsci/ddm/pipeline/hyper_perf_plots.py'\n",
            "adding 'atomsci/ddm/pipeline/model_datasets.py'\n",
            "adding 'atomsci/ddm/pipeline/model_pipeline.py'\n",
            "adding 'atomsci/ddm/pipeline/model_tracker.py'\n",
            "adding 'atomsci/ddm/pipeline/model_wrapper.py'\n",
            "adding 'atomsci/ddm/pipeline/parameter_parser.py'\n",
            "adding 'atomsci/ddm/pipeline/perf_data.py'\n",
            "adding 'atomsci/ddm/pipeline/perf_plots.py'\n",
            "adding 'atomsci/ddm/pipeline/splitting.py'\n",
            "adding 'atomsci/ddm/pipeline/temporal_splitter.py'\n",
            "adding 'atomsci/ddm/pipeline/transformations.py'\n",
            "adding 'atomsci/ddm/test/download_dataset.sh'\n",
            "adding 'atomsci/ddm/test/pytest.ini'\n",
            "adding 'atomsci/ddm/test/integrative/integrative_utilities.py'\n",
            "adding 'atomsci/ddm/test/integrative/delaney_NN/config_delaney_predict_NN.json'\n",
            "adding 'atomsci/ddm/test/integrative/delaney_NN/config_delaney_train_NN.json'\n",
            "adding 'atomsci/ddm/test/integrative/delaney_NN/download_dataset.sh'\n",
            "adding 'atomsci/ddm/test/integrative/delaney_NN/pytest_slurm.sh'\n",
            "adding 'atomsci/ddm/test/integrative/delaney_NN/test_delaney_NN.py'\n",
            "adding 'atomsci/ddm/test/integrative/delaney_RF/config_delaney_fit_RF.json'\n",
            "adding 'atomsci/ddm/test/integrative/delaney_RF/config_delaney_predict_RF.json'\n",
            "adding 'atomsci/ddm/test/integrative/delaney_RF/download_dataset.sh'\n",
            "adding 'atomsci/ddm/test/integrative/delaney_RF/pytest_slurm.sh'\n",
            "adding 'atomsci/ddm/test/integrative/delaney_RF/test_delany_RF.py'\n",
            "adding 'atomsci/ddm/test/integrative/wenzel_NN/config_wenzel_fit_NN.json'\n",
            "adding 'atomsci/ddm/test/integrative/wenzel_NN/config_wenzel_predict_NN.json'\n",
            "adding 'atomsci/ddm/test/integrative/wenzel_NN/download_dataset.sh'\n",
            "adding 'atomsci/ddm/test/integrative/wenzel_NN/pytest_slurm.sh'\n",
            "adding 'atomsci/ddm/test/integrative/wenzel_NN/test_wenzel_NN.py'\n",
            "adding 'atomsci/ddm/test/services/mlmt_client/test_mlmt_client_collections.py'\n",
            "adding 'atomsci/ddm/test/services/mlmt_client/test_mlmt_client_metadata.py'\n",
            "adding 'atomsci/ddm/test/services/mlmt_client/test_mlmt_client_metrics.py'\n",
            "adding 'atomsci/ddm/test/services/mlmt_client/test_mlmt_client_models.py'\n",
            "adding 'atomsci/ddm/test/services/mlmt_client/test_mlmt_client_port.py'\n",
            "adding 'atomsci/ddm/test/services/mlmt_client/utilities.py'\n",
            "adding 'atomsci/ddm/test/unit/config_MAOA_moe_descriptors.json'\n",
            "adding 'atomsci/ddm/test/unit/config_MAOA_moe_descriptors_ds.json'\n",
            "adding 'atomsci/ddm/test/unit/config_datastore_dset_cav12.json'\n",
            "adding 'atomsci/ddm/test/unit/config_delaney.json'\n",
            "adding 'atomsci/ddm/test/unit/config_dupe_inputs.json'\n",
            "adding 'atomsci/ddm/test/unit/config_list_inputs.json'\n",
            "adding 'atomsci/ddm/test/unit/config_required_inputs.json'\n",
            "adding 'atomsci/ddm/test/unit/config_uncurated_bp.json'\n",
            "adding 'atomsci/ddm/test/unit/config_wrong_inputs.json'\n",
            "adding 'atomsci/ddm/test/unit/download_dataset.sh'\n",
            "adding 'atomsci/ddm/test/unit/filter_dict_example.json'\n",
            "adding 'atomsci/ddm/test/unit/metadata_test.json'\n",
            "adding 'atomsci/ddm/test/unit/test_featurization.py'\n",
            "adding 'atomsci/ddm/test/unit/test_model_dataset.py'\n",
            "adding 'atomsci/ddm/test/unit/test_model_wrapper.py'\n",
            "adding 'atomsci/ddm/test/unit/test_param_parser.py'\n",
            "adding 'atomsci/ddm/test/unit/test_splitting.py'\n",
            "adding 'atomsci/ddm/test/unit/utils_testing.py'\n",
            "adding 'atomsci/ddm/utils/__init__.py'\n",
            "adding 'atomsci/ddm/utils/curate_data.py'\n",
            "adding 'atomsci/ddm/utils/data_curation_functions.py'\n",
            "adding 'atomsci/ddm/utils/datastore_functions.py'\n",
            "adding 'atomsci/ddm/utils/genTestset.py'\n",
            "adding 'atomsci/ddm/utils/hyperparam_search_wrapper.py'\n",
            "adding 'atomsci/ddm/utils/llnl_utils.py'\n",
            "adding 'atomsci/ddm/utils/open-docs.py'\n",
            "adding 'atomsci/ddm/utils/process_slurm.py'\n",
            "adding 'atomsci/ddm/utils/pubchem_utils.py'\n",
            "adding 'atomsci/ddm/utils/struct_utils.py'\n",
            "adding 'atomsci_ampl-1.0.0.dev1.dist-info/LICENSE'\n",
            "adding 'atomsci_ampl-1.0.0.dev1.dist-info/METADATA'\n",
            "adding 'atomsci_ampl-1.0.0.dev1.dist-info/NOTICE'\n",
            "adding 'atomsci_ampl-1.0.0.dev1.dist-info/WHEEL'\n",
            "adding 'atomsci_ampl-1.0.0.dev1.dist-info/namespace_packages.txt'\n",
            "adding 'atomsci_ampl-1.0.0.dev1.dist-info/top_level.txt'\n",
            "adding 'atomsci_ampl-1.0.0.dev1.dist-info/RECORD'\n",
            "removing /content/AMPL.build/ampl/bdist.linux-x86_64/wheel\n",
            "DIR: /content/AMPL\n",
            "Ignoring indexes: https://pypi.org/simple\n",
            "Created temporary directory: /tmp/pip-ephem-wheel-cache-mwxrhs6k\n",
            "Created temporary directory: /tmp/pip-req-tracker-28h74k29\n",
            "Created requirements tracker '/tmp/pip-req-tracker-28h74k29'\n",
            "Created temporary directory: /tmp/pip-install-w_b9c5m0\n",
            "Looking in links: /content/AMPL.dist\n",
            "0 location(s) to search for versions of atomsci-ampl:\n",
            "Skipping link: unsupported archive format: .dist: /content/AMPL.dist (from -f)\n",
            "Found link file:///content/AMPL.dist/atomsci_ampl-1.0.0.dev1-py3-none-any.whl, version: 1.0.0.dev1\n",
            "Local files found: /content/AMPL.dist/atomsci_ampl-1.0.0.dev1-py3-none-any.whl\n",
            "Given no hashes to check 1 links for project 'atomsci-ampl': discarding no candidates\n",
            "Using version 1.0.0.dev1 (newest of versions: 1.0.0.dev1)\n",
            "Processing /content/AMPL.dist/atomsci_ampl-1.0.0.dev1-py3-none-any.whl\n",
            "  Added atomsci_ampl from file:///content/AMPL.dist/atomsci_ampl-1.0.0.dev1-py3-none-any.whl to build tracker '/tmp/pip-req-tracker-28h74k29'\n",
            "  Removed atomsci_ampl from file:///content/AMPL.dist/atomsci_ampl-1.0.0.dev1-py3-none-any.whl from build tracker '/tmp/pip-req-tracker-28h74k29'\n",
            "Installing collected packages: atomsci-ampl\n",
            "\n",
            "Successfully installed atomsci-ampl-1.0.0.dev1\n",
            "Cleaning up...\n",
            "Removed build tracker '/tmp/pip-req-tracker-28h74k29'\n",
            "/content\n"
          ],
          "name": "stdout"
        }
      ]
    },
    {
      "cell_type": "markdown",
      "metadata": {
        "id": "7JJOiXLrCxCj",
        "colab_type": "text"
      },
      "source": [
        "**Note: Can start here if the Colab runtime is restarted. Environment is saved in the Colab runtime file system.**"
      ]
    },
    {
      "cell_type": "code",
      "metadata": {
        "id": "BVeV2RISpdBX",
        "colab_type": "code",
        "colab": {
          "base_uri": "https://localhost:8080/",
          "height": 194
        },
        "outputId": "cec0de71-65af-4dd3-a0b9-d34f076f5057"
      },
      "source": [
        "# Insert into path\n",
        "import sys\n",
        "sys.path\n",
        "sys.path.insert(1, '/root/miniconda3/lib/python3.6/site-packages')\n",
        "sys.path"
      ],
      "execution_count": 10,
      "outputs": [
        {
          "output_type": "execute_result",
          "data": {
            "text/plain": [
              "['',\n",
              " '/root/miniconda3/lib/python3.6/site-packages',\n",
              " '/env/python',\n",
              " '/usr/lib/python36.zip',\n",
              " '/usr/lib/python3.6',\n",
              " '/usr/lib/python3.6/lib-dynload',\n",
              " '/usr/local/lib/python3.6/dist-packages',\n",
              " '/usr/lib/python3/dist-packages',\n",
              " '/usr/local/lib/python3.6/dist-packages/IPython/extensions',\n",
              " '/root/.ipython']"
            ]
          },
          "metadata": {
            "tags": []
          },
          "execution_count": 10
        }
      ]
    },
    {
      "cell_type": "code",
      "metadata": {
        "id": "Z0KTYOUAFID7",
        "colab_type": "code",
        "colab": {}
      },
      "source": [
        "# There is a problem with the previously imported cffi, so delete it and load it with AMPL instead\n",
        "if 'cffi' in sys.modules:\n",
        "  del sys.modules['cffi']"
      ],
      "execution_count": 11,
      "outputs": []
    },
    {
      "cell_type": "code",
      "metadata": {
        "id": "E8BxcPS4EVt9",
        "colab_type": "code",
        "colab": {
          "base_uri": "https://localhost:8080/",
          "height": 392
        },
        "outputId": "7fe254aa-6911-45eb-e9fc-d3f133ef86a0"
      },
      "source": [
        "import atomsci.ddm.pipeline.compare_models as cmp\n",
        "import atomsci.ddm.pipeline.model_pipeline as mp\n",
        "import atomsci.ddm.pipeline.parameter_parser as parse"
      ],
      "execution_count": 12,
      "outputs": [
        {
          "output_type": "stream",
          "text": [
            "/root/miniconda3/lib/python3.6/site-packages/tensorflow/python/framework/dtypes.py:517: FutureWarning: Passing (type, 1) or '1type' as a synonym of type is deprecated; in a future version of numpy, it will be understood as (type, (1,)) / '(1,)type'.\n",
            "  _np_qint8 = np.dtype([(\"qint8\", np.int8, 1)])\n",
            "/root/miniconda3/lib/python3.6/site-packages/tensorflow/python/framework/dtypes.py:518: FutureWarning: Passing (type, 1) or '1type' as a synonym of type is deprecated; in a future version of numpy, it will be understood as (type, (1,)) / '(1,)type'.\n",
            "  _np_quint8 = np.dtype([(\"quint8\", np.uint8, 1)])\n",
            "/root/miniconda3/lib/python3.6/site-packages/tensorflow/python/framework/dtypes.py:519: FutureWarning: Passing (type, 1) or '1type' as a synonym of type is deprecated; in a future version of numpy, it will be understood as (type, (1,)) / '(1,)type'.\n",
            "  _np_qint16 = np.dtype([(\"qint16\", np.int16, 1)])\n",
            "/root/miniconda3/lib/python3.6/site-packages/tensorflow/python/framework/dtypes.py:520: FutureWarning: Passing (type, 1) or '1type' as a synonym of type is deprecated; in a future version of numpy, it will be understood as (type, (1,)) / '(1,)type'.\n",
            "  _np_quint16 = np.dtype([(\"quint16\", np.uint16, 1)])\n",
            "/root/miniconda3/lib/python3.6/site-packages/tensorflow/python/framework/dtypes.py:521: FutureWarning: Passing (type, 1) or '1type' as a synonym of type is deprecated; in a future version of numpy, it will be understood as (type, (1,)) / '(1,)type'.\n",
            "  _np_qint32 = np.dtype([(\"qint32\", np.int32, 1)])\n",
            "/root/miniconda3/lib/python3.6/site-packages/tensorflow/python/framework/dtypes.py:526: FutureWarning: Passing (type, 1) or '1type' as a synonym of type is deprecated; in a future version of numpy, it will be understood as (type, (1,)) / '(1,)type'.\n",
            "  np_resource = np.dtype([(\"resource\", np.ubyte, 1)])\n",
            "/root/miniconda3/lib/python3.6/site-packages/h5py/__init__.py:36: FutureWarning: Conversion of the second argument of issubdtype from `float` to `np.floating` is deprecated. In future, it will be treated as `np.float64 == np.dtype(float).type`.\n",
            "  from ._conv import register_converters as _register_converters\n",
            "/root/miniconda3/lib/python3.6/site-packages/sklearn/ensemble/weight_boosting.py:29: DeprecationWarning: numpy.core.umath_tests is an internal NumPy module and should not be imported. It will be removed in a future NumPy release.\n",
            "  from numpy.core.umath_tests import inner1d\n",
            "/root/miniconda3/lib/python3.6/site-packages/dask/dataframe/utils.py:14: FutureWarning: pandas.util.testing is deprecated. Use the functions in the public API at pandas.testing instead.\n",
            "  import pandas.util.testing as tm\n",
            "/root/miniconda3/lib/python3.6/site-packages/sklearn/cross_validation.py:41: DeprecationWarning: This module was deprecated in version 0.18 in favor of the model_selection module into which all the refactored classes and functions are moved. Also note that the interface of the new CV iterators are different from that of this module. This module will be removed in 0.20.\n",
            "  \"This module will be removed in 0.20.\", DeprecationWarning)\n"
          ],
          "name": "stderr"
        }
      ]
    },
    {
      "cell_type": "code",
      "metadata": {
        "id": "MXqJNTpPEYcx",
        "colab_type": "code",
        "colab": {}
      },
      "source": [
        "import os\n",
        "os.mkdir('chembl_activity_models')"
      ],
      "execution_count": 13,
      "outputs": []
    },
    {
      "cell_type": "markdown",
      "metadata": {
        "id": "ZIIEHFGZEdlp",
        "colab_type": "text"
      },
      "source": [
        "**Upload data file ChEMBL26_SCN5A_IC50_human_ml_ready.csv to Colab now.**"
      ]
    },
    {
      "cell_type": "code",
      "metadata": {
        "id": "n3RE8OYSKqqd",
        "colab_type": "code",
        "colab": {}
      },
      "source": [
        "import pandas as pd\n",
        "import requests\n",
        "import io\n",
        "url = 'https://raw.githubusercontent.com/ravichas/AMPL-Tutorial/master/datasets/ChEMBL26_SCN5A_IC50_human_ml_ready.csv'\n",
        "download = requests.get(url).content\n",
        "df = pd.read_csv(url, index_col=0)\n",
        "# Reading the downloaded content and turning it into a pandas dataframe\n",
        "df = pd.read_csv(io.StringIO(download.decode('utf-8')))\n",
        "df.iloc[0:5, 0:5]\n",
        "df.to_csv('ChEMBL26_SCN5A_IC50_human_ml_ready.csv', index=False)"
      ],
      "execution_count": 14,
      "outputs": []
    },
    {
      "cell_type": "code",
      "metadata": {
        "id": "GdYHTPnvIFFD",
        "colab_type": "code",
        "colab": {}
      },
      "source": [
        "split_config = {\n",
        "\"script_dir\": \"/content/AMPL/atomsci/ddm\",\n",
        "\"dataset_key\" : \"/content/ChEMBL26_SCN5A_IC50_human_ml_ready.csv\",\n",
        "\"datastore\": \"False\",\n",
        "\"split_only\": \"True\",\n",
        "\"splitter\": \"scaffold\",\n",
        "\"split_valid_frac\": \"0.15\",\n",
        "\"split_test_frac\": \"0.15\",\n",
        "\"previously_split\": \"False\",\n",
        "\"prediction_type\": \"regression\",\n",
        "\"response_cols\" : \"pIC50\",\n",
        "\"id_col\": \"compound_id\",\n",
        "\"smiles_col\" : \"base_rdkit_smiles\",\n",
        "\"result_dir\": \"/content/chembl_activity_models\",\n",
        "\"system\": \"LC\",\n",
        "\"transformers\": \"True\",\n",
        "\"model_type\": \"NN\",\n",
        "\"featurizer\": \"graphconv\",\n",
        "\"descriptor_type\": \"graphconv\",\n",
        "\"learning_rate\": \"0.0007\",\n",
        "\"layer_sizes\": \"64,64,32\",\n",
        "\"dropouts\" : \"0.0,0.0,0.0\",\n",
        "\"save_results\": \"False\",\n",
        "\"max_epochs\": \"100\",\n",
        "\"verbose\": \"True\"\n",
        "}"
      ],
      "execution_count": 15,
      "outputs": []
    },
    {
      "cell_type": "code",
      "metadata": {
        "id": "rvaovtCdDIiP",
        "colab_type": "code",
        "colab": {}
      },
      "source": [
        "split_params = parse.wrapper(split_config)"
      ],
      "execution_count": 17,
      "outputs": []
    },
    {
      "cell_type": "code",
      "metadata": {
        "id": "6256V9lGDKMX",
        "colab_type": "code",
        "colab": {}
      },
      "source": [
        "split_model = mp.ModelPipeline(split_params)"
      ],
      "execution_count": 18,
      "outputs": []
    },
    {
      "cell_type": "code",
      "metadata": {
        "id": "Me8mKNyFDMEQ",
        "colab_type": "code",
        "colab": {
          "base_uri": "https://localhost:8080/",
          "height": 88
        },
        "outputId": "3f41ec42-7f79-46e4-a709-fa903de7b321"
      },
      "source": [
        "split_uuid = split_model.split_dataset()\n",
        "split_uuid"
      ],
      "execution_count": 19,
      "outputs": [
        {
          "output_type": "stream",
          "text": [
            "number of features: 75\n"
          ],
          "name": "stdout"
        },
        {
          "output_type": "stream",
          "text": [
            "2020-09-16 15:23:55,558 Splitting data by scaffold\n",
            "2020-09-16 15:24:17,253 Dataset split table saved to /content/ChEMBL26_SCN5A_IC50_human_ml_ready_train_valid_test_scaffold_d891ee01-b407-4501-9bd2-d6a16292e8cb.csv\n"
          ],
          "name": "stderr"
        },
        {
          "output_type": "execute_result",
          "data": {
            "application/vnd.google.colaboratory.intrinsic+json": {
              "type": "string"
            },
            "text/plain": [
              "'d891ee01-b407-4501-9bd2-d6a16292e8cb'"
            ]
          },
          "metadata": {
            "tags": []
          },
          "execution_count": 19
        }
      ]
    },
    {
      "cell_type": "code",
      "metadata": {
        "id": "0d79ivM-I49z",
        "colab_type": "code",
        "colab": {
          "base_uri": "https://localhost:8080/",
          "height": 427
        },
        "outputId": "0097b257-cbdf-40ae-fb69-32324e14e42d"
      },
      "source": [
        "!pip install --upgrade gspread"
      ],
      "execution_count": 20,
      "outputs": [
        {
          "output_type": "stream",
          "text": [
            "Collecting gspread\n",
            "  Downloading https://files.pythonhosted.org/packages/9c/ba/bc8de4f5077bd34bc873bdd67a89cb29c4f181abba8a836d2c6a0a142365/gspread-3.6.0-py3-none-any.whl\n",
            "Requirement already satisfied, skipping upgrade: requests>=2.2.1 in /usr/local/lib/python3.6/dist-packages (from gspread) (2.23.0)\n",
            "Requirement already satisfied, skipping upgrade: google-auth>=1.12.0 in /usr/local/lib/python3.6/dist-packages (from gspread) (1.17.2)\n",
            "Requirement already satisfied, skipping upgrade: google-auth-oauthlib>=0.4.1 in /usr/local/lib/python3.6/dist-packages (from gspread) (0.4.1)\n",
            "Requirement already satisfied, skipping upgrade: urllib3!=1.25.0,!=1.25.1,<1.26,>=1.21.1 in /usr/local/lib/python3.6/dist-packages (from requests>=2.2.1->gspread) (1.24.3)\n",
            "Requirement already satisfied, skipping upgrade: idna<3,>=2.5 in /usr/local/lib/python3.6/dist-packages (from requests>=2.2.1->gspread) (2.10)\n",
            "Requirement already satisfied, skipping upgrade: chardet<4,>=3.0.2 in /usr/local/lib/python3.6/dist-packages (from requests>=2.2.1->gspread) (3.0.4)\n",
            "Requirement already satisfied, skipping upgrade: certifi>=2017.4.17 in /usr/local/lib/python3.6/dist-packages (from requests>=2.2.1->gspread) (2020.6.20)\n",
            "Requirement already satisfied, skipping upgrade: cachetools<5.0,>=2.0.0 in /usr/local/lib/python3.6/dist-packages (from google-auth>=1.12.0->gspread) (4.1.1)\n",
            "Requirement already satisfied, skipping upgrade: pyasn1-modules>=0.2.1 in /usr/local/lib/python3.6/dist-packages (from google-auth>=1.12.0->gspread) (0.2.8)\n",
            "Requirement already satisfied, skipping upgrade: rsa<5,>=3.1.4; python_version >= \"3\" in /usr/local/lib/python3.6/dist-packages (from google-auth>=1.12.0->gspread) (4.6)\n",
            "Requirement already satisfied, skipping upgrade: six>=1.9.0 in /usr/local/lib/python3.6/dist-packages (from google-auth>=1.12.0->gspread) (1.15.0)\n",
            "Requirement already satisfied, skipping upgrade: setuptools>=40.3.0 in /usr/local/lib/python3.6/dist-packages (from google-auth>=1.12.0->gspread) (50.3.0)\n",
            "Requirement already satisfied, skipping upgrade: requests-oauthlib>=0.7.0 in /usr/local/lib/python3.6/dist-packages (from google-auth-oauthlib>=0.4.1->gspread) (1.3.0)\n",
            "Requirement already satisfied, skipping upgrade: pyasn1<0.5.0,>=0.4.6 in /usr/local/lib/python3.6/dist-packages (from pyasn1-modules>=0.2.1->google-auth>=1.12.0->gspread) (0.4.8)\n",
            "Requirement already satisfied, skipping upgrade: oauthlib>=3.0.0 in /usr/local/lib/python3.6/dist-packages (from requests-oauthlib>=0.7.0->google-auth-oauthlib>=0.4.1->gspread) (3.1.0)\n",
            "Installing collected packages: gspread\n",
            "  Found existing installation: gspread 3.0.1\n",
            "    Uninstalling gspread-3.0.1:\n",
            "      Successfully uninstalled gspread-3.0.1\n",
            "Successfully installed gspread-3.6.0\n"
          ],
          "name": "stdout"
        }
      ]
    },
    {
      "cell_type": "markdown",
      "metadata": {
        "id": "9D2-0F8jbu4K",
        "colab_type": "text"
      },
      "source": [
        "## Train the mode (~ 10 minutes)"
      ]
    },
    {
      "cell_type": "code",
      "metadata": {
        "id": "eCtts89ZDxLn",
        "colab_type": "code",
        "colab": {}
      },
      "source": [
        "train_config = {\n",
        "\"script_dir\": \"/content/AMPL/atomsci/ddm\",\n",
        "\"dataset_key\" : \"/content/ChEMBL26_SCN5A_IC50_human_ml_ready.csv\",\n",
        "\"datastore\": \"False\",\n",
        "\"uncertainty\": \"False\",\n",
        "\"splitter\": \"scaffold\",\n",
        "\"split_valid_frac\": \"0.15\",\n",
        "\"split_test_frac\": \"0.15\",\n",
        "\"previously_split\": \"True\",\n",
        "\"split_uuid\": \"{}\".format(split_uuid),\n",
        "\"prediction_type\": \"regression\",\n",
        "\"response_cols\" : \"pIC50\",\n",
        "\"id_col\": \"compound_id\",\n",
        "\"smiles_col\" : \"base_rdkit_smiles\",\n",
        "\"result_dir\": \"/content/chembl_activity_models\",\n",
        "\"system\": \"LC\",\n",
        "\"transformers\": \"True\",\n",
        "\"model_type\": \"NN\",\n",
        "\"featurizer\": \"graphconv\",\n",
        "\"descriptor_type\": \"graphconv\",\n",
        "\"learning_rate\": \"0.0007\",\n",
        "\"layer_sizes\": \"64,64,32\",\n",
        "\"dropouts\" : \"0.0,0.0,0.0\",\n",
        "\"save_results\": \"False\",\n",
        "\"max_epochs\": \"100\",\n",
        "\"verbose\": \"True\"\n",
        "}"
      ],
      "execution_count": 21,
      "outputs": []
    },
    {
      "cell_type": "code",
      "metadata": {
        "id": "u3Cjkh76F-ym",
        "colab_type": "code",
        "colab": {}
      },
      "source": [
        "train_params = parse.wrapper(train_config)"
      ],
      "execution_count": 22,
      "outputs": []
    },
    {
      "cell_type": "code",
      "metadata": {
        "id": "949S5ME0GIOf",
        "colab_type": "code",
        "colab": {}
      },
      "source": [
        "train_model = mp.ModelPipeline(train_params)"
      ],
      "execution_count": 24,
      "outputs": []
    },
    {
      "cell_type": "markdown",
      "metadata": {
        "id": "JhVhhldinDid",
        "colab_type": "text"
      },
      "source": [
        "## Train_model took ~ 30 minutes on a TPU"
      ]
    },
    {
      "cell_type": "code",
      "metadata": {
        "id": "dzoK1kDDGPLn",
        "colab_type": "code",
        "colab": {
          "base_uri": "https://localhost:8080/",
          "height": 1000
        },
        "outputId": "f0893b07-5c9b-4b13-864a-8ff3b9f2b835"
      },
      "source": [
        "train_model.train_model()"
      ],
      "execution_count": 25,
      "outputs": [
        {
          "output_type": "stream",
          "text": [
            "number of features: 75\n"
          ],
          "name": "stdout"
        },
        {
          "output_type": "stream",
          "text": [
            "2020-09-16 15:25:54,678 Previous dataset split restored\n"
          ],
          "name": "stderr"
        },
        {
          "output_type": "stream",
          "text": [
            "n_cnt [1729.]\n",
            "y_means [5.15460889]\n",
            "y_stds [0.64359373]\n",
            "TIMING: dataset construction took 1.422 s\n",
            "Loading dataset from disk.\n",
            "TIMING: dataset construction took 0.242 s\n",
            "Loading dataset from disk.\n",
            "TIMING: dataset construction took 0.343 s\n",
            "Loading dataset from disk.\n"
          ],
          "name": "stdout"
        },
        {
          "output_type": "stream",
          "text": [
            "/root/miniconda3/lib/python3.6/site-packages/tensorflow/python/ops/gradients_impl.py:98: UserWarning: Converting sparse IndexedSlices to a dense Tensor of unknown shape. This may consume a large amount of memory.\n",
            "  \"Converting sparse IndexedSlices to a dense Tensor of unknown shape. \"\n"
          ],
          "name": "stderr"
        },
        {
          "output_type": "stream",
          "text": [
            "INFO:tensorflow:Restoring parameters from /content/chembl_activity_models/ChEMBL26_SCN5A_IC50_human_ml_ready/NN_graphconv_scaffold_regression/a5cb7e50-35db-4ca3-88f1-e81813e78774/model/model-25\n"
          ],
          "name": "stdout"
        },
        {
          "output_type": "stream",
          "text": [
            "2020-09-16 15:31:56,866 Restoring parameters from /content/chembl_activity_models/ChEMBL26_SCN5A_IC50_human_ml_ready/NN_graphconv_scaffold_regression/a5cb7e50-35db-4ca3-88f1-e81813e78774/model/model-25\n"
          ],
          "name": "stderr"
        },
        {
          "output_type": "stream",
          "text": [
            "INFO:tensorflow:Restoring parameters from /content/chembl_activity_models/ChEMBL26_SCN5A_IC50_human_ml_ready/NN_graphconv_scaffold_regression/a5cb7e50-35db-4ca3-88f1-e81813e78774/model/model-50\n"
          ],
          "name": "stdout"
        },
        {
          "output_type": "stream",
          "text": [
            "2020-09-16 15:32:07,587 Restoring parameters from /content/chembl_activity_models/ChEMBL26_SCN5A_IC50_human_ml_ready/NN_graphconv_scaffold_regression/a5cb7e50-35db-4ca3-88f1-e81813e78774/model/model-50\n"
          ],
          "name": "stderr"
        },
        {
          "output_type": "stream",
          "text": [
            "INFO:tensorflow:Restoring parameters from /content/chembl_activity_models/ChEMBL26_SCN5A_IC50_human_ml_ready/NN_graphconv_scaffold_regression/a5cb7e50-35db-4ca3-88f1-e81813e78774/model/model-75\n"
          ],
          "name": "stdout"
        },
        {
          "output_type": "stream",
          "text": [
            "2020-09-16 15:32:17,880 Restoring parameters from /content/chembl_activity_models/ChEMBL26_SCN5A_IC50_human_ml_ready/NN_graphconv_scaffold_regression/a5cb7e50-35db-4ca3-88f1-e81813e78774/model/model-75\n"
          ],
          "name": "stderr"
        },
        {
          "output_type": "stream",
          "text": [
            "INFO:tensorflow:Restoring parameters from /content/chembl_activity_models/ChEMBL26_SCN5A_IC50_human_ml_ready/NN_graphconv_scaffold_regression/a5cb7e50-35db-4ca3-88f1-e81813e78774/model/model-100\n"
          ],
          "name": "stdout"
        },
        {
          "output_type": "stream",
          "text": [
            "2020-09-16 15:32:28,287 Restoring parameters from /content/chembl_activity_models/ChEMBL26_SCN5A_IC50_human_ml_ready/NN_graphconv_scaffold_regression/a5cb7e50-35db-4ca3-88f1-e81813e78774/model/model-100\n"
          ],
          "name": "stderr"
        },
        {
          "output_type": "stream",
          "text": [
            "INFO:tensorflow:Restoring parameters from /content/chembl_activity_models/ChEMBL26_SCN5A_IC50_human_ml_ready/NN_graphconv_scaffold_regression/a5cb7e50-35db-4ca3-88f1-e81813e78774/model/model-125\n"
          ],
          "name": "stdout"
        },
        {
          "output_type": "stream",
          "text": [
            "2020-09-16 15:32:38,569 Restoring parameters from /content/chembl_activity_models/ChEMBL26_SCN5A_IC50_human_ml_ready/NN_graphconv_scaffold_regression/a5cb7e50-35db-4ca3-88f1-e81813e78774/model/model-125\n"
          ],
          "name": "stderr"
        },
        {
          "output_type": "stream",
          "text": [
            "INFO:tensorflow:Restoring parameters from /content/chembl_activity_models/ChEMBL26_SCN5A_IC50_human_ml_ready/NN_graphconv_scaffold_regression/a5cb7e50-35db-4ca3-88f1-e81813e78774/model/model-150\n"
          ],
          "name": "stdout"
        },
        {
          "output_type": "stream",
          "text": [
            "2020-09-16 15:32:49,039 Restoring parameters from /content/chembl_activity_models/ChEMBL26_SCN5A_IC50_human_ml_ready/NN_graphconv_scaffold_regression/a5cb7e50-35db-4ca3-88f1-e81813e78774/model/model-150\n"
          ],
          "name": "stderr"
        },
        {
          "output_type": "stream",
          "text": [
            "INFO:tensorflow:Restoring parameters from /content/chembl_activity_models/ChEMBL26_SCN5A_IC50_human_ml_ready/NN_graphconv_scaffold_regression/a5cb7e50-35db-4ca3-88f1-e81813e78774/model/model-175\n"
          ],
          "name": "stdout"
        },
        {
          "output_type": "stream",
          "text": [
            "2020-09-16 15:32:59,686 Restoring parameters from /content/chembl_activity_models/ChEMBL26_SCN5A_IC50_human_ml_ready/NN_graphconv_scaffold_regression/a5cb7e50-35db-4ca3-88f1-e81813e78774/model/model-175\n"
          ],
          "name": "stderr"
        },
        {
          "output_type": "stream",
          "text": [
            "INFO:tensorflow:Restoring parameters from /content/chembl_activity_models/ChEMBL26_SCN5A_IC50_human_ml_ready/NN_graphconv_scaffold_regression/a5cb7e50-35db-4ca3-88f1-e81813e78774/model/model-200\n"
          ],
          "name": "stdout"
        },
        {
          "output_type": "stream",
          "text": [
            "2020-09-16 15:33:10,532 Restoring parameters from /content/chembl_activity_models/ChEMBL26_SCN5A_IC50_human_ml_ready/NN_graphconv_scaffold_regression/a5cb7e50-35db-4ca3-88f1-e81813e78774/model/model-200\n"
          ],
          "name": "stderr"
        },
        {
          "output_type": "stream",
          "text": [
            "INFO:tensorflow:Restoring parameters from /content/chembl_activity_models/ChEMBL26_SCN5A_IC50_human_ml_ready/NN_graphconv_scaffold_regression/a5cb7e50-35db-4ca3-88f1-e81813e78774/model/model-225\n"
          ],
          "name": "stdout"
        },
        {
          "output_type": "stream",
          "text": [
            "2020-09-16 15:33:21,143 Restoring parameters from /content/chembl_activity_models/ChEMBL26_SCN5A_IC50_human_ml_ready/NN_graphconv_scaffold_regression/a5cb7e50-35db-4ca3-88f1-e81813e78774/model/model-225\n"
          ],
          "name": "stderr"
        },
        {
          "output_type": "stream",
          "text": [
            "INFO:tensorflow:Restoring parameters from /content/chembl_activity_models/ChEMBL26_SCN5A_IC50_human_ml_ready/NN_graphconv_scaffold_regression/a5cb7e50-35db-4ca3-88f1-e81813e78774/model/model-250\n"
          ],
          "name": "stdout"
        },
        {
          "output_type": "stream",
          "text": [
            "2020-09-16 15:33:31,937 Restoring parameters from /content/chembl_activity_models/ChEMBL26_SCN5A_IC50_human_ml_ready/NN_graphconv_scaffold_regression/a5cb7e50-35db-4ca3-88f1-e81813e78774/model/model-250\n"
          ],
          "name": "stderr"
        },
        {
          "output_type": "stream",
          "text": [
            "INFO:tensorflow:Restoring parameters from /content/chembl_activity_models/ChEMBL26_SCN5A_IC50_human_ml_ready/NN_graphconv_scaffold_regression/a5cb7e50-35db-4ca3-88f1-e81813e78774/model/model-275\n"
          ],
          "name": "stdout"
        },
        {
          "output_type": "stream",
          "text": [
            "2020-09-16 15:33:42,508 Restoring parameters from /content/chembl_activity_models/ChEMBL26_SCN5A_IC50_human_ml_ready/NN_graphconv_scaffold_regression/a5cb7e50-35db-4ca3-88f1-e81813e78774/model/model-275\n"
          ],
          "name": "stderr"
        },
        {
          "output_type": "stream",
          "text": [
            "INFO:tensorflow:Restoring parameters from /content/chembl_activity_models/ChEMBL26_SCN5A_IC50_human_ml_ready/NN_graphconv_scaffold_regression/a5cb7e50-35db-4ca3-88f1-e81813e78774/model/model-300\n"
          ],
          "name": "stdout"
        },
        {
          "output_type": "stream",
          "text": [
            "2020-09-16 15:33:53,029 Restoring parameters from /content/chembl_activity_models/ChEMBL26_SCN5A_IC50_human_ml_ready/NN_graphconv_scaffold_regression/a5cb7e50-35db-4ca3-88f1-e81813e78774/model/model-300\n"
          ],
          "name": "stderr"
        },
        {
          "output_type": "stream",
          "text": [
            "INFO:tensorflow:Restoring parameters from /content/chembl_activity_models/ChEMBL26_SCN5A_IC50_human_ml_ready/NN_graphconv_scaffold_regression/a5cb7e50-35db-4ca3-88f1-e81813e78774/model/model-325\n"
          ],
          "name": "stdout"
        },
        {
          "output_type": "stream",
          "text": [
            "2020-09-16 15:34:03,639 Restoring parameters from /content/chembl_activity_models/ChEMBL26_SCN5A_IC50_human_ml_ready/NN_graphconv_scaffold_regression/a5cb7e50-35db-4ca3-88f1-e81813e78774/model/model-325\n"
          ],
          "name": "stderr"
        },
        {
          "output_type": "stream",
          "text": [
            "INFO:tensorflow:Restoring parameters from /content/chembl_activity_models/ChEMBL26_SCN5A_IC50_human_ml_ready/NN_graphconv_scaffold_regression/a5cb7e50-35db-4ca3-88f1-e81813e78774/model/model-350\n"
          ],
          "name": "stdout"
        },
        {
          "output_type": "stream",
          "text": [
            "2020-09-16 15:34:14,288 Restoring parameters from /content/chembl_activity_models/ChEMBL26_SCN5A_IC50_human_ml_ready/NN_graphconv_scaffold_regression/a5cb7e50-35db-4ca3-88f1-e81813e78774/model/model-350\n"
          ],
          "name": "stderr"
        },
        {
          "output_type": "stream",
          "text": [
            "INFO:tensorflow:Restoring parameters from /content/chembl_activity_models/ChEMBL26_SCN5A_IC50_human_ml_ready/NN_graphconv_scaffold_regression/a5cb7e50-35db-4ca3-88f1-e81813e78774/model/model-375\n"
          ],
          "name": "stdout"
        },
        {
          "output_type": "stream",
          "text": [
            "2020-09-16 15:34:24,912 Restoring parameters from /content/chembl_activity_models/ChEMBL26_SCN5A_IC50_human_ml_ready/NN_graphconv_scaffold_regression/a5cb7e50-35db-4ca3-88f1-e81813e78774/model/model-375\n"
          ],
          "name": "stderr"
        },
        {
          "output_type": "stream",
          "text": [
            "INFO:tensorflow:Restoring parameters from /content/chembl_activity_models/ChEMBL26_SCN5A_IC50_human_ml_ready/NN_graphconv_scaffold_regression/a5cb7e50-35db-4ca3-88f1-e81813e78774/model/model-400\n"
          ],
          "name": "stdout"
        },
        {
          "output_type": "stream",
          "text": [
            "2020-09-16 15:34:35,684 Restoring parameters from /content/chembl_activity_models/ChEMBL26_SCN5A_IC50_human_ml_ready/NN_graphconv_scaffold_regression/a5cb7e50-35db-4ca3-88f1-e81813e78774/model/model-400\n"
          ],
          "name": "stderr"
        },
        {
          "output_type": "stream",
          "text": [
            "INFO:tensorflow:Restoring parameters from /content/chembl_activity_models/ChEMBL26_SCN5A_IC50_human_ml_ready/NN_graphconv_scaffold_regression/a5cb7e50-35db-4ca3-88f1-e81813e78774/model/model-425\n"
          ],
          "name": "stdout"
        },
        {
          "output_type": "stream",
          "text": [
            "2020-09-16 15:34:46,562 Restoring parameters from /content/chembl_activity_models/ChEMBL26_SCN5A_IC50_human_ml_ready/NN_graphconv_scaffold_regression/a5cb7e50-35db-4ca3-88f1-e81813e78774/model/model-425\n"
          ],
          "name": "stderr"
        },
        {
          "output_type": "stream",
          "text": [
            "INFO:tensorflow:Restoring parameters from /content/chembl_activity_models/ChEMBL26_SCN5A_IC50_human_ml_ready/NN_graphconv_scaffold_regression/a5cb7e50-35db-4ca3-88f1-e81813e78774/model/model-450\n"
          ],
          "name": "stdout"
        },
        {
          "output_type": "stream",
          "text": [
            "2020-09-16 15:34:57,286 Restoring parameters from /content/chembl_activity_models/ChEMBL26_SCN5A_IC50_human_ml_ready/NN_graphconv_scaffold_regression/a5cb7e50-35db-4ca3-88f1-e81813e78774/model/model-450\n"
          ],
          "name": "stderr"
        },
        {
          "output_type": "stream",
          "text": [
            "INFO:tensorflow:Restoring parameters from /content/chembl_activity_models/ChEMBL26_SCN5A_IC50_human_ml_ready/NN_graphconv_scaffold_regression/a5cb7e50-35db-4ca3-88f1-e81813e78774/model/model-475\n"
          ],
          "name": "stdout"
        },
        {
          "output_type": "stream",
          "text": [
            "2020-09-16 15:35:08,200 Restoring parameters from /content/chembl_activity_models/ChEMBL26_SCN5A_IC50_human_ml_ready/NN_graphconv_scaffold_regression/a5cb7e50-35db-4ca3-88f1-e81813e78774/model/model-475\n"
          ],
          "name": "stderr"
        },
        {
          "output_type": "stream",
          "text": [
            "INFO:tensorflow:Restoring parameters from /content/chembl_activity_models/ChEMBL26_SCN5A_IC50_human_ml_ready/NN_graphconv_scaffold_regression/a5cb7e50-35db-4ca3-88f1-e81813e78774/model/model-500\n"
          ],
          "name": "stdout"
        },
        {
          "output_type": "stream",
          "text": [
            "2020-09-16 15:35:19,170 Restoring parameters from /content/chembl_activity_models/ChEMBL26_SCN5A_IC50_human_ml_ready/NN_graphconv_scaffold_regression/a5cb7e50-35db-4ca3-88f1-e81813e78774/model/model-500\n"
          ],
          "name": "stderr"
        },
        {
          "output_type": "stream",
          "text": [
            "INFO:tensorflow:Restoring parameters from /content/chembl_activity_models/ChEMBL26_SCN5A_IC50_human_ml_ready/NN_graphconv_scaffold_regression/a5cb7e50-35db-4ca3-88f1-e81813e78774/model/model-525\n"
          ],
          "name": "stdout"
        },
        {
          "output_type": "stream",
          "text": [
            "2020-09-16 15:35:29,837 Restoring parameters from /content/chembl_activity_models/ChEMBL26_SCN5A_IC50_human_ml_ready/NN_graphconv_scaffold_regression/a5cb7e50-35db-4ca3-88f1-e81813e78774/model/model-525\n"
          ],
          "name": "stderr"
        },
        {
          "output_type": "stream",
          "text": [
            "INFO:tensorflow:Restoring parameters from /content/chembl_activity_models/ChEMBL26_SCN5A_IC50_human_ml_ready/NN_graphconv_scaffold_regression/a5cb7e50-35db-4ca3-88f1-e81813e78774/model/model-550\n"
          ],
          "name": "stdout"
        },
        {
          "output_type": "stream",
          "text": [
            "2020-09-16 15:35:40,902 Restoring parameters from /content/chembl_activity_models/ChEMBL26_SCN5A_IC50_human_ml_ready/NN_graphconv_scaffold_regression/a5cb7e50-35db-4ca3-88f1-e81813e78774/model/model-550\n"
          ],
          "name": "stderr"
        },
        {
          "output_type": "stream",
          "text": [
            "INFO:tensorflow:Restoring parameters from /content/chembl_activity_models/ChEMBL26_SCN5A_IC50_human_ml_ready/NN_graphconv_scaffold_regression/a5cb7e50-35db-4ca3-88f1-e81813e78774/model/model-575\n"
          ],
          "name": "stdout"
        },
        {
          "output_type": "stream",
          "text": [
            "2020-09-16 15:35:51,909 Restoring parameters from /content/chembl_activity_models/ChEMBL26_SCN5A_IC50_human_ml_ready/NN_graphconv_scaffold_regression/a5cb7e50-35db-4ca3-88f1-e81813e78774/model/model-575\n"
          ],
          "name": "stderr"
        },
        {
          "output_type": "stream",
          "text": [
            "INFO:tensorflow:Restoring parameters from /content/chembl_activity_models/ChEMBL26_SCN5A_IC50_human_ml_ready/NN_graphconv_scaffold_regression/a5cb7e50-35db-4ca3-88f1-e81813e78774/model/model-600\n"
          ],
          "name": "stdout"
        },
        {
          "output_type": "stream",
          "text": [
            "2020-09-16 15:36:02,489 Restoring parameters from /content/chembl_activity_models/ChEMBL26_SCN5A_IC50_human_ml_ready/NN_graphconv_scaffold_regression/a5cb7e50-35db-4ca3-88f1-e81813e78774/model/model-600\n"
          ],
          "name": "stderr"
        },
        {
          "output_type": "stream",
          "text": [
            "INFO:tensorflow:Restoring parameters from /content/chembl_activity_models/ChEMBL26_SCN5A_IC50_human_ml_ready/NN_graphconv_scaffold_regression/a5cb7e50-35db-4ca3-88f1-e81813e78774/model/model-625\n"
          ],
          "name": "stdout"
        },
        {
          "output_type": "stream",
          "text": [
            "2020-09-16 15:36:13,495 Restoring parameters from /content/chembl_activity_models/ChEMBL26_SCN5A_IC50_human_ml_ready/NN_graphconv_scaffold_regression/a5cb7e50-35db-4ca3-88f1-e81813e78774/model/model-625\n"
          ],
          "name": "stderr"
        },
        {
          "output_type": "stream",
          "text": [
            "INFO:tensorflow:Restoring parameters from /content/chembl_activity_models/ChEMBL26_SCN5A_IC50_human_ml_ready/NN_graphconv_scaffold_regression/a5cb7e50-35db-4ca3-88f1-e81813e78774/model/model-650\n"
          ],
          "name": "stdout"
        },
        {
          "output_type": "stream",
          "text": [
            "2020-09-16 15:36:24,324 Restoring parameters from /content/chembl_activity_models/ChEMBL26_SCN5A_IC50_human_ml_ready/NN_graphconv_scaffold_regression/a5cb7e50-35db-4ca3-88f1-e81813e78774/model/model-650\n"
          ],
          "name": "stderr"
        },
        {
          "output_type": "stream",
          "text": [
            "INFO:tensorflow:Restoring parameters from /content/chembl_activity_models/ChEMBL26_SCN5A_IC50_human_ml_ready/NN_graphconv_scaffold_regression/a5cb7e50-35db-4ca3-88f1-e81813e78774/model/model-675\n"
          ],
          "name": "stdout"
        },
        {
          "output_type": "stream",
          "text": [
            "2020-09-16 15:36:35,360 Restoring parameters from /content/chembl_activity_models/ChEMBL26_SCN5A_IC50_human_ml_ready/NN_graphconv_scaffold_regression/a5cb7e50-35db-4ca3-88f1-e81813e78774/model/model-675\n"
          ],
          "name": "stderr"
        },
        {
          "output_type": "stream",
          "text": [
            "INFO:tensorflow:Restoring parameters from /content/chembl_activity_models/ChEMBL26_SCN5A_IC50_human_ml_ready/NN_graphconv_scaffold_regression/a5cb7e50-35db-4ca3-88f1-e81813e78774/model/model-700\n"
          ],
          "name": "stdout"
        },
        {
          "output_type": "stream",
          "text": [
            "2020-09-16 15:36:46,162 Restoring parameters from /content/chembl_activity_models/ChEMBL26_SCN5A_IC50_human_ml_ready/NN_graphconv_scaffold_regression/a5cb7e50-35db-4ca3-88f1-e81813e78774/model/model-700\n"
          ],
          "name": "stderr"
        },
        {
          "output_type": "stream",
          "text": [
            "INFO:tensorflow:Restoring parameters from /content/chembl_activity_models/ChEMBL26_SCN5A_IC50_human_ml_ready/NN_graphconv_scaffold_regression/a5cb7e50-35db-4ca3-88f1-e81813e78774/model/model-725\n"
          ],
          "name": "stdout"
        },
        {
          "output_type": "stream",
          "text": [
            "2020-09-16 15:36:57,039 Restoring parameters from /content/chembl_activity_models/ChEMBL26_SCN5A_IC50_human_ml_ready/NN_graphconv_scaffold_regression/a5cb7e50-35db-4ca3-88f1-e81813e78774/model/model-725\n"
          ],
          "name": "stderr"
        },
        {
          "output_type": "stream",
          "text": [
            "INFO:tensorflow:Restoring parameters from /content/chembl_activity_models/ChEMBL26_SCN5A_IC50_human_ml_ready/NN_graphconv_scaffold_regression/a5cb7e50-35db-4ca3-88f1-e81813e78774/model/model-750\n"
          ],
          "name": "stdout"
        },
        {
          "output_type": "stream",
          "text": [
            "2020-09-16 15:37:08,393 Restoring parameters from /content/chembl_activity_models/ChEMBL26_SCN5A_IC50_human_ml_ready/NN_graphconv_scaffold_regression/a5cb7e50-35db-4ca3-88f1-e81813e78774/model/model-750\n"
          ],
          "name": "stderr"
        },
        {
          "output_type": "stream",
          "text": [
            "INFO:tensorflow:Restoring parameters from /content/chembl_activity_models/ChEMBL26_SCN5A_IC50_human_ml_ready/NN_graphconv_scaffold_regression/a5cb7e50-35db-4ca3-88f1-e81813e78774/model/model-775\n"
          ],
          "name": "stdout"
        },
        {
          "output_type": "stream",
          "text": [
            "2020-09-16 15:37:19,417 Restoring parameters from /content/chembl_activity_models/ChEMBL26_SCN5A_IC50_human_ml_ready/NN_graphconv_scaffold_regression/a5cb7e50-35db-4ca3-88f1-e81813e78774/model/model-775\n"
          ],
          "name": "stderr"
        },
        {
          "output_type": "stream",
          "text": [
            "INFO:tensorflow:Restoring parameters from /content/chembl_activity_models/ChEMBL26_SCN5A_IC50_human_ml_ready/NN_graphconv_scaffold_regression/a5cb7e50-35db-4ca3-88f1-e81813e78774/model/model-800\n"
          ],
          "name": "stdout"
        },
        {
          "output_type": "stream",
          "text": [
            "2020-09-16 15:37:30,805 Restoring parameters from /content/chembl_activity_models/ChEMBL26_SCN5A_IC50_human_ml_ready/NN_graphconv_scaffold_regression/a5cb7e50-35db-4ca3-88f1-e81813e78774/model/model-800\n"
          ],
          "name": "stderr"
        },
        {
          "output_type": "stream",
          "text": [
            "INFO:tensorflow:Restoring parameters from /content/chembl_activity_models/ChEMBL26_SCN5A_IC50_human_ml_ready/NN_graphconv_scaffold_regression/a5cb7e50-35db-4ca3-88f1-e81813e78774/model/model-825\n"
          ],
          "name": "stdout"
        },
        {
          "output_type": "stream",
          "text": [
            "2020-09-16 15:37:42,071 Restoring parameters from /content/chembl_activity_models/ChEMBL26_SCN5A_IC50_human_ml_ready/NN_graphconv_scaffold_regression/a5cb7e50-35db-4ca3-88f1-e81813e78774/model/model-825\n"
          ],
          "name": "stderr"
        },
        {
          "output_type": "stream",
          "text": [
            "INFO:tensorflow:Restoring parameters from /content/chembl_activity_models/ChEMBL26_SCN5A_IC50_human_ml_ready/NN_graphconv_scaffold_regression/a5cb7e50-35db-4ca3-88f1-e81813e78774/model/model-850\n"
          ],
          "name": "stdout"
        },
        {
          "output_type": "stream",
          "text": [
            "2020-09-16 15:37:53,197 Restoring parameters from /content/chembl_activity_models/ChEMBL26_SCN5A_IC50_human_ml_ready/NN_graphconv_scaffold_regression/a5cb7e50-35db-4ca3-88f1-e81813e78774/model/model-850\n"
          ],
          "name": "stderr"
        },
        {
          "output_type": "stream",
          "text": [
            "INFO:tensorflow:Restoring parameters from /content/chembl_activity_models/ChEMBL26_SCN5A_IC50_human_ml_ready/NN_graphconv_scaffold_regression/a5cb7e50-35db-4ca3-88f1-e81813e78774/model/model-875\n"
          ],
          "name": "stdout"
        },
        {
          "output_type": "stream",
          "text": [
            "2020-09-16 15:38:04,590 Restoring parameters from /content/chembl_activity_models/ChEMBL26_SCN5A_IC50_human_ml_ready/NN_graphconv_scaffold_regression/a5cb7e50-35db-4ca3-88f1-e81813e78774/model/model-875\n"
          ],
          "name": "stderr"
        },
        {
          "output_type": "stream",
          "text": [
            "INFO:tensorflow:Restoring parameters from /content/chembl_activity_models/ChEMBL26_SCN5A_IC50_human_ml_ready/NN_graphconv_scaffold_regression/a5cb7e50-35db-4ca3-88f1-e81813e78774/model/model-900\n"
          ],
          "name": "stdout"
        },
        {
          "output_type": "stream",
          "text": [
            "2020-09-16 15:38:15,750 Restoring parameters from /content/chembl_activity_models/ChEMBL26_SCN5A_IC50_human_ml_ready/NN_graphconv_scaffold_regression/a5cb7e50-35db-4ca3-88f1-e81813e78774/model/model-900\n"
          ],
          "name": "stderr"
        },
        {
          "output_type": "stream",
          "text": [
            "INFO:tensorflow:Restoring parameters from /content/chembl_activity_models/ChEMBL26_SCN5A_IC50_human_ml_ready/NN_graphconv_scaffold_regression/a5cb7e50-35db-4ca3-88f1-e81813e78774/model/model-925\n"
          ],
          "name": "stdout"
        },
        {
          "output_type": "stream",
          "text": [
            "2020-09-16 15:38:27,089 Restoring parameters from /content/chembl_activity_models/ChEMBL26_SCN5A_IC50_human_ml_ready/NN_graphconv_scaffold_regression/a5cb7e50-35db-4ca3-88f1-e81813e78774/model/model-925\n"
          ],
          "name": "stderr"
        },
        {
          "output_type": "stream",
          "text": [
            "INFO:tensorflow:Restoring parameters from /content/chembl_activity_models/ChEMBL26_SCN5A_IC50_human_ml_ready/NN_graphconv_scaffold_regression/a5cb7e50-35db-4ca3-88f1-e81813e78774/model/model-950\n"
          ],
          "name": "stdout"
        },
        {
          "output_type": "stream",
          "text": [
            "2020-09-16 15:38:38,609 Restoring parameters from /content/chembl_activity_models/ChEMBL26_SCN5A_IC50_human_ml_ready/NN_graphconv_scaffold_regression/a5cb7e50-35db-4ca3-88f1-e81813e78774/model/model-950\n"
          ],
          "name": "stderr"
        },
        {
          "output_type": "stream",
          "text": [
            "INFO:tensorflow:Restoring parameters from /content/chembl_activity_models/ChEMBL26_SCN5A_IC50_human_ml_ready/NN_graphconv_scaffold_regression/a5cb7e50-35db-4ca3-88f1-e81813e78774/model/model-975\n"
          ],
          "name": "stdout"
        },
        {
          "output_type": "stream",
          "text": [
            "2020-09-16 15:38:50,157 Restoring parameters from /content/chembl_activity_models/ChEMBL26_SCN5A_IC50_human_ml_ready/NN_graphconv_scaffold_regression/a5cb7e50-35db-4ca3-88f1-e81813e78774/model/model-975\n"
          ],
          "name": "stderr"
        },
        {
          "output_type": "stream",
          "text": [
            "INFO:tensorflow:Restoring parameters from /content/chembl_activity_models/ChEMBL26_SCN5A_IC50_human_ml_ready/NN_graphconv_scaffold_regression/a5cb7e50-35db-4ca3-88f1-e81813e78774/model/model-1000\n"
          ],
          "name": "stdout"
        },
        {
          "output_type": "stream",
          "text": [
            "2020-09-16 15:39:02,716 Restoring parameters from /content/chembl_activity_models/ChEMBL26_SCN5A_IC50_human_ml_ready/NN_graphconv_scaffold_regression/a5cb7e50-35db-4ca3-88f1-e81813e78774/model/model-1000\n"
          ],
          "name": "stderr"
        },
        {
          "output_type": "stream",
          "text": [
            "INFO:tensorflow:Restoring parameters from /content/chembl_activity_models/ChEMBL26_SCN5A_IC50_human_ml_ready/NN_graphconv_scaffold_regression/a5cb7e50-35db-4ca3-88f1-e81813e78774/model/model-1025\n"
          ],
          "name": "stdout"
        },
        {
          "output_type": "stream",
          "text": [
            "2020-09-16 15:39:14,041 Restoring parameters from /content/chembl_activity_models/ChEMBL26_SCN5A_IC50_human_ml_ready/NN_graphconv_scaffold_regression/a5cb7e50-35db-4ca3-88f1-e81813e78774/model/model-1025\n"
          ],
          "name": "stderr"
        },
        {
          "output_type": "stream",
          "text": [
            "INFO:tensorflow:Restoring parameters from /content/chembl_activity_models/ChEMBL26_SCN5A_IC50_human_ml_ready/NN_graphconv_scaffold_regression/a5cb7e50-35db-4ca3-88f1-e81813e78774/model/model-1050\n"
          ],
          "name": "stdout"
        },
        {
          "output_type": "stream",
          "text": [
            "2020-09-16 15:39:25,504 Restoring parameters from /content/chembl_activity_models/ChEMBL26_SCN5A_IC50_human_ml_ready/NN_graphconv_scaffold_regression/a5cb7e50-35db-4ca3-88f1-e81813e78774/model/model-1050\n"
          ],
          "name": "stderr"
        },
        {
          "output_type": "stream",
          "text": [
            "INFO:tensorflow:Restoring parameters from /content/chembl_activity_models/ChEMBL26_SCN5A_IC50_human_ml_ready/NN_graphconv_scaffold_regression/a5cb7e50-35db-4ca3-88f1-e81813e78774/model/model-1075\n"
          ],
          "name": "stdout"
        },
        {
          "output_type": "stream",
          "text": [
            "2020-09-16 15:39:36,927 Restoring parameters from /content/chembl_activity_models/ChEMBL26_SCN5A_IC50_human_ml_ready/NN_graphconv_scaffold_regression/a5cb7e50-35db-4ca3-88f1-e81813e78774/model/model-1075\n"
          ],
          "name": "stderr"
        },
        {
          "output_type": "stream",
          "text": [
            "INFO:tensorflow:Restoring parameters from /content/chembl_activity_models/ChEMBL26_SCN5A_IC50_human_ml_ready/NN_graphconv_scaffold_regression/a5cb7e50-35db-4ca3-88f1-e81813e78774/model/model-1100\n"
          ],
          "name": "stdout"
        },
        {
          "output_type": "stream",
          "text": [
            "2020-09-16 15:39:48,325 Restoring parameters from /content/chembl_activity_models/ChEMBL26_SCN5A_IC50_human_ml_ready/NN_graphconv_scaffold_regression/a5cb7e50-35db-4ca3-88f1-e81813e78774/model/model-1100\n"
          ],
          "name": "stderr"
        },
        {
          "output_type": "stream",
          "text": [
            "INFO:tensorflow:Restoring parameters from /content/chembl_activity_models/ChEMBL26_SCN5A_IC50_human_ml_ready/NN_graphconv_scaffold_regression/a5cb7e50-35db-4ca3-88f1-e81813e78774/model/model-1125\n"
          ],
          "name": "stdout"
        },
        {
          "output_type": "stream",
          "text": [
            "2020-09-16 15:39:59,802 Restoring parameters from /content/chembl_activity_models/ChEMBL26_SCN5A_IC50_human_ml_ready/NN_graphconv_scaffold_regression/a5cb7e50-35db-4ca3-88f1-e81813e78774/model/model-1125\n"
          ],
          "name": "stderr"
        },
        {
          "output_type": "stream",
          "text": [
            "INFO:tensorflow:Restoring parameters from /content/chembl_activity_models/ChEMBL26_SCN5A_IC50_human_ml_ready/NN_graphconv_scaffold_regression/a5cb7e50-35db-4ca3-88f1-e81813e78774/model/model-1150\n"
          ],
          "name": "stdout"
        },
        {
          "output_type": "stream",
          "text": [
            "2020-09-16 15:40:11,310 Restoring parameters from /content/chembl_activity_models/ChEMBL26_SCN5A_IC50_human_ml_ready/NN_graphconv_scaffold_regression/a5cb7e50-35db-4ca3-88f1-e81813e78774/model/model-1150\n"
          ],
          "name": "stderr"
        },
        {
          "output_type": "stream",
          "text": [
            "INFO:tensorflow:Restoring parameters from /content/chembl_activity_models/ChEMBL26_SCN5A_IC50_human_ml_ready/NN_graphconv_scaffold_regression/a5cb7e50-35db-4ca3-88f1-e81813e78774/model/model-1175\n"
          ],
          "name": "stdout"
        },
        {
          "output_type": "stream",
          "text": [
            "2020-09-16 15:40:22,864 Restoring parameters from /content/chembl_activity_models/ChEMBL26_SCN5A_IC50_human_ml_ready/NN_graphconv_scaffold_regression/a5cb7e50-35db-4ca3-88f1-e81813e78774/model/model-1175\n"
          ],
          "name": "stderr"
        },
        {
          "output_type": "stream",
          "text": [
            "INFO:tensorflow:Restoring parameters from /content/chembl_activity_models/ChEMBL26_SCN5A_IC50_human_ml_ready/NN_graphconv_scaffold_regression/a5cb7e50-35db-4ca3-88f1-e81813e78774/model/model-1200\n"
          ],
          "name": "stdout"
        },
        {
          "output_type": "stream",
          "text": [
            "2020-09-16 15:40:34,764 Restoring parameters from /content/chembl_activity_models/ChEMBL26_SCN5A_IC50_human_ml_ready/NN_graphconv_scaffold_regression/a5cb7e50-35db-4ca3-88f1-e81813e78774/model/model-1200\n"
          ],
          "name": "stderr"
        },
        {
          "output_type": "stream",
          "text": [
            "INFO:tensorflow:Restoring parameters from /content/chembl_activity_models/ChEMBL26_SCN5A_IC50_human_ml_ready/NN_graphconv_scaffold_regression/a5cb7e50-35db-4ca3-88f1-e81813e78774/model/model-1225\n"
          ],
          "name": "stdout"
        },
        {
          "output_type": "stream",
          "text": [
            "2020-09-16 15:40:46,467 Restoring parameters from /content/chembl_activity_models/ChEMBL26_SCN5A_IC50_human_ml_ready/NN_graphconv_scaffold_regression/a5cb7e50-35db-4ca3-88f1-e81813e78774/model/model-1225\n"
          ],
          "name": "stderr"
        },
        {
          "output_type": "stream",
          "text": [
            "INFO:tensorflow:Restoring parameters from /content/chembl_activity_models/ChEMBL26_SCN5A_IC50_human_ml_ready/NN_graphconv_scaffold_regression/a5cb7e50-35db-4ca3-88f1-e81813e78774/model/model-1250\n"
          ],
          "name": "stdout"
        },
        {
          "output_type": "stream",
          "text": [
            "2020-09-16 15:40:58,286 Restoring parameters from /content/chembl_activity_models/ChEMBL26_SCN5A_IC50_human_ml_ready/NN_graphconv_scaffold_regression/a5cb7e50-35db-4ca3-88f1-e81813e78774/model/model-1250\n"
          ],
          "name": "stderr"
        },
        {
          "output_type": "stream",
          "text": [
            "INFO:tensorflow:Restoring parameters from /content/chembl_activity_models/ChEMBL26_SCN5A_IC50_human_ml_ready/NN_graphconv_scaffold_regression/a5cb7e50-35db-4ca3-88f1-e81813e78774/model/model-1275\n"
          ],
          "name": "stdout"
        },
        {
          "output_type": "stream",
          "text": [
            "2020-09-16 15:41:10,155 Restoring parameters from /content/chembl_activity_models/ChEMBL26_SCN5A_IC50_human_ml_ready/NN_graphconv_scaffold_regression/a5cb7e50-35db-4ca3-88f1-e81813e78774/model/model-1275\n"
          ],
          "name": "stderr"
        },
        {
          "output_type": "stream",
          "text": [
            "INFO:tensorflow:Restoring parameters from /content/chembl_activity_models/ChEMBL26_SCN5A_IC50_human_ml_ready/NN_graphconv_scaffold_regression/a5cb7e50-35db-4ca3-88f1-e81813e78774/model/model-1300\n"
          ],
          "name": "stdout"
        },
        {
          "output_type": "stream",
          "text": [
            "2020-09-16 15:41:21,955 Restoring parameters from /content/chembl_activity_models/ChEMBL26_SCN5A_IC50_human_ml_ready/NN_graphconv_scaffold_regression/a5cb7e50-35db-4ca3-88f1-e81813e78774/model/model-1300\n"
          ],
          "name": "stderr"
        },
        {
          "output_type": "stream",
          "text": [
            "INFO:tensorflow:Restoring parameters from /content/chembl_activity_models/ChEMBL26_SCN5A_IC50_human_ml_ready/NN_graphconv_scaffold_regression/a5cb7e50-35db-4ca3-88f1-e81813e78774/model/model-1325\n"
          ],
          "name": "stdout"
        },
        {
          "output_type": "stream",
          "text": [
            "2020-09-16 15:41:33,944 Restoring parameters from /content/chembl_activity_models/ChEMBL26_SCN5A_IC50_human_ml_ready/NN_graphconv_scaffold_regression/a5cb7e50-35db-4ca3-88f1-e81813e78774/model/model-1325\n"
          ],
          "name": "stderr"
        },
        {
          "output_type": "stream",
          "text": [
            "INFO:tensorflow:Restoring parameters from /content/chembl_activity_models/ChEMBL26_SCN5A_IC50_human_ml_ready/NN_graphconv_scaffold_regression/a5cb7e50-35db-4ca3-88f1-e81813e78774/model/model-1350\n"
          ],
          "name": "stdout"
        },
        {
          "output_type": "stream",
          "text": [
            "2020-09-16 15:41:45,815 Restoring parameters from /content/chembl_activity_models/ChEMBL26_SCN5A_IC50_human_ml_ready/NN_graphconv_scaffold_regression/a5cb7e50-35db-4ca3-88f1-e81813e78774/model/model-1350\n"
          ],
          "name": "stderr"
        },
        {
          "output_type": "stream",
          "text": [
            "INFO:tensorflow:Restoring parameters from /content/chembl_activity_models/ChEMBL26_SCN5A_IC50_human_ml_ready/NN_graphconv_scaffold_regression/a5cb7e50-35db-4ca3-88f1-e81813e78774/model/model-1375\n"
          ],
          "name": "stdout"
        },
        {
          "output_type": "stream",
          "text": [
            "2020-09-16 15:41:57,913 Restoring parameters from /content/chembl_activity_models/ChEMBL26_SCN5A_IC50_human_ml_ready/NN_graphconv_scaffold_regression/a5cb7e50-35db-4ca3-88f1-e81813e78774/model/model-1375\n"
          ],
          "name": "stderr"
        },
        {
          "output_type": "stream",
          "text": [
            "INFO:tensorflow:Restoring parameters from /content/chembl_activity_models/ChEMBL26_SCN5A_IC50_human_ml_ready/NN_graphconv_scaffold_regression/a5cb7e50-35db-4ca3-88f1-e81813e78774/model/model-1400\n"
          ],
          "name": "stdout"
        },
        {
          "output_type": "stream",
          "text": [
            "2020-09-16 15:42:09,918 Restoring parameters from /content/chembl_activity_models/ChEMBL26_SCN5A_IC50_human_ml_ready/NN_graphconv_scaffold_regression/a5cb7e50-35db-4ca3-88f1-e81813e78774/model/model-1400\n"
          ],
          "name": "stderr"
        },
        {
          "output_type": "stream",
          "text": [
            "INFO:tensorflow:Restoring parameters from /content/chembl_activity_models/ChEMBL26_SCN5A_IC50_human_ml_ready/NN_graphconv_scaffold_regression/a5cb7e50-35db-4ca3-88f1-e81813e78774/model/model-1425\n"
          ],
          "name": "stdout"
        },
        {
          "output_type": "stream",
          "text": [
            "2020-09-16 15:42:22,439 Restoring parameters from /content/chembl_activity_models/ChEMBL26_SCN5A_IC50_human_ml_ready/NN_graphconv_scaffold_regression/a5cb7e50-35db-4ca3-88f1-e81813e78774/model/model-1425\n"
          ],
          "name": "stderr"
        },
        {
          "output_type": "stream",
          "text": [
            "INFO:tensorflow:Restoring parameters from /content/chembl_activity_models/ChEMBL26_SCN5A_IC50_human_ml_ready/NN_graphconv_scaffold_regression/a5cb7e50-35db-4ca3-88f1-e81813e78774/model/model-1450\n"
          ],
          "name": "stdout"
        },
        {
          "output_type": "stream",
          "text": [
            "2020-09-16 15:42:34,620 Restoring parameters from /content/chembl_activity_models/ChEMBL26_SCN5A_IC50_human_ml_ready/NN_graphconv_scaffold_regression/a5cb7e50-35db-4ca3-88f1-e81813e78774/model/model-1450\n"
          ],
          "name": "stderr"
        },
        {
          "output_type": "stream",
          "text": [
            "INFO:tensorflow:Restoring parameters from /content/chembl_activity_models/ChEMBL26_SCN5A_IC50_human_ml_ready/NN_graphconv_scaffold_regression/a5cb7e50-35db-4ca3-88f1-e81813e78774/model/model-1475\n"
          ],
          "name": "stdout"
        },
        {
          "output_type": "stream",
          "text": [
            "2020-09-16 15:42:46,813 Restoring parameters from /content/chembl_activity_models/ChEMBL26_SCN5A_IC50_human_ml_ready/NN_graphconv_scaffold_regression/a5cb7e50-35db-4ca3-88f1-e81813e78774/model/model-1475\n"
          ],
          "name": "stderr"
        },
        {
          "output_type": "stream",
          "text": [
            "INFO:tensorflow:Restoring parameters from /content/chembl_activity_models/ChEMBL26_SCN5A_IC50_human_ml_ready/NN_graphconv_scaffold_regression/a5cb7e50-35db-4ca3-88f1-e81813e78774/model/model-1500\n"
          ],
          "name": "stdout"
        },
        {
          "output_type": "stream",
          "text": [
            "2020-09-16 15:42:58,895 Restoring parameters from /content/chembl_activity_models/ChEMBL26_SCN5A_IC50_human_ml_ready/NN_graphconv_scaffold_regression/a5cb7e50-35db-4ca3-88f1-e81813e78774/model/model-1500\n"
          ],
          "name": "stderr"
        },
        {
          "output_type": "stream",
          "text": [
            "INFO:tensorflow:Restoring parameters from /content/chembl_activity_models/ChEMBL26_SCN5A_IC50_human_ml_ready/NN_graphconv_scaffold_regression/a5cb7e50-35db-4ca3-88f1-e81813e78774/model/model-1525\n"
          ],
          "name": "stdout"
        },
        {
          "output_type": "stream",
          "text": [
            "2020-09-16 15:43:11,250 Restoring parameters from /content/chembl_activity_models/ChEMBL26_SCN5A_IC50_human_ml_ready/NN_graphconv_scaffold_regression/a5cb7e50-35db-4ca3-88f1-e81813e78774/model/model-1525\n"
          ],
          "name": "stderr"
        },
        {
          "output_type": "stream",
          "text": [
            "INFO:tensorflow:Restoring parameters from /content/chembl_activity_models/ChEMBL26_SCN5A_IC50_human_ml_ready/NN_graphconv_scaffold_regression/a5cb7e50-35db-4ca3-88f1-e81813e78774/model/model-1550\n"
          ],
          "name": "stdout"
        },
        {
          "output_type": "stream",
          "text": [
            "2020-09-16 15:43:23,712 Restoring parameters from /content/chembl_activity_models/ChEMBL26_SCN5A_IC50_human_ml_ready/NN_graphconv_scaffold_regression/a5cb7e50-35db-4ca3-88f1-e81813e78774/model/model-1550\n"
          ],
          "name": "stderr"
        },
        {
          "output_type": "stream",
          "text": [
            "INFO:tensorflow:Restoring parameters from /content/chembl_activity_models/ChEMBL26_SCN5A_IC50_human_ml_ready/NN_graphconv_scaffold_regression/a5cb7e50-35db-4ca3-88f1-e81813e78774/model/model-1575\n"
          ],
          "name": "stdout"
        },
        {
          "output_type": "stream",
          "text": [
            "2020-09-16 15:43:35,937 Restoring parameters from /content/chembl_activity_models/ChEMBL26_SCN5A_IC50_human_ml_ready/NN_graphconv_scaffold_regression/a5cb7e50-35db-4ca3-88f1-e81813e78774/model/model-1575\n"
          ],
          "name": "stderr"
        },
        {
          "output_type": "stream",
          "text": [
            "INFO:tensorflow:Restoring parameters from /content/chembl_activity_models/ChEMBL26_SCN5A_IC50_human_ml_ready/NN_graphconv_scaffold_regression/a5cb7e50-35db-4ca3-88f1-e81813e78774/model/model-1600\n"
          ],
          "name": "stdout"
        },
        {
          "output_type": "stream",
          "text": [
            "2020-09-16 15:43:48,856 Restoring parameters from /content/chembl_activity_models/ChEMBL26_SCN5A_IC50_human_ml_ready/NN_graphconv_scaffold_regression/a5cb7e50-35db-4ca3-88f1-e81813e78774/model/model-1600\n"
          ],
          "name": "stderr"
        },
        {
          "output_type": "stream",
          "text": [
            "INFO:tensorflow:Restoring parameters from /content/chembl_activity_models/ChEMBL26_SCN5A_IC50_human_ml_ready/NN_graphconv_scaffold_regression/a5cb7e50-35db-4ca3-88f1-e81813e78774/model/model-1625\n"
          ],
          "name": "stdout"
        },
        {
          "output_type": "stream",
          "text": [
            "2020-09-16 15:44:01,140 Restoring parameters from /content/chembl_activity_models/ChEMBL26_SCN5A_IC50_human_ml_ready/NN_graphconv_scaffold_regression/a5cb7e50-35db-4ca3-88f1-e81813e78774/model/model-1625\n"
          ],
          "name": "stderr"
        },
        {
          "output_type": "stream",
          "text": [
            "INFO:tensorflow:Restoring parameters from /content/chembl_activity_models/ChEMBL26_SCN5A_IC50_human_ml_ready/NN_graphconv_scaffold_regression/a5cb7e50-35db-4ca3-88f1-e81813e78774/model/model-1650\n"
          ],
          "name": "stdout"
        },
        {
          "output_type": "stream",
          "text": [
            "2020-09-16 15:44:12,969 Restoring parameters from /content/chembl_activity_models/ChEMBL26_SCN5A_IC50_human_ml_ready/NN_graphconv_scaffold_regression/a5cb7e50-35db-4ca3-88f1-e81813e78774/model/model-1650\n"
          ],
          "name": "stderr"
        },
        {
          "output_type": "stream",
          "text": [
            "INFO:tensorflow:Restoring parameters from /content/chembl_activity_models/ChEMBL26_SCN5A_IC50_human_ml_ready/NN_graphconv_scaffold_regression/a5cb7e50-35db-4ca3-88f1-e81813e78774/model/model-1675\n"
          ],
          "name": "stdout"
        },
        {
          "output_type": "stream",
          "text": [
            "2020-09-16 15:44:25,285 Restoring parameters from /content/chembl_activity_models/ChEMBL26_SCN5A_IC50_human_ml_ready/NN_graphconv_scaffold_regression/a5cb7e50-35db-4ca3-88f1-e81813e78774/model/model-1675\n"
          ],
          "name": "stderr"
        },
        {
          "output_type": "stream",
          "text": [
            "INFO:tensorflow:Restoring parameters from /content/chembl_activity_models/ChEMBL26_SCN5A_IC50_human_ml_ready/NN_graphconv_scaffold_regression/a5cb7e50-35db-4ca3-88f1-e81813e78774/model/model-1700\n"
          ],
          "name": "stdout"
        },
        {
          "output_type": "stream",
          "text": [
            "2020-09-16 15:44:37,654 Restoring parameters from /content/chembl_activity_models/ChEMBL26_SCN5A_IC50_human_ml_ready/NN_graphconv_scaffold_regression/a5cb7e50-35db-4ca3-88f1-e81813e78774/model/model-1700\n"
          ],
          "name": "stderr"
        },
        {
          "output_type": "stream",
          "text": [
            "INFO:tensorflow:Restoring parameters from /content/chembl_activity_models/ChEMBL26_SCN5A_IC50_human_ml_ready/NN_graphconv_scaffold_regression/a5cb7e50-35db-4ca3-88f1-e81813e78774/model/model-1725\n"
          ],
          "name": "stdout"
        },
        {
          "output_type": "stream",
          "text": [
            "2020-09-16 15:44:50,296 Restoring parameters from /content/chembl_activity_models/ChEMBL26_SCN5A_IC50_human_ml_ready/NN_graphconv_scaffold_regression/a5cb7e50-35db-4ca3-88f1-e81813e78774/model/model-1725\n"
          ],
          "name": "stderr"
        },
        {
          "output_type": "stream",
          "text": [
            "INFO:tensorflow:Restoring parameters from /content/chembl_activity_models/ChEMBL26_SCN5A_IC50_human_ml_ready/NN_graphconv_scaffold_regression/a5cb7e50-35db-4ca3-88f1-e81813e78774/model/model-1750\n"
          ],
          "name": "stdout"
        },
        {
          "output_type": "stream",
          "text": [
            "2020-09-16 15:45:02,287 Restoring parameters from /content/chembl_activity_models/ChEMBL26_SCN5A_IC50_human_ml_ready/NN_graphconv_scaffold_regression/a5cb7e50-35db-4ca3-88f1-e81813e78774/model/model-1750\n"
          ],
          "name": "stderr"
        },
        {
          "output_type": "stream",
          "text": [
            "INFO:tensorflow:Restoring parameters from /content/chembl_activity_models/ChEMBL26_SCN5A_IC50_human_ml_ready/NN_graphconv_scaffold_regression/a5cb7e50-35db-4ca3-88f1-e81813e78774/model/model-1775\n"
          ],
          "name": "stdout"
        },
        {
          "output_type": "stream",
          "text": [
            "2020-09-16 15:45:14,748 Restoring parameters from /content/chembl_activity_models/ChEMBL26_SCN5A_IC50_human_ml_ready/NN_graphconv_scaffold_regression/a5cb7e50-35db-4ca3-88f1-e81813e78774/model/model-1775\n"
          ],
          "name": "stderr"
        },
        {
          "output_type": "stream",
          "text": [
            "INFO:tensorflow:Restoring parameters from /content/chembl_activity_models/ChEMBL26_SCN5A_IC50_human_ml_ready/NN_graphconv_scaffold_regression/a5cb7e50-35db-4ca3-88f1-e81813e78774/model/model-1800\n"
          ],
          "name": "stdout"
        },
        {
          "output_type": "stream",
          "text": [
            "2020-09-16 15:45:27,253 Restoring parameters from /content/chembl_activity_models/ChEMBL26_SCN5A_IC50_human_ml_ready/NN_graphconv_scaffold_regression/a5cb7e50-35db-4ca3-88f1-e81813e78774/model/model-1800\n"
          ],
          "name": "stderr"
        },
        {
          "output_type": "stream",
          "text": [
            "INFO:tensorflow:Restoring parameters from /content/chembl_activity_models/ChEMBL26_SCN5A_IC50_human_ml_ready/NN_graphconv_scaffold_regression/a5cb7e50-35db-4ca3-88f1-e81813e78774/model/model-1825\n"
          ],
          "name": "stdout"
        },
        {
          "output_type": "stream",
          "text": [
            "2020-09-16 15:45:39,683 Restoring parameters from /content/chembl_activity_models/ChEMBL26_SCN5A_IC50_human_ml_ready/NN_graphconv_scaffold_regression/a5cb7e50-35db-4ca3-88f1-e81813e78774/model/model-1825\n"
          ],
          "name": "stderr"
        },
        {
          "output_type": "stream",
          "text": [
            "INFO:tensorflow:Restoring parameters from /content/chembl_activity_models/ChEMBL26_SCN5A_IC50_human_ml_ready/NN_graphconv_scaffold_regression/a5cb7e50-35db-4ca3-88f1-e81813e78774/model/model-1850\n"
          ],
          "name": "stdout"
        },
        {
          "output_type": "stream",
          "text": [
            "2020-09-16 15:45:51,775 Restoring parameters from /content/chembl_activity_models/ChEMBL26_SCN5A_IC50_human_ml_ready/NN_graphconv_scaffold_regression/a5cb7e50-35db-4ca3-88f1-e81813e78774/model/model-1850\n"
          ],
          "name": "stderr"
        },
        {
          "output_type": "stream",
          "text": [
            "INFO:tensorflow:Restoring parameters from /content/chembl_activity_models/ChEMBL26_SCN5A_IC50_human_ml_ready/NN_graphconv_scaffold_regression/a5cb7e50-35db-4ca3-88f1-e81813e78774/model/model-1875\n"
          ],
          "name": "stdout"
        },
        {
          "output_type": "stream",
          "text": [
            "2020-09-16 15:46:04,398 Restoring parameters from /content/chembl_activity_models/ChEMBL26_SCN5A_IC50_human_ml_ready/NN_graphconv_scaffold_regression/a5cb7e50-35db-4ca3-88f1-e81813e78774/model/model-1875\n"
          ],
          "name": "stderr"
        },
        {
          "output_type": "stream",
          "text": [
            "INFO:tensorflow:Restoring parameters from /content/chembl_activity_models/ChEMBL26_SCN5A_IC50_human_ml_ready/NN_graphconv_scaffold_regression/a5cb7e50-35db-4ca3-88f1-e81813e78774/model/model-1900\n"
          ],
          "name": "stdout"
        },
        {
          "output_type": "stream",
          "text": [
            "2020-09-16 15:46:17,020 Restoring parameters from /content/chembl_activity_models/ChEMBL26_SCN5A_IC50_human_ml_ready/NN_graphconv_scaffold_regression/a5cb7e50-35db-4ca3-88f1-e81813e78774/model/model-1900\n"
          ],
          "name": "stderr"
        },
        {
          "output_type": "stream",
          "text": [
            "INFO:tensorflow:Restoring parameters from /content/chembl_activity_models/ChEMBL26_SCN5A_IC50_human_ml_ready/NN_graphconv_scaffold_regression/a5cb7e50-35db-4ca3-88f1-e81813e78774/model/model-1925\n"
          ],
          "name": "stdout"
        },
        {
          "output_type": "stream",
          "text": [
            "2020-09-16 15:46:29,283 Restoring parameters from /content/chembl_activity_models/ChEMBL26_SCN5A_IC50_human_ml_ready/NN_graphconv_scaffold_regression/a5cb7e50-35db-4ca3-88f1-e81813e78774/model/model-1925\n"
          ],
          "name": "stderr"
        },
        {
          "output_type": "stream",
          "text": [
            "INFO:tensorflow:Restoring parameters from /content/chembl_activity_models/ChEMBL26_SCN5A_IC50_human_ml_ready/NN_graphconv_scaffold_regression/a5cb7e50-35db-4ca3-88f1-e81813e78774/model/model-1950\n"
          ],
          "name": "stdout"
        },
        {
          "output_type": "stream",
          "text": [
            "2020-09-16 15:46:42,011 Restoring parameters from /content/chembl_activity_models/ChEMBL26_SCN5A_IC50_human_ml_ready/NN_graphconv_scaffold_regression/a5cb7e50-35db-4ca3-88f1-e81813e78774/model/model-1950\n"
          ],
          "name": "stderr"
        },
        {
          "output_type": "stream",
          "text": [
            "INFO:tensorflow:Restoring parameters from /content/chembl_activity_models/ChEMBL26_SCN5A_IC50_human_ml_ready/NN_graphconv_scaffold_regression/a5cb7e50-35db-4ca3-88f1-e81813e78774/model/model-1975\n"
          ],
          "name": "stdout"
        },
        {
          "output_type": "stream",
          "text": [
            "2020-09-16 15:46:54,671 Restoring parameters from /content/chembl_activity_models/ChEMBL26_SCN5A_IC50_human_ml_ready/NN_graphconv_scaffold_regression/a5cb7e50-35db-4ca3-88f1-e81813e78774/model/model-1975\n"
          ],
          "name": "stderr"
        },
        {
          "output_type": "stream",
          "text": [
            "INFO:tensorflow:Restoring parameters from /content/chembl_activity_models/ChEMBL26_SCN5A_IC50_human_ml_ready/NN_graphconv_scaffold_regression/a5cb7e50-35db-4ca3-88f1-e81813e78774/model/model-2000\n"
          ],
          "name": "stdout"
        },
        {
          "output_type": "stream",
          "text": [
            "2020-09-16 15:47:08,968 Restoring parameters from /content/chembl_activity_models/ChEMBL26_SCN5A_IC50_human_ml_ready/NN_graphconv_scaffold_regression/a5cb7e50-35db-4ca3-88f1-e81813e78774/model/model-2000\n"
          ],
          "name": "stderr"
        },
        {
          "output_type": "stream",
          "text": [
            "INFO:tensorflow:Restoring parameters from /content/chembl_activity_models/ChEMBL26_SCN5A_IC50_human_ml_ready/NN_graphconv_scaffold_regression/a5cb7e50-35db-4ca3-88f1-e81813e78774/model/model-2025\n"
          ],
          "name": "stdout"
        },
        {
          "output_type": "stream",
          "text": [
            "2020-09-16 15:47:21,741 Restoring parameters from /content/chembl_activity_models/ChEMBL26_SCN5A_IC50_human_ml_ready/NN_graphconv_scaffold_regression/a5cb7e50-35db-4ca3-88f1-e81813e78774/model/model-2025\n"
          ],
          "name": "stderr"
        },
        {
          "output_type": "stream",
          "text": [
            "INFO:tensorflow:Restoring parameters from /content/chembl_activity_models/ChEMBL26_SCN5A_IC50_human_ml_ready/NN_graphconv_scaffold_regression/a5cb7e50-35db-4ca3-88f1-e81813e78774/model/model-2050\n"
          ],
          "name": "stdout"
        },
        {
          "output_type": "stream",
          "text": [
            "2020-09-16 15:47:34,472 Restoring parameters from /content/chembl_activity_models/ChEMBL26_SCN5A_IC50_human_ml_ready/NN_graphconv_scaffold_regression/a5cb7e50-35db-4ca3-88f1-e81813e78774/model/model-2050\n"
          ],
          "name": "stderr"
        },
        {
          "output_type": "stream",
          "text": [
            "INFO:tensorflow:Restoring parameters from /content/chembl_activity_models/ChEMBL26_SCN5A_IC50_human_ml_ready/NN_graphconv_scaffold_regression/a5cb7e50-35db-4ca3-88f1-e81813e78774/model/model-2075\n"
          ],
          "name": "stdout"
        },
        {
          "output_type": "stream",
          "text": [
            "2020-09-16 15:47:46,724 Restoring parameters from /content/chembl_activity_models/ChEMBL26_SCN5A_IC50_human_ml_ready/NN_graphconv_scaffold_regression/a5cb7e50-35db-4ca3-88f1-e81813e78774/model/model-2075\n"
          ],
          "name": "stderr"
        },
        {
          "output_type": "stream",
          "text": [
            "INFO:tensorflow:Restoring parameters from /content/chembl_activity_models/ChEMBL26_SCN5A_IC50_human_ml_ready/NN_graphconv_scaffold_regression/a5cb7e50-35db-4ca3-88f1-e81813e78774/model/model-2100\n"
          ],
          "name": "stdout"
        },
        {
          "output_type": "stream",
          "text": [
            "2020-09-16 15:47:59,521 Restoring parameters from /content/chembl_activity_models/ChEMBL26_SCN5A_IC50_human_ml_ready/NN_graphconv_scaffold_regression/a5cb7e50-35db-4ca3-88f1-e81813e78774/model/model-2100\n"
          ],
          "name": "stderr"
        },
        {
          "output_type": "stream",
          "text": [
            "INFO:tensorflow:Restoring parameters from /content/chembl_activity_models/ChEMBL26_SCN5A_IC50_human_ml_ready/NN_graphconv_scaffold_regression/a5cb7e50-35db-4ca3-88f1-e81813e78774/model/model-2125\n"
          ],
          "name": "stdout"
        },
        {
          "output_type": "stream",
          "text": [
            "2020-09-16 15:48:12,006 Restoring parameters from /content/chembl_activity_models/ChEMBL26_SCN5A_IC50_human_ml_ready/NN_graphconv_scaffold_regression/a5cb7e50-35db-4ca3-88f1-e81813e78774/model/model-2125\n"
          ],
          "name": "stderr"
        },
        {
          "output_type": "stream",
          "text": [
            "INFO:tensorflow:Restoring parameters from /content/chembl_activity_models/ChEMBL26_SCN5A_IC50_human_ml_ready/NN_graphconv_scaffold_regression/a5cb7e50-35db-4ca3-88f1-e81813e78774/model/model-2150\n"
          ],
          "name": "stdout"
        },
        {
          "output_type": "stream",
          "text": [
            "2020-09-16 15:48:24,900 Restoring parameters from /content/chembl_activity_models/ChEMBL26_SCN5A_IC50_human_ml_ready/NN_graphconv_scaffold_regression/a5cb7e50-35db-4ca3-88f1-e81813e78774/model/model-2150\n"
          ],
          "name": "stderr"
        },
        {
          "output_type": "stream",
          "text": [
            "INFO:tensorflow:Restoring parameters from /content/chembl_activity_models/ChEMBL26_SCN5A_IC50_human_ml_ready/NN_graphconv_scaffold_regression/a5cb7e50-35db-4ca3-88f1-e81813e78774/model/model-2175\n"
          ],
          "name": "stdout"
        },
        {
          "output_type": "stream",
          "text": [
            "2020-09-16 15:48:37,622 Restoring parameters from /content/chembl_activity_models/ChEMBL26_SCN5A_IC50_human_ml_ready/NN_graphconv_scaffold_regression/a5cb7e50-35db-4ca3-88f1-e81813e78774/model/model-2175\n"
          ],
          "name": "stderr"
        },
        {
          "output_type": "stream",
          "text": [
            "INFO:tensorflow:Restoring parameters from /content/chembl_activity_models/ChEMBL26_SCN5A_IC50_human_ml_ready/NN_graphconv_scaffold_regression/a5cb7e50-35db-4ca3-88f1-e81813e78774/model/model-2200\n"
          ],
          "name": "stdout"
        },
        {
          "output_type": "stream",
          "text": [
            "2020-09-16 15:48:50,146 Restoring parameters from /content/chembl_activity_models/ChEMBL26_SCN5A_IC50_human_ml_ready/NN_graphconv_scaffold_regression/a5cb7e50-35db-4ca3-88f1-e81813e78774/model/model-2200\n"
          ],
          "name": "stderr"
        },
        {
          "output_type": "stream",
          "text": [
            "INFO:tensorflow:Restoring parameters from /content/chembl_activity_models/ChEMBL26_SCN5A_IC50_human_ml_ready/NN_graphconv_scaffold_regression/a5cb7e50-35db-4ca3-88f1-e81813e78774/model/model-2225\n"
          ],
          "name": "stdout"
        },
        {
          "output_type": "stream",
          "text": [
            "2020-09-16 15:49:03,600 Restoring parameters from /content/chembl_activity_models/ChEMBL26_SCN5A_IC50_human_ml_ready/NN_graphconv_scaffold_regression/a5cb7e50-35db-4ca3-88f1-e81813e78774/model/model-2225\n"
          ],
          "name": "stderr"
        },
        {
          "output_type": "stream",
          "text": [
            "INFO:tensorflow:Restoring parameters from /content/chembl_activity_models/ChEMBL26_SCN5A_IC50_human_ml_ready/NN_graphconv_scaffold_regression/a5cb7e50-35db-4ca3-88f1-e81813e78774/model/model-2250\n"
          ],
          "name": "stdout"
        },
        {
          "output_type": "stream",
          "text": [
            "2020-09-16 15:49:16,306 Restoring parameters from /content/chembl_activity_models/ChEMBL26_SCN5A_IC50_human_ml_ready/NN_graphconv_scaffold_regression/a5cb7e50-35db-4ca3-88f1-e81813e78774/model/model-2250\n"
          ],
          "name": "stderr"
        },
        {
          "output_type": "stream",
          "text": [
            "INFO:tensorflow:Restoring parameters from /content/chembl_activity_models/ChEMBL26_SCN5A_IC50_human_ml_ready/NN_graphconv_scaffold_regression/a5cb7e50-35db-4ca3-88f1-e81813e78774/model/model-2275\n"
          ],
          "name": "stdout"
        },
        {
          "output_type": "stream",
          "text": [
            "2020-09-16 15:49:29,284 Restoring parameters from /content/chembl_activity_models/ChEMBL26_SCN5A_IC50_human_ml_ready/NN_graphconv_scaffold_regression/a5cb7e50-35db-4ca3-88f1-e81813e78774/model/model-2275\n"
          ],
          "name": "stderr"
        },
        {
          "output_type": "stream",
          "text": [
            "INFO:tensorflow:Restoring parameters from /content/chembl_activity_models/ChEMBL26_SCN5A_IC50_human_ml_ready/NN_graphconv_scaffold_regression/a5cb7e50-35db-4ca3-88f1-e81813e78774/model/model-2300\n"
          ],
          "name": "stdout"
        },
        {
          "output_type": "stream",
          "text": [
            "2020-09-16 15:49:41,893 Restoring parameters from /content/chembl_activity_models/ChEMBL26_SCN5A_IC50_human_ml_ready/NN_graphconv_scaffold_regression/a5cb7e50-35db-4ca3-88f1-e81813e78774/model/model-2300\n"
          ],
          "name": "stderr"
        },
        {
          "output_type": "stream",
          "text": [
            "INFO:tensorflow:Restoring parameters from /content/chembl_activity_models/ChEMBL26_SCN5A_IC50_human_ml_ready/NN_graphconv_scaffold_regression/a5cb7e50-35db-4ca3-88f1-e81813e78774/model/model-2325\n"
          ],
          "name": "stdout"
        },
        {
          "output_type": "stream",
          "text": [
            "2020-09-16 15:49:55,033 Restoring parameters from /content/chembl_activity_models/ChEMBL26_SCN5A_IC50_human_ml_ready/NN_graphconv_scaffold_regression/a5cb7e50-35db-4ca3-88f1-e81813e78774/model/model-2325\n"
          ],
          "name": "stderr"
        },
        {
          "output_type": "stream",
          "text": [
            "INFO:tensorflow:Restoring parameters from /content/chembl_activity_models/ChEMBL26_SCN5A_IC50_human_ml_ready/NN_graphconv_scaffold_regression/a5cb7e50-35db-4ca3-88f1-e81813e78774/model/model-2350\n"
          ],
          "name": "stdout"
        },
        {
          "output_type": "stream",
          "text": [
            "2020-09-16 15:50:07,766 Restoring parameters from /content/chembl_activity_models/ChEMBL26_SCN5A_IC50_human_ml_ready/NN_graphconv_scaffold_regression/a5cb7e50-35db-4ca3-88f1-e81813e78774/model/model-2350\n"
          ],
          "name": "stderr"
        },
        {
          "output_type": "stream",
          "text": [
            "INFO:tensorflow:Restoring parameters from /content/chembl_activity_models/ChEMBL26_SCN5A_IC50_human_ml_ready/NN_graphconv_scaffold_regression/a5cb7e50-35db-4ca3-88f1-e81813e78774/model/model-2375\n"
          ],
          "name": "stdout"
        },
        {
          "output_type": "stream",
          "text": [
            "2020-09-16 15:50:20,901 Restoring parameters from /content/chembl_activity_models/ChEMBL26_SCN5A_IC50_human_ml_ready/NN_graphconv_scaffold_regression/a5cb7e50-35db-4ca3-88f1-e81813e78774/model/model-2375\n"
          ],
          "name": "stderr"
        },
        {
          "output_type": "stream",
          "text": [
            "INFO:tensorflow:Restoring parameters from /content/chembl_activity_models/ChEMBL26_SCN5A_IC50_human_ml_ready/NN_graphconv_scaffold_regression/a5cb7e50-35db-4ca3-88f1-e81813e78774/model/model-2400\n"
          ],
          "name": "stdout"
        },
        {
          "output_type": "stream",
          "text": [
            "2020-09-16 15:50:33,599 Restoring parameters from /content/chembl_activity_models/ChEMBL26_SCN5A_IC50_human_ml_ready/NN_graphconv_scaffold_regression/a5cb7e50-35db-4ca3-88f1-e81813e78774/model/model-2400\n"
          ],
          "name": "stderr"
        },
        {
          "output_type": "stream",
          "text": [
            "INFO:tensorflow:Restoring parameters from /content/chembl_activity_models/ChEMBL26_SCN5A_IC50_human_ml_ready/NN_graphconv_scaffold_regression/a5cb7e50-35db-4ca3-88f1-e81813e78774/model/model-2425\n"
          ],
          "name": "stdout"
        },
        {
          "output_type": "stream",
          "text": [
            "2020-09-16 15:50:46,840 Restoring parameters from /content/chembl_activity_models/ChEMBL26_SCN5A_IC50_human_ml_ready/NN_graphconv_scaffold_regression/a5cb7e50-35db-4ca3-88f1-e81813e78774/model/model-2425\n"
          ],
          "name": "stderr"
        },
        {
          "output_type": "stream",
          "text": [
            "INFO:tensorflow:Restoring parameters from /content/chembl_activity_models/ChEMBL26_SCN5A_IC50_human_ml_ready/NN_graphconv_scaffold_regression/a5cb7e50-35db-4ca3-88f1-e81813e78774/model/model-2450\n"
          ],
          "name": "stdout"
        },
        {
          "output_type": "stream",
          "text": [
            "2020-09-16 15:50:59,754 Restoring parameters from /content/chembl_activity_models/ChEMBL26_SCN5A_IC50_human_ml_ready/NN_graphconv_scaffold_regression/a5cb7e50-35db-4ca3-88f1-e81813e78774/model/model-2450\n"
          ],
          "name": "stderr"
        },
        {
          "output_type": "stream",
          "text": [
            "INFO:tensorflow:Restoring parameters from /content/chembl_activity_models/ChEMBL26_SCN5A_IC50_human_ml_ready/NN_graphconv_scaffold_regression/a5cb7e50-35db-4ca3-88f1-e81813e78774/model/model-2475\n"
          ],
          "name": "stdout"
        },
        {
          "output_type": "stream",
          "text": [
            "2020-09-16 15:51:12,664 Restoring parameters from /content/chembl_activity_models/ChEMBL26_SCN5A_IC50_human_ml_ready/NN_graphconv_scaffold_regression/a5cb7e50-35db-4ca3-88f1-e81813e78774/model/model-2475\n"
          ],
          "name": "stderr"
        },
        {
          "output_type": "stream",
          "text": [
            "INFO:tensorflow:Restoring parameters from /content/chembl_activity_models/ChEMBL26_SCN5A_IC50_human_ml_ready/NN_graphconv_scaffold_regression/a5cb7e50-35db-4ca3-88f1-e81813e78774/model/model-750\n"
          ],
          "name": "stdout"
        },
        {
          "output_type": "stream",
          "text": [
            "2020-09-16 15:54:24,808 Restoring parameters from /content/chembl_activity_models/ChEMBL26_SCN5A_IC50_human_ml_ready/NN_graphconv_scaffold_regression/a5cb7e50-35db-4ca3-88f1-e81813e78774/model/model-750\n",
            "2020-09-16 15:55:10,764 Wrote model metadata to file /content/chembl_activity_models/ChEMBL26_SCN5A_IC50_human_ml_ready/NN_graphconv_scaffold_regression/a5cb7e50-35db-4ca3-88f1-e81813e78774/model_metadata.json\n",
            "2020-09-16 15:55:11,007 Wrote model metrics to file /content/chembl_activity_models/ChEMBL26_SCN5A_IC50_human_ml_ready/NN_graphconv_scaffold_regression/a5cb7e50-35db-4ca3-88f1-e81813e78774/model_metrics.json\n"
          ],
          "name": "stderr"
        },
        {
          "output_type": "stream",
          "text": [
            "Wrote model tarball to /content/chembl_activity_models/ChEMBL26_SCN5A_IC50_human_ml_ready_model_a5cb7e50-35db-4ca3-88f1-e81813e78774.tar.gz\n"
          ],
          "name": "stdout"
        }
      ]
    },
    {
      "cell_type": "code",
      "metadata": {
        "id": "pg58OZzSGfb3",
        "colab_type": "code",
        "colab": {
          "base_uri": "https://localhost:8080/",
          "height": 165
        },
        "outputId": "fdfd7284-4ac4-47dd-ba03-787a9f68c68d"
      },
      "source": [
        "perf_df = cmp.get_filesystem_perf_results('/content/chembl_activity_models', pred_type='regression')\n",
        "perf_df"
      ],
      "execution_count": 26,
      "outputs": [
        {
          "output_type": "stream",
          "text": [
            "Found data for 1 models under /content/chembl_activity_models\n"
          ],
          "name": "stdout"
        },
        {
          "output_type": "execute_result",
          "data": {
            "text/html": [
              "<div>\n",
              "<style scoped>\n",
              "    .dataframe tbody tr th:only-of-type {\n",
              "        vertical-align: middle;\n",
              "    }\n",
              "\n",
              "    .dataframe tbody tr th {\n",
              "        vertical-align: top;\n",
              "    }\n",
              "\n",
              "    .dataframe thead th {\n",
              "        text-align: right;\n",
              "    }\n",
              "</style>\n",
              "<table border=\"1\" class=\"dataframe\">\n",
              "  <thead>\n",
              "    <tr style=\"text-align: right;\">\n",
              "      <th></th>\n",
              "      <th>model_uuid</th>\n",
              "      <th>model_type</th>\n",
              "      <th>dataset_key</th>\n",
              "      <th>featurizer</th>\n",
              "      <th>splitter</th>\n",
              "      <th>model_score_type</th>\n",
              "      <th>feature_transform_type</th>\n",
              "      <th>learning_rate</th>\n",
              "      <th>dropouts</th>\n",
              "      <th>layer_sizes</th>\n",
              "      <th>best_epoch</th>\n",
              "      <th>max_epochs</th>\n",
              "      <th>rf_estimators</th>\n",
              "      <th>rf_max_features</th>\n",
              "      <th>rf_max_depth</th>\n",
              "      <th>model_choice_score</th>\n",
              "      <th>train_r2_score</th>\n",
              "      <th>train_rms_score</th>\n",
              "      <th>train_mae_score</th>\n",
              "      <th>valid_r2_score</th>\n",
              "      <th>valid_rms_score</th>\n",
              "      <th>valid_mae_score</th>\n",
              "      <th>test_r2_score</th>\n",
              "      <th>test_rms_score</th>\n",
              "      <th>test_mae_score</th>\n",
              "    </tr>\n",
              "  </thead>\n",
              "  <tbody>\n",
              "    <tr>\n",
              "      <th>0</th>\n",
              "      <td>a5cb7e50-35db-4ca3-88f1-e81813e78774</td>\n",
              "      <td>NN</td>\n",
              "      <td>/content/ChEMBL26_SCN5A_IC50_human_ml_ready.csv</td>\n",
              "      <td>graphconv</td>\n",
              "      <td>scaffold</td>\n",
              "      <td>r2</td>\n",
              "      <td>normalization</td>\n",
              "      <td>0.0007</td>\n",
              "      <td>0.00,0.00,0.00</td>\n",
              "      <td>64,64,32</td>\n",
              "      <td>38</td>\n",
              "      <td>100</td>\n",
              "      <td>NaN</td>\n",
              "      <td>NaN</td>\n",
              "      <td>NaN</td>\n",
              "      <td>0.357534</td>\n",
              "      <td>0.747042</td>\n",
              "      <td>0.322492</td>\n",
              "      <td>0.238165</td>\n",
              "      <td>0.357534</td>\n",
              "      <td>0.471041</td>\n",
              "      <td>0.352536</td>\n",
              "      <td>0.270587</td>\n",
              "      <td>0.599491</td>\n",
              "      <td>0.397041</td>\n",
              "    </tr>\n",
              "  </tbody>\n",
              "</table>\n",
              "</div>"
            ],
            "text/plain": [
              "                             model_uuid  ... test_mae_score\n",
              "0  a5cb7e50-35db-4ca3-88f1-e81813e78774  ...       0.397041\n",
              "\n",
              "[1 rows x 25 columns]"
            ]
          },
          "metadata": {
            "tags": []
          },
          "execution_count": 26
        }
      ]
    },
    {
      "cell_type": "code",
      "metadata": {
        "id": "_b5hfx8qP49G",
        "colab_type": "code",
        "colab": {}
      },
      "source": [
        "11:26"
      ],
      "execution_count": null,
      "outputs": []
    }
  ]
}