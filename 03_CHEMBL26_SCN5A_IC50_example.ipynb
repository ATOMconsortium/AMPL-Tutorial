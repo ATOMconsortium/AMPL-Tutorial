{
  "nbformat": 4,
  "nbformat_minor": 0,
  "metadata": {
    "colab": {
      "name": "03_CHEMBL26_SCN5A_IC50_example.ipynb",
      "provenance": [],
      "collapsed_sections": [],
      "include_colab_link": true
    },
    "kernelspec": {
      "name": "python3",
      "display_name": "Python 3"
    },
    "accelerator": "GPU"
  },
  "cells": [
    {
      "cell_type": "markdown",
      "metadata": {
        "id": "view-in-github",
        "colab_type": "text"
      },
      "source": [
        "<a href=\"https://colab.research.google.com/github/ravichas/AMPL-Tutorial/blob/master/03_CHEMBL26_SCN5A_IC50_example.ipynb\" target=\"_parent\"><img src=\"https://colab.research.google.com/assets/colab-badge.svg\" alt=\"Open In Colab\"/></a>"
      ]
    },
    {
      "cell_type": "markdown",
      "metadata": {
        "id": "DKOt6zePpD62"
      },
      "source": [
        "<h1>Building a Graph Convolutional Network Model for Drug Response Prediction</h1>\n",
        "\n",
        "The ATOM Modeling PipeLine (AMPL; https://github.com/ATOMconsortium/AMPL) is an open-source, modular, extensible software pipeline for building and sharing models to advance in silico drug discovery.\n",
        "\n",
        "**Warning: This is an experimental notebook**\n",
        "\n",
        "AMPL is using Python 3.6.7 while Colab is currently using 3.6.9 listed below so they do not currently match. Your mileage may vary."
      ]
    },
    {
      "cell_type": "markdown",
      "metadata": {
        "id": "7sGiIPZCi0Cb"
      },
      "source": [
        "## Please change your runtime to GPU \n",
        "\n",
        "Go to **Runtime** --> Change **runtime type** to \"GPU\"\n"
      ]
    },
    {
      "cell_type": "markdown",
      "metadata": {
        "id": "aRXuj2Dsj8wR"
      },
      "source": [
        "## Goal: Use AMPL for predicting binding affinities -IC50 values- of ligands that could bind to human **Sodium channel protein type 5 subunit alpha** protein using Graph Convolutional Network Model. chEMBL database is the source of the binding affinities (pIC50).\n",
        "\n",
        "In this notebook, we describe the following steps using AMPL:\n",
        "\n",
        "1.   Read a ML ready dataset\n",
        "2.   Fit a Graph Convolutional model\n",
        "3.   Predict pIC50 values of withheld compounds"
      ]
    },
    {
      "cell_type": "markdown",
      "metadata": {
        "id": "hT1bl6hojskE"
      },
      "source": [
        "## Set up\n",
        "We first import the AMPL modules for use in this notebook.\n",
        "\n",
        "The relevant AMPL modules for this example are listed below:\n",
        "\n",
        "|module|Description|\n",
        "|-|-|\n",
        "|`atomsci.ddm.pipeline.model_pipeline`|The model pipeline module is used to fit models and load models for prediction.|\n",
        "|`atomsci.ddm.pipeline.parameter_parser`|The parameter parser reads through pipeline options for the model pipeline.|\n",
        "|`atomsci.ddm.utils.curate_data`|The curate data module is used for data loading and pre-processing.|\n",
        "|`atomsci.ddm.utils.struct_utils`|The structure utilities module is used to process loaded structures.|\n",
        "\n",
        "\n",
        "import atomsci.ddm.pipeline.compare_models as cmp\n",
        "import atomsci.ddm.pipeline.model_pipeline as mp\n",
        "import atomsci.ddm.pipeline.parameter_parser as parse"
      ]
    },
    {
      "cell_type": "markdown",
      "metadata": {
        "id": "tsDTjWhwcgWG"
      },
      "source": [
        "## Install AMPL "
      ]
    },
    {
      "cell_type": "code",
      "metadata": {
        "id": "ZOdCTKDjjcMf",
        "outputId": "f0217d57-33bc-43ca-8f6c-bcf8c0385aba",
        "colab": {
          "base_uri": "https://localhost:8080/",
          "height": 1000
        }
      },
      "source": [
        "import requests\n",
        "\n",
        "# Copy AMPL install script\n",
        "url='https://raw.githubusercontent.com/ravichas/AMPL-Tutorial/master/config/install_AMPL_GPU.sh'\n",
        "\n",
        "downloaded_obj = requests.get(url)\n",
        "with open(\"install_AMPL_GPU.sh\", \"wb\") as file:\n",
        "    file.write(downloaded_obj.content)\n",
        "\n",
        "\n",
        "# Install AMPL\n",
        "!chmod u+x install_AMPL_GPU.sh\n",
        "!time ./install_AMPL_GPU.sh\n",
        "import sys\n",
        "if '/content/AMPL/lib/python3.6/site-packages' not in sys.path:\n",
        "    sys.path.insert(1, '/content/AMPL/lib/python3.6/site-packages')"
      ],
      "execution_count": 1,
      "outputs": [
        {
          "output_type": "stream",
          "text": [
            "--2020-10-13 22:05:09--  https://repo.anaconda.com/miniconda/Miniconda3-latest-Linux-x86_64.sh\n",
            "Resolving repo.anaconda.com (repo.anaconda.com)... 104.16.131.3, 104.16.130.3, 2606:4700::6810:8203, ...\n",
            "Connecting to repo.anaconda.com (repo.anaconda.com)|104.16.131.3|:443... connected.\n",
            "HTTP request sent, awaiting response... 200 OK\n",
            "Length: 93052469 (89M) [application/x-sh]\n",
            "Saving to: ‘Miniconda3-latest-Linux-x86_64.sh’\n",
            "\n",
            "Miniconda3-latest-L 100%[===================>]  88.74M   187MB/s    in 0.5s    \n",
            "\n",
            "2020-10-13 22:05:09 (187 MB/s) - ‘Miniconda3-latest-Linux-x86_64.sh’ saved [93052469/93052469]\n",
            "\n",
            "PREFIX=/content/AMPL\n",
            "Unpacking payload ...\n",
            "Collecting package metadata (current_repodata.json): - \b\b\\ \b\b| \b\bdone\n",
            "Solving environment: - \b\bdone\n",
            "\n",
            "## Package Plan ##\n",
            "\n",
            "  environment location: /content/AMPL\n",
            "\n",
            "  added / updated specs:\n",
            "    - _libgcc_mutex==0.1=main\n",
            "    - ca-certificates==2020.1.1=0\n",
            "    - certifi==2020.4.5.1=py38_0\n",
            "    - cffi==1.14.0=py38he30daa8_1\n",
            "    - chardet==3.0.4=py38_1003\n",
            "    - conda-package-handling==1.6.1=py38h7b6447c_0\n",
            "    - conda==4.8.3=py38_0\n",
            "    - cryptography==2.9.2=py38h1ba5d50_0\n",
            "    - idna==2.9=py_1\n",
            "    - ld_impl_linux-64==2.33.1=h53a641e_7\n",
            "    - libedit==3.1.20181209=hc058e9b_0\n",
            "    - libffi==3.3=he6710b0_1\n",
            "    - libgcc-ng==9.1.0=hdf63c60_0\n",
            "    - libstdcxx-ng==9.1.0=hdf63c60_0\n",
            "    - ncurses==6.2=he6710b0_1\n",
            "    - openssl==1.1.1g=h7b6447c_0\n",
            "    - pip==20.0.2=py38_3\n",
            "    - pycosat==0.6.3=py38h7b6447c_1\n",
            "    - pycparser==2.20=py_0\n",
            "    - pyopenssl==19.1.0=py38_0\n",
            "    - pysocks==1.7.1=py38_0\n",
            "    - python==3.8.3=hcff3b4d_0\n",
            "    - readline==8.0=h7b6447c_0\n",
            "    - requests==2.23.0=py38_0\n",
            "    - ruamel_yaml==0.15.87=py38h7b6447c_0\n",
            "    - setuptools==46.4.0=py38_0\n",
            "    - six==1.14.0=py38_0\n",
            "    - sqlite==3.31.1=h62c20be_1\n",
            "    - tk==8.6.8=hbc83047_0\n",
            "    - tqdm==4.46.0=py_0\n",
            "    - urllib3==1.25.8=py38_0\n",
            "    - wheel==0.34.2=py38_0\n",
            "    - xz==5.2.5=h7b6447c_0\n",
            "    - yaml==0.1.7=had09818_2\n",
            "    - zlib==1.2.11=h7b6447c_3\n",
            "\n",
            "\n",
            "The following NEW packages will be INSTALLED:\n",
            "\n",
            "  _libgcc_mutex      pkgs/main/linux-64::_libgcc_mutex-0.1-main\n",
            "  ca-certificates    pkgs/main/linux-64::ca-certificates-2020.1.1-0\n",
            "  certifi            pkgs/main/linux-64::certifi-2020.4.5.1-py38_0\n",
            "  cffi               pkgs/main/linux-64::cffi-1.14.0-py38he30daa8_1\n",
            "  chardet            pkgs/main/linux-64::chardet-3.0.4-py38_1003\n",
            "  conda              pkgs/main/linux-64::conda-4.8.3-py38_0\n",
            "  conda-package-han~ pkgs/main/linux-64::conda-package-handling-1.6.1-py38h7b6447c_0\n",
            "  cryptography       pkgs/main/linux-64::cryptography-2.9.2-py38h1ba5d50_0\n",
            "  idna               pkgs/main/noarch::idna-2.9-py_1\n",
            "  ld_impl_linux-64   pkgs/main/linux-64::ld_impl_linux-64-2.33.1-h53a641e_7\n",
            "  libedit            pkgs/main/linux-64::libedit-3.1.20181209-hc058e9b_0\n",
            "  libffi             pkgs/main/linux-64::libffi-3.3-he6710b0_1\n",
            "  libgcc-ng          pkgs/main/linux-64::libgcc-ng-9.1.0-hdf63c60_0\n",
            "  libstdcxx-ng       pkgs/main/linux-64::libstdcxx-ng-9.1.0-hdf63c60_0\n",
            "  ncurses            pkgs/main/linux-64::ncurses-6.2-he6710b0_1\n",
            "  openssl            pkgs/main/linux-64::openssl-1.1.1g-h7b6447c_0\n",
            "  pip                pkgs/main/linux-64::pip-20.0.2-py38_3\n",
            "  pycosat            pkgs/main/linux-64::pycosat-0.6.3-py38h7b6447c_1\n",
            "  pycparser          pkgs/main/noarch::pycparser-2.20-py_0\n",
            "  pyopenssl          pkgs/main/linux-64::pyopenssl-19.1.0-py38_0\n",
            "  pysocks            pkgs/main/linux-64::pysocks-1.7.1-py38_0\n",
            "  python             pkgs/main/linux-64::python-3.8.3-hcff3b4d_0\n",
            "  readline           pkgs/main/linux-64::readline-8.0-h7b6447c_0\n",
            "  requests           pkgs/main/linux-64::requests-2.23.0-py38_0\n",
            "  ruamel_yaml        pkgs/main/linux-64::ruamel_yaml-0.15.87-py38h7b6447c_0\n",
            "  setuptools         pkgs/main/linux-64::setuptools-46.4.0-py38_0\n",
            "  six                pkgs/main/linux-64::six-1.14.0-py38_0\n",
            "  sqlite             pkgs/main/linux-64::sqlite-3.31.1-h62c20be_1\n",
            "  tk                 pkgs/main/linux-64::tk-8.6.8-hbc83047_0\n",
            "  tqdm               pkgs/main/noarch::tqdm-4.46.0-py_0\n",
            "  urllib3            pkgs/main/linux-64::urllib3-1.25.8-py38_0\n",
            "  wheel              pkgs/main/linux-64::wheel-0.34.2-py38_0\n",
            "  xz                 pkgs/main/linux-64::xz-5.2.5-h7b6447c_0\n",
            "  yaml               pkgs/main/linux-64::yaml-0.1.7-had09818_2\n",
            "  zlib               pkgs/main/linux-64::zlib-1.2.11-h7b6447c_3\n",
            "\n",
            "\n",
            "Preparing transaction: | \b\b/ \b\b- \b\bdone\n",
            "Executing transaction: | \b\b/ \b\b- \b\b\\ \b\b| \b\b/ \b\b- \b\b\\ \b\b| \b\bdone\n",
            "installation finished.\n",
            "WARNING:\n",
            "    You currently have a PYTHONPATH environment variable set. This may cause\n",
            "    unexpected behavior when running the Python interpreter in Miniconda3.\n",
            "    For best results, please verify that your PYTHONPATH only points to\n",
            "    directories of packages that are compatible with the Python interpreter\n",
            "    in Miniconda3: /content/AMPL\n",
            "\n",
            "Downloading and Extracting Packages\n",
            "_libgcc_mutex-0.1    | : 100% 1.0/1 [00:00<00:00,  6.26it/s]\n",
            "ca-certificates-2020 | : 100% 1.0/1 [00:00<00:00, 15.13it/s]\n",
            "cudatoolkit-9.0      | : 100% 1.0/1 [00:05<00:00,  5.68s/it]               \n",
            "fftw3f-3.3.4         | : 100% 1.0/1 [00:01<00:00,  1.19s/it]\n",
            "libgfortran-3.0.0    | : 100% 1.0/1 [00:00<00:00, 12.96it/s]\n",
            "libgfortran-ng-7.5.0 | : 100% 1.0/1 [00:00<00:00,  3.49it/s]\n",
            "libstdcxx-ng-9.2.0   | : 100% 1.0/1 [00:00<00:00,  1.50it/s]\n",
            "pandoc-2.9.2.1       | : 100% 1.0/1 [00:03<00:00,  2.10s/it]                \n",
            "cudnn-7.6.5          | : 100% 1.0/1 [00:08<00:00,  8.97s/it]               \n",
            "cupti-9.0.176        | : 100% 1.0/1 [00:04<00:00,  4.72s/it]\n",
            "libgomp-9.2.0        | : 100% 1.0/1 [00:00<00:00,  8.21it/s]\n",
            "openblas-0.2.20      | : 100% 1.0/1 [00:03<00:00,  4.02s/it]               \n",
            "_openmp_mutex-4.5    | : 100% 1.0/1 [00:00<00:00, 13.65it/s]\n",
            "blas-1.1             | : 100% 1.0/1 [00:00<00:00, 33.27it/s]\n",
            "libgcc-ng-9.2.0      | : 100% 1.0/1 [00:01<00:00,  1.13s/it]\n",
            "blosc-1.18.1         | : 100% 1.0/1 [00:00<00:00,  6.27it/s]\n",
            "bzip2-1.0.8          | : 100% 1.0/1 [00:00<00:00,  9.76it/s]\n",
            "c-ares-1.15.0        | : 100% 1.0/1 [00:00<00:00, 19.30it/s]\n",
            "expat-2.2.9          | : 100% 1.0/1 [00:00<00:00, 10.40it/s]\n",
            "icu-58.2             | : 100% 1.0/1 [00:03<00:00,  2.00s/it]               \n",
            "jpeg-9c              | : 100% 1.0/1 [00:00<00:00, 12.80it/s]\n",
            "libffi-3.2.1         | : 100% 1.0/1 [00:00<00:00, 23.75it/s]\n",
            "libiconv-1.15        | : 100% 1.0/1 [00:00<00:00,  3.75it/s]\n",
            "libllvm8-8.0.1       | : 100% 1.0/1 [00:03<00:00,  3.66s/it]               \n",
            "libsodium-1.0.17     | : 100% 1.0/1 [00:00<00:00, 12.95it/s]\n",
            "libuuid-2.32.1       | : 100% 1.0/1 [00:00<00:00, 25.61it/s]\n",
            "lzo-2.10             | : 100% 1.0/1 [00:00<00:00, 10.45it/s]\n",
            "ncurses-6.1          | : 100% 1.0/1 [00:00<00:00,  2.36it/s]\n",
            "openssl-1.0.2u       | : 100% 1.0/1 [00:00<00:00,  1.90it/s]\n",
            "pcre-8.44            | : 100% 1.0/1 [00:00<00:00, 13.75it/s]\n",
            "pixman-0.34.0        | : 100% 1.0/1 [00:00<00:00,  8.08it/s]\n",
            "pthread-stubs-0.4    | : 100% 1.0/1 [00:00<00:00, 34.39it/s]\n",
            "tbb-2020.1           | : 100% 1.0/1 [00:00<00:00,  3.94it/s]\n",
            "xorg-kbproto-1.0.7   | : 100% 1.0/1 [00:00<00:00, 27.86it/s]\n",
            "xorg-libice-1.0.10   | : 100% 1.0/1 [00:00<00:00, 14.93it/s]\n",
            "xorg-libxau-1.0.9    | : 100% 1.0/1 [00:00<00:00, 30.16it/s]\n",
            "xorg-libxdmcp-1.1.3  | : 100% 1.0/1 [00:00<00:00, 31.16it/s]\n",
            "xorg-renderproto-0.1 | : 100% 1.0/1 [00:00<00:00, 30.22it/s]\n",
            "xorg-xextproto-7.3.0 | : 100% 1.0/1 [00:00<00:00, 22.82it/s]\n",
            "xorg-xproto-7.0.31   | : 100% 1.0/1 [00:00<00:00, 23.55it/s]\n",
            "xz-5.2.5             | : 100% 1.0/1 [00:00<00:00,  8.35it/s]\n",
            "yaml-0.2.4           | : 100% 1.0/1 [00:00<00:00, 17.47it/s]\n",
            "zlib-1.2.11          | : 100% 1.0/1 [00:00<00:00, 19.71it/s]\n",
            "dbus-1.13.0          | : 100% 1.0/1 [00:00<00:00,  7.97it/s]\n",
            "gettext-0.19.8.1     | : 100% 1.0/1 [00:00<00:00,  1.31it/s]\n",
            "hdf5-1.10.6          | : 100% 1.0/1 [00:00<00:00,  2.17it/s]\n",
            "libpng-1.6.37        | : 100% 1.0/1 [00:00<00:00, 12.07it/s]\n",
            "libprotobuf-3.12.1   | : 100% 1.0/1 [00:00<00:00,  1.04it/s]\n",
            "libtiff-4.0.9        | : 100% 1.0/1 [00:00<00:00,  9.11it/s]\n",
            "libxcb-1.13          | : 100% 1.0/1 [00:00<00:00,  8.16it/s]\n",
            "libxml2-2.9.9        | : 100% 1.0/1 [00:00<00:00,  3.27it/s]\n",
            "readline-7.0         | : 100% 1.0/1 [00:00<00:00,  9.35it/s]\n",
            "tk-8.6.10            | : 100% 1.0/1 [00:00<00:00,  2.02it/s]               \n",
            "xorg-libsm-1.2.3     | : 100% 1.0/1 [00:00<00:00, 35.32it/s]\n",
            "zeromq-4.3.2         | : 100% 1.0/1 [00:00<00:00,  6.64it/s]\n",
            "freetype-2.8.1       | : 100% 1.0/1 [00:00<00:00,  5.02it/s]\n",
            "glib-2.55.0          | : 100% 1.0/1 [00:01<00:00,  1.32s/it]\n",
            "sqlite-3.28.0        | : 100% 1.0/1 [00:00<00:00,  3.15it/s]\n",
            "xorg-libx11-1.6.9    | : 100% 1.0/1 [00:00<00:00,  5.88it/s]\n",
            "fontconfig-2.13.0    | : 100% 1.0/1 [00:00<00:00, 11.43it/s]\n",
            "gstreamer-1.12.5     | : 100% 1.0/1 [00:00<00:00,  2.68it/s]\n",
            "python-3.6.7         | : 100% 1.0/1 [00:04<00:00,  7.47s/it]               \n",
            "xorg-libxext-1.3.4   | : 100% 1.0/1 [00:00<00:00, 27.76it/s]\n",
            "xorg-libxrender-0.9. | : 100% 1.0/1 [00:00<00:00, 29.32it/s]\n",
            "astor-0.7.1          | : 100% 1.0/1 [00:00<00:00, 30.88it/s]\n",
            "attrs-19.3.0         | : 100% 1.0/1 [00:00<00:00, 27.12it/s]\n",
            "backcall-0.1.0       | : 100% 1.0/1 [00:00<00:00, 35.30it/s]\n",
            "cairo-1.14.12        | : 100% 1.0/1 [00:00<00:00,  3.35it/s]\n",
            "decorator-4.4.2      | : 100% 1.0/1 [00:00<00:00, 29.66it/s]\n",
            "defusedxml-0.6.0     | : 100% 1.0/1 [00:00<00:00, 32.82it/s]\n",
            "gast-0.3.3           | : 100% 1.0/1 [00:00<00:00, 33.49it/s]\n",
            "gst-plugins-base-1.1 | : 100% 1.0/1 [00:00<00:00,  1.04it/s]\n",
            "idna-2.6             | : 100% 1.0/1 [00:00<00:00, 17.78it/s]\n",
            "ipython_genutils-0.2 | : 100% 1.0/1 [00:00<00:00, 23.85it/s]\n",
            "joblib-0.11          | : 100% 1.0/1 [00:00<00:00, 15.03it/s]\n",
            "jsonref-0.2          | : 100% 1.0/1 [00:00<00:00, 28.37it/s]\n",
            "monotonic-1.5        | : 100% 1.0/1 [00:00<00:00, 33.88it/s]\n",
            "more-itertools-8.3.0 | : 100% 1.0/1 [00:00<00:00, 22.76it/s]\n",
            "msgpack-python-0.5.5 | : 100% 1.0/1 [00:00<00:00, 13.75it/s]\n",
            "numpy-1.15.2         | : 100% 1.0/1 [00:01<00:00,  1.44s/it]               \n",
            "olefile-0.46         | : 100% 1.0/1 [00:00<00:00, 29.12it/s]\n",
            "pandocfilters-1.4.2  | : 100% 1.0/1 [00:00<00:00, 29.82it/s]\n",
            "parso-0.7.0          | : 100% 1.0/1 [00:00<00:00, 24.13it/s]\n",
            "prometheus_client-0. | : 100% 1.0/1 [00:00<00:00, 30.81it/s]\n",
            "ptyprocess-0.6.0     | : 100% 1.0/1 [00:00<00:00, 31.24it/s]\n",
            "py-1.8.1             | : 100% 1.0/1 [00:00<00:00, 23.06it/s]\n",
            "pycparser-2.20       | : 100% 1.0/1 [00:00<00:00, 14.97it/s]\n",
            "pyparsing-2.4.7      | : 100% 1.0/1 [00:00<00:00, 25.88it/s]\n",
            "python_abi-3.6       | : 100% 1.0/1 [00:00<00:00, 29.39it/s]\n",
            "pytz-2020.1          | : 100% 1.0/1 [00:00<00:00,  9.89it/s]\n",
            "qtpy-1.9.0           | : 100% 1.0/1 [00:00<00:00, 28.00it/s]\n",
            "send2trash-1.5.0     | : 100% 1.0/1 [00:00<00:00, 39.77it/s]\n",
            "sip-4.18.1           | : 100% 1.0/1 [00:00<00:00, 15.21it/s]\n",
            "six-1.15.0           | : 100% 1.0/1 [00:00<00:00, 31.07it/s]\n",
            "termcolor-1.1.0      | : 100% 1.0/1 [00:00<00:00, 36.33it/s]\n",
            "testpath-0.4.4       | : 100% 1.0/1 [00:00<00:00, 29.12it/s]\n",
            "tqdm-4.46.0          | : 100% 1.0/1 [00:00<00:00, 26.98it/s]\n",
            "wcwidth-0.1.9        | : 100% 1.0/1 [00:00<00:00, 33.73it/s]\n",
            "webencodings-0.5.1   | : 100% 1.0/1 [00:00<00:00, 23.32it/s]\n",
            "werkzeug-1.0.1       | : 100% 1.0/1 [00:00<00:00, 14.78it/s]\n",
            "zipp-3.1.0           | : 100% 1.0/1 [00:00<00:00, 32.37it/s]\n",
            "absl-py-0.9.0        | : 100% 1.0/1 [00:00<00:00, 14.69it/s]\n",
            "asn1crypto-1.3.0     | : 100% 1.0/1 [00:00<00:00, 15.01it/s]\n",
            "boost-1.63.0         | : 100% 1.0/1 [00:05<00:00,  5.49s/it]\n",
            "certifi-2020.4.5.1   | : 100% 1.0/1 [00:00<00:00, 16.96it/s]\n",
            "cffi-1.14.0          | : 100% 1.0/1 [00:00<00:00, 15.52it/s]\n",
            "chardet-3.0.4        | : 100% 1.0/1 [00:00<00:00, 13.04it/s]\n",
            "conda-package-handli | : 100% 1.0/1 [00:00<00:00,  6.22it/s]\n",
            "cycler-0.10.0        | : 100% 1.0/1 [00:00<00:00, 20.06it/s]\n",
            "cython-0.29.19       | : 100% 1.0/1 [00:00<00:00,  2.23it/s]\n",
            "entrypoints-0.3      | : 100% 1.0/1 [00:00<00:00, 26.24it/s]\n",
            "html5lib-0.9999999   | : 100% 1.0/1 [00:00<00:00, 13.69it/s]\n",
            "importlib-metadata-1 | : 100% 1.0/1 [00:00<00:00, 23.57it/s]\n",
            "jedi-0.17.0          | : 100% 1.0/1 [00:00<00:00,  3.53it/s]\n",
            "kiwisolver-1.2.0     | : 100% 1.0/1 [00:00<00:00, 21.47it/s]\n",
            "llvmlite-0.32.0      | : 100% 1.0/1 [00:00<00:00, 11.24it/s]\n",
            "markupsafe-1.1.1     | : 100% 1.0/1 [00:00<00:00, 27.48it/s]\n",
            "mistune-0.8.4        | : 100% 1.0/1 [00:00<00:00, 19.89it/s]\n",
            "mock-4.0.2           | : 100% 1.0/1 [00:00<00:00, 21.24it/s]\n",
            "packaging-20.4       | : 100% 1.0/1 [00:00<00:00, 30.30it/s]\n",
            "pexpect-4.8.0        | : 100% 1.0/1 [00:00<00:00, 23.93it/s]\n",
            "pickleshare-0.7.5    | : 100% 1.0/1 [00:00<00:00, 24.54it/s]\n",
            "pillow-5.0.0         | : 100% 1.0/1 [00:00<00:00,  5.57it/s]\n",
            "pycosat-0.6.3        | : 100% 1.0/1 [00:00<00:00, 19.36it/s]\n",
            "pyrsistent-0.16.0    | : 100% 1.0/1 [00:00<00:00, 16.14it/s]\n",
            "pysocks-1.7.1        | : 100% 1.0/1 [00:00<00:00, 20.59it/s]\n",
            "python-dateutil-2.8. | : 100% 1.0/1 [00:00<00:00, 15.81it/s]\n",
            "pyyaml-5.3.1         | : 100% 1.0/1 [00:00<00:00, 16.92it/s]\n",
            "pyzmq-19.0.1         | : 100% 1.0/1 [00:00<00:00,  6.84it/s]\n",
            "qt-5.6.2             | : 100% 1.0/1 [00:01<00:00,  1.03it/s]               \n",
            "ruamel_yaml-0.15.80  | : 100% 1.0/1 [00:00<00:00, 12.82it/s]\n",
            "scipy-1.1.0          | : 100% 1.0/1 [00:05<00:00,  7.88s/it]               \n",
            "simplejson-3.17.0    | : 100% 1.0/1 [00:00<00:00, 14.87it/s]\n",
            "tornado-6.0.4        | : 100% 1.0/1 [00:00<00:00,  6.54it/s]\n",
            "traitlets-4.3.3      | : 100% 1.0/1 [00:00<00:00, 19.18it/s]\n",
            "bleach-1.5.0         | : 100% 1.0/1 [00:00<00:00, 28.40it/s]\n",
            "cryptography-2.5     | : 100% 1.0/1 [00:00<00:00,  5.69it/s]\n",
            "importlib_metadata-1 | : 100% 1.0/1 [00:00<00:00, 33.66it/s]\n",
            "jupyter_core-4.6.3   | : 100% 1.0/1 [00:00<00:00, 23.02it/s]\n",
            "markdown-3.2.2       | : 100% 1.0/1 [00:00<00:00, 24.22it/s]\n",
            "openmm-7.4.2         | : 100% 1.0/1 [00:03<00:00,  3.61s/it]\n",
            "pandas-0.22.0        | : 100% 1.0/1 [00:04<00:00,  3.97s/it]               \n",
            "patsy-0.5.1          | : 100% 1.0/1 [00:00<00:00, 16.54it/s]\n",
            "pyqt-5.6.0           | : 100% 1.0/1 [00:01<00:00,  1.27s/it]               \n",
            "scikit-learn-0.19.1  | : 100% 1.0/1 [00:01<00:00,  1.92s/it]               \n",
            "setuptools-47.1.1    | : 100% 1.0/1 [00:00<00:00,  1.94it/s]\n",
            "terminado-0.8.3      | : 100% 1.0/1 [00:00<00:00, 24.00it/s]\n",
            "xgboost-0.6a2        | : 100% 1.0/1 [00:00<00:00,  4.46it/s]\n",
            "anyconfig-0.9.10     | : 100% 1.0/1 [00:00<00:00, 20.69it/s]\n",
            "grpcio-1.16.0        | : 100% 1.0/1 [00:00<00:00,  5.35it/s]\n",
            "jinja2-2.11.2        | : 100% 1.0/1 [00:00<00:00, 16.22it/s]\n",
            "jsonschema-3.2.0     | : 100% 1.0/1 [00:00<00:00, 18.27it/s]\n",
            "jupyter_client-6.1.3 | : 100% 1.0/1 [00:00<00:00, 21.28it/s]\n",
            "matplotlib-2.2.2     | : 100% 1.0/1 [00:00<00:00,  4.22it/s]\n",
            "networkx-2.1         | : 100% 1.0/1 [00:00<00:00,  4.07it/s]\n",
            "numba-0.49.1         | : 100% 1.0/1 [00:00<00:00,  1.28it/s]\n",
            "numexpr-2.7.1        | : 100% 1.0/1 [00:00<00:00, 16.54it/s]\n",
            "pdbfixer-1.4         | : 100% 1.0/1 [00:00<00:00,  1.29it/s]\n",
            "pluggy-0.13.1        | : 100% 1.0/1 [00:00<00:00, 22.61it/s]\n",
            "protobuf-3.12.1      | : 100% 1.0/1 [00:00<00:00,  5.20it/s]\n",
            "pygments-2.6.1       | : 100% 1.0/1 [00:00<00:00,  5.89it/s]\n",
            "pyopenssl-19.0.0     | : 100% 1.0/1 [00:00<00:00, 21.11it/s]\n",
            "rdkit-2017.09.1      | : 100% 1.0/1 [00:05<00:00,  5.02s/it]\n",
            "statsmodels-0.10.2   | : 100% 1.0/1 [00:01<00:00,  1.30s/it]               \n",
            "wheel-0.34.2         | : 100% 1.0/1 [00:00<00:00, 24.35it/s]\n",
            "molvs-0.1.1          | : 100% 1.0/1 [00:00<00:00, 23.85it/s]\n",
            "mordred-1.2.0        | : 100% 1.0/1 [00:00<00:00, 17.47it/s]\n",
            "nbformat-5.0.6       | : 100% 1.0/1 [00:00<00:00, 16.40it/s]\n",
            "pip-20.1.1           | : 100% 1.0/1 [00:00<00:00,  4.16it/s]\n",
            "prompt-toolkit-3.0.5 | : 100% 1.0/1 [00:00<00:00,  9.72it/s]\n",
            "pytables-3.6.1       | : 100% 1.0/1 [00:00<00:00,  3.25it/s]\n",
            "pytest-5.4.2         | : 100% 1.0/1 [00:00<00:00,  8.74it/s]\n",
            "seaborn-0.10.0       | : 100% 1.0/1 [00:00<00:00, 15.68it/s]\n",
            "simdna-0.4.2         | : 100% 1.0/1 [00:00<00:00,  1.03it/s]\n",
            "swagger-spec-validat | : 100% 1.0/1 [00:00<00:00, 19.62it/s]\n",
            "tensorboard-1.6.0    | : 100% 1.0/1 [00:00<00:00,  2.76it/s]\n",
            "tensorflow-gpu-base- | : 100% 1.0/1 [00:05<00:00,  5.08s/it]               \n",
            "umap-learn-0.4.2     | : 100% 1.0/1 [00:00<00:00, 17.53it/s]\n",
            "urllib3-1.22         | : 100% 1.0/1 [00:00<00:00, 13.80it/s]\n",
            "bravado-core-5.16.0  | : 100% 1.0/1 [00:00<00:00, 24.81it/s]\n",
            "ipython-7.15.0       | : 100% 1.0/1 [00:00<00:00,  3.27it/s]\n",
            "mdtraj-1.9.1         | : 100% 1.0/1 [00:02<00:00,  2.08s/it]\n",
            "nbconvert-5.6.1      | : 100% 1.0/1 [00:00<00:00,  7.63it/s]\n",
            "prompt_toolkit-3.0.5 | : 100% 1.0/1 [00:03<00:00,  3.06s/it]\n",
            "requests-2.18.4      | : 100% 1.0/1 [00:00<00:00, 20.48it/s]\n",
            "tensorflow-gpu-1.6.0 | : 100% 1.0/1 [00:00<00:00, 21.33it/s]\n",
            "bravado-10.4.3       | : 100% 1.0/1 [00:00<00:00, 30.79it/s]\n",
            "conda-4.8.3          | : 100% 1.0/1 [00:00<00:00,  1.87it/s]\n",
            "ipykernel-5.3.0      | : 100% 1.0/1 [00:00<00:00, 14.41it/s]\n",
            "jupyter_console-6.1. | : 100% 1.0/1 [00:00<00:00, 25.45it/s]\n",
            "notebook-6.0.3       | : 100% 1.0/1 [00:01<00:00,  1.11it/s]               \n",
            "qtconsole-4.7.4      | : 100% 1.0/1 [00:00<00:00, 20.09it/s]\n",
            "widgetsnbextension-3 | : 100% 1.0/1 [00:00<00:00,  2.72it/s]\n",
            "ipywidgets-7.5.1     | : 100% 1.0/1 [00:00<00:00, 20.30it/s]\n",
            "jupyter-1.0.0        | : 100% 1.0/1 [00:00<00:00, 24.20it/s]\n",
            "deepchem-gpu-2.1.0   | : 100% 1.0/1 [00:01<00:00,  1.39s/it]\n",
            "Preparing transaction: - \b\b\\ \b\b| \b\b/ \b\b- \b\b\\ \b\b| \b\b/ \b\b- \b\b\\ \b\b| \b\b/ \b\b- \b\b\\ \b\b| \b\b/ \b\b- \b\b\\ \b\b| \b\bdone\n",
            "Verifying transaction: - \b\b\\ \b\b| \b\b/ \b\b- \b\b\\ \b\b| \b\b/ \b\b- \b\b\\ \b\b| \b\b/ \b\b- \b\b\\ \b\b| \b\b/ \b\b- \b\b\\ \b\b| \b\b/ \b\b- \b\b\\ \b\b| \b\b/ \b\b- \b\b\\ \b\b| \b\b/ \b\b- \b\b\\ \b\b| \b\b/ \b\b- \b\b\\ \b\b| \b\b/ \b\b- \b\b\\ \b\b| \b\b/ \b\b- \b\b\\ \b\b| \b\b/ \b\b- \b\b\\ \b\b| \b\b/ \b\b- \b\b\\ \b\b| \b\b/ \b\b- \b\b\\ \b\b| \b\b/ \b\b- \b\b\\ \b\b| \b\b/ \b\b- \b\b\\ \b\b| \b\b/ \b\b- \b\b\\ \b\b| \b\b/ \b\b- \b\b\\ \b\b| \b\b/ \b\b- \b\b\\ \b\b| \b\b/ \b\b- \b\b\\ \b\b| \b\b/ \b\bdone\n",
            "Executing transaction: \\ \b\b| \b\b/ \b\b- \b\b\\ \b\b| \b\b/ \b\b- \b\b\\ \b\b| \b\b/ \b\b- \b\b\\ \b\b| \b\b/ \b\b- \b\b\\ \b\b| \b\b/ \b\b- \b\b\\ \b\b| \b\b/ \b\b- \b\b\\ \b\b| \b\b/ \b\b- \b\b\\ \b\b| \b\b/ \b\b- \b\b\\ \b\b| \b\b/ b'Enabling notebook extension jupyter-js-widgets/extension...\\nPaths used for configuration of notebook: \\n    \\t/content/AMPL/etc/jupyter/nbconfig/notebook.d/widgetsnbextension.json\\n    \\t/content/AMPL/etc/jupyter/nbconfig/notebook.json\\nPaths used for configuration of notebook: \\n    \\t/content/AMPL/etc/jupyter/nbconfig/notebook.d/widgetsnbextension.json\\n      - Validating: \\x1b[32mOK\\x1b[0m\\nPaths used for configuration of notebook: \\n    \\t/content/AMPL/etc/jupyter/nbconfig/notebook.d/widgetsnbextension.json\\n    \\t/content/AMPL/etc/jupyter/nbconfig/notebook.json\\n'\n",
            "\b\b- \b\b\\ \b\b| \b\b/ \b\b- \b\b\\ \b\b| \b\b/ \b\b- \b\b\\ \b\b| \b\b/ \b\b- \b\b\\ \b\b| \b\b/ \b\b- \b\b\\ \b\b| \b\b/ \b\b- \b\b\\ \b\b| \b\b/ \b\b- \b\b\\ \b\b| \b\b/ \b\b- \b\b\\ \b\b| \b\b/ \b\b- \b\b\\ \b\b| \b\b/ \b\b- \b\b\\ \b\b| \b\b/ \b\b- \b\b\\ \b\b| \b\b/ \b\b- \b\b\\ \b\b| \b\b/ \b\b- \b\b\\ \b\b| \b\b/ \b\bdone\n",
            "Cloning into 'AMPL'...\n",
            "remote: Enumerating objects: 466, done.\u001b[K\n",
            "remote: Counting objects: 100% (466/466), done.\u001b[K\n",
            "remote: Compressing objects: 100% (253/253), done.\u001b[K\n",
            "remote: Total 1303 (delta 265), reused 381 (delta 211), pack-reused 837\u001b[K\n",
            "Receiving objects: 100% (1303/1303), 9.54 MiB | 25.29 MiB/s, done.\n",
            "Resolving deltas: 100% (686/686), done.\n",
            "patching file /content/github/AMPL/atomsci/ddm/pipeline/transformations.py\n",
            "patching file /content/github/AMPL/atomsci/ddm/__init__.py\n",
            "running build\n",
            "running build_py\n",
            "creating /content/github/AMPL.build/ampl/lib\n",
            "creating /content/github/AMPL.build/ampl/lib/atomsci\n",
            "copying atomsci/__init__.py -> /content/github/AMPL.build/ampl/lib/atomsci\n",
            "creating /content/github/AMPL.build/ampl/lib/atomsci/ddm\n",
            "copying atomsci/ddm/__init__.py -> /content/github/AMPL.build/ampl/lib/atomsci/ddm\n",
            "creating /content/github/AMPL.build/ampl/lib/atomsci/ddm/utils\n",
            "copying atomsci/ddm/utils/struct_utils.py -> /content/github/AMPL.build/ampl/lib/atomsci/ddm/utils\n",
            "copying atomsci/ddm/utils/datastore_functions.py -> /content/github/AMPL.build/ampl/lib/atomsci/ddm/utils\n",
            "copying atomsci/ddm/utils/genTestset.py -> /content/github/AMPL.build/ampl/lib/atomsci/ddm/utils\n",
            "copying atomsci/ddm/utils/pubchem_utils.py -> /content/github/AMPL.build/ampl/lib/atomsci/ddm/utils\n",
            "copying atomsci/ddm/utils/llnl_utils.py -> /content/github/AMPL.build/ampl/lib/atomsci/ddm/utils\n",
            "copying atomsci/ddm/utils/__init__.py -> /content/github/AMPL.build/ampl/lib/atomsci/ddm/utils\n",
            "copying atomsci/ddm/utils/open-docs.py -> /content/github/AMPL.build/ampl/lib/atomsci/ddm/utils\n",
            "copying atomsci/ddm/utils/hyperparam_search_wrapper.py -> /content/github/AMPL.build/ampl/lib/atomsci/ddm/utils\n",
            "copying atomsci/ddm/utils/data_curation_functions.py -> /content/github/AMPL.build/ampl/lib/atomsci/ddm/utils\n",
            "copying atomsci/ddm/utils/process_slurm.py -> /content/github/AMPL.build/ampl/lib/atomsci/ddm/utils\n",
            "copying atomsci/ddm/utils/curate_data.py -> /content/github/AMPL.build/ampl/lib/atomsci/ddm/utils\n",
            "creating /content/github/AMPL.build/ampl/lib/atomsci/ddm/pipeline\n",
            "copying atomsci/ddm/pipeline/perf_data.py -> /content/github/AMPL.build/ampl/lib/atomsci/ddm/pipeline\n",
            "copying atomsci/ddm/pipeline/model_datasets.py -> /content/github/AMPL.build/ampl/lib/atomsci/ddm/pipeline\n",
            "copying atomsci/ddm/pipeline/transformations.py -> /content/github/AMPL.build/ampl/lib/atomsci/ddm/pipeline\n",
            "copying atomsci/ddm/pipeline/compare_models.py -> /content/github/AMPL.build/ampl/lib/atomsci/ddm/pipeline\n",
            "copying atomsci/ddm/pipeline/featurization.py -> /content/github/AMPL.build/ampl/lib/atomsci/ddm/pipeline\n",
            "copying atomsci/ddm/pipeline/parameter_parser.py -> /content/github/AMPL.build/ampl/lib/atomsci/ddm/pipeline\n",
            "copying atomsci/ddm/pipeline/model_tracker.py -> /content/github/AMPL.build/ampl/lib/atomsci/ddm/pipeline\n",
            "copying atomsci/ddm/pipeline/__init__.py -> /content/github/AMPL.build/ampl/lib/atomsci/ddm/pipeline\n",
            "copying atomsci/ddm/pipeline/hyper_perf_plots.py -> /content/github/AMPL.build/ampl/lib/atomsci/ddm/pipeline\n",
            "copying atomsci/ddm/pipeline/chem_diversity.py -> /content/github/AMPL.build/ampl/lib/atomsci/ddm/pipeline\n",
            "copying atomsci/ddm/pipeline/model_pipeline.py -> /content/github/AMPL.build/ampl/lib/atomsci/ddm/pipeline\n",
            "copying atomsci/ddm/pipeline/diversity_plots.py -> /content/github/AMPL.build/ampl/lib/atomsci/ddm/pipeline\n",
            "copying atomsci/ddm/pipeline/dist_metrics.py -> /content/github/AMPL.build/ampl/lib/atomsci/ddm/pipeline\n",
            "copying atomsci/ddm/pipeline/model_wrapper.py -> /content/github/AMPL.build/ampl/lib/atomsci/ddm/pipeline\n",
            "copying atomsci/ddm/pipeline/ave_splitter.py -> /content/github/AMPL.build/ampl/lib/atomsci/ddm/pipeline\n",
            "copying atomsci/ddm/pipeline/splitting.py -> /content/github/AMPL.build/ampl/lib/atomsci/ddm/pipeline\n",
            "copying atomsci/ddm/pipeline/temporal_splitter.py -> /content/github/AMPL.build/ampl/lib/atomsci/ddm/pipeline\n",
            "copying atomsci/ddm/pipeline/perf_plots.py -> /content/github/AMPL.build/ampl/lib/atomsci/ddm/pipeline\n",
            "running egg_info\n",
            "creating /content/github/AMPL.build/ampl/atomsci_ampl.egg-info\n",
            "writing /content/github/AMPL.build/ampl/atomsci_ampl.egg-info/PKG-INFO\n",
            "writing dependency_links to /content/github/AMPL.build/ampl/atomsci_ampl.egg-info/dependency_links.txt\n",
            "writing namespace_packages to /content/github/AMPL.build/ampl/atomsci_ampl.egg-info/namespace_packages.txt\n",
            "writing top-level names to /content/github/AMPL.build/ampl/atomsci_ampl.egg-info/top_level.txt\n",
            "writing manifest file '/content/github/AMPL.build/ampl/atomsci_ampl.egg-info/SOURCES.txt'\n",
            "reading manifest file '/content/github/AMPL.build/ampl/atomsci_ampl.egg-info/SOURCES.txt'\n",
            "reading manifest template 'MANIFEST.in'\n",
            "warning: no files found matching 'atomsci/*/*.yaml'\n",
            "writing manifest file '/content/github/AMPL.build/ampl/atomsci_ampl.egg-info/SOURCES.txt'\n",
            "creating /content/github/AMPL.build/ampl/lib/atomsci/ddm/data\n",
            "copying atomsci/ddm/data/descriptor_sets_sources_by_descr_type.csv -> /content/github/AMPL.build/ampl/lib/atomsci/ddm/data\n",
            "running bdist_wheel\n",
            "installing to /content/github/AMPL.build/ampl/bdist.linux-x86_64/wheel\n",
            "running install\n",
            "running install_lib\n",
            "Skipping installation of /content/github/AMPL.build/ampl/bdist.linux-x86_64/wheel/atomsci/__init__.py (namespace package)\n",
            "copying atomsci/ddm/__init__.py -> /content/github/AMPL.build/ampl/bdist.linux-x86_64/wheel/atomsci/ddm\n",
            "copying atomsci/ddm/utils/struct_utils.py -> /content/github/AMPL.build/ampl/bdist.linux-x86_64/wheel/atomsci/ddm/utils\n",
            "copying atomsci/ddm/utils/datastore_functions.py -> /content/github/AMPL.build/ampl/bdist.linux-x86_64/wheel/atomsci/ddm/utils\n",
            "copying atomsci/ddm/utils/genTestset.py -> /content/github/AMPL.build/ampl/bdist.linux-x86_64/wheel/atomsci/ddm/utils\n",
            "copying atomsci/ddm/utils/pubchem_utils.py -> /content/github/AMPL.build/ampl/bdist.linux-x86_64/wheel/atomsci/ddm/utils\n",
            "copying atomsci/ddm/utils/llnl_utils.py -> /content/github/AMPL.build/ampl/bdist.linux-x86_64/wheel/atomsci/ddm/utils\n",
            "copying atomsci/ddm/utils/__init__.py -> /content/github/AMPL.build/ampl/bdist.linux-x86_64/wheel/atomsci/ddm/utils\n",
            "copying atomsci/ddm/utils/open-docs.py -> /content/github/AMPL.build/ampl/bdist.linux-x86_64/wheel/atomsci/ddm/utils\n",
            "copying atomsci/ddm/utils/hyperparam_search_wrapper.py -> /content/github/AMPL.build/ampl/bdist.linux-x86_64/wheel/atomsci/ddm/utils\n",
            "copying atomsci/ddm/utils/data_curation_functions.py -> /content/github/AMPL.build/ampl/bdist.linux-x86_64/wheel/atomsci/ddm/utils\n",
            "copying atomsci/ddm/utils/process_slurm.py -> /content/github/AMPL.build/ampl/bdist.linux-x86_64/wheel/atomsci/ddm/utils\n",
            "copying atomsci/ddm/utils/curate_data.py -> /content/github/AMPL.build/ampl/bdist.linux-x86_64/wheel/atomsci/ddm/utils\n",
            "copying atomsci/ddm/data/descriptor_sets_sources_by_descr_type.csv -> /content/github/AMPL.build/ampl/bdist.linux-x86_64/wheel/atomsci/ddm/data\n",
            "copying atomsci/ddm/pipeline/perf_data.py -> /content/github/AMPL.build/ampl/bdist.linux-x86_64/wheel/atomsci/ddm/pipeline\n",
            "copying atomsci/ddm/pipeline/model_datasets.py -> /content/github/AMPL.build/ampl/bdist.linux-x86_64/wheel/atomsci/ddm/pipeline\n",
            "copying atomsci/ddm/pipeline/transformations.py -> /content/github/AMPL.build/ampl/bdist.linux-x86_64/wheel/atomsci/ddm/pipeline\n",
            "copying atomsci/ddm/pipeline/compare_models.py -> /content/github/AMPL.build/ampl/bdist.linux-x86_64/wheel/atomsci/ddm/pipeline\n",
            "copying atomsci/ddm/pipeline/featurization.py -> /content/github/AMPL.build/ampl/bdist.linux-x86_64/wheel/atomsci/ddm/pipeline\n",
            "copying atomsci/ddm/pipeline/parameter_parser.py -> /content/github/AMPL.build/ampl/bdist.linux-x86_64/wheel/atomsci/ddm/pipeline\n",
            "copying atomsci/ddm/pipeline/model_tracker.py -> /content/github/AMPL.build/ampl/bdist.linux-x86_64/wheel/atomsci/ddm/pipeline\n",
            "copying atomsci/ddm/pipeline/__init__.py -> /content/github/AMPL.build/ampl/bdist.linux-x86_64/wheel/atomsci/ddm/pipeline\n",
            "copying atomsci/ddm/pipeline/hyper_perf_plots.py -> /content/github/AMPL.build/ampl/bdist.linux-x86_64/wheel/atomsci/ddm/pipeline\n",
            "copying atomsci/ddm/pipeline/chem_diversity.py -> /content/github/AMPL.build/ampl/bdist.linux-x86_64/wheel/atomsci/ddm/pipeline\n",
            "copying atomsci/ddm/pipeline/model_pipeline.py -> /content/github/AMPL.build/ampl/bdist.linux-x86_64/wheel/atomsci/ddm/pipeline\n",
            "copying atomsci/ddm/pipeline/diversity_plots.py -> /content/github/AMPL.build/ampl/bdist.linux-x86_64/wheel/atomsci/ddm/pipeline\n",
            "copying atomsci/ddm/pipeline/dist_metrics.py -> /content/github/AMPL.build/ampl/bdist.linux-x86_64/wheel/atomsci/ddm/pipeline\n",
            "copying atomsci/ddm/pipeline/model_wrapper.py -> /content/github/AMPL.build/ampl/bdist.linux-x86_64/wheel/atomsci/ddm/pipeline\n",
            "copying atomsci/ddm/pipeline/ave_splitter.py -> /content/github/AMPL.build/ampl/bdist.linux-x86_64/wheel/atomsci/ddm/pipeline\n",
            "copying atomsci/ddm/pipeline/splitting.py -> /content/github/AMPL.build/ampl/bdist.linux-x86_64/wheel/atomsci/ddm/pipeline\n",
            "copying atomsci/ddm/pipeline/temporal_splitter.py -> /content/github/AMPL.build/ampl/bdist.linux-x86_64/wheel/atomsci/ddm/pipeline\n",
            "copying atomsci/ddm/pipeline/perf_plots.py -> /content/github/AMPL.build/ampl/bdist.linux-x86_64/wheel/atomsci/ddm/pipeline\n",
            "running install_egg_info\n",
            "Copying /content/github/AMPL.build/ampl/atomsci_ampl.egg-info to /content/github/AMPL.build/ampl/bdist.linux-x86_64/wheel/atomsci_ampl-1.0.0.dev1-py3.6.egg-info\n",
            "Installing /content/github/AMPL.build/ampl/bdist.linux-x86_64/wheel/atomsci_ampl-1.0.0.dev1-py3.6-nspkg.pth\n",
            "running install_scripts\n",
            "adding license file \"LICENSE\" (matched pattern \"LICEN[CS]E*\")\n",
            "adding license file \"NOTICE\" (matched pattern \"NOTICE*\")\n",
            "creating /content/github/AMPL.build/ampl/bdist.linux-x86_64/wheel/atomsci_ampl-1.0.0.dev1.dist-info/WHEEL\n",
            "creating '/content/github/AMPL.dist/atomsci_ampl-1.0.0.dev1-py3-none-any.whl' and adding '/content/github/AMPL.build/ampl/bdist.linux-x86_64/wheel' to it\n",
            "adding 'atomsci_ampl-1.0.0.dev1-py3.6-nspkg.pth'\n",
            "adding 'atomsci/ddm/__init__.py'\n",
            "adding 'atomsci/ddm/data/descriptor_sets_sources_by_descr_type.csv'\n",
            "adding 'atomsci/ddm/pipeline/__init__.py'\n",
            "adding 'atomsci/ddm/pipeline/ave_splitter.py'\n",
            "adding 'atomsci/ddm/pipeline/chem_diversity.py'\n",
            "adding 'atomsci/ddm/pipeline/compare_models.py'\n",
            "adding 'atomsci/ddm/pipeline/dist_metrics.py'\n",
            "adding 'atomsci/ddm/pipeline/diversity_plots.py'\n",
            "adding 'atomsci/ddm/pipeline/featurization.py'\n",
            "adding 'atomsci/ddm/pipeline/hyper_perf_plots.py'\n",
            "adding 'atomsci/ddm/pipeline/model_datasets.py'\n",
            "adding 'atomsci/ddm/pipeline/model_pipeline.py'\n",
            "adding 'atomsci/ddm/pipeline/model_tracker.py'\n",
            "adding 'atomsci/ddm/pipeline/model_wrapper.py'\n",
            "adding 'atomsci/ddm/pipeline/parameter_parser.py'\n",
            "adding 'atomsci/ddm/pipeline/perf_data.py'\n",
            "adding 'atomsci/ddm/pipeline/perf_plots.py'\n",
            "adding 'atomsci/ddm/pipeline/splitting.py'\n",
            "adding 'atomsci/ddm/pipeline/temporal_splitter.py'\n",
            "adding 'atomsci/ddm/pipeline/transformations.py'\n",
            "adding 'atomsci/ddm/utils/__init__.py'\n",
            "adding 'atomsci/ddm/utils/curate_data.py'\n",
            "adding 'atomsci/ddm/utils/data_curation_functions.py'\n",
            "adding 'atomsci/ddm/utils/datastore_functions.py'\n",
            "adding 'atomsci/ddm/utils/genTestset.py'\n",
            "adding 'atomsci/ddm/utils/hyperparam_search_wrapper.py'\n",
            "adding 'atomsci/ddm/utils/llnl_utils.py'\n",
            "adding 'atomsci/ddm/utils/open-docs.py'\n",
            "adding 'atomsci/ddm/utils/process_slurm.py'\n",
            "adding 'atomsci/ddm/utils/pubchem_utils.py'\n",
            "adding 'atomsci/ddm/utils/struct_utils.py'\n",
            "adding 'atomsci_ampl-1.0.0.dev1.dist-info/LICENSE'\n",
            "adding 'atomsci_ampl-1.0.0.dev1.dist-info/METADATA'\n",
            "adding 'atomsci_ampl-1.0.0.dev1.dist-info/NOTICE'\n",
            "adding 'atomsci_ampl-1.0.0.dev1.dist-info/WHEEL'\n",
            "adding 'atomsci_ampl-1.0.0.dev1.dist-info/namespace_packages.txt'\n",
            "adding 'atomsci_ampl-1.0.0.dev1.dist-info/top_level.txt'\n",
            "adding 'atomsci_ampl-1.0.0.dev1.dist-info/RECORD'\n",
            "removing /content/github/AMPL.build/ampl/bdist.linux-x86_64/wheel\n",
            "DIR: /content/github/AMPL\n",
            "Non-user install because site-packages writeable\n",
            "Ignoring indexes: https://pypi.org/simple\n",
            "Created temporary directory: /tmp/pip-ephem-wheel-cache-86wnai8f\n",
            "Created temporary directory: /tmp/pip-req-tracker-4a5mlemf\n",
            "Initialized build tracking at /tmp/pip-req-tracker-4a5mlemf\n",
            "Created build tracker: /tmp/pip-req-tracker-4a5mlemf\n",
            "Entered build tracker: /tmp/pip-req-tracker-4a5mlemf\n",
            "Created temporary directory: /tmp/pip-install-qy8mk3x3\n",
            "Looking in links: /content/github/AMPL.dist\n",
            "0 location(s) to search for versions of atomsci-ampl:\n",
            "Skipping link: unsupported archive format: .dist: /content/github/AMPL.dist (from -f)\n",
            "Found link file:///content/github/AMPL.dist/atomsci_ampl-1.0.0.dev1-py3-none-any.whl, version: 1.0.0.dev1\n",
            "Local files found: /content/github/AMPL.dist/atomsci_ampl-1.0.0.dev1-py3-none-any.whl\n",
            "Given no hashes to check 1 links for project 'atomsci-ampl': discarding no candidates\n",
            "Using version 1.0.0.dev1 (newest of versions: 1.0.0.dev1)\n",
            "Processing /content/github/AMPL.dist/atomsci_ampl-1.0.0.dev1-py3-none-any.whl\n",
            "  Added atomsci_ampl from file:///content/github/AMPL.dist/atomsci_ampl-1.0.0.dev1-py3-none-any.whl to build tracker '/tmp/pip-req-tracker-4a5mlemf'\n",
            "  Removed atomsci_ampl from file:///content/github/AMPL.dist/atomsci_ampl-1.0.0.dev1-py3-none-any.whl from build tracker '/tmp/pip-req-tracker-4a5mlemf'\n",
            "Installing collected packages: atomsci-ampl\n",
            "  Created temporary directory: /tmp/pip-unpacked-wheel-b5n9mmax\n",
            "\n",
            "Successfully installed atomsci-ampl-1.0.0.dev1\n",
            "Removed build tracker: '/tmp/pip-req-tracker-4a5mlemf'\n",
            "\n",
            "real\t2m26.918s\n",
            "user\t1m33.843s\n",
            "sys\t0m17.497s\n"
          ],
          "name": "stdout"
        }
      ]
    },
    {
      "cell_type": "code",
      "metadata": {
        "id": "ox353IcUpDgS",
        "outputId": "4db64bf1-b9ad-4d77-ab92-c932ec3ffac3",
        "colab": {
          "base_uri": "https://localhost:8080/",
          "height": 68
        }
      },
      "source": [
        "!find . -name transformations.py "
      ],
      "execution_count": 2,
      "outputs": [
        {
          "output_type": "stream",
          "text": [
            "./AMPL/lib/python3.6/site-packages/atomsci/ddm/pipeline/transformations.py\n",
            "./github/AMPL.build/ampl/lib/atomsci/ddm/pipeline/transformations.py\n",
            "./github/AMPL/atomsci/ddm/pipeline/transformations.py\n"
          ],
          "name": "stdout"
        }
      ]
    },
    {
      "cell_type": "code",
      "metadata": {
        "id": "SiJL8BImEpSb"
      },
      "source": [
        "# There is a problem with the UMAP package, so temporarily remove umap import\n",
        "%%bash\n",
        "cat << EOF > ampl.patch\n",
        "--- transformations.py  2020-09-14 17:08:22.225747322 -0700\n",
        "+++ transformations_patched.py  2020-09-14 17:08:07.869651225 -0700\n",
        "@@ -9,7 +9,7 @@\n",
        "\n",
        " import numpy as np\n",
        " import pandas as pd\n",
        "-import umap\n",
        "+# import umap\n",
        "\n",
        " import deepchem as dc\n",
        " from deepchem.trans.transformers import Transformer, NormalizationTransformer\n",
        "EOF\n",
        "\n",
        "patch -N /AMPL/lib/python3.6/site-packages/atomsci/ddm/pipeline/transformations.py"
      ],
      "execution_count": 3,
      "outputs": []
    },
    {
      "cell_type": "markdown",
      "metadata": {
        "id": "Dg2c6mMufVVl"
      },
      "source": [
        "**The following code-chunk will take about 6-7 minutes**"
      ]
    },
    {
      "cell_type": "markdown",
      "metadata": {
        "id": "7JJOiXLrCxCj"
      },
      "source": [
        "**Note: Can start here if the Colab runtime is restarted. Environment is saved in the Colab runtime file system.**"
      ]
    },
    {
      "cell_type": "code",
      "metadata": {
        "id": "BVeV2RISpdBX",
        "outputId": "a6b17fc1-b9d1-4773-cde6-841897ab6b73",
        "colab": {
          "base_uri": "https://localhost:8080/",
          "height": 187
        }
      },
      "source": [
        "# Load AMPL in this notebook\n",
        "import sys\n",
        "\n",
        "site_packages_path = '/content/AMPL/lib/python3.6/site-packages'\n",
        "if site_packages_path not in sys.path:\n",
        "  sys.path.insert(1, site_packages_path)\n",
        "sys.path"
      ],
      "execution_count": 4,
      "outputs": [
        {
          "output_type": "execute_result",
          "data": {
            "text/plain": [
              "['',\n",
              " '/content/AMPL/lib/python3.6/site-packages',\n",
              " '/env/python',\n",
              " '/usr/lib/python36.zip',\n",
              " '/usr/lib/python3.6',\n",
              " '/usr/lib/python3.6/lib-dynload',\n",
              " '/usr/local/lib/python3.6/dist-packages',\n",
              " '/usr/lib/python3/dist-packages',\n",
              " '/usr/local/lib/python3.6/dist-packages/IPython/extensions',\n",
              " '/root/.ipython']"
            ]
          },
          "metadata": {
            "tags": []
          },
          "execution_count": 4
        }
      ]
    },
    {
      "cell_type": "code",
      "metadata": {
        "id": "Z0KTYOUAFID7"
      },
      "source": [
        "# There is a problem with the previously imported cffi, so delete it and load it with AMPL instead\n",
        "if 'cffi' in sys.modules:\n",
        "  del sys.modules['cffi']"
      ],
      "execution_count": 5,
      "outputs": []
    },
    {
      "cell_type": "code",
      "metadata": {
        "id": "E8BxcPS4EVt9",
        "outputId": "24845449-3fe1-4cb7-85a1-79d4426703de",
        "colab": {
          "base_uri": "https://localhost:8080/",
          "height": 309
        }
      },
      "source": [
        "import atomsci.ddm.pipeline.compare_models as cmp\n",
        "import atomsci.ddm.pipeline.model_pipeline as mp\n",
        "import atomsci.ddm.pipeline.parameter_parser as parse"
      ],
      "execution_count": 6,
      "outputs": [
        {
          "output_type": "stream",
          "text": [
            "/content/AMPL/lib/python3.6/site-packages/tensorflow/python/framework/dtypes.py:517: FutureWarning: Passing (type, 1) or '1type' as a synonym of type is deprecated; in a future version of numpy, it will be understood as (type, (1,)) / '(1,)type'.\n",
            "  _np_qint8 = np.dtype([(\"qint8\", np.int8, 1)])\n",
            "/content/AMPL/lib/python3.6/site-packages/tensorflow/python/framework/dtypes.py:518: FutureWarning: Passing (type, 1) or '1type' as a synonym of type is deprecated; in a future version of numpy, it will be understood as (type, (1,)) / '(1,)type'.\n",
            "  _np_quint8 = np.dtype([(\"quint8\", np.uint8, 1)])\n",
            "/content/AMPL/lib/python3.6/site-packages/tensorflow/python/framework/dtypes.py:519: FutureWarning: Passing (type, 1) or '1type' as a synonym of type is deprecated; in a future version of numpy, it will be understood as (type, (1,)) / '(1,)type'.\n",
            "  _np_qint16 = np.dtype([(\"qint16\", np.int16, 1)])\n",
            "/content/AMPL/lib/python3.6/site-packages/tensorflow/python/framework/dtypes.py:520: FutureWarning: Passing (type, 1) or '1type' as a synonym of type is deprecated; in a future version of numpy, it will be understood as (type, (1,)) / '(1,)type'.\n",
            "  _np_quint16 = np.dtype([(\"quint16\", np.uint16, 1)])\n",
            "/content/AMPL/lib/python3.6/site-packages/tensorflow/python/framework/dtypes.py:521: FutureWarning: Passing (type, 1) or '1type' as a synonym of type is deprecated; in a future version of numpy, it will be understood as (type, (1,)) / '(1,)type'.\n",
            "  _np_qint32 = np.dtype([(\"qint32\", np.int32, 1)])\n",
            "/content/AMPL/lib/python3.6/site-packages/tensorflow/python/framework/dtypes.py:526: FutureWarning: Passing (type, 1) or '1type' as a synonym of type is deprecated; in a future version of numpy, it will be understood as (type, (1,)) / '(1,)type'.\n",
            "  np_resource = np.dtype([(\"resource\", np.ubyte, 1)])\n",
            "/content/AMPL/lib/python3.6/site-packages/sklearn/ensemble/weight_boosting.py:29: DeprecationWarning: numpy.core.umath_tests is an internal NumPy module and should not be imported. It will be removed in a future NumPy release.\n",
            "  from numpy.core.umath_tests import inner1d\n",
            "/content/AMPL/lib/python3.6/site-packages/sklearn/cross_validation.py:41: DeprecationWarning: This module was deprecated in version 0.18 in favor of the model_selection module into which all the refactored classes and functions are moved. Also note that the interface of the new CV iterators are different from that of this module. This module will be removed in 0.20.\n",
            "  \"This module will be removed in 0.20.\", DeprecationWarning)\n"
          ],
          "name": "stderr"
        }
      ]
    },
    {
      "cell_type": "code",
      "metadata": {
        "id": "MXqJNTpPEYcx"
      },
      "source": [
        "import os\n",
        "os.mkdir('chembl_activity_models')"
      ],
      "execution_count": 7,
      "outputs": []
    },
    {
      "cell_type": "markdown",
      "metadata": {
        "id": "ZIIEHFGZEdlp"
      },
      "source": [
        "**Upload data file ChEMBL26_SCN5A_IC50_human_ml_ready.csv to Colab now.**"
      ]
    },
    {
      "cell_type": "code",
      "metadata": {
        "id": "n3RE8OYSKqqd"
      },
      "source": [
        "import pandas as pd\n",
        "import requests\n",
        "import io\n",
        "url = 'https://raw.githubusercontent.com/ravichas/AMPL-Tutorial/master/datasets/ChEMBL26_SCN5A_IC50_human_ml_ready.csv'\n",
        "download = requests.get(url).content\n",
        "df = pd.read_csv(url, index_col=0)\n",
        "# Reading the downloaded content and turning it into a pandas dataframe\n",
        "df = pd.read_csv(io.StringIO(download.decode('utf-8')))\n",
        "df.iloc[0:5, 0:5]\n",
        "#df.to_csv('ChEMBL26_SCN5A_IC50_human_ml_ready.csv', index=False)"
      ],
      "execution_count": 8,
      "outputs": []
    },
    {
      "cell_type": "markdown",
      "metadata": {
        "id": "g3GU4UmyBV1n"
      },
      "source": [
        "**Separate out 10% of the data for later prediction**"
      ]
    },
    {
      "cell_type": "code",
      "metadata": {
        "id": "vO39yvMSAxpP"
      },
      "source": [
        "size_fit = int(len(df) * 0.9)\n",
        "df_fit = df[:size_fit]\n",
        "df_pred = df[size_fit:]\n",
        "df_fit.to_csv('ChEMBL26_SCN5A_IC50_human_ml_ready.csv', index=False)\n",
        "df_pred.to_csv('ChEMBL26_SCN5A_pred.csv', index=False)"
      ],
      "execution_count": 12,
      "outputs": []
    },
    {
      "cell_type": "code",
      "metadata": {
        "id": "GdYHTPnvIFFD"
      },
      "source": [
        "split_config = {\n",
        "\"script_dir\": \"/content/AMPL/atomsci/ddm\",\n",
        "\"dataset_key\" : \"/content/ChEMBL26_SCN5A_IC50_human_ml_ready.csv\",\n",
        "\"datastore\": \"False\",\n",
        "\"split_only\": \"True\",\n",
        "\"splitter\": \"scaffold\",\n",
        "\"split_valid_frac\": \"0.15\",\n",
        "\"split_test_frac\": \"0.15\",\n",
        "\"previously_split\": \"False\",\n",
        "\"prediction_type\": \"regression\",\n",
        "\"response_cols\" : \"pIC50\",\n",
        "\"id_col\": \"compound_id\",\n",
        "\"smiles_col\" : \"base_rdkit_smiles\",\n",
        "\"result_dir\": \"/content/chembl_activity_models\",\n",
        "\"system\": \"LC\",\n",
        "\"transformers\": \"True\",\n",
        "\"model_type\": \"NN\",\n",
        "\"featurizer\": \"graphconv\",\n",
        "\"descriptor_type\": \"graphconv\",\n",
        "\"learning_rate\": \"0.0007\",\n",
        "\"layer_sizes\": \"64,64,32\",\n",
        "\"dropouts\" : \"0.0,0.0,0.0\",\n",
        "\"save_results\": \"False\",\n",
        "\"max_epochs\": \"100\",\n",
        "\"verbose\": \"True\"\n",
        "}"
      ],
      "execution_count": 13,
      "outputs": []
    },
    {
      "cell_type": "code",
      "metadata": {
        "id": "rvaovtCdDIiP"
      },
      "source": [
        "split_params = parse.wrapper(split_config)"
      ],
      "execution_count": 14,
      "outputs": []
    },
    {
      "cell_type": "code",
      "metadata": {
        "id": "6256V9lGDKMX"
      },
      "source": [
        "split_model = mp.ModelPipeline(split_params)"
      ],
      "execution_count": 15,
      "outputs": []
    },
    {
      "cell_type": "code",
      "metadata": {
        "id": "Me8mKNyFDMEQ",
        "outputId": "7a6035a3-d6b9-4a54-820e-607d8e4d90b5",
        "colab": {
          "base_uri": "https://localhost:8080/",
          "height": 86
        }
      },
      "source": [
        "split_uuid = split_model.split_dataset()\n",
        "split_uuid"
      ],
      "execution_count": 16,
      "outputs": [
        {
          "output_type": "stream",
          "text": [
            "number of features: 75\n"
          ],
          "name": "stdout"
        },
        {
          "output_type": "stream",
          "text": [
            "2020-10-13 22:15:26,205 Splitting data by scaffold\n",
            "2020-10-13 22:15:43,226 Dataset split table saved to /content/ChEMBL26_SCN5A_IC50_human_ml_ready_train_valid_test_scaffold_2c701ba6-10e9-48cf-8dac-c85d7dcbae71.csv\n"
          ],
          "name": "stderr"
        },
        {
          "output_type": "execute_result",
          "data": {
            "application/vnd.google.colaboratory.intrinsic+json": {
              "type": "string"
            },
            "text/plain": [
              "'2c701ba6-10e9-48cf-8dac-c85d7dcbae71'"
            ]
          },
          "metadata": {
            "tags": []
          },
          "execution_count": 16
        }
      ]
    },
    {
      "cell_type": "code",
      "metadata": {
        "id": "0d79ivM-I49z",
        "outputId": "1c8739df-41e4-415d-c05d-9f8f2d4bc35b",
        "colab": {
          "base_uri": "https://localhost:8080/",
          "height": 391
        }
      },
      "source": [
        "!pip install --upgrade gspread"
      ],
      "execution_count": 17,
      "outputs": [
        {
          "output_type": "stream",
          "text": [
            "Collecting gspread\n",
            "  Downloading https://files.pythonhosted.org/packages/9c/ba/bc8de4f5077bd34bc873bdd67a89cb29c4f181abba8a836d2c6a0a142365/gspread-3.6.0-py3-none-any.whl\n",
            "Requirement already satisfied, skipping upgrade: google-auth>=1.12.0 in /usr/local/lib/python3.6/dist-packages (from gspread) (1.17.2)\n",
            "Requirement already satisfied, skipping upgrade: requests>=2.2.1 in /usr/local/lib/python3.6/dist-packages (from gspread) (2.23.0)\n",
            "Requirement already satisfied, skipping upgrade: google-auth-oauthlib>=0.4.1 in /usr/local/lib/python3.6/dist-packages (from gspread) (0.4.1)\n",
            "Requirement already satisfied, skipping upgrade: pyasn1-modules>=0.2.1 in /usr/local/lib/python3.6/dist-packages (from google-auth>=1.12.0->gspread) (0.2.8)\n",
            "Requirement already satisfied, skipping upgrade: rsa<5,>=3.1.4; python_version >= \"3\" in /usr/local/lib/python3.6/dist-packages (from google-auth>=1.12.0->gspread) (4.6)\n",
            "Requirement already satisfied, skipping upgrade: setuptools>=40.3.0 in /usr/local/lib/python3.6/dist-packages (from google-auth>=1.12.0->gspread) (50.3.0)\n",
            "Requirement already satisfied, skipping upgrade: cachetools<5.0,>=2.0.0 in /usr/local/lib/python3.6/dist-packages (from google-auth>=1.12.0->gspread) (4.1.1)\n",
            "Requirement already satisfied, skipping upgrade: six>=1.9.0 in /usr/local/lib/python3.6/dist-packages (from google-auth>=1.12.0->gspread) (1.15.0)\n",
            "Requirement already satisfied, skipping upgrade: certifi>=2017.4.17 in /usr/local/lib/python3.6/dist-packages (from requests>=2.2.1->gspread) (2020.6.20)\n",
            "Requirement already satisfied, skipping upgrade: chardet<4,>=3.0.2 in /usr/local/lib/python3.6/dist-packages (from requests>=2.2.1->gspread) (3.0.4)\n",
            "Requirement already satisfied, skipping upgrade: urllib3!=1.25.0,!=1.25.1,<1.26,>=1.21.1 in /usr/local/lib/python3.6/dist-packages (from requests>=2.2.1->gspread) (1.24.3)\n",
            "Requirement already satisfied, skipping upgrade: idna<3,>=2.5 in /usr/local/lib/python3.6/dist-packages (from requests>=2.2.1->gspread) (2.10)\n",
            "Requirement already satisfied, skipping upgrade: requests-oauthlib>=0.7.0 in /usr/local/lib/python3.6/dist-packages (from google-auth-oauthlib>=0.4.1->gspread) (1.3.0)\n",
            "Requirement already satisfied, skipping upgrade: pyasn1<0.5.0,>=0.4.6 in /usr/local/lib/python3.6/dist-packages (from pyasn1-modules>=0.2.1->google-auth>=1.12.0->gspread) (0.4.8)\n",
            "Requirement already satisfied, skipping upgrade: oauthlib>=3.0.0 in /usr/local/lib/python3.6/dist-packages (from requests-oauthlib>=0.7.0->google-auth-oauthlib>=0.4.1->gspread) (3.1.0)\n",
            "Installing collected packages: gspread\n",
            "  Found existing installation: gspread 3.0.1\n",
            "    Uninstalling gspread-3.0.1:\n",
            "      Successfully uninstalled gspread-3.0.1\n",
            "Successfully installed gspread-3.6.0\n"
          ],
          "name": "stdout"
        }
      ]
    },
    {
      "cell_type": "markdown",
      "metadata": {
        "id": "9D2-0F8jbu4K"
      },
      "source": [
        "## Train the mode (~ 10 minutes)"
      ]
    },
    {
      "cell_type": "code",
      "metadata": {
        "id": "eCtts89ZDxLn"
      },
      "source": [
        "train_config = {\n",
        "\"script_dir\": \"/content/AMPL/atomsci/ddm\",\n",
        "\"dataset_key\" : \"/content/ChEMBL26_SCN5A_IC50_human_ml_ready.csv\",\n",
        "\"datastore\": \"False\",\n",
        "\"uncertainty\": \"False\",\n",
        "\"splitter\": \"scaffold\",\n",
        "\"split_valid_frac\": \"0.15\",\n",
        "\"split_test_frac\": \"0.15\",\n",
        "\"previously_split\": \"True\",\n",
        "\"split_uuid\": \"{}\".format(split_uuid),\n",
        "\"prediction_type\": \"regression\",\n",
        "\"response_cols\" : \"pIC50\",\n",
        "\"id_col\": \"compound_id\",\n",
        "\"smiles_col\" : \"base_rdkit_smiles\",\n",
        "\"result_dir\": \"/content/chembl_activity_models\",\n",
        "\"system\": \"LC\",\n",
        "\"transformers\": \"True\",\n",
        "\"model_type\": \"NN\",\n",
        "\"featurizer\": \"graphconv\",\n",
        "\"descriptor_type\": \"graphconv\",\n",
        "\"learning_rate\": \"0.0007\",\n",
        "\"layer_sizes\": \"64,64,32\",\n",
        "\"dropouts\" : \"0.0,0.0,0.0\",\n",
        "\"save_results\": \"False\",\n",
        "\"max_epochs\": \"100\",\n",
        "\"verbose\": \"True\"\n",
        "}"
      ],
      "execution_count": 18,
      "outputs": []
    },
    {
      "cell_type": "code",
      "metadata": {
        "id": "u3Cjkh76F-ym"
      },
      "source": [
        "train_params = parse.wrapper(train_config)"
      ],
      "execution_count": 19,
      "outputs": []
    },
    {
      "cell_type": "code",
      "metadata": {
        "id": "949S5ME0GIOf"
      },
      "source": [
        "train_model = mp.ModelPipeline(train_params)"
      ],
      "execution_count": 20,
      "outputs": []
    },
    {
      "cell_type": "markdown",
      "metadata": {
        "id": "JhVhhldinDid"
      },
      "source": [
        "## Train_model took ~ 18 minutes on a GPU  (~ 30 minutes on a CPU)"
      ]
    },
    {
      "cell_type": "code",
      "metadata": {
        "id": "dzoK1kDDGPLn",
        "outputId": "0c110527-392c-444a-b8e6-34e7ca7abd84",
        "colab": {
          "base_uri": "https://localhost:8080/",
          "height": 1000
        }
      },
      "source": [
        "train_model.train_model()"
      ],
      "execution_count": 21,
      "outputs": [
        {
          "output_type": "stream",
          "text": [
            "number of features: 75\n"
          ],
          "name": "stdout"
        },
        {
          "output_type": "stream",
          "text": [
            "2020-10-13 22:16:57,105 Previous dataset split restored\n"
          ],
          "name": "stderr"
        },
        {
          "output_type": "stream",
          "text": [
            "n_cnt [1556.]\n",
            "y_means [5.15798553]\n",
            "y_stds [0.64819169]\n",
            "TIMING: dataset construction took 0.978 s\n",
            "Loading dataset from disk.\n",
            "TIMING: dataset construction took 0.181 s\n",
            "Loading dataset from disk.\n",
            "TIMING: dataset construction took 0.277 s\n",
            "Loading dataset from disk.\n"
          ],
          "name": "stdout"
        },
        {
          "output_type": "stream",
          "text": [
            "/content/AMPL/lib/python3.6/site-packages/tensorflow/python/ops/gradients_impl.py:98: UserWarning: Converting sparse IndexedSlices to a dense Tensor of unknown shape. This may consume a large amount of memory.\n",
            "  \"Converting sparse IndexedSlices to a dense Tensor of unknown shape. \"\n"
          ],
          "name": "stderr"
        },
        {
          "output_type": "stream",
          "text": [
            "INFO:tensorflow:Restoring parameters from /content/chembl_activity_models/ChEMBL26_SCN5A_IC50_human_ml_ready/NN_graphconv_scaffold_regression/3876fb3b-acb9-4ac8-8fec-bc1b57948c5c/model/model-22\n"
          ],
          "name": "stdout"
        },
        {
          "output_type": "stream",
          "text": [
            "2020-10-13 22:21:30,219 Restoring parameters from /content/chembl_activity_models/ChEMBL26_SCN5A_IC50_human_ml_ready/NN_graphconv_scaffold_regression/3876fb3b-acb9-4ac8-8fec-bc1b57948c5c/model/model-22\n"
          ],
          "name": "stderr"
        },
        {
          "output_type": "stream",
          "text": [
            "INFO:tensorflow:Restoring parameters from /content/chembl_activity_models/ChEMBL26_SCN5A_IC50_human_ml_ready/NN_graphconv_scaffold_regression/3876fb3b-acb9-4ac8-8fec-bc1b57948c5c/model/model-44\n"
          ],
          "name": "stdout"
        },
        {
          "output_type": "stream",
          "text": [
            "2020-10-13 22:21:35,250 Restoring parameters from /content/chembl_activity_models/ChEMBL26_SCN5A_IC50_human_ml_ready/NN_graphconv_scaffold_regression/3876fb3b-acb9-4ac8-8fec-bc1b57948c5c/model/model-44\n"
          ],
          "name": "stderr"
        },
        {
          "output_type": "stream",
          "text": [
            "INFO:tensorflow:Restoring parameters from /content/chembl_activity_models/ChEMBL26_SCN5A_IC50_human_ml_ready/NN_graphconv_scaffold_regression/3876fb3b-acb9-4ac8-8fec-bc1b57948c5c/model/model-66\n"
          ],
          "name": "stdout"
        },
        {
          "output_type": "stream",
          "text": [
            "2020-10-13 22:21:40,290 Restoring parameters from /content/chembl_activity_models/ChEMBL26_SCN5A_IC50_human_ml_ready/NN_graphconv_scaffold_regression/3876fb3b-acb9-4ac8-8fec-bc1b57948c5c/model/model-66\n"
          ],
          "name": "stderr"
        },
        {
          "output_type": "stream",
          "text": [
            "INFO:tensorflow:Restoring parameters from /content/chembl_activity_models/ChEMBL26_SCN5A_IC50_human_ml_ready/NN_graphconv_scaffold_regression/3876fb3b-acb9-4ac8-8fec-bc1b57948c5c/model/model-88\n"
          ],
          "name": "stdout"
        },
        {
          "output_type": "stream",
          "text": [
            "2020-10-13 22:21:45,386 Restoring parameters from /content/chembl_activity_models/ChEMBL26_SCN5A_IC50_human_ml_ready/NN_graphconv_scaffold_regression/3876fb3b-acb9-4ac8-8fec-bc1b57948c5c/model/model-88\n"
          ],
          "name": "stderr"
        },
        {
          "output_type": "stream",
          "text": [
            "INFO:tensorflow:Restoring parameters from /content/chembl_activity_models/ChEMBL26_SCN5A_IC50_human_ml_ready/NN_graphconv_scaffold_regression/3876fb3b-acb9-4ac8-8fec-bc1b57948c5c/model/model-110\n"
          ],
          "name": "stdout"
        },
        {
          "output_type": "stream",
          "text": [
            "2020-10-13 22:21:50,496 Restoring parameters from /content/chembl_activity_models/ChEMBL26_SCN5A_IC50_human_ml_ready/NN_graphconv_scaffold_regression/3876fb3b-acb9-4ac8-8fec-bc1b57948c5c/model/model-110\n"
          ],
          "name": "stderr"
        },
        {
          "output_type": "stream",
          "text": [
            "INFO:tensorflow:Restoring parameters from /content/chembl_activity_models/ChEMBL26_SCN5A_IC50_human_ml_ready/NN_graphconv_scaffold_regression/3876fb3b-acb9-4ac8-8fec-bc1b57948c5c/model/model-132\n"
          ],
          "name": "stdout"
        },
        {
          "output_type": "stream",
          "text": [
            "2020-10-13 22:21:55,575 Restoring parameters from /content/chembl_activity_models/ChEMBL26_SCN5A_IC50_human_ml_ready/NN_graphconv_scaffold_regression/3876fb3b-acb9-4ac8-8fec-bc1b57948c5c/model/model-132\n"
          ],
          "name": "stderr"
        },
        {
          "output_type": "stream",
          "text": [
            "INFO:tensorflow:Restoring parameters from /content/chembl_activity_models/ChEMBL26_SCN5A_IC50_human_ml_ready/NN_graphconv_scaffold_regression/3876fb3b-acb9-4ac8-8fec-bc1b57948c5c/model/model-154\n"
          ],
          "name": "stdout"
        },
        {
          "output_type": "stream",
          "text": [
            "2020-10-13 22:22:00,727 Restoring parameters from /content/chembl_activity_models/ChEMBL26_SCN5A_IC50_human_ml_ready/NN_graphconv_scaffold_regression/3876fb3b-acb9-4ac8-8fec-bc1b57948c5c/model/model-154\n"
          ],
          "name": "stderr"
        },
        {
          "output_type": "stream",
          "text": [
            "INFO:tensorflow:Restoring parameters from /content/chembl_activity_models/ChEMBL26_SCN5A_IC50_human_ml_ready/NN_graphconv_scaffold_regression/3876fb3b-acb9-4ac8-8fec-bc1b57948c5c/model/model-176\n"
          ],
          "name": "stdout"
        },
        {
          "output_type": "stream",
          "text": [
            "2020-10-13 22:22:05,964 Restoring parameters from /content/chembl_activity_models/ChEMBL26_SCN5A_IC50_human_ml_ready/NN_graphconv_scaffold_regression/3876fb3b-acb9-4ac8-8fec-bc1b57948c5c/model/model-176\n"
          ],
          "name": "stderr"
        },
        {
          "output_type": "stream",
          "text": [
            "INFO:tensorflow:Restoring parameters from /content/chembl_activity_models/ChEMBL26_SCN5A_IC50_human_ml_ready/NN_graphconv_scaffold_regression/3876fb3b-acb9-4ac8-8fec-bc1b57948c5c/model/model-198\n"
          ],
          "name": "stdout"
        },
        {
          "output_type": "stream",
          "text": [
            "2020-10-13 22:22:11,237 Restoring parameters from /content/chembl_activity_models/ChEMBL26_SCN5A_IC50_human_ml_ready/NN_graphconv_scaffold_regression/3876fb3b-acb9-4ac8-8fec-bc1b57948c5c/model/model-198\n"
          ],
          "name": "stderr"
        },
        {
          "output_type": "stream",
          "text": [
            "INFO:tensorflow:Restoring parameters from /content/chembl_activity_models/ChEMBL26_SCN5A_IC50_human_ml_ready/NN_graphconv_scaffold_regression/3876fb3b-acb9-4ac8-8fec-bc1b57948c5c/model/model-220\n"
          ],
          "name": "stdout"
        },
        {
          "output_type": "stream",
          "text": [
            "2020-10-13 22:22:16,643 Restoring parameters from /content/chembl_activity_models/ChEMBL26_SCN5A_IC50_human_ml_ready/NN_graphconv_scaffold_regression/3876fb3b-acb9-4ac8-8fec-bc1b57948c5c/model/model-220\n"
          ],
          "name": "stderr"
        },
        {
          "output_type": "stream",
          "text": [
            "INFO:tensorflow:Restoring parameters from /content/chembl_activity_models/ChEMBL26_SCN5A_IC50_human_ml_ready/NN_graphconv_scaffold_regression/3876fb3b-acb9-4ac8-8fec-bc1b57948c5c/model/model-242\n"
          ],
          "name": "stdout"
        },
        {
          "output_type": "stream",
          "text": [
            "2020-10-13 22:22:21,997 Restoring parameters from /content/chembl_activity_models/ChEMBL26_SCN5A_IC50_human_ml_ready/NN_graphconv_scaffold_regression/3876fb3b-acb9-4ac8-8fec-bc1b57948c5c/model/model-242\n"
          ],
          "name": "stderr"
        },
        {
          "output_type": "stream",
          "text": [
            "INFO:tensorflow:Restoring parameters from /content/chembl_activity_models/ChEMBL26_SCN5A_IC50_human_ml_ready/NN_graphconv_scaffold_regression/3876fb3b-acb9-4ac8-8fec-bc1b57948c5c/model/model-264\n"
          ],
          "name": "stdout"
        },
        {
          "output_type": "stream",
          "text": [
            "2020-10-13 22:22:27,205 Restoring parameters from /content/chembl_activity_models/ChEMBL26_SCN5A_IC50_human_ml_ready/NN_graphconv_scaffold_regression/3876fb3b-acb9-4ac8-8fec-bc1b57948c5c/model/model-264\n"
          ],
          "name": "stderr"
        },
        {
          "output_type": "stream",
          "text": [
            "INFO:tensorflow:Restoring parameters from /content/chembl_activity_models/ChEMBL26_SCN5A_IC50_human_ml_ready/NN_graphconv_scaffold_regression/3876fb3b-acb9-4ac8-8fec-bc1b57948c5c/model/model-286\n"
          ],
          "name": "stdout"
        },
        {
          "output_type": "stream",
          "text": [
            "2020-10-13 22:22:32,697 Restoring parameters from /content/chembl_activity_models/ChEMBL26_SCN5A_IC50_human_ml_ready/NN_graphconv_scaffold_regression/3876fb3b-acb9-4ac8-8fec-bc1b57948c5c/model/model-286\n"
          ],
          "name": "stderr"
        },
        {
          "output_type": "stream",
          "text": [
            "INFO:tensorflow:Restoring parameters from /content/chembl_activity_models/ChEMBL26_SCN5A_IC50_human_ml_ready/NN_graphconv_scaffold_regression/3876fb3b-acb9-4ac8-8fec-bc1b57948c5c/model/model-308\n"
          ],
          "name": "stdout"
        },
        {
          "output_type": "stream",
          "text": [
            "2020-10-13 22:22:37,857 Restoring parameters from /content/chembl_activity_models/ChEMBL26_SCN5A_IC50_human_ml_ready/NN_graphconv_scaffold_regression/3876fb3b-acb9-4ac8-8fec-bc1b57948c5c/model/model-308\n"
          ],
          "name": "stderr"
        },
        {
          "output_type": "stream",
          "text": [
            "INFO:tensorflow:Restoring parameters from /content/chembl_activity_models/ChEMBL26_SCN5A_IC50_human_ml_ready/NN_graphconv_scaffold_regression/3876fb3b-acb9-4ac8-8fec-bc1b57948c5c/model/model-330\n"
          ],
          "name": "stdout"
        },
        {
          "output_type": "stream",
          "text": [
            "2020-10-13 22:22:43,230 Restoring parameters from /content/chembl_activity_models/ChEMBL26_SCN5A_IC50_human_ml_ready/NN_graphconv_scaffold_regression/3876fb3b-acb9-4ac8-8fec-bc1b57948c5c/model/model-330\n"
          ],
          "name": "stderr"
        },
        {
          "output_type": "stream",
          "text": [
            "INFO:tensorflow:Restoring parameters from /content/chembl_activity_models/ChEMBL26_SCN5A_IC50_human_ml_ready/NN_graphconv_scaffold_regression/3876fb3b-acb9-4ac8-8fec-bc1b57948c5c/model/model-352\n"
          ],
          "name": "stdout"
        },
        {
          "output_type": "stream",
          "text": [
            "2020-10-13 22:22:48,518 Restoring parameters from /content/chembl_activity_models/ChEMBL26_SCN5A_IC50_human_ml_ready/NN_graphconv_scaffold_regression/3876fb3b-acb9-4ac8-8fec-bc1b57948c5c/model/model-352\n"
          ],
          "name": "stderr"
        },
        {
          "output_type": "stream",
          "text": [
            "INFO:tensorflow:Restoring parameters from /content/chembl_activity_models/ChEMBL26_SCN5A_IC50_human_ml_ready/NN_graphconv_scaffold_regression/3876fb3b-acb9-4ac8-8fec-bc1b57948c5c/model/model-374\n"
          ],
          "name": "stdout"
        },
        {
          "output_type": "stream",
          "text": [
            "2020-10-13 22:22:54,038 Restoring parameters from /content/chembl_activity_models/ChEMBL26_SCN5A_IC50_human_ml_ready/NN_graphconv_scaffold_regression/3876fb3b-acb9-4ac8-8fec-bc1b57948c5c/model/model-374\n"
          ],
          "name": "stderr"
        },
        {
          "output_type": "stream",
          "text": [
            "INFO:tensorflow:Restoring parameters from /content/chembl_activity_models/ChEMBL26_SCN5A_IC50_human_ml_ready/NN_graphconv_scaffold_regression/3876fb3b-acb9-4ac8-8fec-bc1b57948c5c/model/model-396\n"
          ],
          "name": "stdout"
        },
        {
          "output_type": "stream",
          "text": [
            "2020-10-13 22:22:59,458 Restoring parameters from /content/chembl_activity_models/ChEMBL26_SCN5A_IC50_human_ml_ready/NN_graphconv_scaffold_regression/3876fb3b-acb9-4ac8-8fec-bc1b57948c5c/model/model-396\n"
          ],
          "name": "stderr"
        },
        {
          "output_type": "stream",
          "text": [
            "INFO:tensorflow:Restoring parameters from /content/chembl_activity_models/ChEMBL26_SCN5A_IC50_human_ml_ready/NN_graphconv_scaffold_regression/3876fb3b-acb9-4ac8-8fec-bc1b57948c5c/model/model-418\n"
          ],
          "name": "stdout"
        },
        {
          "output_type": "stream",
          "text": [
            "2020-10-13 22:23:05,158 Restoring parameters from /content/chembl_activity_models/ChEMBL26_SCN5A_IC50_human_ml_ready/NN_graphconv_scaffold_regression/3876fb3b-acb9-4ac8-8fec-bc1b57948c5c/model/model-418\n"
          ],
          "name": "stderr"
        },
        {
          "output_type": "stream",
          "text": [
            "INFO:tensorflow:Restoring parameters from /content/chembl_activity_models/ChEMBL26_SCN5A_IC50_human_ml_ready/NN_graphconv_scaffold_regression/3876fb3b-acb9-4ac8-8fec-bc1b57948c5c/model/model-440\n"
          ],
          "name": "stdout"
        },
        {
          "output_type": "stream",
          "text": [
            "2020-10-13 22:23:10,549 Restoring parameters from /content/chembl_activity_models/ChEMBL26_SCN5A_IC50_human_ml_ready/NN_graphconv_scaffold_regression/3876fb3b-acb9-4ac8-8fec-bc1b57948c5c/model/model-440\n"
          ],
          "name": "stderr"
        },
        {
          "output_type": "stream",
          "text": [
            "INFO:tensorflow:Restoring parameters from /content/chembl_activity_models/ChEMBL26_SCN5A_IC50_human_ml_ready/NN_graphconv_scaffold_regression/3876fb3b-acb9-4ac8-8fec-bc1b57948c5c/model/model-462\n"
          ],
          "name": "stdout"
        },
        {
          "output_type": "stream",
          "text": [
            "2020-10-13 22:23:15,873 Restoring parameters from /content/chembl_activity_models/ChEMBL26_SCN5A_IC50_human_ml_ready/NN_graphconv_scaffold_regression/3876fb3b-acb9-4ac8-8fec-bc1b57948c5c/model/model-462\n"
          ],
          "name": "stderr"
        },
        {
          "output_type": "stream",
          "text": [
            "INFO:tensorflow:Restoring parameters from /content/chembl_activity_models/ChEMBL26_SCN5A_IC50_human_ml_ready/NN_graphconv_scaffold_regression/3876fb3b-acb9-4ac8-8fec-bc1b57948c5c/model/model-484\n"
          ],
          "name": "stdout"
        },
        {
          "output_type": "stream",
          "text": [
            "2020-10-13 22:23:21,553 Restoring parameters from /content/chembl_activity_models/ChEMBL26_SCN5A_IC50_human_ml_ready/NN_graphconv_scaffold_regression/3876fb3b-acb9-4ac8-8fec-bc1b57948c5c/model/model-484\n"
          ],
          "name": "stderr"
        },
        {
          "output_type": "stream",
          "text": [
            "INFO:tensorflow:Restoring parameters from /content/chembl_activity_models/ChEMBL26_SCN5A_IC50_human_ml_ready/NN_graphconv_scaffold_regression/3876fb3b-acb9-4ac8-8fec-bc1b57948c5c/model/model-506\n"
          ],
          "name": "stdout"
        },
        {
          "output_type": "stream",
          "text": [
            "2020-10-13 22:23:27,018 Restoring parameters from /content/chembl_activity_models/ChEMBL26_SCN5A_IC50_human_ml_ready/NN_graphconv_scaffold_regression/3876fb3b-acb9-4ac8-8fec-bc1b57948c5c/model/model-506\n"
          ],
          "name": "stderr"
        },
        {
          "output_type": "stream",
          "text": [
            "INFO:tensorflow:Restoring parameters from /content/chembl_activity_models/ChEMBL26_SCN5A_IC50_human_ml_ready/NN_graphconv_scaffold_regression/3876fb3b-acb9-4ac8-8fec-bc1b57948c5c/model/model-528\n"
          ],
          "name": "stdout"
        },
        {
          "output_type": "stream",
          "text": [
            "2020-10-13 22:23:32,551 Restoring parameters from /content/chembl_activity_models/ChEMBL26_SCN5A_IC50_human_ml_ready/NN_graphconv_scaffold_regression/3876fb3b-acb9-4ac8-8fec-bc1b57948c5c/model/model-528\n"
          ],
          "name": "stderr"
        },
        {
          "output_type": "stream",
          "text": [
            "INFO:tensorflow:Restoring parameters from /content/chembl_activity_models/ChEMBL26_SCN5A_IC50_human_ml_ready/NN_graphconv_scaffold_regression/3876fb3b-acb9-4ac8-8fec-bc1b57948c5c/model/model-550\n"
          ],
          "name": "stdout"
        },
        {
          "output_type": "stream",
          "text": [
            "2020-10-13 22:23:38,015 Restoring parameters from /content/chembl_activity_models/ChEMBL26_SCN5A_IC50_human_ml_ready/NN_graphconv_scaffold_regression/3876fb3b-acb9-4ac8-8fec-bc1b57948c5c/model/model-550\n"
          ],
          "name": "stderr"
        },
        {
          "output_type": "stream",
          "text": [
            "INFO:tensorflow:Restoring parameters from /content/chembl_activity_models/ChEMBL26_SCN5A_IC50_human_ml_ready/NN_graphconv_scaffold_regression/3876fb3b-acb9-4ac8-8fec-bc1b57948c5c/model/model-572\n"
          ],
          "name": "stdout"
        },
        {
          "output_type": "stream",
          "text": [
            "2020-10-13 22:23:43,736 Restoring parameters from /content/chembl_activity_models/ChEMBL26_SCN5A_IC50_human_ml_ready/NN_graphconv_scaffold_regression/3876fb3b-acb9-4ac8-8fec-bc1b57948c5c/model/model-572\n"
          ],
          "name": "stderr"
        },
        {
          "output_type": "stream",
          "text": [
            "INFO:tensorflow:Restoring parameters from /content/chembl_activity_models/ChEMBL26_SCN5A_IC50_human_ml_ready/NN_graphconv_scaffold_regression/3876fb3b-acb9-4ac8-8fec-bc1b57948c5c/model/model-594\n"
          ],
          "name": "stdout"
        },
        {
          "output_type": "stream",
          "text": [
            "2020-10-13 22:23:49,220 Restoring parameters from /content/chembl_activity_models/ChEMBL26_SCN5A_IC50_human_ml_ready/NN_graphconv_scaffold_regression/3876fb3b-acb9-4ac8-8fec-bc1b57948c5c/model/model-594\n"
          ],
          "name": "stderr"
        },
        {
          "output_type": "stream",
          "text": [
            "INFO:tensorflow:Restoring parameters from /content/chembl_activity_models/ChEMBL26_SCN5A_IC50_human_ml_ready/NN_graphconv_scaffold_regression/3876fb3b-acb9-4ac8-8fec-bc1b57948c5c/model/model-616\n"
          ],
          "name": "stdout"
        },
        {
          "output_type": "stream",
          "text": [
            "2020-10-13 22:23:54,699 Restoring parameters from /content/chembl_activity_models/ChEMBL26_SCN5A_IC50_human_ml_ready/NN_graphconv_scaffold_regression/3876fb3b-acb9-4ac8-8fec-bc1b57948c5c/model/model-616\n"
          ],
          "name": "stderr"
        },
        {
          "output_type": "stream",
          "text": [
            "INFO:tensorflow:Restoring parameters from /content/chembl_activity_models/ChEMBL26_SCN5A_IC50_human_ml_ready/NN_graphconv_scaffold_regression/3876fb3b-acb9-4ac8-8fec-bc1b57948c5c/model/model-638\n"
          ],
          "name": "stdout"
        },
        {
          "output_type": "stream",
          "text": [
            "2020-10-13 22:24:00,207 Restoring parameters from /content/chembl_activity_models/ChEMBL26_SCN5A_IC50_human_ml_ready/NN_graphconv_scaffold_regression/3876fb3b-acb9-4ac8-8fec-bc1b57948c5c/model/model-638\n"
          ],
          "name": "stderr"
        },
        {
          "output_type": "stream",
          "text": [
            "INFO:tensorflow:Restoring parameters from /content/chembl_activity_models/ChEMBL26_SCN5A_IC50_human_ml_ready/NN_graphconv_scaffold_regression/3876fb3b-acb9-4ac8-8fec-bc1b57948c5c/model/model-660\n"
          ],
          "name": "stdout"
        },
        {
          "output_type": "stream",
          "text": [
            "2020-10-13 22:24:05,734 Restoring parameters from /content/chembl_activity_models/ChEMBL26_SCN5A_IC50_human_ml_ready/NN_graphconv_scaffold_regression/3876fb3b-acb9-4ac8-8fec-bc1b57948c5c/model/model-660\n"
          ],
          "name": "stderr"
        },
        {
          "output_type": "stream",
          "text": [
            "INFO:tensorflow:Restoring parameters from /content/chembl_activity_models/ChEMBL26_SCN5A_IC50_human_ml_ready/NN_graphconv_scaffold_regression/3876fb3b-acb9-4ac8-8fec-bc1b57948c5c/model/model-682\n"
          ],
          "name": "stdout"
        },
        {
          "output_type": "stream",
          "text": [
            "2020-10-13 22:24:11,281 Restoring parameters from /content/chembl_activity_models/ChEMBL26_SCN5A_IC50_human_ml_ready/NN_graphconv_scaffold_regression/3876fb3b-acb9-4ac8-8fec-bc1b57948c5c/model/model-682\n"
          ],
          "name": "stderr"
        },
        {
          "output_type": "stream",
          "text": [
            "INFO:tensorflow:Restoring parameters from /content/chembl_activity_models/ChEMBL26_SCN5A_IC50_human_ml_ready/NN_graphconv_scaffold_regression/3876fb3b-acb9-4ac8-8fec-bc1b57948c5c/model/model-704\n"
          ],
          "name": "stdout"
        },
        {
          "output_type": "stream",
          "text": [
            "2020-10-13 22:24:16,848 Restoring parameters from /content/chembl_activity_models/ChEMBL26_SCN5A_IC50_human_ml_ready/NN_graphconv_scaffold_regression/3876fb3b-acb9-4ac8-8fec-bc1b57948c5c/model/model-704\n"
          ],
          "name": "stderr"
        },
        {
          "output_type": "stream",
          "text": [
            "INFO:tensorflow:Restoring parameters from /content/chembl_activity_models/ChEMBL26_SCN5A_IC50_human_ml_ready/NN_graphconv_scaffold_regression/3876fb3b-acb9-4ac8-8fec-bc1b57948c5c/model/model-726\n"
          ],
          "name": "stdout"
        },
        {
          "output_type": "stream",
          "text": [
            "2020-10-13 22:24:22,473 Restoring parameters from /content/chembl_activity_models/ChEMBL26_SCN5A_IC50_human_ml_ready/NN_graphconv_scaffold_regression/3876fb3b-acb9-4ac8-8fec-bc1b57948c5c/model/model-726\n"
          ],
          "name": "stderr"
        },
        {
          "output_type": "stream",
          "text": [
            "INFO:tensorflow:Restoring parameters from /content/chembl_activity_models/ChEMBL26_SCN5A_IC50_human_ml_ready/NN_graphconv_scaffold_regression/3876fb3b-acb9-4ac8-8fec-bc1b57948c5c/model/model-748\n"
          ],
          "name": "stdout"
        },
        {
          "output_type": "stream",
          "text": [
            "2020-10-13 22:24:28,363 Restoring parameters from /content/chembl_activity_models/ChEMBL26_SCN5A_IC50_human_ml_ready/NN_graphconv_scaffold_regression/3876fb3b-acb9-4ac8-8fec-bc1b57948c5c/model/model-748\n"
          ],
          "name": "stderr"
        },
        {
          "output_type": "stream",
          "text": [
            "INFO:tensorflow:Restoring parameters from /content/chembl_activity_models/ChEMBL26_SCN5A_IC50_human_ml_ready/NN_graphconv_scaffold_regression/3876fb3b-acb9-4ac8-8fec-bc1b57948c5c/model/model-770\n"
          ],
          "name": "stdout"
        },
        {
          "output_type": "stream",
          "text": [
            "2020-10-13 22:24:33,961 Restoring parameters from /content/chembl_activity_models/ChEMBL26_SCN5A_IC50_human_ml_ready/NN_graphconv_scaffold_regression/3876fb3b-acb9-4ac8-8fec-bc1b57948c5c/model/model-770\n"
          ],
          "name": "stderr"
        },
        {
          "output_type": "stream",
          "text": [
            "INFO:tensorflow:Restoring parameters from /content/chembl_activity_models/ChEMBL26_SCN5A_IC50_human_ml_ready/NN_graphconv_scaffold_regression/3876fb3b-acb9-4ac8-8fec-bc1b57948c5c/model/model-792\n"
          ],
          "name": "stdout"
        },
        {
          "output_type": "stream",
          "text": [
            "2020-10-13 22:24:39,533 Restoring parameters from /content/chembl_activity_models/ChEMBL26_SCN5A_IC50_human_ml_ready/NN_graphconv_scaffold_regression/3876fb3b-acb9-4ac8-8fec-bc1b57948c5c/model/model-792\n"
          ],
          "name": "stderr"
        },
        {
          "output_type": "stream",
          "text": [
            "INFO:tensorflow:Restoring parameters from /content/chembl_activity_models/ChEMBL26_SCN5A_IC50_human_ml_ready/NN_graphconv_scaffold_regression/3876fb3b-acb9-4ac8-8fec-bc1b57948c5c/model/model-814\n"
          ],
          "name": "stdout"
        },
        {
          "output_type": "stream",
          "text": [
            "2020-10-13 22:24:45,247 Restoring parameters from /content/chembl_activity_models/ChEMBL26_SCN5A_IC50_human_ml_ready/NN_graphconv_scaffold_regression/3876fb3b-acb9-4ac8-8fec-bc1b57948c5c/model/model-814\n"
          ],
          "name": "stderr"
        },
        {
          "output_type": "stream",
          "text": [
            "INFO:tensorflow:Restoring parameters from /content/chembl_activity_models/ChEMBL26_SCN5A_IC50_human_ml_ready/NN_graphconv_scaffold_regression/3876fb3b-acb9-4ac8-8fec-bc1b57948c5c/model/model-836\n"
          ],
          "name": "stdout"
        },
        {
          "output_type": "stream",
          "text": [
            "2020-10-13 22:24:51,051 Restoring parameters from /content/chembl_activity_models/ChEMBL26_SCN5A_IC50_human_ml_ready/NN_graphconv_scaffold_regression/3876fb3b-acb9-4ac8-8fec-bc1b57948c5c/model/model-836\n"
          ],
          "name": "stderr"
        },
        {
          "output_type": "stream",
          "text": [
            "INFO:tensorflow:Restoring parameters from /content/chembl_activity_models/ChEMBL26_SCN5A_IC50_human_ml_ready/NN_graphconv_scaffold_regression/3876fb3b-acb9-4ac8-8fec-bc1b57948c5c/model/model-858\n"
          ],
          "name": "stdout"
        },
        {
          "output_type": "stream",
          "text": [
            "2020-10-13 22:24:56,868 Restoring parameters from /content/chembl_activity_models/ChEMBL26_SCN5A_IC50_human_ml_ready/NN_graphconv_scaffold_regression/3876fb3b-acb9-4ac8-8fec-bc1b57948c5c/model/model-858\n"
          ],
          "name": "stderr"
        },
        {
          "output_type": "stream",
          "text": [
            "INFO:tensorflow:Restoring parameters from /content/chembl_activity_models/ChEMBL26_SCN5A_IC50_human_ml_ready/NN_graphconv_scaffold_regression/3876fb3b-acb9-4ac8-8fec-bc1b57948c5c/model/model-880\n"
          ],
          "name": "stdout"
        },
        {
          "output_type": "stream",
          "text": [
            "2020-10-13 22:25:02,656 Restoring parameters from /content/chembl_activity_models/ChEMBL26_SCN5A_IC50_human_ml_ready/NN_graphconv_scaffold_regression/3876fb3b-acb9-4ac8-8fec-bc1b57948c5c/model/model-880\n"
          ],
          "name": "stderr"
        },
        {
          "output_type": "stream",
          "text": [
            "INFO:tensorflow:Restoring parameters from /content/chembl_activity_models/ChEMBL26_SCN5A_IC50_human_ml_ready/NN_graphconv_scaffold_regression/3876fb3b-acb9-4ac8-8fec-bc1b57948c5c/model/model-902\n"
          ],
          "name": "stdout"
        },
        {
          "output_type": "stream",
          "text": [
            "2020-10-13 22:25:08,399 Restoring parameters from /content/chembl_activity_models/ChEMBL26_SCN5A_IC50_human_ml_ready/NN_graphconv_scaffold_regression/3876fb3b-acb9-4ac8-8fec-bc1b57948c5c/model/model-902\n"
          ],
          "name": "stderr"
        },
        {
          "output_type": "stream",
          "text": [
            "INFO:tensorflow:Restoring parameters from /content/chembl_activity_models/ChEMBL26_SCN5A_IC50_human_ml_ready/NN_graphconv_scaffold_regression/3876fb3b-acb9-4ac8-8fec-bc1b57948c5c/model/model-924\n"
          ],
          "name": "stdout"
        },
        {
          "output_type": "stream",
          "text": [
            "2020-10-13 22:25:14,208 Restoring parameters from /content/chembl_activity_models/ChEMBL26_SCN5A_IC50_human_ml_ready/NN_graphconv_scaffold_regression/3876fb3b-acb9-4ac8-8fec-bc1b57948c5c/model/model-924\n"
          ],
          "name": "stderr"
        },
        {
          "output_type": "stream",
          "text": [
            "INFO:tensorflow:Restoring parameters from /content/chembl_activity_models/ChEMBL26_SCN5A_IC50_human_ml_ready/NN_graphconv_scaffold_regression/3876fb3b-acb9-4ac8-8fec-bc1b57948c5c/model/model-946\n"
          ],
          "name": "stdout"
        },
        {
          "output_type": "stream",
          "text": [
            "2020-10-13 22:25:20,066 Restoring parameters from /content/chembl_activity_models/ChEMBL26_SCN5A_IC50_human_ml_ready/NN_graphconv_scaffold_regression/3876fb3b-acb9-4ac8-8fec-bc1b57948c5c/model/model-946\n"
          ],
          "name": "stderr"
        },
        {
          "output_type": "stream",
          "text": [
            "INFO:tensorflow:Restoring parameters from /content/chembl_activity_models/ChEMBL26_SCN5A_IC50_human_ml_ready/NN_graphconv_scaffold_regression/3876fb3b-acb9-4ac8-8fec-bc1b57948c5c/model/model-968\n"
          ],
          "name": "stdout"
        },
        {
          "output_type": "stream",
          "text": [
            "2020-10-13 22:25:25,875 Restoring parameters from /content/chembl_activity_models/ChEMBL26_SCN5A_IC50_human_ml_ready/NN_graphconv_scaffold_regression/3876fb3b-acb9-4ac8-8fec-bc1b57948c5c/model/model-968\n"
          ],
          "name": "stderr"
        },
        {
          "output_type": "stream",
          "text": [
            "INFO:tensorflow:Restoring parameters from /content/chembl_activity_models/ChEMBL26_SCN5A_IC50_human_ml_ready/NN_graphconv_scaffold_regression/3876fb3b-acb9-4ac8-8fec-bc1b57948c5c/model/model-990\n"
          ],
          "name": "stdout"
        },
        {
          "output_type": "stream",
          "text": [
            "2020-10-13 22:25:31,457 Restoring parameters from /content/chembl_activity_models/ChEMBL26_SCN5A_IC50_human_ml_ready/NN_graphconv_scaffold_regression/3876fb3b-acb9-4ac8-8fec-bc1b57948c5c/model/model-990\n"
          ],
          "name": "stderr"
        },
        {
          "output_type": "stream",
          "text": [
            "INFO:tensorflow:Restoring parameters from /content/chembl_activity_models/ChEMBL26_SCN5A_IC50_human_ml_ready/NN_graphconv_scaffold_regression/3876fb3b-acb9-4ac8-8fec-bc1b57948c5c/model/model-1012\n"
          ],
          "name": "stdout"
        },
        {
          "output_type": "stream",
          "text": [
            "2020-10-13 22:25:38,251 Restoring parameters from /content/chembl_activity_models/ChEMBL26_SCN5A_IC50_human_ml_ready/NN_graphconv_scaffold_regression/3876fb3b-acb9-4ac8-8fec-bc1b57948c5c/model/model-1012\n"
          ],
          "name": "stderr"
        },
        {
          "output_type": "stream",
          "text": [
            "INFO:tensorflow:Restoring parameters from /content/chembl_activity_models/ChEMBL26_SCN5A_IC50_human_ml_ready/NN_graphconv_scaffold_regression/3876fb3b-acb9-4ac8-8fec-bc1b57948c5c/model/model-1034\n"
          ],
          "name": "stdout"
        },
        {
          "output_type": "stream",
          "text": [
            "2020-10-13 22:25:44,372 Restoring parameters from /content/chembl_activity_models/ChEMBL26_SCN5A_IC50_human_ml_ready/NN_graphconv_scaffold_regression/3876fb3b-acb9-4ac8-8fec-bc1b57948c5c/model/model-1034\n"
          ],
          "name": "stderr"
        },
        {
          "output_type": "stream",
          "text": [
            "INFO:tensorflow:Restoring parameters from /content/chembl_activity_models/ChEMBL26_SCN5A_IC50_human_ml_ready/NN_graphconv_scaffold_regression/3876fb3b-acb9-4ac8-8fec-bc1b57948c5c/model/model-1056\n"
          ],
          "name": "stdout"
        },
        {
          "output_type": "stream",
          "text": [
            "2020-10-13 22:25:50,523 Restoring parameters from /content/chembl_activity_models/ChEMBL26_SCN5A_IC50_human_ml_ready/NN_graphconv_scaffold_regression/3876fb3b-acb9-4ac8-8fec-bc1b57948c5c/model/model-1056\n"
          ],
          "name": "stderr"
        },
        {
          "output_type": "stream",
          "text": [
            "INFO:tensorflow:Restoring parameters from /content/chembl_activity_models/ChEMBL26_SCN5A_IC50_human_ml_ready/NN_graphconv_scaffold_regression/3876fb3b-acb9-4ac8-8fec-bc1b57948c5c/model/model-1078\n"
          ],
          "name": "stdout"
        },
        {
          "output_type": "stream",
          "text": [
            "2020-10-13 22:25:56,439 Restoring parameters from /content/chembl_activity_models/ChEMBL26_SCN5A_IC50_human_ml_ready/NN_graphconv_scaffold_regression/3876fb3b-acb9-4ac8-8fec-bc1b57948c5c/model/model-1078\n"
          ],
          "name": "stderr"
        },
        {
          "output_type": "stream",
          "text": [
            "INFO:tensorflow:Restoring parameters from /content/chembl_activity_models/ChEMBL26_SCN5A_IC50_human_ml_ready/NN_graphconv_scaffold_regression/3876fb3b-acb9-4ac8-8fec-bc1b57948c5c/model/model-1100\n"
          ],
          "name": "stdout"
        },
        {
          "output_type": "stream",
          "text": [
            "2020-10-13 22:26:02,158 Restoring parameters from /content/chembl_activity_models/ChEMBL26_SCN5A_IC50_human_ml_ready/NN_graphconv_scaffold_regression/3876fb3b-acb9-4ac8-8fec-bc1b57948c5c/model/model-1100\n"
          ],
          "name": "stderr"
        },
        {
          "output_type": "stream",
          "text": [
            "INFO:tensorflow:Restoring parameters from /content/chembl_activity_models/ChEMBL26_SCN5A_IC50_human_ml_ready/NN_graphconv_scaffold_regression/3876fb3b-acb9-4ac8-8fec-bc1b57948c5c/model/model-1122\n"
          ],
          "name": "stdout"
        },
        {
          "output_type": "stream",
          "text": [
            "2020-10-13 22:26:08,155 Restoring parameters from /content/chembl_activity_models/ChEMBL26_SCN5A_IC50_human_ml_ready/NN_graphconv_scaffold_regression/3876fb3b-acb9-4ac8-8fec-bc1b57948c5c/model/model-1122\n"
          ],
          "name": "stderr"
        },
        {
          "output_type": "stream",
          "text": [
            "INFO:tensorflow:Restoring parameters from /content/chembl_activity_models/ChEMBL26_SCN5A_IC50_human_ml_ready/NN_graphconv_scaffold_regression/3876fb3b-acb9-4ac8-8fec-bc1b57948c5c/model/model-1144\n"
          ],
          "name": "stdout"
        },
        {
          "output_type": "stream",
          "text": [
            "2020-10-13 22:26:14,178 Restoring parameters from /content/chembl_activity_models/ChEMBL26_SCN5A_IC50_human_ml_ready/NN_graphconv_scaffold_regression/3876fb3b-acb9-4ac8-8fec-bc1b57948c5c/model/model-1144\n"
          ],
          "name": "stderr"
        },
        {
          "output_type": "stream",
          "text": [
            "INFO:tensorflow:Restoring parameters from /content/chembl_activity_models/ChEMBL26_SCN5A_IC50_human_ml_ready/NN_graphconv_scaffold_regression/3876fb3b-acb9-4ac8-8fec-bc1b57948c5c/model/model-1166\n"
          ],
          "name": "stdout"
        },
        {
          "output_type": "stream",
          "text": [
            "2020-10-13 22:26:20,235 Restoring parameters from /content/chembl_activity_models/ChEMBL26_SCN5A_IC50_human_ml_ready/NN_graphconv_scaffold_regression/3876fb3b-acb9-4ac8-8fec-bc1b57948c5c/model/model-1166\n"
          ],
          "name": "stderr"
        },
        {
          "output_type": "stream",
          "text": [
            "INFO:tensorflow:Restoring parameters from /content/chembl_activity_models/ChEMBL26_SCN5A_IC50_human_ml_ready/NN_graphconv_scaffold_regression/3876fb3b-acb9-4ac8-8fec-bc1b57948c5c/model/model-1188\n"
          ],
          "name": "stdout"
        },
        {
          "output_type": "stream",
          "text": [
            "2020-10-13 22:26:26,104 Restoring parameters from /content/chembl_activity_models/ChEMBL26_SCN5A_IC50_human_ml_ready/NN_graphconv_scaffold_regression/3876fb3b-acb9-4ac8-8fec-bc1b57948c5c/model/model-1188\n"
          ],
          "name": "stderr"
        },
        {
          "output_type": "stream",
          "text": [
            "INFO:tensorflow:Restoring parameters from /content/chembl_activity_models/ChEMBL26_SCN5A_IC50_human_ml_ready/NN_graphconv_scaffold_regression/3876fb3b-acb9-4ac8-8fec-bc1b57948c5c/model/model-1210\n"
          ],
          "name": "stdout"
        },
        {
          "output_type": "stream",
          "text": [
            "2020-10-13 22:26:32,221 Restoring parameters from /content/chembl_activity_models/ChEMBL26_SCN5A_IC50_human_ml_ready/NN_graphconv_scaffold_regression/3876fb3b-acb9-4ac8-8fec-bc1b57948c5c/model/model-1210\n"
          ],
          "name": "stderr"
        },
        {
          "output_type": "stream",
          "text": [
            "INFO:tensorflow:Restoring parameters from /content/chembl_activity_models/ChEMBL26_SCN5A_IC50_human_ml_ready/NN_graphconv_scaffold_regression/3876fb3b-acb9-4ac8-8fec-bc1b57948c5c/model/model-1232\n"
          ],
          "name": "stdout"
        },
        {
          "output_type": "stream",
          "text": [
            "2020-10-13 22:26:38,324 Restoring parameters from /content/chembl_activity_models/ChEMBL26_SCN5A_IC50_human_ml_ready/NN_graphconv_scaffold_regression/3876fb3b-acb9-4ac8-8fec-bc1b57948c5c/model/model-1232\n"
          ],
          "name": "stderr"
        },
        {
          "output_type": "stream",
          "text": [
            "INFO:tensorflow:Restoring parameters from /content/chembl_activity_models/ChEMBL26_SCN5A_IC50_human_ml_ready/NN_graphconv_scaffold_regression/3876fb3b-acb9-4ac8-8fec-bc1b57948c5c/model/model-1254\n"
          ],
          "name": "stdout"
        },
        {
          "output_type": "stream",
          "text": [
            "2020-10-13 22:26:44,471 Restoring parameters from /content/chembl_activity_models/ChEMBL26_SCN5A_IC50_human_ml_ready/NN_graphconv_scaffold_regression/3876fb3b-acb9-4ac8-8fec-bc1b57948c5c/model/model-1254\n"
          ],
          "name": "stderr"
        },
        {
          "output_type": "stream",
          "text": [
            "INFO:tensorflow:Restoring parameters from /content/chembl_activity_models/ChEMBL26_SCN5A_IC50_human_ml_ready/NN_graphconv_scaffold_regression/3876fb3b-acb9-4ac8-8fec-bc1b57948c5c/model/model-1276\n"
          ],
          "name": "stdout"
        },
        {
          "output_type": "stream",
          "text": [
            "2020-10-13 22:26:50,304 Restoring parameters from /content/chembl_activity_models/ChEMBL26_SCN5A_IC50_human_ml_ready/NN_graphconv_scaffold_regression/3876fb3b-acb9-4ac8-8fec-bc1b57948c5c/model/model-1276\n"
          ],
          "name": "stderr"
        },
        {
          "output_type": "stream",
          "text": [
            "INFO:tensorflow:Restoring parameters from /content/chembl_activity_models/ChEMBL26_SCN5A_IC50_human_ml_ready/NN_graphconv_scaffold_regression/3876fb3b-acb9-4ac8-8fec-bc1b57948c5c/model/model-1298\n"
          ],
          "name": "stdout"
        },
        {
          "output_type": "stream",
          "text": [
            "2020-10-13 22:26:56,527 Restoring parameters from /content/chembl_activity_models/ChEMBL26_SCN5A_IC50_human_ml_ready/NN_graphconv_scaffold_regression/3876fb3b-acb9-4ac8-8fec-bc1b57948c5c/model/model-1298\n"
          ],
          "name": "stderr"
        },
        {
          "output_type": "stream",
          "text": [
            "INFO:tensorflow:Restoring parameters from /content/chembl_activity_models/ChEMBL26_SCN5A_IC50_human_ml_ready/NN_graphconv_scaffold_regression/3876fb3b-acb9-4ac8-8fec-bc1b57948c5c/model/model-1320\n"
          ],
          "name": "stdout"
        },
        {
          "output_type": "stream",
          "text": [
            "2020-10-13 22:27:02,758 Restoring parameters from /content/chembl_activity_models/ChEMBL26_SCN5A_IC50_human_ml_ready/NN_graphconv_scaffold_regression/3876fb3b-acb9-4ac8-8fec-bc1b57948c5c/model/model-1320\n"
          ],
          "name": "stderr"
        },
        {
          "output_type": "stream",
          "text": [
            "INFO:tensorflow:Restoring parameters from /content/chembl_activity_models/ChEMBL26_SCN5A_IC50_human_ml_ready/NN_graphconv_scaffold_regression/3876fb3b-acb9-4ac8-8fec-bc1b57948c5c/model/model-1342\n"
          ],
          "name": "stdout"
        },
        {
          "output_type": "stream",
          "text": [
            "2020-10-13 22:27:08,696 Restoring parameters from /content/chembl_activity_models/ChEMBL26_SCN5A_IC50_human_ml_ready/NN_graphconv_scaffold_regression/3876fb3b-acb9-4ac8-8fec-bc1b57948c5c/model/model-1342\n"
          ],
          "name": "stderr"
        },
        {
          "output_type": "stream",
          "text": [
            "INFO:tensorflow:Restoring parameters from /content/chembl_activity_models/ChEMBL26_SCN5A_IC50_human_ml_ready/NN_graphconv_scaffold_regression/3876fb3b-acb9-4ac8-8fec-bc1b57948c5c/model/model-1364\n"
          ],
          "name": "stdout"
        },
        {
          "output_type": "stream",
          "text": [
            "2020-10-13 22:27:14,904 Restoring parameters from /content/chembl_activity_models/ChEMBL26_SCN5A_IC50_human_ml_ready/NN_graphconv_scaffold_regression/3876fb3b-acb9-4ac8-8fec-bc1b57948c5c/model/model-1364\n"
          ],
          "name": "stderr"
        },
        {
          "output_type": "stream",
          "text": [
            "INFO:tensorflow:Restoring parameters from /content/chembl_activity_models/ChEMBL26_SCN5A_IC50_human_ml_ready/NN_graphconv_scaffold_regression/3876fb3b-acb9-4ac8-8fec-bc1b57948c5c/model/model-1386\n"
          ],
          "name": "stdout"
        },
        {
          "output_type": "stream",
          "text": [
            "2020-10-13 22:27:21,171 Restoring parameters from /content/chembl_activity_models/ChEMBL26_SCN5A_IC50_human_ml_ready/NN_graphconv_scaffold_regression/3876fb3b-acb9-4ac8-8fec-bc1b57948c5c/model/model-1386\n"
          ],
          "name": "stderr"
        },
        {
          "output_type": "stream",
          "text": [
            "INFO:tensorflow:Restoring parameters from /content/chembl_activity_models/ChEMBL26_SCN5A_IC50_human_ml_ready/NN_graphconv_scaffold_regression/3876fb3b-acb9-4ac8-8fec-bc1b57948c5c/model/model-1408\n"
          ],
          "name": "stdout"
        },
        {
          "output_type": "stream",
          "text": [
            "2020-10-13 22:27:27,151 Restoring parameters from /content/chembl_activity_models/ChEMBL26_SCN5A_IC50_human_ml_ready/NN_graphconv_scaffold_regression/3876fb3b-acb9-4ac8-8fec-bc1b57948c5c/model/model-1408\n"
          ],
          "name": "stderr"
        },
        {
          "output_type": "stream",
          "text": [
            "INFO:tensorflow:Restoring parameters from /content/chembl_activity_models/ChEMBL26_SCN5A_IC50_human_ml_ready/NN_graphconv_scaffold_regression/3876fb3b-acb9-4ac8-8fec-bc1b57948c5c/model/model-1430\n"
          ],
          "name": "stdout"
        },
        {
          "output_type": "stream",
          "text": [
            "2020-10-13 22:27:33,611 Restoring parameters from /content/chembl_activity_models/ChEMBL26_SCN5A_IC50_human_ml_ready/NN_graphconv_scaffold_regression/3876fb3b-acb9-4ac8-8fec-bc1b57948c5c/model/model-1430\n"
          ],
          "name": "stderr"
        },
        {
          "output_type": "stream",
          "text": [
            "INFO:tensorflow:Restoring parameters from /content/chembl_activity_models/ChEMBL26_SCN5A_IC50_human_ml_ready/NN_graphconv_scaffold_regression/3876fb3b-acb9-4ac8-8fec-bc1b57948c5c/model/model-1452\n"
          ],
          "name": "stdout"
        },
        {
          "output_type": "stream",
          "text": [
            "2020-10-13 22:27:39,681 Restoring parameters from /content/chembl_activity_models/ChEMBL26_SCN5A_IC50_human_ml_ready/NN_graphconv_scaffold_regression/3876fb3b-acb9-4ac8-8fec-bc1b57948c5c/model/model-1452\n"
          ],
          "name": "stderr"
        },
        {
          "output_type": "stream",
          "text": [
            "INFO:tensorflow:Restoring parameters from /content/chembl_activity_models/ChEMBL26_SCN5A_IC50_human_ml_ready/NN_graphconv_scaffold_regression/3876fb3b-acb9-4ac8-8fec-bc1b57948c5c/model/model-1474\n"
          ],
          "name": "stdout"
        },
        {
          "output_type": "stream",
          "text": [
            "2020-10-13 22:27:45,976 Restoring parameters from /content/chembl_activity_models/ChEMBL26_SCN5A_IC50_human_ml_ready/NN_graphconv_scaffold_regression/3876fb3b-acb9-4ac8-8fec-bc1b57948c5c/model/model-1474\n"
          ],
          "name": "stderr"
        },
        {
          "output_type": "stream",
          "text": [
            "INFO:tensorflow:Restoring parameters from /content/chembl_activity_models/ChEMBL26_SCN5A_IC50_human_ml_ready/NN_graphconv_scaffold_regression/3876fb3b-acb9-4ac8-8fec-bc1b57948c5c/model/model-1496\n"
          ],
          "name": "stdout"
        },
        {
          "output_type": "stream",
          "text": [
            "2020-10-13 22:27:52,037 Restoring parameters from /content/chembl_activity_models/ChEMBL26_SCN5A_IC50_human_ml_ready/NN_graphconv_scaffold_regression/3876fb3b-acb9-4ac8-8fec-bc1b57948c5c/model/model-1496\n"
          ],
          "name": "stderr"
        },
        {
          "output_type": "stream",
          "text": [
            "INFO:tensorflow:Restoring parameters from /content/chembl_activity_models/ChEMBL26_SCN5A_IC50_human_ml_ready/NN_graphconv_scaffold_regression/3876fb3b-acb9-4ac8-8fec-bc1b57948c5c/model/model-1518\n"
          ],
          "name": "stdout"
        },
        {
          "output_type": "stream",
          "text": [
            "2020-10-13 22:27:58,540 Restoring parameters from /content/chembl_activity_models/ChEMBL26_SCN5A_IC50_human_ml_ready/NN_graphconv_scaffold_regression/3876fb3b-acb9-4ac8-8fec-bc1b57948c5c/model/model-1518\n"
          ],
          "name": "stderr"
        },
        {
          "output_type": "stream",
          "text": [
            "INFO:tensorflow:Restoring parameters from /content/chembl_activity_models/ChEMBL26_SCN5A_IC50_human_ml_ready/NN_graphconv_scaffold_regression/3876fb3b-acb9-4ac8-8fec-bc1b57948c5c/model/model-1540\n"
          ],
          "name": "stdout"
        },
        {
          "output_type": "stream",
          "text": [
            "2020-10-13 22:28:04,967 Restoring parameters from /content/chembl_activity_models/ChEMBL26_SCN5A_IC50_human_ml_ready/NN_graphconv_scaffold_regression/3876fb3b-acb9-4ac8-8fec-bc1b57948c5c/model/model-1540\n"
          ],
          "name": "stderr"
        },
        {
          "output_type": "stream",
          "text": [
            "INFO:tensorflow:Restoring parameters from /content/chembl_activity_models/ChEMBL26_SCN5A_IC50_human_ml_ready/NN_graphconv_scaffold_regression/3876fb3b-acb9-4ac8-8fec-bc1b57948c5c/model/model-1562\n"
          ],
          "name": "stdout"
        },
        {
          "output_type": "stream",
          "text": [
            "2020-10-13 22:28:11,289 Restoring parameters from /content/chembl_activity_models/ChEMBL26_SCN5A_IC50_human_ml_ready/NN_graphconv_scaffold_regression/3876fb3b-acb9-4ac8-8fec-bc1b57948c5c/model/model-1562\n"
          ],
          "name": "stderr"
        },
        {
          "output_type": "stream",
          "text": [
            "INFO:tensorflow:Restoring parameters from /content/chembl_activity_models/ChEMBL26_SCN5A_IC50_human_ml_ready/NN_graphconv_scaffold_regression/3876fb3b-acb9-4ac8-8fec-bc1b57948c5c/model/model-1584\n"
          ],
          "name": "stdout"
        },
        {
          "output_type": "stream",
          "text": [
            "2020-10-13 22:28:17,749 Restoring parameters from /content/chembl_activity_models/ChEMBL26_SCN5A_IC50_human_ml_ready/NN_graphconv_scaffold_regression/3876fb3b-acb9-4ac8-8fec-bc1b57948c5c/model/model-1584\n"
          ],
          "name": "stderr"
        },
        {
          "output_type": "stream",
          "text": [
            "INFO:tensorflow:Restoring parameters from /content/chembl_activity_models/ChEMBL26_SCN5A_IC50_human_ml_ready/NN_graphconv_scaffold_regression/3876fb3b-acb9-4ac8-8fec-bc1b57948c5c/model/model-1606\n"
          ],
          "name": "stdout"
        },
        {
          "output_type": "stream",
          "text": [
            "2020-10-13 22:28:23,843 Restoring parameters from /content/chembl_activity_models/ChEMBL26_SCN5A_IC50_human_ml_ready/NN_graphconv_scaffold_regression/3876fb3b-acb9-4ac8-8fec-bc1b57948c5c/model/model-1606\n"
          ],
          "name": "stderr"
        },
        {
          "output_type": "stream",
          "text": [
            "INFO:tensorflow:Restoring parameters from /content/chembl_activity_models/ChEMBL26_SCN5A_IC50_human_ml_ready/NN_graphconv_scaffold_regression/3876fb3b-acb9-4ac8-8fec-bc1b57948c5c/model/model-1628\n"
          ],
          "name": "stdout"
        },
        {
          "output_type": "stream",
          "text": [
            "2020-10-13 22:28:30,218 Restoring parameters from /content/chembl_activity_models/ChEMBL26_SCN5A_IC50_human_ml_ready/NN_graphconv_scaffold_regression/3876fb3b-acb9-4ac8-8fec-bc1b57948c5c/model/model-1628\n"
          ],
          "name": "stderr"
        },
        {
          "output_type": "stream",
          "text": [
            "INFO:tensorflow:Restoring parameters from /content/chembl_activity_models/ChEMBL26_SCN5A_IC50_human_ml_ready/NN_graphconv_scaffold_regression/3876fb3b-acb9-4ac8-8fec-bc1b57948c5c/model/model-1650\n"
          ],
          "name": "stdout"
        },
        {
          "output_type": "stream",
          "text": [
            "2020-10-13 22:28:36,673 Restoring parameters from /content/chembl_activity_models/ChEMBL26_SCN5A_IC50_human_ml_ready/NN_graphconv_scaffold_regression/3876fb3b-acb9-4ac8-8fec-bc1b57948c5c/model/model-1650\n"
          ],
          "name": "stderr"
        },
        {
          "output_type": "stream",
          "text": [
            "INFO:tensorflow:Restoring parameters from /content/chembl_activity_models/ChEMBL26_SCN5A_IC50_human_ml_ready/NN_graphconv_scaffold_regression/3876fb3b-acb9-4ac8-8fec-bc1b57948c5c/model/model-1672\n"
          ],
          "name": "stdout"
        },
        {
          "output_type": "stream",
          "text": [
            "2020-10-13 22:28:42,861 Restoring parameters from /content/chembl_activity_models/ChEMBL26_SCN5A_IC50_human_ml_ready/NN_graphconv_scaffold_regression/3876fb3b-acb9-4ac8-8fec-bc1b57948c5c/model/model-1672\n"
          ],
          "name": "stderr"
        },
        {
          "output_type": "stream",
          "text": [
            "INFO:tensorflow:Restoring parameters from /content/chembl_activity_models/ChEMBL26_SCN5A_IC50_human_ml_ready/NN_graphconv_scaffold_regression/3876fb3b-acb9-4ac8-8fec-bc1b57948c5c/model/model-1694\n"
          ],
          "name": "stdout"
        },
        {
          "output_type": "stream",
          "text": [
            "2020-10-13 22:28:49,489 Restoring parameters from /content/chembl_activity_models/ChEMBL26_SCN5A_IC50_human_ml_ready/NN_graphconv_scaffold_regression/3876fb3b-acb9-4ac8-8fec-bc1b57948c5c/model/model-1694\n"
          ],
          "name": "stderr"
        },
        {
          "output_type": "stream",
          "text": [
            "INFO:tensorflow:Restoring parameters from /content/chembl_activity_models/ChEMBL26_SCN5A_IC50_human_ml_ready/NN_graphconv_scaffold_regression/3876fb3b-acb9-4ac8-8fec-bc1b57948c5c/model/model-1716\n"
          ],
          "name": "stdout"
        },
        {
          "output_type": "stream",
          "text": [
            "2020-10-13 22:28:55,740 Restoring parameters from /content/chembl_activity_models/ChEMBL26_SCN5A_IC50_human_ml_ready/NN_graphconv_scaffold_regression/3876fb3b-acb9-4ac8-8fec-bc1b57948c5c/model/model-1716\n"
          ],
          "name": "stderr"
        },
        {
          "output_type": "stream",
          "text": [
            "INFO:tensorflow:Restoring parameters from /content/chembl_activity_models/ChEMBL26_SCN5A_IC50_human_ml_ready/NN_graphconv_scaffold_regression/3876fb3b-acb9-4ac8-8fec-bc1b57948c5c/model/model-1738\n"
          ],
          "name": "stdout"
        },
        {
          "output_type": "stream",
          "text": [
            "2020-10-13 22:29:02,403 Restoring parameters from /content/chembl_activity_models/ChEMBL26_SCN5A_IC50_human_ml_ready/NN_graphconv_scaffold_regression/3876fb3b-acb9-4ac8-8fec-bc1b57948c5c/model/model-1738\n"
          ],
          "name": "stderr"
        },
        {
          "output_type": "stream",
          "text": [
            "INFO:tensorflow:Restoring parameters from /content/chembl_activity_models/ChEMBL26_SCN5A_IC50_human_ml_ready/NN_graphconv_scaffold_regression/3876fb3b-acb9-4ac8-8fec-bc1b57948c5c/model/model-1760\n"
          ],
          "name": "stdout"
        },
        {
          "output_type": "stream",
          "text": [
            "2020-10-13 22:29:08,767 Restoring parameters from /content/chembl_activity_models/ChEMBL26_SCN5A_IC50_human_ml_ready/NN_graphconv_scaffold_regression/3876fb3b-acb9-4ac8-8fec-bc1b57948c5c/model/model-1760\n"
          ],
          "name": "stderr"
        },
        {
          "output_type": "stream",
          "text": [
            "INFO:tensorflow:Restoring parameters from /content/chembl_activity_models/ChEMBL26_SCN5A_IC50_human_ml_ready/NN_graphconv_scaffold_regression/3876fb3b-acb9-4ac8-8fec-bc1b57948c5c/model/model-1782\n"
          ],
          "name": "stdout"
        },
        {
          "output_type": "stream",
          "text": [
            "2020-10-13 22:29:15,386 Restoring parameters from /content/chembl_activity_models/ChEMBL26_SCN5A_IC50_human_ml_ready/NN_graphconv_scaffold_regression/3876fb3b-acb9-4ac8-8fec-bc1b57948c5c/model/model-1782\n"
          ],
          "name": "stderr"
        },
        {
          "output_type": "stream",
          "text": [
            "INFO:tensorflow:Restoring parameters from /content/chembl_activity_models/ChEMBL26_SCN5A_IC50_human_ml_ready/NN_graphconv_scaffold_regression/3876fb3b-acb9-4ac8-8fec-bc1b57948c5c/model/model-1804\n"
          ],
          "name": "stdout"
        },
        {
          "output_type": "stream",
          "text": [
            "2020-10-13 22:29:21,630 Restoring parameters from /content/chembl_activity_models/ChEMBL26_SCN5A_IC50_human_ml_ready/NN_graphconv_scaffold_regression/3876fb3b-acb9-4ac8-8fec-bc1b57948c5c/model/model-1804\n"
          ],
          "name": "stderr"
        },
        {
          "output_type": "stream",
          "text": [
            "INFO:tensorflow:Restoring parameters from /content/chembl_activity_models/ChEMBL26_SCN5A_IC50_human_ml_ready/NN_graphconv_scaffold_regression/3876fb3b-acb9-4ac8-8fec-bc1b57948c5c/model/model-1826\n"
          ],
          "name": "stdout"
        },
        {
          "output_type": "stream",
          "text": [
            "2020-10-13 22:29:28,052 Restoring parameters from /content/chembl_activity_models/ChEMBL26_SCN5A_IC50_human_ml_ready/NN_graphconv_scaffold_regression/3876fb3b-acb9-4ac8-8fec-bc1b57948c5c/model/model-1826\n"
          ],
          "name": "stderr"
        },
        {
          "output_type": "stream",
          "text": [
            "INFO:tensorflow:Restoring parameters from /content/chembl_activity_models/ChEMBL26_SCN5A_IC50_human_ml_ready/NN_graphconv_scaffold_regression/3876fb3b-acb9-4ac8-8fec-bc1b57948c5c/model/model-1848\n"
          ],
          "name": "stdout"
        },
        {
          "output_type": "stream",
          "text": [
            "2020-10-13 22:29:34,822 Restoring parameters from /content/chembl_activity_models/ChEMBL26_SCN5A_IC50_human_ml_ready/NN_graphconv_scaffold_regression/3876fb3b-acb9-4ac8-8fec-bc1b57948c5c/model/model-1848\n"
          ],
          "name": "stderr"
        },
        {
          "output_type": "stream",
          "text": [
            "INFO:tensorflow:Restoring parameters from /content/chembl_activity_models/ChEMBL26_SCN5A_IC50_human_ml_ready/NN_graphconv_scaffold_regression/3876fb3b-acb9-4ac8-8fec-bc1b57948c5c/model/model-1870\n"
          ],
          "name": "stdout"
        },
        {
          "output_type": "stream",
          "text": [
            "2020-10-13 22:29:41,170 Restoring parameters from /content/chembl_activity_models/ChEMBL26_SCN5A_IC50_human_ml_ready/NN_graphconv_scaffold_regression/3876fb3b-acb9-4ac8-8fec-bc1b57948c5c/model/model-1870\n"
          ],
          "name": "stderr"
        },
        {
          "output_type": "stream",
          "text": [
            "INFO:tensorflow:Restoring parameters from /content/chembl_activity_models/ChEMBL26_SCN5A_IC50_human_ml_ready/NN_graphconv_scaffold_regression/3876fb3b-acb9-4ac8-8fec-bc1b57948c5c/model/model-1892\n"
          ],
          "name": "stdout"
        },
        {
          "output_type": "stream",
          "text": [
            "2020-10-13 22:29:47,913 Restoring parameters from /content/chembl_activity_models/ChEMBL26_SCN5A_IC50_human_ml_ready/NN_graphconv_scaffold_regression/3876fb3b-acb9-4ac8-8fec-bc1b57948c5c/model/model-1892\n"
          ],
          "name": "stderr"
        },
        {
          "output_type": "stream",
          "text": [
            "INFO:tensorflow:Restoring parameters from /content/chembl_activity_models/ChEMBL26_SCN5A_IC50_human_ml_ready/NN_graphconv_scaffold_regression/3876fb3b-acb9-4ac8-8fec-bc1b57948c5c/model/model-1914\n"
          ],
          "name": "stdout"
        },
        {
          "output_type": "stream",
          "text": [
            "2020-10-13 22:29:54,355 Restoring parameters from /content/chembl_activity_models/ChEMBL26_SCN5A_IC50_human_ml_ready/NN_graphconv_scaffold_regression/3876fb3b-acb9-4ac8-8fec-bc1b57948c5c/model/model-1914\n"
          ],
          "name": "stderr"
        },
        {
          "output_type": "stream",
          "text": [
            "INFO:tensorflow:Restoring parameters from /content/chembl_activity_models/ChEMBL26_SCN5A_IC50_human_ml_ready/NN_graphconv_scaffold_regression/3876fb3b-acb9-4ac8-8fec-bc1b57948c5c/model/model-1936\n"
          ],
          "name": "stdout"
        },
        {
          "output_type": "stream",
          "text": [
            "2020-10-13 22:30:00,808 Restoring parameters from /content/chembl_activity_models/ChEMBL26_SCN5A_IC50_human_ml_ready/NN_graphconv_scaffold_regression/3876fb3b-acb9-4ac8-8fec-bc1b57948c5c/model/model-1936\n"
          ],
          "name": "stderr"
        },
        {
          "output_type": "stream",
          "text": [
            "INFO:tensorflow:Restoring parameters from /content/chembl_activity_models/ChEMBL26_SCN5A_IC50_human_ml_ready/NN_graphconv_scaffold_regression/3876fb3b-acb9-4ac8-8fec-bc1b57948c5c/model/model-1958\n"
          ],
          "name": "stdout"
        },
        {
          "output_type": "stream",
          "text": [
            "2020-10-13 22:30:07,718 Restoring parameters from /content/chembl_activity_models/ChEMBL26_SCN5A_IC50_human_ml_ready/NN_graphconv_scaffold_regression/3876fb3b-acb9-4ac8-8fec-bc1b57948c5c/model/model-1958\n"
          ],
          "name": "stderr"
        },
        {
          "output_type": "stream",
          "text": [
            "INFO:tensorflow:Restoring parameters from /content/chembl_activity_models/ChEMBL26_SCN5A_IC50_human_ml_ready/NN_graphconv_scaffold_regression/3876fb3b-acb9-4ac8-8fec-bc1b57948c5c/model/model-1980\n"
          ],
          "name": "stdout"
        },
        {
          "output_type": "stream",
          "text": [
            "2020-10-13 22:30:14,257 Restoring parameters from /content/chembl_activity_models/ChEMBL26_SCN5A_IC50_human_ml_ready/NN_graphconv_scaffold_regression/3876fb3b-acb9-4ac8-8fec-bc1b57948c5c/model/model-1980\n"
          ],
          "name": "stderr"
        },
        {
          "output_type": "stream",
          "text": [
            "INFO:tensorflow:Restoring parameters from /content/chembl_activity_models/ChEMBL26_SCN5A_IC50_human_ml_ready/NN_graphconv_scaffold_regression/3876fb3b-acb9-4ac8-8fec-bc1b57948c5c/model/model-2002\n"
          ],
          "name": "stdout"
        },
        {
          "output_type": "stream",
          "text": [
            "2020-10-13 22:30:22,086 Restoring parameters from /content/chembl_activity_models/ChEMBL26_SCN5A_IC50_human_ml_ready/NN_graphconv_scaffold_regression/3876fb3b-acb9-4ac8-8fec-bc1b57948c5c/model/model-2002\n"
          ],
          "name": "stderr"
        },
        {
          "output_type": "stream",
          "text": [
            "INFO:tensorflow:Restoring parameters from /content/chembl_activity_models/ChEMBL26_SCN5A_IC50_human_ml_ready/NN_graphconv_scaffold_regression/3876fb3b-acb9-4ac8-8fec-bc1b57948c5c/model/model-2024\n"
          ],
          "name": "stdout"
        },
        {
          "output_type": "stream",
          "text": [
            "2020-10-13 22:30:28,908 Restoring parameters from /content/chembl_activity_models/ChEMBL26_SCN5A_IC50_human_ml_ready/NN_graphconv_scaffold_regression/3876fb3b-acb9-4ac8-8fec-bc1b57948c5c/model/model-2024\n"
          ],
          "name": "stderr"
        },
        {
          "output_type": "stream",
          "text": [
            "INFO:tensorflow:Restoring parameters from /content/chembl_activity_models/ChEMBL26_SCN5A_IC50_human_ml_ready/NN_graphconv_scaffold_regression/3876fb3b-acb9-4ac8-8fec-bc1b57948c5c/model/model-2046\n"
          ],
          "name": "stdout"
        },
        {
          "output_type": "stream",
          "text": [
            "2020-10-13 22:30:35,467 Restoring parameters from /content/chembl_activity_models/ChEMBL26_SCN5A_IC50_human_ml_ready/NN_graphconv_scaffold_regression/3876fb3b-acb9-4ac8-8fec-bc1b57948c5c/model/model-2046\n"
          ],
          "name": "stderr"
        },
        {
          "output_type": "stream",
          "text": [
            "INFO:tensorflow:Restoring parameters from /content/chembl_activity_models/ChEMBL26_SCN5A_IC50_human_ml_ready/NN_graphconv_scaffold_regression/3876fb3b-acb9-4ac8-8fec-bc1b57948c5c/model/model-2068\n"
          ],
          "name": "stdout"
        },
        {
          "output_type": "stream",
          "text": [
            "2020-10-13 22:30:42,163 Restoring parameters from /content/chembl_activity_models/ChEMBL26_SCN5A_IC50_human_ml_ready/NN_graphconv_scaffold_regression/3876fb3b-acb9-4ac8-8fec-bc1b57948c5c/model/model-2068\n"
          ],
          "name": "stderr"
        },
        {
          "output_type": "stream",
          "text": [
            "INFO:tensorflow:Restoring parameters from /content/chembl_activity_models/ChEMBL26_SCN5A_IC50_human_ml_ready/NN_graphconv_scaffold_regression/3876fb3b-acb9-4ac8-8fec-bc1b57948c5c/model/model-2090\n"
          ],
          "name": "stdout"
        },
        {
          "output_type": "stream",
          "text": [
            "2020-10-13 22:30:49,338 Restoring parameters from /content/chembl_activity_models/ChEMBL26_SCN5A_IC50_human_ml_ready/NN_graphconv_scaffold_regression/3876fb3b-acb9-4ac8-8fec-bc1b57948c5c/model/model-2090\n"
          ],
          "name": "stderr"
        },
        {
          "output_type": "stream",
          "text": [
            "INFO:tensorflow:Restoring parameters from /content/chembl_activity_models/ChEMBL26_SCN5A_IC50_human_ml_ready/NN_graphconv_scaffold_regression/3876fb3b-acb9-4ac8-8fec-bc1b57948c5c/model/model-2112\n"
          ],
          "name": "stdout"
        },
        {
          "output_type": "stream",
          "text": [
            "2020-10-13 22:30:56,215 Restoring parameters from /content/chembl_activity_models/ChEMBL26_SCN5A_IC50_human_ml_ready/NN_graphconv_scaffold_regression/3876fb3b-acb9-4ac8-8fec-bc1b57948c5c/model/model-2112\n"
          ],
          "name": "stderr"
        },
        {
          "output_type": "stream",
          "text": [
            "INFO:tensorflow:Restoring parameters from /content/chembl_activity_models/ChEMBL26_SCN5A_IC50_human_ml_ready/NN_graphconv_scaffold_regression/3876fb3b-acb9-4ac8-8fec-bc1b57948c5c/model/model-2134\n"
          ],
          "name": "stdout"
        },
        {
          "output_type": "stream",
          "text": [
            "2020-10-13 22:31:02,973 Restoring parameters from /content/chembl_activity_models/ChEMBL26_SCN5A_IC50_human_ml_ready/NN_graphconv_scaffold_regression/3876fb3b-acb9-4ac8-8fec-bc1b57948c5c/model/model-2134\n"
          ],
          "name": "stderr"
        },
        {
          "output_type": "stream",
          "text": [
            "INFO:tensorflow:Restoring parameters from /content/chembl_activity_models/ChEMBL26_SCN5A_IC50_human_ml_ready/NN_graphconv_scaffold_regression/3876fb3b-acb9-4ac8-8fec-bc1b57948c5c/model/model-2156\n"
          ],
          "name": "stdout"
        },
        {
          "output_type": "stream",
          "text": [
            "2020-10-13 22:31:10,105 Restoring parameters from /content/chembl_activity_models/ChEMBL26_SCN5A_IC50_human_ml_ready/NN_graphconv_scaffold_regression/3876fb3b-acb9-4ac8-8fec-bc1b57948c5c/model/model-2156\n"
          ],
          "name": "stderr"
        },
        {
          "output_type": "stream",
          "text": [
            "INFO:tensorflow:Restoring parameters from /content/chembl_activity_models/ChEMBL26_SCN5A_IC50_human_ml_ready/NN_graphconv_scaffold_regression/3876fb3b-acb9-4ac8-8fec-bc1b57948c5c/model/model-2178\n"
          ],
          "name": "stdout"
        },
        {
          "output_type": "stream",
          "text": [
            "2020-10-13 22:31:17,395 Restoring parameters from /content/chembl_activity_models/ChEMBL26_SCN5A_IC50_human_ml_ready/NN_graphconv_scaffold_regression/3876fb3b-acb9-4ac8-8fec-bc1b57948c5c/model/model-2178\n"
          ],
          "name": "stderr"
        },
        {
          "output_type": "stream",
          "text": [
            "INFO:tensorflow:Restoring parameters from /content/chembl_activity_models/ChEMBL26_SCN5A_IC50_human_ml_ready/NN_graphconv_scaffold_regression/3876fb3b-acb9-4ac8-8fec-bc1b57948c5c/model/model-462\n"
          ],
          "name": "stdout"
        },
        {
          "output_type": "stream",
          "text": [
            "/content/AMPL/lib/python3.6/site-packages/atomsci/ddm/pipeline/model_wrapper.py:767: YAMLLoadWarning: calling yaml.load() without Loader=... is deprecated, as the default Loader is unsafe. Please read https://msg.pyyaml.org/load for full details.\n",
            "  chkpt_dict = yaml.load(chkpt_in.read())\n",
            "2020-10-13 22:32:15,016 Restoring parameters from /content/chembl_activity_models/ChEMBL26_SCN5A_IC50_human_ml_ready/NN_graphconv_scaffold_regression/3876fb3b-acb9-4ac8-8fec-bc1b57948c5c/model/model-462\n",
            "2020-10-13 22:32:33,907 Wrote model metadata to file /content/chembl_activity_models/ChEMBL26_SCN5A_IC50_human_ml_ready/NN_graphconv_scaffold_regression/3876fb3b-acb9-4ac8-8fec-bc1b57948c5c/model_metadata.json\n",
            "2020-10-13 22:32:34,116 Wrote model metrics to file /content/chembl_activity_models/ChEMBL26_SCN5A_IC50_human_ml_ready/NN_graphconv_scaffold_regression/3876fb3b-acb9-4ac8-8fec-bc1b57948c5c/model_metrics.json\n"
          ],
          "name": "stderr"
        },
        {
          "output_type": "stream",
          "text": [
            "Wrote model tarball to /content/chembl_activity_models/ChEMBL26_SCN5A_IC50_human_ml_ready_model_3876fb3b-acb9-4ac8-8fec-bc1b57948c5c.tar.gz\n"
          ],
          "name": "stdout"
        }
      ]
    },
    {
      "cell_type": "code",
      "metadata": {
        "id": "pg58OZzSGfb3",
        "outputId": "c673d4de-6371-4453-c5be-422a0a69884b",
        "colab": {
          "base_uri": "https://localhost:8080/",
          "height": 168
        }
      },
      "source": [
        "perf_df = cmp.get_filesystem_perf_results('/content/chembl_activity_models', pred_type='regression')\n",
        "perf_df"
      ],
      "execution_count": 22,
      "outputs": [
        {
          "output_type": "stream",
          "text": [
            "Found data for 1 models under /content/chembl_activity_models\n"
          ],
          "name": "stdout"
        },
        {
          "output_type": "execute_result",
          "data": {
            "text/html": [
              "<div>\n",
              "<style scoped>\n",
              "    .dataframe tbody tr th:only-of-type {\n",
              "        vertical-align: middle;\n",
              "    }\n",
              "\n",
              "    .dataframe tbody tr th {\n",
              "        vertical-align: top;\n",
              "    }\n",
              "\n",
              "    .dataframe thead th {\n",
              "        text-align: right;\n",
              "    }\n",
              "</style>\n",
              "<table border=\"1\" class=\"dataframe\">\n",
              "  <thead>\n",
              "    <tr style=\"text-align: right;\">\n",
              "      <th></th>\n",
              "      <th>model_uuid</th>\n",
              "      <th>model_type</th>\n",
              "      <th>dataset_key</th>\n",
              "      <th>featurizer</th>\n",
              "      <th>splitter</th>\n",
              "      <th>model_score_type</th>\n",
              "      <th>feature_transform_type</th>\n",
              "      <th>learning_rate</th>\n",
              "      <th>dropouts</th>\n",
              "      <th>layer_sizes</th>\n",
              "      <th>best_epoch</th>\n",
              "      <th>max_epochs</th>\n",
              "      <th>rf_estimators</th>\n",
              "      <th>rf_max_features</th>\n",
              "      <th>rf_max_depth</th>\n",
              "      <th>model_choice_score</th>\n",
              "      <th>train_r2_score</th>\n",
              "      <th>train_rms_score</th>\n",
              "      <th>train_mae_score</th>\n",
              "      <th>valid_r2_score</th>\n",
              "      <th>valid_rms_score</th>\n",
              "      <th>valid_mae_score</th>\n",
              "      <th>test_r2_score</th>\n",
              "      <th>test_rms_score</th>\n",
              "      <th>test_mae_score</th>\n",
              "    </tr>\n",
              "  </thead>\n",
              "  <tbody>\n",
              "    <tr>\n",
              "      <th>0</th>\n",
              "      <td>3876fb3b-acb9-4ac8-8fec-bc1b57948c5c</td>\n",
              "      <td>NN</td>\n",
              "      <td>/content/ChEMBL26_SCN5A_IC50_human_ml_ready.csv</td>\n",
              "      <td>graphconv</td>\n",
              "      <td>scaffold</td>\n",
              "      <td>r2</td>\n",
              "      <td>normalization</td>\n",
              "      <td>0.0007</td>\n",
              "      <td>0.00,0.00,0.00</td>\n",
              "      <td>64,64,32</td>\n",
              "      <td>21</td>\n",
              "      <td>100</td>\n",
              "      <td>NaN</td>\n",
              "      <td>NaN</td>\n",
              "      <td>NaN</td>\n",
              "      <td>0.290554</td>\n",
              "      <td>0.714833</td>\n",
              "      <td>0.342949</td>\n",
              "      <td>0.248112</td>\n",
              "      <td>0.290554</td>\n",
              "      <td>0.553697</td>\n",
              "      <td>0.379067</td>\n",
              "      <td>0.283599</td>\n",
              "      <td>0.563706</td>\n",
              "      <td>0.396423</td>\n",
              "    </tr>\n",
              "  </tbody>\n",
              "</table>\n",
              "</div>"
            ],
            "text/plain": [
              "                             model_uuid  ... test_mae_score\n",
              "0  3876fb3b-acb9-4ac8-8fec-bc1b57948c5c  ...       0.396423\n",
              "\n",
              "[1 rows x 25 columns]"
            ]
          },
          "metadata": {
            "tags": []
          },
          "execution_count": 22
        }
      ]
    },
    {
      "cell_type": "code",
      "metadata": {
        "id": "_b5hfx8qP49G",
        "outputId": "9436c74d-acda-440f-abc2-46a233cce558",
        "colab": {
          "base_uri": "https://localhost:8080/",
          "height": 1000
        }
      },
      "source": [
        "#plot the model fitting\n",
        "from atomsci.ddm.pipeline import perf_plots as pp\n",
        "pp.plot_pred_vs_actual(train_model)"
      ],
      "execution_count": 24,
      "outputs": [
        {
          "output_type": "stream",
          "text": [
            "/content/AMPL/lib/python3.6/site-packages/statsmodels/tools/_testing.py:19: FutureWarning: pandas.util.testing is deprecated. Use the functions in the public API at pandas.testing instead.\n",
            "  import pandas.util.testing as tm\n"
          ],
          "name": "stderr"
        },
        {
          "output_type": "display_data",
          "data": {
            "image/png": "[encoded data removed]",
            "text/plain": [
              "<Figure size 864x864 with 1 Axes>"
            ]
          },
          "metadata": {
            "tags": [],
            "needs_background": "light"
          }
        },
        {
          "output_type": "display_data",
          "data": {
            "image/png": "[encoded data removed]",
            "text/plain": [
              "<Figure size 864x864 with 1 Axes>"
            ]
          },
          "metadata": {
            "tags": [],
            "needs_background": "light"
          }
        },
        {
          "output_type": "display_data",
          "data": {
            "image/png": "[encoded data removed]",
            "text/plain": [
              "<Figure size 864x864 with 1 Axes>"
            ]
          },
          "metadata": {
            "tags": [],
            "needs_background": "light"
          }
        }
      ]
    },
    {
      "cell_type": "code",
      "metadata": {
        "id": "298AgiQPEkcl"
      },
      "source": [
        "#parameters for prediction\n",
        "pred_params = { \n",
        "    \"response_cols\" : \"pIC50\",\n",
        "    \"id_col\": \"compound_id\",\n",
        "    \"smiles_col\" : \"base_rdkit_smiles\",\n",
        "    \"result_dir\": \"/content/chembl_activity_models\",\n",
        "    \"transformer_key\": \"\"\n",
        "}"
      ],
      "execution_count": 25,
      "outputs": []
    },
    {
      "cell_type": "code",
      "metadata": {
        "id": "WU4HoAIvEo7H"
      },
      "source": [
        "#predict binding based on pregenerated model\n",
        "for euid in os.listdir(\"/content/chembl_activity_models/ChEMBL26_SCN5A_IC50_human_ml_ready/NN_graphconv_scaffold_regression\"):\n",
        "  model_dir = \"/content/chembl_activity_models/ChEMBL26_SCN5A_IC50_human_ml_ready/NN_graphconv_scaffold_regression/\" + euid\n",
        "  if \"transformers.pkl\" in os.listdir(model_dir):\n",
        "    break\n",
        "\n",
        "pred_params[\"result_dir\"] = model_dir\n",
        "pred_params[\"transformer_key\"] = os.path.join(model_dir, \"transformers.pkl\")\n",
        "\n",
        "assert(os.path.isfile(pred_params[\"transformer_key\"]))\n",
        "\n",
        "predparam = parse.wrapper(pred_params)\n",
        "\n",
        "df_pred = df_pred.rename(columns={predparam.response_cols[0]: 'experimental_values'})"
      ],
      "execution_count": 28,
      "outputs": []
    },
    {
      "cell_type": "code",
      "metadata": {
        "id": "MXgqY6qDEr-3",
        "outputId": "e2e1d7e4-8242-4a83-f6b5-31a897e75858",
        "colab": {
          "base_uri": "https://localhost:8080/",
          "height": 555
        }
      },
      "source": [
        "ppp = mp.create_prediction_pipeline_from_file(predparam, model_dir)\n",
        "predict = ppp.predict_on_dataframe(df_pred)\n",
        "mergedf = pd.merge(df_pred, predict, on=pred_params[\"id_col\"])\n",
        "mergedf"
      ],
      "execution_count": 30,
      "outputs": [
        {
          "output_type": "stream",
          "text": [
            "Featurization = DynamicFeaturization with graphconv features\n"
          ],
          "name": "stdout"
        },
        {
          "output_type": "stream",
          "text": [
            "/content/AMPL/lib/python3.6/site-packages/tensorflow/python/ops/gradients_impl.py:98: UserWarning: Converting sparse IndexedSlices to a dense Tensor of unknown shape. This may consume a large amount of memory.\n",
            "  \"Converting sparse IndexedSlices to a dense Tensor of unknown shape. \"\n"
          ],
          "name": "stderr"
        },
        {
          "output_type": "stream",
          "text": [
            "INFO:tensorflow:Restoring parameters from /content/chembl_activity_models/ChEMBL26_SCN5A_IC50_human_ml_ready/NN_graphconv_scaffold_regression/3876fb3b-acb9-4ac8-8fec-bc1b57948c5c/best_model/model-462\n"
          ],
          "name": "stdout"
        },
        {
          "output_type": "stream",
          "text": [
            "2020-10-13 22:44:40,078 Restoring parameters from /content/chembl_activity_models/ChEMBL26_SCN5A_IC50_human_ml_ready/NN_graphconv_scaffold_regression/3876fb3b-acb9-4ac8-8fec-bc1b57948c5c/best_model/model-462\n"
          ],
          "name": "stderr"
        },
        {
          "output_type": "stream",
          "text": [
            "number of features: 75\n",
            "TIMING: dataset construction took 0.140 s\n",
            "Loading dataset from disk.\n"
          ],
          "name": "stdout"
        },
        {
          "output_type": "execute_result",
          "data": {
            "text/html": [
              "<div>\n",
              "<style scoped>\n",
              "    .dataframe tbody tr th:only-of-type {\n",
              "        vertical-align: middle;\n",
              "    }\n",
              "\n",
              "    .dataframe tbody tr th {\n",
              "        vertical-align: top;\n",
              "    }\n",
              "\n",
              "    .dataframe thead th {\n",
              "        text-align: right;\n",
              "    }\n",
              "</style>\n",
              "<table border=\"1\" class=\"dataframe\">\n",
              "  <thead>\n",
              "    <tr style=\"text-align: right;\">\n",
              "      <th></th>\n",
              "      <th>base_rdkit_smiles_x</th>\n",
              "      <th>compound_id</th>\n",
              "      <th>experimental_values</th>\n",
              "      <th>relation</th>\n",
              "      <th>active</th>\n",
              "      <th>base_rdkit_smiles_y</th>\n",
              "      <th>pred</th>\n",
              "    </tr>\n",
              "  </thead>\n",
              "  <tbody>\n",
              "    <tr>\n",
              "      <th>0</th>\n",
              "      <td>CC[C@H](C)[C@@H]1NC(=O)[C@@H]2CSSC[C@@H]3NC(=O...</td>\n",
              "      <td>CHEMBL3800461</td>\n",
              "      <td>5.165766</td>\n",
              "      <td>NaN</td>\n",
              "      <td>1</td>\n",
              "      <td>CC[C@H](C)[C@@H]1NC(=O)[C@@H]2CSSC[C@@H]3NC(=O...</td>\n",
              "      <td>5.186008</td>\n",
              "    </tr>\n",
              "    <tr>\n",
              "      <th>1</th>\n",
              "      <td>Nc1nc(-c2ccc(NC(=O)[C@H]3CCCN3)cc2)c[nH]1</td>\n",
              "      <td>CHEMBL3113259</td>\n",
              "      <td>4.522879</td>\n",
              "      <td>&lt;</td>\n",
              "      <td>0</td>\n",
              "      <td>Nc1nc(-c2ccc(NC(=O)[C@H]3CCCN3)cc2)c[nH]1</td>\n",
              "      <td>4.820891</td>\n",
              "    </tr>\n",
              "    <tr>\n",
              "      <th>2</th>\n",
              "      <td>COc1cc(C(F)F)c(C2CC2)cc1-c1nccc2cc(S(=O)(=O)Nc...</td>\n",
              "      <td>CHEMBL3687697</td>\n",
              "      <td>4.522879</td>\n",
              "      <td>&lt;</td>\n",
              "      <td>0</td>\n",
              "      <td>COc1cc(C(F)F)c(C2CC2)cc1-c1nccc2cc(S(=O)(=O)Nc...</td>\n",
              "      <td>4.788332</td>\n",
              "    </tr>\n",
              "    <tr>\n",
              "      <th>3</th>\n",
              "      <td>COc1ccccc1-c1c(C#N)cnc2cc(S(=O)(=O)Nc3nccs3)ccc12</td>\n",
              "      <td>CHEMBL3687599</td>\n",
              "      <td>4.522879</td>\n",
              "      <td>&lt;</td>\n",
              "      <td>0</td>\n",
              "      <td>COc1ccccc1-c1c(C#N)cnc2cc(S(=O)(=O)Nc3nccs3)ccc12</td>\n",
              "      <td>4.889140</td>\n",
              "    </tr>\n",
              "    <tr>\n",
              "      <th>4</th>\n",
              "      <td>Cc1cc(C#N)cc(N2CCOc3cc(S(=O)(=O)Nc4nccs4)ccc32)c1</td>\n",
              "      <td>CHEMBL3907373</td>\n",
              "      <td>5.632644</td>\n",
              "      <td>NaN</td>\n",
              "      <td>1</td>\n",
              "      <td>Cc1cc(C#N)cc(N2CCOc3cc(S(=O)(=O)Nc4nccs4)ccc32)c1</td>\n",
              "      <td>5.075671</td>\n",
              "    </tr>\n",
              "    <tr>\n",
              "      <th>...</th>\n",
              "      <td>...</td>\n",
              "      <td>...</td>\n",
              "      <td>...</td>\n",
              "      <td>...</td>\n",
              "      <td>...</td>\n",
              "      <td>...</td>\n",
              "      <td>...</td>\n",
              "    </tr>\n",
              "    <tr>\n",
              "      <th>168</th>\n",
              "      <td>O=C(NCc1ccc(C(F)(F)F)cc1)C1c2ccccc2C(=O)N1CCc1...</td>\n",
              "      <td>CHEMBL2164387</td>\n",
              "      <td>5.795880</td>\n",
              "      <td>NaN</td>\n",
              "      <td>1</td>\n",
              "      <td>O=C(NCc1ccc(C(F)(F)F)cc1)C1c2ccccc2C(=O)N1CCc1...</td>\n",
              "      <td>5.123102</td>\n",
              "    </tr>\n",
              "    <tr>\n",
              "      <th>169</th>\n",
              "      <td>COc1ccc(Cl)c(-c2ccc(NC(=O)c3ccnn3C)nc2N)c1</td>\n",
              "      <td>CHEMBL3589904</td>\n",
              "      <td>4.431798</td>\n",
              "      <td>NaN</td>\n",
              "      <td>1</td>\n",
              "      <td>COc1ccc(Cl)c(-c2ccc(NC(=O)c3ccnn3C)nc2N)c1</td>\n",
              "      <td>5.058215</td>\n",
              "    </tr>\n",
              "    <tr>\n",
              "      <th>170</th>\n",
              "      <td>N#Cc1cc(F)ccc1N1CCOc2cc(S(=O)(=O)Nc3nccs3)ccc21</td>\n",
              "      <td>CHEMBL3955931</td>\n",
              "      <td>5.000000</td>\n",
              "      <td>&lt;</td>\n",
              "      <td>0</td>\n",
              "      <td>N#Cc1cc(F)ccc1N1CCOc2cc(S(=O)(=O)Nc3nccs3)ccc21</td>\n",
              "      <td>5.250429</td>\n",
              "    </tr>\n",
              "    <tr>\n",
              "      <th>171</th>\n",
              "      <td>Clc1cn(Cc2ccccc2)c2ncnc(OC3CCN(Cc4cscn4)CC3)c12</td>\n",
              "      <td>CHEMBL2012181</td>\n",
              "      <td>7.096910</td>\n",
              "      <td>NaN</td>\n",
              "      <td>1</td>\n",
              "      <td>Clc1cn(Cc2ccccc2)c2ncnc(OC3CCN(Cc4cscn4)CC3)c12</td>\n",
              "      <td>6.555266</td>\n",
              "    </tr>\n",
              "    <tr>\n",
              "      <th>172</th>\n",
              "      <td>C=C(N)NCCC[C@@H]1NC(=O)[C@@H]2CSSC[C@H](N)C(=O...</td>\n",
              "      <td>CHEMBL3416888</td>\n",
              "      <td>4.602060</td>\n",
              "      <td>&lt;</td>\n",
              "      <td>0</td>\n",
              "      <td>C=C(N)NCCC[C@@H]1NC(=O)[C@@H]2CSSC[C@H](N)C(=O...</td>\n",
              "      <td>5.400522</td>\n",
              "    </tr>\n",
              "  </tbody>\n",
              "</table>\n",
              "<p>173 rows × 7 columns</p>\n",
              "</div>"
            ],
            "text/plain": [
              "                                   base_rdkit_smiles_x  ...      pred\n",
              "0    CC[C@H](C)[C@@H]1NC(=O)[C@@H]2CSSC[C@@H]3NC(=O...  ...  5.186008\n",
              "1            Nc1nc(-c2ccc(NC(=O)[C@H]3CCCN3)cc2)c[nH]1  ...  4.820891\n",
              "2    COc1cc(C(F)F)c(C2CC2)cc1-c1nccc2cc(S(=O)(=O)Nc...  ...  4.788332\n",
              "3    COc1ccccc1-c1c(C#N)cnc2cc(S(=O)(=O)Nc3nccs3)ccc12  ...  4.889140\n",
              "4    Cc1cc(C#N)cc(N2CCOc3cc(S(=O)(=O)Nc4nccs4)ccc32)c1  ...  5.075671\n",
              "..                                                 ...  ...       ...\n",
              "168  O=C(NCc1ccc(C(F)(F)F)cc1)C1c2ccccc2C(=O)N1CCc1...  ...  5.123102\n",
              "169         COc1ccc(Cl)c(-c2ccc(NC(=O)c3ccnn3C)nc2N)c1  ...  5.058215\n",
              "170    N#Cc1cc(F)ccc1N1CCOc2cc(S(=O)(=O)Nc3nccs3)ccc21  ...  5.250429\n",
              "171    Clc1cn(Cc2ccccc2)c2ncnc(OC3CCN(Cc4cscn4)CC3)c12  ...  6.555266\n",
              "172  C=C(N)NCCC[C@@H]1NC(=O)[C@@H]2CSSC[C@H](N)C(=O...  ...  5.400522\n",
              "\n",
              "[173 rows x 7 columns]"
            ]
          },
          "metadata": {
            "tags": []
          },
          "execution_count": 30
        }
      ]
    },
    {
      "cell_type": "code",
      "metadata": {
        "id": "ePRSqAanEtYV",
        "outputId": "68340e86-bfd3-49f7-abb3-62c96e5fcd6f",
        "colab": {
          "base_uri": "https://localhost:8080/",
          "height": 660
        }
      },
      "source": [
        "import seaborn as sns\n",
        "from scipy.stats import linregress\n",
        "import matplotlib.pyplot as plt\n",
        "\n",
        "slope, intercept, r_value, p_value, std_err = linregress(mergedf[\"pred\"], mergedf[\"experimental_values\"])\n",
        "\n",
        "fig, ax = plt.subplots(1,1,figsize=(10,10))\n",
        "sns.scatterplot(data=mergedf, x=\"pred\", y=\"experimental_values\")\n",
        "ax.set_title(f\"y={slope:.3f}x+{intercept:.3f}\\n R^2: {r_value**2:.3f}\")"
      ],
      "execution_count": 38,
      "outputs": [
        {
          "output_type": "execute_result",
          "data": {
            "text/plain": [
              "Text(0.5, 1.0, 'y=1.074x+-0.387\\n R^2: 0.441')"
            ]
          },
          "metadata": {
            "tags": []
          },
          "execution_count": 38
        },
        {
          "output_type": "display_data",
          "data": {
            "image/png": "[encoded data removed]",
            "text/plain": [
              "<Figure size 720x720 with 1 Axes>"
            ]
          },
          "metadata": {
            "tags": [],
            "needs_background": "light"
          }
        }
      ]
    }
  ]
}