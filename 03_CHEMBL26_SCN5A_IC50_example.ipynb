{
  "nbformat": 4,
  "nbformat_minor": 0,
  "metadata": {
    "colab": {
      "name": "03_CHEMBL26_SCN5A_IC50_example.ipynb",
      "provenance": [],
      "collapsed_sections": [],
      "toc_visible": true,
      "include_colab_link": true
    },
    "kernelspec": {
      "name": "python3",
      "display_name": "Python 3"
    },
    "accelerator": "GPU"
  },
  "cells": [
    {
      "cell_type": "markdown",
      "metadata": {
        "id": "view-in-github",
        "colab_type": "text"
      },
      "source": [
        "<a href=\"https://colab.research.google.com/github/ravichas/AMPL-Tutorial/blob/master/03_CHEMBL26_SCN5A_IC50_example.ipynb\" target=\"_parent\"><img src=\"https://colab.research.google.com/assets/colab-badge.svg\" alt=\"Open In Colab\"/></a>"
      ]
    },
    {
      "cell_type": "markdown",
      "metadata": {
        "id": "DKOt6zePpD62"
      },
      "source": [
        "<h1>Building a Graph Convolutional Network Model for Drug Response Prediction</h1>\n",
        "\n",
        "The ATOM Modeling PipeLine (AMPL; https://github.com/ATOMconsortium/AMPL) is an open-source, modular, extensible software pipeline for building and sharing models to advance in silico drug discovery.\n",
        "\n",
        "**Warning: This is an experimental notebook**\n",
        "\n",
        "AMPL is using Python 3.6.7 while Colab is currently using 3.6.9 listed below so they do not currently match. Your mileage may vary."
      ]
    },
    {
      "cell_type": "markdown",
      "metadata": {
        "id": "7sGiIPZCi0Cb"
      },
      "source": [
        "## Please change your runtime to GPU \n",
        "\n",
        "Go to **Runtime** --> Change **runtime type** to \"GPU\"\n"
      ]
    },
    {
      "cell_type": "markdown",
      "metadata": {
        "id": "aRXuj2Dsj8wR"
      },
      "source": [
        "## Goal: Use AMPL for predicting binding affinities -IC50 values- of ligands that could bind to human **Sodium channel protein type 5 subunit alpha** protein using Graph Convolutional Network Model. chEMBL database is the source of the binding affinities (pIC50).\n",
        "\n",
        "In this notebook, we describe the following steps using AMPL:\n",
        "\n",
        "1.   Read a ML ready dataset\n",
        "2.   Fit a Graph Convolutional model\n",
        "3.   Predict pIC50 values of withheld compounds"
      ]
    },
    {
      "cell_type": "markdown",
      "metadata": {
        "id": "hT1bl6hojskE"
      },
      "source": [
        "## Set up\n",
        "We first import the AMPL modules for use in this notebook.\n",
        "\n",
        "The relevant AMPL modules for this example are listed below:\n",
        "\n",
        "|module|Description|\n",
        "|-|-|\n",
        "|`atomsci.ddm.pipeline.model_pipeline`|The model pipeline module is used to fit models and load models for prediction.|\n",
        "|`atomsci.ddm.pipeline.parameter_parser`|The parameter parser reads through pipeline options for the model pipeline.|\n",
        "|`atomsci.ddm.utils.curate_data`|The curate data module is used for data loading and pre-processing.|\n",
        "|`atomsci.ddm.utils.struct_utils`|The structure utilities module is used to process loaded structures.|\n",
        "\n",
        "\n",
        "import atomsci.ddm.pipeline.compare_models as cmp\n",
        "import atomsci.ddm.pipeline.model_pipeline as mp\n",
        "import atomsci.ddm.pipeline.parameter_parser as parse"
      ]
    },
    {
      "cell_type": "markdown",
      "metadata": {
        "id": "tsDTjWhwcgWG"
      },
      "source": [
        "## Install AMPL "
      ]
    },
    {
      "cell_type": "code",
      "metadata": {
        "id": "ZOdCTKDjjcMf",
        "outputId": "577c654a-0373-4a0b-f0da-1f946a988c80",
        "colab": {
          "base_uri": "https://localhost:8080/",
          "height": 1000
        }
      },
      "source": [
        "import requests\n",
        "\n",
        "# Copy AMPL install script\n",
        "url='https://raw.githubusercontent.com/ravichas/AMPL-Tutorial/master/config/install_AMPL_GPU.sh'\n",
        "\n",
        "downloaded_obj = requests.get(url)\n",
        "with open(\"install_AMPL_GPU.sh\", \"wb\") as file:\n",
        "    file.write(downloaded_obj.content)\n",
        "\n",
        "\n",
        "# Install AMPL\n",
        "!chmod u+x install_AMPL_GPU.sh\n",
        "!time ./install_AMPL_GPU.sh\n",
        "import sys\n",
        "if '/content/AMPL/lib/python3.6/site-packages' not in sys.path:\n",
        "    sys.path.insert(1, '/content/AMPL/lib/python3.6/site-packages')"
      ],
      "execution_count": 1,
      "outputs": [
        {
          "output_type": "stream",
          "text": [
            "--2020-10-13 20:04:57--  https://repo.anaconda.com/miniconda/Miniconda3-latest-Linux-x86_64.sh\n",
            "Resolving repo.anaconda.com (repo.anaconda.com)... 104.16.130.3, 104.16.131.3, 2606:4700::6810:8203, ...\n",
            "Connecting to repo.anaconda.com (repo.anaconda.com)|104.16.130.3|:443... connected.\n",
            "HTTP request sent, awaiting response... 200 OK\n",
            "Length: 93052469 (89M) [application/x-sh]\n",
            "Saving to: ‘Miniconda3-latest-Linux-x86_64.sh’\n",
            "\n",
            "Miniconda3-latest-L 100%[===================>]  88.74M   220MB/s    in 0.4s    \n",
            "\n",
            "2020-10-13 20:04:58 (220 MB/s) - ‘Miniconda3-latest-Linux-x86_64.sh’ saved [93052469/93052469]\n",
            "\n",
            "PREFIX=/content/AMPL\n",
            "Unpacking payload ...\n",
            "Collecting package metadata (current_repodata.json): - \b\b\\ \b\b| \b\bdone\n",
            "Solving environment: - \b\b\\ \b\bdone\n",
            "\n",
            "## Package Plan ##\n",
            "\n",
            "  environment location: /content/AMPL\n",
            "\n",
            "  added / updated specs:\n",
            "    - _libgcc_mutex==0.1=main\n",
            "    - ca-certificates==2020.1.1=0\n",
            "    - certifi==2020.4.5.1=py38_0\n",
            "    - cffi==1.14.0=py38he30daa8_1\n",
            "    - chardet==3.0.4=py38_1003\n",
            "    - conda-package-handling==1.6.1=py38h7b6447c_0\n",
            "    - conda==4.8.3=py38_0\n",
            "    - cryptography==2.9.2=py38h1ba5d50_0\n",
            "    - idna==2.9=py_1\n",
            "    - ld_impl_linux-64==2.33.1=h53a641e_7\n",
            "    - libedit==3.1.20181209=hc058e9b_0\n",
            "    - libffi==3.3=he6710b0_1\n",
            "    - libgcc-ng==9.1.0=hdf63c60_0\n",
            "    - libstdcxx-ng==9.1.0=hdf63c60_0\n",
            "    - ncurses==6.2=he6710b0_1\n",
            "    - openssl==1.1.1g=h7b6447c_0\n",
            "    - pip==20.0.2=py38_3\n",
            "    - pycosat==0.6.3=py38h7b6447c_1\n",
            "    - pycparser==2.20=py_0\n",
            "    - pyopenssl==19.1.0=py38_0\n",
            "    - pysocks==1.7.1=py38_0\n",
            "    - python==3.8.3=hcff3b4d_0\n",
            "    - readline==8.0=h7b6447c_0\n",
            "    - requests==2.23.0=py38_0\n",
            "    - ruamel_yaml==0.15.87=py38h7b6447c_0\n",
            "    - setuptools==46.4.0=py38_0\n",
            "    - six==1.14.0=py38_0\n",
            "    - sqlite==3.31.1=h62c20be_1\n",
            "    - tk==8.6.8=hbc83047_0\n",
            "    - tqdm==4.46.0=py_0\n",
            "    - urllib3==1.25.8=py38_0\n",
            "    - wheel==0.34.2=py38_0\n",
            "    - xz==5.2.5=h7b6447c_0\n",
            "    - yaml==0.1.7=had09818_2\n",
            "    - zlib==1.2.11=h7b6447c_3\n",
            "\n",
            "\n",
            "The following NEW packages will be INSTALLED:\n",
            "\n",
            "  _libgcc_mutex      pkgs/main/linux-64::_libgcc_mutex-0.1-main\n",
            "  ca-certificates    pkgs/main/linux-64::ca-certificates-2020.1.1-0\n",
            "  certifi            pkgs/main/linux-64::certifi-2020.4.5.1-py38_0\n",
            "  cffi               pkgs/main/linux-64::cffi-1.14.0-py38he30daa8_1\n",
            "  chardet            pkgs/main/linux-64::chardet-3.0.4-py38_1003\n",
            "  conda              pkgs/main/linux-64::conda-4.8.3-py38_0\n",
            "  conda-package-han~ pkgs/main/linux-64::conda-package-handling-1.6.1-py38h7b6447c_0\n",
            "  cryptography       pkgs/main/linux-64::cryptography-2.9.2-py38h1ba5d50_0\n",
            "  idna               pkgs/main/noarch::idna-2.9-py_1\n",
            "  ld_impl_linux-64   pkgs/main/linux-64::ld_impl_linux-64-2.33.1-h53a641e_7\n",
            "  libedit            pkgs/main/linux-64::libedit-3.1.20181209-hc058e9b_0\n",
            "  libffi             pkgs/main/linux-64::libffi-3.3-he6710b0_1\n",
            "  libgcc-ng          pkgs/main/linux-64::libgcc-ng-9.1.0-hdf63c60_0\n",
            "  libstdcxx-ng       pkgs/main/linux-64::libstdcxx-ng-9.1.0-hdf63c60_0\n",
            "  ncurses            pkgs/main/linux-64::ncurses-6.2-he6710b0_1\n",
            "  openssl            pkgs/main/linux-64::openssl-1.1.1g-h7b6447c_0\n",
            "  pip                pkgs/main/linux-64::pip-20.0.2-py38_3\n",
            "  pycosat            pkgs/main/linux-64::pycosat-0.6.3-py38h7b6447c_1\n",
            "  pycparser          pkgs/main/noarch::pycparser-2.20-py_0\n",
            "  pyopenssl          pkgs/main/linux-64::pyopenssl-19.1.0-py38_0\n",
            "  pysocks            pkgs/main/linux-64::pysocks-1.7.1-py38_0\n",
            "  python             pkgs/main/linux-64::python-3.8.3-hcff3b4d_0\n",
            "  readline           pkgs/main/linux-64::readline-8.0-h7b6447c_0\n",
            "  requests           pkgs/main/linux-64::requests-2.23.0-py38_0\n",
            "  ruamel_yaml        pkgs/main/linux-64::ruamel_yaml-0.15.87-py38h7b6447c_0\n",
            "  setuptools         pkgs/main/linux-64::setuptools-46.4.0-py38_0\n",
            "  six                pkgs/main/linux-64::six-1.14.0-py38_0\n",
            "  sqlite             pkgs/main/linux-64::sqlite-3.31.1-h62c20be_1\n",
            "  tk                 pkgs/main/linux-64::tk-8.6.8-hbc83047_0\n",
            "  tqdm               pkgs/main/noarch::tqdm-4.46.0-py_0\n",
            "  urllib3            pkgs/main/linux-64::urllib3-1.25.8-py38_0\n",
            "  wheel              pkgs/main/linux-64::wheel-0.34.2-py38_0\n",
            "  xz                 pkgs/main/linux-64::xz-5.2.5-h7b6447c_0\n",
            "  yaml               pkgs/main/linux-64::yaml-0.1.7-had09818_2\n",
            "  zlib               pkgs/main/linux-64::zlib-1.2.11-h7b6447c_3\n",
            "\n",
            "\n",
            "Preparing transaction: / \b\b- \b\b\\ \b\bdone\n",
            "Executing transaction: / \b\b- \b\b\\ \b\b| \b\b/ \b\b- \b\b\\ \b\b| \b\b/ \b\bdone\n",
            "installation finished.\n",
            "WARNING:\n",
            "    You currently have a PYTHONPATH environment variable set. This may cause\n",
            "    unexpected behavior when running the Python interpreter in Miniconda3.\n",
            "    For best results, please verify that your PYTHONPATH only points to\n",
            "    directories of packages that are compatible with the Python interpreter\n",
            "    in Miniconda3: /content/AMPL\n",
            "\n",
            "Downloading and Extracting Packages\n",
            "_libgcc_mutex-0.1    | : 100% 1.0/1 [00:00<00:00,  6.13it/s]\n",
            "ca-certificates-2020 | : 100% 1.0/1 [00:00<00:00, 15.33it/s]\n",
            "cudatoolkit-9.0      | : 100% 1.0/1 [00:05<00:00,  5.48s/it]               \n",
            "fftw3f-3.3.4         | : 100% 1.0/1 [00:01<00:00,  1.20s/it]\n",
            "libgfortran-3.0.0    | : 100% 1.0/1 [00:00<00:00, 10.95it/s]\n",
            "libgfortran-ng-7.5.0 | : 100% 1.0/1 [00:00<00:00,  3.35it/s]\n",
            "libstdcxx-ng-9.2.0   | : 100% 1.0/1 [00:00<00:00,  1.54it/s]\n",
            "pandoc-2.9.2.1       | : 100% 1.0/1 [00:04<00:00,  2.07s/it]               \n",
            "cudnn-7.6.5          | : 100% 1.0/1 [00:07<00:00,  7.16s/it]               \n",
            "cupti-9.0.176        | : 100% 1.0/1 [00:06<00:00,  6.94s/it]\n",
            "libgomp-9.2.0        | : 100% 1.0/1 [00:00<00:00,  7.33it/s]\n",
            "openblas-0.2.20      | : 100% 1.0/1 [00:03<00:00,  1.64s/it]               \n",
            "_openmp_mutex-4.5    | : 100% 1.0/1 [00:00<00:00, 12.09it/s]\n",
            "blas-1.1             | : 100% 1.0/1 [00:00<00:00, 25.07it/s]\n",
            "libgcc-ng-9.2.0      | : 100% 1.0/1 [00:01<00:00,  1.27s/it]\n",
            "blosc-1.18.1         | : 100% 1.0/1 [00:00<00:00,  5.67it/s]\n",
            "bzip2-1.0.8          | : 100% 1.0/1 [00:00<00:00,  9.37it/s]\n",
            "c-ares-1.15.0        | : 100% 1.0/1 [00:00<00:00, 17.96it/s]\n",
            "expat-2.2.9          | : 100% 1.0/1 [00:00<00:00, 15.28it/s]\n",
            "icu-58.2             | : 100% 1.0/1 [00:03<00:00,  3.76s/it]               \n",
            "jpeg-9c              | : 100% 1.0/1 [00:00<00:00, 12.82it/s]\n",
            "libffi-3.2.1         | : 100% 1.0/1 [00:00<00:00, 24.73it/s]\n",
            "libiconv-1.15        | : 100% 1.0/1 [00:00<00:00,  3.65it/s]\n",
            "libllvm8-8.0.1       | : 100% 1.0/1 [00:03<00:00,  3.80s/it]               \n",
            "libsodium-1.0.17     | : 100% 1.0/1 [00:00<00:00, 10.24it/s]\n",
            "libuuid-2.32.1       | : 100% 1.0/1 [00:00<00:00, 17.67it/s]\n",
            "lzo-2.10             | : 100% 1.0/1 [00:00<00:00, 10.39it/s]\n",
            "ncurses-6.1          | : 100% 1.0/1 [00:00<00:00,  2.34it/s]\n",
            "openssl-1.0.2u       | : 100% 1.0/1 [00:00<00:00,  1.69it/s]              \n",
            "pcre-8.44            | : 100% 1.0/1 [00:00<00:00, 10.26it/s]\n",
            "pixman-0.34.0        | : 100% 1.0/1 [00:00<00:00,  8.65it/s]\n",
            "pthread-stubs-0.4    | : 100% 1.0/1 [00:00<00:00, 27.45it/s]\n",
            "tbb-2020.1           | : 100% 1.0/1 [00:00<00:00,  4.36it/s]\n",
            "xorg-kbproto-1.0.7   | : 100% 1.0/1 [00:00<00:00, 22.18it/s]\n",
            "xorg-libice-1.0.10   | : 100% 1.0/1 [00:00<00:00, 26.29it/s]\n",
            "xorg-libxau-1.0.9    | : 100% 1.0/1 [00:00<00:00, 31.34it/s]\n",
            "xorg-libxdmcp-1.1.3  | : 100% 1.0/1 [00:00<00:00, 30.59it/s]\n",
            "xorg-renderproto-0.1 | : 100% 1.0/1 [00:00<00:00, 35.44it/s]\n",
            "xorg-xextproto-7.3.0 | : 100% 1.0/1 [00:00<00:00, 29.22it/s]\n",
            "xorg-xproto-7.0.31   | : 100% 1.0/1 [00:00<00:00, 17.78it/s]\n",
            "xz-5.2.5             | : 100% 1.0/1 [00:00<00:00,  9.27it/s]\n",
            "yaml-0.2.4           | : 100% 1.0/1 [00:00<00:00, 20.35it/s]\n",
            "zlib-1.2.11          | : 100% 1.0/1 [00:00<00:00, 17.93it/s]\n",
            "dbus-1.13.0          | : 100% 1.0/1 [00:00<00:00,  7.70it/s]\n",
            "gettext-0.19.8.1     | : 100% 1.0/1 [00:00<00:00,  1.13it/s]\n",
            "hdf5-1.10.6          | : 100% 1.0/1 [00:00<00:00,  1.98it/s]\n",
            "libpng-1.6.37        | : 100% 1.0/1 [00:00<00:00, 11.24it/s]\n",
            "libprotobuf-3.12.1   | : 100% 1.0/1 [00:00<00:00,  1.05it/s]\n",
            "libtiff-4.0.9        | : 100% 1.0/1 [00:00<00:00,  8.16it/s]\n",
            "libxcb-1.13          | : 100% 1.0/1 [00:00<00:00,  7.71it/s]\n",
            "libxml2-2.9.9        | : 100% 1.0/1 [00:00<00:00,  3.07it/s]\n",
            "readline-7.0         | : 100% 1.0/1 [00:00<00:00,  9.92it/s]\n",
            "tk-8.6.10            | : 100% 1.0/1 [00:00<00:00,  1.88it/s]               \n",
            "xorg-libsm-1.2.3     | : 100% 1.0/1 [00:00<00:00, 31.95it/s]\n",
            "zeromq-4.3.2         | : 100% 1.0/1 [00:00<00:00,  6.52it/s]\n",
            "freetype-2.8.1       | : 100% 1.0/1 [00:00<00:00,  5.38it/s]\n",
            "glib-2.55.0          | : 100% 1.0/1 [00:01<00:00,  1.41s/it]\n",
            "sqlite-3.28.0        | : 100% 1.0/1 [00:00<00:00,  3.00it/s]\n",
            "xorg-libx11-1.6.9    | : 100% 1.0/1 [00:00<00:00,  5.64it/s]\n",
            "fontconfig-2.13.0    | : 100% 1.0/1 [00:00<00:00, 10.47it/s]\n",
            "gstreamer-1.12.5     | : 100% 1.0/1 [00:00<00:00,  2.58it/s]\n",
            "python-3.6.7         | : 100% 1.0/1 [00:04<00:00,  4.72s/it]               \n",
            "xorg-libxext-1.3.4   | : 100% 1.0/1 [00:00<00:00,  7.04it/s]                \n",
            "xorg-libxrender-0.9. | : 100% 1.0/1 [00:00<00:00, 13.37it/s]\n",
            "astor-0.7.1          | : 100% 1.0/1 [00:00<00:00, 18.94it/s]\n",
            "attrs-19.3.0         | : 100% 1.0/1 [00:00<00:00, 25.51it/s]\n",
            "backcall-0.1.0       | : 100% 1.0/1 [00:00<00:00, 28.48it/s]\n",
            "cairo-1.14.12        | : 100% 1.0/1 [00:00<00:00,  3.22it/s]\n",
            "decorator-4.4.2      | : 100% 1.0/1 [00:00<00:00, 29.84it/s]\n",
            "defusedxml-0.6.0     | : 100% 1.0/1 [00:00<00:00, 22.05it/s]\n",
            "gast-0.3.3           | : 100% 1.0/1 [00:00<00:00, 29.59it/s]\n",
            "gst-plugins-base-1.1 | : 100% 1.0/1 [00:00<00:00,  1.72it/s]                \n",
            "idna-2.6             | : 100% 1.0/1 [00:00<00:00, 18.51it/s]\n",
            "ipython_genutils-0.2 | : 100% 1.0/1 [00:00<00:00, 23.89it/s]\n",
            "joblib-0.11          | : 100% 1.0/1 [00:00<00:00, 11.16it/s]\n",
            "jsonref-0.2          | : 100% 1.0/1 [00:00<00:00, 21.57it/s]\n",
            "monotonic-1.5        | : 100% 1.0/1 [00:00<00:00, 28.15it/s]\n",
            "more-itertools-8.3.0 | : 100% 1.0/1 [00:00<00:00, 25.19it/s]\n",
            "msgpack-python-0.5.5 | : 100% 1.0/1 [00:00<00:00, 12.95it/s]\n",
            "numpy-1.15.2         | : 100% 1.0/1 [00:01<00:00,  1.43s/it]               \n",
            "olefile-0.46         | : 100% 1.0/1 [00:00<00:00, 25.55it/s]\n",
            "pandocfilters-1.4.2  | : 100% 1.0/1 [00:00<00:00, 35.28it/s]\n",
            "parso-0.7.0          | : 100% 1.0/1 [00:00<00:00, 21.79it/s]\n",
            "prometheus_client-0. | : 100% 1.0/1 [00:00<00:00, 27.82it/s]\n",
            "ptyprocess-0.6.0     | : 100% 1.0/1 [00:00<00:00, 27.25it/s]\n",
            "py-1.8.1             | : 100% 1.0/1 [00:00<00:00, 17.70it/s]\n",
            "pycparser-2.20       | : 100% 1.0/1 [00:00<00:00, 14.92it/s]\n",
            "pyparsing-2.4.7      | : 100% 1.0/1 [00:00<00:00, 27.17it/s]\n",
            "python_abi-3.6       | : 100% 1.0/1 [00:00<00:00, 34.90it/s]\n",
            "pytz-2020.1          | : 100% 1.0/1 [00:00<00:00,  9.81it/s]\n",
            "qtpy-1.9.0           | : 100% 1.0/1 [00:00<00:00, 25.15it/s]\n",
            "send2trash-1.5.0     | : 100% 1.0/1 [00:00<00:00, 33.20it/s]\n",
            "sip-4.18.1           | : 100% 1.0/1 [00:00<00:00, 14.62it/s]\n",
            "six-1.15.0           | : 100% 1.0/1 [00:00<00:00, 35.47it/s]\n",
            "termcolor-1.1.0      | : 100% 1.0/1 [00:00<00:00, 35.19it/s]\n",
            "testpath-0.4.4       | : 100% 1.0/1 [00:00<00:00, 26.64it/s]\n",
            "tqdm-4.46.0          | : 100% 1.0/1 [00:00<00:00, 27.80it/s]\n",
            "wcwidth-0.1.9        | : 100% 1.0/1 [00:00<00:00, 33.20it/s]\n",
            "webencodings-0.5.1   | : 100% 1.0/1 [00:00<00:00, 34.63it/s]\n",
            "werkzeug-1.0.1       | : 100% 1.0/1 [00:00<00:00, 13.88it/s]\n",
            "zipp-3.1.0           | : 100% 1.0/1 [00:00<00:00, 27.50it/s]\n",
            "absl-py-0.9.0        | : 100% 1.0/1 [00:00<00:00, 13.36it/s]\n",
            "asn1crypto-1.3.0     | : 100% 1.0/1 [00:00<00:00, 14.59it/s]\n",
            "boost-1.63.0         | : 100% 1.0/1 [00:04<00:00,  4.59s/it]\n",
            "certifi-2020.4.5.1   | : 100% 1.0/1 [00:00<00:00, 16.50it/s]\n",
            "cffi-1.14.0          | : 100% 1.0/1 [00:00<00:00, 14.08it/s]\n",
            "chardet-3.0.4        | : 100% 1.0/1 [00:00<00:00, 14.62it/s]\n",
            "conda-package-handli | : 100% 1.0/1 [00:00<00:00,  6.08it/s]\n",
            "cycler-0.10.0        | : 100% 1.0/1 [00:00<00:00, 34.96it/s]\n",
            "cython-0.29.19       | : 100% 1.0/1 [00:00<00:00,  2.23it/s]\n",
            "entrypoints-0.3      | : 100% 1.0/1 [00:00<00:00, 29.92it/s]\n",
            "html5lib-0.9999999   | : 100% 1.0/1 [00:00<00:00, 13.74it/s]\n",
            "importlib-metadata-1 | : 100% 1.0/1 [00:00<00:00, 25.91it/s]\n",
            "jedi-0.17.0          | : 100% 1.0/1 [00:00<00:00,  3.19it/s]\n",
            "kiwisolver-1.2.0     | : 100% 1.0/1 [00:00<00:00, 18.29it/s]\n",
            "llvmlite-0.32.0      | : 100% 1.0/1 [00:00<00:00, 10.33it/s]\n",
            "markupsafe-1.1.1     | : 100% 1.0/1 [00:00<00:00, 27.58it/s]\n",
            "mistune-0.8.4        | : 100% 1.0/1 [00:00<00:00, 20.75it/s]\n",
            "mock-4.0.2           | : 100% 1.0/1 [00:00<00:00, 24.22it/s]\n",
            "packaging-20.4       | : 100% 1.0/1 [00:00<00:00, 22.59it/s]\n",
            "pexpect-4.8.0        | : 100% 1.0/1 [00:00<00:00, 22.48it/s]\n",
            "pickleshare-0.7.5    | : 100% 1.0/1 [00:00<00:00, 33.07it/s]\n",
            "pillow-5.0.0         | : 100% 1.0/1 [00:00<00:00,  4.64it/s]\n",
            "pycosat-0.6.3        | : 100% 1.0/1 [00:00<00:00, 16.50it/s]\n",
            "pyrsistent-0.16.0    | : 100% 1.0/1 [00:00<00:00, 21.04it/s]\n",
            "pysocks-1.7.1        | : 100% 1.0/1 [00:00<00:00, 27.22it/s]\n",
            "python-dateutil-2.8. | : 100% 1.0/1 [00:00<00:00, 16.04it/s]\n",
            "pyyaml-5.3.1         | : 100% 1.0/1 [00:00<00:00, 11.72it/s]\n",
            "pyzmq-19.0.1         | : 100% 1.0/1 [00:00<00:00,  6.22it/s]\n",
            "qt-5.6.2             | : 100% 1.0/1 [00:01<00:00,  1.03it/s]               \n",
            "ruamel_yaml-0.15.80  | : 100% 1.0/1 [00:00<00:00, 11.09it/s]\n",
            "scipy-1.1.0          | : 100% 1.0/1 [00:06<00:00,  6.27s/it]               \n",
            "simplejson-3.17.0    | : 100% 1.0/1 [00:00<00:00, 17.48it/s]\n",
            "tornado-6.0.4        | : 100% 1.0/1 [00:00<00:00,  5.25it/s]\n",
            "traitlets-4.3.3      | : 100% 1.0/1 [00:00<00:00, 16.10it/s]\n",
            "bleach-1.5.0         | : 100% 1.0/1 [00:00<00:00, 23.72it/s]\n",
            "cryptography-2.5     | : 100% 1.0/1 [00:00<00:00,  5.92it/s]\n",
            "importlib_metadata-1 | : 100% 1.0/1 [00:00<00:00, 18.97it/s]\n",
            "jupyter_core-4.6.3   | : 100% 1.0/1 [00:00<00:00, 17.03it/s]\n",
            "markdown-3.2.2       | : 100% 1.0/1 [00:00<00:00, 18.39it/s]\n",
            "openmm-7.4.2         | : 100% 1.0/1 [00:02<00:00,  2.79s/it]\n",
            "pandas-0.22.0        | : 100% 1.0/1 [00:04<00:00,  5.51s/it]               \n",
            "patsy-0.5.1          | : 100% 1.0/1 [00:00<00:00, 13.34it/s]\n",
            "pyqt-5.6.0           | : 100% 1.0/1 [00:01<00:00,  1.22s/it]               \n",
            "scikit-learn-0.19.1  | : 100% 1.0/1 [00:02<00:00,  2.18s/it]               \n",
            "setuptools-47.1.1    | : 100% 1.0/1 [00:00<00:00,  6.03it/s]\n",
            "terminado-0.8.3      | : 100% 1.0/1 [00:00<00:00, 26.57it/s]\n",
            "xgboost-0.6a2        | : 100% 1.0/1 [00:00<00:00,  4.32it/s]\n",
            "anyconfig-0.9.10     | : 100% 1.0/1 [00:00<00:00, 19.06it/s]\n",
            "grpcio-1.16.0        | : 100% 1.0/1 [00:00<00:00,  5.13it/s]\n",
            "jinja2-2.11.2        | : 100% 1.0/1 [00:00<00:00, 20.04it/s]\n",
            "jsonschema-3.2.0     | : 100% 1.0/1 [00:00<00:00, 21.69it/s]\n",
            "jupyter_client-6.1.3 | : 100% 1.0/1 [00:00<00:00, 19.35it/s]\n",
            "matplotlib-2.2.2     | : 100% 1.0/1 [00:00<00:00,  4.68it/s]\n",
            "networkx-2.1         | : 100% 1.0/1 [00:00<00:00,  3.80it/s]\n",
            "numba-0.49.1         | : 100% 1.0/1 [00:00<00:00,  1.16it/s]\n",
            "numexpr-2.7.1        | : 100% 1.0/1 [00:00<00:00, 11.59it/s]\n",
            "pdbfixer-1.4         | : 100% 1.0/1 [00:00<00:00,  2.09it/s]\n",
            "pluggy-0.13.1        | : 100% 1.0/1 [00:00<00:00, 21.47it/s]\n",
            "protobuf-3.12.1      | : 100% 1.0/1 [00:00<00:00,  4.32it/s]\n",
            "pygments-2.6.1       | : 100% 1.0/1 [00:00<00:00,  5.48it/s]\n",
            "pyopenssl-19.0.0     | : 100% 1.0/1 [00:00<00:00, 19.04it/s]\n",
            "rdkit-2017.09.1      | : 100% 1.0/1 [01:03<00:00, 63.23s/it]\n",
            "statsmodels-0.10.2   | : 100% 1.0/1 [00:01<00:00,  1.12s/it]                \n",
            "wheel-0.34.2         | : 100% 1.0/1 [00:00<00:00, 23.78it/s]\n",
            "molvs-0.1.1          | : 100% 1.0/1 [00:00<00:00, 19.67it/s]\n",
            "mordred-1.2.0        | : 100% 1.0/1 [00:00<00:00, 14.65it/s]\n",
            "nbformat-5.0.6       | : 100% 1.0/1 [00:00<00:00, 13.63it/s]\n",
            "pip-20.1.1           | : 100% 1.0/1 [00:00<00:00,  3.70it/s]\n",
            "prompt-toolkit-3.0.5 | : 100% 1.0/1 [00:00<00:00, 11.03it/s]\n",
            "pytables-3.6.1       | : 100% 1.0/1 [00:00<00:00,  2.73it/s]\n",
            "pytest-5.4.2         | : 100% 1.0/1 [00:00<00:00,  8.61it/s]\n",
            "seaborn-0.10.0       | : 100% 1.0/1 [00:00<00:00, 12.54it/s]\n",
            "simdna-0.4.2         | : 100% 1.0/1 [00:00<00:00,  4.23it/s]\n",
            "swagger-spec-validat | : 100% 1.0/1 [00:00<00:00,  9.15it/s]               \n",
            "tensorboard-1.6.0    | : 100% 1.0/1 [00:00<00:00,  2.64it/s]\n",
            "tensorflow-gpu-base- | : 100% 1.0/1 [00:04<00:00,  4.67s/it]               \n",
            "umap-learn-0.4.2     | : 100% 1.0/1 [00:00<00:00, 11.30it/s]\n",
            "urllib3-1.22         | : 100% 1.0/1 [00:00<00:00,  9.71it/s]\n",
            "bravado-core-5.16.0  | : 100% 1.0/1 [00:00<00:00, 15.58it/s]\n",
            "ipython-7.15.0       | : 100% 1.0/1 [00:00<00:00,  3.22it/s]\n",
            "mdtraj-1.9.1         | : 100% 1.0/1 [00:01<00:00,  1.24s/it]\n",
            "nbconvert-5.6.1      | : 100% 1.0/1 [00:00<00:00,  7.91it/s]\n",
            "prompt_toolkit-3.0.5 | : 100% 1.0/1 [00:00<00:00, 23.31it/s]\n",
            "requests-2.18.4      | : 100% 1.0/1 [00:00<00:00, 22.94it/s]\n",
            "tensorflow-gpu-1.6.0 | : 100% 1.0/1 [00:00<00:00, 20.92it/s]\n",
            "bravado-10.4.3       | : 100% 1.0/1 [00:00<00:00, 25.98it/s]\n",
            "conda-4.8.3          | : 100% 1.0/1 [00:00<00:00,  1.76it/s]\n",
            "ipykernel-5.3.0      | : 100% 1.0/1 [00:00<00:00, 15.01it/s]\n",
            "jupyter_console-6.1. | : 100% 1.0/1 [00:00<00:00, 29.46it/s]\n",
            "notebook-6.0.3       | : 100% 1.0/1 [00:01<00:00,  1.36s/it]               \n",
            "qtconsole-4.7.4      | : 100% 1.0/1 [00:00<00:00, 18.27it/s]\n",
            "widgetsnbextension-3 | : 100% 1.0/1 [00:00<00:00,  2.16it/s]\n",
            "ipywidgets-7.5.1     | : 100% 1.0/1 [00:00<00:00, 20.55it/s]\n",
            "jupyter-1.0.0        | : 100% 1.0/1 [00:00<00:00, 34.33it/s]\n",
            "deepchem-gpu-2.1.0   | : 100% 1.0/1 [00:00<00:00,  2.03it/s]\n",
            "Preparing transaction: - \b\b\\ \b\b| \b\b/ \b\b- \b\b\\ \b\b| \b\b/ \b\b- \b\b\\ \b\b| \b\b/ \b\b- \b\b\\ \b\b| \b\b/ \b\b- \b\b\\ \b\b| \b\b/ \b\bdone\n",
            "Verifying transaction: \\ \b\b| \b\b/ \b\b- \b\b\\ \b\b| \b\b/ \b\b- \b\b\\ \b\b| \b\b/ \b\b- \b\b\\ \b\b| \b\b/ \b\b- \b\b\\ \b\b| \b\b/ \b\b- \b\b\\ \b\b| \b\b/ \b\b- \b\b\\ \b\b| \b\b/ \b\b- \b\b\\ \b\b| \b\b/ \b\b- \b\b\\ \b\b| \b\b/ \b\b- \b\b\\ \b\b| \b\b/ \b\b- \b\b\\ \b\b| \b\b/ \b\b- \b\b\\ \b\b| \b\b/ \b\b- \b\b\\ \b\b| \b\b/ \b\b- \b\b\\ \b\b| \b\b/ \b\b- \b\b\\ \b\b| \b\b/ \b\b- \b\b\\ \b\b| \b\b/ \b\b- \b\b\\ \b\b| \b\b/ \b\b- \b\b\\ \b\b| \b\b/ \b\b- \b\b\\ \b\b| \b\b/ \b\b- \b\b\\ \b\b| \b\b/ \b\b- \b\b\\ \b\b| \b\b/ \b\bdone\n",
            "Executing transaction: \\ \b\b| \b\b/ \b\b- \b\b\\ \b\b| \b\b/ \b\b- \b\b\\ \b\b| \b\b/ \b\b- \b\b\\ \b\b| \b\b/ \b\b- \b\b\\ \b\b| \b\b/ \b\b- \b\b\\ \b\b| \b\b/ \b\b- \b\b\\ \b\b| \b\b/ \b\b- \b\b\\ \b\b| \b\b/ \b\b- \b\b\\ \b\b| \b\b/ b'Enabling notebook extension jupyter-js-widgets/extension...\\nPaths used for configuration of notebook: \\n    \\t/content/AMPL/etc/jupyter/nbconfig/notebook.d/widgetsnbextension.json\\n    \\t/content/AMPL/etc/jupyter/nbconfig/notebook.json\\nPaths used for configuration of notebook: \\n    \\t/content/AMPL/etc/jupyter/nbconfig/notebook.d/widgetsnbextension.json\\n      - Validating: \\x1b[32mOK\\x1b[0m\\nPaths used for configuration of notebook: \\n    \\t/content/AMPL/etc/jupyter/nbconfig/notebook.d/widgetsnbextension.json\\n    \\t/content/AMPL/etc/jupyter/nbconfig/notebook.json\\n'\n",
            "\b\b- \b\b\\ \b\b| \b\b/ \b\b- \b\b\\ \b\b| \b\b/ \b\b- \b\b\\ \b\b| \b\b/ \b\b- \b\b\\ \b\b| \b\b/ \b\b- \b\b\\ \b\b| \b\b/ \b\b- \b\b\\ \b\b| \b\b/ \b\b- \b\b\\ \b\b| \b\b/ \b\b- \b\b\\ \b\b| \b\b/ \b\b- \b\b\\ \b\b| \b\b/ \b\b- \b\b\\ \b\b| \b\b/ \b\b- \b\b\\ \b\b| \b\b/ \b\b- \b\b\\ \b\b| \b\b/ \b\b- \b\b\\ \b\b| \b\b/ \b\b- \b\b\\ \b\bdone\n",
            "Cloning into 'AMPL'...\n",
            "remote: Enumerating objects: 460, done.\u001b[K\n",
            "remote: Counting objects: 100% (460/460), done.\u001b[K\n",
            "remote: Compressing objects: 100% (252/252), done.\u001b[K\n",
            "remote: Total 1297 (delta 261), reused 374 (delta 206), pack-reused 837\u001b[K\n",
            "Receiving objects: 100% (1297/1297), 9.54 MiB | 16.78 MiB/s, done.\n",
            "Resolving deltas: 100% (682/682), done.\n",
            "patching file /content/github/AMPL/atomsci/ddm/pipeline/transformations.py\n",
            "patching file /content/github/AMPL/atomsci/ddm/__init__.py\n",
            "running build\n",
            "running build_py\n",
            "creating /content/github/AMPL.build/ampl/lib\n",
            "creating /content/github/AMPL.build/ampl/lib/atomsci\n",
            "copying atomsci/__init__.py -> /content/github/AMPL.build/ampl/lib/atomsci\n",
            "creating /content/github/AMPL.build/ampl/lib/atomsci/ddm\n",
            "copying atomsci/ddm/__init__.py -> /content/github/AMPL.build/ampl/lib/atomsci/ddm\n",
            "creating /content/github/AMPL.build/ampl/lib/atomsci/ddm/utils\n",
            "copying atomsci/ddm/utils/struct_utils.py -> /content/github/AMPL.build/ampl/lib/atomsci/ddm/utils\n",
            "copying atomsci/ddm/utils/datastore_functions.py -> /content/github/AMPL.build/ampl/lib/atomsci/ddm/utils\n",
            "copying atomsci/ddm/utils/genTestset.py -> /content/github/AMPL.build/ampl/lib/atomsci/ddm/utils\n",
            "copying atomsci/ddm/utils/pubchem_utils.py -> /content/github/AMPL.build/ampl/lib/atomsci/ddm/utils\n",
            "copying atomsci/ddm/utils/llnl_utils.py -> /content/github/AMPL.build/ampl/lib/atomsci/ddm/utils\n",
            "copying atomsci/ddm/utils/__init__.py -> /content/github/AMPL.build/ampl/lib/atomsci/ddm/utils\n",
            "copying atomsci/ddm/utils/open-docs.py -> /content/github/AMPL.build/ampl/lib/atomsci/ddm/utils\n",
            "copying atomsci/ddm/utils/hyperparam_search_wrapper.py -> /content/github/AMPL.build/ampl/lib/atomsci/ddm/utils\n",
            "copying atomsci/ddm/utils/data_curation_functions.py -> /content/github/AMPL.build/ampl/lib/atomsci/ddm/utils\n",
            "copying atomsci/ddm/utils/process_slurm.py -> /content/github/AMPL.build/ampl/lib/atomsci/ddm/utils\n",
            "copying atomsci/ddm/utils/curate_data.py -> /content/github/AMPL.build/ampl/lib/atomsci/ddm/utils\n",
            "creating /content/github/AMPL.build/ampl/lib/atomsci/ddm/pipeline\n",
            "copying atomsci/ddm/pipeline/perf_data.py -> /content/github/AMPL.build/ampl/lib/atomsci/ddm/pipeline\n",
            "copying atomsci/ddm/pipeline/model_datasets.py -> /content/github/AMPL.build/ampl/lib/atomsci/ddm/pipeline\n",
            "copying atomsci/ddm/pipeline/transformations.py -> /content/github/AMPL.build/ampl/lib/atomsci/ddm/pipeline\n",
            "copying atomsci/ddm/pipeline/compare_models.py -> /content/github/AMPL.build/ampl/lib/atomsci/ddm/pipeline\n",
            "copying atomsci/ddm/pipeline/featurization.py -> /content/github/AMPL.build/ampl/lib/atomsci/ddm/pipeline\n",
            "copying atomsci/ddm/pipeline/parameter_parser.py -> /content/github/AMPL.build/ampl/lib/atomsci/ddm/pipeline\n",
            "copying atomsci/ddm/pipeline/model_tracker.py -> /content/github/AMPL.build/ampl/lib/atomsci/ddm/pipeline\n",
            "copying atomsci/ddm/pipeline/__init__.py -> /content/github/AMPL.build/ampl/lib/atomsci/ddm/pipeline\n",
            "copying atomsci/ddm/pipeline/hyper_perf_plots.py -> /content/github/AMPL.build/ampl/lib/atomsci/ddm/pipeline\n",
            "copying atomsci/ddm/pipeline/chem_diversity.py -> /content/github/AMPL.build/ampl/lib/atomsci/ddm/pipeline\n",
            "copying atomsci/ddm/pipeline/model_pipeline.py -> /content/github/AMPL.build/ampl/lib/atomsci/ddm/pipeline\n",
            "copying atomsci/ddm/pipeline/diversity_plots.py -> /content/github/AMPL.build/ampl/lib/atomsci/ddm/pipeline\n",
            "copying atomsci/ddm/pipeline/dist_metrics.py -> /content/github/AMPL.build/ampl/lib/atomsci/ddm/pipeline\n",
            "copying atomsci/ddm/pipeline/model_wrapper.py -> /content/github/AMPL.build/ampl/lib/atomsci/ddm/pipeline\n",
            "copying atomsci/ddm/pipeline/ave_splitter.py -> /content/github/AMPL.build/ampl/lib/atomsci/ddm/pipeline\n",
            "copying atomsci/ddm/pipeline/splitting.py -> /content/github/AMPL.build/ampl/lib/atomsci/ddm/pipeline\n",
            "copying atomsci/ddm/pipeline/temporal_splitter.py -> /content/github/AMPL.build/ampl/lib/atomsci/ddm/pipeline\n",
            "copying atomsci/ddm/pipeline/perf_plots.py -> /content/github/AMPL.build/ampl/lib/atomsci/ddm/pipeline\n",
            "running egg_info\n",
            "creating /content/github/AMPL.build/ampl/atomsci_ampl.egg-info\n",
            "writing /content/github/AMPL.build/ampl/atomsci_ampl.egg-info/PKG-INFO\n",
            "writing dependency_links to /content/github/AMPL.build/ampl/atomsci_ampl.egg-info/dependency_links.txt\n",
            "writing namespace_packages to /content/github/AMPL.build/ampl/atomsci_ampl.egg-info/namespace_packages.txt\n",
            "writing top-level names to /content/github/AMPL.build/ampl/atomsci_ampl.egg-info/top_level.txt\n",
            "writing manifest file '/content/github/AMPL.build/ampl/atomsci_ampl.egg-info/SOURCES.txt'\n",
            "reading manifest file '/content/github/AMPL.build/ampl/atomsci_ampl.egg-info/SOURCES.txt'\n",
            "reading manifest template 'MANIFEST.in'\n",
            "warning: no files found matching 'atomsci/*/*.yaml'\n",
            "writing manifest file '/content/github/AMPL.build/ampl/atomsci_ampl.egg-info/SOURCES.txt'\n",
            "creating /content/github/AMPL.build/ampl/lib/atomsci/ddm/data\n",
            "copying atomsci/ddm/data/descriptor_sets_sources_by_descr_type.csv -> /content/github/AMPL.build/ampl/lib/atomsci/ddm/data\n",
            "running bdist_wheel\n",
            "installing to /content/github/AMPL.build/ampl/bdist.linux-x86_64/wheel\n",
            "running install\n",
            "running install_lib\n",
            "Skipping installation of /content/github/AMPL.build/ampl/bdist.linux-x86_64/wheel/atomsci/__init__.py (namespace package)\n",
            "copying atomsci/ddm/__init__.py -> /content/github/AMPL.build/ampl/bdist.linux-x86_64/wheel/atomsci/ddm\n",
            "copying atomsci/ddm/utils/struct_utils.py -> /content/github/AMPL.build/ampl/bdist.linux-x86_64/wheel/atomsci/ddm/utils\n",
            "copying atomsci/ddm/utils/datastore_functions.py -> /content/github/AMPL.build/ampl/bdist.linux-x86_64/wheel/atomsci/ddm/utils\n",
            "copying atomsci/ddm/utils/genTestset.py -> /content/github/AMPL.build/ampl/bdist.linux-x86_64/wheel/atomsci/ddm/utils\n",
            "copying atomsci/ddm/utils/pubchem_utils.py -> /content/github/AMPL.build/ampl/bdist.linux-x86_64/wheel/atomsci/ddm/utils\n",
            "copying atomsci/ddm/utils/llnl_utils.py -> /content/github/AMPL.build/ampl/bdist.linux-x86_64/wheel/atomsci/ddm/utils\n",
            "copying atomsci/ddm/utils/__init__.py -> /content/github/AMPL.build/ampl/bdist.linux-x86_64/wheel/atomsci/ddm/utils\n",
            "copying atomsci/ddm/utils/open-docs.py -> /content/github/AMPL.build/ampl/bdist.linux-x86_64/wheel/atomsci/ddm/utils\n",
            "copying atomsci/ddm/utils/hyperparam_search_wrapper.py -> /content/github/AMPL.build/ampl/bdist.linux-x86_64/wheel/atomsci/ddm/utils\n",
            "copying atomsci/ddm/utils/data_curation_functions.py -> /content/github/AMPL.build/ampl/bdist.linux-x86_64/wheel/atomsci/ddm/utils\n",
            "copying atomsci/ddm/utils/process_slurm.py -> /content/github/AMPL.build/ampl/bdist.linux-x86_64/wheel/atomsci/ddm/utils\n",
            "copying atomsci/ddm/utils/curate_data.py -> /content/github/AMPL.build/ampl/bdist.linux-x86_64/wheel/atomsci/ddm/utils\n",
            "copying atomsci/ddm/data/descriptor_sets_sources_by_descr_type.csv -> /content/github/AMPL.build/ampl/bdist.linux-x86_64/wheel/atomsci/ddm/data\n",
            "copying atomsci/ddm/pipeline/perf_data.py -> /content/github/AMPL.build/ampl/bdist.linux-x86_64/wheel/atomsci/ddm/pipeline\n",
            "copying atomsci/ddm/pipeline/model_datasets.py -> /content/github/AMPL.build/ampl/bdist.linux-x86_64/wheel/atomsci/ddm/pipeline\n",
            "copying atomsci/ddm/pipeline/transformations.py -> /content/github/AMPL.build/ampl/bdist.linux-x86_64/wheel/atomsci/ddm/pipeline\n",
            "copying atomsci/ddm/pipeline/compare_models.py -> /content/github/AMPL.build/ampl/bdist.linux-x86_64/wheel/atomsci/ddm/pipeline\n",
            "copying atomsci/ddm/pipeline/featurization.py -> /content/github/AMPL.build/ampl/bdist.linux-x86_64/wheel/atomsci/ddm/pipeline\n",
            "copying atomsci/ddm/pipeline/parameter_parser.py -> /content/github/AMPL.build/ampl/bdist.linux-x86_64/wheel/atomsci/ddm/pipeline\n",
            "copying atomsci/ddm/pipeline/model_tracker.py -> /content/github/AMPL.build/ampl/bdist.linux-x86_64/wheel/atomsci/ddm/pipeline\n",
            "copying atomsci/ddm/pipeline/__init__.py -> /content/github/AMPL.build/ampl/bdist.linux-x86_64/wheel/atomsci/ddm/pipeline\n",
            "copying atomsci/ddm/pipeline/hyper_perf_plots.py -> /content/github/AMPL.build/ampl/bdist.linux-x86_64/wheel/atomsci/ddm/pipeline\n",
            "copying atomsci/ddm/pipeline/chem_diversity.py -> /content/github/AMPL.build/ampl/bdist.linux-x86_64/wheel/atomsci/ddm/pipeline\n",
            "copying atomsci/ddm/pipeline/model_pipeline.py -> /content/github/AMPL.build/ampl/bdist.linux-x86_64/wheel/atomsci/ddm/pipeline\n",
            "copying atomsci/ddm/pipeline/diversity_plots.py -> /content/github/AMPL.build/ampl/bdist.linux-x86_64/wheel/atomsci/ddm/pipeline\n",
            "copying atomsci/ddm/pipeline/dist_metrics.py -> /content/github/AMPL.build/ampl/bdist.linux-x86_64/wheel/atomsci/ddm/pipeline\n",
            "copying atomsci/ddm/pipeline/model_wrapper.py -> /content/github/AMPL.build/ampl/bdist.linux-x86_64/wheel/atomsci/ddm/pipeline\n",
            "copying atomsci/ddm/pipeline/ave_splitter.py -> /content/github/AMPL.build/ampl/bdist.linux-x86_64/wheel/atomsci/ddm/pipeline\n",
            "copying atomsci/ddm/pipeline/splitting.py -> /content/github/AMPL.build/ampl/bdist.linux-x86_64/wheel/atomsci/ddm/pipeline\n",
            "copying atomsci/ddm/pipeline/temporal_splitter.py -> /content/github/AMPL.build/ampl/bdist.linux-x86_64/wheel/atomsci/ddm/pipeline\n",
            "copying atomsci/ddm/pipeline/perf_plots.py -> /content/github/AMPL.build/ampl/bdist.linux-x86_64/wheel/atomsci/ddm/pipeline\n",
            "running install_egg_info\n",
            "Copying /content/github/AMPL.build/ampl/atomsci_ampl.egg-info to /content/github/AMPL.build/ampl/bdist.linux-x86_64/wheel/atomsci_ampl-1.0.0.dev1-py3.6.egg-info\n",
            "Installing /content/github/AMPL.build/ampl/bdist.linux-x86_64/wheel/atomsci_ampl-1.0.0.dev1-py3.6-nspkg.pth\n",
            "running install_scripts\n",
            "adding license file \"LICENSE\" (matched pattern \"LICEN[CS]E*\")\n",
            "adding license file \"NOTICE\" (matched pattern \"NOTICE*\")\n",
            "creating /content/github/AMPL.build/ampl/bdist.linux-x86_64/wheel/atomsci_ampl-1.0.0.dev1.dist-info/WHEEL\n",
            "creating '/content/github/AMPL.dist/atomsci_ampl-1.0.0.dev1-py3-none-any.whl' and adding '/content/github/AMPL.build/ampl/bdist.linux-x86_64/wheel' to it\n",
            "adding 'atomsci_ampl-1.0.0.dev1-py3.6-nspkg.pth'\n",
            "adding 'atomsci/ddm/__init__.py'\n",
            "adding 'atomsci/ddm/data/descriptor_sets_sources_by_descr_type.csv'\n",
            "adding 'atomsci/ddm/pipeline/__init__.py'\n",
            "adding 'atomsci/ddm/pipeline/ave_splitter.py'\n",
            "adding 'atomsci/ddm/pipeline/chem_diversity.py'\n",
            "adding 'atomsci/ddm/pipeline/compare_models.py'\n",
            "adding 'atomsci/ddm/pipeline/dist_metrics.py'\n",
            "adding 'atomsci/ddm/pipeline/diversity_plots.py'\n",
            "adding 'atomsci/ddm/pipeline/featurization.py'\n",
            "adding 'atomsci/ddm/pipeline/hyper_perf_plots.py'\n",
            "adding 'atomsci/ddm/pipeline/model_datasets.py'\n",
            "adding 'atomsci/ddm/pipeline/model_pipeline.py'\n",
            "adding 'atomsci/ddm/pipeline/model_tracker.py'\n",
            "adding 'atomsci/ddm/pipeline/model_wrapper.py'\n",
            "adding 'atomsci/ddm/pipeline/parameter_parser.py'\n",
            "adding 'atomsci/ddm/pipeline/perf_data.py'\n",
            "adding 'atomsci/ddm/pipeline/perf_plots.py'\n",
            "adding 'atomsci/ddm/pipeline/splitting.py'\n",
            "adding 'atomsci/ddm/pipeline/temporal_splitter.py'\n",
            "adding 'atomsci/ddm/pipeline/transformations.py'\n",
            "adding 'atomsci/ddm/utils/__init__.py'\n",
            "adding 'atomsci/ddm/utils/curate_data.py'\n",
            "adding 'atomsci/ddm/utils/data_curation_functions.py'\n",
            "adding 'atomsci/ddm/utils/datastore_functions.py'\n",
            "adding 'atomsci/ddm/utils/genTestset.py'\n",
            "adding 'atomsci/ddm/utils/hyperparam_search_wrapper.py'\n",
            "adding 'atomsci/ddm/utils/llnl_utils.py'\n",
            "adding 'atomsci/ddm/utils/open-docs.py'\n",
            "adding 'atomsci/ddm/utils/process_slurm.py'\n",
            "adding 'atomsci/ddm/utils/pubchem_utils.py'\n",
            "adding 'atomsci/ddm/utils/struct_utils.py'\n",
            "adding 'atomsci_ampl-1.0.0.dev1.dist-info/LICENSE'\n",
            "adding 'atomsci_ampl-1.0.0.dev1.dist-info/METADATA'\n",
            "adding 'atomsci_ampl-1.0.0.dev1.dist-info/NOTICE'\n",
            "adding 'atomsci_ampl-1.0.0.dev1.dist-info/WHEEL'\n",
            "adding 'atomsci_ampl-1.0.0.dev1.dist-info/namespace_packages.txt'\n",
            "adding 'atomsci_ampl-1.0.0.dev1.dist-info/top_level.txt'\n",
            "adding 'atomsci_ampl-1.0.0.dev1.dist-info/RECORD'\n",
            "removing /content/github/AMPL.build/ampl/bdist.linux-x86_64/wheel\n",
            "DIR: /content/github/AMPL\n",
            "Non-user install because site-packages writeable\n",
            "Ignoring indexes: https://pypi.org/simple\n",
            "Created temporary directory: /tmp/pip-ephem-wheel-cache-fj_ltakz\n",
            "Created temporary directory: /tmp/pip-req-tracker-c9ehb4zl\n",
            "Initialized build tracking at /tmp/pip-req-tracker-c9ehb4zl\n",
            "Created build tracker: /tmp/pip-req-tracker-c9ehb4zl\n",
            "Entered build tracker: /tmp/pip-req-tracker-c9ehb4zl\n",
            "Created temporary directory: /tmp/pip-install-pq4rpqgu\n",
            "Looking in links: /content/github/AMPL.dist\n",
            "0 location(s) to search for versions of atomsci-ampl:\n",
            "Skipping link: unsupported archive format: .dist: /content/github/AMPL.dist (from -f)\n",
            "Found link file:///content/github/AMPL.dist/atomsci_ampl-1.0.0.dev1-py3-none-any.whl, version: 1.0.0.dev1\n",
            "Local files found: /content/github/AMPL.dist/atomsci_ampl-1.0.0.dev1-py3-none-any.whl\n",
            "Given no hashes to check 1 links for project 'atomsci-ampl': discarding no candidates\n",
            "Using version 1.0.0.dev1 (newest of versions: 1.0.0.dev1)\n",
            "Processing /content/github/AMPL.dist/atomsci_ampl-1.0.0.dev1-py3-none-any.whl\n",
            "  Added atomsci_ampl from file:///content/github/AMPL.dist/atomsci_ampl-1.0.0.dev1-py3-none-any.whl to build tracker '/tmp/pip-req-tracker-c9ehb4zl'\n",
            "  Removed atomsci_ampl from file:///content/github/AMPL.dist/atomsci_ampl-1.0.0.dev1-py3-none-any.whl from build tracker '/tmp/pip-req-tracker-c9ehb4zl'\n",
            "Installing collected packages: atomsci-ampl\n",
            "  Created temporary directory: /tmp/pip-unpacked-wheel-x_oo3nq7\n",
            "\n",
            "Successfully installed atomsci-ampl-1.0.0.dev1\n",
            "Removed build tracker: '/tmp/pip-req-tracker-c9ehb4zl'\n",
            "\n",
            "real\t3m22.485s\n",
            "user\t1m39.504s\n",
            "sys\t0m17.727s\n"
          ],
          "name": "stdout"
        }
      ]
    },
    {
      "cell_type": "code",
      "metadata": {
        "id": "ox353IcUpDgS",
        "outputId": "715d0ba0-6117-46ab-b6ec-c5a21b966355",
        "colab": {
          "base_uri": "https://localhost:8080/",
          "height": 70
        }
      },
      "source": [
        "!find . -name transformations.py "
      ],
      "execution_count": 3,
      "outputs": [
        {
          "output_type": "stream",
          "text": [
            "./AMPL/lib/python3.6/site-packages/atomsci/ddm/pipeline/transformations.py\n",
            "./github/AMPL.build/ampl/lib/atomsci/ddm/pipeline/transformations.py\n",
            "./github/AMPL/atomsci/ddm/pipeline/transformations.py\n"
          ],
          "name": "stdout"
        }
      ]
    },
    {
      "cell_type": "code",
      "metadata": {
        "id": "SiJL8BImEpSb"
      },
      "source": [
        "# There is a problem with the UMAP package, so temporarily remove umap import\n",
        "%%bash\n",
        "cat << EOF > ampl.patch\n",
        "--- transformations.py  2020-09-14 17:08:22.225747322 -0700\n",
        "+++ transformations_patched.py  2020-09-14 17:08:07.869651225 -0700\n",
        "@@ -9,7 +9,7 @@\n",
        "\n",
        " import numpy as np\n",
        " import pandas as pd\n",
        "-import umap\n",
        "+# import umap\n",
        "\n",
        " import deepchem as dc\n",
        " from deepchem.trans.transformers import Transformer, NormalizationTransformer\n",
        "EOF\n",
        "\n",
        "patch -N /AMPL/lib/python3.6/site-packages/atomsci/ddm/pipeline/transformations.py"
      ],
      "execution_count": 4,
      "outputs": []
    },
    {
      "cell_type": "markdown",
      "metadata": {
        "id": "Dg2c6mMufVVl"
      },
      "source": [
        "**The following code-chunk will take about 6-7 minutes**"
      ]
    },
    {
      "cell_type": "markdown",
      "metadata": {
        "id": "7JJOiXLrCxCj"
      },
      "source": [
        "**Note: Can start here if the Colab runtime is restarted. Environment is saved in the Colab runtime file system.**"
      ]
    },
    {
      "cell_type": "code",
      "metadata": {
        "id": "BVeV2RISpdBX",
        "outputId": "fc00c537-f9cc-409a-ed48-f3b67342eb30",
        "colab": {
          "base_uri": "https://localhost:8080/",
          "height": 194
        }
      },
      "source": [
        "# Load AMPL in this notebook\n",
        "import sys\n",
        "\n",
        "site_packages_path = '/content/AMPL/lib/python3.6/site-packages'\n",
        "if site_packages_path not in sys.path:\n",
        "  sys.path.insert(1, site_packages_path)\n",
        "sys.path"
      ],
      "execution_count": 5,
      "outputs": [
        {
          "output_type": "execute_result",
          "data": {
            "text/plain": [
              "['',\n",
              " '/content/AMPL/lib/python3.6/site-packages',\n",
              " '/env/python',\n",
              " '/usr/lib/python36.zip',\n",
              " '/usr/lib/python3.6',\n",
              " '/usr/lib/python3.6/lib-dynload',\n",
              " '/usr/local/lib/python3.6/dist-packages',\n",
              " '/usr/lib/python3/dist-packages',\n",
              " '/usr/local/lib/python3.6/dist-packages/IPython/extensions',\n",
              " '/root/.ipython']"
            ]
          },
          "metadata": {
            "tags": []
          },
          "execution_count": 5
        }
      ]
    },
    {
      "cell_type": "code",
      "metadata": {
        "id": "Z0KTYOUAFID7"
      },
      "source": [
        "# There is a problem with the previously imported cffi, so delete it and load it with AMPL instead\n",
        "if 'cffi' in sys.modules:\n",
        "  del sys.modules['cffi']"
      ],
      "execution_count": 6,
      "outputs": []
    },
    {
      "cell_type": "code",
      "metadata": {
        "id": "E8BxcPS4EVt9",
        "outputId": "8b95c8f2-38cc-4280-c548-d568502d0f56",
        "colab": {
          "base_uri": "https://localhost:8080/",
          "height": 321
        }
      },
      "source": [
        "import atomsci.ddm.pipeline.compare_models as cmp\n",
        "import atomsci.ddm.pipeline.model_pipeline as mp\n",
        "import atomsci.ddm.pipeline.parameter_parser as parse"
      ],
      "execution_count": 7,
      "outputs": [
        {
          "output_type": "stream",
          "text": [
            "/content/AMPL/lib/python3.6/site-packages/tensorflow/python/framework/dtypes.py:517: FutureWarning: Passing (type, 1) or '1type' as a synonym of type is deprecated; in a future version of numpy, it will be understood as (type, (1,)) / '(1,)type'.\n",
            "  _np_qint8 = np.dtype([(\"qint8\", np.int8, 1)])\n",
            "/content/AMPL/lib/python3.6/site-packages/tensorflow/python/framework/dtypes.py:518: FutureWarning: Passing (type, 1) or '1type' as a synonym of type is deprecated; in a future version of numpy, it will be understood as (type, (1,)) / '(1,)type'.\n",
            "  _np_quint8 = np.dtype([(\"quint8\", np.uint8, 1)])\n",
            "/content/AMPL/lib/python3.6/site-packages/tensorflow/python/framework/dtypes.py:519: FutureWarning: Passing (type, 1) or '1type' as a synonym of type is deprecated; in a future version of numpy, it will be understood as (type, (1,)) / '(1,)type'.\n",
            "  _np_qint16 = np.dtype([(\"qint16\", np.int16, 1)])\n",
            "/content/AMPL/lib/python3.6/site-packages/tensorflow/python/framework/dtypes.py:520: FutureWarning: Passing (type, 1) or '1type' as a synonym of type is deprecated; in a future version of numpy, it will be understood as (type, (1,)) / '(1,)type'.\n",
            "  _np_quint16 = np.dtype([(\"quint16\", np.uint16, 1)])\n",
            "/content/AMPL/lib/python3.6/site-packages/tensorflow/python/framework/dtypes.py:521: FutureWarning: Passing (type, 1) or '1type' as a synonym of type is deprecated; in a future version of numpy, it will be understood as (type, (1,)) / '(1,)type'.\n",
            "  _np_qint32 = np.dtype([(\"qint32\", np.int32, 1)])\n",
            "/content/AMPL/lib/python3.6/site-packages/tensorflow/python/framework/dtypes.py:526: FutureWarning: Passing (type, 1) or '1type' as a synonym of type is deprecated; in a future version of numpy, it will be understood as (type, (1,)) / '(1,)type'.\n",
            "  np_resource = np.dtype([(\"resource\", np.ubyte, 1)])\n",
            "/content/AMPL/lib/python3.6/site-packages/sklearn/ensemble/weight_boosting.py:29: DeprecationWarning: numpy.core.umath_tests is an internal NumPy module and should not be imported. It will be removed in a future NumPy release.\n",
            "  from numpy.core.umath_tests import inner1d\n",
            "/content/AMPL/lib/python3.6/site-packages/sklearn/cross_validation.py:41: DeprecationWarning: This module was deprecated in version 0.18 in favor of the model_selection module into which all the refactored classes and functions are moved. Also note that the interface of the new CV iterators are different from that of this module. This module will be removed in 0.20.\n",
            "  \"This module will be removed in 0.20.\", DeprecationWarning)\n"
          ],
          "name": "stderr"
        }
      ]
    },
    {
      "cell_type": "code",
      "metadata": {
        "id": "MXqJNTpPEYcx"
      },
      "source": [
        "import os\n",
        "os.mkdir('chembl_activity_models')"
      ],
      "execution_count": 8,
      "outputs": []
    },
    {
      "cell_type": "markdown",
      "metadata": {
        "id": "ZIIEHFGZEdlp"
      },
      "source": [
        "**Upload data file ChEMBL26_SCN5A_IC50_human_ml_ready.csv to Colab now.**"
      ]
    },
    {
      "cell_type": "code",
      "metadata": {
        "id": "n3RE8OYSKqqd"
      },
      "source": [
        "import pandas as pd\n",
        "import requests\n",
        "import io\n",
        "url = 'https://raw.githubusercontent.com/ravichas/AMPL-Tutorial/master/datasets/ChEMBL26_SCN5A_IC50_human_ml_ready.csv'\n",
        "download = requests.get(url).content\n",
        "df = pd.read_csv(url, index_col=0)\n",
        "# Reading the downloaded content and turning it into a pandas dataframe\n",
        "df = pd.read_csv(io.StringIO(download.decode('utf-8')))\n",
        "df.iloc[0:5, 0:5]\n",
        "df.to_csv('ChEMBL26_SCN5A_IC50_human_ml_ready.csv', index=False)"
      ],
      "execution_count": 9,
      "outputs": []
    },
    {
      "cell_type": "code",
      "metadata": {
        "id": "GdYHTPnvIFFD"
      },
      "source": [
        "split_config = {\n",
        "\"script_dir\": \"/content/AMPL/atomsci/ddm\",\n",
        "\"dataset_key\" : \"/content/ChEMBL26_SCN5A_IC50_human_ml_ready.csv\",\n",
        "\"datastore\": \"False\",\n",
        "\"split_only\": \"True\",\n",
        "\"splitter\": \"scaffold\",\n",
        "\"split_valid_frac\": \"0.15\",\n",
        "\"split_test_frac\": \"0.15\",\n",
        "\"previously_split\": \"False\",\n",
        "\"prediction_type\": \"regression\",\n",
        "\"response_cols\" : \"pIC50\",\n",
        "\"id_col\": \"compound_id\",\n",
        "\"smiles_col\" : \"base_rdkit_smiles\",\n",
        "\"result_dir\": \"/content/chembl_activity_models\",\n",
        "\"system\": \"LC\",\n",
        "\"transformers\": \"True\",\n",
        "\"model_type\": \"NN\",\n",
        "\"featurizer\": \"graphconv\",\n",
        "\"descriptor_type\": \"graphconv\",\n",
        "\"learning_rate\": \"0.0007\",\n",
        "\"layer_sizes\": \"64,64,32\",\n",
        "\"dropouts\" : \"0.0,0.0,0.0\",\n",
        "\"save_results\": \"False\",\n",
        "\"max_epochs\": \"100\",\n",
        "\"verbose\": \"True\"\n",
        "}"
      ],
      "execution_count": 10,
      "outputs": []
    },
    {
      "cell_type": "code",
      "metadata": {
        "id": "rvaovtCdDIiP"
      },
      "source": [
        "split_params = parse.wrapper(split_config)"
      ],
      "execution_count": 11,
      "outputs": []
    },
    {
      "cell_type": "code",
      "metadata": {
        "id": "6256V9lGDKMX"
      },
      "source": [
        "split_model = mp.ModelPipeline(split_params)"
      ],
      "execution_count": 12,
      "outputs": []
    },
    {
      "cell_type": "code",
      "metadata": {
        "id": "Me8mKNyFDMEQ",
        "outputId": "8baeb877-7595-454c-89bd-fb8d4e46d187",
        "colab": {
          "base_uri": "https://localhost:8080/",
          "height": 88
        }
      },
      "source": [
        "split_uuid = split_model.split_dataset()\n",
        "split_uuid"
      ],
      "execution_count": 13,
      "outputs": [
        {
          "output_type": "stream",
          "text": [
            "number of features: 75\n"
          ],
          "name": "stdout"
        },
        {
          "output_type": "stream",
          "text": [
            "2020-10-13 20:29:00,921 Splitting data by scaffold\n",
            "2020-10-13 20:29:20,306 Dataset split table saved to /content/ChEMBL26_SCN5A_IC50_human_ml_ready_train_valid_test_scaffold_480a8986-e3f7-4dae-9169-848ada884e81.csv\n"
          ],
          "name": "stderr"
        },
        {
          "output_type": "execute_result",
          "data": {
            "application/vnd.google.colaboratory.intrinsic+json": {
              "type": "string"
            },
            "text/plain": [
              "'480a8986-e3f7-4dae-9169-848ada884e81'"
            ]
          },
          "metadata": {
            "tags": []
          },
          "execution_count": 13
        }
      ]
    },
    {
      "cell_type": "code",
      "metadata": {
        "id": "0d79ivM-I49z",
        "outputId": "5af7e56f-532b-4b47-ca0b-80e9cb2b7715",
        "colab": {
          "base_uri": "https://localhost:8080/",
          "height": 407
        }
      },
      "source": [
        "!pip install --upgrade gspread"
      ],
      "execution_count": 14,
      "outputs": [
        {
          "output_type": "stream",
          "text": [
            "Collecting gspread\n",
            "  Downloading https://files.pythonhosted.org/packages/9c/ba/bc8de4f5077bd34bc873bdd67a89cb29c4f181abba8a836d2c6a0a142365/gspread-3.6.0-py3-none-any.whl\n",
            "Requirement already satisfied, skipping upgrade: google-auth-oauthlib>=0.4.1 in /usr/local/lib/python3.6/dist-packages (from gspread) (0.4.1)\n",
            "Requirement already satisfied, skipping upgrade: google-auth>=1.12.0 in /usr/local/lib/python3.6/dist-packages (from gspread) (1.17.2)\n",
            "Requirement already satisfied, skipping upgrade: requests>=2.2.1 in /usr/local/lib/python3.6/dist-packages (from gspread) (2.23.0)\n",
            "Requirement already satisfied, skipping upgrade: requests-oauthlib>=0.7.0 in /usr/local/lib/python3.6/dist-packages (from google-auth-oauthlib>=0.4.1->gspread) (1.3.0)\n",
            "Requirement already satisfied, skipping upgrade: setuptools>=40.3.0 in /usr/local/lib/python3.6/dist-packages (from google-auth>=1.12.0->gspread) (50.3.0)\n",
            "Requirement already satisfied, skipping upgrade: cachetools<5.0,>=2.0.0 in /usr/local/lib/python3.6/dist-packages (from google-auth>=1.12.0->gspread) (4.1.1)\n",
            "Requirement already satisfied, skipping upgrade: rsa<5,>=3.1.4; python_version >= \"3\" in /usr/local/lib/python3.6/dist-packages (from google-auth>=1.12.0->gspread) (4.6)\n",
            "Requirement already satisfied, skipping upgrade: six>=1.9.0 in /usr/local/lib/python3.6/dist-packages (from google-auth>=1.12.0->gspread) (1.15.0)\n",
            "Requirement already satisfied, skipping upgrade: pyasn1-modules>=0.2.1 in /usr/local/lib/python3.6/dist-packages (from google-auth>=1.12.0->gspread) (0.2.8)\n",
            "Requirement already satisfied, skipping upgrade: certifi>=2017.4.17 in /usr/local/lib/python3.6/dist-packages (from requests>=2.2.1->gspread) (2020.6.20)\n",
            "Requirement already satisfied, skipping upgrade: urllib3!=1.25.0,!=1.25.1,<1.26,>=1.21.1 in /usr/local/lib/python3.6/dist-packages (from requests>=2.2.1->gspread) (1.24.3)\n",
            "Requirement already satisfied, skipping upgrade: chardet<4,>=3.0.2 in /usr/local/lib/python3.6/dist-packages (from requests>=2.2.1->gspread) (3.0.4)\n",
            "Requirement already satisfied, skipping upgrade: idna<3,>=2.5 in /usr/local/lib/python3.6/dist-packages (from requests>=2.2.1->gspread) (2.10)\n",
            "Requirement already satisfied, skipping upgrade: oauthlib>=3.0.0 in /usr/local/lib/python3.6/dist-packages (from requests-oauthlib>=0.7.0->google-auth-oauthlib>=0.4.1->gspread) (3.1.0)\n",
            "Requirement already satisfied, skipping upgrade: pyasn1>=0.1.3 in /usr/local/lib/python3.6/dist-packages (from rsa<5,>=3.1.4; python_version >= \"3\"->google-auth>=1.12.0->gspread) (0.4.8)\n",
            "Installing collected packages: gspread\n",
            "  Found existing installation: gspread 3.0.1\n",
            "    Uninstalling gspread-3.0.1:\n",
            "      Successfully uninstalled gspread-3.0.1\n",
            "Successfully installed gspread-3.6.0\n"
          ],
          "name": "stdout"
        }
      ]
    },
    {
      "cell_type": "markdown",
      "metadata": {
        "id": "9D2-0F8jbu4K"
      },
      "source": [
        "## Train the mode (~ 10 minutes)"
      ]
    },
    {
      "cell_type": "code",
      "metadata": {
        "id": "eCtts89ZDxLn"
      },
      "source": [
        "train_config = {\n",
        "\"script_dir\": \"/content/AMPL/atomsci/ddm\",\n",
        "\"dataset_key\" : \"/content/ChEMBL26_SCN5A_IC50_human_ml_ready.csv\",\n",
        "\"datastore\": \"False\",\n",
        "\"uncertainty\": \"False\",\n",
        "\"splitter\": \"scaffold\",\n",
        "\"split_valid_frac\": \"0.15\",\n",
        "\"split_test_frac\": \"0.15\",\n",
        "\"previously_split\": \"True\",\n",
        "\"split_uuid\": \"{}\".format(split_uuid),\n",
        "\"prediction_type\": \"regression\",\n",
        "\"response_cols\" : \"pIC50\",\n",
        "\"id_col\": \"compound_id\",\n",
        "\"smiles_col\" : \"base_rdkit_smiles\",\n",
        "\"result_dir\": \"/content/chembl_activity_models\",\n",
        "\"system\": \"LC\",\n",
        "\"transformers\": \"True\",\n",
        "\"model_type\": \"NN\",\n",
        "\"featurizer\": \"graphconv\",\n",
        "\"descriptor_type\": \"graphconv\",\n",
        "\"learning_rate\": \"0.0007\",\n",
        "\"layer_sizes\": \"64,64,32\",\n",
        "\"dropouts\" : \"0.0,0.0,0.0\",\n",
        "\"save_results\": \"False\",\n",
        "\"max_epochs\": \"100\",\n",
        "\"verbose\": \"True\"\n",
        "}"
      ],
      "execution_count": 15,
      "outputs": []
    },
    {
      "cell_type": "code",
      "metadata": {
        "id": "u3Cjkh76F-ym"
      },
      "source": [
        "train_params = parse.wrapper(train_config)"
      ],
      "execution_count": 19,
      "outputs": []
    },
    {
      "cell_type": "code",
      "metadata": {
        "id": "949S5ME0GIOf"
      },
      "source": [
        "train_model = mp.ModelPipeline(train_params)"
      ],
      "execution_count": 20,
      "outputs": []
    },
    {
      "cell_type": "markdown",
      "metadata": {
        "id": "JhVhhldinDid"
      },
      "source": [
        "## Train_model took ~ 18 minutes on a GPU  (~ 30 minutes on a CPU)"
      ]
    },
    {
      "cell_type": "code",
      "metadata": {
        "id": "dzoK1kDDGPLn",
        "outputId": "fa3d8ce1-7a1a-4111-a571-756446f1a9e1",
        "colab": {
          "base_uri": "https://localhost:8080/",
          "height": 1000
        }
      },
      "source": [
        "train_model.train_model()"
      ],
      "execution_count": 22,
      "outputs": [
        {
          "output_type": "stream",
          "text": [
            "number of features: 75\n"
          ],
          "name": "stdout"
        },
        {
          "output_type": "stream",
          "text": [
            "2020-10-13 20:31:31,619 Previous dataset split restored\n"
          ],
          "name": "stderr"
        },
        {
          "output_type": "stream",
          "text": [
            "n_cnt [1729.]\n",
            "y_means [5.15460889]\n",
            "y_stds [0.64359373]\n",
            "TIMING: dataset construction took 1.246 s\n",
            "Loading dataset from disk.\n",
            "TIMING: dataset construction took 0.213 s\n",
            "Loading dataset from disk.\n",
            "TIMING: dataset construction took 0.301 s\n",
            "Loading dataset from disk.\n"
          ],
          "name": "stdout"
        },
        {
          "output_type": "stream",
          "text": [
            "/content/AMPL/lib/python3.6/site-packages/tensorflow/python/ops/gradients_impl.py:98: UserWarning: Converting sparse IndexedSlices to a dense Tensor of unknown shape. This may consume a large amount of memory.\n",
            "  \"Converting sparse IndexedSlices to a dense Tensor of unknown shape. \"\n"
          ],
          "name": "stderr"
        },
        {
          "output_type": "stream",
          "text": [
            "INFO:tensorflow:Restoring parameters from /content/chembl_activity_models/ChEMBL26_SCN5A_IC50_human_ml_ready/NN_graphconv_scaffold_regression/bce8232a-7823-40ab-86db-a8299c6f3408/model/model-25\n"
          ],
          "name": "stdout"
        },
        {
          "output_type": "stream",
          "text": [
            "2020-10-13 20:36:44,575 Restoring parameters from /content/chembl_activity_models/ChEMBL26_SCN5A_IC50_human_ml_ready/NN_graphconv_scaffold_regression/bce8232a-7823-40ab-86db-a8299c6f3408/model/model-25\n"
          ],
          "name": "stderr"
        },
        {
          "output_type": "stream",
          "text": [
            "INFO:tensorflow:Restoring parameters from /content/chembl_activity_models/ChEMBL26_SCN5A_IC50_human_ml_ready/NN_graphconv_scaffold_regression/bce8232a-7823-40ab-86db-a8299c6f3408/model/model-50\n"
          ],
          "name": "stdout"
        },
        {
          "output_type": "stream",
          "text": [
            "2020-10-13 20:36:50,456 Restoring parameters from /content/chembl_activity_models/ChEMBL26_SCN5A_IC50_human_ml_ready/NN_graphconv_scaffold_regression/bce8232a-7823-40ab-86db-a8299c6f3408/model/model-50\n"
          ],
          "name": "stderr"
        },
        {
          "output_type": "stream",
          "text": [
            "INFO:tensorflow:Restoring parameters from /content/chembl_activity_models/ChEMBL26_SCN5A_IC50_human_ml_ready/NN_graphconv_scaffold_regression/bce8232a-7823-40ab-86db-a8299c6f3408/model/model-75\n"
          ],
          "name": "stdout"
        },
        {
          "output_type": "stream",
          "text": [
            "2020-10-13 20:36:56,565 Restoring parameters from /content/chembl_activity_models/ChEMBL26_SCN5A_IC50_human_ml_ready/NN_graphconv_scaffold_regression/bce8232a-7823-40ab-86db-a8299c6f3408/model/model-75\n"
          ],
          "name": "stderr"
        },
        {
          "output_type": "stream",
          "text": [
            "INFO:tensorflow:Restoring parameters from /content/chembl_activity_models/ChEMBL26_SCN5A_IC50_human_ml_ready/NN_graphconv_scaffold_regression/bce8232a-7823-40ab-86db-a8299c6f3408/model/model-100\n"
          ],
          "name": "stdout"
        },
        {
          "output_type": "stream",
          "text": [
            "2020-10-13 20:37:02,564 Restoring parameters from /content/chembl_activity_models/ChEMBL26_SCN5A_IC50_human_ml_ready/NN_graphconv_scaffold_regression/bce8232a-7823-40ab-86db-a8299c6f3408/model/model-100\n"
          ],
          "name": "stderr"
        },
        {
          "output_type": "stream",
          "text": [
            "INFO:tensorflow:Restoring parameters from /content/chembl_activity_models/ChEMBL26_SCN5A_IC50_human_ml_ready/NN_graphconv_scaffold_regression/bce8232a-7823-40ab-86db-a8299c6f3408/model/model-125\n"
          ],
          "name": "stdout"
        },
        {
          "output_type": "stream",
          "text": [
            "2020-10-13 20:37:08,555 Restoring parameters from /content/chembl_activity_models/ChEMBL26_SCN5A_IC50_human_ml_ready/NN_graphconv_scaffold_regression/bce8232a-7823-40ab-86db-a8299c6f3408/model/model-125\n"
          ],
          "name": "stderr"
        },
        {
          "output_type": "stream",
          "text": [
            "INFO:tensorflow:Restoring parameters from /content/chembl_activity_models/ChEMBL26_SCN5A_IC50_human_ml_ready/NN_graphconv_scaffold_regression/bce8232a-7823-40ab-86db-a8299c6f3408/model/model-150\n"
          ],
          "name": "stdout"
        },
        {
          "output_type": "stream",
          "text": [
            "2020-10-13 20:37:14,599 Restoring parameters from /content/chembl_activity_models/ChEMBL26_SCN5A_IC50_human_ml_ready/NN_graphconv_scaffold_regression/bce8232a-7823-40ab-86db-a8299c6f3408/model/model-150\n"
          ],
          "name": "stderr"
        },
        {
          "output_type": "stream",
          "text": [
            "INFO:tensorflow:Restoring parameters from /content/chembl_activity_models/ChEMBL26_SCN5A_IC50_human_ml_ready/NN_graphconv_scaffold_regression/bce8232a-7823-40ab-86db-a8299c6f3408/model/model-175\n"
          ],
          "name": "stdout"
        },
        {
          "output_type": "stream",
          "text": [
            "2020-10-13 20:37:20,728 Restoring parameters from /content/chembl_activity_models/ChEMBL26_SCN5A_IC50_human_ml_ready/NN_graphconv_scaffold_regression/bce8232a-7823-40ab-86db-a8299c6f3408/model/model-175\n"
          ],
          "name": "stderr"
        },
        {
          "output_type": "stream",
          "text": [
            "INFO:tensorflow:Restoring parameters from /content/chembl_activity_models/ChEMBL26_SCN5A_IC50_human_ml_ready/NN_graphconv_scaffold_regression/bce8232a-7823-40ab-86db-a8299c6f3408/model/model-200\n"
          ],
          "name": "stdout"
        },
        {
          "output_type": "stream",
          "text": [
            "2020-10-13 20:37:26,828 Restoring parameters from /content/chembl_activity_models/ChEMBL26_SCN5A_IC50_human_ml_ready/NN_graphconv_scaffold_regression/bce8232a-7823-40ab-86db-a8299c6f3408/model/model-200\n"
          ],
          "name": "stderr"
        },
        {
          "output_type": "stream",
          "text": [
            "INFO:tensorflow:Restoring parameters from /content/chembl_activity_models/ChEMBL26_SCN5A_IC50_human_ml_ready/NN_graphconv_scaffold_regression/bce8232a-7823-40ab-86db-a8299c6f3408/model/model-225\n"
          ],
          "name": "stdout"
        },
        {
          "output_type": "stream",
          "text": [
            "2020-10-13 20:37:32,928 Restoring parameters from /content/chembl_activity_models/ChEMBL26_SCN5A_IC50_human_ml_ready/NN_graphconv_scaffold_regression/bce8232a-7823-40ab-86db-a8299c6f3408/model/model-225\n"
          ],
          "name": "stderr"
        },
        {
          "output_type": "stream",
          "text": [
            "INFO:tensorflow:Restoring parameters from /content/chembl_activity_models/ChEMBL26_SCN5A_IC50_human_ml_ready/NN_graphconv_scaffold_regression/bce8232a-7823-40ab-86db-a8299c6f3408/model/model-250\n"
          ],
          "name": "stdout"
        },
        {
          "output_type": "stream",
          "text": [
            "2020-10-13 20:37:39,031 Restoring parameters from /content/chembl_activity_models/ChEMBL26_SCN5A_IC50_human_ml_ready/NN_graphconv_scaffold_regression/bce8232a-7823-40ab-86db-a8299c6f3408/model/model-250\n"
          ],
          "name": "stderr"
        },
        {
          "output_type": "stream",
          "text": [
            "INFO:tensorflow:Restoring parameters from /content/chembl_activity_models/ChEMBL26_SCN5A_IC50_human_ml_ready/NN_graphconv_scaffold_regression/bce8232a-7823-40ab-86db-a8299c6f3408/model/model-275\n"
          ],
          "name": "stdout"
        },
        {
          "output_type": "stream",
          "text": [
            "2020-10-13 20:37:44,954 Restoring parameters from /content/chembl_activity_models/ChEMBL26_SCN5A_IC50_human_ml_ready/NN_graphconv_scaffold_regression/bce8232a-7823-40ab-86db-a8299c6f3408/model/model-275\n"
          ],
          "name": "stderr"
        },
        {
          "output_type": "stream",
          "text": [
            "INFO:tensorflow:Restoring parameters from /content/chembl_activity_models/ChEMBL26_SCN5A_IC50_human_ml_ready/NN_graphconv_scaffold_regression/bce8232a-7823-40ab-86db-a8299c6f3408/model/model-300\n"
          ],
          "name": "stdout"
        },
        {
          "output_type": "stream",
          "text": [
            "2020-10-13 20:37:51,153 Restoring parameters from /content/chembl_activity_models/ChEMBL26_SCN5A_IC50_human_ml_ready/NN_graphconv_scaffold_regression/bce8232a-7823-40ab-86db-a8299c6f3408/model/model-300\n"
          ],
          "name": "stderr"
        },
        {
          "output_type": "stream",
          "text": [
            "INFO:tensorflow:Restoring parameters from /content/chembl_activity_models/ChEMBL26_SCN5A_IC50_human_ml_ready/NN_graphconv_scaffold_regression/bce8232a-7823-40ab-86db-a8299c6f3408/model/model-325\n"
          ],
          "name": "stdout"
        },
        {
          "output_type": "stream",
          "text": [
            "2020-10-13 20:37:57,309 Restoring parameters from /content/chembl_activity_models/ChEMBL26_SCN5A_IC50_human_ml_ready/NN_graphconv_scaffold_regression/bce8232a-7823-40ab-86db-a8299c6f3408/model/model-325\n"
          ],
          "name": "stderr"
        },
        {
          "output_type": "stream",
          "text": [
            "INFO:tensorflow:Restoring parameters from /content/chembl_activity_models/ChEMBL26_SCN5A_IC50_human_ml_ready/NN_graphconv_scaffold_regression/bce8232a-7823-40ab-86db-a8299c6f3408/model/model-350\n"
          ],
          "name": "stdout"
        },
        {
          "output_type": "stream",
          "text": [
            "2020-10-13 20:38:03,599 Restoring parameters from /content/chembl_activity_models/ChEMBL26_SCN5A_IC50_human_ml_ready/NN_graphconv_scaffold_regression/bce8232a-7823-40ab-86db-a8299c6f3408/model/model-350\n"
          ],
          "name": "stderr"
        },
        {
          "output_type": "stream",
          "text": [
            "INFO:tensorflow:Restoring parameters from /content/chembl_activity_models/ChEMBL26_SCN5A_IC50_human_ml_ready/NN_graphconv_scaffold_regression/bce8232a-7823-40ab-86db-a8299c6f3408/model/model-375\n"
          ],
          "name": "stdout"
        },
        {
          "output_type": "stream",
          "text": [
            "2020-10-13 20:38:09,896 Restoring parameters from /content/chembl_activity_models/ChEMBL26_SCN5A_IC50_human_ml_ready/NN_graphconv_scaffold_regression/bce8232a-7823-40ab-86db-a8299c6f3408/model/model-375\n"
          ],
          "name": "stderr"
        },
        {
          "output_type": "stream",
          "text": [
            "INFO:tensorflow:Restoring parameters from /content/chembl_activity_models/ChEMBL26_SCN5A_IC50_human_ml_ready/NN_graphconv_scaffold_regression/bce8232a-7823-40ab-86db-a8299c6f3408/model/model-400\n"
          ],
          "name": "stdout"
        },
        {
          "output_type": "stream",
          "text": [
            "2020-10-13 20:38:16,170 Restoring parameters from /content/chembl_activity_models/ChEMBL26_SCN5A_IC50_human_ml_ready/NN_graphconv_scaffold_regression/bce8232a-7823-40ab-86db-a8299c6f3408/model/model-400\n"
          ],
          "name": "stderr"
        },
        {
          "output_type": "stream",
          "text": [
            "INFO:tensorflow:Restoring parameters from /content/chembl_activity_models/ChEMBL26_SCN5A_IC50_human_ml_ready/NN_graphconv_scaffold_regression/bce8232a-7823-40ab-86db-a8299c6f3408/model/model-425\n"
          ],
          "name": "stdout"
        },
        {
          "output_type": "stream",
          "text": [
            "2020-10-13 20:38:22,264 Restoring parameters from /content/chembl_activity_models/ChEMBL26_SCN5A_IC50_human_ml_ready/NN_graphconv_scaffold_regression/bce8232a-7823-40ab-86db-a8299c6f3408/model/model-425\n"
          ],
          "name": "stderr"
        },
        {
          "output_type": "stream",
          "text": [
            "INFO:tensorflow:Restoring parameters from /content/chembl_activity_models/ChEMBL26_SCN5A_IC50_human_ml_ready/NN_graphconv_scaffold_regression/bce8232a-7823-40ab-86db-a8299c6f3408/model/model-450\n"
          ],
          "name": "stdout"
        },
        {
          "output_type": "stream",
          "text": [
            "2020-10-13 20:38:28,506 Restoring parameters from /content/chembl_activity_models/ChEMBL26_SCN5A_IC50_human_ml_ready/NN_graphconv_scaffold_regression/bce8232a-7823-40ab-86db-a8299c6f3408/model/model-450\n"
          ],
          "name": "stderr"
        },
        {
          "output_type": "stream",
          "text": [
            "INFO:tensorflow:Restoring parameters from /content/chembl_activity_models/ChEMBL26_SCN5A_IC50_human_ml_ready/NN_graphconv_scaffold_regression/bce8232a-7823-40ab-86db-a8299c6f3408/model/model-475\n"
          ],
          "name": "stdout"
        },
        {
          "output_type": "stream",
          "text": [
            "2020-10-13 20:38:34,801 Restoring parameters from /content/chembl_activity_models/ChEMBL26_SCN5A_IC50_human_ml_ready/NN_graphconv_scaffold_regression/bce8232a-7823-40ab-86db-a8299c6f3408/model/model-475\n"
          ],
          "name": "stderr"
        },
        {
          "output_type": "stream",
          "text": [
            "INFO:tensorflow:Restoring parameters from /content/chembl_activity_models/ChEMBL26_SCN5A_IC50_human_ml_ready/NN_graphconv_scaffold_regression/bce8232a-7823-40ab-86db-a8299c6f3408/model/model-500\n"
          ],
          "name": "stdout"
        },
        {
          "output_type": "stream",
          "text": [
            "2020-10-13 20:38:40,887 Restoring parameters from /content/chembl_activity_models/ChEMBL26_SCN5A_IC50_human_ml_ready/NN_graphconv_scaffold_regression/bce8232a-7823-40ab-86db-a8299c6f3408/model/model-500\n"
          ],
          "name": "stderr"
        },
        {
          "output_type": "stream",
          "text": [
            "INFO:tensorflow:Restoring parameters from /content/chembl_activity_models/ChEMBL26_SCN5A_IC50_human_ml_ready/NN_graphconv_scaffold_regression/bce8232a-7823-40ab-86db-a8299c6f3408/model/model-525\n"
          ],
          "name": "stdout"
        },
        {
          "output_type": "stream",
          "text": [
            "2020-10-13 20:38:47,252 Restoring parameters from /content/chembl_activity_models/ChEMBL26_SCN5A_IC50_human_ml_ready/NN_graphconv_scaffold_regression/bce8232a-7823-40ab-86db-a8299c6f3408/model/model-525\n"
          ],
          "name": "stderr"
        },
        {
          "output_type": "stream",
          "text": [
            "INFO:tensorflow:Restoring parameters from /content/chembl_activity_models/ChEMBL26_SCN5A_IC50_human_ml_ready/NN_graphconv_scaffold_regression/bce8232a-7823-40ab-86db-a8299c6f3408/model/model-550\n"
          ],
          "name": "stdout"
        },
        {
          "output_type": "stream",
          "text": [
            "2020-10-13 20:38:53,485 Restoring parameters from /content/chembl_activity_models/ChEMBL26_SCN5A_IC50_human_ml_ready/NN_graphconv_scaffold_regression/bce8232a-7823-40ab-86db-a8299c6f3408/model/model-550\n"
          ],
          "name": "stderr"
        },
        {
          "output_type": "stream",
          "text": [
            "INFO:tensorflow:Restoring parameters from /content/chembl_activity_models/ChEMBL26_SCN5A_IC50_human_ml_ready/NN_graphconv_scaffold_regression/bce8232a-7823-40ab-86db-a8299c6f3408/model/model-575\n"
          ],
          "name": "stdout"
        },
        {
          "output_type": "stream",
          "text": [
            "2020-10-13 20:38:59,907 Restoring parameters from /content/chembl_activity_models/ChEMBL26_SCN5A_IC50_human_ml_ready/NN_graphconv_scaffold_regression/bce8232a-7823-40ab-86db-a8299c6f3408/model/model-575\n"
          ],
          "name": "stderr"
        },
        {
          "output_type": "stream",
          "text": [
            "INFO:tensorflow:Restoring parameters from /content/chembl_activity_models/ChEMBL26_SCN5A_IC50_human_ml_ready/NN_graphconv_scaffold_regression/bce8232a-7823-40ab-86db-a8299c6f3408/model/model-600\n"
          ],
          "name": "stdout"
        },
        {
          "output_type": "stream",
          "text": [
            "2020-10-13 20:39:06,436 Restoring parameters from /content/chembl_activity_models/ChEMBL26_SCN5A_IC50_human_ml_ready/NN_graphconv_scaffold_regression/bce8232a-7823-40ab-86db-a8299c6f3408/model/model-600\n"
          ],
          "name": "stderr"
        },
        {
          "output_type": "stream",
          "text": [
            "INFO:tensorflow:Restoring parameters from /content/chembl_activity_models/ChEMBL26_SCN5A_IC50_human_ml_ready/NN_graphconv_scaffold_regression/bce8232a-7823-40ab-86db-a8299c6f3408/model/model-625\n"
          ],
          "name": "stdout"
        },
        {
          "output_type": "stream",
          "text": [
            "2020-10-13 20:39:12,712 Restoring parameters from /content/chembl_activity_models/ChEMBL26_SCN5A_IC50_human_ml_ready/NN_graphconv_scaffold_regression/bce8232a-7823-40ab-86db-a8299c6f3408/model/model-625\n"
          ],
          "name": "stderr"
        },
        {
          "output_type": "stream",
          "text": [
            "INFO:tensorflow:Restoring parameters from /content/chembl_activity_models/ChEMBL26_SCN5A_IC50_human_ml_ready/NN_graphconv_scaffold_regression/bce8232a-7823-40ab-86db-a8299c6f3408/model/model-650\n"
          ],
          "name": "stdout"
        },
        {
          "output_type": "stream",
          "text": [
            "2020-10-13 20:39:19,250 Restoring parameters from /content/chembl_activity_models/ChEMBL26_SCN5A_IC50_human_ml_ready/NN_graphconv_scaffold_regression/bce8232a-7823-40ab-86db-a8299c6f3408/model/model-650\n"
          ],
          "name": "stderr"
        },
        {
          "output_type": "stream",
          "text": [
            "INFO:tensorflow:Restoring parameters from /content/chembl_activity_models/ChEMBL26_SCN5A_IC50_human_ml_ready/NN_graphconv_scaffold_regression/bce8232a-7823-40ab-86db-a8299c6f3408/model/model-675\n"
          ],
          "name": "stdout"
        },
        {
          "output_type": "stream",
          "text": [
            "2020-10-13 20:39:25,574 Restoring parameters from /content/chembl_activity_models/ChEMBL26_SCN5A_IC50_human_ml_ready/NN_graphconv_scaffold_regression/bce8232a-7823-40ab-86db-a8299c6f3408/model/model-675\n"
          ],
          "name": "stderr"
        },
        {
          "output_type": "stream",
          "text": [
            "INFO:tensorflow:Restoring parameters from /content/chembl_activity_models/ChEMBL26_SCN5A_IC50_human_ml_ready/NN_graphconv_scaffold_regression/bce8232a-7823-40ab-86db-a8299c6f3408/model/model-700\n"
          ],
          "name": "stdout"
        },
        {
          "output_type": "stream",
          "text": [
            "2020-10-13 20:39:31,922 Restoring parameters from /content/chembl_activity_models/ChEMBL26_SCN5A_IC50_human_ml_ready/NN_graphconv_scaffold_regression/bce8232a-7823-40ab-86db-a8299c6f3408/model/model-700\n"
          ],
          "name": "stderr"
        },
        {
          "output_type": "stream",
          "text": [
            "INFO:tensorflow:Restoring parameters from /content/chembl_activity_models/ChEMBL26_SCN5A_IC50_human_ml_ready/NN_graphconv_scaffold_regression/bce8232a-7823-40ab-86db-a8299c6f3408/model/model-725\n"
          ],
          "name": "stdout"
        },
        {
          "output_type": "stream",
          "text": [
            "2020-10-13 20:39:38,471 Restoring parameters from /content/chembl_activity_models/ChEMBL26_SCN5A_IC50_human_ml_ready/NN_graphconv_scaffold_regression/bce8232a-7823-40ab-86db-a8299c6f3408/model/model-725\n"
          ],
          "name": "stderr"
        },
        {
          "output_type": "stream",
          "text": [
            "INFO:tensorflow:Restoring parameters from /content/chembl_activity_models/ChEMBL26_SCN5A_IC50_human_ml_ready/NN_graphconv_scaffold_regression/bce8232a-7823-40ab-86db-a8299c6f3408/model/model-750\n"
          ],
          "name": "stdout"
        },
        {
          "output_type": "stream",
          "text": [
            "2020-10-13 20:39:44,812 Restoring parameters from /content/chembl_activity_models/ChEMBL26_SCN5A_IC50_human_ml_ready/NN_graphconv_scaffold_regression/bce8232a-7823-40ab-86db-a8299c6f3408/model/model-750\n"
          ],
          "name": "stderr"
        },
        {
          "output_type": "stream",
          "text": [
            "INFO:tensorflow:Restoring parameters from /content/chembl_activity_models/ChEMBL26_SCN5A_IC50_human_ml_ready/NN_graphconv_scaffold_regression/bce8232a-7823-40ab-86db-a8299c6f3408/model/model-775\n"
          ],
          "name": "stdout"
        },
        {
          "output_type": "stream",
          "text": [
            "2020-10-13 20:39:51,621 Restoring parameters from /content/chembl_activity_models/ChEMBL26_SCN5A_IC50_human_ml_ready/NN_graphconv_scaffold_regression/bce8232a-7823-40ab-86db-a8299c6f3408/model/model-775\n"
          ],
          "name": "stderr"
        },
        {
          "output_type": "stream",
          "text": [
            "INFO:tensorflow:Restoring parameters from /content/chembl_activity_models/ChEMBL26_SCN5A_IC50_human_ml_ready/NN_graphconv_scaffold_regression/bce8232a-7823-40ab-86db-a8299c6f3408/model/model-800\n"
          ],
          "name": "stdout"
        },
        {
          "output_type": "stream",
          "text": [
            "2020-10-13 20:39:58,157 Restoring parameters from /content/chembl_activity_models/ChEMBL26_SCN5A_IC50_human_ml_ready/NN_graphconv_scaffold_regression/bce8232a-7823-40ab-86db-a8299c6f3408/model/model-800\n"
          ],
          "name": "stderr"
        },
        {
          "output_type": "stream",
          "text": [
            "INFO:tensorflow:Restoring parameters from /content/chembl_activity_models/ChEMBL26_SCN5A_IC50_human_ml_ready/NN_graphconv_scaffold_regression/bce8232a-7823-40ab-86db-a8299c6f3408/model/model-825\n"
          ],
          "name": "stdout"
        },
        {
          "output_type": "stream",
          "text": [
            "2020-10-13 20:40:04,601 Restoring parameters from /content/chembl_activity_models/ChEMBL26_SCN5A_IC50_human_ml_ready/NN_graphconv_scaffold_regression/bce8232a-7823-40ab-86db-a8299c6f3408/model/model-825\n"
          ],
          "name": "stderr"
        },
        {
          "output_type": "stream",
          "text": [
            "INFO:tensorflow:Restoring parameters from /content/chembl_activity_models/ChEMBL26_SCN5A_IC50_human_ml_ready/NN_graphconv_scaffold_regression/bce8232a-7823-40ab-86db-a8299c6f3408/model/model-850\n"
          ],
          "name": "stdout"
        },
        {
          "output_type": "stream",
          "text": [
            "2020-10-13 20:40:11,327 Restoring parameters from /content/chembl_activity_models/ChEMBL26_SCN5A_IC50_human_ml_ready/NN_graphconv_scaffold_regression/bce8232a-7823-40ab-86db-a8299c6f3408/model/model-850\n"
          ],
          "name": "stderr"
        },
        {
          "output_type": "stream",
          "text": [
            "INFO:tensorflow:Restoring parameters from /content/chembl_activity_models/ChEMBL26_SCN5A_IC50_human_ml_ready/NN_graphconv_scaffold_regression/bce8232a-7823-40ab-86db-a8299c6f3408/model/model-875\n"
          ],
          "name": "stdout"
        },
        {
          "output_type": "stream",
          "text": [
            "2020-10-13 20:40:17,779 Restoring parameters from /content/chembl_activity_models/ChEMBL26_SCN5A_IC50_human_ml_ready/NN_graphconv_scaffold_regression/bce8232a-7823-40ab-86db-a8299c6f3408/model/model-875\n"
          ],
          "name": "stderr"
        },
        {
          "output_type": "stream",
          "text": [
            "INFO:tensorflow:Restoring parameters from /content/chembl_activity_models/ChEMBL26_SCN5A_IC50_human_ml_ready/NN_graphconv_scaffold_regression/bce8232a-7823-40ab-86db-a8299c6f3408/model/model-900\n"
          ],
          "name": "stdout"
        },
        {
          "output_type": "stream",
          "text": [
            "2020-10-13 20:40:24,318 Restoring parameters from /content/chembl_activity_models/ChEMBL26_SCN5A_IC50_human_ml_ready/NN_graphconv_scaffold_regression/bce8232a-7823-40ab-86db-a8299c6f3408/model/model-900\n"
          ],
          "name": "stderr"
        },
        {
          "output_type": "stream",
          "text": [
            "INFO:tensorflow:Restoring parameters from /content/chembl_activity_models/ChEMBL26_SCN5A_IC50_human_ml_ready/NN_graphconv_scaffold_regression/bce8232a-7823-40ab-86db-a8299c6f3408/model/model-925\n"
          ],
          "name": "stdout"
        },
        {
          "output_type": "stream",
          "text": [
            "2020-10-13 20:40:30,888 Restoring parameters from /content/chembl_activity_models/ChEMBL26_SCN5A_IC50_human_ml_ready/NN_graphconv_scaffold_regression/bce8232a-7823-40ab-86db-a8299c6f3408/model/model-925\n"
          ],
          "name": "stderr"
        },
        {
          "output_type": "stream",
          "text": [
            "INFO:tensorflow:Restoring parameters from /content/chembl_activity_models/ChEMBL26_SCN5A_IC50_human_ml_ready/NN_graphconv_scaffold_regression/bce8232a-7823-40ab-86db-a8299c6f3408/model/model-950\n"
          ],
          "name": "stdout"
        },
        {
          "output_type": "stream",
          "text": [
            "2020-10-13 20:40:37,469 Restoring parameters from /content/chembl_activity_models/ChEMBL26_SCN5A_IC50_human_ml_ready/NN_graphconv_scaffold_regression/bce8232a-7823-40ab-86db-a8299c6f3408/model/model-950\n"
          ],
          "name": "stderr"
        },
        {
          "output_type": "stream",
          "text": [
            "INFO:tensorflow:Restoring parameters from /content/chembl_activity_models/ChEMBL26_SCN5A_IC50_human_ml_ready/NN_graphconv_scaffold_regression/bce8232a-7823-40ab-86db-a8299c6f3408/model/model-975\n"
          ],
          "name": "stdout"
        },
        {
          "output_type": "stream",
          "text": [
            "2020-10-13 20:40:44,328 Restoring parameters from /content/chembl_activity_models/ChEMBL26_SCN5A_IC50_human_ml_ready/NN_graphconv_scaffold_regression/bce8232a-7823-40ab-86db-a8299c6f3408/model/model-975\n"
          ],
          "name": "stderr"
        },
        {
          "output_type": "stream",
          "text": [
            "INFO:tensorflow:Restoring parameters from /content/chembl_activity_models/ChEMBL26_SCN5A_IC50_human_ml_ready/NN_graphconv_scaffold_regression/bce8232a-7823-40ab-86db-a8299c6f3408/model/model-1000\n"
          ],
          "name": "stdout"
        },
        {
          "output_type": "stream",
          "text": [
            "2020-10-13 20:40:51,686 Restoring parameters from /content/chembl_activity_models/ChEMBL26_SCN5A_IC50_human_ml_ready/NN_graphconv_scaffold_regression/bce8232a-7823-40ab-86db-a8299c6f3408/model/model-1000\n"
          ],
          "name": "stderr"
        },
        {
          "output_type": "stream",
          "text": [
            "INFO:tensorflow:Restoring parameters from /content/chembl_activity_models/ChEMBL26_SCN5A_IC50_human_ml_ready/NN_graphconv_scaffold_regression/bce8232a-7823-40ab-86db-a8299c6f3408/model/model-1025\n"
          ],
          "name": "stdout"
        },
        {
          "output_type": "stream",
          "text": [
            "2020-10-13 20:40:58,323 Restoring parameters from /content/chembl_activity_models/ChEMBL26_SCN5A_IC50_human_ml_ready/NN_graphconv_scaffold_regression/bce8232a-7823-40ab-86db-a8299c6f3408/model/model-1025\n"
          ],
          "name": "stderr"
        },
        {
          "output_type": "stream",
          "text": [
            "INFO:tensorflow:Restoring parameters from /content/chembl_activity_models/ChEMBL26_SCN5A_IC50_human_ml_ready/NN_graphconv_scaffold_regression/bce8232a-7823-40ab-86db-a8299c6f3408/model/model-1050\n"
          ],
          "name": "stdout"
        },
        {
          "output_type": "stream",
          "text": [
            "2020-10-13 20:41:04,938 Restoring parameters from /content/chembl_activity_models/ChEMBL26_SCN5A_IC50_human_ml_ready/NN_graphconv_scaffold_regression/bce8232a-7823-40ab-86db-a8299c6f3408/model/model-1050\n"
          ],
          "name": "stderr"
        },
        {
          "output_type": "stream",
          "text": [
            "INFO:tensorflow:Restoring parameters from /content/chembl_activity_models/ChEMBL26_SCN5A_IC50_human_ml_ready/NN_graphconv_scaffold_regression/bce8232a-7823-40ab-86db-a8299c6f3408/model/model-1075\n"
          ],
          "name": "stdout"
        },
        {
          "output_type": "stream",
          "text": [
            "2020-10-13 20:41:11,586 Restoring parameters from /content/chembl_activity_models/ChEMBL26_SCN5A_IC50_human_ml_ready/NN_graphconv_scaffold_regression/bce8232a-7823-40ab-86db-a8299c6f3408/model/model-1075\n"
          ],
          "name": "stderr"
        },
        {
          "output_type": "stream",
          "text": [
            "INFO:tensorflow:Restoring parameters from /content/chembl_activity_models/ChEMBL26_SCN5A_IC50_human_ml_ready/NN_graphconv_scaffold_regression/bce8232a-7823-40ab-86db-a8299c6f3408/model/model-1100\n"
          ],
          "name": "stdout"
        },
        {
          "output_type": "stream",
          "text": [
            "2020-10-13 20:41:18,251 Restoring parameters from /content/chembl_activity_models/ChEMBL26_SCN5A_IC50_human_ml_ready/NN_graphconv_scaffold_regression/bce8232a-7823-40ab-86db-a8299c6f3408/model/model-1100\n"
          ],
          "name": "stderr"
        },
        {
          "output_type": "stream",
          "text": [
            "INFO:tensorflow:Restoring parameters from /content/chembl_activity_models/ChEMBL26_SCN5A_IC50_human_ml_ready/NN_graphconv_scaffold_regression/bce8232a-7823-40ab-86db-a8299c6f3408/model/model-1125\n"
          ],
          "name": "stdout"
        },
        {
          "output_type": "stream",
          "text": [
            "2020-10-13 20:41:24,999 Restoring parameters from /content/chembl_activity_models/ChEMBL26_SCN5A_IC50_human_ml_ready/NN_graphconv_scaffold_regression/bce8232a-7823-40ab-86db-a8299c6f3408/model/model-1125\n"
          ],
          "name": "stderr"
        },
        {
          "output_type": "stream",
          "text": [
            "INFO:tensorflow:Restoring parameters from /content/chembl_activity_models/ChEMBL26_SCN5A_IC50_human_ml_ready/NN_graphconv_scaffold_regression/bce8232a-7823-40ab-86db-a8299c6f3408/model/model-1150\n"
          ],
          "name": "stdout"
        },
        {
          "output_type": "stream",
          "text": [
            "2020-10-13 20:41:31,926 Restoring parameters from /content/chembl_activity_models/ChEMBL26_SCN5A_IC50_human_ml_ready/NN_graphconv_scaffold_regression/bce8232a-7823-40ab-86db-a8299c6f3408/model/model-1150\n"
          ],
          "name": "stderr"
        },
        {
          "output_type": "stream",
          "text": [
            "INFO:tensorflow:Restoring parameters from /content/chembl_activity_models/ChEMBL26_SCN5A_IC50_human_ml_ready/NN_graphconv_scaffold_regression/bce8232a-7823-40ab-86db-a8299c6f3408/model/model-1175\n"
          ],
          "name": "stdout"
        },
        {
          "output_type": "stream",
          "text": [
            "2020-10-13 20:41:38,744 Restoring parameters from /content/chembl_activity_models/ChEMBL26_SCN5A_IC50_human_ml_ready/NN_graphconv_scaffold_regression/bce8232a-7823-40ab-86db-a8299c6f3408/model/model-1175\n"
          ],
          "name": "stderr"
        },
        {
          "output_type": "stream",
          "text": [
            "INFO:tensorflow:Restoring parameters from /content/chembl_activity_models/ChEMBL26_SCN5A_IC50_human_ml_ready/NN_graphconv_scaffold_regression/bce8232a-7823-40ab-86db-a8299c6f3408/model/model-1200\n"
          ],
          "name": "stdout"
        },
        {
          "output_type": "stream",
          "text": [
            "2020-10-13 20:41:45,525 Restoring parameters from /content/chembl_activity_models/ChEMBL26_SCN5A_IC50_human_ml_ready/NN_graphconv_scaffold_regression/bce8232a-7823-40ab-86db-a8299c6f3408/model/model-1200\n"
          ],
          "name": "stderr"
        },
        {
          "output_type": "stream",
          "text": [
            "INFO:tensorflow:Restoring parameters from /content/chembl_activity_models/ChEMBL26_SCN5A_IC50_human_ml_ready/NN_graphconv_scaffold_regression/bce8232a-7823-40ab-86db-a8299c6f3408/model/model-1225\n"
          ],
          "name": "stdout"
        },
        {
          "output_type": "stream",
          "text": [
            "2020-10-13 20:41:52,353 Restoring parameters from /content/chembl_activity_models/ChEMBL26_SCN5A_IC50_human_ml_ready/NN_graphconv_scaffold_regression/bce8232a-7823-40ab-86db-a8299c6f3408/model/model-1225\n"
          ],
          "name": "stderr"
        },
        {
          "output_type": "stream",
          "text": [
            "INFO:tensorflow:Restoring parameters from /content/chembl_activity_models/ChEMBL26_SCN5A_IC50_human_ml_ready/NN_graphconv_scaffold_regression/bce8232a-7823-40ab-86db-a8299c6f3408/model/model-1250\n"
          ],
          "name": "stdout"
        },
        {
          "output_type": "stream",
          "text": [
            "2020-10-13 20:41:59,238 Restoring parameters from /content/chembl_activity_models/ChEMBL26_SCN5A_IC50_human_ml_ready/NN_graphconv_scaffold_regression/bce8232a-7823-40ab-86db-a8299c6f3408/model/model-1250\n"
          ],
          "name": "stderr"
        },
        {
          "output_type": "stream",
          "text": [
            "INFO:tensorflow:Restoring parameters from /content/chembl_activity_models/ChEMBL26_SCN5A_IC50_human_ml_ready/NN_graphconv_scaffold_regression/bce8232a-7823-40ab-86db-a8299c6f3408/model/model-1275\n"
          ],
          "name": "stdout"
        },
        {
          "output_type": "stream",
          "text": [
            "2020-10-13 20:42:06,158 Restoring parameters from /content/chembl_activity_models/ChEMBL26_SCN5A_IC50_human_ml_ready/NN_graphconv_scaffold_regression/bce8232a-7823-40ab-86db-a8299c6f3408/model/model-1275\n"
          ],
          "name": "stderr"
        },
        {
          "output_type": "stream",
          "text": [
            "INFO:tensorflow:Restoring parameters from /content/chembl_activity_models/ChEMBL26_SCN5A_IC50_human_ml_ready/NN_graphconv_scaffold_regression/bce8232a-7823-40ab-86db-a8299c6f3408/model/model-1300\n"
          ],
          "name": "stdout"
        },
        {
          "output_type": "stream",
          "text": [
            "2020-10-13 20:42:13,078 Restoring parameters from /content/chembl_activity_models/ChEMBL26_SCN5A_IC50_human_ml_ready/NN_graphconv_scaffold_regression/bce8232a-7823-40ab-86db-a8299c6f3408/model/model-1300\n"
          ],
          "name": "stderr"
        },
        {
          "output_type": "stream",
          "text": [
            "INFO:tensorflow:Restoring parameters from /content/chembl_activity_models/ChEMBL26_SCN5A_IC50_human_ml_ready/NN_graphconv_scaffold_regression/bce8232a-7823-40ab-86db-a8299c6f3408/model/model-1325\n"
          ],
          "name": "stdout"
        },
        {
          "output_type": "stream",
          "text": [
            "2020-10-13 20:42:20,014 Restoring parameters from /content/chembl_activity_models/ChEMBL26_SCN5A_IC50_human_ml_ready/NN_graphconv_scaffold_regression/bce8232a-7823-40ab-86db-a8299c6f3408/model/model-1325\n"
          ],
          "name": "stderr"
        },
        {
          "output_type": "stream",
          "text": [
            "INFO:tensorflow:Restoring parameters from /content/chembl_activity_models/ChEMBL26_SCN5A_IC50_human_ml_ready/NN_graphconv_scaffold_regression/bce8232a-7823-40ab-86db-a8299c6f3408/model/model-1350\n"
          ],
          "name": "stdout"
        },
        {
          "output_type": "stream",
          "text": [
            "2020-10-13 20:42:26,914 Restoring parameters from /content/chembl_activity_models/ChEMBL26_SCN5A_IC50_human_ml_ready/NN_graphconv_scaffold_regression/bce8232a-7823-40ab-86db-a8299c6f3408/model/model-1350\n"
          ],
          "name": "stderr"
        },
        {
          "output_type": "stream",
          "text": [
            "INFO:tensorflow:Restoring parameters from /content/chembl_activity_models/ChEMBL26_SCN5A_IC50_human_ml_ready/NN_graphconv_scaffold_regression/bce8232a-7823-40ab-86db-a8299c6f3408/model/model-1375\n"
          ],
          "name": "stdout"
        },
        {
          "output_type": "stream",
          "text": [
            "2020-10-13 20:42:33,922 Restoring parameters from /content/chembl_activity_models/ChEMBL26_SCN5A_IC50_human_ml_ready/NN_graphconv_scaffold_regression/bce8232a-7823-40ab-86db-a8299c6f3408/model/model-1375\n"
          ],
          "name": "stderr"
        },
        {
          "output_type": "stream",
          "text": [
            "INFO:tensorflow:Restoring parameters from /content/chembl_activity_models/ChEMBL26_SCN5A_IC50_human_ml_ready/NN_graphconv_scaffold_regression/bce8232a-7823-40ab-86db-a8299c6f3408/model/model-1400\n"
          ],
          "name": "stdout"
        },
        {
          "output_type": "stream",
          "text": [
            "2020-10-13 20:42:40,935 Restoring parameters from /content/chembl_activity_models/ChEMBL26_SCN5A_IC50_human_ml_ready/NN_graphconv_scaffold_regression/bce8232a-7823-40ab-86db-a8299c6f3408/model/model-1400\n"
          ],
          "name": "stderr"
        },
        {
          "output_type": "stream",
          "text": [
            "INFO:tensorflow:Restoring parameters from /content/chembl_activity_models/ChEMBL26_SCN5A_IC50_human_ml_ready/NN_graphconv_scaffold_regression/bce8232a-7823-40ab-86db-a8299c6f3408/model/model-1425\n"
          ],
          "name": "stdout"
        },
        {
          "output_type": "stream",
          "text": [
            "2020-10-13 20:42:47,901 Restoring parameters from /content/chembl_activity_models/ChEMBL26_SCN5A_IC50_human_ml_ready/NN_graphconv_scaffold_regression/bce8232a-7823-40ab-86db-a8299c6f3408/model/model-1425\n"
          ],
          "name": "stderr"
        },
        {
          "output_type": "stream",
          "text": [
            "INFO:tensorflow:Restoring parameters from /content/chembl_activity_models/ChEMBL26_SCN5A_IC50_human_ml_ready/NN_graphconv_scaffold_regression/bce8232a-7823-40ab-86db-a8299c6f3408/model/model-1450\n"
          ],
          "name": "stdout"
        },
        {
          "output_type": "stream",
          "text": [
            "2020-10-13 20:42:54,591 Restoring parameters from /content/chembl_activity_models/ChEMBL26_SCN5A_IC50_human_ml_ready/NN_graphconv_scaffold_regression/bce8232a-7823-40ab-86db-a8299c6f3408/model/model-1450\n"
          ],
          "name": "stderr"
        },
        {
          "output_type": "stream",
          "text": [
            "INFO:tensorflow:Restoring parameters from /content/chembl_activity_models/ChEMBL26_SCN5A_IC50_human_ml_ready/NN_graphconv_scaffold_regression/bce8232a-7823-40ab-86db-a8299c6f3408/model/model-1475\n"
          ],
          "name": "stdout"
        },
        {
          "output_type": "stream",
          "text": [
            "2020-10-13 20:43:01,630 Restoring parameters from /content/chembl_activity_models/ChEMBL26_SCN5A_IC50_human_ml_ready/NN_graphconv_scaffold_regression/bce8232a-7823-40ab-86db-a8299c6f3408/model/model-1475\n"
          ],
          "name": "stderr"
        },
        {
          "output_type": "stream",
          "text": [
            "INFO:tensorflow:Restoring parameters from /content/chembl_activity_models/ChEMBL26_SCN5A_IC50_human_ml_ready/NN_graphconv_scaffold_regression/bce8232a-7823-40ab-86db-a8299c6f3408/model/model-1500\n"
          ],
          "name": "stdout"
        },
        {
          "output_type": "stream",
          "text": [
            "2020-10-13 20:43:08,724 Restoring parameters from /content/chembl_activity_models/ChEMBL26_SCN5A_IC50_human_ml_ready/NN_graphconv_scaffold_regression/bce8232a-7823-40ab-86db-a8299c6f3408/model/model-1500\n"
          ],
          "name": "stderr"
        },
        {
          "output_type": "stream",
          "text": [
            "INFO:tensorflow:Restoring parameters from /content/chembl_activity_models/ChEMBL26_SCN5A_IC50_human_ml_ready/NN_graphconv_scaffold_regression/bce8232a-7823-40ab-86db-a8299c6f3408/model/model-1525\n"
          ],
          "name": "stdout"
        },
        {
          "output_type": "stream",
          "text": [
            "2020-10-13 20:43:15,808 Restoring parameters from /content/chembl_activity_models/ChEMBL26_SCN5A_IC50_human_ml_ready/NN_graphconv_scaffold_regression/bce8232a-7823-40ab-86db-a8299c6f3408/model/model-1525\n"
          ],
          "name": "stderr"
        },
        {
          "output_type": "stream",
          "text": [
            "INFO:tensorflow:Restoring parameters from /content/chembl_activity_models/ChEMBL26_SCN5A_IC50_human_ml_ready/NN_graphconv_scaffold_regression/bce8232a-7823-40ab-86db-a8299c6f3408/model/model-1550\n"
          ],
          "name": "stdout"
        },
        {
          "output_type": "stream",
          "text": [
            "2020-10-13 20:43:22,918 Restoring parameters from /content/chembl_activity_models/ChEMBL26_SCN5A_IC50_human_ml_ready/NN_graphconv_scaffold_regression/bce8232a-7823-40ab-86db-a8299c6f3408/model/model-1550\n"
          ],
          "name": "stderr"
        },
        {
          "output_type": "stream",
          "text": [
            "INFO:tensorflow:Restoring parameters from /content/chembl_activity_models/ChEMBL26_SCN5A_IC50_human_ml_ready/NN_graphconv_scaffold_regression/bce8232a-7823-40ab-86db-a8299c6f3408/model/model-1575\n"
          ],
          "name": "stdout"
        },
        {
          "output_type": "stream",
          "text": [
            "2020-10-13 20:43:30,107 Restoring parameters from /content/chembl_activity_models/ChEMBL26_SCN5A_IC50_human_ml_ready/NN_graphconv_scaffold_regression/bce8232a-7823-40ab-86db-a8299c6f3408/model/model-1575\n"
          ],
          "name": "stderr"
        },
        {
          "output_type": "stream",
          "text": [
            "INFO:tensorflow:Restoring parameters from /content/chembl_activity_models/ChEMBL26_SCN5A_IC50_human_ml_ready/NN_graphconv_scaffold_regression/bce8232a-7823-40ab-86db-a8299c6f3408/model/model-1600\n"
          ],
          "name": "stdout"
        },
        {
          "output_type": "stream",
          "text": [
            "2020-10-13 20:43:37,020 Restoring parameters from /content/chembl_activity_models/ChEMBL26_SCN5A_IC50_human_ml_ready/NN_graphconv_scaffold_regression/bce8232a-7823-40ab-86db-a8299c6f3408/model/model-1600\n"
          ],
          "name": "stderr"
        },
        {
          "output_type": "stream",
          "text": [
            "INFO:tensorflow:Restoring parameters from /content/chembl_activity_models/ChEMBL26_SCN5A_IC50_human_ml_ready/NN_graphconv_scaffold_regression/bce8232a-7823-40ab-86db-a8299c6f3408/model/model-1625\n"
          ],
          "name": "stdout"
        },
        {
          "output_type": "stream",
          "text": [
            "2020-10-13 20:43:44,195 Restoring parameters from /content/chembl_activity_models/ChEMBL26_SCN5A_IC50_human_ml_ready/NN_graphconv_scaffold_regression/bce8232a-7823-40ab-86db-a8299c6f3408/model/model-1625\n"
          ],
          "name": "stderr"
        },
        {
          "output_type": "stream",
          "text": [
            "INFO:tensorflow:Restoring parameters from /content/chembl_activity_models/ChEMBL26_SCN5A_IC50_human_ml_ready/NN_graphconv_scaffold_regression/bce8232a-7823-40ab-86db-a8299c6f3408/model/model-1650\n"
          ],
          "name": "stdout"
        },
        {
          "output_type": "stream",
          "text": [
            "2020-10-13 20:43:51,395 Restoring parameters from /content/chembl_activity_models/ChEMBL26_SCN5A_IC50_human_ml_ready/NN_graphconv_scaffold_regression/bce8232a-7823-40ab-86db-a8299c6f3408/model/model-1650\n"
          ],
          "name": "stderr"
        },
        {
          "output_type": "stream",
          "text": [
            "INFO:tensorflow:Restoring parameters from /content/chembl_activity_models/ChEMBL26_SCN5A_IC50_human_ml_ready/NN_graphconv_scaffold_regression/bce8232a-7823-40ab-86db-a8299c6f3408/model/model-1675\n"
          ],
          "name": "stdout"
        },
        {
          "output_type": "stream",
          "text": [
            "2020-10-13 20:43:58,629 Restoring parameters from /content/chembl_activity_models/ChEMBL26_SCN5A_IC50_human_ml_ready/NN_graphconv_scaffold_regression/bce8232a-7823-40ab-86db-a8299c6f3408/model/model-1675\n"
          ],
          "name": "stderr"
        },
        {
          "output_type": "stream",
          "text": [
            "INFO:tensorflow:Restoring parameters from /content/chembl_activity_models/ChEMBL26_SCN5A_IC50_human_ml_ready/NN_graphconv_scaffold_regression/bce8232a-7823-40ab-86db-a8299c6f3408/model/model-1700\n"
          ],
          "name": "stdout"
        },
        {
          "output_type": "stream",
          "text": [
            "2020-10-13 20:44:05,560 Restoring parameters from /content/chembl_activity_models/ChEMBL26_SCN5A_IC50_human_ml_ready/NN_graphconv_scaffold_regression/bce8232a-7823-40ab-86db-a8299c6f3408/model/model-1700\n"
          ],
          "name": "stderr"
        },
        {
          "output_type": "stream",
          "text": [
            "INFO:tensorflow:Restoring parameters from /content/chembl_activity_models/ChEMBL26_SCN5A_IC50_human_ml_ready/NN_graphconv_scaffold_regression/bce8232a-7823-40ab-86db-a8299c6f3408/model/model-1725\n"
          ],
          "name": "stdout"
        },
        {
          "output_type": "stream",
          "text": [
            "2020-10-13 20:44:12,882 Restoring parameters from /content/chembl_activity_models/ChEMBL26_SCN5A_IC50_human_ml_ready/NN_graphconv_scaffold_regression/bce8232a-7823-40ab-86db-a8299c6f3408/model/model-1725\n"
          ],
          "name": "stderr"
        },
        {
          "output_type": "stream",
          "text": [
            "INFO:tensorflow:Restoring parameters from /content/chembl_activity_models/ChEMBL26_SCN5A_IC50_human_ml_ready/NN_graphconv_scaffold_regression/bce8232a-7823-40ab-86db-a8299c6f3408/model/model-1750\n"
          ],
          "name": "stdout"
        },
        {
          "output_type": "stream",
          "text": [
            "2020-10-13 20:44:20,180 Restoring parameters from /content/chembl_activity_models/ChEMBL26_SCN5A_IC50_human_ml_ready/NN_graphconv_scaffold_regression/bce8232a-7823-40ab-86db-a8299c6f3408/model/model-1750\n"
          ],
          "name": "stderr"
        },
        {
          "output_type": "stream",
          "text": [
            "INFO:tensorflow:Restoring parameters from /content/chembl_activity_models/ChEMBL26_SCN5A_IC50_human_ml_ready/NN_graphconv_scaffold_regression/bce8232a-7823-40ab-86db-a8299c6f3408/model/model-1775\n"
          ],
          "name": "stdout"
        },
        {
          "output_type": "stream",
          "text": [
            "2020-10-13 20:44:27,149 Restoring parameters from /content/chembl_activity_models/ChEMBL26_SCN5A_IC50_human_ml_ready/NN_graphconv_scaffold_regression/bce8232a-7823-40ab-86db-a8299c6f3408/model/model-1775\n"
          ],
          "name": "stderr"
        },
        {
          "output_type": "stream",
          "text": [
            "INFO:tensorflow:Restoring parameters from /content/chembl_activity_models/ChEMBL26_SCN5A_IC50_human_ml_ready/NN_graphconv_scaffold_regression/bce8232a-7823-40ab-86db-a8299c6f3408/model/model-1800\n"
          ],
          "name": "stdout"
        },
        {
          "output_type": "stream",
          "text": [
            "2020-10-13 20:44:34,549 Restoring parameters from /content/chembl_activity_models/ChEMBL26_SCN5A_IC50_human_ml_ready/NN_graphconv_scaffold_regression/bce8232a-7823-40ab-86db-a8299c6f3408/model/model-1800\n"
          ],
          "name": "stderr"
        },
        {
          "output_type": "stream",
          "text": [
            "INFO:tensorflow:Restoring parameters from /content/chembl_activity_models/ChEMBL26_SCN5A_IC50_human_ml_ready/NN_graphconv_scaffold_regression/bce8232a-7823-40ab-86db-a8299c6f3408/model/model-1825\n"
          ],
          "name": "stdout"
        },
        {
          "output_type": "stream",
          "text": [
            "2020-10-13 20:44:41,956 Restoring parameters from /content/chembl_activity_models/ChEMBL26_SCN5A_IC50_human_ml_ready/NN_graphconv_scaffold_regression/bce8232a-7823-40ab-86db-a8299c6f3408/model/model-1825\n"
          ],
          "name": "stderr"
        },
        {
          "output_type": "stream",
          "text": [
            "INFO:tensorflow:Restoring parameters from /content/chembl_activity_models/ChEMBL26_SCN5A_IC50_human_ml_ready/NN_graphconv_scaffold_regression/bce8232a-7823-40ab-86db-a8299c6f3408/model/model-1850\n"
          ],
          "name": "stdout"
        },
        {
          "output_type": "stream",
          "text": [
            "2020-10-13 20:44:49,067 Restoring parameters from /content/chembl_activity_models/ChEMBL26_SCN5A_IC50_human_ml_ready/NN_graphconv_scaffold_regression/bce8232a-7823-40ab-86db-a8299c6f3408/model/model-1850\n"
          ],
          "name": "stderr"
        },
        {
          "output_type": "stream",
          "text": [
            "INFO:tensorflow:Restoring parameters from /content/chembl_activity_models/ChEMBL26_SCN5A_IC50_human_ml_ready/NN_graphconv_scaffold_regression/bce8232a-7823-40ab-86db-a8299c6f3408/model/model-1875\n"
          ],
          "name": "stdout"
        },
        {
          "output_type": "stream",
          "text": [
            "2020-10-13 20:44:56,573 Restoring parameters from /content/chembl_activity_models/ChEMBL26_SCN5A_IC50_human_ml_ready/NN_graphconv_scaffold_regression/bce8232a-7823-40ab-86db-a8299c6f3408/model/model-1875\n"
          ],
          "name": "stderr"
        },
        {
          "output_type": "stream",
          "text": [
            "INFO:tensorflow:Restoring parameters from /content/chembl_activity_models/ChEMBL26_SCN5A_IC50_human_ml_ready/NN_graphconv_scaffold_regression/bce8232a-7823-40ab-86db-a8299c6f3408/model/model-1900\n"
          ],
          "name": "stdout"
        },
        {
          "output_type": "stream",
          "text": [
            "2020-10-13 20:45:04,302 Restoring parameters from /content/chembl_activity_models/ChEMBL26_SCN5A_IC50_human_ml_ready/NN_graphconv_scaffold_regression/bce8232a-7823-40ab-86db-a8299c6f3408/model/model-1900\n"
          ],
          "name": "stderr"
        },
        {
          "output_type": "stream",
          "text": [
            "INFO:tensorflow:Restoring parameters from /content/chembl_activity_models/ChEMBL26_SCN5A_IC50_human_ml_ready/NN_graphconv_scaffold_regression/bce8232a-7823-40ab-86db-a8299c6f3408/model/model-1925\n"
          ],
          "name": "stdout"
        },
        {
          "output_type": "stream",
          "text": [
            "2020-10-13 20:45:11,541 Restoring parameters from /content/chembl_activity_models/ChEMBL26_SCN5A_IC50_human_ml_ready/NN_graphconv_scaffold_regression/bce8232a-7823-40ab-86db-a8299c6f3408/model/model-1925\n"
          ],
          "name": "stderr"
        },
        {
          "output_type": "stream",
          "text": [
            "INFO:tensorflow:Restoring parameters from /content/chembl_activity_models/ChEMBL26_SCN5A_IC50_human_ml_ready/NN_graphconv_scaffold_regression/bce8232a-7823-40ab-86db-a8299c6f3408/model/model-1950\n"
          ],
          "name": "stdout"
        },
        {
          "output_type": "stream",
          "text": [
            "2020-10-13 20:45:19,046 Restoring parameters from /content/chembl_activity_models/ChEMBL26_SCN5A_IC50_human_ml_ready/NN_graphconv_scaffold_regression/bce8232a-7823-40ab-86db-a8299c6f3408/model/model-1950\n"
          ],
          "name": "stderr"
        },
        {
          "output_type": "stream",
          "text": [
            "INFO:tensorflow:Restoring parameters from /content/chembl_activity_models/ChEMBL26_SCN5A_IC50_human_ml_ready/NN_graphconv_scaffold_regression/bce8232a-7823-40ab-86db-a8299c6f3408/model/model-1975\n"
          ],
          "name": "stdout"
        },
        {
          "output_type": "stream",
          "text": [
            "2020-10-13 20:45:26,191 Restoring parameters from /content/chembl_activity_models/ChEMBL26_SCN5A_IC50_human_ml_ready/NN_graphconv_scaffold_regression/bce8232a-7823-40ab-86db-a8299c6f3408/model/model-1975\n"
          ],
          "name": "stderr"
        },
        {
          "output_type": "stream",
          "text": [
            "INFO:tensorflow:Restoring parameters from /content/chembl_activity_models/ChEMBL26_SCN5A_IC50_human_ml_ready/NN_graphconv_scaffold_regression/bce8232a-7823-40ab-86db-a8299c6f3408/model/model-2000\n"
          ],
          "name": "stdout"
        },
        {
          "output_type": "stream",
          "text": [
            "2020-10-13 20:45:34,903 Restoring parameters from /content/chembl_activity_models/ChEMBL26_SCN5A_IC50_human_ml_ready/NN_graphconv_scaffold_regression/bce8232a-7823-40ab-86db-a8299c6f3408/model/model-2000\n"
          ],
          "name": "stderr"
        },
        {
          "output_type": "stream",
          "text": [
            "INFO:tensorflow:Restoring parameters from /content/chembl_activity_models/ChEMBL26_SCN5A_IC50_human_ml_ready/NN_graphconv_scaffold_regression/bce8232a-7823-40ab-86db-a8299c6f3408/model/model-2025\n"
          ],
          "name": "stdout"
        },
        {
          "output_type": "stream",
          "text": [
            "2020-10-13 20:45:42,165 Restoring parameters from /content/chembl_activity_models/ChEMBL26_SCN5A_IC50_human_ml_ready/NN_graphconv_scaffold_regression/bce8232a-7823-40ab-86db-a8299c6f3408/model/model-2025\n"
          ],
          "name": "stderr"
        },
        {
          "output_type": "stream",
          "text": [
            "INFO:tensorflow:Restoring parameters from /content/chembl_activity_models/ChEMBL26_SCN5A_IC50_human_ml_ready/NN_graphconv_scaffold_regression/bce8232a-7823-40ab-86db-a8299c6f3408/model/model-2050\n"
          ],
          "name": "stdout"
        },
        {
          "output_type": "stream",
          "text": [
            "2020-10-13 20:45:49,769 Restoring parameters from /content/chembl_activity_models/ChEMBL26_SCN5A_IC50_human_ml_ready/NN_graphconv_scaffold_regression/bce8232a-7823-40ab-86db-a8299c6f3408/model/model-2050\n"
          ],
          "name": "stderr"
        },
        {
          "output_type": "stream",
          "text": [
            "INFO:tensorflow:Restoring parameters from /content/chembl_activity_models/ChEMBL26_SCN5A_IC50_human_ml_ready/NN_graphconv_scaffold_regression/bce8232a-7823-40ab-86db-a8299c6f3408/model/model-2075\n"
          ],
          "name": "stdout"
        },
        {
          "output_type": "stream",
          "text": [
            "2020-10-13 20:45:57,456 Restoring parameters from /content/chembl_activity_models/ChEMBL26_SCN5A_IC50_human_ml_ready/NN_graphconv_scaffold_regression/bce8232a-7823-40ab-86db-a8299c6f3408/model/model-2075\n"
          ],
          "name": "stderr"
        },
        {
          "output_type": "stream",
          "text": [
            "INFO:tensorflow:Restoring parameters from /content/chembl_activity_models/ChEMBL26_SCN5A_IC50_human_ml_ready/NN_graphconv_scaffold_regression/bce8232a-7823-40ab-86db-a8299c6f3408/model/model-2100\n"
          ],
          "name": "stdout"
        },
        {
          "output_type": "stream",
          "text": [
            "2020-10-13 20:46:04,784 Restoring parameters from /content/chembl_activity_models/ChEMBL26_SCN5A_IC50_human_ml_ready/NN_graphconv_scaffold_regression/bce8232a-7823-40ab-86db-a8299c6f3408/model/model-2100\n"
          ],
          "name": "stderr"
        },
        {
          "output_type": "stream",
          "text": [
            "INFO:tensorflow:Restoring parameters from /content/chembl_activity_models/ChEMBL26_SCN5A_IC50_human_ml_ready/NN_graphconv_scaffold_regression/bce8232a-7823-40ab-86db-a8299c6f3408/model/model-2125\n"
          ],
          "name": "stdout"
        },
        {
          "output_type": "stream",
          "text": [
            "2020-10-13 20:46:12,575 Restoring parameters from /content/chembl_activity_models/ChEMBL26_SCN5A_IC50_human_ml_ready/NN_graphconv_scaffold_regression/bce8232a-7823-40ab-86db-a8299c6f3408/model/model-2125\n"
          ],
          "name": "stderr"
        },
        {
          "output_type": "stream",
          "text": [
            "INFO:tensorflow:Restoring parameters from /content/chembl_activity_models/ChEMBL26_SCN5A_IC50_human_ml_ready/NN_graphconv_scaffold_regression/bce8232a-7823-40ab-86db-a8299c6f3408/model/model-2150\n"
          ],
          "name": "stdout"
        },
        {
          "output_type": "stream",
          "text": [
            "2020-10-13 20:46:19,964 Restoring parameters from /content/chembl_activity_models/ChEMBL26_SCN5A_IC50_human_ml_ready/NN_graphconv_scaffold_regression/bce8232a-7823-40ab-86db-a8299c6f3408/model/model-2150\n"
          ],
          "name": "stderr"
        },
        {
          "output_type": "stream",
          "text": [
            "INFO:tensorflow:Restoring parameters from /content/chembl_activity_models/ChEMBL26_SCN5A_IC50_human_ml_ready/NN_graphconv_scaffold_regression/bce8232a-7823-40ab-86db-a8299c6f3408/model/model-2175\n"
          ],
          "name": "stdout"
        },
        {
          "output_type": "stream",
          "text": [
            "2020-10-13 20:46:27,795 Restoring parameters from /content/chembl_activity_models/ChEMBL26_SCN5A_IC50_human_ml_ready/NN_graphconv_scaffold_regression/bce8232a-7823-40ab-86db-a8299c6f3408/model/model-2175\n"
          ],
          "name": "stderr"
        },
        {
          "output_type": "stream",
          "text": [
            "INFO:tensorflow:Restoring parameters from /content/chembl_activity_models/ChEMBL26_SCN5A_IC50_human_ml_ready/NN_graphconv_scaffold_regression/bce8232a-7823-40ab-86db-a8299c6f3408/model/model-2200\n"
          ],
          "name": "stdout"
        },
        {
          "output_type": "stream",
          "text": [
            "2020-10-13 20:46:35,305 Restoring parameters from /content/chembl_activity_models/ChEMBL26_SCN5A_IC50_human_ml_ready/NN_graphconv_scaffold_regression/bce8232a-7823-40ab-86db-a8299c6f3408/model/model-2200\n"
          ],
          "name": "stderr"
        },
        {
          "output_type": "stream",
          "text": [
            "INFO:tensorflow:Restoring parameters from /content/chembl_activity_models/ChEMBL26_SCN5A_IC50_human_ml_ready/NN_graphconv_scaffold_regression/bce8232a-7823-40ab-86db-a8299c6f3408/model/model-2225\n"
          ],
          "name": "stdout"
        },
        {
          "output_type": "stream",
          "text": [
            "2020-10-13 20:46:43,265 Restoring parameters from /content/chembl_activity_models/ChEMBL26_SCN5A_IC50_human_ml_ready/NN_graphconv_scaffold_regression/bce8232a-7823-40ab-86db-a8299c6f3408/model/model-2225\n"
          ],
          "name": "stderr"
        },
        {
          "output_type": "stream",
          "text": [
            "INFO:tensorflow:Restoring parameters from /content/chembl_activity_models/ChEMBL26_SCN5A_IC50_human_ml_ready/NN_graphconv_scaffold_regression/bce8232a-7823-40ab-86db-a8299c6f3408/model/model-2250\n"
          ],
          "name": "stdout"
        },
        {
          "output_type": "stream",
          "text": [
            "2020-10-13 20:46:50,802 Restoring parameters from /content/chembl_activity_models/ChEMBL26_SCN5A_IC50_human_ml_ready/NN_graphconv_scaffold_regression/bce8232a-7823-40ab-86db-a8299c6f3408/model/model-2250\n"
          ],
          "name": "stderr"
        },
        {
          "output_type": "stream",
          "text": [
            "INFO:tensorflow:Restoring parameters from /content/chembl_activity_models/ChEMBL26_SCN5A_IC50_human_ml_ready/NN_graphconv_scaffold_regression/bce8232a-7823-40ab-86db-a8299c6f3408/model/model-2275\n"
          ],
          "name": "stdout"
        },
        {
          "output_type": "stream",
          "text": [
            "2020-10-13 20:46:58,736 Restoring parameters from /content/chembl_activity_models/ChEMBL26_SCN5A_IC50_human_ml_ready/NN_graphconv_scaffold_regression/bce8232a-7823-40ab-86db-a8299c6f3408/model/model-2275\n"
          ],
          "name": "stderr"
        },
        {
          "output_type": "stream",
          "text": [
            "INFO:tensorflow:Restoring parameters from /content/chembl_activity_models/ChEMBL26_SCN5A_IC50_human_ml_ready/NN_graphconv_scaffold_regression/bce8232a-7823-40ab-86db-a8299c6f3408/model/model-2300\n"
          ],
          "name": "stdout"
        },
        {
          "output_type": "stream",
          "text": [
            "2020-10-13 20:47:06,291 Restoring parameters from /content/chembl_activity_models/ChEMBL26_SCN5A_IC50_human_ml_ready/NN_graphconv_scaffold_regression/bce8232a-7823-40ab-86db-a8299c6f3408/model/model-2300\n"
          ],
          "name": "stderr"
        },
        {
          "output_type": "stream",
          "text": [
            "INFO:tensorflow:Restoring parameters from /content/chembl_activity_models/ChEMBL26_SCN5A_IC50_human_ml_ready/NN_graphconv_scaffold_regression/bce8232a-7823-40ab-86db-a8299c6f3408/model/model-2325\n"
          ],
          "name": "stdout"
        },
        {
          "output_type": "stream",
          "text": [
            "2020-10-13 20:47:13,827 Restoring parameters from /content/chembl_activity_models/ChEMBL26_SCN5A_IC50_human_ml_ready/NN_graphconv_scaffold_regression/bce8232a-7823-40ab-86db-a8299c6f3408/model/model-2325\n"
          ],
          "name": "stderr"
        },
        {
          "output_type": "stream",
          "text": [
            "INFO:tensorflow:Restoring parameters from /content/chembl_activity_models/ChEMBL26_SCN5A_IC50_human_ml_ready/NN_graphconv_scaffold_regression/bce8232a-7823-40ab-86db-a8299c6f3408/model/model-2350\n"
          ],
          "name": "stdout"
        },
        {
          "output_type": "stream",
          "text": [
            "2020-10-13 20:47:21,726 Restoring parameters from /content/chembl_activity_models/ChEMBL26_SCN5A_IC50_human_ml_ready/NN_graphconv_scaffold_regression/bce8232a-7823-40ab-86db-a8299c6f3408/model/model-2350\n"
          ],
          "name": "stderr"
        },
        {
          "output_type": "stream",
          "text": [
            "INFO:tensorflow:Restoring parameters from /content/chembl_activity_models/ChEMBL26_SCN5A_IC50_human_ml_ready/NN_graphconv_scaffold_regression/bce8232a-7823-40ab-86db-a8299c6f3408/model/model-2375\n"
          ],
          "name": "stdout"
        },
        {
          "output_type": "stream",
          "text": [
            "2020-10-13 20:47:29,465 Restoring parameters from /content/chembl_activity_models/ChEMBL26_SCN5A_IC50_human_ml_ready/NN_graphconv_scaffold_regression/bce8232a-7823-40ab-86db-a8299c6f3408/model/model-2375\n"
          ],
          "name": "stderr"
        },
        {
          "output_type": "stream",
          "text": [
            "INFO:tensorflow:Restoring parameters from /content/chembl_activity_models/ChEMBL26_SCN5A_IC50_human_ml_ready/NN_graphconv_scaffold_regression/bce8232a-7823-40ab-86db-a8299c6f3408/model/model-2400\n"
          ],
          "name": "stdout"
        },
        {
          "output_type": "stream",
          "text": [
            "2020-10-13 20:47:37,552 Restoring parameters from /content/chembl_activity_models/ChEMBL26_SCN5A_IC50_human_ml_ready/NN_graphconv_scaffold_regression/bce8232a-7823-40ab-86db-a8299c6f3408/model/model-2400\n"
          ],
          "name": "stderr"
        },
        {
          "output_type": "stream",
          "text": [
            "INFO:tensorflow:Restoring parameters from /content/chembl_activity_models/ChEMBL26_SCN5A_IC50_human_ml_ready/NN_graphconv_scaffold_regression/bce8232a-7823-40ab-86db-a8299c6f3408/model/model-2425\n"
          ],
          "name": "stdout"
        },
        {
          "output_type": "stream",
          "text": [
            "2020-10-13 20:47:45,218 Restoring parameters from /content/chembl_activity_models/ChEMBL26_SCN5A_IC50_human_ml_ready/NN_graphconv_scaffold_regression/bce8232a-7823-40ab-86db-a8299c6f3408/model/model-2425\n"
          ],
          "name": "stderr"
        },
        {
          "output_type": "stream",
          "text": [
            "INFO:tensorflow:Restoring parameters from /content/chembl_activity_models/ChEMBL26_SCN5A_IC50_human_ml_ready/NN_graphconv_scaffold_regression/bce8232a-7823-40ab-86db-a8299c6f3408/model/model-2450\n"
          ],
          "name": "stdout"
        },
        {
          "output_type": "stream",
          "text": [
            "2020-10-13 20:47:53,287 Restoring parameters from /content/chembl_activity_models/ChEMBL26_SCN5A_IC50_human_ml_ready/NN_graphconv_scaffold_regression/bce8232a-7823-40ab-86db-a8299c6f3408/model/model-2450\n"
          ],
          "name": "stderr"
        },
        {
          "output_type": "stream",
          "text": [
            "INFO:tensorflow:Restoring parameters from /content/chembl_activity_models/ChEMBL26_SCN5A_IC50_human_ml_ready/NN_graphconv_scaffold_regression/bce8232a-7823-40ab-86db-a8299c6f3408/model/model-2475\n"
          ],
          "name": "stdout"
        },
        {
          "output_type": "stream",
          "text": [
            "2020-10-13 20:48:01,007 Restoring parameters from /content/chembl_activity_models/ChEMBL26_SCN5A_IC50_human_ml_ready/NN_graphconv_scaffold_regression/bce8232a-7823-40ab-86db-a8299c6f3408/model/model-2475\n",
            "/content/AMPL/lib/python3.6/site-packages/atomsci/ddm/pipeline/model_wrapper.py:767: YAMLLoadWarning: calling yaml.load() without Loader=... is deprecated, as the default Loader is unsafe. Please read https://msg.pyyaml.org/load for full details.\n",
            "  chkpt_dict = yaml.load(chkpt_in.read())\n",
            "2020-10-13 20:49:31,976 Wrote model metadata to file /content/chembl_activity_models/ChEMBL26_SCN5A_IC50_human_ml_ready/NN_graphconv_scaffold_regression/bce8232a-7823-40ab-86db-a8299c6f3408/model_metadata.json\n",
            "2020-10-13 20:49:32,207 Wrote model metrics to file /content/chembl_activity_models/ChEMBL26_SCN5A_IC50_human_ml_ready/NN_graphconv_scaffold_regression/bce8232a-7823-40ab-86db-a8299c6f3408/model_metrics.json\n"
          ],
          "name": "stderr"
        },
        {
          "output_type": "stream",
          "text": [
            "Wrote model tarball to /content/chembl_activity_models/ChEMBL26_SCN5A_IC50_human_ml_ready_model_bce8232a-7823-40ab-86db-a8299c6f3408.tar.gz\n"
          ],
          "name": "stdout"
        }
      ]
    },
    {
      "cell_type": "code",
      "metadata": {
        "id": "pg58OZzSGfb3",
        "outputId": "b8c522de-841d-4f9d-dbea-8b9d6a108ed9",
        "colab": {
          "base_uri": "https://localhost:8080/",
          "height": 165
        }
      },
      "source": [
        "perf_df = cmp.get_filesystem_perf_results('/content/chembl_activity_models', pred_type='regression')\n",
        "perf_df"
      ],
      "execution_count": 23,
      "outputs": [
        {
          "output_type": "stream",
          "text": [
            "Found data for 1 models under /content/chembl_activity_models\n"
          ],
          "name": "stdout"
        },
        {
          "output_type": "execute_result",
          "data": {
            "text/html": [
              "<div>\n",
              "<style scoped>\n",
              "    .dataframe tbody tr th:only-of-type {\n",
              "        vertical-align: middle;\n",
              "    }\n",
              "\n",
              "    .dataframe tbody tr th {\n",
              "        vertical-align: top;\n",
              "    }\n",
              "\n",
              "    .dataframe thead th {\n",
              "        text-align: right;\n",
              "    }\n",
              "</style>\n",
              "<table border=\"1\" class=\"dataframe\">\n",
              "  <thead>\n",
              "    <tr style=\"text-align: right;\">\n",
              "      <th></th>\n",
              "      <th>model_uuid</th>\n",
              "      <th>model_type</th>\n",
              "      <th>dataset_key</th>\n",
              "      <th>featurizer</th>\n",
              "      <th>splitter</th>\n",
              "      <th>model_score_type</th>\n",
              "      <th>feature_transform_type</th>\n",
              "      <th>learning_rate</th>\n",
              "      <th>dropouts</th>\n",
              "      <th>layer_sizes</th>\n",
              "      <th>best_epoch</th>\n",
              "      <th>max_epochs</th>\n",
              "      <th>rf_estimators</th>\n",
              "      <th>rf_max_features</th>\n",
              "      <th>rf_max_depth</th>\n",
              "      <th>model_choice_score</th>\n",
              "      <th>train_r2_score</th>\n",
              "      <th>train_rms_score</th>\n",
              "      <th>train_mae_score</th>\n",
              "      <th>valid_r2_score</th>\n",
              "      <th>valid_rms_score</th>\n",
              "      <th>valid_mae_score</th>\n",
              "      <th>test_r2_score</th>\n",
              "      <th>test_rms_score</th>\n",
              "      <th>test_mae_score</th>\n",
              "    </tr>\n",
              "  </thead>\n",
              "  <tbody>\n",
              "    <tr>\n",
              "      <th>0</th>\n",
              "      <td>bce8232a-7823-40ab-86db-a8299c6f3408</td>\n",
              "      <td>NN</td>\n",
              "      <td>/content/ChEMBL26_SCN5A_IC50_human_ml_ready.csv</td>\n",
              "      <td>graphconv</td>\n",
              "      <td>scaffold</td>\n",
              "      <td>r2</td>\n",
              "      <td>normalization</td>\n",
              "      <td>0.0007</td>\n",
              "      <td>0.00,0.00,0.00</td>\n",
              "      <td>64,64,32</td>\n",
              "      <td>30</td>\n",
              "      <td>100</td>\n",
              "      <td>NaN</td>\n",
              "      <td>NaN</td>\n",
              "      <td>NaN</td>\n",
              "      <td>0.346238</td>\n",
              "      <td>0.755697</td>\n",
              "      <td>0.316926</td>\n",
              "      <td>0.233108</td>\n",
              "      <td>0.346238</td>\n",
              "      <td>0.475164</td>\n",
              "      <td>0.356624</td>\n",
              "      <td>0.28816</td>\n",
              "      <td>0.592226</td>\n",
              "      <td>0.390882</td>\n",
              "    </tr>\n",
              "  </tbody>\n",
              "</table>\n",
              "</div>"
            ],
            "text/plain": [
              "                             model_uuid  ... test_mae_score\n",
              "0  bce8232a-7823-40ab-86db-a8299c6f3408  ...       0.390882\n",
              "\n",
              "[1 rows x 25 columns]"
            ]
          },
          "metadata": {
            "tags": []
          },
          "execution_count": 23
        }
      ]
    },
    {
      "cell_type": "code",
      "metadata": {
        "id": "_b5hfx8qP49G"
      },
      "source": [
        "11:26"
      ],
      "execution_count": null,
      "outputs": []
    }
  ]
}