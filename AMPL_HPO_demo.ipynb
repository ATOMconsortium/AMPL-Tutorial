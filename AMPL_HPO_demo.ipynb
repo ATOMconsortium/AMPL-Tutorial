{
  "nbformat": 4,
  "nbformat_minor": 0,
  "metadata": {
    "colab": {
      "name": "install_ampl_37_test.ipynb",
      "provenance": [],
      "collapsed_sections": [],
      "include_colab_link": true
    },
    "kernelspec": {
      "name": "python3",
      "display_name": "Python 3"
    },
    "accelerator": "GPU"
  },
  "cells": [
    {
      "cell_type": "markdown",
      "metadata": {
        "id": "view-in-github",
        "colab_type": "text"
      },
      "source": [
        "<a href=\"https://colab.research.google.com/github/ravichas/AMPL-Tutorial/blob/master/AMPL_HPO_demo.ipynb\" target=\"_parent\"><img src=\"https://colab.research.google.com/assets/colab-badge.svg\" alt=\"Open In Colab\"/></a>"
      ]
    },
    {
      "cell_type": "markdown",
      "metadata": {
        "id": "SZ70ierx3pq2"
      },
      "source": [
        "### Install AMPL packages"
      ]
    },
    {
      "cell_type": "code",
      "metadata": {
        "colab": {
          "base_uri": "https://localhost:8080/"
        },
        "id": "nNuv4Q5KFABw",
        "outputId": "09b69bbf-3326-48c7-c68e-2e864012d0cc"
      },
      "source": [
        "! wget -c https://repo.anaconda.com/archive/Anaconda3-2019.10-Linux-x86_64.sh\n",
        "! chmod +x Anaconda3-2019.10-Linux-x86_64.sh\n",
        "! bash ./Anaconda3-2019.10-Linux-x86_64.sh -b -f -p /usr/local\n",
        "\n",
        "# ! wget -c https://repo.anaconda.com/miniconda/Miniconda3-py37_4.9.2-Linux-x86_64.sh \n",
        "# ! chmod +x Miniconda3-py37_4.9.2-Linux-x86_64.sh\n",
        "# ! time bash Miniconda3-py37_4.9.2-Linux-x86_64.sh -b -f -p /usr/local\n",
        "\n",
        "! time conda install -y -c deepchem -c rdkit -c conda-forge -c omnia deepchem-gpu=2.3.0\n",
        "import sys\n",
        "sys.path.append('/usr/local/lib/python3.7/site-packages/')\n",
        "import deepchem as dc"
      ],
      "execution_count": 2,
      "outputs": [
        {
          "output_type": "stream",
          "text": [
            "--2021-03-11 00:16:00--  https://repo.anaconda.com/archive/Anaconda3-2019.10-Linux-x86_64.sh\n",
            "Resolving repo.anaconda.com (repo.anaconda.com)... 104.16.130.3, 104.16.131.3, 2606:4700::6810:8203, ...\n",
            "Connecting to repo.anaconda.com (repo.anaconda.com)|104.16.130.3|:443... connected.\n",
            "HTTP request sent, awaiting response... 200 OK\n",
            "Length: 530308481 (506M) [application/x-sh]\n",
            "Saving to: ‘Anaconda3-2019.10-Linux-x86_64.sh’\n",
            "\n",
            "Anaconda3-2019.10-L 100%[===================>] 505.74M   128MB/s    in 3.7s    \n",
            "\n",
            "2021-03-11 00:16:04 (135 MB/s) - ‘Anaconda3-2019.10-Linux-x86_64.sh’ saved [530308481/530308481]\n",
            "\n",
            "PREFIX=/usr/local\n",
            "Unpacking payload ...\n",
            "Collecting package metadata (current_repodata.json): - \b\b\\ \b\b| \b\b/ \b\b- \b\b\\ \b\b| \b\bdone\n",
            "Solving environment: - \b\b\\ \b\b| \b\b/ \b\b- \b\b\\ \b\b| \b\b/ \b\b- \b\b\\ \b\b| \b\b/ \b\b- \b\b\\ \b\bdone\n",
            "\n",
            "## Package Plan ##\n",
            "\n",
            "  environment location: /usr/local\n",
            "\n",
            "  added / updated specs:\n",
            "    - _ipyw_jlab_nb_ext_conf==0.1.0=py37_0\n",
            "    - _libgcc_mutex==0.1=main\n",
            "    - alabaster==0.7.12=py37_0\n",
            "    - anaconda-client==1.7.2=py37_0\n",
            "    - anaconda-navigator==1.9.7=py37_0\n",
            "    - anaconda-project==0.8.3=py_0\n",
            "    - anaconda==2019.10=py37_0\n",
            "    - asn1crypto==1.0.1=py37_0\n",
            "    - astroid==2.3.1=py37_0\n",
            "    - astropy==3.2.2=py37h7b6447c_0\n",
            "    - atomicwrites==1.3.0=py37_1\n",
            "    - attrs==19.2.0=py_0\n",
            "    - babel==2.7.0=py_0\n",
            "    - backcall==0.1.0=py37_0\n",
            "    - backports.functools_lru_cache==1.5=py_2\n",
            "    - backports.os==0.1.1=py37_0\n",
            "    - backports.shutil_get_terminal_size==1.0.0=py37_2\n",
            "    - backports.tempfile==1.0=py_1\n",
            "    - backports.weakref==1.0.post1=py_1\n",
            "    - backports==1.0=py_2\n",
            "    - beautifulsoup4==4.8.0=py37_0\n",
            "    - bitarray==1.0.1=py37h7b6447c_0\n",
            "    - bkcharts==0.2=py37_0\n",
            "    - blas==1.0=mkl\n",
            "    - bleach==3.1.0=py37_0\n",
            "    - blosc==1.16.3=hd408876_0\n",
            "    - bokeh==1.3.4=py37_0\n",
            "    - boto==2.49.0=py37_0\n",
            "    - bottleneck==1.2.1=py37h035aef0_1\n",
            "    - bzip2==1.0.8=h7b6447c_0\n",
            "    - ca-certificates==2019.8.28=0\n",
            "    - cairo==1.14.12=h8948797_3\n",
            "    - certifi==2019.9.11=py37_0\n",
            "    - cffi==1.12.3=py37h2e261b9_0\n",
            "    - chardet==3.0.4=py37_1003\n",
            "    - click==7.0=py37_0\n",
            "    - cloudpickle==1.2.2=py_0\n",
            "    - clyent==1.2.2=py37_1\n",
            "    - colorama==0.4.1=py37_0\n",
            "    - conda-build==3.18.9=py37_3\n",
            "    - conda-env==2.6.0=1\n",
            "    - conda-package-handling==1.6.0=py37h7b6447c_0\n",
            "    - conda-verify==3.4.2=py_1\n",
            "    - conda==4.7.12=py37_0\n",
            "    - contextlib2==0.6.0=py_0\n",
            "    - cryptography==2.7=py37h1ba5d50_0\n",
            "    - curl==7.65.3=hbc83047_0\n",
            "    - cycler==0.10.0=py37_0\n",
            "    - cython==0.29.13=py37he6710b0_0\n",
            "    - cytoolz==0.10.0=py37h7b6447c_0\n",
            "    - dask-core==2.5.2=py_0\n",
            "    - dask==2.5.2=py_0\n",
            "    - dbus==1.13.6=h746ee38_0\n",
            "    - decorator==4.4.0=py37_1\n",
            "    - defusedxml==0.6.0=py_0\n",
            "    - distributed==2.5.2=py_0\n",
            "    - docutils==0.15.2=py37_0\n",
            "    - entrypoints==0.3=py37_0\n",
            "    - et_xmlfile==1.0.1=py37_0\n",
            "    - expat==2.2.6=he6710b0_0\n",
            "    - fastcache==1.1.0=py37h7b6447c_0\n",
            "    - filelock==3.0.12=py_0\n",
            "    - flask==1.1.1=py_0\n",
            "    - fontconfig==2.13.0=h9420a91_0\n",
            "    - freetype==2.9.1=h8a8886c_1\n",
            "    - fribidi==1.0.5=h7b6447c_0\n",
            "    - fsspec==0.5.2=py_0\n",
            "    - future==0.17.1=py37_0\n",
            "    - get_terminal_size==1.0.0=haa9412d_0\n",
            "    - gevent==1.4.0=py37h7b6447c_0\n",
            "    - glib==2.56.2=hd408876_0\n",
            "    - glob2==0.7=py_0\n",
            "    - gmp==6.1.2=h6c8ec71_1\n",
            "    - gmpy2==2.0.8=py37h10f8cd9_2\n",
            "    - graphite2==1.3.13=h23475e2_0\n",
            "    - greenlet==0.4.15=py37h7b6447c_0\n",
            "    - gst-plugins-base==1.14.0=hbbd80ab_1\n",
            "    - gstreamer==1.14.0=hb453b48_1\n",
            "    - h5py==2.9.0=py37h7918eee_0\n",
            "    - harfbuzz==1.8.8=hffaf4a1_0\n",
            "    - hdf5==1.10.4=hb1b8bf9_0\n",
            "    - heapdict==1.0.1=py_0\n",
            "    - html5lib==1.0.1=py37_0\n",
            "    - icu==58.2=h9c2bf20_1\n",
            "    - idna==2.8=py37_0\n",
            "    - imageio==2.6.0=py37_0\n",
            "    - imagesize==1.1.0=py37_0\n",
            "    - importlib_metadata==0.23=py37_0\n",
            "    - intel-openmp==2019.4=243\n",
            "    - ipykernel==5.1.2=py37h39e3cac_0\n",
            "    - ipython==7.8.0=py37h39e3cac_0\n",
            "    - ipython_genutils==0.2.0=py37_0\n",
            "    - ipywidgets==7.5.1=py_0\n",
            "    - isort==4.3.21=py37_0\n",
            "    - itsdangerous==1.1.0=py37_0\n",
            "    - jbig==2.1=hdba287a_0\n",
            "    - jdcal==1.4.1=py_0\n",
            "    - jedi==0.15.1=py37_0\n",
            "    - jeepney==0.4.1=py_0\n",
            "    - jinja2==2.10.3=py_0\n",
            "    - joblib==0.13.2=py37_0\n",
            "    - jpeg==9b=h024ee3a_2\n",
            "    - json5==0.8.5=py_0\n",
            "    - jsonschema==3.0.2=py37_0\n",
            "    - jupyter==1.0.0=py37_7\n",
            "    - jupyter_client==5.3.3=py37_1\n",
            "    - jupyter_console==6.0.0=py37_0\n",
            "    - jupyter_core==4.5.0=py_0\n",
            "    - jupyterlab==1.1.4=pyhf63ae98_0\n",
            "    - jupyterlab_server==1.0.6=py_0\n",
            "    - keyring==18.0.0=py37_0\n",
            "    - kiwisolver==1.1.0=py37he6710b0_0\n",
            "    - krb5==1.16.1=h173b8e3_7\n",
            "    - lazy-object-proxy==1.4.2=py37h7b6447c_0\n",
            "    - libarchive==3.3.3=h5d8350f_5\n",
            "    - libcurl==7.65.3=h20c2e04_0\n",
            "    - libedit==3.1.20181209=hc058e9b_0\n",
            "    - libffi==3.2.1=hd88cf55_4\n",
            "    - libgcc-ng==9.1.0=hdf63c60_0\n",
            "    - libgfortran-ng==7.3.0=hdf63c60_0\n",
            "    - liblief==0.9.0=h7725739_2\n",
            "    - libpng==1.6.37=hbc83047_0\n",
            "    - libsodium==1.0.16=h1bed415_0\n",
            "    - libssh2==1.8.2=h1ba5d50_0\n",
            "    - libstdcxx-ng==9.1.0=hdf63c60_0\n",
            "    - libtiff==4.0.10=h2733197_2\n",
            "    - libtool==2.4.6=h7b6447c_5\n",
            "    - libuuid==1.0.3=h1bed415_2\n",
            "    - libxcb==1.13=h1bed415_1\n",
            "    - libxml2==2.9.9=hea5a465_1\n",
            "    - libxslt==1.1.33=h7d1a2b0_0\n",
            "    - llvmlite==0.29.0=py37hd408876_0\n",
            "    - locket==0.2.0=py37_1\n",
            "    - lxml==4.4.1=py37hefd8a0e_0\n",
            "    - lz4-c==1.8.1.2=h14c3975_0\n",
            "    - lzo==2.10=h49e0be7_2\n",
            "    - markupsafe==1.1.1=py37h7b6447c_0\n",
            "    - matplotlib==3.1.1=py37h5429711_0\n",
            "    - mccabe==0.6.1=py37_1\n",
            "    - mistune==0.8.4=py37h7b6447c_0\n",
            "    - mkl-service==2.3.0=py37he904b0f_0\n",
            "    - mkl==2019.4=243\n",
            "    - mkl_fft==1.0.14=py37ha843d7b_0\n",
            "    - mkl_random==1.1.0=py37hd6b4f25_0\n",
            "    - mock==3.0.5=py37_0\n",
            "    - more-itertools==7.2.0=py37_0\n",
            "    - mpc==1.1.0=h10f8cd9_1\n",
            "    - mpfr==4.0.1=hdf1c602_3\n",
            "    - mpmath==1.1.0=py37_0\n",
            "    - msgpack-python==0.6.1=py37hfd86e86_1\n",
            "    - multipledispatch==0.6.0=py37_0\n",
            "    - navigator-updater==0.2.1=py37_0\n",
            "    - nbconvert==5.6.0=py37_1\n",
            "    - nbformat==4.4.0=py37_0\n",
            "    - ncurses==6.1=he6710b0_1\n",
            "    - networkx==2.3=py_0\n",
            "    - nltk==3.4.5=py37_0\n",
            "    - nose==1.3.7=py37_2\n",
            "    - notebook==6.0.1=py37_0\n",
            "    - numba==0.45.1=py37h962f231_0\n",
            "    - numexpr==2.7.0=py37h9e4a6bb_0\n",
            "    - numpy-base==1.17.2=py37hde5b4d6_0\n",
            "    - numpy==1.17.2=py37haad9e8e_0\n",
            "    - numpydoc==0.9.1=py_0\n",
            "    - olefile==0.46=py37_0\n",
            "    - openpyxl==3.0.0=py_0\n",
            "    - openssl==1.1.1d=h7b6447c_2\n",
            "    - packaging==19.2=py_0\n",
            "    - pandas==0.25.1=py37he6710b0_0\n",
            "    - pandoc==2.2.3.2=0\n",
            "    - pandocfilters==1.4.2=py37_1\n",
            "    - pango==1.42.4=h049681c_0\n",
            "    - parso==0.5.1=py_0\n",
            "    - partd==1.0.0=py_0\n",
            "    - patchelf==0.9=he6710b0_3\n",
            "    - path.py==12.0.1=py_0\n",
            "    - pathlib2==2.3.5=py37_0\n",
            "    - patsy==0.5.1=py37_0\n",
            "    - pcre==8.43=he6710b0_0\n",
            "    - pep8==1.7.1=py37_0\n",
            "    - pexpect==4.7.0=py37_0\n",
            "    - pickleshare==0.7.5=py37_0\n",
            "    - pillow==6.2.0=py37h34e0f95_0\n",
            "    - pip==19.2.3=py37_0\n",
            "    - pixman==0.38.0=h7b6447c_0\n",
            "    - pkginfo==1.5.0.1=py37_0\n",
            "    - pluggy==0.13.0=py37_0\n",
            "    - ply==3.11=py37_0\n",
            "    - prometheus_client==0.7.1=py_0\n",
            "    - prompt_toolkit==2.0.10=py_0\n",
            "    - psutil==5.6.3=py37h7b6447c_0\n",
            "    - ptyprocess==0.6.0=py37_0\n",
            "    - py-lief==0.9.0=py37h7725739_2\n",
            "    - py==1.8.0=py37_0\n",
            "    - pycodestyle==2.5.0=py37_0\n",
            "    - pycosat==0.6.3=py37h14c3975_0\n",
            "    - pycparser==2.19=py37_0\n",
            "    - pycrypto==2.6.1=py37h14c3975_9\n",
            "    - pycurl==7.43.0.3=py37h1ba5d50_0\n",
            "    - pyflakes==2.1.1=py37_0\n",
            "    - pygments==2.4.2=py_0\n",
            "    - pylint==2.4.2=py37_0\n",
            "    - pyodbc==4.0.27=py37he6710b0_0\n",
            "    - pyopenssl==19.0.0=py37_0\n",
            "    - pyparsing==2.4.2=py_0\n",
            "    - pyqt==5.9.2=py37h05f1152_2\n",
            "    - pyrsistent==0.15.4=py37h7b6447c_0\n",
            "    - pysocks==1.7.1=py37_0\n",
            "    - pytables==3.5.2=py37h71ec239_1\n",
            "    - pytest-arraydiff==0.3=py37h39e3cac_0\n",
            "    - pytest-astropy==0.5.0=py37_0\n",
            "    - pytest-doctestplus==0.4.0=py_0\n",
            "    - pytest-openfiles==0.4.0=py_0\n",
            "    - pytest-remotedata==0.3.2=py37_0\n",
            "    - pytest==5.2.1=py37_0\n",
            "    - python-dateutil==2.8.0=py37_0\n",
            "    - python-libarchive-c==2.8=py37_13\n",
            "    - python==3.7.4=h265db76_1\n",
            "    - pytz==2019.3=py_0\n",
            "    - pywavelets==1.0.3=py37hdd07704_1\n",
            "    - pyyaml==5.1.2=py37h7b6447c_0\n",
            "    - pyzmq==18.1.0=py37he6710b0_0\n",
            "    - qt==5.9.7=h5867ecd_1\n",
            "    - qtawesome==0.6.0=py_0\n",
            "    - qtconsole==4.5.5=py_0\n",
            "    - qtpy==1.9.0=py_0\n",
            "    - readline==7.0=h7b6447c_5\n",
            "    - requests==2.22.0=py37_0\n",
            "    - ripgrep==0.10.0=hc07d326_0\n",
            "    - rope==0.14.0=py_0\n",
            "    - ruamel_yaml==0.15.46=py37h14c3975_0\n",
            "    - scikit-image==0.15.0=py37he6710b0_0\n",
            "    - scikit-learn==0.21.3=py37hd81dba3_0\n",
            "    - scipy==1.3.1=py37h7c811a0_0\n",
            "    - seaborn==0.9.0=py37_0\n",
            "    - secretstorage==3.1.1=py37_0\n",
            "    - send2trash==1.5.0=py37_0\n",
            "    - setuptools==41.4.0=py37_0\n",
            "    - simplegeneric==0.8.1=py37_2\n",
            "    - singledispatch==3.4.0.3=py37_0\n",
            "    - sip==4.19.8=py37hf484d3e_0\n",
            "    - six==1.12.0=py37_0\n",
            "    - snappy==1.1.7=hbae5bb6_3\n",
            "    - snowballstemmer==2.0.0=py_0\n",
            "    - sortedcollections==1.1.2=py37_0\n",
            "    - sortedcontainers==2.1.0=py37_0\n",
            "    - soupsieve==1.9.3=py37_0\n",
            "    - sphinx==2.2.0=py_0\n",
            "    - sphinxcontrib-applehelp==1.0.1=py_0\n",
            "    - sphinxcontrib-devhelp==1.0.1=py_0\n",
            "    - sphinxcontrib-htmlhelp==1.0.2=py_0\n",
            "    - sphinxcontrib-jsmath==1.0.1=py_0\n",
            "    - sphinxcontrib-qthelp==1.0.2=py_0\n",
            "    - sphinxcontrib-serializinghtml==1.1.3=py_0\n",
            "    - sphinxcontrib-websupport==1.1.2=py_0\n",
            "    - sphinxcontrib==1.0=py37_1\n",
            "    - spyder-kernels==0.5.2=py37_0\n",
            "    - spyder==3.3.6=py37_0\n",
            "    - sqlalchemy==1.3.9=py37h7b6447c_0\n",
            "    - sqlite==3.30.0=h7b6447c_0\n",
            "    - statsmodels==0.10.1=py37hdd07704_0\n",
            "    - sympy==1.4=py37_0\n",
            "    - tbb==2019.4=hfd86e86_0\n",
            "    - tblib==1.4.0=py_0\n",
            "    - terminado==0.8.2=py37_0\n",
            "    - testpath==0.4.2=py37_0\n",
            "    - tk==8.6.8=hbc83047_0\n",
            "    - toolz==0.10.0=py_0\n",
            "    - tornado==6.0.3=py37h7b6447c_0\n",
            "    - tqdm==4.36.1=py_0\n",
            "    - traitlets==4.3.3=py37_0\n",
            "    - unicodecsv==0.14.1=py37_0\n",
            "    - unixodbc==2.3.7=h14c3975_0\n",
            "    - urllib3==1.24.2=py37_0\n",
            "    - wcwidth==0.1.7=py37_0\n",
            "    - webencodings==0.5.1=py37_1\n",
            "    - werkzeug==0.16.0=py_0\n",
            "    - wheel==0.33.6=py37_0\n",
            "    - widgetsnbextension==3.5.1=py37_0\n",
            "    - wrapt==1.11.2=py37h7b6447c_0\n",
            "    - wurlitzer==1.0.3=py37_0\n",
            "    - xlrd==1.2.0=py37_0\n",
            "    - xlsxwriter==1.2.1=py_0\n",
            "    - xlwt==1.3.0=py37_0\n",
            "    - xz==5.2.4=h14c3975_4\n",
            "    - yaml==0.1.7=had09818_2\n",
            "    - zeromq==4.3.1=he6710b0_3\n",
            "    - zict==1.0.0=py_0\n",
            "    - zipp==0.6.0=py_0\n",
            "    - zlib==1.2.11=h7b6447c_3\n",
            "    - zstd==1.3.7=h0b5b093_0\n",
            "\n",
            "\n",
            "The following NEW packages will be INSTALLED:\n",
            "\n",
            "  _ipyw_jlab_nb_ext~ pkgs/main/linux-64::_ipyw_jlab_nb_ext_conf-0.1.0-py37_0\n",
            "  _libgcc_mutex      pkgs/main/linux-64::_libgcc_mutex-0.1-main\n",
            "  alabaster          pkgs/main/linux-64::alabaster-0.7.12-py37_0\n",
            "  anaconda           pkgs/main/linux-64::anaconda-2019.10-py37_0\n",
            "  anaconda-client    pkgs/main/linux-64::anaconda-client-1.7.2-py37_0\n",
            "  anaconda-navigator pkgs/main/linux-64::anaconda-navigator-1.9.7-py37_0\n",
            "  anaconda-project   pkgs/main/noarch::anaconda-project-0.8.3-py_0\n",
            "  asn1crypto         pkgs/main/linux-64::asn1crypto-1.0.1-py37_0\n",
            "  astroid            pkgs/main/linux-64::astroid-2.3.1-py37_0\n",
            "  astropy            pkgs/main/linux-64::astropy-3.2.2-py37h7b6447c_0\n",
            "  atomicwrites       pkgs/main/linux-64::atomicwrites-1.3.0-py37_1\n",
            "  attrs              pkgs/main/noarch::attrs-19.2.0-py_0\n",
            "  babel              pkgs/main/noarch::babel-2.7.0-py_0\n",
            "  backcall           pkgs/main/linux-64::backcall-0.1.0-py37_0\n",
            "  backports          pkgs/main/noarch::backports-1.0-py_2\n",
            "  backports.functoo~ pkgs/main/noarch::backports.functools_lru_cache-1.5-py_2\n",
            "  backports.os       pkgs/main/linux-64::backports.os-0.1.1-py37_0\n",
            "  backports.shutil_~ pkgs/main/linux-64::backports.shutil_get_terminal_size-1.0.0-py37_2\n",
            "  backports.tempfile pkgs/main/noarch::backports.tempfile-1.0-py_1\n",
            "  backports.weakref  pkgs/main/noarch::backports.weakref-1.0.post1-py_1\n",
            "  beautifulsoup4     pkgs/main/linux-64::beautifulsoup4-4.8.0-py37_0\n",
            "  bitarray           pkgs/main/linux-64::bitarray-1.0.1-py37h7b6447c_0\n",
            "  bkcharts           pkgs/main/linux-64::bkcharts-0.2-py37_0\n",
            "  blas               pkgs/main/linux-64::blas-1.0-mkl\n",
            "  bleach             pkgs/main/linux-64::bleach-3.1.0-py37_0\n",
            "  blosc              pkgs/main/linux-64::blosc-1.16.3-hd408876_0\n",
            "  bokeh              pkgs/main/linux-64::bokeh-1.3.4-py37_0\n",
            "  boto               pkgs/main/linux-64::boto-2.49.0-py37_0\n",
            "  bottleneck         pkgs/main/linux-64::bottleneck-1.2.1-py37h035aef0_1\n",
            "  bzip2              pkgs/main/linux-64::bzip2-1.0.8-h7b6447c_0\n",
            "  ca-certificates    pkgs/main/linux-64::ca-certificates-2019.8.28-0\n",
            "  cairo              pkgs/main/linux-64::cairo-1.14.12-h8948797_3\n",
            "  certifi            pkgs/main/linux-64::certifi-2019.9.11-py37_0\n",
            "  cffi               pkgs/main/linux-64::cffi-1.12.3-py37h2e261b9_0\n",
            "  chardet            pkgs/main/linux-64::chardet-3.0.4-py37_1003\n",
            "  click              pkgs/main/linux-64::click-7.0-py37_0\n",
            "  cloudpickle        pkgs/main/noarch::cloudpickle-1.2.2-py_0\n",
            "  clyent             pkgs/main/linux-64::clyent-1.2.2-py37_1\n",
            "  colorama           pkgs/main/linux-64::colorama-0.4.1-py37_0\n",
            "  conda              pkgs/main/linux-64::conda-4.7.12-py37_0\n",
            "  conda-build        pkgs/main/linux-64::conda-build-3.18.9-py37_3\n",
            "  conda-env          pkgs/main/linux-64::conda-env-2.6.0-1\n",
            "  conda-package-han~ pkgs/main/linux-64::conda-package-handling-1.6.0-py37h7b6447c_0\n",
            "  conda-verify       pkgs/main/noarch::conda-verify-3.4.2-py_1\n",
            "  contextlib2        pkgs/main/noarch::contextlib2-0.6.0-py_0\n",
            "  cryptography       pkgs/main/linux-64::cryptography-2.7-py37h1ba5d50_0\n",
            "  curl               pkgs/main/linux-64::curl-7.65.3-hbc83047_0\n",
            "  cycler             pkgs/main/linux-64::cycler-0.10.0-py37_0\n",
            "  cython             pkgs/main/linux-64::cython-0.29.13-py37he6710b0_0\n",
            "  cytoolz            pkgs/main/linux-64::cytoolz-0.10.0-py37h7b6447c_0\n",
            "  dask               pkgs/main/noarch::dask-2.5.2-py_0\n",
            "  dask-core          pkgs/main/noarch::dask-core-2.5.2-py_0\n",
            "  dbus               pkgs/main/linux-64::dbus-1.13.6-h746ee38_0\n",
            "  decorator          pkgs/main/linux-64::decorator-4.4.0-py37_1\n",
            "  defusedxml         pkgs/main/noarch::defusedxml-0.6.0-py_0\n",
            "  distributed        pkgs/main/noarch::distributed-2.5.2-py_0\n",
            "  docutils           pkgs/main/linux-64::docutils-0.15.2-py37_0\n",
            "  entrypoints        pkgs/main/linux-64::entrypoints-0.3-py37_0\n",
            "  et_xmlfile         pkgs/main/linux-64::et_xmlfile-1.0.1-py37_0\n",
            "  expat              pkgs/main/linux-64::expat-2.2.6-he6710b0_0\n",
            "  fastcache          pkgs/main/linux-64::fastcache-1.1.0-py37h7b6447c_0\n",
            "  filelock           pkgs/main/noarch::filelock-3.0.12-py_0\n",
            "  flask              pkgs/main/noarch::flask-1.1.1-py_0\n",
            "  fontconfig         pkgs/main/linux-64::fontconfig-2.13.0-h9420a91_0\n",
            "  freetype           pkgs/main/linux-64::freetype-2.9.1-h8a8886c_1\n",
            "  fribidi            pkgs/main/linux-64::fribidi-1.0.5-h7b6447c_0\n",
            "  fsspec             pkgs/main/noarch::fsspec-0.5.2-py_0\n",
            "  future             pkgs/main/linux-64::future-0.17.1-py37_0\n",
            "  get_terminal_size  pkgs/main/linux-64::get_terminal_size-1.0.0-haa9412d_0\n",
            "  gevent             pkgs/main/linux-64::gevent-1.4.0-py37h7b6447c_0\n",
            "  glib               pkgs/main/linux-64::glib-2.56.2-hd408876_0\n",
            "  glob2              pkgs/main/noarch::glob2-0.7-py_0\n",
            "  gmp                pkgs/main/linux-64::gmp-6.1.2-h6c8ec71_1\n",
            "  gmpy2              pkgs/main/linux-64::gmpy2-2.0.8-py37h10f8cd9_2\n",
            "  graphite2          pkgs/main/linux-64::graphite2-1.3.13-h23475e2_0\n",
            "  greenlet           pkgs/main/linux-64::greenlet-0.4.15-py37h7b6447c_0\n",
            "  gst-plugins-base   pkgs/main/linux-64::gst-plugins-base-1.14.0-hbbd80ab_1\n",
            "  gstreamer          pkgs/main/linux-64::gstreamer-1.14.0-hb453b48_1\n",
            "  h5py               pkgs/main/linux-64::h5py-2.9.0-py37h7918eee_0\n",
            "  harfbuzz           pkgs/main/linux-64::harfbuzz-1.8.8-hffaf4a1_0\n",
            "  hdf5               pkgs/main/linux-64::hdf5-1.10.4-hb1b8bf9_0\n",
            "  heapdict           pkgs/main/noarch::heapdict-1.0.1-py_0\n",
            "  html5lib           pkgs/main/linux-64::html5lib-1.0.1-py37_0\n",
            "  icu                pkgs/main/linux-64::icu-58.2-h9c2bf20_1\n",
            "  idna               pkgs/main/linux-64::idna-2.8-py37_0\n",
            "  imageio            pkgs/main/linux-64::imageio-2.6.0-py37_0\n",
            "  imagesize          pkgs/main/linux-64::imagesize-1.1.0-py37_0\n",
            "  importlib_metadata pkgs/main/linux-64::importlib_metadata-0.23-py37_0\n",
            "  intel-openmp       pkgs/main/linux-64::intel-openmp-2019.4-243\n",
            "  ipykernel          pkgs/main/linux-64::ipykernel-5.1.2-py37h39e3cac_0\n",
            "  ipython            pkgs/main/linux-64::ipython-7.8.0-py37h39e3cac_0\n",
            "  ipython_genutils   pkgs/main/linux-64::ipython_genutils-0.2.0-py37_0\n",
            "  ipywidgets         pkgs/main/noarch::ipywidgets-7.5.1-py_0\n",
            "  isort              pkgs/main/linux-64::isort-4.3.21-py37_0\n",
            "  itsdangerous       pkgs/main/linux-64::itsdangerous-1.1.0-py37_0\n",
            "  jbig               pkgs/main/linux-64::jbig-2.1-hdba287a_0\n",
            "  jdcal              pkgs/main/noarch::jdcal-1.4.1-py_0\n",
            "  jedi               pkgs/main/linux-64::jedi-0.15.1-py37_0\n",
            "  jeepney            pkgs/main/noarch::jeepney-0.4.1-py_0\n",
            "  jinja2             pkgs/main/noarch::jinja2-2.10.3-py_0\n",
            "  joblib             pkgs/main/linux-64::joblib-0.13.2-py37_0\n",
            "  jpeg               pkgs/main/linux-64::jpeg-9b-h024ee3a_2\n",
            "  json5              pkgs/main/noarch::json5-0.8.5-py_0\n",
            "  jsonschema         pkgs/main/linux-64::jsonschema-3.0.2-py37_0\n",
            "  jupyter            pkgs/main/linux-64::jupyter-1.0.0-py37_7\n",
            "  jupyter_client     pkgs/main/linux-64::jupyter_client-5.3.3-py37_1\n",
            "  jupyter_console    pkgs/main/linux-64::jupyter_console-6.0.0-py37_0\n",
            "  jupyter_core       pkgs/main/noarch::jupyter_core-4.5.0-py_0\n",
            "  jupyterlab         pkgs/main/noarch::jupyterlab-1.1.4-pyhf63ae98_0\n",
            "  jupyterlab_server  pkgs/main/noarch::jupyterlab_server-1.0.6-py_0\n",
            "  keyring            pkgs/main/linux-64::keyring-18.0.0-py37_0\n",
            "  kiwisolver         pkgs/main/linux-64::kiwisolver-1.1.0-py37he6710b0_0\n",
            "  krb5               pkgs/main/linux-64::krb5-1.16.1-h173b8e3_7\n",
            "  lazy-object-proxy  pkgs/main/linux-64::lazy-object-proxy-1.4.2-py37h7b6447c_0\n",
            "  libarchive         pkgs/main/linux-64::libarchive-3.3.3-h5d8350f_5\n",
            "  libcurl            pkgs/main/linux-64::libcurl-7.65.3-h20c2e04_0\n",
            "  libedit            pkgs/main/linux-64::libedit-3.1.20181209-hc058e9b_0\n",
            "  libffi             pkgs/main/linux-64::libffi-3.2.1-hd88cf55_4\n",
            "  libgcc-ng          pkgs/main/linux-64::libgcc-ng-9.1.0-hdf63c60_0\n",
            "  libgfortran-ng     pkgs/main/linux-64::libgfortran-ng-7.3.0-hdf63c60_0\n",
            "  liblief            pkgs/main/linux-64::liblief-0.9.0-h7725739_2\n",
            "  libpng             pkgs/main/linux-64::libpng-1.6.37-hbc83047_0\n",
            "  libsodium          pkgs/main/linux-64::libsodium-1.0.16-h1bed415_0\n",
            "  libssh2            pkgs/main/linux-64::libssh2-1.8.2-h1ba5d50_0\n",
            "  libstdcxx-ng       pkgs/main/linux-64::libstdcxx-ng-9.1.0-hdf63c60_0\n",
            "  libtiff            pkgs/main/linux-64::libtiff-4.0.10-h2733197_2\n",
            "  libtool            pkgs/main/linux-64::libtool-2.4.6-h7b6447c_5\n",
            "  libuuid            pkgs/main/linux-64::libuuid-1.0.3-h1bed415_2\n",
            "  libxcb             pkgs/main/linux-64::libxcb-1.13-h1bed415_1\n",
            "  libxml2            pkgs/main/linux-64::libxml2-2.9.9-hea5a465_1\n",
            "  libxslt            pkgs/main/linux-64::libxslt-1.1.33-h7d1a2b0_0\n",
            "  llvmlite           pkgs/main/linux-64::llvmlite-0.29.0-py37hd408876_0\n",
            "  locket             pkgs/main/linux-64::locket-0.2.0-py37_1\n",
            "  lxml               pkgs/main/linux-64::lxml-4.4.1-py37hefd8a0e_0\n",
            "  lz4-c              pkgs/main/linux-64::lz4-c-1.8.1.2-h14c3975_0\n",
            "  lzo                pkgs/main/linux-64::lzo-2.10-h49e0be7_2\n",
            "  markupsafe         pkgs/main/linux-64::markupsafe-1.1.1-py37h7b6447c_0\n",
            "  matplotlib         pkgs/main/linux-64::matplotlib-3.1.1-py37h5429711_0\n",
            "  mccabe             pkgs/main/linux-64::mccabe-0.6.1-py37_1\n",
            "  mistune            pkgs/main/linux-64::mistune-0.8.4-py37h7b6447c_0\n",
            "  mkl                pkgs/main/linux-64::mkl-2019.4-243\n",
            "  mkl-service        pkgs/main/linux-64::mkl-service-2.3.0-py37he904b0f_0\n",
            "  mkl_fft            pkgs/main/linux-64::mkl_fft-1.0.14-py37ha843d7b_0\n",
            "  mkl_random         pkgs/main/linux-64::mkl_random-1.1.0-py37hd6b4f25_0\n",
            "  mock               pkgs/main/linux-64::mock-3.0.5-py37_0\n",
            "  more-itertools     pkgs/main/linux-64::more-itertools-7.2.0-py37_0\n",
            "  mpc                pkgs/main/linux-64::mpc-1.1.0-h10f8cd9_1\n",
            "  mpfr               pkgs/main/linux-64::mpfr-4.0.1-hdf1c602_3\n",
            "  mpmath             pkgs/main/linux-64::mpmath-1.1.0-py37_0\n",
            "  msgpack-python     pkgs/main/linux-64::msgpack-python-0.6.1-py37hfd86e86_1\n",
            "  multipledispatch   pkgs/main/linux-64::multipledispatch-0.6.0-py37_0\n",
            "  navigator-updater  pkgs/main/linux-64::navigator-updater-0.2.1-py37_0\n",
            "  nbconvert          pkgs/main/linux-64::nbconvert-5.6.0-py37_1\n",
            "  nbformat           pkgs/main/linux-64::nbformat-4.4.0-py37_0\n",
            "  ncurses            pkgs/main/linux-64::ncurses-6.1-he6710b0_1\n",
            "  networkx           pkgs/main/noarch::networkx-2.3-py_0\n",
            "  nltk               pkgs/main/linux-64::nltk-3.4.5-py37_0\n",
            "  nose               pkgs/main/linux-64::nose-1.3.7-py37_2\n",
            "  notebook           pkgs/main/linux-64::notebook-6.0.1-py37_0\n",
            "  numba              pkgs/main/linux-64::numba-0.45.1-py37h962f231_0\n",
            "  numexpr            pkgs/main/linux-64::numexpr-2.7.0-py37h9e4a6bb_0\n",
            "  numpy              pkgs/main/linux-64::numpy-1.17.2-py37haad9e8e_0\n",
            "  numpy-base         pkgs/main/linux-64::numpy-base-1.17.2-py37hde5b4d6_0\n",
            "  numpydoc           pkgs/main/noarch::numpydoc-0.9.1-py_0\n",
            "  olefile            pkgs/main/linux-64::olefile-0.46-py37_0\n",
            "  openpyxl           pkgs/main/noarch::openpyxl-3.0.0-py_0\n",
            "  openssl            pkgs/main/linux-64::openssl-1.1.1d-h7b6447c_2\n",
            "  packaging          pkgs/main/noarch::packaging-19.2-py_0\n",
            "  pandas             pkgs/main/linux-64::pandas-0.25.1-py37he6710b0_0\n",
            "  pandoc             pkgs/main/linux-64::pandoc-2.2.3.2-0\n",
            "  pandocfilters      pkgs/main/linux-64::pandocfilters-1.4.2-py37_1\n",
            "  pango              pkgs/main/linux-64::pango-1.42.4-h049681c_0\n",
            "  parso              pkgs/main/noarch::parso-0.5.1-py_0\n",
            "  partd              pkgs/main/noarch::partd-1.0.0-py_0\n",
            "  patchelf           pkgs/main/linux-64::patchelf-0.9-he6710b0_3\n",
            "  path.py            pkgs/main/noarch::path.py-12.0.1-py_0\n",
            "  pathlib2           pkgs/main/linux-64::pathlib2-2.3.5-py37_0\n",
            "  patsy              pkgs/main/linux-64::patsy-0.5.1-py37_0\n",
            "  pcre               pkgs/main/linux-64::pcre-8.43-he6710b0_0\n",
            "  pep8               pkgs/main/linux-64::pep8-1.7.1-py37_0\n",
            "  pexpect            pkgs/main/linux-64::pexpect-4.7.0-py37_0\n",
            "  pickleshare        pkgs/main/linux-64::pickleshare-0.7.5-py37_0\n",
            "  pillow             pkgs/main/linux-64::pillow-6.2.0-py37h34e0f95_0\n",
            "  pip                pkgs/main/linux-64::pip-19.2.3-py37_0\n",
            "  pixman             pkgs/main/linux-64::pixman-0.38.0-h7b6447c_0\n",
            "  pkginfo            pkgs/main/linux-64::pkginfo-1.5.0.1-py37_0\n",
            "  pluggy             pkgs/main/linux-64::pluggy-0.13.0-py37_0\n",
            "  ply                pkgs/main/linux-64::ply-3.11-py37_0\n",
            "  prometheus_client  pkgs/main/noarch::prometheus_client-0.7.1-py_0\n",
            "  prompt_toolkit     pkgs/main/noarch::prompt_toolkit-2.0.10-py_0\n",
            "  psutil             pkgs/main/linux-64::psutil-5.6.3-py37h7b6447c_0\n",
            "  ptyprocess         pkgs/main/linux-64::ptyprocess-0.6.0-py37_0\n",
            "  py                 pkgs/main/linux-64::py-1.8.0-py37_0\n",
            "  py-lief            pkgs/main/linux-64::py-lief-0.9.0-py37h7725739_2\n",
            "  pycodestyle        pkgs/main/linux-64::pycodestyle-2.5.0-py37_0\n",
            "  pycosat            pkgs/main/linux-64::pycosat-0.6.3-py37h14c3975_0\n",
            "  pycparser          pkgs/main/linux-64::pycparser-2.19-py37_0\n",
            "  pycrypto           pkgs/main/linux-64::pycrypto-2.6.1-py37h14c3975_9\n",
            "  pycurl             pkgs/main/linux-64::pycurl-7.43.0.3-py37h1ba5d50_0\n",
            "  pyflakes           pkgs/main/linux-64::pyflakes-2.1.1-py37_0\n",
            "  pygments           pkgs/main/noarch::pygments-2.4.2-py_0\n",
            "  pylint             pkgs/main/linux-64::pylint-2.4.2-py37_0\n",
            "  pyodbc             pkgs/main/linux-64::pyodbc-4.0.27-py37he6710b0_0\n",
            "  pyopenssl          pkgs/main/linux-64::pyopenssl-19.0.0-py37_0\n",
            "  pyparsing          pkgs/main/noarch::pyparsing-2.4.2-py_0\n",
            "  pyqt               pkgs/main/linux-64::pyqt-5.9.2-py37h05f1152_2\n",
            "  pyrsistent         pkgs/main/linux-64::pyrsistent-0.15.4-py37h7b6447c_0\n",
            "  pysocks            pkgs/main/linux-64::pysocks-1.7.1-py37_0\n",
            "  pytables           pkgs/main/linux-64::pytables-3.5.2-py37h71ec239_1\n",
            "  pytest             pkgs/main/linux-64::pytest-5.2.1-py37_0\n",
            "  pytest-arraydiff   pkgs/main/linux-64::pytest-arraydiff-0.3-py37h39e3cac_0\n",
            "  pytest-astropy     pkgs/main/linux-64::pytest-astropy-0.5.0-py37_0\n",
            "  pytest-doctestplus pkgs/main/noarch::pytest-doctestplus-0.4.0-py_0\n",
            "  pytest-openfiles   pkgs/main/noarch::pytest-openfiles-0.4.0-py_0\n",
            "  pytest-remotedata  pkgs/main/linux-64::pytest-remotedata-0.3.2-py37_0\n",
            "  python             pkgs/main/linux-64::python-3.7.4-h265db76_1\n",
            "  python-dateutil    pkgs/main/linux-64::python-dateutil-2.8.0-py37_0\n",
            "  python-libarchive~ pkgs/main/linux-64::python-libarchive-c-2.8-py37_13\n",
            "  pytz               pkgs/main/noarch::pytz-2019.3-py_0\n",
            "  pywavelets         pkgs/main/linux-64::pywavelets-1.0.3-py37hdd07704_1\n",
            "  pyyaml             pkgs/main/linux-64::pyyaml-5.1.2-py37h7b6447c_0\n",
            "  pyzmq              pkgs/main/linux-64::pyzmq-18.1.0-py37he6710b0_0\n",
            "  qt                 pkgs/main/linux-64::qt-5.9.7-h5867ecd_1\n",
            "  qtawesome          pkgs/main/noarch::qtawesome-0.6.0-py_0\n",
            "  qtconsole          pkgs/main/noarch::qtconsole-4.5.5-py_0\n",
            "  qtpy               pkgs/main/noarch::qtpy-1.9.0-py_0\n",
            "  readline           pkgs/main/linux-64::readline-7.0-h7b6447c_5\n",
            "  requests           pkgs/main/linux-64::requests-2.22.0-py37_0\n",
            "  ripgrep            pkgs/main/linux-64::ripgrep-0.10.0-hc07d326_0\n",
            "  rope               pkgs/main/noarch::rope-0.14.0-py_0\n",
            "  ruamel_yaml        pkgs/main/linux-64::ruamel_yaml-0.15.46-py37h14c3975_0\n",
            "  scikit-image       pkgs/main/linux-64::scikit-image-0.15.0-py37he6710b0_0\n",
            "  scikit-learn       pkgs/main/linux-64::scikit-learn-0.21.3-py37hd81dba3_0\n",
            "  scipy              pkgs/main/linux-64::scipy-1.3.1-py37h7c811a0_0\n",
            "  seaborn            pkgs/main/linux-64::seaborn-0.9.0-py37_0\n",
            "  secretstorage      pkgs/main/linux-64::secretstorage-3.1.1-py37_0\n",
            "  send2trash         pkgs/main/linux-64::send2trash-1.5.0-py37_0\n",
            "  setuptools         pkgs/main/linux-64::setuptools-41.4.0-py37_0\n",
            "  simplegeneric      pkgs/main/linux-64::simplegeneric-0.8.1-py37_2\n",
            "  singledispatch     pkgs/main/linux-64::singledispatch-3.4.0.3-py37_0\n",
            "  sip                pkgs/main/linux-64::sip-4.19.8-py37hf484d3e_0\n",
            "  six                pkgs/main/linux-64::six-1.12.0-py37_0\n",
            "  snappy             pkgs/main/linux-64::snappy-1.1.7-hbae5bb6_3\n",
            "  snowballstemmer    pkgs/main/noarch::snowballstemmer-2.0.0-py_0\n",
            "  sortedcollections  pkgs/main/linux-64::sortedcollections-1.1.2-py37_0\n",
            "  sortedcontainers   pkgs/main/linux-64::sortedcontainers-2.1.0-py37_0\n",
            "  soupsieve          pkgs/main/linux-64::soupsieve-1.9.3-py37_0\n",
            "  sphinx             pkgs/main/noarch::sphinx-2.2.0-py_0\n",
            "  sphinxcontrib      pkgs/main/linux-64::sphinxcontrib-1.0-py37_1\n",
            "  sphinxcontrib-app~ pkgs/main/noarch::sphinxcontrib-applehelp-1.0.1-py_0\n",
            "  sphinxcontrib-dev~ pkgs/main/noarch::sphinxcontrib-devhelp-1.0.1-py_0\n",
            "  sphinxcontrib-htm~ pkgs/main/noarch::sphinxcontrib-htmlhelp-1.0.2-py_0\n",
            "  sphinxcontrib-jsm~ pkgs/main/noarch::sphinxcontrib-jsmath-1.0.1-py_0\n",
            "  sphinxcontrib-qth~ pkgs/main/noarch::sphinxcontrib-qthelp-1.0.2-py_0\n",
            "  sphinxcontrib-ser~ pkgs/main/noarch::sphinxcontrib-serializinghtml-1.1.3-py_0\n",
            "  sphinxcontrib-web~ pkgs/main/noarch::sphinxcontrib-websupport-1.1.2-py_0\n",
            "  spyder             pkgs/main/linux-64::spyder-3.3.6-py37_0\n",
            "  spyder-kernels     pkgs/main/linux-64::spyder-kernels-0.5.2-py37_0\n",
            "  sqlalchemy         pkgs/main/linux-64::sqlalchemy-1.3.9-py37h7b6447c_0\n",
            "  sqlite             pkgs/main/linux-64::sqlite-3.30.0-h7b6447c_0\n",
            "  statsmodels        pkgs/main/linux-64::statsmodels-0.10.1-py37hdd07704_0\n",
            "  sympy              pkgs/main/linux-64::sympy-1.4-py37_0\n",
            "  tbb                pkgs/main/linux-64::tbb-2019.4-hfd86e86_0\n",
            "  tblib              pkgs/main/noarch::tblib-1.4.0-py_0\n",
            "  terminado          pkgs/main/linux-64::terminado-0.8.2-py37_0\n",
            "  testpath           pkgs/main/linux-64::testpath-0.4.2-py37_0\n",
            "  tk                 pkgs/main/linux-64::tk-8.6.8-hbc83047_0\n",
            "  toolz              pkgs/main/noarch::toolz-0.10.0-py_0\n",
            "  tornado            pkgs/main/linux-64::tornado-6.0.3-py37h7b6447c_0\n",
            "  tqdm               pkgs/main/noarch::tqdm-4.36.1-py_0\n",
            "  traitlets          pkgs/main/linux-64::traitlets-4.3.3-py37_0\n",
            "  unicodecsv         pkgs/main/linux-64::unicodecsv-0.14.1-py37_0\n",
            "  unixodbc           pkgs/main/linux-64::unixodbc-2.3.7-h14c3975_0\n",
            "  urllib3            pkgs/main/linux-64::urllib3-1.24.2-py37_0\n",
            "  wcwidth            pkgs/main/linux-64::wcwidth-0.1.7-py37_0\n",
            "  webencodings       pkgs/main/linux-64::webencodings-0.5.1-py37_1\n",
            "  werkzeug           pkgs/main/noarch::werkzeug-0.16.0-py_0\n",
            "  wheel              pkgs/main/linux-64::wheel-0.33.6-py37_0\n",
            "  widgetsnbextension pkgs/main/linux-64::widgetsnbextension-3.5.1-py37_0\n",
            "  wrapt              pkgs/main/linux-64::wrapt-1.11.2-py37h7b6447c_0\n",
            "  wurlitzer          pkgs/main/linux-64::wurlitzer-1.0.3-py37_0\n",
            "  xlrd               pkgs/main/linux-64::xlrd-1.2.0-py37_0\n",
            "  xlsxwriter         pkgs/main/noarch::xlsxwriter-1.2.1-py_0\n",
            "  xlwt               pkgs/main/linux-64::xlwt-1.3.0-py37_0\n",
            "  xz                 pkgs/main/linux-64::xz-5.2.4-h14c3975_4\n",
            "  yaml               pkgs/main/linux-64::yaml-0.1.7-had09818_2\n",
            "  zeromq             pkgs/main/linux-64::zeromq-4.3.1-he6710b0_3\n",
            "  zict               pkgs/main/noarch::zict-1.0.0-py_0\n",
            "  zipp               pkgs/main/noarch::zipp-0.6.0-py_0\n",
            "  zlib               pkgs/main/linux-64::zlib-1.2.11-h7b6447c_3\n",
            "  zstd               pkgs/main/linux-64::zstd-1.3.7-h0b5b093_0\n",
            "\n",
            "\n",
            "Preparing transaction: / \b\b- \b\b\\ \b\b| \b\b/ \b\b- \b\b\\ \b\b| \b\b/ \b\b- \b\b\\ \b\b| \b\b/ \b\b- \b\b\\ \b\b| \b\b/ \b\b- \b\b\\ \b\b| \b\b/ \b\b- \b\b\\ \b\b| \b\bdone\n",
            "Executing transaction: - \b\b\\ \b\b| \b\b/ \b\b- \b\b\\ \b\b| \b\b/ \b\b- \b\b\\ \b\b| \b\b/ \b\b- \b\b\\ \b\b| \b\b/ \b\b- \b\b\\ \b\b| \b\b/ \b\b- \b\b\\ \b\b| \b\b/ \b\b- \b\b\\ \b\b| \b\b/ \b\b- \b\b\\ \b\b| \b\b/ \b\b- \b\b\\ \b\b| \b\b/ \b\b- \b\b\\ \b\b| \b\b/ \b\b- \b\b\\ \b\b| \b\b/ \b\b- \b\b\\ \b\b| \b\b/ \b\b- \b\b\\ \b\b| \b\b/ \b\b- \b\b\\ \b\b| \b\b/ \b\b- \b\b\\ \b\b| \b\b/ \b\b- \b\b\\ \b\b| \b\b/ \b\b- \b\b\\ \b\b| \b\b/ \b\b- \b\b\\ \b\b| \b\b/ \b\b- \b\b\\ \b\b| \b\b/ \b\b- \b\b\\ \b\b| \b\b/ \b\b- \b\b\\ \b\b| \b\b/ \b\b- \b\b\\ \b\b| \b\b/ \b\b- \b\b\\ \b\b| \b\b/ \b\b- \b\b\\ \b\b| \b\b/ \b\b- \b\b\\ \b\b| \b\b/ \b\b- \b\b\\ \b\b| \b\b/ \b\b- \b\b\\ \b\b| \b\b/ \b\b- \b\b\\ \b\b| \b\b/ \b\b- \b\b\\ \b\b| \b\b/ \b\b- \b\b\\ \b\b| \b\b/ \b\b- \b\b\\ \b\b| \b\b/ \b\b- \b\b\\ \b\b| \b\b/ \b\b- \b\b\\ \b\b| \b\b/ \b\b- \b\b\\ \b\b| \b\b/ \b\b- \b\b\\ \b\b| \b\b/ \b\b- \b\b\\ \b\b| \b\b/ \b\b- \b\b\\ \b\b| \b\b/ \b\b- \b\b\\ \b\b| \b\b/ \b\b- \b\b\\ \b\b| \b\b/ \b\b- \b\b\\ \b\b| \b\b/ \b\b- \b\b\\ \b\b| \b\b/ \b\b- \b\b\\ \b\b| \b\b/ \b\b- \b\b\\ \b\b| \b\b/ \b\b- \b\b\\ \b\b| \b\b/ \b\b- \b\b\\ \b\b| \b\b/ \b\b- \b\b\\ \b\b| \b\b/ \b\b- \b\b\\ \b\b| \b\b/ \b\b- \b\b\\ \b\b| \b\b/ \b\b- \b\b\\ \b\b| \b\b/ \b\b- \b\b\\ \b\b| \b\b/ \b\b- \b\b\\ \b\b| \b\b/ \b\b- \b\b\\ \b\b| \b\b/ \b\b- \b\b\\ \b\b| \b\b/ \b\b- \b\b\\ \b\b| \b\b/ \b\b- \b\b\\ \b\b| \b\b/ \b\b- \b\b\\ \b\b| \b\b/ \b\b- \b\b\\ \b\b| \b\b/ \b\b- \b\b\\ \b\b| \b\b/ \b\b- \b\b\\ \b\b| \b\b/ \b\b- \b\b\\ \b\b| \b\b/ \b\b- \b\b\\ \b\b| \b\b/ \b\b- \b\b\\ \b\b| \b\b/ \b\b- \b\b\\ \b\b| \b\b/ \b\b- \b\b\\ \b\b| \b\b/ \b\b- \b\b\\ \b\b| \b\b/ \b\b- \b\b\\ \b\b| \b\b/ \b\b- \b\b\\ \b\b| \b\b/ \b\b- \b\b\\ \b\b| \b\b/ \b\b- \b\b\\ \b\b| \b\b/ \b\b- \b\b\\ \b\b| \b\b/ \b\b- \b\b\\ \b\b| \b\b/ \b\b- \b\b\\ \b\b| \b\b/ \b\b- \b\b\\ \b\b| \b\b/ \b\b- \b\b\\ \b\b| \b\b/ \b\b- \b\b\\ \b\b| \b\b/ \b\b- \b\b\\ \b\b| \b\b/ \b\b- \b\b\\ \b\b| \b\b/ \b\b- \b\b\\ \b\b| \b\b/ \b\b- \b\b\\ \b\b| \b\b/ \b\b- \b\b\\ \b\b| \b\b/ \b\b- \b\b\\ \b\b| \b\b/ \b\b- \b\b\\ \b\b| \b\b/ \b\b- \b\b\\ \b\b| \b\b/ \b\b- \b\b\\ \b\b| \b\b/ \b\b- \b\b\\ \b\b| \b\b/ \b\b- \b\b\\ \b\b| \b\b/ \b\b- \b\b\\ \b\b| \b\b/ \b\b- \b\b\\ \b\b| \b\b/ \b\b- \b\b\\ \b\b| \b\b/ \b\b- \b\b\\ \b\b| \b\b/ \b\b- \b\b\\ \b\b| \b\b/ \b\b- \b\b\\ \b\b| \b\b/ \b\b- \b\b\\ \b\b| \b\b/ \b\b- \b\b\\ \b\b| \b\b/ \b\b- \b\b\\ \b\b| \b\b/ \b\b- \b\b\\ \b\b| \b\b/ \b\b- \b\b\\ \b\b| \b\b/ \b\b- \b\b\\ \b\b| \b\b/ \b\b- \b\b\\ \b\b| \b\b/ \b\b- \b\b\\ \b\b| \b\b/ \b\b- \b\b\\ \b\b| \b\b/ \b\b- \b\b\\ \b\b| \b\b/ \b\b- \b\b\\ \b\b| \b\b/ \b\b- \b\b\\ \b\b| \b\b/ \b\b- \b\b\\ \b\b| \b\b/ \b\b- \b\b\\ \b\b| \b\b/ \b\b- \b\b\\ \b\b| \b\b/ \b\b- \b\b\\ \b\b| \b\b/ \b\b- \b\b\\ \b\b| \b\b/ \b\b- \b\b\\ \b\b| \b\b/ \b\b- \b\b\\ \b\b| \b\b/ \b\b- \b\b\\ \b\b| \b\b/ \b\b- \b\b\\ \b\b| \b\b/ \b\b- \b\b\\ \b\b| \b\b/ \b\b- \b\b\\ \b\b| \b\b/ \b\b- \b\b\\ \b\b| \b\b/ \b\b- \b\b\\ \b\b| \b\b/ \b\b- \b\b\\ \b\b| \b\b/ \b\b- \b\b\\ \b\b| \b\b/ \b\b- \b\b\\ \b\b| \b\b/ \b\b- \b\b\\ \b\b| \b\b/ \b\b- \b\b\\ \b\b| \b\b/ \b\b- \b\b\\ \b\b| \b\b/ \b\b- \b\b\\ \b\b| \b\b/ \b\b- \b\b\\ \b\b| \b\b/ \b\b- \b\b\\ \b\b| \b\b/ \b\b- \b\b\\ \b\b| \b\b/ \b\b- \b\b\\ \b\b| \b\b/ \b\b- \b\b\\ \b\b| \b\b/ \b\b- \b\b\\ \b\b| \b\b/ \b\b- \b\b\\ \b\bdone\n",
            "installation finished.\n",
            "WARNING:\n",
            "    You currently have a PYTHONPATH environment variable set. This may cause\n",
            "    unexpected behavior when running the Python interpreter in Anaconda3.\n",
            "    For best results, please verify that your PYTHONPATH only points to\n",
            "    directories of packages that are compatible with the Python interpreter\n",
            "    in Anaconda3: /usr/local\n",
            "Collecting package metadata (current_repodata.json): - \b\b\\ \b\b| \b\b/ \b\b- \b\b\\ \b\b| \b\b/ \b\b- \b\b\\ \b\b| \b\b/ \b\b- \b\b\\ \b\b| \b\b/ \b\b- \b\b\\ \b\b| \b\b/ \b\b- \b\b\\ \b\b| \b\b/ \b\b- \b\b\\ \b\b| \b\b/ \b\b- \b\b\\ \b\b| \b\b/ \b\b- \b\b\\ \b\b| \b\b/ \b\b- \b\b\\ \b\b| \b\b/ \b\b- \b\b\\ \b\b| \b\b/ \b\b- \b\b\\ \b\b| \b\b/ \b\b- \b\b\\ \b\b| \b\b/ \b\b- \b\b\\ \b\b| \b\b/ \b\b- \b\b\\ \b\b| \b\b/ \b\b- \b\b\\ \b\b| \b\b/ \b\b- \b\b\\ \b\b| \b\b/ \b\b- \b\b\\ \b\b| \b\b/ \b\b- \b\b\\ \b\b| \b\b/ \b\b- \b\b\\ \b\b| \b\b/ \b\b- \b\b\\ \b\b| \b\b/ \b\b- \b\b\\ \b\b| \b\b/ \b\b- \b\b\\ \b\b| \b\b/ \b\bdone\n",
            "Solving environment: \\ \b\b| \b\b/ \b\b- \b\b\\ \b\b| \b\b/ \b\b- \b\b\\ \b\b| \b\b/ \b\b- \b\b\\ \b\b| \b\b/ \b\b- \b\b\\ \b\b| \b\b/ \b\b- \b\b\\ \b\b| \b\b/ \b\b- \b\b\\ \b\b| \b\b/ \b\b- \b\b\\ \b\b| \b\b/ \b\b- \b\b\\ \b\b| \b\b/ \b\b- \b\b\\ \b\b| \b\b/ \b\b- \b\b\\ \b\b| \b\b/ \b\b- \b\b\\ \b\b| \b\b/ \b\b- \b\b\\ \b\b| \b\b/ \b\b- \b\b\\ \b\b| \b\b/ \b\b- \b\b\\ \b\b| \b\b/ \b\b- \b\b\\ \b\b| \b\b/ \b\b- \b\b\\ \b\b| \b\b/ \b\b- \b\b\\ \b\b| \b\b/ \b\b- \b\b\\ \b\b| \b\b/ \b\b- \b\b\\ \b\b| \b\b/ \b\b- \b\b\\ \b\b| \b\b/ \b\b- \b\b\\ \b\b| \b\b/ \b\b- \b\b\\ \b\b| \b\b/ \b\b- \b\b\\ \b\b| \b\b/ \b\b- \b\b\\ \b\b| \b\b/ \b\b- \b\b\\ \b\b| \b\b/ \b\b- \b\b\\ \b\b| \b\b/ \b\b- \b\b\\ \b\b| \b\b/ \b\b- \b\b\\ \b\b| \b\b/ \b\b- \b\b\\ \b\b| \b\b/ \b\b- \b\b\\ \b\b| \b\b/ \b\b- \b\b\\ \b\b| \b\b/ \b\b- \b\b\\ \b\b| \b\b/ \b\b- \b\b\\ \b\b| \b\b/ \b\b- \b\b\\ \b\b| \b\b/ \b\b- \b\b\\ \b\b| \b\b/ \b\b- \b\b\\ \b\b| \b\b/ \b\b- \b\b\\ \b\b| \b\b/ \b\b- \b\b\\ \b\b| \b\b/ \b\b- \b\b\\ \b\b| \b\b/ \b\b- \b\b\\ \b\b| \b\b/ \b\b- \b\b\\ \b\b| \b\b/ \b\b- \b\b\\ \b\b| \b\b/ \b\b- \b\b\\ \b\b| \b\b/ \b\b- \b\b\\ \b\b| \b\b/ \b\b- \b\b\\ \b\b| \b\b/ \b\b- \b\b\\ \b\b| \b\b/ \b\b- \b\b\\ \b\b| \b\b/ \b\b- \b\b\\ \b\b| \b\b/ \b\b- \b\b\\ \b\b| \b\b/ \b\b- \b\b\\ \b\b| \b\b/ \b\b- \b\b\\ \b\b| \b\b/ \b\b- \b\b\\ \b\b| \b\b/ \b\b- \b\b\\ \b\b| \b\b/ \b\b- \b\b\\ \b\b| \b\b/ \b\b- \b\b\\ \b\b| \b\b/ \b\b- \b\b\\ \b\b| \b\b/ \b\b- \b\b\\ \b\b| \b\b/ \b\b- \b\b\\ \b\b| \b\b/ \b\b- \b\b\\ \b\b| \b\b/ \b\b- \b\b\\ \b\b| \b\b/ \b\b- \b\b\\ \b\b| \b\b/ \b\b- \b\b\\ \b\b| \b\b/ \b\b- \b\b\\ \b\b| \b\b/ \b\b- \b\b\\ \b\b| \b\b/ \b\b- \b\b\\ \b\b| \b\b/ \b\b- \b\b\\ \b\b| \b\b/ \b\b- \b\b\\ \b\b| \b\b/ \b\b- \b\b\\ \b\b| \b\b/ \b\b- \b\b\\ \b\b| \b\b/ \b\b- \b\b\\ \b\b| \b\b/ \b\b- \b\b\\ \b\b| \b\b/ \b\b- \b\b\\ \b\b| \b\b/ \b\b- \b\b\\ \b\b| \b\b/ \b\b- \b\b\\ \b\b| \b\b/ \b\b- \b\b\\ \b\b| \b\b/ \b\b- \b\b\\ \b\b| \b\b/ \b\b- \b\b\\ \b\b| \b\b/ \b\b- \b\b\\ \b\b| \b\b/ \b\b- \b\b\\ \b\b| \b\b/ \b\b- \b\b\\ \b\b| \b\b/ \b\b- \b\b\\ \b\b| \b\b/ \b\b- \b\b\\ \b\b| \b\b/ \b\b- \b\b\\ \b\b| \b\b/ \b\b- \b\b\\ \b\b| \b\b/ \b\b- \b\b\\ \b\b| \b\b/ \b\b- \b\b\\ \b\b| \b\b/ \b\b- \b\b\\ \b\b| \b\b/ \b\b- \b\b\\ \b\b| \b\b/ \b\b- \b\b\\ \b\b| \b\b/ \b\b- \b\b\\ \b\b| \b\b/ \b\b- \b\b\\ \b\b| \b\b/ \b\b- \b\b\\ \b\b| \b\b/ \b\b- \b\b\\ \b\b| \b\b/ \b\b- \b\b\\ \b\b| \b\b/ \b\b- \b\b\\ \b\b| \b\b/ \b\b- \b\b\\ \b\b| \b\b/ \b\b- \b\b\\ \b\b| \b\b/ \b\b- \b\b\\ \b\b| \b\b/ \b\b- \b\b\\ \b\b| \b\b/ \b\b- \b\b\\ \b\b| \b\b/ \b\b- \b\b\\ \b\b| \b\b/ \b\b- \b\b\\ \b\b| \b\b/ \b\b- \b\b\\ \b\b| \b\b/ \b\b- \b\b\\ \b\b| \b\b/ \b\b- \b\b\\ \b\b| \b\b/ \b\b- \b\b\\ \b\b| \b\b/ \b\b- \b\b\\ \b\b| \b\b/ \b\b- \b\b\\ \b\b| \b\b/ \b\b- \b\b\\ \b\b| \b\b/ \b\b- \b\b\\ \b\b| \b\b/ \b\b- \b\b\\ \b\bfailed with initial frozen solve. Retrying with flexible solve.\n",
            "Solving environment: / \b\b- \b\b\\ \b\b| \b\b/ \b\b- \b\b\\ \b\b| \b\b/ \b\b- \b\b\\ \b\b| \b\b/ \b\b- \b\b\\ \b\b| \b\b/ \b\b- \b\b\\ \b\b| \b\b/ \b\b- \b\b\\ \b\b| \b\b/ \b\b- \b\b\\ \b\b| \b\b/ \b\b- \b\b\\ \b\b| \b\b/ \b\b- \b\b\\ \b\b| \b\b/ \b\b- \b\b\\ \b\b| \b\b/ \b\b- \b\b\\ \b\b| \b\b/ \b\b- \b\b\\ \b\b| \b\b/ \b\b- \b\b\\ \b\b| \b\b/ \b\b- \b\b\\ \b\b| \b\b/ \b\b- \b\b\\ \b\b| \b\b/ \b\b- \b\b\\ \b\b| \b\b/ \b\b- \b\b\\ \b\b| \b\b/ \b\b- \b\b\\ \b\b| \b\b/ \b\b- \b\b\\ \b\b| \b\b/ \b\b- \b\b\\ \b\b| \b\b/ \b\b- \b\b\\ \b\b| \b\b/ \b\b- \b\b\\ \b\b| \b\b/ \b\b- \b\b\\ \b\b| \b\b/ \b\b- \b\b\\ \b\b| \b\b/ \b\b- \b\b\\ \b\b| \b\b/ \b\b- \b\b\\ \b\b| \b\b/ \b\b- \b\b\\ \b\b| \b\b/ \b\b- \b\b\\ \b\b| \b\b/ \b\b- \b\b\\ \b\b| \b\b/ \b\b- \b\b\\ \b\b| \b\b/ \b\b- \b\b\\ \b\b| \b\b/ \b\b- \b\b\\ \b\b| \b\b/ \b\b- \b\b\\ \b\b| \b\b/ \b\b- \b\b\\ \b\b| \b\b/ \b\b- \b\b\\ \b\b| \b\b/ \b\b- \b\b\\ \b\b| \b\b/ \b\b- \b\b\\ \b\b| \b\b/ \b\b- \b\b\\ \b\b| \b\b/ \b\b- \b\b\\ \b\b| \b\b/ \b\b- \b\b\\ \b\b| \b\b/ \b\b- \b\b\\ \b\b| \b\b/ \b\b- \b\b\\ \b\b| \b\b/ \b\b- \b\b\\ \b\b| \b\b/ \b\b- \b\b\\ \b\b| \b\b/ \b\b- \b\b\\ \b\b| \b\b/ \b\b- \b\b\\ \b\b| \b\b/ \b\b- \b\b\\ \b\b| \b\b/ \b\b- \b\b\\ \b\b| \b\b/ \b\b- \b\b\\ \b\b| \b\b/ \b\b- \b\b\\ \b\b| \b\b/ \b\b- \b\b\\ \b\b| \b\b/ \b\b- \b\b\\ \b\b| \b\b/ \b\b- \b\b\\ \b\b| \b\b/ \b\b- \b\b\\ \b\b| \b\b/ \b\b- \b\b\\ \b\b| \b\b/ \b\b- \b\b\\ \b\b| \b\b/ \b\b- \b\b\\ \b\b| \b\b/ \b\b- \b\b\\ \b\b| \b\b/ \b\b- \b\b\\ \b\b| \b\b/ \b\b- \b\b\\ \b\b| \b\b/ \b\b- \b\b\\ \b\b| \b\b/ \b\b- \b\b\\ \b\b| \b\b/ \b\b- \b\b\\ \b\b| \b\b/ \b\b- \b\b\\ \b\b| \b\b/ \b\b- \b\b\\ \b\b| \b\b/ \b\b- \b\b\\ \b\b| \b\b/ \b\b- \b\b\\ \b\b| \b\b/ \b\b- \b\b\\ \b\b| \b\b/ \b\b- \b\b\\ \b\b| \b\b/ \b\b- \b\b\\ \b\b| \b\b/ \b\b- \b\b\\ \b\b| \b\b/ \b\b- \b\b\\ \b\b| \b\b/ \b\b- \b\b\\ \b\b| \b\b/ \b\b- \b\b\\ \b\b| \b\b/ \b\b- \b\b\\ \b\b| \b\b/ \b\b- \b\b\\ \b\b| \b\b/ \b\b- \b\b\\ \b\b| \b\b/ \b\b- \b\b\\ \b\b| \b\b/ \b\b- \b\b\\ \b\b| \b\b/ \b\b- \b\b\\ \b\b| \b\b/ \b\b- \b\b\\ \b\b| \b\b/ \b\b- \b\b\\ \b\b| \b\b/ \b\b- \b\b\\ \b\b| \b\b/ \b\b- \b\b\\ \b\b| \b\b/ \b\b- \b\b\\ \b\b| \b\b/ \b\b- \b\b\\ \b\b| \b\b/ \b\b- \b\b\\ \b\b| \b\b/ \b\b- \b\b\\ \b\b| \b\b/ \b\b- \b\b\\ \b\b| \b\b/ \b\b- \b\b\\ \b\b| \b\b/ \b\b- \b\b\\ \b\b| \b\b/ \b\b- \b\b\\ \b\b| \b\b/ \b\b- \b\b\\ \b\b| \b\b/ \b\b- \b\b\\ \b\b| \b\b/ \b\b- \b\b\\ \b\b| \b\b/ \b\b- \b\b\\ \b\b| \b\b/ \b\b- \b\b\\ \b\b| \b\b/ \b\b- \b\b\\ \b\b| \b\b/ \b\b- \b\b\\ \b\b| \b\b/ \b\b- \b\b\\ \b\b| \b\b/ \b\b- \b\b\\ \b\b| \b\b/ \b\b- \b\b\\ \b\b| \b\b/ \b\b- \b\b\\ \b\b| \b\b/ \b\b- \b\b\\ \b\b| \b\b/ \b\b- \b\b\\ \b\b| \b\b/ \b\b- \b\b\\ \b\b| \b\b/ \b\b- \b\b\\ \b\b| \b\b/ \b\b- \b\b\\ \b\b| \b\b/ \b\b- \b\b\\ \b\b| \b\b/ \b\b- \b\b\\ \b\b| \b\b/ \b\b- \b\b\\ \b\b| \b\b/ \b\b- \b\b\\ \b\b| \b\b/ \b\b- \b\b\\ \b\b| \b\b/ \b\b- \b\b\\ \b\b| \b\b/ \b\b- \b\b\\ \b\b| \b\b/ \b\b- \b\b\\ \b\b| \b\b/ \b\b- \b\b\\ \b\b| \b\b/ \b\b- \b\b\\ \b\b| \b\b/ \b\b- \b\b\\ \b\b| \b\bfailed with repodata from current_repodata.json, will retry with next repodata source.\n",
            "Collecting package metadata (repodata.json): - \b\b\\ \b\b| \b\b/ \b\b- \b\b\\ \b\b| \b\b/ \b\b- \b\b\\ \b\b| \b\b/ \b\b- \b\b\\ \b\b| \b\b/ \b\b- \b\b\\ \b\b| \b\b/ \b\b- \b\b\\ \b\b| \b\b/ \b\b- \b\b\\ \b\b| \b\b/ \b\b- \b\b\\ \b\b| \b\b/ \b\b- \b\b\\ \b\b| \b\b/ \b\b- \b\b\\ \b\b| \b\b/ \b\b- \b\b\\ \b\b| \b\b/ \b\b- \b\b\\ \b\b| \b\b/ \b\b- \b\b\\ \b\b| \b\b/ \b\b- \b\b\\ \b\b| \b\b/ \b\b- \b\b\\ \b\b| \b\b/ \b\b- \b\b\\ \b\b| \b\b/ \b\b- \b\b\\ \b\b| \b\b/ \b\b- \b\b\\ \b\b| \b\b/ \b\b- \b\b\\ \b\b| \b\b/ \b\b- \b\b\\ \b\b| \b\b/ \b\b- \b\b\\ \b\b| \b\b/ \b\b- \b\b\\ \b\b| \b\b/ \b\b- \b\b\\ \b\b| \b\b/ \b\b- \b\b\\ \b\b| \b\b/ \b\b- \b\b\\ \b\b| \b\b/ \b\b- \b\b\\ \b\b| \b\b/ \b\b- \b\b\\ \b\b| \b\b/ \b\b- \b\b\\ \b\b| \b\b/ \b\b- \b\b\\ \b\b| \b\b/ \b\b- \b\b\\ \b\b| \b\b/ \b\b- \b\b\\ \b\b| \b\b/ \b\b- \b\b\\ \b\b| \b\b/ \b\b- \b\b\\ \b\b| \b\b/ \b\b- \b\b\\ \b\b| \b\b/ \b\b- \b\b\\ \b\b| \b\b/ \b\b- \b\b\\ \b\b| \b\b/ \b\b- \b\b\\ \b\b| \b\b/ \b\b- \b\b\\ \b\b| \b\b/ \b\b- \b\b\\ \b\b| \b\b/ \b\b- \b\b\\ \b\b| \b\b/ \b\b- \b\b\\ \b\b| \b\b/ \b\b- \b\b\\ \b\b| \b\b/ \b\b- \b\b\\ \b\b| \b\b/ \b\b- \b\b\\ \b\b| \b\b/ \b\b- \b\b\\ \b\b| \b\b/ \b\b- \b\b\\ \b\b| \b\b/ \b\b- \b\b\\ \b\b| \b\b/ \b\b- \b\b\\ \b\b| \b\b/ \b\b- \b\b\\ \b\b| \b\b/ \b\b- \b\b\\ \b\b| \b\b/ \b\b- \b\b\\ \b\b| \b\b/ \b\b- \b\b\\ \b\b| \b\b/ \b\b- \b\b\\ \b\b| \b\b/ \b\b- \b\b\\ \b\b| \b\b/ \b\b- \b\b\\ \b\b| \b\b/ \b\b- \b\b\\ \b\b| \b\b/ \b\b- \b\b\\ \b\b| \b\b/ \b\b- \b\b\\ \b\b| \b\b/ \b\b- \b\b\\ \b\b| \b\b/ \b\b- \b\b\\ \b\b| \b\b/ \b\b- \b\b\\ \b\b| \b\b/ \b\b- \b\b\\ \b\b| \b\b/ \b\b- \b\b\\ \b\b| \b\b/ \b\b- \b\b\\ \b\b| \b\b/ \b\b- \b\b\\ \b\b| \b\b/ \b\b- \b\b\\ \b\bdone\n",
            "Solving environment: / \b\b- \b\b\\ \b\b| \b\b/ \b\b- \b\b\\ \b\b| \b\b/ \b\b- \b\b\\ \b\b| \b\b/ \b\b- \b\b\\ \b\b| \b\b/ \b\b- \b\b\\ \b\b| \b\b/ \b\b- \b\b\\ \b\b| \b\b/ \b\b- \b\b\\ \b\b| \b\b/ \b\b- \b\b\\ \b\b| \b\b/ \b\b- \b\b\\ \b\b| \b\b/ \b\b- \b\b\\ \b\b| \b\b/ \b\b- \b\b\\ \b\b| \b\b/ \b\b- \b\b\\ \b\b| \b\b/ \b\b- \b\b\\ \b\b| \b\b/ \b\b- \b\b\\ \b\b| \b\b/ \b\b- \b\b\\ \b\b| \b\b/ \b\b- \b\b\\ \b\b| \b\b/ \b\b- \b\b\\ \b\b| \b\b/ \b\b- \b\b\\ \b\b| \b\b/ \b\b- \b\b\\ \b\b| \b\b/ \b\b- \b\b\\ \b\b| \b\b/ \b\b- \b\b\\ \b\b| \b\b/ \b\b- \b\b\\ \b\b| \b\b/ \b\b- \b\b\\ \b\b| \b\b/ \b\b- \b\b\\ \b\b| \b\b/ \b\b- \b\b\\ \b\b| \b\b/ \b\b- \b\b\\ \b\b| \b\b/ \b\b- \b\b\\ \b\b| \b\b/ \b\b- \b\b\\ \b\b| \b\b/ \b\b- \b\b\\ \b\b| \b\b/ \b\b- \b\b\\ \b\b| \b\b/ \b\b- \b\b\\ \b\b| \b\b/ \b\b- \b\b\\ \b\b| \b\b/ \b\b- \b\b\\ \b\b| \b\b/ \b\b- \b\b\\ \b\b| \b\b/ \b\b- \b\b\\ \b\b| \b\b/ \b\b- \b\b\\ \b\b| \b\b/ \b\b- \b\b\\ \b\b| \b\b/ \b\b- \b\b\\ \b\b| \b\b/ \b\b- \b\b\\ \b\b| \b\b/ \b\b- \b\b\\ \b\b| \b\b/ \b\b- \b\b\\ \b\b| \b\b/ \b\b- \b\b\\ \b\b| \b\b/ \b\b- \b\b\\ \b\b| \b\b/ \b\b- \b\b\\ \b\b| \b\b/ \b\b- \b\b\\ \b\bdone\n",
            "\n",
            "\n",
            "==> WARNING: A newer version of conda exists. <==\n",
            "  current version: 4.7.12\n",
            "  latest version: 4.9.2\n",
            "\n",
            "Please update conda by running\n",
            "\n",
            "    $ conda update -n base -c defaults conda\n",
            "\n",
            "\n",
            "\n",
            "## Package Plan ##\n",
            "\n",
            "  environment location: /usr/local\n",
            "\n",
            "  added / updated specs:\n",
            "    - deepchem-gpu=2.3.0\n",
            "\n",
            "\n",
            "The following packages will be downloaded:\n",
            "\n",
            "    package                    |            build\n",
            "    ---------------------------|-----------------\n",
            "    _py-xgboost-mutex-2.0      |            cpu_0           8 KB  conda-forge\n",
            "    _tflow_select-2.1.0        |              gpu           2 KB\n",
            "    absl-py-0.12.0             |     pyhd8ed1ab_0          96 KB  conda-forge\n",
            "    astor-0.8.1                |     pyh9f0ad1d_0          25 KB  conda-forge\n",
            "    astunparse-1.6.3           |     pyhd8ed1ab_0          15 KB  conda-forge\n",
            "    c-ares-1.17.1              |       h36c2ea0_0         111 KB  conda-forge\n",
            "    certifi-2019.9.11          |           py37_0         147 KB  conda-forge\n",
            "    conda-4.9.2                |   py37h89c1867_0         3.0 MB  conda-forge\n",
            "    cudatoolkit-10.1.243       |       h6bb024c_0       347.4 MB\n",
            "    cudnn-7.6.5.32             |       hc0a50b0_1       250.7 MB  conda-forge\n",
            "    cupti-10.1.168             |                0         1.4 MB\n",
            "    deepchem-gpu-2.3.0         |           py37_0         2.1 MB  deepchem\n",
            "    fftw3f-3.3.4               |                2         1.2 MB  omnia\n",
            "    gast-0.4.0                 |     pyh9f0ad1d_0          12 KB  conda-forge\n",
            "    google-pasta-0.2.0         |     pyh8c360ce_0          42 KB  conda-forge\n",
            "    grpcio-1.23.0              |   py37hb0870dc_1         1.1 MB  conda-forge\n",
            "    importlib-metadata-3.7.2   |   py37h89c1867_0          24 KB  conda-forge\n",
            "    keras-applications-1.0.8   |             py_1          30 KB  conda-forge\n",
            "    keras-preprocessing-1.1.2  |     pyhd8ed1ab_0          34 KB  conda-forge\n",
            "    libboost-1.67.0            |       h46d08c1_4        13.0 MB\n",
            "    libprotobuf-3.13.0.1       |       h8b12597_0         2.3 MB  conda-forge\n",
            "    libxgboost-1.2.0           |       he1b5a44_0         3.1 MB  conda-forge\n",
            "    markdown-3.3.4             |     pyhd8ed1ab_0          67 KB  conda-forge\n",
            "    mdtraj-1.9.5               |   py37h113d463_0         1.7 MB  conda-forge\n",
            "    openmm-7.4.2               |py37_cuda101_rc_1        11.9 MB  omnia\n",
            "    pdbfixer-1.6               |             py_1         167 KB  omnia\n",
            "    protobuf-3.13.0.1          |   py37h745909e_1         704 KB  conda-forge\n",
            "    py-boost-1.67.0            |   py37h04863e7_4         278 KB\n",
            "    py-xgboost-1.2.0           |   py37hc8dfbb8_0         1.7 MB  conda-forge\n",
            "    python_abi-3.7             |          1_cp37m           4 KB  conda-forge\n",
            "    rdkit-2020.03.3.0          |   py37hc20afe1_1        24.8 MB  rdkit\n",
            "    simdna-0.4.2               |             py_0         627 KB  deepchem\n",
            "    tensorboard-1.14.0         |           py37_0         3.2 MB  conda-forge\n",
            "    tensorflow-1.14.0          |gpu_py37h74c33d7_0           4 KB\n",
            "    tensorflow-base-1.14.0     |gpu_py37he45bfe2_0       146.3 MB\n",
            "    tensorflow-estimator-1.14.0|   py37h5ca1d4c_0         645 KB  conda-forge\n",
            "    tensorflow-gpu-1.14.0      |       h0d30ee6_0           3 KB\n",
            "    termcolor-1.1.0            |             py_2           6 KB  conda-forge\n",
            "    typing_extensions-3.7.4.3  |             py_0          25 KB  conda-forge\n",
            "    xgboost-1.2.0              |   py37h3340039_0          11 KB  conda-forge\n",
            "    ------------------------------------------------------------\n",
            "                                           Total:       817.9 MB\n",
            "\n",
            "The following NEW packages will be INSTALLED:\n",
            "\n",
            "  _py-xgboost-mutex  conda-forge/linux-64::_py-xgboost-mutex-2.0-cpu_0\n",
            "  _tflow_select      pkgs/main/linux-64::_tflow_select-2.1.0-gpu\n",
            "  absl-py            conda-forge/noarch::absl-py-0.12.0-pyhd8ed1ab_0\n",
            "  astor              conda-forge/noarch::astor-0.8.1-pyh9f0ad1d_0\n",
            "  astunparse         conda-forge/noarch::astunparse-1.6.3-pyhd8ed1ab_0\n",
            "  c-ares             conda-forge/linux-64::c-ares-1.17.1-h36c2ea0_0\n",
            "  cudatoolkit        pkgs/main/linux-64::cudatoolkit-10.1.243-h6bb024c_0\n",
            "  cudnn              conda-forge/linux-64::cudnn-7.6.5.32-hc0a50b0_1\n",
            "  cupti              pkgs/main/linux-64::cupti-10.1.168-0\n",
            "  deepchem-gpu       deepchem/linux-64::deepchem-gpu-2.3.0-py37_0\n",
            "  fftw3f             omnia/linux-64::fftw3f-3.3.4-2\n",
            "  gast               conda-forge/noarch::gast-0.4.0-pyh9f0ad1d_0\n",
            "  google-pasta       conda-forge/noarch::google-pasta-0.2.0-pyh8c360ce_0\n",
            "  grpcio             conda-forge/linux-64::grpcio-1.23.0-py37hb0870dc_1\n",
            "  importlib-metadata conda-forge/linux-64::importlib-metadata-3.7.2-py37h89c1867_0\n",
            "  keras-applications conda-forge/noarch::keras-applications-1.0.8-py_1\n",
            "  keras-preprocessi~ conda-forge/noarch::keras-preprocessing-1.1.2-pyhd8ed1ab_0\n",
            "  libboost           pkgs/main/linux-64::libboost-1.67.0-h46d08c1_4\n",
            "  libprotobuf        conda-forge/linux-64::libprotobuf-3.13.0.1-h8b12597_0\n",
            "  libxgboost         conda-forge/linux-64::libxgboost-1.2.0-he1b5a44_0\n",
            "  markdown           conda-forge/noarch::markdown-3.3.4-pyhd8ed1ab_0\n",
            "  mdtraj             conda-forge/linux-64::mdtraj-1.9.5-py37h113d463_0\n",
            "  openmm             omnia/linux-64::openmm-7.4.2-py37_cuda101_rc_1\n",
            "  pdbfixer           omnia/noarch::pdbfixer-1.6-py_1\n",
            "  protobuf           conda-forge/linux-64::protobuf-3.13.0.1-py37h745909e_1\n",
            "  py-boost           pkgs/main/linux-64::py-boost-1.67.0-py37h04863e7_4\n",
            "  py-xgboost         conda-forge/linux-64::py-xgboost-1.2.0-py37hc8dfbb8_0\n",
            "  python_abi         conda-forge/linux-64::python_abi-3.7-1_cp37m\n",
            "  rdkit              rdkit/linux-64::rdkit-2020.03.3.0-py37hc20afe1_1\n",
            "  simdna             deepchem/noarch::simdna-0.4.2-py_0\n",
            "  tensorboard        conda-forge/linux-64::tensorboard-1.14.0-py37_0\n",
            "  tensorflow         pkgs/main/linux-64::tensorflow-1.14.0-gpu_py37h74c33d7_0\n",
            "  tensorflow-base    pkgs/main/linux-64::tensorflow-base-1.14.0-gpu_py37he45bfe2_0\n",
            "  tensorflow-estima~ conda-forge/linux-64::tensorflow-estimator-1.14.0-py37h5ca1d4c_0\n",
            "  tensorflow-gpu     pkgs/main/linux-64::tensorflow-gpu-1.14.0-h0d30ee6_0\n",
            "  termcolor          conda-forge/noarch::termcolor-1.1.0-py_2\n",
            "  typing_extensions  conda-forge/noarch::typing_extensions-3.7.4.3-py_0\n",
            "  xgboost            conda-forge/linux-64::xgboost-1.2.0-py37h3340039_0\n",
            "\n",
            "The following packages will be UPDATED:\n",
            "\n",
            "  conda                      pkgs/main::conda-4.7.12-py37_0 --> conda-forge::conda-4.9.2-py37h89c1867_0\n",
            "\n",
            "The following packages will be SUPERSEDED by a higher-priority channel:\n",
            "\n",
            "  certifi                                         pkgs/main --> conda-forge\n",
            "\n",
            "\n",
            "\n",
            "Downloading and Extracting Packages\n",
            "termcolor-1.1.0      | 6 KB      | : 100% 1.0/1 [00:00<00:00,  9.88it/s]\n",
            "xgboost-1.2.0        | 11 KB     | : 100% 1.0/1 [00:00<00:00, 18.01it/s]\n",
            "certifi-2019.9.11    | 147 KB    | : 100% 1.0/1 [00:00<00:00,  4.83it/s]                \n",
            "tensorflow-estimator | 645 KB    | : 100% 1.0/1 [00:00<00:00,  4.68it/s]\n",
            "keras-preprocessing- | 34 KB     | : 100% 1.0/1 [00:00<00:00, 15.53it/s]\n",
            "mdtraj-1.9.5         | 1.7 MB    | : 100% 1.0/1 [00:00<00:00,  7.01s/it]               \n",
            "tensorboard-1.14.0   | 3.2 MB    | : 100% 1.0/1 [00:00<00:00,  1.96it/s]                \n",
            "libprotobuf-3.13.0.1 | 2.3 MB    | : 100% 1.0/1 [00:00<00:00,  2.38it/s]\n",
            "_tflow_select-2.1.0  | 2 KB      | : 100% 1.0/1 [00:00<00:00,  6.74it/s]\n",
            "py-boost-1.67.0      | 278 KB    | : 100% 1.0/1 [00:00<00:00,  6.58it/s]\n",
            "tensorflow-gpu-1.14. | 3 KB      | : 100% 1.0/1 [00:00<00:00,  9.80it/s]\n",
            "astor-0.8.1          | 25 KB     | : 100% 1.0/1 [00:00<00:00, 21.40it/s]\n",
            "deepchem-gpu-2.3.0   | 2.1 MB    | : 100% 1.0/1 [00:01<00:00,  1.37s/it]\n",
            "python_abi-3.7       | 4 KB      | : 100% 1.0/1 [00:00<00:00, 10.01it/s]\n",
            "markdown-3.3.4       | 67 KB     | : 100% 1.0/1 [00:00<00:00, 15.60it/s]\n",
            "libboost-1.67.0      | 13.0 MB   | : 100% 1.0/1 [00:01<00:00,  1.53s/it]               \n",
            "astunparse-1.6.3     | 15 KB     | : 100% 1.0/1 [00:00<00:00, 25.13it/s]\n",
            "libxgboost-1.2.0     | 3.1 MB    | : 100% 1.0/1 [00:00<00:00,  1.96it/s]\n",
            "protobuf-3.13.0.1    | 704 KB    | : 100% 1.0/1 [00:00<00:00,  4.80it/s]\n",
            "gast-0.4.0           | 12 KB     | : 100% 1.0/1 [00:00<00:00, 27.46it/s]\n",
            "cupti-10.1.168       | 1.4 MB    | : 100% 1.0/1 [00:00<00:00,  4.69it/s]               \n",
            "fftw3f-3.3.4         | 1.2 MB    | : 100% 1.0/1 [00:01<00:00,  1.39s/it]\n",
            "cudatoolkit-10.1.243 | 347.4 MB  | : 100% 1.0/1 [00:17<00:00, 17.66s/it]               \n",
            "_py-xgboost-mutex-2. | 8 KB      | : 100% 1.0/1 [00:00<00:00,  9.06it/s]\n",
            "c-ares-1.17.1        | 111 KB    | : 100% 1.0/1 [00:00<00:00, 12.99it/s]\n",
            "tensorflow-base-1.14 | 146.3 MB  | : 100% 1.0/1 [00:42<00:00, 42.30s/it]             \n",
            "cudnn-7.6.5.32       | 250.7 MB  | : 100% 1.0/1 [00:32<00:00, 699.21s/it]              \n",
            "keras-applications-1 | 30 KB     | : 100% 1.0/1 [00:00<00:00, 10.49it/s]\n",
            "google-pasta-0.2.0   | 42 KB     | : 100% 1.0/1 [00:00<00:00, 14.61it/s]\n",
            "typing_extensions-3. | 25 KB     | : 100% 1.0/1 [00:00<00:00, 17.72it/s]\n",
            "tensorflow-1.14.0    | 4 KB      | : 100% 1.0/1 [00:00<00:00,  8.99it/s]\n",
            "rdkit-2020.03.3.0    | 24.8 MB   | : 100% 1.0/1 [00:05<00:00,  5.30s/it]\n",
            "simdna-0.4.2         | 627 KB    | : 100% 1.0/1 [00:01<00:00,  1.19s/it]\n",
            "py-xgboost-1.2.0     | 1.7 MB    | : 100% 1.0/1 [00:00<00:00,  3.20it/s]\n",
            "importlib-metadata-3 | 24 KB     | : 100% 1.0/1 [00:00<00:00, 10.69it/s]\n",
            "absl-py-0.12.0       | 96 KB     | : 100% 1.0/1 [00:00<00:00, 12.39it/s]\n",
            "grpcio-1.23.0        | 1.1 MB    | : 100% 1.0/1 [00:00<00:00,  4.79it/s]\n",
            "openmm-7.4.2         | 11.9 MB   | : 100% 1.0/1 [00:03<00:00,  3.70s/it]\n",
            "pdbfixer-1.6         | 167 KB    | : 100% 1.0/1 [00:01<00:00,  1.10s/it]\n",
            "conda-4.9.2          | 3.0 MB    | : 100% 1.0/1 [00:00<00:00,  1.66it/s]               \n",
            "Preparing transaction: / \b\b- \b\b\\ \b\b| \b\b/ \b\b- \b\b\\ \b\b| \b\b/ \b\bdone\n",
            "Verifying transaction: \\ \b\b| \b\b/ \b\b- \b\b\\ \b\b| \b\b/ \b\b- \b\b\\ \b\b| \b\b/ \b\b- \b\b\\ \b\b| \b\b/ \b\b- \b\b\\ \b\b| \b\b/ \b\b- \b\b\\ \b\b| \b\b/ \b\bdone\n",
            "Executing transaction: \\ \b\b| \b\b/ \b\b- \b\b\\ \b\b| \b\b/ \b\b- \b\b\\ \b\b| \b\b/ \b\b- \b\b\\ \b\b| \b\b/ \b\b- \b\b\\ \b\b| \b\b/ b'By downloading and using the cuDNN conda packages, you accept the terms and conditions of the NVIDIA cuDNN EULA -\\n  https://docs.nvidia.com/deeplearning/cudnn/sla/index.html\\n'\n",
            "\b\b- \b\b\\ \b\b| \b\b/ \b\b- \b\b\\ \b\b| \b\b/ \b\b- \b\b\\ \b\b| \b\b/ \b\b- \b\b\\ \b\b| \b\b/ \b\b- \b\bdone\n",
            "\n",
            "real\t5m0.516s\n",
            "user\t3m45.343s\n",
            "sys\t0m12.688s\n"
          ],
          "name": "stdout"
        },
        {
          "output_type": "stream",
          "text": [
            "/usr/local/lib/python3.7/dist-packages/sklearn/externals/joblib/__init__.py:15: FutureWarning: sklearn.externals.joblib is deprecated in 0.21 and will be removed in 0.23. Please import this functionality directly from joblib, which can be installed with: pip install joblib. If this warning is raised when loading pickled models, you may need to re-serialize those models with scikit-learn 0.21+.\n",
            "  warnings.warn(msg, category=FutureWarning)\n"
          ],
          "name": "stderr"
        },
        {
          "output_type": "stream",
          "text": [
            "WARNING:tensorflow:\n",
            "The TensorFlow contrib module will not be included in TensorFlow 2.0.\n",
            "For more information, please see:\n",
            "  * https://github.com/tensorflow/community/blob/master/rfcs/20180907-contrib-sunset.md\n",
            "  * https://github.com/tensorflow/addons\n",
            "  * https://github.com/tensorflow/io (for I/O related ops)\n",
            "If you depend on functionality not listed there, please file an issue.\n",
            "\n"
          ],
          "name": "stdout"
        }
      ]
    },
    {
      "cell_type": "code",
      "metadata": {
        "colab": {
          "base_uri": "https://localhost:8080/"
        },
        "id": "Gvmh_JjmFYbJ",
        "outputId": "dc5417f4-7259-44c9-c905-c5df5c0e0d19"
      },
      "source": [
        "! time conda install -c conda-forge -y mordred bravado molvs"
      ],
      "execution_count": 3,
      "outputs": [
        {
          "output_type": "stream",
          "text": [
            "Collecting package metadata (current_repodata.json): - \b\b\\ \b\b| \b\b/ \b\b- \b\b\\ \b\b| \b\b/ \b\b- \b\b\\ \b\b| \b\b/ \b\b- \b\b\\ \b\b| \b\b/ \b\b- \b\b\\ \b\b| \b\b/ \b\b- \b\b\\ \b\b| \b\b/ \b\b- \b\b\\ \b\b| \b\b/ \b\b- \b\b\\ \b\b| \b\b/ \b\b- \b\bdone\n",
            "Solving environment: | \b\b/ \b\b- \b\b\\ \b\b| \b\b/ \b\b- \b\b\\ \b\b| \b\b/ \b\b- \b\b\\ \b\b| \b\b/ \b\b- \b\b\\ \b\b| \b\b/ \b\b- \b\b\\ \b\b| \b\b/ \b\b- \b\b\\ \b\b| \b\b/ \b\b- \b\b\\ \b\b| \b\b/ \b\b- \b\b\\ \b\b| \b\b/ \b\b- \b\b\\ \b\b| \b\b/ \b\b- \b\b\\ \b\b| \b\b/ \b\b- \b\b\\ \b\b| \b\b/ \b\b- \b\b\\ \b\bdone\n",
            "\n",
            "## Package Plan ##\n",
            "\n",
            "  environment location: /usr/local\n",
            "\n",
            "  added / updated specs:\n",
            "    - bravado\n",
            "    - molvs\n",
            "    - mordred\n",
            "\n",
            "\n",
            "The following packages will be downloaded:\n",
            "\n",
            "    package                    |            build\n",
            "    ---------------------------|-----------------\n",
            "    bravado-11.0.3             |     pyhd8ed1ab_0          31 KB  conda-forge\n",
            "    bravado-core-5.17.0        |     pyh9f0ad1d_0          48 KB  conda-forge\n",
            "    jsonref-0.2                |             py_0          11 KB  conda-forge\n",
            "    molvs-0.1.1                |             py_0          25 KB  conda-forge\n",
            "    monotonic-1.5              |             py_0           9 KB  conda-forge\n",
            "    mordred-1.2.0              |             py_1         124 KB  conda-forge\n",
            "    simplejson-3.17.2          |   py37h8f50634_1         102 KB  conda-forge\n",
            "    swagger-spec-validator-2.7.3|     pyh9f0ad1d_0          21 KB  conda-forge\n",
            "    typing-extensions-3.7.4.3  |                0           8 KB  conda-forge\n",
            "    ------------------------------------------------------------\n",
            "                                           Total:         378 KB\n",
            "\n",
            "The following NEW packages will be INSTALLED:\n",
            "\n",
            "  bravado            conda-forge/noarch::bravado-11.0.3-pyhd8ed1ab_0\n",
            "  bravado-core       conda-forge/noarch::bravado-core-5.17.0-pyh9f0ad1d_0\n",
            "  jsonref            conda-forge/noarch::jsonref-0.2-py_0\n",
            "  molvs              conda-forge/noarch::molvs-0.1.1-py_0\n",
            "  monotonic          conda-forge/noarch::monotonic-1.5-py_0\n",
            "  mordred            conda-forge/noarch::mordred-1.2.0-py_1\n",
            "  simplejson         conda-forge/linux-64::simplejson-3.17.2-py37h8f50634_1\n",
            "  swagger-spec-vali~ conda-forge/noarch::swagger-spec-validator-2.7.3-pyh9f0ad1d_0\n",
            "  typing-extensions  conda-forge/noarch::typing-extensions-3.7.4.3-0\n",
            "\n",
            "\n",
            "\n",
            "Downloading and Extracting Packages\n",
            "monotonic-1.5        | 9 KB      | : 100% 1.0/1 [00:00<00:00, 10.68it/s]\n",
            "mordred-1.2.0        | 124 KB    | : 100% 1.0/1 [00:00<00:00,  9.77it/s]\n",
            "jsonref-0.2          | 11 KB     | : 100% 1.0/1 [00:00<00:00, 14.06it/s]\n",
            "molvs-0.1.1          | 25 KB     | : 100% 1.0/1 [00:00<00:00, 22.05it/s]\n",
            "swagger-spec-validat | 21 KB     | : 100% 1.0/1 [00:00<00:00, 17.40it/s]\n",
            "typing-extensions-3. | 8 KB      | : 100% 1.0/1 [00:00<00:00, 28.96it/s]\n",
            "bravado-core-5.17.0  | 48 KB     | : 100% 1.0/1 [00:00<00:00, 17.05it/s]\n",
            "bravado-11.0.3       | 31 KB     | : 100% 1.0/1 [00:00<00:00, 20.05it/s]\n",
            "simplejson-3.17.2    | 102 KB    | : 100% 1.0/1 [00:00<00:00, 13.86it/s]\n",
            "Preparing transaction: / \b\bdone\n",
            "Verifying transaction: \\ \b\bdone\n",
            "Executing transaction: / \b\b- \b\b\\ \b\b| \b\b/ \b\b- \b\b\\ \b\bdone\n",
            "\n",
            "real\t0m18.709s\n",
            "user\t0m14.733s\n",
            "sys\t0m1.456s\n"
          ],
          "name": "stdout"
        }
      ]
    },
    {
      "cell_type": "code",
      "metadata": {
        "colab": {
          "base_uri": "https://localhost:8080/",
          "height": 34
        },
        "id": "Sa61RNnn_EYw",
        "outputId": "79eaa389-bebd-481d-b361-3f2b416c222b"
      },
      "source": [
        "pwd"
      ],
      "execution_count": null,
      "outputs": [
        {
          "output_type": "execute_result",
          "data": {
            "application/vnd.google.colaboratory.intrinsic+json": {
              "type": "string"
            },
            "text/plain": [
              "'/content'"
            ]
          },
          "metadata": {
            "tags": []
          },
          "execution_count": 4
        }
      ]
    },
    {
      "cell_type": "code",
      "metadata": {
        "colab": {
          "base_uri": "https://localhost:8080/"
        },
        "id": "4AB0U-9gyJNB",
        "outputId": "e90553fe-5c87-4e7f-ed50-a0b7bb545c43"
      },
      "source": [
        "!wget https://raw.githubusercontent.com/ravichas/AMPL-Tutorial/master/config/install_AMPL_GPU_test.sh"
      ],
      "execution_count": 4,
      "outputs": [
        {
          "output_type": "stream",
          "text": [
            "--2021-03-11 00:27:30--  https://raw.githubusercontent.com/ravichas/AMPL-Tutorial/master/config/install_AMPL_GPU_test.sh\n",
            "Resolving raw.githubusercontent.com (raw.githubusercontent.com)... 185.199.108.133, 185.199.109.133, 185.199.110.133, ...\n",
            "Connecting to raw.githubusercontent.com (raw.githubusercontent.com)|185.199.108.133|:443... connected.\n",
            "HTTP request sent, awaiting response... 200 OK\n",
            "Length: 1100 (1.1K) [text/plain]\n",
            "Saving to: ‘install_AMPL_GPU_test.sh’\n",
            "\n",
            "install_AMPL_GPU_te 100%[===================>]   1.07K  --.-KB/s    in 0s      \n",
            "\n",
            "2021-03-11 00:27:30 (79.3 MB/s) - ‘install_AMPL_GPU_test.sh’ saved [1100/1100]\n",
            "\n"
          ],
          "name": "stdout"
        }
      ]
    },
    {
      "cell_type": "code",
      "metadata": {
        "colab": {
          "base_uri": "https://localhost:8080/"
        },
        "id": "aadk1g7ZzPdp",
        "outputId": "703a9089-c1b4-4454-8b77-8a1880c2d66f"
      },
      "source": [
        "! chmod u+x install_AMPL_GPU_test.sh\n",
        "! ./install_AMPL_GPU_test.sh"
      ],
      "execution_count": 5,
      "outputs": [
        {
          "output_type": "stream",
          "text": [
            "Cloning into 'AMPL'...\n",
            "remote: Enumerating objects: 264, done.\u001b[K\n",
            "remote: Counting objects: 100% (264/264), done.\u001b[K\n",
            "remote: Compressing objects: 100% (136/136), done.\u001b[K\n",
            "remote: Total 1784 (delta 197), reused 164 (delta 128), pack-reused 1520\u001b[K\n",
            "Receiving objects: 100% (1784/1784), 9.62 MiB | 12.25 MiB/s, done.\n",
            "Resolving deltas: 100% (1018/1018), done.\n",
            "Branch 'pkg_upgrade' set up to track remote branch 'pkg_upgrade' from 'origin'.\n",
            "Switched to a new branch 'pkg_upgrade'\n",
            "patching file /content/github/AMPL/atomsci/ddm/pipeline/transformations.py\n",
            "patching file /content/github/AMPL/atomsci/ddm/__init__.py\n",
            "running build\n",
            "running build_py\n",
            "creating /content/github/AMPL.build/ampl/lib\n",
            "creating /content/github/AMPL.build/ampl/lib/atomsci\n",
            "copying atomsci/__init__.py -> /content/github/AMPL.build/ampl/lib/atomsci\n",
            "creating /content/github/AMPL.build/ampl/lib/atomsci/ddm\n",
            "copying atomsci/ddm/__init__.py -> /content/github/AMPL.build/ampl/lib/atomsci/ddm\n",
            "creating /content/github/AMPL.build/ampl/lib/atomsci/ddm/pipeline\n",
            "copying atomsci/ddm/pipeline/splitting.py -> /content/github/AMPL.build/ampl/lib/atomsci/ddm/pipeline\n",
            "copying atomsci/ddm/pipeline/__init__.py -> /content/github/AMPL.build/ampl/lib/atomsci/ddm/pipeline\n",
            "copying atomsci/ddm/pipeline/diversity_plots.py -> /content/github/AMPL.build/ampl/lib/atomsci/ddm/pipeline\n",
            "copying atomsci/ddm/pipeline/hyper_perf_plots.py -> /content/github/AMPL.build/ampl/lib/atomsci/ddm/pipeline\n",
            "copying atomsci/ddm/pipeline/temporal_splitter.py -> /content/github/AMPL.build/ampl/lib/atomsci/ddm/pipeline\n",
            "copying atomsci/ddm/pipeline/model_datasets.py -> /content/github/AMPL.build/ampl/lib/atomsci/ddm/pipeline\n",
            "copying atomsci/ddm/pipeline/chem_diversity.py -> /content/github/AMPL.build/ampl/lib/atomsci/ddm/pipeline\n",
            "copying atomsci/ddm/pipeline/dist_metrics.py -> /content/github/AMPL.build/ampl/lib/atomsci/ddm/pipeline\n",
            "copying atomsci/ddm/pipeline/perf_plots.py -> /content/github/AMPL.build/ampl/lib/atomsci/ddm/pipeline\n",
            "copying atomsci/ddm/pipeline/model_wrapper.py -> /content/github/AMPL.build/ampl/lib/atomsci/ddm/pipeline\n",
            "copying atomsci/ddm/pipeline/predict_from_model.py -> /content/github/AMPL.build/ampl/lib/atomsci/ddm/pipeline\n",
            "copying atomsci/ddm/pipeline/model_tracker.py -> /content/github/AMPL.build/ampl/lib/atomsci/ddm/pipeline\n",
            "copying atomsci/ddm/pipeline/perf_data.py -> /content/github/AMPL.build/ampl/lib/atomsci/ddm/pipeline\n",
            "copying atomsci/ddm/pipeline/featurization.py -> /content/github/AMPL.build/ampl/lib/atomsci/ddm/pipeline\n",
            "copying atomsci/ddm/pipeline/ave_splitter.py -> /content/github/AMPL.build/ampl/lib/atomsci/ddm/pipeline\n",
            "copying atomsci/ddm/pipeline/parameter_parser.py -> /content/github/AMPL.build/ampl/lib/atomsci/ddm/pipeline\n",
            "copying atomsci/ddm/pipeline/model_pipeline.py -> /content/github/AMPL.build/ampl/lib/atomsci/ddm/pipeline\n",
            "copying atomsci/ddm/pipeline/transformations.py -> /content/github/AMPL.build/ampl/lib/atomsci/ddm/pipeline\n",
            "copying atomsci/ddm/pipeline/compare_models.py -> /content/github/AMPL.build/ampl/lib/atomsci/ddm/pipeline\n",
            "creating /content/github/AMPL.build/ampl/lib/atomsci/ddm/utils\n",
            "copying atomsci/ddm/utils/pubchem_utils.py -> /content/github/AMPL.build/ampl/lib/atomsci/ddm/utils\n",
            "copying atomsci/ddm/utils/__init__.py -> /content/github/AMPL.build/ampl/lib/atomsci/ddm/utils\n",
            "copying atomsci/ddm/utils/struct_utils.py -> /content/github/AMPL.build/ampl/lib/atomsci/ddm/utils\n",
            "copying atomsci/ddm/utils/llnl_utils.py -> /content/github/AMPL.build/ampl/lib/atomsci/ddm/utils\n",
            "copying atomsci/ddm/utils/data_curation_functions.py -> /content/github/AMPL.build/ampl/lib/atomsci/ddm/utils\n",
            "copying atomsci/ddm/utils/rdkit_easy.py -> /content/github/AMPL.build/ampl/lib/atomsci/ddm/utils\n",
            "copying atomsci/ddm/utils/open-docs.py -> /content/github/AMPL.build/ampl/lib/atomsci/ddm/utils\n",
            "copying atomsci/ddm/utils/process_slurm.py -> /content/github/AMPL.build/ampl/lib/atomsci/ddm/utils\n",
            "copying atomsci/ddm/utils/genTestset.py -> /content/github/AMPL.build/ampl/lib/atomsci/ddm/utils\n",
            "copying atomsci/ddm/utils/hyperparam_search_wrapper.py -> /content/github/AMPL.build/ampl/lib/atomsci/ddm/utils\n",
            "copying atomsci/ddm/utils/curate_data.py -> /content/github/AMPL.build/ampl/lib/atomsci/ddm/utils\n",
            "copying atomsci/ddm/utils/datastore_functions.py -> /content/github/AMPL.build/ampl/lib/atomsci/ddm/utils\n",
            "running egg_info\n",
            "creating /content/github/AMPL.build/ampl/atomsci_ampl.egg-info\n",
            "writing /content/github/AMPL.build/ampl/atomsci_ampl.egg-info/PKG-INFO\n",
            "writing dependency_links to /content/github/AMPL.build/ampl/atomsci_ampl.egg-info/dependency_links.txt\n",
            "writing namespace_packages to /content/github/AMPL.build/ampl/atomsci_ampl.egg-info/namespace_packages.txt\n",
            "writing top-level names to /content/github/AMPL.build/ampl/atomsci_ampl.egg-info/top_level.txt\n",
            "writing manifest file '/content/github/AMPL.build/ampl/atomsci_ampl.egg-info/SOURCES.txt'\n",
            "reading manifest file '/content/github/AMPL.build/ampl/atomsci_ampl.egg-info/SOURCES.txt'\n",
            "reading manifest template 'MANIFEST.in'\n",
            "warning: no files found matching 'atomsci/*/*.yaml'\n",
            "writing manifest file '/content/github/AMPL.build/ampl/atomsci_ampl.egg-info/SOURCES.txt'\n",
            "creating /content/github/AMPL.build/ampl/lib/atomsci/ddm/data\n",
            "copying atomsci/ddm/data/descriptor_sets_sources_by_descr_type.csv -> /content/github/AMPL.build/ampl/lib/atomsci/ddm/data\n",
            "running bdist_wheel\n",
            "installing to /content/github/AMPL.build/ampl/bdist.linux-x86_64/wheel\n",
            "running install\n",
            "running install_lib\n",
            "Skipping installation of /content/github/AMPL.build/ampl/bdist.linux-x86_64/wheel/atomsci/__init__.py (namespace package)\n",
            "copying atomsci/ddm/__init__.py -> /content/github/AMPL.build/ampl/bdist.linux-x86_64/wheel/atomsci/ddm\n",
            "copying atomsci/ddm/pipeline/splitting.py -> /content/github/AMPL.build/ampl/bdist.linux-x86_64/wheel/atomsci/ddm/pipeline\n",
            "copying atomsci/ddm/pipeline/__init__.py -> /content/github/AMPL.build/ampl/bdist.linux-x86_64/wheel/atomsci/ddm/pipeline\n",
            "copying atomsci/ddm/pipeline/diversity_plots.py -> /content/github/AMPL.build/ampl/bdist.linux-x86_64/wheel/atomsci/ddm/pipeline\n",
            "copying atomsci/ddm/pipeline/hyper_perf_plots.py -> /content/github/AMPL.build/ampl/bdist.linux-x86_64/wheel/atomsci/ddm/pipeline\n",
            "copying atomsci/ddm/pipeline/temporal_splitter.py -> /content/github/AMPL.build/ampl/bdist.linux-x86_64/wheel/atomsci/ddm/pipeline\n",
            "copying atomsci/ddm/pipeline/model_datasets.py -> /content/github/AMPL.build/ampl/bdist.linux-x86_64/wheel/atomsci/ddm/pipeline\n",
            "copying atomsci/ddm/pipeline/chem_diversity.py -> /content/github/AMPL.build/ampl/bdist.linux-x86_64/wheel/atomsci/ddm/pipeline\n",
            "copying atomsci/ddm/pipeline/dist_metrics.py -> /content/github/AMPL.build/ampl/bdist.linux-x86_64/wheel/atomsci/ddm/pipeline\n",
            "copying atomsci/ddm/pipeline/perf_plots.py -> /content/github/AMPL.build/ampl/bdist.linux-x86_64/wheel/atomsci/ddm/pipeline\n",
            "copying atomsci/ddm/pipeline/model_wrapper.py -> /content/github/AMPL.build/ampl/bdist.linux-x86_64/wheel/atomsci/ddm/pipeline\n",
            "copying atomsci/ddm/pipeline/predict_from_model.py -> /content/github/AMPL.build/ampl/bdist.linux-x86_64/wheel/atomsci/ddm/pipeline\n",
            "copying atomsci/ddm/pipeline/model_tracker.py -> /content/github/AMPL.build/ampl/bdist.linux-x86_64/wheel/atomsci/ddm/pipeline\n",
            "copying atomsci/ddm/pipeline/perf_data.py -> /content/github/AMPL.build/ampl/bdist.linux-x86_64/wheel/atomsci/ddm/pipeline\n",
            "copying atomsci/ddm/pipeline/featurization.py -> /content/github/AMPL.build/ampl/bdist.linux-x86_64/wheel/atomsci/ddm/pipeline\n",
            "copying atomsci/ddm/pipeline/ave_splitter.py -> /content/github/AMPL.build/ampl/bdist.linux-x86_64/wheel/atomsci/ddm/pipeline\n",
            "copying atomsci/ddm/pipeline/parameter_parser.py -> /content/github/AMPL.build/ampl/bdist.linux-x86_64/wheel/atomsci/ddm/pipeline\n",
            "copying atomsci/ddm/pipeline/model_pipeline.py -> /content/github/AMPL.build/ampl/bdist.linux-x86_64/wheel/atomsci/ddm/pipeline\n",
            "copying atomsci/ddm/pipeline/transformations.py -> /content/github/AMPL.build/ampl/bdist.linux-x86_64/wheel/atomsci/ddm/pipeline\n",
            "copying atomsci/ddm/pipeline/compare_models.py -> /content/github/AMPL.build/ampl/bdist.linux-x86_64/wheel/atomsci/ddm/pipeline\n",
            "copying atomsci/ddm/data/descriptor_sets_sources_by_descr_type.csv -> /content/github/AMPL.build/ampl/bdist.linux-x86_64/wheel/atomsci/ddm/data\n",
            "copying atomsci/ddm/utils/pubchem_utils.py -> /content/github/AMPL.build/ampl/bdist.linux-x86_64/wheel/atomsci/ddm/utils\n",
            "copying atomsci/ddm/utils/__init__.py -> /content/github/AMPL.build/ampl/bdist.linux-x86_64/wheel/atomsci/ddm/utils\n",
            "copying atomsci/ddm/utils/struct_utils.py -> /content/github/AMPL.build/ampl/bdist.linux-x86_64/wheel/atomsci/ddm/utils\n",
            "copying atomsci/ddm/utils/llnl_utils.py -> /content/github/AMPL.build/ampl/bdist.linux-x86_64/wheel/atomsci/ddm/utils\n",
            "copying atomsci/ddm/utils/data_curation_functions.py -> /content/github/AMPL.build/ampl/bdist.linux-x86_64/wheel/atomsci/ddm/utils\n",
            "copying atomsci/ddm/utils/rdkit_easy.py -> /content/github/AMPL.build/ampl/bdist.linux-x86_64/wheel/atomsci/ddm/utils\n",
            "copying atomsci/ddm/utils/open-docs.py -> /content/github/AMPL.build/ampl/bdist.linux-x86_64/wheel/atomsci/ddm/utils\n",
            "copying atomsci/ddm/utils/process_slurm.py -> /content/github/AMPL.build/ampl/bdist.linux-x86_64/wheel/atomsci/ddm/utils\n",
            "copying atomsci/ddm/utils/genTestset.py -> /content/github/AMPL.build/ampl/bdist.linux-x86_64/wheel/atomsci/ddm/utils\n",
            "copying atomsci/ddm/utils/hyperparam_search_wrapper.py -> /content/github/AMPL.build/ampl/bdist.linux-x86_64/wheel/atomsci/ddm/utils\n",
            "copying atomsci/ddm/utils/curate_data.py -> /content/github/AMPL.build/ampl/bdist.linux-x86_64/wheel/atomsci/ddm/utils\n",
            "copying atomsci/ddm/utils/datastore_functions.py -> /content/github/AMPL.build/ampl/bdist.linux-x86_64/wheel/atomsci/ddm/utils\n",
            "running install_egg_info\n",
            "Copying /content/github/AMPL.build/ampl/atomsci_ampl.egg-info to /content/github/AMPL.build/ampl/bdist.linux-x86_64/wheel/atomsci_ampl-1.0.0.dev1-py3.7.egg-info\n",
            "Installing /content/github/AMPL.build/ampl/bdist.linux-x86_64/wheel/atomsci_ampl-1.0.0.dev1-py3.7-nspkg.pth\n",
            "running install_scripts\n",
            "adding license file \"LICENSE\" (matched pattern \"LICEN[CS]E*\")\n",
            "adding license file \"NOTICE\" (matched pattern \"NOTICE*\")\n",
            "creating /content/github/AMPL.build/ampl/bdist.linux-x86_64/wheel/atomsci_ampl-1.0.0.dev1.dist-info/WHEEL\n",
            "creating '/content/github/AMPL.dist/atomsci_ampl-1.0.0.dev1-py3-none-any.whl' and adding '/content/github/AMPL.build/ampl/bdist.linux-x86_64/wheel' to it\n",
            "adding 'atomsci_ampl-1.0.0.dev1-py3.7-nspkg.pth'\n",
            "adding 'atomsci/ddm/__init__.py'\n",
            "adding 'atomsci/ddm/data/descriptor_sets_sources_by_descr_type.csv'\n",
            "adding 'atomsci/ddm/pipeline/__init__.py'\n",
            "adding 'atomsci/ddm/pipeline/ave_splitter.py'\n",
            "adding 'atomsci/ddm/pipeline/chem_diversity.py'\n",
            "adding 'atomsci/ddm/pipeline/compare_models.py'\n",
            "adding 'atomsci/ddm/pipeline/dist_metrics.py'\n",
            "adding 'atomsci/ddm/pipeline/diversity_plots.py'\n",
            "adding 'atomsci/ddm/pipeline/featurization.py'\n",
            "adding 'atomsci/ddm/pipeline/hyper_perf_plots.py'\n",
            "adding 'atomsci/ddm/pipeline/model_datasets.py'\n",
            "adding 'atomsci/ddm/pipeline/model_pipeline.py'\n",
            "adding 'atomsci/ddm/pipeline/model_tracker.py'\n",
            "adding 'atomsci/ddm/pipeline/model_wrapper.py'\n",
            "adding 'atomsci/ddm/pipeline/parameter_parser.py'\n",
            "adding 'atomsci/ddm/pipeline/perf_data.py'\n",
            "adding 'atomsci/ddm/pipeline/perf_plots.py'\n",
            "adding 'atomsci/ddm/pipeline/predict_from_model.py'\n",
            "adding 'atomsci/ddm/pipeline/splitting.py'\n",
            "adding 'atomsci/ddm/pipeline/temporal_splitter.py'\n",
            "adding 'atomsci/ddm/pipeline/transformations.py'\n",
            "adding 'atomsci/ddm/utils/__init__.py'\n",
            "adding 'atomsci/ddm/utils/curate_data.py'\n",
            "adding 'atomsci/ddm/utils/data_curation_functions.py'\n",
            "adding 'atomsci/ddm/utils/datastore_functions.py'\n",
            "adding 'atomsci/ddm/utils/genTestset.py'\n",
            "adding 'atomsci/ddm/utils/hyperparam_search_wrapper.py'\n",
            "adding 'atomsci/ddm/utils/llnl_utils.py'\n",
            "adding 'atomsci/ddm/utils/open-docs.py'\n",
            "adding 'atomsci/ddm/utils/process_slurm.py'\n",
            "adding 'atomsci/ddm/utils/pubchem_utils.py'\n",
            "adding 'atomsci/ddm/utils/rdkit_easy.py'\n",
            "adding 'atomsci/ddm/utils/struct_utils.py'\n",
            "adding 'atomsci_ampl-1.0.0.dev1.dist-info/LICENSE'\n",
            "adding 'atomsci_ampl-1.0.0.dev1.dist-info/METADATA'\n",
            "adding 'atomsci_ampl-1.0.0.dev1.dist-info/NOTICE'\n",
            "adding 'atomsci_ampl-1.0.0.dev1.dist-info/WHEEL'\n",
            "adding 'atomsci_ampl-1.0.0.dev1.dist-info/namespace_packages.txt'\n",
            "adding 'atomsci_ampl-1.0.0.dev1.dist-info/top_level.txt'\n",
            "adding 'atomsci_ampl-1.0.0.dev1.dist-info/RECORD'\n",
            "removing /content/github/AMPL.build/ampl/bdist.linux-x86_64/wheel\n",
            "DIR: /content/github/AMPL\n",
            "Ignoring indexes: https://pypi.org/simple\n",
            "Created temporary directory: /tmp/pip-ephem-wheel-cache-5bcui6dd\n",
            "Created temporary directory: /tmp/pip-req-tracker-j5r2dlyj\n",
            "Created requirements tracker '/tmp/pip-req-tracker-j5r2dlyj'\n",
            "Created temporary directory: /tmp/pip-install-pm12v4o7\n",
            "Looking in links: /content/github/AMPL.dist\n",
            "Collecting atomsci_ampl\n",
            "  0 location(s) to search for versions of atomsci-ampl:\n",
            "  Skipping link: unsupported archive format: .dist: /content/github/AMPL.dist (from -f)\n",
            "  Found link file:///content/github/AMPL.dist/atomsci_ampl-1.0.0.dev1-py3-none-any.whl, version: 1.0.0.dev1\n",
            "  Local files found: /content/github/AMPL.dist/atomsci_ampl-1.0.0.dev1-py3-none-any.whl\n",
            "  Given no hashes to check 1 links for project 'atomsci-ampl': discarding no candidates\n",
            "  Using version 1.0.0.dev1 (newest of versions: 1.0.0.dev1)\n",
            "  Added atomsci_ampl from file:///content/github/AMPL.dist/atomsci_ampl-1.0.0.dev1-py3-none-any.whl to build tracker '/tmp/pip-req-tracker-j5r2dlyj'\n",
            "  Removed atomsci_ampl from file:///content/github/AMPL.dist/atomsci_ampl-1.0.0.dev1-py3-none-any.whl from build tracker '/tmp/pip-req-tracker-j5r2dlyj'\n",
            "Installing collected packages: atomsci-ampl\n",
            "\n",
            "Successfully installed atomsci-ampl-1.0.0.dev1\n",
            "Cleaning up...\n",
            "Removed build tracker '/tmp/pip-req-tracker-j5r2dlyj'\n"
          ],
          "name": "stdout"
        }
      ]
    },
    {
      "cell_type": "code",
      "metadata": {
        "id": "GASHLECGzxKz"
      },
      "source": [
        "# import sys\n",
        "# sys.path.append('/content/AMPL/atomsci')\n",
        "# if '/content/AMPL/lib/python3.7/site-packages' not in sys.path:\n",
        "#     sys.path.insert(1, '/content/AMPL/lib/python3.7/site-packages')"
      ],
      "execution_count": null,
      "outputs": []
    },
    {
      "cell_type": "code",
      "metadata": {
        "colab": {
          "base_uri": "https://localhost:8080/"
        },
        "id": "InUQE4II1noi",
        "outputId": "981d1ef7-f4de-4476-a351-b5148ce839c7"
      },
      "source": [
        "!wget https://raw.githubusercontent.com/ravichas/AMPL-Tutorial/master/datasets/H1_std.csv"
      ],
      "execution_count": 13,
      "outputs": [
        {
          "output_type": "stream",
          "text": [
            "--2021-03-11 00:48:25--  https://raw.githubusercontent.com/ravichas/AMPL-Tutorial/master/datasets/H1_std.csv\n",
            "Resolving raw.githubusercontent.com (raw.githubusercontent.com)... 185.199.108.133, 185.199.109.133, 185.199.110.133, ...\n",
            "Connecting to raw.githubusercontent.com (raw.githubusercontent.com)|185.199.108.133|:443... connected.\n",
            "HTTP request sent, awaiting response... 200 OK\n",
            "Length: 136759 (134K) [text/plain]\n",
            "Saving to: ‘H1_std.csv’\n",
            "\n",
            "\rH1_std.csv            0%[                    ]       0  --.-KB/s               \rH1_std.csv          100%[===================>] 133.55K  --.-KB/s    in 0.02s   \n",
            "\n",
            "2021-03-11 00:48:26 (8.64 MB/s) - ‘H1_std.csv’ saved [136759/136759]\n",
            "\n"
          ],
          "name": "stdout"
        }
      ]
    },
    {
      "cell_type": "code",
      "metadata": {
        "id": "2PO0-2HKvVpn",
        "outputId": "8e8ae72e-72e9-4dc9-98ce-743a16a4a955",
        "colab": {
          "base_uri": "https://localhost:8080/"
        }
      },
      "source": [
        "!pip install hyperopt"
      ],
      "execution_count": 6,
      "outputs": [
        {
          "output_type": "stream",
          "text": [
            "Collecting hyperopt\n",
            "\u001b[?25l  Downloading https://files.pythonhosted.org/packages/a6/07/bd524635d218adae139be320eeac87fb4fbbd45c63b0bd58930c9e91f1fc/hyperopt-0.2.5-py2.py3-none-any.whl (965kB)\n",
            "\u001b[K     |████████████████████████████████| 972kB 9.1MB/s \n",
            "\u001b[?25hRequirement already satisfied: numpy in /usr/local/lib/python3.7/site-packages (from hyperopt) (1.17.2)\n",
            "Requirement already satisfied: six in /usr/local/lib/python3.7/site-packages (from hyperopt) (1.12.0)\n",
            "Requirement already satisfied: tqdm in /usr/local/lib/python3.7/site-packages (from hyperopt) (4.36.1)\n",
            "Requirement already satisfied: future in /usr/local/lib/python3.7/site-packages (from hyperopt) (0.17.1)\n",
            "Requirement already satisfied: networkx>=2.2 in /usr/local/lib/python3.7/site-packages (from hyperopt) (2.3)\n",
            "Requirement already satisfied: scipy in /usr/local/lib/python3.7/site-packages (from hyperopt) (1.3.1)\n",
            "Requirement already satisfied: cloudpickle in /usr/local/lib/python3.7/site-packages (from hyperopt) (1.2.2)\n",
            "Requirement already satisfied: decorator>=4.3.0 in /usr/local/lib/python3.7/site-packages (from networkx>=2.2->hyperopt) (4.4.0)\n",
            "Installing collected packages: hyperopt\n",
            "Successfully installed hyperopt-0.2.5\n"
          ],
          "name": "stdout"
        }
      ]
    },
    {
      "cell_type": "markdown",
      "metadata": {
        "id": "mTOwqhvR3xL3"
      },
      "source": [
        "### Load packages and dataset"
      ]
    },
    {
      "cell_type": "code",
      "metadata": {
        "id": "EeN9kEMO2R9Z"
      },
      "source": [
        "import matplotlib.pyplot as plt\n",
        "import seaborn as sns\n",
        "import numpy as np\n",
        "sns.set_context(\"poster\")\n",
        "sns.set_style(\"whitegrid\")\n",
        "sns.set_palette(\"Set2\")\n",
        "\n",
        "import pandas as pd\n",
        "import os, json, sys, glob\n",
        "\n",
        "from atomsci.ddm.pipeline import model_pipeline as mp\n",
        "from atomsci.ddm.pipeline import parameter_parser as parse\n",
        "from atomsci.ddm.pipeline import perf_data\n",
        "\n",
        "from hyperopt import fmin, tpe, hp, Trials, STATUS_OK"
      ],
      "execution_count": 8,
      "outputs": []
    },
    {
      "cell_type": "code",
      "metadata": {
        "id": "C5J-cJNz2V5w"
      },
      "source": [
        "h1 = pd.read_csv(\"H1_std.csv\")"
      ],
      "execution_count": 16,
      "outputs": []
    },
    {
      "cell_type": "code",
      "metadata": {
        "colab": {
          "base_uri": "https://localhost:8080/",
          "height": 407
        },
        "id": "v_fQuS473N1M",
        "outputId": "016f9f0e-43f6-4bc0-c7d8-ff8c0c764e37"
      },
      "source": [
        "h1"
      ],
      "execution_count": 17,
      "outputs": [
        {
          "output_type": "execute_result",
          "data": {
            "text/html": [
              "<div>\n",
              "<style scoped>\n",
              "    .dataframe tbody tr th:only-of-type {\n",
              "        vertical-align: middle;\n",
              "    }\n",
              "\n",
              "    .dataframe tbody tr th {\n",
              "        vertical-align: top;\n",
              "    }\n",
              "\n",
              "    .dataframe thead th {\n",
              "        text-align: right;\n",
              "    }\n",
              "</style>\n",
              "<table border=\"1\" class=\"dataframe\">\n",
              "  <thead>\n",
              "    <tr style=\"text-align: right;\">\n",
              "      <th></th>\n",
              "      <th>rdkit_smiles</th>\n",
              "      <th>compound_id</th>\n",
              "      <th>NofA</th>\n",
              "      <th>pKi_mean</th>\n",
              "      <th>pKi_std</th>\n",
              "    </tr>\n",
              "  </thead>\n",
              "  <tbody>\n",
              "    <tr>\n",
              "      <th>0</th>\n",
              "      <td>C(#Cc1c2c(nc3ccccc13)CCCCC2)CCN1CCCCC1</td>\n",
              "      <td>CHEMBL66660</td>\n",
              "      <td>1</td>\n",
              "      <td>4.803188</td>\n",
              "      <td>0.471982</td>\n",
              "    </tr>\n",
              "    <tr>\n",
              "      <th>1</th>\n",
              "      <td>C(#Cc1cccc(CN2CCOCC2)c1)CCN1CCCCC1</td>\n",
              "      <td>CHEMBL237087</td>\n",
              "      <td>1</td>\n",
              "      <td>5.000000</td>\n",
              "      <td>0.181920</td>\n",
              "    </tr>\n",
              "    <tr>\n",
              "      <th>2</th>\n",
              "      <td>C(=C/c1ccccc1)\\CN1CCN(C(c2ccccc2)c2ccccc2)CC1</td>\n",
              "      <td>CHEMBL43064</td>\n",
              "      <td>1</td>\n",
              "      <td>8.064392</td>\n",
              "      <td>0.163978</td>\n",
              "    </tr>\n",
              "    <tr>\n",
              "      <th>3</th>\n",
              "      <td>C/C=C/C(=O)N1CCC(=C2c3ccc(Cl)cc3CCc3cccnc32)CC1</td>\n",
              "      <td>CHEMBL3357041</td>\n",
              "      <td>1</td>\n",
              "      <td>6.815309</td>\n",
              "      <td>0.095668</td>\n",
              "    </tr>\n",
              "    <tr>\n",
              "      <th>4</th>\n",
              "      <td>C1=C(CCN2CCc3ccccc3C2)CCc2ccccc21</td>\n",
              "      <td>CHEMBL3970994</td>\n",
              "      <td>2</td>\n",
              "      <td>5.841272</td>\n",
              "      <td>0.001272</td>\n",
              "    </tr>\n",
              "    <tr>\n",
              "      <th>...</th>\n",
              "      <td>...</td>\n",
              "      <td>...</td>\n",
              "      <td>...</td>\n",
              "      <td>...</td>\n",
              "      <td>...</td>\n",
              "    </tr>\n",
              "    <tr>\n",
              "      <th>1353</th>\n",
              "      <td>c1cnc(N2CCN(CCCc3nc4ccccc4s3)CC2)nc1</td>\n",
              "      <td>CHEMBL3289656</td>\n",
              "      <td>2</td>\n",
              "      <td>6.138337</td>\n",
              "      <td>0.001660</td>\n",
              "    </tr>\n",
              "    <tr>\n",
              "      <th>1354</th>\n",
              "      <td>c1cnc2c(N3CCN(CCCCc4ccc(OCCCN5CCCCCC5)cc4)CC3)...</td>\n",
              "      <td>CHEMBL3893197</td>\n",
              "      <td>1</td>\n",
              "      <td>7.799971</td>\n",
              "      <td>0.408169</td>\n",
              "    </tr>\n",
              "    <tr>\n",
              "      <th>1355</th>\n",
              "      <td>c1cnc2c(N3CCN(CCCc4ccc(OCCCN5CCCCCC5)cc4)CC3)c...</td>\n",
              "      <td>CHEMBL3921827</td>\n",
              "      <td>1</td>\n",
              "      <td>7.100015</td>\n",
              "      <td>0.408169</td>\n",
              "    </tr>\n",
              "    <tr>\n",
              "      <th>1356</th>\n",
              "      <td>c1cnc2c(N3CCN(CCc4ccc(OCCCN5CCCCCC5)cc4)CC3)cc...</td>\n",
              "      <td>CHEMBL3947980</td>\n",
              "      <td>1</td>\n",
              "      <td>7.700057</td>\n",
              "      <td>0.408169</td>\n",
              "    </tr>\n",
              "    <tr>\n",
              "      <th>1357</th>\n",
              "      <td>c1cnc2c(c1)cc([C@@H]1CCCO1)n2CCN1CCCCC1</td>\n",
              "      <td>CHEMBL3557423</td>\n",
              "      <td>1</td>\n",
              "      <td>5.750000</td>\n",
              "      <td>0.181920</td>\n",
              "    </tr>\n",
              "  </tbody>\n",
              "</table>\n",
              "<p>1358 rows × 5 columns</p>\n",
              "</div>"
            ],
            "text/plain": [
              "                                           rdkit_smiles  ...   pKi_std\n",
              "0                C(#Cc1c2c(nc3ccccc13)CCCCC2)CCN1CCCCC1  ...  0.471982\n",
              "1                    C(#Cc1cccc(CN2CCOCC2)c1)CCN1CCCCC1  ...  0.181920\n",
              "2         C(=C/c1ccccc1)\\CN1CCN(C(c2ccccc2)c2ccccc2)CC1  ...  0.163978\n",
              "3       C/C=C/C(=O)N1CCC(=C2c3ccc(Cl)cc3CCc3cccnc32)CC1  ...  0.095668\n",
              "4                     C1=C(CCN2CCc3ccccc3C2)CCc2ccccc21  ...  0.001272\n",
              "...                                                 ...  ...       ...\n",
              "1353               c1cnc(N2CCN(CCCc3nc4ccccc4s3)CC2)nc1  ...  0.001660\n",
              "1354  c1cnc2c(N3CCN(CCCCc4ccc(OCCCN5CCCCCC5)cc4)CC3)...  ...  0.408169\n",
              "1355  c1cnc2c(N3CCN(CCCc4ccc(OCCCN5CCCCCC5)cc4)CC3)c...  ...  0.408169\n",
              "1356  c1cnc2c(N3CCN(CCc4ccc(OCCCN5CCCCCC5)cc4)CC3)cc...  ...  0.408169\n",
              "1357            c1cnc2c(c1)cc([C@@H]1CCCO1)n2CCN1CCCCC1  ...  0.181920\n",
              "\n",
              "[1358 rows x 5 columns]"
            ]
          },
          "metadata": {
            "tags": []
          },
          "execution_count": 17
        }
      ]
    },
    {
      "cell_type": "markdown",
      "metadata": {
        "id": "XA8ARleo3h53"
      },
      "source": [
        "### Split the dataset"
      ]
    },
    {
      "cell_type": "code",
      "metadata": {
        "id": "1eQC31_fA2wD",
        "outputId": "661c6cae-e639-4473-be78-4987465a2a53",
        "colab": {
          "base_uri": "https://localhost:8080/"
        }
      },
      "source": [
        "train_file = \"H1_std.csv\"\n",
        "response_col = \"pKi_mean\"\n",
        "compound_id = \"compound_id\"\n",
        "smiles_col = \"rdkit_smiles\"\n",
        "\n",
        "params = {\n",
        "        \"system\": \"LC\",\n",
        "        \"lc_account\": 'None',\n",
        "        \"datastore\": \"False\",\n",
        "        \"save_results\": \"False\",\n",
        "        \"data_owner\": \"username\",\n",
        "        \"prediction_type\": \"regression\",\n",
        "        \"dataset_key\": train_file,\n",
        "        \"id_col\": compound_id,\n",
        "        \"smiles_col\": smiles_col,\n",
        "        \"response_cols\": response_col,\n",
        "        \"previously_split\": \"False\",\n",
        "        \"split_only\": \"True\",\n",
        "        \"featurizer\": \"ecfp\",\n",
        "        \"model_type\": \"RF\",\n",
        "        \"verbose\": \"True\",\n",
        "        \"transformers\": \"True\",\n",
        "        'max_epochs': '70',\n",
        "        \"rerun\": \"False\",\n",
        "        \"result_dir\": \"split\"\n",
        "    }\n",
        "\n",
        "ampl_param = parse.wrapper(params)\n",
        "pl = mp.ModelPipeline(ampl_param)\n",
        "pl.train_model()"
      ],
      "execution_count": 19,
      "outputs": [
        {
          "output_type": "stream",
          "text": [
            "2021-03-11 01:23:36,979 Splitting data by scaffold\n"
          ],
          "name": "stderr"
        },
        {
          "output_type": "stream",
          "text": [
            "number of features: 1024\n"
          ],
          "name": "stdout"
        },
        {
          "output_type": "stream",
          "text": [
            "2021-03-11 01:23:37,925 Dataset split table saved to /H1_std_train_valid_test_scaffold_4758a5d9-81c0-418c-bbc4-899f5dd800e7.csv\n"
          ],
          "name": "stderr"
        }
      ]
    },
    {
      "cell_type": "markdown",
      "metadata": {
        "id": "xSdgxZNU43TM"
      },
      "source": [
        "### Train an initial model"
      ]
    },
    {
      "cell_type": "code",
      "metadata": {
        "id": "IjhIVGpJ42eE"
      },
      "source": [
        "listing = glob.glob(os.path.join(\"/\", f\"H1_std_train_valid_test_scaffold_*\"))\n",
        "name = listing[0]\n",
        "split_uuid = name.split(\"_\")[-1].split(\".\")[0]\n",
        "response_col = \"pKi_mean\"\n",
        "\n",
        "params = {\n",
        "        \"system\": \"LC\",\n",
        "        \"lc_account\": 'None',\n",
        "        \"datastore\": \"False\",\n",
        "        \"save_results\": \"False\",\n",
        "        \"data_owner\": \"username\",\n",
        "        \"prediction_type\": \"regression\",\n",
        "        \"dataset_key\": train_file,\n",
        "        \"id_col\": compound_id,\n",
        "        \"smiles_col\": smiles_col,\n",
        "        \"response_cols\": response_col,\n",
        "        \"split_uuid\": split_uuid,\n",
        "        \"previously_split\": \"True\",\n",
        "        \"featurizer\": \"ecfp\",\n",
        "        \"model_type\": \"RF\",\n",
        "        \"verbose\": \"True\",\n",
        "        \"transformers\": \"True\",\n",
        "        'max_epochs': '70',\n",
        "        \"rerun\": \"False\",\n",
        "        \"result_dir\": \"ampl_output\"\n",
        "    }"
      ],
      "execution_count": 31,
      "outputs": []
    },
    {
      "cell_type": "code",
      "metadata": {
        "id": "qjbLbmri5Rhl",
        "outputId": "8e74c33b-63f9-47fc-990c-1a56d760a2b4",
        "colab": {
          "base_uri": "https://localhost:8080/"
        }
      },
      "source": [
        "ampl_param = parse.wrapper(params)\n",
        "pl = mp.ModelPipeline(ampl_param)\n",
        "pl.train_model()"
      ],
      "execution_count": 32,
      "outputs": [
        {
          "output_type": "stream",
          "text": [
            "number of features: 1024\n"
          ],
          "name": "stdout"
        },
        {
          "output_type": "stream",
          "text": [
            "2021-03-11 01:32:44,639 Previous dataset split restored\n"
          ],
          "name": "stderr"
        },
        {
          "output_type": "stream",
          "text": [
            "n_cnt [1358.]\n",
            "y_means [6.59994988]\n",
            "y_stds [1.29836641]\n",
            "TIMING: dataset construction took 0.053 s\n",
            "Loading dataset from disk.\n",
            "TIMING: dataset construction took 0.011 s\n",
            "Loading dataset from disk.\n",
            "TIMING: dataset construction took 0.010 s\n",
            "Loading dataset from disk.\n"
          ],
          "name": "stdout"
        },
        {
          "output_type": "stream",
          "text": [
            "2021-03-11 01:32:48,658 Wrote model metadata to file ampl_output/H1_std/RF_ecfp_scaffold_regression/8735438f-bef7-4fb3-b95f-6b0941773f88/model_metadata.json\n",
            "2021-03-11 01:32:49,071 Wrote model metrics to file ampl_output/H1_std/RF_ecfp_scaffold_regression/8735438f-bef7-4fb3-b95f-6b0941773f88/model_metrics.json\n"
          ],
          "name": "stderr"
        },
        {
          "output_type": "stream",
          "text": [
            "Wrote model tarball to ampl_output/H1_std_model_8735438f-bef7-4fb3-b95f-6b0941773f88.tar.gz\n"
          ],
          "name": "stdout"
        }
      ]
    },
    {
      "cell_type": "code",
      "metadata": {
        "id": "ol3jooPm5Yd0",
        "outputId": "2a81f0c9-2ef8-47be-cf15-cabf77ad4a83",
        "colab": {
          "base_uri": "https://localhost:8080/"
        }
      },
      "source": [
        "pred_data = pl.model_wrapper.get_perf_data(subset=\"valid\", epoch_label=\"best\")\n",
        "pred_results = pred_data.get_prediction_results()\n",
        "print(f\"R2 score of validation set: {pred_results['r2_score']:.3f}\")"
      ],
      "execution_count": 33,
      "outputs": [
        {
          "output_type": "stream",
          "text": [
            "R2 score of validation set: 0.442\n"
          ],
          "name": "stdout"
        }
      ]
    },
    {
      "cell_type": "markdown",
      "metadata": {
        "id": "pKP_mFuB5giz"
      },
      "source": [
        "### Grid search\n",
        "#### Tunable parameters for Random Forest models\n",
        "- rf_estimators: number of estimators to use in random forest models\n",
        "- rf_max_depth: the maximum depth of a decision tree in the random forest\n",
        "- rf_max_features: max number of features to split random forest nodes"
      ]
    },
    {
      "cell_type": "code",
      "metadata": {
        "id": "i6FBeUGh5mGJ",
        "outputId": "1c117660-4fc4-4b46-bd0b-fa7050db79d8",
        "colab": {
          "base_uri": "https://localhost:8080/"
        }
      },
      "source": [
        "param_choice = [16,32,64,128]\n",
        "\n",
        "rfe_list = []\n",
        "rfd_list = []\n",
        "rff_list = []\n",
        "valid_r2_list = []\n",
        "for rf_estimator in param_choice:\n",
        "    for rf_depth in param_choice:\n",
        "        for rf_feature in param_choice:\n",
        "            params[\"rf_estimators\"] = rf_estimator\n",
        "            params[\"rf_max_depth\"] = rf_depth\n",
        "            params[\"rf_max_features\"] = rf_feature\n",
        "            rfe_list.append(rf_estimator)\n",
        "            rfd_list.append(rf_depth)\n",
        "            rff_list.append(rf_feature)\n",
        "            tp = parse.wrapper(params)\n",
        "            pl = mp.ModelPipeline(tp)\n",
        "            pl.train_model()\n",
        "            pred_data = pl.model_wrapper.get_perf_data(subset=\"valid\", epoch_label=\"best\")\n",
        "            pred_results = pred_data.get_prediction_results()\n",
        "            valid_r2 = pred_results['r2_score']\n",
        "            valid_r2_list.append(valid_r2)\n",
        "            print(f\"rf_estimators: {rf_estimator}, rf_max_depth: {rf_depth}, rf_max_features: {rf_feature}, valid_r2: {valid_r2}\")"
      ],
      "execution_count": 34,
      "outputs": [
        {
          "output_type": "stream",
          "text": [
            "number of features: 1024\n"
          ],
          "name": "stdout"
        },
        {
          "output_type": "stream",
          "text": [
            "2021-03-11 01:33:00,990 Previous dataset split restored\n"
          ],
          "name": "stderr"
        },
        {
          "output_type": "stream",
          "text": [
            "n_cnt [1358.]\n",
            "y_means [6.59994988]\n",
            "y_stds [1.29836641]\n",
            "TIMING: dataset construction took 0.052 s\n",
            "Loading dataset from disk.\n",
            "TIMING: dataset construction took 0.010 s\n",
            "Loading dataset from disk.\n",
            "TIMING: dataset construction took 0.011 s\n",
            "Loading dataset from disk.\n"
          ],
          "name": "stdout"
        },
        {
          "output_type": "stream",
          "text": [
            "2021-03-11 01:33:01,817 Wrote model metadata to file ampl_output/H1_std/RF_ecfp_scaffold_regression/73487f45-3dce-41d3-8fca-c8d6be577f21/model_metadata.json\n",
            "2021-03-11 01:33:01,830 Wrote model metrics to file ampl_output/H1_std/RF_ecfp_scaffold_regression/73487f45-3dce-41d3-8fca-c8d6be577f21/model_metrics.json\n"
          ],
          "name": "stderr"
        },
        {
          "output_type": "stream",
          "text": [
            "Wrote model tarball to ampl_output/H1_std_model_73487f45-3dce-41d3-8fca-c8d6be577f21.tar.gz\n",
            "rf_estimators: 16, rf_max_depth: 16, rf_max_features: 16, valid_r2: 0.376068174208787\n",
            "number of features: 1024\n"
          ],
          "name": "stdout"
        },
        {
          "output_type": "stream",
          "text": [
            "2021-03-11 01:33:07,340 Previous dataset split restored\n"
          ],
          "name": "stderr"
        },
        {
          "output_type": "stream",
          "text": [
            "n_cnt [1358.]\n",
            "y_means [6.59994988]\n",
            "y_stds [1.29836641]\n",
            "TIMING: dataset construction took 0.052 s\n",
            "Loading dataset from disk.\n",
            "TIMING: dataset construction took 0.011 s\n",
            "Loading dataset from disk.\n",
            "TIMING: dataset construction took 0.011 s\n",
            "Loading dataset from disk.\n"
          ],
          "name": "stdout"
        },
        {
          "output_type": "stream",
          "text": [
            "2021-03-11 01:33:08,172 Wrote model metadata to file ampl_output/H1_std/RF_ecfp_scaffold_regression/e77abbe4-9f77-46b5-8e11-689cb324f3bb/model_metadata.json\n",
            "2021-03-11 01:33:08,185 Wrote model metrics to file ampl_output/H1_std/RF_ecfp_scaffold_regression/e77abbe4-9f77-46b5-8e11-689cb324f3bb/model_metrics.json\n"
          ],
          "name": "stderr"
        },
        {
          "output_type": "stream",
          "text": [
            "Wrote model tarball to ampl_output/H1_std_model_e77abbe4-9f77-46b5-8e11-689cb324f3bb.tar.gz\n",
            "rf_estimators: 16, rf_max_depth: 16, rf_max_features: 32, valid_r2: 0.3804458796434247\n",
            "number of features: 1024\n"
          ],
          "name": "stdout"
        },
        {
          "output_type": "stream",
          "text": [
            "2021-03-11 01:33:13,692 Previous dataset split restored\n"
          ],
          "name": "stderr"
        },
        {
          "output_type": "stream",
          "text": [
            "n_cnt [1358.]\n",
            "y_means [6.59994988]\n",
            "y_stds [1.29836641]\n",
            "TIMING: dataset construction took 0.052 s\n",
            "Loading dataset from disk.\n",
            "TIMING: dataset construction took 0.010 s\n",
            "Loading dataset from disk.\n",
            "TIMING: dataset construction took 0.010 s\n",
            "Loading dataset from disk.\n"
          ],
          "name": "stdout"
        },
        {
          "output_type": "stream",
          "text": [
            "2021-03-11 01:33:14,524 Wrote model metadata to file ampl_output/H1_std/RF_ecfp_scaffold_regression/3dd889b8-fc7b-4a21-a164-2fca4b77f121/model_metadata.json\n",
            "2021-03-11 01:33:14,538 Wrote model metrics to file ampl_output/H1_std/RF_ecfp_scaffold_regression/3dd889b8-fc7b-4a21-a164-2fca4b77f121/model_metrics.json\n"
          ],
          "name": "stderr"
        },
        {
          "output_type": "stream",
          "text": [
            "Wrote model tarball to ampl_output/H1_std_model_3dd889b8-fc7b-4a21-a164-2fca4b77f121.tar.gz\n",
            "rf_estimators: 16, rf_max_depth: 16, rf_max_features: 64, valid_r2: 0.43434674525035666\n",
            "number of features: 1024\n"
          ],
          "name": "stdout"
        },
        {
          "output_type": "stream",
          "text": [
            "2021-03-11 01:33:19,998 Previous dataset split restored\n"
          ],
          "name": "stderr"
        },
        {
          "output_type": "stream",
          "text": [
            "n_cnt [1358.]\n",
            "y_means [6.59994988]\n",
            "y_stds [1.29836641]\n",
            "TIMING: dataset construction took 0.052 s\n",
            "Loading dataset from disk.\n",
            "TIMING: dataset construction took 0.011 s\n",
            "Loading dataset from disk.\n",
            "TIMING: dataset construction took 0.012 s\n",
            "Loading dataset from disk.\n"
          ],
          "name": "stdout"
        },
        {
          "output_type": "stream",
          "text": [
            "2021-03-11 01:33:20,927 Wrote model metadata to file ampl_output/H1_std/RF_ecfp_scaffold_regression/e1824107-ea57-40c7-8503-1a1c5b733645/model_metadata.json\n",
            "2021-03-11 01:33:20,940 Wrote model metrics to file ampl_output/H1_std/RF_ecfp_scaffold_regression/e1824107-ea57-40c7-8503-1a1c5b733645/model_metrics.json\n"
          ],
          "name": "stderr"
        },
        {
          "output_type": "stream",
          "text": [
            "Wrote model tarball to ampl_output/H1_std_model_e1824107-ea57-40c7-8503-1a1c5b733645.tar.gz\n",
            "rf_estimators: 16, rf_max_depth: 16, rf_max_features: 128, valid_r2: 0.42383404945141423\n",
            "number of features: 1024\n"
          ],
          "name": "stdout"
        },
        {
          "output_type": "stream",
          "text": [
            "2021-03-11 01:33:26,431 Previous dataset split restored\n"
          ],
          "name": "stderr"
        },
        {
          "output_type": "stream",
          "text": [
            "n_cnt [1358.]\n",
            "y_means [6.59994988]\n",
            "y_stds [1.29836641]\n",
            "TIMING: dataset construction took 0.053 s\n",
            "Loading dataset from disk.\n",
            "TIMING: dataset construction took 0.011 s\n",
            "Loading dataset from disk.\n",
            "TIMING: dataset construction took 0.010 s\n",
            "Loading dataset from disk.\n"
          ],
          "name": "stdout"
        },
        {
          "output_type": "stream",
          "text": [
            "2021-03-11 01:33:27,277 Wrote model metadata to file ampl_output/H1_std/RF_ecfp_scaffold_regression/ba0deb0d-f07c-444f-a7b9-647275e74725/model_metadata.json\n",
            "2021-03-11 01:33:27,295 Wrote model metrics to file ampl_output/H1_std/RF_ecfp_scaffold_regression/ba0deb0d-f07c-444f-a7b9-647275e74725/model_metrics.json\n"
          ],
          "name": "stderr"
        },
        {
          "output_type": "stream",
          "text": [
            "Wrote model tarball to ampl_output/H1_std_model_ba0deb0d-f07c-444f-a7b9-647275e74725.tar.gz\n",
            "rf_estimators: 16, rf_max_depth: 32, rf_max_features: 16, valid_r2: 0.34845222863137026\n",
            "number of features: 1024\n"
          ],
          "name": "stdout"
        },
        {
          "output_type": "stream",
          "text": [
            "2021-03-11 01:33:32,833 Previous dataset split restored\n"
          ],
          "name": "stderr"
        },
        {
          "output_type": "stream",
          "text": [
            "n_cnt [1358.]\n",
            "y_means [6.59994988]\n",
            "y_stds [1.29836641]\n",
            "TIMING: dataset construction took 0.053 s\n",
            "Loading dataset from disk.\n",
            "TIMING: dataset construction took 0.010 s\n",
            "Loading dataset from disk.\n",
            "TIMING: dataset construction took 0.011 s\n",
            "Loading dataset from disk.\n"
          ],
          "name": "stdout"
        },
        {
          "output_type": "stream",
          "text": [
            "2021-03-11 01:33:33,675 Wrote model metadata to file ampl_output/H1_std/RF_ecfp_scaffold_regression/70fe3271-a9fe-483e-a6af-c0e4d1d6d938/model_metadata.json\n",
            "2021-03-11 01:33:33,693 Wrote model metrics to file ampl_output/H1_std/RF_ecfp_scaffold_regression/70fe3271-a9fe-483e-a6af-c0e4d1d6d938/model_metrics.json\n"
          ],
          "name": "stderr"
        },
        {
          "output_type": "stream",
          "text": [
            "Wrote model tarball to ampl_output/H1_std_model_70fe3271-a9fe-483e-a6af-c0e4d1d6d938.tar.gz\n",
            "rf_estimators: 16, rf_max_depth: 32, rf_max_features: 32, valid_r2: 0.3857357047617428\n",
            "number of features: 1024\n"
          ],
          "name": "stdout"
        },
        {
          "output_type": "stream",
          "text": [
            "2021-03-11 01:33:39,210 Previous dataset split restored\n"
          ],
          "name": "stderr"
        },
        {
          "output_type": "stream",
          "text": [
            "n_cnt [1358.]\n",
            "y_means [6.59994988]\n",
            "y_stds [1.29836641]\n",
            "TIMING: dataset construction took 0.054 s\n",
            "Loading dataset from disk.\n",
            "TIMING: dataset construction took 0.010 s\n",
            "Loading dataset from disk.\n",
            "TIMING: dataset construction took 0.010 s\n",
            "Loading dataset from disk.\n"
          ],
          "name": "stdout"
        },
        {
          "output_type": "stream",
          "text": [
            "2021-03-11 01:33:40,048 Wrote model metadata to file ampl_output/H1_std/RF_ecfp_scaffold_regression/ecfe7c34-9172-4c6c-a9ac-1a4a1f7c408d/model_metadata.json\n",
            "2021-03-11 01:33:40,066 Wrote model metrics to file ampl_output/H1_std/RF_ecfp_scaffold_regression/ecfe7c34-9172-4c6c-a9ac-1a4a1f7c408d/model_metrics.json\n"
          ],
          "name": "stderr"
        },
        {
          "output_type": "stream",
          "text": [
            "Wrote model tarball to ampl_output/H1_std_model_ecfe7c34-9172-4c6c-a9ac-1a4a1f7c408d.tar.gz\n",
            "rf_estimators: 16, rf_max_depth: 32, rf_max_features: 64, valid_r2: 0.3796372570073062\n",
            "number of features: 1024\n"
          ],
          "name": "stdout"
        },
        {
          "output_type": "stream",
          "text": [
            "2021-03-11 01:33:45,584 Previous dataset split restored\n"
          ],
          "name": "stderr"
        },
        {
          "output_type": "stream",
          "text": [
            "n_cnt [1358.]\n",
            "y_means [6.59994988]\n",
            "y_stds [1.29836641]\n",
            "TIMING: dataset construction took 0.053 s\n",
            "Loading dataset from disk.\n",
            "TIMING: dataset construction took 0.010 s\n",
            "Loading dataset from disk.\n",
            "TIMING: dataset construction took 0.010 s\n",
            "Loading dataset from disk.\n"
          ],
          "name": "stdout"
        },
        {
          "output_type": "stream",
          "text": [
            "2021-03-11 01:33:46,511 Wrote model metadata to file ampl_output/H1_std/RF_ecfp_scaffold_regression/0208bf43-0835-4f87-be01-c17db631af1f/model_metadata.json\n",
            "2021-03-11 01:33:46,529 Wrote model metrics to file ampl_output/H1_std/RF_ecfp_scaffold_regression/0208bf43-0835-4f87-be01-c17db631af1f/model_metrics.json\n"
          ],
          "name": "stderr"
        },
        {
          "output_type": "stream",
          "text": [
            "Wrote model tarball to ampl_output/H1_std_model_0208bf43-0835-4f87-be01-c17db631af1f.tar.gz\n",
            "rf_estimators: 16, rf_max_depth: 32, rf_max_features: 128, valid_r2: 0.4394878374764889\n",
            "number of features: 1024\n"
          ],
          "name": "stdout"
        },
        {
          "output_type": "stream",
          "text": [
            "2021-03-11 01:33:51,992 Previous dataset split restored\n"
          ],
          "name": "stderr"
        },
        {
          "output_type": "stream",
          "text": [
            "n_cnt [1358.]\n",
            "y_means [6.59994988]\n",
            "y_stds [1.29836641]\n",
            "TIMING: dataset construction took 0.056 s\n",
            "Loading dataset from disk.\n",
            "TIMING: dataset construction took 0.010 s\n",
            "Loading dataset from disk.\n",
            "TIMING: dataset construction took 0.009 s\n",
            "Loading dataset from disk.\n"
          ],
          "name": "stdout"
        },
        {
          "output_type": "stream",
          "text": [
            "2021-03-11 01:33:52,825 Wrote model metadata to file ampl_output/H1_std/RF_ecfp_scaffold_regression/05021dab-2540-460a-a403-9f41dce1c860/model_metadata.json\n",
            "2021-03-11 01:33:52,843 Wrote model metrics to file ampl_output/H1_std/RF_ecfp_scaffold_regression/05021dab-2540-460a-a403-9f41dce1c860/model_metrics.json\n"
          ],
          "name": "stderr"
        },
        {
          "output_type": "stream",
          "text": [
            "Wrote model tarball to ampl_output/H1_std_model_05021dab-2540-460a-a403-9f41dce1c860.tar.gz\n",
            "rf_estimators: 16, rf_max_depth: 64, rf_max_features: 16, valid_r2: 0.3603300908043272\n",
            "number of features: 1024\n"
          ],
          "name": "stdout"
        },
        {
          "output_type": "stream",
          "text": [
            "2021-03-11 01:33:58,300 Previous dataset split restored\n"
          ],
          "name": "stderr"
        },
        {
          "output_type": "stream",
          "text": [
            "n_cnt [1358.]\n",
            "y_means [6.59994988]\n",
            "y_stds [1.29836641]\n",
            "TIMING: dataset construction took 0.053 s\n",
            "Loading dataset from disk.\n",
            "TIMING: dataset construction took 0.010 s\n",
            "Loading dataset from disk.\n",
            "TIMING: dataset construction took 0.010 s\n",
            "Loading dataset from disk.\n"
          ],
          "name": "stdout"
        },
        {
          "output_type": "stream",
          "text": [
            "2021-03-11 01:33:59,132 Wrote model metadata to file ampl_output/H1_std/RF_ecfp_scaffold_regression/b0c1c1e3-4550-4c02-b46d-f5d4927af058/model_metadata.json\n",
            "2021-03-11 01:33:59,154 Wrote model metrics to file ampl_output/H1_std/RF_ecfp_scaffold_regression/b0c1c1e3-4550-4c02-b46d-f5d4927af058/model_metrics.json\n"
          ],
          "name": "stderr"
        },
        {
          "output_type": "stream",
          "text": [
            "Wrote model tarball to ampl_output/H1_std_model_b0c1c1e3-4550-4c02-b46d-f5d4927af058.tar.gz\n",
            "rf_estimators: 16, rf_max_depth: 64, rf_max_features: 32, valid_r2: 0.45227881440092244\n",
            "number of features: 1024\n"
          ],
          "name": "stdout"
        },
        {
          "output_type": "stream",
          "text": [
            "2021-03-11 01:34:04,580 Previous dataset split restored\n"
          ],
          "name": "stderr"
        },
        {
          "output_type": "stream",
          "text": [
            "n_cnt [1358.]\n",
            "y_means [6.59994988]\n",
            "y_stds [1.29836641]\n",
            "TIMING: dataset construction took 0.052 s\n",
            "Loading dataset from disk.\n",
            "TIMING: dataset construction took 0.010 s\n",
            "Loading dataset from disk.\n",
            "TIMING: dataset construction took 0.010 s\n",
            "Loading dataset from disk.\n"
          ],
          "name": "stdout"
        },
        {
          "output_type": "stream",
          "text": [
            "2021-03-11 01:34:05,411 Wrote model metadata to file ampl_output/H1_std/RF_ecfp_scaffold_regression/54844e29-8099-4113-be8d-7be08cc32a6d/model_metadata.json\n",
            "2021-03-11 01:34:05,430 Wrote model metrics to file ampl_output/H1_std/RF_ecfp_scaffold_regression/54844e29-8099-4113-be8d-7be08cc32a6d/model_metrics.json\n"
          ],
          "name": "stderr"
        },
        {
          "output_type": "stream",
          "text": [
            "Wrote model tarball to ampl_output/H1_std_model_54844e29-8099-4113-be8d-7be08cc32a6d.tar.gz\n",
            "rf_estimators: 16, rf_max_depth: 64, rf_max_features: 64, valid_r2: 0.4054952050084889\n",
            "number of features: 1024\n"
          ],
          "name": "stdout"
        },
        {
          "output_type": "stream",
          "text": [
            "2021-03-11 01:34:10,942 Previous dataset split restored\n"
          ],
          "name": "stderr"
        },
        {
          "output_type": "stream",
          "text": [
            "n_cnt [1358.]\n",
            "y_means [6.59994988]\n",
            "y_stds [1.29836641]\n",
            "TIMING: dataset construction took 0.055 s\n",
            "Loading dataset from disk.\n",
            "TIMING: dataset construction took 0.010 s\n",
            "Loading dataset from disk.\n",
            "TIMING: dataset construction took 0.010 s\n",
            "Loading dataset from disk.\n"
          ],
          "name": "stdout"
        },
        {
          "output_type": "stream",
          "text": [
            "2021-03-11 01:34:11,888 Wrote model metadata to file ampl_output/H1_std/RF_ecfp_scaffold_regression/72330a2c-1d8d-4592-92a1-6988c3ca80f3/model_metadata.json\n",
            "2021-03-11 01:34:11,906 Wrote model metrics to file ampl_output/H1_std/RF_ecfp_scaffold_regression/72330a2c-1d8d-4592-92a1-6988c3ca80f3/model_metrics.json\n"
          ],
          "name": "stderr"
        },
        {
          "output_type": "stream",
          "text": [
            "Wrote model tarball to ampl_output/H1_std_model_72330a2c-1d8d-4592-92a1-6988c3ca80f3.tar.gz\n",
            "rf_estimators: 16, rf_max_depth: 64, rf_max_features: 128, valid_r2: 0.45821637571438134\n",
            "number of features: 1024\n"
          ],
          "name": "stdout"
        },
        {
          "output_type": "stream",
          "text": [
            "2021-03-11 01:34:17,468 Previous dataset split restored\n"
          ],
          "name": "stderr"
        },
        {
          "output_type": "stream",
          "text": [
            "n_cnt [1358.]\n",
            "y_means [6.59994988]\n",
            "y_stds [1.29836641]\n",
            "TIMING: dataset construction took 0.054 s\n",
            "Loading dataset from disk.\n",
            "TIMING: dataset construction took 0.011 s\n",
            "Loading dataset from disk.\n",
            "TIMING: dataset construction took 0.011 s\n",
            "Loading dataset from disk.\n"
          ],
          "name": "stdout"
        },
        {
          "output_type": "stream",
          "text": [
            "2021-03-11 01:34:18,309 Wrote model metadata to file ampl_output/H1_std/RF_ecfp_scaffold_regression/76bf795d-8bf8-4519-9acf-15dd63495b81/model_metadata.json\n",
            "2021-03-11 01:34:18,327 Wrote model metrics to file ampl_output/H1_std/RF_ecfp_scaffold_regression/76bf795d-8bf8-4519-9acf-15dd63495b81/model_metrics.json\n"
          ],
          "name": "stderr"
        },
        {
          "output_type": "stream",
          "text": [
            "Wrote model tarball to ampl_output/H1_std_model_76bf795d-8bf8-4519-9acf-15dd63495b81.tar.gz\n",
            "rf_estimators: 16, rf_max_depth: 128, rf_max_features: 16, valid_r2: 0.36397809680410864\n",
            "number of features: 1024\n"
          ],
          "name": "stdout"
        },
        {
          "output_type": "stream",
          "text": [
            "2021-03-11 01:34:23,812 Previous dataset split restored\n"
          ],
          "name": "stderr"
        },
        {
          "output_type": "stream",
          "text": [
            "n_cnt [1358.]\n",
            "y_means [6.59994988]\n",
            "y_stds [1.29836641]\n",
            "TIMING: dataset construction took 0.052 s\n",
            "Loading dataset from disk.\n",
            "TIMING: dataset construction took 0.010 s\n",
            "Loading dataset from disk.\n",
            "TIMING: dataset construction took 0.010 s\n",
            "Loading dataset from disk.\n"
          ],
          "name": "stdout"
        },
        {
          "output_type": "stream",
          "text": [
            "2021-03-11 01:34:24,646 Wrote model metadata to file ampl_output/H1_std/RF_ecfp_scaffold_regression/afcfee14-d378-4b8a-9471-6c72e9c07a55/model_metadata.json\n",
            "2021-03-11 01:34:24,664 Wrote model metrics to file ampl_output/H1_std/RF_ecfp_scaffold_regression/afcfee14-d378-4b8a-9471-6c72e9c07a55/model_metrics.json\n"
          ],
          "name": "stderr"
        },
        {
          "output_type": "stream",
          "text": [
            "Wrote model tarball to ampl_output/H1_std_model_afcfee14-d378-4b8a-9471-6c72e9c07a55.tar.gz\n",
            "rf_estimators: 16, rf_max_depth: 128, rf_max_features: 32, valid_r2: 0.33349596608966736\n",
            "number of features: 1024\n"
          ],
          "name": "stdout"
        },
        {
          "output_type": "stream",
          "text": [
            "2021-03-11 01:34:30,207 Previous dataset split restored\n"
          ],
          "name": "stderr"
        },
        {
          "output_type": "stream",
          "text": [
            "n_cnt [1358.]\n",
            "y_means [6.59994988]\n",
            "y_stds [1.29836641]\n",
            "TIMING: dataset construction took 0.052 s\n",
            "Loading dataset from disk.\n",
            "TIMING: dataset construction took 0.010 s\n",
            "Loading dataset from disk.\n",
            "TIMING: dataset construction took 0.010 s\n",
            "Loading dataset from disk.\n"
          ],
          "name": "stdout"
        },
        {
          "output_type": "stream",
          "text": [
            "2021-03-11 01:34:31,045 Wrote model metadata to file ampl_output/H1_std/RF_ecfp_scaffold_regression/9d82e62d-5e28-4fa8-82de-bac6324bd685/model_metadata.json\n",
            "2021-03-11 01:34:31,063 Wrote model metrics to file ampl_output/H1_std/RF_ecfp_scaffold_regression/9d82e62d-5e28-4fa8-82de-bac6324bd685/model_metrics.json\n"
          ],
          "name": "stderr"
        },
        {
          "output_type": "stream",
          "text": [
            "Wrote model tarball to ampl_output/H1_std_model_9d82e62d-5e28-4fa8-82de-bac6324bd685.tar.gz\n",
            "rf_estimators: 16, rf_max_depth: 128, rf_max_features: 64, valid_r2: 0.43862719822542773\n",
            "number of features: 1024\n"
          ],
          "name": "stdout"
        },
        {
          "output_type": "stream",
          "text": [
            "2021-03-11 01:34:36,555 Previous dataset split restored\n"
          ],
          "name": "stderr"
        },
        {
          "output_type": "stream",
          "text": [
            "n_cnt [1358.]\n",
            "y_means [6.59994988]\n",
            "y_stds [1.29836641]\n",
            "TIMING: dataset construction took 0.052 s\n",
            "Loading dataset from disk.\n",
            "TIMING: dataset construction took 0.011 s\n",
            "Loading dataset from disk.\n",
            "TIMING: dataset construction took 0.011 s\n",
            "Loading dataset from disk.\n"
          ],
          "name": "stdout"
        },
        {
          "output_type": "stream",
          "text": [
            "2021-03-11 01:34:37,492 Wrote model metadata to file ampl_output/H1_std/RF_ecfp_scaffold_regression/20de654f-aa1d-4579-914a-91a2080764da/model_metadata.json\n",
            "2021-03-11 01:34:37,511 Wrote model metrics to file ampl_output/H1_std/RF_ecfp_scaffold_regression/20de654f-aa1d-4579-914a-91a2080764da/model_metrics.json\n"
          ],
          "name": "stderr"
        },
        {
          "output_type": "stream",
          "text": [
            "Wrote model tarball to ampl_output/H1_std_model_20de654f-aa1d-4579-914a-91a2080764da.tar.gz\n",
            "rf_estimators: 16, rf_max_depth: 128, rf_max_features: 128, valid_r2: 0.3774824306879938\n",
            "number of features: 1024\n"
          ],
          "name": "stdout"
        },
        {
          "output_type": "stream",
          "text": [
            "2021-03-11 01:34:42,962 Previous dataset split restored\n"
          ],
          "name": "stderr"
        },
        {
          "output_type": "stream",
          "text": [
            "n_cnt [1358.]\n",
            "y_means [6.59994988]\n",
            "y_stds [1.29836641]\n",
            "TIMING: dataset construction took 0.054 s\n",
            "Loading dataset from disk.\n",
            "TIMING: dataset construction took 0.010 s\n",
            "Loading dataset from disk.\n",
            "TIMING: dataset construction took 0.010 s\n",
            "Loading dataset from disk.\n"
          ],
          "name": "stdout"
        },
        {
          "output_type": "stream",
          "text": [
            "2021-03-11 01:34:43,809 Wrote model metadata to file ampl_output/H1_std/RF_ecfp_scaffold_regression/31c0620a-e04d-4bb2-9297-315fb9eab991/model_metadata.json\n",
            "2021-03-11 01:34:43,829 Wrote model metrics to file ampl_output/H1_std/RF_ecfp_scaffold_regression/31c0620a-e04d-4bb2-9297-315fb9eab991/model_metrics.json\n"
          ],
          "name": "stderr"
        },
        {
          "output_type": "stream",
          "text": [
            "Wrote model tarball to ampl_output/H1_std_model_31c0620a-e04d-4bb2-9297-315fb9eab991.tar.gz\n",
            "rf_estimators: 32, rf_max_depth: 16, rf_max_features: 16, valid_r2: 0.362403132238172\n",
            "number of features: 1024\n"
          ],
          "name": "stdout"
        },
        {
          "output_type": "stream",
          "text": [
            "2021-03-11 01:34:49,316 Previous dataset split restored\n"
          ],
          "name": "stderr"
        },
        {
          "output_type": "stream",
          "text": [
            "n_cnt [1358.]\n",
            "y_means [6.59994988]\n",
            "y_stds [1.29836641]\n",
            "TIMING: dataset construction took 0.052 s\n",
            "Loading dataset from disk.\n",
            "TIMING: dataset construction took 0.010 s\n",
            "Loading dataset from disk.\n",
            "TIMING: dataset construction took 0.010 s\n",
            "Loading dataset from disk.\n"
          ],
          "name": "stdout"
        },
        {
          "output_type": "stream",
          "text": [
            "2021-03-11 01:34:50,252 Wrote model metadata to file ampl_output/H1_std/RF_ecfp_scaffold_regression/33cc23eb-7c0d-4521-a5c2-13165bcfbbff/model_metadata.json\n",
            "2021-03-11 01:34:50,273 Wrote model metrics to file ampl_output/H1_std/RF_ecfp_scaffold_regression/33cc23eb-7c0d-4521-a5c2-13165bcfbbff/model_metrics.json\n"
          ],
          "name": "stderr"
        },
        {
          "output_type": "stream",
          "text": [
            "Wrote model tarball to ampl_output/H1_std_model_33cc23eb-7c0d-4521-a5c2-13165bcfbbff.tar.gz\n",
            "rf_estimators: 32, rf_max_depth: 16, rf_max_features: 32, valid_r2: 0.389758899653876\n",
            "number of features: 1024\n"
          ],
          "name": "stdout"
        },
        {
          "output_type": "stream",
          "text": [
            "2021-03-11 01:34:55,777 Previous dataset split restored\n"
          ],
          "name": "stderr"
        },
        {
          "output_type": "stream",
          "text": [
            "n_cnt [1358.]\n",
            "y_means [6.59994988]\n",
            "y_stds [1.29836641]\n",
            "TIMING: dataset construction took 0.057 s\n",
            "Loading dataset from disk.\n",
            "TIMING: dataset construction took 0.011 s\n",
            "Loading dataset from disk.\n",
            "TIMING: dataset construction took 0.011 s\n",
            "Loading dataset from disk.\n"
          ],
          "name": "stdout"
        },
        {
          "output_type": "stream",
          "text": [
            "2021-03-11 01:34:56,767 Wrote model metadata to file ampl_output/H1_std/RF_ecfp_scaffold_regression/b67f2fad-68cc-4d77-bf71-bb9a999164c8/model_metadata.json\n",
            "2021-03-11 01:34:56,789 Wrote model metrics to file ampl_output/H1_std/RF_ecfp_scaffold_regression/b67f2fad-68cc-4d77-bf71-bb9a999164c8/model_metrics.json\n"
          ],
          "name": "stderr"
        },
        {
          "output_type": "stream",
          "text": [
            "Wrote model tarball to ampl_output/H1_std_model_b67f2fad-68cc-4d77-bf71-bb9a999164c8.tar.gz\n",
            "rf_estimators: 32, rf_max_depth: 16, rf_max_features: 64, valid_r2: 0.4314030143635388\n",
            "number of features: 1024\n"
          ],
          "name": "stdout"
        },
        {
          "output_type": "stream",
          "text": [
            "2021-03-11 01:35:02,275 Previous dataset split restored\n"
          ],
          "name": "stderr"
        },
        {
          "output_type": "stream",
          "text": [
            "n_cnt [1358.]\n",
            "y_means [6.59994988]\n",
            "y_stds [1.29836641]\n",
            "TIMING: dataset construction took 0.053 s\n",
            "Loading dataset from disk.\n",
            "TIMING: dataset construction took 0.011 s\n",
            "Loading dataset from disk.\n",
            "TIMING: dataset construction took 0.011 s\n",
            "Loading dataset from disk.\n"
          ],
          "name": "stdout"
        },
        {
          "output_type": "stream",
          "text": [
            "2021-03-11 01:35:03,324 Wrote model metadata to file ampl_output/H1_std/RF_ecfp_scaffold_regression/3146b48f-85aa-4d6d-8353-dcbb588d51a2/model_metadata.json\n",
            "2021-03-11 01:35:03,347 Wrote model metrics to file ampl_output/H1_std/RF_ecfp_scaffold_regression/3146b48f-85aa-4d6d-8353-dcbb588d51a2/model_metrics.json\n"
          ],
          "name": "stderr"
        },
        {
          "output_type": "stream",
          "text": [
            "Wrote model tarball to ampl_output/H1_std_model_3146b48f-85aa-4d6d-8353-dcbb588d51a2.tar.gz\n",
            "rf_estimators: 32, rf_max_depth: 16, rf_max_features: 128, valid_r2: 0.46672480435920216\n",
            "number of features: 1024\n"
          ],
          "name": "stdout"
        },
        {
          "output_type": "stream",
          "text": [
            "2021-03-11 01:35:08,845 Previous dataset split restored\n"
          ],
          "name": "stderr"
        },
        {
          "output_type": "stream",
          "text": [
            "n_cnt [1358.]\n",
            "y_means [6.59994988]\n",
            "y_stds [1.29836641]\n",
            "TIMING: dataset construction took 0.052 s\n",
            "Loading dataset from disk.\n",
            "TIMING: dataset construction took 0.010 s\n",
            "Loading dataset from disk.\n",
            "TIMING: dataset construction took 0.013 s\n",
            "Loading dataset from disk.\n"
          ],
          "name": "stdout"
        },
        {
          "output_type": "stream",
          "text": [
            "2021-03-11 01:35:09,812 Wrote model metadata to file ampl_output/H1_std/RF_ecfp_scaffold_regression/32f6f6ad-cb3d-4116-b918-5e01961a89f1/model_metadata.json\n",
            "2021-03-11 01:35:09,843 Wrote model metrics to file ampl_output/H1_std/RF_ecfp_scaffold_regression/32f6f6ad-cb3d-4116-b918-5e01961a89f1/model_metrics.json\n"
          ],
          "name": "stderr"
        },
        {
          "output_type": "stream",
          "text": [
            "Wrote model tarball to ampl_output/H1_std_model_32f6f6ad-cb3d-4116-b918-5e01961a89f1.tar.gz\n",
            "rf_estimators: 32, rf_max_depth: 32, rf_max_features: 16, valid_r2: 0.43464914479738737\n",
            "number of features: 1024\n"
          ],
          "name": "stdout"
        },
        {
          "output_type": "stream",
          "text": [
            "2021-03-11 01:35:15,338 Previous dataset split restored\n"
          ],
          "name": "stderr"
        },
        {
          "output_type": "stream",
          "text": [
            "n_cnt [1358.]\n",
            "y_means [6.59994988]\n",
            "y_stds [1.29836641]\n",
            "TIMING: dataset construction took 0.053 s\n",
            "Loading dataset from disk.\n",
            "TIMING: dataset construction took 0.010 s\n",
            "Loading dataset from disk.\n",
            "TIMING: dataset construction took 0.010 s\n",
            "Loading dataset from disk.\n"
          ],
          "name": "stdout"
        },
        {
          "output_type": "stream",
          "text": [
            "2021-03-11 01:35:16,301 Wrote model metadata to file ampl_output/H1_std/RF_ecfp_scaffold_regression/e91a8a57-bb30-4964-832a-c3d67297c312/model_metadata.json\n",
            "2021-03-11 01:35:16,332 Wrote model metrics to file ampl_output/H1_std/RF_ecfp_scaffold_regression/e91a8a57-bb30-4964-832a-c3d67297c312/model_metrics.json\n"
          ],
          "name": "stderr"
        },
        {
          "output_type": "stream",
          "text": [
            "Wrote model tarball to ampl_output/H1_std_model_e91a8a57-bb30-4964-832a-c3d67297c312.tar.gz\n",
            "rf_estimators: 32, rf_max_depth: 32, rf_max_features: 32, valid_r2: 0.4492782019457422\n",
            "number of features: 1024\n"
          ],
          "name": "stdout"
        },
        {
          "output_type": "stream",
          "text": [
            "2021-03-11 01:35:21,848 Previous dataset split restored\n"
          ],
          "name": "stderr"
        },
        {
          "output_type": "stream",
          "text": [
            "n_cnt [1358.]\n",
            "y_means [6.59994988]\n",
            "y_stds [1.29836641]\n",
            "TIMING: dataset construction took 0.052 s\n",
            "Loading dataset from disk.\n",
            "TIMING: dataset construction took 0.010 s\n",
            "Loading dataset from disk.\n",
            "TIMING: dataset construction took 0.010 s\n",
            "Loading dataset from disk.\n"
          ],
          "name": "stdout"
        },
        {
          "output_type": "stream",
          "text": [
            "2021-03-11 01:35:22,811 Wrote model metadata to file ampl_output/H1_std/RF_ecfp_scaffold_regression/23565c6c-49fa-4d43-bac1-9003f7075123/model_metadata.json\n",
            "2021-03-11 01:35:22,842 Wrote model metrics to file ampl_output/H1_std/RF_ecfp_scaffold_regression/23565c6c-49fa-4d43-bac1-9003f7075123/model_metrics.json\n"
          ],
          "name": "stderr"
        },
        {
          "output_type": "stream",
          "text": [
            "Wrote model tarball to ampl_output/H1_std_model_23565c6c-49fa-4d43-bac1-9003f7075123.tar.gz\n",
            "rf_estimators: 32, rf_max_depth: 32, rf_max_features: 64, valid_r2: 0.41831969678457404\n",
            "number of features: 1024\n"
          ],
          "name": "stdout"
        },
        {
          "output_type": "stream",
          "text": [
            "2021-03-11 01:35:28,505 Previous dataset split restored\n"
          ],
          "name": "stderr"
        },
        {
          "output_type": "stream",
          "text": [
            "n_cnt [1358.]\n",
            "y_means [6.59994988]\n",
            "y_stds [1.29836641]\n",
            "TIMING: dataset construction took 0.054 s\n",
            "Loading dataset from disk.\n",
            "TIMING: dataset construction took 0.012 s\n",
            "Loading dataset from disk.\n",
            "TIMING: dataset construction took 0.010 s\n",
            "Loading dataset from disk.\n"
          ],
          "name": "stdout"
        },
        {
          "output_type": "stream",
          "text": [
            "2021-03-11 01:35:29,575 Wrote model metadata to file ampl_output/H1_std/RF_ecfp_scaffold_regression/7d26e02a-c75a-4bbc-b089-9aa9cc6a2196/model_metadata.json\n",
            "2021-03-11 01:35:29,605 Wrote model metrics to file ampl_output/H1_std/RF_ecfp_scaffold_regression/7d26e02a-c75a-4bbc-b089-9aa9cc6a2196/model_metrics.json\n"
          ],
          "name": "stderr"
        },
        {
          "output_type": "stream",
          "text": [
            "Wrote model tarball to ampl_output/H1_std_model_7d26e02a-c75a-4bbc-b089-9aa9cc6a2196.tar.gz\n",
            "rf_estimators: 32, rf_max_depth: 32, rf_max_features: 128, valid_r2: 0.43031172643879934\n",
            "number of features: 1024\n"
          ],
          "name": "stdout"
        },
        {
          "output_type": "stream",
          "text": [
            "2021-03-11 01:35:35,198 Previous dataset split restored\n"
          ],
          "name": "stderr"
        },
        {
          "output_type": "stream",
          "text": [
            "n_cnt [1358.]\n",
            "y_means [6.59994988]\n",
            "y_stds [1.29836641]\n",
            "TIMING: dataset construction took 0.058 s\n",
            "Loading dataset from disk.\n",
            "TIMING: dataset construction took 0.010 s\n",
            "Loading dataset from disk.\n",
            "TIMING: dataset construction took 0.010 s\n",
            "Loading dataset from disk.\n"
          ],
          "name": "stdout"
        },
        {
          "output_type": "stream",
          "text": [
            "2021-03-11 01:35:36,177 Wrote model metadata to file ampl_output/H1_std/RF_ecfp_scaffold_regression/683adc8d-afc4-4f66-b9c7-8ae276f318f8/model_metadata.json\n",
            "2021-03-11 01:35:36,209 Wrote model metrics to file ampl_output/H1_std/RF_ecfp_scaffold_regression/683adc8d-afc4-4f66-b9c7-8ae276f318f8/model_metrics.json\n"
          ],
          "name": "stderr"
        },
        {
          "output_type": "stream",
          "text": [
            "Wrote model tarball to ampl_output/H1_std_model_683adc8d-afc4-4f66-b9c7-8ae276f318f8.tar.gz\n",
            "rf_estimators: 32, rf_max_depth: 64, rf_max_features: 16, valid_r2: 0.4330343073296673\n",
            "number of features: 1024\n"
          ],
          "name": "stdout"
        },
        {
          "output_type": "stream",
          "text": [
            "2021-03-11 01:35:41,749 Previous dataset split restored\n"
          ],
          "name": "stderr"
        },
        {
          "output_type": "stream",
          "text": [
            "n_cnt [1358.]\n",
            "y_means [6.59994988]\n",
            "y_stds [1.29836641]\n",
            "TIMING: dataset construction took 0.052 s\n",
            "Loading dataset from disk.\n",
            "TIMING: dataset construction took 0.010 s\n",
            "Loading dataset from disk.\n",
            "TIMING: dataset construction took 0.011 s\n",
            "Loading dataset from disk.\n"
          ],
          "name": "stdout"
        },
        {
          "output_type": "stream",
          "text": [
            "2021-03-11 01:35:42,711 Wrote model metadata to file ampl_output/H1_std/RF_ecfp_scaffold_regression/8f981d2d-1cc3-433e-ac9b-1e5b51f37ddc/model_metadata.json\n",
            "2021-03-11 01:35:42,744 Wrote model metrics to file ampl_output/H1_std/RF_ecfp_scaffold_regression/8f981d2d-1cc3-433e-ac9b-1e5b51f37ddc/model_metrics.json\n"
          ],
          "name": "stderr"
        },
        {
          "output_type": "stream",
          "text": [
            "Wrote model tarball to ampl_output/H1_std_model_8f981d2d-1cc3-433e-ac9b-1e5b51f37ddc.tar.gz\n",
            "rf_estimators: 32, rf_max_depth: 64, rf_max_features: 32, valid_r2: 0.4360902927726047\n",
            "number of features: 1024\n"
          ],
          "name": "stdout"
        },
        {
          "output_type": "stream",
          "text": [
            "2021-03-11 01:35:48,220 Previous dataset split restored\n"
          ],
          "name": "stderr"
        },
        {
          "output_type": "stream",
          "text": [
            "n_cnt [1358.]\n",
            "y_means [6.59994988]\n",
            "y_stds [1.29836641]\n",
            "TIMING: dataset construction took 0.055 s\n",
            "Loading dataset from disk.\n",
            "TIMING: dataset construction took 0.011 s\n",
            "Loading dataset from disk.\n",
            "TIMING: dataset construction took 0.010 s\n",
            "Loading dataset from disk.\n"
          ],
          "name": "stdout"
        },
        {
          "output_type": "stream",
          "text": [
            "2021-03-11 01:35:49,194 Wrote model metadata to file ampl_output/H1_std/RF_ecfp_scaffold_regression/f7585025-29ad-4dd6-bb28-f0820b5479a7/model_metadata.json\n",
            "2021-03-11 01:35:49,225 Wrote model metrics to file ampl_output/H1_std/RF_ecfp_scaffold_regression/f7585025-29ad-4dd6-bb28-f0820b5479a7/model_metrics.json\n"
          ],
          "name": "stderr"
        },
        {
          "output_type": "stream",
          "text": [
            "Wrote model tarball to ampl_output/H1_std_model_f7585025-29ad-4dd6-bb28-f0820b5479a7.tar.gz\n",
            "rf_estimators: 32, rf_max_depth: 64, rf_max_features: 64, valid_r2: 0.43676766073393314\n",
            "number of features: 1024\n"
          ],
          "name": "stdout"
        },
        {
          "output_type": "stream",
          "text": [
            "2021-03-11 01:35:54,728 Previous dataset split restored\n"
          ],
          "name": "stderr"
        },
        {
          "output_type": "stream",
          "text": [
            "n_cnt [1358.]\n",
            "y_means [6.59994988]\n",
            "y_stds [1.29836641]\n",
            "TIMING: dataset construction took 0.052 s\n",
            "Loading dataset from disk.\n",
            "TIMING: dataset construction took 0.010 s\n",
            "Loading dataset from disk.\n",
            "TIMING: dataset construction took 0.010 s\n",
            "Loading dataset from disk.\n"
          ],
          "name": "stdout"
        },
        {
          "output_type": "stream",
          "text": [
            "2021-03-11 01:35:55,789 Wrote model metadata to file ampl_output/H1_std/RF_ecfp_scaffold_regression/59a58360-d807-421e-ab6e-f87c4f543d50/model_metadata.json\n",
            "2021-03-11 01:35:55,820 Wrote model metrics to file ampl_output/H1_std/RF_ecfp_scaffold_regression/59a58360-d807-421e-ab6e-f87c4f543d50/model_metrics.json\n"
          ],
          "name": "stderr"
        },
        {
          "output_type": "stream",
          "text": [
            "Wrote model tarball to ampl_output/H1_std_model_59a58360-d807-421e-ab6e-f87c4f543d50.tar.gz\n",
            "rf_estimators: 32, rf_max_depth: 64, rf_max_features: 128, valid_r2: 0.44976752877441106\n",
            "number of features: 1024\n"
          ],
          "name": "stdout"
        },
        {
          "output_type": "stream",
          "text": [
            "2021-03-11 01:36:01,338 Previous dataset split restored\n"
          ],
          "name": "stderr"
        },
        {
          "output_type": "stream",
          "text": [
            "n_cnt [1358.]\n",
            "y_means [6.59994988]\n",
            "y_stds [1.29836641]\n",
            "TIMING: dataset construction took 0.052 s\n",
            "Loading dataset from disk.\n",
            "TIMING: dataset construction took 0.010 s\n",
            "Loading dataset from disk.\n",
            "TIMING: dataset construction took 0.012 s\n",
            "Loading dataset from disk.\n"
          ],
          "name": "stdout"
        },
        {
          "output_type": "stream",
          "text": [
            "2021-03-11 01:36:02,301 Wrote model metadata to file ampl_output/H1_std/RF_ecfp_scaffold_regression/2cdd0040-dd30-48f4-b6dc-e91b5c0605d4/model_metadata.json\n",
            "2021-03-11 01:36:02,332 Wrote model metrics to file ampl_output/H1_std/RF_ecfp_scaffold_regression/2cdd0040-dd30-48f4-b6dc-e91b5c0605d4/model_metrics.json\n"
          ],
          "name": "stderr"
        },
        {
          "output_type": "stream",
          "text": [
            "Wrote model tarball to ampl_output/H1_std_model_2cdd0040-dd30-48f4-b6dc-e91b5c0605d4.tar.gz\n",
            "rf_estimators: 32, rf_max_depth: 128, rf_max_features: 16, valid_r2: 0.43583580662614874\n",
            "number of features: 1024\n"
          ],
          "name": "stdout"
        },
        {
          "output_type": "stream",
          "text": [
            "2021-03-11 01:36:07,806 Previous dataset split restored\n"
          ],
          "name": "stderr"
        },
        {
          "output_type": "stream",
          "text": [
            "n_cnt [1358.]\n",
            "y_means [6.59994988]\n",
            "y_stds [1.29836641]\n",
            "TIMING: dataset construction took 0.052 s\n",
            "Loading dataset from disk.\n",
            "TIMING: dataset construction took 0.010 s\n",
            "Loading dataset from disk.\n",
            "TIMING: dataset construction took 0.010 s\n",
            "Loading dataset from disk.\n"
          ],
          "name": "stdout"
        },
        {
          "output_type": "stream",
          "text": [
            "2021-03-11 01:36:08,766 Wrote model metadata to file ampl_output/H1_std/RF_ecfp_scaffold_regression/a37078f9-c4f4-43d3-a2ab-ef4d30927d4e/model_metadata.json\n",
            "2021-03-11 01:36:08,798 Wrote model metrics to file ampl_output/H1_std/RF_ecfp_scaffold_regression/a37078f9-c4f4-43d3-a2ab-ef4d30927d4e/model_metrics.json\n"
          ],
          "name": "stderr"
        },
        {
          "output_type": "stream",
          "text": [
            "Wrote model tarball to ampl_output/H1_std_model_a37078f9-c4f4-43d3-a2ab-ef4d30927d4e.tar.gz\n",
            "rf_estimators: 32, rf_max_depth: 128, rf_max_features: 32, valid_r2: 0.41089241003477506\n",
            "number of features: 1024\n"
          ],
          "name": "stdout"
        },
        {
          "output_type": "stream",
          "text": [
            "2021-03-11 01:36:14,259 Previous dataset split restored\n"
          ],
          "name": "stderr"
        },
        {
          "output_type": "stream",
          "text": [
            "n_cnt [1358.]\n",
            "y_means [6.59994988]\n",
            "y_stds [1.29836641]\n",
            "TIMING: dataset construction took 0.053 s\n",
            "Loading dataset from disk.\n",
            "TIMING: dataset construction took 0.010 s\n",
            "Loading dataset from disk.\n",
            "TIMING: dataset construction took 0.010 s\n",
            "Loading dataset from disk.\n"
          ],
          "name": "stdout"
        },
        {
          "output_type": "stream",
          "text": [
            "2021-03-11 01:36:15,320 Wrote model metadata to file ampl_output/H1_std/RF_ecfp_scaffold_regression/2980e460-cf04-416e-8cae-c50de4e6333d/model_metadata.json\n",
            "2021-03-11 01:36:15,351 Wrote model metrics to file ampl_output/H1_std/RF_ecfp_scaffold_regression/2980e460-cf04-416e-8cae-c50de4e6333d/model_metrics.json\n"
          ],
          "name": "stderr"
        },
        {
          "output_type": "stream",
          "text": [
            "Wrote model tarball to ampl_output/H1_std_model_2980e460-cf04-416e-8cae-c50de4e6333d.tar.gz\n",
            "rf_estimators: 32, rf_max_depth: 128, rf_max_features: 64, valid_r2: 0.45975224731800224\n",
            "number of features: 1024\n"
          ],
          "name": "stdout"
        },
        {
          "output_type": "stream",
          "text": [
            "2021-03-11 01:36:20,859 Previous dataset split restored\n"
          ],
          "name": "stderr"
        },
        {
          "output_type": "stream",
          "text": [
            "n_cnt [1358.]\n",
            "y_means [6.59994988]\n",
            "y_stds [1.29836641]\n",
            "TIMING: dataset construction took 0.053 s\n",
            "Loading dataset from disk.\n",
            "TIMING: dataset construction took 0.010 s\n",
            "Loading dataset from disk.\n",
            "TIMING: dataset construction took 0.010 s\n",
            "Loading dataset from disk.\n"
          ],
          "name": "stdout"
        },
        {
          "output_type": "stream",
          "text": [
            "2021-03-11 01:36:21,926 Wrote model metadata to file ampl_output/H1_std/RF_ecfp_scaffold_regression/c88fdbcc-906d-44b3-9ad3-8381fbcb0390/model_metadata.json\n",
            "2021-03-11 01:36:21,957 Wrote model metrics to file ampl_output/H1_std/RF_ecfp_scaffold_regression/c88fdbcc-906d-44b3-9ad3-8381fbcb0390/model_metrics.json\n"
          ],
          "name": "stderr"
        },
        {
          "output_type": "stream",
          "text": [
            "Wrote model tarball to ampl_output/H1_std_model_c88fdbcc-906d-44b3-9ad3-8381fbcb0390.tar.gz\n",
            "rf_estimators: 32, rf_max_depth: 128, rf_max_features: 128, valid_r2: 0.4450806170739252\n",
            "number of features: 1024\n"
          ],
          "name": "stdout"
        },
        {
          "output_type": "stream",
          "text": [
            "2021-03-11 01:36:27,457 Previous dataset split restored\n"
          ],
          "name": "stderr"
        },
        {
          "output_type": "stream",
          "text": [
            "n_cnt [1358.]\n",
            "y_means [6.59994988]\n",
            "y_stds [1.29836641]\n",
            "TIMING: dataset construction took 0.057 s\n",
            "Loading dataset from disk.\n",
            "TIMING: dataset construction took 0.011 s\n",
            "Loading dataset from disk.\n",
            "TIMING: dataset construction took 0.010 s\n",
            "Loading dataset from disk.\n"
          ],
          "name": "stdout"
        },
        {
          "output_type": "stream",
          "text": [
            "2021-03-11 01:36:28,461 Wrote model metadata to file ampl_output/H1_std/RF_ecfp_scaffold_regression/1cbf3eb3-2740-41e1-847b-e548ca9c8d13/model_metadata.json\n",
            "2021-03-11 01:36:28,497 Wrote model metrics to file ampl_output/H1_std/RF_ecfp_scaffold_regression/1cbf3eb3-2740-41e1-847b-e548ca9c8d13/model_metrics.json\n"
          ],
          "name": "stderr"
        },
        {
          "output_type": "stream",
          "text": [
            "Wrote model tarball to ampl_output/H1_std_model_1cbf3eb3-2740-41e1-847b-e548ca9c8d13.tar.gz\n",
            "rf_estimators: 64, rf_max_depth: 16, rf_max_features: 16, valid_r2: 0.3644394616964388\n",
            "number of features: 1024\n"
          ],
          "name": "stdout"
        },
        {
          "output_type": "stream",
          "text": [
            "2021-03-11 01:36:34,047 Previous dataset split restored\n"
          ],
          "name": "stderr"
        },
        {
          "output_type": "stream",
          "text": [
            "n_cnt [1358.]\n",
            "y_means [6.59994988]\n",
            "y_stds [1.29836641]\n",
            "TIMING: dataset construction took 0.053 s\n",
            "Loading dataset from disk.\n",
            "TIMING: dataset construction took 0.011 s\n",
            "Loading dataset from disk.\n",
            "TIMING: dataset construction took 0.013 s\n",
            "Loading dataset from disk.\n"
          ],
          "name": "stdout"
        },
        {
          "output_type": "stream",
          "text": [
            "2021-03-11 01:36:35,138 Wrote model metadata to file ampl_output/H1_std/RF_ecfp_scaffold_regression/7c60173d-f0a4-4153-ba5b-84c963a22f34/model_metadata.json\n",
            "2021-03-11 01:36:35,174 Wrote model metrics to file ampl_output/H1_std/RF_ecfp_scaffold_regression/7c60173d-f0a4-4153-ba5b-84c963a22f34/model_metrics.json\n"
          ],
          "name": "stderr"
        },
        {
          "output_type": "stream",
          "text": [
            "Wrote model tarball to ampl_output/H1_std_model_7c60173d-f0a4-4153-ba5b-84c963a22f34.tar.gz\n",
            "rf_estimators: 64, rf_max_depth: 16, rf_max_features: 32, valid_r2: 0.3954182759846966\n",
            "number of features: 1024\n"
          ],
          "name": "stdout"
        },
        {
          "output_type": "stream",
          "text": [
            "2021-03-11 01:36:40,650 Previous dataset split restored\n"
          ],
          "name": "stderr"
        },
        {
          "output_type": "stream",
          "text": [
            "n_cnt [1358.]\n",
            "y_means [6.59994988]\n",
            "y_stds [1.29836641]\n",
            "TIMING: dataset construction took 0.053 s\n",
            "Loading dataset from disk.\n",
            "TIMING: dataset construction took 0.010 s\n",
            "Loading dataset from disk.\n",
            "TIMING: dataset construction took 0.010 s\n",
            "Loading dataset from disk.\n"
          ],
          "name": "stdout"
        },
        {
          "output_type": "stream",
          "text": [
            "2021-03-11 01:36:41,841 Wrote model metadata to file ampl_output/H1_std/RF_ecfp_scaffold_regression/44e92506-f806-4423-8069-cfd62536de62/model_metadata.json\n",
            "2021-03-11 01:36:41,878 Wrote model metrics to file ampl_output/H1_std/RF_ecfp_scaffold_regression/44e92506-f806-4423-8069-cfd62536de62/model_metrics.json\n"
          ],
          "name": "stderr"
        },
        {
          "output_type": "stream",
          "text": [
            "Wrote model tarball to ampl_output/H1_std_model_44e92506-f806-4423-8069-cfd62536de62.tar.gz\n",
            "rf_estimators: 64, rf_max_depth: 16, rf_max_features: 64, valid_r2: 0.4278398849724647\n",
            "number of features: 1024\n"
          ],
          "name": "stdout"
        },
        {
          "output_type": "stream",
          "text": [
            "2021-03-11 01:36:47,391 Previous dataset split restored\n"
          ],
          "name": "stderr"
        },
        {
          "output_type": "stream",
          "text": [
            "n_cnt [1358.]\n",
            "y_means [6.59994988]\n",
            "y_stds [1.29836641]\n",
            "TIMING: dataset construction took 0.052 s\n",
            "Loading dataset from disk.\n",
            "TIMING: dataset construction took 0.010 s\n",
            "Loading dataset from disk.\n",
            "TIMING: dataset construction took 0.012 s\n",
            "Loading dataset from disk.\n"
          ],
          "name": "stdout"
        },
        {
          "output_type": "stream",
          "text": [
            "2021-03-11 01:36:48,698 Wrote model metadata to file ampl_output/H1_std/RF_ecfp_scaffold_regression/69f5dfdb-9424-4056-9e2c-4c47d8166f6c/model_metadata.json\n",
            "2021-03-11 01:36:48,737 Wrote model metrics to file ampl_output/H1_std/RF_ecfp_scaffold_regression/69f5dfdb-9424-4056-9e2c-4c47d8166f6c/model_metrics.json\n"
          ],
          "name": "stderr"
        },
        {
          "output_type": "stream",
          "text": [
            "Wrote model tarball to ampl_output/H1_std_model_69f5dfdb-9424-4056-9e2c-4c47d8166f6c.tar.gz\n",
            "rf_estimators: 64, rf_max_depth: 16, rf_max_features: 128, valid_r2: 0.43666956017500447\n",
            "number of features: 1024\n"
          ],
          "name": "stdout"
        },
        {
          "output_type": "stream",
          "text": [
            "2021-03-11 01:36:54,328 Previous dataset split restored\n"
          ],
          "name": "stderr"
        },
        {
          "output_type": "stream",
          "text": [
            "n_cnt [1358.]\n",
            "y_means [6.59994988]\n",
            "y_stds [1.29836641]\n",
            "TIMING: dataset construction took 0.053 s\n",
            "Loading dataset from disk.\n",
            "TIMING: dataset construction took 0.011 s\n",
            "Loading dataset from disk.\n",
            "TIMING: dataset construction took 0.010 s\n",
            "Loading dataset from disk.\n"
          ],
          "name": "stdout"
        },
        {
          "output_type": "stream",
          "text": [
            "2021-03-11 01:36:55,441 Wrote model metadata to file ampl_output/H1_std/RF_ecfp_scaffold_regression/4b628091-be26-4493-bba9-f1ea6916be0f/model_metadata.json\n",
            "2021-03-11 01:36:55,497 Wrote model metrics to file ampl_output/H1_std/RF_ecfp_scaffold_regression/4b628091-be26-4493-bba9-f1ea6916be0f/model_metrics.json\n"
          ],
          "name": "stderr"
        },
        {
          "output_type": "stream",
          "text": [
            "Wrote model tarball to ampl_output/H1_std_model_4b628091-be26-4493-bba9-f1ea6916be0f.tar.gz\n",
            "rf_estimators: 64, rf_max_depth: 32, rf_max_features: 16, valid_r2: 0.4209864859745366\n",
            "number of features: 1024\n"
          ],
          "name": "stdout"
        },
        {
          "output_type": "stream",
          "text": [
            "2021-03-11 01:37:01,008 Previous dataset split restored\n"
          ],
          "name": "stderr"
        },
        {
          "output_type": "stream",
          "text": [
            "n_cnt [1358.]\n",
            "y_means [6.59994988]\n",
            "y_stds [1.29836641]\n",
            "TIMING: dataset construction took 0.053 s\n",
            "Loading dataset from disk.\n",
            "TIMING: dataset construction took 0.010 s\n",
            "Loading dataset from disk.\n",
            "TIMING: dataset construction took 0.010 s\n",
            "Loading dataset from disk.\n"
          ],
          "name": "stdout"
        },
        {
          "output_type": "stream",
          "text": [
            "2021-03-11 01:37:02,133 Wrote model metadata to file ampl_output/H1_std/RF_ecfp_scaffold_regression/014881b9-0dcc-4701-a5d2-353a42d72dc1/model_metadata.json\n",
            "2021-03-11 01:37:02,194 Wrote model metrics to file ampl_output/H1_std/RF_ecfp_scaffold_regression/014881b9-0dcc-4701-a5d2-353a42d72dc1/model_metrics.json\n"
          ],
          "name": "stderr"
        },
        {
          "output_type": "stream",
          "text": [
            "Wrote model tarball to ampl_output/H1_std_model_014881b9-0dcc-4701-a5d2-353a42d72dc1.tar.gz\n",
            "rf_estimators: 64, rf_max_depth: 32, rf_max_features: 32, valid_r2: 0.4413542265515975\n",
            "number of features: 1024\n"
          ],
          "name": "stdout"
        },
        {
          "output_type": "stream",
          "text": [
            "2021-03-11 01:37:07,701 Previous dataset split restored\n"
          ],
          "name": "stderr"
        },
        {
          "output_type": "stream",
          "text": [
            "n_cnt [1358.]\n",
            "y_means [6.59994988]\n",
            "y_stds [1.29836641]\n",
            "TIMING: dataset construction took 0.054 s\n",
            "Loading dataset from disk.\n",
            "TIMING: dataset construction took 0.010 s\n",
            "Loading dataset from disk.\n",
            "TIMING: dataset construction took 0.010 s\n",
            "Loading dataset from disk.\n"
          ],
          "name": "stdout"
        },
        {
          "output_type": "stream",
          "text": [
            "2021-03-11 01:37:08,905 Wrote model metadata to file ampl_output/H1_std/RF_ecfp_scaffold_regression/5ccd3cf8-5b0d-4f55-8c87-b7d4bbfea10b/model_metadata.json\n",
            "2021-03-11 01:37:08,960 Wrote model metrics to file ampl_output/H1_std/RF_ecfp_scaffold_regression/5ccd3cf8-5b0d-4f55-8c87-b7d4bbfea10b/model_metrics.json\n"
          ],
          "name": "stderr"
        },
        {
          "output_type": "stream",
          "text": [
            "Wrote model tarball to ampl_output/H1_std_model_5ccd3cf8-5b0d-4f55-8c87-b7d4bbfea10b.tar.gz\n",
            "rf_estimators: 64, rf_max_depth: 32, rf_max_features: 64, valid_r2: 0.4835145382659669\n",
            "number of features: 1024\n"
          ],
          "name": "stdout"
        },
        {
          "output_type": "stream",
          "text": [
            "2021-03-11 01:37:14,457 Previous dataset split restored\n"
          ],
          "name": "stderr"
        },
        {
          "output_type": "stream",
          "text": [
            "n_cnt [1358.]\n",
            "y_means [6.59994988]\n",
            "y_stds [1.29836641]\n",
            "TIMING: dataset construction took 0.052 s\n",
            "Loading dataset from disk.\n",
            "TIMING: dataset construction took 0.010 s\n",
            "Loading dataset from disk.\n",
            "TIMING: dataset construction took 0.010 s\n",
            "Loading dataset from disk.\n"
          ],
          "name": "stdout"
        },
        {
          "output_type": "stream",
          "text": [
            "2021-03-11 01:37:15,868 Wrote model metadata to file ampl_output/H1_std/RF_ecfp_scaffold_regression/75cd7ddb-9fcd-486d-9c58-521213053095/model_metadata.json\n",
            "2021-03-11 01:37:15,924 Wrote model metrics to file ampl_output/H1_std/RF_ecfp_scaffold_regression/75cd7ddb-9fcd-486d-9c58-521213053095/model_metrics.json\n"
          ],
          "name": "stderr"
        },
        {
          "output_type": "stream",
          "text": [
            "Wrote model tarball to ampl_output/H1_std_model_75cd7ddb-9fcd-486d-9c58-521213053095.tar.gz\n",
            "rf_estimators: 64, rf_max_depth: 32, rf_max_features: 128, valid_r2: 0.45513134941265787\n",
            "number of features: 1024\n"
          ],
          "name": "stdout"
        },
        {
          "output_type": "stream",
          "text": [
            "2021-03-11 01:37:21,398 Previous dataset split restored\n"
          ],
          "name": "stderr"
        },
        {
          "output_type": "stream",
          "text": [
            "n_cnt [1358.]\n",
            "y_means [6.59994988]\n",
            "y_stds [1.29836641]\n",
            "TIMING: dataset construction took 0.053 s\n",
            "Loading dataset from disk.\n",
            "TIMING: dataset construction took 0.011 s\n",
            "Loading dataset from disk.\n",
            "TIMING: dataset construction took 0.010 s\n",
            "Loading dataset from disk.\n"
          ],
          "name": "stdout"
        },
        {
          "output_type": "stream",
          "text": [
            "2021-03-11 01:37:22,521 Wrote model metadata to file ampl_output/H1_std/RF_ecfp_scaffold_regression/b99dad56-00a1-4bc3-8ce4-ab77dfb57f51/model_metadata.json\n",
            "2021-03-11 01:37:22,590 Wrote model metrics to file ampl_output/H1_std/RF_ecfp_scaffold_regression/b99dad56-00a1-4bc3-8ce4-ab77dfb57f51/model_metrics.json\n"
          ],
          "name": "stderr"
        },
        {
          "output_type": "stream",
          "text": [
            "Wrote model tarball to ampl_output/H1_std_model_b99dad56-00a1-4bc3-8ce4-ab77dfb57f51.tar.gz\n",
            "rf_estimators: 64, rf_max_depth: 64, rf_max_features: 16, valid_r2: 0.39661337144392517\n",
            "number of features: 1024\n"
          ],
          "name": "stdout"
        },
        {
          "output_type": "stream",
          "text": [
            "2021-03-11 01:37:28,116 Previous dataset split restored\n"
          ],
          "name": "stderr"
        },
        {
          "output_type": "stream",
          "text": [
            "n_cnt [1358.]\n",
            "y_means [6.59994988]\n",
            "y_stds [1.29836641]\n",
            "TIMING: dataset construction took 0.052 s\n",
            "Loading dataset from disk.\n",
            "TIMING: dataset construction took 0.011 s\n",
            "Loading dataset from disk.\n",
            "TIMING: dataset construction took 0.012 s\n",
            "Loading dataset from disk.\n"
          ],
          "name": "stdout"
        },
        {
          "output_type": "stream",
          "text": [
            "2021-03-11 01:37:29,337 Wrote model metadata to file ampl_output/H1_std/RF_ecfp_scaffold_regression/936cee45-9fdc-4b59-aeff-5d01038b224a/model_metadata.json\n",
            "2021-03-11 01:37:29,396 Wrote model metrics to file ampl_output/H1_std/RF_ecfp_scaffold_regression/936cee45-9fdc-4b59-aeff-5d01038b224a/model_metrics.json\n"
          ],
          "name": "stderr"
        },
        {
          "output_type": "stream",
          "text": [
            "Wrote model tarball to ampl_output/H1_std_model_936cee45-9fdc-4b59-aeff-5d01038b224a.tar.gz\n",
            "rf_estimators: 64, rf_max_depth: 64, rf_max_features: 32, valid_r2: 0.44601668750824275\n",
            "number of features: 1024\n"
          ],
          "name": "stdout"
        },
        {
          "output_type": "stream",
          "text": [
            "2021-03-11 01:37:34,915 Previous dataset split restored\n"
          ],
          "name": "stderr"
        },
        {
          "output_type": "stream",
          "text": [
            "n_cnt [1358.]\n",
            "y_means [6.59994988]\n",
            "y_stds [1.29836641]\n",
            "TIMING: dataset construction took 0.053 s\n",
            "Loading dataset from disk.\n",
            "TIMING: dataset construction took 0.012 s\n",
            "Loading dataset from disk.\n",
            "TIMING: dataset construction took 0.010 s\n",
            "Loading dataset from disk.\n"
          ],
          "name": "stdout"
        },
        {
          "output_type": "stream",
          "text": [
            "2021-03-11 01:37:36,139 Wrote model metadata to file ampl_output/H1_std/RF_ecfp_scaffold_regression/ce2667fc-637e-4db7-bb06-ded1b593b11e/model_metadata.json\n",
            "2021-03-11 01:37:36,206 Wrote model metrics to file ampl_output/H1_std/RF_ecfp_scaffold_regression/ce2667fc-637e-4db7-bb06-ded1b593b11e/model_metrics.json\n"
          ],
          "name": "stderr"
        },
        {
          "output_type": "stream",
          "text": [
            "Wrote model tarball to ampl_output/H1_std_model_ce2667fc-637e-4db7-bb06-ded1b593b11e.tar.gz\n",
            "rf_estimators: 64, rf_max_depth: 64, rf_max_features: 64, valid_r2: 0.41638746656656345\n",
            "number of features: 1024\n"
          ],
          "name": "stdout"
        },
        {
          "output_type": "stream",
          "text": [
            "2021-03-11 01:37:41,713 Previous dataset split restored\n"
          ],
          "name": "stderr"
        },
        {
          "output_type": "stream",
          "text": [
            "n_cnt [1358.]\n",
            "y_means [6.59994988]\n",
            "y_stds [1.29836641]\n",
            "TIMING: dataset construction took 0.052 s\n",
            "Loading dataset from disk.\n",
            "TIMING: dataset construction took 0.011 s\n",
            "Loading dataset from disk.\n",
            "TIMING: dataset construction took 0.013 s\n",
            "Loading dataset from disk.\n"
          ],
          "name": "stdout"
        },
        {
          "output_type": "stream",
          "text": [
            "2021-03-11 01:37:43,136 Wrote model metadata to file ampl_output/H1_std/RF_ecfp_scaffold_regression/22f79377-b5c5-4249-867a-bbbf5eab8749/model_metadata.json\n",
            "2021-03-11 01:37:43,193 Wrote model metrics to file ampl_output/H1_std/RF_ecfp_scaffold_regression/22f79377-b5c5-4249-867a-bbbf5eab8749/model_metrics.json\n"
          ],
          "name": "stderr"
        },
        {
          "output_type": "stream",
          "text": [
            "Wrote model tarball to ampl_output/H1_std_model_22f79377-b5c5-4249-867a-bbbf5eab8749.tar.gz\n",
            "rf_estimators: 64, rf_max_depth: 64, rf_max_features: 128, valid_r2: 0.4236287966209078\n",
            "number of features: 1024\n"
          ],
          "name": "stdout"
        },
        {
          "output_type": "stream",
          "text": [
            "2021-03-11 01:37:48,686 Previous dataset split restored\n"
          ],
          "name": "stderr"
        },
        {
          "output_type": "stream",
          "text": [
            "n_cnt [1358.]\n",
            "y_means [6.59994988]\n",
            "y_stds [1.29836641]\n",
            "TIMING: dataset construction took 0.053 s\n",
            "Loading dataset from disk.\n",
            "TIMING: dataset construction took 0.010 s\n",
            "Loading dataset from disk.\n",
            "TIMING: dataset construction took 0.011 s\n",
            "Loading dataset from disk.\n"
          ],
          "name": "stdout"
        },
        {
          "output_type": "stream",
          "text": [
            "2021-03-11 01:37:49,809 Wrote model metadata to file ampl_output/H1_std/RF_ecfp_scaffold_regression/070de28c-5375-4fbf-ae22-b312ef385ec9/model_metadata.json\n",
            "2021-03-11 01:37:49,868 Wrote model metrics to file ampl_output/H1_std/RF_ecfp_scaffold_regression/070de28c-5375-4fbf-ae22-b312ef385ec9/model_metrics.json\n"
          ],
          "name": "stderr"
        },
        {
          "output_type": "stream",
          "text": [
            "Wrote model tarball to ampl_output/H1_std_model_070de28c-5375-4fbf-ae22-b312ef385ec9.tar.gz\n",
            "rf_estimators: 64, rf_max_depth: 128, rf_max_features: 16, valid_r2: 0.4068867550233587\n",
            "number of features: 1024\n"
          ],
          "name": "stdout"
        },
        {
          "output_type": "stream",
          "text": [
            "2021-03-11 01:37:55,366 Previous dataset split restored\n"
          ],
          "name": "stderr"
        },
        {
          "output_type": "stream",
          "text": [
            "n_cnt [1358.]\n",
            "y_means [6.59994988]\n",
            "y_stds [1.29836641]\n",
            "TIMING: dataset construction took 0.052 s\n",
            "Loading dataset from disk.\n",
            "TIMING: dataset construction took 0.010 s\n",
            "Loading dataset from disk.\n",
            "TIMING: dataset construction took 0.012 s\n",
            "Loading dataset from disk.\n"
          ],
          "name": "stdout"
        },
        {
          "output_type": "stream",
          "text": [
            "2021-03-11 01:37:56,485 Wrote model metadata to file ampl_output/H1_std/RF_ecfp_scaffold_regression/02c5c1b8-ef46-4f84-8d23-75971f816eda/model_metadata.json\n",
            "2021-03-11 01:37:56,543 Wrote model metrics to file ampl_output/H1_std/RF_ecfp_scaffold_regression/02c5c1b8-ef46-4f84-8d23-75971f816eda/model_metrics.json\n"
          ],
          "name": "stderr"
        },
        {
          "output_type": "stream",
          "text": [
            "Wrote model tarball to ampl_output/H1_std_model_02c5c1b8-ef46-4f84-8d23-75971f816eda.tar.gz\n",
            "rf_estimators: 64, rf_max_depth: 128, rf_max_features: 32, valid_r2: 0.41178460655814586\n",
            "number of features: 1024\n"
          ],
          "name": "stdout"
        },
        {
          "output_type": "stream",
          "text": [
            "2021-03-11 01:38:02,032 Previous dataset split restored\n"
          ],
          "name": "stderr"
        },
        {
          "output_type": "stream",
          "text": [
            "n_cnt [1358.]\n",
            "y_means [6.59994988]\n",
            "y_stds [1.29836641]\n",
            "TIMING: dataset construction took 0.054 s\n",
            "Loading dataset from disk.\n",
            "TIMING: dataset construction took 0.010 s\n",
            "Loading dataset from disk.\n",
            "TIMING: dataset construction took 0.010 s\n",
            "Loading dataset from disk.\n"
          ],
          "name": "stdout"
        },
        {
          "output_type": "stream",
          "text": [
            "2021-03-11 01:38:03,255 Wrote model metadata to file ampl_output/H1_std/RF_ecfp_scaffold_regression/5c0625d0-85ec-426c-96df-aed7d53cc9c0/model_metadata.json\n",
            "2021-03-11 01:38:03,314 Wrote model metrics to file ampl_output/H1_std/RF_ecfp_scaffold_regression/5c0625d0-85ec-426c-96df-aed7d53cc9c0/model_metrics.json\n"
          ],
          "name": "stderr"
        },
        {
          "output_type": "stream",
          "text": [
            "Wrote model tarball to ampl_output/H1_std_model_5c0625d0-85ec-426c-96df-aed7d53cc9c0.tar.gz\n",
            "rf_estimators: 64, rf_max_depth: 128, rf_max_features: 64, valid_r2: 0.43144037381190725\n",
            "number of features: 1024\n"
          ],
          "name": "stdout"
        },
        {
          "output_type": "stream",
          "text": [
            "2021-03-11 01:38:08,828 Previous dataset split restored\n"
          ],
          "name": "stderr"
        },
        {
          "output_type": "stream",
          "text": [
            "n_cnt [1358.]\n",
            "y_means [6.59994988]\n",
            "y_stds [1.29836641]\n",
            "TIMING: dataset construction took 0.053 s\n",
            "Loading dataset from disk.\n",
            "TIMING: dataset construction took 0.011 s\n",
            "Loading dataset from disk.\n",
            "TIMING: dataset construction took 0.010 s\n",
            "Loading dataset from disk.\n"
          ],
          "name": "stdout"
        },
        {
          "output_type": "stream",
          "text": [
            "2021-03-11 01:38:10,254 Wrote model metadata to file ampl_output/H1_std/RF_ecfp_scaffold_regression/2a8df618-45d9-4b7a-acb4-0a4641a4046c/model_metadata.json\n",
            "2021-03-11 01:38:10,310 Wrote model metrics to file ampl_output/H1_std/RF_ecfp_scaffold_regression/2a8df618-45d9-4b7a-acb4-0a4641a4046c/model_metrics.json\n"
          ],
          "name": "stderr"
        },
        {
          "output_type": "stream",
          "text": [
            "Wrote model tarball to ampl_output/H1_std_model_2a8df618-45d9-4b7a-acb4-0a4641a4046c.tar.gz\n",
            "rf_estimators: 64, rf_max_depth: 128, rf_max_features: 128, valid_r2: 0.44510521121694857\n",
            "number of features: 1024\n"
          ],
          "name": "stdout"
        },
        {
          "output_type": "stream",
          "text": [
            "2021-03-11 01:38:15,860 Previous dataset split restored\n"
          ],
          "name": "stderr"
        },
        {
          "output_type": "stream",
          "text": [
            "n_cnt [1358.]\n",
            "y_means [6.59994988]\n",
            "y_stds [1.29836641]\n",
            "TIMING: dataset construction took 0.053 s\n",
            "Loading dataset from disk.\n",
            "TIMING: dataset construction took 0.010 s\n",
            "Loading dataset from disk.\n",
            "TIMING: dataset construction took 0.010 s\n",
            "Loading dataset from disk.\n"
          ],
          "name": "stdout"
        },
        {
          "output_type": "stream",
          "text": [
            "2021-03-11 01:38:17,133 Wrote model metadata to file ampl_output/H1_std/RF_ecfp_scaffold_regression/0fbe234c-8cfc-42d8-8160-b21139ed0782/model_metadata.json\n",
            "2021-03-11 01:38:17,198 Wrote model metrics to file ampl_output/H1_std/RF_ecfp_scaffold_regression/0fbe234c-8cfc-42d8-8160-b21139ed0782/model_metrics.json\n"
          ],
          "name": "stderr"
        },
        {
          "output_type": "stream",
          "text": [
            "Wrote model tarball to ampl_output/H1_std_model_0fbe234c-8cfc-42d8-8160-b21139ed0782.tar.gz\n",
            "rf_estimators: 128, rf_max_depth: 16, rf_max_features: 16, valid_r2: 0.37368949174610455\n",
            "number of features: 1024\n"
          ],
          "name": "stdout"
        },
        {
          "output_type": "stream",
          "text": [
            "2021-03-11 01:38:22,740 Previous dataset split restored\n"
          ],
          "name": "stderr"
        },
        {
          "output_type": "stream",
          "text": [
            "n_cnt [1358.]\n",
            "y_means [6.59994988]\n",
            "y_stds [1.29836641]\n",
            "TIMING: dataset construction took 0.053 s\n",
            "Loading dataset from disk.\n",
            "TIMING: dataset construction took 0.011 s\n",
            "Loading dataset from disk.\n",
            "TIMING: dataset construction took 0.010 s\n",
            "Loading dataset from disk.\n"
          ],
          "name": "stdout"
        },
        {
          "output_type": "stream",
          "text": [
            "2021-03-11 01:38:24,117 Wrote model metadata to file ampl_output/H1_std/RF_ecfp_scaffold_regression/3372b677-0666-4adc-83e1-746edf246944/model_metadata.json\n",
            "2021-03-11 01:38:24,185 Wrote model metrics to file ampl_output/H1_std/RF_ecfp_scaffold_regression/3372b677-0666-4adc-83e1-746edf246944/model_metrics.json\n"
          ],
          "name": "stderr"
        },
        {
          "output_type": "stream",
          "text": [
            "Wrote model tarball to ampl_output/H1_std_model_3372b677-0666-4adc-83e1-746edf246944.tar.gz\n",
            "rf_estimators: 128, rf_max_depth: 16, rf_max_features: 32, valid_r2: 0.4005204046981796\n",
            "number of features: 1024\n"
          ],
          "name": "stdout"
        },
        {
          "output_type": "stream",
          "text": [
            "2021-03-11 01:38:29,721 Previous dataset split restored\n"
          ],
          "name": "stderr"
        },
        {
          "output_type": "stream",
          "text": [
            "n_cnt [1358.]\n",
            "y_means [6.59994988]\n",
            "y_stds [1.29836641]\n",
            "TIMING: dataset construction took 0.052 s\n",
            "Loading dataset from disk.\n",
            "TIMING: dataset construction took 0.010 s\n",
            "Loading dataset from disk.\n",
            "TIMING: dataset construction took 0.012 s\n",
            "Loading dataset from disk.\n"
          ],
          "name": "stdout"
        },
        {
          "output_type": "stream",
          "text": [
            "2021-03-11 01:38:31,197 Wrote model metadata to file ampl_output/H1_std/RF_ecfp_scaffold_regression/ee9b5162-a96d-4e92-8ee4-c95e280a9e37/model_metadata.json\n",
            "2021-03-11 01:38:31,268 Wrote model metrics to file ampl_output/H1_std/RF_ecfp_scaffold_regression/ee9b5162-a96d-4e92-8ee4-c95e280a9e37/model_metrics.json\n"
          ],
          "name": "stderr"
        },
        {
          "output_type": "stream",
          "text": [
            "Wrote model tarball to ampl_output/H1_std_model_ee9b5162-a96d-4e92-8ee4-c95e280a9e37.tar.gz\n",
            "rf_estimators: 128, rf_max_depth: 16, rf_max_features: 64, valid_r2: 0.4460101409105154\n",
            "number of features: 1024\n"
          ],
          "name": "stdout"
        },
        {
          "output_type": "stream",
          "text": [
            "2021-03-11 01:38:36,771 Previous dataset split restored\n"
          ],
          "name": "stderr"
        },
        {
          "output_type": "stream",
          "text": [
            "n_cnt [1358.]\n",
            "y_means [6.59994988]\n",
            "y_stds [1.29836641]\n",
            "TIMING: dataset construction took 0.053 s\n",
            "Loading dataset from disk.\n",
            "TIMING: dataset construction took 0.010 s\n",
            "Loading dataset from disk.\n",
            "TIMING: dataset construction took 0.010 s\n",
            "Loading dataset from disk.\n"
          ],
          "name": "stdout"
        },
        {
          "output_type": "stream",
          "text": [
            "2021-03-11 01:38:38,547 Wrote model metadata to file ampl_output/H1_std/RF_ecfp_scaffold_regression/aad23cec-fbe8-4f76-9bd3-930cdd00c419/model_metadata.json\n",
            "2021-03-11 01:38:38,621 Wrote model metrics to file ampl_output/H1_std/RF_ecfp_scaffold_regression/aad23cec-fbe8-4f76-9bd3-930cdd00c419/model_metrics.json\n"
          ],
          "name": "stderr"
        },
        {
          "output_type": "stream",
          "text": [
            "Wrote model tarball to ampl_output/H1_std_model_aad23cec-fbe8-4f76-9bd3-930cdd00c419.tar.gz\n",
            "rf_estimators: 128, rf_max_depth: 16, rf_max_features: 128, valid_r2: 0.4519347213158277\n",
            "number of features: 1024\n"
          ],
          "name": "stdout"
        },
        {
          "output_type": "stream",
          "text": [
            "2021-03-11 01:38:44,104 Previous dataset split restored\n"
          ],
          "name": "stderr"
        },
        {
          "output_type": "stream",
          "text": [
            "n_cnt [1358.]\n",
            "y_means [6.59994988]\n",
            "y_stds [1.29836641]\n",
            "TIMING: dataset construction took 0.053 s\n",
            "Loading dataset from disk.\n",
            "TIMING: dataset construction took 0.010 s\n",
            "Loading dataset from disk.\n",
            "TIMING: dataset construction took 0.011 s\n",
            "Loading dataset from disk.\n"
          ],
          "name": "stdout"
        },
        {
          "output_type": "stream",
          "text": [
            "2021-03-11 01:38:45,524 Wrote model metadata to file ampl_output/H1_std/RF_ecfp_scaffold_regression/e3731d01-8da3-40b1-a18a-5bbd1c210664/model_metadata.json\n",
            "2021-03-11 01:38:45,630 Wrote model metrics to file ampl_output/H1_std/RF_ecfp_scaffold_regression/e3731d01-8da3-40b1-a18a-5bbd1c210664/model_metrics.json\n"
          ],
          "name": "stderr"
        },
        {
          "output_type": "stream",
          "text": [
            "Wrote model tarball to ampl_output/H1_std_model_e3731d01-8da3-40b1-a18a-5bbd1c210664.tar.gz\n",
            "rf_estimators: 128, rf_max_depth: 32, rf_max_features: 16, valid_r2: 0.423313042599617\n",
            "number of features: 1024\n"
          ],
          "name": "stdout"
        },
        {
          "output_type": "stream",
          "text": [
            "2021-03-11 01:38:51,104 Previous dataset split restored\n"
          ],
          "name": "stderr"
        },
        {
          "output_type": "stream",
          "text": [
            "n_cnt [1358.]\n",
            "y_means [6.59994988]\n",
            "y_stds [1.29836641]\n",
            "TIMING: dataset construction took 0.055 s\n",
            "Loading dataset from disk.\n",
            "TIMING: dataset construction took 0.011 s\n",
            "Loading dataset from disk.\n",
            "TIMING: dataset construction took 0.011 s\n",
            "Loading dataset from disk.\n"
          ],
          "name": "stdout"
        },
        {
          "output_type": "stream",
          "text": [
            "2021-03-11 01:38:52,643 Wrote model metadata to file ampl_output/H1_std/RF_ecfp_scaffold_regression/bb2eb246-de20-446d-9231-960ef443f250/model_metadata.json\n",
            "2021-03-11 01:38:52,752 Wrote model metrics to file ampl_output/H1_std/RF_ecfp_scaffold_regression/bb2eb246-de20-446d-9231-960ef443f250/model_metrics.json\n"
          ],
          "name": "stderr"
        },
        {
          "output_type": "stream",
          "text": [
            "Wrote model tarball to ampl_output/H1_std_model_bb2eb246-de20-446d-9231-960ef443f250.tar.gz\n",
            "rf_estimators: 128, rf_max_depth: 32, rf_max_features: 32, valid_r2: 0.446165130211445\n",
            "number of features: 1024\n"
          ],
          "name": "stdout"
        },
        {
          "output_type": "stream",
          "text": [
            "2021-03-11 01:38:58,218 Previous dataset split restored\n"
          ],
          "name": "stderr"
        },
        {
          "output_type": "stream",
          "text": [
            "n_cnt [1358.]\n",
            "y_means [6.59994988]\n",
            "y_stds [1.29836641]\n",
            "TIMING: dataset construction took 0.054 s\n",
            "Loading dataset from disk.\n",
            "TIMING: dataset construction took 0.011 s\n",
            "Loading dataset from disk.\n",
            "TIMING: dataset construction took 0.010 s\n",
            "Loading dataset from disk.\n"
          ],
          "name": "stdout"
        },
        {
          "output_type": "stream",
          "text": [
            "2021-03-11 01:38:59,957 Wrote model metadata to file ampl_output/H1_std/RF_ecfp_scaffold_regression/65e25dd4-cdee-4056-afd3-394122e64ef0/model_metadata.json\n",
            "2021-03-11 01:39:00,062 Wrote model metrics to file ampl_output/H1_std/RF_ecfp_scaffold_regression/65e25dd4-cdee-4056-afd3-394122e64ef0/model_metrics.json\n"
          ],
          "name": "stderr"
        },
        {
          "output_type": "stream",
          "text": [
            "Wrote model tarball to ampl_output/H1_std_model_65e25dd4-cdee-4056-afd3-394122e64ef0.tar.gz\n",
            "rf_estimators: 128, rf_max_depth: 32, rf_max_features: 64, valid_r2: 0.4510028684523142\n",
            "number of features: 1024\n"
          ],
          "name": "stdout"
        },
        {
          "output_type": "stream",
          "text": [
            "2021-03-11 01:39:05,520 Previous dataset split restored\n"
          ],
          "name": "stderr"
        },
        {
          "output_type": "stream",
          "text": [
            "n_cnt [1358.]\n",
            "y_means [6.59994988]\n",
            "y_stds [1.29836641]\n",
            "TIMING: dataset construction took 0.055 s\n",
            "Loading dataset from disk.\n",
            "TIMING: dataset construction took 0.011 s\n",
            "Loading dataset from disk.\n",
            "TIMING: dataset construction took 0.010 s\n",
            "Loading dataset from disk.\n"
          ],
          "name": "stdout"
        },
        {
          "output_type": "stream",
          "text": [
            "2021-03-11 01:39:07,558 Wrote model metadata to file ampl_output/H1_std/RF_ecfp_scaffold_regression/5f33b196-7aa8-40e3-b9b6-ecd828462d0a/model_metadata.json\n",
            "2021-03-11 01:39:07,661 Wrote model metrics to file ampl_output/H1_std/RF_ecfp_scaffold_regression/5f33b196-7aa8-40e3-b9b6-ecd828462d0a/model_metrics.json\n"
          ],
          "name": "stderr"
        },
        {
          "output_type": "stream",
          "text": [
            "Wrote model tarball to ampl_output/H1_std_model_5f33b196-7aa8-40e3-b9b6-ecd828462d0a.tar.gz\n",
            "rf_estimators: 128, rf_max_depth: 32, rf_max_features: 128, valid_r2: 0.47581366477807285\n",
            "number of features: 1024\n"
          ],
          "name": "stdout"
        },
        {
          "output_type": "stream",
          "text": [
            "2021-03-11 01:39:13,154 Previous dataset split restored\n"
          ],
          "name": "stderr"
        },
        {
          "output_type": "stream",
          "text": [
            "n_cnt [1358.]\n",
            "y_means [6.59994988]\n",
            "y_stds [1.29836641]\n",
            "TIMING: dataset construction took 0.052 s\n",
            "Loading dataset from disk.\n",
            "TIMING: dataset construction took 0.010 s\n",
            "Loading dataset from disk.\n",
            "TIMING: dataset construction took 0.014 s\n",
            "Loading dataset from disk.\n"
          ],
          "name": "stdout"
        },
        {
          "output_type": "stream",
          "text": [
            "2021-03-11 01:39:14,603 Wrote model metadata to file ampl_output/H1_std/RF_ecfp_scaffold_regression/0ec4cb05-74a0-4077-ac16-6c15e27a5be2/model_metadata.json\n",
            "2021-03-11 01:39:14,718 Wrote model metrics to file ampl_output/H1_std/RF_ecfp_scaffold_regression/0ec4cb05-74a0-4077-ac16-6c15e27a5be2/model_metrics.json\n"
          ],
          "name": "stderr"
        },
        {
          "output_type": "stream",
          "text": [
            "Wrote model tarball to ampl_output/H1_std_model_0ec4cb05-74a0-4077-ac16-6c15e27a5be2.tar.gz\n",
            "rf_estimators: 128, rf_max_depth: 64, rf_max_features: 16, valid_r2: 0.4336672236439355\n",
            "number of features: 1024\n"
          ],
          "name": "stdout"
        },
        {
          "output_type": "stream",
          "text": [
            "2021-03-11 01:39:20,198 Previous dataset split restored\n"
          ],
          "name": "stderr"
        },
        {
          "output_type": "stream",
          "text": [
            "n_cnt [1358.]\n",
            "y_means [6.59994988]\n",
            "y_stds [1.29836641]\n",
            "TIMING: dataset construction took 0.053 s\n",
            "Loading dataset from disk.\n",
            "TIMING: dataset construction took 0.010 s\n",
            "Loading dataset from disk.\n",
            "TIMING: dataset construction took 0.010 s\n",
            "Loading dataset from disk.\n"
          ],
          "name": "stdout"
        },
        {
          "output_type": "stream",
          "text": [
            "2021-03-11 01:39:21,840 Wrote model metadata to file ampl_output/H1_std/RF_ecfp_scaffold_regression/8324ba19-2db4-4367-854d-37199542eb18/model_metadata.json\n",
            "2021-03-11 01:39:21,949 Wrote model metrics to file ampl_output/H1_std/RF_ecfp_scaffold_regression/8324ba19-2db4-4367-854d-37199542eb18/model_metrics.json\n"
          ],
          "name": "stderr"
        },
        {
          "output_type": "stream",
          "text": [
            "Wrote model tarball to ampl_output/H1_std_model_8324ba19-2db4-4367-854d-37199542eb18.tar.gz\n",
            "rf_estimators: 128, rf_max_depth: 64, rf_max_features: 32, valid_r2: 0.4390007657611582\n",
            "number of features: 1024\n"
          ],
          "name": "stdout"
        },
        {
          "output_type": "stream",
          "text": [
            "2021-03-11 01:39:27,445 Previous dataset split restored\n"
          ],
          "name": "stderr"
        },
        {
          "output_type": "stream",
          "text": [
            "n_cnt [1358.]\n",
            "y_means [6.59994988]\n",
            "y_stds [1.29836641]\n",
            "TIMING: dataset construction took 0.069 s\n",
            "Loading dataset from disk.\n",
            "TIMING: dataset construction took 0.016 s\n",
            "Loading dataset from disk.\n",
            "TIMING: dataset construction took 0.011 s\n",
            "Loading dataset from disk.\n"
          ],
          "name": "stdout"
        },
        {
          "output_type": "stream",
          "text": [
            "2021-03-11 01:39:29,210 Wrote model metadata to file ampl_output/H1_std/RF_ecfp_scaffold_regression/b99acf4a-b1a0-4793-9432-54b8f107e09d/model_metadata.json\n",
            "2021-03-11 01:39:29,320 Wrote model metrics to file ampl_output/H1_std/RF_ecfp_scaffold_regression/b99acf4a-b1a0-4793-9432-54b8f107e09d/model_metrics.json\n"
          ],
          "name": "stderr"
        },
        {
          "output_type": "stream",
          "text": [
            "Wrote model tarball to ampl_output/H1_std_model_b99acf4a-b1a0-4793-9432-54b8f107e09d.tar.gz\n",
            "rf_estimators: 128, rf_max_depth: 64, rf_max_features: 64, valid_r2: 0.44158492360217927\n",
            "number of features: 1024\n"
          ],
          "name": "stdout"
        },
        {
          "output_type": "stream",
          "text": [
            "2021-03-11 01:39:34,845 Previous dataset split restored\n"
          ],
          "name": "stderr"
        },
        {
          "output_type": "stream",
          "text": [
            "n_cnt [1358.]\n",
            "y_means [6.59994988]\n",
            "y_stds [1.29836641]\n",
            "TIMING: dataset construction took 0.053 s\n",
            "Loading dataset from disk.\n",
            "TIMING: dataset construction took 0.010 s\n",
            "Loading dataset from disk.\n",
            "TIMING: dataset construction took 0.010 s\n",
            "Loading dataset from disk.\n"
          ],
          "name": "stdout"
        },
        {
          "output_type": "stream",
          "text": [
            "2021-03-11 01:39:36,872 Wrote model metadata to file ampl_output/H1_std/RF_ecfp_scaffold_regression/2db7c875-51e6-4e14-845a-97c47689bd43/model_metadata.json\n",
            "2021-03-11 01:39:36,983 Wrote model metrics to file ampl_output/H1_std/RF_ecfp_scaffold_regression/2db7c875-51e6-4e14-845a-97c47689bd43/model_metrics.json\n"
          ],
          "name": "stderr"
        },
        {
          "output_type": "stream",
          "text": [
            "Wrote model tarball to ampl_output/H1_std_model_2db7c875-51e6-4e14-845a-97c47689bd43.tar.gz\n",
            "rf_estimators: 128, rf_max_depth: 64, rf_max_features: 128, valid_r2: 0.4708845328503929\n",
            "number of features: 1024\n"
          ],
          "name": "stdout"
        },
        {
          "output_type": "stream",
          "text": [
            "2021-03-11 01:39:42,485 Previous dataset split restored\n"
          ],
          "name": "stderr"
        },
        {
          "output_type": "stream",
          "text": [
            "n_cnt [1358.]\n",
            "y_means [6.59994988]\n",
            "y_stds [1.29836641]\n",
            "TIMING: dataset construction took 0.051 s\n",
            "Loading dataset from disk.\n",
            "TIMING: dataset construction took 0.010 s\n",
            "Loading dataset from disk.\n",
            "TIMING: dataset construction took 0.010 s\n",
            "Loading dataset from disk.\n"
          ],
          "name": "stdout"
        },
        {
          "output_type": "stream",
          "text": [
            "2021-03-11 01:39:43,908 Wrote model metadata to file ampl_output/H1_std/RF_ecfp_scaffold_regression/327b1bf6-7b1d-4734-9d73-8579a7f21dc7/model_metadata.json\n",
            "2021-03-11 01:39:44,018 Wrote model metrics to file ampl_output/H1_std/RF_ecfp_scaffold_regression/327b1bf6-7b1d-4734-9d73-8579a7f21dc7/model_metrics.json\n"
          ],
          "name": "stderr"
        },
        {
          "output_type": "stream",
          "text": [
            "Wrote model tarball to ampl_output/H1_std_model_327b1bf6-7b1d-4734-9d73-8579a7f21dc7.tar.gz\n",
            "rf_estimators: 128, rf_max_depth: 128, rf_max_features: 16, valid_r2: 0.41602781191381655\n",
            "number of features: 1024\n"
          ],
          "name": "stdout"
        },
        {
          "output_type": "stream",
          "text": [
            "2021-03-11 01:39:49,589 Previous dataset split restored\n"
          ],
          "name": "stderr"
        },
        {
          "output_type": "stream",
          "text": [
            "n_cnt [1358.]\n",
            "y_means [6.59994988]\n",
            "y_stds [1.29836641]\n",
            "TIMING: dataset construction took 0.056 s\n",
            "Loading dataset from disk.\n",
            "TIMING: dataset construction took 0.010 s\n",
            "Loading dataset from disk.\n",
            "TIMING: dataset construction took 0.011 s\n",
            "Loading dataset from disk.\n"
          ],
          "name": "stdout"
        },
        {
          "output_type": "stream",
          "text": [
            "2021-03-11 01:39:51,132 Wrote model metadata to file ampl_output/H1_std/RF_ecfp_scaffold_regression/ac7ce796-7c5d-43b1-b80b-d17442b1cfd6/model_metadata.json\n",
            "2021-03-11 01:39:51,242 Wrote model metrics to file ampl_output/H1_std/RF_ecfp_scaffold_regression/ac7ce796-7c5d-43b1-b80b-d17442b1cfd6/model_metrics.json\n"
          ],
          "name": "stderr"
        },
        {
          "output_type": "stream",
          "text": [
            "Wrote model tarball to ampl_output/H1_std_model_ac7ce796-7c5d-43b1-b80b-d17442b1cfd6.tar.gz\n",
            "rf_estimators: 128, rf_max_depth: 128, rf_max_features: 32, valid_r2: 0.43448385058847294\n",
            "number of features: 1024\n"
          ],
          "name": "stdout"
        },
        {
          "output_type": "stream",
          "text": [
            "2021-03-11 01:39:56,709 Previous dataset split restored\n"
          ],
          "name": "stderr"
        },
        {
          "output_type": "stream",
          "text": [
            "n_cnt [1358.]\n",
            "y_means [6.59994988]\n",
            "y_stds [1.29836641]\n",
            "TIMING: dataset construction took 0.052 s\n",
            "Loading dataset from disk.\n",
            "TIMING: dataset construction took 0.010 s\n",
            "Loading dataset from disk.\n",
            "TIMING: dataset construction took 0.010 s\n",
            "Loading dataset from disk.\n"
          ],
          "name": "stdout"
        },
        {
          "output_type": "stream",
          "text": [
            "2021-03-11 01:39:58,441 Wrote model metadata to file ampl_output/H1_std/RF_ecfp_scaffold_regression/db0e8f0f-0ab5-47cb-88f2-daec60469f1a/model_metadata.json\n",
            "2021-03-11 01:39:58,550 Wrote model metrics to file ampl_output/H1_std/RF_ecfp_scaffold_regression/db0e8f0f-0ab5-47cb-88f2-daec60469f1a/model_metrics.json\n"
          ],
          "name": "stderr"
        },
        {
          "output_type": "stream",
          "text": [
            "Wrote model tarball to ampl_output/H1_std_model_db0e8f0f-0ab5-47cb-88f2-daec60469f1a.tar.gz\n",
            "rf_estimators: 128, rf_max_depth: 128, rf_max_features: 64, valid_r2: 0.4520777148703231\n",
            "number of features: 1024\n"
          ],
          "name": "stdout"
        },
        {
          "output_type": "stream",
          "text": [
            "2021-03-11 01:40:04,066 Previous dataset split restored\n"
          ],
          "name": "stderr"
        },
        {
          "output_type": "stream",
          "text": [
            "n_cnt [1358.]\n",
            "y_means [6.59994988]\n",
            "y_stds [1.29836641]\n",
            "TIMING: dataset construction took 0.053 s\n",
            "Loading dataset from disk.\n",
            "TIMING: dataset construction took 0.010 s\n",
            "Loading dataset from disk.\n",
            "TIMING: dataset construction took 0.012 s\n",
            "Loading dataset from disk.\n"
          ],
          "name": "stdout"
        },
        {
          "output_type": "stream",
          "text": [
            "2021-03-11 01:40:06,090 Wrote model metadata to file ampl_output/H1_std/RF_ecfp_scaffold_regression/3047ceee-5e24-4a68-a150-fec2b4769451/model_metadata.json\n",
            "2021-03-11 01:40:06,196 Wrote model metrics to file ampl_output/H1_std/RF_ecfp_scaffold_regression/3047ceee-5e24-4a68-a150-fec2b4769451/model_metrics.json\n"
          ],
          "name": "stderr"
        },
        {
          "output_type": "stream",
          "text": [
            "Wrote model tarball to ampl_output/H1_std_model_3047ceee-5e24-4a68-a150-fec2b4769451.tar.gz\n",
            "rf_estimators: 128, rf_max_depth: 128, rf_max_features: 128, valid_r2: 0.45208534872574513\n"
          ],
          "name": "stdout"
        }
      ]
    },
    {
      "cell_type": "code",
      "metadata": {
        "id": "XSDa2HTH6wbD",
        "outputId": "bc9cbb4e-42f4-4d46-d0f2-11ff12077a69",
        "colab": {
          "base_uri": "https://localhost:8080/",
          "height": 407
        }
      },
      "source": [
        "perf_df = pd.DataFrame({\"rf_estimators\": rfe_list, \"rf_max_depth\": rfd_list, \"rf_max_features\": rff_list, \"valid_r2_score\": valid_r2_list})\n",
        "perf_df.sort_values(by=\"valid_r2_score\", ascending=False)"
      ],
      "execution_count": 35,
      "outputs": [
        {
          "output_type": "execute_result",
          "data": {
            "text/html": [
              "<div>\n",
              "<style scoped>\n",
              "    .dataframe tbody tr th:only-of-type {\n",
              "        vertical-align: middle;\n",
              "    }\n",
              "\n",
              "    .dataframe tbody tr th {\n",
              "        vertical-align: top;\n",
              "    }\n",
              "\n",
              "    .dataframe thead th {\n",
              "        text-align: right;\n",
              "    }\n",
              "</style>\n",
              "<table border=\"1\" class=\"dataframe\">\n",
              "  <thead>\n",
              "    <tr style=\"text-align: right;\">\n",
              "      <th></th>\n",
              "      <th>rf_estimators</th>\n",
              "      <th>rf_max_depth</th>\n",
              "      <th>rf_max_features</th>\n",
              "      <th>valid_r2_score</th>\n",
              "    </tr>\n",
              "  </thead>\n",
              "  <tbody>\n",
              "    <tr>\n",
              "      <th>38</th>\n",
              "      <td>64</td>\n",
              "      <td>32</td>\n",
              "      <td>64</td>\n",
              "      <td>0.483515</td>\n",
              "    </tr>\n",
              "    <tr>\n",
              "      <th>55</th>\n",
              "      <td>128</td>\n",
              "      <td>32</td>\n",
              "      <td>128</td>\n",
              "      <td>0.475814</td>\n",
              "    </tr>\n",
              "    <tr>\n",
              "      <th>59</th>\n",
              "      <td>128</td>\n",
              "      <td>64</td>\n",
              "      <td>128</td>\n",
              "      <td>0.470885</td>\n",
              "    </tr>\n",
              "    <tr>\n",
              "      <th>19</th>\n",
              "      <td>32</td>\n",
              "      <td>16</td>\n",
              "      <td>128</td>\n",
              "      <td>0.466725</td>\n",
              "    </tr>\n",
              "    <tr>\n",
              "      <th>30</th>\n",
              "      <td>32</td>\n",
              "      <td>128</td>\n",
              "      <td>64</td>\n",
              "      <td>0.459752</td>\n",
              "    </tr>\n",
              "    <tr>\n",
              "      <th>...</th>\n",
              "      <td>...</td>\n",
              "      <td>...</td>\n",
              "      <td>...</td>\n",
              "      <td>...</td>\n",
              "    </tr>\n",
              "    <tr>\n",
              "      <th>12</th>\n",
              "      <td>16</td>\n",
              "      <td>128</td>\n",
              "      <td>16</td>\n",
              "      <td>0.363978</td>\n",
              "    </tr>\n",
              "    <tr>\n",
              "      <th>16</th>\n",
              "      <td>32</td>\n",
              "      <td>16</td>\n",
              "      <td>16</td>\n",
              "      <td>0.362403</td>\n",
              "    </tr>\n",
              "    <tr>\n",
              "      <th>8</th>\n",
              "      <td>16</td>\n",
              "      <td>64</td>\n",
              "      <td>16</td>\n",
              "      <td>0.360330</td>\n",
              "    </tr>\n",
              "    <tr>\n",
              "      <th>4</th>\n",
              "      <td>16</td>\n",
              "      <td>32</td>\n",
              "      <td>16</td>\n",
              "      <td>0.348452</td>\n",
              "    </tr>\n",
              "    <tr>\n",
              "      <th>13</th>\n",
              "      <td>16</td>\n",
              "      <td>128</td>\n",
              "      <td>32</td>\n",
              "      <td>0.333496</td>\n",
              "    </tr>\n",
              "  </tbody>\n",
              "</table>\n",
              "<p>64 rows × 4 columns</p>\n",
              "</div>"
            ],
            "text/plain": [
              "    rf_estimators  rf_max_depth  rf_max_features  valid_r2_score\n",
              "38             64            32               64        0.483515\n",
              "55            128            32              128        0.475814\n",
              "59            128            64              128        0.470885\n",
              "19             32            16              128        0.466725\n",
              "30             32           128               64        0.459752\n",
              "..            ...           ...              ...             ...\n",
              "12             16           128               16        0.363978\n",
              "16             32            16               16        0.362403\n",
              "8              16            64               16        0.360330\n",
              "4              16            32               16        0.348452\n",
              "13             16           128               32        0.333496\n",
              "\n",
              "[64 rows x 4 columns]"
            ]
          },
          "metadata": {
            "tags": []
          },
          "execution_count": 35
        }
      ]
    },
    {
      "cell_type": "code",
      "metadata": {
        "id": "9bVXltSu6z0f",
        "outputId": "b356cfab-c35e-4fd4-f1f2-fd7de86c7cdd",
        "colab": {
          "base_uri": "https://localhost:8080/",
          "height": 483
        }
      },
      "source": [
        "fig, ax = plt.subplots(1,3,figsize=(21,7))\n",
        "sns.boxplot(data=perf_df, x=\"rf_estimators\", y=\"valid_r2_score\", ax=ax[0])\n",
        "sns.boxplot(data=perf_df, x=\"rf_max_depth\", y=\"valid_r2_score\", ax=ax[1])\n",
        "sns.boxplot(data=perf_df, x=\"rf_max_features\", y=\"valid_r2_score\", ax=ax[2])\n",
        "fig.tight_layout()"
      ],
      "execution_count": 36,
      "outputs": [
        {
          "output_type": "display_data",
          "data": {
            "image/png": "[encoded data removed]",
            "text/plain": [
              "<Figure size 1512x504 with 3 Axes>"
            ]
          },
          "metadata": {
            "tags": []
          }
        }
      ]
    },
    {
      "cell_type": "markdown",
      "metadata": {
        "id": "qpAq__JA61wy"
      },
      "source": [
        "### Random search"
      ]
    },
    {
      "cell_type": "code",
      "metadata": {
        "id": "LMNkU4rs648c",
        "outputId": "970b72b4-821c-4a27-9272-08cb6e219637",
        "colab": {
          "base_uri": "https://localhost:8080/"
        }
      },
      "source": [
        "rfe_list = []\n",
        "rfd_list = []\n",
        "rff_list = []\n",
        "valid_r2_list = []\n",
        "\n",
        "num_trials = 50\n",
        "\n",
        "for i in range(num_trials):\n",
        "    params[\"rf_estimators\"] = np.random.randint(8,256)\n",
        "    params[\"rf_max_depth\"] = np.random.randint(8,256)\n",
        "    params[\"rf_max_features\"] = np.random.randint(8,256)\n",
        "    rfe_list.append(params[\"rf_estimators\"])\n",
        "    rfd_list.append(params[\"rf_max_depth\"])\n",
        "    rff_list.append(params[\"rf_max_features\"])\n",
        "    tp = parse.wrapper(params)\n",
        "    pl = mp.ModelPipeline(tp)\n",
        "    pl.train_model()\n",
        "    pred_data = pl.model_wrapper.get_perf_data(subset=\"valid\", epoch_label=\"best\")\n",
        "    pred_results = pred_data.get_prediction_results()\n",
        "    valid_r2 = pred_results['r2_score']\n",
        "    valid_r2_list.append(valid_r2)\n",
        "    print(f\"rf_estimators: {rf_estimator}, rf_max_depth: {rf_depth}, rf_max_features: {rf_feature}, valid_r2: {valid_r2}\")"
      ],
      "execution_count": 37,
      "outputs": [
        {
          "output_type": "stream",
          "text": [
            "number of features: 1024\n"
          ],
          "name": "stdout"
        },
        {
          "output_type": "stream",
          "text": [
            "2021-03-11 01:40:52,955 Previous dataset split restored\n"
          ],
          "name": "stderr"
        },
        {
          "output_type": "stream",
          "text": [
            "n_cnt [1358.]\n",
            "y_means [6.59994988]\n",
            "y_stds [1.29836641]\n",
            "TIMING: dataset construction took 0.057 s\n",
            "Loading dataset from disk.\n",
            "TIMING: dataset construction took 0.013 s\n",
            "Loading dataset from disk.\n",
            "TIMING: dataset construction took 0.012 s\n",
            "Loading dataset from disk.\n"
          ],
          "name": "stdout"
        },
        {
          "output_type": "stream",
          "text": [
            "2021-03-11 01:40:54,129 Wrote model metadata to file ampl_output/H1_std/RF_ecfp_scaffold_regression/b1e699c4-09bb-415c-ac98-e58431bc4981/model_metadata.json\n",
            "2021-03-11 01:40:54,158 Wrote model metrics to file ampl_output/H1_std/RF_ecfp_scaffold_regression/b1e699c4-09bb-415c-ac98-e58431bc4981/model_metrics.json\n"
          ],
          "name": "stderr"
        },
        {
          "output_type": "stream",
          "text": [
            "Wrote model tarball to ampl_output/H1_std_model_b1e699c4-09bb-415c-ac98-e58431bc4981.tar.gz\n",
            "rf_estimators: 128, rf_max_depth: 128, rf_max_features: 128, valid_r2: 0.4511414380760346\n",
            "number of features: 1024\n"
          ],
          "name": "stdout"
        },
        {
          "output_type": "stream",
          "text": [
            "2021-03-11 01:40:59,713 Previous dataset split restored\n"
          ],
          "name": "stderr"
        },
        {
          "output_type": "stream",
          "text": [
            "n_cnt [1358.]\n",
            "y_means [6.59994988]\n",
            "y_stds [1.29836641]\n",
            "TIMING: dataset construction took 0.052 s\n",
            "Loading dataset from disk.\n",
            "TIMING: dataset construction took 0.010 s\n",
            "Loading dataset from disk.\n",
            "TIMING: dataset construction took 0.011 s\n",
            "Loading dataset from disk.\n"
          ],
          "name": "stdout"
        },
        {
          "output_type": "stream",
          "text": [
            "2021-03-11 01:41:02,180 Wrote model metadata to file ampl_output/H1_std/RF_ecfp_scaffold_regression/8f60850f-635a-41fe-9d89-e1dc6d54ade7/model_metadata.json\n",
            "2021-03-11 01:41:02,392 Wrote model metrics to file ampl_output/H1_std/RF_ecfp_scaffold_regression/8f60850f-635a-41fe-9d89-e1dc6d54ade7/model_metrics.json\n"
          ],
          "name": "stderr"
        },
        {
          "output_type": "stream",
          "text": [
            "Wrote model tarball to ampl_output/H1_std_model_8f60850f-635a-41fe-9d89-e1dc6d54ade7.tar.gz\n",
            "rf_estimators: 128, rf_max_depth: 128, rf_max_features: 128, valid_r2: 0.4530653037460841\n",
            "number of features: 1024\n"
          ],
          "name": "stdout"
        },
        {
          "output_type": "stream",
          "text": [
            "2021-03-11 01:41:07,887 Previous dataset split restored\n"
          ],
          "name": "stderr"
        },
        {
          "output_type": "stream",
          "text": [
            "n_cnt [1358.]\n",
            "y_means [6.59994988]\n",
            "y_stds [1.29836641]\n",
            "TIMING: dataset construction took 0.054 s\n",
            "Loading dataset from disk.\n",
            "TIMING: dataset construction took 0.010 s\n",
            "Loading dataset from disk.\n",
            "TIMING: dataset construction took 0.010 s\n",
            "Loading dataset from disk.\n"
          ],
          "name": "stdout"
        },
        {
          "output_type": "stream",
          "text": [
            "2021-03-11 01:41:10,622 Wrote model metadata to file ampl_output/H1_std/RF_ecfp_scaffold_regression/efc1afe1-b22f-4f60-b973-4eeaac9eb536/model_metadata.json\n",
            "2021-03-11 01:41:10,775 Wrote model metrics to file ampl_output/H1_std/RF_ecfp_scaffold_regression/efc1afe1-b22f-4f60-b973-4eeaac9eb536/model_metrics.json\n"
          ],
          "name": "stderr"
        },
        {
          "output_type": "stream",
          "text": [
            "Wrote model tarball to ampl_output/H1_std_model_efc1afe1-b22f-4f60-b973-4eeaac9eb536.tar.gz\n",
            "rf_estimators: 128, rf_max_depth: 128, rf_max_features: 128, valid_r2: 0.45980659634475474\n",
            "number of features: 1024\n"
          ],
          "name": "stdout"
        },
        {
          "output_type": "stream",
          "text": [
            "2021-03-11 01:41:16,239 Previous dataset split restored\n"
          ],
          "name": "stderr"
        },
        {
          "output_type": "stream",
          "text": [
            "n_cnt [1358.]\n",
            "y_means [6.59994988]\n",
            "y_stds [1.29836641]\n",
            "TIMING: dataset construction took 0.053 s\n",
            "Loading dataset from disk.\n",
            "TIMING: dataset construction took 0.014 s\n",
            "Loading dataset from disk.\n",
            "TIMING: dataset construction took 0.013 s\n",
            "Loading dataset from disk.\n"
          ],
          "name": "stdout"
        },
        {
          "output_type": "stream",
          "text": [
            "2021-03-11 01:41:17,784 Wrote model metadata to file ampl_output/H1_std/RF_ecfp_scaffold_regression/e4a45a10-fcee-471d-bf70-2b92cf2d6c96/model_metadata.json\n",
            "2021-03-11 01:41:17,844 Wrote model metrics to file ampl_output/H1_std/RF_ecfp_scaffold_regression/e4a45a10-fcee-471d-bf70-2b92cf2d6c96/model_metrics.json\n"
          ],
          "name": "stderr"
        },
        {
          "output_type": "stream",
          "text": [
            "Wrote model tarball to ampl_output/H1_std_model_e4a45a10-fcee-471d-bf70-2b92cf2d6c96.tar.gz\n",
            "rf_estimators: 128, rf_max_depth: 128, rf_max_features: 128, valid_r2: 0.4644869700436911\n",
            "number of features: 1024\n"
          ],
          "name": "stdout"
        },
        {
          "output_type": "stream",
          "text": [
            "2021-03-11 01:41:23,350 Previous dataset split restored\n"
          ],
          "name": "stderr"
        },
        {
          "output_type": "stream",
          "text": [
            "n_cnt [1358.]\n",
            "y_means [6.59994988]\n",
            "y_stds [1.29836641]\n",
            "TIMING: dataset construction took 0.057 s\n",
            "Loading dataset from disk.\n",
            "TIMING: dataset construction took 0.010 s\n",
            "Loading dataset from disk.\n",
            "TIMING: dataset construction took 0.010 s\n",
            "Loading dataset from disk.\n"
          ],
          "name": "stdout"
        },
        {
          "output_type": "stream",
          "text": [
            "2021-03-11 01:41:24,541 Wrote model metadata to file ampl_output/H1_std/RF_ecfp_scaffold_regression/e86c003c-1607-4315-bae9-281ef5cd315a/model_metadata.json\n",
            "2021-03-11 01:41:24,580 Wrote model metrics to file ampl_output/H1_std/RF_ecfp_scaffold_regression/e86c003c-1607-4315-bae9-281ef5cd315a/model_metrics.json\n"
          ],
          "name": "stderr"
        },
        {
          "output_type": "stream",
          "text": [
            "Wrote model tarball to ampl_output/H1_std_model_e86c003c-1607-4315-bae9-281ef5cd315a.tar.gz\n",
            "rf_estimators: 128, rf_max_depth: 128, rf_max_features: 128, valid_r2: 0.44850337544269825\n",
            "number of features: 1024\n"
          ],
          "name": "stdout"
        },
        {
          "output_type": "stream",
          "text": [
            "2021-03-11 01:41:30,116 Previous dataset split restored\n"
          ],
          "name": "stderr"
        },
        {
          "output_type": "stream",
          "text": [
            "n_cnt [1358.]\n",
            "y_means [6.59994988]\n",
            "y_stds [1.29836641]\n",
            "TIMING: dataset construction took 0.052 s\n",
            "Loading dataset from disk.\n",
            "TIMING: dataset construction took 0.010 s\n",
            "Loading dataset from disk.\n",
            "TIMING: dataset construction took 0.010 s\n",
            "Loading dataset from disk.\n"
          ],
          "name": "stdout"
        },
        {
          "output_type": "stream",
          "text": [
            "2021-03-11 01:41:34,261 Wrote model metadata to file ampl_output/H1_std/RF_ecfp_scaffold_regression/daaf0268-dfad-4e4f-abd6-518569c518a9/model_metadata.json\n",
            "2021-03-11 01:41:34,455 Wrote model metrics to file ampl_output/H1_std/RF_ecfp_scaffold_regression/daaf0268-dfad-4e4f-abd6-518569c518a9/model_metrics.json\n"
          ],
          "name": "stderr"
        },
        {
          "output_type": "stream",
          "text": [
            "Wrote model tarball to ampl_output/H1_std_model_daaf0268-dfad-4e4f-abd6-518569c518a9.tar.gz\n",
            "rf_estimators: 128, rf_max_depth: 128, rf_max_features: 128, valid_r2: 0.47399932932289135\n",
            "number of features: 1024\n"
          ],
          "name": "stdout"
        },
        {
          "output_type": "stream",
          "text": [
            "2021-03-11 01:41:40,030 Previous dataset split restored\n"
          ],
          "name": "stderr"
        },
        {
          "output_type": "stream",
          "text": [
            "n_cnt [1358.]\n",
            "y_means [6.59994988]\n",
            "y_stds [1.29836641]\n",
            "TIMING: dataset construction took 0.052 s\n",
            "Loading dataset from disk.\n",
            "TIMING: dataset construction took 0.010 s\n",
            "Loading dataset from disk.\n",
            "TIMING: dataset construction took 0.010 s\n",
            "Loading dataset from disk.\n"
          ],
          "name": "stdout"
        },
        {
          "output_type": "stream",
          "text": [
            "2021-03-11 01:41:43,235 Wrote model metadata to file ampl_output/H1_std/RF_ecfp_scaffold_regression/f0135423-705b-4cab-8cb7-81b1576a189e/model_metadata.json\n",
            "2021-03-11 01:41:43,373 Wrote model metrics to file ampl_output/H1_std/RF_ecfp_scaffold_regression/f0135423-705b-4cab-8cb7-81b1576a189e/model_metrics.json\n"
          ],
          "name": "stderr"
        },
        {
          "output_type": "stream",
          "text": [
            "Wrote model tarball to ampl_output/H1_std_model_f0135423-705b-4cab-8cb7-81b1576a189e.tar.gz\n",
            "rf_estimators: 128, rf_max_depth: 128, rf_max_features: 128, valid_r2: 0.4499585660191181\n",
            "number of features: 1024\n"
          ],
          "name": "stdout"
        },
        {
          "output_type": "stream",
          "text": [
            "2021-03-11 01:41:48,888 Previous dataset split restored\n"
          ],
          "name": "stderr"
        },
        {
          "output_type": "stream",
          "text": [
            "n_cnt [1358.]\n",
            "y_means [6.59994988]\n",
            "y_stds [1.29836641]\n",
            "TIMING: dataset construction took 0.052 s\n",
            "Loading dataset from disk.\n",
            "TIMING: dataset construction took 0.010 s\n",
            "Loading dataset from disk.\n",
            "TIMING: dataset construction took 0.010 s\n",
            "Loading dataset from disk.\n"
          ],
          "name": "stdout"
        },
        {
          "output_type": "stream",
          "text": [
            "2021-03-11 01:41:50,347 Wrote model metadata to file ampl_output/H1_std/RF_ecfp_scaffold_regression/8961e38f-7061-4230-8c6b-c7b2c0740656/model_metadata.json\n",
            "2021-03-11 01:41:50,423 Wrote model metrics to file ampl_output/H1_std/RF_ecfp_scaffold_regression/8961e38f-7061-4230-8c6b-c7b2c0740656/model_metrics.json\n"
          ],
          "name": "stderr"
        },
        {
          "output_type": "stream",
          "text": [
            "Wrote model tarball to ampl_output/H1_std_model_8961e38f-7061-4230-8c6b-c7b2c0740656.tar.gz\n",
            "rf_estimators: 128, rf_max_depth: 128, rf_max_features: 128, valid_r2: 0.4613329713579093\n",
            "number of features: 1024\n"
          ],
          "name": "stdout"
        },
        {
          "output_type": "stream",
          "text": [
            "2021-03-11 01:41:55,982 Previous dataset split restored\n"
          ],
          "name": "stderr"
        },
        {
          "output_type": "stream",
          "text": [
            "n_cnt [1358.]\n",
            "y_means [6.59994988]\n",
            "y_stds [1.29836641]\n",
            "TIMING: dataset construction took 0.051 s\n",
            "Loading dataset from disk.\n",
            "TIMING: dataset construction took 0.010 s\n",
            "Loading dataset from disk.\n",
            "TIMING: dataset construction took 0.010 s\n",
            "Loading dataset from disk.\n"
          ],
          "name": "stdout"
        },
        {
          "output_type": "stream",
          "text": [
            "2021-03-11 01:41:56,845 Wrote model metadata to file ampl_output/H1_std/RF_ecfp_scaffold_regression/74b2576c-17b5-45e1-b125-e855a682f8e0/model_metadata.json\n",
            "2021-03-11 01:41:56,857 Wrote model metrics to file ampl_output/H1_std/RF_ecfp_scaffold_regression/74b2576c-17b5-45e1-b125-e855a682f8e0/model_metrics.json\n"
          ],
          "name": "stderr"
        },
        {
          "output_type": "stream",
          "text": [
            "Wrote model tarball to ampl_output/H1_std_model_74b2576c-17b5-45e1-b125-e855a682f8e0.tar.gz\n",
            "rf_estimators: 128, rf_max_depth: 128, rf_max_features: 128, valid_r2: 0.2497576520046484\n",
            "number of features: 1024\n"
          ],
          "name": "stdout"
        },
        {
          "output_type": "stream",
          "text": [
            "2021-03-11 01:42:02,446 Previous dataset split restored\n"
          ],
          "name": "stderr"
        },
        {
          "output_type": "stream",
          "text": [
            "n_cnt [1358.]\n",
            "y_means [6.59994988]\n",
            "y_stds [1.29836641]\n",
            "TIMING: dataset construction took 0.052 s\n",
            "Loading dataset from disk.\n",
            "TIMING: dataset construction took 0.010 s\n",
            "Loading dataset from disk.\n",
            "TIMING: dataset construction took 0.010 s\n",
            "Loading dataset from disk.\n"
          ],
          "name": "stdout"
        },
        {
          "output_type": "stream",
          "text": [
            "2021-03-11 01:42:04,229 Wrote model metadata to file ampl_output/H1_std/RF_ecfp_scaffold_regression/2b58cf82-c7f2-4ad9-8258-5d19b3ebdca6/model_metadata.json\n",
            "2021-03-11 01:42:04,310 Wrote model metrics to file ampl_output/H1_std/RF_ecfp_scaffold_regression/2b58cf82-c7f2-4ad9-8258-5d19b3ebdca6/model_metrics.json\n"
          ],
          "name": "stderr"
        },
        {
          "output_type": "stream",
          "text": [
            "Wrote model tarball to ampl_output/H1_std_model_2b58cf82-c7f2-4ad9-8258-5d19b3ebdca6.tar.gz\n",
            "rf_estimators: 128, rf_max_depth: 128, rf_max_features: 128, valid_r2: 0.4702789789550772\n",
            "number of features: 1024\n"
          ],
          "name": "stdout"
        },
        {
          "output_type": "stream",
          "text": [
            "2021-03-11 01:42:09,832 Previous dataset split restored\n"
          ],
          "name": "stderr"
        },
        {
          "output_type": "stream",
          "text": [
            "n_cnt [1358.]\n",
            "y_means [6.59994988]\n",
            "y_stds [1.29836641]\n",
            "TIMING: dataset construction took 0.052 s\n",
            "Loading dataset from disk.\n",
            "TIMING: dataset construction took 0.010 s\n",
            "Loading dataset from disk.\n",
            "TIMING: dataset construction took 0.010 s\n",
            "Loading dataset from disk.\n"
          ],
          "name": "stdout"
        },
        {
          "output_type": "stream",
          "text": [
            "2021-03-11 01:42:14,285 Wrote model metadata to file ampl_output/H1_std/RF_ecfp_scaffold_regression/96ef4192-82b3-419f-badb-d6500fab1085/model_metadata.json\n",
            "2021-03-11 01:42:14,499 Wrote model metrics to file ampl_output/H1_std/RF_ecfp_scaffold_regression/96ef4192-82b3-419f-badb-d6500fab1085/model_metrics.json\n"
          ],
          "name": "stderr"
        },
        {
          "output_type": "stream",
          "text": [
            "Wrote model tarball to ampl_output/H1_std_model_96ef4192-82b3-419f-badb-d6500fab1085.tar.gz\n",
            "rf_estimators: 128, rf_max_depth: 128, rf_max_features: 128, valid_r2: 0.44603258162083337\n",
            "number of features: 1024\n"
          ],
          "name": "stdout"
        },
        {
          "output_type": "stream",
          "text": [
            "2021-03-11 01:42:20,064 Previous dataset split restored\n"
          ],
          "name": "stderr"
        },
        {
          "output_type": "stream",
          "text": [
            "n_cnt [1358.]\n",
            "y_means [6.59994988]\n",
            "y_stds [1.29836641]\n",
            "TIMING: dataset construction took 0.052 s\n",
            "Loading dataset from disk.\n",
            "TIMING: dataset construction took 0.016 s\n",
            "Loading dataset from disk.\n",
            "TIMING: dataset construction took 0.011 s\n",
            "Loading dataset from disk.\n"
          ],
          "name": "stdout"
        },
        {
          "output_type": "stream",
          "text": [
            "2021-03-11 01:42:23,875 Wrote model metadata to file ampl_output/H1_std/RF_ecfp_scaffold_regression/67d951ba-4968-4b9a-8c3c-bb6b7d32b832/model_metadata.json\n",
            "2021-03-11 01:42:24,056 Wrote model metrics to file ampl_output/H1_std/RF_ecfp_scaffold_regression/67d951ba-4968-4b9a-8c3c-bb6b7d32b832/model_metrics.json\n"
          ],
          "name": "stderr"
        },
        {
          "output_type": "stream",
          "text": [
            "Wrote model tarball to ampl_output/H1_std_model_67d951ba-4968-4b9a-8c3c-bb6b7d32b832.tar.gz\n",
            "rf_estimators: 128, rf_max_depth: 128, rf_max_features: 128, valid_r2: 0.4552147943503363\n",
            "number of features: 1024\n"
          ],
          "name": "stdout"
        },
        {
          "output_type": "stream",
          "text": [
            "2021-03-11 01:42:29,678 Previous dataset split restored\n"
          ],
          "name": "stderr"
        },
        {
          "output_type": "stream",
          "text": [
            "n_cnt [1358.]\n",
            "y_means [6.59994988]\n",
            "y_stds [1.29836641]\n",
            "TIMING: dataset construction took 0.053 s\n",
            "Loading dataset from disk.\n",
            "TIMING: dataset construction took 0.010 s\n",
            "Loading dataset from disk.\n",
            "TIMING: dataset construction took 0.009 s\n",
            "Loading dataset from disk.\n"
          ],
          "name": "stdout"
        },
        {
          "output_type": "stream",
          "text": [
            "2021-03-11 01:42:32,083 Wrote model metadata to file ampl_output/H1_std/RF_ecfp_scaffold_regression/6f672016-c42d-4415-bff6-ffa17839f5f6/model_metadata.json\n",
            "2021-03-11 01:42:32,208 Wrote model metrics to file ampl_output/H1_std/RF_ecfp_scaffold_regression/6f672016-c42d-4415-bff6-ffa17839f5f6/model_metrics.json\n"
          ],
          "name": "stderr"
        },
        {
          "output_type": "stream",
          "text": [
            "Wrote model tarball to ampl_output/H1_std_model_6f672016-c42d-4415-bff6-ffa17839f5f6.tar.gz\n",
            "rf_estimators: 128, rf_max_depth: 128, rf_max_features: 128, valid_r2: 0.4488460883063441\n",
            "number of features: 1024\n"
          ],
          "name": "stdout"
        },
        {
          "output_type": "stream",
          "text": [
            "2021-03-11 01:42:37,976 Previous dataset split restored\n"
          ],
          "name": "stderr"
        },
        {
          "output_type": "stream",
          "text": [
            "n_cnt [1358.]\n",
            "y_means [6.59994988]\n",
            "y_stds [1.29836641]\n",
            "TIMING: dataset construction took 0.059 s\n",
            "Loading dataset from disk.\n",
            "TIMING: dataset construction took 0.014 s\n",
            "Loading dataset from disk.\n",
            "TIMING: dataset construction took 0.010 s\n",
            "Loading dataset from disk.\n"
          ],
          "name": "stdout"
        },
        {
          "output_type": "stream",
          "text": [
            "2021-03-11 01:42:40,057 Wrote model metadata to file ampl_output/H1_std/RF_ecfp_scaffold_regression/4df5a2cc-3a4f-4d52-bc5b-07b7caccc3eb/model_metadata.json\n",
            "2021-03-11 01:42:40,263 Wrote model metrics to file ampl_output/H1_std/RF_ecfp_scaffold_regression/4df5a2cc-3a4f-4d52-bc5b-07b7caccc3eb/model_metrics.json\n"
          ],
          "name": "stderr"
        },
        {
          "output_type": "stream",
          "text": [
            "Wrote model tarball to ampl_output/H1_std_model_4df5a2cc-3a4f-4d52-bc5b-07b7caccc3eb.tar.gz\n",
            "rf_estimators: 128, rf_max_depth: 128, rf_max_features: 128, valid_r2: 0.40345043692659366\n",
            "number of features: 1024\n"
          ],
          "name": "stdout"
        },
        {
          "output_type": "stream",
          "text": [
            "2021-03-11 01:42:45,961 Previous dataset split restored\n"
          ],
          "name": "stderr"
        },
        {
          "output_type": "stream",
          "text": [
            "n_cnt [1358.]\n",
            "y_means [6.59994988]\n",
            "y_stds [1.29836641]\n",
            "TIMING: dataset construction took 0.053 s\n",
            "Loading dataset from disk.\n",
            "TIMING: dataset construction took 0.011 s\n",
            "Loading dataset from disk.\n",
            "TIMING: dataset construction took 0.012 s\n",
            "Loading dataset from disk.\n"
          ],
          "name": "stdout"
        },
        {
          "output_type": "stream",
          "text": [
            "2021-03-11 01:42:47,487 Wrote model metadata to file ampl_output/H1_std/RF_ecfp_scaffold_regression/f1071dea-3a67-463e-911f-1dc56c14888b/model_metadata.json\n",
            "2021-03-11 01:42:47,583 Wrote model metrics to file ampl_output/H1_std/RF_ecfp_scaffold_regression/f1071dea-3a67-463e-911f-1dc56c14888b/model_metrics.json\n"
          ],
          "name": "stderr"
        },
        {
          "output_type": "stream",
          "text": [
            "Wrote model tarball to ampl_output/H1_std_model_f1071dea-3a67-463e-911f-1dc56c14888b.tar.gz\n",
            "rf_estimators: 128, rf_max_depth: 128, rf_max_features: 128, valid_r2: 0.42163265809273476\n",
            "number of features: 1024\n"
          ],
          "name": "stdout"
        },
        {
          "output_type": "stream",
          "text": [
            "2021-03-11 01:42:53,194 Previous dataset split restored\n"
          ],
          "name": "stderr"
        },
        {
          "output_type": "stream",
          "text": [
            "n_cnt [1358.]\n",
            "y_means [6.59994988]\n",
            "y_stds [1.29836641]\n",
            "TIMING: dataset construction took 0.056 s\n",
            "Loading dataset from disk.\n",
            "TIMING: dataset construction took 0.011 s\n",
            "Loading dataset from disk.\n",
            "TIMING: dataset construction took 0.013 s\n",
            "Loading dataset from disk.\n"
          ],
          "name": "stdout"
        },
        {
          "output_type": "stream",
          "text": [
            "2021-03-11 01:42:55,085 Wrote model metadata to file ampl_output/H1_std/RF_ecfp_scaffold_regression/9dc372d2-9e83-4b14-bc14-dcd071e1a871/model_metadata.json\n",
            "2021-03-11 01:42:55,258 Wrote model metrics to file ampl_output/H1_std/RF_ecfp_scaffold_regression/9dc372d2-9e83-4b14-bc14-dcd071e1a871/model_metrics.json\n"
          ],
          "name": "stderr"
        },
        {
          "output_type": "stream",
          "text": [
            "Wrote model tarball to ampl_output/H1_std_model_9dc372d2-9e83-4b14-bc14-dcd071e1a871.tar.gz\n",
            "rf_estimators: 128, rf_max_depth: 128, rf_max_features: 128, valid_r2: 0.4315559251583866\n",
            "number of features: 1024\n"
          ],
          "name": "stdout"
        },
        {
          "output_type": "stream",
          "text": [
            "2021-03-11 01:43:00,968 Previous dataset split restored\n"
          ],
          "name": "stderr"
        },
        {
          "output_type": "stream",
          "text": [
            "n_cnt [1358.]\n",
            "y_means [6.59994988]\n",
            "y_stds [1.29836641]\n",
            "TIMING: dataset construction took 0.053 s\n",
            "Loading dataset from disk.\n",
            "TIMING: dataset construction took 0.011 s\n",
            "Loading dataset from disk.\n",
            "TIMING: dataset construction took 0.012 s\n",
            "Loading dataset from disk.\n"
          ],
          "name": "stdout"
        },
        {
          "output_type": "stream",
          "text": [
            "2021-03-11 01:43:04,189 Wrote model metadata to file ampl_output/H1_std/RF_ecfp_scaffold_regression/9cefff2d-a2f0-4237-8f85-274bb0b9c723/model_metadata.json\n",
            "2021-03-11 01:43:04,378 Wrote model metrics to file ampl_output/H1_std/RF_ecfp_scaffold_regression/9cefff2d-a2f0-4237-8f85-274bb0b9c723/model_metrics.json\n"
          ],
          "name": "stderr"
        },
        {
          "output_type": "stream",
          "text": [
            "Wrote model tarball to ampl_output/H1_std_model_9cefff2d-a2f0-4237-8f85-274bb0b9c723.tar.gz\n",
            "rf_estimators: 128, rf_max_depth: 128, rf_max_features: 128, valid_r2: 0.47736906187898775\n",
            "number of features: 1024\n"
          ],
          "name": "stdout"
        },
        {
          "output_type": "stream",
          "text": [
            "2021-03-11 01:43:10,030 Previous dataset split restored\n"
          ],
          "name": "stderr"
        },
        {
          "output_type": "stream",
          "text": [
            "n_cnt [1358.]\n",
            "y_means [6.59994988]\n",
            "y_stds [1.29836641]\n",
            "TIMING: dataset construction took 0.053 s\n",
            "Loading dataset from disk.\n",
            "TIMING: dataset construction took 0.011 s\n",
            "Loading dataset from disk.\n",
            "TIMING: dataset construction took 0.010 s\n",
            "Loading dataset from disk.\n"
          ],
          "name": "stdout"
        },
        {
          "output_type": "stream",
          "text": [
            "2021-03-11 01:43:11,558 Wrote model metadata to file ampl_output/H1_std/RF_ecfp_scaffold_regression/bba10b31-1eba-435c-ae75-e7edf84c62d8/model_metadata.json\n",
            "2021-03-11 01:43:11,608 Wrote model metrics to file ampl_output/H1_std/RF_ecfp_scaffold_regression/bba10b31-1eba-435c-ae75-e7edf84c62d8/model_metrics.json\n"
          ],
          "name": "stderr"
        },
        {
          "output_type": "stream",
          "text": [
            "Wrote model tarball to ampl_output/H1_std_model_bba10b31-1eba-435c-ae75-e7edf84c62d8.tar.gz\n",
            "rf_estimators: 128, rf_max_depth: 128, rf_max_features: 128, valid_r2: 0.43560256365109173\n",
            "number of features: 1024\n"
          ],
          "name": "stdout"
        },
        {
          "output_type": "stream",
          "text": [
            "2021-03-11 01:43:17,185 Previous dataset split restored\n"
          ],
          "name": "stderr"
        },
        {
          "output_type": "stream",
          "text": [
            "n_cnt [1358.]\n",
            "y_means [6.59994988]\n",
            "y_stds [1.29836641]\n",
            "TIMING: dataset construction took 0.054 s\n",
            "Loading dataset from disk.\n",
            "TIMING: dataset construction took 0.011 s\n",
            "Loading dataset from disk.\n",
            "TIMING: dataset construction took 0.010 s\n",
            "Loading dataset from disk.\n"
          ],
          "name": "stdout"
        },
        {
          "output_type": "stream",
          "text": [
            "2021-03-11 01:43:18,776 Wrote model metadata to file ampl_output/H1_std/RF_ecfp_scaffold_regression/0d266f75-3461-40bf-bf93-f29c2c7da134/model_metadata.json\n",
            "2021-03-11 01:43:18,858 Wrote model metrics to file ampl_output/H1_std/RF_ecfp_scaffold_regression/0d266f75-3461-40bf-bf93-f29c2c7da134/model_metrics.json\n"
          ],
          "name": "stderr"
        },
        {
          "output_type": "stream",
          "text": [
            "Wrote model tarball to ampl_output/H1_std_model_0d266f75-3461-40bf-bf93-f29c2c7da134.tar.gz\n",
            "rf_estimators: 128, rf_max_depth: 128, rf_max_features: 128, valid_r2: 0.45249810956474734\n",
            "number of features: 1024\n"
          ],
          "name": "stdout"
        },
        {
          "output_type": "stream",
          "text": [
            "2021-03-11 01:43:24,418 Previous dataset split restored\n"
          ],
          "name": "stderr"
        },
        {
          "output_type": "stream",
          "text": [
            "n_cnt [1358.]\n",
            "y_means [6.59994988]\n",
            "y_stds [1.29836641]\n",
            "TIMING: dataset construction took 0.053 s\n",
            "Loading dataset from disk.\n",
            "TIMING: dataset construction took 0.011 s\n",
            "Loading dataset from disk.\n",
            "TIMING: dataset construction took 0.012 s\n",
            "Loading dataset from disk.\n"
          ],
          "name": "stdout"
        },
        {
          "output_type": "stream",
          "text": [
            "2021-03-11 01:43:26,756 Wrote model metadata to file ampl_output/H1_std/RF_ecfp_scaffold_regression/9ed9a977-3739-428a-87fd-083b90f16481/model_metadata.json\n",
            "2021-03-11 01:43:26,953 Wrote model metrics to file ampl_output/H1_std/RF_ecfp_scaffold_regression/9ed9a977-3739-428a-87fd-083b90f16481/model_metrics.json\n"
          ],
          "name": "stderr"
        },
        {
          "output_type": "stream",
          "text": [
            "Wrote model tarball to ampl_output/H1_std_model_9ed9a977-3739-428a-87fd-083b90f16481.tar.gz\n",
            "rf_estimators: 128, rf_max_depth: 128, rf_max_features: 128, valid_r2: 0.45213495661857783\n",
            "number of features: 1024\n"
          ],
          "name": "stdout"
        },
        {
          "output_type": "stream",
          "text": [
            "2021-03-11 01:43:32,579 Previous dataset split restored\n"
          ],
          "name": "stderr"
        },
        {
          "output_type": "stream",
          "text": [
            "n_cnt [1358.]\n",
            "y_means [6.59994988]\n",
            "y_stds [1.29836641]\n",
            "TIMING: dataset construction took 0.053 s\n",
            "Loading dataset from disk.\n",
            "TIMING: dataset construction took 0.011 s\n",
            "Loading dataset from disk.\n",
            "TIMING: dataset construction took 0.010 s\n",
            "Loading dataset from disk.\n"
          ],
          "name": "stdout"
        },
        {
          "output_type": "stream",
          "text": [
            "2021-03-11 01:43:34,655 Wrote model metadata to file ampl_output/H1_std/RF_ecfp_scaffold_regression/c750318e-6392-4e6c-bac8-a809e8fce7ab/model_metadata.json\n",
            "2021-03-11 01:43:34,820 Wrote model metrics to file ampl_output/H1_std/RF_ecfp_scaffold_regression/c750318e-6392-4e6c-bac8-a809e8fce7ab/model_metrics.json\n"
          ],
          "name": "stderr"
        },
        {
          "output_type": "stream",
          "text": [
            "Wrote model tarball to ampl_output/H1_std_model_c750318e-6392-4e6c-bac8-a809e8fce7ab.tar.gz\n",
            "rf_estimators: 128, rf_max_depth: 128, rf_max_features: 128, valid_r2: 0.43456003110178554\n",
            "number of features: 1024\n"
          ],
          "name": "stdout"
        },
        {
          "output_type": "stream",
          "text": [
            "2021-03-11 01:43:40,427 Previous dataset split restored\n"
          ],
          "name": "stderr"
        },
        {
          "output_type": "stream",
          "text": [
            "n_cnt [1358.]\n",
            "y_means [6.59994988]\n",
            "y_stds [1.29836641]\n",
            "TIMING: dataset construction took 0.053 s\n",
            "Loading dataset from disk.\n",
            "TIMING: dataset construction took 0.011 s\n",
            "Loading dataset from disk.\n",
            "TIMING: dataset construction took 0.010 s\n",
            "Loading dataset from disk.\n"
          ],
          "name": "stdout"
        },
        {
          "output_type": "stream",
          "text": [
            "2021-03-11 01:43:42,817 Wrote model metadata to file ampl_output/H1_std/RF_ecfp_scaffold_regression/271b6a6f-b963-4b57-a701-588dc37ec470/model_metadata.json\n",
            "2021-03-11 01:43:42,976 Wrote model metrics to file ampl_output/H1_std/RF_ecfp_scaffold_regression/271b6a6f-b963-4b57-a701-588dc37ec470/model_metrics.json\n"
          ],
          "name": "stderr"
        },
        {
          "output_type": "stream",
          "text": [
            "Wrote model tarball to ampl_output/H1_std_model_271b6a6f-b963-4b57-a701-588dc37ec470.tar.gz\n",
            "rf_estimators: 128, rf_max_depth: 128, rf_max_features: 128, valid_r2: 0.4402917394616548\n",
            "number of features: 1024\n"
          ],
          "name": "stdout"
        },
        {
          "output_type": "stream",
          "text": [
            "2021-03-11 01:43:48,606 Previous dataset split restored\n"
          ],
          "name": "stderr"
        },
        {
          "output_type": "stream",
          "text": [
            "n_cnt [1358.]\n",
            "y_means [6.59994988]\n",
            "y_stds [1.29836641]\n",
            "TIMING: dataset construction took 0.053 s\n",
            "Loading dataset from disk.\n",
            "TIMING: dataset construction took 0.010 s\n",
            "Loading dataset from disk.\n",
            "TIMING: dataset construction took 0.012 s\n",
            "Loading dataset from disk.\n"
          ],
          "name": "stdout"
        },
        {
          "output_type": "stream",
          "text": [
            "2021-03-11 01:43:52,669 Wrote model metadata to file ampl_output/H1_std/RF_ecfp_scaffold_regression/c30cbb81-2c58-40d7-8311-b7f5f0c5f523/model_metadata.json\n",
            "2021-03-11 01:43:52,867 Wrote model metrics to file ampl_output/H1_std/RF_ecfp_scaffold_regression/c30cbb81-2c58-40d7-8311-b7f5f0c5f523/model_metrics.json\n"
          ],
          "name": "stderr"
        },
        {
          "output_type": "stream",
          "text": [
            "Wrote model tarball to ampl_output/H1_std_model_c30cbb81-2c58-40d7-8311-b7f5f0c5f523.tar.gz\n",
            "rf_estimators: 128, rf_max_depth: 128, rf_max_features: 128, valid_r2: 0.4492675446987763\n",
            "number of features: 1024\n"
          ],
          "name": "stdout"
        },
        {
          "output_type": "stream",
          "text": [
            "2021-03-11 01:43:58,452 Previous dataset split restored\n"
          ],
          "name": "stderr"
        },
        {
          "output_type": "stream",
          "text": [
            "n_cnt [1358.]\n",
            "y_means [6.59994988]\n",
            "y_stds [1.29836641]\n",
            "TIMING: dataset construction took 0.055 s\n",
            "Loading dataset from disk.\n",
            "TIMING: dataset construction took 0.011 s\n",
            "Loading dataset from disk.\n",
            "TIMING: dataset construction took 0.010 s\n",
            "Loading dataset from disk.\n"
          ],
          "name": "stdout"
        },
        {
          "output_type": "stream",
          "text": [
            "2021-03-11 01:44:00,822 Wrote model metadata to file ampl_output/H1_std/RF_ecfp_scaffold_regression/c1e79b81-5dc1-41f5-b1d5-60f457572c1d/model_metadata.json\n",
            "2021-03-11 01:44:00,988 Wrote model metrics to file ampl_output/H1_std/RF_ecfp_scaffold_regression/c1e79b81-5dc1-41f5-b1d5-60f457572c1d/model_metrics.json\n"
          ],
          "name": "stderr"
        },
        {
          "output_type": "stream",
          "text": [
            "Wrote model tarball to ampl_output/H1_std_model_c1e79b81-5dc1-41f5-b1d5-60f457572c1d.tar.gz\n",
            "rf_estimators: 128, rf_max_depth: 128, rf_max_features: 128, valid_r2: 0.46384474565442446\n",
            "number of features: 1024\n"
          ],
          "name": "stdout"
        },
        {
          "output_type": "stream",
          "text": [
            "2021-03-11 01:44:06,622 Previous dataset split restored\n"
          ],
          "name": "stderr"
        },
        {
          "output_type": "stream",
          "text": [
            "n_cnt [1358.]\n",
            "y_means [6.59994988]\n",
            "y_stds [1.29836641]\n",
            "TIMING: dataset construction took 0.056 s\n",
            "Loading dataset from disk.\n",
            "TIMING: dataset construction took 0.011 s\n",
            "Loading dataset from disk.\n",
            "TIMING: dataset construction took 0.011 s\n",
            "Loading dataset from disk.\n"
          ],
          "name": "stdout"
        },
        {
          "output_type": "stream",
          "text": [
            "2021-03-11 01:44:08,269 Wrote model metadata to file ampl_output/H1_std/RF_ecfp_scaffold_regression/c742ffcc-7697-481f-8fb6-46610223191c/model_metadata.json\n",
            "2021-03-11 01:44:08,368 Wrote model metrics to file ampl_output/H1_std/RF_ecfp_scaffold_regression/c742ffcc-7697-481f-8fb6-46610223191c/model_metrics.json\n"
          ],
          "name": "stderr"
        },
        {
          "output_type": "stream",
          "text": [
            "Wrote model tarball to ampl_output/H1_std_model_c742ffcc-7697-481f-8fb6-46610223191c.tar.gz\n",
            "rf_estimators: 128, rf_max_depth: 128, rf_max_features: 128, valid_r2: 0.46241778971348413\n",
            "number of features: 1024\n"
          ],
          "name": "stdout"
        },
        {
          "output_type": "stream",
          "text": [
            "2021-03-11 01:44:14,168 Previous dataset split restored\n"
          ],
          "name": "stderr"
        },
        {
          "output_type": "stream",
          "text": [
            "n_cnt [1358.]\n",
            "y_means [6.59994988]\n",
            "y_stds [1.29836641]\n",
            "TIMING: dataset construction took 0.053 s\n",
            "Loading dataset from disk.\n",
            "TIMING: dataset construction took 0.012 s\n",
            "Loading dataset from disk.\n",
            "TIMING: dataset construction took 0.010 s\n",
            "Loading dataset from disk.\n"
          ],
          "name": "stdout"
        },
        {
          "output_type": "stream",
          "text": [
            "2021-03-11 01:44:16,053 Wrote model metadata to file ampl_output/H1_std/RF_ecfp_scaffold_regression/0a6f4802-8096-4337-8d0f-067ae8a9d539/model_metadata.json\n",
            "2021-03-11 01:44:16,179 Wrote model metrics to file ampl_output/H1_std/RF_ecfp_scaffold_regression/0a6f4802-8096-4337-8d0f-067ae8a9d539/model_metrics.json\n"
          ],
          "name": "stderr"
        },
        {
          "output_type": "stream",
          "text": [
            "Wrote model tarball to ampl_output/H1_std_model_0a6f4802-8096-4337-8d0f-067ae8a9d539.tar.gz\n",
            "rf_estimators: 128, rf_max_depth: 128, rf_max_features: 128, valid_r2: 0.4519064498362362\n",
            "number of features: 1024\n"
          ],
          "name": "stdout"
        },
        {
          "output_type": "stream",
          "text": [
            "2021-03-11 01:44:21,879 Previous dataset split restored\n"
          ],
          "name": "stderr"
        },
        {
          "output_type": "stream",
          "text": [
            "n_cnt [1358.]\n",
            "y_means [6.59994988]\n",
            "y_stds [1.29836641]\n",
            "TIMING: dataset construction took 0.053 s\n",
            "Loading dataset from disk.\n",
            "TIMING: dataset construction took 0.011 s\n",
            "Loading dataset from disk.\n",
            "TIMING: dataset construction took 0.011 s\n",
            "Loading dataset from disk.\n"
          ],
          "name": "stdout"
        },
        {
          "output_type": "stream",
          "text": [
            "2021-03-11 01:44:22,815 Wrote model metadata to file ampl_output/H1_std/RF_ecfp_scaffold_regression/46ff45a1-ec85-4798-b4f2-d40256e1f5a7/model_metadata.json\n",
            "2021-03-11 01:44:22,829 Wrote model metrics to file ampl_output/H1_std/RF_ecfp_scaffold_regression/46ff45a1-ec85-4798-b4f2-d40256e1f5a7/model_metrics.json\n"
          ],
          "name": "stderr"
        },
        {
          "output_type": "stream",
          "text": [
            "Wrote model tarball to ampl_output/H1_std_model_46ff45a1-ec85-4798-b4f2-d40256e1f5a7.tar.gz\n",
            "rf_estimators: 128, rf_max_depth: 128, rf_max_features: 128, valid_r2: 0.4384544482379459\n",
            "number of features: 1024\n"
          ],
          "name": "stdout"
        },
        {
          "output_type": "stream",
          "text": [
            "2021-03-11 01:44:28,586 Previous dataset split restored\n"
          ],
          "name": "stderr"
        },
        {
          "output_type": "stream",
          "text": [
            "n_cnt [1358.]\n",
            "y_means [6.59994988]\n",
            "y_stds [1.29836641]\n",
            "TIMING: dataset construction took 0.053 s\n",
            "Loading dataset from disk.\n",
            "TIMING: dataset construction took 0.010 s\n",
            "Loading dataset from disk.\n",
            "TIMING: dataset construction took 0.011 s\n",
            "Loading dataset from disk.\n"
          ],
          "name": "stdout"
        },
        {
          "output_type": "stream",
          "text": [
            "2021-03-11 01:44:31,132 Wrote model metadata to file ampl_output/H1_std/RF_ecfp_scaffold_regression/a890c16b-b552-48d3-a97a-e801f4922946/model_metadata.json\n",
            "2021-03-11 01:44:31,282 Wrote model metrics to file ampl_output/H1_std/RF_ecfp_scaffold_regression/a890c16b-b552-48d3-a97a-e801f4922946/model_metrics.json\n"
          ],
          "name": "stderr"
        },
        {
          "output_type": "stream",
          "text": [
            "Wrote model tarball to ampl_output/H1_std_model_a890c16b-b552-48d3-a97a-e801f4922946.tar.gz\n",
            "rf_estimators: 128, rf_max_depth: 128, rf_max_features: 128, valid_r2: 0.4506590712525327\n",
            "number of features: 1024\n"
          ],
          "name": "stdout"
        },
        {
          "output_type": "stream",
          "text": [
            "2021-03-11 01:44:36,926 Previous dataset split restored\n"
          ],
          "name": "stderr"
        },
        {
          "output_type": "stream",
          "text": [
            "n_cnt [1358.]\n",
            "y_means [6.59994988]\n",
            "y_stds [1.29836641]\n",
            "TIMING: dataset construction took 0.054 s\n",
            "Loading dataset from disk.\n",
            "TIMING: dataset construction took 0.010 s\n",
            "Loading dataset from disk.\n",
            "TIMING: dataset construction took 0.012 s\n",
            "Loading dataset from disk.\n"
          ],
          "name": "stdout"
        },
        {
          "output_type": "stream",
          "text": [
            "2021-03-11 01:44:39,721 Wrote model metadata to file ampl_output/H1_std/RF_ecfp_scaffold_regression/0d9ca22c-dc04-4c8b-beef-bc520719c9af/model_metadata.json\n",
            "2021-03-11 01:44:39,908 Wrote model metrics to file ampl_output/H1_std/RF_ecfp_scaffold_regression/0d9ca22c-dc04-4c8b-beef-bc520719c9af/model_metrics.json\n"
          ],
          "name": "stderr"
        },
        {
          "output_type": "stream",
          "text": [
            "Wrote model tarball to ampl_output/H1_std_model_0d9ca22c-dc04-4c8b-beef-bc520719c9af.tar.gz\n",
            "rf_estimators: 128, rf_max_depth: 128, rf_max_features: 128, valid_r2: 0.4569601795739413\n",
            "number of features: 1024\n"
          ],
          "name": "stdout"
        },
        {
          "output_type": "stream",
          "text": [
            "2021-03-11 01:44:45,764 Previous dataset split restored\n"
          ],
          "name": "stderr"
        },
        {
          "output_type": "stream",
          "text": [
            "n_cnt [1358.]\n",
            "y_means [6.59994988]\n",
            "y_stds [1.29836641]\n",
            "TIMING: dataset construction took 0.062 s\n",
            "Loading dataset from disk.\n",
            "TIMING: dataset construction took 0.012 s\n",
            "Loading dataset from disk.\n",
            "TIMING: dataset construction took 0.012 s\n",
            "Loading dataset from disk.\n"
          ],
          "name": "stdout"
        },
        {
          "output_type": "stream",
          "text": [
            "2021-03-11 01:44:48,043 Wrote model metadata to file ampl_output/H1_std/RF_ecfp_scaffold_regression/b1ef2dac-a542-4ded-abfb-e584e835cd66/model_metadata.json\n",
            "2021-03-11 01:44:48,138 Wrote model metrics to file ampl_output/H1_std/RF_ecfp_scaffold_regression/b1ef2dac-a542-4ded-abfb-e584e835cd66/model_metrics.json\n"
          ],
          "name": "stderr"
        },
        {
          "output_type": "stream",
          "text": [
            "Wrote model tarball to ampl_output/H1_std_model_b1ef2dac-a542-4ded-abfb-e584e835cd66.tar.gz\n",
            "rf_estimators: 128, rf_max_depth: 128, rf_max_features: 128, valid_r2: 0.4450306608560477\n",
            "number of features: 1024\n"
          ],
          "name": "stdout"
        },
        {
          "output_type": "stream",
          "text": [
            "2021-03-11 01:44:53,905 Previous dataset split restored\n"
          ],
          "name": "stderr"
        },
        {
          "output_type": "stream",
          "text": [
            "n_cnt [1358.]\n",
            "y_means [6.59994988]\n",
            "y_stds [1.29836641]\n",
            "TIMING: dataset construction took 0.054 s\n",
            "Loading dataset from disk.\n",
            "TIMING: dataset construction took 0.011 s\n",
            "Loading dataset from disk.\n",
            "TIMING: dataset construction took 0.012 s\n",
            "Loading dataset from disk.\n"
          ],
          "name": "stdout"
        },
        {
          "output_type": "stream",
          "text": [
            "2021-03-11 01:44:56,172 Wrote model metadata to file ampl_output/H1_std/RF_ecfp_scaffold_regression/38912c53-5d2b-4963-b233-6bf885e77825/model_metadata.json\n",
            "2021-03-11 01:44:56,292 Wrote model metrics to file ampl_output/H1_std/RF_ecfp_scaffold_regression/38912c53-5d2b-4963-b233-6bf885e77825/model_metrics.json\n"
          ],
          "name": "stderr"
        },
        {
          "output_type": "stream",
          "text": [
            "Wrote model tarball to ampl_output/H1_std_model_38912c53-5d2b-4963-b233-6bf885e77825.tar.gz\n",
            "rf_estimators: 128, rf_max_depth: 128, rf_max_features: 128, valid_r2: 0.4658265024141889\n",
            "number of features: 1024\n"
          ],
          "name": "stdout"
        },
        {
          "output_type": "stream",
          "text": [
            "2021-03-11 01:45:01,917 Previous dataset split restored\n"
          ],
          "name": "stderr"
        },
        {
          "output_type": "stream",
          "text": [
            "n_cnt [1358.]\n",
            "y_means [6.59994988]\n",
            "y_stds [1.29836641]\n",
            "TIMING: dataset construction took 0.051 s\n",
            "Loading dataset from disk.\n",
            "TIMING: dataset construction took 0.012 s\n",
            "Loading dataset from disk.\n",
            "TIMING: dataset construction took 0.013 s\n",
            "Loading dataset from disk.\n"
          ],
          "name": "stdout"
        },
        {
          "output_type": "stream",
          "text": [
            "2021-03-11 01:45:02,968 Wrote model metadata to file ampl_output/H1_std/RF_ecfp_scaffold_regression/f1c64c9d-4f74-455c-a420-b22fcaf3afa3/model_metadata.json\n",
            "2021-03-11 01:45:02,988 Wrote model metrics to file ampl_output/H1_std/RF_ecfp_scaffold_regression/f1c64c9d-4f74-455c-a420-b22fcaf3afa3/model_metrics.json\n"
          ],
          "name": "stderr"
        },
        {
          "output_type": "stream",
          "text": [
            "Wrote model tarball to ampl_output/H1_std_model_f1c64c9d-4f74-455c-a420-b22fcaf3afa3.tar.gz\n",
            "rf_estimators: 128, rf_max_depth: 128, rf_max_features: 128, valid_r2: 0.4513996593877643\n",
            "number of features: 1024\n"
          ],
          "name": "stdout"
        },
        {
          "output_type": "stream",
          "text": [
            "2021-03-11 01:45:08,555 Previous dataset split restored\n"
          ],
          "name": "stderr"
        },
        {
          "output_type": "stream",
          "text": [
            "n_cnt [1358.]\n",
            "y_means [6.59994988]\n",
            "y_stds [1.29836641]\n",
            "TIMING: dataset construction took 0.053 s\n",
            "Loading dataset from disk.\n",
            "TIMING: dataset construction took 0.010 s\n",
            "Loading dataset from disk.\n",
            "TIMING: dataset construction took 0.010 s\n",
            "Loading dataset from disk.\n"
          ],
          "name": "stdout"
        },
        {
          "output_type": "stream",
          "text": [
            "2021-03-11 01:45:10,997 Wrote model metadata to file ampl_output/H1_std/RF_ecfp_scaffold_regression/a3de85e6-78d7-4777-ae0d-ddd156e6711f/model_metadata.json\n",
            "2021-03-11 01:45:11,193 Wrote model metrics to file ampl_output/H1_std/RF_ecfp_scaffold_regression/a3de85e6-78d7-4777-ae0d-ddd156e6711f/model_metrics.json\n"
          ],
          "name": "stderr"
        },
        {
          "output_type": "stream",
          "text": [
            "Wrote model tarball to ampl_output/H1_std_model_a3de85e6-78d7-4777-ae0d-ddd156e6711f.tar.gz\n",
            "rf_estimators: 128, rf_max_depth: 128, rf_max_features: 128, valid_r2: 0.4551837218022239\n",
            "number of features: 1024\n"
          ],
          "name": "stdout"
        },
        {
          "output_type": "stream",
          "text": [
            "2021-03-11 01:45:16,734 Previous dataset split restored\n"
          ],
          "name": "stderr"
        },
        {
          "output_type": "stream",
          "text": [
            "n_cnt [1358.]\n",
            "y_means [6.59994988]\n",
            "y_stds [1.29836641]\n",
            "TIMING: dataset construction took 0.051 s\n",
            "Loading dataset from disk.\n",
            "TIMING: dataset construction took 0.010 s\n",
            "Loading dataset from disk.\n",
            "TIMING: dataset construction took 0.009 s\n",
            "Loading dataset from disk.\n"
          ],
          "name": "stdout"
        },
        {
          "output_type": "stream",
          "text": [
            "2021-03-11 01:45:18,830 Wrote model metadata to file ampl_output/H1_std/RF_ecfp_scaffold_regression/e987dfd2-740c-49bf-abf7-20225fbdaec0/model_metadata.json\n",
            "2021-03-11 01:45:18,919 Wrote model metrics to file ampl_output/H1_std/RF_ecfp_scaffold_regression/e987dfd2-740c-49bf-abf7-20225fbdaec0/model_metrics.json\n"
          ],
          "name": "stderr"
        },
        {
          "output_type": "stream",
          "text": [
            "Wrote model tarball to ampl_output/H1_std_model_e987dfd2-740c-49bf-abf7-20225fbdaec0.tar.gz\n",
            "rf_estimators: 128, rf_max_depth: 128, rf_max_features: 128, valid_r2: 0.45573529505501065\n",
            "number of features: 1024\n"
          ],
          "name": "stdout"
        },
        {
          "output_type": "stream",
          "text": [
            "2021-03-11 01:45:24,445 Previous dataset split restored\n"
          ],
          "name": "stderr"
        },
        {
          "output_type": "stream",
          "text": [
            "n_cnt [1358.]\n",
            "y_means [6.59994988]\n",
            "y_stds [1.29836641]\n",
            "TIMING: dataset construction took 0.054 s\n",
            "Loading dataset from disk.\n",
            "TIMING: dataset construction took 0.012 s\n",
            "Loading dataset from disk.\n",
            "TIMING: dataset construction took 0.011 s\n",
            "Loading dataset from disk.\n"
          ],
          "name": "stdout"
        },
        {
          "output_type": "stream",
          "text": [
            "2021-03-11 01:45:25,798 Wrote model metadata to file ampl_output/H1_std/RF_ecfp_scaffold_regression/e139a269-2cbd-46c0-81c5-a9e6d3af0bf7/model_metadata.json\n",
            "2021-03-11 01:45:25,853 Wrote model metrics to file ampl_output/H1_std/RF_ecfp_scaffold_regression/e139a269-2cbd-46c0-81c5-a9e6d3af0bf7/model_metrics.json\n"
          ],
          "name": "stderr"
        },
        {
          "output_type": "stream",
          "text": [
            "Wrote model tarball to ampl_output/H1_std_model_e139a269-2cbd-46c0-81c5-a9e6d3af0bf7.tar.gz\n",
            "rf_estimators: 128, rf_max_depth: 128, rf_max_features: 128, valid_r2: 0.4378410600032756\n",
            "number of features: 1024\n"
          ],
          "name": "stdout"
        },
        {
          "output_type": "stream",
          "text": [
            "2021-03-11 01:45:31,415 Previous dataset split restored\n"
          ],
          "name": "stderr"
        },
        {
          "output_type": "stream",
          "text": [
            "n_cnt [1358.]\n",
            "y_means [6.59994988]\n",
            "y_stds [1.29836641]\n",
            "TIMING: dataset construction took 0.052 s\n",
            "Loading dataset from disk.\n",
            "TIMING: dataset construction took 0.010 s\n",
            "Loading dataset from disk.\n",
            "TIMING: dataset construction took 0.012 s\n",
            "Loading dataset from disk.\n"
          ],
          "name": "stdout"
        },
        {
          "output_type": "stream",
          "text": [
            "2021-03-11 01:45:34,008 Wrote model metadata to file ampl_output/H1_std/RF_ecfp_scaffold_regression/15aec456-0b6f-43c3-94e9-d34c0d519b1d/model_metadata.json\n",
            "2021-03-11 01:45:34,127 Wrote model metrics to file ampl_output/H1_std/RF_ecfp_scaffold_regression/15aec456-0b6f-43c3-94e9-d34c0d519b1d/model_metrics.json\n"
          ],
          "name": "stderr"
        },
        {
          "output_type": "stream",
          "text": [
            "Wrote model tarball to ampl_output/H1_std_model_15aec456-0b6f-43c3-94e9-d34c0d519b1d.tar.gz\n",
            "rf_estimators: 128, rf_max_depth: 128, rf_max_features: 128, valid_r2: 0.45727107705269543\n",
            "number of features: 1024\n"
          ],
          "name": "stdout"
        },
        {
          "output_type": "stream",
          "text": [
            "2021-03-11 01:45:39,671 Previous dataset split restored\n"
          ],
          "name": "stderr"
        },
        {
          "output_type": "stream",
          "text": [
            "n_cnt [1358.]\n",
            "y_means [6.59994988]\n",
            "y_stds [1.29836641]\n",
            "TIMING: dataset construction took 0.057 s\n",
            "Loading dataset from disk.\n",
            "TIMING: dataset construction took 0.011 s\n",
            "Loading dataset from disk.\n",
            "TIMING: dataset construction took 0.010 s\n",
            "Loading dataset from disk.\n"
          ],
          "name": "stdout"
        },
        {
          "output_type": "stream",
          "text": [
            "2021-03-11 01:45:42,444 Wrote model metadata to file ampl_output/H1_std/RF_ecfp_scaffold_regression/76d41ee7-266f-4422-aa7a-20e9cfe92163/model_metadata.json\n",
            "2021-03-11 01:45:42,656 Wrote model metrics to file ampl_output/H1_std/RF_ecfp_scaffold_regression/76d41ee7-266f-4422-aa7a-20e9cfe92163/model_metrics.json\n"
          ],
          "name": "stderr"
        },
        {
          "output_type": "stream",
          "text": [
            "Wrote model tarball to ampl_output/H1_std_model_76d41ee7-266f-4422-aa7a-20e9cfe92163.tar.gz\n",
            "rf_estimators: 128, rf_max_depth: 128, rf_max_features: 128, valid_r2: 0.4576437145851122\n",
            "number of features: 1024\n"
          ],
          "name": "stdout"
        },
        {
          "output_type": "stream",
          "text": [
            "2021-03-11 01:45:48,257 Previous dataset split restored\n"
          ],
          "name": "stderr"
        },
        {
          "output_type": "stream",
          "text": [
            "n_cnt [1358.]\n",
            "y_means [6.59994988]\n",
            "y_stds [1.29836641]\n",
            "TIMING: dataset construction took 0.056 s\n",
            "Loading dataset from disk.\n",
            "TIMING: dataset construction took 0.011 s\n",
            "Loading dataset from disk.\n",
            "TIMING: dataset construction took 0.012 s\n",
            "Loading dataset from disk.\n"
          ],
          "name": "stdout"
        },
        {
          "output_type": "stream",
          "text": [
            "2021-03-11 01:45:51,837 Wrote model metadata to file ampl_output/H1_std/RF_ecfp_scaffold_regression/45050bc3-04b4-4fbe-8057-ef25e05696e4/model_metadata.json\n",
            "2021-03-11 01:45:52,000 Wrote model metrics to file ampl_output/H1_std/RF_ecfp_scaffold_regression/45050bc3-04b4-4fbe-8057-ef25e05696e4/model_metrics.json\n"
          ],
          "name": "stderr"
        },
        {
          "output_type": "stream",
          "text": [
            "Wrote model tarball to ampl_output/H1_std_model_45050bc3-04b4-4fbe-8057-ef25e05696e4.tar.gz\n",
            "rf_estimators: 128, rf_max_depth: 128, rf_max_features: 128, valid_r2: 0.46999401850543243\n",
            "number of features: 1024\n"
          ],
          "name": "stdout"
        },
        {
          "output_type": "stream",
          "text": [
            "2021-03-11 01:45:57,555 Previous dataset split restored\n"
          ],
          "name": "stderr"
        },
        {
          "output_type": "stream",
          "text": [
            "n_cnt [1358.]\n",
            "y_means [6.59994988]\n",
            "y_stds [1.29836641]\n",
            "TIMING: dataset construction took 0.055 s\n",
            "Loading dataset from disk.\n",
            "TIMING: dataset construction took 0.011 s\n",
            "Loading dataset from disk.\n",
            "TIMING: dataset construction took 0.010 s\n",
            "Loading dataset from disk.\n"
          ],
          "name": "stdout"
        },
        {
          "output_type": "stream",
          "text": [
            "2021-03-11 01:45:59,934 Wrote model metadata to file ampl_output/H1_std/RF_ecfp_scaffold_regression/acb25575-dbb7-4588-8ac1-9c32cfb5db5b/model_metadata.json\n",
            "2021-03-11 01:46:00,095 Wrote model metrics to file ampl_output/H1_std/RF_ecfp_scaffold_regression/acb25575-dbb7-4588-8ac1-9c32cfb5db5b/model_metrics.json\n"
          ],
          "name": "stderr"
        },
        {
          "output_type": "stream",
          "text": [
            "Wrote model tarball to ampl_output/H1_std_model_acb25575-dbb7-4588-8ac1-9c32cfb5db5b.tar.gz\n",
            "rf_estimators: 128, rf_max_depth: 128, rf_max_features: 128, valid_r2: 0.46530243120734205\n",
            "number of features: 1024\n"
          ],
          "name": "stdout"
        },
        {
          "output_type": "stream",
          "text": [
            "2021-03-11 01:46:05,614 Previous dataset split restored\n"
          ],
          "name": "stderr"
        },
        {
          "output_type": "stream",
          "text": [
            "n_cnt [1358.]\n",
            "y_means [6.59994988]\n",
            "y_stds [1.29836641]\n",
            "TIMING: dataset construction took 0.053 s\n",
            "Loading dataset from disk.\n",
            "TIMING: dataset construction took 0.010 s\n",
            "Loading dataset from disk.\n",
            "TIMING: dataset construction took 0.012 s\n",
            "Loading dataset from disk.\n"
          ],
          "name": "stdout"
        },
        {
          "output_type": "stream",
          "text": [
            "2021-03-11 01:46:07,528 Wrote model metadata to file ampl_output/H1_std/RF_ecfp_scaffold_regression/0d1515fb-c454-4330-81f1-8abefca1e8cf/model_metadata.json\n",
            "2021-03-11 01:46:07,624 Wrote model metrics to file ampl_output/H1_std/RF_ecfp_scaffold_regression/0d1515fb-c454-4330-81f1-8abefca1e8cf/model_metrics.json\n"
          ],
          "name": "stderr"
        },
        {
          "output_type": "stream",
          "text": [
            "Wrote model tarball to ampl_output/H1_std_model_0d1515fb-c454-4330-81f1-8abefca1e8cf.tar.gz\n",
            "rf_estimators: 128, rf_max_depth: 128, rf_max_features: 128, valid_r2: 0.45378601135043983\n",
            "number of features: 1024\n"
          ],
          "name": "stdout"
        },
        {
          "output_type": "stream",
          "text": [
            "2021-03-11 01:46:13,196 Previous dataset split restored\n"
          ],
          "name": "stderr"
        },
        {
          "output_type": "stream",
          "text": [
            "n_cnt [1358.]\n",
            "y_means [6.59994988]\n",
            "y_stds [1.29836641]\n",
            "TIMING: dataset construction took 0.054 s\n",
            "Loading dataset from disk.\n",
            "TIMING: dataset construction took 0.010 s\n",
            "Loading dataset from disk.\n",
            "TIMING: dataset construction took 0.010 s\n",
            "Loading dataset from disk.\n"
          ],
          "name": "stdout"
        },
        {
          "output_type": "stream",
          "text": [
            "2021-03-11 01:46:14,137 Wrote model metadata to file ampl_output/H1_std/RF_ecfp_scaffold_regression/b8039b5a-dc11-4d86-ac12-fb2517c93978/model_metadata.json\n",
            "2021-03-11 01:46:14,152 Wrote model metrics to file ampl_output/H1_std/RF_ecfp_scaffold_regression/b8039b5a-dc11-4d86-ac12-fb2517c93978/model_metrics.json\n"
          ],
          "name": "stderr"
        },
        {
          "output_type": "stream",
          "text": [
            "Wrote model tarball to ampl_output/H1_std_model_b8039b5a-dc11-4d86-ac12-fb2517c93978.tar.gz\n",
            "rf_estimators: 128, rf_max_depth: 128, rf_max_features: 128, valid_r2: 0.4671045184577929\n",
            "number of features: 1024\n"
          ],
          "name": "stdout"
        },
        {
          "output_type": "stream",
          "text": [
            "2021-03-11 01:46:19,728 Previous dataset split restored\n"
          ],
          "name": "stderr"
        },
        {
          "output_type": "stream",
          "text": [
            "n_cnt [1358.]\n",
            "y_means [6.59994988]\n",
            "y_stds [1.29836641]\n",
            "TIMING: dataset construction took 0.054 s\n",
            "Loading dataset from disk.\n",
            "TIMING: dataset construction took 0.011 s\n",
            "Loading dataset from disk.\n",
            "TIMING: dataset construction took 0.012 s\n",
            "Loading dataset from disk.\n"
          ],
          "name": "stdout"
        },
        {
          "output_type": "stream",
          "text": [
            "2021-03-11 01:46:20,786 Wrote model metadata to file ampl_output/H1_std/RF_ecfp_scaffold_regression/4ef51b55-e37c-4a55-863f-16fa8abe96db/model_metadata.json\n",
            "2021-03-11 01:46:20,809 Wrote model metrics to file ampl_output/H1_std/RF_ecfp_scaffold_regression/4ef51b55-e37c-4a55-863f-16fa8abe96db/model_metrics.json\n"
          ],
          "name": "stderr"
        },
        {
          "output_type": "stream",
          "text": [
            "Wrote model tarball to ampl_output/H1_std_model_4ef51b55-e37c-4a55-863f-16fa8abe96db.tar.gz\n",
            "rf_estimators: 128, rf_max_depth: 128, rf_max_features: 128, valid_r2: 0.4046889353783055\n",
            "number of features: 1024\n"
          ],
          "name": "stdout"
        },
        {
          "output_type": "stream",
          "text": [
            "2021-03-11 01:46:26,471 Previous dataset split restored\n"
          ],
          "name": "stderr"
        },
        {
          "output_type": "stream",
          "text": [
            "n_cnt [1358.]\n",
            "y_means [6.59994988]\n",
            "y_stds [1.29836641]\n",
            "TIMING: dataset construction took 0.053 s\n",
            "Loading dataset from disk.\n",
            "TIMING: dataset construction took 0.011 s\n",
            "Loading dataset from disk.\n",
            "TIMING: dataset construction took 0.012 s\n",
            "Loading dataset from disk.\n"
          ],
          "name": "stdout"
        },
        {
          "output_type": "stream",
          "text": [
            "2021-03-11 01:46:27,308 Wrote model metadata to file ampl_output/H1_std/RF_ecfp_scaffold_regression/b60c8173-883d-4459-a98f-6f435398b027/model_metadata.json\n",
            "2021-03-11 01:46:27,321 Wrote model metrics to file ampl_output/H1_std/RF_ecfp_scaffold_regression/b60c8173-883d-4459-a98f-6f435398b027/model_metrics.json\n"
          ],
          "name": "stderr"
        },
        {
          "output_type": "stream",
          "text": [
            "Wrote model tarball to ampl_output/H1_std_model_b60c8173-883d-4459-a98f-6f435398b027.tar.gz\n",
            "rf_estimators: 128, rf_max_depth: 128, rf_max_features: 128, valid_r2: 0.4431767727660595\n",
            "number of features: 1024\n"
          ],
          "name": "stdout"
        },
        {
          "output_type": "stream",
          "text": [
            "2021-03-11 01:46:32,925 Previous dataset split restored\n"
          ],
          "name": "stderr"
        },
        {
          "output_type": "stream",
          "text": [
            "n_cnt [1358.]\n",
            "y_means [6.59994988]\n",
            "y_stds [1.29836641]\n",
            "TIMING: dataset construction took 0.051 s\n",
            "Loading dataset from disk.\n",
            "TIMING: dataset construction took 0.011 s\n",
            "Loading dataset from disk.\n",
            "TIMING: dataset construction took 0.011 s\n",
            "Loading dataset from disk.\n"
          ],
          "name": "stdout"
        },
        {
          "output_type": "stream",
          "text": [
            "2021-03-11 01:46:33,985 Wrote model metadata to file ampl_output/H1_std/RF_ecfp_scaffold_regression/a3297c89-5639-4b86-a426-dbe4216e5947/model_metadata.json\n",
            "2021-03-11 01:46:34,009 Wrote model metrics to file ampl_output/H1_std/RF_ecfp_scaffold_regression/a3297c89-5639-4b86-a426-dbe4216e5947/model_metrics.json\n"
          ],
          "name": "stderr"
        },
        {
          "output_type": "stream",
          "text": [
            "Wrote model tarball to ampl_output/H1_std_model_a3297c89-5639-4b86-a426-dbe4216e5947.tar.gz\n",
            "rf_estimators: 128, rf_max_depth: 128, rf_max_features: 128, valid_r2: 0.4722631059700393\n",
            "number of features: 1024\n"
          ],
          "name": "stdout"
        },
        {
          "output_type": "stream",
          "text": [
            "2021-03-11 01:46:39,585 Previous dataset split restored\n"
          ],
          "name": "stderr"
        },
        {
          "output_type": "stream",
          "text": [
            "n_cnt [1358.]\n",
            "y_means [6.59994988]\n",
            "y_stds [1.29836641]\n",
            "TIMING: dataset construction took 0.053 s\n",
            "Loading dataset from disk.\n",
            "TIMING: dataset construction took 0.011 s\n",
            "Loading dataset from disk.\n",
            "TIMING: dataset construction took 0.011 s\n",
            "Loading dataset from disk.\n"
          ],
          "name": "stdout"
        },
        {
          "output_type": "stream",
          "text": [
            "2021-03-11 01:46:40,637 Wrote model metadata to file ampl_output/H1_std/RF_ecfp_scaffold_regression/2a1746ce-e45b-4fce-a42c-ecb8d5deb9b9/model_metadata.json\n",
            "2021-03-11 01:46:40,661 Wrote model metrics to file ampl_output/H1_std/RF_ecfp_scaffold_regression/2a1746ce-e45b-4fce-a42c-ecb8d5deb9b9/model_metrics.json\n"
          ],
          "name": "stderr"
        },
        {
          "output_type": "stream",
          "text": [
            "Wrote model tarball to ampl_output/H1_std_model_2a1746ce-e45b-4fce-a42c-ecb8d5deb9b9.tar.gz\n",
            "rf_estimators: 128, rf_max_depth: 128, rf_max_features: 128, valid_r2: 0.49021980103533214\n",
            "number of features: 1024\n"
          ],
          "name": "stdout"
        },
        {
          "output_type": "stream",
          "text": [
            "2021-03-11 01:46:46,200 Previous dataset split restored\n"
          ],
          "name": "stderr"
        },
        {
          "output_type": "stream",
          "text": [
            "n_cnt [1358.]\n",
            "y_means [6.59994988]\n",
            "y_stds [1.29836641]\n",
            "TIMING: dataset construction took 0.052 s\n",
            "Loading dataset from disk.\n",
            "TIMING: dataset construction took 0.010 s\n",
            "Loading dataset from disk.\n",
            "TIMING: dataset construction took 0.011 s\n",
            "Loading dataset from disk.\n"
          ],
          "name": "stdout"
        },
        {
          "output_type": "stream",
          "text": [
            "2021-03-11 01:46:48,384 Wrote model metadata to file ampl_output/H1_std/RF_ecfp_scaffold_regression/12573f29-b4c1-4940-8535-a0f7183cf1ef/model_metadata.json\n",
            "2021-03-11 01:46:48,555 Wrote model metrics to file ampl_output/H1_std/RF_ecfp_scaffold_regression/12573f29-b4c1-4940-8535-a0f7183cf1ef/model_metrics.json\n"
          ],
          "name": "stderr"
        },
        {
          "output_type": "stream",
          "text": [
            "Wrote model tarball to ampl_output/H1_std_model_12573f29-b4c1-4940-8535-a0f7183cf1ef.tar.gz\n",
            "rf_estimators: 128, rf_max_depth: 128, rf_max_features: 128, valid_r2: 0.45619419293986263\n",
            "number of features: 1024\n"
          ],
          "name": "stdout"
        },
        {
          "output_type": "stream",
          "text": [
            "2021-03-11 01:46:54,115 Previous dataset split restored\n"
          ],
          "name": "stderr"
        },
        {
          "output_type": "stream",
          "text": [
            "n_cnt [1358.]\n",
            "y_means [6.59994988]\n",
            "y_stds [1.29836641]\n",
            "TIMING: dataset construction took 0.054 s\n",
            "Loading dataset from disk.\n",
            "TIMING: dataset construction took 0.010 s\n",
            "Loading dataset from disk.\n",
            "TIMING: dataset construction took 0.010 s\n",
            "Loading dataset from disk.\n"
          ],
          "name": "stdout"
        },
        {
          "output_type": "stream",
          "text": [
            "2021-03-11 01:46:58,007 Wrote model metadata to file ampl_output/H1_std/RF_ecfp_scaffold_regression/da1817bf-93f9-4039-914c-6289e503ea18/model_metadata.json\n",
            "2021-03-11 01:46:58,187 Wrote model metrics to file ampl_output/H1_std/RF_ecfp_scaffold_regression/da1817bf-93f9-4039-914c-6289e503ea18/model_metrics.json\n"
          ],
          "name": "stderr"
        },
        {
          "output_type": "stream",
          "text": [
            "Wrote model tarball to ampl_output/H1_std_model_da1817bf-93f9-4039-914c-6289e503ea18.tar.gz\n",
            "rf_estimators: 128, rf_max_depth: 128, rf_max_features: 128, valid_r2: 0.4784138426502247\n",
            "number of features: 1024\n"
          ],
          "name": "stdout"
        },
        {
          "output_type": "stream",
          "text": [
            "2021-03-11 01:47:03,786 Previous dataset split restored\n"
          ],
          "name": "stderr"
        },
        {
          "output_type": "stream",
          "text": [
            "n_cnt [1358.]\n",
            "y_means [6.59994988]\n",
            "y_stds [1.29836641]\n",
            "TIMING: dataset construction took 0.052 s\n",
            "Loading dataset from disk.\n",
            "TIMING: dataset construction took 0.010 s\n",
            "Loading dataset from disk.\n",
            "TIMING: dataset construction took 0.013 s\n",
            "Loading dataset from disk.\n"
          ],
          "name": "stdout"
        },
        {
          "output_type": "stream",
          "text": [
            "2021-03-11 01:47:05,314 Wrote model metadata to file ampl_output/H1_std/RF_ecfp_scaffold_regression/8b752948-6d90-4ec4-aa17-56d1ae496256/model_metadata.json\n",
            "2021-03-11 01:47:05,418 Wrote model metrics to file ampl_output/H1_std/RF_ecfp_scaffold_regression/8b752948-6d90-4ec4-aa17-56d1ae496256/model_metrics.json\n"
          ],
          "name": "stderr"
        },
        {
          "output_type": "stream",
          "text": [
            "Wrote model tarball to ampl_output/H1_std_model_8b752948-6d90-4ec4-aa17-56d1ae496256.tar.gz\n",
            "rf_estimators: 128, rf_max_depth: 128, rf_max_features: 128, valid_r2: 0.4279328249065679\n",
            "number of features: 1024\n"
          ],
          "name": "stdout"
        },
        {
          "output_type": "stream",
          "text": [
            "2021-03-11 01:47:10,908 Previous dataset split restored\n"
          ],
          "name": "stderr"
        },
        {
          "output_type": "stream",
          "text": [
            "n_cnt [1358.]\n",
            "y_means [6.59994988]\n",
            "y_stds [1.29836641]\n",
            "TIMING: dataset construction took 0.051 s\n",
            "Loading dataset from disk.\n",
            "TIMING: dataset construction took 0.010 s\n",
            "Loading dataset from disk.\n",
            "TIMING: dataset construction took 0.010 s\n",
            "Loading dataset from disk.\n"
          ],
          "name": "stdout"
        },
        {
          "output_type": "stream",
          "text": [
            "2021-03-11 01:47:12,719 Wrote model metadata to file ampl_output/H1_std/RF_ecfp_scaffold_regression/c26eca76-735e-4831-a245-efed7cf3b315/model_metadata.json\n",
            "2021-03-11 01:47:12,855 Wrote model metrics to file ampl_output/H1_std/RF_ecfp_scaffold_regression/c26eca76-735e-4831-a245-efed7cf3b315/model_metrics.json\n"
          ],
          "name": "stderr"
        },
        {
          "output_type": "stream",
          "text": [
            "Wrote model tarball to ampl_output/H1_std_model_c26eca76-735e-4831-a245-efed7cf3b315.tar.gz\n",
            "rf_estimators: 128, rf_max_depth: 128, rf_max_features: 128, valid_r2: 0.4247182633885348\n",
            "number of features: 1024\n"
          ],
          "name": "stdout"
        },
        {
          "output_type": "stream",
          "text": [
            "2021-03-11 01:47:18,354 Previous dataset split restored\n"
          ],
          "name": "stderr"
        },
        {
          "output_type": "stream",
          "text": [
            "n_cnt [1358.]\n",
            "y_means [6.59994988]\n",
            "y_stds [1.29836641]\n",
            "TIMING: dataset construction took 0.051 s\n",
            "Loading dataset from disk.\n",
            "TIMING: dataset construction took 0.011 s\n",
            "Loading dataset from disk.\n",
            "TIMING: dataset construction took 0.010 s\n",
            "Loading dataset from disk.\n"
          ],
          "name": "stdout"
        },
        {
          "output_type": "stream",
          "text": [
            "2021-03-11 01:47:19,400 Wrote model metadata to file ampl_output/H1_std/RF_ecfp_scaffold_regression/af5ddb21-d6e1-4794-aef5-06bcaaa2e3d7/model_metadata.json\n",
            "2021-03-11 01:47:19,414 Wrote model metrics to file ampl_output/H1_std/RF_ecfp_scaffold_regression/af5ddb21-d6e1-4794-aef5-06bcaaa2e3d7/model_metrics.json\n"
          ],
          "name": "stderr"
        },
        {
          "output_type": "stream",
          "text": [
            "Wrote model tarball to ampl_output/H1_std_model_af5ddb21-d6e1-4794-aef5-06bcaaa2e3d7.tar.gz\n",
            "rf_estimators: 128, rf_max_depth: 128, rf_max_features: 128, valid_r2: 0.40166433575984495\n"
          ],
          "name": "stdout"
        }
      ]
    },
    {
      "cell_type": "code",
      "metadata": {
        "id": "EP7Oub5L67o_",
        "outputId": "d8de91ba-54a2-4612-8efa-5c82359ce74d",
        "colab": {
          "base_uri": "https://localhost:8080/",
          "height": 1000
        }
      },
      "source": [
        "perf_df = pd.DataFrame({\"rf_estimators\": rfe_list, \"rf_max_depth\": rfd_list, \"rf_max_features\": rff_list, \"valid_r2_score\": valid_r2_list})\n",
        "perf_df.sort_values(by=\"valid_r2_score\", ascending=False)"
      ],
      "execution_count": 38,
      "outputs": [
        {
          "output_type": "execute_result",
          "data": {
            "text/html": [
              "<div>\n",
              "<style scoped>\n",
              "    .dataframe tbody tr th:only-of-type {\n",
              "        vertical-align: middle;\n",
              "    }\n",
              "\n",
              "    .dataframe tbody tr th {\n",
              "        vertical-align: top;\n",
              "    }\n",
              "\n",
              "    .dataframe thead th {\n",
              "        text-align: right;\n",
              "    }\n",
              "</style>\n",
              "<table border=\"1\" class=\"dataframe\">\n",
              "  <thead>\n",
              "    <tr style=\"text-align: right;\">\n",
              "      <th></th>\n",
              "      <th>rf_estimators</th>\n",
              "      <th>rf_max_depth</th>\n",
              "      <th>rf_max_features</th>\n",
              "      <th>valid_r2_score</th>\n",
              "    </tr>\n",
              "  </thead>\n",
              "  <tbody>\n",
              "    <tr>\n",
              "      <th>44</th>\n",
              "      <td>22</td>\n",
              "      <td>35</td>\n",
              "      <td>252</td>\n",
              "      <td>0.490220</td>\n",
              "    </tr>\n",
              "    <tr>\n",
              "      <th>46</th>\n",
              "      <td>218</td>\n",
              "      <td>233</td>\n",
              "      <td>236</td>\n",
              "      <td>0.478414</td>\n",
              "    </tr>\n",
              "    <tr>\n",
              "      <th>16</th>\n",
              "      <td>222</td>\n",
              "      <td>211</td>\n",
              "      <td>141</td>\n",
              "      <td>0.477369</td>\n",
              "    </tr>\n",
              "    <tr>\n",
              "      <th>5</th>\n",
              "      <td>240</td>\n",
              "      <td>134</td>\n",
              "      <td>247</td>\n",
              "      <td>0.473999</td>\n",
              "    </tr>\n",
              "    <tr>\n",
              "      <th>43</th>\n",
              "      <td>23</td>\n",
              "      <td>248</td>\n",
              "      <td>215</td>\n",
              "      <td>0.472263</td>\n",
              "    </tr>\n",
              "    <tr>\n",
              "      <th>9</th>\n",
              "      <td>97</td>\n",
              "      <td>200</td>\n",
              "      <td>127</td>\n",
              "      <td>0.470279</td>\n",
              "    </tr>\n",
              "    <tr>\n",
              "      <th>37</th>\n",
              "      <td>197</td>\n",
              "      <td>85</td>\n",
              "      <td>235</td>\n",
              "      <td>0.469994</td>\n",
              "    </tr>\n",
              "    <tr>\n",
              "      <th>40</th>\n",
              "      <td>11</td>\n",
              "      <td>95</td>\n",
              "      <td>214</td>\n",
              "      <td>0.467105</td>\n",
              "    </tr>\n",
              "    <tr>\n",
              "      <th>30</th>\n",
              "      <td>139</td>\n",
              "      <td>115</td>\n",
              "      <td>134</td>\n",
              "      <td>0.465827</td>\n",
              "    </tr>\n",
              "    <tr>\n",
              "      <th>38</th>\n",
              "      <td>187</td>\n",
              "      <td>199</td>\n",
              "      <td>88</td>\n",
              "      <td>0.465302</td>\n",
              "    </tr>\n",
              "    <tr>\n",
              "      <th>3</th>\n",
              "      <td>70</td>\n",
              "      <td>152</td>\n",
              "      <td>148</td>\n",
              "      <td>0.464487</td>\n",
              "    </tr>\n",
              "    <tr>\n",
              "      <th>23</th>\n",
              "      <td>195</td>\n",
              "      <td>103</td>\n",
              "      <td>66</td>\n",
              "      <td>0.463845</td>\n",
              "    </tr>\n",
              "    <tr>\n",
              "      <th>24</th>\n",
              "      <td>115</td>\n",
              "      <td>143</td>\n",
              "      <td>53</td>\n",
              "      <td>0.462418</td>\n",
              "    </tr>\n",
              "    <tr>\n",
              "      <th>7</th>\n",
              "      <td>86</td>\n",
              "      <td>165</td>\n",
              "      <td>88</td>\n",
              "      <td>0.461333</td>\n",
              "    </tr>\n",
              "    <tr>\n",
              "      <th>2</th>\n",
              "      <td>184</td>\n",
              "      <td>232</td>\n",
              "      <td>144</td>\n",
              "      <td>0.459807</td>\n",
              "    </tr>\n",
              "    <tr>\n",
              "      <th>36</th>\n",
              "      <td>251</td>\n",
              "      <td>86</td>\n",
              "      <td>71</td>\n",
              "      <td>0.457644</td>\n",
              "    </tr>\n",
              "    <tr>\n",
              "      <th>35</th>\n",
              "      <td>176</td>\n",
              "      <td>20</td>\n",
              "      <td>174</td>\n",
              "      <td>0.457271</td>\n",
              "    </tr>\n",
              "    <tr>\n",
              "      <th>28</th>\n",
              "      <td>202</td>\n",
              "      <td>241</td>\n",
              "      <td>119</td>\n",
              "      <td>0.456960</td>\n",
              "    </tr>\n",
              "    <tr>\n",
              "      <th>45</th>\n",
              "      <td>207</td>\n",
              "      <td>196</td>\n",
              "      <td>40</td>\n",
              "      <td>0.456194</td>\n",
              "    </tr>\n",
              "    <tr>\n",
              "      <th>33</th>\n",
              "      <td>107</td>\n",
              "      <td>228</td>\n",
              "      <td>185</td>\n",
              "      <td>0.455735</td>\n",
              "    </tr>\n",
              "    <tr>\n",
              "      <th>11</th>\n",
              "      <td>224</td>\n",
              "      <td>152</td>\n",
              "      <td>224</td>\n",
              "      <td>0.455215</td>\n",
              "    </tr>\n",
              "    <tr>\n",
              "      <th>32</th>\n",
              "      <td>236</td>\n",
              "      <td>224</td>\n",
              "      <td>52</td>\n",
              "      <td>0.455184</td>\n",
              "    </tr>\n",
              "    <tr>\n",
              "      <th>39</th>\n",
              "      <td>111</td>\n",
              "      <td>113</td>\n",
              "      <td>141</td>\n",
              "      <td>0.453786</td>\n",
              "    </tr>\n",
              "    <tr>\n",
              "      <th>1</th>\n",
              "      <td>254</td>\n",
              "      <td>109</td>\n",
              "      <td>44</td>\n",
              "      <td>0.453065</td>\n",
              "    </tr>\n",
              "    <tr>\n",
              "      <th>18</th>\n",
              "      <td>92</td>\n",
              "      <td>80</td>\n",
              "      <td>81</td>\n",
              "      <td>0.452498</td>\n",
              "    </tr>\n",
              "    <tr>\n",
              "      <th>19</th>\n",
              "      <td>231</td>\n",
              "      <td>191</td>\n",
              "      <td>46</td>\n",
              "      <td>0.452135</td>\n",
              "    </tr>\n",
              "    <tr>\n",
              "      <th>25</th>\n",
              "      <td>149</td>\n",
              "      <td>32</td>\n",
              "      <td>56</td>\n",
              "      <td>0.451906</td>\n",
              "    </tr>\n",
              "    <tr>\n",
              "      <th>31</th>\n",
              "      <td>17</td>\n",
              "      <td>90</td>\n",
              "      <td>225</td>\n",
              "      <td>0.451400</td>\n",
              "    </tr>\n",
              "    <tr>\n",
              "      <th>0</th>\n",
              "      <td>32</td>\n",
              "      <td>188</td>\n",
              "      <td>198</td>\n",
              "      <td>0.451141</td>\n",
              "    </tr>\n",
              "    <tr>\n",
              "      <th>27</th>\n",
              "      <td>182</td>\n",
              "      <td>160</td>\n",
              "      <td>117</td>\n",
              "      <td>0.450659</td>\n",
              "    </tr>\n",
              "    <tr>\n",
              "      <th>6</th>\n",
              "      <td>169</td>\n",
              "      <td>98</td>\n",
              "      <td>254</td>\n",
              "      <td>0.449959</td>\n",
              "    </tr>\n",
              "    <tr>\n",
              "      <th>22</th>\n",
              "      <td>245</td>\n",
              "      <td>105</td>\n",
              "      <td>211</td>\n",
              "      <td>0.449268</td>\n",
              "    </tr>\n",
              "    <tr>\n",
              "      <th>12</th>\n",
              "      <td>202</td>\n",
              "      <td>18</td>\n",
              "      <td>114</td>\n",
              "      <td>0.448846</td>\n",
              "    </tr>\n",
              "    <tr>\n",
              "      <th>4</th>\n",
              "      <td>44</td>\n",
              "      <td>212</td>\n",
              "      <td>123</td>\n",
              "      <td>0.448503</td>\n",
              "    </tr>\n",
              "    <tr>\n",
              "      <th>10</th>\n",
              "      <td>253</td>\n",
              "      <td>74</td>\n",
              "      <td>252</td>\n",
              "      <td>0.446033</td>\n",
              "    </tr>\n",
              "    <tr>\n",
              "      <th>29</th>\n",
              "      <td>103</td>\n",
              "      <td>69</td>\n",
              "      <td>200</td>\n",
              "      <td>0.445031</td>\n",
              "    </tr>\n",
              "    <tr>\n",
              "      <th>42</th>\n",
              "      <td>8</td>\n",
              "      <td>128</td>\n",
              "      <td>38</td>\n",
              "      <td>0.443177</td>\n",
              "    </tr>\n",
              "    <tr>\n",
              "      <th>21</th>\n",
              "      <td>247</td>\n",
              "      <td>18</td>\n",
              "      <td>60</td>\n",
              "      <td>0.440292</td>\n",
              "    </tr>\n",
              "    <tr>\n",
              "      <th>26</th>\n",
              "      <td>10</td>\n",
              "      <td>152</td>\n",
              "      <td>249</td>\n",
              "      <td>0.438454</td>\n",
              "    </tr>\n",
              "    <tr>\n",
              "      <th>34</th>\n",
              "      <td>96</td>\n",
              "      <td>16</td>\n",
              "      <td>72</td>\n",
              "      <td>0.437841</td>\n",
              "    </tr>\n",
              "    <tr>\n",
              "      <th>17</th>\n",
              "      <td>56</td>\n",
              "      <td>76</td>\n",
              "      <td>230</td>\n",
              "      <td>0.435603</td>\n",
              "    </tr>\n",
              "    <tr>\n",
              "      <th>20</th>\n",
              "      <td>195</td>\n",
              "      <td>58</td>\n",
              "      <td>32</td>\n",
              "      <td>0.434560</td>\n",
              "    </tr>\n",
              "    <tr>\n",
              "      <th>15</th>\n",
              "      <td>194</td>\n",
              "      <td>243</td>\n",
              "      <td>15</td>\n",
              "      <td>0.431556</td>\n",
              "    </tr>\n",
              "    <tr>\n",
              "      <th>47</th>\n",
              "      <td>122</td>\n",
              "      <td>193</td>\n",
              "      <td>42</td>\n",
              "      <td>0.427933</td>\n",
              "    </tr>\n",
              "    <tr>\n",
              "      <th>48</th>\n",
              "      <td>161</td>\n",
              "      <td>246</td>\n",
              "      <td>30</td>\n",
              "      <td>0.424718</td>\n",
              "    </tr>\n",
              "    <tr>\n",
              "      <th>14</th>\n",
              "      <td>119</td>\n",
              "      <td>26</td>\n",
              "      <td>41</td>\n",
              "      <td>0.421633</td>\n",
              "    </tr>\n",
              "    <tr>\n",
              "      <th>41</th>\n",
              "      <td>17</td>\n",
              "      <td>70</td>\n",
              "      <td>250</td>\n",
              "      <td>0.404689</td>\n",
              "    </tr>\n",
              "    <tr>\n",
              "      <th>13</th>\n",
              "      <td>232</td>\n",
              "      <td>111</td>\n",
              "      <td>11</td>\n",
              "      <td>0.403450</td>\n",
              "    </tr>\n",
              "    <tr>\n",
              "      <th>49</th>\n",
              "      <td>39</td>\n",
              "      <td>9</td>\n",
              "      <td>248</td>\n",
              "      <td>0.401664</td>\n",
              "    </tr>\n",
              "    <tr>\n",
              "      <th>8</th>\n",
              "      <td>62</td>\n",
              "      <td>8</td>\n",
              "      <td>15</td>\n",
              "      <td>0.249758</td>\n",
              "    </tr>\n",
              "  </tbody>\n",
              "</table>\n",
              "</div>"
            ],
            "text/plain": [
              "    rf_estimators  rf_max_depth  rf_max_features  valid_r2_score\n",
              "44             22            35              252        0.490220\n",
              "46            218           233              236        0.478414\n",
              "16            222           211              141        0.477369\n",
              "5             240           134              247        0.473999\n",
              "43             23           248              215        0.472263\n",
              "9              97           200              127        0.470279\n",
              "37            197            85              235        0.469994\n",
              "40             11            95              214        0.467105\n",
              "30            139           115              134        0.465827\n",
              "38            187           199               88        0.465302\n",
              "3              70           152              148        0.464487\n",
              "23            195           103               66        0.463845\n",
              "24            115           143               53        0.462418\n",
              "7              86           165               88        0.461333\n",
              "2             184           232              144        0.459807\n",
              "36            251            86               71        0.457644\n",
              "35            176            20              174        0.457271\n",
              "28            202           241              119        0.456960\n",
              "45            207           196               40        0.456194\n",
              "33            107           228              185        0.455735\n",
              "11            224           152              224        0.455215\n",
              "32            236           224               52        0.455184\n",
              "39            111           113              141        0.453786\n",
              "1             254           109               44        0.453065\n",
              "18             92            80               81        0.452498\n",
              "19            231           191               46        0.452135\n",
              "25            149            32               56        0.451906\n",
              "31             17            90              225        0.451400\n",
              "0              32           188              198        0.451141\n",
              "27            182           160              117        0.450659\n",
              "6             169            98              254        0.449959\n",
              "22            245           105              211        0.449268\n",
              "12            202            18              114        0.448846\n",
              "4              44           212              123        0.448503\n",
              "10            253            74              252        0.446033\n",
              "29            103            69              200        0.445031\n",
              "42              8           128               38        0.443177\n",
              "21            247            18               60        0.440292\n",
              "26             10           152              249        0.438454\n",
              "34             96            16               72        0.437841\n",
              "17             56            76              230        0.435603\n",
              "20            195            58               32        0.434560\n",
              "15            194           243               15        0.431556\n",
              "47            122           193               42        0.427933\n",
              "48            161           246               30        0.424718\n",
              "14            119            26               41        0.421633\n",
              "41             17            70              250        0.404689\n",
              "13            232           111               11        0.403450\n",
              "49             39             9              248        0.401664\n",
              "8              62             8               15        0.249758"
            ]
          },
          "metadata": {
            "tags": []
          },
          "execution_count": 38
        }
      ]
    },
    {
      "cell_type": "code",
      "metadata": {
        "id": "hL40_7KF6-BT",
        "outputId": "ce75da85-d5f9-48eb-c438-818daea54819",
        "colab": {
          "base_uri": "https://localhost:8080/",
          "height": 483
        }
      },
      "source": [
        "fig, ax = plt.subplots(1,3,figsize=(21,7))\n",
        "sns.scatterplot(data=perf_df, x=\"rf_estimators\", y=\"valid_r2_score\", ax=ax[0])\n",
        "sns.scatterplot(data=perf_df, x=\"rf_max_depth\", y=\"valid_r2_score\", ax=ax[1])\n",
        "sns.scatterplot(data=perf_df, x=\"rf_max_features\", y=\"valid_r2_score\", ax=ax[2])\n",
        "fig.tight_layout()"
      ],
      "execution_count": 39,
      "outputs": [
        {
          "output_type": "display_data",
          "data": {
            "image/png": "[encoded data removed]",
            "text/plain": [
              "<Figure size 1512x504 with 3 Axes>"
            ]
          },
          "metadata": {
            "tags": []
          }
        }
      ]
    },
    {
      "cell_type": "markdown",
      "metadata": {
        "id": "Za2roo8B7AfH"
      },
      "source": [
        "### Bayesian search"
      ]
    },
    {
      "cell_type": "code",
      "metadata": {
        "id": "ZkLR_Upa-iJT"
      },
      "source": [
        "hp."
      ],
      "execution_count": null,
      "outputs": []
    },
    {
      "cell_type": "code",
      "metadata": {
        "id": "iIHILV2R7Fz4"
      },
      "source": [
        "#define loss function\n",
        "def lossfn(p):\n",
        "    params[\"rf_estimators\"] = int(p[\"rf_estimator\"])\n",
        "    params[\"rf_max_depth\"] = int(p[\"rf_depth\"])\n",
        "    params[\"rf_max_features\"] = int(p[\"rf_feature\"])\n",
        "    \n",
        "    tparam = parse.wrapper(params)\n",
        "    pl = mp.ModelPipeline(tparam)\n",
        "    pl.train_model()\n",
        "    perf_data = pl.model_wrapper.get_perf_data(subset=\"valid\", epoch_label=\"best\")\n",
        "    pred_results = perf_data.get_prediction_results()\n",
        "    r2 = pred_results['r2_score']\n",
        "    return {'loss': 1-r2, \n",
        "            'status': STATUS_OK, \n",
        "            'model': tparam.model_tarball_path, \n",
        "            'rf_estimator': params[\"rf_estimators\"],\n",
        "            'rf_depth': params[\"rf_max_depth\"],\n",
        "            'rf_feature': params[\"rf_max_features\"]}\n",
        "\n",
        "space = {\n",
        "    \"rf_estimator\": hp.uniform(\"rf_estimator\", 8, 256),\n",
        "    \"rf_depth\": hp.uniform(\"rf_depth\", 8, 256),\n",
        "    \"rf_feature\": hp.uniform(\"rf_feature\", 8, 256)\n",
        "}"
      ],
      "execution_count": 41,
      "outputs": []
    },
    {
      "cell_type": "code",
      "metadata": {
        "id": "ndFs9n6f7G-Y",
        "outputId": "e3b563f9-f0e8-4c65-d127-298914ba0300",
        "colab": {
          "base_uri": "https://localhost:8080/"
        }
      },
      "source": [
        "trials = Trials()\n",
        "best = fmin(lossfn, space, algo=tpe.suggest, max_evals=50, trials=trials)"
      ],
      "execution_count": 42,
      "outputs": [
        {
          "output_type": "stream",
          "text": [
            "number of features: 1024\n",
            "  0%|          | 0/50 [00:05<?, ?it/s, best loss: ?]"
          ],
          "name": "stdout"
        },
        {
          "output_type": "stream",
          "text": [
            "2021-03-11 01:51:38,430 Previous dataset split restored\n"
          ],
          "name": "stderr"
        },
        {
          "output_type": "stream",
          "text": [
            "n_cnt\n",
            "[1358.]\n",
            "y_means\n",
            "[6.59994988]\n",
            "y_stds\n",
            "[1.29836641]\n",
            "TIMING: dataset construction took 0.066 s\n",
            "Loading dataset from disk.\n",
            "TIMING: dataset construction took 0.017 s\n",
            "Loading dataset from disk.\n",
            "TIMING: dataset construction took 0.014 s\n",
            "Loading dataset from disk.\n",
            "  0%|          | 0/50 [00:05<?, ?it/s, best loss: ?]"
          ],
          "name": "stdout"
        },
        {
          "output_type": "stream",
          "text": [
            "2021-03-11 01:51:42,634 Wrote model metadata to file ampl_output/H1_std/RF_ecfp_scaffold_regression/76c93f36-0a45-421e-8887-4575c5c5a38b/model_metadata.json\n"
          ],
          "name": "stderr"
        },
        {
          "output_type": "stream",
          "text": [
            "Wrote model tarball to ampl_output/H1_std_model_76c93f36-0a45-421e-8887-4575c5c5a38b.tar.gz\n",
            "  0%|          | 0/50 [00:10<?, ?it/s, best loss: ?]"
          ],
          "name": "stdout"
        },
        {
          "output_type": "stream",
          "text": [
            "2021-03-11 01:51:42,841 Wrote model metrics to file ampl_output/H1_std/RF_ecfp_scaffold_regression/76c93f36-0a45-421e-8887-4575c5c5a38b/model_metrics.json\n"
          ],
          "name": "stderr"
        },
        {
          "output_type": "stream",
          "text": [
            "number of features: 1024\n",
            "  2%|▏         | 1/50 [00:15<08:13, 10.07s/it, best loss: 0.5337526173924108]"
          ],
          "name": "stdout"
        },
        {
          "output_type": "stream",
          "text": [
            "2021-03-11 01:51:48,510 Previous dataset split restored\n"
          ],
          "name": "stderr"
        },
        {
          "output_type": "stream",
          "text": [
            "n_cnt\n",
            "[1358.]\n",
            "y_means\n",
            "[6.59994988]\n",
            "y_stds\n",
            "[1.29836641]\n",
            "TIMING: dataset construction took 0.071 s\n",
            "Loading dataset from disk.\n",
            "TIMING: dataset construction took 0.013 s\n",
            "Loading dataset from disk.\n",
            "TIMING: dataset construction took 0.015 s\n",
            "Loading dataset from disk.\n",
            "  2%|▏         | 1/50 [00:15<08:13, 10.07s/it, best loss: 0.5337526173924108]"
          ],
          "name": "stdout"
        },
        {
          "output_type": "stream",
          "text": [
            "2021-03-11 01:51:51,350 Wrote model metadata to file ampl_output/H1_std/RF_ecfp_scaffold_regression/8c00eaa1-ee1c-4336-85e5-15f388081da1/model_metadata.json\n"
          ],
          "name": "stderr"
        },
        {
          "output_type": "stream",
          "text": [
            "Wrote model tarball to ampl_output/H1_std_model_8c00eaa1-ee1c-4336-85e5-15f388081da1.tar.gz\n",
            "  2%|▏         | 1/50 [00:18<08:13, 10.07s/it, best loss: 0.5337526173924108]"
          ],
          "name": "stdout"
        },
        {
          "output_type": "stream",
          "text": [
            "2021-03-11 01:51:51,473 Wrote model metrics to file ampl_output/H1_std/RF_ecfp_scaffold_regression/8c00eaa1-ee1c-4336-85e5-15f388081da1/model_metrics.json\n"
          ],
          "name": "stderr"
        },
        {
          "output_type": "stream",
          "text": [
            "number of features: 1024\n",
            "  4%|▍         | 2/50 [00:23<07:42,  9.64s/it, best loss: 0.5337526173924108]"
          ],
          "name": "stdout"
        },
        {
          "output_type": "stream",
          "text": [
            "2021-03-11 01:51:57,094 Previous dataset split restored\n"
          ],
          "name": "stderr"
        },
        {
          "output_type": "stream",
          "text": [
            "n_cnt\n",
            "[1358.]\n",
            "y_means\n",
            "[6.59994988]\n",
            "y_stds\n",
            "[1.29836641]\n",
            "TIMING: dataset construction took 0.070 s\n",
            "Loading dataset from disk.\n",
            "TIMING: dataset construction took 0.016 s\n",
            "Loading dataset from disk.\n",
            "TIMING: dataset construction took 0.014 s\n",
            "Loading dataset from disk.\n",
            "  4%|▍         | 2/50 [00:24<07:42,  9.64s/it, best loss: 0.5337526173924108]"
          ],
          "name": "stdout"
        },
        {
          "output_type": "stream",
          "text": [
            "2021-03-11 01:51:58,921 Wrote model metadata to file ampl_output/H1_std/RF_ecfp_scaffold_regression/03267e88-bd1a-411d-b70e-341b93d294a5/model_metadata.json\n"
          ],
          "name": "stderr"
        },
        {
          "output_type": "stream",
          "text": [
            "Wrote model tarball to ampl_output/H1_std_model_03267e88-bd1a-411d-b70e-341b93d294a5.tar.gz\n",
            "  4%|▍         | 2/50 [00:26<07:42,  9.64s/it, best loss: 0.5337526173924108]"
          ],
          "name": "stdout"
        },
        {
          "output_type": "stream",
          "text": [
            "2021-03-11 01:51:59,035 Wrote model metrics to file ampl_output/H1_std/RF_ecfp_scaffold_regression/03267e88-bd1a-411d-b70e-341b93d294a5/model_metrics.json\n"
          ],
          "name": "stderr"
        },
        {
          "output_type": "stream",
          "text": [
            "number of features: 1024\n",
            "  6%|▌         | 3/50 [00:31<07:03,  9.02s/it, best loss: 0.5337526173924108]"
          ],
          "name": "stdout"
        },
        {
          "output_type": "stream",
          "text": [
            "2021-03-11 01:52:04,633 Previous dataset split restored\n"
          ],
          "name": "stderr"
        },
        {
          "output_type": "stream",
          "text": [
            "n_cnt\n",
            "[1358.]\n",
            "y_means\n",
            "[6.59994988]\n",
            "y_stds\n",
            "[1.29836641]\n",
            "TIMING: dataset construction took 0.063 s\n",
            "Loading dataset from disk.\n",
            "TIMING: dataset construction took 0.014 s\n",
            "Loading dataset from disk.\n",
            "TIMING: dataset construction took 0.015 s\n",
            "Loading dataset from disk.\n",
            "  6%|▌         | 3/50 [00:32<07:03,  9.02s/it, best loss: 0.5337526173924108]"
          ],
          "name": "stdout"
        },
        {
          "output_type": "stream",
          "text": [
            "2021-03-11 01:52:06,025 Wrote model metadata to file ampl_output/H1_std/RF_ecfp_scaffold_regression/a1895352-1c7b-4e4b-92e0-bd8112b88e5a/model_metadata.json\n"
          ],
          "name": "stderr"
        },
        {
          "output_type": "stream",
          "text": [
            "Wrote model tarball to ampl_output/H1_std_model_a1895352-1c7b-4e4b-92e0-bd8112b88e5a.tar.gz\n",
            "  6%|▌         | 3/50 [00:33<07:03,  9.02s/it, best loss: 0.5337526173924108]"
          ],
          "name": "stdout"
        },
        {
          "output_type": "stream",
          "text": [
            "2021-03-11 01:52:06,077 Wrote model metrics to file ampl_output/H1_std/RF_ecfp_scaffold_regression/a1895352-1c7b-4e4b-92e0-bd8112b88e5a/model_metrics.json\n"
          ],
          "name": "stderr"
        },
        {
          "output_type": "stream",
          "text": [
            "number of features: 1024\n",
            "  8%|▊         | 4/50 [00:38<06:27,  8.42s/it, best loss: 0.5337526173924108]"
          ],
          "name": "stdout"
        },
        {
          "output_type": "stream",
          "text": [
            "2021-03-11 01:52:11,637 Previous dataset split restored\n"
          ],
          "name": "stderr"
        },
        {
          "output_type": "stream",
          "text": [
            "n_cnt\n",
            "[1358.]\n",
            "y_means\n",
            "[6.59994988]\n",
            "y_stds\n",
            "[1.29836641]\n",
            "TIMING: dataset construction took 0.068 s\n",
            "Loading dataset from disk.\n",
            "TIMING: dataset construction took 0.019 s\n",
            "Loading dataset from disk.\n",
            "TIMING: dataset construction took 0.013 s\n",
            "Loading dataset from disk.\n",
            "  8%|▊         | 4/50 [00:39<06:27,  8.42s/it, best loss: 0.5337526173924108]"
          ],
          "name": "stdout"
        },
        {
          "output_type": "stream",
          "text": [
            "2021-03-11 01:52:13,879 Wrote model metadata to file ampl_output/H1_std/RF_ecfp_scaffold_regression/53fd6d8a-8562-4cf0-b9b0-cdd387e2c7bf/model_metadata.json\n"
          ],
          "name": "stderr"
        },
        {
          "output_type": "stream",
          "text": [
            "Wrote model tarball to ampl_output/H1_std_model_53fd6d8a-8562-4cf0-b9b0-cdd387e2c7bf.tar.gz\n",
            "  8%|▊         | 4/50 [00:41<06:27,  8.42s/it, best loss: 0.5337526173924108]"
          ],
          "name": "stdout"
        },
        {
          "output_type": "stream",
          "text": [
            "2021-03-11 01:52:13,992 Wrote model metrics to file ampl_output/H1_std/RF_ecfp_scaffold_regression/53fd6d8a-8562-4cf0-b9b0-cdd387e2c7bf/model_metrics.json\n"
          ],
          "name": "stderr"
        },
        {
          "output_type": "stream",
          "text": [
            "number of features: 1024\n",
            " 10%|█         | 5/50 [00:46<06:12,  8.27s/it, best loss: 0.5337526173924108]"
          ],
          "name": "stdout"
        },
        {
          "output_type": "stream",
          "text": [
            "2021-03-11 01:52:19,512 Previous dataset split restored\n"
          ],
          "name": "stderr"
        },
        {
          "output_type": "stream",
          "text": [
            "n_cnt\n",
            "[1358.]\n",
            "y_means\n",
            "[6.59994988]\n",
            "y_stds\n",
            "[1.29836641]\n",
            "TIMING: dataset construction took 0.070 s\n",
            "Loading dataset from disk.\n",
            "TIMING: dataset construction took 0.016 s\n",
            "Loading dataset from disk.\n",
            "TIMING: dataset construction took 0.017 s\n",
            "Loading dataset from disk.\n",
            " 10%|█         | 5/50 [00:46<06:12,  8.27s/it, best loss: 0.5337526173924108]"
          ],
          "name": "stdout"
        },
        {
          "output_type": "stream",
          "text": [
            "2021-03-11 01:52:21,991 Wrote model metadata to file ampl_output/H1_std/RF_ecfp_scaffold_regression/d4b40bb3-2d0e-4ff4-a4b2-fbc6f1c59f9b/model_metadata.json\n"
          ],
          "name": "stderr"
        },
        {
          "output_type": "stream",
          "text": [
            "Wrote model tarball to ampl_output/H1_std_model_d4b40bb3-2d0e-4ff4-a4b2-fbc6f1c59f9b.tar.gz\n",
            " 10%|█         | 5/50 [00:49<06:12,  8.27s/it, best loss: 0.5337526173924108]"
          ],
          "name": "stdout"
        },
        {
          "output_type": "stream",
          "text": [
            "2021-03-11 01:52:22,171 Wrote model metrics to file ampl_output/H1_std/RF_ecfp_scaffold_regression/d4b40bb3-2d0e-4ff4-a4b2-fbc6f1c59f9b/model_metrics.json\n"
          ],
          "name": "stderr"
        },
        {
          "output_type": "stream",
          "text": [
            "number of features: 1024\n",
            " 12%|█▏        | 6/50 [00:54<06:02,  8.24s/it, best loss: 0.5333491655234396]"
          ],
          "name": "stdout"
        },
        {
          "output_type": "stream",
          "text": [
            "2021-03-11 01:52:27,782 Previous dataset split restored\n"
          ],
          "name": "stderr"
        },
        {
          "output_type": "stream",
          "text": [
            "n_cnt\n",
            "[1358.]\n",
            "y_means\n",
            "[6.59994988]\n",
            "y_stds\n",
            "[1.29836641]\n",
            "TIMING: dataset construction took 0.079 s\n",
            "Loading dataset from disk.\n",
            "TIMING: dataset construction took 0.011 s\n",
            "Loading dataset from disk.\n",
            "TIMING: dataset construction took 0.015 s\n",
            "Loading dataset from disk.\n",
            " 12%|█▏        | 6/50 [00:55<06:02,  8.24s/it, best loss: 0.5333491655234396]"
          ],
          "name": "stdout"
        },
        {
          "output_type": "stream",
          "text": [
            "2021-03-11 01:52:29,849 Wrote model metadata to file ampl_output/H1_std/RF_ecfp_scaffold_regression/61744a40-a504-4e5e-aad8-ec0b9d6877c6/model_metadata.json\n"
          ],
          "name": "stderr"
        },
        {
          "output_type": "stream",
          "text": [
            "Wrote model tarball to ampl_output/H1_std_model_61744a40-a504-4e5e-aad8-ec0b9d6877c6.tar.gz\n",
            " 12%|█▏        | 6/50 [00:57<06:02,  8.24s/it, best loss: 0.5333491655234396]"
          ],
          "name": "stdout"
        },
        {
          "output_type": "stream",
          "text": [
            "2021-03-11 01:52:30,029 Wrote model metrics to file ampl_output/H1_std/RF_ecfp_scaffold_regression/61744a40-a504-4e5e-aad8-ec0b9d6877c6/model_metrics.json\n"
          ],
          "name": "stderr"
        },
        {
          "output_type": "stream",
          "text": [
            "number of features: 1024\n",
            " 14%|█▍        | 7/50 [01:02<05:49,  8.13s/it, best loss: 0.5333491655234396]"
          ],
          "name": "stdout"
        },
        {
          "output_type": "stream",
          "text": [
            "2021-03-11 01:52:35,562 Previous dataset split restored\n"
          ],
          "name": "stderr"
        },
        {
          "output_type": "stream",
          "text": [
            "n_cnt\n",
            "[1358.]\n",
            "y_means\n",
            "[6.59994988]\n",
            "y_stds\n",
            "[1.29836641]\n",
            "TIMING: dataset construction took 0.072 s\n",
            "Loading dataset from disk.\n",
            "TIMING: dataset construction took 0.017 s\n",
            "Loading dataset from disk.\n",
            "TIMING: dataset construction took 0.019 s\n",
            "Loading dataset from disk.\n",
            " 14%|█▍        | 7/50 [01:02<05:49,  8.13s/it, best loss: 0.5333491655234396]"
          ],
          "name": "stdout"
        },
        {
          "output_type": "stream",
          "text": [
            "2021-03-11 01:52:38,894 Wrote model metadata to file ampl_output/H1_std/RF_ecfp_scaffold_regression/c3cada21-0b9a-4be2-bfbf-3ebb01a8502b/model_metadata.json\n"
          ],
          "name": "stderr"
        },
        {
          "output_type": "stream",
          "text": [
            "Wrote model tarball to ampl_output/H1_std_model_c3cada21-0b9a-4be2-bfbf-3ebb01a8502b.tar.gz\n",
            " 14%|█▍        | 7/50 [01:06<05:49,  8.13s/it, best loss: 0.5333491655234396]"
          ],
          "name": "stdout"
        },
        {
          "output_type": "stream",
          "text": [
            "2021-03-11 01:52:39,060 Wrote model metrics to file ampl_output/H1_std/RF_ecfp_scaffold_regression/c3cada21-0b9a-4be2-bfbf-3ebb01a8502b/model_metrics.json\n"
          ],
          "name": "stderr"
        },
        {
          "output_type": "stream",
          "text": [
            "number of features: 1024\n",
            " 16%|█▌        | 8/50 [01:11<05:52,  8.40s/it, best loss: 0.5333491655234396]"
          ],
          "name": "stdout"
        },
        {
          "output_type": "stream",
          "text": [
            "2021-03-11 01:52:44,576 Previous dataset split restored\n"
          ],
          "name": "stderr"
        },
        {
          "output_type": "stream",
          "text": [
            "n_cnt\n",
            "[1358.]\n",
            "y_means\n",
            "[6.59994988]\n",
            "y_stds\n",
            "[1.29836641]\n",
            "TIMING: dataset construction took 0.069 s\n",
            "Loading dataset from disk.\n",
            "TIMING: dataset construction took 0.011 s\n",
            "Loading dataset from disk.\n",
            "TIMING: dataset construction took 0.010 s\n",
            "Loading dataset from disk.\n",
            " 16%|█▌        | 8/50 [01:12<05:52,  8.40s/it, best loss: 0.5333491655234396]"
          ],
          "name": "stdout"
        },
        {
          "output_type": "stream",
          "text": [
            "2021-03-11 01:52:46,086 Wrote model metadata to file ampl_output/H1_std/RF_ecfp_scaffold_regression/d9efa057-21e3-4915-803d-9cc58f57eefa/model_metadata.json\n"
          ],
          "name": "stderr"
        },
        {
          "output_type": "stream",
          "text": [
            "Wrote model tarball to ampl_output/H1_std_model_d9efa057-21e3-4915-803d-9cc58f57eefa.tar.gz\n",
            " 16%|█▌        | 8/50 [01:13<05:52,  8.40s/it, best loss: 0.5333491655234396]"
          ],
          "name": "stdout"
        },
        {
          "output_type": "stream",
          "text": [
            "2021-03-11 01:52:46,142 Wrote model metrics to file ampl_output/H1_std/RF_ecfp_scaffold_regression/d9efa057-21e3-4915-803d-9cc58f57eefa/model_metrics.json\n"
          ],
          "name": "stderr"
        },
        {
          "output_type": "stream",
          "text": [
            "number of features: 1024\n",
            " 18%|█▊        | 9/50 [01:18<05:28,  8.00s/it, best loss: 0.5333491655234396]"
          ],
          "name": "stdout"
        },
        {
          "output_type": "stream",
          "text": [
            "2021-03-11 01:52:51,708 Previous dataset split restored\n"
          ],
          "name": "stderr"
        },
        {
          "output_type": "stream",
          "text": [
            "n_cnt\n",
            "[1358.]\n",
            "y_means\n",
            "[6.59994988]\n",
            "y_stds\n",
            "[1.29836641]\n",
            "TIMING: dataset construction took 0.066 s\n",
            "Loading dataset from disk.\n",
            "TIMING: dataset construction took 0.018 s\n",
            "Loading dataset from disk.\n",
            "TIMING: dataset construction took 0.015 s\n",
            "Loading dataset from disk.\n",
            " 18%|█▊        | 9/50 [01:19<05:28,  8.00s/it, best loss: 0.5333491655234396]"
          ],
          "name": "stdout"
        },
        {
          "output_type": "stream",
          "text": [
            "2021-03-11 01:52:53,088 Wrote model metadata to file ampl_output/H1_std/RF_ecfp_scaffold_regression/58c8115c-9d06-465b-8477-6f57d183433e/model_metadata.json\n"
          ],
          "name": "stderr"
        },
        {
          "output_type": "stream",
          "text": [
            "Wrote model tarball to ampl_output/H1_std_model_58c8115c-9d06-465b-8477-6f57d183433e.tar.gz\n",
            " 18%|█▊        | 9/50 [01:20<05:28,  8.00s/it, best loss: 0.5333491655234396]"
          ],
          "name": "stdout"
        },
        {
          "output_type": "stream",
          "text": [
            "2021-03-11 01:52:53,125 Wrote model metrics to file ampl_output/H1_std/RF_ecfp_scaffold_regression/58c8115c-9d06-465b-8477-6f57d183433e/model_metrics.json\n"
          ],
          "name": "stderr"
        },
        {
          "output_type": "stream",
          "text": [
            "number of features: 1024\n",
            " 20%|██        | 10/50 [01:25<05:07,  7.70s/it, best loss: 0.5333491655234396]"
          ],
          "name": "stdout"
        },
        {
          "output_type": "stream",
          "text": [
            "2021-03-11 01:52:58,726 Previous dataset split restored\n"
          ],
          "name": "stderr"
        },
        {
          "output_type": "stream",
          "text": [
            "n_cnt\n",
            "[1358.]\n",
            "y_means\n",
            "[6.59994988]\n",
            "y_stds\n",
            "[1.29836641]\n",
            "TIMING: dataset construction took 0.062 s\n",
            "Loading dataset from disk.\n",
            "TIMING: dataset construction took 0.016 s\n",
            "Loading dataset from disk.\n",
            "TIMING: dataset construction took 0.010 s\n",
            "Loading dataset from disk.\n",
            " 20%|██        | 10/50 [01:26<05:07,  7.70s/it, best loss: 0.5333491655234396]"
          ],
          "name": "stdout"
        },
        {
          "output_type": "stream",
          "text": [
            "2021-03-11 01:52:59,899 Wrote model metadata to file ampl_output/H1_std/RF_ecfp_scaffold_regression/a8f8fd0c-aeca-4725-a71b-ee44b7d18238/model_metadata.json\n"
          ],
          "name": "stderr"
        },
        {
          "output_type": "stream",
          "text": [
            "Wrote model tarball to ampl_output/H1_std_model_a8f8fd0c-aeca-4725-a71b-ee44b7d18238.tar.gz\n",
            " 20%|██        | 10/50 [01:27<05:07,  7.70s/it, best loss: 0.5333491655234396]"
          ],
          "name": "stdout"
        },
        {
          "output_type": "stream",
          "text": [
            "2021-03-11 01:52:59,939 Wrote model metrics to file ampl_output/H1_std/RF_ecfp_scaffold_regression/a8f8fd0c-aeca-4725-a71b-ee44b7d18238/model_metrics.json\n"
          ],
          "name": "stderr"
        },
        {
          "output_type": "stream",
          "text": [
            "number of features: 1024\n",
            " 22%|██▏       | 11/50 [01:32<04:49,  7.43s/it, best loss: 0.5333491655234396]"
          ],
          "name": "stdout"
        },
        {
          "output_type": "stream",
          "text": [
            "2021-03-11 01:53:05,495 Previous dataset split restored\n"
          ],
          "name": "stderr"
        },
        {
          "output_type": "stream",
          "text": [
            "n_cnt\n",
            "[1358.]\n",
            "y_means\n",
            "[6.59994988]\n",
            "y_stds\n",
            "[1.29836641]\n",
            "TIMING: dataset construction took 0.068 s\n",
            "Loading dataset from disk.\n",
            "TIMING: dataset construction took 0.017 s\n",
            "Loading dataset from disk.\n",
            "TIMING: dataset construction took 0.014 s\n",
            "Loading dataset from disk.\n",
            " 22%|██▏       | 11/50 [01:32<04:49,  7.43s/it, best loss: 0.5333491655234396]"
          ],
          "name": "stdout"
        },
        {
          "output_type": "stream",
          "text": [
            "2021-03-11 01:53:08,467 Wrote model metadata to file ampl_output/H1_std/RF_ecfp_scaffold_regression/e2c07ead-962b-42af-8036-a8a4f38b3fc3/model_metadata.json\n"
          ],
          "name": "stderr"
        },
        {
          "output_type": "stream",
          "text": [
            "Wrote model tarball to ampl_output/H1_std_model_e2c07ead-962b-42af-8036-a8a4f38b3fc3.tar.gz\n",
            " 22%|██▏       | 11/50 [01:35<04:49,  7.43s/it, best loss: 0.5333491655234396]"
          ],
          "name": "stdout"
        },
        {
          "output_type": "stream",
          "text": [
            "2021-03-11 01:53:08,590 Wrote model metrics to file ampl_output/H1_std/RF_ecfp_scaffold_regression/e2c07ead-962b-42af-8036-a8a4f38b3fc3/model_metrics.json\n"
          ],
          "name": "stderr"
        },
        {
          "output_type": "stream",
          "text": [
            "number of features: 1024\n",
            " 24%|██▍       | 12/50 [01:40<04:56,  7.80s/it, best loss: 0.5333491655234396]"
          ],
          "name": "stdout"
        },
        {
          "output_type": "stream",
          "text": [
            "2021-03-11 01:53:14,134 Previous dataset split restored\n"
          ],
          "name": "stderr"
        },
        {
          "output_type": "stream",
          "text": [
            "n_cnt\n",
            "[1358.]\n",
            "y_means\n",
            "[6.59994988]\n",
            "y_stds\n",
            "[1.29836641]\n",
            "TIMING: dataset construction took 0.073 s\n",
            "Loading dataset from disk.\n",
            "TIMING: dataset construction took 0.021 s\n",
            "Loading dataset from disk.\n",
            "TIMING: dataset construction took 0.019 s\n",
            "Loading dataset from disk.\n",
            " 24%|██▍       | 12/50 [01:41<04:56,  7.80s/it, best loss: 0.5333491655234396]"
          ],
          "name": "stdout"
        },
        {
          "output_type": "stream",
          "text": [
            "2021-03-11 01:53:16,399 Wrote model metadata to file ampl_output/H1_std/RF_ecfp_scaffold_regression/e540f507-3f1a-4297-bf51-218a0d852df4/model_metadata.json\n"
          ],
          "name": "stderr"
        },
        {
          "output_type": "stream",
          "text": [
            "Wrote model tarball to ampl_output/H1_std_model_e540f507-3f1a-4297-bf51-218a0d852df4.tar.gz\n",
            " 24%|██▍       | 12/50 [01:43<04:56,  7.80s/it, best loss: 0.5333491655234396]"
          ],
          "name": "stdout"
        },
        {
          "output_type": "stream",
          "text": [
            "2021-03-11 01:53:16,527 Wrote model metrics to file ampl_output/H1_std/RF_ecfp_scaffold_regression/e540f507-3f1a-4297-bf51-218a0d852df4/model_metrics.json\n"
          ],
          "name": "stderr"
        },
        {
          "output_type": "stream",
          "text": [
            "number of features: 1024\n",
            " 26%|██▌       | 13/50 [01:48<04:50,  7.84s/it, best loss: 0.5250154952721562]"
          ],
          "name": "stdout"
        },
        {
          "output_type": "stream",
          "text": [
            "2021-03-11 01:53:22,090 Previous dataset split restored\n"
          ],
          "name": "stderr"
        },
        {
          "output_type": "stream",
          "text": [
            "n_cnt\n",
            "[1358.]\n",
            "y_means\n",
            "[6.59994988]\n",
            "y_stds\n",
            "[1.29836641]\n",
            "TIMING: dataset construction took 0.068 s\n",
            "Loading dataset from disk.\n",
            "TIMING: dataset construction took 0.018 s\n",
            "Loading dataset from disk.\n",
            "TIMING: dataset construction took 0.012 s\n",
            "Loading dataset from disk.\n",
            " 26%|██▌       | 13/50 [01:49<04:50,  7.84s/it, best loss: 0.5250154952721562]"
          ],
          "name": "stdout"
        },
        {
          "output_type": "stream",
          "text": [
            "2021-03-11 01:53:23,704 Wrote model metadata to file ampl_output/H1_std/RF_ecfp_scaffold_regression/9f307184-7b38-4536-9c81-75a87f6987bd/model_metadata.json\n"
          ],
          "name": "stderr"
        },
        {
          "output_type": "stream",
          "text": [
            "Wrote model tarball to ampl_output/H1_std_model_9f307184-7b38-4536-9c81-75a87f6987bd.tar.gz\n",
            " 26%|██▌       | 13/50 [01:51<04:50,  7.84s/it, best loss: 0.5250154952721562]"
          ],
          "name": "stdout"
        },
        {
          "output_type": "stream",
          "text": [
            "2021-03-11 01:53:23,810 Wrote model metrics to file ampl_output/H1_std/RF_ecfp_scaffold_regression/9f307184-7b38-4536-9c81-75a87f6987bd/model_metrics.json\n"
          ],
          "name": "stderr"
        },
        {
          "output_type": "stream",
          "text": [
            "number of features: 1024\n",
            " 28%|██▊       | 14/50 [01:56<04:36,  7.67s/it, best loss: 0.5250154952721562]"
          ],
          "name": "stdout"
        },
        {
          "output_type": "stream",
          "text": [
            "2021-03-11 01:53:29,363 Previous dataset split restored\n"
          ],
          "name": "stderr"
        },
        {
          "output_type": "stream",
          "text": [
            "n_cnt\n",
            "[1358.]\n",
            "y_means\n",
            "[6.59994988]\n",
            "y_stds\n",
            "[1.29836641]\n",
            "TIMING: dataset construction took 0.065 s\n",
            "Loading dataset from disk.\n",
            "TIMING: dataset construction took 0.017 s\n",
            "Loading dataset from disk.\n",
            "TIMING: dataset construction took 0.015 s\n",
            "Loading dataset from disk.\n",
            " 28%|██▊       | 14/50 [01:56<04:36,  7.67s/it, best loss: 0.5250154952721562]"
          ],
          "name": "stdout"
        },
        {
          "output_type": "stream",
          "text": [
            "2021-03-11 01:53:32,053 Wrote model metadata to file ampl_output/H1_std/RF_ecfp_scaffold_regression/7dec5928-a22a-4b22-8adf-4895599fd818/model_metadata.json\n"
          ],
          "name": "stderr"
        },
        {
          "output_type": "stream",
          "text": [
            "Wrote model tarball to ampl_output/H1_std_model_7dec5928-a22a-4b22-8adf-4895599fd818.tar.gz\n",
            " 28%|██▊       | 14/50 [01:59<04:36,  7.67s/it, best loss: 0.5250154952721562]"
          ],
          "name": "stdout"
        },
        {
          "output_type": "stream",
          "text": [
            "2021-03-11 01:53:32,235 Wrote model metrics to file ampl_output/H1_std/RF_ecfp_scaffold_regression/7dec5928-a22a-4b22-8adf-4895599fd818/model_metrics.json\n"
          ],
          "name": "stderr"
        },
        {
          "output_type": "stream",
          "text": [
            "number of features: 1024\n",
            " 30%|███       | 15/50 [02:04<04:36,  7.90s/it, best loss: 0.5250154952721562]"
          ],
          "name": "stdout"
        },
        {
          "output_type": "stream",
          "text": [
            "2021-03-11 01:53:37,860 Previous dataset split restored\n"
          ],
          "name": "stderr"
        },
        {
          "output_type": "stream",
          "text": [
            "n_cnt\n",
            "[1358.]\n",
            "y_means\n",
            "[6.59994988]\n",
            "y_stds\n",
            "[1.29836641]\n",
            "TIMING: dataset construction took 0.074 s\n",
            "Loading dataset from disk.\n",
            "TIMING: dataset construction took 0.017 s\n",
            "Loading dataset from disk.\n",
            "TIMING: dataset construction took 0.011 s\n",
            "Loading dataset from disk.\n",
            " 30%|███       | 15/50 [02:05<04:36,  7.90s/it, best loss: 0.5250154952721562]"
          ],
          "name": "stdout"
        },
        {
          "output_type": "stream",
          "text": [
            "2021-03-11 01:53:40,400 Wrote model metadata to file ampl_output/H1_std/RF_ecfp_scaffold_regression/94319f7f-9071-4a6d-8b7f-205b58b95068/model_metadata.json\n"
          ],
          "name": "stderr"
        },
        {
          "output_type": "stream",
          "text": [
            "Wrote model tarball to ampl_output/H1_std_model_94319f7f-9071-4a6d-8b7f-205b58b95068.tar.gz\n",
            " 30%|███       | 15/50 [02:07<04:36,  7.90s/it, best loss: 0.5250154952721562]"
          ],
          "name": "stdout"
        },
        {
          "output_type": "stream",
          "text": [
            "2021-03-11 01:53:40,553 Wrote model metrics to file ampl_output/H1_std/RF_ecfp_scaffold_regression/94319f7f-9071-4a6d-8b7f-205b58b95068/model_metrics.json\n"
          ],
          "name": "stderr"
        },
        {
          "output_type": "stream",
          "text": [
            "number of features: 1024\n",
            " 32%|███▏      | 16/50 [02:12<04:32,  8.03s/it, best loss: 0.5250154952721562]"
          ],
          "name": "stdout"
        },
        {
          "output_type": "stream",
          "text": [
            "2021-03-11 01:53:46,121 Previous dataset split restored\n"
          ],
          "name": "stderr"
        },
        {
          "output_type": "stream",
          "text": [
            "n_cnt\n",
            "[1358.]\n",
            "y_means\n",
            "[6.59994988]\n",
            "y_stds\n",
            "[1.29836641]\n",
            "TIMING: dataset construction took 0.078 s\n",
            "Loading dataset from disk.\n",
            "TIMING: dataset construction took 0.014 s\n",
            "Loading dataset from disk.\n",
            "TIMING: dataset construction took 0.016 s\n",
            "Loading dataset from disk.\n",
            " 32%|███▏      | 16/50 [02:13<04:32,  8.03s/it, best loss: 0.5250154952721562]"
          ],
          "name": "stdout"
        },
        {
          "output_type": "stream",
          "text": [
            "2021-03-11 01:53:49,015 Wrote model metadata to file ampl_output/H1_std/RF_ecfp_scaffold_regression/82938342-8e54-4346-9cf5-4b41aa5ced89/model_metadata.json\n"
          ],
          "name": "stderr"
        },
        {
          "output_type": "stream",
          "text": [
            "Wrote model tarball to ampl_output/H1_std_model_82938342-8e54-4346-9cf5-4b41aa5ced89.tar.gz\n",
            " 32%|███▏      | 16/50 [02:16<04:32,  8.03s/it, best loss: 0.5250154952721562]"
          ],
          "name": "stdout"
        },
        {
          "output_type": "stream",
          "text": [
            "2021-03-11 01:53:49,148 Wrote model metrics to file ampl_output/H1_std/RF_ecfp_scaffold_regression/82938342-8e54-4346-9cf5-4b41aa5ced89/model_metrics.json\n"
          ],
          "name": "stderr"
        },
        {
          "output_type": "stream",
          "text": [
            "number of features: 1024\n",
            " 34%|███▍      | 17/50 [02:21<04:30,  8.19s/it, best loss: 0.5250154952721562]"
          ],
          "name": "stdout"
        },
        {
          "output_type": "stream",
          "text": [
            "2021-03-11 01:53:54,681 Previous dataset split restored\n"
          ],
          "name": "stderr"
        },
        {
          "output_type": "stream",
          "text": [
            "n_cnt\n",
            "[1358.]\n",
            "y_means\n",
            "[6.59994988]\n",
            "y_stds\n",
            "[1.29836641]\n",
            "TIMING: dataset construction took 0.073 s\n",
            "Loading dataset from disk.\n",
            "TIMING: dataset construction took 0.016 s\n",
            "Loading dataset from disk.\n",
            "TIMING: dataset construction took 0.016 s\n",
            "Loading dataset from disk.\n",
            " 34%|███▍      | 17/50 [02:22<04:30,  8.19s/it, best loss: 0.5250154952721562]"
          ],
          "name": "stdout"
        },
        {
          "output_type": "stream",
          "text": [
            "2021-03-11 01:53:57,064 Wrote model metadata to file ampl_output/H1_std/RF_ecfp_scaffold_regression/9f65b83e-d747-4e76-8431-23ae5e02545a/model_metadata.json\n"
          ],
          "name": "stderr"
        },
        {
          "output_type": "stream",
          "text": [
            "Wrote model tarball to ampl_output/H1_std_model_9f65b83e-d747-4e76-8431-23ae5e02545a.tar.gz\n",
            " 34%|███▍      | 17/50 [02:24<04:30,  8.19s/it, best loss: 0.5250154952721562]"
          ],
          "name": "stdout"
        },
        {
          "output_type": "stream",
          "text": [
            "2021-03-11 01:53:57,240 Wrote model metrics to file ampl_output/H1_std/RF_ecfp_scaffold_regression/9f65b83e-d747-4e76-8431-23ae5e02545a/model_metrics.json\n"
          ],
          "name": "stderr"
        },
        {
          "output_type": "stream",
          "text": [
            "number of features: 1024\n",
            " 36%|███▌      | 18/50 [02:29<04:21,  8.17s/it, best loss: 0.5250154952721562]"
          ],
          "name": "stdout"
        },
        {
          "output_type": "stream",
          "text": [
            "2021-03-11 01:54:02,805 Previous dataset split restored\n"
          ],
          "name": "stderr"
        },
        {
          "output_type": "stream",
          "text": [
            "n_cnt\n",
            "[1358.]\n",
            "y_means\n",
            "[6.59994988]\n",
            "y_stds\n",
            "[1.29836641]\n",
            "TIMING: dataset construction took 0.064 s\n",
            "Loading dataset from disk.\n",
            "TIMING: dataset construction took 0.019 s\n",
            "Loading dataset from disk.\n",
            "TIMING: dataset construction took 0.013 s\n",
            "Loading dataset from disk.\n",
            " 36%|███▌      | 18/50 [02:30<04:21,  8.17s/it, best loss: 0.5250154952721562]"
          ],
          "name": "stdout"
        },
        {
          "output_type": "stream",
          "text": [
            "2021-03-11 01:54:05,367 Wrote model metadata to file ampl_output/H1_std/RF_ecfp_scaffold_regression/1d05cee4-23a7-438f-9f35-a1ce16c25d39/model_metadata.json\n"
          ],
          "name": "stderr"
        },
        {
          "output_type": "stream",
          "text": [
            "Wrote model tarball to ampl_output/H1_std_model_1d05cee4-23a7-438f-9f35-a1ce16c25d39.tar.gz\n",
            " 36%|███▌      | 18/50 [02:32<04:21,  8.17s/it, best loss: 0.5250154952721562]"
          ],
          "name": "stdout"
        },
        {
          "output_type": "stream",
          "text": [
            "2021-03-11 01:54:05,535 Wrote model metrics to file ampl_output/H1_std/RF_ecfp_scaffold_regression/1d05cee4-23a7-438f-9f35-a1ce16c25d39/model_metrics.json\n"
          ],
          "name": "stderr"
        },
        {
          "output_type": "stream",
          "text": [
            "number of features: 1024\n",
            " 38%|███▊      | 19/50 [02:37<04:14,  8.20s/it, best loss: 0.5250154952721562]"
          ],
          "name": "stdout"
        },
        {
          "output_type": "stream",
          "text": [
            "2021-03-11 01:54:11,149 Previous dataset split restored\n"
          ],
          "name": "stderr"
        },
        {
          "output_type": "stream",
          "text": [
            "n_cnt\n",
            "[1358.]\n",
            "y_means\n",
            "[6.59994988]\n",
            "y_stds\n",
            "[1.29836641]\n",
            "TIMING: dataset construction took 0.058 s\n",
            "Loading dataset from disk.\n",
            "TIMING: dataset construction took 0.016 s\n",
            "Loading dataset from disk.\n",
            "TIMING: dataset construction took 0.015 s\n",
            "Loading dataset from disk.\n",
            " 38%|███▊      | 19/50 [02:38<04:14,  8.20s/it, best loss: 0.5250154952721562]"
          ],
          "name": "stdout"
        },
        {
          "output_type": "stream",
          "text": [
            "2021-03-11 01:54:12,576 Wrote model metadata to file ampl_output/H1_std/RF_ecfp_scaffold_regression/db6c4b78-eda6-4ef6-a706-0c1376f967d9/model_metadata.json\n"
          ],
          "name": "stderr"
        },
        {
          "output_type": "stream",
          "text": [
            "Wrote model tarball to ampl_output/H1_std_model_db6c4b78-eda6-4ef6-a706-0c1376f967d9.tar.gz\n",
            " 38%|███▊      | 19/50 [02:39<04:14,  8.20s/it, best loss: 0.5250154952721562]"
          ],
          "name": "stdout"
        },
        {
          "output_type": "stream",
          "text": [
            "2021-03-11 01:54:12,633 Wrote model metrics to file ampl_output/H1_std/RF_ecfp_scaffold_regression/db6c4b78-eda6-4ef6-a706-0c1376f967d9/model_metrics.json\n"
          ],
          "name": "stderr"
        },
        {
          "output_type": "stream",
          "text": [
            "number of features: 1024\n",
            " 40%|████      | 20/50 [02:44<03:56,  7.87s/it, best loss: 0.5250154952721562]"
          ],
          "name": "stdout"
        },
        {
          "output_type": "stream",
          "text": [
            "2021-03-11 01:54:18,145 Previous dataset split restored\n"
          ],
          "name": "stderr"
        },
        {
          "output_type": "stream",
          "text": [
            "n_cnt\n",
            "[1358.]\n",
            "y_means\n",
            "[6.59994988]\n",
            "y_stds\n",
            "[1.29836641]\n",
            "TIMING: dataset construction took 0.089 s\n",
            "Loading dataset from disk.\n",
            "TIMING: dataset construction took 0.017 s\n",
            "Loading dataset from disk.\n",
            "TIMING: dataset construction took 0.010 s\n",
            "Loading dataset from disk.\n",
            " 40%|████      | 20/50 [02:45<03:56,  7.87s/it, best loss: 0.5250154952721562]"
          ],
          "name": "stdout"
        },
        {
          "output_type": "stream",
          "text": [
            "2021-03-11 01:54:19,664 Wrote model metadata to file ampl_output/H1_std/RF_ecfp_scaffold_regression/02067bd7-3c81-49b7-8682-88bc1788976f/model_metadata.json\n"
          ],
          "name": "stderr"
        },
        {
          "output_type": "stream",
          "text": [
            "Wrote model tarball to ampl_output/H1_std_model_02067bd7-3c81-49b7-8682-88bc1788976f.tar.gz\n",
            " 40%|████      | 20/50 [02:46<03:56,  7.87s/it, best loss: 0.5250154952721562]"
          ],
          "name": "stdout"
        },
        {
          "output_type": "stream",
          "text": [
            "2021-03-11 01:54:19,713 Wrote model metrics to file ampl_output/H1_std/RF_ecfp_scaffold_regression/02067bd7-3c81-49b7-8682-88bc1788976f/model_metrics.json\n"
          ],
          "name": "stderr"
        },
        {
          "output_type": "stream",
          "text": [
            "number of features: 1024\n",
            " 42%|████▏     | 21/50 [02:52<03:41,  7.63s/it, best loss: 0.5250154952721562]"
          ],
          "name": "stdout"
        },
        {
          "output_type": "stream",
          "text": [
            "2021-03-11 01:54:25,278 Previous dataset split restored\n"
          ],
          "name": "stderr"
        },
        {
          "output_type": "stream",
          "text": [
            "n_cnt\n",
            "[1358.]\n",
            "y_means\n",
            "[6.59994988]\n",
            "y_stds\n",
            "[1.29836641]\n",
            "TIMING: dataset construction took 0.072 s\n",
            "Loading dataset from disk.\n",
            "TIMING: dataset construction took 0.011 s\n",
            "Loading dataset from disk.\n",
            "TIMING: dataset construction took 0.018 s\n",
            "Loading dataset from disk.\n",
            " 42%|████▏     | 21/50 [02:52<03:41,  7.63s/it, best loss: 0.5250154952721562]"
          ],
          "name": "stdout"
        },
        {
          "output_type": "stream",
          "text": [
            "2021-03-11 01:54:26,341 Wrote model metadata to file ampl_output/H1_std/RF_ecfp_scaffold_regression/a1c1f078-92c0-4fbd-9f03-772b360d34a2/model_metadata.json\n"
          ],
          "name": "stderr"
        },
        {
          "output_type": "stream",
          "text": [
            "Wrote model tarball to ampl_output/H1_std_model_a1c1f078-92c0-4fbd-9f03-772b360d34a2.tar.gz\n",
            " 42%|████▏     | 21/50 [02:53<03:41,  7.63s/it, best loss: 0.5250154952721562]"
          ],
          "name": "stdout"
        },
        {
          "output_type": "stream",
          "text": [
            "2021-03-11 01:54:26,360 Wrote model metrics to file ampl_output/H1_std/RF_ecfp_scaffold_regression/a1c1f078-92c0-4fbd-9f03-772b360d34a2/model_metrics.json\n"
          ],
          "name": "stderr"
        },
        {
          "output_type": "stream",
          "text": [
            "number of features: 1024\n",
            " 44%|████▍     | 22/50 [02:58<03:25,  7.34s/it, best loss: 0.5250154952721562]"
          ],
          "name": "stdout"
        },
        {
          "output_type": "stream",
          "text": [
            "2021-03-11 01:54:31,967 Previous dataset split restored\n"
          ],
          "name": "stderr"
        },
        {
          "output_type": "stream",
          "text": [
            "n_cnt\n",
            "[1358.]\n",
            "y_means\n",
            "[6.59994988]\n",
            "y_stds\n",
            "[1.29836641]\n",
            "TIMING: dataset construction took 0.090 s\n",
            "Loading dataset from disk.\n",
            "TIMING: dataset construction took 0.016 s\n",
            "Loading dataset from disk.\n",
            "TIMING: dataset construction took 0.017 s\n",
            "Loading dataset from disk.\n",
            " 44%|████▍     | 22/50 [02:59<03:25,  7.34s/it, best loss: 0.5250154952721562]"
          ],
          "name": "stdout"
        },
        {
          "output_type": "stream",
          "text": [
            "2021-03-11 01:54:33,379 Wrote model metadata to file ampl_output/H1_std/RF_ecfp_scaffold_regression/56caec81-1e56-45ba-9631-5c008db678a5/model_metadata.json\n"
          ],
          "name": "stderr"
        },
        {
          "output_type": "stream",
          "text": [
            "Wrote model tarball to ampl_output/H1_std_model_56caec81-1e56-45ba-9631-5c008db678a5.tar.gz\n",
            " 44%|████▍     | 22/50 [03:00<03:25,  7.34s/it, best loss: 0.5250154952721562]"
          ],
          "name": "stdout"
        },
        {
          "output_type": "stream",
          "text": [
            "2021-03-11 01:54:33,411 Wrote model metrics to file ampl_output/H1_std/RF_ecfp_scaffold_regression/56caec81-1e56-45ba-9631-5c008db678a5/model_metrics.json\n"
          ],
          "name": "stderr"
        },
        {
          "output_type": "stream",
          "text": [
            "number of features: 1024\n",
            " 46%|████▌     | 23/50 [03:05<03:15,  7.25s/it, best loss: 0.5250154952721562]"
          ],
          "name": "stdout"
        },
        {
          "output_type": "stream",
          "text": [
            "2021-03-11 01:54:39,017 Previous dataset split restored\n"
          ],
          "name": "stderr"
        },
        {
          "output_type": "stream",
          "text": [
            "n_cnt\n",
            "[1358.]\n",
            "y_means\n",
            "[6.59994988]\n",
            "y_stds\n",
            "[1.29836641]\n",
            "TIMING: dataset construction took 0.068 s\n",
            "Loading dataset from disk.\n",
            "TIMING: dataset construction took 0.017 s\n",
            "Loading dataset from disk.\n",
            "TIMING: dataset construction took 0.013 s\n",
            "Loading dataset from disk.\n",
            " 46%|████▌     | 23/50 [03:06<03:15,  7.25s/it, best loss: 0.5250154952721562]"
          ],
          "name": "stdout"
        },
        {
          "output_type": "stream",
          "text": [
            "2021-03-11 01:54:41,025 Wrote model metadata to file ampl_output/H1_std/RF_ecfp_scaffold_regression/17cb3785-6f3c-4e6d-adaa-7f42328777fd/model_metadata.json\n"
          ],
          "name": "stderr"
        },
        {
          "output_type": "stream",
          "text": [
            "Wrote model tarball to ampl_output/H1_std_model_17cb3785-6f3c-4e6d-adaa-7f42328777fd.tar.gz\n",
            " 46%|████▌     | 23/50 [03:08<03:15,  7.25s/it, best loss: 0.5250154952721562]"
          ],
          "name": "stdout"
        },
        {
          "output_type": "stream",
          "text": [
            "2021-03-11 01:54:41,112 Wrote model metrics to file ampl_output/H1_std/RF_ecfp_scaffold_regression/17cb3785-6f3c-4e6d-adaa-7f42328777fd/model_metrics.json\n"
          ],
          "name": "stderr"
        },
        {
          "output_type": "stream",
          "text": [
            "number of features: 1024\n",
            " 48%|████▊     | 24/50 [03:13<03:12,  7.39s/it, best loss: 0.5250154952721562]"
          ],
          "name": "stdout"
        },
        {
          "output_type": "stream",
          "text": [
            "2021-03-11 01:54:46,631 Previous dataset split restored\n"
          ],
          "name": "stderr"
        },
        {
          "output_type": "stream",
          "text": [
            "n_cnt\n",
            "[1358.]\n",
            "y_means\n",
            "[6.59994988]\n",
            "y_stds\n",
            "[1.29836641]\n",
            "TIMING: dataset construction took 0.069 s\n",
            "Loading dataset from disk.\n",
            "TIMING: dataset construction took 0.015 s\n",
            "Loading dataset from disk.\n",
            "TIMING: dataset construction took 0.011 s\n",
            "Loading dataset from disk.\n",
            " 48%|████▊     | 24/50 [03:14<03:12,  7.39s/it, best loss: 0.5250154952721562]"
          ],
          "name": "stdout"
        },
        {
          "output_type": "stream",
          "text": [
            "2021-03-11 01:54:48,635 Wrote model metadata to file ampl_output/H1_std/RF_ecfp_scaffold_regression/febbe06a-5bc5-4263-9a02-959173d2a567/model_metadata.json\n"
          ],
          "name": "stderr"
        },
        {
          "output_type": "stream",
          "text": [
            "Wrote model tarball to ampl_output/H1_std_model_febbe06a-5bc5-4263-9a02-959173d2a567.tar.gz\n",
            " 48%|████▊     | 24/50 [03:15<03:12,  7.39s/it, best loss: 0.5250154952721562]"
          ],
          "name": "stdout"
        },
        {
          "output_type": "stream",
          "text": [
            "2021-03-11 01:54:48,723 Wrote model metrics to file ampl_output/H1_std/RF_ecfp_scaffold_regression/febbe06a-5bc5-4263-9a02-959173d2a567/model_metrics.json\n"
          ],
          "name": "stderr"
        },
        {
          "output_type": "stream",
          "text": [
            "number of features: 1024\n",
            " 50%|█████     | 25/50 [03:21<03:06,  7.45s/it, best loss: 0.5250154952721562]"
          ],
          "name": "stdout"
        },
        {
          "output_type": "stream",
          "text": [
            "2021-03-11 01:54:54,293 Previous dataset split restored\n"
          ],
          "name": "stderr"
        },
        {
          "output_type": "stream",
          "text": [
            "n_cnt\n",
            "[1358.]\n",
            "y_means\n",
            "[6.59994988]\n",
            "y_stds\n",
            "[1.29836641]\n",
            "TIMING: dataset construction took 0.077 s\n",
            "Loading dataset from disk.\n",
            "TIMING: dataset construction took 0.017 s\n",
            "Loading dataset from disk.\n",
            "TIMING: dataset construction took 0.016 s\n",
            "Loading dataset from disk.\n",
            " 50%|█████     | 25/50 [03:21<03:06,  7.45s/it, best loss: 0.5250154952721562]"
          ],
          "name": "stdout"
        },
        {
          "output_type": "stream",
          "text": [
            "2021-03-11 01:54:56,898 Wrote model metadata to file ampl_output/H1_std/RF_ecfp_scaffold_regression/68f20c67-981b-4814-bb6b-f31e90d9b167/model_metadata.json\n"
          ],
          "name": "stderr"
        },
        {
          "output_type": "stream",
          "text": [
            "Wrote model tarball to ampl_output/H1_std_model_68f20c67-981b-4814-bb6b-f31e90d9b167.tar.gz\n",
            " 50%|█████     | 25/50 [03:24<03:06,  7.45s/it, best loss: 0.5250154952721562]"
          ],
          "name": "stdout"
        },
        {
          "output_type": "stream",
          "text": [
            "2021-03-11 01:54:57,039 Wrote model metrics to file ampl_output/H1_std/RF_ecfp_scaffold_regression/68f20c67-981b-4814-bb6b-f31e90d9b167/model_metrics.json\n"
          ],
          "name": "stderr"
        },
        {
          "output_type": "stream",
          "text": [
            "number of features: 1024\n",
            " 52%|█████▏    | 26/50 [03:29<03:05,  7.71s/it, best loss: 0.5250154952721562]"
          ],
          "name": "stdout"
        },
        {
          "output_type": "stream",
          "text": [
            "2021-03-11 01:55:02,585 Previous dataset split restored\n"
          ],
          "name": "stderr"
        },
        {
          "output_type": "stream",
          "text": [
            "n_cnt\n",
            "[1358.]\n",
            "y_means\n",
            "[6.59994988]\n",
            "y_stds\n",
            "[1.29836641]\n",
            "TIMING: dataset construction took 0.073 s\n",
            "Loading dataset from disk.\n",
            "TIMING: dataset construction took 0.020 s\n",
            "Loading dataset from disk.\n",
            "TIMING: dataset construction took 0.016 s\n",
            "Loading dataset from disk.\n",
            " 52%|█████▏    | 26/50 [03:30<03:05,  7.71s/it, best loss: 0.5250154952721562]"
          ],
          "name": "stdout"
        },
        {
          "output_type": "stream",
          "text": [
            "2021-03-11 01:55:04,692 Wrote model metadata to file ampl_output/H1_std/RF_ecfp_scaffold_regression/32404fda-964e-4be5-837b-564defac765a/model_metadata.json\n"
          ],
          "name": "stderr"
        },
        {
          "output_type": "stream",
          "text": [
            "Wrote model tarball to ampl_output/H1_std_model_32404fda-964e-4be5-837b-564defac765a.tar.gz\n",
            " 52%|█████▏    | 26/50 [03:32<03:05,  7.71s/it, best loss: 0.5250154952721562]"
          ],
          "name": "stdout"
        },
        {
          "output_type": "stream",
          "text": [
            "2021-03-11 01:55:04,790 Wrote model metrics to file ampl_output/H1_std/RF_ecfp_scaffold_regression/32404fda-964e-4be5-837b-564defac765a/model_metrics.json\n"
          ],
          "name": "stderr"
        },
        {
          "output_type": "stream",
          "text": [
            "number of features: 1024\n",
            " 54%|█████▍    | 27/50 [03:37<02:57,  7.72s/it, best loss: 0.5250154952721562]"
          ],
          "name": "stdout"
        },
        {
          "output_type": "stream",
          "text": [
            "2021-03-11 01:55:10,348 Previous dataset split restored\n"
          ],
          "name": "stderr"
        },
        {
          "output_type": "stream",
          "text": [
            "n_cnt\n",
            "[1358.]\n",
            "y_means\n",
            "[6.59994988]\n",
            "y_stds\n",
            "[1.29836641]\n",
            "TIMING: dataset construction took 0.073 s\n",
            "Loading dataset from disk.\n",
            "TIMING: dataset construction took 0.011 s\n",
            "Loading dataset from disk.\n",
            "TIMING: dataset construction took 0.010 s\n",
            "Loading dataset from disk.\n",
            " 54%|█████▍    | 27/50 [03:37<02:57,  7.72s/it, best loss: 0.5250154952721562]"
          ],
          "name": "stdout"
        },
        {
          "output_type": "stream",
          "text": [
            "2021-03-11 01:55:12,008 Wrote model metadata to file ampl_output/H1_std/RF_ecfp_scaffold_regression/2ed2d47e-f89f-4c77-9b38-d2ffe938f5c2/model_metadata.json\n"
          ],
          "name": "stderr"
        },
        {
          "output_type": "stream",
          "text": [
            "Wrote model tarball to ampl_output/H1_std_model_2ed2d47e-f89f-4c77-9b38-d2ffe938f5c2.tar.gz\n",
            " 54%|█████▍    | 27/50 [03:39<02:57,  7.72s/it, best loss: 0.5250154952721562]"
          ],
          "name": "stdout"
        },
        {
          "output_type": "stream",
          "text": [
            "2021-03-11 01:55:12,076 Wrote model metrics to file ampl_output/H1_std/RF_ecfp_scaffold_regression/2ed2d47e-f89f-4c77-9b38-d2ffe938f5c2/model_metrics.json\n"
          ],
          "name": "stderr"
        },
        {
          "output_type": "stream",
          "text": [
            "number of features: 1024\n",
            " 56%|█████▌    | 28/50 [03:44<02:47,  7.59s/it, best loss: 0.5250154952721562]"
          ],
          "name": "stdout"
        },
        {
          "output_type": "stream",
          "text": [
            "2021-03-11 01:55:17,676 Previous dataset split restored\n"
          ],
          "name": "stderr"
        },
        {
          "output_type": "stream",
          "text": [
            "n_cnt\n",
            "[1358.]\n",
            "y_means\n",
            "[6.59994988]\n",
            "y_stds\n",
            "[1.29836641]\n",
            "TIMING: dataset construction took 0.071 s\n",
            "Loading dataset from disk.\n",
            "TIMING: dataset construction took 0.018 s\n",
            "Loading dataset from disk.\n",
            "TIMING: dataset construction took 0.016 s\n",
            "Loading dataset from disk.\n",
            " 56%|█████▌    | 28/50 [03:45<02:47,  7.59s/it, best loss: 0.5250154952721562]"
          ],
          "name": "stdout"
        },
        {
          "output_type": "stream",
          "text": [
            "2021-03-11 01:55:21,524 Wrote model metadata to file ampl_output/H1_std/RF_ecfp_scaffold_regression/da411529-0fc2-482e-b7ba-a022793585a1/model_metadata.json\n"
          ],
          "name": "stderr"
        },
        {
          "output_type": "stream",
          "text": [
            "Wrote model tarball to ampl_output/H1_std_model_da411529-0fc2-482e-b7ba-a022793585a1.tar.gz\n",
            " 56%|█████▌    | 28/50 [03:48<02:47,  7.59s/it, best loss: 0.5250154952721562]"
          ],
          "name": "stdout"
        },
        {
          "output_type": "stream",
          "text": [
            "2021-03-11 01:55:21,720 Wrote model metrics to file ampl_output/H1_std/RF_ecfp_scaffold_regression/da411529-0fc2-482e-b7ba-a022793585a1/model_metrics.json\n"
          ],
          "name": "stderr"
        },
        {
          "output_type": "stream",
          "text": [
            "number of features: 1024\n",
            " 58%|█████▊    | 29/50 [03:54<02:52,  8.21s/it, best loss: 0.5250154952721562]"
          ],
          "name": "stdout"
        },
        {
          "output_type": "stream",
          "text": [
            "2021-03-11 01:55:27,289 Previous dataset split restored\n"
          ],
          "name": "stderr"
        },
        {
          "output_type": "stream",
          "text": [
            "n_cnt\n",
            "[1358.]\n",
            "y_means\n",
            "[6.59994988]\n",
            "y_stds\n",
            "[1.29836641]\n",
            "TIMING: dataset construction took 0.073 s\n",
            "Loading dataset from disk.\n",
            "TIMING: dataset construction took 0.011 s\n",
            "Loading dataset from disk.\n",
            "TIMING: dataset construction took 0.020 s\n",
            "Loading dataset from disk.\n",
            " 58%|█████▊    | 29/50 [03:54<02:52,  8.21s/it, best loss: 0.5250154952721562]"
          ],
          "name": "stdout"
        },
        {
          "output_type": "stream",
          "text": [
            "2021-03-11 01:55:29,763 Wrote model metadata to file ampl_output/H1_std/RF_ecfp_scaffold_regression/a48f17ae-ed70-4b82-a1c9-4948c9119e8f/model_metadata.json\n"
          ],
          "name": "stderr"
        },
        {
          "output_type": "stream",
          "text": [
            "Wrote model tarball to ampl_output/H1_std_model_a48f17ae-ed70-4b82-a1c9-4948c9119e8f.tar.gz\n",
            " 58%|█████▊    | 29/50 [03:57<02:52,  8.21s/it, best loss: 0.5250154952721562]"
          ],
          "name": "stdout"
        },
        {
          "output_type": "stream",
          "text": [
            "2021-03-11 01:55:29,896 Wrote model metrics to file ampl_output/H1_std/RF_ecfp_scaffold_regression/a48f17ae-ed70-4b82-a1c9-4948c9119e8f/model_metrics.json\n"
          ],
          "name": "stderr"
        },
        {
          "output_type": "stream",
          "text": [
            "number of features: 1024\n",
            " 60%|██████    | 30/50 [04:02<02:43,  8.20s/it, best loss: 0.5250154952721562]"
          ],
          "name": "stdout"
        },
        {
          "output_type": "stream",
          "text": [
            "2021-03-11 01:55:35,417 Previous dataset split restored\n"
          ],
          "name": "stderr"
        },
        {
          "output_type": "stream",
          "text": [
            "n_cnt\n",
            "[1358.]\n",
            "y_means\n",
            "[6.59994988]\n",
            "y_stds\n",
            "[1.29836641]\n",
            "TIMING: dataset construction took 0.072 s\n",
            "Loading dataset from disk.\n",
            "TIMING: dataset construction took 0.022 s\n",
            "Loading dataset from disk.\n",
            "TIMING: dataset construction took 0.015 s\n",
            "Loading dataset from disk.\n",
            " 60%|██████    | 30/50 [04:02<02:43,  8.20s/it, best loss: 0.5250154952721562]"
          ],
          "name": "stdout"
        },
        {
          "output_type": "stream",
          "text": [
            "2021-03-11 01:55:36,446 Wrote model metadata to file ampl_output/H1_std/RF_ecfp_scaffold_regression/5b030a1c-e616-4c04-90cb-69dd13125770/model_metadata.json\n"
          ],
          "name": "stderr"
        },
        {
          "output_type": "stream",
          "text": [
            "Wrote model tarball to ampl_output/H1_std_model_5b030a1c-e616-4c04-90cb-69dd13125770.tar.gz\n",
            " 60%|██████    | 30/50 [04:03<02:43,  8.20s/it, best loss: 0.5250154952721562]"
          ],
          "name": "stdout"
        },
        {
          "output_type": "stream",
          "text": [
            "2021-03-11 01:55:36,474 Wrote model metrics to file ampl_output/H1_std/RF_ecfp_scaffold_regression/5b030a1c-e616-4c04-90cb-69dd13125770/model_metrics.json\n"
          ],
          "name": "stderr"
        },
        {
          "output_type": "stream",
          "text": [
            "number of features: 1024\n",
            " 62%|██████▏   | 31/50 [04:08<02:26,  7.71s/it, best loss: 0.5250154952721562]"
          ],
          "name": "stdout"
        },
        {
          "output_type": "stream",
          "text": [
            "2021-03-11 01:55:42,078 Previous dataset split restored\n"
          ],
          "name": "stderr"
        },
        {
          "output_type": "stream",
          "text": [
            "n_cnt\n",
            "[1358.]\n",
            "y_means\n",
            "[6.59994988]\n",
            "y_stds\n",
            "[1.29836641]\n",
            "TIMING: dataset construction took 0.078 s\n",
            "Loading dataset from disk.\n",
            "TIMING: dataset construction took 0.018 s\n",
            "Loading dataset from disk.\n",
            "TIMING: dataset construction took 0.016 s\n",
            "Loading dataset from disk.\n",
            " 62%|██████▏   | 31/50 [04:09<02:26,  7.71s/it, best loss: 0.5250154952721562]"
          ],
          "name": "stdout"
        },
        {
          "output_type": "stream",
          "text": [
            "2021-03-11 01:55:43,244 Wrote model metadata to file ampl_output/H1_std/RF_ecfp_scaffold_regression/e0c72103-d902-4f74-9e1d-435b7ef5039c/model_metadata.json\n"
          ],
          "name": "stderr"
        },
        {
          "output_type": "stream",
          "text": [
            "Wrote model tarball to ampl_output/H1_std_model_e0c72103-d902-4f74-9e1d-435b7ef5039c.tar.gz\n",
            " 62%|██████▏   | 31/50 [04:10<02:26,  7.71s/it, best loss: 0.5250154952721562]"
          ],
          "name": "stdout"
        },
        {
          "output_type": "stream",
          "text": [
            "2021-03-11 01:55:43,270 Wrote model metrics to file ampl_output/H1_std/RF_ecfp_scaffold_regression/e0c72103-d902-4f74-9e1d-435b7ef5039c/model_metrics.json\n"
          ],
          "name": "stderr"
        },
        {
          "output_type": "stream",
          "text": [
            "number of features: 1024\n",
            " 64%|██████▍   | 32/50 [04:15<02:13,  7.44s/it, best loss: 0.5250154952721562]"
          ],
          "name": "stdout"
        },
        {
          "output_type": "stream",
          "text": [
            "2021-03-11 01:55:48,904 Previous dataset split restored\n"
          ],
          "name": "stderr"
        },
        {
          "output_type": "stream",
          "text": [
            "n_cnt\n",
            "[1358.]\n",
            "y_means\n",
            "[6.59994988]\n",
            "y_stds\n",
            "[1.29836641]\n",
            "TIMING: dataset construction took 0.077 s\n",
            "Loading dataset from disk.\n",
            "TIMING: dataset construction took 0.022 s\n",
            "Loading dataset from disk.\n",
            "TIMING: dataset construction took 0.012 s\n",
            "Loading dataset from disk.\n",
            " 64%|██████▍   | 32/50 [04:16<02:13,  7.44s/it, best loss: 0.5250154952721562]"
          ],
          "name": "stdout"
        },
        {
          "output_type": "stream",
          "text": [
            "2021-03-11 01:55:53,032 Wrote model metadata to file ampl_output/H1_std/RF_ecfp_scaffold_regression/13bf9fb4-4d18-40bb-af7f-b9075f8e5d51/model_metadata.json\n"
          ],
          "name": "stderr"
        },
        {
          "output_type": "stream",
          "text": [
            "Wrote model tarball to ampl_output/H1_std_model_13bf9fb4-4d18-40bb-af7f-b9075f8e5d51.tar.gz\n",
            " 64%|██████▍   | 32/50 [04:20<02:13,  7.44s/it, best loss: 0.5250154952721562]"
          ],
          "name": "stdout"
        },
        {
          "output_type": "stream",
          "text": [
            "2021-03-11 01:55:53,221 Wrote model metrics to file ampl_output/H1_std/RF_ecfp_scaffold_regression/13bf9fb4-4d18-40bb-af7f-b9075f8e5d51/model_metrics.json\n"
          ],
          "name": "stderr"
        },
        {
          "output_type": "stream",
          "text": [
            "number of features: 1024\n",
            " 66%|██████▌   | 33/50 [04:25<02:19,  8.19s/it, best loss: 0.5250154952721562]"
          ],
          "name": "stdout"
        },
        {
          "output_type": "stream",
          "text": [
            "2021-03-11 01:55:58,774 Previous dataset split restored\n"
          ],
          "name": "stderr"
        },
        {
          "output_type": "stream",
          "text": [
            "n_cnt\n",
            "[1358.]\n",
            "y_means\n",
            "[6.59994988]\n",
            "y_stds\n",
            "[1.29836641]\n",
            "TIMING: dataset construction took 0.068 s\n",
            "Loading dataset from disk.\n",
            "TIMING: dataset construction took 0.011 s\n",
            "Loading dataset from disk.\n",
            "TIMING: dataset construction took 0.015 s\n",
            "Loading dataset from disk.\n",
            " 66%|██████▌   | 33/50 [04:26<02:19,  8.19s/it, best loss: 0.5250154952721562]"
          ],
          "name": "stdout"
        },
        {
          "output_type": "stream",
          "text": [
            "2021-03-11 01:56:00,434 Wrote model metadata to file ampl_output/H1_std/RF_ecfp_scaffold_regression/a1d5b225-8edf-4c9a-ade1-ca8513b33b0d/model_metadata.json\n"
          ],
          "name": "stderr"
        },
        {
          "output_type": "stream",
          "text": [
            "Wrote model tarball to ampl_output/H1_std_model_a1d5b225-8edf-4c9a-ade1-ca8513b33b0d.tar.gz\n",
            " 66%|██████▌   | 33/50 [04:27<02:19,  8.19s/it, best loss: 0.5250154952721562]"
          ],
          "name": "stdout"
        },
        {
          "output_type": "stream",
          "text": [
            "2021-03-11 01:56:00,561 Wrote model metrics to file ampl_output/H1_std/RF_ecfp_scaffold_regression/a1d5b225-8edf-4c9a-ade1-ca8513b33b0d/model_metrics.json\n"
          ],
          "name": "stderr"
        },
        {
          "output_type": "stream",
          "text": [
            "number of features: 1024\n",
            " 68%|██████▊   | 34/50 [04:32<02:06,  7.94s/it, best loss: 0.5250154952721562]"
          ],
          "name": "stdout"
        },
        {
          "output_type": "stream",
          "text": [
            "2021-03-11 01:56:06,113 Previous dataset split restored\n"
          ],
          "name": "stderr"
        },
        {
          "output_type": "stream",
          "text": [
            "n_cnt\n",
            "[1358.]\n",
            "y_means\n",
            "[6.59994988]\n",
            "y_stds\n",
            "[1.29836641]\n",
            "TIMING: dataset construction took 0.070 s\n",
            "Loading dataset from disk.\n",
            "TIMING: dataset construction took 0.016 s\n",
            "Loading dataset from disk.\n",
            "TIMING: dataset construction took 0.011 s\n",
            "Loading dataset from disk.\n",
            " 68%|██████▊   | 34/50 [04:33<02:06,  7.94s/it, best loss: 0.5250154952721562]"
          ],
          "name": "stdout"
        },
        {
          "output_type": "stream",
          "text": [
            "2021-03-11 01:56:07,972 Wrote model metadata to file ampl_output/H1_std/RF_ecfp_scaffold_regression/4eeb1cf3-e614-462c-87fd-79ed09310898/model_metadata.json\n"
          ],
          "name": "stderr"
        },
        {
          "output_type": "stream",
          "text": [
            "Wrote model tarball to ampl_output/H1_std_model_4eeb1cf3-e614-462c-87fd-79ed09310898.tar.gz\n",
            " 68%|██████▊   | 34/50 [04:35<02:06,  7.94s/it, best loss: 0.5250154952721562]"
          ],
          "name": "stdout"
        },
        {
          "output_type": "stream",
          "text": [
            "2021-03-11 01:56:08,045 Wrote model metrics to file ampl_output/H1_std/RF_ecfp_scaffold_regression/4eeb1cf3-e614-462c-87fd-79ed09310898/model_metrics.json\n"
          ],
          "name": "stderr"
        },
        {
          "output_type": "stream",
          "text": [
            "number of features: 1024\n",
            " 70%|███████   | 35/50 [04:40<01:56,  7.80s/it, best loss: 0.5240899965622219]"
          ],
          "name": "stdout"
        },
        {
          "output_type": "stream",
          "text": [
            "2021-03-11 01:56:13,692 Previous dataset split restored\n"
          ],
          "name": "stderr"
        },
        {
          "output_type": "stream",
          "text": [
            "n_cnt\n",
            "[1358.]\n",
            "y_means\n",
            "[6.59994988]\n",
            "y_stds\n",
            "[1.29836641]\n",
            "TIMING: dataset construction took 0.080 s\n",
            "Loading dataset from disk.\n",
            "TIMING: dataset construction took 0.013 s\n",
            "Loading dataset from disk.\n",
            "TIMING: dataset construction took 0.011 s\n",
            "Loading dataset from disk.\n",
            " 70%|███████   | 35/50 [04:41<01:56,  7.80s/it, best loss: 0.5240899965622219]"
          ],
          "name": "stdout"
        },
        {
          "output_type": "stream",
          "text": [
            "2021-03-11 01:56:15,039 Wrote model metadata to file ampl_output/H1_std/RF_ecfp_scaffold_regression/36c128ca-2b8b-425a-82e3-8fc94ab5f2d1/model_metadata.json\n"
          ],
          "name": "stderr"
        },
        {
          "output_type": "stream",
          "text": [
            "Wrote model tarball to ampl_output/H1_std_model_36c128ca-2b8b-425a-82e3-8fc94ab5f2d1.tar.gz\n",
            " 70%|███████   | 35/50 [04:42<01:56,  7.80s/it, best loss: 0.5240899965622219]"
          ],
          "name": "stdout"
        },
        {
          "output_type": "stream",
          "text": [
            "2021-03-11 01:56:15,109 Wrote model metrics to file ampl_output/H1_std/RF_ecfp_scaffold_regression/36c128ca-2b8b-425a-82e3-8fc94ab5f2d1/model_metrics.json\n"
          ],
          "name": "stderr"
        },
        {
          "output_type": "stream",
          "text": [
            "number of features: 1024\n",
            " 72%|███████▏  | 36/50 [04:47<01:46,  7.58s/it, best loss: 0.5240899965622219]"
          ],
          "name": "stdout"
        },
        {
          "output_type": "stream",
          "text": [
            "2021-03-11 01:56:20,714 Previous dataset split restored\n"
          ],
          "name": "stderr"
        },
        {
          "output_type": "stream",
          "text": [
            "n_cnt\n",
            "[1358.]\n",
            "y_means\n",
            "[6.59994988]\n",
            "y_stds\n",
            "[1.29836641]\n",
            "TIMING: dataset construction took 0.104 s\n",
            "Loading dataset from disk.\n",
            "TIMING: dataset construction took 0.018 s\n",
            "Loading dataset from disk.\n",
            "TIMING: dataset construction took 0.019 s\n",
            "Loading dataset from disk.\n",
            " 72%|███████▏  | 36/50 [04:48<01:46,  7.58s/it, best loss: 0.5240899965622219]"
          ],
          "name": "stdout"
        },
        {
          "output_type": "stream",
          "text": [
            "2021-03-11 01:56:22,677 Wrote model metadata to file ampl_output/H1_std/RF_ecfp_scaffold_regression/a42c74b0-96af-4841-a1ed-b82987e2cd14/model_metadata.json\n"
          ],
          "name": "stderr"
        },
        {
          "output_type": "stream",
          "text": [
            "Wrote model tarball to ampl_output/H1_std_model_a42c74b0-96af-4841-a1ed-b82987e2cd14.tar.gz\n",
            " 72%|███████▏  | 36/50 [04:50<01:46,  7.58s/it, best loss: 0.5240899965622219]"
          ],
          "name": "stdout"
        },
        {
          "output_type": "stream",
          "text": [
            "2021-03-11 01:56:22,784 Wrote model metrics to file ampl_output/H1_std/RF_ecfp_scaffold_regression/a42c74b0-96af-4841-a1ed-b82987e2cd14/model_metrics.json\n"
          ],
          "name": "stderr"
        },
        {
          "output_type": "stream",
          "text": [
            "number of features: 1024\n",
            " 74%|███████▍  | 37/50 [04:55<01:38,  7.61s/it, best loss: 0.5240899965622219]"
          ],
          "name": "stdout"
        },
        {
          "output_type": "stream",
          "text": [
            "2021-03-11 01:56:28,349 Previous dataset split restored\n"
          ],
          "name": "stderr"
        },
        {
          "output_type": "stream",
          "text": [
            "n_cnt\n",
            "[1358.]\n",
            "y_means\n",
            "[6.59994988]\n",
            "y_stds\n",
            "[1.29836641]\n",
            "TIMING: dataset construction took 0.074 s\n",
            "Loading dataset from disk.\n",
            "TIMING: dataset construction took 0.013 s\n",
            "Loading dataset from disk.\n",
            "TIMING: dataset construction took 0.011 s\n",
            "Loading dataset from disk.\n",
            " 74%|███████▍  | 37/50 [04:55<01:38,  7.61s/it, best loss: 0.5240899965622219]"
          ],
          "name": "stdout"
        },
        {
          "output_type": "stream",
          "text": [
            "2021-03-11 01:56:32,641 Wrote model metadata to file ampl_output/H1_std/RF_ecfp_scaffold_regression/9147af50-af69-4a9b-aae9-33092bd297a4/model_metadata.json\n"
          ],
          "name": "stderr"
        },
        {
          "output_type": "stream",
          "text": [
            "Wrote model tarball to ampl_output/H1_std_model_9147af50-af69-4a9b-aae9-33092bd297a4.tar.gz\n",
            " 74%|███████▍  | 37/50 [05:00<01:38,  7.61s/it, best loss: 0.5240899965622219]"
          ],
          "name": "stdout"
        },
        {
          "output_type": "stream",
          "text": [
            "2021-03-11 01:56:32,849 Wrote model metrics to file ampl_output/H1_std/RF_ecfp_scaffold_regression/9147af50-af69-4a9b-aae9-33092bd297a4/model_metrics.json\n"
          ],
          "name": "stderr"
        },
        {
          "output_type": "stream",
          "text": [
            "number of features: 1024\n",
            " 76%|███████▌  | 38/50 [05:05<01:40,  8.35s/it, best loss: 0.5240899965622219]"
          ],
          "name": "stdout"
        },
        {
          "output_type": "stream",
          "text": [
            "2021-03-11 01:56:38,444 Previous dataset split restored\n"
          ],
          "name": "stderr"
        },
        {
          "output_type": "stream",
          "text": [
            "n_cnt\n",
            "[1358.]\n",
            "y_means\n",
            "[6.59994988]\n",
            "y_stds\n",
            "[1.29836641]\n",
            "TIMING: dataset construction took 0.077 s\n",
            "Loading dataset from disk.\n",
            "TIMING: dataset construction took 0.014 s\n",
            "Loading dataset from disk.\n",
            "TIMING: dataset construction took 0.012 s\n",
            "Loading dataset from disk.\n",
            " 76%|███████▌  | 38/50 [05:05<01:40,  8.35s/it, best loss: 0.5240899965622219]"
          ],
          "name": "stdout"
        },
        {
          "output_type": "stream",
          "text": [
            "2021-03-11 01:56:39,844 Wrote model metadata to file ampl_output/H1_std/RF_ecfp_scaffold_regression/60a55eda-97d3-4734-8e01-a6f1eabd7a63/model_metadata.json\n"
          ],
          "name": "stderr"
        },
        {
          "output_type": "stream",
          "text": [
            "Wrote model tarball to ampl_output/H1_std_model_60a55eda-97d3-4734-8e01-a6f1eabd7a63.tar.gz\n",
            " 76%|███████▌  | 38/50 [05:07<01:40,  8.35s/it, best loss: 0.5240899965622219]"
          ],
          "name": "stdout"
        },
        {
          "output_type": "stream",
          "text": [
            "2021-03-11 01:56:39,891 Wrote model metrics to file ampl_output/H1_std/RF_ecfp_scaffold_regression/60a55eda-97d3-4734-8e01-a6f1eabd7a63/model_metrics.json\n"
          ],
          "name": "stderr"
        },
        {
          "output_type": "stream",
          "text": [
            "number of features: 1024\n",
            " 78%|███████▊  | 39/50 [05:12<01:27,  7.95s/it, best loss: 0.5240899965622219]"
          ],
          "name": "stdout"
        },
        {
          "output_type": "stream",
          "text": [
            "2021-03-11 01:56:45,444 Previous dataset split restored\n"
          ],
          "name": "stderr"
        },
        {
          "output_type": "stream",
          "text": [
            "n_cnt\n",
            "[1358.]\n",
            "y_means\n",
            "[6.59994988]\n",
            "y_stds\n",
            "[1.29836641]\n",
            "TIMING: dataset construction took 0.074 s\n",
            "Loading dataset from disk.\n",
            "TIMING: dataset construction took 0.024 s\n",
            "Loading dataset from disk.\n",
            "TIMING: dataset construction took 0.016 s\n",
            "Loading dataset from disk.\n",
            " 78%|███████▊  | 39/50 [05:12<01:27,  7.95s/it, best loss: 0.5240899965622219]"
          ],
          "name": "stdout"
        },
        {
          "output_type": "stream",
          "text": [
            "2021-03-11 01:56:47,708 Wrote model metadata to file ampl_output/H1_std/RF_ecfp_scaffold_regression/b7f5e93e-b39f-4608-8e8c-650773ac2c0c/model_metadata.json\n"
          ],
          "name": "stderr"
        },
        {
          "output_type": "stream",
          "text": [
            "Wrote model tarball to ampl_output/H1_std_model_b7f5e93e-b39f-4608-8e8c-650773ac2c0c.tar.gz\n",
            " 78%|███████▊  | 39/50 [05:15<01:27,  7.95s/it, best loss: 0.5240899965622219]"
          ],
          "name": "stdout"
        },
        {
          "output_type": "stream",
          "text": [
            "2021-03-11 01:56:47,829 Wrote model metrics to file ampl_output/H1_std/RF_ecfp_scaffold_regression/b7f5e93e-b39f-4608-8e8c-650773ac2c0c/model_metrics.json\n"
          ],
          "name": "stderr"
        },
        {
          "output_type": "stream",
          "text": [
            "number of features: 1024\n",
            " 80%|████████  | 40/50 [05:20<01:19,  7.95s/it, best loss: 0.5240899965622219]"
          ],
          "name": "stdout"
        },
        {
          "output_type": "stream",
          "text": [
            "2021-03-11 01:56:53,487 Previous dataset split restored\n"
          ],
          "name": "stderr"
        },
        {
          "output_type": "stream",
          "text": [
            "n_cnt\n",
            "[1358.]\n",
            "y_means\n",
            "[6.59994988]\n",
            "y_stds\n",
            "[1.29836641]\n",
            "TIMING: dataset construction took 0.078 s\n",
            "Loading dataset from disk.\n",
            "TIMING: dataset construction took 0.016 s\n",
            "Loading dataset from disk.\n",
            "TIMING: dataset construction took 0.016 s\n",
            "Loading dataset from disk.\n",
            " 80%|████████  | 40/50 [05:20<01:19,  7.95s/it, best loss: 0.5240899965622219]"
          ],
          "name": "stdout"
        },
        {
          "output_type": "stream",
          "text": [
            "2021-03-11 01:56:55,708 Wrote model metadata to file ampl_output/H1_std/RF_ecfp_scaffold_regression/b39b7e26-c22e-4682-977b-e835fa395d1b/model_metadata.json\n"
          ],
          "name": "stderr"
        },
        {
          "output_type": "stream",
          "text": [
            "Wrote model tarball to ampl_output/H1_std_model_b39b7e26-c22e-4682-977b-e835fa395d1b.tar.gz\n",
            " 80%|████████  | 40/50 [05:23<01:19,  7.95s/it, best loss: 0.5240899965622219]"
          ],
          "name": "stdout"
        },
        {
          "output_type": "stream",
          "text": [
            "2021-03-11 01:56:55,861 Wrote model metrics to file ampl_output/H1_std/RF_ecfp_scaffold_regression/b39b7e26-c22e-4682-977b-e835fa395d1b/model_metrics.json\n"
          ],
          "name": "stderr"
        },
        {
          "output_type": "stream",
          "text": [
            "number of features: 1024\n",
            " 82%|████████▏ | 41/50 [05:28<01:11,  7.97s/it, best loss: 0.5240899965622219]"
          ],
          "name": "stdout"
        },
        {
          "output_type": "stream",
          "text": [
            "2021-03-11 01:57:01,432 Previous dataset split restored\n"
          ],
          "name": "stderr"
        },
        {
          "output_type": "stream",
          "text": [
            "n_cnt\n",
            "[1358.]\n",
            "y_means\n",
            "[6.59994988]\n",
            "y_stds\n",
            "[1.29836641]\n",
            "TIMING: dataset construction took 0.068 s\n",
            "Loading dataset from disk.\n",
            "TIMING: dataset construction took 0.011 s\n",
            "Loading dataset from disk.\n",
            "TIMING: dataset construction took 0.016 s\n",
            "Loading dataset from disk.\n",
            " 82%|████████▏ | 41/50 [05:28<01:11,  7.97s/it, best loss: 0.5240899965622219]"
          ],
          "name": "stdout"
        },
        {
          "output_type": "stream",
          "text": [
            "2021-03-11 01:57:03,405 Wrote model metadata to file ampl_output/H1_std/RF_ecfp_scaffold_regression/00c1b116-4e6f-45be-83cc-6a5f9e885a72/model_metadata.json\n"
          ],
          "name": "stderr"
        },
        {
          "output_type": "stream",
          "text": [
            "Wrote model tarball to ampl_output/H1_std_model_00c1b116-4e6f-45be-83cc-6a5f9e885a72.tar.gz\n",
            " 82%|████████▏ | 41/50 [05:30<01:11,  7.97s/it, best loss: 0.5240899965622219]"
          ],
          "name": "stdout"
        },
        {
          "output_type": "stream",
          "text": [
            "2021-03-11 01:57:03,488 Wrote model metrics to file ampl_output/H1_std/RF_ecfp_scaffold_regression/00c1b116-4e6f-45be-83cc-6a5f9e885a72/model_metrics.json\n"
          ],
          "name": "stderr"
        },
        {
          "output_type": "stream",
          "text": [
            "number of features: 1024\n",
            " 84%|████████▍ | 42/50 [05:35<01:02,  7.87s/it, best loss: 0.5240899965622219]"
          ],
          "name": "stdout"
        },
        {
          "output_type": "stream",
          "text": [
            "2021-03-11 01:57:09,070 Previous dataset split restored\n"
          ],
          "name": "stderr"
        },
        {
          "output_type": "stream",
          "text": [
            "n_cnt\n",
            "[1358.]\n",
            "y_means\n",
            "[6.59994988]\n",
            "y_stds\n",
            "[1.29836641]\n",
            "TIMING: dataset construction took 0.078 s\n",
            "Loading dataset from disk.\n",
            "TIMING: dataset construction took 0.018 s\n",
            "Loading dataset from disk.\n",
            "TIMING: dataset construction took 0.018 s\n",
            "Loading dataset from disk.\n",
            " 84%|████████▍ | 42/50 [05:36<01:02,  7.87s/it, best loss: 0.5240899965622219]"
          ],
          "name": "stdout"
        },
        {
          "output_type": "stream",
          "text": [
            "2021-03-11 01:57:10,368 Wrote model metadata to file ampl_output/H1_std/RF_ecfp_scaffold_regression/b3c07c2b-c897-4886-b3a0-fa9606f21e5e/model_metadata.json\n"
          ],
          "name": "stderr"
        },
        {
          "output_type": "stream",
          "text": [
            "Wrote model tarball to ampl_output/H1_std_model_b3c07c2b-c897-4886-b3a0-fa9606f21e5e.tar.gz\n",
            " 84%|████████▍ | 42/50 [05:37<01:02,  7.87s/it, best loss: 0.5240899965622219]"
          ],
          "name": "stdout"
        },
        {
          "output_type": "stream",
          "text": [
            "2021-03-11 01:57:10,404 Wrote model metrics to file ampl_output/H1_std/RF_ecfp_scaffold_regression/b3c07c2b-c897-4886-b3a0-fa9606f21e5e/model_metrics.json\n"
          ],
          "name": "stderr"
        },
        {
          "output_type": "stream",
          "text": [
            "number of features: 1024\n",
            " 86%|████████▌ | 43/50 [05:42<00:53,  7.58s/it, best loss: 0.5240899965622219]"
          ],
          "name": "stdout"
        },
        {
          "output_type": "stream",
          "text": [
            "2021-03-11 01:57:16,007 Previous dataset split restored\n"
          ],
          "name": "stderr"
        },
        {
          "output_type": "stream",
          "text": [
            "n_cnt\n",
            "[1358.]\n",
            "y_means\n",
            "[6.59994988]\n",
            "y_stds\n",
            "[1.29836641]\n",
            "TIMING: dataset construction took 0.077 s\n",
            "Loading dataset from disk.\n",
            "TIMING: dataset construction took 0.016 s\n",
            "Loading dataset from disk.\n",
            "TIMING: dataset construction took 0.016 s\n",
            "Loading dataset from disk.\n",
            " 86%|████████▌ | 43/50 [05:43<00:53,  7.58s/it, best loss: 0.5240899965622219]"
          ],
          "name": "stdout"
        },
        {
          "output_type": "stream",
          "text": [
            "2021-03-11 01:57:17,417 Wrote model metadata to file ampl_output/H1_std/RF_ecfp_scaffold_regression/341fc8d6-7b81-42f3-9d33-c77bfb327aa7/model_metadata.json\n"
          ],
          "name": "stderr"
        },
        {
          "output_type": "stream",
          "text": [
            "Wrote model tarball to ampl_output/H1_std_model_341fc8d6-7b81-42f3-9d33-c77bfb327aa7.tar.gz\n",
            " 86%|████████▌ | 43/50 [05:44<00:53,  7.58s/it, best loss: 0.5240899965622219]"
          ],
          "name": "stdout"
        },
        {
          "output_type": "stream",
          "text": [
            "2021-03-11 01:57:17,471 Wrote model metrics to file ampl_output/H1_std/RF_ecfp_scaffold_regression/341fc8d6-7b81-42f3-9d33-c77bfb327aa7/model_metrics.json\n"
          ],
          "name": "stderr"
        },
        {
          "output_type": "stream",
          "text": [
            "number of features: 1024\n",
            " 88%|████████▊ | 44/50 [05:49<00:44,  7.43s/it, best loss: 0.5240899965622219]"
          ],
          "name": "stdout"
        },
        {
          "output_type": "stream",
          "text": [
            "2021-03-11 01:57:23,067 Previous dataset split restored\n"
          ],
          "name": "stderr"
        },
        {
          "output_type": "stream",
          "text": [
            "n_cnt\n",
            "[1358.]\n",
            "y_means\n",
            "[6.59994988]\n",
            "y_stds\n",
            "[1.29836641]\n",
            "TIMING: dataset construction took 0.062 s\n",
            "Loading dataset from disk.\n",
            "TIMING: dataset construction took 0.015 s\n",
            "Loading dataset from disk.\n",
            "TIMING: dataset construction took 0.028 s\n",
            "Loading dataset from disk.\n",
            " 88%|████████▊ | 44/50 [05:50<00:44,  7.43s/it, best loss: 0.5240899965622219]"
          ],
          "name": "stdout"
        },
        {
          "output_type": "stream",
          "text": [
            "2021-03-11 01:57:24,690 Wrote model metadata to file ampl_output/H1_std/RF_ecfp_scaffold_regression/693eb40b-7584-4288-b376-1d00edcbd92e/model_metadata.json\n"
          ],
          "name": "stderr"
        },
        {
          "output_type": "stream",
          "text": [
            "Wrote model tarball to ampl_output/H1_std_model_693eb40b-7584-4288-b376-1d00edcbd92e.tar.gz\n",
            " 88%|████████▊ | 44/50 [05:52<00:44,  7.43s/it, best loss: 0.5240899965622219]"
          ],
          "name": "stdout"
        },
        {
          "output_type": "stream",
          "text": [
            "2021-03-11 01:57:24,799 Wrote model metrics to file ampl_output/H1_std/RF_ecfp_scaffold_regression/693eb40b-7584-4288-b376-1d00edcbd92e/model_metrics.json\n"
          ],
          "name": "stderr"
        },
        {
          "output_type": "stream",
          "text": [
            "number of features: 1024\n",
            " 90%|█████████ | 45/50 [05:57<00:36,  7.40s/it, best loss: 0.5240899965622219]"
          ],
          "name": "stdout"
        },
        {
          "output_type": "stream",
          "text": [
            "2021-03-11 01:57:30,405 Previous dataset split restored\n"
          ],
          "name": "stderr"
        },
        {
          "output_type": "stream",
          "text": [
            "n_cnt\n",
            "[1358.]\n",
            "y_means\n",
            "[6.59994988]\n",
            "y_stds\n",
            "[1.29836641]\n",
            "TIMING: dataset construction took 0.070 s\n",
            "Loading dataset from disk.\n",
            "TIMING: dataset construction took 0.017 s\n",
            "Loading dataset from disk.\n",
            "TIMING: dataset construction took 0.015 s\n",
            "Loading dataset from disk.\n",
            " 90%|█████████ | 45/50 [05:57<00:36,  7.40s/it, best loss: 0.5240899965622219]"
          ],
          "name": "stdout"
        },
        {
          "output_type": "stream",
          "text": [
            "2021-03-11 01:57:32,816 Wrote model metadata to file ampl_output/H1_std/RF_ecfp_scaffold_regression/349801a4-b08d-402e-ac6c-a363574af232/model_metadata.json\n"
          ],
          "name": "stderr"
        },
        {
          "output_type": "stream",
          "text": [
            "Wrote model tarball to ampl_output/H1_std_model_349801a4-b08d-402e-ac6c-a363574af232.tar.gz\n",
            " 90%|█████████ | 45/50 [06:00<00:36,  7.40s/it, best loss: 0.5240899965622219]"
          ],
          "name": "stdout"
        },
        {
          "output_type": "stream",
          "text": [
            "2021-03-11 01:57:32,961 Wrote model metrics to file ampl_output/H1_std/RF_ecfp_scaffold_regression/349801a4-b08d-402e-ac6c-a363574af232/model_metrics.json\n"
          ],
          "name": "stderr"
        },
        {
          "output_type": "stream",
          "text": [
            "number of features: 1024\n",
            " 92%|█████████▏| 46/50 [06:05<00:30,  7.63s/it, best loss: 0.5240899965622219]"
          ],
          "name": "stdout"
        },
        {
          "output_type": "stream",
          "text": [
            "2021-03-11 01:57:38,511 Previous dataset split restored\n"
          ],
          "name": "stderr"
        },
        {
          "output_type": "stream",
          "text": [
            "n_cnt\n",
            "[1358.]\n",
            "y_means\n",
            "[6.59994988]\n",
            "y_stds\n",
            "[1.29836641]\n",
            "TIMING: dataset construction took 0.080 s\n",
            "Loading dataset from disk.\n",
            "TIMING: dataset construction took 0.021 s\n",
            "Loading dataset from disk.\n",
            "TIMING: dataset construction took 0.023 s\n",
            "Loading dataset from disk.\n",
            " 92%|█████████▏| 46/50 [06:05<00:30,  7.63s/it, best loss: 0.5240899965622219]"
          ],
          "name": "stdout"
        },
        {
          "output_type": "stream",
          "text": [
            "2021-03-11 01:57:40,269 Wrote model metadata to file ampl_output/H1_std/RF_ecfp_scaffold_regression/1fece5ba-36c1-4b5c-8eb3-7499b37bc7a2/model_metadata.json\n"
          ],
          "name": "stderr"
        },
        {
          "output_type": "stream",
          "text": [
            "Wrote model tarball to ampl_output/H1_std_model_1fece5ba-36c1-4b5c-8eb3-7499b37bc7a2.tar.gz\n",
            " 92%|█████████▏| 46/50 [06:07<00:30,  7.63s/it, best loss: 0.5240899965622219]"
          ],
          "name": "stdout"
        },
        {
          "output_type": "stream",
          "text": [
            "2021-03-11 01:57:40,335 Wrote model metrics to file ampl_output/H1_std/RF_ecfp_scaffold_regression/1fece5ba-36c1-4b5c-8eb3-7499b37bc7a2/model_metrics.json\n"
          ],
          "name": "stderr"
        },
        {
          "output_type": "stream",
          "text": [
            "number of features: 1024\n",
            " 94%|█████████▍| 47/50 [06:12<00:22,  7.55s/it, best loss: 0.5240899965622219]"
          ],
          "name": "stdout"
        },
        {
          "output_type": "stream",
          "text": [
            "2021-03-11 01:57:45,896 Previous dataset split restored\n"
          ],
          "name": "stderr"
        },
        {
          "output_type": "stream",
          "text": [
            "n_cnt\n",
            "[1358.]\n",
            "y_means\n",
            "[6.59994988]\n",
            "y_stds\n",
            "[1.29836641]\n",
            "TIMING: dataset construction took 0.071 s\n",
            "Loading dataset from disk.\n",
            "TIMING: dataset construction took 0.011 s\n",
            "Loading dataset from disk.\n",
            "TIMING: dataset construction took 0.015 s\n",
            "Loading dataset from disk.\n",
            " 94%|█████████▍| 47/50 [06:13<00:22,  7.55s/it, best loss: 0.5240899965622219]"
          ],
          "name": "stdout"
        },
        {
          "output_type": "stream",
          "text": [
            "2021-03-11 01:57:48,478 Wrote model metadata to file ampl_output/H1_std/RF_ecfp_scaffold_regression/abb6a7a3-e317-4d7a-a362-c86dc5a17117/model_metadata.json\n"
          ],
          "name": "stderr"
        },
        {
          "output_type": "stream",
          "text": [
            "Wrote model tarball to ampl_output/H1_std_model_abb6a7a3-e317-4d7a-a362-c86dc5a17117.tar.gz\n",
            " 94%|█████████▍| 47/50 [06:15<00:22,  7.55s/it, best loss: 0.5240899965622219]"
          ],
          "name": "stdout"
        },
        {
          "output_type": "stream",
          "text": [
            "2021-03-11 01:57:48,646 Wrote model metrics to file ampl_output/H1_std/RF_ecfp_scaffold_regression/abb6a7a3-e317-4d7a-a362-c86dc5a17117/model_metrics.json\n"
          ],
          "name": "stderr"
        },
        {
          "output_type": "stream",
          "text": [
            "number of features: 1024\n",
            " 96%|█████████▌| 48/50 [06:21<00:15,  7.78s/it, best loss: 0.5240899965622219]"
          ],
          "name": "stdout"
        },
        {
          "output_type": "stream",
          "text": [
            "2021-03-11 01:57:54,215 Previous dataset split restored\n"
          ],
          "name": "stderr"
        },
        {
          "output_type": "stream",
          "text": [
            "n_cnt\n",
            "[1358.]\n",
            "y_means\n",
            "[6.59994988]\n",
            "y_stds\n",
            "[1.29836641]\n",
            "TIMING: dataset construction took 0.091 s\n",
            "Loading dataset from disk.\n",
            "TIMING: dataset construction took 0.018 s\n",
            "Loading dataset from disk.\n",
            "TIMING: dataset construction took 0.021 s\n",
            "Loading dataset from disk.\n",
            " 96%|█████████▌| 48/50 [06:21<00:15,  7.78s/it, best loss: 0.5240899965622219]"
          ],
          "name": "stdout"
        },
        {
          "output_type": "stream",
          "text": [
            "2021-03-11 01:57:56,781 Wrote model metadata to file ampl_output/H1_std/RF_ecfp_scaffold_regression/3b29bcb0-4fe0-4400-80af-81683ecf3f57/model_metadata.json\n"
          ],
          "name": "stderr"
        },
        {
          "output_type": "stream",
          "text": [
            "Wrote model tarball to ampl_output/H1_std_model_3b29bcb0-4fe0-4400-80af-81683ecf3f57.tar.gz\n",
            " 96%|█████████▌| 48/50 [06:24<00:15,  7.78s/it, best loss: 0.5240899965622219]"
          ],
          "name": "stdout"
        },
        {
          "output_type": "stream",
          "text": [
            "2021-03-11 01:57:56,908 Wrote model metrics to file ampl_output/H1_std/RF_ecfp_scaffold_regression/3b29bcb0-4fe0-4400-80af-81683ecf3f57/model_metrics.json\n"
          ],
          "name": "stderr"
        },
        {
          "output_type": "stream",
          "text": [
            "number of features: 1024\n",
            " 98%|█████████▊| 49/50 [06:29<00:07,  7.93s/it, best loss: 0.5240899965622219]"
          ],
          "name": "stdout"
        },
        {
          "output_type": "stream",
          "text": [
            "2021-03-11 01:58:02,476 Previous dataset split restored\n"
          ],
          "name": "stderr"
        },
        {
          "output_type": "stream",
          "text": [
            "n_cnt\n",
            "[1358.]\n",
            "y_means\n",
            "[6.59994988]\n",
            "y_stds\n",
            "[1.29836641]\n",
            "TIMING: dataset construction took 0.080 s\n",
            "Loading dataset from disk.\n",
            "TIMING: dataset construction took 0.015 s\n",
            "Loading dataset from disk.\n",
            "TIMING: dataset construction took 0.014 s\n",
            "Loading dataset from disk.\n",
            " 98%|█████████▊| 49/50 [06:29<00:07,  7.93s/it, best loss: 0.5240899965622219]"
          ],
          "name": "stdout"
        },
        {
          "output_type": "stream",
          "text": [
            "2021-03-11 01:58:04,438 Wrote model metadata to file ampl_output/H1_std/RF_ecfp_scaffold_regression/94209e64-68d1-48a6-a434-3680fffff953/model_metadata.json\n"
          ],
          "name": "stderr"
        },
        {
          "output_type": "stream",
          "text": [
            "Wrote model tarball to ampl_output/H1_std_model_94209e64-68d1-48a6-a434-3680fffff953.tar.gz\n",
            " 98%|█████████▊| 49/50 [06:31<00:07,  7.93s/it, best loss: 0.5240899965622219]"
          ],
          "name": "stdout"
        },
        {
          "output_type": "stream",
          "text": [
            "2021-03-11 01:58:04,546 Wrote model metrics to file ampl_output/H1_std/RF_ecfp_scaffold_regression/94209e64-68d1-48a6-a434-3680fffff953/model_metrics.json\n"
          ],
          "name": "stderr"
        },
        {
          "output_type": "stream",
          "text": [
            "100%|██████████| 50/50 [06:31<00:00,  7.84s/it, best loss: 0.5240899965622219]\n"
          ],
          "name": "stdout"
        }
      ]
    },
    {
      "cell_type": "code",
      "metadata": {
        "id": "2l-of-gh7Jaq",
        "outputId": "4dd59ed4-3bd5-45b7-bc77-695710039d64",
        "colab": {
          "base_uri": "https://localhost:8080/",
          "height": 635
        }
      },
      "source": [
        "r2_list = [1-trials.trials[i][\"result\"][\"loss\"] for i in range(len(trials.trials))]\n",
        "fig, ax = plt.subplots(1,1,figsize=(10,10))\n",
        "sns.lineplot(x=list(range(1,len(trials.trials)+1)), y=r2_list, ax=ax)\n",
        "ax.set_ylim(0.2,0.6)"
      ],
      "execution_count": 43,
      "outputs": [
        {
          "output_type": "execute_result",
          "data": {
            "text/plain": [
              "(0.2, 0.6)"
            ]
          },
          "metadata": {
            "tags": []
          },
          "execution_count": 43
        },
        {
          "output_type": "display_data",
          "data": {
            "image/png": "[encoded data removed]",
            "text/plain": [
              "<Figure size 720x720 with 1 Axes>"
            ]
          },
          "metadata": {
            "tags": []
          }
        }
      ]
    },
    {
      "cell_type": "code",
      "metadata": {
        "id": "lhvjj4tx7LQB"
      },
      "source": [
        "rfe_list = [trials.trials[i][\"result\"][\"rf_estimator\"] for i in range(len(trials.trials))]\n",
        "rfd_list = [trials.trials[i][\"result\"][\"rf_depth\"] for i in range(len(trials.trials))]\n",
        "rff_list = [trials.trials[i][\"result\"][\"rf_feature\"] for i in range(len(trials.trials))]"
      ],
      "execution_count": 44,
      "outputs": []
    },
    {
      "cell_type": "code",
      "metadata": {
        "id": "1ELOR0Ij7OVJ",
        "outputId": "9a7e7140-48c5-4565-ccb2-e09fe41eb45c",
        "colab": {
          "base_uri": "https://localhost:8080/",
          "height": 1000
        }
      },
      "source": [
        "perf_df = pd.DataFrame({\"rf_estimators\": rfe_list, \"rf_max_depth\": rfd_list, \"rf_max_features\": rff_list, \"valid_r2_score\": r2_list})\n",
        "perf_df.sort_values(by=\"valid_r2_score\", ascending=False)"
      ],
      "execution_count": 45,
      "outputs": [
        {
          "output_type": "execute_result",
          "data": {
            "text/html": [
              "<div>\n",
              "<style scoped>\n",
              "    .dataframe tbody tr th:only-of-type {\n",
              "        vertical-align: middle;\n",
              "    }\n",
              "\n",
              "    .dataframe tbody tr th {\n",
              "        vertical-align: top;\n",
              "    }\n",
              "\n",
              "    .dataframe thead th {\n",
              "        text-align: right;\n",
              "    }\n",
              "</style>\n",
              "<table border=\"1\" class=\"dataframe\">\n",
              "  <thead>\n",
              "    <tr style=\"text-align: right;\">\n",
              "      <th></th>\n",
              "      <th>rf_estimators</th>\n",
              "      <th>rf_max_depth</th>\n",
              "      <th>rf_max_features</th>\n",
              "      <th>valid_r2_score</th>\n",
              "    </tr>\n",
              "  </thead>\n",
              "  <tbody>\n",
              "    <tr>\n",
              "      <th>34</th>\n",
              "      <td>73</td>\n",
              "      <td>147</td>\n",
              "      <td>226</td>\n",
              "      <td>0.475910</td>\n",
              "    </tr>\n",
              "    <tr>\n",
              "      <th>12</th>\n",
              "      <td>144</td>\n",
              "      <td>77</td>\n",
              "      <td>124</td>\n",
              "      <td>0.474985</td>\n",
              "    </tr>\n",
              "    <tr>\n",
              "      <th>39</th>\n",
              "      <td>140</td>\n",
              "      <td>28</td>\n",
              "      <td>129</td>\n",
              "      <td>0.474240</td>\n",
              "    </tr>\n",
              "    <tr>\n",
              "      <th>43</th>\n",
              "      <td>51</td>\n",
              "      <td>142</td>\n",
              "      <td>148</td>\n",
              "      <td>0.470261</td>\n",
              "    </tr>\n",
              "    <tr>\n",
              "      <th>30</th>\n",
              "      <td>8</td>\n",
              "      <td>135</td>\n",
              "      <td>238</td>\n",
              "      <td>0.470130</td>\n",
              "    </tr>\n",
              "    <tr>\n",
              "      <th>23</th>\n",
              "      <td>100</td>\n",
              "      <td>93</td>\n",
              "      <td>164</td>\n",
              "      <td>0.469901</td>\n",
              "    </tr>\n",
              "    <tr>\n",
              "      <th>41</th>\n",
              "      <td>86</td>\n",
              "      <td>161</td>\n",
              "      <td>220</td>\n",
              "      <td>0.469789</td>\n",
              "    </tr>\n",
              "    <tr>\n",
              "      <th>24</th>\n",
              "      <td>100</td>\n",
              "      <td>99</td>\n",
              "      <td>168</td>\n",
              "      <td>0.468042</td>\n",
              "    </tr>\n",
              "    <tr>\n",
              "      <th>19</th>\n",
              "      <td>60</td>\n",
              "      <td>255</td>\n",
              "      <td>117</td>\n",
              "      <td>0.467925</td>\n",
              "    </tr>\n",
              "    <tr>\n",
              "      <th>5</th>\n",
              "      <td>209</td>\n",
              "      <td>40</td>\n",
              "      <td>70</td>\n",
              "      <td>0.466651</td>\n",
              "    </tr>\n",
              "    <tr>\n",
              "      <th>29</th>\n",
              "      <td>147</td>\n",
              "      <td>28</td>\n",
              "      <td>155</td>\n",
              "      <td>0.466586</td>\n",
              "    </tr>\n",
              "    <tr>\n",
              "      <th>0</th>\n",
              "      <td>239</td>\n",
              "      <td>48</td>\n",
              "      <td>245</td>\n",
              "      <td>0.466247</td>\n",
              "    </tr>\n",
              "    <tr>\n",
              "      <th>15</th>\n",
              "      <td>179</td>\n",
              "      <td>213</td>\n",
              "      <td>101</td>\n",
              "      <td>0.466041</td>\n",
              "    </tr>\n",
              "    <tr>\n",
              "      <th>45</th>\n",
              "      <td>161</td>\n",
              "      <td>119</td>\n",
              "      <td>114</td>\n",
              "      <td>0.463529</td>\n",
              "    </tr>\n",
              "    <tr>\n",
              "      <th>3</th>\n",
              "      <td>54</td>\n",
              "      <td>211</td>\n",
              "      <td>107</td>\n",
              "      <td>0.462500</td>\n",
              "    </tr>\n",
              "    <tr>\n",
              "      <th>14</th>\n",
              "      <td>217</td>\n",
              "      <td>213</td>\n",
              "      <td>83</td>\n",
              "      <td>0.462379</td>\n",
              "    </tr>\n",
              "    <tr>\n",
              "      <th>27</th>\n",
              "      <td>76</td>\n",
              "      <td>115</td>\n",
              "      <td>127</td>\n",
              "      <td>0.461906</td>\n",
              "    </tr>\n",
              "    <tr>\n",
              "      <th>38</th>\n",
              "      <td>38</td>\n",
              "      <td>232</td>\n",
              "      <td>186</td>\n",
              "      <td>0.461857</td>\n",
              "    </tr>\n",
              "    <tr>\n",
              "      <th>17</th>\n",
              "      <td>206</td>\n",
              "      <td>191</td>\n",
              "      <td>55</td>\n",
              "      <td>0.461694</td>\n",
              "    </tr>\n",
              "    <tr>\n",
              "      <th>37</th>\n",
              "      <td>251</td>\n",
              "      <td>113</td>\n",
              "      <td>224</td>\n",
              "      <td>0.461362</td>\n",
              "    </tr>\n",
              "    <tr>\n",
              "      <th>32</th>\n",
              "      <td>224</td>\n",
              "      <td>126</td>\n",
              "      <td>255</td>\n",
              "      <td>0.461086</td>\n",
              "    </tr>\n",
              "    <tr>\n",
              "      <th>7</th>\n",
              "      <td>189</td>\n",
              "      <td>172</td>\n",
              "      <td>207</td>\n",
              "      <td>0.461049</td>\n",
              "    </tr>\n",
              "    <tr>\n",
              "      <th>25</th>\n",
              "      <td>163</td>\n",
              "      <td>147</td>\n",
              "      <td>144</td>\n",
              "      <td>0.459770</td>\n",
              "    </tr>\n",
              "    <tr>\n",
              "      <th>1</th>\n",
              "      <td>135</td>\n",
              "      <td>124</td>\n",
              "      <td>251</td>\n",
              "      <td>0.459137</td>\n",
              "    </tr>\n",
              "    <tr>\n",
              "      <th>11</th>\n",
              "      <td>149</td>\n",
              "      <td>62</td>\n",
              "      <td>226</td>\n",
              "      <td>0.457956</td>\n",
              "    </tr>\n",
              "    <tr>\n",
              "      <th>48</th>\n",
              "      <td>138</td>\n",
              "      <td>67</td>\n",
              "      <td>198</td>\n",
              "      <td>0.456971</td>\n",
              "    </tr>\n",
              "    <tr>\n",
              "      <th>40</th>\n",
              "      <td>175</td>\n",
              "      <td>66</td>\n",
              "      <td>64</td>\n",
              "      <td>0.456136</td>\n",
              "    </tr>\n",
              "    <tr>\n",
              "      <th>16</th>\n",
              "      <td>161</td>\n",
              "      <td>177</td>\n",
              "      <td>205</td>\n",
              "      <td>0.455122</td>\n",
              "    </tr>\n",
              "    <tr>\n",
              "      <th>10</th>\n",
              "      <td>40</td>\n",
              "      <td>106</td>\n",
              "      <td>78</td>\n",
              "      <td>0.454446</td>\n",
              "    </tr>\n",
              "    <tr>\n",
              "      <th>4</th>\n",
              "      <td>133</td>\n",
              "      <td>82</td>\n",
              "      <td>145</td>\n",
              "      <td>0.454420</td>\n",
              "    </tr>\n",
              "    <tr>\n",
              "      <th>31</th>\n",
              "      <td>21</td>\n",
              "      <td>136</td>\n",
              "      <td>244</td>\n",
              "      <td>0.452820</td>\n",
              "    </tr>\n",
              "    <tr>\n",
              "      <th>36</th>\n",
              "      <td>120</td>\n",
              "      <td>79</td>\n",
              "      <td>100</td>\n",
              "      <td>0.452765</td>\n",
              "    </tr>\n",
              "    <tr>\n",
              "      <th>13</th>\n",
              "      <td>115</td>\n",
              "      <td>191</td>\n",
              "      <td>43</td>\n",
              "      <td>0.451508</td>\n",
              "    </tr>\n",
              "    <tr>\n",
              "      <th>26</th>\n",
              "      <td>107</td>\n",
              "      <td>74</td>\n",
              "      <td>168</td>\n",
              "      <td>0.451191</td>\n",
              "    </tr>\n",
              "    <tr>\n",
              "      <th>44</th>\n",
              "      <td>114</td>\n",
              "      <td>160</td>\n",
              "      <td>34</td>\n",
              "      <td>0.450318</td>\n",
              "    </tr>\n",
              "    <tr>\n",
              "      <th>28</th>\n",
              "      <td>241</td>\n",
              "      <td>42</td>\n",
              "      <td>187</td>\n",
              "      <td>0.450052</td>\n",
              "    </tr>\n",
              "    <tr>\n",
              "      <th>42</th>\n",
              "      <td>31</td>\n",
              "      <td>91</td>\n",
              "      <td>197</td>\n",
              "      <td>0.448679</td>\n",
              "    </tr>\n",
              "    <tr>\n",
              "      <th>9</th>\n",
              "      <td>39</td>\n",
              "      <td>190</td>\n",
              "      <td>208</td>\n",
              "      <td>0.447714</td>\n",
              "    </tr>\n",
              "    <tr>\n",
              "      <th>49</th>\n",
              "      <td>125</td>\n",
              "      <td>105</td>\n",
              "      <td>92</td>\n",
              "      <td>0.445181</td>\n",
              "    </tr>\n",
              "    <tr>\n",
              "      <th>2</th>\n",
              "      <td>126</td>\n",
              "      <td>155</td>\n",
              "      <td>72</td>\n",
              "      <td>0.444617</td>\n",
              "    </tr>\n",
              "    <tr>\n",
              "      <th>18</th>\n",
              "      <td>193</td>\n",
              "      <td>174</td>\n",
              "      <td>90</td>\n",
              "      <td>0.442900</td>\n",
              "    </tr>\n",
              "    <tr>\n",
              "      <th>46</th>\n",
              "      <td>70</td>\n",
              "      <td>228</td>\n",
              "      <td>178</td>\n",
              "      <td>0.442095</td>\n",
              "    </tr>\n",
              "    <tr>\n",
              "      <th>47</th>\n",
              "      <td>191</td>\n",
              "      <td>86</td>\n",
              "      <td>101</td>\n",
              "      <td>0.440892</td>\n",
              "    </tr>\n",
              "    <tr>\n",
              "      <th>33</th>\n",
              "      <td>130</td>\n",
              "      <td>55</td>\n",
              "      <td>19</td>\n",
              "      <td>0.439917</td>\n",
              "    </tr>\n",
              "    <tr>\n",
              "      <th>6</th>\n",
              "      <td>204</td>\n",
              "      <td>240</td>\n",
              "      <td>20</td>\n",
              "      <td>0.433770</td>\n",
              "    </tr>\n",
              "    <tr>\n",
              "      <th>8</th>\n",
              "      <td>55</td>\n",
              "      <td>201</td>\n",
              "      <td>186</td>\n",
              "      <td>0.433391</td>\n",
              "    </tr>\n",
              "    <tr>\n",
              "      <th>20</th>\n",
              "      <td>90</td>\n",
              "      <td>13</td>\n",
              "      <td>137</td>\n",
              "      <td>0.431252</td>\n",
              "    </tr>\n",
              "    <tr>\n",
              "      <th>35</th>\n",
              "      <td>70</td>\n",
              "      <td>154</td>\n",
              "      <td>40</td>\n",
              "      <td>0.430008</td>\n",
              "    </tr>\n",
              "    <tr>\n",
              "      <th>22</th>\n",
              "      <td>90</td>\n",
              "      <td>10</td>\n",
              "      <td>117</td>\n",
              "      <td>0.400229</td>\n",
              "    </tr>\n",
              "    <tr>\n",
              "      <th>21</th>\n",
              "      <td>11</td>\n",
              "      <td>248</td>\n",
              "      <td>161</td>\n",
              "      <td>0.374019</td>\n",
              "    </tr>\n",
              "  </tbody>\n",
              "</table>\n",
              "</div>"
            ],
            "text/plain": [
              "    rf_estimators  rf_max_depth  rf_max_features  valid_r2_score\n",
              "34             73           147              226        0.475910\n",
              "12            144            77              124        0.474985\n",
              "39            140            28              129        0.474240\n",
              "43             51           142              148        0.470261\n",
              "30              8           135              238        0.470130\n",
              "23            100            93              164        0.469901\n",
              "41             86           161              220        0.469789\n",
              "24            100            99              168        0.468042\n",
              "19             60           255              117        0.467925\n",
              "5             209            40               70        0.466651\n",
              "29            147            28              155        0.466586\n",
              "0             239            48              245        0.466247\n",
              "15            179           213              101        0.466041\n",
              "45            161           119              114        0.463529\n",
              "3              54           211              107        0.462500\n",
              "14            217           213               83        0.462379\n",
              "27             76           115              127        0.461906\n",
              "38             38           232              186        0.461857\n",
              "17            206           191               55        0.461694\n",
              "37            251           113              224        0.461362\n",
              "32            224           126              255        0.461086\n",
              "7             189           172              207        0.461049\n",
              "25            163           147              144        0.459770\n",
              "1             135           124              251        0.459137\n",
              "11            149            62              226        0.457956\n",
              "48            138            67              198        0.456971\n",
              "40            175            66               64        0.456136\n",
              "16            161           177              205        0.455122\n",
              "10             40           106               78        0.454446\n",
              "4             133            82              145        0.454420\n",
              "31             21           136              244        0.452820\n",
              "36            120            79              100        0.452765\n",
              "13            115           191               43        0.451508\n",
              "26            107            74              168        0.451191\n",
              "44            114           160               34        0.450318\n",
              "28            241            42              187        0.450052\n",
              "42             31            91              197        0.448679\n",
              "9              39           190              208        0.447714\n",
              "49            125           105               92        0.445181\n",
              "2             126           155               72        0.444617\n",
              "18            193           174               90        0.442900\n",
              "46             70           228              178        0.442095\n",
              "47            191            86              101        0.440892\n",
              "33            130            55               19        0.439917\n",
              "6             204           240               20        0.433770\n",
              "8              55           201              186        0.433391\n",
              "20             90            13              137        0.431252\n",
              "35             70           154               40        0.430008\n",
              "22             90            10              117        0.400229\n",
              "21             11           248              161        0.374019"
            ]
          },
          "metadata": {
            "tags": []
          },
          "execution_count": 45
        }
      ]
    }
  ]
}