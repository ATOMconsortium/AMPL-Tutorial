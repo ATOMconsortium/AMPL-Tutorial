{
  "nbformat": 4,
  "nbformat_minor": 0,
  "metadata": {
    "colab": {
      "name": "install_ampl_37_test.ipynb",
      "provenance": [],
      "collapsed_sections": [],
      "toc_visible": true,
      "machine_shape": "hm",
      "include_colab_link": true
    },
    "kernelspec": {
      "name": "python3",
      "display_name": "Python 3"
    }
  },
  "cells": [
    {
      "cell_type": "markdown",
      "metadata": {
        "id": "view-in-github",
        "colab_type": "text"
      },
      "source": [
        "<a href=\"https://colab.research.google.com/github/ravichas/AMPL-Tutorial/blob/master/AMPL_HPO_demo.ipynb\" target=\"_parent\"><img src=\"https://colab.research.google.com/assets/colab-badge.svg\" alt=\"Open In Colab\"/></a>"
      ]
    },
    {
      "cell_type": "markdown",
      "metadata": {
        "id": "SZ70ierx3pq2"
      },
      "source": [
        "### Install AMPL packages"
      ]
    },
    {
      "cell_type": "code",
      "metadata": {
        "id": "dYPEij6rwDmP",
        "outputId": "7b152220-22e5-4748-ee4d-b7c4aa426b12",
        "colab": {
          "base_uri": "https://localhost:8080/"
        }
      },
      "source": [
        "%tensorflow_version 1.x"
      ],
      "execution_count": 1,
      "outputs": [
        {
          "output_type": "stream",
          "text": [
            "TensorFlow 1.x selected.\n"
          ],
          "name": "stdout"
        }
      ]
    },
    {
      "cell_type": "code",
      "metadata": {
        "id": "nNuv4Q5KFABw",
        "outputId": "4727c47b-9269-43c2-8b65-43e1ca2093d5",
        "colab": {
          "base_uri": "https://localhost:8080/"
        }
      },
      "source": [
        "! wget -c https://repo.anaconda.com/archive/Anaconda3-2019.10-Linux-x86_64.sh\n",
        "! chmod +x Anaconda3-2019.10-Linux-x86_64.sh\n",
        "! bash ./Anaconda3-2019.10-Linux-x86_64.sh -b -f -p /usr/local\n",
        "\n",
        "# ! wget -c https://repo.anaconda.com/miniconda/Miniconda3-py37_4.9.2-Linux-x86_64.sh \n",
        "# ! chmod +x Miniconda3-py37_4.9.2-Linux-x86_64.sh\n",
        "# ! time bash Miniconda3-py37_4.9.2-Linux-x86_64.sh -b -f -p /usr/local\n",
        "\n",
        "! time conda install -y -c deepchem -c rdkit -c conda-forge -c omnia deepchem-gpu=2.3.0\n",
        "import sys\n",
        "sys.path.append('/usr/local/lib/python3.7/site-packages/')"
      ],
      "execution_count": 2,
      "outputs": [
        {
          "output_type": "stream",
          "text": [
            "--2021-03-25 21:07:51--  https://repo.anaconda.com/archive/Anaconda3-2019.10-Linux-x86_64.sh\n",
            "Resolving repo.anaconda.com (repo.anaconda.com)... 104.16.130.3, 104.16.131.3, 2606:4700::6810:8203, ...\n",
            "Connecting to repo.anaconda.com (repo.anaconda.com)|104.16.130.3|:443... connected.\n",
            "HTTP request sent, awaiting response... 200 OK\n",
            "Length: 530308481 (506M) [application/x-sh]\n",
            "Saving to: ‘Anaconda3-2019.10-Linux-x86_64.sh’\n",
            "\n",
            "Anaconda3-2019.10-L 100%[===================>] 505.74M   162MB/s    in 3.1s    \n",
            "\n",
            "2021-03-25 21:07:54 (162 MB/s) - ‘Anaconda3-2019.10-Linux-x86_64.sh’ saved [530308481/530308481]\n",
            "\n",
            "PREFIX=/usr/local\n",
            "Unpacking payload ...\n",
            "Collecting package metadata (current_repodata.json): - \b\b\\ \b\b| \b\b/ \b\b- \b\b\\ \b\b| \b\b/ \b\b- \b\b\\ \b\b| \b\b/ \b\b- \b\b\\ \b\b| \b\b/ \b\b- \b\bdone\n",
            "Solving environment: | \b\b/ \b\b- \b\b\\ \b\b| \b\b/ \b\b- \b\b\\ \b\b| \b\b/ \b\b- \b\b\\ \b\b| \b\b/ \b\b- \b\b\\ \b\b| \b\b/ \b\b- \b\b\\ \b\b| \b\bdone\n",
            "\n",
            "## Package Plan ##\n",
            "\n",
            "  environment location: /usr/local\n",
            "\n",
            "  added / updated specs:\n",
            "    - _ipyw_jlab_nb_ext_conf==0.1.0=py37_0\n",
            "    - _libgcc_mutex==0.1=main\n",
            "    - alabaster==0.7.12=py37_0\n",
            "    - anaconda-client==1.7.2=py37_0\n",
            "    - anaconda-navigator==1.9.7=py37_0\n",
            "    - anaconda-project==0.8.3=py_0\n",
            "    - anaconda==2019.10=py37_0\n",
            "    - asn1crypto==1.0.1=py37_0\n",
            "    - astroid==2.3.1=py37_0\n",
            "    - astropy==3.2.2=py37h7b6447c_0\n",
            "    - atomicwrites==1.3.0=py37_1\n",
            "    - attrs==19.2.0=py_0\n",
            "    - babel==2.7.0=py_0\n",
            "    - backcall==0.1.0=py37_0\n",
            "    - backports.functools_lru_cache==1.5=py_2\n",
            "    - backports.os==0.1.1=py37_0\n",
            "    - backports.shutil_get_terminal_size==1.0.0=py37_2\n",
            "    - backports.tempfile==1.0=py_1\n",
            "    - backports.weakref==1.0.post1=py_1\n",
            "    - backports==1.0=py_2\n",
            "    - beautifulsoup4==4.8.0=py37_0\n",
            "    - bitarray==1.0.1=py37h7b6447c_0\n",
            "    - bkcharts==0.2=py37_0\n",
            "    - blas==1.0=mkl\n",
            "    - bleach==3.1.0=py37_0\n",
            "    - blosc==1.16.3=hd408876_0\n",
            "    - bokeh==1.3.4=py37_0\n",
            "    - boto==2.49.0=py37_0\n",
            "    - bottleneck==1.2.1=py37h035aef0_1\n",
            "    - bzip2==1.0.8=h7b6447c_0\n",
            "    - ca-certificates==2019.8.28=0\n",
            "    - cairo==1.14.12=h8948797_3\n",
            "    - certifi==2019.9.11=py37_0\n",
            "    - cffi==1.12.3=py37h2e261b9_0\n",
            "    - chardet==3.0.4=py37_1003\n",
            "    - click==7.0=py37_0\n",
            "    - cloudpickle==1.2.2=py_0\n",
            "    - clyent==1.2.2=py37_1\n",
            "    - colorama==0.4.1=py37_0\n",
            "    - conda-build==3.18.9=py37_3\n",
            "    - conda-env==2.6.0=1\n",
            "    - conda-package-handling==1.6.0=py37h7b6447c_0\n",
            "    - conda-verify==3.4.2=py_1\n",
            "    - conda==4.7.12=py37_0\n",
            "    - contextlib2==0.6.0=py_0\n",
            "    - cryptography==2.7=py37h1ba5d50_0\n",
            "    - curl==7.65.3=hbc83047_0\n",
            "    - cycler==0.10.0=py37_0\n",
            "    - cython==0.29.13=py37he6710b0_0\n",
            "    - cytoolz==0.10.0=py37h7b6447c_0\n",
            "    - dask-core==2.5.2=py_0\n",
            "    - dask==2.5.2=py_0\n",
            "    - dbus==1.13.6=h746ee38_0\n",
            "    - decorator==4.4.0=py37_1\n",
            "    - defusedxml==0.6.0=py_0\n",
            "    - distributed==2.5.2=py_0\n",
            "    - docutils==0.15.2=py37_0\n",
            "    - entrypoints==0.3=py37_0\n",
            "    - et_xmlfile==1.0.1=py37_0\n",
            "    - expat==2.2.6=he6710b0_0\n",
            "    - fastcache==1.1.0=py37h7b6447c_0\n",
            "    - filelock==3.0.12=py_0\n",
            "    - flask==1.1.1=py_0\n",
            "    - fontconfig==2.13.0=h9420a91_0\n",
            "    - freetype==2.9.1=h8a8886c_1\n",
            "    - fribidi==1.0.5=h7b6447c_0\n",
            "    - fsspec==0.5.2=py_0\n",
            "    - future==0.17.1=py37_0\n",
            "    - get_terminal_size==1.0.0=haa9412d_0\n",
            "    - gevent==1.4.0=py37h7b6447c_0\n",
            "    - glib==2.56.2=hd408876_0\n",
            "    - glob2==0.7=py_0\n",
            "    - gmp==6.1.2=h6c8ec71_1\n",
            "    - gmpy2==2.0.8=py37h10f8cd9_2\n",
            "    - graphite2==1.3.13=h23475e2_0\n",
            "    - greenlet==0.4.15=py37h7b6447c_0\n",
            "    - gst-plugins-base==1.14.0=hbbd80ab_1\n",
            "    - gstreamer==1.14.0=hb453b48_1\n",
            "    - h5py==2.9.0=py37h7918eee_0\n",
            "    - harfbuzz==1.8.8=hffaf4a1_0\n",
            "    - hdf5==1.10.4=hb1b8bf9_0\n",
            "    - heapdict==1.0.1=py_0\n",
            "    - html5lib==1.0.1=py37_0\n",
            "    - icu==58.2=h9c2bf20_1\n",
            "    - idna==2.8=py37_0\n",
            "    - imageio==2.6.0=py37_0\n",
            "    - imagesize==1.1.0=py37_0\n",
            "    - importlib_metadata==0.23=py37_0\n",
            "    - intel-openmp==2019.4=243\n",
            "    - ipykernel==5.1.2=py37h39e3cac_0\n",
            "    - ipython==7.8.0=py37h39e3cac_0\n",
            "    - ipython_genutils==0.2.0=py37_0\n",
            "    - ipywidgets==7.5.1=py_0\n",
            "    - isort==4.3.21=py37_0\n",
            "    - itsdangerous==1.1.0=py37_0\n",
            "    - jbig==2.1=hdba287a_0\n",
            "    - jdcal==1.4.1=py_0\n",
            "    - jedi==0.15.1=py37_0\n",
            "    - jeepney==0.4.1=py_0\n",
            "    - jinja2==2.10.3=py_0\n",
            "    - joblib==0.13.2=py37_0\n",
            "    - jpeg==9b=h024ee3a_2\n",
            "    - json5==0.8.5=py_0\n",
            "    - jsonschema==3.0.2=py37_0\n",
            "    - jupyter==1.0.0=py37_7\n",
            "    - jupyter_client==5.3.3=py37_1\n",
            "    - jupyter_console==6.0.0=py37_0\n",
            "    - jupyter_core==4.5.0=py_0\n",
            "    - jupyterlab==1.1.4=pyhf63ae98_0\n",
            "    - jupyterlab_server==1.0.6=py_0\n",
            "    - keyring==18.0.0=py37_0\n",
            "    - kiwisolver==1.1.0=py37he6710b0_0\n",
            "    - krb5==1.16.1=h173b8e3_7\n",
            "    - lazy-object-proxy==1.4.2=py37h7b6447c_0\n",
            "    - libarchive==3.3.3=h5d8350f_5\n",
            "    - libcurl==7.65.3=h20c2e04_0\n",
            "    - libedit==3.1.20181209=hc058e9b_0\n",
            "    - libffi==3.2.1=hd88cf55_4\n",
            "    - libgcc-ng==9.1.0=hdf63c60_0\n",
            "    - libgfortran-ng==7.3.0=hdf63c60_0\n",
            "    - liblief==0.9.0=h7725739_2\n",
            "    - libpng==1.6.37=hbc83047_0\n",
            "    - libsodium==1.0.16=h1bed415_0\n",
            "    - libssh2==1.8.2=h1ba5d50_0\n",
            "    - libstdcxx-ng==9.1.0=hdf63c60_0\n",
            "    - libtiff==4.0.10=h2733197_2\n",
            "    - libtool==2.4.6=h7b6447c_5\n",
            "    - libuuid==1.0.3=h1bed415_2\n",
            "    - libxcb==1.13=h1bed415_1\n",
            "    - libxml2==2.9.9=hea5a465_1\n",
            "    - libxslt==1.1.33=h7d1a2b0_0\n",
            "    - llvmlite==0.29.0=py37hd408876_0\n",
            "    - locket==0.2.0=py37_1\n",
            "    - lxml==4.4.1=py37hefd8a0e_0\n",
            "    - lz4-c==1.8.1.2=h14c3975_0\n",
            "    - lzo==2.10=h49e0be7_2\n",
            "    - markupsafe==1.1.1=py37h7b6447c_0\n",
            "    - matplotlib==3.1.1=py37h5429711_0\n",
            "    - mccabe==0.6.1=py37_1\n",
            "    - mistune==0.8.4=py37h7b6447c_0\n",
            "    - mkl-service==2.3.0=py37he904b0f_0\n",
            "    - mkl==2019.4=243\n",
            "    - mkl_fft==1.0.14=py37ha843d7b_0\n",
            "    - mkl_random==1.1.0=py37hd6b4f25_0\n",
            "    - mock==3.0.5=py37_0\n",
            "    - more-itertools==7.2.0=py37_0\n",
            "    - mpc==1.1.0=h10f8cd9_1\n",
            "    - mpfr==4.0.1=hdf1c602_3\n",
            "    - mpmath==1.1.0=py37_0\n",
            "    - msgpack-python==0.6.1=py37hfd86e86_1\n",
            "    - multipledispatch==0.6.0=py37_0\n",
            "    - navigator-updater==0.2.1=py37_0\n",
            "    - nbconvert==5.6.0=py37_1\n",
            "    - nbformat==4.4.0=py37_0\n",
            "    - ncurses==6.1=he6710b0_1\n",
            "    - networkx==2.3=py_0\n",
            "    - nltk==3.4.5=py37_0\n",
            "    - nose==1.3.7=py37_2\n",
            "    - notebook==6.0.1=py37_0\n",
            "    - numba==0.45.1=py37h962f231_0\n",
            "    - numexpr==2.7.0=py37h9e4a6bb_0\n",
            "    - numpy-base==1.17.2=py37hde5b4d6_0\n",
            "    - numpy==1.17.2=py37haad9e8e_0\n",
            "    - numpydoc==0.9.1=py_0\n",
            "    - olefile==0.46=py37_0\n",
            "    - openpyxl==3.0.0=py_0\n",
            "    - openssl==1.1.1d=h7b6447c_2\n",
            "    - packaging==19.2=py_0\n",
            "    - pandas==0.25.1=py37he6710b0_0\n",
            "    - pandoc==2.2.3.2=0\n",
            "    - pandocfilters==1.4.2=py37_1\n",
            "    - pango==1.42.4=h049681c_0\n",
            "    - parso==0.5.1=py_0\n",
            "    - partd==1.0.0=py_0\n",
            "    - patchelf==0.9=he6710b0_3\n",
            "    - path.py==12.0.1=py_0\n",
            "    - pathlib2==2.3.5=py37_0\n",
            "    - patsy==0.5.1=py37_0\n",
            "    - pcre==8.43=he6710b0_0\n",
            "    - pep8==1.7.1=py37_0\n",
            "    - pexpect==4.7.0=py37_0\n",
            "    - pickleshare==0.7.5=py37_0\n",
            "    - pillow==6.2.0=py37h34e0f95_0\n",
            "    - pip==19.2.3=py37_0\n",
            "    - pixman==0.38.0=h7b6447c_0\n",
            "    - pkginfo==1.5.0.1=py37_0\n",
            "    - pluggy==0.13.0=py37_0\n",
            "    - ply==3.11=py37_0\n",
            "    - prometheus_client==0.7.1=py_0\n",
            "    - prompt_toolkit==2.0.10=py_0\n",
            "    - psutil==5.6.3=py37h7b6447c_0\n",
            "    - ptyprocess==0.6.0=py37_0\n",
            "    - py-lief==0.9.0=py37h7725739_2\n",
            "    - py==1.8.0=py37_0\n",
            "    - pycodestyle==2.5.0=py37_0\n",
            "    - pycosat==0.6.3=py37h14c3975_0\n",
            "    - pycparser==2.19=py37_0\n",
            "    - pycrypto==2.6.1=py37h14c3975_9\n",
            "    - pycurl==7.43.0.3=py37h1ba5d50_0\n",
            "    - pyflakes==2.1.1=py37_0\n",
            "    - pygments==2.4.2=py_0\n",
            "    - pylint==2.4.2=py37_0\n",
            "    - pyodbc==4.0.27=py37he6710b0_0\n",
            "    - pyopenssl==19.0.0=py37_0\n",
            "    - pyparsing==2.4.2=py_0\n",
            "    - pyqt==5.9.2=py37h05f1152_2\n",
            "    - pyrsistent==0.15.4=py37h7b6447c_0\n",
            "    - pysocks==1.7.1=py37_0\n",
            "    - pytables==3.5.2=py37h71ec239_1\n",
            "    - pytest-arraydiff==0.3=py37h39e3cac_0\n",
            "    - pytest-astropy==0.5.0=py37_0\n",
            "    - pytest-doctestplus==0.4.0=py_0\n",
            "    - pytest-openfiles==0.4.0=py_0\n",
            "    - pytest-remotedata==0.3.2=py37_0\n",
            "    - pytest==5.2.1=py37_0\n",
            "    - python-dateutil==2.8.0=py37_0\n",
            "    - python-libarchive-c==2.8=py37_13\n",
            "    - python==3.7.4=h265db76_1\n",
            "    - pytz==2019.3=py_0\n",
            "    - pywavelets==1.0.3=py37hdd07704_1\n",
            "    - pyyaml==5.1.2=py37h7b6447c_0\n",
            "    - pyzmq==18.1.0=py37he6710b0_0\n",
            "    - qt==5.9.7=h5867ecd_1\n",
            "    - qtawesome==0.6.0=py_0\n",
            "    - qtconsole==4.5.5=py_0\n",
            "    - qtpy==1.9.0=py_0\n",
            "    - readline==7.0=h7b6447c_5\n",
            "    - requests==2.22.0=py37_0\n",
            "    - ripgrep==0.10.0=hc07d326_0\n",
            "    - rope==0.14.0=py_0\n",
            "    - ruamel_yaml==0.15.46=py37h14c3975_0\n",
            "    - scikit-image==0.15.0=py37he6710b0_0\n",
            "    - scikit-learn==0.21.3=py37hd81dba3_0\n",
            "    - scipy==1.3.1=py37h7c811a0_0\n",
            "    - seaborn==0.9.0=py37_0\n",
            "    - secretstorage==3.1.1=py37_0\n",
            "    - send2trash==1.5.0=py37_0\n",
            "    - setuptools==41.4.0=py37_0\n",
            "    - simplegeneric==0.8.1=py37_2\n",
            "    - singledispatch==3.4.0.3=py37_0\n",
            "    - sip==4.19.8=py37hf484d3e_0\n",
            "    - six==1.12.0=py37_0\n",
            "    - snappy==1.1.7=hbae5bb6_3\n",
            "    - snowballstemmer==2.0.0=py_0\n",
            "    - sortedcollections==1.1.2=py37_0\n",
            "    - sortedcontainers==2.1.0=py37_0\n",
            "    - soupsieve==1.9.3=py37_0\n",
            "    - sphinx==2.2.0=py_0\n",
            "    - sphinxcontrib-applehelp==1.0.1=py_0\n",
            "    - sphinxcontrib-devhelp==1.0.1=py_0\n",
            "    - sphinxcontrib-htmlhelp==1.0.2=py_0\n",
            "    - sphinxcontrib-jsmath==1.0.1=py_0\n",
            "    - sphinxcontrib-qthelp==1.0.2=py_0\n",
            "    - sphinxcontrib-serializinghtml==1.1.3=py_0\n",
            "    - sphinxcontrib-websupport==1.1.2=py_0\n",
            "    - sphinxcontrib==1.0=py37_1\n",
            "    - spyder-kernels==0.5.2=py37_0\n",
            "    - spyder==3.3.6=py37_0\n",
            "    - sqlalchemy==1.3.9=py37h7b6447c_0\n",
            "    - sqlite==3.30.0=h7b6447c_0\n",
            "    - statsmodels==0.10.1=py37hdd07704_0\n",
            "    - sympy==1.4=py37_0\n",
            "    - tbb==2019.4=hfd86e86_0\n",
            "    - tblib==1.4.0=py_0\n",
            "    - terminado==0.8.2=py37_0\n",
            "    - testpath==0.4.2=py37_0\n",
            "    - tk==8.6.8=hbc83047_0\n",
            "    - toolz==0.10.0=py_0\n",
            "    - tornado==6.0.3=py37h7b6447c_0\n",
            "    - tqdm==4.36.1=py_0\n",
            "    - traitlets==4.3.3=py37_0\n",
            "    - unicodecsv==0.14.1=py37_0\n",
            "    - unixodbc==2.3.7=h14c3975_0\n",
            "    - urllib3==1.24.2=py37_0\n",
            "    - wcwidth==0.1.7=py37_0\n",
            "    - webencodings==0.5.1=py37_1\n",
            "    - werkzeug==0.16.0=py_0\n",
            "    - wheel==0.33.6=py37_0\n",
            "    - widgetsnbextension==3.5.1=py37_0\n",
            "    - wrapt==1.11.2=py37h7b6447c_0\n",
            "    - wurlitzer==1.0.3=py37_0\n",
            "    - xlrd==1.2.0=py37_0\n",
            "    - xlsxwriter==1.2.1=py_0\n",
            "    - xlwt==1.3.0=py37_0\n",
            "    - xz==5.2.4=h14c3975_4\n",
            "    - yaml==0.1.7=had09818_2\n",
            "    - zeromq==4.3.1=he6710b0_3\n",
            "    - zict==1.0.0=py_0\n",
            "    - zipp==0.6.0=py_0\n",
            "    - zlib==1.2.11=h7b6447c_3\n",
            "    - zstd==1.3.7=h0b5b093_0\n",
            "\n",
            "\n",
            "The following NEW packages will be INSTALLED:\n",
            "\n",
            "  _ipyw_jlab_nb_ext~ pkgs/main/linux-64::_ipyw_jlab_nb_ext_conf-0.1.0-py37_0\n",
            "  _libgcc_mutex      pkgs/main/linux-64::_libgcc_mutex-0.1-main\n",
            "  alabaster          pkgs/main/linux-64::alabaster-0.7.12-py37_0\n",
            "  anaconda           pkgs/main/linux-64::anaconda-2019.10-py37_0\n",
            "  anaconda-client    pkgs/main/linux-64::anaconda-client-1.7.2-py37_0\n",
            "  anaconda-navigator pkgs/main/linux-64::anaconda-navigator-1.9.7-py37_0\n",
            "  anaconda-project   pkgs/main/noarch::anaconda-project-0.8.3-py_0\n",
            "  asn1crypto         pkgs/main/linux-64::asn1crypto-1.0.1-py37_0\n",
            "  astroid            pkgs/main/linux-64::astroid-2.3.1-py37_0\n",
            "  astropy            pkgs/main/linux-64::astropy-3.2.2-py37h7b6447c_0\n",
            "  atomicwrites       pkgs/main/linux-64::atomicwrites-1.3.0-py37_1\n",
            "  attrs              pkgs/main/noarch::attrs-19.2.0-py_0\n",
            "  babel              pkgs/main/noarch::babel-2.7.0-py_0\n",
            "  backcall           pkgs/main/linux-64::backcall-0.1.0-py37_0\n",
            "  backports          pkgs/main/noarch::backports-1.0-py_2\n",
            "  backports.functoo~ pkgs/main/noarch::backports.functools_lru_cache-1.5-py_2\n",
            "  backports.os       pkgs/main/linux-64::backports.os-0.1.1-py37_0\n",
            "  backports.shutil_~ pkgs/main/linux-64::backports.shutil_get_terminal_size-1.0.0-py37_2\n",
            "  backports.tempfile pkgs/main/noarch::backports.tempfile-1.0-py_1\n",
            "  backports.weakref  pkgs/main/noarch::backports.weakref-1.0.post1-py_1\n",
            "  beautifulsoup4     pkgs/main/linux-64::beautifulsoup4-4.8.0-py37_0\n",
            "  bitarray           pkgs/main/linux-64::bitarray-1.0.1-py37h7b6447c_0\n",
            "  bkcharts           pkgs/main/linux-64::bkcharts-0.2-py37_0\n",
            "  blas               pkgs/main/linux-64::blas-1.0-mkl\n",
            "  bleach             pkgs/main/linux-64::bleach-3.1.0-py37_0\n",
            "  blosc              pkgs/main/linux-64::blosc-1.16.3-hd408876_0\n",
            "  bokeh              pkgs/main/linux-64::bokeh-1.3.4-py37_0\n",
            "  boto               pkgs/main/linux-64::boto-2.49.0-py37_0\n",
            "  bottleneck         pkgs/main/linux-64::bottleneck-1.2.1-py37h035aef0_1\n",
            "  bzip2              pkgs/main/linux-64::bzip2-1.0.8-h7b6447c_0\n",
            "  ca-certificates    pkgs/main/linux-64::ca-certificates-2019.8.28-0\n",
            "  cairo              pkgs/main/linux-64::cairo-1.14.12-h8948797_3\n",
            "  certifi            pkgs/main/linux-64::certifi-2019.9.11-py37_0\n",
            "  cffi               pkgs/main/linux-64::cffi-1.12.3-py37h2e261b9_0\n",
            "  chardet            pkgs/main/linux-64::chardet-3.0.4-py37_1003\n",
            "  click              pkgs/main/linux-64::click-7.0-py37_0\n",
            "  cloudpickle        pkgs/main/noarch::cloudpickle-1.2.2-py_0\n",
            "  clyent             pkgs/main/linux-64::clyent-1.2.2-py37_1\n",
            "  colorama           pkgs/main/linux-64::colorama-0.4.1-py37_0\n",
            "  conda              pkgs/main/linux-64::conda-4.7.12-py37_0\n",
            "  conda-build        pkgs/main/linux-64::conda-build-3.18.9-py37_3\n",
            "  conda-env          pkgs/main/linux-64::conda-env-2.6.0-1\n",
            "  conda-package-han~ pkgs/main/linux-64::conda-package-handling-1.6.0-py37h7b6447c_0\n",
            "  conda-verify       pkgs/main/noarch::conda-verify-3.4.2-py_1\n",
            "  contextlib2        pkgs/main/noarch::contextlib2-0.6.0-py_0\n",
            "  cryptography       pkgs/main/linux-64::cryptography-2.7-py37h1ba5d50_0\n",
            "  curl               pkgs/main/linux-64::curl-7.65.3-hbc83047_0\n",
            "  cycler             pkgs/main/linux-64::cycler-0.10.0-py37_0\n",
            "  cython             pkgs/main/linux-64::cython-0.29.13-py37he6710b0_0\n",
            "  cytoolz            pkgs/main/linux-64::cytoolz-0.10.0-py37h7b6447c_0\n",
            "  dask               pkgs/main/noarch::dask-2.5.2-py_0\n",
            "  dask-core          pkgs/main/noarch::dask-core-2.5.2-py_0\n",
            "  dbus               pkgs/main/linux-64::dbus-1.13.6-h746ee38_0\n",
            "  decorator          pkgs/main/linux-64::decorator-4.4.0-py37_1\n",
            "  defusedxml         pkgs/main/noarch::defusedxml-0.6.0-py_0\n",
            "  distributed        pkgs/main/noarch::distributed-2.5.2-py_0\n",
            "  docutils           pkgs/main/linux-64::docutils-0.15.2-py37_0\n",
            "  entrypoints        pkgs/main/linux-64::entrypoints-0.3-py37_0\n",
            "  et_xmlfile         pkgs/main/linux-64::et_xmlfile-1.0.1-py37_0\n",
            "  expat              pkgs/main/linux-64::expat-2.2.6-he6710b0_0\n",
            "  fastcache          pkgs/main/linux-64::fastcache-1.1.0-py37h7b6447c_0\n",
            "  filelock           pkgs/main/noarch::filelock-3.0.12-py_0\n",
            "  flask              pkgs/main/noarch::flask-1.1.1-py_0\n",
            "  fontconfig         pkgs/main/linux-64::fontconfig-2.13.0-h9420a91_0\n",
            "  freetype           pkgs/main/linux-64::freetype-2.9.1-h8a8886c_1\n",
            "  fribidi            pkgs/main/linux-64::fribidi-1.0.5-h7b6447c_0\n",
            "  fsspec             pkgs/main/noarch::fsspec-0.5.2-py_0\n",
            "  future             pkgs/main/linux-64::future-0.17.1-py37_0\n",
            "  get_terminal_size  pkgs/main/linux-64::get_terminal_size-1.0.0-haa9412d_0\n",
            "  gevent             pkgs/main/linux-64::gevent-1.4.0-py37h7b6447c_0\n",
            "  glib               pkgs/main/linux-64::glib-2.56.2-hd408876_0\n",
            "  glob2              pkgs/main/noarch::glob2-0.7-py_0\n",
            "  gmp                pkgs/main/linux-64::gmp-6.1.2-h6c8ec71_1\n",
            "  gmpy2              pkgs/main/linux-64::gmpy2-2.0.8-py37h10f8cd9_2\n",
            "  graphite2          pkgs/main/linux-64::graphite2-1.3.13-h23475e2_0\n",
            "  greenlet           pkgs/main/linux-64::greenlet-0.4.15-py37h7b6447c_0\n",
            "  gst-plugins-base   pkgs/main/linux-64::gst-plugins-base-1.14.0-hbbd80ab_1\n",
            "  gstreamer          pkgs/main/linux-64::gstreamer-1.14.0-hb453b48_1\n",
            "  h5py               pkgs/main/linux-64::h5py-2.9.0-py37h7918eee_0\n",
            "  harfbuzz           pkgs/main/linux-64::harfbuzz-1.8.8-hffaf4a1_0\n",
            "  hdf5               pkgs/main/linux-64::hdf5-1.10.4-hb1b8bf9_0\n",
            "  heapdict           pkgs/main/noarch::heapdict-1.0.1-py_0\n",
            "  html5lib           pkgs/main/linux-64::html5lib-1.0.1-py37_0\n",
            "  icu                pkgs/main/linux-64::icu-58.2-h9c2bf20_1\n",
            "  idna               pkgs/main/linux-64::idna-2.8-py37_0\n",
            "  imageio            pkgs/main/linux-64::imageio-2.6.0-py37_0\n",
            "  imagesize          pkgs/main/linux-64::imagesize-1.1.0-py37_0\n",
            "  importlib_metadata pkgs/main/linux-64::importlib_metadata-0.23-py37_0\n",
            "  intel-openmp       pkgs/main/linux-64::intel-openmp-2019.4-243\n",
            "  ipykernel          pkgs/main/linux-64::ipykernel-5.1.2-py37h39e3cac_0\n",
            "  ipython            pkgs/main/linux-64::ipython-7.8.0-py37h39e3cac_0\n",
            "  ipython_genutils   pkgs/main/linux-64::ipython_genutils-0.2.0-py37_0\n",
            "  ipywidgets         pkgs/main/noarch::ipywidgets-7.5.1-py_0\n",
            "  isort              pkgs/main/linux-64::isort-4.3.21-py37_0\n",
            "  itsdangerous       pkgs/main/linux-64::itsdangerous-1.1.0-py37_0\n",
            "  jbig               pkgs/main/linux-64::jbig-2.1-hdba287a_0\n",
            "  jdcal              pkgs/main/noarch::jdcal-1.4.1-py_0\n",
            "  jedi               pkgs/main/linux-64::jedi-0.15.1-py37_0\n",
            "  jeepney            pkgs/main/noarch::jeepney-0.4.1-py_0\n",
            "  jinja2             pkgs/main/noarch::jinja2-2.10.3-py_0\n",
            "  joblib             pkgs/main/linux-64::joblib-0.13.2-py37_0\n",
            "  jpeg               pkgs/main/linux-64::jpeg-9b-h024ee3a_2\n",
            "  json5              pkgs/main/noarch::json5-0.8.5-py_0\n",
            "  jsonschema         pkgs/main/linux-64::jsonschema-3.0.2-py37_0\n",
            "  jupyter            pkgs/main/linux-64::jupyter-1.0.0-py37_7\n",
            "  jupyter_client     pkgs/main/linux-64::jupyter_client-5.3.3-py37_1\n",
            "  jupyter_console    pkgs/main/linux-64::jupyter_console-6.0.0-py37_0\n",
            "  jupyter_core       pkgs/main/noarch::jupyter_core-4.5.0-py_0\n",
            "  jupyterlab         pkgs/main/noarch::jupyterlab-1.1.4-pyhf63ae98_0\n",
            "  jupyterlab_server  pkgs/main/noarch::jupyterlab_server-1.0.6-py_0\n",
            "  keyring            pkgs/main/linux-64::keyring-18.0.0-py37_0\n",
            "  kiwisolver         pkgs/main/linux-64::kiwisolver-1.1.0-py37he6710b0_0\n",
            "  krb5               pkgs/main/linux-64::krb5-1.16.1-h173b8e3_7\n",
            "  lazy-object-proxy  pkgs/main/linux-64::lazy-object-proxy-1.4.2-py37h7b6447c_0\n",
            "  libarchive         pkgs/main/linux-64::libarchive-3.3.3-h5d8350f_5\n",
            "  libcurl            pkgs/main/linux-64::libcurl-7.65.3-h20c2e04_0\n",
            "  libedit            pkgs/main/linux-64::libedit-3.1.20181209-hc058e9b_0\n",
            "  libffi             pkgs/main/linux-64::libffi-3.2.1-hd88cf55_4\n",
            "  libgcc-ng          pkgs/main/linux-64::libgcc-ng-9.1.0-hdf63c60_0\n",
            "  libgfortran-ng     pkgs/main/linux-64::libgfortran-ng-7.3.0-hdf63c60_0\n",
            "  liblief            pkgs/main/linux-64::liblief-0.9.0-h7725739_2\n",
            "  libpng             pkgs/main/linux-64::libpng-1.6.37-hbc83047_0\n",
            "  libsodium          pkgs/main/linux-64::libsodium-1.0.16-h1bed415_0\n",
            "  libssh2            pkgs/main/linux-64::libssh2-1.8.2-h1ba5d50_0\n",
            "  libstdcxx-ng       pkgs/main/linux-64::libstdcxx-ng-9.1.0-hdf63c60_0\n",
            "  libtiff            pkgs/main/linux-64::libtiff-4.0.10-h2733197_2\n",
            "  libtool            pkgs/main/linux-64::libtool-2.4.6-h7b6447c_5\n",
            "  libuuid            pkgs/main/linux-64::libuuid-1.0.3-h1bed415_2\n",
            "  libxcb             pkgs/main/linux-64::libxcb-1.13-h1bed415_1\n",
            "  libxml2            pkgs/main/linux-64::libxml2-2.9.9-hea5a465_1\n",
            "  libxslt            pkgs/main/linux-64::libxslt-1.1.33-h7d1a2b0_0\n",
            "  llvmlite           pkgs/main/linux-64::llvmlite-0.29.0-py37hd408876_0\n",
            "  locket             pkgs/main/linux-64::locket-0.2.0-py37_1\n",
            "  lxml               pkgs/main/linux-64::lxml-4.4.1-py37hefd8a0e_0\n",
            "  lz4-c              pkgs/main/linux-64::lz4-c-1.8.1.2-h14c3975_0\n",
            "  lzo                pkgs/main/linux-64::lzo-2.10-h49e0be7_2\n",
            "  markupsafe         pkgs/main/linux-64::markupsafe-1.1.1-py37h7b6447c_0\n",
            "  matplotlib         pkgs/main/linux-64::matplotlib-3.1.1-py37h5429711_0\n",
            "  mccabe             pkgs/main/linux-64::mccabe-0.6.1-py37_1\n",
            "  mistune            pkgs/main/linux-64::mistune-0.8.4-py37h7b6447c_0\n",
            "  mkl                pkgs/main/linux-64::mkl-2019.4-243\n",
            "  mkl-service        pkgs/main/linux-64::mkl-service-2.3.0-py37he904b0f_0\n",
            "  mkl_fft            pkgs/main/linux-64::mkl_fft-1.0.14-py37ha843d7b_0\n",
            "  mkl_random         pkgs/main/linux-64::mkl_random-1.1.0-py37hd6b4f25_0\n",
            "  mock               pkgs/main/linux-64::mock-3.0.5-py37_0\n",
            "  more-itertools     pkgs/main/linux-64::more-itertools-7.2.0-py37_0\n",
            "  mpc                pkgs/main/linux-64::mpc-1.1.0-h10f8cd9_1\n",
            "  mpfr               pkgs/main/linux-64::mpfr-4.0.1-hdf1c602_3\n",
            "  mpmath             pkgs/main/linux-64::mpmath-1.1.0-py37_0\n",
            "  msgpack-python     pkgs/main/linux-64::msgpack-python-0.6.1-py37hfd86e86_1\n",
            "  multipledispatch   pkgs/main/linux-64::multipledispatch-0.6.0-py37_0\n",
            "  navigator-updater  pkgs/main/linux-64::navigator-updater-0.2.1-py37_0\n",
            "  nbconvert          pkgs/main/linux-64::nbconvert-5.6.0-py37_1\n",
            "  nbformat           pkgs/main/linux-64::nbformat-4.4.0-py37_0\n",
            "  ncurses            pkgs/main/linux-64::ncurses-6.1-he6710b0_1\n",
            "  networkx           pkgs/main/noarch::networkx-2.3-py_0\n",
            "  nltk               pkgs/main/linux-64::nltk-3.4.5-py37_0\n",
            "  nose               pkgs/main/linux-64::nose-1.3.7-py37_2\n",
            "  notebook           pkgs/main/linux-64::notebook-6.0.1-py37_0\n",
            "  numba              pkgs/main/linux-64::numba-0.45.1-py37h962f231_0\n",
            "  numexpr            pkgs/main/linux-64::numexpr-2.7.0-py37h9e4a6bb_0\n",
            "  numpy              pkgs/main/linux-64::numpy-1.17.2-py37haad9e8e_0\n",
            "  numpy-base         pkgs/main/linux-64::numpy-base-1.17.2-py37hde5b4d6_0\n",
            "  numpydoc           pkgs/main/noarch::numpydoc-0.9.1-py_0\n",
            "  olefile            pkgs/main/linux-64::olefile-0.46-py37_0\n",
            "  openpyxl           pkgs/main/noarch::openpyxl-3.0.0-py_0\n",
            "  openssl            pkgs/main/linux-64::openssl-1.1.1d-h7b6447c_2\n",
            "  packaging          pkgs/main/noarch::packaging-19.2-py_0\n",
            "  pandas             pkgs/main/linux-64::pandas-0.25.1-py37he6710b0_0\n",
            "  pandoc             pkgs/main/linux-64::pandoc-2.2.3.2-0\n",
            "  pandocfilters      pkgs/main/linux-64::pandocfilters-1.4.2-py37_1\n",
            "  pango              pkgs/main/linux-64::pango-1.42.4-h049681c_0\n",
            "  parso              pkgs/main/noarch::parso-0.5.1-py_0\n",
            "  partd              pkgs/main/noarch::partd-1.0.0-py_0\n",
            "  patchelf           pkgs/main/linux-64::patchelf-0.9-he6710b0_3\n",
            "  path.py            pkgs/main/noarch::path.py-12.0.1-py_0\n",
            "  pathlib2           pkgs/main/linux-64::pathlib2-2.3.5-py37_0\n",
            "  patsy              pkgs/main/linux-64::patsy-0.5.1-py37_0\n",
            "  pcre               pkgs/main/linux-64::pcre-8.43-he6710b0_0\n",
            "  pep8               pkgs/main/linux-64::pep8-1.7.1-py37_0\n",
            "  pexpect            pkgs/main/linux-64::pexpect-4.7.0-py37_0\n",
            "  pickleshare        pkgs/main/linux-64::pickleshare-0.7.5-py37_0\n",
            "  pillow             pkgs/main/linux-64::pillow-6.2.0-py37h34e0f95_0\n",
            "  pip                pkgs/main/linux-64::pip-19.2.3-py37_0\n",
            "  pixman             pkgs/main/linux-64::pixman-0.38.0-h7b6447c_0\n",
            "  pkginfo            pkgs/main/linux-64::pkginfo-1.5.0.1-py37_0\n",
            "  pluggy             pkgs/main/linux-64::pluggy-0.13.0-py37_0\n",
            "  ply                pkgs/main/linux-64::ply-3.11-py37_0\n",
            "  prometheus_client  pkgs/main/noarch::prometheus_client-0.7.1-py_0\n",
            "  prompt_toolkit     pkgs/main/noarch::prompt_toolkit-2.0.10-py_0\n",
            "  psutil             pkgs/main/linux-64::psutil-5.6.3-py37h7b6447c_0\n",
            "  ptyprocess         pkgs/main/linux-64::ptyprocess-0.6.0-py37_0\n",
            "  py                 pkgs/main/linux-64::py-1.8.0-py37_0\n",
            "  py-lief            pkgs/main/linux-64::py-lief-0.9.0-py37h7725739_2\n",
            "  pycodestyle        pkgs/main/linux-64::pycodestyle-2.5.0-py37_0\n",
            "  pycosat            pkgs/main/linux-64::pycosat-0.6.3-py37h14c3975_0\n",
            "  pycparser          pkgs/main/linux-64::pycparser-2.19-py37_0\n",
            "  pycrypto           pkgs/main/linux-64::pycrypto-2.6.1-py37h14c3975_9\n",
            "  pycurl             pkgs/main/linux-64::pycurl-7.43.0.3-py37h1ba5d50_0\n",
            "  pyflakes           pkgs/main/linux-64::pyflakes-2.1.1-py37_0\n",
            "  pygments           pkgs/main/noarch::pygments-2.4.2-py_0\n",
            "  pylint             pkgs/main/linux-64::pylint-2.4.2-py37_0\n",
            "  pyodbc             pkgs/main/linux-64::pyodbc-4.0.27-py37he6710b0_0\n",
            "  pyopenssl          pkgs/main/linux-64::pyopenssl-19.0.0-py37_0\n",
            "  pyparsing          pkgs/main/noarch::pyparsing-2.4.2-py_0\n",
            "  pyqt               pkgs/main/linux-64::pyqt-5.9.2-py37h05f1152_2\n",
            "  pyrsistent         pkgs/main/linux-64::pyrsistent-0.15.4-py37h7b6447c_0\n",
            "  pysocks            pkgs/main/linux-64::pysocks-1.7.1-py37_0\n",
            "  pytables           pkgs/main/linux-64::pytables-3.5.2-py37h71ec239_1\n",
            "  pytest             pkgs/main/linux-64::pytest-5.2.1-py37_0\n",
            "  pytest-arraydiff   pkgs/main/linux-64::pytest-arraydiff-0.3-py37h39e3cac_0\n",
            "  pytest-astropy     pkgs/main/linux-64::pytest-astropy-0.5.0-py37_0\n",
            "  pytest-doctestplus pkgs/main/noarch::pytest-doctestplus-0.4.0-py_0\n",
            "  pytest-openfiles   pkgs/main/noarch::pytest-openfiles-0.4.0-py_0\n",
            "  pytest-remotedata  pkgs/main/linux-64::pytest-remotedata-0.3.2-py37_0\n",
            "  python             pkgs/main/linux-64::python-3.7.4-h265db76_1\n",
            "  python-dateutil    pkgs/main/linux-64::python-dateutil-2.8.0-py37_0\n",
            "  python-libarchive~ pkgs/main/linux-64::python-libarchive-c-2.8-py37_13\n",
            "  pytz               pkgs/main/noarch::pytz-2019.3-py_0\n",
            "  pywavelets         pkgs/main/linux-64::pywavelets-1.0.3-py37hdd07704_1\n",
            "  pyyaml             pkgs/main/linux-64::pyyaml-5.1.2-py37h7b6447c_0\n",
            "  pyzmq              pkgs/main/linux-64::pyzmq-18.1.0-py37he6710b0_0\n",
            "  qt                 pkgs/main/linux-64::qt-5.9.7-h5867ecd_1\n",
            "  qtawesome          pkgs/main/noarch::qtawesome-0.6.0-py_0\n",
            "  qtconsole          pkgs/main/noarch::qtconsole-4.5.5-py_0\n",
            "  qtpy               pkgs/main/noarch::qtpy-1.9.0-py_0\n",
            "  readline           pkgs/main/linux-64::readline-7.0-h7b6447c_5\n",
            "  requests           pkgs/main/linux-64::requests-2.22.0-py37_0\n",
            "  ripgrep            pkgs/main/linux-64::ripgrep-0.10.0-hc07d326_0\n",
            "  rope               pkgs/main/noarch::rope-0.14.0-py_0\n",
            "  ruamel_yaml        pkgs/main/linux-64::ruamel_yaml-0.15.46-py37h14c3975_0\n",
            "  scikit-image       pkgs/main/linux-64::scikit-image-0.15.0-py37he6710b0_0\n",
            "  scikit-learn       pkgs/main/linux-64::scikit-learn-0.21.3-py37hd81dba3_0\n",
            "  scipy              pkgs/main/linux-64::scipy-1.3.1-py37h7c811a0_0\n",
            "  seaborn            pkgs/main/linux-64::seaborn-0.9.0-py37_0\n",
            "  secretstorage      pkgs/main/linux-64::secretstorage-3.1.1-py37_0\n",
            "  send2trash         pkgs/main/linux-64::send2trash-1.5.0-py37_0\n",
            "  setuptools         pkgs/main/linux-64::setuptools-41.4.0-py37_0\n",
            "  simplegeneric      pkgs/main/linux-64::simplegeneric-0.8.1-py37_2\n",
            "  singledispatch     pkgs/main/linux-64::singledispatch-3.4.0.3-py37_0\n",
            "  sip                pkgs/main/linux-64::sip-4.19.8-py37hf484d3e_0\n",
            "  six                pkgs/main/linux-64::six-1.12.0-py37_0\n",
            "  snappy             pkgs/main/linux-64::snappy-1.1.7-hbae5bb6_3\n",
            "  snowballstemmer    pkgs/main/noarch::snowballstemmer-2.0.0-py_0\n",
            "  sortedcollections  pkgs/main/linux-64::sortedcollections-1.1.2-py37_0\n",
            "  sortedcontainers   pkgs/main/linux-64::sortedcontainers-2.1.0-py37_0\n",
            "  soupsieve          pkgs/main/linux-64::soupsieve-1.9.3-py37_0\n",
            "  sphinx             pkgs/main/noarch::sphinx-2.2.0-py_0\n",
            "  sphinxcontrib      pkgs/main/linux-64::sphinxcontrib-1.0-py37_1\n",
            "  sphinxcontrib-app~ pkgs/main/noarch::sphinxcontrib-applehelp-1.0.1-py_0\n",
            "  sphinxcontrib-dev~ pkgs/main/noarch::sphinxcontrib-devhelp-1.0.1-py_0\n",
            "  sphinxcontrib-htm~ pkgs/main/noarch::sphinxcontrib-htmlhelp-1.0.2-py_0\n",
            "  sphinxcontrib-jsm~ pkgs/main/noarch::sphinxcontrib-jsmath-1.0.1-py_0\n",
            "  sphinxcontrib-qth~ pkgs/main/noarch::sphinxcontrib-qthelp-1.0.2-py_0\n",
            "  sphinxcontrib-ser~ pkgs/main/noarch::sphinxcontrib-serializinghtml-1.1.3-py_0\n",
            "  sphinxcontrib-web~ pkgs/main/noarch::sphinxcontrib-websupport-1.1.2-py_0\n",
            "  spyder             pkgs/main/linux-64::spyder-3.3.6-py37_0\n",
            "  spyder-kernels     pkgs/main/linux-64::spyder-kernels-0.5.2-py37_0\n",
            "  sqlalchemy         pkgs/main/linux-64::sqlalchemy-1.3.9-py37h7b6447c_0\n",
            "  sqlite             pkgs/main/linux-64::sqlite-3.30.0-h7b6447c_0\n",
            "  statsmodels        pkgs/main/linux-64::statsmodels-0.10.1-py37hdd07704_0\n",
            "  sympy              pkgs/main/linux-64::sympy-1.4-py37_0\n",
            "  tbb                pkgs/main/linux-64::tbb-2019.4-hfd86e86_0\n",
            "  tblib              pkgs/main/noarch::tblib-1.4.0-py_0\n",
            "  terminado          pkgs/main/linux-64::terminado-0.8.2-py37_0\n",
            "  testpath           pkgs/main/linux-64::testpath-0.4.2-py37_0\n",
            "  tk                 pkgs/main/linux-64::tk-8.6.8-hbc83047_0\n",
            "  toolz              pkgs/main/noarch::toolz-0.10.0-py_0\n",
            "  tornado            pkgs/main/linux-64::tornado-6.0.3-py37h7b6447c_0\n",
            "  tqdm               pkgs/main/noarch::tqdm-4.36.1-py_0\n",
            "  traitlets          pkgs/main/linux-64::traitlets-4.3.3-py37_0\n",
            "  unicodecsv         pkgs/main/linux-64::unicodecsv-0.14.1-py37_0\n",
            "  unixodbc           pkgs/main/linux-64::unixodbc-2.3.7-h14c3975_0\n",
            "  urllib3            pkgs/main/linux-64::urllib3-1.24.2-py37_0\n",
            "  wcwidth            pkgs/main/linux-64::wcwidth-0.1.7-py37_0\n",
            "  webencodings       pkgs/main/linux-64::webencodings-0.5.1-py37_1\n",
            "  werkzeug           pkgs/main/noarch::werkzeug-0.16.0-py_0\n",
            "  wheel              pkgs/main/linux-64::wheel-0.33.6-py37_0\n",
            "  widgetsnbextension pkgs/main/linux-64::widgetsnbextension-3.5.1-py37_0\n",
            "  wrapt              pkgs/main/linux-64::wrapt-1.11.2-py37h7b6447c_0\n",
            "  wurlitzer          pkgs/main/linux-64::wurlitzer-1.0.3-py37_0\n",
            "  xlrd               pkgs/main/linux-64::xlrd-1.2.0-py37_0\n",
            "  xlsxwriter         pkgs/main/noarch::xlsxwriter-1.2.1-py_0\n",
            "  xlwt               pkgs/main/linux-64::xlwt-1.3.0-py37_0\n",
            "  xz                 pkgs/main/linux-64::xz-5.2.4-h14c3975_4\n",
            "  yaml               pkgs/main/linux-64::yaml-0.1.7-had09818_2\n",
            "  zeromq             pkgs/main/linux-64::zeromq-4.3.1-he6710b0_3\n",
            "  zict               pkgs/main/noarch::zict-1.0.0-py_0\n",
            "  zipp               pkgs/main/noarch::zipp-0.6.0-py_0\n",
            "  zlib               pkgs/main/linux-64::zlib-1.2.11-h7b6447c_3\n",
            "  zstd               pkgs/main/linux-64::zstd-1.3.7-h0b5b093_0\n",
            "\n",
            "\n",
            "Preparing transaction: - \b\b\\ \b\b| \b\b/ \b\b- \b\b\\ \b\b| \b\b/ \b\b- \b\b\\ \b\b| \b\b/ \b\b- \b\b\\ \b\b| \b\b/ \b\b- \b\b\\ \b\b| \b\b/ \b\b- \b\b\\ \b\b| \b\b/ \b\b- \b\b\\ \b\b| \b\b/ \b\b- \b\b\\ \b\b| \b\b/ \b\bdone\n",
            "Executing transaction: \\ \b\b| \b\b/ \b\b- \b\b\\ \b\b| \b\b/ \b\b- \b\b\\ \b\b| \b\b/ \b\b- \b\b\\ \b\b| \b\b/ \b\b- \b\b\\ \b\b| \b\b/ \b\b- \b\b\\ \b\b| \b\b/ \b\b- \b\b\\ \b\b| \b\b/ \b\b- \b\b\\ \b\b| \b\b/ \b\b- \b\b\\ \b\b| \b\b/ \b\b- \b\b\\ \b\b| \b\b/ \b\b- \b\b\\ \b\b| \b\b/ \b\b- \b\b\\ \b\b| \b\b/ \b\b- \b\b\\ \b\b| \b\b/ \b\b- \b\b\\ \b\b| \b\b/ \b\b- \b\b\\ \b\b| \b\b/ \b\b- \b\b\\ \b\b| \b\b/ \b\b- \b\b\\ \b\b| \b\b/ \b\b- \b\b\\ \b\b| \b\b/ \b\b- \b\b\\ \b\b| \b\b/ \b\b- \b\b\\ \b\b| \b\b/ \b\b- \b\b\\ \b\b| \b\b/ \b\b- \b\b\\ \b\b| \b\b/ \b\b- \b\b\\ \b\b| \b\b/ \b\b- \b\b\\ \b\b| \b\b/ \b\b- \b\b\\ \b\b| \b\b/ \b\b- \b\b\\ \b\b| \b\b/ \b\b- \b\b\\ \b\b| \b\b/ \b\b- \b\b\\ \b\b| \b\b/ \b\b- \b\b\\ \b\b| \b\b/ \b\b- \b\b\\ \b\b| \b\b/ \b\b- \b\b\\ \b\b| \b\b/ \b\b- \b\b\\ \b\b| \b\b/ \b\b- \b\b\\ \b\b| \b\b/ \b\b- \b\b\\ \b\b| \b\b/ \b\b- \b\b\\ \b\b| \b\b/ \b\b- \b\b\\ \b\b| \b\b/ \b\b- \b\b\\ \b\b| \b\b/ \b\b- \b\b\\ \b\b| \b\b/ \b\b- \b\b\\ \b\b| \b\b/ \b\b- \b\b\\ \b\b| \b\b/ \b\b- \b\b\\ \b\b| \b\b/ \b\b- \b\b\\ \b\b| \b\b/ \b\b- \b\b\\ \b\b| \b\b/ \b\b- \b\b\\ \b\b| \b\b/ \b\b- \b\b\\ \b\b| \b\b/ \b\b- \b\b\\ \b\b| \b\b/ \b\b- \b\b\\ \b\b| \b\b/ \b\b- \b\b\\ \b\b| \b\b/ \b\b- \b\b\\ \b\b| \b\b/ \b\b- \b\b\\ \b\b| \b\b/ \b\b- \b\b\\ \b\b| \b\b/ \b\b- \b\b\\ \b\b| \b\b/ \b\b- \b\b\\ \b\b| \b\b/ \b\b- \b\b\\ \b\b| \b\b/ \b\b- \b\b\\ \b\b| \b\b/ \b\b- \b\b\\ \b\b| \b\b/ \b\b- \b\b\\ \b\b| \b\b/ \b\b- \b\b\\ \b\b| \b\b/ \b\b- \b\b\\ \b\b| \b\b/ \b\b- \b\b\\ \b\b| \b\b/ \b\b- \b\b\\ \b\b| \b\b/ \b\b- \b\b\\ \b\b| \b\b/ \b\b- \b\b\\ \b\b| \b\b/ \b\b- \b\b\\ \b\b| \b\b/ \b\b- \b\b\\ \b\b| \b\b/ \b\b- \b\b\\ \b\b| \b\b/ \b\b- \b\b\\ \b\b| \b\b/ \b\b- \b\bdone\n",
            "installation finished.\n",
            "WARNING:\n",
            "    You currently have a PYTHONPATH environment variable set. This may cause\n",
            "    unexpected behavior when running the Python interpreter in Anaconda3.\n",
            "    For best results, please verify that your PYTHONPATH only points to\n",
            "    directories of packages that are compatible with the Python interpreter\n",
            "    in Anaconda3: /usr/local\n",
            "Collecting package metadata (current_repodata.json): - \b\b\\ \b\b| \b\b/ \b\b- \b\b\\ \b\b| \b\b/ \b\b- \b\b\\ \b\b| \b\b/ \b\b- \b\b\\ \b\b| \b\b/ \b\b- \b\b\\ \b\b| \b\b/ \b\b- \b\b\\ \b\b| \b\b/ \b\b- \b\b\\ \b\b| \b\b/ \b\b- \b\b\\ \b\b| \b\b/ \b\b- \b\b\\ \b\b| \b\b/ \b\b- \b\b\\ \b\b| \b\b/ \b\b- \b\b\\ \b\b| \b\b/ \b\b- \b\b\\ \b\b| \b\b/ \b\b- \b\b\\ \b\b| \b\b/ \b\b- \b\b\\ \b\b| \b\b/ \b\b- \b\b\\ \b\b| \b\b/ \b\b- \b\b\\ \b\b| \b\b/ \b\b- \b\b\\ \b\b| \b\b/ \b\b- \b\b\\ \b\b| \b\b/ \b\b- \b\b\\ \b\b| \b\b/ \b\b- \b\b\\ \b\b| \b\b/ \b\b- \b\b\\ \b\b| \b\b/ \b\b- \b\b\\ \b\b| \b\b/ \b\b- \b\b\\ \b\b| \b\b/ \b\b- \b\b\\ \b\b| \b\b/ \b\b- \b\b\\ \b\b| \b\b/ \b\b- \b\b\\ \b\b| \b\b/ \b\b- \b\b\\ \b\b| \b\b/ \b\b- \b\b\\ \b\b| \b\b/ \b\b- \b\b\\ \b\b| \b\b/ \b\b- \b\b\\ \b\b| \b\b/ \b\b- \b\b\\ \b\b| \b\b/ \b\b- \b\b\\ \b\b| \b\b/ \b\b- \b\b\\ \b\b| \b\b/ \b\b- \b\b\\ \b\b| \b\b/ \b\b- \b\b\\ \b\b| \b\b/ \b\bdone\n",
            "Solving environment: \\ \b\b| \b\b/ \b\b- \b\b\\ \b\b| \b\b/ \b\b- \b\b\\ \b\b| \b\b/ \b\b- \b\b\\ \b\b| \b\b/ \b\b- \b\b\\ \b\b| \b\b/ \b\b- \b\b\\ \b\b| \b\b/ \b\b- \b\b\\ \b\b| \b\b/ \b\b- \b\b\\ \b\b| \b\b/ \b\b- \b\b\\ \b\b| \b\b/ \b\b- \b\b\\ \b\b| \b\b/ \b\b- \b\b\\ \b\b| \b\b/ \b\b- \b\b\\ \b\b| \b\b/ \b\b- \b\b\\ \b\b| \b\b/ \b\b- \b\b\\ \b\b| \b\b/ \b\b- \b\b\\ \b\b| \b\b/ \b\b- \b\b\\ \b\b| \b\b/ \b\b- \b\b\\ \b\b| \b\b/ \b\b- \b\b\\ \b\b| \b\b/ \b\b- \b\b\\ \b\b| \b\b/ \b\b- \b\b\\ \b\b| \b\b/ \b\b- \b\b\\ \b\b| \b\b/ \b\b- \b\b\\ \b\b| \b\b/ \b\b- \b\b\\ \b\b| \b\b/ \b\b- \b\b\\ \b\b| \b\b/ \b\b- \b\b\\ \b\b| \b\b/ \b\b- \b\b\\ \b\b| \b\b/ \b\b- \b\b\\ \b\b| \b\b/ \b\b- \b\b\\ \b\b| \b\b/ \b\b- \b\b\\ \b\b| \b\b/ \b\b- \b\b\\ \b\b| \b\b/ \b\b- \b\b\\ \b\b| \b\b/ \b\b- \b\b\\ \b\b| \b\b/ \b\b- \b\b\\ \b\b| \b\b/ \b\b- \b\b\\ \b\b| \b\b/ \b\b- \b\b\\ \b\b| \b\b/ \b\b- \b\b\\ \b\b| \b\b/ \b\b- \b\b\\ \b\b| \b\b/ \b\b- \b\b\\ \b\b| \b\b/ \b\b- \b\b\\ \b\b| \b\b/ \b\b- \b\b\\ \b\b| \b\b/ \b\b- \b\b\\ \b\b| \b\b/ \b\b- \b\b\\ \b\b| \b\b/ \b\b- \b\b\\ \b\b| \b\b/ \b\b- \b\b\\ \b\b| \b\b/ \b\b- \b\b\\ \b\b| \b\b/ \b\b- \b\b\\ \b\b| \b\b/ \b\b- \b\b\\ \b\b| \b\b/ \b\b- \b\b\\ \b\b| \b\b/ \b\b- \b\b\\ \b\b| \b\b/ \b\b- \b\b\\ \b\b| \b\b/ \b\b- \b\b\\ \b\b| \b\b/ \b\b- \b\b\\ \b\b| \b\b/ \b\b- \b\b\\ \b\b| \b\b/ \b\b- \b\b\\ \b\b| \b\b/ \b\b- \b\b\\ \b\b| \b\b/ \b\b- \b\b\\ \b\b| \b\b/ \b\b- \b\b\\ \b\b| \b\b/ \b\b- \b\b\\ \b\b| \b\b/ \b\b- \b\b\\ \b\b| \b\b/ \b\b- \b\b\\ \b\b| \b\b/ \b\b- \b\b\\ \b\b| \b\b/ \b\b- \b\b\\ \b\b| \b\b/ \b\b- \b\b\\ \b\b| \b\b/ \b\b- \b\b\\ \b\b| \b\b/ \b\b- \b\b\\ \b\b| \b\b/ \b\b- \b\b\\ \b\b| \b\b/ \b\b- \b\b\\ \b\b| \b\b/ \b\b- \b\b\\ \b\b| \b\b/ \b\b- \b\b\\ \b\b| \b\b/ \b\b- \b\b\\ \b\b| \b\b/ \b\b- \b\b\\ \b\b| \b\b/ \b\b- \b\b\\ \b\b| \b\b/ \b\b- \b\b\\ \b\b| \b\b/ \b\b- \b\b\\ \b\b| \b\b/ \b\b- \b\b\\ \b\b| \b\b/ \b\b- \b\b\\ \b\b| \b\b/ \b\b- \b\b\\ \b\b| \b\b/ \b\b- \b\b\\ \b\b| \b\b/ \b\b- \b\b\\ \b\b| \b\b/ \b\b- \b\b\\ \b\b| \b\b/ \b\b- \b\b\\ \b\b| \b\b/ \b\b- \b\b\\ \b\b| \b\b/ \b\b- \b\b\\ \b\b| \b\b/ \b\b- \b\b\\ \b\b| \b\b/ \b\b- \b\b\\ \b\b| \b\b/ \b\b- \b\b\\ \b\b| \b\b/ \b\b- \b\b\\ \b\b| \b\b/ \b\b- \b\b\\ \b\b| \b\b/ \b\b- \b\b\\ \b\b| \b\b/ \b\b- \b\b\\ \b\b| \b\b/ \b\b- \b\b\\ \b\b| \b\b/ \b\b- \b\b\\ \b\b| \b\b/ \b\b- \b\b\\ \b\b| \b\b/ \b\b- \b\b\\ \b\b| \b\b/ \b\b- \b\b\\ \b\b| \b\b/ \b\b- \b\b\\ \b\b| \b\b/ \b\b- \b\b\\ \b\b| \b\b/ \b\b- \b\b\\ \b\b| \b\b/ \b\b- \b\b\\ \b\b| \b\b/ \b\b- \b\b\\ \b\b| \b\b/ \b\b- \b\b\\ \b\b| \b\b/ \b\b- \b\b\\ \b\b| \b\b/ \b\b- \b\b\\ \b\b| \b\b/ \b\b- \b\b\\ \b\b| \b\b/ \b\b- \b\b\\ \b\b| \b\b/ \b\b- \b\b\\ \b\b| \b\b/ \b\b- \b\b\\ \b\b| \b\b/ \b\b- \b\b\\ \b\b| \b\b/ \b\b- \b\b\\ \b\b| \b\b/ \b\b- \b\b\\ \b\b| \b\b/ \b\b- \b\b\\ \b\b| \b\b/ \b\b- \b\b\\ \b\b| \b\b/ \b\b- \b\b\\ \b\b| \b\b/ \b\b- \b\b\\ \b\b| \b\b/ \b\b- \b\b\\ \b\b| \b\b/ \b\b- \b\b\\ \b\b| \b\b/ \b\b- \b\b\\ \b\b| \b\b/ \b\b- \b\b\\ \b\b| \b\b/ \b\b- \b\b\\ \b\b| \b\b/ \b\b- \b\b\\ \b\b| \b\b/ \b\b- \b\b\\ \b\b| \b\b/ \b\b- \b\b\\ \b\b| \b\b/ \b\b- \b\b\\ \b\b| \b\b/ \b\b- \b\b\\ \b\b| \b\b/ \b\b- \b\b\\ \b\b| \b\b/ \b\b- \b\b\\ \b\b| \b\b/ \b\b- \b\b\\ \b\b| \b\b/ \b\b- \b\b\\ \b\b| \b\b/ \b\b- \b\b\\ \b\b| \b\b/ \b\b- \b\b\\ \b\b| \b\b/ \b\b- \b\b\\ \b\b| \b\b/ \b\b- \b\b\\ \b\b| \b\b/ \b\b- \b\b\\ \b\b| \b\b/ \b\b- \b\b\\ \b\b| \b\b/ \b\b- \b\b\\ \b\b| \b\b/ \b\b- \b\b\\ \b\b| \b\b/ \b\b- \b\b\\ \b\b| \b\b/ \b\b- \b\b\\ \b\b| \b\b/ \b\b- \b\b\\ \b\b| \b\b/ \b\b- \b\b\\ \b\b| \b\b/ \b\b- \b\b\\ \b\b| \b\b/ \b\b- \b\b\\ \b\b| \b\b/ \b\b- \b\b\\ \b\b| \b\b/ \b\b- \b\b\\ \b\b| \b\b/ \b\b- \b\b\\ \b\b| \b\b/ \b\b- \b\b\\ \b\b| \b\b/ \b\b- \b\b\\ \b\b| \b\b/ \b\b- \b\b\\ \b\b| \b\b/ \b\b- \b\b\\ \b\b| \b\b/ \b\b- \b\b\\ \b\b| \b\b/ \b\b- \b\b\\ \b\b| \b\b/ \b\b- \b\b\\ \b\b| \b\b/ \b\b- \b\b\\ \b\b| \b\b/ \b\b- \b\b\\ \b\b| \b\b/ \b\b- \b\b\\ \b\b| \b\b/ \b\b- \b\b\\ \b\b| \b\b/ \b\b- \b\b\\ \b\b| \b\b/ \b\b- \b\b\\ \b\b| \b\b/ \b\b- \b\b\\ \b\b| \b\b/ \b\b- \b\b\\ \b\b| \b\b/ \b\b- \b\b\\ \b\b| \b\b/ \b\b- \b\b\\ \b\b| \b\b/ \b\b- \b\b\\ \b\b| \b\b/ \b\bfailed with initial frozen solve. Retrying with flexible solve.\n",
            "Solving environment: \\ \b\b| \b\b/ \b\b- \b\b\\ \b\b| \b\b/ \b\b- \b\b\\ \b\b| \b\b/ \b\b- \b\b\\ \b\b| \b\b/ \b\b- \b\b\\ \b\b| \b\b/ \b\b- \b\b\\ \b\b| \b\b/ \b\b- \b\b\\ \b\b| \b\b/ \b\b- \b\b\\ \b\b| \b\b/ \b\b- \b\b\\ \b\b| \b\b/ \b\b- \b\b\\ \b\b| \b\b/ \b\b- \b\b\\ \b\b| \b\b/ \b\b- \b\b\\ \b\b| \b\b/ \b\b- \b\b\\ \b\b| \b\b/ \b\b- \b\b\\ \b\b| \b\b/ \b\b- \b\b\\ \b\b| \b\b/ \b\b- \b\b\\ \b\b| \b\b/ \b\b- \b\b\\ \b\b| \b\b/ \b\b- \b\b\\ \b\b| \b\b/ \b\b- \b\b\\ \b\b| \b\b/ \b\b- \b\b\\ \b\b| \b\b/ \b\b- \b\b\\ \b\b| \b\b/ \b\b- \b\b\\ \b\b| \b\b/ \b\b- \b\b\\ \b\b| \b\b/ \b\b- \b\b\\ \b\b| \b\b/ \b\b- \b\b\\ \b\b| \b\b/ \b\b- \b\b\\ \b\b| \b\b/ \b\b- \b\b\\ \b\b| \b\b/ \b\b- \b\b\\ \b\b| \b\b/ \b\b- \b\b\\ \b\b| \b\b/ \b\b- \b\b\\ \b\b| \b\b/ \b\b- \b\b\\ \b\b| \b\b/ \b\b- \b\b\\ \b\b| \b\b/ \b\b- \b\b\\ \b\b| \b\b/ \b\b- \b\b\\ \b\b| \b\b/ \b\b- \b\b\\ \b\b| \b\b/ \b\b- \b\b\\ \b\b| \b\b/ \b\b- \b\b\\ \b\b| \b\b/ \b\b- \b\b\\ \b\b| \b\b/ \b\b- \b\b\\ \b\b| \b\b/ \b\b- \b\b\\ \b\b| \b\b/ \b\b- \b\b\\ \b\b| \b\b/ \b\b- \b\b\\ \b\b| \b\b/ \b\b- \b\b\\ \b\b| \b\b/ \b\b- \b\b\\ \b\b| \b\b/ \b\b- \b\b\\ \b\b| \b\b/ \b\b- \b\b\\ \b\b| \b\b/ \b\b- \b\b\\ \b\b| \b\b/ \b\b- \b\b\\ \b\b| \b\b/ \b\b- \b\b\\ \b\b| \b\b/ \b\b- \b\b\\ \b\b| \b\b/ \b\b- \b\b\\ \b\b| \b\b/ \b\b- \b\b\\ \b\b| \b\b/ \b\b- \b\b\\ \b\b| \b\b/ \b\b- \b\b\\ \b\b| \b\b/ \b\b- \b\b\\ \b\b| \b\b/ \b\b- \b\b\\ \b\b| \b\b/ \b\b- \b\b\\ \b\b| \b\b/ \b\b- \b\b\\ \b\b| \b\b/ \b\b- \b\b\\ \b\b| \b\b/ \b\b- \b\b\\ \b\b| \b\b/ \b\b- \b\b\\ \b\b| \b\b/ \b\b- \b\b\\ \b\b| \b\b/ \b\b- \b\b\\ \b\b| \b\b/ \b\b- \b\b\\ \b\b| \b\b/ \b\b- \b\b\\ \b\b| \b\b/ \b\b- \b\b\\ \b\b| \b\b/ \b\b- \b\b\\ \b\b| \b\b/ \b\b- \b\b\\ \b\b| \b\b/ \b\b- \b\b\\ \b\b| \b\b/ \b\b- \b\b\\ \b\b| \b\b/ \b\b- \b\b\\ \b\b| \b\b/ \b\b- \b\b\\ \b\b| \b\b/ \b\b- \b\b\\ \b\b| \b\b/ \b\b- \b\b\\ \b\b| \b\b/ \b\b- \b\b\\ \b\b| \b\b/ \b\b- \b\b\\ \b\b| \b\b/ \b\b- \b\b\\ \b\b| \b\b/ \b\b- \b\b\\ \b\b| \b\b/ \b\b- \b\b\\ \b\b| \b\b/ \b\b- \b\b\\ \b\b| \b\b/ \b\b- \b\b\\ \b\b| \b\b/ \b\b- \b\b\\ \b\b| \b\b/ \b\b- \b\b\\ \b\b| \b\b/ \b\b- \b\b\\ \b\b| \b\b/ \b\b- \b\b\\ \b\b| \b\b/ \b\b- \b\b\\ \b\b| \b\b/ \b\b- \b\b\\ \b\b| \b\b/ \b\b- \b\b\\ \b\b| \b\b/ \b\b- \b\b\\ \b\b| \b\b/ \b\b- \b\b\\ \b\b| \b\b/ \b\b- \b\b\\ \b\b| \b\b/ \b\b- \b\b\\ \b\b| \b\b/ \b\b- \b\b\\ \b\b| \b\b/ \b\b- \b\b\\ \b\b| \b\b/ \b\b- \b\b\\ \b\b| \b\b/ \b\b- \b\b\\ \b\b| \b\b/ \b\b- \b\b\\ \b\b| \b\b/ \b\b- \b\b\\ \b\b| \b\b/ \b\b- \b\b\\ \b\b| \b\b/ \b\b- \b\b\\ \b\b| \b\b/ \b\b- \b\b\\ \b\b| \b\b/ \b\b- \b\b\\ \b\b| \b\b/ \b\b- \b\b\\ \b\b| \b\b/ \b\b- \b\b\\ \b\b| \b\b/ \b\b- \b\b\\ \b\b| \b\b/ \b\b- \b\b\\ \b\b| \b\b/ \b\b- \b\b\\ \b\b| \b\b/ \b\b- \b\b\\ \b\b| \b\b/ \b\b- \b\b\\ \b\b| \b\b/ \b\b- \b\b\\ \b\b| \b\b/ \b\b- \b\b\\ \b\b| \b\b/ \b\b- \b\b\\ \b\b| \b\b/ \b\b- \b\b\\ \b\b| \b\b/ \b\b- \b\b\\ \b\b| \b\b/ \b\b- \b\b\\ \b\b| \b\b/ \b\b- \b\b\\ \b\b| \b\b/ \b\b- \b\b\\ \b\b| \b\b/ \b\b- \b\b\\ \b\b| \b\b/ \b\b- \b\b\\ \b\b| \b\b/ \b\b- \b\b\\ \b\b| \b\b/ \b\b- \b\b\\ \b\b| \b\b/ \b\b- \b\b\\ \b\b| \b\b/ \b\b- \b\b\\ \b\b| \b\b/ \b\b- \b\b\\ \b\b| \b\b/ \b\b- \b\b\\ \b\b| \b\b/ \b\b- \b\b\\ \b\b| \b\b/ \b\b- \b\b\\ \b\b| \b\b/ \b\b- \b\b\\ \b\b| \b\b/ \b\b- \b\b\\ \b\b| \b\b/ \b\b- \b\b\\ \b\b| \b\b/ \b\b- \b\b\\ \b\b| \b\b/ \b\b- \b\b\\ \b\b| \b\b/ \b\b- \b\b\\ \b\b| \b\b/ \b\b- \b\b\\ \b\b| \b\b/ \b\b- \b\b\\ \b\b| \b\b/ \b\b- \b\b\\ \b\b| \b\b/ \b\b- \b\b\\ \b\b| \b\b/ \b\b- \b\b\\ \b\b| \b\b/ \b\b- \b\b\\ \b\b| \b\b/ \b\b- \b\b\\ \b\b| \b\b/ \b\b- \b\b\\ \b\b| \b\b/ \b\b- \b\b\\ \b\b| \b\b/ \b\b- \b\b\\ \b\b| \b\b/ \b\b- \b\b\\ \b\b| \b\b/ \b\b- \b\b\\ \b\b| \b\b/ \b\b- \b\b\\ \b\b| \b\b/ \b\b- \b\b\\ \b\b| \b\b/ \b\b- \b\b\\ \b\b| \b\b/ \b\b- \b\b\\ \b\b| \b\b/ \b\b- \b\b\\ \b\b| \b\b/ \b\b- \b\b\\ \b\b| \b\b/ \b\b- \b\b\\ \b\b| \b\b/ \b\b- \b\b\\ \b\b| \b\b/ \b\b- \b\b\\ \b\b| \b\b/ \b\b- \b\b\\ \b\b| \b\b/ \b\b- \b\b\\ \b\b| \b\b/ \b\b- \b\b\\ \b\b| \b\b/ \b\b- \b\b\\ \b\b| \b\b/ \b\b- \b\b\\ \b\b| \b\b/ \b\b- \b\b\\ \b\b| \b\b/ \b\b- \b\b\\ \b\b| \b\b/ \b\b- \b\b\\ \b\b| \b\b/ \b\b- \b\b\\ \b\b| \b\b/ \b\b- \b\b\\ \b\b| \b\b/ \b\b- \b\b\\ \b\b| \b\b/ \b\b- \b\b\\ \b\b| \b\b/ \b\bfailed with repodata from current_repodata.json, will retry with next repodata source.\n",
            "Collecting package metadata (repodata.json): \\ \b\b| \b\b/ \b\b- \b\b\\ \b\b| \b\b/ \b\b- \b\b\\ \b\b| \b\b/ \b\b- \b\b\\ \b\b| \b\b/ \b\b- \b\b\\ \b\b| \b\b/ \b\b- \b\b\\ \b\b| \b\b/ \b\b- \b\b\\ \b\b| \b\b/ \b\b- \b\b\\ \b\b| \b\b/ \b\b- \b\b\\ \b\b| \b\b/ \b\b- \b\b\\ \b\b| \b\b/ \b\b- \b\b\\ \b\b| \b\b/ \b\b- \b\b\\ \b\b| \b\b/ \b\b- \b\b\\ \b\b| \b\b/ \b\b- \b\b\\ \b\b| \b\b/ \b\b- \b\b\\ \b\b| \b\b/ \b\b- \b\b\\ \b\b| \b\b/ \b\b- \b\b\\ \b\b| \b\b/ \b\b- \b\b\\ \b\b| \b\b/ \b\b- \b\b\\ \b\b| \b\b/ \b\b- \b\b\\ \b\b| \b\b/ \b\b- \b\b\\ \b\b| \b\b/ \b\b- \b\b\\ \b\b| \b\b/ \b\b- \b\b\\ \b\b| \b\b/ \b\b- \b\b\\ \b\b| \b\b/ \b\b- \b\b\\ \b\b| \b\b/ \b\b- \b\b\\ \b\b| \b\b/ \b\b- \b\b\\ \b\b| \b\b/ \b\b- \b\b\\ \b\b| \b\b/ \b\b- \b\b\\ \b\b| \b\b/ \b\b- \b\b\\ \b\b| \b\b/ \b\b- \b\b\\ \b\b| \b\b/ \b\b- \b\b\\ \b\b| \b\b/ \b\b- \b\b\\ \b\b| \b\b/ \b\b- \b\b\\ \b\b| \b\b/ \b\b- \b\b\\ \b\b| \b\b/ \b\b- \b\b\\ \b\b| \b\b/ \b\b- \b\b\\ \b\b| \b\b/ \b\b- \b\b\\ \b\b| \b\b/ \b\b- \b\b\\ \b\b| \b\b/ \b\b- \b\b\\ \b\b| \b\b/ \b\b- \b\b\\ \b\b| \b\b/ \b\b- \b\b\\ \b\b| \b\b/ \b\b- \b\b\\ \b\b| \b\b/ \b\b- \b\b\\ \b\b| \b\b/ \b\b- \b\b\\ \b\b| \b\b/ \b\b- \b\b\\ \b\b| \b\b/ \b\b- \b\b\\ \b\b| \b\b/ \b\b- \b\b\\ \b\b| \b\b/ \b\b- \b\b\\ \b\b| \b\b/ \b\b- \b\b\\ \b\b| \b\b/ \b\b- \b\b\\ \b\b| \b\b/ \b\b- \b\b\\ \b\b| \b\b/ \b\b- \b\b\\ \b\b| \b\b/ \b\b- \b\b\\ \b\b| \b\b/ \b\b- \b\b\\ \b\b| \b\b/ \b\b- \b\b\\ \b\b| \b\b/ \b\b- \b\b\\ \b\b| \b\b/ \b\b- \b\b\\ \b\b| \b\b/ \b\b- \b\b\\ \b\b| \b\b/ \b\b- \b\b\\ \b\b| \b\b/ \b\b- \b\b\\ \b\b| \b\b/ \b\b- \b\b\\ \b\b| \b\b/ \b\b- \b\b\\ \b\b| \b\b/ \b\b- \b\b\\ \b\b| \b\b/ \b\b- \b\b\\ \b\b| \b\b/ \b\b- \b\b\\ \b\b| \b\b/ \b\b- \b\b\\ \b\b| \b\b/ \b\b- \b\b\\ \b\b| \b\b/ \b\b- \b\b\\ \b\b| \b\b/ \b\b- \b\b\\ \b\b| \b\b/ \b\b- \b\b\\ \b\b| \b\b/ \b\b- \b\b\\ \b\b| \b\b/ \b\b- \b\b\\ \b\b| \b\b/ \b\b- \b\b\\ \b\b| \b\b/ \b\b- \b\b\\ \b\b| \b\b/ \b\b- \b\b\\ \b\b| \b\b/ \b\b- \b\b\\ \b\b| \b\b/ \b\b- \b\b\\ \b\b| \b\b/ \b\b- \b\b\\ \b\b| \b\b/ \b\b- \b\b\\ \b\b| \b\b/ \b\b- \b\b\\ \b\b| \b\b/ \b\b- \b\b\\ \b\b| \b\b/ \b\b- \b\b\\ \b\b| \b\b/ \b\b- \b\b\\ \b\b| \b\b/ \b\b- \b\b\\ \b\b| \b\b/ \b\b- \b\b\\ \b\b| \b\b/ \b\b- \b\b\\ \b\b| \b\b/ \b\b- \b\b\\ \b\b| \b\b/ \b\b- \b\b\\ \b\b| \b\b/ \b\b- \b\b\\ \b\b| \b\b/ \b\b- \b\b\\ \b\b| \b\b/ \b\b- \b\b\\ \b\b| \b\b/ \b\b- \b\b\\ \b\b| \b\bdone\n",
            "Solving environment: - \b\b\\ \b\b| \b\b/ \b\b- \b\b\\ \b\b| \b\b/ \b\b- \b\b\\ \b\b| \b\b/ \b\b- \b\b\\ \b\b| \b\b/ \b\b- \b\b\\ \b\b| \b\b/ \b\b- \b\b\\ \b\b| \b\b/ \b\b- \b\b\\ \b\b| \b\b/ \b\b- \b\b\\ \b\b| \b\b/ \b\b- \b\b\\ \b\b| \b\b/ \b\b- \b\b\\ \b\b| \b\b/ \b\b- \b\b\\ \b\b| \b\b/ \b\b- \b\b\\ \b\b| \b\b/ \b\b- \b\b\\ \b\b| \b\b/ \b\b- \b\b\\ \b\b| \b\b/ \b\b- \b\b\\ \b\b| \b\b/ \b\b- \b\b\\ \b\b| \b\b/ \b\b- \b\b\\ \b\b| \b\b/ \b\b- \b\b\\ \b\b| \b\b/ \b\b- \b\b\\ \b\b| \b\b/ \b\b- \b\b\\ \b\b| \b\b/ \b\b- \b\b\\ \b\b| \b\b/ \b\b- \b\b\\ \b\b| \b\b/ \b\b- \b\b\\ \b\b| \b\b/ \b\b- \b\b\\ \b\b| \b\b/ \b\b- \b\b\\ \b\b| \b\b/ \b\b- \b\b\\ \b\b| \b\b/ \b\b- \b\b\\ \b\b| \b\b/ \b\b- \b\b\\ \b\b| \b\b/ \b\b- \b\b\\ \b\b| \b\b/ \b\b- \b\b\\ \b\b| \b\b/ \b\b- \b\b\\ \b\b| \b\b/ \b\b- \b\b\\ \b\b| \b\b/ \b\b- \b\b\\ \b\b| \b\b/ \b\b- \b\b\\ \b\b| \b\b/ \b\b- \b\b\\ \b\b| \b\b/ \b\b- \b\b\\ \b\b| \b\b/ \b\b- \b\b\\ \b\b| \b\b/ \b\b- \b\b\\ \b\b| \b\b/ \b\b- \b\b\\ \b\b| \b\b/ \b\b- \b\b\\ \b\b| \b\b/ \b\b- \b\b\\ \b\b| \b\b/ \b\b- \b\b\\ \b\b| \b\b/ \b\b- \b\b\\ \b\b| \b\b/ \b\b- \b\b\\ \b\b| \b\b/ \b\b- \b\b\\ \b\b| \b\b/ \b\b- \b\b\\ \b\b| \b\b/ \b\b- \b\b\\ \b\b| \b\b/ \b\b- \b\b\\ \b\b| \b\b/ \b\b- \b\b\\ \b\b| \b\b/ \b\b- \b\b\\ \b\b| \b\b/ \b\b- \b\b\\ \b\b| \b\b/ \b\b- \b\b\\ \b\b| \b\b/ \b\b- \b\b\\ \b\b| \b\b/ \b\b- \b\b\\ \b\b| \b\b/ \b\b- \b\b\\ \b\b| \b\b/ \b\b- \b\b\\ \b\b| \b\b/ \b\b- \b\b\\ \b\b| \b\b/ \b\b- \b\b\\ \b\b| \b\b/ \b\b- \b\b\\ \b\b| \b\bdone\n",
            "\n",
            "\n",
            "==> WARNING: A newer version of conda exists. <==\n",
            "  current version: 4.7.12\n",
            "  latest version: 4.9.2\n",
            "\n",
            "Please update conda by running\n",
            "\n",
            "    $ conda update -n base -c defaults conda\n",
            "\n",
            "\n",
            "\n",
            "## Package Plan ##\n",
            "\n",
            "  environment location: /usr/local\n",
            "\n",
            "  added / updated specs:\n",
            "    - deepchem-gpu=2.3.0\n",
            "\n",
            "\n",
            "The following packages will be downloaded:\n",
            "\n",
            "    package                    |            build\n",
            "    ---------------------------|-----------------\n",
            "    _py-xgboost-mutex-2.0      |            cpu_0           8 KB  conda-forge\n",
            "    _tflow_select-2.1.0        |              gpu           2 KB\n",
            "    absl-py-0.12.0             |     pyhd8ed1ab_0          96 KB  conda-forge\n",
            "    astor-0.8.1                |     pyh9f0ad1d_0          25 KB  conda-forge\n",
            "    astunparse-1.6.3           |     pyhd8ed1ab_0          15 KB  conda-forge\n",
            "    c-ares-1.17.1              |       h36c2ea0_0         111 KB  conda-forge\n",
            "    certifi-2019.9.11          |           py37_0         147 KB  conda-forge\n",
            "    conda-4.9.2                |   py37h89c1867_0         3.0 MB  conda-forge\n",
            "    cudatoolkit-10.1.243       |       h6bb024c_0       347.4 MB\n",
            "    cudnn-7.6.5.32             |       hc0a50b0_1       250.7 MB  conda-forge\n",
            "    cupti-10.1.168             |                0         1.4 MB\n",
            "    deepchem-gpu-2.3.0         |           py37_0         2.1 MB  deepchem\n",
            "    fftw3f-3.3.4               |                2         1.2 MB  omnia\n",
            "    gast-0.4.0                 |     pyh9f0ad1d_0          12 KB  conda-forge\n",
            "    google-pasta-0.2.0         |     pyh8c360ce_0          42 KB  conda-forge\n",
            "    grpcio-1.23.0              |   py37hb0870dc_1         1.1 MB  conda-forge\n",
            "    importlib-metadata-3.7.3   |   py37h89c1867_0          24 KB  conda-forge\n",
            "    keras-applications-1.0.8   |             py_1          30 KB  conda-forge\n",
            "    keras-preprocessing-1.1.2  |     pyhd8ed1ab_0          34 KB  conda-forge\n",
            "    libboost-1.67.0            |       h46d08c1_4        13.0 MB\n",
            "    libprotobuf-3.13.0.1       |       h8b12597_0         2.3 MB  conda-forge\n",
            "    libxgboost-1.2.0           |       he1b5a44_0         3.1 MB  conda-forge\n",
            "    markdown-3.3.4             |     pyhd8ed1ab_0          67 KB  conda-forge\n",
            "    mdtraj-1.9.5               |   py37h113d463_0         1.7 MB  conda-forge\n",
            "    openmm-7.4.2               |py37_cuda101_rc_1        11.9 MB  omnia\n",
            "    pdbfixer-1.6               |             py_1         167 KB  omnia\n",
            "    protobuf-3.13.0.1          |   py37h745909e_1         704 KB  conda-forge\n",
            "    py-boost-1.67.0            |   py37h04863e7_4         278 KB\n",
            "    py-xgboost-1.2.0           |   py37hc8dfbb8_0         1.7 MB  conda-forge\n",
            "    python_abi-3.7             |          1_cp37m           4 KB  conda-forge\n",
            "    rdkit-2020.03.3.0          |   py37hc20afe1_1        24.8 MB  rdkit\n",
            "    simdna-0.4.2               |             py_0         627 KB  deepchem\n",
            "    tensorboard-1.14.0         |           py37_0         3.2 MB  conda-forge\n",
            "    tensorflow-1.14.0          |gpu_py37h74c33d7_0           4 KB\n",
            "    tensorflow-base-1.14.0     |gpu_py37he45bfe2_0       146.3 MB\n",
            "    tensorflow-estimator-1.14.0|   py37h5ca1d4c_0         645 KB  conda-forge\n",
            "    tensorflow-gpu-1.14.0      |       h0d30ee6_0           3 KB\n",
            "    termcolor-1.1.0            |             py_2           6 KB  conda-forge\n",
            "    typing_extensions-3.7.4.3  |             py_0          25 KB  conda-forge\n",
            "    xgboost-1.2.0              |   py37h3340039_0          11 KB  conda-forge\n",
            "    ------------------------------------------------------------\n",
            "                                           Total:       817.9 MB\n",
            "\n",
            "The following NEW packages will be INSTALLED:\n",
            "\n",
            "  _py-xgboost-mutex  conda-forge/linux-64::_py-xgboost-mutex-2.0-cpu_0\n",
            "  _tflow_select      pkgs/main/linux-64::_tflow_select-2.1.0-gpu\n",
            "  absl-py            conda-forge/noarch::absl-py-0.12.0-pyhd8ed1ab_0\n",
            "  astor              conda-forge/noarch::astor-0.8.1-pyh9f0ad1d_0\n",
            "  astunparse         conda-forge/noarch::astunparse-1.6.3-pyhd8ed1ab_0\n",
            "  c-ares             conda-forge/linux-64::c-ares-1.17.1-h36c2ea0_0\n",
            "  cudatoolkit        pkgs/main/linux-64::cudatoolkit-10.1.243-h6bb024c_0\n",
            "  cudnn              conda-forge/linux-64::cudnn-7.6.5.32-hc0a50b0_1\n",
            "  cupti              pkgs/main/linux-64::cupti-10.1.168-0\n",
            "  deepchem-gpu       deepchem/linux-64::deepchem-gpu-2.3.0-py37_0\n",
            "  fftw3f             omnia/linux-64::fftw3f-3.3.4-2\n",
            "  gast               conda-forge/noarch::gast-0.4.0-pyh9f0ad1d_0\n",
            "  google-pasta       conda-forge/noarch::google-pasta-0.2.0-pyh8c360ce_0\n",
            "  grpcio             conda-forge/linux-64::grpcio-1.23.0-py37hb0870dc_1\n",
            "  importlib-metadata conda-forge/linux-64::importlib-metadata-3.7.3-py37h89c1867_0\n",
            "  keras-applications conda-forge/noarch::keras-applications-1.0.8-py_1\n",
            "  keras-preprocessi~ conda-forge/noarch::keras-preprocessing-1.1.2-pyhd8ed1ab_0\n",
            "  libboost           pkgs/main/linux-64::libboost-1.67.0-h46d08c1_4\n",
            "  libprotobuf        conda-forge/linux-64::libprotobuf-3.13.0.1-h8b12597_0\n",
            "  libxgboost         conda-forge/linux-64::libxgboost-1.2.0-he1b5a44_0\n",
            "  markdown           conda-forge/noarch::markdown-3.3.4-pyhd8ed1ab_0\n",
            "  mdtraj             conda-forge/linux-64::mdtraj-1.9.5-py37h113d463_0\n",
            "  openmm             omnia/linux-64::openmm-7.4.2-py37_cuda101_rc_1\n",
            "  pdbfixer           omnia/noarch::pdbfixer-1.6-py_1\n",
            "  protobuf           conda-forge/linux-64::protobuf-3.13.0.1-py37h745909e_1\n",
            "  py-boost           pkgs/main/linux-64::py-boost-1.67.0-py37h04863e7_4\n",
            "  py-xgboost         conda-forge/linux-64::py-xgboost-1.2.0-py37hc8dfbb8_0\n",
            "  python_abi         conda-forge/linux-64::python_abi-3.7-1_cp37m\n",
            "  rdkit              rdkit/linux-64::rdkit-2020.03.3.0-py37hc20afe1_1\n",
            "  simdna             deepchem/noarch::simdna-0.4.2-py_0\n",
            "  tensorboard        conda-forge/linux-64::tensorboard-1.14.0-py37_0\n",
            "  tensorflow         pkgs/main/linux-64::tensorflow-1.14.0-gpu_py37h74c33d7_0\n",
            "  tensorflow-base    pkgs/main/linux-64::tensorflow-base-1.14.0-gpu_py37he45bfe2_0\n",
            "  tensorflow-estima~ conda-forge/linux-64::tensorflow-estimator-1.14.0-py37h5ca1d4c_0\n",
            "  tensorflow-gpu     pkgs/main/linux-64::tensorflow-gpu-1.14.0-h0d30ee6_0\n",
            "  termcolor          conda-forge/noarch::termcolor-1.1.0-py_2\n",
            "  typing_extensions  conda-forge/noarch::typing_extensions-3.7.4.3-py_0\n",
            "  xgboost            conda-forge/linux-64::xgboost-1.2.0-py37h3340039_0\n",
            "\n",
            "The following packages will be UPDATED:\n",
            "\n",
            "  conda                      pkgs/main::conda-4.7.12-py37_0 --> conda-forge::conda-4.9.2-py37h89c1867_0\n",
            "\n",
            "The following packages will be SUPERSEDED by a higher-priority channel:\n",
            "\n",
            "  certifi                                         pkgs/main --> conda-forge\n",
            "\n",
            "\n",
            "\n",
            "Downloading and Extracting Packages\n",
            "fftw3f-3.3.4         | 1.2 MB    | : 100% 1.0/1 [00:00<00:00,  1.24it/s]\n",
            "cupti-10.1.168       | 1.4 MB    | : 100% 1.0/1 [00:00<00:00,  7.87s/it]                \n",
            "tensorflow-estimator | 645 KB    | : 100% 1.0/1 [00:00<00:00,  3.12it/s]\n",
            "absl-py-0.12.0       | 96 KB     | : 100% 1.0/1 [00:00<00:00, 12.72it/s]\n",
            "tensorflow-base-1.14 | 146.3 MB  | : 100% 1.0/1 [00:08<00:00,  8.42s/it]               \n",
            "astunparse-1.6.3     | 15 KB     | : 100% 1.0/1 [00:00<00:00, 17.35it/s]\n",
            "keras-applications-1 | 30 KB     | : 100% 1.0/1 [00:00<00:00, 10.55it/s]\n",
            "certifi-2019.9.11    | 147 KB    | : 100% 1.0/1 [00:00<00:00,  6.50it/s]\n",
            "tensorboard-1.14.0   | 3.2 MB    | : 100% 1.0/1 [00:01<00:00,  1.21it/s]                \n",
            "mdtraj-1.9.5         | 1.7 MB    | : 100% 1.0/1 [00:00<00:00, 12.13s/it]               \n",
            "grpcio-1.23.0        | 1.1 MB    | : 100% 1.0/1 [00:00<00:00,  3.73it/s]\n",
            "cudatoolkit-10.1.243 | 347.4 MB  | : 100% 1.0/1 [00:07<00:00,  7.68s/it]               \n",
            "importlib-metadata-3 | 24 KB     | : 100% 1.0/1 [00:00<00:00, 18.40it/s]\n",
            "markdown-3.3.4       | 67 KB     | : 100% 1.0/1 [00:00<00:00, 14.86it/s]\n",
            "astor-0.8.1          | 25 KB     | : 100% 1.0/1 [00:00<00:00, 18.68it/s]\n",
            "keras-preprocessing- | 34 KB     | : 100% 1.0/1 [00:00<00:00, 11.69it/s]\n",
            "_py-xgboost-mutex-2. | 8 KB      | : 100% 1.0/1 [00:00<00:00, 14.33it/s]\n",
            "gast-0.4.0           | 12 KB     | : 100% 1.0/1 [00:00<00:00, 19.79it/s]\n",
            "libboost-1.67.0      | 13.0 MB   | : 100% 1.0/1 [00:03<00:00,  1.45s/it]                \n",
            "simdna-0.4.2         | 627 KB    | : 100% 1.0/1 [00:00<00:00,  1.49it/s]\n",
            "cudnn-7.6.5.32       | 250.7 MB  | : 100% 1.0/1 [01:04<00:00, 64.25s/it]               \n",
            "rdkit-2020.03.3.0    | 24.8 MB   | : 100% 1.0/1 [00:06<00:00,  6.76s/it]\n",
            "typing_extensions-3. | 25 KB     | : 100% 1.0/1 [00:00<00:00,  8.27it/s]               \n",
            "xgboost-1.2.0        | 11 KB     | : 100% 1.0/1 [00:00<00:00, 20.09it/s]\n",
            "_tflow_select-2.1.0  | 2 KB      | : 100% 1.0/1 [00:00<00:00,  5.22it/s]\n",
            "python_abi-3.7       | 4 KB      | : 100% 1.0/1 [00:00<00:00, 16.58it/s]\n",
            "google-pasta-0.2.0   | 42 KB     | : 100% 1.0/1 [00:00<00:00, 16.81it/s]\n",
            "tensorflow-1.14.0    | 4 KB      | : 100% 1.0/1 [00:00<00:00,  7.90it/s]\n",
            "termcolor-1.1.0      | 6 KB      | : 100% 1.0/1 [00:00<00:00, 10.15it/s]\n",
            "protobuf-3.13.0.1    | 704 KB    | : 100% 1.0/1 [00:00<00:00,  2.85it/s]\n",
            "py-xgboost-1.2.0     | 1.7 MB    | : 100% 1.0/1 [00:00<00:00,  2.10it/s]\n",
            "deepchem-gpu-2.3.0   | 2.1 MB    | : 100% 1.0/1 [00:01<00:00,  1.17s/it]\n",
            "c-ares-1.17.1        | 111 KB    | : 100% 1.0/1 [00:00<00:00, 14.07it/s]\n",
            "libxgboost-1.2.0     | 3.1 MB    | : 100% 1.0/1 [00:00<00:00,  1.08it/s]               \n",
            "pdbfixer-1.6         | 167 KB    | : 100% 1.0/1 [00:00<00:00,  1.95it/s]\n",
            "conda-4.9.2          | 3.0 MB    | : 100% 1.0/1 [00:01<00:00,  1.03s/it]\n",
            "openmm-7.4.2         | 11.9 MB   | : 100% 1.0/1 [00:04<00:00,  4.90s/it]\n",
            "py-boost-1.67.0      | 278 KB    | : 100% 1.0/1 [00:00<00:00,  5.78it/s]\n",
            "tensorflow-gpu-1.14. | 3 KB      | : 100% 1.0/1 [00:00<00:00,  6.60it/s]\n",
            "libprotobuf-3.13.0.1 | 2.3 MB    | : 100% 1.0/1 [00:00<00:00,  1.13it/s]\n",
            "Preparing transaction: - \b\b\\ \b\b| \b\b/ \b\b- \b\b\\ \b\b| \b\b/ \b\b- \b\b\\ \b\b| \b\b/ \b\b- \b\bdone\n",
            "Verifying transaction: | \b\b/ \b\b- \b\b\\ \b\b| \b\b/ \b\b- \b\b\\ \b\b| \b\b/ \b\b- \b\b\\ \b\b| \b\b/ \b\b- \b\b\\ \b\b| \b\b/ \b\b- \b\b\\ \b\b| \b\b/ \b\b- \b\b\\ \b\b| \b\b/ \b\b- \b\b\\ \b\b| \b\b/ \b\b- \b\bdone\n",
            "Executing transaction: | \b\b/ \b\b- \b\b\\ \b\b| \b\b/ \b\b- \b\b\\ \b\b| \b\b/ \b\b- \b\b\\ \b\b| \b\b/ \b\b- \b\b\\ \b\b| \b\b/ \b\b- \b\b\\ \b\b| \b\b/ \b\b- \b\b\\ \b\b| \b\b/ \b\b- \b\b\\ \b\b| \b\b/ \b\b- b'By downloading and using the cuDNN conda packages, you accept the terms and conditions of the NVIDIA cuDNN EULA -\\n  https://docs.nvidia.com/deeplearning/cudnn/sla/index.html\\n'\n",
            "\b\b\\ \b\b| \b\b/ \b\b- \b\b\\ \b\b| \b\b/ \b\b- \b\b\\ \b\b| \b\b/ \b\b- \b\b\\ \b\b| \b\b/ \b\b- \b\b\\ \b\b| \b\b/ \b\b- \b\b\\ \b\b| \b\b/ \b\b- \b\b\\ \b\bdone\n",
            "\n",
            "real\t6m1.939s\n",
            "user\t5m26.780s\n",
            "sys\t0m22.723s\n"
          ],
          "name": "stdout"
        }
      ]
    },
    {
      "cell_type": "code",
      "metadata": {
        "id": "Gvmh_JjmFYbJ",
        "outputId": "b7a2cdd8-6373-4c82-8499-3ba9d8a20647",
        "colab": {
          "base_uri": "https://localhost:8080/"
        }
      },
      "source": [
        "! time conda install -c conda-forge -y mordred bravado molvs"
      ],
      "execution_count": 3,
      "outputs": [
        {
          "output_type": "stream",
          "text": [
            "Collecting package metadata (current_repodata.json): - \b\b\\ \b\b| \b\b/ \b\b- \b\b\\ \b\b| \b\b/ \b\b- \b\b\\ \b\b| \b\b/ \b\b- \b\b\\ \b\b| \b\b/ \b\b- \b\b\\ \b\b| \b\b/ \b\b- \b\b\\ \b\b| \b\b/ \b\b- \b\b\\ \b\b| \b\b/ \b\b- \b\b\\ \b\b| \b\b/ \b\b- \b\b\\ \b\b| \b\b/ \b\b- \b\b\\ \b\b| \b\b/ \b\b- \b\b\\ \b\b| \b\b/ \b\b- \b\b\\ \b\b| \b\b/ \b\b- \b\b\\ \b\b| \b\b/ \b\b- \b\b\\ \b\b| \b\b/ \b\b- \b\b\\ \b\b| \b\b/ \b\b- \b\b\\ \b\b| \b\bdone\n",
            "Solving environment: - \b\b\\ \b\b| \b\b/ \b\b- \b\b\\ \b\b| \b\b/ \b\b- \b\b\\ \b\b| \b\b/ \b\b- \b\b\\ \b\b| \b\b/ \b\b- \b\b\\ \b\b| \b\b/ \b\b- \b\b\\ \b\b| \b\b/ \b\b- \b\b\\ \b\b| \b\b/ \b\b- \b\b\\ \b\b| \b\b/ \b\b- \b\b\\ \b\b| \b\b/ \b\b- \b\b\\ \b\b| \b\b/ \b\b- \b\b\\ \b\b| \b\b/ \b\b- \b\b\\ \b\b| \b\b/ \b\b- \b\b\\ \b\b| \b\b/ \b\b- \b\b\\ \b\b| \b\b/ \b\b- \b\b\\ \b\b| \b\b/ \b\b- \b\b\\ \b\b| \b\b/ \b\b- \b\b\\ \b\b| \b\b/ \b\b- \b\b\\ \b\b| \b\b/ \b\b- \b\b\\ \b\b| \b\b/ \b\bdone\n",
            "\n",
            "## Package Plan ##\n",
            "\n",
            "  environment location: /usr/local\n",
            "\n",
            "  added / updated specs:\n",
            "    - bravado\n",
            "    - molvs\n",
            "    - mordred\n",
            "\n",
            "\n",
            "The following packages will be downloaded:\n",
            "\n",
            "    package                    |            build\n",
            "    ---------------------------|-----------------\n",
            "    bravado-11.0.3             |     pyhd8ed1ab_0          31 KB  conda-forge\n",
            "    bravado-core-5.17.0        |     pyh9f0ad1d_0          48 KB  conda-forge\n",
            "    jsonref-0.2                |             py_0          11 KB  conda-forge\n",
            "    molvs-0.1.1                |             py_0          25 KB  conda-forge\n",
            "    monotonic-1.5              |             py_0           9 KB  conda-forge\n",
            "    mordred-1.2.0              |             py_1         124 KB  conda-forge\n",
            "    simplejson-3.17.2          |   py37h8f50634_1         102 KB  conda-forge\n",
            "    swagger-spec-validator-2.7.3|     pyh9f0ad1d_0          21 KB  conda-forge\n",
            "    typing-extensions-3.7.4.3  |                0           8 KB  conda-forge\n",
            "    ------------------------------------------------------------\n",
            "                                           Total:         378 KB\n",
            "\n",
            "The following NEW packages will be INSTALLED:\n",
            "\n",
            "  bravado            conda-forge/noarch::bravado-11.0.3-pyhd8ed1ab_0\n",
            "  bravado-core       conda-forge/noarch::bravado-core-5.17.0-pyh9f0ad1d_0\n",
            "  jsonref            conda-forge/noarch::jsonref-0.2-py_0\n",
            "  molvs              conda-forge/noarch::molvs-0.1.1-py_0\n",
            "  monotonic          conda-forge/noarch::monotonic-1.5-py_0\n",
            "  mordred            conda-forge/noarch::mordred-1.2.0-py_1\n",
            "  simplejson         conda-forge/linux-64::simplejson-3.17.2-py37h8f50634_1\n",
            "  swagger-spec-vali~ conda-forge/noarch::swagger-spec-validator-2.7.3-pyh9f0ad1d_0\n",
            "  typing-extensions  conda-forge/noarch::typing-extensions-3.7.4.3-0\n",
            "\n",
            "\n",
            "\n",
            "Downloading and Extracting Packages\n",
            "bravado-11.0.3       | 31 KB     | : 100% 1.0/1 [00:00<00:00,  5.62it/s]               \n",
            "typing-extensions-3. | 8 KB      | : 100% 1.0/1 [00:00<00:00, 20.00it/s]\n",
            "monotonic-1.5        | 9 KB      | : 100% 1.0/1 [00:00<00:00, 20.73it/s]\n",
            "jsonref-0.2          | 11 KB     | : 100% 1.0/1 [00:00<00:00, 16.77it/s]\n",
            "simplejson-3.17.2    | 102 KB    | : 100% 1.0/1 [00:00<00:00,  8.91it/s]\n",
            "swagger-spec-validat | 21 KB     | : 100% 1.0/1 [00:00<00:00, 15.31it/s]\n",
            "bravado-core-5.17.0  | 48 KB     | : 100% 1.0/1 [00:00<00:00, 13.64it/s]\n",
            "molvs-0.1.1          | 25 KB     | : 100% 1.0/1 [00:00<00:00,  8.91it/s]\n",
            "mordred-1.2.0        | 124 KB    | : 100% 1.0/1 [00:00<00:00,  8.77it/s]\n",
            "Preparing transaction: \\ \b\bdone\n",
            "Verifying transaction: / \b\bdone\n",
            "Executing transaction: \\ \b\b| \b\b/ \b\b- \b\b\\ \b\b| \b\b/ \b\b- \b\b\\ \b\b| \b\b/ \b\b- \b\b\\ \b\b| \b\b/ \b\bdone\n",
            "\n",
            "real\t0m29.658s\n",
            "user\t0m24.552s\n",
            "sys\t0m3.172s\n"
          ],
          "name": "stdout"
        }
      ]
    },
    {
      "cell_type": "code",
      "metadata": {
        "id": "4AB0U-9gyJNB",
        "outputId": "37d1005b-ddf2-4310-d3a9-72f4c82fe954",
        "colab": {
          "base_uri": "https://localhost:8080/"
        }
      },
      "source": [
        "!wget https://raw.githubusercontent.com/ravichas/AMPL-Tutorial/master/config/install_AMPL_GPU_test.sh"
      ],
      "execution_count": 4,
      "outputs": [
        {
          "output_type": "stream",
          "text": [
            "--2021-03-25 21:15:52--  https://raw.githubusercontent.com/ravichas/AMPL-Tutorial/master/config/install_AMPL_GPU_test.sh\n",
            "Resolving raw.githubusercontent.com (raw.githubusercontent.com)... 185.199.108.133, 185.199.109.133, 185.199.110.133, ...\n",
            "Connecting to raw.githubusercontent.com (raw.githubusercontent.com)|185.199.108.133|:443... connected.\n",
            "HTTP request sent, awaiting response... 200 OK\n",
            "Length: 1100 (1.1K) [text/plain]\n",
            "Saving to: ‘install_AMPL_GPU_test.sh’\n",
            "\n",
            "install_AMPL_GPU_te 100%[===================>]   1.07K  --.-KB/s    in 0s      \n",
            "\n",
            "2021-03-25 21:15:53 (25.9 MB/s) - ‘install_AMPL_GPU_test.sh’ saved [1100/1100]\n",
            "\n"
          ],
          "name": "stdout"
        }
      ]
    },
    {
      "cell_type": "code",
      "metadata": {
        "id": "aadk1g7ZzPdp",
        "outputId": "696fe6aa-798b-4834-e1ac-6b6248d599fd",
        "colab": {
          "base_uri": "https://localhost:8080/"
        }
      },
      "source": [
        "! chmod u+x install_AMPL_GPU_test.sh\n",
        "! ./install_AMPL_GPU_test.sh"
      ],
      "execution_count": 5,
      "outputs": [
        {
          "output_type": "stream",
          "text": [
            "Cloning into 'AMPL'...\n",
            "remote: Enumerating objects: 353, done.\u001b[K\n",
            "remote: Counting objects: 100% (353/353), done.\u001b[K\n",
            "remote: Compressing objects: 100% (197/197), done.\u001b[K\n",
            "remote: Total 1869 (delta 253), reused 214 (delta 156), pack-reused 1516\u001b[K\n",
            "Receiving objects: 100% (1869/1869), 9.67 MiB | 16.29 MiB/s, done.\n",
            "Resolving deltas: 100% (1071/1071), done.\n",
            "Branch 'pkg_upgrade' set up to track remote branch 'pkg_upgrade' from 'origin'.\n",
            "Switched to a new branch 'pkg_upgrade'\n",
            "patching file /content/github/AMPL/atomsci/ddm/pipeline/transformations.py\n",
            "patching file /content/github/AMPL/atomsci/ddm/__init__.py\n",
            "running build\n",
            "running build_py\n",
            "creating /content/github/AMPL.build/ampl/lib\n",
            "creating /content/github/AMPL.build/ampl/lib/atomsci\n",
            "copying atomsci/__init__.py -> /content/github/AMPL.build/ampl/lib/atomsci\n",
            "creating /content/github/AMPL.build/ampl/lib/atomsci/ddm\n",
            "copying atomsci/ddm/__init__.py -> /content/github/AMPL.build/ampl/lib/atomsci/ddm\n",
            "creating /content/github/AMPL.build/ampl/lib/atomsci/ddm/pipeline\n",
            "copying atomsci/ddm/pipeline/predict_from_model.py -> /content/github/AMPL.build/ampl/lib/atomsci/ddm/pipeline\n",
            "copying atomsci/ddm/pipeline/chem_diversity.py -> /content/github/AMPL.build/ampl/lib/atomsci/ddm/pipeline\n",
            "copying atomsci/ddm/pipeline/model_pipeline.py -> /content/github/AMPL.build/ampl/lib/atomsci/ddm/pipeline\n",
            "copying atomsci/ddm/pipeline/diversity_plots.py -> /content/github/AMPL.build/ampl/lib/atomsci/ddm/pipeline\n",
            "copying atomsci/ddm/pipeline/__init__.py -> /content/github/AMPL.build/ampl/lib/atomsci/ddm/pipeline\n",
            "copying atomsci/ddm/pipeline/featurization.py -> /content/github/AMPL.build/ampl/lib/atomsci/ddm/pipeline\n",
            "copying atomsci/ddm/pipeline/ave_splitter.py -> /content/github/AMPL.build/ampl/lib/atomsci/ddm/pipeline\n",
            "copying atomsci/ddm/pipeline/model_wrapper.py -> /content/github/AMPL.build/ampl/lib/atomsci/ddm/pipeline\n",
            "copying atomsci/ddm/pipeline/parameter_parser.py -> /content/github/AMPL.build/ampl/lib/atomsci/ddm/pipeline\n",
            "copying atomsci/ddm/pipeline/temporal_splitter.py -> /content/github/AMPL.build/ampl/lib/atomsci/ddm/pipeline\n",
            "copying atomsci/ddm/pipeline/compare_models.py -> /content/github/AMPL.build/ampl/lib/atomsci/ddm/pipeline\n",
            "copying atomsci/ddm/pipeline/hyper_perf_plots.py -> /content/github/AMPL.build/ampl/lib/atomsci/ddm/pipeline\n",
            "copying atomsci/ddm/pipeline/perf_data.py -> /content/github/AMPL.build/ampl/lib/atomsci/ddm/pipeline\n",
            "copying atomsci/ddm/pipeline/splitting.py -> /content/github/AMPL.build/ampl/lib/atomsci/ddm/pipeline\n",
            "copying atomsci/ddm/pipeline/model_datasets.py -> /content/github/AMPL.build/ampl/lib/atomsci/ddm/pipeline\n",
            "copying atomsci/ddm/pipeline/transformations.py -> /content/github/AMPL.build/ampl/lib/atomsci/ddm/pipeline\n",
            "copying atomsci/ddm/pipeline/model_tracker.py -> /content/github/AMPL.build/ampl/lib/atomsci/ddm/pipeline\n",
            "copying atomsci/ddm/pipeline/perf_plots.py -> /content/github/AMPL.build/ampl/lib/atomsci/ddm/pipeline\n",
            "copying atomsci/ddm/pipeline/dist_metrics.py -> /content/github/AMPL.build/ampl/lib/atomsci/ddm/pipeline\n",
            "creating /content/github/AMPL.build/ampl/lib/atomsci/ddm/utils\n",
            "copying atomsci/ddm/utils/llnl_utils.py -> /content/github/AMPL.build/ampl/lib/atomsci/ddm/utils\n",
            "copying atomsci/ddm/utils/pubchem_utils.py -> /content/github/AMPL.build/ampl/lib/atomsci/ddm/utils\n",
            "copying atomsci/ddm/utils/process_slurm.py -> /content/github/AMPL.build/ampl/lib/atomsci/ddm/utils\n",
            "copying atomsci/ddm/utils/open-docs.py -> /content/github/AMPL.build/ampl/lib/atomsci/ddm/utils\n",
            "copying atomsci/ddm/utils/data_curation_functions.py -> /content/github/AMPL.build/ampl/lib/atomsci/ddm/utils\n",
            "copying atomsci/ddm/utils/__init__.py -> /content/github/AMPL.build/ampl/lib/atomsci/ddm/utils\n",
            "copying atomsci/ddm/utils/genTestset.py -> /content/github/AMPL.build/ampl/lib/atomsci/ddm/utils\n",
            "copying atomsci/ddm/utils/curate_data.py -> /content/github/AMPL.build/ampl/lib/atomsci/ddm/utils\n",
            "copying atomsci/ddm/utils/rdkit_easy.py -> /content/github/AMPL.build/ampl/lib/atomsci/ddm/utils\n",
            "copying atomsci/ddm/utils/datastore_functions.py -> /content/github/AMPL.build/ampl/lib/atomsci/ddm/utils\n",
            "copying atomsci/ddm/utils/struct_utils.py -> /content/github/AMPL.build/ampl/lib/atomsci/ddm/utils\n",
            "copying atomsci/ddm/utils/hyperparam_search_wrapper.py -> /content/github/AMPL.build/ampl/lib/atomsci/ddm/utils\n",
            "running egg_info\n",
            "creating /content/github/AMPL.build/ampl/atomsci_ampl.egg-info\n",
            "writing /content/github/AMPL.build/ampl/atomsci_ampl.egg-info/PKG-INFO\n",
            "writing dependency_links to /content/github/AMPL.build/ampl/atomsci_ampl.egg-info/dependency_links.txt\n",
            "writing namespace_packages to /content/github/AMPL.build/ampl/atomsci_ampl.egg-info/namespace_packages.txt\n",
            "writing top-level names to /content/github/AMPL.build/ampl/atomsci_ampl.egg-info/top_level.txt\n",
            "writing manifest file '/content/github/AMPL.build/ampl/atomsci_ampl.egg-info/SOURCES.txt'\n",
            "reading manifest file '/content/github/AMPL.build/ampl/atomsci_ampl.egg-info/SOURCES.txt'\n",
            "reading manifest template 'MANIFEST.in'\n",
            "warning: no files found matching 'atomsci/*/*.yaml'\n",
            "writing manifest file '/content/github/AMPL.build/ampl/atomsci_ampl.egg-info/SOURCES.txt'\n",
            "creating /content/github/AMPL.build/ampl/lib/atomsci/ddm/data\n",
            "copying atomsci/ddm/data/descriptor_sets_sources_by_descr_type.csv -> /content/github/AMPL.build/ampl/lib/atomsci/ddm/data\n",
            "running bdist_wheel\n",
            "installing to /content/github/AMPL.build/ampl/bdist.linux-x86_64/wheel\n",
            "running install\n",
            "running install_lib\n",
            "Skipping installation of /content/github/AMPL.build/ampl/bdist.linux-x86_64/wheel/atomsci/__init__.py (namespace package)\n",
            "copying atomsci/ddm/__init__.py -> /content/github/AMPL.build/ampl/bdist.linux-x86_64/wheel/atomsci/ddm\n",
            "copying atomsci/ddm/pipeline/predict_from_model.py -> /content/github/AMPL.build/ampl/bdist.linux-x86_64/wheel/atomsci/ddm/pipeline\n",
            "copying atomsci/ddm/pipeline/chem_diversity.py -> /content/github/AMPL.build/ampl/bdist.linux-x86_64/wheel/atomsci/ddm/pipeline\n",
            "copying atomsci/ddm/pipeline/model_pipeline.py -> /content/github/AMPL.build/ampl/bdist.linux-x86_64/wheel/atomsci/ddm/pipeline\n",
            "copying atomsci/ddm/pipeline/diversity_plots.py -> /content/github/AMPL.build/ampl/bdist.linux-x86_64/wheel/atomsci/ddm/pipeline\n",
            "copying atomsci/ddm/pipeline/__init__.py -> /content/github/AMPL.build/ampl/bdist.linux-x86_64/wheel/atomsci/ddm/pipeline\n",
            "copying atomsci/ddm/pipeline/featurization.py -> /content/github/AMPL.build/ampl/bdist.linux-x86_64/wheel/atomsci/ddm/pipeline\n",
            "copying atomsci/ddm/pipeline/ave_splitter.py -> /content/github/AMPL.build/ampl/bdist.linux-x86_64/wheel/atomsci/ddm/pipeline\n",
            "copying atomsci/ddm/pipeline/model_wrapper.py -> /content/github/AMPL.build/ampl/bdist.linux-x86_64/wheel/atomsci/ddm/pipeline\n",
            "copying atomsci/ddm/pipeline/parameter_parser.py -> /content/github/AMPL.build/ampl/bdist.linux-x86_64/wheel/atomsci/ddm/pipeline\n",
            "copying atomsci/ddm/pipeline/temporal_splitter.py -> /content/github/AMPL.build/ampl/bdist.linux-x86_64/wheel/atomsci/ddm/pipeline\n",
            "copying atomsci/ddm/pipeline/compare_models.py -> /content/github/AMPL.build/ampl/bdist.linux-x86_64/wheel/atomsci/ddm/pipeline\n",
            "copying atomsci/ddm/pipeline/hyper_perf_plots.py -> /content/github/AMPL.build/ampl/bdist.linux-x86_64/wheel/atomsci/ddm/pipeline\n",
            "copying atomsci/ddm/pipeline/perf_data.py -> /content/github/AMPL.build/ampl/bdist.linux-x86_64/wheel/atomsci/ddm/pipeline\n",
            "copying atomsci/ddm/pipeline/splitting.py -> /content/github/AMPL.build/ampl/bdist.linux-x86_64/wheel/atomsci/ddm/pipeline\n",
            "copying atomsci/ddm/pipeline/model_datasets.py -> /content/github/AMPL.build/ampl/bdist.linux-x86_64/wheel/atomsci/ddm/pipeline\n",
            "copying atomsci/ddm/pipeline/transformations.py -> /content/github/AMPL.build/ampl/bdist.linux-x86_64/wheel/atomsci/ddm/pipeline\n",
            "copying atomsci/ddm/pipeline/model_tracker.py -> /content/github/AMPL.build/ampl/bdist.linux-x86_64/wheel/atomsci/ddm/pipeline\n",
            "copying atomsci/ddm/pipeline/perf_plots.py -> /content/github/AMPL.build/ampl/bdist.linux-x86_64/wheel/atomsci/ddm/pipeline\n",
            "copying atomsci/ddm/pipeline/dist_metrics.py -> /content/github/AMPL.build/ampl/bdist.linux-x86_64/wheel/atomsci/ddm/pipeline\n",
            "copying atomsci/ddm/data/descriptor_sets_sources_by_descr_type.csv -> /content/github/AMPL.build/ampl/bdist.linux-x86_64/wheel/atomsci/ddm/data\n",
            "copying atomsci/ddm/utils/llnl_utils.py -> /content/github/AMPL.build/ampl/bdist.linux-x86_64/wheel/atomsci/ddm/utils\n",
            "copying atomsci/ddm/utils/pubchem_utils.py -> /content/github/AMPL.build/ampl/bdist.linux-x86_64/wheel/atomsci/ddm/utils\n",
            "copying atomsci/ddm/utils/process_slurm.py -> /content/github/AMPL.build/ampl/bdist.linux-x86_64/wheel/atomsci/ddm/utils\n",
            "copying atomsci/ddm/utils/open-docs.py -> /content/github/AMPL.build/ampl/bdist.linux-x86_64/wheel/atomsci/ddm/utils\n",
            "copying atomsci/ddm/utils/data_curation_functions.py -> /content/github/AMPL.build/ampl/bdist.linux-x86_64/wheel/atomsci/ddm/utils\n",
            "copying atomsci/ddm/utils/__init__.py -> /content/github/AMPL.build/ampl/bdist.linux-x86_64/wheel/atomsci/ddm/utils\n",
            "copying atomsci/ddm/utils/genTestset.py -> /content/github/AMPL.build/ampl/bdist.linux-x86_64/wheel/atomsci/ddm/utils\n",
            "copying atomsci/ddm/utils/curate_data.py -> /content/github/AMPL.build/ampl/bdist.linux-x86_64/wheel/atomsci/ddm/utils\n",
            "copying atomsci/ddm/utils/rdkit_easy.py -> /content/github/AMPL.build/ampl/bdist.linux-x86_64/wheel/atomsci/ddm/utils\n",
            "copying atomsci/ddm/utils/datastore_functions.py -> /content/github/AMPL.build/ampl/bdist.linux-x86_64/wheel/atomsci/ddm/utils\n",
            "copying atomsci/ddm/utils/struct_utils.py -> /content/github/AMPL.build/ampl/bdist.linux-x86_64/wheel/atomsci/ddm/utils\n",
            "copying atomsci/ddm/utils/hyperparam_search_wrapper.py -> /content/github/AMPL.build/ampl/bdist.linux-x86_64/wheel/atomsci/ddm/utils\n",
            "running install_egg_info\n",
            "Copying /content/github/AMPL.build/ampl/atomsci_ampl.egg-info to /content/github/AMPL.build/ampl/bdist.linux-x86_64/wheel/atomsci_ampl-1.0.0.dev1-py3.7.egg-info\n",
            "Installing /content/github/AMPL.build/ampl/bdist.linux-x86_64/wheel/atomsci_ampl-1.0.0.dev1-py3.7-nspkg.pth\n",
            "running install_scripts\n",
            "adding license file \"LICENSE\" (matched pattern \"LICEN[CS]E*\")\n",
            "adding license file \"NOTICE\" (matched pattern \"NOTICE*\")\n",
            "creating /content/github/AMPL.build/ampl/bdist.linux-x86_64/wheel/atomsci_ampl-1.0.0.dev1.dist-info/WHEEL\n",
            "creating '/content/github/AMPL.dist/atomsci_ampl-1.0.0.dev1-py3-none-any.whl' and adding '/content/github/AMPL.build/ampl/bdist.linux-x86_64/wheel' to it\n",
            "adding 'atomsci_ampl-1.0.0.dev1-py3.7-nspkg.pth'\n",
            "adding 'atomsci/ddm/__init__.py'\n",
            "adding 'atomsci/ddm/data/descriptor_sets_sources_by_descr_type.csv'\n",
            "adding 'atomsci/ddm/pipeline/__init__.py'\n",
            "adding 'atomsci/ddm/pipeline/ave_splitter.py'\n",
            "adding 'atomsci/ddm/pipeline/chem_diversity.py'\n",
            "adding 'atomsci/ddm/pipeline/compare_models.py'\n",
            "adding 'atomsci/ddm/pipeline/dist_metrics.py'\n",
            "adding 'atomsci/ddm/pipeline/diversity_plots.py'\n",
            "adding 'atomsci/ddm/pipeline/featurization.py'\n",
            "adding 'atomsci/ddm/pipeline/hyper_perf_plots.py'\n",
            "adding 'atomsci/ddm/pipeline/model_datasets.py'\n",
            "adding 'atomsci/ddm/pipeline/model_pipeline.py'\n",
            "adding 'atomsci/ddm/pipeline/model_tracker.py'\n",
            "adding 'atomsci/ddm/pipeline/model_wrapper.py'\n",
            "adding 'atomsci/ddm/pipeline/parameter_parser.py'\n",
            "adding 'atomsci/ddm/pipeline/perf_data.py'\n",
            "adding 'atomsci/ddm/pipeline/perf_plots.py'\n",
            "adding 'atomsci/ddm/pipeline/predict_from_model.py'\n",
            "adding 'atomsci/ddm/pipeline/splitting.py'\n",
            "adding 'atomsci/ddm/pipeline/temporal_splitter.py'\n",
            "adding 'atomsci/ddm/pipeline/transformations.py'\n",
            "adding 'atomsci/ddm/utils/__init__.py'\n",
            "adding 'atomsci/ddm/utils/curate_data.py'\n",
            "adding 'atomsci/ddm/utils/data_curation_functions.py'\n",
            "adding 'atomsci/ddm/utils/datastore_functions.py'\n",
            "adding 'atomsci/ddm/utils/genTestset.py'\n",
            "adding 'atomsci/ddm/utils/hyperparam_search_wrapper.py'\n",
            "adding 'atomsci/ddm/utils/llnl_utils.py'\n",
            "adding 'atomsci/ddm/utils/open-docs.py'\n",
            "adding 'atomsci/ddm/utils/process_slurm.py'\n",
            "adding 'atomsci/ddm/utils/pubchem_utils.py'\n",
            "adding 'atomsci/ddm/utils/rdkit_easy.py'\n",
            "adding 'atomsci/ddm/utils/struct_utils.py'\n",
            "adding 'atomsci_ampl-1.0.0.dev1.dist-info/LICENSE'\n",
            "adding 'atomsci_ampl-1.0.0.dev1.dist-info/METADATA'\n",
            "adding 'atomsci_ampl-1.0.0.dev1.dist-info/NOTICE'\n",
            "adding 'atomsci_ampl-1.0.0.dev1.dist-info/WHEEL'\n",
            "adding 'atomsci_ampl-1.0.0.dev1.dist-info/namespace_packages.txt'\n",
            "adding 'atomsci_ampl-1.0.0.dev1.dist-info/top_level.txt'\n",
            "adding 'atomsci_ampl-1.0.0.dev1.dist-info/RECORD'\n",
            "removing /content/github/AMPL.build/ampl/bdist.linux-x86_64/wheel\n",
            "DIR: /content/github/AMPL\n",
            "Ignoring indexes: https://pypi.org/simple\n",
            "Created temporary directory: /tmp/pip-ephem-wheel-cache-iqsph956\n",
            "Created temporary directory: /tmp/pip-req-tracker-fcpu7ub6\n",
            "Created requirements tracker '/tmp/pip-req-tracker-fcpu7ub6'\n",
            "Created temporary directory: /tmp/pip-install-zwbra8a5\n",
            "Looking in links: /content/github/AMPL.dist\n",
            "Collecting atomsci_ampl\n",
            "  0 location(s) to search for versions of atomsci-ampl:\n",
            "  Skipping link: unsupported archive format: .dist: /content/github/AMPL.dist (from -f)\n",
            "  Found link file:///content/github/AMPL.dist/atomsci_ampl-1.0.0.dev1-py3-none-any.whl, version: 1.0.0.dev1\n",
            "  Local files found: /content/github/AMPL.dist/atomsci_ampl-1.0.0.dev1-py3-none-any.whl\n",
            "  Given no hashes to check 1 links for project 'atomsci-ampl': discarding no candidates\n",
            "  Using version 1.0.0.dev1 (newest of versions: 1.0.0.dev1)\n",
            "  Added atomsci_ampl from file:///content/github/AMPL.dist/atomsci_ampl-1.0.0.dev1-py3-none-any.whl to build tracker '/tmp/pip-req-tracker-fcpu7ub6'\n",
            "  Removed atomsci_ampl from file:///content/github/AMPL.dist/atomsci_ampl-1.0.0.dev1-py3-none-any.whl from build tracker '/tmp/pip-req-tracker-fcpu7ub6'\n",
            "Installing collected packages: atomsci-ampl\n",
            "\n",
            "Successfully installed atomsci-ampl-1.0.0.dev1\n",
            "Cleaning up...\n",
            "Removed build tracker '/tmp/pip-req-tracker-fcpu7ub6'\n"
          ],
          "name": "stdout"
        }
      ]
    },
    {
      "cell_type": "code",
      "metadata": {
        "id": "InUQE4II1noi",
        "outputId": "24053655-8dcd-446b-b913-a9fe74f0f6e4",
        "colab": {
          "base_uri": "https://localhost:8080/"
        }
      },
      "source": [
        "!wget https://raw.githubusercontent.com/ravichas/AMPL-Tutorial/master/datasets/H1_std.csv"
      ],
      "execution_count": 6,
      "outputs": [
        {
          "output_type": "stream",
          "text": [
            "--2021-03-25 21:15:59--  https://raw.githubusercontent.com/ravichas/AMPL-Tutorial/master/datasets/H1_std.csv\n",
            "Resolving raw.githubusercontent.com (raw.githubusercontent.com)... 185.199.110.133, 185.199.111.133, 185.199.109.133, ...\n",
            "Connecting to raw.githubusercontent.com (raw.githubusercontent.com)|185.199.110.133|:443... connected.\n",
            "HTTP request sent, awaiting response... 200 OK\n",
            "Length: 136759 (134K) [text/plain]\n",
            "Saving to: ‘H1_std.csv’\n",
            "\n",
            "H1_std.csv          100%[===================>] 133.55K  --.-KB/s    in 0.02s   \n",
            "\n",
            "2021-03-25 21:15:59 (5.52 MB/s) - ‘H1_std.csv’ saved [136759/136759]\n",
            "\n"
          ],
          "name": "stdout"
        }
      ]
    },
    {
      "cell_type": "code",
      "metadata": {
        "id": "2PO0-2HKvVpn",
        "outputId": "93901f17-d107-4687-bed5-13b9b3331aa9",
        "colab": {
          "base_uri": "https://localhost:8080/"
        }
      },
      "source": [
        "!pip install hyperopt"
      ],
      "execution_count": 7,
      "outputs": [
        {
          "output_type": "stream",
          "text": [
            "Collecting hyperopt\n",
            "\u001b[?25l  Downloading https://files.pythonhosted.org/packages/a6/07/bd524635d218adae139be320eeac87fb4fbbd45c63b0bd58930c9e91f1fc/hyperopt-0.2.5-py2.py3-none-any.whl (965kB)\n",
            "\u001b[K     |████████████████████████████████| 972kB 5.0MB/s \n",
            "\u001b[?25hRequirement already satisfied: numpy in /usr/local/lib/python3.7/site-packages (from hyperopt) (1.17.2)\n",
            "Requirement already satisfied: six in /usr/local/lib/python3.7/site-packages (from hyperopt) (1.12.0)\n",
            "Requirement already satisfied: tqdm in /usr/local/lib/python3.7/site-packages (from hyperopt) (4.36.1)\n",
            "Requirement already satisfied: future in /usr/local/lib/python3.7/site-packages (from hyperopt) (0.17.1)\n",
            "Requirement already satisfied: scipy in /usr/local/lib/python3.7/site-packages (from hyperopt) (1.3.1)\n",
            "Requirement already satisfied: cloudpickle in /usr/local/lib/python3.7/site-packages (from hyperopt) (1.2.2)\n",
            "Requirement already satisfied: networkx>=2.2 in /usr/local/lib/python3.7/site-packages (from hyperopt) (2.3)\n",
            "Requirement already satisfied: decorator>=4.3.0 in /usr/local/lib/python3.7/site-packages (from networkx>=2.2->hyperopt) (4.4.0)\n",
            "Installing collected packages: hyperopt\n",
            "Successfully installed hyperopt-0.2.5\n"
          ],
          "name": "stdout"
        }
      ]
    },
    {
      "cell_type": "markdown",
      "metadata": {
        "id": "mTOwqhvR3xL3"
      },
      "source": [
        "### Load packages and dataset"
      ]
    },
    {
      "cell_type": "code",
      "metadata": {
        "id": "EeN9kEMO2R9Z",
        "outputId": "68a4a511-9fc2-4f73-8d74-2d63e49ea046",
        "colab": {
          "base_uri": "https://localhost:8080/"
        }
      },
      "source": [
        "import matplotlib.pyplot as plt\n",
        "import seaborn as sns\n",
        "import numpy as np\n",
        "sns.set_context(\"poster\")\n",
        "sns.set_style(\"whitegrid\")\n",
        "sns.set_palette(\"Set2\")\n",
        "\n",
        "import pandas as pd\n",
        "import os, json, sys, glob, pickle\n",
        "\n",
        "from atomsci.ddm.pipeline import model_pipeline as mp\n",
        "from atomsci.ddm.pipeline import parameter_parser as parse\n",
        "from atomsci.ddm.pipeline import perf_data\n",
        "\n",
        "from hyperopt import fmin, tpe, hp, Trials, STATUS_OK"
      ],
      "execution_count": 8,
      "outputs": [
        {
          "output_type": "stream",
          "text": [
            "/usr/local/lib/python3.7/dist-packages/sklearn/externals/joblib/__init__.py:15: FutureWarning: sklearn.externals.joblib is deprecated in 0.21 and will be removed in 0.23. Please import this functionality directly from joblib, which can be installed with: pip install joblib. If this warning is raised when loading pickled models, you may need to re-serialize those models with scikit-learn 0.21+.\n",
            "  warnings.warn(msg, category=FutureWarning)\n"
          ],
          "name": "stderr"
        },
        {
          "output_type": "stream",
          "text": [
            "WARNING:tensorflow:\n",
            "The TensorFlow contrib module will not be included in TensorFlow 2.0.\n",
            "For more information, please see:\n",
            "  * https://github.com/tensorflow/community/blob/master/rfcs/20180907-contrib-sunset.md\n",
            "  * https://github.com/tensorflow/addons\n",
            "  * https://github.com/tensorflow/io (for I/O related ops)\n",
            "If you depend on functionality not listed there, please file an issue.\n",
            "\n"
          ],
          "name": "stdout"
        }
      ]
    },
    {
      "cell_type": "code",
      "metadata": {
        "id": "C5J-cJNz2V5w"
      },
      "source": [
        "h1 = pd.read_csv(\"H1_std.csv\")"
      ],
      "execution_count": 9,
      "outputs": []
    },
    {
      "cell_type": "code",
      "metadata": {
        "id": "v_fQuS473N1M",
        "outputId": "cbb718fb-eb69-4b47-fd34-847ff6358815",
        "colab": {
          "base_uri": "https://localhost:8080/",
          "height": 407
        }
      },
      "source": [
        "h1"
      ],
      "execution_count": 10,
      "outputs": [
        {
          "output_type": "execute_result",
          "data": {
            "text/html": [
              "<div>\n",
              "<style scoped>\n",
              "    .dataframe tbody tr th:only-of-type {\n",
              "        vertical-align: middle;\n",
              "    }\n",
              "\n",
              "    .dataframe tbody tr th {\n",
              "        vertical-align: top;\n",
              "    }\n",
              "\n",
              "    .dataframe thead th {\n",
              "        text-align: right;\n",
              "    }\n",
              "</style>\n",
              "<table border=\"1\" class=\"dataframe\">\n",
              "  <thead>\n",
              "    <tr style=\"text-align: right;\">\n",
              "      <th></th>\n",
              "      <th>rdkit_smiles</th>\n",
              "      <th>compound_id</th>\n",
              "      <th>NofA</th>\n",
              "      <th>pKi_mean</th>\n",
              "      <th>pKi_std</th>\n",
              "    </tr>\n",
              "  </thead>\n",
              "  <tbody>\n",
              "    <tr>\n",
              "      <th>0</th>\n",
              "      <td>C(#Cc1c2c(nc3ccccc13)CCCCC2)CCN1CCCCC1</td>\n",
              "      <td>CHEMBL66660</td>\n",
              "      <td>1</td>\n",
              "      <td>4.803188</td>\n",
              "      <td>0.471982</td>\n",
              "    </tr>\n",
              "    <tr>\n",
              "      <th>1</th>\n",
              "      <td>C(#Cc1cccc(CN2CCOCC2)c1)CCN1CCCCC1</td>\n",
              "      <td>CHEMBL237087</td>\n",
              "      <td>1</td>\n",
              "      <td>5.000000</td>\n",
              "      <td>0.181920</td>\n",
              "    </tr>\n",
              "    <tr>\n",
              "      <th>2</th>\n",
              "      <td>C(=C/c1ccccc1)\\CN1CCN(C(c2ccccc2)c2ccccc2)CC1</td>\n",
              "      <td>CHEMBL43064</td>\n",
              "      <td>1</td>\n",
              "      <td>8.064392</td>\n",
              "      <td>0.163978</td>\n",
              "    </tr>\n",
              "    <tr>\n",
              "      <th>3</th>\n",
              "      <td>C/C=C/C(=O)N1CCC(=C2c3ccc(Cl)cc3CCc3cccnc32)CC1</td>\n",
              "      <td>CHEMBL3357041</td>\n",
              "      <td>1</td>\n",
              "      <td>6.815309</td>\n",
              "      <td>0.095668</td>\n",
              "    </tr>\n",
              "    <tr>\n",
              "      <th>4</th>\n",
              "      <td>C1=C(CCN2CCc3ccccc3C2)CCc2ccccc21</td>\n",
              "      <td>CHEMBL3970994</td>\n",
              "      <td>2</td>\n",
              "      <td>5.841272</td>\n",
              "      <td>0.001272</td>\n",
              "    </tr>\n",
              "    <tr>\n",
              "      <th>...</th>\n",
              "      <td>...</td>\n",
              "      <td>...</td>\n",
              "      <td>...</td>\n",
              "      <td>...</td>\n",
              "      <td>...</td>\n",
              "    </tr>\n",
              "    <tr>\n",
              "      <th>1353</th>\n",
              "      <td>c1cnc(N2CCN(CCCc3nc4ccccc4s3)CC2)nc1</td>\n",
              "      <td>CHEMBL3289656</td>\n",
              "      <td>2</td>\n",
              "      <td>6.138337</td>\n",
              "      <td>0.001660</td>\n",
              "    </tr>\n",
              "    <tr>\n",
              "      <th>1354</th>\n",
              "      <td>c1cnc2c(N3CCN(CCCCc4ccc(OCCCN5CCCCCC5)cc4)CC3)...</td>\n",
              "      <td>CHEMBL3893197</td>\n",
              "      <td>1</td>\n",
              "      <td>7.799971</td>\n",
              "      <td>0.408169</td>\n",
              "    </tr>\n",
              "    <tr>\n",
              "      <th>1355</th>\n",
              "      <td>c1cnc2c(N3CCN(CCCc4ccc(OCCCN5CCCCCC5)cc4)CC3)c...</td>\n",
              "      <td>CHEMBL3921827</td>\n",
              "      <td>1</td>\n",
              "      <td>7.100015</td>\n",
              "      <td>0.408169</td>\n",
              "    </tr>\n",
              "    <tr>\n",
              "      <th>1356</th>\n",
              "      <td>c1cnc2c(N3CCN(CCc4ccc(OCCCN5CCCCCC5)cc4)CC3)cc...</td>\n",
              "      <td>CHEMBL3947980</td>\n",
              "      <td>1</td>\n",
              "      <td>7.700057</td>\n",
              "      <td>0.408169</td>\n",
              "    </tr>\n",
              "    <tr>\n",
              "      <th>1357</th>\n",
              "      <td>c1cnc2c(c1)cc([C@@H]1CCCO1)n2CCN1CCCCC1</td>\n",
              "      <td>CHEMBL3557423</td>\n",
              "      <td>1</td>\n",
              "      <td>5.750000</td>\n",
              "      <td>0.181920</td>\n",
              "    </tr>\n",
              "  </tbody>\n",
              "</table>\n",
              "<p>1358 rows × 5 columns</p>\n",
              "</div>"
            ],
            "text/plain": [
              "                                           rdkit_smiles  ...   pKi_std\n",
              "0                C(#Cc1c2c(nc3ccccc13)CCCCC2)CCN1CCCCC1  ...  0.471982\n",
              "1                    C(#Cc1cccc(CN2CCOCC2)c1)CCN1CCCCC1  ...  0.181920\n",
              "2         C(=C/c1ccccc1)\\CN1CCN(C(c2ccccc2)c2ccccc2)CC1  ...  0.163978\n",
              "3       C/C=C/C(=O)N1CCC(=C2c3ccc(Cl)cc3CCc3cccnc32)CC1  ...  0.095668\n",
              "4                     C1=C(CCN2CCc3ccccc3C2)CCc2ccccc21  ...  0.001272\n",
              "...                                                 ...  ...       ...\n",
              "1353               c1cnc(N2CCN(CCCc3nc4ccccc4s3)CC2)nc1  ...  0.001660\n",
              "1354  c1cnc2c(N3CCN(CCCCc4ccc(OCCCN5CCCCCC5)cc4)CC3)...  ...  0.408169\n",
              "1355  c1cnc2c(N3CCN(CCCc4ccc(OCCCN5CCCCCC5)cc4)CC3)c...  ...  0.408169\n",
              "1356  c1cnc2c(N3CCN(CCc4ccc(OCCCN5CCCCCC5)cc4)CC3)cc...  ...  0.408169\n",
              "1357            c1cnc2c(c1)cc([C@@H]1CCCO1)n2CCN1CCCCC1  ...  0.181920\n",
              "\n",
              "[1358 rows x 5 columns]"
            ]
          },
          "metadata": {
            "tags": []
          },
          "execution_count": 10
        }
      ]
    },
    {
      "cell_type": "markdown",
      "metadata": {
        "id": "XA8ARleo3h53"
      },
      "source": [
        "### Split the dataset"
      ]
    },
    {
      "cell_type": "code",
      "metadata": {
        "id": "1eQC31_fA2wD",
        "outputId": "10543fec-fe08-41a4-a875-cef9108a34cb",
        "colab": {
          "base_uri": "https://localhost:8080/"
        }
      },
      "source": [
        "train_file = \"H1_std.csv\"\n",
        "response_col = \"pKi_mean\"\n",
        "compound_id = \"compound_id\"\n",
        "smiles_col = \"rdkit_smiles\"\n",
        "\n",
        "params = {\n",
        "        \"system\": \"LC\",\n",
        "        \"lc_account\": 'None',\n",
        "        \"datastore\": \"False\",\n",
        "        \"save_results\": \"False\",\n",
        "        \"data_owner\": \"username\",\n",
        "        \"prediction_type\": \"regression\",\n",
        "        \"dataset_key\": train_file,\n",
        "        \"id_col\": compound_id,\n",
        "        \"smiles_col\": smiles_col,\n",
        "        \"response_cols\": response_col,\n",
        "        \"previously_split\": \"False\",\n",
        "        \"split_only\": \"True\",\n",
        "        \"featurizer\": \"ecfp\",\n",
        "        \"model_type\": \"RF\",\n",
        "        \"verbose\": \"True\",\n",
        "        \"transformers\": \"True\",\n",
        "        'max_epochs': '70',\n",
        "        \"rerun\": \"False\",\n",
        "        \"result_dir\": \"split\"\n",
        "    }\n",
        "\n",
        "ampl_param = parse.wrapper(params)\n",
        "pl = mp.ModelPipeline(ampl_param)\n",
        "pl.train_model()"
      ],
      "execution_count": 11,
      "outputs": [
        {
          "output_type": "stream",
          "text": [
            "2021-03-25 21:16:28,635 Splitting data by scaffold\n"
          ],
          "name": "stderr"
        },
        {
          "output_type": "stream",
          "text": [
            "number of features: 1024\n"
          ],
          "name": "stdout"
        },
        {
          "output_type": "stream",
          "text": [
            "2021-03-25 21:16:30,245 Dataset split table saved to /H1_std_train_valid_test_scaffold_32282feb-7943-497e-8d11-5a163129298e.csv\n"
          ],
          "name": "stderr"
        }
      ]
    },
    {
      "cell_type": "markdown",
      "metadata": {
        "id": "xSdgxZNU43TM"
      },
      "source": [
        "### Train an initial model"
      ]
    },
    {
      "cell_type": "code",
      "metadata": {
        "id": "IjhIVGpJ42eE"
      },
      "source": [
        "listing = glob.glob(os.path.join(\"/\", \"H1_std_train_valid_test_scaffold_*\"))\n",
        "name = listing[0]\n",
        "split_uuid = name.split(\"_\")[-1].split(\".\")[0]\n",
        "response_col = \"pKi_mean\"\n",
        "\n",
        "params = {\n",
        "        \"system\": \"LC\",\n",
        "        \"lc_account\": 'None',\n",
        "        \"datastore\": \"False\",\n",
        "        \"save_results\": \"False\",\n",
        "        \"data_owner\": \"username\",\n",
        "        \"prediction_type\": \"regression\",\n",
        "        \"dataset_key\": train_file,\n",
        "        \"id_col\": compound_id,\n",
        "        \"smiles_col\": smiles_col,\n",
        "        \"response_cols\": response_col,\n",
        "        \"split_uuid\": split_uuid,\n",
        "        \"previously_split\": \"True\",\n",
        "        \"featurizer\": \"ecfp\",\n",
        "        \"model_type\": \"RF\",\n",
        "        \"verbose\": \"True\",\n",
        "        \"transformers\": \"True\",\n",
        "        'max_epochs': '70',\n",
        "        \"rerun\": \"False\",\n",
        "        \"result_dir\": \"ampl_output\"\n",
        "    }"
      ],
      "execution_count": 12,
      "outputs": []
    },
    {
      "cell_type": "code",
      "metadata": {
        "id": "qjbLbmri5Rhl",
        "outputId": "1bc9eb1c-7f17-4882-9083-cdd0ed987c20",
        "colab": {
          "base_uri": "https://localhost:8080/"
        }
      },
      "source": [
        "ampl_param = parse.wrapper(params)\n",
        "pl = mp.ModelPipeline(ampl_param)\n",
        "pl.train_model()"
      ],
      "execution_count": 13,
      "outputs": [
        {
          "output_type": "stream",
          "text": [
            "number of features: 1024\n"
          ],
          "name": "stdout"
        },
        {
          "output_type": "stream",
          "text": [
            "2021-03-25 21:16:38,570 Previous dataset split restored\n"
          ],
          "name": "stderr"
        },
        {
          "output_type": "stream",
          "text": [
            "n_cnt [1358.]\n",
            "y_means [6.59994988]\n",
            "y_stds [1.29836641]\n",
            "TIMING: dataset construction took 0.077 s\n",
            "Loading dataset from disk.\n",
            "TIMING: dataset construction took 0.017 s\n",
            "Loading dataset from disk.\n",
            "TIMING: dataset construction took 0.018 s\n",
            "Loading dataset from disk.\n"
          ],
          "name": "stdout"
        },
        {
          "output_type": "stream",
          "text": [
            "2021-03-25 21:16:44,546 Wrote model metadata to file ampl_output/H1_std/RF_ecfp_scaffold_regression/ee85d52c-9de6-410c-8cd7-a143d9f994c0/model_metadata.json\n",
            "2021-03-25 21:16:45,092 Wrote model metrics to file ampl_output/H1_std/RF_ecfp_scaffold_regression/ee85d52c-9de6-410c-8cd7-a143d9f994c0/model_metrics.json\n"
          ],
          "name": "stderr"
        },
        {
          "output_type": "stream",
          "text": [
            "Wrote model tarball to ampl_output/H1_std_model_ee85d52c-9de6-410c-8cd7-a143d9f994c0.tar.gz\n"
          ],
          "name": "stdout"
        }
      ]
    },
    {
      "cell_type": "code",
      "metadata": {
        "id": "ol3jooPm5Yd0",
        "outputId": "3b8c39d3-3789-45a2-8389-48fb5abe608c",
        "colab": {
          "base_uri": "https://localhost:8080/"
        }
      },
      "source": [
        "pred_data = pl.model_wrapper.get_perf_data(subset=\"valid\", epoch_label=\"best\")\n",
        "pred_results = pred_data.get_prediction_results()\n",
        "print(f\"R2 score of validation set: {pred_results['r2_score']:.3f}\")"
      ],
      "execution_count": 14,
      "outputs": [
        {
          "output_type": "stream",
          "text": [
            "R2 score of validation set: 0.444\n"
          ],
          "name": "stdout"
        }
      ]
    },
    {
      "cell_type": "markdown",
      "metadata": {
        "id": "vJ2mT3kfi_ed"
      },
      "source": [
        "### Train an model with uncertainty prediction"
      ]
    },
    {
      "cell_type": "code",
      "metadata": {
        "id": "WKUZYCUDi_en"
      },
      "source": [
        "listing = glob.glob(os.path.join(\"/\", \"H1_std_train_valid_test_scaffold_*\"))\n",
        "name = listing[0]\n",
        "split_uuid = name.split(\"_\")[-1].split(\".\")[0]\n",
        "response_col = \"pKi_mean\"\n",
        "\n",
        "params = {\n",
        "        \"system\": \"LC\",\n",
        "        \"lc_account\": 'None',\n",
        "        \"datastore\": \"False\",\n",
        "        \"save_results\": \"False\",\n",
        "        \"data_owner\": \"username\",\n",
        "        \"prediction_type\": \"regression\",\n",
        "        \"dataset_key\": train_file,\n",
        "        \"id_col\": compound_id,\n",
        "        \"smiles_col\": smiles_col,\n",
        "        \"response_cols\": response_col,\n",
        "        \"split_uuid\": split_uuid,\n",
        "        \"previously_split\": \"True\",\n",
        "        \"featurizer\": \"ecfp\",\n",
        "        \"model_type\": \"RF\",\n",
        "        \"verbose\": \"True\",\n",
        "        \"transformers\": \"True\",\n",
        "        'max_epochs': '70',\n",
        "        \"rerun\": \"False\",\n",
        "        \"result_dir\": \"ampl_output\",\n",
        "        \"uncertainty\": \"True\"\n",
        "    }"
      ],
      "execution_count": 15,
      "outputs": []
    },
    {
      "cell_type": "code",
      "metadata": {
        "id": "zwSTjKBei_eo",
        "outputId": "6d48d215-3c01-4296-9a1c-b99e1a2af206",
        "colab": {
          "base_uri": "https://localhost:8080/"
        }
      },
      "source": [
        "ampl_param = parse.wrapper(params)\n",
        "pl = mp.ModelPipeline(ampl_param)\n",
        "pl.train_model()"
      ],
      "execution_count": 16,
      "outputs": [
        {
          "output_type": "stream",
          "text": [
            "number of features: 1024\n"
          ],
          "name": "stdout"
        },
        {
          "output_type": "stream",
          "text": [
            "2021-03-25 21:16:52,983 Previous dataset split restored\n"
          ],
          "name": "stderr"
        },
        {
          "output_type": "stream",
          "text": [
            "n_cnt [1358.]\n",
            "y_means [6.59994988]\n",
            "y_stds [1.29836641]\n",
            "TIMING: dataset construction took 0.079 s\n",
            "Loading dataset from disk.\n",
            "TIMING: dataset construction took 0.021 s\n",
            "Loading dataset from disk.\n",
            "TIMING: dataset construction took 0.016 s\n",
            "Loading dataset from disk.\n"
          ],
          "name": "stdout"
        },
        {
          "output_type": "stream",
          "text": [
            "2021-03-25 21:16:58,458 Wrote model metadata to file ampl_output/H1_std/RF_ecfp_scaffold_regression/c008bce4-7dbc-48dc-8266-cb1e8d86ed57/model_metadata.json\n",
            "2021-03-25 21:16:59,120 Wrote model metrics to file ampl_output/H1_std/RF_ecfp_scaffold_regression/c008bce4-7dbc-48dc-8266-cb1e8d86ed57/model_metrics.json\n"
          ],
          "name": "stderr"
        },
        {
          "output_type": "stream",
          "text": [
            "Wrote model tarball to ampl_output/H1_std_model_c008bce4-7dbc-48dc-8266-cb1e8d86ed57.tar.gz\n"
          ],
          "name": "stdout"
        }
      ]
    },
    {
      "cell_type": "code",
      "metadata": {
        "id": "wy8fLhm9i_eo",
        "outputId": "3d35ce76-f8e0-44b8-c804-1362e63c32b9",
        "colab": {
          "base_uri": "https://localhost:8080/"
        }
      },
      "source": [
        "pred_data = pl.model_wrapper.get_perf_data(subset=\"valid\", epoch_label=\"best\")\n",
        "pred_results = pred_data.get_prediction_results()\n",
        "print(f\"R2 score of validation set: {pred_results['r2_score']:.3f}\")"
      ],
      "execution_count": 17,
      "outputs": [
        {
          "output_type": "stream",
          "text": [
            "R2 score of validation set: 0.449\n"
          ],
          "name": "stdout"
        }
      ]
    },
    {
      "cell_type": "code",
      "metadata": {
        "id": "wnaag-HhjY-X",
        "outputId": "04ed1416-4db7-42c8-bf92-ecde65f27019",
        "colab": {
          "base_uri": "https://localhost:8080/"
        }
      },
      "source": [
        "pred_df = pl.predict_on_dataframe(h1)\n",
        "pred_df = pred_df.merge(h1[[\"rdkit_smiles\", \"pKi_mean\"]], on=\"rdkit_smiles\")\n",
        "pred_df = pred_df.assign(pred_error=pred_df.pKi_mean-pred_df.pred)"
      ],
      "execution_count": 18,
      "outputs": [
        {
          "output_type": "stream",
          "text": [
            "2021-03-25 21:16:59,160 Featurizing data...\n",
            "2021-03-25 21:17:06,219 Done\n"
          ],
          "name": "stderr"
        },
        {
          "output_type": "stream",
          "text": [
            "number of features: 1024\n",
            "TIMING: dataset construction took 0.111 s\n",
            "Loading dataset from disk.\n"
          ],
          "name": "stdout"
        }
      ]
    },
    {
      "cell_type": "code",
      "metadata": {
        "id": "h4dHK5omm0YJ",
        "outputId": "7eff913e-d5a9-4a27-95a5-c9d3afdeb4e7",
        "colab": {
          "base_uri": "https://localhost:8080/",
          "height": 546
        }
      },
      "source": [
        "fig, ax = plt.subplots(1,1,figsize=(8,8))\n",
        "sns.scatterplot(data=pred_df, x=\"std\", y=\"pred_error\", ax=ax)"
      ],
      "execution_count": 19,
      "outputs": [
        {
          "output_type": "execute_result",
          "data": {
            "text/plain": [
              "<matplotlib.axes._subplots.AxesSubplot at 0x7fa00656c990>"
            ]
          },
          "metadata": {
            "tags": []
          },
          "execution_count": 19
        },
        {
          "output_type": "display_data",
          "data": {
            "image/png": "[encoded data removed]",
            "text/plain": [
              "<Figure size 576x576 with 1 Axes>"
            ]
          },
          "metadata": {
            "tags": []
          }
        }
      ]
    },
    {
      "cell_type": "markdown",
      "metadata": {
        "id": "pKP_mFuB5giz"
      },
      "source": [
        "### Grid search\n",
        "#### Tunable parameters for Random Forest models\n",
        "- rf_estimators: number of estimators to use in random forest models\n",
        "- rf_max_depth: the maximum depth of a decision tree in the random forest\n",
        "- rf_max_features: max number of features to split random forest nodes"
      ]
    },
    {
      "cell_type": "code",
      "metadata": {
        "id": "i6FBeUGh5mGJ",
        "outputId": "a03a7453-792a-4e0e-90c4-2a7631d0e0ac",
        "colab": {
          "base_uri": "https://localhost:8080/"
        }
      },
      "source": [
        "param_choice = [16,32,64,128]\n",
        "\n",
        "rfe_list = []\n",
        "rfd_list = []\n",
        "rff_list = []\n",
        "valid_r2_list = []\n",
        "for rf_estimator in param_choice:\n",
        "    for rf_depth in param_choice:\n",
        "        for rf_feature in param_choice:\n",
        "            params[\"rf_estimators\"] = rf_estimator\n",
        "            params[\"rf_max_depth\"] = rf_depth\n",
        "            params[\"rf_max_features\"] = rf_feature\n",
        "            rfe_list.append(rf_estimator)\n",
        "            rfd_list.append(rf_depth)\n",
        "            rff_list.append(rf_feature)\n",
        "            tp = parse.wrapper(params)\n",
        "            pl = mp.ModelPipeline(tp)\n",
        "            pl.train_model()\n",
        "            pred_data = pl.model_wrapper.get_perf_data(subset=\"valid\", epoch_label=\"best\")\n",
        "            pred_results = pred_data.get_prediction_results()\n",
        "            valid_r2 = pred_results['r2_score']\n",
        "            valid_r2_list.append(valid_r2)\n",
        "            print(f\"rf_estimators: {rf_estimator}, rf_max_depth: {rf_depth}, rf_max_features: {rf_feature}, valid_r2: {valid_r2}\")"
      ],
      "execution_count": 20,
      "outputs": [
        {
          "output_type": "stream",
          "text": [
            "number of features: 1024\n"
          ],
          "name": "stdout"
        },
        {
          "output_type": "stream",
          "text": [
            "2021-03-25 21:17:42,658 Previous dataset split restored\n"
          ],
          "name": "stderr"
        },
        {
          "output_type": "stream",
          "text": [
            "n_cnt [1358.]\n",
            "y_means [6.59994988]\n",
            "y_stds [1.29836641]\n",
            "TIMING: dataset construction took 0.101 s\n",
            "Loading dataset from disk.\n",
            "TIMING: dataset construction took 0.017 s\n",
            "Loading dataset from disk.\n",
            "TIMING: dataset construction took 0.026 s\n",
            "Loading dataset from disk.\n"
          ],
          "name": "stdout"
        },
        {
          "output_type": "stream",
          "text": [
            "2021-03-25 21:17:44,133 Wrote model metadata to file ampl_output/H1_std/RF_ecfp_scaffold_regression/f5894100-7c08-4aaf-b942-65eeea03b08b/model_metadata.json\n",
            "2021-03-25 21:17:44,157 Wrote model metrics to file ampl_output/H1_std/RF_ecfp_scaffold_regression/f5894100-7c08-4aaf-b942-65eeea03b08b/model_metrics.json\n"
          ],
          "name": "stderr"
        },
        {
          "output_type": "stream",
          "text": [
            "Wrote model tarball to ampl_output/H1_std_model_f5894100-7c08-4aaf-b942-65eeea03b08b.tar.gz\n",
            "rf_estimators: 16, rf_max_depth: 16, rf_max_features: 16, valid_r2: 0.3960169267773953\n",
            "number of features: 1024\n"
          ],
          "name": "stdout"
        },
        {
          "output_type": "stream",
          "text": [
            "2021-03-25 21:17:53,955 Previous dataset split restored\n"
          ],
          "name": "stderr"
        },
        {
          "output_type": "stream",
          "text": [
            "n_cnt [1358.]\n",
            "y_means [6.59994988]\n",
            "y_stds [1.29836641]\n",
            "TIMING: dataset construction took 0.095 s\n",
            "Loading dataset from disk.\n",
            "TIMING: dataset construction took 0.019 s\n",
            "Loading dataset from disk.\n",
            "TIMING: dataset construction took 0.018 s\n",
            "Loading dataset from disk.\n"
          ],
          "name": "stdout"
        },
        {
          "output_type": "stream",
          "text": [
            "2021-03-25 21:17:55,355 Wrote model metadata to file ampl_output/H1_std/RF_ecfp_scaffold_regression/ca61ea79-887d-4839-af1f-a6f7e6ac5756/model_metadata.json\n",
            "2021-03-25 21:17:55,376 Wrote model metrics to file ampl_output/H1_std/RF_ecfp_scaffold_regression/ca61ea79-887d-4839-af1f-a6f7e6ac5756/model_metrics.json\n"
          ],
          "name": "stderr"
        },
        {
          "output_type": "stream",
          "text": [
            "Wrote model tarball to ampl_output/H1_std_model_ca61ea79-887d-4839-af1f-a6f7e6ac5756.tar.gz\n",
            "rf_estimators: 16, rf_max_depth: 16, rf_max_features: 32, valid_r2: 0.35052958812842794\n",
            "number of features: 1024\n"
          ],
          "name": "stdout"
        },
        {
          "output_type": "stream",
          "text": [
            "2021-03-25 21:18:04,423 Previous dataset split restored\n"
          ],
          "name": "stderr"
        },
        {
          "output_type": "stream",
          "text": [
            "n_cnt [1358.]\n",
            "y_means [6.59994988]\n",
            "y_stds [1.29836641]\n",
            "TIMING: dataset construction took 0.089 s\n",
            "Loading dataset from disk.\n",
            "TIMING: dataset construction took 0.016 s\n",
            "Loading dataset from disk.\n",
            "TIMING: dataset construction took 0.022 s\n",
            "Loading dataset from disk.\n"
          ],
          "name": "stdout"
        },
        {
          "output_type": "stream",
          "text": [
            "2021-03-25 21:18:05,856 Wrote model metadata to file ampl_output/H1_std/RF_ecfp_scaffold_regression/2e054634-7136-4026-a735-dee1b8aeb10d/model_metadata.json\n",
            "2021-03-25 21:18:05,881 Wrote model metrics to file ampl_output/H1_std/RF_ecfp_scaffold_regression/2e054634-7136-4026-a735-dee1b8aeb10d/model_metrics.json\n"
          ],
          "name": "stderr"
        },
        {
          "output_type": "stream",
          "text": [
            "Wrote model tarball to ampl_output/H1_std_model_2e054634-7136-4026-a735-dee1b8aeb10d.tar.gz\n",
            "rf_estimators: 16, rf_max_depth: 16, rf_max_features: 64, valid_r2: 0.4600073638861877\n",
            "number of features: 1024\n"
          ],
          "name": "stdout"
        },
        {
          "output_type": "stream",
          "text": [
            "2021-03-25 21:18:14,276 Previous dataset split restored\n"
          ],
          "name": "stderr"
        },
        {
          "output_type": "stream",
          "text": [
            "n_cnt [1358.]\n",
            "y_means [6.59994988]\n",
            "y_stds [1.29836641]\n",
            "TIMING: dataset construction took 0.081 s\n",
            "Loading dataset from disk.\n",
            "TIMING: dataset construction took 0.018 s\n",
            "Loading dataset from disk.\n",
            "TIMING: dataset construction took 0.019 s\n",
            "Loading dataset from disk.\n"
          ],
          "name": "stdout"
        },
        {
          "output_type": "stream",
          "text": [
            "2021-03-25 21:18:15,526 Wrote model metadata to file ampl_output/H1_std/RF_ecfp_scaffold_regression/4b3fce29-d869-487e-8ba7-e9e27c75423b/model_metadata.json\n",
            "2021-03-25 21:18:15,550 Wrote model metrics to file ampl_output/H1_std/RF_ecfp_scaffold_regression/4b3fce29-d869-487e-8ba7-e9e27c75423b/model_metrics.json\n"
          ],
          "name": "stderr"
        },
        {
          "output_type": "stream",
          "text": [
            "Wrote model tarball to ampl_output/H1_std_model_4b3fce29-d869-487e-8ba7-e9e27c75423b.tar.gz\n",
            "rf_estimators: 16, rf_max_depth: 16, rf_max_features: 128, valid_r2: 0.42827611758053785\n",
            "number of features: 1024\n"
          ],
          "name": "stdout"
        },
        {
          "output_type": "stream",
          "text": [
            "2021-03-25 21:18:24,883 Previous dataset split restored\n"
          ],
          "name": "stderr"
        },
        {
          "output_type": "stream",
          "text": [
            "n_cnt [1358.]\n",
            "y_means [6.59994988]\n",
            "y_stds [1.29836641]\n",
            "TIMING: dataset construction took 0.099 s\n",
            "Loading dataset from disk.\n",
            "TIMING: dataset construction took 0.031 s\n",
            "Loading dataset from disk.\n",
            "TIMING: dataset construction took 0.029 s\n",
            "Loading dataset from disk.\n"
          ],
          "name": "stdout"
        },
        {
          "output_type": "stream",
          "text": [
            "2021-03-25 21:18:26,384 Wrote model metadata to file ampl_output/H1_std/RF_ecfp_scaffold_regression/5eee6a30-3ea1-4a6d-bc8d-e65edc67bdc0/model_metadata.json\n",
            "2021-03-25 21:18:26,411 Wrote model metrics to file ampl_output/H1_std/RF_ecfp_scaffold_regression/5eee6a30-3ea1-4a6d-bc8d-e65edc67bdc0/model_metrics.json\n"
          ],
          "name": "stderr"
        },
        {
          "output_type": "stream",
          "text": [
            "Wrote model tarball to ampl_output/H1_std_model_5eee6a30-3ea1-4a6d-bc8d-e65edc67bdc0.tar.gz\n",
            "rf_estimators: 16, rf_max_depth: 32, rf_max_features: 16, valid_r2: 0.3410842206215462\n",
            "number of features: 1024\n"
          ],
          "name": "stdout"
        },
        {
          "output_type": "stream",
          "text": [
            "2021-03-25 21:18:35,397 Previous dataset split restored\n"
          ],
          "name": "stderr"
        },
        {
          "output_type": "stream",
          "text": [
            "n_cnt [1358.]\n",
            "y_means [6.59994988]\n",
            "y_stds [1.29836641]\n",
            "TIMING: dataset construction took 0.100 s\n",
            "Loading dataset from disk.\n",
            "TIMING: dataset construction took 0.018 s\n",
            "Loading dataset from disk.\n",
            "TIMING: dataset construction took 0.019 s\n",
            "Loading dataset from disk.\n"
          ],
          "name": "stdout"
        },
        {
          "output_type": "stream",
          "text": [
            "2021-03-25 21:18:36,783 Wrote model metadata to file ampl_output/H1_std/RF_ecfp_scaffold_regression/9b2da311-90bd-49b6-b6dc-4ba73eb6ab7b/model_metadata.json\n",
            "2021-03-25 21:18:36,811 Wrote model metrics to file ampl_output/H1_std/RF_ecfp_scaffold_regression/9b2da311-90bd-49b6-b6dc-4ba73eb6ab7b/model_metrics.json\n"
          ],
          "name": "stderr"
        },
        {
          "output_type": "stream",
          "text": [
            "Wrote model tarball to ampl_output/H1_std_model_9b2da311-90bd-49b6-b6dc-4ba73eb6ab7b.tar.gz\n",
            "rf_estimators: 16, rf_max_depth: 32, rf_max_features: 32, valid_r2: 0.35552690437457646\n",
            "number of features: 1024\n"
          ],
          "name": "stdout"
        },
        {
          "output_type": "stream",
          "text": [
            "2021-03-25 21:18:45,356 Previous dataset split restored\n"
          ],
          "name": "stderr"
        },
        {
          "output_type": "stream",
          "text": [
            "n_cnt [1358.]\n",
            "y_means [6.59994988]\n",
            "y_stds [1.29836641]\n",
            "TIMING: dataset construction took 0.083 s\n",
            "Loading dataset from disk.\n",
            "TIMING: dataset construction took 0.018 s\n",
            "Loading dataset from disk.\n",
            "TIMING: dataset construction took 0.020 s\n",
            "Loading dataset from disk.\n"
          ],
          "name": "stdout"
        },
        {
          "output_type": "stream",
          "text": [
            "2021-03-25 21:18:46,667 Wrote model metadata to file ampl_output/H1_std/RF_ecfp_scaffold_regression/7bd99ff3-f3c3-49a7-af90-dc2f0ba4c114/model_metadata.json\n",
            "2021-03-25 21:18:46,694 Wrote model metrics to file ampl_output/H1_std/RF_ecfp_scaffold_regression/7bd99ff3-f3c3-49a7-af90-dc2f0ba4c114/model_metrics.json\n"
          ],
          "name": "stderr"
        },
        {
          "output_type": "stream",
          "text": [
            "Wrote model tarball to ampl_output/H1_std_model_7bd99ff3-f3c3-49a7-af90-dc2f0ba4c114.tar.gz\n",
            "rf_estimators: 16, rf_max_depth: 32, rf_max_features: 64, valid_r2: 0.3923389830578248\n",
            "number of features: 1024\n"
          ],
          "name": "stdout"
        },
        {
          "output_type": "stream",
          "text": [
            "2021-03-25 21:18:55,477 Previous dataset split restored\n"
          ],
          "name": "stderr"
        },
        {
          "output_type": "stream",
          "text": [
            "n_cnt [1358.]\n",
            "y_means [6.59994988]\n",
            "y_stds [1.29836641]\n",
            "TIMING: dataset construction took 0.083 s\n",
            "Loading dataset from disk.\n",
            "TIMING: dataset construction took 0.019 s\n",
            "Loading dataset from disk.\n",
            "TIMING: dataset construction took 0.015 s\n",
            "Loading dataset from disk.\n"
          ],
          "name": "stdout"
        },
        {
          "output_type": "stream",
          "text": [
            "2021-03-25 21:18:56,812 Wrote model metadata to file ampl_output/H1_std/RF_ecfp_scaffold_regression/f661a1f8-97d9-4d65-a5dc-db6d126bfae3/model_metadata.json\n",
            "2021-03-25 21:18:56,838 Wrote model metrics to file ampl_output/H1_std/RF_ecfp_scaffold_regression/f661a1f8-97d9-4d65-a5dc-db6d126bfae3/model_metrics.json\n"
          ],
          "name": "stderr"
        },
        {
          "output_type": "stream",
          "text": [
            "Wrote model tarball to ampl_output/H1_std_model_f661a1f8-97d9-4d65-a5dc-db6d126bfae3.tar.gz\n",
            "rf_estimators: 16, rf_max_depth: 32, rf_max_features: 128, valid_r2: 0.42417993062054027\n",
            "number of features: 1024\n"
          ],
          "name": "stdout"
        },
        {
          "output_type": "stream",
          "text": [
            "2021-03-25 21:19:06,067 Previous dataset split restored\n"
          ],
          "name": "stderr"
        },
        {
          "output_type": "stream",
          "text": [
            "n_cnt [1358.]\n",
            "y_means [6.59994988]\n",
            "y_stds [1.29836641]\n",
            "TIMING: dataset construction took 0.100 s\n",
            "Loading dataset from disk.\n",
            "TIMING: dataset construction took 0.018 s\n",
            "Loading dataset from disk.\n",
            "TIMING: dataset construction took 0.017 s\n",
            "Loading dataset from disk.\n"
          ],
          "name": "stdout"
        },
        {
          "output_type": "stream",
          "text": [
            "2021-03-25 21:19:07,516 Wrote model metadata to file ampl_output/H1_std/RF_ecfp_scaffold_regression/6cc8336b-0430-481b-85ec-1c58f1eb284c/model_metadata.json\n",
            "2021-03-25 21:19:07,550 Wrote model metrics to file ampl_output/H1_std/RF_ecfp_scaffold_regression/6cc8336b-0430-481b-85ec-1c58f1eb284c/model_metrics.json\n"
          ],
          "name": "stderr"
        },
        {
          "output_type": "stream",
          "text": [
            "Wrote model tarball to ampl_output/H1_std_model_6cc8336b-0430-481b-85ec-1c58f1eb284c.tar.gz\n",
            "rf_estimators: 16, rf_max_depth: 64, rf_max_features: 16, valid_r2: 0.42903426890426155\n",
            "number of features: 1024\n"
          ],
          "name": "stdout"
        },
        {
          "output_type": "stream",
          "text": [
            "2021-03-25 21:19:17,268 Previous dataset split restored\n"
          ],
          "name": "stderr"
        },
        {
          "output_type": "stream",
          "text": [
            "n_cnt [1358.]\n",
            "y_means [6.59994988]\n",
            "y_stds [1.29836641]\n",
            "TIMING: dataset construction took 0.106 s\n",
            "Loading dataset from disk.\n",
            "TIMING: dataset construction took 0.020 s\n",
            "Loading dataset from disk.\n",
            "TIMING: dataset construction took 0.019 s\n",
            "Loading dataset from disk.\n"
          ],
          "name": "stdout"
        },
        {
          "output_type": "stream",
          "text": [
            "2021-03-25 21:19:18,794 Wrote model metadata to file ampl_output/H1_std/RF_ecfp_scaffold_regression/320a620b-d811-429e-888d-cd9fbe071d36/model_metadata.json\n",
            "2021-03-25 21:19:18,833 Wrote model metrics to file ampl_output/H1_std/RF_ecfp_scaffold_regression/320a620b-d811-429e-888d-cd9fbe071d36/model_metrics.json\n"
          ],
          "name": "stderr"
        },
        {
          "output_type": "stream",
          "text": [
            "Wrote model tarball to ampl_output/H1_std_model_320a620b-d811-429e-888d-cd9fbe071d36.tar.gz\n",
            "rf_estimators: 16, rf_max_depth: 64, rf_max_features: 32, valid_r2: 0.45609794289510364\n",
            "number of features: 1024\n"
          ],
          "name": "stdout"
        },
        {
          "output_type": "stream",
          "text": [
            "2021-03-25 21:19:29,555 Previous dataset split restored\n"
          ],
          "name": "stderr"
        },
        {
          "output_type": "stream",
          "text": [
            "n_cnt [1358.]\n",
            "y_means [6.59994988]\n",
            "y_stds [1.29836641]\n",
            "TIMING: dataset construction took 0.100 s\n",
            "Loading dataset from disk.\n",
            "TIMING: dataset construction took 0.022 s\n",
            "Loading dataset from disk.\n",
            "TIMING: dataset construction took 0.019 s\n",
            "Loading dataset from disk.\n"
          ],
          "name": "stdout"
        },
        {
          "output_type": "stream",
          "text": [
            "2021-03-25 21:19:31,050 Wrote model metadata to file ampl_output/H1_std/RF_ecfp_scaffold_regression/d2706045-f0f6-4c06-abe7-e862adb79358/model_metadata.json\n",
            "2021-03-25 21:19:31,083 Wrote model metrics to file ampl_output/H1_std/RF_ecfp_scaffold_regression/d2706045-f0f6-4c06-abe7-e862adb79358/model_metrics.json\n"
          ],
          "name": "stderr"
        },
        {
          "output_type": "stream",
          "text": [
            "Wrote model tarball to ampl_output/H1_std_model_d2706045-f0f6-4c06-abe7-e862adb79358.tar.gz\n",
            "rf_estimators: 16, rf_max_depth: 64, rf_max_features: 64, valid_r2: 0.4507350220176377\n",
            "number of features: 1024\n"
          ],
          "name": "stdout"
        },
        {
          "output_type": "stream",
          "text": [
            "2021-03-25 21:19:42,005 Previous dataset split restored\n"
          ],
          "name": "stderr"
        },
        {
          "output_type": "stream",
          "text": [
            "n_cnt [1358.]\n",
            "y_means [6.59994988]\n",
            "y_stds [1.29836641]\n",
            "TIMING: dataset construction took 0.100 s\n",
            "Loading dataset from disk.\n",
            "TIMING: dataset construction took 0.029 s\n",
            "Loading dataset from disk.\n",
            "TIMING: dataset construction took 0.024 s\n",
            "Loading dataset from disk.\n"
          ],
          "name": "stdout"
        },
        {
          "output_type": "stream",
          "text": [
            "2021-03-25 21:19:43,498 Wrote model metadata to file ampl_output/H1_std/RF_ecfp_scaffold_regression/0495b7ea-102d-4e51-b792-9e7bb33f13a2/model_metadata.json\n",
            "2021-03-25 21:19:43,527 Wrote model metrics to file ampl_output/H1_std/RF_ecfp_scaffold_regression/0495b7ea-102d-4e51-b792-9e7bb33f13a2/model_metrics.json\n"
          ],
          "name": "stderr"
        },
        {
          "output_type": "stream",
          "text": [
            "Wrote model tarball to ampl_output/H1_std_model_0495b7ea-102d-4e51-b792-9e7bb33f13a2.tar.gz\n",
            "rf_estimators: 16, rf_max_depth: 64, rf_max_features: 128, valid_r2: 0.4683562605775776\n",
            "number of features: 1024\n"
          ],
          "name": "stdout"
        },
        {
          "output_type": "stream",
          "text": [
            "2021-03-25 21:19:53,500 Previous dataset split restored\n"
          ],
          "name": "stderr"
        },
        {
          "output_type": "stream",
          "text": [
            "n_cnt [1358.]\n",
            "y_means [6.59994988]\n",
            "y_stds [1.29836641]\n",
            "TIMING: dataset construction took 0.105 s\n",
            "Loading dataset from disk.\n",
            "TIMING: dataset construction took 0.019 s\n",
            "Loading dataset from disk.\n",
            "TIMING: dataset construction took 0.026 s\n",
            "Loading dataset from disk.\n"
          ],
          "name": "stdout"
        },
        {
          "output_type": "stream",
          "text": [
            "2021-03-25 21:19:54,917 Wrote model metadata to file ampl_output/H1_std/RF_ecfp_scaffold_regression/9f2365e9-38c0-4792-a7af-6b91f06b7157/model_metadata.json\n",
            "2021-03-25 21:19:54,962 Wrote model metrics to file ampl_output/H1_std/RF_ecfp_scaffold_regression/9f2365e9-38c0-4792-a7af-6b91f06b7157/model_metrics.json\n"
          ],
          "name": "stderr"
        },
        {
          "output_type": "stream",
          "text": [
            "Wrote model tarball to ampl_output/H1_std_model_9f2365e9-38c0-4792-a7af-6b91f06b7157.tar.gz\n",
            "rf_estimators: 16, rf_max_depth: 128, rf_max_features: 16, valid_r2: 0.32565913178753825\n",
            "number of features: 1024\n"
          ],
          "name": "stdout"
        },
        {
          "output_type": "stream",
          "text": [
            "2021-03-25 21:20:05,219 Previous dataset split restored\n"
          ],
          "name": "stderr"
        },
        {
          "output_type": "stream",
          "text": [
            "n_cnt [1358.]\n",
            "y_means [6.59994988]\n",
            "y_stds [1.29836641]\n",
            "TIMING: dataset construction took 0.092 s\n",
            "Loading dataset from disk.\n",
            "TIMING: dataset construction took 0.016 s\n",
            "Loading dataset from disk.\n",
            "TIMING: dataset construction took 0.016 s\n",
            "Loading dataset from disk.\n"
          ],
          "name": "stdout"
        },
        {
          "output_type": "stream",
          "text": [
            "2021-03-25 21:20:06,543 Wrote model metadata to file ampl_output/H1_std/RF_ecfp_scaffold_regression/b764e3cb-a661-47b0-8688-d3c615a3789e/model_metadata.json\n",
            "2021-03-25 21:20:06,572 Wrote model metrics to file ampl_output/H1_std/RF_ecfp_scaffold_regression/b764e3cb-a661-47b0-8688-d3c615a3789e/model_metrics.json\n"
          ],
          "name": "stderr"
        },
        {
          "output_type": "stream",
          "text": [
            "Wrote model tarball to ampl_output/H1_std_model_b764e3cb-a661-47b0-8688-d3c615a3789e.tar.gz\n",
            "rf_estimators: 16, rf_max_depth: 128, rf_max_features: 32, valid_r2: 0.41948252355768434\n",
            "number of features: 1024\n"
          ],
          "name": "stdout"
        },
        {
          "output_type": "stream",
          "text": [
            "2021-03-25 21:20:15,598 Previous dataset split restored\n"
          ],
          "name": "stderr"
        },
        {
          "output_type": "stream",
          "text": [
            "n_cnt [1358.]\n",
            "y_means [6.59994988]\n",
            "y_stds [1.29836641]\n",
            "TIMING: dataset construction took 0.083 s\n",
            "Loading dataset from disk.\n",
            "TIMING: dataset construction took 0.017 s\n",
            "Loading dataset from disk.\n",
            "TIMING: dataset construction took 0.021 s\n",
            "Loading dataset from disk.\n"
          ],
          "name": "stdout"
        },
        {
          "output_type": "stream",
          "text": [
            "2021-03-25 21:20:16,923 Wrote model metadata to file ampl_output/H1_std/RF_ecfp_scaffold_regression/e3b28165-7b8a-49e0-84d9-11d74c68f3b3/model_metadata.json\n",
            "2021-03-25 21:20:16,951 Wrote model metrics to file ampl_output/H1_std/RF_ecfp_scaffold_regression/e3b28165-7b8a-49e0-84d9-11d74c68f3b3/model_metrics.json\n"
          ],
          "name": "stderr"
        },
        {
          "output_type": "stream",
          "text": [
            "Wrote model tarball to ampl_output/H1_std_model_e3b28165-7b8a-49e0-84d9-11d74c68f3b3.tar.gz\n",
            "rf_estimators: 16, rf_max_depth: 128, rf_max_features: 64, valid_r2: 0.4443273065778629\n",
            "number of features: 1024\n"
          ],
          "name": "stdout"
        },
        {
          "output_type": "stream",
          "text": [
            "2021-03-25 21:20:28,507 Previous dataset split restored\n"
          ],
          "name": "stderr"
        },
        {
          "output_type": "stream",
          "text": [
            "n_cnt [1358.]\n",
            "y_means [6.59994988]\n",
            "y_stds [1.29836641]\n",
            "TIMING: dataset construction took 0.114 s\n",
            "Loading dataset from disk.\n",
            "TIMING: dataset construction took 0.032 s\n",
            "Loading dataset from disk.\n",
            "TIMING: dataset construction took 0.019 s\n",
            "Loading dataset from disk.\n"
          ],
          "name": "stdout"
        },
        {
          "output_type": "stream",
          "text": [
            "2021-03-25 21:20:30,166 Wrote model metadata to file ampl_output/H1_std/RF_ecfp_scaffold_regression/66fad46e-348f-4afe-971a-cbdceefdeb49/model_metadata.json\n",
            "2021-03-25 21:20:30,210 Wrote model metrics to file ampl_output/H1_std/RF_ecfp_scaffold_regression/66fad46e-348f-4afe-971a-cbdceefdeb49/model_metrics.json\n"
          ],
          "name": "stderr"
        },
        {
          "output_type": "stream",
          "text": [
            "Wrote model tarball to ampl_output/H1_std_model_66fad46e-348f-4afe-971a-cbdceefdeb49.tar.gz\n",
            "rf_estimators: 16, rf_max_depth: 128, rf_max_features: 128, valid_r2: 0.4189893539926981\n",
            "number of features: 1024\n"
          ],
          "name": "stdout"
        },
        {
          "output_type": "stream",
          "text": [
            "2021-03-25 21:20:42,789 Previous dataset split restored\n"
          ],
          "name": "stderr"
        },
        {
          "output_type": "stream",
          "text": [
            "n_cnt [1358.]\n",
            "y_means [6.59994988]\n",
            "y_stds [1.29836641]\n",
            "TIMING: dataset construction took 0.103 s\n",
            "Loading dataset from disk.\n",
            "TIMING: dataset construction took 0.023 s\n",
            "Loading dataset from disk.\n",
            "TIMING: dataset construction took 0.023 s\n",
            "Loading dataset from disk.\n"
          ],
          "name": "stdout"
        },
        {
          "output_type": "stream",
          "text": [
            "2021-03-25 21:20:44,450 Wrote model metadata to file ampl_output/H1_std/RF_ecfp_scaffold_regression/936ffb6f-fa8d-44e5-b558-4d662c4a5bd7/model_metadata.json\n",
            "2021-03-25 21:20:44,486 Wrote model metrics to file ampl_output/H1_std/RF_ecfp_scaffold_regression/936ffb6f-fa8d-44e5-b558-4d662c4a5bd7/model_metrics.json\n"
          ],
          "name": "stderr"
        },
        {
          "output_type": "stream",
          "text": [
            "Wrote model tarball to ampl_output/H1_std_model_936ffb6f-fa8d-44e5-b558-4d662c4a5bd7.tar.gz\n",
            "rf_estimators: 32, rf_max_depth: 16, rf_max_features: 16, valid_r2: 0.3236154295904775\n",
            "number of features: 1024\n"
          ],
          "name": "stdout"
        },
        {
          "output_type": "stream",
          "text": [
            "2021-03-25 21:20:55,067 Previous dataset split restored\n"
          ],
          "name": "stderr"
        },
        {
          "output_type": "stream",
          "text": [
            "n_cnt [1358.]\n",
            "y_means [6.59994988]\n",
            "y_stds [1.29836641]\n",
            "TIMING: dataset construction took 0.115 s\n",
            "Loading dataset from disk.\n",
            "TIMING: dataset construction took 0.028 s\n",
            "Loading dataset from disk.\n",
            "TIMING: dataset construction took 0.024 s\n",
            "Loading dataset from disk.\n"
          ],
          "name": "stdout"
        },
        {
          "output_type": "stream",
          "text": [
            "2021-03-25 21:20:56,722 Wrote model metadata to file ampl_output/H1_std/RF_ecfp_scaffold_regression/4550af61-d625-4d72-9d63-74f278a8dcc6/model_metadata.json\n",
            "2021-03-25 21:20:56,763 Wrote model metrics to file ampl_output/H1_std/RF_ecfp_scaffold_regression/4550af61-d625-4d72-9d63-74f278a8dcc6/model_metrics.json\n"
          ],
          "name": "stderr"
        },
        {
          "output_type": "stream",
          "text": [
            "Wrote model tarball to ampl_output/H1_std_model_4550af61-d625-4d72-9d63-74f278a8dcc6.tar.gz\n",
            "rf_estimators: 32, rf_max_depth: 16, rf_max_features: 32, valid_r2: 0.37354046340216884\n",
            "number of features: 1024\n"
          ],
          "name": "stdout"
        },
        {
          "output_type": "stream",
          "text": [
            "2021-03-25 21:21:06,062 Previous dataset split restored\n"
          ],
          "name": "stderr"
        },
        {
          "output_type": "stream",
          "text": [
            "n_cnt [1358.]\n",
            "y_means [6.59994988]\n",
            "y_stds [1.29836641]\n",
            "TIMING: dataset construction took 0.087 s\n",
            "Loading dataset from disk.\n",
            "TIMING: dataset construction took 0.021 s\n",
            "Loading dataset from disk.\n",
            "TIMING: dataset construction took 0.021 s\n",
            "Loading dataset from disk.\n"
          ],
          "name": "stdout"
        },
        {
          "output_type": "stream",
          "text": [
            "2021-03-25 21:21:07,492 Wrote model metadata to file ampl_output/H1_std/RF_ecfp_scaffold_regression/966c3240-33a7-4c8e-b0b8-9fa7d765d911/model_metadata.json\n",
            "2021-03-25 21:21:07,528 Wrote model metrics to file ampl_output/H1_std/RF_ecfp_scaffold_regression/966c3240-33a7-4c8e-b0b8-9fa7d765d911/model_metrics.json\n"
          ],
          "name": "stderr"
        },
        {
          "output_type": "stream",
          "text": [
            "Wrote model tarball to ampl_output/H1_std_model_966c3240-33a7-4c8e-b0b8-9fa7d765d911.tar.gz\n",
            "rf_estimators: 32, rf_max_depth: 16, rf_max_features: 64, valid_r2: 0.43096042067601104\n",
            "number of features: 1024\n"
          ],
          "name": "stdout"
        },
        {
          "output_type": "stream",
          "text": [
            "2021-03-25 21:21:16,692 Previous dataset split restored\n"
          ],
          "name": "stderr"
        },
        {
          "output_type": "stream",
          "text": [
            "n_cnt [1358.]\n",
            "y_means [6.59994988]\n",
            "y_stds [1.29836641]\n",
            "TIMING: dataset construction took 0.093 s\n",
            "Loading dataset from disk.\n",
            "TIMING: dataset construction took 0.018 s\n",
            "Loading dataset from disk.\n",
            "TIMING: dataset construction took 0.020 s\n",
            "Loading dataset from disk.\n"
          ],
          "name": "stdout"
        },
        {
          "output_type": "stream",
          "text": [
            "2021-03-25 21:21:18,123 Wrote model metadata to file ampl_output/H1_std/RF_ecfp_scaffold_regression/f61459ff-6af9-4605-80f2-7369e67f8f7e/model_metadata.json\n",
            "2021-03-25 21:21:18,170 Wrote model metrics to file ampl_output/H1_std/RF_ecfp_scaffold_regression/f61459ff-6af9-4605-80f2-7369e67f8f7e/model_metrics.json\n"
          ],
          "name": "stderr"
        },
        {
          "output_type": "stream",
          "text": [
            "Wrote model tarball to ampl_output/H1_std_model_f61459ff-6af9-4605-80f2-7369e67f8f7e.tar.gz\n",
            "rf_estimators: 32, rf_max_depth: 16, rf_max_features: 128, valid_r2: 0.4701900927348822\n",
            "number of features: 1024\n"
          ],
          "name": "stdout"
        },
        {
          "output_type": "stream",
          "text": [
            "2021-03-25 21:21:27,399 Previous dataset split restored\n"
          ],
          "name": "stderr"
        },
        {
          "output_type": "stream",
          "text": [
            "n_cnt [1358.]\n",
            "y_means [6.59994988]\n",
            "y_stds [1.29836641]\n",
            "TIMING: dataset construction took 0.135 s\n",
            "Loading dataset from disk.\n",
            "TIMING: dataset construction took 0.032 s\n",
            "Loading dataset from disk.\n",
            "TIMING: dataset construction took 0.030 s\n",
            "Loading dataset from disk.\n"
          ],
          "name": "stdout"
        },
        {
          "output_type": "stream",
          "text": [
            "2021-03-25 21:21:28,955 Wrote model metadata to file ampl_output/H1_std/RF_ecfp_scaffold_regression/6092ed0c-7002-4405-bfeb-3a1d583bab9e/model_metadata.json\n",
            "2021-03-25 21:21:29,000 Wrote model metrics to file ampl_output/H1_std/RF_ecfp_scaffold_regression/6092ed0c-7002-4405-bfeb-3a1d583bab9e/model_metrics.json\n"
          ],
          "name": "stderr"
        },
        {
          "output_type": "stream",
          "text": [
            "Wrote model tarball to ampl_output/H1_std_model_6092ed0c-7002-4405-bfeb-3a1d583bab9e.tar.gz\n",
            "rf_estimators: 32, rf_max_depth: 32, rf_max_features: 16, valid_r2: 0.39282494205908325\n",
            "number of features: 1024\n"
          ],
          "name": "stdout"
        },
        {
          "output_type": "stream",
          "text": [
            "2021-03-25 21:21:37,751 Previous dataset split restored\n"
          ],
          "name": "stderr"
        },
        {
          "output_type": "stream",
          "text": [
            "n_cnt [1358.]\n",
            "y_means [6.59994988]\n",
            "y_stds [1.29836641]\n",
            "TIMING: dataset construction took 0.091 s\n",
            "Loading dataset from disk.\n",
            "TIMING: dataset construction took 0.021 s\n",
            "Loading dataset from disk.\n",
            "TIMING: dataset construction took 0.019 s\n",
            "Loading dataset from disk.\n"
          ],
          "name": "stdout"
        },
        {
          "output_type": "stream",
          "text": [
            "2021-03-25 21:21:39,271 Wrote model metadata to file ampl_output/H1_std/RF_ecfp_scaffold_regression/de45c9b8-a9f2-4f3e-8c70-819f619f7caa/model_metadata.json\n",
            "2021-03-25 21:21:39,328 Wrote model metrics to file ampl_output/H1_std/RF_ecfp_scaffold_regression/de45c9b8-a9f2-4f3e-8c70-819f619f7caa/model_metrics.json\n"
          ],
          "name": "stderr"
        },
        {
          "output_type": "stream",
          "text": [
            "Wrote model tarball to ampl_output/H1_std_model_de45c9b8-a9f2-4f3e-8c70-819f619f7caa.tar.gz\n",
            "rf_estimators: 32, rf_max_depth: 32, rf_max_features: 32, valid_r2: 0.4527108043198663\n",
            "number of features: 1024\n"
          ],
          "name": "stdout"
        },
        {
          "output_type": "stream",
          "text": [
            "2021-03-25 21:21:48,806 Previous dataset split restored\n"
          ],
          "name": "stderr"
        },
        {
          "output_type": "stream",
          "text": [
            "n_cnt [1358.]\n",
            "y_means [6.59994988]\n",
            "y_stds [1.29836641]\n",
            "TIMING: dataset construction took 0.098 s\n",
            "Loading dataset from disk.\n",
            "TIMING: dataset construction took 0.019 s\n",
            "Loading dataset from disk.\n",
            "TIMING: dataset construction took 0.021 s\n",
            "Loading dataset from disk.\n"
          ],
          "name": "stdout"
        },
        {
          "output_type": "stream",
          "text": [
            "2021-03-25 21:21:50,335 Wrote model metadata to file ampl_output/H1_std/RF_ecfp_scaffold_regression/58a1693b-96bf-4f5a-b25c-e7cd9c15876c/model_metadata.json\n",
            "2021-03-25 21:21:50,378 Wrote model metrics to file ampl_output/H1_std/RF_ecfp_scaffold_regression/58a1693b-96bf-4f5a-b25c-e7cd9c15876c/model_metrics.json\n"
          ],
          "name": "stderr"
        },
        {
          "output_type": "stream",
          "text": [
            "Wrote model tarball to ampl_output/H1_std_model_58a1693b-96bf-4f5a-b25c-e7cd9c15876c.tar.gz\n",
            "rf_estimators: 32, rf_max_depth: 32, rf_max_features: 64, valid_r2: 0.4064457012670326\n",
            "number of features: 1024\n"
          ],
          "name": "stdout"
        },
        {
          "output_type": "stream",
          "text": [
            "2021-03-25 21:21:59,745 Previous dataset split restored\n"
          ],
          "name": "stderr"
        },
        {
          "output_type": "stream",
          "text": [
            "n_cnt [1358.]\n",
            "y_means [6.59994988]\n",
            "y_stds [1.29836641]\n",
            "TIMING: dataset construction took 0.089 s\n",
            "Loading dataset from disk.\n",
            "TIMING: dataset construction took 0.020 s\n",
            "Loading dataset from disk.\n",
            "TIMING: dataset construction took 0.020 s\n",
            "Loading dataset from disk.\n"
          ],
          "name": "stdout"
        },
        {
          "output_type": "stream",
          "text": [
            "2021-03-25 21:22:01,292 Wrote model metadata to file ampl_output/H1_std/RF_ecfp_scaffold_regression/bfb27f34-6d30-448e-b9e8-9a7802e81226/model_metadata.json\n",
            "2021-03-25 21:22:01,349 Wrote model metrics to file ampl_output/H1_std/RF_ecfp_scaffold_regression/bfb27f34-6d30-448e-b9e8-9a7802e81226/model_metrics.json\n"
          ],
          "name": "stderr"
        },
        {
          "output_type": "stream",
          "text": [
            "Wrote model tarball to ampl_output/H1_std_model_bfb27f34-6d30-448e-b9e8-9a7802e81226.tar.gz\n",
            "rf_estimators: 32, rf_max_depth: 32, rf_max_features: 128, valid_r2: 0.4616758075734194\n",
            "number of features: 1024\n"
          ],
          "name": "stdout"
        },
        {
          "output_type": "stream",
          "text": [
            "2021-03-25 21:22:11,129 Previous dataset split restored\n"
          ],
          "name": "stderr"
        },
        {
          "output_type": "stream",
          "text": [
            "n_cnt [1358.]\n",
            "y_means [6.59994988]\n",
            "y_stds [1.29836641]\n",
            "TIMING: dataset construction took 0.082 s\n",
            "Loading dataset from disk.\n",
            "TIMING: dataset construction took 0.022 s\n",
            "Loading dataset from disk.\n",
            "TIMING: dataset construction took 0.021 s\n",
            "Loading dataset from disk.\n"
          ],
          "name": "stdout"
        },
        {
          "output_type": "stream",
          "text": [
            "2021-03-25 21:22:12,602 Wrote model metadata to file ampl_output/H1_std/RF_ecfp_scaffold_regression/d9795971-aa85-45d0-b61e-3522e83330ed/model_metadata.json\n",
            "2021-03-25 21:22:12,653 Wrote model metrics to file ampl_output/H1_std/RF_ecfp_scaffold_regression/d9795971-aa85-45d0-b61e-3522e83330ed/model_metrics.json\n"
          ],
          "name": "stderr"
        },
        {
          "output_type": "stream",
          "text": [
            "Wrote model tarball to ampl_output/H1_std_model_d9795971-aa85-45d0-b61e-3522e83330ed.tar.gz\n",
            "rf_estimators: 32, rf_max_depth: 64, rf_max_features: 16, valid_r2: 0.356647524830331\n",
            "number of features: 1024\n"
          ],
          "name": "stdout"
        },
        {
          "output_type": "stream",
          "text": [
            "2021-03-25 21:22:23,309 Previous dataset split restored\n"
          ],
          "name": "stderr"
        },
        {
          "output_type": "stream",
          "text": [
            "n_cnt [1358.]\n",
            "y_means [6.59994988]\n",
            "y_stds [1.29836641]\n",
            "TIMING: dataset construction took 0.108 s\n",
            "Loading dataset from disk.\n",
            "TIMING: dataset construction took 0.021 s\n",
            "Loading dataset from disk.\n",
            "TIMING: dataset construction took 0.019 s\n",
            "Loading dataset from disk.\n"
          ],
          "name": "stdout"
        },
        {
          "output_type": "stream",
          "text": [
            "2021-03-25 21:22:24,994 Wrote model metadata to file ampl_output/H1_std/RF_ecfp_scaffold_regression/da268488-2e50-425d-b965-0086ac9fd7af/model_metadata.json\n",
            "2021-03-25 21:22:25,054 Wrote model metrics to file ampl_output/H1_std/RF_ecfp_scaffold_regression/da268488-2e50-425d-b965-0086ac9fd7af/model_metrics.json\n"
          ],
          "name": "stderr"
        },
        {
          "output_type": "stream",
          "text": [
            "Wrote model tarball to ampl_output/H1_std_model_da268488-2e50-425d-b965-0086ac9fd7af.tar.gz\n",
            "rf_estimators: 32, rf_max_depth: 64, rf_max_features: 32, valid_r2: 0.41776843439942146\n",
            "number of features: 1024\n"
          ],
          "name": "stdout"
        },
        {
          "output_type": "stream",
          "text": [
            "2021-03-25 21:22:34,363 Previous dataset split restored\n"
          ],
          "name": "stderr"
        },
        {
          "output_type": "stream",
          "text": [
            "n_cnt [1358.]\n",
            "y_means [6.59994988]\n",
            "y_stds [1.29836641]\n",
            "TIMING: dataset construction took 0.103 s\n",
            "Loading dataset from disk.\n",
            "TIMING: dataset construction took 0.021 s\n",
            "Loading dataset from disk.\n",
            "TIMING: dataset construction took 0.019 s\n",
            "Loading dataset from disk.\n"
          ],
          "name": "stdout"
        },
        {
          "output_type": "stream",
          "text": [
            "2021-03-25 21:22:36,058 Wrote model metadata to file ampl_output/H1_std/RF_ecfp_scaffold_regression/61fe9b32-cc8f-4c25-8d1b-0e27d8df1f40/model_metadata.json\n",
            "2021-03-25 21:22:36,111 Wrote model metrics to file ampl_output/H1_std/RF_ecfp_scaffold_regression/61fe9b32-cc8f-4c25-8d1b-0e27d8df1f40/model_metrics.json\n"
          ],
          "name": "stderr"
        },
        {
          "output_type": "stream",
          "text": [
            "Wrote model tarball to ampl_output/H1_std_model_61fe9b32-cc8f-4c25-8d1b-0e27d8df1f40.tar.gz\n",
            "rf_estimators: 32, rf_max_depth: 64, rf_max_features: 64, valid_r2: 0.4236238890766897\n",
            "number of features: 1024\n"
          ],
          "name": "stdout"
        },
        {
          "output_type": "stream",
          "text": [
            "2021-03-25 21:22:45,054 Previous dataset split restored\n"
          ],
          "name": "stderr"
        },
        {
          "output_type": "stream",
          "text": [
            "n_cnt [1358.]\n",
            "y_means [6.59994988]\n",
            "y_stds [1.29836641]\n",
            "TIMING: dataset construction took 0.108 s\n",
            "Loading dataset from disk.\n",
            "TIMING: dataset construction took 0.021 s\n",
            "Loading dataset from disk.\n",
            "TIMING: dataset construction took 0.021 s\n",
            "Loading dataset from disk.\n"
          ],
          "name": "stdout"
        },
        {
          "output_type": "stream",
          "text": [
            "2021-03-25 21:22:46,709 Wrote model metadata to file ampl_output/H1_std/RF_ecfp_scaffold_regression/bf802c02-c9e9-4f45-abd7-ebe9297b0f0f/model_metadata.json\n",
            "2021-03-25 21:22:46,757 Wrote model metrics to file ampl_output/H1_std/RF_ecfp_scaffold_regression/bf802c02-c9e9-4f45-abd7-ebe9297b0f0f/model_metrics.json\n"
          ],
          "name": "stderr"
        },
        {
          "output_type": "stream",
          "text": [
            "Wrote model tarball to ampl_output/H1_std_model_bf802c02-c9e9-4f45-abd7-ebe9297b0f0f.tar.gz\n",
            "rf_estimators: 32, rf_max_depth: 64, rf_max_features: 128, valid_r2: 0.4613665846408601\n",
            "number of features: 1024\n"
          ],
          "name": "stdout"
        },
        {
          "output_type": "stream",
          "text": [
            "2021-03-25 21:22:55,698 Previous dataset split restored\n"
          ],
          "name": "stderr"
        },
        {
          "output_type": "stream",
          "text": [
            "n_cnt [1358.]\n",
            "y_means [6.59994988]\n",
            "y_stds [1.29836641]\n",
            "TIMING: dataset construction took 0.076 s\n",
            "Loading dataset from disk.\n",
            "TIMING: dataset construction took 0.023 s\n",
            "Loading dataset from disk.\n",
            "TIMING: dataset construction took 0.020 s\n",
            "Loading dataset from disk.\n"
          ],
          "name": "stdout"
        },
        {
          "output_type": "stream",
          "text": [
            "2021-03-25 21:22:57,014 Wrote model metadata to file ampl_output/H1_std/RF_ecfp_scaffold_regression/76537345-16d1-4989-be79-a7a17ccf83a6/model_metadata.json\n",
            "2021-03-25 21:22:57,069 Wrote model metrics to file ampl_output/H1_std/RF_ecfp_scaffold_regression/76537345-16d1-4989-be79-a7a17ccf83a6/model_metrics.json\n"
          ],
          "name": "stderr"
        },
        {
          "output_type": "stream",
          "text": [
            "Wrote model tarball to ampl_output/H1_std_model_76537345-16d1-4989-be79-a7a17ccf83a6.tar.gz\n",
            "rf_estimators: 32, rf_max_depth: 128, rf_max_features: 16, valid_r2: 0.4023694378395314\n",
            "number of features: 1024\n"
          ],
          "name": "stdout"
        },
        {
          "output_type": "stream",
          "text": [
            "2021-03-25 21:23:05,626 Previous dataset split restored\n"
          ],
          "name": "stderr"
        },
        {
          "output_type": "stream",
          "text": [
            "n_cnt [1358.]\n",
            "y_means [6.59994988]\n",
            "y_stds [1.29836641]\n",
            "TIMING: dataset construction took 0.074 s\n",
            "Loading dataset from disk.\n",
            "TIMING: dataset construction took 0.016 s\n",
            "Loading dataset from disk.\n",
            "TIMING: dataset construction took 0.022 s\n",
            "Loading dataset from disk.\n"
          ],
          "name": "stdout"
        },
        {
          "output_type": "stream",
          "text": [
            "2021-03-25 21:23:07,018 Wrote model metadata to file ampl_output/H1_std/RF_ecfp_scaffold_regression/77d1e6fa-27d0-4e34-9314-ea68f74e2400/model_metadata.json\n",
            "2021-03-25 21:23:07,074 Wrote model metrics to file ampl_output/H1_std/RF_ecfp_scaffold_regression/77d1e6fa-27d0-4e34-9314-ea68f74e2400/model_metrics.json\n"
          ],
          "name": "stderr"
        },
        {
          "output_type": "stream",
          "text": [
            "Wrote model tarball to ampl_output/H1_std_model_77d1e6fa-27d0-4e34-9314-ea68f74e2400.tar.gz\n",
            "rf_estimators: 32, rf_max_depth: 128, rf_max_features: 32, valid_r2: 0.44222446541763005\n",
            "number of features: 1024\n"
          ],
          "name": "stdout"
        },
        {
          "output_type": "stream",
          "text": [
            "2021-03-25 21:23:15,792 Previous dataset split restored\n"
          ],
          "name": "stderr"
        },
        {
          "output_type": "stream",
          "text": [
            "n_cnt [1358.]\n",
            "y_means [6.59994988]\n",
            "y_stds [1.29836641]\n",
            "TIMING: dataset construction took 0.083 s\n",
            "Loading dataset from disk.\n",
            "TIMING: dataset construction took 0.019 s\n",
            "Loading dataset from disk.\n",
            "TIMING: dataset construction took 0.016 s\n",
            "Loading dataset from disk.\n"
          ],
          "name": "stdout"
        },
        {
          "output_type": "stream",
          "text": [
            "2021-03-25 21:23:17,179 Wrote model metadata to file ampl_output/H1_std/RF_ecfp_scaffold_regression/628e47b6-5069-4ba4-b68b-53e508db7e49/model_metadata.json\n",
            "2021-03-25 21:23:17,230 Wrote model metrics to file ampl_output/H1_std/RF_ecfp_scaffold_regression/628e47b6-5069-4ba4-b68b-53e508db7e49/model_metrics.json\n"
          ],
          "name": "stderr"
        },
        {
          "output_type": "stream",
          "text": [
            "Wrote model tarball to ampl_output/H1_std_model_628e47b6-5069-4ba4-b68b-53e508db7e49.tar.gz\n",
            "rf_estimators: 32, rf_max_depth: 128, rf_max_features: 64, valid_r2: 0.443474508710917\n",
            "number of features: 1024\n"
          ],
          "name": "stdout"
        },
        {
          "output_type": "stream",
          "text": [
            "2021-03-25 21:23:25,259 Previous dataset split restored\n"
          ],
          "name": "stderr"
        },
        {
          "output_type": "stream",
          "text": [
            "n_cnt [1358.]\n",
            "y_means [6.59994988]\n",
            "y_stds [1.29836641]\n",
            "TIMING: dataset construction took 0.077 s\n",
            "Loading dataset from disk.\n",
            "TIMING: dataset construction took 0.014 s\n",
            "Loading dataset from disk.\n",
            "TIMING: dataset construction took 0.015 s\n",
            "Loading dataset from disk.\n"
          ],
          "name": "stdout"
        },
        {
          "output_type": "stream",
          "text": [
            "2021-03-25 21:23:26,591 Wrote model metadata to file ampl_output/H1_std/RF_ecfp_scaffold_regression/a10b6b60-4794-4db7-a624-691e8ebea9c3/model_metadata.json\n",
            "2021-03-25 21:23:26,647 Wrote model metrics to file ampl_output/H1_std/RF_ecfp_scaffold_regression/a10b6b60-4794-4db7-a624-691e8ebea9c3/model_metrics.json\n"
          ],
          "name": "stderr"
        },
        {
          "output_type": "stream",
          "text": [
            "Wrote model tarball to ampl_output/H1_std_model_a10b6b60-4794-4db7-a624-691e8ebea9c3.tar.gz\n",
            "rf_estimators: 32, rf_max_depth: 128, rf_max_features: 128, valid_r2: 0.40064438099606947\n",
            "number of features: 1024\n"
          ],
          "name": "stdout"
        },
        {
          "output_type": "stream",
          "text": [
            "2021-03-25 21:23:36,023 Previous dataset split restored\n"
          ],
          "name": "stderr"
        },
        {
          "output_type": "stream",
          "text": [
            "n_cnt [1358.]\n",
            "y_means [6.59994988]\n",
            "y_stds [1.29836641]\n",
            "TIMING: dataset construction took 0.094 s\n",
            "Loading dataset from disk.\n",
            "TIMING: dataset construction took 0.029 s\n",
            "Loading dataset from disk.\n",
            "TIMING: dataset construction took 0.021 s\n",
            "Loading dataset from disk.\n"
          ],
          "name": "stdout"
        },
        {
          "output_type": "stream",
          "text": [
            "2021-03-25 21:23:37,740 Wrote model metadata to file ampl_output/H1_std/RF_ecfp_scaffold_regression/aad29d14-db7e-42c1-8be3-d64e300b2729/model_metadata.json\n",
            "2021-03-25 21:23:37,792 Wrote model metrics to file ampl_output/H1_std/RF_ecfp_scaffold_regression/aad29d14-db7e-42c1-8be3-d64e300b2729/model_metrics.json\n"
          ],
          "name": "stderr"
        },
        {
          "output_type": "stream",
          "text": [
            "Wrote model tarball to ampl_output/H1_std_model_aad29d14-db7e-42c1-8be3-d64e300b2729.tar.gz\n",
            "rf_estimators: 64, rf_max_depth: 16, rf_max_features: 16, valid_r2: 0.3524739115612774\n",
            "number of features: 1024\n"
          ],
          "name": "stdout"
        },
        {
          "output_type": "stream",
          "text": [
            "2021-03-25 21:23:47,366 Previous dataset split restored\n"
          ],
          "name": "stderr"
        },
        {
          "output_type": "stream",
          "text": [
            "n_cnt [1358.]\n",
            "y_means [6.59994988]\n",
            "y_stds [1.29836641]\n",
            "TIMING: dataset construction took 0.102 s\n",
            "Loading dataset from disk.\n",
            "TIMING: dataset construction took 0.020 s\n",
            "Loading dataset from disk.\n",
            "TIMING: dataset construction took 0.017 s\n",
            "Loading dataset from disk.\n"
          ],
          "name": "stdout"
        },
        {
          "output_type": "stream",
          "text": [
            "2021-03-25 21:23:49,197 Wrote model metadata to file ampl_output/H1_std/RF_ecfp_scaffold_regression/d4507d26-449e-4dcc-9371-f5010b7233e2/model_metadata.json\n",
            "2021-03-25 21:23:49,277 Wrote model metrics to file ampl_output/H1_std/RF_ecfp_scaffold_regression/d4507d26-449e-4dcc-9371-f5010b7233e2/model_metrics.json\n"
          ],
          "name": "stderr"
        },
        {
          "output_type": "stream",
          "text": [
            "Wrote model tarball to ampl_output/H1_std_model_d4507d26-449e-4dcc-9371-f5010b7233e2.tar.gz\n",
            "rf_estimators: 64, rf_max_depth: 16, rf_max_features: 32, valid_r2: 0.399240450047073\n",
            "number of features: 1024\n"
          ],
          "name": "stdout"
        },
        {
          "output_type": "stream",
          "text": [
            "2021-03-25 21:23:58,354 Previous dataset split restored\n"
          ],
          "name": "stderr"
        },
        {
          "output_type": "stream",
          "text": [
            "n_cnt [1358.]\n",
            "y_means [6.59994988]\n",
            "y_stds [1.29836641]\n",
            "TIMING: dataset construction took 0.096 s\n",
            "Loading dataset from disk.\n",
            "TIMING: dataset construction took 0.017 s\n",
            "Loading dataset from disk.\n",
            "TIMING: dataset construction took 0.021 s\n",
            "Loading dataset from disk.\n"
          ],
          "name": "stdout"
        },
        {
          "output_type": "stream",
          "text": [
            "2021-03-25 21:24:00,004 Wrote model metadata to file ampl_output/H1_std/RF_ecfp_scaffold_regression/ed1e3d25-aed9-4d2c-ad45-74c6d487dbcb/model_metadata.json\n",
            "2021-03-25 21:24:00,078 Wrote model metrics to file ampl_output/H1_std/RF_ecfp_scaffold_regression/ed1e3d25-aed9-4d2c-ad45-74c6d487dbcb/model_metrics.json\n"
          ],
          "name": "stderr"
        },
        {
          "output_type": "stream",
          "text": [
            "Wrote model tarball to ampl_output/H1_std_model_ed1e3d25-aed9-4d2c-ad45-74c6d487dbcb.tar.gz\n",
            "rf_estimators: 64, rf_max_depth: 16, rf_max_features: 64, valid_r2: 0.4092061135250836\n",
            "number of features: 1024\n"
          ],
          "name": "stdout"
        },
        {
          "output_type": "stream",
          "text": [
            "2021-03-25 21:24:08,191 Previous dataset split restored\n"
          ],
          "name": "stderr"
        },
        {
          "output_type": "stream",
          "text": [
            "n_cnt [1358.]\n",
            "y_means [6.59994988]\n",
            "y_stds [1.29836641]\n",
            "TIMING: dataset construction took 0.088 s\n",
            "Loading dataset from disk.\n",
            "TIMING: dataset construction took 0.018 s\n",
            "Loading dataset from disk.\n",
            "TIMING: dataset construction took 0.023 s\n",
            "Loading dataset from disk.\n"
          ],
          "name": "stdout"
        },
        {
          "output_type": "stream",
          "text": [
            "2021-03-25 21:24:10,066 Wrote model metadata to file ampl_output/H1_std/RF_ecfp_scaffold_regression/e2d225a2-b2f4-446c-8daa-98f3004cad62/model_metadata.json\n",
            "2021-03-25 21:24:10,121 Wrote model metrics to file ampl_output/H1_std/RF_ecfp_scaffold_regression/e2d225a2-b2f4-446c-8daa-98f3004cad62/model_metrics.json\n"
          ],
          "name": "stderr"
        },
        {
          "output_type": "stream",
          "text": [
            "Wrote model tarball to ampl_output/H1_std_model_e2d225a2-b2f4-446c-8daa-98f3004cad62.tar.gz\n",
            "rf_estimators: 64, rf_max_depth: 16, rf_max_features: 128, valid_r2: 0.4200829735653181\n",
            "number of features: 1024\n"
          ],
          "name": "stdout"
        },
        {
          "output_type": "stream",
          "text": [
            "2021-03-25 21:24:18,259 Previous dataset split restored\n"
          ],
          "name": "stderr"
        },
        {
          "output_type": "stream",
          "text": [
            "n_cnt [1358.]\n",
            "y_means [6.59994988]\n",
            "y_stds [1.29836641]\n",
            "TIMING: dataset construction took 0.071 s\n",
            "Loading dataset from disk.\n",
            "TIMING: dataset construction took 0.017 s\n",
            "Loading dataset from disk.\n",
            "TIMING: dataset construction took 0.016 s\n",
            "Loading dataset from disk.\n"
          ],
          "name": "stdout"
        },
        {
          "output_type": "stream",
          "text": [
            "2021-03-25 21:24:19,734 Wrote model metadata to file ampl_output/H1_std/RF_ecfp_scaffold_regression/63fb11df-c84c-4cc8-aad2-87ba01e434e0/model_metadata.json\n",
            "2021-03-25 21:24:19,806 Wrote model metrics to file ampl_output/H1_std/RF_ecfp_scaffold_regression/63fb11df-c84c-4cc8-aad2-87ba01e434e0/model_metrics.json\n"
          ],
          "name": "stderr"
        },
        {
          "output_type": "stream",
          "text": [
            "Wrote model tarball to ampl_output/H1_std_model_63fb11df-c84c-4cc8-aad2-87ba01e434e0.tar.gz\n",
            "rf_estimators: 64, rf_max_depth: 32, rf_max_features: 16, valid_r2: 0.39652572088451843\n",
            "number of features: 1024\n"
          ],
          "name": "stdout"
        },
        {
          "output_type": "stream",
          "text": [
            "2021-03-25 21:24:27,832 Previous dataset split restored\n"
          ],
          "name": "stderr"
        },
        {
          "output_type": "stream",
          "text": [
            "n_cnt [1358.]\n",
            "y_means [6.59994988]\n",
            "y_stds [1.29836641]\n",
            "TIMING: dataset construction took 0.078 s\n",
            "Loading dataset from disk.\n",
            "TIMING: dataset construction took 0.018 s\n",
            "Loading dataset from disk.\n",
            "TIMING: dataset construction took 0.015 s\n",
            "Loading dataset from disk.\n"
          ],
          "name": "stdout"
        },
        {
          "output_type": "stream",
          "text": [
            "2021-03-25 21:24:29,311 Wrote model metadata to file ampl_output/H1_std/RF_ecfp_scaffold_regression/5ba031ee-c444-45cf-b54a-c4007e28b17b/model_metadata.json\n",
            "2021-03-25 21:24:29,386 Wrote model metrics to file ampl_output/H1_std/RF_ecfp_scaffold_regression/5ba031ee-c444-45cf-b54a-c4007e28b17b/model_metrics.json\n"
          ],
          "name": "stderr"
        },
        {
          "output_type": "stream",
          "text": [
            "Wrote model tarball to ampl_output/H1_std_model_5ba031ee-c444-45cf-b54a-c4007e28b17b.tar.gz\n",
            "rf_estimators: 64, rf_max_depth: 32, rf_max_features: 32, valid_r2: 0.4143781873469491\n",
            "number of features: 1024\n"
          ],
          "name": "stdout"
        },
        {
          "output_type": "stream",
          "text": [
            "2021-03-25 21:24:37,123 Previous dataset split restored\n"
          ],
          "name": "stderr"
        },
        {
          "output_type": "stream",
          "text": [
            "n_cnt [1358.]\n",
            "y_means [6.59994988]\n",
            "y_stds [1.29836641]\n",
            "TIMING: dataset construction took 0.071 s\n",
            "Loading dataset from disk.\n",
            "TIMING: dataset construction took 0.016 s\n",
            "Loading dataset from disk.\n",
            "TIMING: dataset construction took 0.015 s\n",
            "Loading dataset from disk.\n"
          ],
          "name": "stdout"
        },
        {
          "output_type": "stream",
          "text": [
            "2021-03-25 21:24:38,575 Wrote model metadata to file ampl_output/H1_std/RF_ecfp_scaffold_regression/363ccd58-c5d2-4f20-8bc7-e75dfc418013/model_metadata.json\n",
            "2021-03-25 21:24:38,649 Wrote model metrics to file ampl_output/H1_std/RF_ecfp_scaffold_regression/363ccd58-c5d2-4f20-8bc7-e75dfc418013/model_metrics.json\n"
          ],
          "name": "stderr"
        },
        {
          "output_type": "stream",
          "text": [
            "Wrote model tarball to ampl_output/H1_std_model_363ccd58-c5d2-4f20-8bc7-e75dfc418013.tar.gz\n",
            "rf_estimators: 64, rf_max_depth: 32, rf_max_features: 64, valid_r2: 0.4453462498831623\n",
            "number of features: 1024\n"
          ],
          "name": "stdout"
        },
        {
          "output_type": "stream",
          "text": [
            "2021-03-25 21:24:46,082 Previous dataset split restored\n"
          ],
          "name": "stderr"
        },
        {
          "output_type": "stream",
          "text": [
            "n_cnt [1358.]\n",
            "y_means [6.59994988]\n",
            "y_stds [1.29836641]\n",
            "TIMING: dataset construction took 0.070 s\n",
            "Loading dataset from disk.\n",
            "TIMING: dataset construction took 0.014 s\n",
            "Loading dataset from disk.\n",
            "TIMING: dataset construction took 0.016 s\n",
            "Loading dataset from disk.\n"
          ],
          "name": "stdout"
        },
        {
          "output_type": "stream",
          "text": [
            "2021-03-25 21:24:47,749 Wrote model metadata to file ampl_output/H1_std/RF_ecfp_scaffold_regression/c7ef2ecb-b3da-4b6a-966a-a3c9aac14813/model_metadata.json\n",
            "2021-03-25 21:24:47,821 Wrote model metrics to file ampl_output/H1_std/RF_ecfp_scaffold_regression/c7ef2ecb-b3da-4b6a-966a-a3c9aac14813/model_metrics.json\n"
          ],
          "name": "stderr"
        },
        {
          "output_type": "stream",
          "text": [
            "Wrote model tarball to ampl_output/H1_std_model_c7ef2ecb-b3da-4b6a-966a-a3c9aac14813.tar.gz\n",
            "rf_estimators: 64, rf_max_depth: 32, rf_max_features: 128, valid_r2: 0.4540188206407135\n",
            "number of features: 1024\n"
          ],
          "name": "stdout"
        },
        {
          "output_type": "stream",
          "text": [
            "2021-03-25 21:24:54,949 Previous dataset split restored\n"
          ],
          "name": "stderr"
        },
        {
          "output_type": "stream",
          "text": [
            "n_cnt [1358.]\n",
            "y_means [6.59994988]\n",
            "y_stds [1.29836641]\n",
            "TIMING: dataset construction took 0.070 s\n",
            "Loading dataset from disk.\n",
            "TIMING: dataset construction took 0.014 s\n",
            "Loading dataset from disk.\n",
            "TIMING: dataset construction took 0.015 s\n",
            "Loading dataset from disk.\n"
          ],
          "name": "stdout"
        },
        {
          "output_type": "stream",
          "text": [
            "2021-03-25 21:24:56,280 Wrote model metadata to file ampl_output/H1_std/RF_ecfp_scaffold_regression/e7c39d2f-554d-47ec-a9a6-bda173b1e8e7/model_metadata.json\n",
            "2021-03-25 21:24:56,353 Wrote model metrics to file ampl_output/H1_std/RF_ecfp_scaffold_regression/e7c39d2f-554d-47ec-a9a6-bda173b1e8e7/model_metrics.json\n"
          ],
          "name": "stderr"
        },
        {
          "output_type": "stream",
          "text": [
            "Wrote model tarball to ampl_output/H1_std_model_e7c39d2f-554d-47ec-a9a6-bda173b1e8e7.tar.gz\n",
            "rf_estimators: 64, rf_max_depth: 64, rf_max_features: 16, valid_r2: 0.4214806653952753\n",
            "number of features: 1024\n"
          ],
          "name": "stdout"
        },
        {
          "output_type": "stream",
          "text": [
            "2021-03-25 21:25:03,537 Previous dataset split restored\n"
          ],
          "name": "stderr"
        },
        {
          "output_type": "stream",
          "text": [
            "n_cnt [1358.]\n",
            "y_means [6.59994988]\n",
            "y_stds [1.29836641]\n",
            "TIMING: dataset construction took 0.067 s\n",
            "Loading dataset from disk.\n",
            "TIMING: dataset construction took 0.016 s\n",
            "Loading dataset from disk.\n",
            "TIMING: dataset construction took 0.014 s\n",
            "Loading dataset from disk.\n"
          ],
          "name": "stdout"
        },
        {
          "output_type": "stream",
          "text": [
            "2021-03-25 21:25:04,873 Wrote model metadata to file ampl_output/H1_std/RF_ecfp_scaffold_regression/4a45bece-7e95-4945-84b6-35c2a6ef48b4/model_metadata.json\n",
            "2021-03-25 21:25:04,948 Wrote model metrics to file ampl_output/H1_std/RF_ecfp_scaffold_regression/4a45bece-7e95-4945-84b6-35c2a6ef48b4/model_metrics.json\n"
          ],
          "name": "stderr"
        },
        {
          "output_type": "stream",
          "text": [
            "Wrote model tarball to ampl_output/H1_std_model_4a45bece-7e95-4945-84b6-35c2a6ef48b4.tar.gz\n",
            "rf_estimators: 64, rf_max_depth: 64, rf_max_features: 32, valid_r2: 0.4364829117355037\n",
            "number of features: 1024\n"
          ],
          "name": "stdout"
        },
        {
          "output_type": "stream",
          "text": [
            "2021-03-25 21:25:12,216 Previous dataset split restored\n"
          ],
          "name": "stderr"
        },
        {
          "output_type": "stream",
          "text": [
            "n_cnt [1358.]\n",
            "y_means [6.59994988]\n",
            "y_stds [1.29836641]\n",
            "TIMING: dataset construction took 0.071 s\n",
            "Loading dataset from disk.\n",
            "TIMING: dataset construction took 0.014 s\n",
            "Loading dataset from disk.\n",
            "TIMING: dataset construction took 0.015 s\n",
            "Loading dataset from disk.\n"
          ],
          "name": "stdout"
        },
        {
          "output_type": "stream",
          "text": [
            "2021-03-25 21:25:13,673 Wrote model metadata to file ampl_output/H1_std/RF_ecfp_scaffold_regression/f769e569-db5f-43b9-a907-999abddf9c4c/model_metadata.json\n",
            "2021-03-25 21:25:13,745 Wrote model metrics to file ampl_output/H1_std/RF_ecfp_scaffold_regression/f769e569-db5f-43b9-a907-999abddf9c4c/model_metrics.json\n"
          ],
          "name": "stderr"
        },
        {
          "output_type": "stream",
          "text": [
            "Wrote model tarball to ampl_output/H1_std_model_f769e569-db5f-43b9-a907-999abddf9c4c.tar.gz\n",
            "rf_estimators: 64, rf_max_depth: 64, rf_max_features: 64, valid_r2: 0.4412777149745495\n",
            "number of features: 1024\n"
          ],
          "name": "stdout"
        },
        {
          "output_type": "stream",
          "text": [
            "2021-03-25 21:25:20,793 Previous dataset split restored\n"
          ],
          "name": "stderr"
        },
        {
          "output_type": "stream",
          "text": [
            "n_cnt [1358.]\n",
            "y_means [6.59994988]\n",
            "y_stds [1.29836641]\n",
            "TIMING: dataset construction took 0.067 s\n",
            "Loading dataset from disk.\n",
            "TIMING: dataset construction took 0.014 s\n",
            "Loading dataset from disk.\n",
            "TIMING: dataset construction took 0.016 s\n",
            "Loading dataset from disk.\n"
          ],
          "name": "stdout"
        },
        {
          "output_type": "stream",
          "text": [
            "2021-03-25 21:25:22,310 Wrote model metadata to file ampl_output/H1_std/RF_ecfp_scaffold_regression/fdb64545-c4b2-4864-a50e-9e414809010f/model_metadata.json\n",
            "2021-03-25 21:25:22,383 Wrote model metrics to file ampl_output/H1_std/RF_ecfp_scaffold_regression/fdb64545-c4b2-4864-a50e-9e414809010f/model_metrics.json\n"
          ],
          "name": "stderr"
        },
        {
          "output_type": "stream",
          "text": [
            "Wrote model tarball to ampl_output/H1_std_model_fdb64545-c4b2-4864-a50e-9e414809010f.tar.gz\n",
            "rf_estimators: 64, rf_max_depth: 64, rf_max_features: 128, valid_r2: 0.4354617227312446\n",
            "number of features: 1024\n"
          ],
          "name": "stdout"
        },
        {
          "output_type": "stream",
          "text": [
            "2021-03-25 21:25:29,342 Previous dataset split restored\n"
          ],
          "name": "stderr"
        },
        {
          "output_type": "stream",
          "text": [
            "n_cnt [1358.]\n",
            "y_means [6.59994988]\n",
            "y_stds [1.29836641]\n",
            "TIMING: dataset construction took 0.075 s\n",
            "Loading dataset from disk.\n",
            "TIMING: dataset construction took 0.014 s\n",
            "Loading dataset from disk.\n",
            "TIMING: dataset construction took 0.015 s\n",
            "Loading dataset from disk.\n"
          ],
          "name": "stdout"
        },
        {
          "output_type": "stream",
          "text": [
            "2021-03-25 21:25:30,707 Wrote model metadata to file ampl_output/H1_std/RF_ecfp_scaffold_regression/ad1bd723-7d9d-4b7d-b40e-d980ab1385e3/model_metadata.json\n",
            "2021-03-25 21:25:30,783 Wrote model metrics to file ampl_output/H1_std/RF_ecfp_scaffold_regression/ad1bd723-7d9d-4b7d-b40e-d980ab1385e3/model_metrics.json\n"
          ],
          "name": "stderr"
        },
        {
          "output_type": "stream",
          "text": [
            "Wrote model tarball to ampl_output/H1_std_model_ad1bd723-7d9d-4b7d-b40e-d980ab1385e3.tar.gz\n",
            "rf_estimators: 64, rf_max_depth: 128, rf_max_features: 16, valid_r2: 0.4192000608534623\n",
            "number of features: 1024\n"
          ],
          "name": "stdout"
        },
        {
          "output_type": "stream",
          "text": [
            "2021-03-25 21:25:37,866 Previous dataset split restored\n"
          ],
          "name": "stderr"
        },
        {
          "output_type": "stream",
          "text": [
            "n_cnt [1358.]\n",
            "y_means [6.59994988]\n",
            "y_stds [1.29836641]\n",
            "TIMING: dataset construction took 0.069 s\n",
            "Loading dataset from disk.\n",
            "TIMING: dataset construction took 0.014 s\n",
            "Loading dataset from disk.\n",
            "TIMING: dataset construction took 0.015 s\n",
            "Loading dataset from disk.\n"
          ],
          "name": "stdout"
        },
        {
          "output_type": "stream",
          "text": [
            "2021-03-25 21:25:39,224 Wrote model metadata to file ampl_output/H1_std/RF_ecfp_scaffold_regression/eea17829-7566-479d-b7e8-759485a83481/model_metadata.json\n",
            "2021-03-25 21:25:39,301 Wrote model metrics to file ampl_output/H1_std/RF_ecfp_scaffold_regression/eea17829-7566-479d-b7e8-759485a83481/model_metrics.json\n"
          ],
          "name": "stderr"
        },
        {
          "output_type": "stream",
          "text": [
            "Wrote model tarball to ampl_output/H1_std_model_eea17829-7566-479d-b7e8-759485a83481.tar.gz\n",
            "rf_estimators: 64, rf_max_depth: 128, rf_max_features: 32, valid_r2: 0.4289252170436533\n",
            "number of features: 1024\n"
          ],
          "name": "stdout"
        },
        {
          "output_type": "stream",
          "text": [
            "2021-03-25 21:25:46,293 Previous dataset split restored\n"
          ],
          "name": "stderr"
        },
        {
          "output_type": "stream",
          "text": [
            "n_cnt [1358.]\n",
            "y_means [6.59994988]\n",
            "y_stds [1.29836641]\n",
            "TIMING: dataset construction took 0.067 s\n",
            "Loading dataset from disk.\n",
            "TIMING: dataset construction took 0.014 s\n",
            "Loading dataset from disk.\n",
            "TIMING: dataset construction took 0.015 s\n",
            "Loading dataset from disk.\n"
          ],
          "name": "stdout"
        },
        {
          "output_type": "stream",
          "text": [
            "2021-03-25 21:25:47,711 Wrote model metadata to file ampl_output/H1_std/RF_ecfp_scaffold_regression/ed1ca218-8e81-436c-8228-765df057cdf5/model_metadata.json\n",
            "2021-03-25 21:25:47,785 Wrote model metrics to file ampl_output/H1_std/RF_ecfp_scaffold_regression/ed1ca218-8e81-436c-8228-765df057cdf5/model_metrics.json\n"
          ],
          "name": "stderr"
        },
        {
          "output_type": "stream",
          "text": [
            "Wrote model tarball to ampl_output/H1_std_model_ed1ca218-8e81-436c-8228-765df057cdf5.tar.gz\n",
            "rf_estimators: 64, rf_max_depth: 128, rf_max_features: 64, valid_r2: 0.44199083996955324\n",
            "number of features: 1024\n"
          ],
          "name": "stdout"
        },
        {
          "output_type": "stream",
          "text": [
            "2021-03-25 21:25:54,684 Previous dataset split restored\n"
          ],
          "name": "stderr"
        },
        {
          "output_type": "stream",
          "text": [
            "n_cnt [1358.]\n",
            "y_means [6.59994988]\n",
            "y_stds [1.29836641]\n",
            "TIMING: dataset construction took 0.068 s\n",
            "Loading dataset from disk.\n",
            "TIMING: dataset construction took 0.015 s\n",
            "Loading dataset from disk.\n",
            "TIMING: dataset construction took 0.015 s\n",
            "Loading dataset from disk.\n"
          ],
          "name": "stdout"
        },
        {
          "output_type": "stream",
          "text": [
            "2021-03-25 21:25:56,203 Wrote model metadata to file ampl_output/H1_std/RF_ecfp_scaffold_regression/a578d296-791e-4c66-a6a9-a61170955770/model_metadata.json\n",
            "2021-03-25 21:25:56,274 Wrote model metrics to file ampl_output/H1_std/RF_ecfp_scaffold_regression/a578d296-791e-4c66-a6a9-a61170955770/model_metrics.json\n"
          ],
          "name": "stderr"
        },
        {
          "output_type": "stream",
          "text": [
            "Wrote model tarball to ampl_output/H1_std_model_a578d296-791e-4c66-a6a9-a61170955770.tar.gz\n",
            "rf_estimators: 64, rf_max_depth: 128, rf_max_features: 128, valid_r2: 0.4371858688514051\n",
            "number of features: 1024\n"
          ],
          "name": "stdout"
        },
        {
          "output_type": "stream",
          "text": [
            "2021-03-25 21:26:03,747 Previous dataset split restored\n"
          ],
          "name": "stderr"
        },
        {
          "output_type": "stream",
          "text": [
            "n_cnt [1358.]\n",
            "y_means [6.59994988]\n",
            "y_stds [1.29836641]\n",
            "TIMING: dataset construction took 0.080 s\n",
            "Loading dataset from disk.\n",
            "TIMING: dataset construction took 0.018 s\n",
            "Loading dataset from disk.\n",
            "TIMING: dataset construction took 0.021 s\n",
            "Loading dataset from disk.\n"
          ],
          "name": "stdout"
        },
        {
          "output_type": "stream",
          "text": [
            "2021-03-25 21:26:05,620 Wrote model metadata to file ampl_output/H1_std/RF_ecfp_scaffold_regression/447841bb-530e-4c01-a802-8f29257601b7/model_metadata.json\n",
            "2021-03-25 21:26:05,715 Wrote model metrics to file ampl_output/H1_std/RF_ecfp_scaffold_regression/447841bb-530e-4c01-a802-8f29257601b7/model_metrics.json\n"
          ],
          "name": "stderr"
        },
        {
          "output_type": "stream",
          "text": [
            "Wrote model tarball to ampl_output/H1_std_model_447841bb-530e-4c01-a802-8f29257601b7.tar.gz\n",
            "rf_estimators: 128, rf_max_depth: 16, rf_max_features: 16, valid_r2: 0.3727048050947579\n",
            "number of features: 1024\n"
          ],
          "name": "stdout"
        },
        {
          "output_type": "stream",
          "text": [
            "2021-03-25 21:26:13,885 Previous dataset split restored\n"
          ],
          "name": "stderr"
        },
        {
          "output_type": "stream",
          "text": [
            "n_cnt [1358.]\n",
            "y_means [6.59994988]\n",
            "y_stds [1.29836641]\n",
            "TIMING: dataset construction took 0.085 s\n",
            "Loading dataset from disk.\n",
            "TIMING: dataset construction took 0.018 s\n",
            "Loading dataset from disk.\n",
            "TIMING: dataset construction took 0.017 s\n",
            "Loading dataset from disk.\n"
          ],
          "name": "stdout"
        },
        {
          "output_type": "stream",
          "text": [
            "2021-03-25 21:26:15,870 Wrote model metadata to file ampl_output/H1_std/RF_ecfp_scaffold_regression/5181fa4f-0e8c-44f4-b569-987ecab16897/model_metadata.json\n",
            "2021-03-25 21:26:15,978 Wrote model metrics to file ampl_output/H1_std/RF_ecfp_scaffold_regression/5181fa4f-0e8c-44f4-b569-987ecab16897/model_metrics.json\n"
          ],
          "name": "stderr"
        },
        {
          "output_type": "stream",
          "text": [
            "Wrote model tarball to ampl_output/H1_std_model_5181fa4f-0e8c-44f4-b569-987ecab16897.tar.gz\n",
            "rf_estimators: 128, rf_max_depth: 16, rf_max_features: 32, valid_r2: 0.41577145483419675\n",
            "number of features: 1024\n"
          ],
          "name": "stdout"
        },
        {
          "output_type": "stream",
          "text": [
            "2021-03-25 21:26:24,155 Previous dataset split restored\n"
          ],
          "name": "stderr"
        },
        {
          "output_type": "stream",
          "text": [
            "n_cnt [1358.]\n",
            "y_means [6.59994988]\n",
            "y_stds [1.29836641]\n",
            "TIMING: dataset construction took 0.075 s\n",
            "Loading dataset from disk.\n",
            "TIMING: dataset construction took 0.017 s\n",
            "Loading dataset from disk.\n",
            "TIMING: dataset construction took 0.017 s\n",
            "Loading dataset from disk.\n"
          ],
          "name": "stdout"
        },
        {
          "output_type": "stream",
          "text": [
            "2021-03-25 21:26:26,087 Wrote model metadata to file ampl_output/H1_std/RF_ecfp_scaffold_regression/ff48594e-df99-4a89-ba84-3078e489c6a9/model_metadata.json\n",
            "2021-03-25 21:26:26,179 Wrote model metrics to file ampl_output/H1_std/RF_ecfp_scaffold_regression/ff48594e-df99-4a89-ba84-3078e489c6a9/model_metrics.json\n"
          ],
          "name": "stderr"
        },
        {
          "output_type": "stream",
          "text": [
            "Wrote model tarball to ampl_output/H1_std_model_ff48594e-df99-4a89-ba84-3078e489c6a9.tar.gz\n",
            "rf_estimators: 128, rf_max_depth: 16, rf_max_features: 64, valid_r2: 0.45186228475514534\n",
            "number of features: 1024\n"
          ],
          "name": "stdout"
        },
        {
          "output_type": "stream",
          "text": [
            "2021-03-25 21:26:33,789 Previous dataset split restored\n"
          ],
          "name": "stderr"
        },
        {
          "output_type": "stream",
          "text": [
            "n_cnt [1358.]\n",
            "y_means [6.59994988]\n",
            "y_stds [1.29836641]\n",
            "TIMING: dataset construction took 0.077 s\n",
            "Loading dataset from disk.\n",
            "TIMING: dataset construction took 0.016 s\n",
            "Loading dataset from disk.\n",
            "TIMING: dataset construction took 0.020 s\n",
            "Loading dataset from disk.\n"
          ],
          "name": "stdout"
        },
        {
          "output_type": "stream",
          "text": [
            "2021-03-25 21:26:36,037 Wrote model metadata to file ampl_output/H1_std/RF_ecfp_scaffold_regression/65182e40-8172-4aa1-a2b0-f5f8bfacc191/model_metadata.json\n",
            "2021-03-25 21:26:36,152 Wrote model metrics to file ampl_output/H1_std/RF_ecfp_scaffold_regression/65182e40-8172-4aa1-a2b0-f5f8bfacc191/model_metrics.json\n"
          ],
          "name": "stderr"
        },
        {
          "output_type": "stream",
          "text": [
            "Wrote model tarball to ampl_output/H1_std_model_65182e40-8172-4aa1-a2b0-f5f8bfacc191.tar.gz\n",
            "rf_estimators: 128, rf_max_depth: 16, rf_max_features: 128, valid_r2: 0.45139745556013244\n",
            "number of features: 1024\n"
          ],
          "name": "stdout"
        },
        {
          "output_type": "stream",
          "text": [
            "2021-03-25 21:26:44,007 Previous dataset split restored\n"
          ],
          "name": "stderr"
        },
        {
          "output_type": "stream",
          "text": [
            "n_cnt [1358.]\n",
            "y_means [6.59994988]\n",
            "y_stds [1.29836641]\n",
            "TIMING: dataset construction took 0.073 s\n",
            "Loading dataset from disk.\n",
            "TIMING: dataset construction took 0.014 s\n",
            "Loading dataset from disk.\n",
            "TIMING: dataset construction took 0.015 s\n",
            "Loading dataset from disk.\n"
          ],
          "name": "stdout"
        },
        {
          "output_type": "stream",
          "text": [
            "2021-03-25 21:26:45,797 Wrote model metadata to file ampl_output/H1_std/RF_ecfp_scaffold_regression/ae86f5de-b018-45fb-92e2-fa718cf5f3ee/model_metadata.json\n",
            "2021-03-25 21:26:45,936 Wrote model metrics to file ampl_output/H1_std/RF_ecfp_scaffold_regression/ae86f5de-b018-45fb-92e2-fa718cf5f3ee/model_metrics.json\n"
          ],
          "name": "stderr"
        },
        {
          "output_type": "stream",
          "text": [
            "Wrote model tarball to ampl_output/H1_std_model_ae86f5de-b018-45fb-92e2-fa718cf5f3ee.tar.gz\n",
            "rf_estimators: 128, rf_max_depth: 32, rf_max_features: 16, valid_r2: 0.43796124920647417\n",
            "number of features: 1024\n"
          ],
          "name": "stdout"
        },
        {
          "output_type": "stream",
          "text": [
            "2021-03-25 21:26:53,475 Previous dataset split restored\n"
          ],
          "name": "stderr"
        },
        {
          "output_type": "stream",
          "text": [
            "n_cnt [1358.]\n",
            "y_means [6.59994988]\n",
            "y_stds [1.29836641]\n",
            "TIMING: dataset construction took 0.074 s\n",
            "Loading dataset from disk.\n",
            "TIMING: dataset construction took 0.015 s\n",
            "Loading dataset from disk.\n",
            "TIMING: dataset construction took 0.016 s\n",
            "Loading dataset from disk.\n"
          ],
          "name": "stdout"
        },
        {
          "output_type": "stream",
          "text": [
            "2021-03-25 21:26:55,378 Wrote model metadata to file ampl_output/H1_std/RF_ecfp_scaffold_regression/2cbbfc4c-76ba-415c-beea-f39f91ca8a8a/model_metadata.json\n",
            "2021-03-25 21:26:55,520 Wrote model metrics to file ampl_output/H1_std/RF_ecfp_scaffold_regression/2cbbfc4c-76ba-415c-beea-f39f91ca8a8a/model_metrics.json\n"
          ],
          "name": "stderr"
        },
        {
          "output_type": "stream",
          "text": [
            "Wrote model tarball to ampl_output/H1_std_model_2cbbfc4c-76ba-415c-beea-f39f91ca8a8a.tar.gz\n",
            "rf_estimators: 128, rf_max_depth: 32, rf_max_features: 32, valid_r2: 0.4316094263301882\n",
            "number of features: 1024\n"
          ],
          "name": "stdout"
        },
        {
          "output_type": "stream",
          "text": [
            "2021-03-25 21:27:03,086 Previous dataset split restored\n"
          ],
          "name": "stderr"
        },
        {
          "output_type": "stream",
          "text": [
            "n_cnt [1358.]\n",
            "y_means [6.59994988]\n",
            "y_stds [1.29836641]\n",
            "TIMING: dataset construction took 0.072 s\n",
            "Loading dataset from disk.\n",
            "TIMING: dataset construction took 0.016 s\n",
            "Loading dataset from disk.\n",
            "TIMING: dataset construction took 0.022 s\n",
            "Loading dataset from disk.\n"
          ],
          "name": "stdout"
        },
        {
          "output_type": "stream",
          "text": [
            "2021-03-25 21:27:05,164 Wrote model metadata to file ampl_output/H1_std/RF_ecfp_scaffold_regression/22501642-ffb5-410d-ad94-e06bab5c4d8f/model_metadata.json\n",
            "2021-03-25 21:27:05,310 Wrote model metrics to file ampl_output/H1_std/RF_ecfp_scaffold_regression/22501642-ffb5-410d-ad94-e06bab5c4d8f/model_metrics.json\n"
          ],
          "name": "stderr"
        },
        {
          "output_type": "stream",
          "text": [
            "Wrote model tarball to ampl_output/H1_std_model_22501642-ffb5-410d-ad94-e06bab5c4d8f.tar.gz\n",
            "rf_estimators: 128, rf_max_depth: 32, rf_max_features: 64, valid_r2: 0.4596155753427358\n",
            "number of features: 1024\n"
          ],
          "name": "stdout"
        },
        {
          "output_type": "stream",
          "text": [
            "2021-03-25 21:27:12,866 Previous dataset split restored\n"
          ],
          "name": "stderr"
        },
        {
          "output_type": "stream",
          "text": [
            "n_cnt [1358.]\n",
            "y_means [6.59994988]\n",
            "y_stds [1.29836641]\n",
            "TIMING: dataset construction took 0.070 s\n",
            "Loading dataset from disk.\n",
            "TIMING: dataset construction took 0.017 s\n",
            "Loading dataset from disk.\n",
            "TIMING: dataset construction took 0.016 s\n",
            "Loading dataset from disk.\n"
          ],
          "name": "stdout"
        },
        {
          "output_type": "stream",
          "text": [
            "2021-03-25 21:27:15,014 Wrote model metadata to file ampl_output/H1_std/RF_ecfp_scaffold_regression/03f630b2-2a9a-4b73-b68e-ba47d1539c00/model_metadata.json\n",
            "2021-03-25 21:27:15,164 Wrote model metrics to file ampl_output/H1_std/RF_ecfp_scaffold_regression/03f630b2-2a9a-4b73-b68e-ba47d1539c00/model_metrics.json\n"
          ],
          "name": "stderr"
        },
        {
          "output_type": "stream",
          "text": [
            "Wrote model tarball to ampl_output/H1_std_model_03f630b2-2a9a-4b73-b68e-ba47d1539c00.tar.gz\n",
            "rf_estimators: 128, rf_max_depth: 32, rf_max_features: 128, valid_r2: 0.4789595433456071\n",
            "number of features: 1024\n"
          ],
          "name": "stdout"
        },
        {
          "output_type": "stream",
          "text": [
            "2021-03-25 21:27:22,679 Previous dataset split restored\n"
          ],
          "name": "stderr"
        },
        {
          "output_type": "stream",
          "text": [
            "n_cnt [1358.]\n",
            "y_means [6.59994988]\n",
            "y_stds [1.29836641]\n",
            "TIMING: dataset construction took 0.069 s\n",
            "Loading dataset from disk.\n",
            "TIMING: dataset construction took 0.016 s\n",
            "Loading dataset from disk.\n",
            "TIMING: dataset construction took 0.016 s\n",
            "Loading dataset from disk.\n"
          ],
          "name": "stdout"
        },
        {
          "output_type": "stream",
          "text": [
            "2021-03-25 21:27:24,470 Wrote model metadata to file ampl_output/H1_std/RF_ecfp_scaffold_regression/f7db33c3-33dd-4c7c-94f1-761b033315b8/model_metadata.json\n",
            "2021-03-25 21:27:24,610 Wrote model metrics to file ampl_output/H1_std/RF_ecfp_scaffold_regression/f7db33c3-33dd-4c7c-94f1-761b033315b8/model_metrics.json\n"
          ],
          "name": "stderr"
        },
        {
          "output_type": "stream",
          "text": [
            "Wrote model tarball to ampl_output/H1_std_model_f7db33c3-33dd-4c7c-94f1-761b033315b8.tar.gz\n",
            "rf_estimators: 128, rf_max_depth: 64, rf_max_features: 16, valid_r2: 0.4187150216722433\n",
            "number of features: 1024\n"
          ],
          "name": "stdout"
        },
        {
          "output_type": "stream",
          "text": [
            "2021-03-25 21:27:32,608 Previous dataset split restored\n"
          ],
          "name": "stderr"
        },
        {
          "output_type": "stream",
          "text": [
            "n_cnt [1358.]\n",
            "y_means [6.59994988]\n",
            "y_stds [1.29836641]\n",
            "TIMING: dataset construction took 0.088 s\n",
            "Loading dataset from disk.\n",
            "TIMING: dataset construction took 0.020 s\n",
            "Loading dataset from disk.\n",
            "TIMING: dataset construction took 0.021 s\n",
            "Loading dataset from disk.\n"
          ],
          "name": "stdout"
        },
        {
          "output_type": "stream",
          "text": [
            "2021-03-25 21:27:34,936 Wrote model metadata to file ampl_output/H1_std/RF_ecfp_scaffold_regression/5f2ffc54-b27a-4e2c-9c52-92584c98f376/model_metadata.json\n",
            "2021-03-25 21:27:35,104 Wrote model metrics to file ampl_output/H1_std/RF_ecfp_scaffold_regression/5f2ffc54-b27a-4e2c-9c52-92584c98f376/model_metrics.json\n"
          ],
          "name": "stderr"
        },
        {
          "output_type": "stream",
          "text": [
            "Wrote model tarball to ampl_output/H1_std_model_5f2ffc54-b27a-4e2c-9c52-92584c98f376.tar.gz\n",
            "rf_estimators: 128, rf_max_depth: 64, rf_max_features: 32, valid_r2: 0.4294621914152067\n",
            "number of features: 1024\n"
          ],
          "name": "stdout"
        },
        {
          "output_type": "stream",
          "text": [
            "2021-03-25 21:27:42,990 Previous dataset split restored\n"
          ],
          "name": "stderr"
        },
        {
          "output_type": "stream",
          "text": [
            "n_cnt [1358.]\n",
            "y_means [6.59994988]\n",
            "y_stds [1.29836641]\n",
            "TIMING: dataset construction took 0.070 s\n",
            "Loading dataset from disk.\n",
            "TIMING: dataset construction took 0.015 s\n",
            "Loading dataset from disk.\n",
            "TIMING: dataset construction took 0.016 s\n",
            "Loading dataset from disk.\n"
          ],
          "name": "stdout"
        },
        {
          "output_type": "stream",
          "text": [
            "2021-03-25 21:27:45,003 Wrote model metadata to file ampl_output/H1_std/RF_ecfp_scaffold_regression/277e5491-f62f-4b20-a67a-5bfd208fae73/model_metadata.json\n",
            "2021-03-25 21:27:45,142 Wrote model metrics to file ampl_output/H1_std/RF_ecfp_scaffold_regression/277e5491-f62f-4b20-a67a-5bfd208fae73/model_metrics.json\n"
          ],
          "name": "stderr"
        },
        {
          "output_type": "stream",
          "text": [
            "Wrote model tarball to ampl_output/H1_std_model_277e5491-f62f-4b20-a67a-5bfd208fae73.tar.gz\n",
            "rf_estimators: 128, rf_max_depth: 64, rf_max_features: 64, valid_r2: 0.44713395045702486\n",
            "number of features: 1024\n"
          ],
          "name": "stdout"
        },
        {
          "output_type": "stream",
          "text": [
            "2021-03-25 21:27:52,539 Previous dataset split restored\n"
          ],
          "name": "stderr"
        },
        {
          "output_type": "stream",
          "text": [
            "n_cnt [1358.]\n",
            "y_means [6.59994988]\n",
            "y_stds [1.29836641]\n",
            "TIMING: dataset construction took 0.067 s\n",
            "Loading dataset from disk.\n",
            "TIMING: dataset construction took 0.014 s\n",
            "Loading dataset from disk.\n",
            "TIMING: dataset construction took 0.015 s\n",
            "Loading dataset from disk.\n"
          ],
          "name": "stdout"
        },
        {
          "output_type": "stream",
          "text": [
            "2021-03-25 21:27:54,760 Wrote model metadata to file ampl_output/H1_std/RF_ecfp_scaffold_regression/68fec2ba-0658-4aa7-bd0b-b7fb9fdfb952/model_metadata.json\n",
            "2021-03-25 21:27:54,917 Wrote model metrics to file ampl_output/H1_std/RF_ecfp_scaffold_regression/68fec2ba-0658-4aa7-bd0b-b7fb9fdfb952/model_metrics.json\n"
          ],
          "name": "stderr"
        },
        {
          "output_type": "stream",
          "text": [
            "Wrote model tarball to ampl_output/H1_std_model_68fec2ba-0658-4aa7-bd0b-b7fb9fdfb952.tar.gz\n",
            "rf_estimators: 128, rf_max_depth: 64, rf_max_features: 128, valid_r2: 0.4412568505610289\n",
            "number of features: 1024\n"
          ],
          "name": "stdout"
        },
        {
          "output_type": "stream",
          "text": [
            "2021-03-25 21:28:02,810 Previous dataset split restored\n"
          ],
          "name": "stderr"
        },
        {
          "output_type": "stream",
          "text": [
            "n_cnt [1358.]\n",
            "y_means [6.59994988]\n",
            "y_stds [1.29836641]\n",
            "TIMING: dataset construction took 0.084 s\n",
            "Loading dataset from disk.\n",
            "TIMING: dataset construction took 0.015 s\n",
            "Loading dataset from disk.\n",
            "TIMING: dataset construction took 0.019 s\n",
            "Loading dataset from disk.\n"
          ],
          "name": "stdout"
        },
        {
          "output_type": "stream",
          "text": [
            "2021-03-25 21:28:04,848 Wrote model metadata to file ampl_output/H1_std/RF_ecfp_scaffold_regression/f439b43c-693d-41eb-9294-480985b88287/model_metadata.json\n",
            "2021-03-25 21:28:04,992 Wrote model metrics to file ampl_output/H1_std/RF_ecfp_scaffold_regression/f439b43c-693d-41eb-9294-480985b88287/model_metrics.json\n"
          ],
          "name": "stderr"
        },
        {
          "output_type": "stream",
          "text": [
            "Wrote model tarball to ampl_output/H1_std_model_f439b43c-693d-41eb-9294-480985b88287.tar.gz\n",
            "rf_estimators: 128, rf_max_depth: 128, rf_max_features: 16, valid_r2: 0.39962117254489093\n",
            "number of features: 1024\n"
          ],
          "name": "stdout"
        },
        {
          "output_type": "stream",
          "text": [
            "2021-03-25 21:28:12,916 Previous dataset split restored\n"
          ],
          "name": "stderr"
        },
        {
          "output_type": "stream",
          "text": [
            "n_cnt [1358.]\n",
            "y_means [6.59994988]\n",
            "y_stds [1.29836641]\n",
            "TIMING: dataset construction took 0.072 s\n",
            "Loading dataset from disk.\n",
            "TIMING: dataset construction took 0.015 s\n",
            "Loading dataset from disk.\n",
            "TIMING: dataset construction took 0.014 s\n",
            "Loading dataset from disk.\n"
          ],
          "name": "stdout"
        },
        {
          "output_type": "stream",
          "text": [
            "2021-03-25 21:28:14,847 Wrote model metadata to file ampl_output/H1_std/RF_ecfp_scaffold_regression/63e29c1f-f730-4132-9d68-de5642666f41/model_metadata.json\n",
            "2021-03-25 21:28:15,000 Wrote model metrics to file ampl_output/H1_std/RF_ecfp_scaffold_regression/63e29c1f-f730-4132-9d68-de5642666f41/model_metrics.json\n"
          ],
          "name": "stderr"
        },
        {
          "output_type": "stream",
          "text": [
            "Wrote model tarball to ampl_output/H1_std_model_63e29c1f-f730-4132-9d68-de5642666f41.tar.gz\n",
            "rf_estimators: 128, rf_max_depth: 128, rf_max_features: 32, valid_r2: 0.4174554697302405\n",
            "number of features: 1024\n"
          ],
          "name": "stdout"
        },
        {
          "output_type": "stream",
          "text": [
            "2021-03-25 21:28:22,606 Previous dataset split restored\n"
          ],
          "name": "stderr"
        },
        {
          "output_type": "stream",
          "text": [
            "n_cnt [1358.]\n",
            "y_means [6.59994988]\n",
            "y_stds [1.29836641]\n",
            "TIMING: dataset construction took 0.073 s\n",
            "Loading dataset from disk.\n",
            "TIMING: dataset construction took 0.016 s\n",
            "Loading dataset from disk.\n",
            "TIMING: dataset construction took 0.015 s\n",
            "Loading dataset from disk.\n"
          ],
          "name": "stdout"
        },
        {
          "output_type": "stream",
          "text": [
            "2021-03-25 21:28:24,652 Wrote model metadata to file ampl_output/H1_std/RF_ecfp_scaffold_regression/2ea7533e-b075-49a2-9745-ed3b974828e2/model_metadata.json\n",
            "2021-03-25 21:28:24,793 Wrote model metrics to file ampl_output/H1_std/RF_ecfp_scaffold_regression/2ea7533e-b075-49a2-9745-ed3b974828e2/model_metrics.json\n"
          ],
          "name": "stderr"
        },
        {
          "output_type": "stream",
          "text": [
            "Wrote model tarball to ampl_output/H1_std_model_2ea7533e-b075-49a2-9745-ed3b974828e2.tar.gz\n",
            "rf_estimators: 128, rf_max_depth: 128, rf_max_features: 64, valid_r2: 0.4546863739574075\n",
            "number of features: 1024\n"
          ],
          "name": "stdout"
        },
        {
          "output_type": "stream",
          "text": [
            "2021-03-25 21:28:32,312 Previous dataset split restored\n"
          ],
          "name": "stderr"
        },
        {
          "output_type": "stream",
          "text": [
            "n_cnt [1358.]\n",
            "y_means [6.59994988]\n",
            "y_stds [1.29836641]\n",
            "TIMING: dataset construction took 0.067 s\n",
            "Loading dataset from disk.\n",
            "TIMING: dataset construction took 0.015 s\n",
            "Loading dataset from disk.\n",
            "TIMING: dataset construction took 0.016 s\n",
            "Loading dataset from disk.\n"
          ],
          "name": "stdout"
        },
        {
          "output_type": "stream",
          "text": [
            "2021-03-25 21:28:34,441 Wrote model metadata to file ampl_output/H1_std/RF_ecfp_scaffold_regression/77ec86ab-87cc-43a3-93a3-22ca6b2d87a4/model_metadata.json\n",
            "2021-03-25 21:28:34,580 Wrote model metrics to file ampl_output/H1_std/RF_ecfp_scaffold_regression/77ec86ab-87cc-43a3-93a3-22ca6b2d87a4/model_metrics.json\n"
          ],
          "name": "stderr"
        },
        {
          "output_type": "stream",
          "text": [
            "Wrote model tarball to ampl_output/H1_std_model_77ec86ab-87cc-43a3-93a3-22ca6b2d87a4.tar.gz\n",
            "rf_estimators: 128, rf_max_depth: 128, rf_max_features: 128, valid_r2: 0.4739461661466363\n"
          ],
          "name": "stdout"
        }
      ]
    },
    {
      "cell_type": "code",
      "metadata": {
        "id": "XSDa2HTH6wbD",
        "outputId": "097e8d99-c0a7-41a0-a135-9cc0042e34c8",
        "colab": {
          "base_uri": "https://localhost:8080/",
          "height": 407
        }
      },
      "source": [
        "perf_df = pd.DataFrame({\"rf_estimators\": rfe_list, \"rf_max_depth\": rfd_list, \"rf_max_features\": rff_list, \"valid_r2_score\": valid_r2_list})\n",
        "perf_df.sort_values(by=\"valid_r2_score\", ascending=False)"
      ],
      "execution_count": 21,
      "outputs": [
        {
          "output_type": "execute_result",
          "data": {
            "text/html": [
              "<div>\n",
              "<style scoped>\n",
              "    .dataframe tbody tr th:only-of-type {\n",
              "        vertical-align: middle;\n",
              "    }\n",
              "\n",
              "    .dataframe tbody tr th {\n",
              "        vertical-align: top;\n",
              "    }\n",
              "\n",
              "    .dataframe thead th {\n",
              "        text-align: right;\n",
              "    }\n",
              "</style>\n",
              "<table border=\"1\" class=\"dataframe\">\n",
              "  <thead>\n",
              "    <tr style=\"text-align: right;\">\n",
              "      <th></th>\n",
              "      <th>rf_estimators</th>\n",
              "      <th>rf_max_depth</th>\n",
              "      <th>rf_max_features</th>\n",
              "      <th>valid_r2_score</th>\n",
              "    </tr>\n",
              "  </thead>\n",
              "  <tbody>\n",
              "    <tr>\n",
              "      <th>55</th>\n",
              "      <td>128</td>\n",
              "      <td>32</td>\n",
              "      <td>128</td>\n",
              "      <td>0.478960</td>\n",
              "    </tr>\n",
              "    <tr>\n",
              "      <th>63</th>\n",
              "      <td>128</td>\n",
              "      <td>128</td>\n",
              "      <td>128</td>\n",
              "      <td>0.473946</td>\n",
              "    </tr>\n",
              "    <tr>\n",
              "      <th>19</th>\n",
              "      <td>32</td>\n",
              "      <td>16</td>\n",
              "      <td>128</td>\n",
              "      <td>0.470190</td>\n",
              "    </tr>\n",
              "    <tr>\n",
              "      <th>11</th>\n",
              "      <td>16</td>\n",
              "      <td>64</td>\n",
              "      <td>128</td>\n",
              "      <td>0.468356</td>\n",
              "    </tr>\n",
              "    <tr>\n",
              "      <th>23</th>\n",
              "      <td>32</td>\n",
              "      <td>32</td>\n",
              "      <td>128</td>\n",
              "      <td>0.461676</td>\n",
              "    </tr>\n",
              "    <tr>\n",
              "      <th>...</th>\n",
              "      <td>...</td>\n",
              "      <td>...</td>\n",
              "      <td>...</td>\n",
              "      <td>...</td>\n",
              "    </tr>\n",
              "    <tr>\n",
              "      <th>32</th>\n",
              "      <td>64</td>\n",
              "      <td>16</td>\n",
              "      <td>16</td>\n",
              "      <td>0.352474</td>\n",
              "    </tr>\n",
              "    <tr>\n",
              "      <th>1</th>\n",
              "      <td>16</td>\n",
              "      <td>16</td>\n",
              "      <td>32</td>\n",
              "      <td>0.350530</td>\n",
              "    </tr>\n",
              "    <tr>\n",
              "      <th>4</th>\n",
              "      <td>16</td>\n",
              "      <td>32</td>\n",
              "      <td>16</td>\n",
              "      <td>0.341084</td>\n",
              "    </tr>\n",
              "    <tr>\n",
              "      <th>12</th>\n",
              "      <td>16</td>\n",
              "      <td>128</td>\n",
              "      <td>16</td>\n",
              "      <td>0.325659</td>\n",
              "    </tr>\n",
              "    <tr>\n",
              "      <th>16</th>\n",
              "      <td>32</td>\n",
              "      <td>16</td>\n",
              "      <td>16</td>\n",
              "      <td>0.323615</td>\n",
              "    </tr>\n",
              "  </tbody>\n",
              "</table>\n",
              "<p>64 rows × 4 columns</p>\n",
              "</div>"
            ],
            "text/plain": [
              "    rf_estimators  rf_max_depth  rf_max_features  valid_r2_score\n",
              "55            128            32              128        0.478960\n",
              "63            128           128              128        0.473946\n",
              "19             32            16              128        0.470190\n",
              "11             16            64              128        0.468356\n",
              "23             32            32              128        0.461676\n",
              "..            ...           ...              ...             ...\n",
              "32             64            16               16        0.352474\n",
              "1              16            16               32        0.350530\n",
              "4              16            32               16        0.341084\n",
              "12             16           128               16        0.325659\n",
              "16             32            16               16        0.323615\n",
              "\n",
              "[64 rows x 4 columns]"
            ]
          },
          "metadata": {
            "tags": []
          },
          "execution_count": 21
        }
      ]
    },
    {
      "cell_type": "code",
      "metadata": {
        "id": "9bVXltSu6z0f",
        "outputId": "f22a58a6-0240-4da2-fbb1-0c4234f99f00",
        "colab": {
          "base_uri": "https://localhost:8080/",
          "height": 483
        }
      },
      "source": [
        "fig, ax = plt.subplots(1,3,figsize=(21,7))\n",
        "sns.boxplot(data=perf_df, x=\"rf_estimators\", y=\"valid_r2_score\", ax=ax[0])\n",
        "sns.boxplot(data=perf_df, x=\"rf_max_depth\", y=\"valid_r2_score\", ax=ax[1])\n",
        "sns.boxplot(data=perf_df, x=\"rf_max_features\", y=\"valid_r2_score\", ax=ax[2])\n",
        "fig.tight_layout()"
      ],
      "execution_count": 22,
      "outputs": [
        {
          "output_type": "display_data",
          "data": {
            "image/png": "[encoded data removed]",
            "text/plain": [
              "<Figure size 1512x504 with 3 Axes>"
            ]
          },
          "metadata": {
            "tags": []
          }
        }
      ]
    },
    {
      "cell_type": "markdown",
      "metadata": {
        "id": "qpAq__JA61wy"
      },
      "source": [
        "### Random search"
      ]
    },
    {
      "cell_type": "code",
      "metadata": {
        "id": "LMNkU4rs648c",
        "outputId": "cbaa8f16-f6d3-4f0f-bd26-c1d219727611",
        "colab": {
          "base_uri": "https://localhost:8080/"
        }
      },
      "source": [
        "rfe_list = []\n",
        "rfd_list = []\n",
        "rff_list = []\n",
        "valid_r2_list = []\n",
        "\n",
        "num_trials = 50\n",
        "\n",
        "for i in range(num_trials):\n",
        "    params[\"rf_estimators\"] = np.random.randint(8,256)\n",
        "    params[\"rf_max_depth\"] = np.random.randint(8,256)\n",
        "    params[\"rf_max_features\"] = np.random.randint(8,256)\n",
        "    rfe_list.append(params[\"rf_estimators\"])\n",
        "    rfd_list.append(params[\"rf_max_depth\"])\n",
        "    rff_list.append(params[\"rf_max_features\"])\n",
        "    tp = parse.wrapper(params)\n",
        "    pl = mp.ModelPipeline(tp)\n",
        "    pl.train_model()\n",
        "    pred_data = pl.model_wrapper.get_perf_data(subset=\"valid\", epoch_label=\"best\")\n",
        "    pred_results = pred_data.get_prediction_results()\n",
        "    valid_r2 = pred_results['r2_score']\n",
        "    valid_r2_list.append(valid_r2)\n",
        "    print(f\"rf_estimators: {rf_estimator}, rf_max_depth: {rf_depth}, rf_max_features: {rf_feature}, valid_r2: {valid_r2}\")"
      ],
      "execution_count": 23,
      "outputs": [
        {
          "output_type": "stream",
          "text": [
            "number of features: 1024\n"
          ],
          "name": "stdout"
        },
        {
          "output_type": "stream",
          "text": [
            "2021-03-25 21:28:43,025 Previous dataset split restored\n"
          ],
          "name": "stderr"
        },
        {
          "output_type": "stream",
          "text": [
            "n_cnt [1358.]\n",
            "y_means [6.59994988]\n",
            "y_stds [1.29836641]\n",
            "TIMING: dataset construction took 0.069 s\n",
            "Loading dataset from disk.\n",
            "TIMING: dataset construction took 0.017 s\n",
            "Loading dataset from disk.\n",
            "TIMING: dataset construction took 0.015 s\n",
            "Loading dataset from disk.\n"
          ],
          "name": "stdout"
        },
        {
          "output_type": "stream",
          "text": [
            "2021-03-25 21:28:44,672 Wrote model metadata to file ampl_output/H1_std/RF_ecfp_scaffold_regression/73f8795d-ae24-4ad6-94ad-49461ec16702/model_metadata.json\n",
            "2021-03-25 21:28:44,755 Wrote model metrics to file ampl_output/H1_std/RF_ecfp_scaffold_regression/73f8795d-ae24-4ad6-94ad-49461ec16702/model_metrics.json\n"
          ],
          "name": "stderr"
        },
        {
          "output_type": "stream",
          "text": [
            "Wrote model tarball to ampl_output/H1_std_model_73f8795d-ae24-4ad6-94ad-49461ec16702.tar.gz\n",
            "rf_estimators: 128, rf_max_depth: 128, rf_max_features: 128, valid_r2: 0.4531709372933693\n",
            "number of features: 1024\n"
          ],
          "name": "stdout"
        },
        {
          "output_type": "stream",
          "text": [
            "2021-03-25 21:28:52,855 Previous dataset split restored\n"
          ],
          "name": "stderr"
        },
        {
          "output_type": "stream",
          "text": [
            "n_cnt [1358.]\n",
            "y_means [6.59994988]\n",
            "y_stds [1.29836641]\n",
            "TIMING: dataset construction took 0.070 s\n",
            "Loading dataset from disk.\n",
            "TIMING: dataset construction took 0.016 s\n",
            "Loading dataset from disk.\n",
            "TIMING: dataset construction took 0.016 s\n",
            "Loading dataset from disk.\n"
          ],
          "name": "stdout"
        },
        {
          "output_type": "stream",
          "text": [
            "2021-03-25 21:28:54,316 Wrote model metadata to file ampl_output/H1_std/RF_ecfp_scaffold_regression/08516509-0cb9-4f82-aad5-135572275db3/model_metadata.json\n",
            "2021-03-25 21:28:54,368 Wrote model metrics to file ampl_output/H1_std/RF_ecfp_scaffold_regression/08516509-0cb9-4f82-aad5-135572275db3/model_metrics.json\n"
          ],
          "name": "stderr"
        },
        {
          "output_type": "stream",
          "text": [
            "Wrote model tarball to ampl_output/H1_std_model_08516509-0cb9-4f82-aad5-135572275db3.tar.gz\n",
            "rf_estimators: 128, rf_max_depth: 128, rf_max_features: 128, valid_r2: 0.44850337544269825\n",
            "number of features: 1024\n"
          ],
          "name": "stdout"
        },
        {
          "output_type": "stream",
          "text": [
            "2021-03-25 21:29:02,017 Previous dataset split restored\n"
          ],
          "name": "stderr"
        },
        {
          "output_type": "stream",
          "text": [
            "n_cnt [1358.]\n",
            "y_means [6.59994988]\n",
            "y_stds [1.29836641]\n",
            "TIMING: dataset construction took 0.069 s\n",
            "Loading dataset from disk.\n",
            "TIMING: dataset construction took 0.015 s\n",
            "Loading dataset from disk.\n",
            "TIMING: dataset construction took 0.014 s\n",
            "Loading dataset from disk.\n"
          ],
          "name": "stdout"
        },
        {
          "output_type": "stream",
          "text": [
            "2021-03-25 21:29:06,116 Wrote model metadata to file ampl_output/H1_std/RF_ecfp_scaffold_regression/833202d8-e159-4f3b-b28c-3a17a6d669c5/model_metadata.json\n",
            "2021-03-25 21:29:06,378 Wrote model metrics to file ampl_output/H1_std/RF_ecfp_scaffold_regression/833202d8-e159-4f3b-b28c-3a17a6d669c5/model_metrics.json\n"
          ],
          "name": "stderr"
        },
        {
          "output_type": "stream",
          "text": [
            "Wrote model tarball to ampl_output/H1_std_model_833202d8-e159-4f3b-b28c-3a17a6d669c5.tar.gz\n",
            "rf_estimators: 128, rf_max_depth: 128, rf_max_features: 128, valid_r2: 0.47399932932289135\n",
            "number of features: 1024\n"
          ],
          "name": "stdout"
        },
        {
          "output_type": "stream",
          "text": [
            "2021-03-25 21:29:14,232 Previous dataset split restored\n"
          ],
          "name": "stderr"
        },
        {
          "output_type": "stream",
          "text": [
            "n_cnt [1358.]\n",
            "y_means [6.59994988]\n",
            "y_stds [1.29836641]\n",
            "TIMING: dataset construction took 0.068 s\n",
            "Loading dataset from disk.\n",
            "TIMING: dataset construction took 0.015 s\n",
            "Loading dataset from disk.\n",
            "TIMING: dataset construction took 0.016 s\n",
            "Loading dataset from disk.\n"
          ],
          "name": "stdout"
        },
        {
          "output_type": "stream",
          "text": [
            "2021-03-25 21:29:17,136 Wrote model metadata to file ampl_output/H1_std/RF_ecfp_scaffold_regression/2fdc7fb2-ba97-4731-b669-bb8d48422ca9/model_metadata.json\n",
            "2021-03-25 21:29:17,332 Wrote model metrics to file ampl_output/H1_std/RF_ecfp_scaffold_regression/2fdc7fb2-ba97-4731-b669-bb8d48422ca9/model_metrics.json\n"
          ],
          "name": "stderr"
        },
        {
          "output_type": "stream",
          "text": [
            "Wrote model tarball to ampl_output/H1_std_model_2fdc7fb2-ba97-4731-b669-bb8d48422ca9.tar.gz\n",
            "rf_estimators: 128, rf_max_depth: 128, rf_max_features: 128, valid_r2: 0.4499585660191182\n",
            "number of features: 1024\n"
          ],
          "name": "stdout"
        },
        {
          "output_type": "stream",
          "text": [
            "2021-03-25 21:29:24,799 Previous dataset split restored\n"
          ],
          "name": "stderr"
        },
        {
          "output_type": "stream",
          "text": [
            "n_cnt [1358.]\n",
            "y_means [6.59994988]\n",
            "y_stds [1.29836641]\n",
            "TIMING: dataset construction took 0.079 s\n",
            "Loading dataset from disk.\n",
            "TIMING: dataset construction took 0.020 s\n",
            "Loading dataset from disk.\n",
            "TIMING: dataset construction took 0.021 s\n",
            "Loading dataset from disk.\n"
          ],
          "name": "stdout"
        },
        {
          "output_type": "stream",
          "text": [
            "2021-03-25 21:29:26,536 Wrote model metadata to file ampl_output/H1_std/RF_ecfp_scaffold_regression/1a1d21fb-402e-4727-86dc-4eea6bbcb6e8/model_metadata.json\n",
            "2021-03-25 21:29:26,635 Wrote model metrics to file ampl_output/H1_std/RF_ecfp_scaffold_regression/1a1d21fb-402e-4727-86dc-4eea6bbcb6e8/model_metrics.json\n"
          ],
          "name": "stderr"
        },
        {
          "output_type": "stream",
          "text": [
            "Wrote model tarball to ampl_output/H1_std_model_1a1d21fb-402e-4727-86dc-4eea6bbcb6e8.tar.gz\n",
            "rf_estimators: 128, rf_max_depth: 128, rf_max_features: 128, valid_r2: 0.4613329713579092\n",
            "number of features: 1024\n"
          ],
          "name": "stdout"
        },
        {
          "output_type": "stream",
          "text": [
            "2021-03-25 21:29:34,494 Previous dataset split restored\n"
          ],
          "name": "stderr"
        },
        {
          "output_type": "stream",
          "text": [
            "n_cnt [1358.]\n",
            "y_means [6.59994988]\n",
            "y_stds [1.29836641]\n",
            "TIMING: dataset construction took 0.068 s\n",
            "Loading dataset from disk.\n",
            "TIMING: dataset construction took 0.015 s\n",
            "Loading dataset from disk.\n",
            "TIMING: dataset construction took 0.015 s\n",
            "Loading dataset from disk.\n"
          ],
          "name": "stdout"
        },
        {
          "output_type": "stream",
          "text": [
            "2021-03-25 21:29:35,660 Wrote model metadata to file ampl_output/H1_std/RF_ecfp_scaffold_regression/0899c9bf-e494-4af2-8b95-5a56c1a250d1/model_metadata.json\n",
            "2021-03-25 21:29:35,678 Wrote model metrics to file ampl_output/H1_std/RF_ecfp_scaffold_regression/0899c9bf-e494-4af2-8b95-5a56c1a250d1/model_metrics.json\n"
          ],
          "name": "stderr"
        },
        {
          "output_type": "stream",
          "text": [
            "Wrote model tarball to ampl_output/H1_std_model_0899c9bf-e494-4af2-8b95-5a56c1a250d1.tar.gz\n",
            "rf_estimators: 128, rf_max_depth: 128, rf_max_features: 128, valid_r2: 0.2497576520046484\n",
            "number of features: 1024\n"
          ],
          "name": "stdout"
        },
        {
          "output_type": "stream",
          "text": [
            "2021-03-25 21:29:43,177 Previous dataset split restored\n"
          ],
          "name": "stderr"
        },
        {
          "output_type": "stream",
          "text": [
            "n_cnt [1358.]\n",
            "y_means [6.59994988]\n",
            "y_stds [1.29836641]\n",
            "TIMING: dataset construction took 0.069 s\n",
            "Loading dataset from disk.\n",
            "TIMING: dataset construction took 0.017 s\n",
            "Loading dataset from disk.\n",
            "TIMING: dataset construction took 0.015 s\n",
            "Loading dataset from disk.\n"
          ],
          "name": "stdout"
        },
        {
          "output_type": "stream",
          "text": [
            "2021-03-25 21:29:45,140 Wrote model metadata to file ampl_output/H1_std/RF_ecfp_scaffold_regression/f68f8bf5-9817-42f5-8c2f-d3b956d41d10/model_metadata.json\n",
            "2021-03-25 21:29:45,252 Wrote model metrics to file ampl_output/H1_std/RF_ecfp_scaffold_regression/f68f8bf5-9817-42f5-8c2f-d3b956d41d10/model_metrics.json\n"
          ],
          "name": "stderr"
        },
        {
          "output_type": "stream",
          "text": [
            "Wrote model tarball to ampl_output/H1_std_model_f68f8bf5-9817-42f5-8c2f-d3b956d41d10.tar.gz\n",
            "rf_estimators: 128, rf_max_depth: 128, rf_max_features: 128, valid_r2: 0.4702789789550772\n",
            "number of features: 1024\n"
          ],
          "name": "stdout"
        },
        {
          "output_type": "stream",
          "text": [
            "2021-03-25 21:29:52,826 Previous dataset split restored\n"
          ],
          "name": "stderr"
        },
        {
          "output_type": "stream",
          "text": [
            "n_cnt [1358.]\n",
            "y_means [6.59994988]\n",
            "y_stds [1.29836641]\n",
            "TIMING: dataset construction took 0.072 s\n",
            "Loading dataset from disk.\n",
            "TIMING: dataset construction took 0.014 s\n",
            "Loading dataset from disk.\n",
            "TIMING: dataset construction took 0.015 s\n",
            "Loading dataset from disk.\n"
          ],
          "name": "stdout"
        },
        {
          "output_type": "stream",
          "text": [
            "2021-03-25 21:29:56,704 Wrote model metadata to file ampl_output/H1_std/RF_ecfp_scaffold_regression/a06eb72a-26e4-481c-86f3-1a5fe5ea6727/model_metadata.json\n",
            "2021-03-25 21:29:56,960 Wrote model metrics to file ampl_output/H1_std/RF_ecfp_scaffold_regression/a06eb72a-26e4-481c-86f3-1a5fe5ea6727/model_metrics.json\n"
          ],
          "name": "stderr"
        },
        {
          "output_type": "stream",
          "text": [
            "Wrote model tarball to ampl_output/H1_std_model_a06eb72a-26e4-481c-86f3-1a5fe5ea6727.tar.gz\n",
            "rf_estimators: 128, rf_max_depth: 128, rf_max_features: 128, valid_r2: 0.44603258162083337\n",
            "number of features: 1024\n"
          ],
          "name": "stdout"
        },
        {
          "output_type": "stream",
          "text": [
            "2021-03-25 21:30:04,120 Previous dataset split restored\n"
          ],
          "name": "stderr"
        },
        {
          "output_type": "stream",
          "text": [
            "n_cnt [1358.]\n",
            "y_means [6.59994988]\n",
            "y_stds [1.29836641]\n",
            "TIMING: dataset construction took 0.073 s\n",
            "Loading dataset from disk.\n",
            "TIMING: dataset construction took 0.017 s\n",
            "Loading dataset from disk.\n",
            "TIMING: dataset construction took 0.020 s\n",
            "Loading dataset from disk.\n"
          ],
          "name": "stdout"
        },
        {
          "output_type": "stream",
          "text": [
            "2021-03-25 21:30:07,661 Wrote model metadata to file ampl_output/H1_std/RF_ecfp_scaffold_regression/fd29e20d-f0b0-439b-8ae3-38e5c2c42104/model_metadata.json\n",
            "2021-03-25 21:30:07,900 Wrote model metrics to file ampl_output/H1_std/RF_ecfp_scaffold_regression/fd29e20d-f0b0-439b-8ae3-38e5c2c42104/model_metrics.json\n"
          ],
          "name": "stderr"
        },
        {
          "output_type": "stream",
          "text": [
            "Wrote model tarball to ampl_output/H1_std_model_fd29e20d-f0b0-439b-8ae3-38e5c2c42104.tar.gz\n",
            "rf_estimators: 128, rf_max_depth: 128, rf_max_features: 128, valid_r2: 0.4552147943503363\n",
            "number of features: 1024\n"
          ],
          "name": "stdout"
        },
        {
          "output_type": "stream",
          "text": [
            "2021-03-25 21:30:15,237 Previous dataset split restored\n"
          ],
          "name": "stderr"
        },
        {
          "output_type": "stream",
          "text": [
            "n_cnt [1358.]\n",
            "y_means [6.59994988]\n",
            "y_stds [1.29836641]\n",
            "TIMING: dataset construction took 0.071 s\n",
            "Loading dataset from disk.\n",
            "TIMING: dataset construction took 0.018 s\n",
            "Loading dataset from disk.\n",
            "TIMING: dataset construction took 0.015 s\n",
            "Loading dataset from disk.\n"
          ],
          "name": "stdout"
        },
        {
          "output_type": "stream",
          "text": [
            "2021-03-25 21:30:17,716 Wrote model metadata to file ampl_output/H1_std/RF_ecfp_scaffold_regression/cfafd0b6-0e8c-4d8d-bc5e-c6cb0bcd3dc3/model_metadata.json\n",
            "2021-03-25 21:30:17,874 Wrote model metrics to file ampl_output/H1_std/RF_ecfp_scaffold_regression/cfafd0b6-0e8c-4d8d-bc5e-c6cb0bcd3dc3/model_metrics.json\n"
          ],
          "name": "stderr"
        },
        {
          "output_type": "stream",
          "text": [
            "Wrote model tarball to ampl_output/H1_std_model_cfafd0b6-0e8c-4d8d-bc5e-c6cb0bcd3dc3.tar.gz\n",
            "rf_estimators: 128, rf_max_depth: 128, rf_max_features: 128, valid_r2: 0.4488460883063443\n",
            "number of features: 1024\n"
          ],
          "name": "stdout"
        },
        {
          "output_type": "stream",
          "text": [
            "2021-03-25 21:30:24,908 Previous dataset split restored\n"
          ],
          "name": "stderr"
        },
        {
          "output_type": "stream",
          "text": [
            "n_cnt [1358.]\n",
            "y_means [6.59994988]\n",
            "y_stds [1.29836641]\n",
            "TIMING: dataset construction took 0.076 s\n",
            "Loading dataset from disk.\n",
            "TIMING: dataset construction took 0.017 s\n",
            "Loading dataset from disk.\n",
            "TIMING: dataset construction took 0.016 s\n",
            "Loading dataset from disk.\n"
          ],
          "name": "stdout"
        },
        {
          "output_type": "stream",
          "text": [
            "2021-03-25 21:30:27,464 Wrote model metadata to file ampl_output/H1_std/RF_ecfp_scaffold_regression/fe991881-69b9-46fb-89f8-678ad5d136ae/model_metadata.json\n",
            "2021-03-25 21:30:27,714 Wrote model metrics to file ampl_output/H1_std/RF_ecfp_scaffold_regression/fe991881-69b9-46fb-89f8-678ad5d136ae/model_metrics.json\n"
          ],
          "name": "stderr"
        },
        {
          "output_type": "stream",
          "text": [
            "Wrote model tarball to ampl_output/H1_std_model_fe991881-69b9-46fb-89f8-678ad5d136ae.tar.gz\n",
            "rf_estimators: 128, rf_max_depth: 128, rf_max_features: 128, valid_r2: 0.40345043692659377\n",
            "number of features: 1024\n"
          ],
          "name": "stdout"
        },
        {
          "output_type": "stream",
          "text": [
            "2021-03-25 21:30:34,804 Previous dataset split restored\n"
          ],
          "name": "stderr"
        },
        {
          "output_type": "stream",
          "text": [
            "n_cnt [1358.]\n",
            "y_means [6.59994988]\n",
            "y_stds [1.29836641]\n",
            "TIMING: dataset construction took 0.069 s\n",
            "Loading dataset from disk.\n",
            "TIMING: dataset construction took 0.015 s\n",
            "Loading dataset from disk.\n",
            "TIMING: dataset construction took 0.015 s\n",
            "Loading dataset from disk.\n"
          ],
          "name": "stdout"
        },
        {
          "output_type": "stream",
          "text": [
            "2021-03-25 21:30:36,536 Wrote model metadata to file ampl_output/H1_std/RF_ecfp_scaffold_regression/5e73e742-aad2-42ac-9f14-8bbab556ebf9/model_metadata.json\n",
            "2021-03-25 21:30:36,661 Wrote model metrics to file ampl_output/H1_std/RF_ecfp_scaffold_regression/5e73e742-aad2-42ac-9f14-8bbab556ebf9/model_metrics.json\n"
          ],
          "name": "stderr"
        },
        {
          "output_type": "stream",
          "text": [
            "Wrote model tarball to ampl_output/H1_std_model_5e73e742-aad2-42ac-9f14-8bbab556ebf9.tar.gz\n",
            "rf_estimators: 128, rf_max_depth: 128, rf_max_features: 128, valid_r2: 0.42163265809273465\n",
            "number of features: 1024\n"
          ],
          "name": "stdout"
        },
        {
          "output_type": "stream",
          "text": [
            "2021-03-25 21:30:43,727 Previous dataset split restored\n"
          ],
          "name": "stderr"
        },
        {
          "output_type": "stream",
          "text": [
            "n_cnt [1358.]\n",
            "y_means [6.59994988]\n",
            "y_stds [1.29836641]\n",
            "TIMING: dataset construction took 0.069 s\n",
            "Loading dataset from disk.\n",
            "TIMING: dataset construction took 0.015 s\n",
            "Loading dataset from disk.\n",
            "TIMING: dataset construction took 0.015 s\n",
            "Loading dataset from disk.\n"
          ],
          "name": "stdout"
        },
        {
          "output_type": "stream",
          "text": [
            "2021-03-25 21:30:45,972 Wrote model metadata to file ampl_output/H1_std/RF_ecfp_scaffold_regression/e6d9c472-ef92-47c2-b383-69fb344e799b/model_metadata.json\n",
            "2021-03-25 21:30:46,214 Wrote model metrics to file ampl_output/H1_std/RF_ecfp_scaffold_regression/e6d9c472-ef92-47c2-b383-69fb344e799b/model_metrics.json\n"
          ],
          "name": "stderr"
        },
        {
          "output_type": "stream",
          "text": [
            "Wrote model tarball to ampl_output/H1_std_model_e6d9c472-ef92-47c2-b383-69fb344e799b.tar.gz\n",
            "rf_estimators: 128, rf_max_depth: 128, rf_max_features: 128, valid_r2: 0.4315559251583866\n",
            "number of features: 1024\n"
          ],
          "name": "stdout"
        },
        {
          "output_type": "stream",
          "text": [
            "2021-03-25 21:30:53,338 Previous dataset split restored\n"
          ],
          "name": "stderr"
        },
        {
          "output_type": "stream",
          "text": [
            "n_cnt [1358.]\n",
            "y_means [6.59994988]\n",
            "y_stds [1.29836641]\n",
            "TIMING: dataset construction took 0.066 s\n",
            "Loading dataset from disk.\n",
            "TIMING: dataset construction took 0.016 s\n",
            "Loading dataset from disk.\n",
            "TIMING: dataset construction took 0.015 s\n",
            "Loading dataset from disk.\n"
          ],
          "name": "stdout"
        },
        {
          "output_type": "stream",
          "text": [
            "2021-03-25 21:30:56,224 Wrote model metadata to file ampl_output/H1_std/RF_ecfp_scaffold_regression/12666a0c-8a56-471f-b4c2-c43b771851d6/model_metadata.json\n",
            "2021-03-25 21:30:56,458 Wrote model metrics to file ampl_output/H1_std/RF_ecfp_scaffold_regression/12666a0c-8a56-471f-b4c2-c43b771851d6/model_metrics.json\n"
          ],
          "name": "stderr"
        },
        {
          "output_type": "stream",
          "text": [
            "Wrote model tarball to ampl_output/H1_std_model_12666a0c-8a56-471f-b4c2-c43b771851d6.tar.gz\n",
            "rf_estimators: 128, rf_max_depth: 128, rf_max_features: 128, valid_r2: 0.47736906187898775\n",
            "number of features: 1024\n"
          ],
          "name": "stdout"
        },
        {
          "output_type": "stream",
          "text": [
            "2021-03-25 21:31:03,451 Previous dataset split restored\n"
          ],
          "name": "stderr"
        },
        {
          "output_type": "stream",
          "text": [
            "n_cnt [1358.]\n",
            "y_means [6.59994988]\n",
            "y_stds [1.29836641]\n",
            "TIMING: dataset construction took 0.070 s\n",
            "Loading dataset from disk.\n",
            "TIMING: dataset construction took 0.014 s\n",
            "Loading dataset from disk.\n",
            "TIMING: dataset construction took 0.014 s\n",
            "Loading dataset from disk.\n"
          ],
          "name": "stdout"
        },
        {
          "output_type": "stream",
          "text": [
            "2021-03-25 21:31:04,963 Wrote model metadata to file ampl_output/H1_std/RF_ecfp_scaffold_regression/9495a830-8818-4d03-8730-953ded6b82a3/model_metadata.json\n",
            "2021-03-25 21:31:05,027 Wrote model metrics to file ampl_output/H1_std/RF_ecfp_scaffold_regression/9495a830-8818-4d03-8730-953ded6b82a3/model_metrics.json\n"
          ],
          "name": "stderr"
        },
        {
          "output_type": "stream",
          "text": [
            "Wrote model tarball to ampl_output/H1_std_model_9495a830-8818-4d03-8730-953ded6b82a3.tar.gz\n",
            "rf_estimators: 128, rf_max_depth: 128, rf_max_features: 128, valid_r2: 0.43560256365109173\n",
            "number of features: 1024\n"
          ],
          "name": "stdout"
        },
        {
          "output_type": "stream",
          "text": [
            "2021-03-25 21:31:12,031 Previous dataset split restored\n"
          ],
          "name": "stderr"
        },
        {
          "output_type": "stream",
          "text": [
            "n_cnt [1358.]\n",
            "y_means [6.59994988]\n",
            "y_stds [1.29836641]\n",
            "TIMING: dataset construction took 0.067 s\n",
            "Loading dataset from disk.\n",
            "TIMING: dataset construction took 0.014 s\n",
            "Loading dataset from disk.\n",
            "TIMING: dataset construction took 0.015 s\n",
            "Loading dataset from disk.\n"
          ],
          "name": "stdout"
        },
        {
          "output_type": "stream",
          "text": [
            "2021-03-25 21:31:13,713 Wrote model metadata to file ampl_output/H1_std/RF_ecfp_scaffold_regression/7d3d043a-29ea-4ebf-8052-56d2d41638b0/model_metadata.json\n",
            "2021-03-25 21:31:13,811 Wrote model metrics to file ampl_output/H1_std/RF_ecfp_scaffold_regression/7d3d043a-29ea-4ebf-8052-56d2d41638b0/model_metrics.json\n"
          ],
          "name": "stderr"
        },
        {
          "output_type": "stream",
          "text": [
            "Wrote model tarball to ampl_output/H1_std_model_7d3d043a-29ea-4ebf-8052-56d2d41638b0.tar.gz\n",
            "rf_estimators: 128, rf_max_depth: 128, rf_max_features: 128, valid_r2: 0.45249810956474734\n",
            "number of features: 1024\n"
          ],
          "name": "stdout"
        },
        {
          "output_type": "stream",
          "text": [
            "2021-03-25 21:31:20,835 Previous dataset split restored\n"
          ],
          "name": "stderr"
        },
        {
          "output_type": "stream",
          "text": [
            "n_cnt [1358.]\n",
            "y_means [6.59994988]\n",
            "y_stds [1.29836641]\n",
            "TIMING: dataset construction took 0.071 s\n",
            "Loading dataset from disk.\n",
            "TIMING: dataset construction took 0.014 s\n",
            "Loading dataset from disk.\n",
            "TIMING: dataset construction took 0.015 s\n",
            "Loading dataset from disk.\n"
          ],
          "name": "stdout"
        },
        {
          "output_type": "stream",
          "text": [
            "2021-03-25 21:31:23,429 Wrote model metadata to file ampl_output/H1_std/RF_ecfp_scaffold_regression/d8d7a556-63ac-4741-b087-6176df3716a4/model_metadata.json\n",
            "2021-03-25 21:31:23,673 Wrote model metrics to file ampl_output/H1_std/RF_ecfp_scaffold_regression/d8d7a556-63ac-4741-b087-6176df3716a4/model_metrics.json\n"
          ],
          "name": "stderr"
        },
        {
          "output_type": "stream",
          "text": [
            "Wrote model tarball to ampl_output/H1_std_model_d8d7a556-63ac-4741-b087-6176df3716a4.tar.gz\n",
            "rf_estimators: 128, rf_max_depth: 128, rf_max_features: 128, valid_r2: 0.45213495661857783\n",
            "number of features: 1024\n"
          ],
          "name": "stdout"
        },
        {
          "output_type": "stream",
          "text": [
            "2021-03-25 21:31:30,563 Previous dataset split restored\n"
          ],
          "name": "stderr"
        },
        {
          "output_type": "stream",
          "text": [
            "n_cnt [1358.]\n",
            "y_means [6.59994988]\n",
            "y_stds [1.29836641]\n",
            "TIMING: dataset construction took 0.067 s\n",
            "Loading dataset from disk.\n",
            "TIMING: dataset construction took 0.014 s\n",
            "Loading dataset from disk.\n",
            "TIMING: dataset construction took 0.014 s\n",
            "Loading dataset from disk.\n"
          ],
          "name": "stdout"
        },
        {
          "output_type": "stream",
          "text": [
            "2021-03-25 21:31:32,864 Wrote model metadata to file ampl_output/H1_std/RF_ecfp_scaffold_regression/00625d8b-9a56-40cf-97bd-661b0fa1c4dc/model_metadata.json\n",
            "2021-03-25 21:31:33,073 Wrote model metrics to file ampl_output/H1_std/RF_ecfp_scaffold_regression/00625d8b-9a56-40cf-97bd-661b0fa1c4dc/model_metrics.json\n"
          ],
          "name": "stderr"
        },
        {
          "output_type": "stream",
          "text": [
            "Wrote model tarball to ampl_output/H1_std_model_00625d8b-9a56-40cf-97bd-661b0fa1c4dc.tar.gz\n",
            "rf_estimators: 128, rf_max_depth: 128, rf_max_features: 128, valid_r2: 0.43456003110178554\n",
            "number of features: 1024\n"
          ],
          "name": "stdout"
        },
        {
          "output_type": "stream",
          "text": [
            "2021-03-25 21:31:39,966 Previous dataset split restored\n"
          ],
          "name": "stderr"
        },
        {
          "output_type": "stream",
          "text": [
            "n_cnt [1358.]\n",
            "y_means [6.59994988]\n",
            "y_stds [1.29836641]\n",
            "TIMING: dataset construction took 0.069 s\n",
            "Loading dataset from disk.\n",
            "TIMING: dataset construction took 0.015 s\n",
            "Loading dataset from disk.\n",
            "TIMING: dataset construction took 0.014 s\n",
            "Loading dataset from disk.\n"
          ],
          "name": "stdout"
        },
        {
          "output_type": "stream",
          "text": [
            "2021-03-25 21:31:42,489 Wrote model metadata to file ampl_output/H1_std/RF_ecfp_scaffold_regression/b46b723a-695c-42a7-bf86-995428650089/model_metadata.json\n",
            "2021-03-25 21:31:42,676 Wrote model metrics to file ampl_output/H1_std/RF_ecfp_scaffold_regression/b46b723a-695c-42a7-bf86-995428650089/model_metrics.json\n"
          ],
          "name": "stderr"
        },
        {
          "output_type": "stream",
          "text": [
            "Wrote model tarball to ampl_output/H1_std_model_b46b723a-695c-42a7-bf86-995428650089.tar.gz\n",
            "rf_estimators: 128, rf_max_depth: 128, rf_max_features: 128, valid_r2: 0.4402917394616547\n",
            "number of features: 1024\n"
          ],
          "name": "stdout"
        },
        {
          "output_type": "stream",
          "text": [
            "2021-03-25 21:31:49,811 Previous dataset split restored\n"
          ],
          "name": "stderr"
        },
        {
          "output_type": "stream",
          "text": [
            "n_cnt [1358.]\n",
            "y_means [6.59994988]\n",
            "y_stds [1.29836641]\n",
            "TIMING: dataset construction took 0.073 s\n",
            "Loading dataset from disk.\n",
            "TIMING: dataset construction took 0.015 s\n",
            "Loading dataset from disk.\n",
            "TIMING: dataset construction took 0.018 s\n",
            "Loading dataset from disk.\n"
          ],
          "name": "stdout"
        },
        {
          "output_type": "stream",
          "text": [
            "2021-03-25 21:31:53,899 Wrote model metadata to file ampl_output/H1_std/RF_ecfp_scaffold_regression/281eac13-adc3-49b4-8da3-ff76167faa32/model_metadata.json\n",
            "2021-03-25 21:31:54,176 Wrote model metrics to file ampl_output/H1_std/RF_ecfp_scaffold_regression/281eac13-adc3-49b4-8da3-ff76167faa32/model_metrics.json\n"
          ],
          "name": "stderr"
        },
        {
          "output_type": "stream",
          "text": [
            "Wrote model tarball to ampl_output/H1_std_model_281eac13-adc3-49b4-8da3-ff76167faa32.tar.gz\n",
            "rf_estimators: 128, rf_max_depth: 128, rf_max_features: 128, valid_r2: 0.4492675446987763\n",
            "number of features: 1024\n"
          ],
          "name": "stdout"
        },
        {
          "output_type": "stream",
          "text": [
            "2021-03-25 21:32:02,068 Previous dataset split restored\n"
          ],
          "name": "stderr"
        },
        {
          "output_type": "stream",
          "text": [
            "n_cnt [1358.]\n",
            "y_means [6.59994988]\n",
            "y_stds [1.29836641]\n",
            "TIMING: dataset construction took 0.086 s\n",
            "Loading dataset from disk.\n",
            "TIMING: dataset construction took 0.016 s\n",
            "Loading dataset from disk.\n",
            "TIMING: dataset construction took 0.021 s\n",
            "Loading dataset from disk.\n"
          ],
          "name": "stdout"
        },
        {
          "output_type": "stream",
          "text": [
            "2021-03-25 21:32:05,318 Wrote model metadata to file ampl_output/H1_std/RF_ecfp_scaffold_regression/033262c5-d852-4973-a377-aa6fe06a6860/model_metadata.json\n",
            "2021-03-25 21:32:05,532 Wrote model metrics to file ampl_output/H1_std/RF_ecfp_scaffold_regression/033262c5-d852-4973-a377-aa6fe06a6860/model_metrics.json\n"
          ],
          "name": "stderr"
        },
        {
          "output_type": "stream",
          "text": [
            "Wrote model tarball to ampl_output/H1_std_model_033262c5-d852-4973-a377-aa6fe06a6860.tar.gz\n",
            "rf_estimators: 128, rf_max_depth: 128, rf_max_features: 128, valid_r2: 0.46384474565442446\n",
            "number of features: 1024\n"
          ],
          "name": "stdout"
        },
        {
          "output_type": "stream",
          "text": [
            "2021-03-25 21:32:13,151 Previous dataset split restored\n"
          ],
          "name": "stderr"
        },
        {
          "output_type": "stream",
          "text": [
            "n_cnt [1358.]\n",
            "y_means [6.59994988]\n",
            "y_stds [1.29836641]\n",
            "TIMING: dataset construction took 0.069 s\n",
            "Loading dataset from disk.\n",
            "TIMING: dataset construction took 0.016 s\n",
            "Loading dataset from disk.\n",
            "TIMING: dataset construction took 0.020 s\n",
            "Loading dataset from disk.\n"
          ],
          "name": "stdout"
        },
        {
          "output_type": "stream",
          "text": [
            "2021-03-25 21:32:15,032 Wrote model metadata to file ampl_output/H1_std/RF_ecfp_scaffold_regression/dc9e2ab4-a316-460e-a287-6a3d0101567e/model_metadata.json\n",
            "2021-03-25 21:32:15,159 Wrote model metrics to file ampl_output/H1_std/RF_ecfp_scaffold_regression/dc9e2ab4-a316-460e-a287-6a3d0101567e/model_metrics.json\n"
          ],
          "name": "stderr"
        },
        {
          "output_type": "stream",
          "text": [
            "Wrote model tarball to ampl_output/H1_std_model_dc9e2ab4-a316-460e-a287-6a3d0101567e.tar.gz\n",
            "rf_estimators: 128, rf_max_depth: 128, rf_max_features: 128, valid_r2: 0.46241778971348424\n",
            "number of features: 1024\n"
          ],
          "name": "stdout"
        },
        {
          "output_type": "stream",
          "text": [
            "2021-03-25 21:32:22,527 Previous dataset split restored\n"
          ],
          "name": "stderr"
        },
        {
          "output_type": "stream",
          "text": [
            "n_cnt [1358.]\n",
            "y_means [6.59994988]\n",
            "y_stds [1.29836641]\n",
            "TIMING: dataset construction took 0.069 s\n",
            "Loading dataset from disk.\n",
            "TIMING: dataset construction took 0.018 s\n",
            "Loading dataset from disk.\n",
            "TIMING: dataset construction took 0.016 s\n",
            "Loading dataset from disk.\n"
          ],
          "name": "stdout"
        },
        {
          "output_type": "stream",
          "text": [
            "2021-03-25 21:32:24,671 Wrote model metadata to file ampl_output/H1_std/RF_ecfp_scaffold_regression/e7764dd0-d65e-41b8-a236-624c3c23af7d/model_metadata.json\n",
            "2021-03-25 21:32:24,830 Wrote model metrics to file ampl_output/H1_std/RF_ecfp_scaffold_regression/e7764dd0-d65e-41b8-a236-624c3c23af7d/model_metrics.json\n"
          ],
          "name": "stderr"
        },
        {
          "output_type": "stream",
          "text": [
            "Wrote model tarball to ampl_output/H1_std_model_e7764dd0-d65e-41b8-a236-624c3c23af7d.tar.gz\n",
            "rf_estimators: 128, rf_max_depth: 128, rf_max_features: 128, valid_r2: 0.4519064498362362\n",
            "number of features: 1024\n"
          ],
          "name": "stdout"
        },
        {
          "output_type": "stream",
          "text": [
            "2021-03-25 21:32:33,190 Previous dataset split restored\n"
          ],
          "name": "stderr"
        },
        {
          "output_type": "stream",
          "text": [
            "n_cnt [1358.]\n",
            "y_means [6.59994988]\n",
            "y_stds [1.29836641]\n",
            "TIMING: dataset construction took 0.097 s\n",
            "Loading dataset from disk.\n",
            "TIMING: dataset construction took 0.020 s\n",
            "Loading dataset from disk.\n",
            "TIMING: dataset construction took 0.021 s\n",
            "Loading dataset from disk.\n"
          ],
          "name": "stdout"
        },
        {
          "output_type": "stream",
          "text": [
            "2021-03-25 21:32:34,553 Wrote model metadata to file ampl_output/H1_std/RF_ecfp_scaffold_regression/43ca7eb9-5cbd-43a0-b358-c3c258921387/model_metadata.json\n",
            "2021-03-25 21:32:34,583 Wrote model metrics to file ampl_output/H1_std/RF_ecfp_scaffold_regression/43ca7eb9-5cbd-43a0-b358-c3c258921387/model_metrics.json\n"
          ],
          "name": "stderr"
        },
        {
          "output_type": "stream",
          "text": [
            "Wrote model tarball to ampl_output/H1_std_model_43ca7eb9-5cbd-43a0-b358-c3c258921387.tar.gz\n",
            "rf_estimators: 128, rf_max_depth: 128, rf_max_features: 128, valid_r2: 0.438454448237946\n",
            "number of features: 1024\n"
          ],
          "name": "stdout"
        },
        {
          "output_type": "stream",
          "text": [
            "2021-03-25 21:32:44,567 Previous dataset split restored\n"
          ],
          "name": "stderr"
        },
        {
          "output_type": "stream",
          "text": [
            "n_cnt [1358.]\n",
            "y_means [6.59994988]\n",
            "y_stds [1.29836641]\n",
            "TIMING: dataset construction took 0.096 s\n",
            "Loading dataset from disk.\n",
            "TIMING: dataset construction took 0.018 s\n",
            "Loading dataset from disk.\n",
            "TIMING: dataset construction took 0.030 s\n",
            "Loading dataset from disk.\n"
          ],
          "name": "stdout"
        },
        {
          "output_type": "stream",
          "text": [
            "2021-03-25 21:32:48,608 Wrote model metadata to file ampl_output/H1_std/RF_ecfp_scaffold_regression/7a32fd12-7f9f-47ac-9991-4894cee70ada/model_metadata.json\n",
            "2021-03-25 21:32:48,881 Wrote model metrics to file ampl_output/H1_std/RF_ecfp_scaffold_regression/7a32fd12-7f9f-47ac-9991-4894cee70ada/model_metrics.json\n"
          ],
          "name": "stderr"
        },
        {
          "output_type": "stream",
          "text": [
            "Wrote model tarball to ampl_output/H1_std_model_7a32fd12-7f9f-47ac-9991-4894cee70ada.tar.gz\n",
            "rf_estimators: 128, rf_max_depth: 128, rf_max_features: 128, valid_r2: 0.4506590712525327\n",
            "number of features: 1024\n"
          ],
          "name": "stdout"
        },
        {
          "output_type": "stream",
          "text": [
            "2021-03-25 21:32:59,329 Previous dataset split restored\n"
          ],
          "name": "stderr"
        },
        {
          "output_type": "stream",
          "text": [
            "n_cnt [1358.]\n",
            "y_means [6.59994988]\n",
            "y_stds [1.29836641]\n",
            "TIMING: dataset construction took 0.088 s\n",
            "Loading dataset from disk.\n",
            "TIMING: dataset construction took 0.023 s\n",
            "Loading dataset from disk.\n",
            "TIMING: dataset construction took 0.017 s\n",
            "Loading dataset from disk.\n"
          ],
          "name": "stdout"
        },
        {
          "output_type": "stream",
          "text": [
            "2021-03-25 21:33:03,548 Wrote model metadata to file ampl_output/H1_std/RF_ecfp_scaffold_regression/f2f92b2e-03c4-413d-b788-a64e4e2e7d45/model_metadata.json\n",
            "2021-03-25 21:33:03,803 Wrote model metrics to file ampl_output/H1_std/RF_ecfp_scaffold_regression/f2f92b2e-03c4-413d-b788-a64e4e2e7d45/model_metrics.json\n"
          ],
          "name": "stderr"
        },
        {
          "output_type": "stream",
          "text": [
            "Wrote model tarball to ampl_output/H1_std_model_f2f92b2e-03c4-413d-b788-a64e4e2e7d45.tar.gz\n",
            "rf_estimators: 128, rf_max_depth: 128, rf_max_features: 128, valid_r2: 0.4569601795739413\n",
            "number of features: 1024\n"
          ],
          "name": "stdout"
        },
        {
          "output_type": "stream",
          "text": [
            "2021-03-25 21:33:13,669 Previous dataset split restored\n"
          ],
          "name": "stderr"
        },
        {
          "output_type": "stream",
          "text": [
            "n_cnt [1358.]\n",
            "y_means [6.59994988]\n",
            "y_stds [1.29836641]\n",
            "TIMING: dataset construction took 0.092 s\n",
            "Loading dataset from disk.\n",
            "TIMING: dataset construction took 0.023 s\n",
            "Loading dataset from disk.\n",
            "TIMING: dataset construction took 0.023 s\n",
            "Loading dataset from disk.\n"
          ],
          "name": "stdout"
        },
        {
          "output_type": "stream",
          "text": [
            "2021-03-25 21:33:16,318 Wrote model metadata to file ampl_output/H1_std/RF_ecfp_scaffold_regression/baf07a1b-7ba1-4a1e-bbaa-c35b66936f50/model_metadata.json\n",
            "2021-03-25 21:33:16,449 Wrote model metrics to file ampl_output/H1_std/RF_ecfp_scaffold_regression/baf07a1b-7ba1-4a1e-bbaa-c35b66936f50/model_metrics.json\n"
          ],
          "name": "stderr"
        },
        {
          "output_type": "stream",
          "text": [
            "Wrote model tarball to ampl_output/H1_std_model_baf07a1b-7ba1-4a1e-bbaa-c35b66936f50.tar.gz\n",
            "rf_estimators: 128, rf_max_depth: 128, rf_max_features: 128, valid_r2: 0.4450306608560477\n",
            "number of features: 1024\n"
          ],
          "name": "stdout"
        },
        {
          "output_type": "stream",
          "text": [
            "2021-03-25 21:33:25,782 Previous dataset split restored\n"
          ],
          "name": "stderr"
        },
        {
          "output_type": "stream",
          "text": [
            "n_cnt [1358.]\n",
            "y_means [6.59994988]\n",
            "y_stds [1.29836641]\n",
            "TIMING: dataset construction took 0.089 s\n",
            "Loading dataset from disk.\n",
            "TIMING: dataset construction took 0.016 s\n",
            "Loading dataset from disk.\n",
            "TIMING: dataset construction took 0.022 s\n",
            "Loading dataset from disk.\n"
          ],
          "name": "stdout"
        },
        {
          "output_type": "stream",
          "text": [
            "2021-03-25 21:33:28,770 Wrote model metadata to file ampl_output/H1_std/RF_ecfp_scaffold_regression/9c08c113-acab-4a4d-8a44-d3b5e47c2aa6/model_metadata.json\n",
            "2021-03-25 21:33:28,975 Wrote model metrics to file ampl_output/H1_std/RF_ecfp_scaffold_regression/9c08c113-acab-4a4d-8a44-d3b5e47c2aa6/model_metrics.json\n"
          ],
          "name": "stderr"
        },
        {
          "output_type": "stream",
          "text": [
            "Wrote model tarball to ampl_output/H1_std_model_9c08c113-acab-4a4d-8a44-d3b5e47c2aa6.tar.gz\n",
            "rf_estimators: 128, rf_max_depth: 128, rf_max_features: 128, valid_r2: 0.4658265024141889\n",
            "number of features: 1024\n"
          ],
          "name": "stdout"
        },
        {
          "output_type": "stream",
          "text": [
            "2021-03-25 21:33:38,387 Previous dataset split restored\n"
          ],
          "name": "stderr"
        },
        {
          "output_type": "stream",
          "text": [
            "n_cnt [1358.]\n",
            "y_means [6.59994988]\n",
            "y_stds [1.29836641]\n",
            "TIMING: dataset construction took 0.092 s\n",
            "Loading dataset from disk.\n",
            "TIMING: dataset construction took 0.019 s\n",
            "Loading dataset from disk.\n",
            "TIMING: dataset construction took 0.022 s\n",
            "Loading dataset from disk.\n"
          ],
          "name": "stdout"
        },
        {
          "output_type": "stream",
          "text": [
            "2021-03-25 21:33:39,844 Wrote model metadata to file ampl_output/H1_std/RF_ecfp_scaffold_regression/1c2c0ea7-3b21-4814-96a5-acf0aac85e51/model_metadata.json\n",
            "2021-03-25 21:33:39,875 Wrote model metrics to file ampl_output/H1_std/RF_ecfp_scaffold_regression/1c2c0ea7-3b21-4814-96a5-acf0aac85e51/model_metrics.json\n"
          ],
          "name": "stderr"
        },
        {
          "output_type": "stream",
          "text": [
            "Wrote model tarball to ampl_output/H1_std_model_1c2c0ea7-3b21-4814-96a5-acf0aac85e51.tar.gz\n",
            "rf_estimators: 128, rf_max_depth: 128, rf_max_features: 128, valid_r2: 0.4513996593877643\n",
            "number of features: 1024\n"
          ],
          "name": "stdout"
        },
        {
          "output_type": "stream",
          "text": [
            "2021-03-25 21:33:49,025 Previous dataset split restored\n"
          ],
          "name": "stderr"
        },
        {
          "output_type": "stream",
          "text": [
            "n_cnt [1358.]\n",
            "y_means [6.59994988]\n",
            "y_stds [1.29836641]\n",
            "TIMING: dataset construction took 0.094 s\n",
            "Loading dataset from disk.\n",
            "TIMING: dataset construction took 0.019 s\n",
            "Loading dataset from disk.\n",
            "TIMING: dataset construction took 0.018 s\n",
            "Loading dataset from disk.\n"
          ],
          "name": "stdout"
        },
        {
          "output_type": "stream",
          "text": [
            "2021-03-25 21:33:53,126 Wrote model metadata to file ampl_output/H1_std/RF_ecfp_scaffold_regression/80216dc6-5b3b-40ee-a6d2-1b6126b11fa1/model_metadata.json\n",
            "2021-03-25 21:33:53,444 Wrote model metrics to file ampl_output/H1_std/RF_ecfp_scaffold_regression/80216dc6-5b3b-40ee-a6d2-1b6126b11fa1/model_metrics.json\n"
          ],
          "name": "stderr"
        },
        {
          "output_type": "stream",
          "text": [
            "Wrote model tarball to ampl_output/H1_std_model_80216dc6-5b3b-40ee-a6d2-1b6126b11fa1.tar.gz\n",
            "rf_estimators: 128, rf_max_depth: 128, rf_max_features: 128, valid_r2: 0.4551837218022239\n",
            "number of features: 1024\n"
          ],
          "name": "stdout"
        },
        {
          "output_type": "stream",
          "text": [
            "2021-03-25 21:34:00,850 Previous dataset split restored\n"
          ],
          "name": "stderr"
        },
        {
          "output_type": "stream",
          "text": [
            "n_cnt [1358.]\n",
            "y_means [6.59994988]\n",
            "y_stds [1.29836641]\n",
            "TIMING: dataset construction took 0.066 s\n",
            "Loading dataset from disk.\n",
            "TIMING: dataset construction took 0.015 s\n",
            "Loading dataset from disk.\n",
            "TIMING: dataset construction took 0.015 s\n",
            "Loading dataset from disk.\n"
          ],
          "name": "stdout"
        },
        {
          "output_type": "stream",
          "text": [
            "2021-03-25 21:34:02,860 Wrote model metadata to file ampl_output/H1_std/RF_ecfp_scaffold_regression/dcbda41b-5b5c-43b8-8048-a2ce6af89229/model_metadata.json\n",
            "2021-03-25 21:34:02,977 Wrote model metrics to file ampl_output/H1_std/RF_ecfp_scaffold_regression/dcbda41b-5b5c-43b8-8048-a2ce6af89229/model_metrics.json\n"
          ],
          "name": "stderr"
        },
        {
          "output_type": "stream",
          "text": [
            "Wrote model tarball to ampl_output/H1_std_model_dcbda41b-5b5c-43b8-8048-a2ce6af89229.tar.gz\n",
            "rf_estimators: 128, rf_max_depth: 128, rf_max_features: 128, valid_r2: 0.45573529505501065\n",
            "number of features: 1024\n"
          ],
          "name": "stdout"
        },
        {
          "output_type": "stream",
          "text": [
            "2021-03-25 21:34:10,266 Previous dataset split restored\n"
          ],
          "name": "stderr"
        },
        {
          "output_type": "stream",
          "text": [
            "n_cnt [1358.]\n",
            "y_means [6.59994988]\n",
            "y_stds [1.29836641]\n",
            "TIMING: dataset construction took 0.069 s\n",
            "Loading dataset from disk.\n",
            "TIMING: dataset construction took 0.017 s\n",
            "Loading dataset from disk.\n",
            "TIMING: dataset construction took 0.015 s\n",
            "Loading dataset from disk.\n"
          ],
          "name": "stdout"
        },
        {
          "output_type": "stream",
          "text": [
            "2021-03-25 21:34:11,817 Wrote model metadata to file ampl_output/H1_std/RF_ecfp_scaffold_regression/38bc8ac6-59c0-4771-92e7-4bdc3332ffef/model_metadata.json\n",
            "2021-03-25 21:34:11,888 Wrote model metrics to file ampl_output/H1_std/RF_ecfp_scaffold_regression/38bc8ac6-59c0-4771-92e7-4bdc3332ffef/model_metrics.json\n"
          ],
          "name": "stderr"
        },
        {
          "output_type": "stream",
          "text": [
            "Wrote model tarball to ampl_output/H1_std_model_38bc8ac6-59c0-4771-92e7-4bdc3332ffef.tar.gz\n",
            "rf_estimators: 128, rf_max_depth: 128, rf_max_features: 128, valid_r2: 0.4378410600032755\n",
            "number of features: 1024\n"
          ],
          "name": "stdout"
        },
        {
          "output_type": "stream",
          "text": [
            "2021-03-25 21:34:19,159 Previous dataset split restored\n"
          ],
          "name": "stderr"
        },
        {
          "output_type": "stream",
          "text": [
            "n_cnt [1358.]\n",
            "y_means [6.59994988]\n",
            "y_stds [1.29836641]\n",
            "TIMING: dataset construction took 0.074 s\n",
            "Loading dataset from disk.\n",
            "TIMING: dataset construction took 0.017 s\n",
            "Loading dataset from disk.\n",
            "TIMING: dataset construction took 0.017 s\n",
            "Loading dataset from disk.\n"
          ],
          "name": "stdout"
        },
        {
          "output_type": "stream",
          "text": [
            "2021-03-25 21:34:21,723 Wrote model metadata to file ampl_output/H1_std/RF_ecfp_scaffold_regression/538aae67-764d-437a-aab6-8d908bb9d213/model_metadata.json\n",
            "2021-03-25 21:34:21,876 Wrote model metrics to file ampl_output/H1_std/RF_ecfp_scaffold_regression/538aae67-764d-437a-aab6-8d908bb9d213/model_metrics.json\n"
          ],
          "name": "stderr"
        },
        {
          "output_type": "stream",
          "text": [
            "Wrote model tarball to ampl_output/H1_std_model_538aae67-764d-437a-aab6-8d908bb9d213.tar.gz\n",
            "rf_estimators: 128, rf_max_depth: 128, rf_max_features: 128, valid_r2: 0.45727107705269543\n",
            "number of features: 1024\n"
          ],
          "name": "stdout"
        },
        {
          "output_type": "stream",
          "text": [
            "2021-03-25 21:34:29,106 Previous dataset split restored\n"
          ],
          "name": "stderr"
        },
        {
          "output_type": "stream",
          "text": [
            "n_cnt [1358.]\n",
            "y_means [6.59994988]\n",
            "y_stds [1.29836641]\n",
            "TIMING: dataset construction took 0.070 s\n",
            "Loading dataset from disk.\n",
            "TIMING: dataset construction took 0.016 s\n",
            "Loading dataset from disk.\n",
            "TIMING: dataset construction took 0.017 s\n",
            "Loading dataset from disk.\n"
          ],
          "name": "stdout"
        },
        {
          "output_type": "stream",
          "text": [
            "2021-03-25 21:34:32,088 Wrote model metadata to file ampl_output/H1_std/RF_ecfp_scaffold_regression/b5c12013-50dc-431e-83a7-866cd51b8700/model_metadata.json\n",
            "2021-03-25 21:34:32,359 Wrote model metrics to file ampl_output/H1_std/RF_ecfp_scaffold_regression/b5c12013-50dc-431e-83a7-866cd51b8700/model_metrics.json\n"
          ],
          "name": "stderr"
        },
        {
          "output_type": "stream",
          "text": [
            "Wrote model tarball to ampl_output/H1_std_model_b5c12013-50dc-431e-83a7-866cd51b8700.tar.gz\n",
            "rf_estimators: 128, rf_max_depth: 128, rf_max_features: 128, valid_r2: 0.4576437145851122\n",
            "number of features: 1024\n"
          ],
          "name": "stdout"
        },
        {
          "output_type": "stream",
          "text": [
            "2021-03-25 21:34:39,526 Previous dataset split restored\n"
          ],
          "name": "stderr"
        },
        {
          "output_type": "stream",
          "text": [
            "n_cnt [1358.]\n",
            "y_means [6.59994988]\n",
            "y_stds [1.29836641]\n",
            "TIMING: dataset construction took 0.069 s\n",
            "Loading dataset from disk.\n",
            "TIMING: dataset construction took 0.016 s\n",
            "Loading dataset from disk.\n",
            "TIMING: dataset construction took 0.015 s\n",
            "Loading dataset from disk.\n"
          ],
          "name": "stdout"
        },
        {
          "output_type": "stream",
          "text": [
            "2021-03-25 21:34:42,571 Wrote model metadata to file ampl_output/H1_std/RF_ecfp_scaffold_regression/9980854c-1f16-4fe5-8d44-cdbe011d895c/model_metadata.json\n",
            "2021-03-25 21:34:42,781 Wrote model metrics to file ampl_output/H1_std/RF_ecfp_scaffold_regression/9980854c-1f16-4fe5-8d44-cdbe011d895c/model_metrics.json\n"
          ],
          "name": "stderr"
        },
        {
          "output_type": "stream",
          "text": [
            "Wrote model tarball to ampl_output/H1_std_model_9980854c-1f16-4fe5-8d44-cdbe011d895c.tar.gz\n",
            "rf_estimators: 128, rf_max_depth: 128, rf_max_features: 128, valid_r2: 0.46999401850543243\n",
            "number of features: 1024\n"
          ],
          "name": "stdout"
        },
        {
          "output_type": "stream",
          "text": [
            "2021-03-25 21:34:50,082 Previous dataset split restored\n"
          ],
          "name": "stderr"
        },
        {
          "output_type": "stream",
          "text": [
            "n_cnt [1358.]\n",
            "y_means [6.59994988]\n",
            "y_stds [1.29836641]\n",
            "TIMING: dataset construction took 0.069 s\n",
            "Loading dataset from disk.\n",
            "TIMING: dataset construction took 0.015 s\n",
            "Loading dataset from disk.\n",
            "TIMING: dataset construction took 0.017 s\n",
            "Loading dataset from disk.\n"
          ],
          "name": "stdout"
        },
        {
          "output_type": "stream",
          "text": [
            "2021-03-25 21:34:52,698 Wrote model metadata to file ampl_output/H1_std/RF_ecfp_scaffold_regression/cda62c82-1708-4c7c-984a-72518d11368a/model_metadata.json\n",
            "2021-03-25 21:34:52,902 Wrote model metrics to file ampl_output/H1_std/RF_ecfp_scaffold_regression/cda62c82-1708-4c7c-984a-72518d11368a/model_metrics.json\n"
          ],
          "name": "stderr"
        },
        {
          "output_type": "stream",
          "text": [
            "Wrote model tarball to ampl_output/H1_std_model_cda62c82-1708-4c7c-984a-72518d11368a.tar.gz\n",
            "rf_estimators: 128, rf_max_depth: 128, rf_max_features: 128, valid_r2: 0.46530243120734205\n",
            "number of features: 1024\n"
          ],
          "name": "stdout"
        },
        {
          "output_type": "stream",
          "text": [
            "2021-03-25 21:35:00,482 Previous dataset split restored\n"
          ],
          "name": "stderr"
        },
        {
          "output_type": "stream",
          "text": [
            "n_cnt [1358.]\n",
            "y_means [6.59994988]\n",
            "y_stds [1.29836641]\n",
            "TIMING: dataset construction took 0.069 s\n",
            "Loading dataset from disk.\n",
            "TIMING: dataset construction took 0.015 s\n",
            "Loading dataset from disk.\n",
            "TIMING: dataset construction took 0.017 s\n",
            "Loading dataset from disk.\n"
          ],
          "name": "stdout"
        },
        {
          "output_type": "stream",
          "text": [
            "2021-03-25 21:35:02,551 Wrote model metadata to file ampl_output/H1_std/RF_ecfp_scaffold_regression/9f09c014-cfc3-487f-b5a0-22258a51cce2/model_metadata.json\n",
            "2021-03-25 21:35:02,677 Wrote model metrics to file ampl_output/H1_std/RF_ecfp_scaffold_regression/9f09c014-cfc3-487f-b5a0-22258a51cce2/model_metrics.json\n"
          ],
          "name": "stderr"
        },
        {
          "output_type": "stream",
          "text": [
            "Wrote model tarball to ampl_output/H1_std_model_9f09c014-cfc3-487f-b5a0-22258a51cce2.tar.gz\n",
            "rf_estimators: 128, rf_max_depth: 128, rf_max_features: 128, valid_r2: 0.45378601135043983\n",
            "number of features: 1024\n"
          ],
          "name": "stdout"
        },
        {
          "output_type": "stream",
          "text": [
            "2021-03-25 21:35:10,452 Previous dataset split restored\n"
          ],
          "name": "stderr"
        },
        {
          "output_type": "stream",
          "text": [
            "n_cnt [1358.]\n",
            "y_means [6.59994988]\n",
            "y_stds [1.29836641]\n",
            "TIMING: dataset construction took 0.079 s\n",
            "Loading dataset from disk.\n",
            "TIMING: dataset construction took 0.018 s\n",
            "Loading dataset from disk.\n",
            "TIMING: dataset construction took 0.023 s\n",
            "Loading dataset from disk.\n"
          ],
          "name": "stdout"
        },
        {
          "output_type": "stream",
          "text": [
            "2021-03-25 21:35:11,636 Wrote model metadata to file ampl_output/H1_std/RF_ecfp_scaffold_regression/2ed92713-d938-4d0b-8e30-aaaa392df496/model_metadata.json\n",
            "2021-03-25 21:35:11,657 Wrote model metrics to file ampl_output/H1_std/RF_ecfp_scaffold_regression/2ed92713-d938-4d0b-8e30-aaaa392df496/model_metrics.json\n"
          ],
          "name": "stderr"
        },
        {
          "output_type": "stream",
          "text": [
            "Wrote model tarball to ampl_output/H1_std_model_2ed92713-d938-4d0b-8e30-aaaa392df496.tar.gz\n",
            "rf_estimators: 128, rf_max_depth: 128, rf_max_features: 128, valid_r2: 0.4671045184577929\n",
            "number of features: 1024\n"
          ],
          "name": "stdout"
        },
        {
          "output_type": "stream",
          "text": [
            "2021-03-25 21:35:19,530 Previous dataset split restored\n"
          ],
          "name": "stderr"
        },
        {
          "output_type": "stream",
          "text": [
            "n_cnt [1358.]\n",
            "y_means [6.59994988]\n",
            "y_stds [1.29836641]\n",
            "TIMING: dataset construction took 0.069 s\n",
            "Loading dataset from disk.\n",
            "TIMING: dataset construction took 0.015 s\n",
            "Loading dataset from disk.\n",
            "TIMING: dataset construction took 0.015 s\n",
            "Loading dataset from disk.\n"
          ],
          "name": "stdout"
        },
        {
          "output_type": "stream",
          "text": [
            "2021-03-25 21:35:20,680 Wrote model metadata to file ampl_output/H1_std/RF_ecfp_scaffold_regression/f7bb50a7-3916-4259-8cce-769f4a863f8a/model_metadata.json\n",
            "2021-03-25 21:35:20,704 Wrote model metrics to file ampl_output/H1_std/RF_ecfp_scaffold_regression/f7bb50a7-3916-4259-8cce-769f4a863f8a/model_metrics.json\n"
          ],
          "name": "stderr"
        },
        {
          "output_type": "stream",
          "text": [
            "Wrote model tarball to ampl_output/H1_std_model_f7bb50a7-3916-4259-8cce-769f4a863f8a.tar.gz\n",
            "rf_estimators: 128, rf_max_depth: 128, rf_max_features: 128, valid_r2: 0.4046889353783055\n",
            "number of features: 1024\n"
          ],
          "name": "stdout"
        },
        {
          "output_type": "stream",
          "text": [
            "2021-03-25 21:35:29,041 Previous dataset split restored\n"
          ],
          "name": "stderr"
        },
        {
          "output_type": "stream",
          "text": [
            "n_cnt [1358.]\n",
            "y_means [6.59994988]\n",
            "y_stds [1.29836641]\n",
            "TIMING: dataset construction took 0.080 s\n",
            "Loading dataset from disk.\n",
            "TIMING: dataset construction took 0.022 s\n",
            "Loading dataset from disk.\n",
            "TIMING: dataset construction took 0.015 s\n",
            "Loading dataset from disk.\n"
          ],
          "name": "stdout"
        },
        {
          "output_type": "stream",
          "text": [
            "2021-03-25 21:35:30,158 Wrote model metadata to file ampl_output/H1_std/RF_ecfp_scaffold_regression/776fb80f-d34c-4ee3-9595-70a743253804/model_metadata.json\n",
            "2021-03-25 21:35:30,175 Wrote model metrics to file ampl_output/H1_std/RF_ecfp_scaffold_regression/776fb80f-d34c-4ee3-9595-70a743253804/model_metrics.json\n"
          ],
          "name": "stderr"
        },
        {
          "output_type": "stream",
          "text": [
            "Wrote model tarball to ampl_output/H1_std_model_776fb80f-d34c-4ee3-9595-70a743253804.tar.gz\n",
            "rf_estimators: 128, rf_max_depth: 128, rf_max_features: 128, valid_r2: 0.4431767727660595\n",
            "number of features: 1024\n"
          ],
          "name": "stdout"
        },
        {
          "output_type": "stream",
          "text": [
            "2021-03-25 21:35:38,336 Previous dataset split restored\n"
          ],
          "name": "stderr"
        },
        {
          "output_type": "stream",
          "text": [
            "n_cnt [1358.]\n",
            "y_means [6.59994988]\n",
            "y_stds [1.29836641]\n",
            "TIMING: dataset construction took 0.084 s\n",
            "Loading dataset from disk.\n",
            "TIMING: dataset construction took 0.024 s\n",
            "Loading dataset from disk.\n",
            "TIMING: dataset construction took 0.017 s\n",
            "Loading dataset from disk.\n"
          ],
          "name": "stdout"
        },
        {
          "output_type": "stream",
          "text": [
            "2021-03-25 21:35:39,706 Wrote model metadata to file ampl_output/H1_std/RF_ecfp_scaffold_regression/ce8b1d60-f408-4aa2-8e85-f9a0247a8fb8/model_metadata.json\n",
            "2021-03-25 21:35:39,744 Wrote model metrics to file ampl_output/H1_std/RF_ecfp_scaffold_regression/ce8b1d60-f408-4aa2-8e85-f9a0247a8fb8/model_metrics.json\n"
          ],
          "name": "stderr"
        },
        {
          "output_type": "stream",
          "text": [
            "Wrote model tarball to ampl_output/H1_std_model_ce8b1d60-f408-4aa2-8e85-f9a0247a8fb8.tar.gz\n",
            "rf_estimators: 128, rf_max_depth: 128, rf_max_features: 128, valid_r2: 0.4722631059700393\n",
            "number of features: 1024\n"
          ],
          "name": "stdout"
        },
        {
          "output_type": "stream",
          "text": [
            "2021-03-25 21:35:47,440 Previous dataset split restored\n"
          ],
          "name": "stderr"
        },
        {
          "output_type": "stream",
          "text": [
            "n_cnt [1358.]\n",
            "y_means [6.59994988]\n",
            "y_stds [1.29836641]\n",
            "TIMING: dataset construction took 0.069 s\n",
            "Loading dataset from disk.\n",
            "TIMING: dataset construction took 0.017 s\n",
            "Loading dataset from disk.\n",
            "TIMING: dataset construction took 0.017 s\n",
            "Loading dataset from disk.\n"
          ],
          "name": "stdout"
        },
        {
          "output_type": "stream",
          "text": [
            "2021-03-25 21:35:48,735 Wrote model metadata to file ampl_output/H1_std/RF_ecfp_scaffold_regression/62f9eb16-0901-49b1-b483-291f82980012/model_metadata.json\n",
            "2021-03-25 21:35:48,765 Wrote model metrics to file ampl_output/H1_std/RF_ecfp_scaffold_regression/62f9eb16-0901-49b1-b483-291f82980012/model_metrics.json\n"
          ],
          "name": "stderr"
        },
        {
          "output_type": "stream",
          "text": [
            "Wrote model tarball to ampl_output/H1_std_model_62f9eb16-0901-49b1-b483-291f82980012.tar.gz\n",
            "rf_estimators: 128, rf_max_depth: 128, rf_max_features: 128, valid_r2: 0.49021980103533214\n",
            "number of features: 1024\n"
          ],
          "name": "stdout"
        },
        {
          "output_type": "stream",
          "text": [
            "2021-03-25 21:35:56,113 Previous dataset split restored\n"
          ],
          "name": "stderr"
        },
        {
          "output_type": "stream",
          "text": [
            "n_cnt [1358.]\n",
            "y_means [6.59994988]\n",
            "y_stds [1.29836641]\n",
            "TIMING: dataset construction took 0.069 s\n",
            "Loading dataset from disk.\n",
            "TIMING: dataset construction took 0.015 s\n",
            "Loading dataset from disk.\n",
            "TIMING: dataset construction took 0.014 s\n",
            "Loading dataset from disk.\n"
          ],
          "name": "stdout"
        },
        {
          "output_type": "stream",
          "text": [
            "2021-03-25 21:35:58,585 Wrote model metadata to file ampl_output/H1_std/RF_ecfp_scaffold_regression/3f63e729-d7b0-4200-aefb-179593819295/model_metadata.json\n",
            "2021-03-25 21:35:58,809 Wrote model metrics to file ampl_output/H1_std/RF_ecfp_scaffold_regression/3f63e729-d7b0-4200-aefb-179593819295/model_metrics.json\n"
          ],
          "name": "stderr"
        },
        {
          "output_type": "stream",
          "text": [
            "Wrote model tarball to ampl_output/H1_std_model_3f63e729-d7b0-4200-aefb-179593819295.tar.gz\n",
            "rf_estimators: 128, rf_max_depth: 128, rf_max_features: 128, valid_r2: 0.45619419293986263\n",
            "number of features: 1024\n"
          ],
          "name": "stdout"
        },
        {
          "output_type": "stream",
          "text": [
            "2021-03-25 21:36:06,105 Previous dataset split restored\n"
          ],
          "name": "stderr"
        },
        {
          "output_type": "stream",
          "text": [
            "n_cnt [1358.]\n",
            "y_means [6.59994988]\n",
            "y_stds [1.29836641]\n",
            "TIMING: dataset construction took 0.074 s\n",
            "Loading dataset from disk.\n",
            "TIMING: dataset construction took 0.017 s\n",
            "Loading dataset from disk.\n",
            "TIMING: dataset construction took 0.015 s\n",
            "Loading dataset from disk.\n"
          ],
          "name": "stdout"
        },
        {
          "output_type": "stream",
          "text": [
            "2021-03-25 21:36:09,543 Wrote model metadata to file ampl_output/H1_std/RF_ecfp_scaffold_regression/e30dc012-46de-4444-b0bc-d90477ea59d0/model_metadata.json\n",
            "2021-03-25 21:36:09,794 Wrote model metrics to file ampl_output/H1_std/RF_ecfp_scaffold_regression/e30dc012-46de-4444-b0bc-d90477ea59d0/model_metrics.json\n"
          ],
          "name": "stderr"
        },
        {
          "output_type": "stream",
          "text": [
            "Wrote model tarball to ampl_output/H1_std_model_e30dc012-46de-4444-b0bc-d90477ea59d0.tar.gz\n",
            "rf_estimators: 128, rf_max_depth: 128, rf_max_features: 128, valid_r2: 0.4784138426502246\n",
            "number of features: 1024\n"
          ],
          "name": "stdout"
        },
        {
          "output_type": "stream",
          "text": [
            "2021-03-25 21:36:17,028 Previous dataset split restored\n"
          ],
          "name": "stderr"
        },
        {
          "output_type": "stream",
          "text": [
            "n_cnt [1358.]\n",
            "y_means [6.59994988]\n",
            "y_stds [1.29836641]\n",
            "TIMING: dataset construction took 0.073 s\n",
            "Loading dataset from disk.\n",
            "TIMING: dataset construction took 0.017 s\n",
            "Loading dataset from disk.\n",
            "TIMING: dataset construction took 0.017 s\n",
            "Loading dataset from disk.\n"
          ],
          "name": "stdout"
        },
        {
          "output_type": "stream",
          "text": [
            "2021-03-25 21:36:18,968 Wrote model metadata to file ampl_output/H1_std/RF_ecfp_scaffold_regression/6808fd8c-225d-4516-b838-9d7dddb97c45/model_metadata.json\n",
            "2021-03-25 21:36:19,106 Wrote model metrics to file ampl_output/H1_std/RF_ecfp_scaffold_regression/6808fd8c-225d-4516-b838-9d7dddb97c45/model_metrics.json\n"
          ],
          "name": "stderr"
        },
        {
          "output_type": "stream",
          "text": [
            "Wrote model tarball to ampl_output/H1_std_model_6808fd8c-225d-4516-b838-9d7dddb97c45.tar.gz\n",
            "rf_estimators: 128, rf_max_depth: 128, rf_max_features: 128, valid_r2: 0.4279328249065679\n",
            "number of features: 1024\n"
          ],
          "name": "stdout"
        },
        {
          "output_type": "stream",
          "text": [
            "2021-03-25 21:36:26,432 Previous dataset split restored\n"
          ],
          "name": "stderr"
        },
        {
          "output_type": "stream",
          "text": [
            "n_cnt [1358.]\n",
            "y_means [6.59994988]\n",
            "y_stds [1.29836641]\n",
            "TIMING: dataset construction took 0.069 s\n",
            "Loading dataset from disk.\n",
            "TIMING: dataset construction took 0.014 s\n",
            "Loading dataset from disk.\n",
            "TIMING: dataset construction took 0.016 s\n",
            "Loading dataset from disk.\n"
          ],
          "name": "stdout"
        },
        {
          "output_type": "stream",
          "text": [
            "2021-03-25 21:36:28,481 Wrote model metadata to file ampl_output/H1_std/RF_ecfp_scaffold_regression/fc0e1f32-bf59-4f4a-81e7-20ad20768525/model_metadata.json\n",
            "2021-03-25 21:36:28,656 Wrote model metrics to file ampl_output/H1_std/RF_ecfp_scaffold_regression/fc0e1f32-bf59-4f4a-81e7-20ad20768525/model_metrics.json\n"
          ],
          "name": "stderr"
        },
        {
          "output_type": "stream",
          "text": [
            "Wrote model tarball to ampl_output/H1_std_model_fc0e1f32-bf59-4f4a-81e7-20ad20768525.tar.gz\n",
            "rf_estimators: 128, rf_max_depth: 128, rf_max_features: 128, valid_r2: 0.4247182633885348\n",
            "number of features: 1024\n"
          ],
          "name": "stdout"
        },
        {
          "output_type": "stream",
          "text": [
            "2021-03-25 21:36:35,629 Previous dataset split restored\n"
          ],
          "name": "stderr"
        },
        {
          "output_type": "stream",
          "text": [
            "n_cnt [1358.]\n",
            "y_means [6.59994988]\n",
            "y_stds [1.29836641]\n",
            "TIMING: dataset construction took 0.070 s\n",
            "Loading dataset from disk.\n",
            "TIMING: dataset construction took 0.015 s\n",
            "Loading dataset from disk.\n",
            "TIMING: dataset construction took 0.016 s\n",
            "Loading dataset from disk.\n"
          ],
          "name": "stdout"
        },
        {
          "output_type": "stream",
          "text": [
            "2021-03-25 21:36:36,853 Wrote model metadata to file ampl_output/H1_std/RF_ecfp_scaffold_regression/ddf2952d-7268-4a9d-96ab-59ca36802532/model_metadata.json\n",
            "2021-03-25 21:36:36,872 Wrote model metrics to file ampl_output/H1_std/RF_ecfp_scaffold_regression/ddf2952d-7268-4a9d-96ab-59ca36802532/model_metrics.json\n"
          ],
          "name": "stderr"
        },
        {
          "output_type": "stream",
          "text": [
            "Wrote model tarball to ampl_output/H1_std_model_ddf2952d-7268-4a9d-96ab-59ca36802532.tar.gz\n",
            "rf_estimators: 128, rf_max_depth: 128, rf_max_features: 128, valid_r2: 0.40166433575984495\n",
            "number of features: 1024\n"
          ],
          "name": "stdout"
        },
        {
          "output_type": "stream",
          "text": [
            "2021-03-25 21:36:43,874 Previous dataset split restored\n"
          ],
          "name": "stderr"
        },
        {
          "output_type": "stream",
          "text": [
            "n_cnt [1358.]\n",
            "y_means [6.59994988]\n",
            "y_stds [1.29836641]\n",
            "TIMING: dataset construction took 0.070 s\n",
            "Loading dataset from disk.\n",
            "TIMING: dataset construction took 0.016 s\n",
            "Loading dataset from disk.\n",
            "TIMING: dataset construction took 0.014 s\n",
            "Loading dataset from disk.\n"
          ],
          "name": "stdout"
        },
        {
          "output_type": "stream",
          "text": [
            "2021-03-25 21:36:45,231 Wrote model metadata to file ampl_output/H1_std/RF_ecfp_scaffold_regression/23efad99-0af8-494b-90a8-23fe62f7c9ab/model_metadata.json\n",
            "2021-03-25 21:36:45,282 Wrote model metrics to file ampl_output/H1_std/RF_ecfp_scaffold_regression/23efad99-0af8-494b-90a8-23fe62f7c9ab/model_metrics.json\n"
          ],
          "name": "stderr"
        },
        {
          "output_type": "stream",
          "text": [
            "Wrote model tarball to ampl_output/H1_std_model_23efad99-0af8-494b-90a8-23fe62f7c9ab.tar.gz\n",
            "rf_estimators: 128, rf_max_depth: 128, rf_max_features: 128, valid_r2: 0.432563583860322\n",
            "number of features: 1024\n"
          ],
          "name": "stdout"
        },
        {
          "output_type": "stream",
          "text": [
            "2021-03-25 21:36:52,480 Previous dataset split restored\n"
          ],
          "name": "stderr"
        },
        {
          "output_type": "stream",
          "text": [
            "n_cnt [1358.]\n",
            "y_means [6.59994988]\n",
            "y_stds [1.29836641]\n",
            "TIMING: dataset construction took 0.072 s\n",
            "Loading dataset from disk.\n",
            "TIMING: dataset construction took 0.015 s\n",
            "Loading dataset from disk.\n",
            "TIMING: dataset construction took 0.016 s\n",
            "Loading dataset from disk.\n"
          ],
          "name": "stdout"
        },
        {
          "output_type": "stream",
          "text": [
            "2021-03-25 21:36:54,744 Wrote model metadata to file ampl_output/H1_std/RF_ecfp_scaffold_regression/799f4ec0-6de3-4d82-b729-6ffee5ba6040/model_metadata.json\n",
            "2021-03-25 21:36:54,870 Wrote model metrics to file ampl_output/H1_std/RF_ecfp_scaffold_regression/799f4ec0-6de3-4d82-b729-6ffee5ba6040/model_metrics.json\n"
          ],
          "name": "stderr"
        },
        {
          "output_type": "stream",
          "text": [
            "Wrote model tarball to ampl_output/H1_std_model_799f4ec0-6de3-4d82-b729-6ffee5ba6040.tar.gz\n",
            "rf_estimators: 128, rf_max_depth: 128, rf_max_features: 128, valid_r2: 0.4447336201887926\n",
            "number of features: 1024\n"
          ],
          "name": "stdout"
        },
        {
          "output_type": "stream",
          "text": [
            "2021-03-25 21:37:01,943 Previous dataset split restored\n"
          ],
          "name": "stderr"
        },
        {
          "output_type": "stream",
          "text": [
            "n_cnt [1358.]\n",
            "y_means [6.59994988]\n",
            "y_stds [1.29836641]\n",
            "TIMING: dataset construction took 0.075 s\n",
            "Loading dataset from disk.\n",
            "TIMING: dataset construction took 0.017 s\n",
            "Loading dataset from disk.\n",
            "TIMING: dataset construction took 0.017 s\n",
            "Loading dataset from disk.\n"
          ],
          "name": "stdout"
        },
        {
          "output_type": "stream",
          "text": [
            "2021-03-25 21:37:04,130 Wrote model metadata to file ampl_output/H1_std/RF_ecfp_scaffold_regression/6683bd66-8dbc-47d1-bac1-6a673438430e/model_metadata.json\n",
            "2021-03-25 21:37:04,297 Wrote model metrics to file ampl_output/H1_std/RF_ecfp_scaffold_regression/6683bd66-8dbc-47d1-bac1-6a673438430e/model_metrics.json\n"
          ],
          "name": "stderr"
        },
        {
          "output_type": "stream",
          "text": [
            "Wrote model tarball to ampl_output/H1_std_model_6683bd66-8dbc-47d1-bac1-6a673438430e.tar.gz\n",
            "rf_estimators: 128, rf_max_depth: 128, rf_max_features: 128, valid_r2: 0.47147476253815945\n"
          ],
          "name": "stdout"
        }
      ]
    },
    {
      "cell_type": "code",
      "metadata": {
        "id": "EP7Oub5L67o_",
        "outputId": "9ce1857d-576b-4bf8-9f42-04c060b6531a",
        "colab": {
          "base_uri": "https://localhost:8080/",
          "height": 1000
        }
      },
      "source": [
        "perf_df = pd.DataFrame({\"rf_estimators\": rfe_list, \"rf_max_depth\": rfd_list, \"rf_max_features\": rff_list, \"valid_r2_score\": valid_r2_list})\n",
        "perf_df.sort_values(by=\"valid_r2_score\", ascending=False)"
      ],
      "execution_count": 24,
      "outputs": [
        {
          "output_type": "execute_result",
          "data": {
            "text/html": [
              "<div>\n",
              "<style scoped>\n",
              "    .dataframe tbody tr th:only-of-type {\n",
              "        vertical-align: middle;\n",
              "    }\n",
              "\n",
              "    .dataframe tbody tr th {\n",
              "        vertical-align: top;\n",
              "    }\n",
              "\n",
              "    .dataframe thead th {\n",
              "        text-align: right;\n",
              "    }\n",
              "</style>\n",
              "<table border=\"1\" class=\"dataframe\">\n",
              "  <thead>\n",
              "    <tr style=\"text-align: right;\">\n",
              "      <th></th>\n",
              "      <th>rf_estimators</th>\n",
              "      <th>rf_max_depth</th>\n",
              "      <th>rf_max_features</th>\n",
              "      <th>valid_r2_score</th>\n",
              "    </tr>\n",
              "  </thead>\n",
              "  <tbody>\n",
              "    <tr>\n",
              "      <th>41</th>\n",
              "      <td>22</td>\n",
              "      <td>35</td>\n",
              "      <td>252</td>\n",
              "      <td>0.490220</td>\n",
              "    </tr>\n",
              "    <tr>\n",
              "      <th>43</th>\n",
              "      <td>218</td>\n",
              "      <td>233</td>\n",
              "      <td>236</td>\n",
              "      <td>0.478414</td>\n",
              "    </tr>\n",
              "    <tr>\n",
              "      <th>13</th>\n",
              "      <td>222</td>\n",
              "      <td>211</td>\n",
              "      <td>141</td>\n",
              "      <td>0.477369</td>\n",
              "    </tr>\n",
              "    <tr>\n",
              "      <th>2</th>\n",
              "      <td>240</td>\n",
              "      <td>134</td>\n",
              "      <td>247</td>\n",
              "      <td>0.473999</td>\n",
              "    </tr>\n",
              "    <tr>\n",
              "      <th>40</th>\n",
              "      <td>23</td>\n",
              "      <td>248</td>\n",
              "      <td>215</td>\n",
              "      <td>0.472263</td>\n",
              "    </tr>\n",
              "    <tr>\n",
              "      <th>49</th>\n",
              "      <td>152</td>\n",
              "      <td>72</td>\n",
              "      <td>53</td>\n",
              "      <td>0.471475</td>\n",
              "    </tr>\n",
              "    <tr>\n",
              "      <th>6</th>\n",
              "      <td>97</td>\n",
              "      <td>200</td>\n",
              "      <td>127</td>\n",
              "      <td>0.470279</td>\n",
              "    </tr>\n",
              "    <tr>\n",
              "      <th>34</th>\n",
              "      <td>197</td>\n",
              "      <td>85</td>\n",
              "      <td>235</td>\n",
              "      <td>0.469994</td>\n",
              "    </tr>\n",
              "    <tr>\n",
              "      <th>37</th>\n",
              "      <td>11</td>\n",
              "      <td>95</td>\n",
              "      <td>214</td>\n",
              "      <td>0.467105</td>\n",
              "    </tr>\n",
              "    <tr>\n",
              "      <th>27</th>\n",
              "      <td>139</td>\n",
              "      <td>115</td>\n",
              "      <td>134</td>\n",
              "      <td>0.465827</td>\n",
              "    </tr>\n",
              "    <tr>\n",
              "      <th>35</th>\n",
              "      <td>187</td>\n",
              "      <td>199</td>\n",
              "      <td>88</td>\n",
              "      <td>0.465302</td>\n",
              "    </tr>\n",
              "    <tr>\n",
              "      <th>20</th>\n",
              "      <td>195</td>\n",
              "      <td>103</td>\n",
              "      <td>66</td>\n",
              "      <td>0.463845</td>\n",
              "    </tr>\n",
              "    <tr>\n",
              "      <th>21</th>\n",
              "      <td>115</td>\n",
              "      <td>143</td>\n",
              "      <td>53</td>\n",
              "      <td>0.462418</td>\n",
              "    </tr>\n",
              "    <tr>\n",
              "      <th>4</th>\n",
              "      <td>86</td>\n",
              "      <td>165</td>\n",
              "      <td>88</td>\n",
              "      <td>0.461333</td>\n",
              "    </tr>\n",
              "    <tr>\n",
              "      <th>33</th>\n",
              "      <td>251</td>\n",
              "      <td>86</td>\n",
              "      <td>71</td>\n",
              "      <td>0.457644</td>\n",
              "    </tr>\n",
              "    <tr>\n",
              "      <th>32</th>\n",
              "      <td>176</td>\n",
              "      <td>20</td>\n",
              "      <td>174</td>\n",
              "      <td>0.457271</td>\n",
              "    </tr>\n",
              "    <tr>\n",
              "      <th>25</th>\n",
              "      <td>202</td>\n",
              "      <td>241</td>\n",
              "      <td>119</td>\n",
              "      <td>0.456960</td>\n",
              "    </tr>\n",
              "    <tr>\n",
              "      <th>42</th>\n",
              "      <td>207</td>\n",
              "      <td>196</td>\n",
              "      <td>40</td>\n",
              "      <td>0.456194</td>\n",
              "    </tr>\n",
              "    <tr>\n",
              "      <th>30</th>\n",
              "      <td>107</td>\n",
              "      <td>228</td>\n",
              "      <td>185</td>\n",
              "      <td>0.455735</td>\n",
              "    </tr>\n",
              "    <tr>\n",
              "      <th>8</th>\n",
              "      <td>224</td>\n",
              "      <td>152</td>\n",
              "      <td>224</td>\n",
              "      <td>0.455215</td>\n",
              "    </tr>\n",
              "    <tr>\n",
              "      <th>29</th>\n",
              "      <td>236</td>\n",
              "      <td>224</td>\n",
              "      <td>52</td>\n",
              "      <td>0.455184</td>\n",
              "    </tr>\n",
              "    <tr>\n",
              "      <th>36</th>\n",
              "      <td>111</td>\n",
              "      <td>113</td>\n",
              "      <td>141</td>\n",
              "      <td>0.453786</td>\n",
              "    </tr>\n",
              "    <tr>\n",
              "      <th>0</th>\n",
              "      <td>66</td>\n",
              "      <td>58</td>\n",
              "      <td>170</td>\n",
              "      <td>0.453171</td>\n",
              "    </tr>\n",
              "    <tr>\n",
              "      <th>15</th>\n",
              "      <td>92</td>\n",
              "      <td>80</td>\n",
              "      <td>81</td>\n",
              "      <td>0.452498</td>\n",
              "    </tr>\n",
              "    <tr>\n",
              "      <th>16</th>\n",
              "      <td>231</td>\n",
              "      <td>191</td>\n",
              "      <td>46</td>\n",
              "      <td>0.452135</td>\n",
              "    </tr>\n",
              "    <tr>\n",
              "      <th>22</th>\n",
              "      <td>149</td>\n",
              "      <td>32</td>\n",
              "      <td>56</td>\n",
              "      <td>0.451906</td>\n",
              "    </tr>\n",
              "    <tr>\n",
              "      <th>28</th>\n",
              "      <td>17</td>\n",
              "      <td>90</td>\n",
              "      <td>225</td>\n",
              "      <td>0.451400</td>\n",
              "    </tr>\n",
              "    <tr>\n",
              "      <th>24</th>\n",
              "      <td>182</td>\n",
              "      <td>160</td>\n",
              "      <td>117</td>\n",
              "      <td>0.450659</td>\n",
              "    </tr>\n",
              "    <tr>\n",
              "      <th>3</th>\n",
              "      <td>169</td>\n",
              "      <td>98</td>\n",
              "      <td>254</td>\n",
              "      <td>0.449959</td>\n",
              "    </tr>\n",
              "    <tr>\n",
              "      <th>19</th>\n",
              "      <td>245</td>\n",
              "      <td>105</td>\n",
              "      <td>211</td>\n",
              "      <td>0.449268</td>\n",
              "    </tr>\n",
              "    <tr>\n",
              "      <th>9</th>\n",
              "      <td>202</td>\n",
              "      <td>18</td>\n",
              "      <td>114</td>\n",
              "      <td>0.448846</td>\n",
              "    </tr>\n",
              "    <tr>\n",
              "      <th>1</th>\n",
              "      <td>44</td>\n",
              "      <td>212</td>\n",
              "      <td>123</td>\n",
              "      <td>0.448503</td>\n",
              "    </tr>\n",
              "    <tr>\n",
              "      <th>7</th>\n",
              "      <td>253</td>\n",
              "      <td>74</td>\n",
              "      <td>252</td>\n",
              "      <td>0.446033</td>\n",
              "    </tr>\n",
              "    <tr>\n",
              "      <th>26</th>\n",
              "      <td>103</td>\n",
              "      <td>69</td>\n",
              "      <td>200</td>\n",
              "      <td>0.445031</td>\n",
              "    </tr>\n",
              "    <tr>\n",
              "      <th>48</th>\n",
              "      <td>121</td>\n",
              "      <td>252</td>\n",
              "      <td>225</td>\n",
              "      <td>0.444734</td>\n",
              "    </tr>\n",
              "    <tr>\n",
              "      <th>39</th>\n",
              "      <td>8</td>\n",
              "      <td>128</td>\n",
              "      <td>38</td>\n",
              "      <td>0.443177</td>\n",
              "    </tr>\n",
              "    <tr>\n",
              "      <th>18</th>\n",
              "      <td>247</td>\n",
              "      <td>18</td>\n",
              "      <td>60</td>\n",
              "      <td>0.440292</td>\n",
              "    </tr>\n",
              "    <tr>\n",
              "      <th>23</th>\n",
              "      <td>10</td>\n",
              "      <td>152</td>\n",
              "      <td>249</td>\n",
              "      <td>0.438454</td>\n",
              "    </tr>\n",
              "    <tr>\n",
              "      <th>31</th>\n",
              "      <td>96</td>\n",
              "      <td>16</td>\n",
              "      <td>72</td>\n",
              "      <td>0.437841</td>\n",
              "    </tr>\n",
              "    <tr>\n",
              "      <th>14</th>\n",
              "      <td>56</td>\n",
              "      <td>76</td>\n",
              "      <td>230</td>\n",
              "      <td>0.435603</td>\n",
              "    </tr>\n",
              "    <tr>\n",
              "      <th>17</th>\n",
              "      <td>195</td>\n",
              "      <td>58</td>\n",
              "      <td>32</td>\n",
              "      <td>0.434560</td>\n",
              "    </tr>\n",
              "    <tr>\n",
              "      <th>47</th>\n",
              "      <td>42</td>\n",
              "      <td>48</td>\n",
              "      <td>170</td>\n",
              "      <td>0.432564</td>\n",
              "    </tr>\n",
              "    <tr>\n",
              "      <th>12</th>\n",
              "      <td>194</td>\n",
              "      <td>243</td>\n",
              "      <td>15</td>\n",
              "      <td>0.431556</td>\n",
              "    </tr>\n",
              "    <tr>\n",
              "      <th>44</th>\n",
              "      <td>122</td>\n",
              "      <td>193</td>\n",
              "      <td>42</td>\n",
              "      <td>0.427933</td>\n",
              "    </tr>\n",
              "    <tr>\n",
              "      <th>45</th>\n",
              "      <td>161</td>\n",
              "      <td>246</td>\n",
              "      <td>30</td>\n",
              "      <td>0.424718</td>\n",
              "    </tr>\n",
              "    <tr>\n",
              "      <th>11</th>\n",
              "      <td>119</td>\n",
              "      <td>26</td>\n",
              "      <td>41</td>\n",
              "      <td>0.421633</td>\n",
              "    </tr>\n",
              "    <tr>\n",
              "      <th>38</th>\n",
              "      <td>17</td>\n",
              "      <td>70</td>\n",
              "      <td>250</td>\n",
              "      <td>0.404689</td>\n",
              "    </tr>\n",
              "    <tr>\n",
              "      <th>10</th>\n",
              "      <td>232</td>\n",
              "      <td>111</td>\n",
              "      <td>11</td>\n",
              "      <td>0.403450</td>\n",
              "    </tr>\n",
              "    <tr>\n",
              "      <th>46</th>\n",
              "      <td>39</td>\n",
              "      <td>9</td>\n",
              "      <td>248</td>\n",
              "      <td>0.401664</td>\n",
              "    </tr>\n",
              "    <tr>\n",
              "      <th>5</th>\n",
              "      <td>62</td>\n",
              "      <td>8</td>\n",
              "      <td>15</td>\n",
              "      <td>0.249758</td>\n",
              "    </tr>\n",
              "  </tbody>\n",
              "</table>\n",
              "</div>"
            ],
            "text/plain": [
              "    rf_estimators  rf_max_depth  rf_max_features  valid_r2_score\n",
              "41             22            35              252        0.490220\n",
              "43            218           233              236        0.478414\n",
              "13            222           211              141        0.477369\n",
              "2             240           134              247        0.473999\n",
              "40             23           248              215        0.472263\n",
              "49            152            72               53        0.471475\n",
              "6              97           200              127        0.470279\n",
              "34            197            85              235        0.469994\n",
              "37             11            95              214        0.467105\n",
              "27            139           115              134        0.465827\n",
              "35            187           199               88        0.465302\n",
              "20            195           103               66        0.463845\n",
              "21            115           143               53        0.462418\n",
              "4              86           165               88        0.461333\n",
              "33            251            86               71        0.457644\n",
              "32            176            20              174        0.457271\n",
              "25            202           241              119        0.456960\n",
              "42            207           196               40        0.456194\n",
              "30            107           228              185        0.455735\n",
              "8             224           152              224        0.455215\n",
              "29            236           224               52        0.455184\n",
              "36            111           113              141        0.453786\n",
              "0              66            58              170        0.453171\n",
              "15             92            80               81        0.452498\n",
              "16            231           191               46        0.452135\n",
              "22            149            32               56        0.451906\n",
              "28             17            90              225        0.451400\n",
              "24            182           160              117        0.450659\n",
              "3             169            98              254        0.449959\n",
              "19            245           105              211        0.449268\n",
              "9             202            18              114        0.448846\n",
              "1              44           212              123        0.448503\n",
              "7             253            74              252        0.446033\n",
              "26            103            69              200        0.445031\n",
              "48            121           252              225        0.444734\n",
              "39              8           128               38        0.443177\n",
              "18            247            18               60        0.440292\n",
              "23             10           152              249        0.438454\n",
              "31             96            16               72        0.437841\n",
              "14             56            76              230        0.435603\n",
              "17            195            58               32        0.434560\n",
              "47             42            48              170        0.432564\n",
              "12            194           243               15        0.431556\n",
              "44            122           193               42        0.427933\n",
              "45            161           246               30        0.424718\n",
              "11            119            26               41        0.421633\n",
              "38             17            70              250        0.404689\n",
              "10            232           111               11        0.403450\n",
              "46             39             9              248        0.401664\n",
              "5              62             8               15        0.249758"
            ]
          },
          "metadata": {
            "tags": []
          },
          "execution_count": 24
        }
      ]
    },
    {
      "cell_type": "code",
      "metadata": {
        "id": "hL40_7KF6-BT",
        "outputId": "d0f04f17-0d11-45c7-96e5-bcb9f4c8eb97",
        "colab": {
          "base_uri": "https://localhost:8080/",
          "height": 483
        }
      },
      "source": [
        "fig, ax = plt.subplots(1,3,figsize=(21,7))\n",
        "sns.scatterplot(data=perf_df, x=\"rf_estimators\", y=\"valid_r2_score\", ax=ax[0])\n",
        "sns.scatterplot(data=perf_df, x=\"rf_max_depth\", y=\"valid_r2_score\", ax=ax[1])\n",
        "sns.scatterplot(data=perf_df, x=\"rf_max_features\", y=\"valid_r2_score\", ax=ax[2])\n",
        "fig.tight_layout()"
      ],
      "execution_count": 25,
      "outputs": [
        {
          "output_type": "display_data",
          "data": {
            "image/png": "[encoded data removed]",
            "text/plain": [
              "<Figure size 1512x504 with 3 Axes>"
            ]
          },
          "metadata": {
            "tags": []
          }
        }
      ]
    },
    {
      "cell_type": "markdown",
      "metadata": {
        "id": "Za2roo8B7AfH"
      },
      "source": [
        "### Bayesian search"
      ]
    },
    {
      "cell_type": "code",
      "metadata": {
        "id": "iIHILV2R7Fz4"
      },
      "source": [
        "#define loss function\n",
        "def lossfn(p):\n",
        "    params[\"rf_estimators\"] = int(p[\"rf_estimator\"])\n",
        "    params[\"rf_max_depth\"] = int(p[\"rf_depth\"])\n",
        "    params[\"rf_max_features\"] = int(p[\"rf_feature\"])\n",
        "    \n",
        "    tparam = parse.wrapper(params)\n",
        "    pl = mp.ModelPipeline(tparam)\n",
        "    pl.train_model()\n",
        "    perf_data = pl.model_wrapper.get_perf_data(subset=\"valid\", epoch_label=\"best\")\n",
        "    pred_results = perf_data.get_prediction_results()\n",
        "    r2 = pred_results['r2_score']\n",
        "    return {'loss': 1-r2, \n",
        "            'status': STATUS_OK, \n",
        "            'model': tparam.model_tarball_path, \n",
        "            'rf_estimator': params[\"rf_estimators\"],\n",
        "            'rf_depth': params[\"rf_max_depth\"],\n",
        "            'rf_feature': params[\"rf_max_features\"]}\n",
        "\n",
        "space = {\n",
        "    \"rf_estimator\": hp.uniform(\"rf_estimator\", 8, 256),\n",
        "    \"rf_depth\": hp.uniform(\"rf_depth\", 8, 256),\n",
        "    \"rf_feature\": hp.uniform(\"rf_feature\", 8, 256)\n",
        "}"
      ],
      "execution_count": 26,
      "outputs": []
    },
    {
      "cell_type": "code",
      "metadata": {
        "id": "ndFs9n6f7G-Y",
        "outputId": "a62a2250-c5a0-45da-95d7-2980645b8035",
        "colab": {
          "base_uri": "https://localhost:8080/"
        }
      },
      "source": [
        "trials = Trials()\n",
        "best = fmin(lossfn, space, algo=tpe.suggest, max_evals=20, trials=trials)"
      ],
      "execution_count": 30,
      "outputs": [
        {
          "output_type": "stream",
          "text": [
            "number of features: 1024\n",
            "  0%|          | 0/20 [00:06<?, ?it/s, best loss: ?]"
          ],
          "name": "stdout"
        },
        {
          "output_type": "stream",
          "text": [
            "2021-03-25 21:39:51,191 Previous dataset split restored\n"
          ],
          "name": "stderr"
        },
        {
          "output_type": "stream",
          "text": [
            "n_cnt\n",
            "[1358.]\n",
            "y_means\n",
            "[6.59994988]\n",
            "y_stds\n",
            "[1.29836641]\n",
            "TIMING: dataset construction took 0.074 s\n",
            "Loading dataset from disk.\n",
            "TIMING: dataset construction took 0.019 s\n",
            "Loading dataset from disk.\n",
            "TIMING: dataset construction took 0.024 s\n",
            "Loading dataset from disk.\n",
            "  0%|          | 0/20 [00:07<?, ?it/s, best loss: ?]"
          ],
          "name": "stdout"
        },
        {
          "output_type": "stream",
          "text": [
            "2021-03-25 21:39:54,129 Wrote model metadata to file ampl_output/H1_std/RF_ecfp_scaffold_regression/1ba52605-9c5a-411a-977b-79809c419896/model_metadata.json\n"
          ],
          "name": "stderr"
        },
        {
          "output_type": "stream",
          "text": [
            "Wrote model tarball to ampl_output/H1_std_model_1ba52605-9c5a-411a-977b-79809c419896.tar.gz\n",
            "  0%|          | 0/20 [00:10<?, ?it/s, best loss: ?]"
          ],
          "name": "stdout"
        },
        {
          "output_type": "stream",
          "text": [
            "2021-03-25 21:39:54,325 Wrote model metrics to file ampl_output/H1_std/RF_ecfp_scaffold_regression/1ba52605-9c5a-411a-977b-79809c419896/model_metrics.json\n"
          ],
          "name": "stderr"
        },
        {
          "output_type": "stream",
          "text": [
            "number of features: 1024\n",
            "  5%|▌         | 1/20 [00:16<03:15, 10.28s/it, best loss: 0.5428469923007586]"
          ],
          "name": "stdout"
        },
        {
          "output_type": "stream",
          "text": [
            "2021-03-25 21:40:01,397 Previous dataset split restored\n"
          ],
          "name": "stderr"
        },
        {
          "output_type": "stream",
          "text": [
            "n_cnt\n",
            "[1358.]\n",
            "y_means\n",
            "[6.59994988]\n",
            "y_stds\n",
            "[1.29836641]\n",
            "TIMING: dataset construction took 0.072 s\n",
            "Loading dataset from disk.\n",
            "TIMING: dataset construction took 0.016 s\n",
            "Loading dataset from disk.\n",
            "TIMING: dataset construction took 0.018 s\n",
            "Loading dataset from disk.\n",
            "  5%|▌         | 1/20 [00:17<03:15, 10.28s/it, best loss: 0.5428469923007586]"
          ],
          "name": "stdout"
        },
        {
          "output_type": "stream",
          "text": [
            "2021-03-25 21:40:03,236 Wrote model metadata to file ampl_output/H1_std/RF_ecfp_scaffold_regression/f9b300f5-fbf4-4339-9960-586ffb8d59b6/model_metadata.json\n"
          ],
          "name": "stderr"
        },
        {
          "output_type": "stream",
          "text": [
            "Wrote model tarball to ampl_output/H1_std_model_f9b300f5-fbf4-4339-9960-586ffb8d59b6.tar.gz\n",
            "  5%|▌         | 1/20 [00:19<03:15, 10.28s/it, best loss: 0.5428469923007586]"
          ],
          "name": "stdout"
        },
        {
          "output_type": "stream",
          "text": [
            "2021-03-25 21:40:03,341 Wrote model metrics to file ampl_output/H1_std/RF_ecfp_scaffold_regression/f9b300f5-fbf4-4339-9960-586ffb8d59b6/model_metrics.json\n"
          ],
          "name": "stderr"
        },
        {
          "output_type": "stream",
          "text": [
            "number of features: 1024\n",
            " 10%|█         | 2/20 [00:26<02:58,  9.90s/it, best loss: 0.5428469923007586]"
          ],
          "name": "stdout"
        },
        {
          "output_type": "stream",
          "text": [
            "2021-03-25 21:40:10,699 Previous dataset split restored\n"
          ],
          "name": "stderr"
        },
        {
          "output_type": "stream",
          "text": [
            "n_cnt\n",
            "[1358.]\n",
            "y_means\n",
            "[6.59994988]\n",
            "y_stds\n",
            "[1.29836641]\n",
            "TIMING: dataset construction took 0.076 s\n",
            "Loading dataset from disk.\n",
            "TIMING: dataset construction took 0.016 s\n",
            "Loading dataset from disk.\n",
            "TIMING: dataset construction took 0.019 s\n",
            "Loading dataset from disk.\n",
            " 10%|█         | 2/20 [00:26<02:58,  9.90s/it, best loss: 0.5428469923007586]"
          ],
          "name": "stdout"
        },
        {
          "output_type": "stream",
          "text": [
            "2021-03-25 21:40:13,872 Wrote model metadata to file ampl_output/H1_std/RF_ecfp_scaffold_regression/120f4e64-2af6-4194-a75c-e9a1ad99ceca/model_metadata.json\n"
          ],
          "name": "stderr"
        },
        {
          "output_type": "stream",
          "text": [
            "Wrote model tarball to ampl_output/H1_std_model_120f4e64-2af6-4194-a75c-e9a1ad99ceca.tar.gz\n",
            " 10%|█         | 2/20 [00:30<02:58,  9.90s/it, best loss: 0.5428469923007586]"
          ],
          "name": "stdout"
        },
        {
          "output_type": "stream",
          "text": [
            "2021-03-25 21:40:14,083 Wrote model metrics to file ampl_output/H1_std/RF_ecfp_scaffold_regression/120f4e64-2af6-4194-a75c-e9a1ad99ceca/model_metrics.json\n"
          ],
          "name": "stderr"
        },
        {
          "output_type": "stream",
          "text": [
            "number of features: 1024\n",
            " 15%|█▌        | 3/20 [00:36<02:52, 10.15s/it, best loss: 0.5428469923007586]"
          ],
          "name": "stdout"
        },
        {
          "output_type": "stream",
          "text": [
            "2021-03-25 21:40:21,267 Previous dataset split restored\n"
          ],
          "name": "stderr"
        },
        {
          "output_type": "stream",
          "text": [
            "n_cnt\n",
            "[1358.]\n",
            "y_means\n",
            "[6.59994988]\n",
            "y_stds\n",
            "[1.29836641]\n",
            "TIMING: dataset construction took 0.086 s\n",
            "Loading dataset from disk.\n",
            "TIMING: dataset construction took 0.017 s\n",
            "Loading dataset from disk.\n",
            "TIMING: dataset construction took 0.017 s\n",
            "Loading dataset from disk.\n",
            " 15%|█▌        | 3/20 [00:37<02:52, 10.15s/it, best loss: 0.5428469923007586]"
          ],
          "name": "stdout"
        },
        {
          "output_type": "stream",
          "text": [
            "2021-03-25 21:40:24,150 Wrote model metadata to file ampl_output/H1_std/RF_ecfp_scaffold_regression/c88eb9b6-d6be-494b-92eb-990580a64d59/model_metadata.json\n"
          ],
          "name": "stderr"
        },
        {
          "output_type": "stream",
          "text": [
            "Wrote model tarball to ampl_output/H1_std_model_c88eb9b6-d6be-494b-92eb-990580a64d59.tar.gz\n",
            " 15%|█▌        | 3/20 [00:40<02:52, 10.15s/it, best loss: 0.5428469923007586]"
          ],
          "name": "stdout"
        },
        {
          "output_type": "stream",
          "text": [
            "2021-03-25 21:40:24,372 Wrote model metrics to file ampl_output/H1_std/RF_ecfp_scaffold_regression/c88eb9b6-d6be-494b-92eb-990580a64d59/model_metrics.json\n"
          ],
          "name": "stderr"
        },
        {
          "output_type": "stream",
          "text": [
            "number of features: 1024\n",
            " 20%|██        | 4/20 [00:46<02:43, 10.19s/it, best loss: 0.5391315560900289]"
          ],
          "name": "stdout"
        },
        {
          "output_type": "stream",
          "text": [
            "2021-03-25 21:40:31,569 Previous dataset split restored\n"
          ],
          "name": "stderr"
        },
        {
          "output_type": "stream",
          "text": [
            "n_cnt\n",
            "[1358.]\n",
            "y_means\n",
            "[6.59994988]\n",
            "y_stds\n",
            "[1.29836641]\n",
            "TIMING: dataset construction took 0.074 s\n",
            "Loading dataset from disk.\n",
            "TIMING: dataset construction took 0.014 s\n",
            "Loading dataset from disk.\n",
            "TIMING: dataset construction took 0.014 s\n",
            "Loading dataset from disk.\n",
            " 20%|██        | 4/20 [00:47<02:43, 10.19s/it, best loss: 0.5391315560900289]"
          ],
          "name": "stdout"
        },
        {
          "output_type": "stream",
          "text": [
            "2021-03-25 21:40:34,577 Wrote model metadata to file ampl_output/H1_std/RF_ecfp_scaffold_regression/6eca6577-d14a-403d-ac56-09f2c0185b3f/model_metadata.json\n"
          ],
          "name": "stderr"
        },
        {
          "output_type": "stream",
          "text": [
            "Wrote model tarball to ampl_output/H1_std_model_6eca6577-d14a-403d-ac56-09f2c0185b3f.tar.gz\n",
            " 20%|██        | 4/20 [00:50<02:43, 10.19s/it, best loss: 0.5391315560900289]"
          ],
          "name": "stdout"
        },
        {
          "output_type": "stream",
          "text": [
            "2021-03-25 21:40:34,807 Wrote model metrics to file ampl_output/H1_std/RF_ecfp_scaffold_regression/6eca6577-d14a-403d-ac56-09f2c0185b3f/model_metrics.json\n"
          ],
          "name": "stderr"
        },
        {
          "output_type": "stream",
          "text": [
            "number of features: 1024\n",
            " 25%|██▌       | 5/20 [00:57<02:33, 10.27s/it, best loss: 0.5391315560900289]"
          ],
          "name": "stdout"
        },
        {
          "output_type": "stream",
          "text": [
            "2021-03-25 21:40:41,943 Previous dataset split restored\n"
          ],
          "name": "stderr"
        },
        {
          "output_type": "stream",
          "text": [
            "n_cnt\n",
            "[1358.]\n",
            "y_means\n",
            "[6.59994988]\n",
            "y_stds\n",
            "[1.29836641]\n",
            "TIMING: dataset construction took 0.078 s\n",
            "Loading dataset from disk.\n",
            "TIMING: dataset construction took 0.014 s\n",
            "Loading dataset from disk.\n",
            "TIMING: dataset construction took 0.018 s\n",
            "Loading dataset from disk.\n",
            " 25%|██▌       | 5/20 [00:58<02:33, 10.27s/it, best loss: 0.5391315560900289]"
          ],
          "name": "stdout"
        },
        {
          "output_type": "stream",
          "text": [
            "2021-03-25 21:40:44,551 Wrote model metadata to file ampl_output/H1_std/RF_ecfp_scaffold_regression/d3d0f8c7-d49e-4426-8836-10ec8ba2b33a/model_metadata.json\n"
          ],
          "name": "stderr"
        },
        {
          "output_type": "stream",
          "text": [
            "Wrote model tarball to ampl_output/H1_std_model_d3d0f8c7-d49e-4426-8836-10ec8ba2b33a.tar.gz\n",
            " 25%|██▌       | 5/20 [01:00<02:33, 10.27s/it, best loss: 0.5391315560900289]"
          ],
          "name": "stdout"
        },
        {
          "output_type": "stream",
          "text": [
            "2021-03-25 21:40:44,628 Wrote model metrics to file ampl_output/H1_std/RF_ecfp_scaffold_regression/d3d0f8c7-d49e-4426-8836-10ec8ba2b33a/model_metrics.json\n"
          ],
          "name": "stderr"
        },
        {
          "output_type": "stream",
          "text": [
            "number of features: 1024\n",
            " 30%|███       | 6/20 [01:07<02:21, 10.13s/it, best loss: 0.5391315560900289]"
          ],
          "name": "stdout"
        },
        {
          "output_type": "stream",
          "text": [
            "2021-03-25 21:40:51,745 Previous dataset split restored\n"
          ],
          "name": "stderr"
        },
        {
          "output_type": "stream",
          "text": [
            "n_cnt\n",
            "[1358.]\n",
            "y_means\n",
            "[6.59994988]\n",
            "y_stds\n",
            "[1.29836641]\n",
            "TIMING: dataset construction took 0.075 s\n",
            "Loading dataset from disk.\n",
            "TIMING: dataset construction took 0.019 s\n",
            "Loading dataset from disk.\n",
            "TIMING: dataset construction took 0.021 s\n",
            "Loading dataset from disk.\n",
            " 30%|███       | 6/20 [01:07<02:21, 10.13s/it, best loss: 0.5391315560900289]"
          ],
          "name": "stdout"
        },
        {
          "output_type": "stream",
          "text": [
            "2021-03-25 21:40:52,992 Wrote model metadata to file ampl_output/H1_std/RF_ecfp_scaffold_regression/8fdcc427-942c-4583-b372-6b8d03d3a6d8/model_metadata.json\n"
          ],
          "name": "stderr"
        },
        {
          "output_type": "stream",
          "text": [
            "Wrote model tarball to ampl_output/H1_std_model_8fdcc427-942c-4583-b372-6b8d03d3a6d8.tar.gz\n",
            " 30%|███       | 6/20 [01:08<02:21, 10.13s/it, best loss: 0.5391315560900289]"
          ],
          "name": "stdout"
        },
        {
          "output_type": "stream",
          "text": [
            "2021-03-25 21:40:53,022 Wrote model metrics to file ampl_output/H1_std/RF_ecfp_scaffold_regression/8fdcc427-942c-4583-b372-6b8d03d3a6d8/model_metrics.json\n"
          ],
          "name": "stderr"
        },
        {
          "output_type": "stream",
          "text": [
            "number of features: 1024\n",
            " 35%|███▌      | 7/20 [01:15<02:04,  9.61s/it, best loss: 0.5391315560900289]"
          ],
          "name": "stdout"
        },
        {
          "output_type": "stream",
          "text": [
            "2021-03-25 21:41:00,205 Previous dataset split restored\n"
          ],
          "name": "stderr"
        },
        {
          "output_type": "stream",
          "text": [
            "n_cnt\n",
            "[1358.]\n",
            "y_means\n",
            "[6.59994988]\n",
            "y_stds\n",
            "[1.29836641]\n",
            "TIMING: dataset construction took 0.077 s\n",
            "Loading dataset from disk.\n",
            "TIMING: dataset construction took 0.015 s\n",
            "Loading dataset from disk.\n",
            "TIMING: dataset construction took 0.017 s\n",
            "Loading dataset from disk.\n",
            " 35%|███▌      | 7/20 [01:16<02:04,  9.61s/it, best loss: 0.5391315560900289]"
          ],
          "name": "stdout"
        },
        {
          "output_type": "stream",
          "text": [
            "2021-03-25 21:41:01,724 Wrote model metadata to file ampl_output/H1_std/RF_ecfp_scaffold_regression/c1ea924b-97ae-42e8-8ed8-c144f96c6b41/model_metadata.json\n"
          ],
          "name": "stderr"
        },
        {
          "output_type": "stream",
          "text": [
            "Wrote model tarball to ampl_output/H1_std_model_c1ea924b-97ae-42e8-8ed8-c144f96c6b41.tar.gz\n",
            " 35%|███▌      | 7/20 [01:17<02:04,  9.61s/it, best loss: 0.5391315560900289]"
          ],
          "name": "stdout"
        },
        {
          "output_type": "stream",
          "text": [
            "2021-03-25 21:41:01,779 Wrote model metrics to file ampl_output/H1_std/RF_ecfp_scaffold_regression/c1ea924b-97ae-42e8-8ed8-c144f96c6b41/model_metrics.json\n"
          ],
          "name": "stderr"
        },
        {
          "output_type": "stream",
          "text": [
            "number of features: 1024\n",
            " 40%|████      | 8/20 [01:24<01:52,  9.35s/it, best loss: 0.5391315560900289]"
          ],
          "name": "stdout"
        },
        {
          "output_type": "stream",
          "text": [
            "2021-03-25 21:41:08,861 Previous dataset split restored\n"
          ],
          "name": "stderr"
        },
        {
          "output_type": "stream",
          "text": [
            "n_cnt\n",
            "[1358.]\n",
            "y_means\n",
            "[6.59994988]\n",
            "y_stds\n",
            "[1.29836641]\n",
            "TIMING: dataset construction took 0.075 s\n",
            "Loading dataset from disk.\n",
            "TIMING: dataset construction took 0.016 s\n",
            "Loading dataset from disk.\n",
            "TIMING: dataset construction took 0.016 s\n",
            "Loading dataset from disk.\n",
            " 40%|████      | 8/20 [01:25<01:52,  9.35s/it, best loss: 0.5391315560900289]"
          ],
          "name": "stdout"
        },
        {
          "output_type": "stream",
          "text": [
            "2021-03-25 21:41:11,655 Wrote model metadata to file ampl_output/H1_std/RF_ecfp_scaffold_regression/dea0fc2b-50b7-48d3-974d-0f06a5ddea57/model_metadata.json\n"
          ],
          "name": "stderr"
        },
        {
          "output_type": "stream",
          "text": [
            "Wrote model tarball to ampl_output/H1_std_model_dea0fc2b-50b7-48d3-974d-0f06a5ddea57.tar.gz\n",
            " 40%|████      | 8/20 [01:27<01:52,  9.35s/it, best loss: 0.5391315560900289]"
          ],
          "name": "stdout"
        },
        {
          "output_type": "stream",
          "text": [
            "2021-03-25 21:41:11,821 Wrote model metrics to file ampl_output/H1_std/RF_ecfp_scaffold_regression/dea0fc2b-50b7-48d3-974d-0f06a5ddea57/model_metrics.json\n"
          ],
          "name": "stderr"
        },
        {
          "output_type": "stream",
          "text": [
            "number of features: 1024\n",
            " 45%|████▌     | 9/20 [01:34<01:45,  9.56s/it, best loss: 0.5391315560900289]"
          ],
          "name": "stdout"
        },
        {
          "output_type": "stream",
          "text": [
            "2021-03-25 21:41:18,931 Previous dataset split restored\n"
          ],
          "name": "stderr"
        },
        {
          "output_type": "stream",
          "text": [
            "n_cnt\n",
            "[1358.]\n",
            "y_means\n",
            "[6.59994988]\n",
            "y_stds\n",
            "[1.29836641]\n",
            "TIMING: dataset construction took 0.067 s\n",
            "Loading dataset from disk.\n",
            "TIMING: dataset construction took 0.017 s\n",
            "Loading dataset from disk.\n",
            "TIMING: dataset construction took 0.020 s\n",
            "Loading dataset from disk.\n",
            " 45%|████▌     | 9/20 [01:35<01:45,  9.56s/it, best loss: 0.5391315560900289]"
          ],
          "name": "stdout"
        },
        {
          "output_type": "stream",
          "text": [
            "2021-03-25 21:41:20,664 Wrote model metadata to file ampl_output/H1_std/RF_ecfp_scaffold_regression/5d1dcfd5-7732-4cf7-a0b7-feaa4e9540c3/model_metadata.json\n"
          ],
          "name": "stderr"
        },
        {
          "output_type": "stream",
          "text": [
            "Wrote model tarball to ampl_output/H1_std_model_5d1dcfd5-7732-4cf7-a0b7-feaa4e9540c3.tar.gz\n",
            " 45%|████▌     | 9/20 [01:36<01:45,  9.56s/it, best loss: 0.5391315560900289]"
          ],
          "name": "stdout"
        },
        {
          "output_type": "stream",
          "text": [
            "2021-03-25 21:41:20,782 Wrote model metrics to file ampl_output/H1_std/RF_ecfp_scaffold_regression/5d1dcfd5-7732-4cf7-a0b7-feaa4e9540c3/model_metrics.json\n"
          ],
          "name": "stderr"
        },
        {
          "output_type": "stream",
          "text": [
            "number of features: 1024\n",
            " 50%|█████     | 10/20 [01:43<01:33,  9.38s/it, best loss: 0.5391315560900289]"
          ],
          "name": "stdout"
        },
        {
          "output_type": "stream",
          "text": [
            "2021-03-25 21:41:27,781 Previous dataset split restored\n"
          ],
          "name": "stderr"
        },
        {
          "output_type": "stream",
          "text": [
            "n_cnt\n",
            "[1358.]\n",
            "y_means\n",
            "[6.59994988]\n",
            "y_stds\n",
            "[1.29836641]\n",
            "TIMING: dataset construction took 0.081 s\n",
            "Loading dataset from disk.\n",
            "TIMING: dataset construction took 0.015 s\n",
            "Loading dataset from disk.\n",
            "TIMING: dataset construction took 0.022 s\n",
            "Loading dataset from disk.\n",
            " 50%|█████     | 10/20 [01:44<01:33,  9.38s/it, best loss: 0.5391315560900289]"
          ],
          "name": "stdout"
        },
        {
          "output_type": "stream",
          "text": [
            "2021-03-25 21:41:29,248 Wrote model metadata to file ampl_output/H1_std/RF_ecfp_scaffold_regression/e6dd142d-50ad-4ae7-9c86-b9bddbd5ba65/model_metadata.json\n"
          ],
          "name": "stderr"
        },
        {
          "output_type": "stream",
          "text": [
            "Wrote model tarball to ampl_output/H1_std_model_e6dd142d-50ad-4ae7-9c86-b9bddbd5ba65.tar.gz\n",
            " 50%|█████     | 10/20 [01:45<01:33,  9.38s/it, best loss: 0.5391315560900289]"
          ],
          "name": "stdout"
        },
        {
          "output_type": "stream",
          "text": [
            "2021-03-25 21:41:29,326 Wrote model metrics to file ampl_output/H1_std/RF_ecfp_scaffold_regression/e6dd142d-50ad-4ae7-9c86-b9bddbd5ba65/model_metrics.json\n"
          ],
          "name": "stderr"
        },
        {
          "output_type": "stream",
          "text": [
            "number of features: 1024\n",
            " 55%|█████▌    | 11/20 [01:51<01:22,  9.13s/it, best loss: 0.5391315560900289]"
          ],
          "name": "stdout"
        },
        {
          "output_type": "stream",
          "text": [
            "2021-03-25 21:41:36,305 Previous dataset split restored\n"
          ],
          "name": "stderr"
        },
        {
          "output_type": "stream",
          "text": [
            "n_cnt\n",
            "[1358.]\n",
            "y_means\n",
            "[6.59994988]\n",
            "y_stds\n",
            "[1.29836641]\n",
            "TIMING: dataset construction took 0.073 s\n",
            "Loading dataset from disk.\n",
            "TIMING: dataset construction took 0.017 s\n",
            "Loading dataset from disk.\n",
            "TIMING: dataset construction took 0.021 s\n",
            "Loading dataset from disk.\n",
            " 55%|█████▌    | 11/20 [01:52<01:22,  9.13s/it, best loss: 0.5391315560900289]"
          ],
          "name": "stdout"
        },
        {
          "output_type": "stream",
          "text": [
            "2021-03-25 21:41:37,585 Wrote model metadata to file ampl_output/H1_std/RF_ecfp_scaffold_regression/03e1d465-b8fc-4cda-8414-1e16ea7017a1/model_metadata.json\n"
          ],
          "name": "stderr"
        },
        {
          "output_type": "stream",
          "text": [
            "Wrote model tarball to ampl_output/H1_std_model_03e1d465-b8fc-4cda-8414-1e16ea7017a1.tar.gz\n",
            " 55%|█████▌    | 11/20 [01:53<01:22,  9.13s/it, best loss: 0.5391315560900289]"
          ],
          "name": "stdout"
        },
        {
          "output_type": "stream",
          "text": [
            "2021-03-25 21:41:37,617 Wrote model metrics to file ampl_output/H1_std/RF_ecfp_scaffold_regression/03e1d465-b8fc-4cda-8414-1e16ea7017a1/model_metrics.json\n"
          ],
          "name": "stderr"
        },
        {
          "output_type": "stream",
          "text": [
            "number of features: 1024\n",
            " 60%|██████    | 12/20 [02:00<01:11,  8.88s/it, best loss: 0.4969218988301498]"
          ],
          "name": "stdout"
        },
        {
          "output_type": "stream",
          "text": [
            "2021-03-25 21:41:44,700 Previous dataset split restored\n"
          ],
          "name": "stderr"
        },
        {
          "output_type": "stream",
          "text": [
            "n_cnt\n",
            "[1358.]\n",
            "y_means\n",
            "[6.59994988]\n",
            "y_stds\n",
            "[1.29836641]\n",
            "TIMING: dataset construction took 0.070 s\n",
            "Loading dataset from disk.\n",
            "TIMING: dataset construction took 0.016 s\n",
            "Loading dataset from disk.\n",
            "TIMING: dataset construction took 0.021 s\n",
            "Loading dataset from disk.\n",
            " 60%|██████    | 12/20 [02:00<01:11,  8.88s/it, best loss: 0.4969218988301498]"
          ],
          "name": "stdout"
        },
        {
          "output_type": "stream",
          "text": [
            "2021-03-25 21:41:46,931 Wrote model metadata to file ampl_output/H1_std/RF_ecfp_scaffold_regression/ec2b7e51-b981-4477-964e-22afdd1a4c5b/model_metadata.json\n"
          ],
          "name": "stderr"
        },
        {
          "output_type": "stream",
          "text": [
            "Wrote model tarball to ampl_output/H1_std_model_ec2b7e51-b981-4477-964e-22afdd1a4c5b.tar.gz\n",
            " 60%|██████    | 12/20 [02:03<01:11,  8.88s/it, best loss: 0.4969218988301498]"
          ],
          "name": "stdout"
        },
        {
          "output_type": "stream",
          "text": [
            "2021-03-25 21:41:47,084 Wrote model metrics to file ampl_output/H1_std/RF_ecfp_scaffold_regression/ec2b7e51-b981-4477-964e-22afdd1a4c5b/model_metrics.json\n"
          ],
          "name": "stderr"
        },
        {
          "output_type": "stream",
          "text": [
            "number of features: 1024\n",
            " 65%|██████▌   | 13/20 [02:09<01:03,  9.05s/it, best loss: 0.4969218988301498]"
          ],
          "name": "stdout"
        },
        {
          "output_type": "stream",
          "text": [
            "2021-03-25 21:41:54,099 Previous dataset split restored\n"
          ],
          "name": "stderr"
        },
        {
          "output_type": "stream",
          "text": [
            "n_cnt\n",
            "[1358.]\n",
            "y_means\n",
            "[6.59994988]\n",
            "y_stds\n",
            "[1.29836641]\n",
            "TIMING: dataset construction took 0.078 s\n",
            "Loading dataset from disk.\n",
            "TIMING: dataset construction took 0.018 s\n",
            "Loading dataset from disk.\n",
            "TIMING: dataset construction took 0.021 s\n",
            "Loading dataset from disk.\n",
            " 65%|██████▌   | 13/20 [02:10<01:03,  9.05s/it, best loss: 0.4969218988301498]"
          ],
          "name": "stdout"
        },
        {
          "output_type": "stream",
          "text": [
            "2021-03-25 21:41:56,808 Wrote model metadata to file ampl_output/H1_std/RF_ecfp_scaffold_regression/497fbbb1-e310-46a9-adca-4032265b3313/model_metadata.json\n"
          ],
          "name": "stderr"
        },
        {
          "output_type": "stream",
          "text": [
            "Wrote model tarball to ampl_output/H1_std_model_497fbbb1-e310-46a9-adca-4032265b3313.tar.gz\n",
            " 65%|██████▌   | 13/20 [02:12<01:03,  9.05s/it, best loss: 0.4969218988301498]"
          ],
          "name": "stdout"
        },
        {
          "output_type": "stream",
          "text": [
            "2021-03-25 21:41:57,006 Wrote model metrics to file ampl_output/H1_std/RF_ecfp_scaffold_regression/497fbbb1-e310-46a9-adca-4032265b3313/model_metrics.json\n"
          ],
          "name": "stderr"
        },
        {
          "output_type": "stream",
          "text": [
            "number of features: 1024\n",
            " 70%|███████   | 14/20 [02:19<00:55,  9.32s/it, best loss: 0.4969218988301498]"
          ],
          "name": "stdout"
        },
        {
          "output_type": "stream",
          "text": [
            "2021-03-25 21:42:03,949 Previous dataset split restored\n"
          ],
          "name": "stderr"
        },
        {
          "output_type": "stream",
          "text": [
            "n_cnt\n",
            "[1358.]\n",
            "y_means\n",
            "[6.59994988]\n",
            "y_stds\n",
            "[1.29836641]\n",
            "TIMING: dataset construction took 0.071 s\n",
            "Loading dataset from disk.\n",
            "TIMING: dataset construction took 0.015 s\n",
            "Loading dataset from disk.\n",
            "TIMING: dataset construction took 0.018 s\n",
            "Loading dataset from disk.\n",
            " 70%|███████   | 14/20 [02:20<00:55,  9.32s/it, best loss: 0.4969218988301498]"
          ],
          "name": "stdout"
        },
        {
          "output_type": "stream",
          "text": [
            "2021-03-25 21:42:05,250 Wrote model metadata to file ampl_output/H1_std/RF_ecfp_scaffold_regression/cb7f6a33-255f-4b6c-9c02-f30796afb467/model_metadata.json\n"
          ],
          "name": "stderr"
        },
        {
          "output_type": "stream",
          "text": [
            "Wrote model tarball to ampl_output/H1_std_model_cb7f6a33-255f-4b6c-9c02-f30796afb467.tar.gz\n",
            " 70%|███████   | 14/20 [02:21<00:55,  9.32s/it, best loss: 0.4969218988301498]"
          ],
          "name": "stdout"
        },
        {
          "output_type": "stream",
          "text": [
            "2021-03-25 21:42:05,305 Wrote model metrics to file ampl_output/H1_std/RF_ecfp_scaffold_regression/cb7f6a33-255f-4b6c-9c02-f30796afb467/model_metrics.json\n"
          ],
          "name": "stderr"
        },
        {
          "output_type": "stream",
          "text": [
            "number of features: 1024\n",
            " 75%|███████▌  | 15/20 [02:27<00:45,  9.01s/it, best loss: 0.4969218988301498]"
          ],
          "name": "stdout"
        },
        {
          "output_type": "stream",
          "text": [
            "2021-03-25 21:42:12,325 Previous dataset split restored\n"
          ],
          "name": "stderr"
        },
        {
          "output_type": "stream",
          "text": [
            "n_cnt\n",
            "[1358.]\n",
            "y_means\n",
            "[6.59994988]\n",
            "y_stds\n",
            "[1.29836641]\n",
            "TIMING: dataset construction took 0.096 s\n",
            "Loading dataset from disk.\n",
            "TIMING: dataset construction took 0.016 s\n",
            "Loading dataset from disk.\n",
            "TIMING: dataset construction took 0.022 s\n",
            "Loading dataset from disk.\n",
            " 75%|███████▌  | 15/20 [02:28<00:45,  9.01s/it, best loss: 0.4969218988301498]"
          ],
          "name": "stdout"
        },
        {
          "output_type": "stream",
          "text": [
            "2021-03-25 21:42:14,124 Wrote model metadata to file ampl_output/H1_std/RF_ecfp_scaffold_regression/09e278f8-796a-4bc9-a927-651aec9b70e1/model_metadata.json\n"
          ],
          "name": "stderr"
        },
        {
          "output_type": "stream",
          "text": [
            "Wrote model tarball to ampl_output/H1_std_model_09e278f8-796a-4bc9-a927-651aec9b70e1.tar.gz\n",
            " 75%|███████▌  | 15/20 [02:30<00:45,  9.01s/it, best loss: 0.4969218988301498]"
          ],
          "name": "stdout"
        },
        {
          "output_type": "stream",
          "text": [
            "2021-03-25 21:42:14,215 Wrote model metrics to file ampl_output/H1_std/RF_ecfp_scaffold_regression/09e278f8-796a-4bc9-a927-651aec9b70e1/model_metrics.json\n"
          ],
          "name": "stderr"
        },
        {
          "output_type": "stream",
          "text": [
            "number of features: 1024\n",
            " 80%|████████  | 16/20 [02:36<00:35,  8.98s/it, best loss: 0.4969218988301498]"
          ],
          "name": "stdout"
        },
        {
          "output_type": "stream",
          "text": [
            "2021-03-25 21:42:21,272 Previous dataset split restored\n"
          ],
          "name": "stderr"
        },
        {
          "output_type": "stream",
          "text": [
            "n_cnt\n",
            "[1358.]\n",
            "y_means\n",
            "[6.59994988]\n",
            "y_stds\n",
            "[1.29836641]\n",
            "TIMING: dataset construction took 0.074 s\n",
            "Loading dataset from disk.\n",
            "TIMING: dataset construction took 0.015 s\n",
            "Loading dataset from disk.\n",
            "TIMING: dataset construction took 0.020 s\n",
            "Loading dataset from disk.\n",
            " 80%|████████  | 16/20 [02:37<00:35,  8.98s/it, best loss: 0.4969218988301498]"
          ],
          "name": "stdout"
        },
        {
          "output_type": "stream",
          "text": [
            "2021-03-25 21:42:23,731 Wrote model metadata to file ampl_output/H1_std/RF_ecfp_scaffold_regression/4903097a-332f-484b-9b7e-506a408cee6b/model_metadata.json\n"
          ],
          "name": "stderr"
        },
        {
          "output_type": "stream",
          "text": [
            "Wrote model tarball to ampl_output/H1_std_model_4903097a-332f-484b-9b7e-506a408cee6b.tar.gz\n",
            " 80%|████████  | 16/20 [02:39<00:35,  8.98s/it, best loss: 0.4969218988301498]"
          ],
          "name": "stdout"
        },
        {
          "output_type": "stream",
          "text": [
            "2021-03-25 21:42:23,941 Wrote model metrics to file ampl_output/H1_std/RF_ecfp_scaffold_regression/4903097a-332f-484b-9b7e-506a408cee6b/model_metrics.json\n"
          ],
          "name": "stderr"
        },
        {
          "output_type": "stream",
          "text": [
            "number of features: 1024\n",
            " 85%|████████▌ | 17/20 [02:46<00:27,  9.20s/it, best loss: 0.4969218988301498]"
          ],
          "name": "stdout"
        },
        {
          "output_type": "stream",
          "text": [
            "2021-03-25 21:42:30,965 Previous dataset split restored\n"
          ],
          "name": "stderr"
        },
        {
          "output_type": "stream",
          "text": [
            "n_cnt\n",
            "[1358.]\n",
            "y_means\n",
            "[6.59994988]\n",
            "y_stds\n",
            "[1.29836641]\n",
            "TIMING: dataset construction took 0.075 s\n",
            "Loading dataset from disk.\n",
            "TIMING: dataset construction took 0.016 s\n",
            "Loading dataset from disk.\n",
            "TIMING: dataset construction took 0.020 s\n",
            "Loading dataset from disk.\n",
            " 85%|████████▌ | 17/20 [02:47<00:27,  9.20s/it, best loss: 0.4969218988301498]"
          ],
          "name": "stdout"
        },
        {
          "output_type": "stream",
          "text": [
            "2021-03-25 21:42:32,642 Wrote model metadata to file ampl_output/H1_std/RF_ecfp_scaffold_regression/1220b2d6-7078-4a7d-bf70-95dba3b409b7/model_metadata.json\n"
          ],
          "name": "stderr"
        },
        {
          "output_type": "stream",
          "text": [
            "Wrote model tarball to ampl_output/H1_std_model_1220b2d6-7078-4a7d-bf70-95dba3b409b7.tar.gz\n",
            " 85%|████████▌ | 17/20 [02:48<00:27,  9.20s/it, best loss: 0.4969218988301498]"
          ],
          "name": "stdout"
        },
        {
          "output_type": "stream",
          "text": [
            "2021-03-25 21:42:32,720 Wrote model metrics to file ampl_output/H1_std/RF_ecfp_scaffold_regression/1220b2d6-7078-4a7d-bf70-95dba3b409b7/model_metrics.json\n"
          ],
          "name": "stderr"
        },
        {
          "output_type": "stream",
          "text": [
            "number of features: 1024\n",
            " 90%|█████████ | 18/20 [02:55<00:18,  9.08s/it, best loss: 0.4969218988301498]"
          ],
          "name": "stdout"
        },
        {
          "output_type": "stream",
          "text": [
            "2021-03-25 21:42:39,855 Previous dataset split restored\n"
          ],
          "name": "stderr"
        },
        {
          "output_type": "stream",
          "text": [
            "n_cnt\n",
            "[1358.]\n",
            "y_means\n",
            "[6.59994988]\n",
            "y_stds\n",
            "[1.29836641]\n",
            "TIMING: dataset construction took 0.075 s\n",
            "Loading dataset from disk.\n",
            "TIMING: dataset construction took 0.015 s\n",
            "Loading dataset from disk.\n",
            "TIMING: dataset construction took 0.018 s\n",
            "Loading dataset from disk.\n",
            " 90%|█████████ | 18/20 [02:56<00:18,  9.08s/it, best loss: 0.4969218988301498]"
          ],
          "name": "stdout"
        },
        {
          "output_type": "stream",
          "text": [
            "2021-03-25 21:42:42,621 Wrote model metadata to file ampl_output/H1_std/RF_ecfp_scaffold_regression/9f8db4db-775e-4ad9-acc6-970211c012a4/model_metadata.json\n"
          ],
          "name": "stderr"
        },
        {
          "output_type": "stream",
          "text": [
            "Wrote model tarball to ampl_output/H1_std_model_9f8db4db-775e-4ad9-acc6-970211c012a4.tar.gz\n",
            " 90%|█████████ | 18/20 [02:58<00:18,  9.08s/it, best loss: 0.4969218988301498]"
          ],
          "name": "stdout"
        },
        {
          "output_type": "stream",
          "text": [
            "2021-03-25 21:42:42,887 Wrote model metrics to file ampl_output/H1_std/RF_ecfp_scaffold_regression/9f8db4db-775e-4ad9-acc6-970211c012a4/model_metrics.json\n"
          ],
          "name": "stderr"
        },
        {
          "output_type": "stream",
          "text": [
            "number of features: 1024\n",
            " 95%|█████████▌| 19/20 [03:05<00:09,  9.40s/it, best loss: 0.4969218988301498]"
          ],
          "name": "stdout"
        },
        {
          "output_type": "stream",
          "text": [
            "2021-03-25 21:42:50,061 Previous dataset split restored\n"
          ],
          "name": "stderr"
        },
        {
          "output_type": "stream",
          "text": [
            "n_cnt\n",
            "[1358.]\n",
            "y_means\n",
            "[6.59994988]\n",
            "y_stds\n",
            "[1.29836641]\n",
            "TIMING: dataset construction took 0.089 s\n",
            "Loading dataset from disk.\n",
            "TIMING: dataset construction took 0.015 s\n",
            "Loading dataset from disk.\n",
            "TIMING: dataset construction took 0.023 s\n",
            "Loading dataset from disk.\n",
            " 95%|█████████▌| 19/20 [03:06<00:09,  9.40s/it, best loss: 0.4969218988301498]"
          ],
          "name": "stdout"
        },
        {
          "output_type": "stream",
          "text": [
            "2021-03-25 21:42:52,820 Wrote model metadata to file ampl_output/H1_std/RF_ecfp_scaffold_regression/2109ba40-a8d5-4e4e-980f-37842de6da77/model_metadata.json\n"
          ],
          "name": "stderr"
        },
        {
          "output_type": "stream",
          "text": [
            "Wrote model tarball to ampl_output/H1_std_model_2109ba40-a8d5-4e4e-980f-37842de6da77.tar.gz\n",
            " 95%|█████████▌| 19/20 [03:08<00:09,  9.40s/it, best loss: 0.4969218988301498]"
          ],
          "name": "stdout"
        },
        {
          "output_type": "stream",
          "text": [
            "2021-03-25 21:42:52,981 Wrote model metrics to file ampl_output/H1_std/RF_ecfp_scaffold_regression/2109ba40-a8d5-4e4e-980f-37842de6da77/model_metrics.json\n"
          ],
          "name": "stderr"
        },
        {
          "output_type": "stream",
          "text": [
            "100%|██████████| 20/20 [03:08<00:00,  9.45s/it, best loss: 0.4969218988301498]\n"
          ],
          "name": "stdout"
        }
      ]
    },
    {
      "cell_type": "code",
      "metadata": {
        "id": "sC-LVt3VtPDc",
        "outputId": "a8d389bf-1ea5-4eb5-c219-a48fa3b3ec05",
        "colab": {
          "base_uri": "https://localhost:8080/",
          "height": 635
        }
      },
      "source": [
        "r2_list = [1-trials.trials[i][\"result\"][\"loss\"] for i in range(len(trials.trials))]\n",
        "fig, ax = plt.subplots(1,1,figsize=(10,10))\n",
        "sns.lineplot(x=list(range(1,len(trials.trials)+1)), y=r2_list, ax=ax)\n",
        "ax.set_ylim(0.2,0.6)"
      ],
      "execution_count": 33,
      "outputs": [
        {
          "output_type": "execute_result",
          "data": {
            "text/plain": [
              "(0.2, 0.6)"
            ]
          },
          "metadata": {
            "tags": []
          },
          "execution_count": 33
        },
        {
          "output_type": "display_data",
          "data": {
            "image/png": "[encoded data removed]",
            "text/plain": [
              "<Figure size 720x720 with 1 Axes>"
            ]
          },
          "metadata": {
            "tags": []
          }
        }
      ]
    },
    {
      "cell_type": "code",
      "metadata": {
        "id": "-2_z-vFLtUYb"
      },
      "source": [
        "rfe_list = [trials.trials[i][\"result\"][\"rf_estimator\"] for i in range(len(trials.trials))]\n",
        "rfd_list = [trials.trials[i][\"result\"][\"rf_depth\"] for i in range(len(trials.trials))]\n",
        "rff_list = [trials.trials[i][\"result\"][\"rf_feature\"] for i in range(len(trials.trials))]"
      ],
      "execution_count": 34,
      "outputs": []
    },
    {
      "cell_type": "code",
      "metadata": {
        "id": "sDMxDhM5tXHa",
        "outputId": "c8426d7b-85ea-4c40-abcd-9031058abe98",
        "colab": {
          "base_uri": "https://localhost:8080/",
          "height": 647
        }
      },
      "source": [
        "perf_df = pd.DataFrame({\"rf_estimators\": rfe_list, \"rf_max_depth\": rfd_list, \"rf_max_features\": rff_list, \"valid_r2_score\": r2_list})\n",
        "perf_df.sort_values(by=\"valid_r2_score\", ascending=False)"
      ],
      "execution_count": 35,
      "outputs": [
        {
          "output_type": "execute_result",
          "data": {
            "text/html": [
              "<div>\n",
              "<style scoped>\n",
              "    .dataframe tbody tr th:only-of-type {\n",
              "        vertical-align: middle;\n",
              "    }\n",
              "\n",
              "    .dataframe tbody tr th {\n",
              "        vertical-align: top;\n",
              "    }\n",
              "\n",
              "    .dataframe thead th {\n",
              "        text-align: right;\n",
              "    }\n",
              "</style>\n",
              "<table border=\"1\" class=\"dataframe\">\n",
              "  <thead>\n",
              "    <tr style=\"text-align: right;\">\n",
              "      <th></th>\n",
              "      <th>rf_estimators</th>\n",
              "      <th>rf_max_depth</th>\n",
              "      <th>rf_max_features</th>\n",
              "      <th>valid_r2_score</th>\n",
              "    </tr>\n",
              "  </thead>\n",
              "  <tbody>\n",
              "    <tr>\n",
              "      <th>11</th>\n",
              "      <td>21</td>\n",
              "      <td>53</td>\n",
              "      <td>232</td>\n",
              "      <td>0.503078</td>\n",
              "    </tr>\n",
              "    <tr>\n",
              "      <th>15</th>\n",
              "      <td>75</td>\n",
              "      <td>178</td>\n",
              "      <td>153</td>\n",
              "      <td>0.471293</td>\n",
              "    </tr>\n",
              "    <tr>\n",
              "      <th>13</th>\n",
              "      <td>182</td>\n",
              "      <td>213</td>\n",
              "      <td>155</td>\n",
              "      <td>0.469997</td>\n",
              "    </tr>\n",
              "    <tr>\n",
              "      <th>3</th>\n",
              "      <td>199</td>\n",
              "      <td>168</td>\n",
              "      <td>111</td>\n",
              "      <td>0.460868</td>\n",
              "    </tr>\n",
              "    <tr>\n",
              "      <th>4</th>\n",
              "      <td>213</td>\n",
              "      <td>171</td>\n",
              "      <td>146</td>\n",
              "      <td>0.458244</td>\n",
              "    </tr>\n",
              "    <tr>\n",
              "      <th>19</th>\n",
              "      <td>145</td>\n",
              "      <td>130</td>\n",
              "      <td>251</td>\n",
              "      <td>0.457437</td>\n",
              "    </tr>\n",
              "    <tr>\n",
              "      <th>0</th>\n",
              "      <td>188</td>\n",
              "      <td>240</td>\n",
              "      <td>166</td>\n",
              "      <td>0.457153</td>\n",
              "    </tr>\n",
              "    <tr>\n",
              "      <th>2</th>\n",
              "      <td>194</td>\n",
              "      <td>58</td>\n",
              "      <td>217</td>\n",
              "      <td>0.457107</td>\n",
              "    </tr>\n",
              "    <tr>\n",
              "      <th>18</th>\n",
              "      <td>231</td>\n",
              "      <td>169</td>\n",
              "      <td>33</td>\n",
              "      <td>0.456006</td>\n",
              "    </tr>\n",
              "    <tr>\n",
              "      <th>8</th>\n",
              "      <td>154</td>\n",
              "      <td>174</td>\n",
              "      <td>254</td>\n",
              "      <td>0.453084</td>\n",
              "    </tr>\n",
              "    <tr>\n",
              "      <th>12</th>\n",
              "      <td>135</td>\n",
              "      <td>188</td>\n",
              "      <td>121</td>\n",
              "      <td>0.452686</td>\n",
              "    </tr>\n",
              "    <tr>\n",
              "      <th>1</th>\n",
              "      <td>85</td>\n",
              "      <td>63</td>\n",
              "      <td>84</td>\n",
              "      <td>0.445769</td>\n",
              "    </tr>\n",
              "    <tr>\n",
              "      <th>16</th>\n",
              "      <td>195</td>\n",
              "      <td>54</td>\n",
              "      <td>39</td>\n",
              "      <td>0.438847</td>\n",
              "    </tr>\n",
              "    <tr>\n",
              "      <th>17</th>\n",
              "      <td>54</td>\n",
              "      <td>182</td>\n",
              "      <td>175</td>\n",
              "      <td>0.438776</td>\n",
              "    </tr>\n",
              "    <tr>\n",
              "      <th>10</th>\n",
              "      <td>63</td>\n",
              "      <td>46</td>\n",
              "      <td>15</td>\n",
              "      <td>0.433279</td>\n",
              "    </tr>\n",
              "    <tr>\n",
              "      <th>9</th>\n",
              "      <td>97</td>\n",
              "      <td>154</td>\n",
              "      <td>30</td>\n",
              "      <td>0.424299</td>\n",
              "    </tr>\n",
              "    <tr>\n",
              "      <th>14</th>\n",
              "      <td>37</td>\n",
              "      <td>245</td>\n",
              "      <td>41</td>\n",
              "      <td>0.413560</td>\n",
              "    </tr>\n",
              "    <tr>\n",
              "      <th>7</th>\n",
              "      <td>40</td>\n",
              "      <td>233</td>\n",
              "      <td>166</td>\n",
              "      <td>0.412893</td>\n",
              "    </tr>\n",
              "    <tr>\n",
              "      <th>5</th>\n",
              "      <td>253</td>\n",
              "      <td>9</td>\n",
              "      <td>198</td>\n",
              "      <td>0.408888</td>\n",
              "    </tr>\n",
              "    <tr>\n",
              "      <th>6</th>\n",
              "      <td>12</td>\n",
              "      <td>83</td>\n",
              "      <td>224</td>\n",
              "      <td>0.406540</td>\n",
              "    </tr>\n",
              "  </tbody>\n",
              "</table>\n",
              "</div>"
            ],
            "text/plain": [
              "    rf_estimators  rf_max_depth  rf_max_features  valid_r2_score\n",
              "11             21            53              232        0.503078\n",
              "15             75           178              153        0.471293\n",
              "13            182           213              155        0.469997\n",
              "3             199           168              111        0.460868\n",
              "4             213           171              146        0.458244\n",
              "19            145           130              251        0.457437\n",
              "0             188           240              166        0.457153\n",
              "2             194            58              217        0.457107\n",
              "18            231           169               33        0.456006\n",
              "8             154           174              254        0.453084\n",
              "12            135           188              121        0.452686\n",
              "1              85            63               84        0.445769\n",
              "16            195            54               39        0.438847\n",
              "17             54           182              175        0.438776\n",
              "10             63            46               15        0.433279\n",
              "9              97           154               30        0.424299\n",
              "14             37           245               41        0.413560\n",
              "7              40           233              166        0.412893\n",
              "5             253             9              198        0.408888\n",
              "6              12            83              224        0.406540"
            ]
          },
          "metadata": {
            "tags": []
          },
          "execution_count": 35
        }
      ]
    },
    {
      "cell_type": "markdown",
      "metadata": {
        "id": "XB0K5BimtYDS"
      },
      "source": [
        "#### Save Bayesian optimization trial object and continue later"
      ]
    },
    {
      "cell_type": "code",
      "metadata": {
        "id": "VzXDDEF_r8h8"
      },
      "source": [
        "# save the trial object\n",
        "trial_file = os.path.join(\"hp_trial.pkl\")\n",
        "with open(trial_file, \"wb\") as f:\n",
        "    pickle.dump(trials, f)"
      ],
      "execution_count": 36,
      "outputs": []
    },
    {
      "cell_type": "code",
      "metadata": {
        "id": "jSWVhsjfsINl"
      },
      "source": [
        "# load the trial object\n",
        "with open(trial_file, \"rb\") as f:\n",
        "    new_trials = pickle.load(f)"
      ],
      "execution_count": 37,
      "outputs": []
    },
    {
      "cell_type": "code",
      "metadata": {
        "id": "IXcOynF7sLMn",
        "outputId": "2cb5c67f-0e72-4dff-f928-fafe64cad7b7",
        "colab": {
          "base_uri": "https://localhost:8080/"
        }
      },
      "source": [
        "# continue HPO\n",
        "best = fmin(lossfn, space, algo=tpe.suggest, max_evals=50, trials=new_trials)"
      ],
      "execution_count": 38,
      "outputs": [
        {
          "output_type": "stream",
          "text": [
            "number of features: 1024\n",
            "  0%|          | 0/30 [00:06<?, ?it/s, best loss: ?]"
          ],
          "name": "stdout"
        },
        {
          "output_type": "stream",
          "text": [
            "2021-03-25 21:44:49,609 Previous dataset split restored\n"
          ],
          "name": "stderr"
        },
        {
          "output_type": "stream",
          "text": [
            "n_cnt\n",
            "[1358.]\n",
            "y_means\n",
            "[6.59994988]\n",
            "y_stds\n",
            "[1.29836641]\n",
            "TIMING: dataset construction took 0.069 s\n",
            "Loading dataset from disk.\n",
            "TIMING: dataset construction took 0.015 s\n",
            "Loading dataset from disk.\n",
            "TIMING: dataset construction took 0.014 s\n",
            "Loading dataset from disk.\n",
            "  0%|          | 0/30 [00:07<?, ?it/s, best loss: ?]"
          ],
          "name": "stdout"
        },
        {
          "output_type": "stream",
          "text": [
            "2021-03-25 21:44:50,718 Wrote model metadata to file ampl_output/H1_std/RF_ecfp_scaffold_regression/e1887e84-e873-47e7-bf91-45372801fa19/model_metadata.json\n"
          ],
          "name": "stderr"
        },
        {
          "output_type": "stream",
          "text": [
            "Wrote model tarball to ampl_output/H1_std_model_e1887e84-e873-47e7-bf91-45372801fa19.tar.gz\n",
            "  0%|          | 0/30 [00:08<?, ?it/s, best loss: ?]"
          ],
          "name": "stdout"
        },
        {
          "output_type": "stream",
          "text": [
            "2021-03-25 21:44:50,745 Wrote model metrics to file ampl_output/H1_std/RF_ecfp_scaffold_regression/e1887e84-e873-47e7-bf91-45372801fa19/model_metrics.json\n"
          ],
          "name": "stderr"
        },
        {
          "output_type": "stream",
          "text": [
            "number of features: 1024\n",
            "  3%|▎         | 1/30 [00:14<03:55,  8.12s/it, best loss: 0.4969218988301498]"
          ],
          "name": "stdout"
        },
        {
          "output_type": "stream",
          "text": [
            "2021-03-25 21:44:57,707 Previous dataset split restored\n"
          ],
          "name": "stderr"
        },
        {
          "output_type": "stream",
          "text": [
            "n_cnt\n",
            "[1358.]\n",
            "y_means\n",
            "[6.59994988]\n",
            "y_stds\n",
            "[1.29836641]\n",
            "TIMING: dataset construction took 0.076 s\n",
            "Loading dataset from disk.\n",
            "TIMING: dataset construction took 0.018 s\n",
            "Loading dataset from disk.\n",
            "TIMING: dataset construction took 0.024 s\n",
            "Loading dataset from disk.\n",
            "  3%|▎         | 1/30 [00:15<03:55,  8.12s/it, best loss: 0.4969218988301498]"
          ],
          "name": "stdout"
        },
        {
          "output_type": "stream",
          "text": [
            "2021-03-25 21:44:59,512 Wrote model metadata to file ampl_output/H1_std/RF_ecfp_scaffold_regression/74054d86-5974-489f-a367-e0b8c1e18633/model_metadata.json\n"
          ],
          "name": "stderr"
        },
        {
          "output_type": "stream",
          "text": [
            "Wrote model tarball to ampl_output/H1_std_model_74054d86-5974-489f-a367-e0b8c1e18633.tar.gz\n",
            "  3%|▎         | 1/30 [00:16<03:55,  8.12s/it, best loss: 0.4969218988301498]"
          ],
          "name": "stdout"
        },
        {
          "output_type": "stream",
          "text": [
            "2021-03-25 21:44:59,570 Wrote model metrics to file ampl_output/H1_std/RF_ecfp_scaffold_regression/74054d86-5974-489f-a367-e0b8c1e18633/model_metrics.json\n"
          ],
          "name": "stderr"
        },
        {
          "output_type": "stream",
          "text": [
            "number of features: 1024\n",
            "  7%|▋         | 2/30 [00:23<03:53,  8.33s/it, best loss: 0.4969218988301498]"
          ],
          "name": "stdout"
        },
        {
          "output_type": "stream",
          "text": [
            "2021-03-25 21:45:06,887 Previous dataset split restored\n"
          ],
          "name": "stderr"
        },
        {
          "output_type": "stream",
          "text": [
            "n_cnt\n",
            "[1358.]\n",
            "y_means\n",
            "[6.59994988]\n",
            "y_stds\n",
            "[1.29836641]\n",
            "TIMING: dataset construction took 0.086 s\n",
            "Loading dataset from disk.\n",
            "TIMING: dataset construction took 0.016 s\n",
            "Loading dataset from disk.\n",
            "TIMING: dataset construction took 0.015 s\n",
            "Loading dataset from disk.\n",
            "  7%|▋         | 2/30 [00:24<03:53,  8.33s/it, best loss: 0.4969218988301498]"
          ],
          "name": "stdout"
        },
        {
          "output_type": "stream",
          "text": [
            "2021-03-25 21:45:08,173 Wrote model metadata to file ampl_output/H1_std/RF_ecfp_scaffold_regression/987a167d-e27a-4d53-9b20-2129f2e67a25/model_metadata.json\n"
          ],
          "name": "stderr"
        },
        {
          "output_type": "stream",
          "text": [
            "Wrote model tarball to ampl_output/H1_std_model_987a167d-e27a-4d53-9b20-2129f2e67a25.tar.gz\n",
            "  7%|▋         | 2/30 [00:25<03:53,  8.33s/it, best loss: 0.4969218988301498]"
          ],
          "name": "stdout"
        },
        {
          "output_type": "stream",
          "text": [
            "2021-03-25 21:45:08,209 Wrote model metrics to file ampl_output/H1_std/RF_ecfp_scaffold_regression/987a167d-e27a-4d53-9b20-2129f2e67a25/model_metrics.json\n"
          ],
          "name": "stderr"
        },
        {
          "output_type": "stream",
          "text": [
            "number of features: 1024\n",
            " 10%|█         | 3/30 [00:32<03:47,  8.42s/it, best loss: 0.4969218988301498]"
          ],
          "name": "stdout"
        },
        {
          "output_type": "stream",
          "text": [
            "2021-03-25 21:45:15,487 Previous dataset split restored\n"
          ],
          "name": "stderr"
        },
        {
          "output_type": "stream",
          "text": [
            "n_cnt\n",
            "[1358.]\n",
            "y_means\n",
            "[6.59994988]\n",
            "y_stds\n",
            "[1.29836641]\n",
            "TIMING: dataset construction took 0.073 s\n",
            "Loading dataset from disk.\n",
            "TIMING: dataset construction took 0.014 s\n",
            "Loading dataset from disk.\n",
            "TIMING: dataset construction took 0.018 s\n",
            "Loading dataset from disk.\n",
            " 10%|█         | 3/30 [00:33<03:47,  8.42s/it, best loss: 0.4969218988301498]"
          ],
          "name": "stdout"
        },
        {
          "output_type": "stream",
          "text": [
            "2021-03-25 21:45:17,382 Wrote model metadata to file ampl_output/H1_std/RF_ecfp_scaffold_regression/5ce3897d-8624-40b3-af95-10a2aa1e2b03/model_metadata.json\n"
          ],
          "name": "stderr"
        },
        {
          "output_type": "stream",
          "text": [
            "Wrote model tarball to ampl_output/H1_std_model_5ce3897d-8624-40b3-af95-10a2aa1e2b03.tar.gz\n",
            " 10%|█         | 3/30 [00:34<03:47,  8.42s/it, best loss: 0.4969218988301498]"
          ],
          "name": "stdout"
        },
        {
          "output_type": "stream",
          "text": [
            "2021-03-25 21:45:17,474 Wrote model metrics to file ampl_output/H1_std/RF_ecfp_scaffold_regression/5ce3897d-8624-40b3-af95-10a2aa1e2b03/model_metrics.json\n"
          ],
          "name": "stderr"
        },
        {
          "output_type": "stream",
          "text": [
            "number of features: 1024\n",
            " 13%|█▎        | 4/30 [00:41<03:45,  8.67s/it, best loss: 0.4969218988301498]"
          ],
          "name": "stdout"
        },
        {
          "output_type": "stream",
          "text": [
            "2021-03-25 21:45:24,750 Previous dataset split restored\n"
          ],
          "name": "stderr"
        },
        {
          "output_type": "stream",
          "text": [
            "n_cnt\n",
            "[1358.]\n",
            "y_means\n",
            "[6.59994988]\n",
            "y_stds\n",
            "[1.29836641]\n",
            "TIMING: dataset construction took 0.091 s\n",
            "Loading dataset from disk.\n",
            "TIMING: dataset construction took 0.024 s\n",
            "Loading dataset from disk.\n",
            "TIMING: dataset construction took 0.021 s\n",
            "Loading dataset from disk.\n",
            " 13%|█▎        | 4/30 [00:42<03:45,  8.67s/it, best loss: 0.4969218988301498]"
          ],
          "name": "stdout"
        },
        {
          "output_type": "stream",
          "text": [
            "2021-03-25 21:45:26,893 Wrote model metadata to file ampl_output/H1_std/RF_ecfp_scaffold_regression/6dc41d96-697f-4f2c-a5f0-3c74e371f22f/model_metadata.json\n"
          ],
          "name": "stderr"
        },
        {
          "output_type": "stream",
          "text": [
            "Wrote model tarball to ampl_output/H1_std_model_6dc41d96-697f-4f2c-a5f0-3c74e371f22f.tar.gz\n",
            " 13%|█▎        | 4/30 [00:44<03:45,  8.67s/it, best loss: 0.4969218988301498]"
          ],
          "name": "stdout"
        },
        {
          "output_type": "stream",
          "text": [
            "2021-03-25 21:45:27,047 Wrote model metrics to file ampl_output/H1_std/RF_ecfp_scaffold_regression/6dc41d96-697f-4f2c-a5f0-3c74e371f22f/model_metrics.json\n"
          ],
          "name": "stderr"
        },
        {
          "output_type": "stream",
          "text": [
            "number of features: 1024\n",
            " 17%|█▋        | 5/30 [00:51<03:43,  8.94s/it, best loss: 0.4969218988301498]"
          ],
          "name": "stdout"
        },
        {
          "output_type": "stream",
          "text": [
            "2021-03-25 21:45:34,694 Previous dataset split restored\n"
          ],
          "name": "stderr"
        },
        {
          "output_type": "stream",
          "text": [
            "n_cnt\n",
            "[1358.]\n",
            "y_means\n",
            "[6.59994988]\n",
            "y_stds\n",
            "[1.29836641]\n",
            "TIMING: dataset construction took 0.091 s\n",
            "Loading dataset from disk.\n",
            "TIMING: dataset construction took 0.025 s\n",
            "Loading dataset from disk.\n",
            "TIMING: dataset construction took 0.015 s\n",
            "Loading dataset from disk.\n",
            " 17%|█▋        | 5/30 [00:52<03:43,  8.94s/it, best loss: 0.4969218988301498]"
          ],
          "name": "stdout"
        },
        {
          "output_type": "stream",
          "text": [
            "2021-03-25 21:45:36,146 Wrote model metadata to file ampl_output/H1_std/RF_ecfp_scaffold_regression/a5c00e8c-b15e-4d35-9e01-5c1ab05f9e5c/model_metadata.json\n"
          ],
          "name": "stderr"
        },
        {
          "output_type": "stream",
          "text": [
            "Wrote model tarball to ampl_output/H1_std_model_a5c00e8c-b15e-4d35-9e01-5c1ab05f9e5c.tar.gz\n",
            " 17%|█▋        | 5/30 [00:53<03:43,  8.94s/it, best loss: 0.4969218988301498]"
          ],
          "name": "stdout"
        },
        {
          "output_type": "stream",
          "text": [
            "2021-03-25 21:45:36,195 Wrote model metrics to file ampl_output/H1_std/RF_ecfp_scaffold_regression/a5c00e8c-b15e-4d35-9e01-5c1ab05f9e5c/model_metrics.json\n"
          ],
          "name": "stderr"
        },
        {
          "output_type": "stream",
          "text": [
            "number of features: 1024\n",
            " 20%|██        | 6/30 [01:00<03:36,  9.01s/it, best loss: 0.4969218988301498]"
          ],
          "name": "stdout"
        },
        {
          "output_type": "stream",
          "text": [
            "2021-03-25 21:45:43,978 Previous dataset split restored\n"
          ],
          "name": "stderr"
        },
        {
          "output_type": "stream",
          "text": [
            "n_cnt\n",
            "[1358.]\n",
            "y_means\n",
            "[6.59994988]\n",
            "y_stds\n",
            "[1.29836641]\n",
            "TIMING: dataset construction took 0.089 s\n",
            "Loading dataset from disk.\n",
            "TIMING: dataset construction took 0.020 s\n",
            "Loading dataset from disk.\n",
            "TIMING: dataset construction took 0.024 s\n",
            "Loading dataset from disk.\n",
            " 20%|██        | 6/30 [01:01<03:36,  9.01s/it, best loss: 0.4969218988301498]"
          ],
          "name": "stdout"
        },
        {
          "output_type": "stream",
          "text": [
            "2021-03-25 21:45:45,682 Wrote model metadata to file ampl_output/H1_std/RF_ecfp_scaffold_regression/835ee205-dbab-43b5-9fe6-400a27be00e1/model_metadata.json\n"
          ],
          "name": "stderr"
        },
        {
          "output_type": "stream",
          "text": [
            "Wrote model tarball to ampl_output/H1_std_model_835ee205-dbab-43b5-9fe6-400a27be00e1.tar.gz\n",
            " 20%|██        | 6/30 [01:03<03:36,  9.01s/it, best loss: 0.4969218988301498]"
          ],
          "name": "stdout"
        },
        {
          "output_type": "stream",
          "text": [
            "2021-03-25 21:45:45,751 Wrote model metrics to file ampl_output/H1_std/RF_ecfp_scaffold_regression/835ee205-dbab-43b5-9fe6-400a27be00e1/model_metrics.json\n"
          ],
          "name": "stderr"
        },
        {
          "output_type": "stream",
          "text": [
            "number of features: 1024\n",
            " 23%|██▎       | 7/30 [01:10<03:30,  9.17s/it, best loss: 0.4969218988301498]"
          ],
          "name": "stdout"
        },
        {
          "output_type": "stream",
          "text": [
            "2021-03-25 21:45:53,368 Previous dataset split restored\n"
          ],
          "name": "stderr"
        },
        {
          "output_type": "stream",
          "text": [
            "n_cnt\n",
            "[1358.]\n",
            "y_means\n",
            "[6.59994988]\n",
            "y_stds\n",
            "[1.29836641]\n",
            "TIMING: dataset construction took 0.073 s\n",
            "Loading dataset from disk.\n",
            "TIMING: dataset construction took 0.018 s\n",
            "Loading dataset from disk.\n",
            "TIMING: dataset construction took 0.023 s\n",
            "Loading dataset from disk.\n",
            " 23%|██▎       | 7/30 [01:11<03:30,  9.17s/it, best loss: 0.4969218988301498]"
          ],
          "name": "stdout"
        },
        {
          "output_type": "stream",
          "text": [
            "2021-03-25 21:45:55,093 Wrote model metadata to file ampl_output/H1_std/RF_ecfp_scaffold_regression/f558adf5-88c6-4040-9837-b76bfe7eacf1/model_metadata.json\n"
          ],
          "name": "stderr"
        },
        {
          "output_type": "stream",
          "text": [
            "Wrote model tarball to ampl_output/H1_std_model_f558adf5-88c6-4040-9837-b76bfe7eacf1.tar.gz\n",
            " 23%|██▎       | 7/30 [01:12<03:30,  9.17s/it, best loss: 0.4969218988301498]"
          ],
          "name": "stdout"
        },
        {
          "output_type": "stream",
          "text": [
            "2021-03-25 21:45:55,185 Wrote model metrics to file ampl_output/H1_std/RF_ecfp_scaffold_regression/f558adf5-88c6-4040-9837-b76bfe7eacf1/model_metrics.json\n"
          ],
          "name": "stderr"
        },
        {
          "output_type": "stream",
          "text": [
            "number of features: 1024\n",
            " 27%|██▋       | 8/30 [01:19<03:23,  9.25s/it, best loss: 0.4969218988301498]"
          ],
          "name": "stdout"
        },
        {
          "output_type": "stream",
          "text": [
            "2021-03-25 21:46:02,421 Previous dataset split restored\n"
          ],
          "name": "stderr"
        },
        {
          "output_type": "stream",
          "text": [
            "n_cnt\n",
            "[1358.]\n",
            "y_means\n",
            "[6.59994988]\n",
            "y_stds\n",
            "[1.29836641]\n",
            "TIMING: dataset construction took 0.080 s\n",
            "Loading dataset from disk.\n",
            "TIMING: dataset construction took 0.016 s\n",
            "Loading dataset from disk.\n",
            "TIMING: dataset construction took 0.021 s\n",
            "Loading dataset from disk.\n",
            " 27%|██▋       | 8/30 [01:20<03:23,  9.25s/it, best loss: 0.4969218988301498]"
          ],
          "name": "stdout"
        },
        {
          "output_type": "stream",
          "text": [
            "2021-03-25 21:46:04,286 Wrote model metadata to file ampl_output/H1_std/RF_ecfp_scaffold_regression/1f3cfaa7-587e-4929-a80d-febd96c59551/model_metadata.json\n"
          ],
          "name": "stderr"
        },
        {
          "output_type": "stream",
          "text": [
            "Wrote model tarball to ampl_output/H1_std_model_1f3cfaa7-587e-4929-a80d-febd96c59551.tar.gz\n",
            " 27%|██▋       | 8/30 [01:21<03:23,  9.25s/it, best loss: 0.4969218988301498]"
          ],
          "name": "stdout"
        },
        {
          "output_type": "stream",
          "text": [
            "2021-03-25 21:46:04,401 Wrote model metrics to file ampl_output/H1_std/RF_ecfp_scaffold_regression/1f3cfaa7-587e-4929-a80d-febd96c59551/model_metrics.json\n"
          ],
          "name": "stderr"
        },
        {
          "output_type": "stream",
          "text": [
            "number of features: 1024\n",
            " 30%|███       | 9/30 [01:28<03:14,  9.24s/it, best loss: 0.4969218988301498]"
          ],
          "name": "stdout"
        },
        {
          "output_type": "stream",
          "text": [
            "2021-03-25 21:46:11,600 Previous dataset split restored\n"
          ],
          "name": "stderr"
        },
        {
          "output_type": "stream",
          "text": [
            "n_cnt\n",
            "[1358.]\n",
            "y_means\n",
            "[6.59994988]\n",
            "y_stds\n",
            "[1.29836641]\n",
            "TIMING: dataset construction took 0.069 s\n",
            "Loading dataset from disk.\n",
            "TIMING: dataset construction took 0.020 s\n",
            "Loading dataset from disk.\n",
            "TIMING: dataset construction took 0.015 s\n",
            "Loading dataset from disk.\n",
            " 30%|███       | 9/30 [01:29<03:14,  9.24s/it, best loss: 0.4969218988301498]"
          ],
          "name": "stdout"
        },
        {
          "output_type": "stream",
          "text": [
            "2021-03-25 21:46:13,881 Wrote model metadata to file ampl_output/H1_std/RF_ecfp_scaffold_regression/5995147c-6d10-48fa-9b24-045919f79167/model_metadata.json\n"
          ],
          "name": "stderr"
        },
        {
          "output_type": "stream",
          "text": [
            "Wrote model tarball to ampl_output/H1_std_model_5995147c-6d10-48fa-9b24-045919f79167.tar.gz\n",
            " 30%|███       | 9/30 [01:31<03:14,  9.24s/it, best loss: 0.4969218988301498]"
          ],
          "name": "stdout"
        },
        {
          "output_type": "stream",
          "text": [
            "2021-03-25 21:46:14,062 Wrote model metrics to file ampl_output/H1_std/RF_ecfp_scaffold_regression/5995147c-6d10-48fa-9b24-045919f79167/model_metrics.json\n"
          ],
          "name": "stderr"
        },
        {
          "output_type": "stream",
          "text": [
            "number of features: 1024\n",
            " 33%|███▎      | 10/30 [01:37<03:07,  9.37s/it, best loss: 0.4969218988301498]"
          ],
          "name": "stdout"
        },
        {
          "output_type": "stream",
          "text": [
            "2021-03-25 21:46:21,138 Previous dataset split restored\n"
          ],
          "name": "stderr"
        },
        {
          "output_type": "stream",
          "text": [
            "n_cnt\n",
            "[1358.]\n",
            "y_means\n",
            "[6.59994988]\n",
            "y_stds\n",
            "[1.29836641]\n",
            "TIMING: dataset construction took 0.086 s\n",
            "Loading dataset from disk.\n",
            "TIMING: dataset construction took 0.016 s\n",
            "Loading dataset from disk.\n",
            "TIMING: dataset construction took 0.021 s\n",
            "Loading dataset from disk.\n",
            " 33%|███▎      | 10/30 [01:38<03:07,  9.37s/it, best loss: 0.4969218988301498]"
          ],
          "name": "stdout"
        },
        {
          "output_type": "stream",
          "text": [
            "2021-03-25 21:46:22,308 Wrote model metadata to file ampl_output/H1_std/RF_ecfp_scaffold_regression/a6528293-58ab-40dc-bc93-ab8c3e717aac/model_metadata.json\n"
          ],
          "name": "stderr"
        },
        {
          "output_type": "stream",
          "text": [
            "Wrote model tarball to ampl_output/H1_std_model_a6528293-58ab-40dc-bc93-ab8c3e717aac.tar.gz\n",
            " 33%|███▎      | 10/30 [01:39<03:07,  9.37s/it, best loss: 0.4969218988301498]"
          ],
          "name": "stdout"
        },
        {
          "output_type": "stream",
          "text": [
            "2021-03-25 21:46:22,330 Wrote model metrics to file ampl_output/H1_std/RF_ecfp_scaffold_regression/a6528293-58ab-40dc-bc93-ab8c3e717aac/model_metrics.json\n"
          ],
          "name": "stderr"
        },
        {
          "output_type": "stream",
          "text": [
            "number of features: 1024\n",
            " 37%|███▋      | 11/30 [01:46<02:51,  9.04s/it, best loss: 0.4969218988301498]"
          ],
          "name": "stdout"
        },
        {
          "output_type": "stream",
          "text": [
            "2021-03-25 21:46:29,446 Previous dataset split restored\n"
          ],
          "name": "stderr"
        },
        {
          "output_type": "stream",
          "text": [
            "n_cnt\n",
            "[1358.]\n",
            "y_means\n",
            "[6.59994988]\n",
            "y_stds\n",
            "[1.29836641]\n",
            "TIMING: dataset construction took 0.069 s\n",
            "Loading dataset from disk.\n",
            "TIMING: dataset construction took 0.022 s\n",
            "Loading dataset from disk.\n",
            "TIMING: dataset construction took 0.023 s\n",
            "Loading dataset from disk.\n",
            " 37%|███▋      | 11/30 [01:47<02:51,  9.04s/it, best loss: 0.4969218988301498]"
          ],
          "name": "stdout"
        },
        {
          "output_type": "stream",
          "text": [
            "2021-03-25 21:46:31,445 Wrote model metadata to file ampl_output/H1_std/RF_ecfp_scaffold_regression/c6cd5b87-80a6-4c6b-ab7f-b04ca76b3456/model_metadata.json\n"
          ],
          "name": "stderr"
        },
        {
          "output_type": "stream",
          "text": [
            "Wrote model tarball to ampl_output/H1_std_model_c6cd5b87-80a6-4c6b-ab7f-b04ca76b3456.tar.gz\n",
            " 37%|███▋      | 11/30 [01:48<02:51,  9.04s/it, best loss: 0.4969218988301498]"
          ],
          "name": "stdout"
        },
        {
          "output_type": "stream",
          "text": [
            "2021-03-25 21:46:31,578 Wrote model metrics to file ampl_output/H1_std/RF_ecfp_scaffold_regression/c6cd5b87-80a6-4c6b-ab7f-b04ca76b3456/model_metrics.json\n"
          ],
          "name": "stderr"
        },
        {
          "output_type": "stream",
          "text": [
            "number of features: 1024\n",
            " 40%|████      | 12/30 [01:55<02:43,  9.10s/it, best loss: 0.4969218988301498]"
          ],
          "name": "stdout"
        },
        {
          "output_type": "stream",
          "text": [
            "2021-03-25 21:46:38,745 Previous dataset split restored\n"
          ],
          "name": "stderr"
        },
        {
          "output_type": "stream",
          "text": [
            "n_cnt\n",
            "[1358.]\n",
            "y_means\n",
            "[6.59994988]\n",
            "y_stds\n",
            "[1.29836641]\n",
            "TIMING: dataset construction took 0.073 s\n",
            "Loading dataset from disk.\n",
            "TIMING: dataset construction took 0.019 s\n",
            "Loading dataset from disk.\n",
            "TIMING: dataset construction took 0.018 s\n",
            "Loading dataset from disk.\n",
            " 40%|████      | 12/30 [01:56<02:43,  9.10s/it, best loss: 0.4969218988301498]"
          ],
          "name": "stdout"
        },
        {
          "output_type": "stream",
          "text": [
            "2021-03-25 21:46:40,552 Wrote model metadata to file ampl_output/H1_std/RF_ecfp_scaffold_regression/b4b6d4da-79ee-4edd-bf9a-90cd84519be1/model_metadata.json\n"
          ],
          "name": "stderr"
        },
        {
          "output_type": "stream",
          "text": [
            "Wrote model tarball to ampl_output/H1_std_model_b4b6d4da-79ee-4edd-bf9a-90cd84519be1.tar.gz\n",
            " 40%|████      | 12/30 [01:58<02:43,  9.10s/it, best loss: 0.4969218988301498]"
          ],
          "name": "stdout"
        },
        {
          "output_type": "stream",
          "text": [
            "2021-03-25 21:46:40,652 Wrote model metrics to file ampl_output/H1_std/RF_ecfp_scaffold_regression/b4b6d4da-79ee-4edd-bf9a-90cd84519be1/model_metrics.json\n"
          ],
          "name": "stderr"
        },
        {
          "output_type": "stream",
          "text": [
            "number of features: 1024\n",
            " 43%|████▎     | 13/30 [02:04<02:34,  9.09s/it, best loss: 0.4969218988301498]"
          ],
          "name": "stdout"
        },
        {
          "output_type": "stream",
          "text": [
            "2021-03-25 21:46:47,790 Previous dataset split restored\n"
          ],
          "name": "stderr"
        },
        {
          "output_type": "stream",
          "text": [
            "n_cnt\n",
            "[1358.]\n",
            "y_means\n",
            "[6.59994988]\n",
            "y_stds\n",
            "[1.29836641]\n",
            "TIMING: dataset construction took 0.072 s\n",
            "Loading dataset from disk.\n",
            "TIMING: dataset construction took 0.015 s\n",
            "Loading dataset from disk.\n",
            "TIMING: dataset construction took 0.021 s\n",
            "Loading dataset from disk.\n",
            " 43%|████▎     | 13/30 [02:05<02:34,  9.09s/it, best loss: 0.4969218988301498]"
          ],
          "name": "stdout"
        },
        {
          "output_type": "stream",
          "text": [
            "2021-03-25 21:46:49,259 Wrote model metadata to file ampl_output/H1_std/RF_ecfp_scaffold_regression/580f33d7-be2d-4db2-8fe9-b032c10fa26c/model_metadata.json\n"
          ],
          "name": "stderr"
        },
        {
          "output_type": "stream",
          "text": [
            "Wrote model tarball to ampl_output/H1_std_model_580f33d7-be2d-4db2-8fe9-b032c10fa26c.tar.gz\n",
            " 43%|████▎     | 13/30 [02:06<02:34,  9.09s/it, best loss: 0.4969218988301498]"
          ],
          "name": "stdout"
        },
        {
          "output_type": "stream",
          "text": [
            "2021-03-25 21:46:49,346 Wrote model metrics to file ampl_output/H1_std/RF_ecfp_scaffold_regression/580f33d7-be2d-4db2-8fe9-b032c10fa26c/model_metrics.json\n"
          ],
          "name": "stderr"
        },
        {
          "output_type": "stream",
          "text": [
            "number of features: 1024\n",
            " 47%|████▋     | 14/30 [02:13<02:23,  8.97s/it, best loss: 0.4969218988301498]"
          ],
          "name": "stdout"
        },
        {
          "output_type": "stream",
          "text": [
            "2021-03-25 21:46:56,365 Previous dataset split restored\n"
          ],
          "name": "stderr"
        },
        {
          "output_type": "stream",
          "text": [
            "n_cnt\n",
            "[1358.]\n",
            "y_means\n",
            "[6.59994988]\n",
            "y_stds\n",
            "[1.29836641]\n",
            "TIMING: dataset construction took 0.075 s\n",
            "Loading dataset from disk.\n",
            "TIMING: dataset construction took 0.014 s\n",
            "Loading dataset from disk.\n",
            "TIMING: dataset construction took 0.020 s\n",
            "Loading dataset from disk.\n",
            " 47%|████▋     | 14/30 [02:14<02:23,  8.97s/it, best loss: 0.4969218988301498]"
          ],
          "name": "stdout"
        },
        {
          "output_type": "stream",
          "text": [
            "2021-03-25 21:46:57,899 Wrote model metadata to file ampl_output/H1_std/RF_ecfp_scaffold_regression/a8912ed1-a6ad-4479-ac18-133f9214316f/model_metadata.json\n"
          ],
          "name": "stderr"
        },
        {
          "output_type": "stream",
          "text": [
            "Wrote model tarball to ampl_output/H1_std_model_a8912ed1-a6ad-4479-ac18-133f9214316f.tar.gz\n",
            " 47%|████▋     | 14/30 [02:15<02:23,  8.97s/it, best loss: 0.4969218988301498]"
          ],
          "name": "stdout"
        },
        {
          "output_type": "stream",
          "text": [
            "2021-03-25 21:46:57,958 Wrote model metrics to file ampl_output/H1_std/RF_ecfp_scaffold_regression/a8912ed1-a6ad-4479-ac18-133f9214316f/model_metrics.json\n"
          ],
          "name": "stderr"
        },
        {
          "output_type": "stream",
          "text": [
            "number of features: 1024\n",
            " 50%|█████     | 15/30 [02:21<02:12,  8.86s/it, best loss: 0.4969218988301498]"
          ],
          "name": "stdout"
        },
        {
          "output_type": "stream",
          "text": [
            "2021-03-25 21:47:05,118 Previous dataset split restored\n"
          ],
          "name": "stderr"
        },
        {
          "output_type": "stream",
          "text": [
            "n_cnt\n",
            "[1358.]\n",
            "y_means\n",
            "[6.59994988]\n",
            "y_stds\n",
            "[1.29836641]\n",
            "TIMING: dataset construction took 0.072 s\n",
            "Loading dataset from disk.\n",
            "TIMING: dataset construction took 0.017 s\n",
            "Loading dataset from disk.\n",
            "TIMING: dataset construction took 0.018 s\n",
            "Loading dataset from disk.\n",
            " 50%|█████     | 15/30 [02:22<02:12,  8.86s/it, best loss: 0.4969218988301498]"
          ],
          "name": "stdout"
        },
        {
          "output_type": "stream",
          "text": [
            "2021-03-25 21:47:06,490 Wrote model metadata to file ampl_output/H1_std/RF_ecfp_scaffold_regression/f1ccf312-203c-4217-ba41-cfbbb8250ae5/model_metadata.json\n"
          ],
          "name": "stderr"
        },
        {
          "output_type": "stream",
          "text": [
            "Wrote model tarball to ampl_output/H1_std_model_f1ccf312-203c-4217-ba41-cfbbb8250ae5.tar.gz\n",
            " 50%|█████     | 15/30 [02:23<02:12,  8.86s/it, best loss: 0.4969218988301498]"
          ],
          "name": "stdout"
        },
        {
          "output_type": "stream",
          "text": [
            "2021-03-25 21:47:06,533 Wrote model metrics to file ampl_output/H1_std/RF_ecfp_scaffold_regression/f1ccf312-203c-4217-ba41-cfbbb8250ae5/model_metrics.json\n"
          ],
          "name": "stderr"
        },
        {
          "output_type": "stream",
          "text": [
            "number of features: 1024\n",
            " 53%|█████▎    | 16/30 [02:30<02:02,  8.78s/it, best loss: 0.4969218988301498]"
          ],
          "name": "stdout"
        },
        {
          "output_type": "stream",
          "text": [
            "2021-03-25 21:47:13,638 Previous dataset split restored\n"
          ],
          "name": "stderr"
        },
        {
          "output_type": "stream",
          "text": [
            "n_cnt\n",
            "[1358.]\n",
            "y_means\n",
            "[6.59994988]\n",
            "y_stds\n",
            "[1.29836641]\n",
            "TIMING: dataset construction took 0.071 s\n",
            "Loading dataset from disk.\n",
            "TIMING: dataset construction took 0.018 s\n",
            "Loading dataset from disk.\n",
            "TIMING: dataset construction took 0.015 s\n",
            "Loading dataset from disk.\n",
            " 53%|█████▎    | 16/30 [02:31<02:02,  8.78s/it, best loss: 0.4969218988301498]"
          ],
          "name": "stdout"
        },
        {
          "output_type": "stream",
          "text": [
            "2021-03-25 21:47:15,555 Wrote model metadata to file ampl_output/H1_std/RF_ecfp_scaffold_regression/069ddafc-ceba-4e81-a37b-08b8be3a3127/model_metadata.json\n"
          ],
          "name": "stderr"
        },
        {
          "output_type": "stream",
          "text": [
            "Wrote model tarball to ampl_output/H1_std_model_069ddafc-ceba-4e81-a37b-08b8be3a3127.tar.gz\n",
            " 53%|█████▎    | 16/30 [02:33<02:02,  8.78s/it, best loss: 0.4969218988301498]"
          ],
          "name": "stdout"
        },
        {
          "output_type": "stream",
          "text": [
            "2021-03-25 21:47:15,665 Wrote model metrics to file ampl_output/H1_std/RF_ecfp_scaffold_regression/069ddafc-ceba-4e81-a37b-08b8be3a3127/model_metrics.json\n"
          ],
          "name": "stderr"
        },
        {
          "output_type": "stream",
          "text": [
            "number of features: 1024\n",
            " 57%|█████▋    | 17/30 [02:39<01:55,  8.88s/it, best loss: 0.4969218988301498]"
          ],
          "name": "stdout"
        },
        {
          "output_type": "stream",
          "text": [
            "2021-03-25 21:47:22,672 Previous dataset split restored\n"
          ],
          "name": "stderr"
        },
        {
          "output_type": "stream",
          "text": [
            "n_cnt\n",
            "[1358.]\n",
            "y_means\n",
            "[6.59994988]\n",
            "y_stds\n",
            "[1.29836641]\n",
            "TIMING: dataset construction took 0.072 s\n",
            "Loading dataset from disk.\n",
            "TIMING: dataset construction took 0.015 s\n",
            "Loading dataset from disk.\n",
            "TIMING: dataset construction took 0.018 s\n",
            "Loading dataset from disk.\n",
            " 57%|█████▋    | 17/30 [02:40<01:55,  8.88s/it, best loss: 0.4969218988301498]"
          ],
          "name": "stdout"
        },
        {
          "output_type": "stream",
          "text": [
            "2021-03-25 21:47:23,898 Wrote model metadata to file ampl_output/H1_std/RF_ecfp_scaffold_regression/438cd97c-4483-4c47-9a28-409de2bb14e7/model_metadata.json\n"
          ],
          "name": "stderr"
        },
        {
          "output_type": "stream",
          "text": [
            "Wrote model tarball to ampl_output/H1_std_model_438cd97c-4483-4c47-9a28-409de2bb14e7.tar.gz\n",
            " 57%|█████▋    | 17/30 [02:41<01:55,  8.88s/it, best loss: 0.4969218988301498]"
          ],
          "name": "stdout"
        },
        {
          "output_type": "stream",
          "text": [
            "2021-03-25 21:47:23,933 Wrote model metrics to file ampl_output/H1_std/RF_ecfp_scaffold_regression/438cd97c-4483-4c47-9a28-409de2bb14e7/model_metrics.json\n"
          ],
          "name": "stderr"
        },
        {
          "output_type": "stream",
          "text": [
            "number of features: 1024\n",
            " 60%|██████    | 18/30 [02:47<01:44,  8.70s/it, best loss: 0.4969218988301498]"
          ],
          "name": "stdout"
        },
        {
          "output_type": "stream",
          "text": [
            "2021-03-25 21:47:30,803 Previous dataset split restored\n"
          ],
          "name": "stderr"
        },
        {
          "output_type": "stream",
          "text": [
            "n_cnt\n",
            "[1358.]\n",
            "y_means\n",
            "[6.59994988]\n",
            "y_stds\n",
            "[1.29836641]\n",
            "TIMING: dataset construction took 0.075 s\n",
            "Loading dataset from disk.\n",
            "TIMING: dataset construction took 0.018 s\n",
            "Loading dataset from disk.\n",
            "TIMING: dataset construction took 0.018 s\n",
            "Loading dataset from disk.\n",
            " 60%|██████    | 18/30 [02:48<01:44,  8.70s/it, best loss: 0.4969218988301498]"
          ],
          "name": "stdout"
        },
        {
          "output_type": "stream",
          "text": [
            "2021-03-25 21:47:32,043 Wrote model metadata to file ampl_output/H1_std/RF_ecfp_scaffold_regression/0521a4d5-60b6-48b8-8e26-db22a5e6da1e/model_metadata.json\n"
          ],
          "name": "stderr"
        },
        {
          "output_type": "stream",
          "text": [
            "Wrote model tarball to ampl_output/H1_std_model_0521a4d5-60b6-48b8-8e26-db22a5e6da1e.tar.gz\n",
            " 60%|██████    | 18/30 [02:49<01:44,  8.70s/it, best loss: 0.4969218988301498]"
          ],
          "name": "stdout"
        },
        {
          "output_type": "stream",
          "text": [
            "2021-03-25 21:47:32,077 Wrote model metrics to file ampl_output/H1_std/RF_ecfp_scaffold_regression/0521a4d5-60b6-48b8-8e26-db22a5e6da1e/model_metrics.json\n"
          ],
          "name": "stderr"
        },
        {
          "output_type": "stream",
          "text": [
            "number of features: 1024\n",
            " 63%|██████▎   | 19/30 [02:55<01:33,  8.53s/it, best loss: 0.4969218988301498]"
          ],
          "name": "stdout"
        },
        {
          "output_type": "stream",
          "text": [
            "2021-03-25 21:47:39,095 Previous dataset split restored\n"
          ],
          "name": "stderr"
        },
        {
          "output_type": "stream",
          "text": [
            "n_cnt\n",
            "[1358.]\n",
            "y_means\n",
            "[6.59994988]\n",
            "y_stds\n",
            "[1.29836641]\n",
            "TIMING: dataset construction took 0.075 s\n",
            "Loading dataset from disk.\n",
            "TIMING: dataset construction took 0.015 s\n",
            "Loading dataset from disk.\n",
            "TIMING: dataset construction took 0.016 s\n",
            "Loading dataset from disk.\n",
            " 63%|██████▎   | 19/30 [02:56<01:33,  8.53s/it, best loss: 0.4969218988301498]"
          ],
          "name": "stdout"
        },
        {
          "output_type": "stream",
          "text": [
            "2021-03-25 21:47:41,146 Wrote model metadata to file ampl_output/H1_std/RF_ecfp_scaffold_regression/0a46abac-9ac1-4265-96de-254b5fffd356/model_metadata.json\n"
          ],
          "name": "stderr"
        },
        {
          "output_type": "stream",
          "text": [
            "Wrote model tarball to ampl_output/H1_std_model_0a46abac-9ac1-4265-96de-254b5fffd356.tar.gz\n",
            " 63%|██████▎   | 19/30 [02:58<01:33,  8.53s/it, best loss: 0.4969218988301498]"
          ],
          "name": "stdout"
        },
        {
          "output_type": "stream",
          "text": [
            "2021-03-25 21:47:41,246 Wrote model metrics to file ampl_output/H1_std/RF_ecfp_scaffold_regression/0a46abac-9ac1-4265-96de-254b5fffd356/model_metrics.json\n"
          ],
          "name": "stderr"
        },
        {
          "output_type": "stream",
          "text": [
            "number of features: 1024\n",
            " 67%|██████▋   | 20/30 [03:05<01:27,  8.72s/it, best loss: 0.4969218988301498]"
          ],
          "name": "stdout"
        },
        {
          "output_type": "stream",
          "text": [
            "2021-03-25 21:47:48,208 Previous dataset split restored\n"
          ],
          "name": "stderr"
        },
        {
          "output_type": "stream",
          "text": [
            "n_cnt\n",
            "[1358.]\n",
            "y_means\n",
            "[6.59994988]\n",
            "y_stds\n",
            "[1.29836641]\n",
            "TIMING: dataset construction took 0.073 s\n",
            "Loading dataset from disk.\n",
            "TIMING: dataset construction took 0.017 s\n",
            "Loading dataset from disk.\n",
            "TIMING: dataset construction took 0.018 s\n",
            "Loading dataset from disk.\n",
            " 67%|██████▋   | 20/30 [03:05<01:27,  8.72s/it, best loss: 0.4969218988301498]"
          ],
          "name": "stdout"
        },
        {
          "output_type": "stream",
          "text": [
            "2021-03-25 21:47:51,118 Wrote model metadata to file ampl_output/H1_std/RF_ecfp_scaffold_regression/54d29444-c05d-4b72-8708-3c45cf18cba6/model_metadata.json\n"
          ],
          "name": "stderr"
        },
        {
          "output_type": "stream",
          "text": [
            "Wrote model tarball to ampl_output/H1_std_model_54d29444-c05d-4b72-8708-3c45cf18cba6.tar.gz\n",
            " 67%|██████▋   | 20/30 [03:08<01:27,  8.72s/it, best loss: 0.4969218988301498]"
          ],
          "name": "stdout"
        },
        {
          "output_type": "stream",
          "text": [
            "2021-03-25 21:47:51,391 Wrote model metrics to file ampl_output/H1_std/RF_ecfp_scaffold_regression/54d29444-c05d-4b72-8708-3c45cf18cba6/model_metrics.json\n"
          ],
          "name": "stderr"
        },
        {
          "output_type": "stream",
          "text": [
            "number of features: 1024\n",
            " 70%|███████   | 21/30 [03:15<01:22,  9.15s/it, best loss: 0.4969218988301498]"
          ],
          "name": "stdout"
        },
        {
          "output_type": "stream",
          "text": [
            "2021-03-25 21:47:58,363 Previous dataset split restored\n"
          ],
          "name": "stderr"
        },
        {
          "output_type": "stream",
          "text": [
            "n_cnt\n",
            "[1358.]\n",
            "y_means\n",
            "[6.59994988]\n",
            "y_stds\n",
            "[1.29836641]\n",
            "TIMING: dataset construction took 0.070 s\n",
            "Loading dataset from disk.\n",
            "TIMING: dataset construction took 0.015 s\n",
            "Loading dataset from disk.\n",
            "TIMING: dataset construction took 0.020 s\n",
            "Loading dataset from disk.\n",
            " 70%|███████   | 21/30 [03:16<01:22,  9.15s/it, best loss: 0.4969218988301498]"
          ],
          "name": "stdout"
        },
        {
          "output_type": "stream",
          "text": [
            "2021-03-25 21:48:01,562 Wrote model metadata to file ampl_output/H1_std/RF_ecfp_scaffold_regression/7d194e23-675e-4764-ba3a-f7baca04649e/model_metadata.json\n"
          ],
          "name": "stderr"
        },
        {
          "output_type": "stream",
          "text": [
            "Wrote model tarball to ampl_output/H1_std_model_7d194e23-675e-4764-ba3a-f7baca04649e.tar.gz\n",
            " 70%|███████   | 21/30 [03:19<01:22,  9.15s/it, best loss: 0.4969218988301498]"
          ],
          "name": "stdout"
        },
        {
          "output_type": "stream",
          "text": [
            "2021-03-25 21:48:01,800 Wrote model metrics to file ampl_output/H1_std/RF_ecfp_scaffold_regression/7d194e23-675e-4764-ba3a-f7baca04649e/model_metrics.json\n"
          ],
          "name": "stderr"
        },
        {
          "output_type": "stream",
          "text": [
            "number of features: 1024\n",
            " 73%|███████▎  | 22/30 [03:25<01:16,  9.53s/it, best loss: 0.4969218988301498]"
          ],
          "name": "stdout"
        },
        {
          "output_type": "stream",
          "text": [
            "2021-03-25 21:48:08,818 Previous dataset split restored\n"
          ],
          "name": "stderr"
        },
        {
          "output_type": "stream",
          "text": [
            "n_cnt\n",
            "[1358.]\n",
            "y_means\n",
            "[6.59994988]\n",
            "y_stds\n",
            "[1.29836641]\n",
            "TIMING: dataset construction took 0.078 s\n",
            "Loading dataset from disk.\n",
            "TIMING: dataset construction took 0.016 s\n",
            "Loading dataset from disk.\n",
            "TIMING: dataset construction took 0.017 s\n",
            "Loading dataset from disk.\n",
            " 73%|███████▎  | 22/30 [03:26<01:16,  9.53s/it, best loss: 0.4969218988301498]"
          ],
          "name": "stdout"
        },
        {
          "output_type": "stream",
          "text": [
            "2021-03-25 21:48:10,198 Wrote model metadata to file ampl_output/H1_std/RF_ecfp_scaffold_regression/3971a863-8f56-4b6f-bb6a-8b15f661a2ef/model_metadata.json\n"
          ],
          "name": "stderr"
        },
        {
          "output_type": "stream",
          "text": [
            "Wrote model tarball to ampl_output/H1_std_model_3971a863-8f56-4b6f-bb6a-8b15f661a2ef.tar.gz\n",
            " 73%|███████▎  | 22/30 [03:27<01:16,  9.53s/it, best loss: 0.4969218988301498]"
          ],
          "name": "stdout"
        },
        {
          "output_type": "stream",
          "text": [
            "2021-03-25 21:48:10,245 Wrote model metrics to file ampl_output/H1_std/RF_ecfp_scaffold_regression/3971a863-8f56-4b6f-bb6a-8b15f661a2ef/model_metrics.json\n"
          ],
          "name": "stderr"
        },
        {
          "output_type": "stream",
          "text": [
            "number of features: 1024\n",
            " 77%|███████▋  | 23/30 [03:34<01:04,  9.20s/it, best loss: 0.4969218988301498]"
          ],
          "name": "stdout"
        },
        {
          "output_type": "stream",
          "text": [
            "2021-03-25 21:48:17,178 Previous dataset split restored\n"
          ],
          "name": "stderr"
        },
        {
          "output_type": "stream",
          "text": [
            "n_cnt\n",
            "[1358.]\n",
            "y_means\n",
            "[6.59994988]\n",
            "y_stds\n",
            "[1.29836641]\n",
            "TIMING: dataset construction took 0.077 s\n",
            "Loading dataset from disk.\n",
            "TIMING: dataset construction took 0.015 s\n",
            "Loading dataset from disk.\n",
            "TIMING: dataset construction took 0.019 s\n",
            "Loading dataset from disk.\n",
            " 77%|███████▋  | 23/30 [03:34<01:04,  9.20s/it, best loss: 0.4969218988301498]"
          ],
          "name": "stdout"
        },
        {
          "output_type": "stream",
          "text": [
            "2021-03-25 21:48:18,834 Wrote model metadata to file ampl_output/H1_std/RF_ecfp_scaffold_regression/b235fc53-77b4-49cb-a993-56bf446eb891/model_metadata.json\n"
          ],
          "name": "stderr"
        },
        {
          "output_type": "stream",
          "text": [
            "Wrote model tarball to ampl_output/H1_std_model_b235fc53-77b4-49cb-a993-56bf446eb891.tar.gz\n",
            " 77%|███████▋  | 23/30 [03:36<01:04,  9.20s/it, best loss: 0.4969218988301498]"
          ],
          "name": "stdout"
        },
        {
          "output_type": "stream",
          "text": [
            "2021-03-25 21:48:18,915 Wrote model metrics to file ampl_output/H1_std/RF_ecfp_scaffold_regression/b235fc53-77b4-49cb-a993-56bf446eb891/model_metrics.json\n"
          ],
          "name": "stderr"
        },
        {
          "output_type": "stream",
          "text": [
            "number of features: 1024\n",
            " 80%|████████  | 24/30 [03:42<00:54,  9.04s/it, best loss: 0.4969218988301498]"
          ],
          "name": "stdout"
        },
        {
          "output_type": "stream",
          "text": [
            "2021-03-25 21:48:25,897 Previous dataset split restored\n"
          ],
          "name": "stderr"
        },
        {
          "output_type": "stream",
          "text": [
            "n_cnt\n",
            "[1358.]\n",
            "y_means\n",
            "[6.59994988]\n",
            "y_stds\n",
            "[1.29836641]\n",
            "TIMING: dataset construction took 0.076 s\n",
            "Loading dataset from disk.\n",
            "TIMING: dataset construction took 0.014 s\n",
            "Loading dataset from disk.\n",
            "TIMING: dataset construction took 0.018 s\n",
            "Loading dataset from disk.\n",
            " 80%|████████  | 24/30 [03:43<00:54,  9.04s/it, best loss: 0.4969218988301498]"
          ],
          "name": "stdout"
        },
        {
          "output_type": "stream",
          "text": [
            "2021-03-25 21:48:27,599 Wrote model metadata to file ampl_output/H1_std/RF_ecfp_scaffold_regression/56386ea5-5bab-41c7-953f-3db38a7a7332/model_metadata.json\n"
          ],
          "name": "stderr"
        },
        {
          "output_type": "stream",
          "text": [
            "Wrote model tarball to ampl_output/H1_std_model_56386ea5-5bab-41c7-953f-3db38a7a7332.tar.gz\n",
            " 80%|████████  | 24/30 [03:45<00:54,  9.04s/it, best loss: 0.4969218988301498]"
          ],
          "name": "stdout"
        },
        {
          "output_type": "stream",
          "text": [
            "2021-03-25 21:48:27,686 Wrote model metrics to file ampl_output/H1_std/RF_ecfp_scaffold_regression/56386ea5-5bab-41c7-953f-3db38a7a7332/model_metrics.json\n"
          ],
          "name": "stderr"
        },
        {
          "output_type": "stream",
          "text": [
            "number of features: 1024\n",
            " 83%|████████▎ | 25/30 [03:51<00:44,  8.96s/it, best loss: 0.4969218988301498]"
          ],
          "name": "stdout"
        },
        {
          "output_type": "stream",
          "text": [
            "2021-03-25 21:48:34,633 Previous dataset split restored\n"
          ],
          "name": "stderr"
        },
        {
          "output_type": "stream",
          "text": [
            "n_cnt\n",
            "[1358.]\n",
            "y_means\n",
            "[6.59994988]\n",
            "y_stds\n",
            "[1.29836641]\n",
            "TIMING: dataset construction took 0.075 s\n",
            "Loading dataset from disk.\n",
            "TIMING: dataset construction took 0.018 s\n",
            "Loading dataset from disk.\n",
            "TIMING: dataset construction took 0.018 s\n",
            "Loading dataset from disk.\n",
            " 83%|████████▎ | 25/30 [03:52<00:44,  8.96s/it, best loss: 0.4969218988301498]"
          ],
          "name": "stdout"
        },
        {
          "output_type": "stream",
          "text": [
            "2021-03-25 21:48:36,146 Wrote model metadata to file ampl_output/H1_std/RF_ecfp_scaffold_regression/df22436c-c39b-40af-bc91-0dcee7fc7cfb/model_metadata.json\n"
          ],
          "name": "stderr"
        },
        {
          "output_type": "stream",
          "text": [
            "Wrote model tarball to ampl_output/H1_std_model_df22436c-c39b-40af-bc91-0dcee7fc7cfb.tar.gz\n",
            " 83%|████████▎ | 25/30 [03:53<00:44,  8.96s/it, best loss: 0.4969218988301498]"
          ],
          "name": "stdout"
        },
        {
          "output_type": "stream",
          "text": [
            "2021-03-25 21:48:36,209 Wrote model metrics to file ampl_output/H1_std/RF_ecfp_scaffold_regression/df22436c-c39b-40af-bc91-0dcee7fc7cfb/model_metrics.json\n"
          ],
          "name": "stderr"
        },
        {
          "output_type": "stream",
          "text": [
            "number of features: 1024\n",
            " 87%|████████▋ | 26/30 [04:00<00:35,  8.83s/it, best loss: 0.4969218988301498]"
          ],
          "name": "stdout"
        },
        {
          "output_type": "stream",
          "text": [
            "2021-03-25 21:48:43,259 Previous dataset split restored\n"
          ],
          "name": "stderr"
        },
        {
          "output_type": "stream",
          "text": [
            "n_cnt\n",
            "[1358.]\n",
            "y_means\n",
            "[6.59994988]\n",
            "y_stds\n",
            "[1.29836641]\n",
            "TIMING: dataset construction took 0.087 s\n",
            "Loading dataset from disk.\n",
            "TIMING: dataset construction took 0.016 s\n",
            "Loading dataset from disk.\n",
            "TIMING: dataset construction took 0.017 s\n",
            "Loading dataset from disk.\n",
            " 87%|████████▋ | 26/30 [04:00<00:35,  8.83s/it, best loss: 0.4969218988301498]"
          ],
          "name": "stdout"
        },
        {
          "output_type": "stream",
          "text": [
            "2021-03-25 21:48:45,363 Wrote model metadata to file ampl_output/H1_std/RF_ecfp_scaffold_regression/9c9fd28e-3758-4186-9fed-10b61ca1a13a/model_metadata.json\n"
          ],
          "name": "stderr"
        },
        {
          "output_type": "stream",
          "text": [
            "Wrote model tarball to ampl_output/H1_std_model_9c9fd28e-3758-4186-9fed-10b61ca1a13a.tar.gz\n",
            " 87%|████████▋ | 26/30 [04:02<00:35,  8.83s/it, best loss: 0.4969218988301498]"
          ],
          "name": "stdout"
        },
        {
          "output_type": "stream",
          "text": [
            "2021-03-25 21:48:45,510 Wrote model metrics to file ampl_output/H1_std/RF_ecfp_scaffold_regression/9c9fd28e-3758-4186-9fed-10b61ca1a13a/model_metrics.json\n"
          ],
          "name": "stderr"
        },
        {
          "output_type": "stream",
          "text": [
            "number of features: 1024\n",
            " 90%|█████████ | 27/30 [04:09<00:26,  8.97s/it, best loss: 0.4969218988301498]"
          ],
          "name": "stdout"
        },
        {
          "output_type": "stream",
          "text": [
            "2021-03-25 21:48:52,488 Previous dataset split restored\n"
          ],
          "name": "stderr"
        },
        {
          "output_type": "stream",
          "text": [
            "n_cnt\n",
            "[1358.]\n",
            "y_means\n",
            "[6.59994988]\n",
            "y_stds\n",
            "[1.29836641]\n",
            "TIMING: dataset construction took 0.068 s\n",
            "Loading dataset from disk.\n",
            "TIMING: dataset construction took 0.018 s\n",
            "Loading dataset from disk.\n",
            "TIMING: dataset construction took 0.016 s\n",
            "Loading dataset from disk.\n",
            " 90%|█████████ | 27/30 [04:10<00:26,  8.97s/it, best loss: 0.4969218988301498]"
          ],
          "name": "stdout"
        },
        {
          "output_type": "stream",
          "text": [
            "2021-03-25 21:48:55,146 Wrote model metadata to file ampl_output/H1_std/RF_ecfp_scaffold_regression/b03f23d5-7e2b-470e-a12c-a3927c7aff61/model_metadata.json\n"
          ],
          "name": "stderr"
        },
        {
          "output_type": "stream",
          "text": [
            "Wrote model tarball to ampl_output/H1_std_model_b03f23d5-7e2b-470e-a12c-a3927c7aff61.tar.gz\n",
            " 90%|█████████ | 27/30 [04:12<00:26,  8.97s/it, best loss: 0.4969218988301498]"
          ],
          "name": "stdout"
        },
        {
          "output_type": "stream",
          "text": [
            "2021-03-25 21:48:55,395 Wrote model metrics to file ampl_output/H1_std/RF_ecfp_scaffold_regression/b03f23d5-7e2b-470e-a12c-a3927c7aff61/model_metrics.json\n"
          ],
          "name": "stderr"
        },
        {
          "output_type": "stream",
          "text": [
            "number of features: 1024\n",
            " 93%|█████████▎| 28/30 [04:19<00:18,  9.25s/it, best loss: 0.4969218988301498]"
          ],
          "name": "stdout"
        },
        {
          "output_type": "stream",
          "text": [
            "2021-03-25 21:49:02,372 Previous dataset split restored\n"
          ],
          "name": "stderr"
        },
        {
          "output_type": "stream",
          "text": [
            "n_cnt\n",
            "[1358.]\n",
            "y_means\n",
            "[6.59994988]\n",
            "y_stds\n",
            "[1.29836641]\n",
            "TIMING: dataset construction took 0.073 s\n",
            "Loading dataset from disk.\n",
            "TIMING: dataset construction took 0.021 s\n",
            "Loading dataset from disk.\n",
            "TIMING: dataset construction took 0.015 s\n",
            "Loading dataset from disk.\n",
            " 93%|█████████▎| 28/30 [04:20<00:18,  9.25s/it, best loss: 0.4969218988301498]"
          ],
          "name": "stdout"
        },
        {
          "output_type": "stream",
          "text": [
            "2021-03-25 21:49:04,943 Wrote model metadata to file ampl_output/H1_std/RF_ecfp_scaffold_regression/57a32186-ac87-427e-b138-5f582d1a18a2/model_metadata.json\n"
          ],
          "name": "stderr"
        },
        {
          "output_type": "stream",
          "text": [
            "Wrote model tarball to ampl_output/H1_std_model_57a32186-ac87-427e-b138-5f582d1a18a2.tar.gz\n",
            " 93%|█████████▎| 28/30 [04:22<00:18,  9.25s/it, best loss: 0.4969218988301498]"
          ],
          "name": "stdout"
        },
        {
          "output_type": "stream",
          "text": [
            "2021-03-25 21:49:05,126 Wrote model metrics to file ampl_output/H1_std/RF_ecfp_scaffold_regression/57a32186-ac87-427e-b138-5f582d1a18a2/model_metrics.json\n"
          ],
          "name": "stderr"
        },
        {
          "output_type": "stream",
          "text": [
            "number of features: 1024\n",
            " 97%|█████████▋| 29/30 [04:28<00:09,  9.39s/it, best loss: 0.4969218988301498]"
          ],
          "name": "stdout"
        },
        {
          "output_type": "stream",
          "text": [
            "2021-03-25 21:49:12,015 Previous dataset split restored\n"
          ],
          "name": "stderr"
        },
        {
          "output_type": "stream",
          "text": [
            "n_cnt\n",
            "[1358.]\n",
            "y_means\n",
            "[6.59994988]\n",
            "y_stds\n",
            "[1.29836641]\n",
            "TIMING: dataset construction took 0.076 s\n",
            "Loading dataset from disk.\n",
            "TIMING: dataset construction took 0.015 s\n",
            "Loading dataset from disk.\n",
            "TIMING: dataset construction took 0.018 s\n",
            "Loading dataset from disk.\n",
            " 97%|█████████▋| 29/30 [04:29<00:09,  9.39s/it, best loss: 0.4969218988301498]"
          ],
          "name": "stdout"
        },
        {
          "output_type": "stream",
          "text": [
            "2021-03-25 21:49:13,139 Wrote model metadata to file ampl_output/H1_std/RF_ecfp_scaffold_regression/bf7215cc-1968-4fe1-a960-05c96cc33e14/model_metadata.json\n"
          ],
          "name": "stderr"
        },
        {
          "output_type": "stream",
          "text": [
            "Wrote model tarball to ampl_output/H1_std_model_bf7215cc-1968-4fe1-a960-05c96cc33e14.tar.gz\n",
            " 97%|█████████▋| 29/30 [04:30<00:09,  9.39s/it, best loss: 0.4969218988301498]"
          ],
          "name": "stdout"
        },
        {
          "output_type": "stream",
          "text": [
            "2021-03-25 21:49:13,173 Wrote model metrics to file ampl_output/H1_std/RF_ecfp_scaffold_regression/bf7215cc-1968-4fe1-a960-05c96cc33e14/model_metrics.json\n"
          ],
          "name": "stderr"
        },
        {
          "output_type": "stream",
          "text": [
            "100%|██████████| 30/30 [04:30<00:00,  9.02s/it, best loss: 0.4969218988301498]\n"
          ],
          "name": "stdout"
        }
      ]
    },
    {
      "cell_type": "code",
      "metadata": {
        "id": "2l-of-gh7Jaq",
        "outputId": "e123e228-7d28-4074-a603-72c15cabae3b",
        "colab": {
          "base_uri": "https://localhost:8080/",
          "height": 635
        }
      },
      "source": [
        "r2_list = [1-new_trials.trials[i][\"result\"][\"loss\"] for i in range(len(new_trials.trials))]\n",
        "fig, ax = plt.subplots(1,1,figsize=(10,10))\n",
        "sns.lineplot(x=list(range(1,len(new_trials.trials)+1)), y=r2_list, ax=ax)\n",
        "ax.set_ylim(0.2,0.6)"
      ],
      "execution_count": 39,
      "outputs": [
        {
          "output_type": "execute_result",
          "data": {
            "text/plain": [
              "(0.2, 0.6)"
            ]
          },
          "metadata": {
            "tags": []
          },
          "execution_count": 39
        },
        {
          "output_type": "display_data",
          "data": {
            "image/png": "[encoded data removed]",
            "text/plain": [
              "<Figure size 720x720 with 1 Axes>"
            ]
          },
          "metadata": {
            "tags": []
          }
        }
      ]
    },
    {
      "cell_type": "code",
      "metadata": {
        "id": "lhvjj4tx7LQB"
      },
      "source": [
        "rfe_list = [new_trials.trials[i][\"result\"][\"rf_estimator\"] for i in range(len(new_trials.trials))]\n",
        "rfd_list = [new_trials.trials[i][\"result\"][\"rf_depth\"] for i in range(len(new_trials.trials))]\n",
        "rff_list = [new_trials.trials[i][\"result\"][\"rf_feature\"] for i in range(len(new_trials.trials))]"
      ],
      "execution_count": 40,
      "outputs": []
    },
    {
      "cell_type": "code",
      "metadata": {
        "id": "1ELOR0Ij7OVJ",
        "outputId": "5ea532a4-49d0-42a4-972f-5b3b721e0650",
        "colab": {
          "base_uri": "https://localhost:8080/",
          "height": 1000
        }
      },
      "source": [
        "perf_df = pd.DataFrame({\"rf_estimators\": rfe_list, \"rf_max_depth\": rfd_list, \"rf_max_features\": rff_list, \"valid_r2_score\": r2_list})\n",
        "perf_df.sort_values(by=\"valid_r2_score\", ascending=False)"
      ],
      "execution_count": 41,
      "outputs": [
        {
          "output_type": "execute_result",
          "data": {
            "text/html": [
              "<div>\n",
              "<style scoped>\n",
              "    .dataframe tbody tr th:only-of-type {\n",
              "        vertical-align: middle;\n",
              "    }\n",
              "\n",
              "    .dataframe tbody tr th {\n",
              "        vertical-align: top;\n",
              "    }\n",
              "\n",
              "    .dataframe thead th {\n",
              "        text-align: right;\n",
              "    }\n",
              "</style>\n",
              "<table border=\"1\" class=\"dataframe\">\n",
              "  <thead>\n",
              "    <tr style=\"text-align: right;\">\n",
              "      <th></th>\n",
              "      <th>rf_estimators</th>\n",
              "      <th>rf_max_depth</th>\n",
              "      <th>rf_max_features</th>\n",
              "      <th>valid_r2_score</th>\n",
              "    </tr>\n",
              "  </thead>\n",
              "  <tbody>\n",
              "    <tr>\n",
              "      <th>11</th>\n",
              "      <td>21</td>\n",
              "      <td>53</td>\n",
              "      <td>232</td>\n",
              "      <td>0.503078</td>\n",
              "    </tr>\n",
              "    <tr>\n",
              "      <th>37</th>\n",
              "      <td>21</td>\n",
              "      <td>68</td>\n",
              "      <td>73</td>\n",
              "      <td>0.486641</td>\n",
              "    </tr>\n",
              "    <tr>\n",
              "      <th>27</th>\n",
              "      <td>78</td>\n",
              "      <td>130</td>\n",
              "      <td>59</td>\n",
              "      <td>0.479570</td>\n",
              "    </tr>\n",
              "    <tr>\n",
              "      <th>15</th>\n",
              "      <td>75</td>\n",
              "      <td>178</td>\n",
              "      <td>153</td>\n",
              "      <td>0.471293</td>\n",
              "    </tr>\n",
              "    <tr>\n",
              "      <th>13</th>\n",
              "      <td>182</td>\n",
              "      <td>213</td>\n",
              "      <td>155</td>\n",
              "      <td>0.469997</td>\n",
              "    </tr>\n",
              "    <tr>\n",
              "      <th>34</th>\n",
              "      <td>47</td>\n",
              "      <td>27</td>\n",
              "      <td>127</td>\n",
              "      <td>0.468915</td>\n",
              "    </tr>\n",
              "    <tr>\n",
              "      <th>41</th>\n",
              "      <td>222</td>\n",
              "      <td>73</td>\n",
              "      <td>177</td>\n",
              "      <td>0.465952</td>\n",
              "    </tr>\n",
              "    <tr>\n",
              "      <th>23</th>\n",
              "      <td>75</td>\n",
              "      <td>138</td>\n",
              "      <td>244</td>\n",
              "      <td>0.465900</td>\n",
              "    </tr>\n",
              "    <tr>\n",
              "      <th>26</th>\n",
              "      <td>52</td>\n",
              "      <td>98</td>\n",
              "      <td>198</td>\n",
              "      <td>0.463136</td>\n",
              "    </tr>\n",
              "    <tr>\n",
              "      <th>35</th>\n",
              "      <td>25</td>\n",
              "      <td>40</td>\n",
              "      <td>236</td>\n",
              "      <td>0.463046</td>\n",
              "    </tr>\n",
              "    <tr>\n",
              "      <th>3</th>\n",
              "      <td>199</td>\n",
              "      <td>168</td>\n",
              "      <td>111</td>\n",
              "      <td>0.460868</td>\n",
              "    </tr>\n",
              "    <tr>\n",
              "      <th>46</th>\n",
              "      <td>136</td>\n",
              "      <td>52</td>\n",
              "      <td>74</td>\n",
              "      <td>0.458684</td>\n",
              "    </tr>\n",
              "    <tr>\n",
              "      <th>4</th>\n",
              "      <td>213</td>\n",
              "      <td>171</td>\n",
              "      <td>146</td>\n",
              "      <td>0.458244</td>\n",
              "    </tr>\n",
              "    <tr>\n",
              "      <th>48</th>\n",
              "      <td>164</td>\n",
              "      <td>82</td>\n",
              "      <td>144</td>\n",
              "      <td>0.458155</td>\n",
              "    </tr>\n",
              "    <tr>\n",
              "      <th>36</th>\n",
              "      <td>95</td>\n",
              "      <td>149</td>\n",
              "      <td>98</td>\n",
              "      <td>0.457613</td>\n",
              "    </tr>\n",
              "    <tr>\n",
              "      <th>19</th>\n",
              "      <td>145</td>\n",
              "      <td>130</td>\n",
              "      <td>251</td>\n",
              "      <td>0.457437</td>\n",
              "    </tr>\n",
              "    <tr>\n",
              "      <th>0</th>\n",
              "      <td>188</td>\n",
              "      <td>240</td>\n",
              "      <td>166</td>\n",
              "      <td>0.457153</td>\n",
              "    </tr>\n",
              "    <tr>\n",
              "      <th>2</th>\n",
              "      <td>194</td>\n",
              "      <td>58</td>\n",
              "      <td>217</td>\n",
              "      <td>0.457107</td>\n",
              "    </tr>\n",
              "    <tr>\n",
              "      <th>18</th>\n",
              "      <td>231</td>\n",
              "      <td>169</td>\n",
              "      <td>33</td>\n",
              "      <td>0.456006</td>\n",
              "    </tr>\n",
              "    <tr>\n",
              "      <th>43</th>\n",
              "      <td>66</td>\n",
              "      <td>67</td>\n",
              "      <td>123</td>\n",
              "      <td>0.455657</td>\n",
              "    </tr>\n",
              "    <tr>\n",
              "      <th>31</th>\n",
              "      <td>118</td>\n",
              "      <td>73</td>\n",
              "      <td>61</td>\n",
              "      <td>0.453447</td>\n",
              "    </tr>\n",
              "    <tr>\n",
              "      <th>8</th>\n",
              "      <td>154</td>\n",
              "      <td>174</td>\n",
              "      <td>254</td>\n",
              "      <td>0.453084</td>\n",
              "    </tr>\n",
              "    <tr>\n",
              "      <th>24</th>\n",
              "      <td>117</td>\n",
              "      <td>209</td>\n",
              "      <td>88</td>\n",
              "      <td>0.452961</td>\n",
              "    </tr>\n",
              "    <tr>\n",
              "      <th>12</th>\n",
              "      <td>135</td>\n",
              "      <td>188</td>\n",
              "      <td>121</td>\n",
              "      <td>0.452686</td>\n",
              "    </tr>\n",
              "    <tr>\n",
              "      <th>28</th>\n",
              "      <td>96</td>\n",
              "      <td>33</td>\n",
              "      <td>68</td>\n",
              "      <td>0.452534</td>\n",
              "    </tr>\n",
              "    <tr>\n",
              "      <th>40</th>\n",
              "      <td>254</td>\n",
              "      <td>87</td>\n",
              "      <td>51</td>\n",
              "      <td>0.451251</td>\n",
              "    </tr>\n",
              "    <tr>\n",
              "      <th>1</th>\n",
              "      <td>85</td>\n",
              "      <td>63</td>\n",
              "      <td>84</td>\n",
              "      <td>0.445769</td>\n",
              "    </tr>\n",
              "    <tr>\n",
              "      <th>45</th>\n",
              "      <td>48</td>\n",
              "      <td>118</td>\n",
              "      <td>159</td>\n",
              "      <td>0.444790</td>\n",
              "    </tr>\n",
              "    <tr>\n",
              "      <th>32</th>\n",
              "      <td>82</td>\n",
              "      <td>94</td>\n",
              "      <td>107</td>\n",
              "      <td>0.441358</td>\n",
              "    </tr>\n",
              "    <tr>\n",
              "      <th>29</th>\n",
              "      <td>162</td>\n",
              "      <td>79</td>\n",
              "      <td>61</td>\n",
              "      <td>0.440522</td>\n",
              "    </tr>\n",
              "    <tr>\n",
              "      <th>16</th>\n",
              "      <td>195</td>\n",
              "      <td>54</td>\n",
              "      <td>39</td>\n",
              "      <td>0.438847</td>\n",
              "    </tr>\n",
              "    <tr>\n",
              "      <th>17</th>\n",
              "      <td>54</td>\n",
              "      <td>182</td>\n",
              "      <td>175</td>\n",
              "      <td>0.438776</td>\n",
              "    </tr>\n",
              "    <tr>\n",
              "      <th>21</th>\n",
              "      <td>107</td>\n",
              "      <td>10</td>\n",
              "      <td>189</td>\n",
              "      <td>0.433999</td>\n",
              "    </tr>\n",
              "    <tr>\n",
              "      <th>10</th>\n",
              "      <td>63</td>\n",
              "      <td>46</td>\n",
              "      <td>15</td>\n",
              "      <td>0.433279</td>\n",
              "    </tr>\n",
              "    <tr>\n",
              "      <th>20</th>\n",
              "      <td>9</td>\n",
              "      <td>112</td>\n",
              "      <td>86</td>\n",
              "      <td>0.432095</td>\n",
              "    </tr>\n",
              "    <tr>\n",
              "      <th>9</th>\n",
              "      <td>97</td>\n",
              "      <td>154</td>\n",
              "      <td>30</td>\n",
              "      <td>0.424299</td>\n",
              "    </tr>\n",
              "    <tr>\n",
              "      <th>47</th>\n",
              "      <td>237</td>\n",
              "      <td>36</td>\n",
              "      <td>24</td>\n",
              "      <td>0.421759</td>\n",
              "    </tr>\n",
              "    <tr>\n",
              "      <th>25</th>\n",
              "      <td>32</td>\n",
              "      <td>24</td>\n",
              "      <td>137</td>\n",
              "      <td>0.414704</td>\n",
              "    </tr>\n",
              "    <tr>\n",
              "      <th>22</th>\n",
              "      <td>22</td>\n",
              "      <td>105</td>\n",
              "      <td>226</td>\n",
              "      <td>0.413760</td>\n",
              "    </tr>\n",
              "    <tr>\n",
              "      <th>14</th>\n",
              "      <td>37</td>\n",
              "      <td>245</td>\n",
              "      <td>41</td>\n",
              "      <td>0.413560</td>\n",
              "    </tr>\n",
              "    <tr>\n",
              "      <th>7</th>\n",
              "      <td>40</td>\n",
              "      <td>233</td>\n",
              "      <td>166</td>\n",
              "      <td>0.412893</td>\n",
              "    </tr>\n",
              "    <tr>\n",
              "      <th>49</th>\n",
              "      <td>16</td>\n",
              "      <td>157</td>\n",
              "      <td>94</td>\n",
              "      <td>0.412296</td>\n",
              "    </tr>\n",
              "    <tr>\n",
              "      <th>42</th>\n",
              "      <td>33</td>\n",
              "      <td>47</td>\n",
              "      <td>137</td>\n",
              "      <td>0.410986</td>\n",
              "    </tr>\n",
              "    <tr>\n",
              "      <th>5</th>\n",
              "      <td>253</td>\n",
              "      <td>9</td>\n",
              "      <td>198</td>\n",
              "      <td>0.408888</td>\n",
              "    </tr>\n",
              "    <tr>\n",
              "      <th>39</th>\n",
              "      <td>176</td>\n",
              "      <td>13</td>\n",
              "      <td>75</td>\n",
              "      <td>0.408231</td>\n",
              "    </tr>\n",
              "    <tr>\n",
              "      <th>6</th>\n",
              "      <td>12</td>\n",
              "      <td>83</td>\n",
              "      <td>224</td>\n",
              "      <td>0.406540</td>\n",
              "    </tr>\n",
              "    <tr>\n",
              "      <th>38</th>\n",
              "      <td>18</td>\n",
              "      <td>61</td>\n",
              "      <td>212</td>\n",
              "      <td>0.405387</td>\n",
              "    </tr>\n",
              "    <tr>\n",
              "      <th>30</th>\n",
              "      <td>9</td>\n",
              "      <td>133</td>\n",
              "      <td>106</td>\n",
              "      <td>0.386669</td>\n",
              "    </tr>\n",
              "    <tr>\n",
              "      <th>33</th>\n",
              "      <td>67</td>\n",
              "      <td>118</td>\n",
              "      <td>10</td>\n",
              "      <td>0.375568</td>\n",
              "    </tr>\n",
              "    <tr>\n",
              "      <th>44</th>\n",
              "      <td>123</td>\n",
              "      <td>16</td>\n",
              "      <td>17</td>\n",
              "      <td>0.367235</td>\n",
              "    </tr>\n",
              "  </tbody>\n",
              "</table>\n",
              "</div>"
            ],
            "text/plain": [
              "    rf_estimators  rf_max_depth  rf_max_features  valid_r2_score\n",
              "11             21            53              232        0.503078\n",
              "37             21            68               73        0.486641\n",
              "27             78           130               59        0.479570\n",
              "15             75           178              153        0.471293\n",
              "13            182           213              155        0.469997\n",
              "34             47            27              127        0.468915\n",
              "41            222            73              177        0.465952\n",
              "23             75           138              244        0.465900\n",
              "26             52            98              198        0.463136\n",
              "35             25            40              236        0.463046\n",
              "3             199           168              111        0.460868\n",
              "46            136            52               74        0.458684\n",
              "4             213           171              146        0.458244\n",
              "48            164            82              144        0.458155\n",
              "36             95           149               98        0.457613\n",
              "19            145           130              251        0.457437\n",
              "0             188           240              166        0.457153\n",
              "2             194            58              217        0.457107\n",
              "18            231           169               33        0.456006\n",
              "43             66            67              123        0.455657\n",
              "31            118            73               61        0.453447\n",
              "8             154           174              254        0.453084\n",
              "24            117           209               88        0.452961\n",
              "12            135           188              121        0.452686\n",
              "28             96            33               68        0.452534\n",
              "40            254            87               51        0.451251\n",
              "1              85            63               84        0.445769\n",
              "45             48           118              159        0.444790\n",
              "32             82            94              107        0.441358\n",
              "29            162            79               61        0.440522\n",
              "16            195            54               39        0.438847\n",
              "17             54           182              175        0.438776\n",
              "21            107            10              189        0.433999\n",
              "10             63            46               15        0.433279\n",
              "20              9           112               86        0.432095\n",
              "9              97           154               30        0.424299\n",
              "47            237            36               24        0.421759\n",
              "25             32            24              137        0.414704\n",
              "22             22           105              226        0.413760\n",
              "14             37           245               41        0.413560\n",
              "7              40           233              166        0.412893\n",
              "49             16           157               94        0.412296\n",
              "42             33            47              137        0.410986\n",
              "5             253             9              198        0.408888\n",
              "39            176            13               75        0.408231\n",
              "6              12            83              224        0.406540\n",
              "38             18            61              212        0.405387\n",
              "30              9           133              106        0.386669\n",
              "33             67           118               10        0.375568\n",
              "44            123            16               17        0.367235"
            ]
          },
          "metadata": {
            "tags": []
          },
          "execution_count": 41
        }
      ]
    }
  ]
}