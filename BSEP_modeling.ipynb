{
  "nbformat": 4,
  "nbformat_minor": 0,
  "metadata": {
    "extensions": {
      "jupyter_dashboards": {
        "activeView": "report_default",
        "version": 1,
        "views": {
          "grid_default": {
            "cellMargin": 10,
            "defaultCellHeight": 20,
            "maxColumns": 12,
            "name": "grid",
            "type": "grid"
          },
          "report_default": {
            "name": "report",
            "type": "report"
          }
        }
      }
    },
    "kernelspec": {
      "display_name": "Python 3",
      "language": "python",
      "name": "python3"
    },
    "language_info": {
      "codemirror_mode": {
        "name": "ipython",
        "version": 3
      },
      "file_extension": ".py",
      "mimetype": "text/x-python",
      "name": "python",
      "nbconvert_exporter": "python",
      "pygments_lexer": "ipython3",
      "version": "3.6.12"
    },
    "colab": {
      "name": "BSEP-modeling.ipynb",
      "provenance": [],
      "collapsed_sections": [],
      "toc_visible": true,
      "machine_shape": "hm",
      "include_colab_link": true
    },
    "accelerator": "GPU"
  },
  "cells": [
    {
      "cell_type": "markdown",
      "metadata": {
        "id": "view-in-github",
        "colab_type": "text"
      },
      "source": [
        "<a href=\"https://colab.research.google.com/github/ravichas/AMPL-Tutorial/blob/master/BSEP_modeling.ipynb\" target=\"_parent\"><img src=\"https://colab.research.google.com/assets/colab-badge.svg\" alt=\"Open In Colab\"/></a>"
      ]
    },
    {
      "cell_type": "markdown",
      "metadata": {
        "id": "0V2ybLgAH-0V"
      },
      "source": [
        "# BSEP Inhibition Model Prediction\r\n",
        "(original version of the tutorial is available from the AMPL GitHub site, https://github.com/ATOMconsortium/AMPL/tree/master/atomsci/ddm/examples/BSEP).  "
      ]
    },
    {
      "cell_type": "markdown",
      "metadata": {
        "id": "FYelWdOkIGwC"
      },
      "source": [
        "This example code recreates the models published in the BSEP paper (https://arxiv.org/abs/2002.12541) and uses them for prediction using a small dataset."
      ]
    },
    {
      "cell_type": "markdown",
      "metadata": {
        "id": "7J41ky8ULQdh"
      },
      "source": [
        "You can read about BSEP gene here, \r\n",
        "\r\n",
        "https://en.wikipedia.org/wiki/ABCB11\r\n",
        "\r\n",
        "and/or here,\r\n",
        "\r\n",
        "http://useast.ensembl.org/Homo_sapiens/Gene/Summary?db=core;g=ENSG00000276582;r=CHR_HSCHR2_1_CTG7_2:168939927-168953422 \r\n",
        "\r\n",
        "ABCB11 is a gene associated with the disease progressive familial intrahepatic cholestasis type 2 (PFIC2).PFIC2 is shown to be caused by mutations in the ABCB11 gene which increases the risk of hepatocellular carcinoma in early life.\r\n",
        "\r\n",
        "\r\n"
      ]
    },
    {
      "cell_type": "markdown",
      "metadata": {
        "id": "VyhYeRqMxO_3"
      },
      "source": [
        "The notebook will run through the following steps: \r\n",
        "\r\n",
        "1.   Clone the AMPL git repository and install the software  \r\n",
        "2.   Use a data file, data/small_test_data.csv as input\r\n",
        "3.   If you want to use your input data, please make sure your input data should be in CSV format that contains the following information: \r\n",
        "        *   Row of column headers\r\n",
        "        *   contain a column of SMILES strings for the compounds you want to run predictions on.\r\n",
        "        * Optional information: \r\n",
        "                *   A column of unique compound IDs; if none is provided, one will be generated for you\r\n",
        "                *   A column of binary activity values, if you have measured IC50s for the input compounds: 0 if the IC50 < 100 uM, 1 if IC50 >= 100 uM."
      ]
    },
    {
      "cell_type": "markdown",
      "metadata": {
        "id": "VMHN84qZXZNO"
      },
      "source": [
        "## Here is a sample input dataset with four componds"
      ]
    },
    {
      "cell_type": "markdown",
      "metadata": {
        "id": "JIxydMlpdWxS"
      },
      "source": [
        "|base_rdkit_smiles | compound_id| pIC50 |relation|active |\r\n",
        "|------------------|------------|-------|--------|-------|\r\n",
        "|CN(C)[C@@H]1C(O)=C(C(N)=O)C(=O)[C@@]2(O)C(O)=C3C(=O)c4c(O)cccc4[C@@](C)(O)C3CC12\"\t|CHEMBL198\t|3.000000\t|<\t|0 |\r\n",
        "|C[C@]12C[C@H](O)[C@@]3(F)C(CCC4=CC(=O)C=C[C@@]43C)C1C[C@@H](O)[C@]2(O)C(=O)CO|CHEMBL3039453\t|3.627825\t|NaN\t|1 |\r\n",
        "|Nc1nc2cc(Cl)ccc2o1\t|CHEMBL472566\t|3.000000\t|< |0|\r\n",
        "|COc1cc([C@@H]2c3cc4c(cc3[C@@H](O[C@@H]3O[C@@H]5CO[C@@H](C)O[C@H]5[C@H](O)[C@H]3O)[C@H]3COC(=O)[C@H]23)OCO4)cc(OC)c1O\t|CHEMBL44657\t|3.876148\t|<|\t0 |\r\n",
        "\r\n"
      ]
    },
    {
      "cell_type": "markdown",
      "metadata": {
        "id": "od_Bn9W5gCh9"
      },
      "source": [
        "## Before you begin, make sure you close all other COLAB notebooks. "
      ]
    },
    {
      "cell_type": "markdown",
      "metadata": {
        "id": "2DWqm4Cxm5h_"
      },
      "source": [
        "# Change Runtime settings\r\n",
        "\r\n",
        "## Plesae change your runtime settings to use GPU and high-memory, if you have \r\n",
        "\r\n",
        "## Runtime --> Change Runtime Type --> GPU"
      ]
    },
    {
      "cell_type": "code",
      "metadata": {
        "id": "rlYz7j65MDcb",
        "colab": {
          "base_uri": "https://localhost:8080/"
        },
        "outputId": "fbcf7474-2ca1-4e52-ecfa-45d639b84a15"
      },
      "source": [
        "!date # starting time"
      ],
      "execution_count": 12,
      "outputs": [
        {
          "output_type": "stream",
          "text": [
            "Wed Feb 10 20:19:09 UTC 2021\n"
          ],
          "name": "stdout"
        }
      ]
    },
    {
      "cell_type": "markdown",
      "metadata": {
        "id": "5qGO2T0cIvIm"
      },
      "source": [
        "## Install AMPL GPU version\r\n",
        "\r\n",
        "The timt it will take to execute the following code chunk in COLAB\r\n",
        "```\r\n",
        "real\t2m59.739s\r\n",
        "user\t1m48.995s\r\n",
        "sys\t0m20.614s\r\n",
        "```"
      ]
    },
    {
      "cell_type": "code",
      "metadata": {
        "id": "TW1L0cVrIqxm",
        "colab": {
          "base_uri": "https://localhost:8080/"
        },
        "outputId": "86b624df-93ff-403f-9363-030abb84f5b5"
      },
      "source": [
        "import requests\r\n",
        "\r\n",
        "# Copy AMPL install script\r\n",
        "url='https://raw.githubusercontent.com/ravichas/AMPL-Tutorial/master/config/install_AMPL_GPU.sh'\r\n",
        "\r\n",
        "downloaded_obj = requests.get(url)\r\n",
        "with open(\"install_AMPL_GPU.sh\", \"wb\") as file:\r\n",
        "    file.write(downloaded_obj.content)\r\n",
        "\r\n",
        "\r\n",
        "# Install and load AMPL\r\n",
        "!chmod u+x install_AMPL_GPU.sh\r\n",
        "!time ./install_AMPL_GPU.sh\r\n",
        "import sys\r\n",
        "if '/content/AMPL/lib/python3.6/site-packages' not in sys.path:\r\n",
        "    sys.path.insert(1, '/content/AMPL/lib/python3.6/site-packages')\r\n",
        "\r\n",
        "sys.path"
      ],
      "execution_count": 13,
      "outputs": [
        {
          "output_type": "stream",
          "text": [
            "--2021-02-10 20:19:09--  https://repo.anaconda.com/miniconda/Miniconda3-latest-Linux-x86_64.sh\n",
            "Resolving repo.anaconda.com (repo.anaconda.com)... 104.16.130.3, 104.16.131.3, 2606:4700::6810:8303, ...\n",
            "Connecting to repo.anaconda.com (repo.anaconda.com)|104.16.130.3|:443... connected.\n",
            "HTTP request sent, awaiting response... 200 OK\n",
            "Length: 94235922 (90M) [application/x-sh]\n",
            "Saving to: ‘Miniconda3-latest-Linux-x86_64.sh.1’\n",
            "\n",
            "Miniconda3-latest-L 100%[===================>]  89.87M   283MB/s    in 0.3s    \n",
            "\n",
            "2021-02-10 20:19:09 (283 MB/s) - ‘Miniconda3-latest-Linux-x86_64.sh.1’ saved [94235922/94235922]\n",
            "\n",
            "ERROR: File or directory already exists: '/content/AMPL'\n",
            "If you want to update an existing installation, use the -u option.\n",
            "Preparing transaction: - \b\b\\ \b\b| \b\b/ \b\b- \b\b\\ \b\b| \b\b/ \b\b- \b\b\\ \b\b| \b\b/ \b\b- \b\b\\ \b\b| \b\b/ \b\b- \b\b\\ \b\b| \b\b/ \b\b- \b\b\\ \b\b| \b\bdone\n",
            "Verifying transaction: - \b\b\\ \b\b| \b\b/ \b\b- \b\b\\ \b\b| \b\b/ \b\b- \b\b\\ \b\b| \b\b/ \b\b- \b\b\\ \b\b| \b\b/ \b\b- \b\b\\ \b\b| \b\b/ \b\b- \b\b\\ \b\b| \b\b/ \b\b- \b\b\\ \b\b| \b\b/ \b\b- \b\b\\ \b\b| \b\b/ \b\b- \b\b\\ \b\b| \b\b/ \b\b- \b\b\\ \b\b| \b\b/ \b\b- \b\b\\ \b\b| \b\b/ \b\b- \b\b\\ \b\b| \b\b/ \b\b- \b\b\\ \b\b| \b\b/ \b\b- \b\b\\ \b\b| \b\b/ \b\b- \b\b\\ \b\b| \b\b/ \b\b- \b\b\\ \b\b| \b\b/ \b\b- \b\b\\ \b\b| \b\b/ \b\b- \b\b\\ \b\b| \b\b/ \b\b- \b\b\\ \b\b| \b\b/ \b\b- \b\bdone\n",
            "Executing transaction: | \b\b/ b'Uninstalling jupyter-js-widgets jupyter-js-widgets/extension\\nRemoving: /content/AMPL/share/jupyter/nbextensions/jupyter-js-widgets\\nPaths used for configuration of common: \\n    \\t/content/AMPL/etc/jupyter/nbconfig/common.json\\nPaths used for configuration of common: \\n    \\t\\nPaths used for configuration of notebook: \\n    \\t/content/AMPL/etc/jupyter/nbconfig/notebook.d/widgetsnbextension.json\\n    \\t/content/AMPL/etc/jupyter/nbconfig/notebook.json\\nPaths used for configuration of notebook: \\n    \\t/content/AMPL/etc/jupyter/nbconfig/notebook.d/widgetsnbextension.json\\nPaths used for configuration of tree: \\n    \\t/content/AMPL/etc/jupyter/nbconfig/tree.json\\nPaths used for configuration of tree: \\n    \\t\\nPaths used for configuration of edit: \\n    \\t/content/AMPL/etc/jupyter/nbconfig/edit.json\\nPaths used for configuration of edit: \\n    \\t\\nPaths used for configuration of terminal: \\n    \\t/content/AMPL/etc/jupyter/nbconfig/terminal.json\\nPaths used for configuration of terminal: \\n    \\t\\n'\n",
            "\b\b- \b\b\\ \b\b| \b\b/ \b\b- \b\b\\ \b\b| \b\b/ \b\b- \b\b\\ \b\b| \b\b/ \b\b- \b\b\\ \b\b| \b\b/ \b\b- \b\b\\ \b\b| \b\b/ \b\b- \b\b\\ \b\b| \b\b/ \b\b- \b\b\\ \b\b| \b\b/ \b\b- \b\b\\ \b\b| \b\b/ \b\b- \b\b\\ \b\b| \b\b/ \b\b- \b\b\\ \b\b| \b\b/ \b\b- \b\b\\ \b\b| \b\b/ \b\b- \b\b\\ b'Enabling notebook extension jupyter-js-widgets/extension...\\nPaths used for configuration of notebook: \\n    \\t/content/AMPL/etc/jupyter/nbconfig/notebook.d/widgetsnbextension.json\\n    \\t/content/AMPL/etc/jupyter/nbconfig/notebook.json\\nPaths used for configuration of notebook: \\n    \\t/content/AMPL/etc/jupyter/nbconfig/notebook.d/widgetsnbextension.json\\n      - Validating: \\x1b[32mOK\\x1b[0m\\nPaths used for configuration of notebook: \\n    \\t/content/AMPL/etc/jupyter/nbconfig/notebook.d/widgetsnbextension.json\\n    \\t/content/AMPL/etc/jupyter/nbconfig/notebook.json\\n'\n",
            "\b\b| \b\b/ \b\b- \b\b\\ \b\b| \b\b/ \b\b- \b\b\\ \b\b| \b\b/ \b\b- \b\b\\ \b\b| \b\b/ \b\b- \b\b\\ \b\b| \b\b/ \b\b- \b\b\\ \b\b| \b\b/ \b\b- \b\b\\ \b\b| \b\b/ \b\b- \b\b\\ \b\b| \b\b/ \b\b- \b\b\\ \b\b| \b\b/ \b\b- \b\b\\ \b\b| \b\b/ \b\b- \b\b\\ \b\b| \b\b/ \b\b- \b\b\\ \b\b| \b\b/ \b\b- \b\b\\ \b\b| \b\b/ \b\b- \b\b\\ \b\b| \b\b/ \b\bdone\n",
            "mkdir: cannot create directory ‘github’: File exists\n",
            "fatal: destination path 'AMPL' already exists and is not an empty directory.\n",
            "patching file /content/github/AMPL/atomsci/ddm/pipeline/transformations.py\n",
            "Reversed (or previously applied) patch detected!  Skipping patch.\n",
            "1 out of 1 hunk ignored -- saving rejects to file /content/github/AMPL/atomsci/ddm/pipeline/transformations.py.rej\n",
            "patching file /content/github/AMPL/atomsci/ddm/__init__.py\n",
            "Reversed (or previously applied) patch detected!  Skipping patch.\n",
            "1 out of 1 hunk ignored -- saving rejects to file /content/github/AMPL/atomsci/ddm/__init__.py.rej\n",
            "running build\n",
            "running build_py\n",
            "running egg_info\n",
            "writing /content/github/AMPL.build/ampl/atomsci_ampl.egg-info/PKG-INFO\n",
            "writing dependency_links to /content/github/AMPL.build/ampl/atomsci_ampl.egg-info/dependency_links.txt\n",
            "writing namespace_packages to /content/github/AMPL.build/ampl/atomsci_ampl.egg-info/namespace_packages.txt\n",
            "writing top-level names to /content/github/AMPL.build/ampl/atomsci_ampl.egg-info/top_level.txt\n",
            "reading manifest file '/content/github/AMPL.build/ampl/atomsci_ampl.egg-info/SOURCES.txt'\n",
            "reading manifest template 'MANIFEST.in'\n",
            "warning: no files found matching 'atomsci/*/*.yaml'\n",
            "writing manifest file '/content/github/AMPL.build/ampl/atomsci_ampl.egg-info/SOURCES.txt'\n",
            "running bdist_wheel\n",
            "installing to /content/github/AMPL.build/ampl/bdist.linux-x86_64/wheel\n",
            "running install\n",
            "running install_lib\n",
            "Skipping installation of /content/github/AMPL.build/ampl/bdist.linux-x86_64/wheel/atomsci/__init__.py (namespace package)\n",
            "copying atomsci/ddm/__init__.py -> /content/github/AMPL.build/ampl/bdist.linux-x86_64/wheel/atomsci/ddm\n",
            "copying atomsci/ddm/data/descriptor_sets_sources_by_descr_type.csv -> /content/github/AMPL.build/ampl/bdist.linux-x86_64/wheel/atomsci/ddm/data\n",
            "copying atomsci/ddm/utils/datastore_functions.py -> /content/github/AMPL.build/ampl/bdist.linux-x86_64/wheel/atomsci/ddm/utils\n",
            "copying atomsci/ddm/utils/data_curation_functions.py -> /content/github/AMPL.build/ampl/bdist.linux-x86_64/wheel/atomsci/ddm/utils\n",
            "copying atomsci/ddm/utils/hyperparam_search_wrapper.py -> /content/github/AMPL.build/ampl/bdist.linux-x86_64/wheel/atomsci/ddm/utils\n",
            "copying atomsci/ddm/utils/rdkit_easy.py -> /content/github/AMPL.build/ampl/bdist.linux-x86_64/wheel/atomsci/ddm/utils\n",
            "copying atomsci/ddm/utils/struct_utils.py -> /content/github/AMPL.build/ampl/bdist.linux-x86_64/wheel/atomsci/ddm/utils\n",
            "copying atomsci/ddm/utils/process_slurm.py -> /content/github/AMPL.build/ampl/bdist.linux-x86_64/wheel/atomsci/ddm/utils\n",
            "copying atomsci/ddm/utils/genTestset.py -> /content/github/AMPL.build/ampl/bdist.linux-x86_64/wheel/atomsci/ddm/utils\n",
            "copying atomsci/ddm/utils/__init__.py -> /content/github/AMPL.build/ampl/bdist.linux-x86_64/wheel/atomsci/ddm/utils\n",
            "copying atomsci/ddm/utils/pubchem_utils.py -> /content/github/AMPL.build/ampl/bdist.linux-x86_64/wheel/atomsci/ddm/utils\n",
            "copying atomsci/ddm/utils/open-docs.py -> /content/github/AMPL.build/ampl/bdist.linux-x86_64/wheel/atomsci/ddm/utils\n",
            "copying atomsci/ddm/utils/curate_data.py -> /content/github/AMPL.build/ampl/bdist.linux-x86_64/wheel/atomsci/ddm/utils\n",
            "copying atomsci/ddm/utils/llnl_utils.py -> /content/github/AMPL.build/ampl/bdist.linux-x86_64/wheel/atomsci/ddm/utils\n",
            "copying atomsci/ddm/pipeline/compare_models.py -> /content/github/AMPL.build/ampl/bdist.linux-x86_64/wheel/atomsci/ddm/pipeline\n",
            "copying atomsci/ddm/pipeline/perf_plots.py -> /content/github/AMPL.build/ampl/bdist.linux-x86_64/wheel/atomsci/ddm/pipeline\n",
            "copying atomsci/ddm/pipeline/splitting.py -> /content/github/AMPL.build/ampl/bdist.linux-x86_64/wheel/atomsci/ddm/pipeline\n",
            "copying atomsci/ddm/pipeline/dist_metrics.py -> /content/github/AMPL.build/ampl/bdist.linux-x86_64/wheel/atomsci/ddm/pipeline\n",
            "copying atomsci/ddm/pipeline/model_tracker.py -> /content/github/AMPL.build/ampl/bdist.linux-x86_64/wheel/atomsci/ddm/pipeline\n",
            "copying atomsci/ddm/pipeline/perf_data.py -> /content/github/AMPL.build/ampl/bdist.linux-x86_64/wheel/atomsci/ddm/pipeline\n",
            "copying atomsci/ddm/pipeline/model_datasets.py -> /content/github/AMPL.build/ampl/bdist.linux-x86_64/wheel/atomsci/ddm/pipeline\n",
            "copying atomsci/ddm/pipeline/parameter_parser.py -> /content/github/AMPL.build/ampl/bdist.linux-x86_64/wheel/atomsci/ddm/pipeline\n",
            "copying atomsci/ddm/pipeline/__init__.py -> /content/github/AMPL.build/ampl/bdist.linux-x86_64/wheel/atomsci/ddm/pipeline\n",
            "copying atomsci/ddm/pipeline/chem_diversity.py -> /content/github/AMPL.build/ampl/bdist.linux-x86_64/wheel/atomsci/ddm/pipeline\n",
            "copying atomsci/ddm/pipeline/predict_from_model.py -> /content/github/AMPL.build/ampl/bdist.linux-x86_64/wheel/atomsci/ddm/pipeline\n",
            "copying atomsci/ddm/pipeline/transformations.py -> /content/github/AMPL.build/ampl/bdist.linux-x86_64/wheel/atomsci/ddm/pipeline\n",
            "copying atomsci/ddm/pipeline/ave_splitter.py -> /content/github/AMPL.build/ampl/bdist.linux-x86_64/wheel/atomsci/ddm/pipeline\n",
            "copying atomsci/ddm/pipeline/model_wrapper.py -> /content/github/AMPL.build/ampl/bdist.linux-x86_64/wheel/atomsci/ddm/pipeline\n",
            "copying atomsci/ddm/pipeline/featurization.py -> /content/github/AMPL.build/ampl/bdist.linux-x86_64/wheel/atomsci/ddm/pipeline\n",
            "copying atomsci/ddm/pipeline/diversity_plots.py -> /content/github/AMPL.build/ampl/bdist.linux-x86_64/wheel/atomsci/ddm/pipeline\n",
            "copying atomsci/ddm/pipeline/temporal_splitter.py -> /content/github/AMPL.build/ampl/bdist.linux-x86_64/wheel/atomsci/ddm/pipeline\n",
            "copying atomsci/ddm/pipeline/hyper_perf_plots.py -> /content/github/AMPL.build/ampl/bdist.linux-x86_64/wheel/atomsci/ddm/pipeline\n",
            "copying atomsci/ddm/pipeline/model_pipeline.py -> /content/github/AMPL.build/ampl/bdist.linux-x86_64/wheel/atomsci/ddm/pipeline\n",
            "running install_egg_info\n",
            "Copying /content/github/AMPL.build/ampl/atomsci_ampl.egg-info to /content/github/AMPL.build/ampl/bdist.linux-x86_64/wheel/atomsci_ampl-1.0.0.dev1-py3.6.egg-info\n",
            "Installing /content/github/AMPL.build/ampl/bdist.linux-x86_64/wheel/atomsci_ampl-1.0.0.dev1-py3.6-nspkg.pth\n",
            "running install_scripts\n",
            "adding license file \"LICENSE\" (matched pattern \"LICEN[CS]E*\")\n",
            "adding license file \"NOTICE\" (matched pattern \"NOTICE*\")\n",
            "creating /content/github/AMPL.build/ampl/bdist.linux-x86_64/wheel/atomsci_ampl-1.0.0.dev1.dist-info/WHEEL\n",
            "creating '/content/github/AMPL.dist/atomsci_ampl-1.0.0.dev1-py3-none-any.whl' and adding '/content/github/AMPL.build/ampl/bdist.linux-x86_64/wheel' to it\n",
            "adding 'atomsci_ampl-1.0.0.dev1-py3.6-nspkg.pth'\n",
            "adding 'atomsci/ddm/__init__.py'\n",
            "adding 'atomsci/ddm/data/descriptor_sets_sources_by_descr_type.csv'\n",
            "adding 'atomsci/ddm/pipeline/__init__.py'\n",
            "adding 'atomsci/ddm/pipeline/ave_splitter.py'\n",
            "adding 'atomsci/ddm/pipeline/chem_diversity.py'\n",
            "adding 'atomsci/ddm/pipeline/compare_models.py'\n",
            "adding 'atomsci/ddm/pipeline/dist_metrics.py'\n",
            "adding 'atomsci/ddm/pipeline/diversity_plots.py'\n",
            "adding 'atomsci/ddm/pipeline/featurization.py'\n",
            "adding 'atomsci/ddm/pipeline/hyper_perf_plots.py'\n",
            "adding 'atomsci/ddm/pipeline/model_datasets.py'\n",
            "adding 'atomsci/ddm/pipeline/model_pipeline.py'\n",
            "adding 'atomsci/ddm/pipeline/model_tracker.py'\n",
            "adding 'atomsci/ddm/pipeline/model_wrapper.py'\n",
            "adding 'atomsci/ddm/pipeline/parameter_parser.py'\n",
            "adding 'atomsci/ddm/pipeline/perf_data.py'\n",
            "adding 'atomsci/ddm/pipeline/perf_plots.py'\n",
            "adding 'atomsci/ddm/pipeline/predict_from_model.py'\n",
            "adding 'atomsci/ddm/pipeline/splitting.py'\n",
            "adding 'atomsci/ddm/pipeline/temporal_splitter.py'\n",
            "adding 'atomsci/ddm/pipeline/transformations.py'\n",
            "adding 'atomsci/ddm/utils/__init__.py'\n",
            "adding 'atomsci/ddm/utils/curate_data.py'\n",
            "adding 'atomsci/ddm/utils/data_curation_functions.py'\n",
            "adding 'atomsci/ddm/utils/datastore_functions.py'\n",
            "adding 'atomsci/ddm/utils/genTestset.py'\n",
            "adding 'atomsci/ddm/utils/hyperparam_search_wrapper.py'\n",
            "adding 'atomsci/ddm/utils/llnl_utils.py'\n",
            "adding 'atomsci/ddm/utils/open-docs.py'\n",
            "adding 'atomsci/ddm/utils/process_slurm.py'\n",
            "adding 'atomsci/ddm/utils/pubchem_utils.py'\n",
            "adding 'atomsci/ddm/utils/rdkit_easy.py'\n",
            "adding 'atomsci/ddm/utils/struct_utils.py'\n",
            "adding 'atomsci_ampl-1.0.0.dev1.dist-info/LICENSE'\n",
            "adding 'atomsci_ampl-1.0.0.dev1.dist-info/METADATA'\n",
            "adding 'atomsci_ampl-1.0.0.dev1.dist-info/NOTICE'\n",
            "adding 'atomsci_ampl-1.0.0.dev1.dist-info/WHEEL'\n",
            "adding 'atomsci_ampl-1.0.0.dev1.dist-info/namespace_packages.txt'\n",
            "adding 'atomsci_ampl-1.0.0.dev1.dist-info/top_level.txt'\n",
            "adding 'atomsci_ampl-1.0.0.dev1.dist-info/RECORD'\n",
            "removing /content/github/AMPL.build/ampl/bdist.linux-x86_64/wheel\n",
            "DIR: /content/github/AMPL\n",
            "Non-user install because site-packages writeable\n",
            "Ignoring indexes: https://pypi.org/simple\n",
            "Created temporary directory: /tmp/pip-ephem-wheel-cache-ixwd6ibp\n",
            "Created temporary directory: /tmp/pip-req-tracker-jkoxt6v1\n",
            "Initialized build tracking at /tmp/pip-req-tracker-jkoxt6v1\n",
            "Created build tracker: /tmp/pip-req-tracker-jkoxt6v1\n",
            "Entered build tracker: /tmp/pip-req-tracker-jkoxt6v1\n",
            "Created temporary directory: /tmp/pip-install-2ev5_uuu\n",
            "Looking in links: /content/github/AMPL.dist\n",
            "0 location(s) to search for versions of atomsci-ampl:\n",
            "Skipping link: unsupported archive format: .dist: /content/github/AMPL.dist (from -f)\n",
            "Found link file:///content/github/AMPL.dist/atomsci_ampl-1.0.0.dev1-py3-none-any.whl, version: 1.0.0.dev1\n",
            "Local files found: /content/github/AMPL.dist/atomsci_ampl-1.0.0.dev1-py3-none-any.whl\n",
            "Given no hashes to check 1 links for project 'atomsci-ampl': discarding no candidates\n",
            "Using version 1.0.0.dev1 (newest of versions: 1.0.0.dev1)\n",
            "Processing /content/github/AMPL.dist/atomsci_ampl-1.0.0.dev1-py3-none-any.whl\n",
            "  Added atomsci_ampl from file:///content/github/AMPL.dist/atomsci_ampl-1.0.0.dev1-py3-none-any.whl to build tracker '/tmp/pip-req-tracker-jkoxt6v1'\n",
            "  Removed atomsci_ampl from file:///content/github/AMPL.dist/atomsci_ampl-1.0.0.dev1-py3-none-any.whl from build tracker '/tmp/pip-req-tracker-jkoxt6v1'\n",
            "Installing collected packages: atomsci-ampl\n",
            "  Created temporary directory: /tmp/pip-unpacked-wheel-jcewyspf\n",
            "\n",
            "Successfully installed atomsci-ampl-1.0.0.dev1\n",
            "Removed build tracker: '/tmp/pip-req-tracker-jkoxt6v1'\n",
            "\n",
            "real\t0m32.013s\n",
            "user\t0m21.941s\n",
            "sys\t0m9.577s\n"
          ],
          "name": "stdout"
        },
        {
          "output_type": "execute_result",
          "data": {
            "text/plain": [
              "['',\n",
              " '/content/AMPL/lib/python3.6/site-packages',\n",
              " '/env/python',\n",
              " '/usr/lib/python36.zip',\n",
              " '/usr/lib/python3.6',\n",
              " '/usr/lib/python3.6/lib-dynload',\n",
              " '/usr/local/lib/python3.6/dist-packages',\n",
              " '/usr/lib/python3/dist-packages',\n",
              " '/usr/local/lib/python3.6/dist-packages/IPython/extensions',\n",
              " '/root/.ipython']"
            ]
          },
          "metadata": {
            "tags": []
          },
          "execution_count": 13
        }
      ]
    },
    {
      "cell_type": "code",
      "metadata": {
        "id": "jY36yy5lI9rG"
      },
      "source": [
        "# There is a problem with the previously imported cffi, so delete it and \r\n",
        "# load it with AMPL instead\r\n",
        "if 'cffi' in sys.modules:\r\n",
        "  del sys.modules['cffi']"
      ],
      "execution_count": 14,
      "outputs": []
    },
    {
      "cell_type": "code",
      "metadata": {
        "id": "F-c9OaSoJHmG"
      },
      "source": [
        "# We temporarily disable warnings for demonstration.\r\n",
        "# FutureWarnings and DeprecationWarnings are present from some of the AMPL \r\n",
        "# dependency modules.\r\n",
        "import warnings\r\n",
        "warnings.filterwarnings('ignore')\r\n",
        "\r\n",
        "# import few common libraries\r\n",
        "import json\r\n",
        "import os\r\n",
        "import requests"
      ],
      "execution_count": 15,
      "outputs": []
    },
    {
      "cell_type": "code",
      "metadata": {
        "scrolled": false,
        "id": "6r_-HG0aHwsE"
      },
      "source": [
        "#\n",
        "# Import AMPL libraries\n",
        "# \n",
        "import atomsci.ddm.utils.data_curation_functions as dcf\n",
        "import atomsci.ddm.utils.curate_data as curate_data\n",
        "import atomsci.ddm.pipeline.diversity_plots as dp\n",
        "import atomsci.ddm.pipeline.chem_diversity as cd\n",
        "# Additional python libraries\n",
        "import pandas as pd\n",
        "import numpy as np\n",
        "import getpass,os\n",
        "import io"
      ],
      "execution_count": 16,
      "outputs": []
    },
    {
      "cell_type": "code",
      "metadata": {
        "colab": {
          "base_uri": "https://localhost:8080/"
        },
        "id": "L--XR1vjlJfE",
        "outputId": "9044b09e-43eb-4caf-efb3-ac6f8b24c774"
      },
      "source": [
        "%cd /content/github/AMPL/atomsci/ddm/examples/BSEP"
      ],
      "execution_count": 17,
      "outputs": [
        {
          "output_type": "stream",
          "text": [
            "/content/github/AMPL/atomsci/ddm/examples/BSEP\n"
          ],
          "name": "stdout"
        }
      ]
    },
    {
      "cell_type": "code",
      "metadata": {
        "colab": {
          "base_uri": "https://localhost:8080/"
        },
        "id": "YsEmiIU_aBhF",
        "outputId": "3a1333cd-2a11-4626-f769-f28d7a0b4c32"
      },
      "source": [
        "%%bash \r\n",
        "mv predict_bsep_inhibition.py predict_bsep_inhibition.py.orig\r\n",
        "wget https://raw.githubusercontent.com/ravichas/AMPL-Tutorial/master/supp_codes/predict_bsep_inhibition.py"
      ],
      "execution_count": 18,
      "outputs": [
        {
          "output_type": "stream",
          "text": [
            "--2021-02-10 20:19:41--  https://raw.githubusercontent.com/ravichas/AMPL-Tutorial/master/supp_codes/predict_bsep_inhibition.py\n",
            "Resolving raw.githubusercontent.com (raw.githubusercontent.com)... 185.199.110.133, 185.199.109.133, 185.199.111.133, ...\n",
            "Connecting to raw.githubusercontent.com (raw.githubusercontent.com)|185.199.110.133|:443... connected.\n",
            "HTTP request sent, awaiting response... 200 OK\n",
            "Length: 7432 (7.3K) [text/plain]\n",
            "Saving to: ‘predict_bsep_inhibition.py’\n",
            "\n",
            "     0K .......                                               100% 51.5M=0s\n",
            "\n",
            "2021-02-10 20:19:41 (51.5 MB/s) - ‘predict_bsep_inhibition.py’ saved [7432/7432]\n",
            "\n"
          ],
          "name": "stderr"
        }
      ]
    },
    {
      "cell_type": "code",
      "metadata": {
        "colab": {
          "base_uri": "https://localhost:8080/"
        },
        "id": "tzu7vcqYdCTe",
        "outputId": "81f1d9bf-711f-4554-a3e6-0872c296eae6"
      },
      "source": [
        "!ls data"
      ],
      "execution_count": 19,
      "outputs": [
        {
          "output_type": "stream",
          "text": [
            "ChEMBL25_BSEP_curated_data.csv\t      README.md\n",
            "ChEMBL25_BSEP_test_data.csv\t      small_test_data.csv\n",
            "morgan_warner_combined_bsep_data.csv\n"
          ],
          "name": "stdout"
        }
      ]
    },
    {
      "cell_type": "code",
      "metadata": {
        "id": "cxo3vvgAcv3o"
      },
      "source": [
        "df_test_data = pd.read_csv(\"data/small_test_data.csv\")"
      ],
      "execution_count": 20,
      "outputs": []
    },
    {
      "cell_type": "code",
      "metadata": {
        "colab": {
          "base_uri": "https://localhost:8080/"
        },
        "id": "Dg0NzAkedH5k",
        "outputId": "50c80728-aa5c-42bd-a31c-516f6c2bdbd0"
      },
      "source": [
        "df_test_data['base_rdkit_smiles'].values[0:4]"
      ],
      "execution_count": 21,
      "outputs": [
        {
          "output_type": "execute_result",
          "data": {
            "text/plain": [
              "array(['CN(C)[C@@H]1C(O)=C(C(N)=O)C(=O)[C@@]2(O)C(O)=C3C(=O)c4c(O)cccc4[C@@](C)(O)C3CC12',\n",
              "       'C[C@]12C[C@H](O)[C@@]3(F)C(CCC4=CC(=O)C=C[C@@]43C)C1C[C@@H](O)[C@]2(O)C(=O)CO',\n",
              "       'Nc1nc2cc(Cl)ccc2o1',\n",
              "       'COc1cc([C@@H]2c3cc4c(cc3[C@@H](O[C@@H]3O[C@@H]5CO[C@@H](C)O[C@H]5[C@H](O)[C@H]3O)[C@H]3COC(=O)[C@H]23)OCO4)cc(OC)c1O'],\n",
              "      dtype=object)"
            ]
          },
          "metadata": {
            "tags": []
          },
          "execution_count": 21
        }
      ]
    },
    {
      "cell_type": "code",
      "metadata": {
        "colab": {
          "base_uri": "https://localhost:8080/",
          "height": 285
        },
        "id": "_iGdSjKXctjv",
        "outputId": "80905943-b3a5-447e-b8a7-f2f82a5c96cd"
      },
      "source": [
        "from rdkit import Chem\r\n",
        "from rdkit.Chem import AllChem\r\n",
        "from rdkit.Chem import Draw\r\n",
        "from rdkit.Chem import rdDepictor\r\n",
        "\r\n",
        "#Needed to show molecules\r\n",
        "from rdkit.Chem.Draw import IPythonConsole \r\n",
        "\r\n",
        "from rdkit.Chem.Draw.MolDrawing import MolDrawing, DrawingOptions \r\n",
        "from rdkit.Chem import PandasTools\r\n",
        "from rdkit.Chem.Draw import IPythonConsole\r\n",
        "\r\n",
        "IPythonConsole.molSize = (450,400)\r\n",
        "mol0 = df_test_data['base_rdkit_smiles'][0]\r\n",
        "mol0_m = Chem.MolFromSmiles(mol0)\r\n",
        "# rdDepictor.SetPreferCoordGen(False)\r\n",
        "rdDepictor.Compute2DCoords(mol0_m)\r\n",
        "\r\n",
        "mol1 = df_test_data['base_rdkit_smiles'][1]\r\n",
        "mol1_m = Chem.MolFromSmiles(mol1)\r\n",
        "# rdDepictor.SetPreferCoordGen(False)\r\n",
        "rdDepictor.Compute2DCoords(mol1_m)\r\n",
        "\r\n",
        "\r\n",
        "molecules = [ mol0_m, mol1_m ]\r\n",
        "Draw.MolsToGridImage(molecules, molsPerRow = 2, subImgSize=(450, 200))"
      ],
      "execution_count": 22,
      "outputs": [
        {
          "output_type": "stream",
          "text": [
            "Traceback (most recent call last):\n",
            "  File \"/content/AMPL/lib/python3.6/site-packages/rdkit/Chem/PandasTools.py\", line 130, in <module>\n",
            "    if 'display.width' in pd.core.config._registered_options:\n",
            "AttributeError: module 'pandas.core' has no attribute 'config'\n"
          ],
          "name": "stderr"
        },
        {
          "output_type": "execute_result",
          "data": {
            "image/png": "[encoded data removed]",
            "text/plain": [
              "<PIL.PngImagePlugin.PngImageFile image mode=RGB size=900x200 at 0x7FDD7B994668>"
            ]
          },
          "metadata": {
            "tags": []
          },
          "execution_count": 22
        }
      ]
    },
    {
      "cell_type": "code",
      "metadata": {
        "id": "IgutHpbEkAuW"
      },
      "source": [
        "%%bash\r\n",
        "chmod +x predict_bsep_inhibition.py"
      ],
      "execution_count": 23,
      "outputs": []
    },
    {
      "cell_type": "code",
      "metadata": {
        "colab": {
          "base_uri": "https://localhost:8080/"
        },
        "id": "g5XwkcQJq6Qz",
        "outputId": "897893ed-5f45-4d76-c985-f710e27fd574"
      },
      "source": [
        "%%bash\r\n",
        "./predict_bsep_inhibition.py -i data/small_test_data.csv -o small_test_output.csv --id_col compound_id \\\r\n",
        "--smiles_col base_rdkit_smiles --activity_col active"
      ],
      "execution_count": 24,
      "outputs": [
        {
          "output_type": "stream",
          "text": [
            "Standardizing SMILES strings for 19 compounds.\n",
            "Reading descriptor spec table from /content/AMPL/lib/python3.6/site-packages/atomsci/ddm/data/descriptor_sets_sources_by_descr_type.csv\n",
            "Featurization = DescriptorFeaturization with mordred_filtered descriptors\n",
            "/content/AMPL/lib/python3.6/site-packages/numpy/core/fromnumeric.py:83: RuntimeWarning: overflow encountered in reduce\n",
            "  return ufunc.reduce(obj, axis, dtype, out, **passkwargs)\n",
            "number of features: 1555\n",
            "TIMING: dataset construction took 0.011 s\n",
            "Loading dataset from disk.\n",
            "Wrote predictions to file small_test_output.csv\n",
            "Performance metrics:\n",
            "\n",
            "13 out of 19 predictions correct.\n",
            "Accuracy: 0.684\n",
            "Precision: 0.400\n",
            "Recall: 0.400\n",
            "NPV: 0.786\n",
            "ROC AUC: 0.743\n",
            "PRC AUC: 0.549\n",
            "Matthews correlation coefficient: 0.186\n",
            "Confusion matrix:\n",
            "\t\tpredicted activity\n",
            "actual\n",
            "activity\t0\t1\n",
            "\n",
            "   0\t\t11\t3\n",
            "   1\t\t3\t2\n"
          ],
          "name": "stdout"
        },
        {
          "output_type": "stream",
          "text": [
            "/content/AMPL/lib/python3.6/site-packages/sklearn/ensemble/weight_boosting.py:29: DeprecationWarning: numpy.core.umath_tests is an internal NumPy module and should not be imported. It will be removed in a future NumPy release.\n",
            "  from numpy.core.umath_tests import inner1d\n",
            "/content/AMPL/lib/python3.6/site-packages/sklearn/cross_validation.py:41: DeprecationWarning: This module was deprecated in version 0.18 in favor of the model_selection module into which all the refactored classes and functions are moved. Also note that the interface of the new CV iterators are different from that of this module. This module will be removed in 0.20.\n",
            "  \"This module will be removed in 0.20.\", DeprecationWarning)\n",
            "2021-02-10 20:19:44,539 ['time_built', 'dataset_metadata', 'training_metrics', 'time_generated', 'best_epoch'] are not part of the accepted list of parameters and will be ignored\n",
            "2021-02-10 20:19:44.545099: I tensorflow/core/platform/cpu_feature_guard.cc:140] Your CPU supports instructions that this TensorFlow binary was not compiled to use: SSE4.1 SSE4.2 AVX AVX2 FMA\n",
            "2021-02-10 20:19:44.653090: I tensorflow/stream_executor/cuda/cuda_gpu_executor.cc:898] successful NUMA node read from SysFS had negative value (-1), but there must be at least one NUMA node, so returning NUMA node zero\n",
            "2021-02-10 20:19:44.653611: I tensorflow/core/common_runtime/gpu/gpu_device.cc:1212] Found device 0 with properties: \n",
            "name: Tesla P100-PCIE-16GB major: 6 minor: 0 memoryClockRate(GHz): 1.3285\n",
            "pciBusID: 0000:00:04.0\n",
            "totalMemory: 15.90GiB freeMemory: 15.64GiB\n",
            "2021-02-10 20:19:44.653638: I tensorflow/core/common_runtime/gpu/gpu_device.cc:1312] Adding visible gpu devices: 0\n",
            "2021-02-10 20:19:45.012222: I tensorflow/core/common_runtime/gpu/gpu_device.cc:993] Creating TensorFlow device (/job:localhost/replica:0/task:0/device:GPU:0 with 15165 MB memory) -> physical GPU (device: 0, name: Tesla P100-PCIE-16GB, pci bus id: 0000:00:04.0, compute capability: 6.0)\n",
            "2021-02-10 20:19:45.301816: I tensorflow/core/common_runtime/gpu/gpu_device.cc:1312] Adding visible gpu devices: 0\n",
            "2021-02-10 20:19:45.301935: I tensorflow/core/common_runtime/gpu/gpu_device.cc:993] Creating TensorFlow device (/job:localhost/replica:0/task:0/device:GPU:0 with 572 MB memory) -> physical GPU (device: 0, name: Tesla P100-PCIE-16GB, pci bus id: 0000:00:04.0, compute capability: 6.0)\n",
            "/content/AMPL/lib/python3.6/site-packages/deepchem/trans/transformers.py:148: RuntimeWarning: invalid value encountered in true_divide\n",
            "  X = np.nan_to_num((X - self.X_means) / self.X_stds)\n"
          ],
          "name": "stderr"
        }
      ]
    },
    {
      "cell_type": "markdown",
      "metadata": {
        "id": "p3PN35l_f-xc"
      },
      "source": [
        "## Output\r\n",
        "\r\n",
        "The output will be a CSV file with the following columns:\r\n",
        "\r\n",
        "Compound ID\r\n",
        "\r\n",
        "*   **compound ID**: SMILES strings as input\r\n",
        "*   standardized_smiles: \r\n",
        "*   **active actual**: Input activity\r\n",
        "*   **active prob**: Predicted probabilities, \r\n",
        "*   **active pred**: Predicted activity. In this case for each compounds to be a BSEP inhibitor (1) or not (0)"
      ]
    },
    {
      "cell_type": "code",
      "metadata": {
        "id": "WLevuRST_kBv"
      },
      "source": [
        "df_output = pd.read_csv(\"small_test_output.csv\")"
      ],
      "execution_count": 25,
      "outputs": []
    },
    {
      "cell_type": "code",
      "metadata": {
        "colab": {
          "base_uri": "https://localhost:8080/",
          "height": 308
        },
        "id": "BUzsi2juAGnX",
        "outputId": "6c01769e-998a-4561-d1e5-28c1d823755a"
      },
      "source": [
        "df_output.head(5)"
      ],
      "execution_count": 27,
      "outputs": [
        {
          "output_type": "execute_result",
          "data": {
            "text/html": [
              "<div>\n",
              "<style scoped>\n",
              "    .dataframe tbody tr th:only-of-type {\n",
              "        vertical-align: middle;\n",
              "    }\n",
              "\n",
              "    .dataframe tbody tr th {\n",
              "        vertical-align: top;\n",
              "    }\n",
              "\n",
              "    .dataframe thead th {\n",
              "        text-align: right;\n",
              "    }\n",
              "</style>\n",
              "<table border=\"1\" class=\"dataframe\">\n",
              "  <thead>\n",
              "    <tr style=\"text-align: right;\">\n",
              "      <th></th>\n",
              "      <th>compound_id</th>\n",
              "      <th>standardized_smiles</th>\n",
              "      <th>active_actual</th>\n",
              "      <th>active_prob</th>\n",
              "      <th>active_pred</th>\n",
              "      <th>base_rdkit_smiles</th>\n",
              "    </tr>\n",
              "  </thead>\n",
              "  <tbody>\n",
              "    <tr>\n",
              "      <th>0</th>\n",
              "      <td>CHEMBL1200777</td>\n",
              "      <td>N[C@H](Cc1cc(I)c(Oc2cc(I)c(O)c(I)c2)c(I)c1)C(=...</td>\n",
              "      <td>1</td>\n",
              "      <td>9.999999e-01</td>\n",
              "      <td>1</td>\n",
              "      <td>N[C@H](Cc1cc(I)c(Oc2cc(I)c(O)c(I)c2)c(I)c1)C(=...</td>\n",
              "    </tr>\n",
              "    <tr>\n",
              "      <th>1</th>\n",
              "      <td>CHEMBL1200820</td>\n",
              "      <td>CCN1CCN(C(=O)N[C@@H](C(=O)N[C@@H]2C(=O)N3[C@@H...</td>\n",
              "      <td>0</td>\n",
              "      <td>9.768197e-01</td>\n",
              "      <td>1</td>\n",
              "      <td>CCN1CCN(C(=O)N[C@@H](C(=O)N[C@@H]2C(=O)N3[C@@H...</td>\n",
              "    </tr>\n",
              "    <tr>\n",
              "      <th>2</th>\n",
              "      <td>CHEMBL1201203</td>\n",
              "      <td>CN1[C@H]2CC[C@@H]1C[C@H](OC(c1ccccc1)c1ccccc1)C2</td>\n",
              "      <td>1</td>\n",
              "      <td>4.675714e-14</td>\n",
              "      <td>0</td>\n",
              "      <td>CN1[C@H]2CC[C@@H]1C[C@H](OC(c1ccccc1)c1ccccc1)C2</td>\n",
              "    </tr>\n",
              "    <tr>\n",
              "      <th>3</th>\n",
              "      <td>CHEMBL1231530</td>\n",
              "      <td>O=C(O)CCNC(=O)c1ccccc1</td>\n",
              "      <td>0</td>\n",
              "      <td>7.009206e-36</td>\n",
              "      <td>0</td>\n",
              "      <td>O=C(O)CCNC(=O)c1ccccc1</td>\n",
              "    </tr>\n",
              "    <tr>\n",
              "      <th>4</th>\n",
              "      <td>CHEMBL15677</td>\n",
              "      <td>O=C(O)Cc1ccccc1Oc1ccc(Cl)cc1Cl</td>\n",
              "      <td>1</td>\n",
              "      <td>4.339569e-02</td>\n",
              "      <td>0</td>\n",
              "      <td>O=C(O)Cc1ccccc1Oc1ccc(Cl)cc1Cl</td>\n",
              "    </tr>\n",
              "  </tbody>\n",
              "</table>\n",
              "</div>"
            ],
            "text/plain": [
              "     compound_id  ...                                  base_rdkit_smiles\n",
              "0  CHEMBL1200777  ...  N[C@H](Cc1cc(I)c(Oc2cc(I)c(O)c(I)c2)c(I)c1)C(=...\n",
              "1  CHEMBL1200820  ...  CCN1CCN(C(=O)N[C@@H](C(=O)N[C@@H]2C(=O)N3[C@@H...\n",
              "2  CHEMBL1201203  ...   CN1[C@H]2CC[C@@H]1C[C@H](OC(c1ccccc1)c1ccccc1)C2\n",
              "3  CHEMBL1231530  ...                             O=C(O)CCNC(=O)c1ccccc1\n",
              "4    CHEMBL15677  ...                     O=C(O)Cc1ccccc1Oc1ccc(Cl)cc1Cl\n",
              "\n",
              "[5 rows x 6 columns]"
            ]
          },
          "metadata": {
            "tags": []
          },
          "execution_count": 27
        }
      ]
    },
    {
      "cell_type": "code",
      "metadata": {
        "id": "lNJoZWV-bbJl"
      },
      "source": [
        ""
      ],
      "execution_count": 26,
      "outputs": []
    }
  ]
}