{
  "nbformat": 4,
  "nbformat_minor": 0,
  "metadata": {
    "colab": {
      "name": "03_AMPL_Tutorial.ipynb",
      "provenance": [],
      "collapsed_sections": [],
      "toc_visible": true,
      "include_colab_link": true
    },
    "kernelspec": {
      "name": "python3",
      "display_name": "Python 3"
    }
  },
  "cells": [
    {
      "cell_type": "markdown",
      "metadata": {
        "id": "view-in-github",
        "colab_type": "text"
      },
      "source": [
        "<a href=\"https://colab.research.google.com/github/ravichas/AMPL-Tutorial/blob/master/03_AMPL_Tutorial.ipynb\" target=\"_parent\"><img src=\"https://colab.research.google.com/assets/colab-badge.svg\" alt=\"Open In Colab\"/></a>"
      ]
    },
    {
      "cell_type": "markdown",
      "metadata": {
        "id": "kDfd6dNxSIE6",
        "colab_type": "text"
      },
      "source": [
        "# Test AMPL on Google Drive\n",
        "\n",
        "# Warning: this is an experimental notebook\n",
        "AMPL is using Python 3.6.7 while Colab is currently using 3.6.9 listed below so they do not currently match. Your mileage may vary.\n",
        "\n",
        "# Goals\n",
        "- Load pre-installed AMPL installation from Google Drive \n",
        "- Test AMPL on Colab.\n",
        " \n",
        "# Requirements\n",
        "- https://github.com/ravichas/AMPL-Tutorial/blob/master/01_make_AMPL_Google_Drive.ipynb\n",
        "- AMPL.tar.bz2\n",
        "- ChEMBL Dataset required for testing AMPL will be uploaded from GitHub. ChEMBL dataset is SCN5A (human) target specific IC50 values. The ML method is regression.   "
      ]
    },
    {
      "cell_type": "markdown",
      "metadata": {
        "id": "Q4ZFqjQVMVXL",
        "colab_type": "text"
      },
      "source": [
        "## Mount your Google Drive"
      ]
    },
    {
      "cell_type": "code",
      "metadata": {
        "id": "ON-8zAZoSFB5",
        "colab_type": "code",
        "colab": {
          "base_uri": "https://localhost:8080/",
          "height": 34
        },
        "outputId": "285ed9a6-e53a-4a2d-ec7a-3aef36497620"
      },
      "source": [
        "from google.colab import drive\n",
        "drive.mount(\"/content/drive\")"
      ],
      "execution_count": 1,
      "outputs": [
        {
          "output_type": "stream",
          "text": [
            "Mounted at /content/drive\n"
          ],
          "name": "stdout"
        }
      ]
    },
    {
      "cell_type": "markdown",
      "metadata": {
        "id": "R3p_usv8M-_0",
        "colab_type": "text"
      },
      "source": [
        "## Copy the backed up AMPL installation folder "
      ]
    },
    {
      "cell_type": "code",
      "metadata": {
        "id": "0STqTCm3z7JA",
        "colab_type": "code",
        "colab": {
          "base_uri": "https://localhost:8080/",
          "height": 86
        },
        "outputId": "a0defaaa-0f41-4445-8975-a81782ba5b93"
      },
      "source": [
        "# Copy to runtime\n",
        "!time cp '/content/drive/My Drive/colab/AMPL.tar.bz2' /content"
      ],
      "execution_count": 2,
      "outputs": [
        {
          "output_type": "stream",
          "text": [
            "\n",
            "real\t0m5.552s\n",
            "user\t0m0.012s\n",
            "sys\t0m1.448s\n"
          ],
          "name": "stdout"
        }
      ]
    },
    {
      "cell_type": "code",
      "metadata": {
        "id": "CfQ_Gll31Yh5",
        "colab_type": "code",
        "colab": {}
      },
      "source": [
        "# Check AMPL.tar.bz2 exists\n",
        "import os\n",
        "assert(os.path.isfile('/content/AMPL.tar.bz2'))"
      ],
      "execution_count": 3,
      "outputs": []
    },
    {
      "cell_type": "code",
      "metadata": {
        "id": "4IiVz_H6wImh",
        "colab_type": "code",
        "colab": {
          "base_uri": "https://localhost:8080/",
          "height": 86
        },
        "outputId": "3b0d57e1-b6e8-434c-b241-58db414058c9"
      },
      "source": [
        "# Install AMPL to Colab\n",
        "# 3 min\n",
        "import sys\n",
        "\n",
        "!time tar -jxf AMPL.tar.bz2"
      ],
      "execution_count": 4,
      "outputs": [
        {
          "output_type": "stream",
          "text": [
            "\n",
            "real\t1m58.952s\n",
            "user\t1m54.528s\n",
            "sys\t0m18.724s\n"
          ],
          "name": "stdout"
        }
      ]
    },
    {
      "cell_type": "code",
      "metadata": {
        "id": "lfOLp56xQ7FW",
        "colab_type": "code",
        "colab": {
          "base_uri": "https://localhost:8080/",
          "height": 190
        },
        "outputId": "8dc2c137-6b65-4451-84ab-56549aa35cd5"
      },
      "source": [
        "# Load AMPL in this notebook\n",
        "import sys\n",
        "\n",
        "site_packages_path = '/content/AMPL/lib/python3.6/site-packages'\n",
        "if site_packages_path not in sys.path:\n",
        "  sys.path.insert(1, site_packages_path)\n",
        "sys.path"
      ],
      "execution_count": 9,
      "outputs": [
        {
          "output_type": "execute_result",
          "data": {
            "text/plain": [
              "['',\n",
              " '/content/AMPL/lib/python3.6/site-packages',\n",
              " '/env/python',\n",
              " '/usr/lib/python36.zip',\n",
              " '/usr/lib/python3.6',\n",
              " '/usr/lib/python3.6/lib-dynload',\n",
              " '/usr/local/lib/python3.6/dist-packages',\n",
              " '/usr/lib/python3/dist-packages',\n",
              " '/usr/local/lib/python3.6/dist-packages/IPython/extensions',\n",
              " '/root/.ipython']"
            ]
          },
          "metadata": {
            "tags": []
          },
          "execution_count": 9
        }
      ]
    },
    {
      "cell_type": "markdown",
      "metadata": {
        "id": "oPKlkgMIPT3E",
        "colab_type": "text"
      },
      "source": [
        "## Let us run a test AMPL run"
      ]
    },
    {
      "cell_type": "code",
      "metadata": {
        "id": "5vvQt-y0Rfkg",
        "colab_type": "code",
        "colab": {
          "base_uri": "https://localhost:8080/",
          "height": 314
        },
        "outputId": "a419bf22-4833-4980-f01e-47f136140796"
      },
      "source": [
        "# Test AMPL\n",
        "# 90 min\n",
        "import pandas as pd\n",
        "import os\n",
        "\n",
        "import atomsci.ddm.pipeline.compare_models as cmp\n",
        "import atomsci.ddm.pipeline.model_pipeline as mp\n",
        "import atomsci.ddm.pipeline.parameter_parser as parse"
      ],
      "execution_count": 11,
      "outputs": [
        {
          "output_type": "stream",
          "text": [
            "/content/AMPL/lib/python3.6/site-packages/tensorflow/python/framework/dtypes.py:517: FutureWarning: Passing (type, 1) or '1type' as a synonym of type is deprecated; in a future version of numpy, it will be understood as (type, (1,)) / '(1,)type'.\n",
            "  _np_qint8 = np.dtype([(\"qint8\", np.int8, 1)])\n",
            "/content/AMPL/lib/python3.6/site-packages/tensorflow/python/framework/dtypes.py:518: FutureWarning: Passing (type, 1) or '1type' as a synonym of type is deprecated; in a future version of numpy, it will be understood as (type, (1,)) / '(1,)type'.\n",
            "  _np_quint8 = np.dtype([(\"quint8\", np.uint8, 1)])\n",
            "/content/AMPL/lib/python3.6/site-packages/tensorflow/python/framework/dtypes.py:519: FutureWarning: Passing (type, 1) or '1type' as a synonym of type is deprecated; in a future version of numpy, it will be understood as (type, (1,)) / '(1,)type'.\n",
            "  _np_qint16 = np.dtype([(\"qint16\", np.int16, 1)])\n",
            "/content/AMPL/lib/python3.6/site-packages/tensorflow/python/framework/dtypes.py:520: FutureWarning: Passing (type, 1) or '1type' as a synonym of type is deprecated; in a future version of numpy, it will be understood as (type, (1,)) / '(1,)type'.\n",
            "  _np_quint16 = np.dtype([(\"quint16\", np.uint16, 1)])\n",
            "/content/AMPL/lib/python3.6/site-packages/tensorflow/python/framework/dtypes.py:521: FutureWarning: Passing (type, 1) or '1type' as a synonym of type is deprecated; in a future version of numpy, it will be understood as (type, (1,)) / '(1,)type'.\n",
            "  _np_qint32 = np.dtype([(\"qint32\", np.int32, 1)])\n",
            "/content/AMPL/lib/python3.6/site-packages/tensorflow/python/framework/dtypes.py:526: FutureWarning: Passing (type, 1) or '1type' as a synonym of type is deprecated; in a future version of numpy, it will be understood as (type, (1,)) / '(1,)type'.\n",
            "  np_resource = np.dtype([(\"resource\", np.ubyte, 1)])\n",
            "/content/AMPL/lib/python3.6/site-packages/sklearn/ensemble/weight_boosting.py:29: DeprecationWarning: numpy.core.umath_tests is an internal NumPy module and should not be imported. It will be removed in a future NumPy release.\n",
            "  from numpy.core.umath_tests import inner1d\n",
            "/content/AMPL/lib/python3.6/site-packages/sklearn/cross_validation.py:41: DeprecationWarning: This module was deprecated in version 0.18 in favor of the model_selection module into which all the refactored classes and functions are moved. Also note that the interface of the new CV iterators are different from that of this module. This module will be removed in 0.20.\n",
            "  \"This module will be removed in 0.20.\", DeprecationWarning)\n"
          ],
          "name": "stderr"
        }
      ]
    },
    {
      "cell_type": "code",
      "metadata": {
        "id": "BJgzV8map_cL",
        "colab_type": "code",
        "colab": {}
      },
      "source": [
        "import os\n",
        "os.mkdir('chembl_activity_models')"
      ],
      "execution_count": 17,
      "outputs": []
    },
    {
      "cell_type": "markdown",
      "metadata": {
        "id": "vzuzOi_n0_8B",
        "colab_type": "text"
      },
      "source": [
        "**Set the parameters and create the model**"
      ]
    },
    {
      "cell_type": "code",
      "metadata": {
        "id": "Gz7-uY8kqIK9",
        "colab_type": "code",
        "colab": {}
      },
      "source": [
        "import pandas as pd\n",
        "import requests\n",
        "import io\n",
        "url = 'https://raw.githubusercontent.com/ravichas/AMPL-Tutorial/master/datasets/ChEMBL26_SCN5A_IC50_human_ml_ready.csv'\n",
        "download = requests.get(url).content\n",
        "df = pd.read_csv(url, index_col=0)\n",
        "# Reading the downloaded content and turning it into a pandas dataframe\n",
        "df = pd.read_csv(io.StringIO(download.decode('utf-8')))\n",
        "df.iloc[0:5, 0:5]\n",
        "df.to_csv('ChEMBL26_SCN5A_IC50_human_ml_ready.csv', index=False)"
      ],
      "execution_count": 18,
      "outputs": []
    },
    {
      "cell_type": "code",
      "metadata": {
        "id": "egZ9j7mGshCB",
        "colab_type": "code",
        "colab": {}
      },
      "source": [
        "split_config = {\n",
        "\"script_dir\": \"/content/AMPL/atomsci/ddm\",\n",
        "\"dataset_key\" : \"/content/ChEMBL26_SCN5A_IC50_human_ml_ready.csv\",\n",
        "\"datastore\": \"False\",\n",
        "\"split_only\": \"True\",\n",
        "\"splitter\": \"scaffold\",\n",
        "\"split_valid_frac\": \"0.15\",\n",
        "\"split_test_frac\": \"0.15\",\n",
        "\"previously_split\": \"False\",\n",
        "\"prediction_type\": \"regression\",\n",
        "\"response_cols\" : \"pIC50\",\n",
        "\"id_col\": \"compound_id\",\n",
        "\"smiles_col\" : \"base_rdkit_smiles\",\n",
        "\"result_dir\": \"/content/chembl_activity_models\",\n",
        "\"system\": \"LC\",\n",
        "\"transformers\": \"True\",\n",
        "\"model_type\": \"NN\",\n",
        "\"featurizer\": \"graphconv\",\n",
        "\"descriptor_type\": \"graphconv\",\n",
        "\"learning_rate\": \"0.0007\",\n",
        "\"layer_sizes\": \"64,64,32\",\n",
        "\"dropouts\" : \"0.0,0.0,0.0\",\n",
        "\"save_results\": \"False\",\n",
        "\"max_epochs\": \"100\",\n",
        "\"verbose\": \"True\"\n",
        "}"
      ],
      "execution_count": 19,
      "outputs": []
    },
    {
      "cell_type": "code",
      "metadata": {
        "id": "rvaovtCdDIiP",
        "colab_type": "code",
        "colab": {}
      },
      "source": [
        "split_params = parse.wrapper(split_config)"
      ],
      "execution_count": 20,
      "outputs": []
    },
    {
      "cell_type": "code",
      "metadata": {
        "id": "6256V9lGDKMX",
        "colab_type": "code",
        "colab": {}
      },
      "source": [
        "split_model = mp.ModelPipeline(split_params)"
      ],
      "execution_count": 21,
      "outputs": []
    },
    {
      "cell_type": "code",
      "metadata": {
        "id": "Me8mKNyFDMEQ",
        "colab_type": "code",
        "colab": {
          "base_uri": "https://localhost:8080/",
          "height": 106
        },
        "outputId": "3687a164-16c8-439d-fec8-e97ff7818b2a"
      },
      "source": [
        "split_uuid = split_model.split_dataset()\n",
        "split_uuid"
      ],
      "execution_count": 22,
      "outputs": [
        {
          "output_type": "stream",
          "text": [
            "number of features: 75\n"
          ],
          "name": "stdout"
        },
        {
          "output_type": "stream",
          "text": [
            "2020-09-23 14:11:29,852 Splitting data by scaffold\n",
            "2020-09-23 14:11:51,940 Dataset split table saved to /content/ChEMBL26_SCN5A_IC50_human_ml_ready_train_valid_test_scaffold_a325a119-038f-4c41-bd81-a07e94628ee8.csv\n"
          ],
          "name": "stderr"
        },
        {
          "output_type": "execute_result",
          "data": {
            "application/vnd.google.colaboratory.intrinsic+json": {
              "type": "string"
            },
            "text/plain": [
              "'a325a119-038f-4c41-bd81-a07e94628ee8'"
            ]
          },
          "metadata": {
            "tags": []
          },
          "execution_count": 22
        }
      ]
    },
    {
      "cell_type": "code",
      "metadata": {
        "id": "0d79ivM-I49z",
        "colab_type": "code",
        "colab": {
          "base_uri": "https://localhost:8080/",
          "height": 418
        },
        "outputId": "b6a4109a-fe3c-484f-c1e3-1fe1a499a316"
      },
      "source": [
        "!pip install --upgrade gspread"
      ],
      "execution_count": 23,
      "outputs": [
        {
          "output_type": "stream",
          "text": [
            "Collecting gspread\n",
            "  Downloading https://files.pythonhosted.org/packages/9c/ba/bc8de4f5077bd34bc873bdd67a89cb29c4f181abba8a836d2c6a0a142365/gspread-3.6.0-py3-none-any.whl\n",
            "Requirement already satisfied, skipping upgrade: google-auth>=1.12.0 in /usr/local/lib/python3.6/dist-packages (from gspread) (1.17.2)\n",
            "Requirement already satisfied, skipping upgrade: requests>=2.2.1 in /usr/local/lib/python3.6/dist-packages (from gspread) (2.23.0)\n",
            "Requirement already satisfied, skipping upgrade: google-auth-oauthlib>=0.4.1 in /usr/local/lib/python3.6/dist-packages (from gspread) (0.4.1)\n",
            "Requirement already satisfied, skipping upgrade: six>=1.9.0 in /usr/local/lib/python3.6/dist-packages (from google-auth>=1.12.0->gspread) (1.15.0)\n",
            "Requirement already satisfied, skipping upgrade: cachetools<5.0,>=2.0.0 in /usr/local/lib/python3.6/dist-packages (from google-auth>=1.12.0->gspread) (4.1.1)\n",
            "Requirement already satisfied, skipping upgrade: pyasn1-modules>=0.2.1 in /usr/local/lib/python3.6/dist-packages (from google-auth>=1.12.0->gspread) (0.2.8)\n",
            "Requirement already satisfied, skipping upgrade: rsa<5,>=3.1.4; python_version >= \"3\" in /usr/local/lib/python3.6/dist-packages (from google-auth>=1.12.0->gspread) (4.6)\n",
            "Requirement already satisfied, skipping upgrade: setuptools>=40.3.0 in /usr/local/lib/python3.6/dist-packages (from google-auth>=1.12.0->gspread) (50.3.0)\n",
            "Requirement already satisfied, skipping upgrade: idna<3,>=2.5 in /usr/local/lib/python3.6/dist-packages (from requests>=2.2.1->gspread) (2.10)\n",
            "Requirement already satisfied, skipping upgrade: certifi>=2017.4.17 in /usr/local/lib/python3.6/dist-packages (from requests>=2.2.1->gspread) (2020.6.20)\n",
            "Requirement already satisfied, skipping upgrade: chardet<4,>=3.0.2 in /usr/local/lib/python3.6/dist-packages (from requests>=2.2.1->gspread) (3.0.4)\n",
            "Requirement already satisfied, skipping upgrade: urllib3!=1.25.0,!=1.25.1,<1.26,>=1.21.1 in /usr/local/lib/python3.6/dist-packages (from requests>=2.2.1->gspread) (1.24.3)\n",
            "Requirement already satisfied, skipping upgrade: requests-oauthlib>=0.7.0 in /usr/local/lib/python3.6/dist-packages (from google-auth-oauthlib>=0.4.1->gspread) (1.3.0)\n",
            "Requirement already satisfied, skipping upgrade: pyasn1<0.5.0,>=0.4.6 in /usr/local/lib/python3.6/dist-packages (from pyasn1-modules>=0.2.1->google-auth>=1.12.0->gspread) (0.4.8)\n",
            "Requirement already satisfied, skipping upgrade: oauthlib>=3.0.0 in /usr/local/lib/python3.6/dist-packages (from requests-oauthlib>=0.7.0->google-auth-oauthlib>=0.4.1->gspread) (3.1.0)\n",
            "Installing collected packages: gspread\n",
            "  Found existing installation: gspread 3.0.1\n",
            "    Uninstalling gspread-3.0.1:\n",
            "      Successfully uninstalled gspread-3.0.1\n",
            "Successfully installed gspread-3.6.0\n"
          ],
          "name": "stdout"
        }
      ]
    },
    {
      "cell_type": "markdown",
      "metadata": {
        "id": "P1aLWegHTsmh",
        "colab_type": "text"
      },
      "source": [
        "## Train the mode (~ 10 minutes)"
      ]
    },
    {
      "cell_type": "code",
      "metadata": {
        "id": "O91uXH-7TqGb",
        "colab_type": "code",
        "colab": {}
      },
      "source": [
        "train_config = {\n",
        "\"script_dir\": \"/content/AMPL/atomsci/ddm\",\n",
        "\"dataset_key\" : \"/content/ChEMBL26_SCN5A_IC50_human_ml_ready.csv\",\n",
        "\"datastore\": \"False\",\n",
        "\"uncertainty\": \"False\",\n",
        "\"splitter\": \"scaffold\",\n",
        "\"split_valid_frac\": \"0.15\",\n",
        "\"split_test_frac\": \"0.15\",\n",
        "\"previously_split\": \"True\",\n",
        "\"split_uuid\": \"{}\".format(split_uuid),\n",
        "\"prediction_type\": \"regression\",\n",
        "\"response_cols\" : \"pIC50\",\n",
        "\"id_col\": \"compound_id\",\n",
        "\"smiles_col\" : \"base_rdkit_smiles\",\n",
        "\"result_dir\": \"/content/chembl_activity_models\",\n",
        "\"system\": \"LC\",\n",
        "\"transformers\": \"True\",\n",
        "\"model_type\": \"NN\",\n",
        "\"featurizer\": \"graphconv\",\n",
        "\"descriptor_type\": \"graphconv\",\n",
        "\"learning_rate\": \"0.0007\",\n",
        "\"layer_sizes\": \"64,64,32\",\n",
        "\"dropouts\" : \"0.0,0.0,0.0\",\n",
        "\"save_results\": \"False\",\n",
        "\"max_epochs\": \"100\",\n",
        "\"verbose\": \"True\"\n",
        "}"
      ],
      "execution_count": 25,
      "outputs": []
    },
    {
      "cell_type": "code",
      "metadata": {
        "id": "u3Cjkh76F-ym",
        "colab_type": "code",
        "colab": {}
      },
      "source": [
        "train_params = parse.wrapper(train_config)"
      ],
      "execution_count": 26,
      "outputs": []
    },
    {
      "cell_type": "code",
      "metadata": {
        "id": "949S5ME0GIOf",
        "colab_type": "code",
        "colab": {}
      },
      "source": [
        "train_model = mp.ModelPipeline(train_params)"
      ],
      "execution_count": 27,
      "outputs": []
    },
    {
      "cell_type": "markdown",
      "metadata": {
        "id": "JhVhhldinDid",
        "colab_type": "text"
      },
      "source": [
        "## Train_model took ~ 30 minutes on a TPU"
      ]
    },
    {
      "cell_type": "code",
      "metadata": {
        "colab_type": "code",
        "id": "bwp2BpQyUDYL",
        "colab": {
          "base_uri": "https://localhost:8080/",
          "height": 1000
        },
        "outputId": "f63935ac-338e-45fb-c787-ae26615d368f"
      },
      "source": [
        "train_model.train_model()"
      ],
      "execution_count": 29,
      "outputs": [
        {
          "output_type": "stream",
          "text": [
            "number of features: 75\n"
          ],
          "name": "stdout"
        },
        {
          "output_type": "stream",
          "text": [
            "2020-09-23 14:14:51,753 Previous dataset split restored\n"
          ],
          "name": "stderr"
        },
        {
          "output_type": "stream",
          "text": [
            "n_cnt [1729.]\n",
            "y_means [5.15460889]\n",
            "y_stds [0.64359373]\n",
            "TIMING: dataset construction took 1.518 s\n",
            "Loading dataset from disk.\n",
            "TIMING: dataset construction took 0.250 s\n",
            "Loading dataset from disk.\n",
            "TIMING: dataset construction took 0.341 s\n",
            "Loading dataset from disk.\n"
          ],
          "name": "stdout"
        },
        {
          "output_type": "stream",
          "text": [
            "/content/AMPL/lib/python3.6/site-packages/tensorflow/python/ops/gradients_impl.py:98: UserWarning: Converting sparse IndexedSlices to a dense Tensor of unknown shape. This may consume a large amount of memory.\n",
            "  \"Converting sparse IndexedSlices to a dense Tensor of unknown shape. \"\n"
          ],
          "name": "stderr"
        },
        {
          "output_type": "stream",
          "text": [
            "INFO:tensorflow:Restoring parameters from /content/chembl_activity_models/ChEMBL26_SCN5A_IC50_human_ml_ready/NN_graphconv_scaffold_regression/8fd4192d-10ee-4ddf-85ce-d11ebc39ffb1/model/model-25\n"
          ],
          "name": "stdout"
        },
        {
          "output_type": "stream",
          "text": [
            "2020-09-23 14:20:44,455 Restoring parameters from /content/chembl_activity_models/ChEMBL26_SCN5A_IC50_human_ml_ready/NN_graphconv_scaffold_regression/8fd4192d-10ee-4ddf-85ce-d11ebc39ffb1/model/model-25\n"
          ],
          "name": "stderr"
        },
        {
          "output_type": "stream",
          "text": [
            "INFO:tensorflow:Restoring parameters from /content/chembl_activity_models/ChEMBL26_SCN5A_IC50_human_ml_ready/NN_graphconv_scaffold_regression/8fd4192d-10ee-4ddf-85ce-d11ebc39ffb1/model/model-50\n"
          ],
          "name": "stdout"
        },
        {
          "output_type": "stream",
          "text": [
            "2020-09-23 14:20:54,560 Restoring parameters from /content/chembl_activity_models/ChEMBL26_SCN5A_IC50_human_ml_ready/NN_graphconv_scaffold_regression/8fd4192d-10ee-4ddf-85ce-d11ebc39ffb1/model/model-50\n"
          ],
          "name": "stderr"
        },
        {
          "output_type": "stream",
          "text": [
            "INFO:tensorflow:Restoring parameters from /content/chembl_activity_models/ChEMBL26_SCN5A_IC50_human_ml_ready/NN_graphconv_scaffold_regression/8fd4192d-10ee-4ddf-85ce-d11ebc39ffb1/model/model-75\n"
          ],
          "name": "stdout"
        },
        {
          "output_type": "stream",
          "text": [
            "2020-09-23 14:21:04,621 Restoring parameters from /content/chembl_activity_models/ChEMBL26_SCN5A_IC50_human_ml_ready/NN_graphconv_scaffold_regression/8fd4192d-10ee-4ddf-85ce-d11ebc39ffb1/model/model-75\n"
          ],
          "name": "stderr"
        },
        {
          "output_type": "stream",
          "text": [
            "INFO:tensorflow:Restoring parameters from /content/chembl_activity_models/ChEMBL26_SCN5A_IC50_human_ml_ready/NN_graphconv_scaffold_regression/8fd4192d-10ee-4ddf-85ce-d11ebc39ffb1/model/model-100\n"
          ],
          "name": "stdout"
        },
        {
          "output_type": "stream",
          "text": [
            "2020-09-23 14:21:14,646 Restoring parameters from /content/chembl_activity_models/ChEMBL26_SCN5A_IC50_human_ml_ready/NN_graphconv_scaffold_regression/8fd4192d-10ee-4ddf-85ce-d11ebc39ffb1/model/model-100\n"
          ],
          "name": "stderr"
        },
        {
          "output_type": "stream",
          "text": [
            "INFO:tensorflow:Restoring parameters from /content/chembl_activity_models/ChEMBL26_SCN5A_IC50_human_ml_ready/NN_graphconv_scaffold_regression/8fd4192d-10ee-4ddf-85ce-d11ebc39ffb1/model/model-125\n"
          ],
          "name": "stdout"
        },
        {
          "output_type": "stream",
          "text": [
            "2020-09-23 14:21:24,780 Restoring parameters from /content/chembl_activity_models/ChEMBL26_SCN5A_IC50_human_ml_ready/NN_graphconv_scaffold_regression/8fd4192d-10ee-4ddf-85ce-d11ebc39ffb1/model/model-125\n"
          ],
          "name": "stderr"
        },
        {
          "output_type": "stream",
          "text": [
            "INFO:tensorflow:Restoring parameters from /content/chembl_activity_models/ChEMBL26_SCN5A_IC50_human_ml_ready/NN_graphconv_scaffold_regression/8fd4192d-10ee-4ddf-85ce-d11ebc39ffb1/model/model-150\n"
          ],
          "name": "stdout"
        },
        {
          "output_type": "stream",
          "text": [
            "2020-09-23 14:21:35,028 Restoring parameters from /content/chembl_activity_models/ChEMBL26_SCN5A_IC50_human_ml_ready/NN_graphconv_scaffold_regression/8fd4192d-10ee-4ddf-85ce-d11ebc39ffb1/model/model-150\n"
          ],
          "name": "stderr"
        },
        {
          "output_type": "stream",
          "text": [
            "INFO:tensorflow:Restoring parameters from /content/chembl_activity_models/ChEMBL26_SCN5A_IC50_human_ml_ready/NN_graphconv_scaffold_regression/8fd4192d-10ee-4ddf-85ce-d11ebc39ffb1/model/model-175\n"
          ],
          "name": "stdout"
        },
        {
          "output_type": "stream",
          "text": [
            "2020-09-23 14:21:45,143 Restoring parameters from /content/chembl_activity_models/ChEMBL26_SCN5A_IC50_human_ml_ready/NN_graphconv_scaffold_regression/8fd4192d-10ee-4ddf-85ce-d11ebc39ffb1/model/model-175\n"
          ],
          "name": "stderr"
        },
        {
          "output_type": "stream",
          "text": [
            "INFO:tensorflow:Restoring parameters from /content/chembl_activity_models/ChEMBL26_SCN5A_IC50_human_ml_ready/NN_graphconv_scaffold_regression/8fd4192d-10ee-4ddf-85ce-d11ebc39ffb1/model/model-200\n"
          ],
          "name": "stdout"
        },
        {
          "output_type": "stream",
          "text": [
            "2020-09-23 14:21:55,398 Restoring parameters from /content/chembl_activity_models/ChEMBL26_SCN5A_IC50_human_ml_ready/NN_graphconv_scaffold_regression/8fd4192d-10ee-4ddf-85ce-d11ebc39ffb1/model/model-200\n"
          ],
          "name": "stderr"
        },
        {
          "output_type": "stream",
          "text": [
            "INFO:tensorflow:Restoring parameters from /content/chembl_activity_models/ChEMBL26_SCN5A_IC50_human_ml_ready/NN_graphconv_scaffold_regression/8fd4192d-10ee-4ddf-85ce-d11ebc39ffb1/model/model-225\n"
          ],
          "name": "stdout"
        },
        {
          "output_type": "stream",
          "text": [
            "2020-09-23 14:22:05,609 Restoring parameters from /content/chembl_activity_models/ChEMBL26_SCN5A_IC50_human_ml_ready/NN_graphconv_scaffold_regression/8fd4192d-10ee-4ddf-85ce-d11ebc39ffb1/model/model-225\n"
          ],
          "name": "stderr"
        },
        {
          "output_type": "stream",
          "text": [
            "INFO:tensorflow:Restoring parameters from /content/chembl_activity_models/ChEMBL26_SCN5A_IC50_human_ml_ready/NN_graphconv_scaffold_regression/8fd4192d-10ee-4ddf-85ce-d11ebc39ffb1/model/model-250\n"
          ],
          "name": "stdout"
        },
        {
          "output_type": "stream",
          "text": [
            "2020-09-23 14:22:15,784 Restoring parameters from /content/chembl_activity_models/ChEMBL26_SCN5A_IC50_human_ml_ready/NN_graphconv_scaffold_regression/8fd4192d-10ee-4ddf-85ce-d11ebc39ffb1/model/model-250\n"
          ],
          "name": "stderr"
        },
        {
          "output_type": "stream",
          "text": [
            "INFO:tensorflow:Restoring parameters from /content/chembl_activity_models/ChEMBL26_SCN5A_IC50_human_ml_ready/NN_graphconv_scaffold_regression/8fd4192d-10ee-4ddf-85ce-d11ebc39ffb1/model/model-275\n"
          ],
          "name": "stdout"
        },
        {
          "output_type": "stream",
          "text": [
            "2020-09-23 14:22:26,098 Restoring parameters from /content/chembl_activity_models/ChEMBL26_SCN5A_IC50_human_ml_ready/NN_graphconv_scaffold_regression/8fd4192d-10ee-4ddf-85ce-d11ebc39ffb1/model/model-275\n"
          ],
          "name": "stderr"
        },
        {
          "output_type": "stream",
          "text": [
            "INFO:tensorflow:Restoring parameters from /content/chembl_activity_models/ChEMBL26_SCN5A_IC50_human_ml_ready/NN_graphconv_scaffold_regression/8fd4192d-10ee-4ddf-85ce-d11ebc39ffb1/model/model-300\n"
          ],
          "name": "stdout"
        },
        {
          "output_type": "stream",
          "text": [
            "2020-09-23 14:22:36,396 Restoring parameters from /content/chembl_activity_models/ChEMBL26_SCN5A_IC50_human_ml_ready/NN_graphconv_scaffold_regression/8fd4192d-10ee-4ddf-85ce-d11ebc39ffb1/model/model-300\n"
          ],
          "name": "stderr"
        },
        {
          "output_type": "stream",
          "text": [
            "INFO:tensorflow:Restoring parameters from /content/chembl_activity_models/ChEMBL26_SCN5A_IC50_human_ml_ready/NN_graphconv_scaffold_regression/8fd4192d-10ee-4ddf-85ce-d11ebc39ffb1/model/model-325\n"
          ],
          "name": "stdout"
        },
        {
          "output_type": "stream",
          "text": [
            "2020-09-23 14:22:46,729 Restoring parameters from /content/chembl_activity_models/ChEMBL26_SCN5A_IC50_human_ml_ready/NN_graphconv_scaffold_regression/8fd4192d-10ee-4ddf-85ce-d11ebc39ffb1/model/model-325\n"
          ],
          "name": "stderr"
        },
        {
          "output_type": "stream",
          "text": [
            "INFO:tensorflow:Restoring parameters from /content/chembl_activity_models/ChEMBL26_SCN5A_IC50_human_ml_ready/NN_graphconv_scaffold_regression/8fd4192d-10ee-4ddf-85ce-d11ebc39ffb1/model/model-350\n"
          ],
          "name": "stdout"
        },
        {
          "output_type": "stream",
          "text": [
            "2020-09-23 14:22:57,124 Restoring parameters from /content/chembl_activity_models/ChEMBL26_SCN5A_IC50_human_ml_ready/NN_graphconv_scaffold_regression/8fd4192d-10ee-4ddf-85ce-d11ebc39ffb1/model/model-350\n"
          ],
          "name": "stderr"
        },
        {
          "output_type": "stream",
          "text": [
            "INFO:tensorflow:Restoring parameters from /content/chembl_activity_models/ChEMBL26_SCN5A_IC50_human_ml_ready/NN_graphconv_scaffold_regression/8fd4192d-10ee-4ddf-85ce-d11ebc39ffb1/model/model-375\n"
          ],
          "name": "stdout"
        },
        {
          "output_type": "stream",
          "text": [
            "2020-09-23 14:23:07,522 Restoring parameters from /content/chembl_activity_models/ChEMBL26_SCN5A_IC50_human_ml_ready/NN_graphconv_scaffold_regression/8fd4192d-10ee-4ddf-85ce-d11ebc39ffb1/model/model-375\n"
          ],
          "name": "stderr"
        },
        {
          "output_type": "stream",
          "text": [
            "INFO:tensorflow:Restoring parameters from /content/chembl_activity_models/ChEMBL26_SCN5A_IC50_human_ml_ready/NN_graphconv_scaffold_regression/8fd4192d-10ee-4ddf-85ce-d11ebc39ffb1/model/model-400\n"
          ],
          "name": "stdout"
        },
        {
          "output_type": "stream",
          "text": [
            "2020-09-23 14:23:18,021 Restoring parameters from /content/chembl_activity_models/ChEMBL26_SCN5A_IC50_human_ml_ready/NN_graphconv_scaffold_regression/8fd4192d-10ee-4ddf-85ce-d11ebc39ffb1/model/model-400\n"
          ],
          "name": "stderr"
        },
        {
          "output_type": "stream",
          "text": [
            "INFO:tensorflow:Restoring parameters from /content/chembl_activity_models/ChEMBL26_SCN5A_IC50_human_ml_ready/NN_graphconv_scaffold_regression/8fd4192d-10ee-4ddf-85ce-d11ebc39ffb1/model/model-425\n"
          ],
          "name": "stdout"
        },
        {
          "output_type": "stream",
          "text": [
            "2020-09-23 14:23:28,150 Restoring parameters from /content/chembl_activity_models/ChEMBL26_SCN5A_IC50_human_ml_ready/NN_graphconv_scaffold_regression/8fd4192d-10ee-4ddf-85ce-d11ebc39ffb1/model/model-425\n"
          ],
          "name": "stderr"
        },
        {
          "output_type": "stream",
          "text": [
            "INFO:tensorflow:Restoring parameters from /content/chembl_activity_models/ChEMBL26_SCN5A_IC50_human_ml_ready/NN_graphconv_scaffold_regression/8fd4192d-10ee-4ddf-85ce-d11ebc39ffb1/model/model-450\n"
          ],
          "name": "stdout"
        },
        {
          "output_type": "stream",
          "text": [
            "2020-09-23 14:23:38,858 Restoring parameters from /content/chembl_activity_models/ChEMBL26_SCN5A_IC50_human_ml_ready/NN_graphconv_scaffold_regression/8fd4192d-10ee-4ddf-85ce-d11ebc39ffb1/model/model-450\n"
          ],
          "name": "stderr"
        },
        {
          "output_type": "stream",
          "text": [
            "INFO:tensorflow:Restoring parameters from /content/chembl_activity_models/ChEMBL26_SCN5A_IC50_human_ml_ready/NN_graphconv_scaffold_regression/8fd4192d-10ee-4ddf-85ce-d11ebc39ffb1/model/model-475\n"
          ],
          "name": "stdout"
        },
        {
          "output_type": "stream",
          "text": [
            "2020-09-23 14:23:49,520 Restoring parameters from /content/chembl_activity_models/ChEMBL26_SCN5A_IC50_human_ml_ready/NN_graphconv_scaffold_regression/8fd4192d-10ee-4ddf-85ce-d11ebc39ffb1/model/model-475\n"
          ],
          "name": "stderr"
        },
        {
          "output_type": "stream",
          "text": [
            "INFO:tensorflow:Restoring parameters from /content/chembl_activity_models/ChEMBL26_SCN5A_IC50_human_ml_ready/NN_graphconv_scaffold_regression/8fd4192d-10ee-4ddf-85ce-d11ebc39ffb1/model/model-500\n"
          ],
          "name": "stdout"
        },
        {
          "output_type": "stream",
          "text": [
            "2020-09-23 14:23:59,801 Restoring parameters from /content/chembl_activity_models/ChEMBL26_SCN5A_IC50_human_ml_ready/NN_graphconv_scaffold_regression/8fd4192d-10ee-4ddf-85ce-d11ebc39ffb1/model/model-500\n"
          ],
          "name": "stderr"
        },
        {
          "output_type": "stream",
          "text": [
            "INFO:tensorflow:Restoring parameters from /content/chembl_activity_models/ChEMBL26_SCN5A_IC50_human_ml_ready/NN_graphconv_scaffold_regression/8fd4192d-10ee-4ddf-85ce-d11ebc39ffb1/model/model-525\n"
          ],
          "name": "stdout"
        },
        {
          "output_type": "stream",
          "text": [
            "2020-09-23 14:24:10,320 Restoring parameters from /content/chembl_activity_models/ChEMBL26_SCN5A_IC50_human_ml_ready/NN_graphconv_scaffold_regression/8fd4192d-10ee-4ddf-85ce-d11ebc39ffb1/model/model-525\n"
          ],
          "name": "stderr"
        },
        {
          "output_type": "stream",
          "text": [
            "INFO:tensorflow:Restoring parameters from /content/chembl_activity_models/ChEMBL26_SCN5A_IC50_human_ml_ready/NN_graphconv_scaffold_regression/8fd4192d-10ee-4ddf-85ce-d11ebc39ffb1/model/model-550\n"
          ],
          "name": "stdout"
        },
        {
          "output_type": "stream",
          "text": [
            "2020-09-23 14:24:20,631 Restoring parameters from /content/chembl_activity_models/ChEMBL26_SCN5A_IC50_human_ml_ready/NN_graphconv_scaffold_regression/8fd4192d-10ee-4ddf-85ce-d11ebc39ffb1/model/model-550\n"
          ],
          "name": "stderr"
        },
        {
          "output_type": "stream",
          "text": [
            "INFO:tensorflow:Restoring parameters from /content/chembl_activity_models/ChEMBL26_SCN5A_IC50_human_ml_ready/NN_graphconv_scaffold_regression/8fd4192d-10ee-4ddf-85ce-d11ebc39ffb1/model/model-575\n"
          ],
          "name": "stdout"
        },
        {
          "output_type": "stream",
          "text": [
            "2020-09-23 14:24:31,304 Restoring parameters from /content/chembl_activity_models/ChEMBL26_SCN5A_IC50_human_ml_ready/NN_graphconv_scaffold_regression/8fd4192d-10ee-4ddf-85ce-d11ebc39ffb1/model/model-575\n"
          ],
          "name": "stderr"
        },
        {
          "output_type": "stream",
          "text": [
            "INFO:tensorflow:Restoring parameters from /content/chembl_activity_models/ChEMBL26_SCN5A_IC50_human_ml_ready/NN_graphconv_scaffold_regression/8fd4192d-10ee-4ddf-85ce-d11ebc39ffb1/model/model-600\n"
          ],
          "name": "stdout"
        },
        {
          "output_type": "stream",
          "text": [
            "2020-09-23 14:24:41,787 Restoring parameters from /content/chembl_activity_models/ChEMBL26_SCN5A_IC50_human_ml_ready/NN_graphconv_scaffold_regression/8fd4192d-10ee-4ddf-85ce-d11ebc39ffb1/model/model-600\n"
          ],
          "name": "stderr"
        },
        {
          "output_type": "stream",
          "text": [
            "INFO:tensorflow:Restoring parameters from /content/chembl_activity_models/ChEMBL26_SCN5A_IC50_human_ml_ready/NN_graphconv_scaffold_regression/8fd4192d-10ee-4ddf-85ce-d11ebc39ffb1/model/model-625\n"
          ],
          "name": "stdout"
        },
        {
          "output_type": "stream",
          "text": [
            "2020-09-23 14:24:52,466 Restoring parameters from /content/chembl_activity_models/ChEMBL26_SCN5A_IC50_human_ml_ready/NN_graphconv_scaffold_regression/8fd4192d-10ee-4ddf-85ce-d11ebc39ffb1/model/model-625\n"
          ],
          "name": "stderr"
        },
        {
          "output_type": "stream",
          "text": [
            "INFO:tensorflow:Restoring parameters from /content/chembl_activity_models/ChEMBL26_SCN5A_IC50_human_ml_ready/NN_graphconv_scaffold_regression/8fd4192d-10ee-4ddf-85ce-d11ebc39ffb1/model/model-650\n"
          ],
          "name": "stdout"
        },
        {
          "output_type": "stream",
          "text": [
            "2020-09-23 14:25:03,078 Restoring parameters from /content/chembl_activity_models/ChEMBL26_SCN5A_IC50_human_ml_ready/NN_graphconv_scaffold_regression/8fd4192d-10ee-4ddf-85ce-d11ebc39ffb1/model/model-650\n"
          ],
          "name": "stderr"
        },
        {
          "output_type": "stream",
          "text": [
            "INFO:tensorflow:Restoring parameters from /content/chembl_activity_models/ChEMBL26_SCN5A_IC50_human_ml_ready/NN_graphconv_scaffold_regression/8fd4192d-10ee-4ddf-85ce-d11ebc39ffb1/model/model-675\n"
          ],
          "name": "stdout"
        },
        {
          "output_type": "stream",
          "text": [
            "2020-09-23 14:25:13,765 Restoring parameters from /content/chembl_activity_models/ChEMBL26_SCN5A_IC50_human_ml_ready/NN_graphconv_scaffold_regression/8fd4192d-10ee-4ddf-85ce-d11ebc39ffb1/model/model-675\n"
          ],
          "name": "stderr"
        },
        {
          "output_type": "stream",
          "text": [
            "INFO:tensorflow:Restoring parameters from /content/chembl_activity_models/ChEMBL26_SCN5A_IC50_human_ml_ready/NN_graphconv_scaffold_regression/8fd4192d-10ee-4ddf-85ce-d11ebc39ffb1/model/model-700\n"
          ],
          "name": "stdout"
        },
        {
          "output_type": "stream",
          "text": [
            "2020-09-23 14:25:24,331 Restoring parameters from /content/chembl_activity_models/ChEMBL26_SCN5A_IC50_human_ml_ready/NN_graphconv_scaffold_regression/8fd4192d-10ee-4ddf-85ce-d11ebc39ffb1/model/model-700\n"
          ],
          "name": "stderr"
        },
        {
          "output_type": "stream",
          "text": [
            "INFO:tensorflow:Restoring parameters from /content/chembl_activity_models/ChEMBL26_SCN5A_IC50_human_ml_ready/NN_graphconv_scaffold_regression/8fd4192d-10ee-4ddf-85ce-d11ebc39ffb1/model/model-725\n"
          ],
          "name": "stdout"
        },
        {
          "output_type": "stream",
          "text": [
            "2020-09-23 14:25:34,881 Restoring parameters from /content/chembl_activity_models/ChEMBL26_SCN5A_IC50_human_ml_ready/NN_graphconv_scaffold_regression/8fd4192d-10ee-4ddf-85ce-d11ebc39ffb1/model/model-725\n"
          ],
          "name": "stderr"
        },
        {
          "output_type": "stream",
          "text": [
            "INFO:tensorflow:Restoring parameters from /content/chembl_activity_models/ChEMBL26_SCN5A_IC50_human_ml_ready/NN_graphconv_scaffold_regression/8fd4192d-10ee-4ddf-85ce-d11ebc39ffb1/model/model-750\n"
          ],
          "name": "stdout"
        },
        {
          "output_type": "stream",
          "text": [
            "2020-09-23 14:25:45,712 Restoring parameters from /content/chembl_activity_models/ChEMBL26_SCN5A_IC50_human_ml_ready/NN_graphconv_scaffold_regression/8fd4192d-10ee-4ddf-85ce-d11ebc39ffb1/model/model-750\n"
          ],
          "name": "stderr"
        },
        {
          "output_type": "stream",
          "text": [
            "INFO:tensorflow:Restoring parameters from /content/chembl_activity_models/ChEMBL26_SCN5A_IC50_human_ml_ready/NN_graphconv_scaffold_regression/8fd4192d-10ee-4ddf-85ce-d11ebc39ffb1/model/model-775\n"
          ],
          "name": "stdout"
        },
        {
          "output_type": "stream",
          "text": [
            "2020-09-23 14:25:56,263 Restoring parameters from /content/chembl_activity_models/ChEMBL26_SCN5A_IC50_human_ml_ready/NN_graphconv_scaffold_regression/8fd4192d-10ee-4ddf-85ce-d11ebc39ffb1/model/model-775\n"
          ],
          "name": "stderr"
        },
        {
          "output_type": "stream",
          "text": [
            "INFO:tensorflow:Restoring parameters from /content/chembl_activity_models/ChEMBL26_SCN5A_IC50_human_ml_ready/NN_graphconv_scaffold_regression/8fd4192d-10ee-4ddf-85ce-d11ebc39ffb1/model/model-800\n"
          ],
          "name": "stdout"
        },
        {
          "output_type": "stream",
          "text": [
            "2020-09-23 14:26:06,910 Restoring parameters from /content/chembl_activity_models/ChEMBL26_SCN5A_IC50_human_ml_ready/NN_graphconv_scaffold_regression/8fd4192d-10ee-4ddf-85ce-d11ebc39ffb1/model/model-800\n"
          ],
          "name": "stderr"
        },
        {
          "output_type": "stream",
          "text": [
            "INFO:tensorflow:Restoring parameters from /content/chembl_activity_models/ChEMBL26_SCN5A_IC50_human_ml_ready/NN_graphconv_scaffold_regression/8fd4192d-10ee-4ddf-85ce-d11ebc39ffb1/model/model-825\n"
          ],
          "name": "stdout"
        },
        {
          "output_type": "stream",
          "text": [
            "2020-09-23 14:26:17,970 Restoring parameters from /content/chembl_activity_models/ChEMBL26_SCN5A_IC50_human_ml_ready/NN_graphconv_scaffold_regression/8fd4192d-10ee-4ddf-85ce-d11ebc39ffb1/model/model-825\n"
          ],
          "name": "stderr"
        },
        {
          "output_type": "stream",
          "text": [
            "INFO:tensorflow:Restoring parameters from /content/chembl_activity_models/ChEMBL26_SCN5A_IC50_human_ml_ready/NN_graphconv_scaffold_regression/8fd4192d-10ee-4ddf-85ce-d11ebc39ffb1/model/model-850\n"
          ],
          "name": "stdout"
        },
        {
          "output_type": "stream",
          "text": [
            "2020-09-23 14:26:28,725 Restoring parameters from /content/chembl_activity_models/ChEMBL26_SCN5A_IC50_human_ml_ready/NN_graphconv_scaffold_regression/8fd4192d-10ee-4ddf-85ce-d11ebc39ffb1/model/model-850\n"
          ],
          "name": "stderr"
        },
        {
          "output_type": "stream",
          "text": [
            "INFO:tensorflow:Restoring parameters from /content/chembl_activity_models/ChEMBL26_SCN5A_IC50_human_ml_ready/NN_graphconv_scaffold_regression/8fd4192d-10ee-4ddf-85ce-d11ebc39ffb1/model/model-875\n"
          ],
          "name": "stdout"
        },
        {
          "output_type": "stream",
          "text": [
            "2020-09-23 14:26:39,382 Restoring parameters from /content/chembl_activity_models/ChEMBL26_SCN5A_IC50_human_ml_ready/NN_graphconv_scaffold_regression/8fd4192d-10ee-4ddf-85ce-d11ebc39ffb1/model/model-875\n"
          ],
          "name": "stderr"
        },
        {
          "output_type": "stream",
          "text": [
            "INFO:tensorflow:Restoring parameters from /content/chembl_activity_models/ChEMBL26_SCN5A_IC50_human_ml_ready/NN_graphconv_scaffold_regression/8fd4192d-10ee-4ddf-85ce-d11ebc39ffb1/model/model-900\n"
          ],
          "name": "stdout"
        },
        {
          "output_type": "stream",
          "text": [
            "2020-09-23 14:26:50,427 Restoring parameters from /content/chembl_activity_models/ChEMBL26_SCN5A_IC50_human_ml_ready/NN_graphconv_scaffold_regression/8fd4192d-10ee-4ddf-85ce-d11ebc39ffb1/model/model-900\n"
          ],
          "name": "stderr"
        },
        {
          "output_type": "stream",
          "text": [
            "INFO:tensorflow:Restoring parameters from /content/chembl_activity_models/ChEMBL26_SCN5A_IC50_human_ml_ready/NN_graphconv_scaffold_regression/8fd4192d-10ee-4ddf-85ce-d11ebc39ffb1/model/model-925\n"
          ],
          "name": "stdout"
        },
        {
          "output_type": "stream",
          "text": [
            "2020-09-23 14:27:01,163 Restoring parameters from /content/chembl_activity_models/ChEMBL26_SCN5A_IC50_human_ml_ready/NN_graphconv_scaffold_regression/8fd4192d-10ee-4ddf-85ce-d11ebc39ffb1/model/model-925\n"
          ],
          "name": "stderr"
        },
        {
          "output_type": "stream",
          "text": [
            "INFO:tensorflow:Restoring parameters from /content/chembl_activity_models/ChEMBL26_SCN5A_IC50_human_ml_ready/NN_graphconv_scaffold_regression/8fd4192d-10ee-4ddf-85ce-d11ebc39ffb1/model/model-950\n"
          ],
          "name": "stdout"
        },
        {
          "output_type": "stream",
          "text": [
            "2020-09-23 14:27:11,884 Restoring parameters from /content/chembl_activity_models/ChEMBL26_SCN5A_IC50_human_ml_ready/NN_graphconv_scaffold_regression/8fd4192d-10ee-4ddf-85ce-d11ebc39ffb1/model/model-950\n"
          ],
          "name": "stderr"
        },
        {
          "output_type": "stream",
          "text": [
            "INFO:tensorflow:Restoring parameters from /content/chembl_activity_models/ChEMBL26_SCN5A_IC50_human_ml_ready/NN_graphconv_scaffold_regression/8fd4192d-10ee-4ddf-85ce-d11ebc39ffb1/model/model-975\n"
          ],
          "name": "stdout"
        },
        {
          "output_type": "stream",
          "text": [
            "2020-09-23 14:27:22,652 Restoring parameters from /content/chembl_activity_models/ChEMBL26_SCN5A_IC50_human_ml_ready/NN_graphconv_scaffold_regression/8fd4192d-10ee-4ddf-85ce-d11ebc39ffb1/model/model-975\n"
          ],
          "name": "stderr"
        },
        {
          "output_type": "stream",
          "text": [
            "INFO:tensorflow:Restoring parameters from /content/chembl_activity_models/ChEMBL26_SCN5A_IC50_human_ml_ready/NN_graphconv_scaffold_regression/8fd4192d-10ee-4ddf-85ce-d11ebc39ffb1/model/model-1000\n"
          ],
          "name": "stdout"
        },
        {
          "output_type": "stream",
          "text": [
            "2020-09-23 14:27:34,282 Restoring parameters from /content/chembl_activity_models/ChEMBL26_SCN5A_IC50_human_ml_ready/NN_graphconv_scaffold_regression/8fd4192d-10ee-4ddf-85ce-d11ebc39ffb1/model/model-1000\n"
          ],
          "name": "stderr"
        },
        {
          "output_type": "stream",
          "text": [
            "INFO:tensorflow:Restoring parameters from /content/chembl_activity_models/ChEMBL26_SCN5A_IC50_human_ml_ready/NN_graphconv_scaffold_regression/8fd4192d-10ee-4ddf-85ce-d11ebc39ffb1/model/model-1025\n"
          ],
          "name": "stdout"
        },
        {
          "output_type": "stream",
          "text": [
            "2020-09-23 14:27:45,414 Restoring parameters from /content/chembl_activity_models/ChEMBL26_SCN5A_IC50_human_ml_ready/NN_graphconv_scaffold_regression/8fd4192d-10ee-4ddf-85ce-d11ebc39ffb1/model/model-1025\n"
          ],
          "name": "stderr"
        },
        {
          "output_type": "stream",
          "text": [
            "INFO:tensorflow:Restoring parameters from /content/chembl_activity_models/ChEMBL26_SCN5A_IC50_human_ml_ready/NN_graphconv_scaffold_regression/8fd4192d-10ee-4ddf-85ce-d11ebc39ffb1/model/model-1050\n"
          ],
          "name": "stdout"
        },
        {
          "output_type": "stream",
          "text": [
            "2020-09-23 14:27:56,322 Restoring parameters from /content/chembl_activity_models/ChEMBL26_SCN5A_IC50_human_ml_ready/NN_graphconv_scaffold_regression/8fd4192d-10ee-4ddf-85ce-d11ebc39ffb1/model/model-1050\n"
          ],
          "name": "stderr"
        },
        {
          "output_type": "stream",
          "text": [
            "INFO:tensorflow:Restoring parameters from /content/chembl_activity_models/ChEMBL26_SCN5A_IC50_human_ml_ready/NN_graphconv_scaffold_regression/8fd4192d-10ee-4ddf-85ce-d11ebc39ffb1/model/model-1075\n"
          ],
          "name": "stdout"
        },
        {
          "output_type": "stream",
          "text": [
            "2020-09-23 14:28:07,245 Restoring parameters from /content/chembl_activity_models/ChEMBL26_SCN5A_IC50_human_ml_ready/NN_graphconv_scaffold_regression/8fd4192d-10ee-4ddf-85ce-d11ebc39ffb1/model/model-1075\n"
          ],
          "name": "stderr"
        },
        {
          "output_type": "stream",
          "text": [
            "INFO:tensorflow:Restoring parameters from /content/chembl_activity_models/ChEMBL26_SCN5A_IC50_human_ml_ready/NN_graphconv_scaffold_regression/8fd4192d-10ee-4ddf-85ce-d11ebc39ffb1/model/model-1100\n"
          ],
          "name": "stdout"
        },
        {
          "output_type": "stream",
          "text": [
            "2020-09-23 14:28:18,095 Restoring parameters from /content/chembl_activity_models/ChEMBL26_SCN5A_IC50_human_ml_ready/NN_graphconv_scaffold_regression/8fd4192d-10ee-4ddf-85ce-d11ebc39ffb1/model/model-1100\n"
          ],
          "name": "stderr"
        },
        {
          "output_type": "stream",
          "text": [
            "INFO:tensorflow:Restoring parameters from /content/chembl_activity_models/ChEMBL26_SCN5A_IC50_human_ml_ready/NN_graphconv_scaffold_regression/8fd4192d-10ee-4ddf-85ce-d11ebc39ffb1/model/model-1125\n"
          ],
          "name": "stdout"
        },
        {
          "output_type": "stream",
          "text": [
            "2020-09-23 14:28:29,067 Restoring parameters from /content/chembl_activity_models/ChEMBL26_SCN5A_IC50_human_ml_ready/NN_graphconv_scaffold_regression/8fd4192d-10ee-4ddf-85ce-d11ebc39ffb1/model/model-1125\n"
          ],
          "name": "stderr"
        },
        {
          "output_type": "stream",
          "text": [
            "INFO:tensorflow:Restoring parameters from /content/chembl_activity_models/ChEMBL26_SCN5A_IC50_human_ml_ready/NN_graphconv_scaffold_regression/8fd4192d-10ee-4ddf-85ce-d11ebc39ffb1/model/model-1150\n"
          ],
          "name": "stdout"
        },
        {
          "output_type": "stream",
          "text": [
            "2020-09-23 14:28:40,093 Restoring parameters from /content/chembl_activity_models/ChEMBL26_SCN5A_IC50_human_ml_ready/NN_graphconv_scaffold_regression/8fd4192d-10ee-4ddf-85ce-d11ebc39ffb1/model/model-1150\n"
          ],
          "name": "stderr"
        },
        {
          "output_type": "stream",
          "text": [
            "INFO:tensorflow:Restoring parameters from /content/chembl_activity_models/ChEMBL26_SCN5A_IC50_human_ml_ready/NN_graphconv_scaffold_regression/8fd4192d-10ee-4ddf-85ce-d11ebc39ffb1/model/model-1175\n"
          ],
          "name": "stdout"
        },
        {
          "output_type": "stream",
          "text": [
            "2020-09-23 14:28:51,234 Restoring parameters from /content/chembl_activity_models/ChEMBL26_SCN5A_IC50_human_ml_ready/NN_graphconv_scaffold_regression/8fd4192d-10ee-4ddf-85ce-d11ebc39ffb1/model/model-1175\n"
          ],
          "name": "stderr"
        },
        {
          "output_type": "stream",
          "text": [
            "INFO:tensorflow:Restoring parameters from /content/chembl_activity_models/ChEMBL26_SCN5A_IC50_human_ml_ready/NN_graphconv_scaffold_regression/8fd4192d-10ee-4ddf-85ce-d11ebc39ffb1/model/model-1200\n"
          ],
          "name": "stdout"
        },
        {
          "output_type": "stream",
          "text": [
            "2020-09-23 14:29:02,304 Restoring parameters from /content/chembl_activity_models/ChEMBL26_SCN5A_IC50_human_ml_ready/NN_graphconv_scaffold_regression/8fd4192d-10ee-4ddf-85ce-d11ebc39ffb1/model/model-1200\n"
          ],
          "name": "stderr"
        },
        {
          "output_type": "stream",
          "text": [
            "INFO:tensorflow:Restoring parameters from /content/chembl_activity_models/ChEMBL26_SCN5A_IC50_human_ml_ready/NN_graphconv_scaffold_regression/8fd4192d-10ee-4ddf-85ce-d11ebc39ffb1/model/model-1225\n"
          ],
          "name": "stdout"
        },
        {
          "output_type": "stream",
          "text": [
            "2020-09-23 14:29:13,456 Restoring parameters from /content/chembl_activity_models/ChEMBL26_SCN5A_IC50_human_ml_ready/NN_graphconv_scaffold_regression/8fd4192d-10ee-4ddf-85ce-d11ebc39ffb1/model/model-1225\n"
          ],
          "name": "stderr"
        },
        {
          "output_type": "stream",
          "text": [
            "INFO:tensorflow:Restoring parameters from /content/chembl_activity_models/ChEMBL26_SCN5A_IC50_human_ml_ready/NN_graphconv_scaffold_regression/8fd4192d-10ee-4ddf-85ce-d11ebc39ffb1/model/model-1250\n"
          ],
          "name": "stdout"
        },
        {
          "output_type": "stream",
          "text": [
            "2020-09-23 14:29:24,597 Restoring parameters from /content/chembl_activity_models/ChEMBL26_SCN5A_IC50_human_ml_ready/NN_graphconv_scaffold_regression/8fd4192d-10ee-4ddf-85ce-d11ebc39ffb1/model/model-1250\n"
          ],
          "name": "stderr"
        },
        {
          "output_type": "stream",
          "text": [
            "INFO:tensorflow:Restoring parameters from /content/chembl_activity_models/ChEMBL26_SCN5A_IC50_human_ml_ready/NN_graphconv_scaffold_regression/8fd4192d-10ee-4ddf-85ce-d11ebc39ffb1/model/model-1275\n"
          ],
          "name": "stdout"
        },
        {
          "output_type": "stream",
          "text": [
            "2020-09-23 14:29:35,722 Restoring parameters from /content/chembl_activity_models/ChEMBL26_SCN5A_IC50_human_ml_ready/NN_graphconv_scaffold_regression/8fd4192d-10ee-4ddf-85ce-d11ebc39ffb1/model/model-1275\n"
          ],
          "name": "stderr"
        },
        {
          "output_type": "stream",
          "text": [
            "INFO:tensorflow:Restoring parameters from /content/chembl_activity_models/ChEMBL26_SCN5A_IC50_human_ml_ready/NN_graphconv_scaffold_regression/8fd4192d-10ee-4ddf-85ce-d11ebc39ffb1/model/model-1300\n"
          ],
          "name": "stdout"
        },
        {
          "output_type": "stream",
          "text": [
            "2020-09-23 14:29:46,943 Restoring parameters from /content/chembl_activity_models/ChEMBL26_SCN5A_IC50_human_ml_ready/NN_graphconv_scaffold_regression/8fd4192d-10ee-4ddf-85ce-d11ebc39ffb1/model/model-1300\n"
          ],
          "name": "stderr"
        },
        {
          "output_type": "stream",
          "text": [
            "INFO:tensorflow:Restoring parameters from /content/chembl_activity_models/ChEMBL26_SCN5A_IC50_human_ml_ready/NN_graphconv_scaffold_regression/8fd4192d-10ee-4ddf-85ce-d11ebc39ffb1/model/model-1325\n"
          ],
          "name": "stdout"
        },
        {
          "output_type": "stream",
          "text": [
            "2020-09-23 14:29:58,238 Restoring parameters from /content/chembl_activity_models/ChEMBL26_SCN5A_IC50_human_ml_ready/NN_graphconv_scaffold_regression/8fd4192d-10ee-4ddf-85ce-d11ebc39ffb1/model/model-1325\n"
          ],
          "name": "stderr"
        },
        {
          "output_type": "stream",
          "text": [
            "INFO:tensorflow:Restoring parameters from /content/chembl_activity_models/ChEMBL26_SCN5A_IC50_human_ml_ready/NN_graphconv_scaffold_regression/8fd4192d-10ee-4ddf-85ce-d11ebc39ffb1/model/model-1350\n"
          ],
          "name": "stdout"
        },
        {
          "output_type": "stream",
          "text": [
            "2020-09-23 14:30:09,478 Restoring parameters from /content/chembl_activity_models/ChEMBL26_SCN5A_IC50_human_ml_ready/NN_graphconv_scaffold_regression/8fd4192d-10ee-4ddf-85ce-d11ebc39ffb1/model/model-1350\n"
          ],
          "name": "stderr"
        },
        {
          "output_type": "stream",
          "text": [
            "INFO:tensorflow:Restoring parameters from /content/chembl_activity_models/ChEMBL26_SCN5A_IC50_human_ml_ready/NN_graphconv_scaffold_regression/8fd4192d-10ee-4ddf-85ce-d11ebc39ffb1/model/model-1375\n"
          ],
          "name": "stdout"
        },
        {
          "output_type": "stream",
          "text": [
            "2020-09-23 14:30:20,760 Restoring parameters from /content/chembl_activity_models/ChEMBL26_SCN5A_IC50_human_ml_ready/NN_graphconv_scaffold_regression/8fd4192d-10ee-4ddf-85ce-d11ebc39ffb1/model/model-1375\n"
          ],
          "name": "stderr"
        },
        {
          "output_type": "stream",
          "text": [
            "INFO:tensorflow:Restoring parameters from /content/chembl_activity_models/ChEMBL26_SCN5A_IC50_human_ml_ready/NN_graphconv_scaffold_regression/8fd4192d-10ee-4ddf-85ce-d11ebc39ffb1/model/model-1400\n"
          ],
          "name": "stdout"
        },
        {
          "output_type": "stream",
          "text": [
            "2020-09-23 14:30:32,079 Restoring parameters from /content/chembl_activity_models/ChEMBL26_SCN5A_IC50_human_ml_ready/NN_graphconv_scaffold_regression/8fd4192d-10ee-4ddf-85ce-d11ebc39ffb1/model/model-1400\n"
          ],
          "name": "stderr"
        },
        {
          "output_type": "stream",
          "text": [
            "INFO:tensorflow:Restoring parameters from /content/chembl_activity_models/ChEMBL26_SCN5A_IC50_human_ml_ready/NN_graphconv_scaffold_regression/8fd4192d-10ee-4ddf-85ce-d11ebc39ffb1/model/model-1425\n"
          ],
          "name": "stdout"
        },
        {
          "output_type": "stream",
          "text": [
            "2020-09-23 14:30:43,402 Restoring parameters from /content/chembl_activity_models/ChEMBL26_SCN5A_IC50_human_ml_ready/NN_graphconv_scaffold_regression/8fd4192d-10ee-4ddf-85ce-d11ebc39ffb1/model/model-1425\n"
          ],
          "name": "stderr"
        },
        {
          "output_type": "stream",
          "text": [
            "INFO:tensorflow:Restoring parameters from /content/chembl_activity_models/ChEMBL26_SCN5A_IC50_human_ml_ready/NN_graphconv_scaffold_regression/8fd4192d-10ee-4ddf-85ce-d11ebc39ffb1/model/model-1450\n"
          ],
          "name": "stdout"
        },
        {
          "output_type": "stream",
          "text": [
            "2020-09-23 14:30:54,493 Restoring parameters from /content/chembl_activity_models/ChEMBL26_SCN5A_IC50_human_ml_ready/NN_graphconv_scaffold_regression/8fd4192d-10ee-4ddf-85ce-d11ebc39ffb1/model/model-1450\n"
          ],
          "name": "stderr"
        },
        {
          "output_type": "stream",
          "text": [
            "INFO:tensorflow:Restoring parameters from /content/chembl_activity_models/ChEMBL26_SCN5A_IC50_human_ml_ready/NN_graphconv_scaffold_regression/8fd4192d-10ee-4ddf-85ce-d11ebc39ffb1/model/model-1475\n"
          ],
          "name": "stdout"
        },
        {
          "output_type": "stream",
          "text": [
            "2020-09-23 14:31:05,931 Restoring parameters from /content/chembl_activity_models/ChEMBL26_SCN5A_IC50_human_ml_ready/NN_graphconv_scaffold_regression/8fd4192d-10ee-4ddf-85ce-d11ebc39ffb1/model/model-1475\n"
          ],
          "name": "stderr"
        },
        {
          "output_type": "stream",
          "text": [
            "INFO:tensorflow:Restoring parameters from /content/chembl_activity_models/ChEMBL26_SCN5A_IC50_human_ml_ready/NN_graphconv_scaffold_regression/8fd4192d-10ee-4ddf-85ce-d11ebc39ffb1/model/model-1500\n"
          ],
          "name": "stdout"
        },
        {
          "output_type": "stream",
          "text": [
            "2020-09-23 14:31:17,447 Restoring parameters from /content/chembl_activity_models/ChEMBL26_SCN5A_IC50_human_ml_ready/NN_graphconv_scaffold_regression/8fd4192d-10ee-4ddf-85ce-d11ebc39ffb1/model/model-1500\n"
          ],
          "name": "stderr"
        },
        {
          "output_type": "stream",
          "text": [
            "INFO:tensorflow:Restoring parameters from /content/chembl_activity_models/ChEMBL26_SCN5A_IC50_human_ml_ready/NN_graphconv_scaffold_regression/8fd4192d-10ee-4ddf-85ce-d11ebc39ffb1/model/model-1525\n"
          ],
          "name": "stdout"
        },
        {
          "output_type": "stream",
          "text": [
            "2020-09-23 14:31:28,884 Restoring parameters from /content/chembl_activity_models/ChEMBL26_SCN5A_IC50_human_ml_ready/NN_graphconv_scaffold_regression/8fd4192d-10ee-4ddf-85ce-d11ebc39ffb1/model/model-1525\n"
          ],
          "name": "stderr"
        },
        {
          "output_type": "stream",
          "text": [
            "INFO:tensorflow:Restoring parameters from /content/chembl_activity_models/ChEMBL26_SCN5A_IC50_human_ml_ready/NN_graphconv_scaffold_regression/8fd4192d-10ee-4ddf-85ce-d11ebc39ffb1/model/model-1550\n"
          ],
          "name": "stdout"
        },
        {
          "output_type": "stream",
          "text": [
            "2020-09-23 14:31:40,454 Restoring parameters from /content/chembl_activity_models/ChEMBL26_SCN5A_IC50_human_ml_ready/NN_graphconv_scaffold_regression/8fd4192d-10ee-4ddf-85ce-d11ebc39ffb1/model/model-1550\n"
          ],
          "name": "stderr"
        },
        {
          "output_type": "stream",
          "text": [
            "INFO:tensorflow:Restoring parameters from /content/chembl_activity_models/ChEMBL26_SCN5A_IC50_human_ml_ready/NN_graphconv_scaffold_regression/8fd4192d-10ee-4ddf-85ce-d11ebc39ffb1/model/model-1575\n"
          ],
          "name": "stdout"
        },
        {
          "output_type": "stream",
          "text": [
            "2020-09-23 14:31:51,620 Restoring parameters from /content/chembl_activity_models/ChEMBL26_SCN5A_IC50_human_ml_ready/NN_graphconv_scaffold_regression/8fd4192d-10ee-4ddf-85ce-d11ebc39ffb1/model/model-1575\n"
          ],
          "name": "stderr"
        },
        {
          "output_type": "stream",
          "text": [
            "INFO:tensorflow:Restoring parameters from /content/chembl_activity_models/ChEMBL26_SCN5A_IC50_human_ml_ready/NN_graphconv_scaffold_regression/8fd4192d-10ee-4ddf-85ce-d11ebc39ffb1/model/model-1600\n"
          ],
          "name": "stdout"
        },
        {
          "output_type": "stream",
          "text": [
            "2020-09-23 14:32:03,253 Restoring parameters from /content/chembl_activity_models/ChEMBL26_SCN5A_IC50_human_ml_ready/NN_graphconv_scaffold_regression/8fd4192d-10ee-4ddf-85ce-d11ebc39ffb1/model/model-1600\n"
          ],
          "name": "stderr"
        },
        {
          "output_type": "stream",
          "text": [
            "INFO:tensorflow:Restoring parameters from /content/chembl_activity_models/ChEMBL26_SCN5A_IC50_human_ml_ready/NN_graphconv_scaffold_regression/8fd4192d-10ee-4ddf-85ce-d11ebc39ffb1/model/model-1625\n"
          ],
          "name": "stdout"
        },
        {
          "output_type": "stream",
          "text": [
            "2020-09-23 14:32:14,852 Restoring parameters from /content/chembl_activity_models/ChEMBL26_SCN5A_IC50_human_ml_ready/NN_graphconv_scaffold_regression/8fd4192d-10ee-4ddf-85ce-d11ebc39ffb1/model/model-1625\n"
          ],
          "name": "stderr"
        },
        {
          "output_type": "stream",
          "text": [
            "INFO:tensorflow:Restoring parameters from /content/chembl_activity_models/ChEMBL26_SCN5A_IC50_human_ml_ready/NN_graphconv_scaffold_regression/8fd4192d-10ee-4ddf-85ce-d11ebc39ffb1/model/model-1650\n"
          ],
          "name": "stdout"
        },
        {
          "output_type": "stream",
          "text": [
            "2020-09-23 14:32:26,397 Restoring parameters from /content/chembl_activity_models/ChEMBL26_SCN5A_IC50_human_ml_ready/NN_graphconv_scaffold_regression/8fd4192d-10ee-4ddf-85ce-d11ebc39ffb1/model/model-1650\n"
          ],
          "name": "stderr"
        },
        {
          "output_type": "stream",
          "text": [
            "INFO:tensorflow:Restoring parameters from /content/chembl_activity_models/ChEMBL26_SCN5A_IC50_human_ml_ready/NN_graphconv_scaffold_regression/8fd4192d-10ee-4ddf-85ce-d11ebc39ffb1/model/model-1675\n"
          ],
          "name": "stdout"
        },
        {
          "output_type": "stream",
          "text": [
            "2020-09-23 14:32:37,794 Restoring parameters from /content/chembl_activity_models/ChEMBL26_SCN5A_IC50_human_ml_ready/NN_graphconv_scaffold_regression/8fd4192d-10ee-4ddf-85ce-d11ebc39ffb1/model/model-1675\n"
          ],
          "name": "stderr"
        },
        {
          "output_type": "stream",
          "text": [
            "INFO:tensorflow:Restoring parameters from /content/chembl_activity_models/ChEMBL26_SCN5A_IC50_human_ml_ready/NN_graphconv_scaffold_regression/8fd4192d-10ee-4ddf-85ce-d11ebc39ffb1/model/model-1700\n"
          ],
          "name": "stdout"
        },
        {
          "output_type": "stream",
          "text": [
            "2020-09-23 14:32:49,473 Restoring parameters from /content/chembl_activity_models/ChEMBL26_SCN5A_IC50_human_ml_ready/NN_graphconv_scaffold_regression/8fd4192d-10ee-4ddf-85ce-d11ebc39ffb1/model/model-1700\n"
          ],
          "name": "stderr"
        },
        {
          "output_type": "stream",
          "text": [
            "INFO:tensorflow:Restoring parameters from /content/chembl_activity_models/ChEMBL26_SCN5A_IC50_human_ml_ready/NN_graphconv_scaffold_regression/8fd4192d-10ee-4ddf-85ce-d11ebc39ffb1/model/model-1725\n"
          ],
          "name": "stdout"
        },
        {
          "output_type": "stream",
          "text": [
            "2020-09-23 14:33:01,127 Restoring parameters from /content/chembl_activity_models/ChEMBL26_SCN5A_IC50_human_ml_ready/NN_graphconv_scaffold_regression/8fd4192d-10ee-4ddf-85ce-d11ebc39ffb1/model/model-1725\n"
          ],
          "name": "stderr"
        },
        {
          "output_type": "stream",
          "text": [
            "INFO:tensorflow:Restoring parameters from /content/chembl_activity_models/ChEMBL26_SCN5A_IC50_human_ml_ready/NN_graphconv_scaffold_regression/8fd4192d-10ee-4ddf-85ce-d11ebc39ffb1/model/model-1750\n"
          ],
          "name": "stdout"
        },
        {
          "output_type": "stream",
          "text": [
            "2020-09-23 14:33:12,772 Restoring parameters from /content/chembl_activity_models/ChEMBL26_SCN5A_IC50_human_ml_ready/NN_graphconv_scaffold_regression/8fd4192d-10ee-4ddf-85ce-d11ebc39ffb1/model/model-1750\n"
          ],
          "name": "stderr"
        },
        {
          "output_type": "stream",
          "text": [
            "INFO:tensorflow:Restoring parameters from /content/chembl_activity_models/ChEMBL26_SCN5A_IC50_human_ml_ready/NN_graphconv_scaffold_regression/8fd4192d-10ee-4ddf-85ce-d11ebc39ffb1/model/model-1775\n"
          ],
          "name": "stdout"
        },
        {
          "output_type": "stream",
          "text": [
            "2020-09-23 14:33:24,140 Restoring parameters from /content/chembl_activity_models/ChEMBL26_SCN5A_IC50_human_ml_ready/NN_graphconv_scaffold_regression/8fd4192d-10ee-4ddf-85ce-d11ebc39ffb1/model/model-1775\n"
          ],
          "name": "stderr"
        },
        {
          "output_type": "stream",
          "text": [
            "INFO:tensorflow:Restoring parameters from /content/chembl_activity_models/ChEMBL26_SCN5A_IC50_human_ml_ready/NN_graphconv_scaffold_regression/8fd4192d-10ee-4ddf-85ce-d11ebc39ffb1/model/model-1800\n"
          ],
          "name": "stdout"
        },
        {
          "output_type": "stream",
          "text": [
            "2020-09-23 14:33:35,936 Restoring parameters from /content/chembl_activity_models/ChEMBL26_SCN5A_IC50_human_ml_ready/NN_graphconv_scaffold_regression/8fd4192d-10ee-4ddf-85ce-d11ebc39ffb1/model/model-1800\n"
          ],
          "name": "stderr"
        },
        {
          "output_type": "stream",
          "text": [
            "INFO:tensorflow:Restoring parameters from /content/chembl_activity_models/ChEMBL26_SCN5A_IC50_human_ml_ready/NN_graphconv_scaffold_regression/8fd4192d-10ee-4ddf-85ce-d11ebc39ffb1/model/model-1825\n"
          ],
          "name": "stdout"
        },
        {
          "output_type": "stream",
          "text": [
            "2020-09-23 14:33:47,720 Restoring parameters from /content/chembl_activity_models/ChEMBL26_SCN5A_IC50_human_ml_ready/NN_graphconv_scaffold_regression/8fd4192d-10ee-4ddf-85ce-d11ebc39ffb1/model/model-1825\n"
          ],
          "name": "stderr"
        },
        {
          "output_type": "stream",
          "text": [
            "INFO:tensorflow:Restoring parameters from /content/chembl_activity_models/ChEMBL26_SCN5A_IC50_human_ml_ready/NN_graphconv_scaffold_regression/8fd4192d-10ee-4ddf-85ce-d11ebc39ffb1/model/model-1850\n"
          ],
          "name": "stdout"
        },
        {
          "output_type": "stream",
          "text": [
            "2020-09-23 14:33:59,156 Restoring parameters from /content/chembl_activity_models/ChEMBL26_SCN5A_IC50_human_ml_ready/NN_graphconv_scaffold_regression/8fd4192d-10ee-4ddf-85ce-d11ebc39ffb1/model/model-1850\n"
          ],
          "name": "stderr"
        },
        {
          "output_type": "stream",
          "text": [
            "INFO:tensorflow:Restoring parameters from /content/chembl_activity_models/ChEMBL26_SCN5A_IC50_human_ml_ready/NN_graphconv_scaffold_regression/8fd4192d-10ee-4ddf-85ce-d11ebc39ffb1/model/model-1875\n"
          ],
          "name": "stdout"
        },
        {
          "output_type": "stream",
          "text": [
            "2020-09-23 14:34:11,022 Restoring parameters from /content/chembl_activity_models/ChEMBL26_SCN5A_IC50_human_ml_ready/NN_graphconv_scaffold_regression/8fd4192d-10ee-4ddf-85ce-d11ebc39ffb1/model/model-1875\n"
          ],
          "name": "stderr"
        },
        {
          "output_type": "stream",
          "text": [
            "INFO:tensorflow:Restoring parameters from /content/chembl_activity_models/ChEMBL26_SCN5A_IC50_human_ml_ready/NN_graphconv_scaffold_regression/8fd4192d-10ee-4ddf-85ce-d11ebc39ffb1/model/model-1900\n"
          ],
          "name": "stdout"
        },
        {
          "output_type": "stream",
          "text": [
            "2020-09-23 14:34:22,916 Restoring parameters from /content/chembl_activity_models/ChEMBL26_SCN5A_IC50_human_ml_ready/NN_graphconv_scaffold_regression/8fd4192d-10ee-4ddf-85ce-d11ebc39ffb1/model/model-1900\n"
          ],
          "name": "stderr"
        },
        {
          "output_type": "stream",
          "text": [
            "INFO:tensorflow:Restoring parameters from /content/chembl_activity_models/ChEMBL26_SCN5A_IC50_human_ml_ready/NN_graphconv_scaffold_regression/8fd4192d-10ee-4ddf-85ce-d11ebc39ffb1/model/model-1925\n"
          ],
          "name": "stdout"
        },
        {
          "output_type": "stream",
          "text": [
            "2020-09-23 14:34:34,400 Restoring parameters from /content/chembl_activity_models/ChEMBL26_SCN5A_IC50_human_ml_ready/NN_graphconv_scaffold_regression/8fd4192d-10ee-4ddf-85ce-d11ebc39ffb1/model/model-1925\n"
          ],
          "name": "stderr"
        },
        {
          "output_type": "stream",
          "text": [
            "INFO:tensorflow:Restoring parameters from /content/chembl_activity_models/ChEMBL26_SCN5A_IC50_human_ml_ready/NN_graphconv_scaffold_regression/8fd4192d-10ee-4ddf-85ce-d11ebc39ffb1/model/model-1950\n"
          ],
          "name": "stdout"
        },
        {
          "output_type": "stream",
          "text": [
            "2020-09-23 14:34:46,272 Restoring parameters from /content/chembl_activity_models/ChEMBL26_SCN5A_IC50_human_ml_ready/NN_graphconv_scaffold_regression/8fd4192d-10ee-4ddf-85ce-d11ebc39ffb1/model/model-1950\n"
          ],
          "name": "stderr"
        },
        {
          "output_type": "stream",
          "text": [
            "INFO:tensorflow:Restoring parameters from /content/chembl_activity_models/ChEMBL26_SCN5A_IC50_human_ml_ready/NN_graphconv_scaffold_regression/8fd4192d-10ee-4ddf-85ce-d11ebc39ffb1/model/model-1975\n"
          ],
          "name": "stdout"
        },
        {
          "output_type": "stream",
          "text": [
            "2020-09-23 14:34:57,784 Restoring parameters from /content/chembl_activity_models/ChEMBL26_SCN5A_IC50_human_ml_ready/NN_graphconv_scaffold_regression/8fd4192d-10ee-4ddf-85ce-d11ebc39ffb1/model/model-1975\n"
          ],
          "name": "stderr"
        },
        {
          "output_type": "stream",
          "text": [
            "INFO:tensorflow:Restoring parameters from /content/chembl_activity_models/ChEMBL26_SCN5A_IC50_human_ml_ready/NN_graphconv_scaffold_regression/8fd4192d-10ee-4ddf-85ce-d11ebc39ffb1/model/model-2000\n"
          ],
          "name": "stdout"
        },
        {
          "output_type": "stream",
          "text": [
            "2020-09-23 14:35:10,915 Restoring parameters from /content/chembl_activity_models/ChEMBL26_SCN5A_IC50_human_ml_ready/NN_graphconv_scaffold_regression/8fd4192d-10ee-4ddf-85ce-d11ebc39ffb1/model/model-2000\n"
          ],
          "name": "stderr"
        },
        {
          "output_type": "stream",
          "text": [
            "INFO:tensorflow:Restoring parameters from /content/chembl_activity_models/ChEMBL26_SCN5A_IC50_human_ml_ready/NN_graphconv_scaffold_regression/8fd4192d-10ee-4ddf-85ce-d11ebc39ffb1/model/model-2025\n"
          ],
          "name": "stdout"
        },
        {
          "output_type": "stream",
          "text": [
            "2020-09-23 14:35:22,789 Restoring parameters from /content/chembl_activity_models/ChEMBL26_SCN5A_IC50_human_ml_ready/NN_graphconv_scaffold_regression/8fd4192d-10ee-4ddf-85ce-d11ebc39ffb1/model/model-2025\n"
          ],
          "name": "stderr"
        },
        {
          "output_type": "stream",
          "text": [
            "INFO:tensorflow:Restoring parameters from /content/chembl_activity_models/ChEMBL26_SCN5A_IC50_human_ml_ready/NN_graphconv_scaffold_regression/8fd4192d-10ee-4ddf-85ce-d11ebc39ffb1/model/model-2050\n"
          ],
          "name": "stdout"
        },
        {
          "output_type": "stream",
          "text": [
            "2020-09-23 14:35:34,263 Restoring parameters from /content/chembl_activity_models/ChEMBL26_SCN5A_IC50_human_ml_ready/NN_graphconv_scaffold_regression/8fd4192d-10ee-4ddf-85ce-d11ebc39ffb1/model/model-2050\n"
          ],
          "name": "stderr"
        },
        {
          "output_type": "stream",
          "text": [
            "INFO:tensorflow:Restoring parameters from /content/chembl_activity_models/ChEMBL26_SCN5A_IC50_human_ml_ready/NN_graphconv_scaffold_regression/8fd4192d-10ee-4ddf-85ce-d11ebc39ffb1/model/model-2075\n"
          ],
          "name": "stdout"
        },
        {
          "output_type": "stream",
          "text": [
            "2020-09-23 14:35:46,208 Restoring parameters from /content/chembl_activity_models/ChEMBL26_SCN5A_IC50_human_ml_ready/NN_graphconv_scaffold_regression/8fd4192d-10ee-4ddf-85ce-d11ebc39ffb1/model/model-2075\n"
          ],
          "name": "stderr"
        },
        {
          "output_type": "stream",
          "text": [
            "INFO:tensorflow:Restoring parameters from /content/chembl_activity_models/ChEMBL26_SCN5A_IC50_human_ml_ready/NN_graphconv_scaffold_regression/8fd4192d-10ee-4ddf-85ce-d11ebc39ffb1/model/model-2100\n"
          ],
          "name": "stdout"
        },
        {
          "output_type": "stream",
          "text": [
            "2020-09-23 14:35:57,788 Restoring parameters from /content/chembl_activity_models/ChEMBL26_SCN5A_IC50_human_ml_ready/NN_graphconv_scaffold_regression/8fd4192d-10ee-4ddf-85ce-d11ebc39ffb1/model/model-2100\n"
          ],
          "name": "stderr"
        },
        {
          "output_type": "stream",
          "text": [
            "INFO:tensorflow:Restoring parameters from /content/chembl_activity_models/ChEMBL26_SCN5A_IC50_human_ml_ready/NN_graphconv_scaffold_regression/8fd4192d-10ee-4ddf-85ce-d11ebc39ffb1/model/model-2125\n"
          ],
          "name": "stdout"
        },
        {
          "output_type": "stream",
          "text": [
            "2020-09-23 14:36:09,869 Restoring parameters from /content/chembl_activity_models/ChEMBL26_SCN5A_IC50_human_ml_ready/NN_graphconv_scaffold_regression/8fd4192d-10ee-4ddf-85ce-d11ebc39ffb1/model/model-2125\n"
          ],
          "name": "stderr"
        },
        {
          "output_type": "stream",
          "text": [
            "INFO:tensorflow:Restoring parameters from /content/chembl_activity_models/ChEMBL26_SCN5A_IC50_human_ml_ready/NN_graphconv_scaffold_regression/8fd4192d-10ee-4ddf-85ce-d11ebc39ffb1/model/model-2150\n"
          ],
          "name": "stdout"
        },
        {
          "output_type": "stream",
          "text": [
            "2020-09-23 14:36:21,598 Restoring parameters from /content/chembl_activity_models/ChEMBL26_SCN5A_IC50_human_ml_ready/NN_graphconv_scaffold_regression/8fd4192d-10ee-4ddf-85ce-d11ebc39ffb1/model/model-2150\n"
          ],
          "name": "stderr"
        },
        {
          "output_type": "stream",
          "text": [
            "INFO:tensorflow:Restoring parameters from /content/chembl_activity_models/ChEMBL26_SCN5A_IC50_human_ml_ready/NN_graphconv_scaffold_regression/8fd4192d-10ee-4ddf-85ce-d11ebc39ffb1/model/model-2175\n"
          ],
          "name": "stdout"
        },
        {
          "output_type": "stream",
          "text": [
            "2020-09-23 14:36:33,670 Restoring parameters from /content/chembl_activity_models/ChEMBL26_SCN5A_IC50_human_ml_ready/NN_graphconv_scaffold_regression/8fd4192d-10ee-4ddf-85ce-d11ebc39ffb1/model/model-2175\n"
          ],
          "name": "stderr"
        },
        {
          "output_type": "stream",
          "text": [
            "INFO:tensorflow:Restoring parameters from /content/chembl_activity_models/ChEMBL26_SCN5A_IC50_human_ml_ready/NN_graphconv_scaffold_regression/8fd4192d-10ee-4ddf-85ce-d11ebc39ffb1/model/model-2200\n"
          ],
          "name": "stdout"
        },
        {
          "output_type": "stream",
          "text": [
            "2020-09-23 14:36:45,391 Restoring parameters from /content/chembl_activity_models/ChEMBL26_SCN5A_IC50_human_ml_ready/NN_graphconv_scaffold_regression/8fd4192d-10ee-4ddf-85ce-d11ebc39ffb1/model/model-2200\n"
          ],
          "name": "stderr"
        },
        {
          "output_type": "stream",
          "text": [
            "INFO:tensorflow:Restoring parameters from /content/chembl_activity_models/ChEMBL26_SCN5A_IC50_human_ml_ready/NN_graphconv_scaffold_regression/8fd4192d-10ee-4ddf-85ce-d11ebc39ffb1/model/model-2225\n"
          ],
          "name": "stdout"
        },
        {
          "output_type": "stream",
          "text": [
            "2020-09-23 14:36:57,584 Restoring parameters from /content/chembl_activity_models/ChEMBL26_SCN5A_IC50_human_ml_ready/NN_graphconv_scaffold_regression/8fd4192d-10ee-4ddf-85ce-d11ebc39ffb1/model/model-2225\n"
          ],
          "name": "stderr"
        },
        {
          "output_type": "stream",
          "text": [
            "INFO:tensorflow:Restoring parameters from /content/chembl_activity_models/ChEMBL26_SCN5A_IC50_human_ml_ready/NN_graphconv_scaffold_regression/8fd4192d-10ee-4ddf-85ce-d11ebc39ffb1/model/model-2250\n"
          ],
          "name": "stdout"
        },
        {
          "output_type": "stream",
          "text": [
            "2020-09-23 14:37:09,400 Restoring parameters from /content/chembl_activity_models/ChEMBL26_SCN5A_IC50_human_ml_ready/NN_graphconv_scaffold_regression/8fd4192d-10ee-4ddf-85ce-d11ebc39ffb1/model/model-2250\n"
          ],
          "name": "stderr"
        },
        {
          "output_type": "stream",
          "text": [
            "INFO:tensorflow:Restoring parameters from /content/chembl_activity_models/ChEMBL26_SCN5A_IC50_human_ml_ready/NN_graphconv_scaffold_regression/8fd4192d-10ee-4ddf-85ce-d11ebc39ffb1/model/model-2275\n"
          ],
          "name": "stdout"
        },
        {
          "output_type": "stream",
          "text": [
            "2020-09-23 14:37:21,584 Restoring parameters from /content/chembl_activity_models/ChEMBL26_SCN5A_IC50_human_ml_ready/NN_graphconv_scaffold_regression/8fd4192d-10ee-4ddf-85ce-d11ebc39ffb1/model/model-2275\n"
          ],
          "name": "stderr"
        },
        {
          "output_type": "stream",
          "text": [
            "INFO:tensorflow:Restoring parameters from /content/chembl_activity_models/ChEMBL26_SCN5A_IC50_human_ml_ready/NN_graphconv_scaffold_regression/8fd4192d-10ee-4ddf-85ce-d11ebc39ffb1/model/model-2300\n"
          ],
          "name": "stdout"
        },
        {
          "output_type": "stream",
          "text": [
            "2020-09-23 14:37:33,369 Restoring parameters from /content/chembl_activity_models/ChEMBL26_SCN5A_IC50_human_ml_ready/NN_graphconv_scaffold_regression/8fd4192d-10ee-4ddf-85ce-d11ebc39ffb1/model/model-2300\n"
          ],
          "name": "stderr"
        },
        {
          "output_type": "stream",
          "text": [
            "INFO:tensorflow:Restoring parameters from /content/chembl_activity_models/ChEMBL26_SCN5A_IC50_human_ml_ready/NN_graphconv_scaffold_regression/8fd4192d-10ee-4ddf-85ce-d11ebc39ffb1/model/model-2325\n"
          ],
          "name": "stdout"
        },
        {
          "output_type": "stream",
          "text": [
            "2020-09-23 14:37:45,249 Restoring parameters from /content/chembl_activity_models/ChEMBL26_SCN5A_IC50_human_ml_ready/NN_graphconv_scaffold_regression/8fd4192d-10ee-4ddf-85ce-d11ebc39ffb1/model/model-2325\n"
          ],
          "name": "stderr"
        },
        {
          "output_type": "stream",
          "text": [
            "INFO:tensorflow:Restoring parameters from /content/chembl_activity_models/ChEMBL26_SCN5A_IC50_human_ml_ready/NN_graphconv_scaffold_regression/8fd4192d-10ee-4ddf-85ce-d11ebc39ffb1/model/model-2350\n"
          ],
          "name": "stdout"
        },
        {
          "output_type": "stream",
          "text": [
            "2020-09-23 14:37:57,437 Restoring parameters from /content/chembl_activity_models/ChEMBL26_SCN5A_IC50_human_ml_ready/NN_graphconv_scaffold_regression/8fd4192d-10ee-4ddf-85ce-d11ebc39ffb1/model/model-2350\n"
          ],
          "name": "stderr"
        },
        {
          "output_type": "stream",
          "text": [
            "INFO:tensorflow:Restoring parameters from /content/chembl_activity_models/ChEMBL26_SCN5A_IC50_human_ml_ready/NN_graphconv_scaffold_regression/8fd4192d-10ee-4ddf-85ce-d11ebc39ffb1/model/model-2375\n"
          ],
          "name": "stdout"
        },
        {
          "output_type": "stream",
          "text": [
            "2020-09-23 14:38:09,202 Restoring parameters from /content/chembl_activity_models/ChEMBL26_SCN5A_IC50_human_ml_ready/NN_graphconv_scaffold_regression/8fd4192d-10ee-4ddf-85ce-d11ebc39ffb1/model/model-2375\n"
          ],
          "name": "stderr"
        },
        {
          "output_type": "stream",
          "text": [
            "INFO:tensorflow:Restoring parameters from /content/chembl_activity_models/ChEMBL26_SCN5A_IC50_human_ml_ready/NN_graphconv_scaffold_regression/8fd4192d-10ee-4ddf-85ce-d11ebc39ffb1/model/model-2400\n"
          ],
          "name": "stdout"
        },
        {
          "output_type": "stream",
          "text": [
            "2020-09-23 14:38:21,393 Restoring parameters from /content/chembl_activity_models/ChEMBL26_SCN5A_IC50_human_ml_ready/NN_graphconv_scaffold_regression/8fd4192d-10ee-4ddf-85ce-d11ebc39ffb1/model/model-2400\n"
          ],
          "name": "stderr"
        },
        {
          "output_type": "stream",
          "text": [
            "INFO:tensorflow:Restoring parameters from /content/chembl_activity_models/ChEMBL26_SCN5A_IC50_human_ml_ready/NN_graphconv_scaffold_regression/8fd4192d-10ee-4ddf-85ce-d11ebc39ffb1/model/model-2425\n"
          ],
          "name": "stdout"
        },
        {
          "output_type": "stream",
          "text": [
            "2020-09-23 14:38:33,303 Restoring parameters from /content/chembl_activity_models/ChEMBL26_SCN5A_IC50_human_ml_ready/NN_graphconv_scaffold_regression/8fd4192d-10ee-4ddf-85ce-d11ebc39ffb1/model/model-2425\n"
          ],
          "name": "stderr"
        },
        {
          "output_type": "stream",
          "text": [
            "INFO:tensorflow:Restoring parameters from /content/chembl_activity_models/ChEMBL26_SCN5A_IC50_human_ml_ready/NN_graphconv_scaffold_regression/8fd4192d-10ee-4ddf-85ce-d11ebc39ffb1/model/model-2450\n"
          ],
          "name": "stdout"
        },
        {
          "output_type": "stream",
          "text": [
            "2020-09-23 14:38:45,628 Restoring parameters from /content/chembl_activity_models/ChEMBL26_SCN5A_IC50_human_ml_ready/NN_graphconv_scaffold_regression/8fd4192d-10ee-4ddf-85ce-d11ebc39ffb1/model/model-2450\n"
          ],
          "name": "stderr"
        },
        {
          "output_type": "stream",
          "text": [
            "INFO:tensorflow:Restoring parameters from /content/chembl_activity_models/ChEMBL26_SCN5A_IC50_human_ml_ready/NN_graphconv_scaffold_regression/8fd4192d-10ee-4ddf-85ce-d11ebc39ffb1/model/model-2475\n"
          ],
          "name": "stdout"
        },
        {
          "output_type": "stream",
          "text": [
            "2020-09-23 14:38:57,594 Restoring parameters from /content/chembl_activity_models/ChEMBL26_SCN5A_IC50_human_ml_ready/NN_graphconv_scaffold_regression/8fd4192d-10ee-4ddf-85ce-d11ebc39ffb1/model/model-2475\n"
          ],
          "name": "stderr"
        },
        {
          "output_type": "stream",
          "text": [
            "INFO:tensorflow:Restoring parameters from /content/chembl_activity_models/ChEMBL26_SCN5A_IC50_human_ml_ready/NN_graphconv_scaffold_regression/8fd4192d-10ee-4ddf-85ce-d11ebc39ffb1/model/model-750\n"
          ],
          "name": "stdout"
        },
        {
          "output_type": "stream",
          "text": [
            "/content/AMPL/lib/python3.6/site-packages/atomsci/ddm/pipeline/model_wrapper.py:767: YAMLLoadWarning: calling yaml.load() without Loader=... is deprecated, as the default Loader is unsafe. Please read https://msg.pyyaml.org/load for full details.\n",
            "  chkpt_dict = yaml.load(chkpt_in.read())\n",
            "2020-09-23 14:42:08,141 Restoring parameters from /content/chembl_activity_models/ChEMBL26_SCN5A_IC50_human_ml_ready/NN_graphconv_scaffold_regression/8fd4192d-10ee-4ddf-85ce-d11ebc39ffb1/model/model-750\n",
            "2020-09-23 14:44:54,756 Wrote model metadata to file /content/chembl_activity_models/ChEMBL26_SCN5A_IC50_human_ml_ready/NN_graphconv_scaffold_regression/8fd4192d-10ee-4ddf-85ce-d11ebc39ffb1/model_metadata.json\n",
            "2020-09-23 14:44:55,008 Wrote model metrics to file /content/chembl_activity_models/ChEMBL26_SCN5A_IC50_human_ml_ready/NN_graphconv_scaffold_regression/8fd4192d-10ee-4ddf-85ce-d11ebc39ffb1/model_metrics.json\n"
          ],
          "name": "stderr"
        },
        {
          "output_type": "stream",
          "text": [
            "Wrote model tarball to /content/chembl_activity_models/ChEMBL26_SCN5A_IC50_human_ml_ready_model_8fd4192d-10ee-4ddf-85ce-d11ebc39ffb1.tar.gz\n"
          ],
          "name": "stdout"
        }
      ]
    },
    {
      "cell_type": "code",
      "metadata": {
        "id": "6TzP0727UXUR",
        "colab_type": "code",
        "colab": {
          "base_uri": "https://localhost:8080/",
          "height": 169
        },
        "outputId": "2d8c8362-0d0a-4f70-d1a4-e1296dfd8fa5"
      },
      "source": [
        "perf_df = cmp.get_filesystem_perf_results('/content/chembl_activity_models', pred_type='regression')\n",
        "perf_df"
      ],
      "execution_count": 30,
      "outputs": [
        {
          "output_type": "stream",
          "text": [
            "Found data for 1 models under /content/chembl_activity_models\n"
          ],
          "name": "stdout"
        },
        {
          "output_type": "execute_result",
          "data": {
            "text/html": [
              "<div>\n",
              "<style scoped>\n",
              "    .dataframe tbody tr th:only-of-type {\n",
              "        vertical-align: middle;\n",
              "    }\n",
              "\n",
              "    .dataframe tbody tr th {\n",
              "        vertical-align: top;\n",
              "    }\n",
              "\n",
              "    .dataframe thead th {\n",
              "        text-align: right;\n",
              "    }\n",
              "</style>\n",
              "<table border=\"1\" class=\"dataframe\">\n",
              "  <thead>\n",
              "    <tr style=\"text-align: right;\">\n",
              "      <th></th>\n",
              "      <th>model_uuid</th>\n",
              "      <th>model_type</th>\n",
              "      <th>dataset_key</th>\n",
              "      <th>featurizer</th>\n",
              "      <th>splitter</th>\n",
              "      <th>model_score_type</th>\n",
              "      <th>feature_transform_type</th>\n",
              "      <th>learning_rate</th>\n",
              "      <th>dropouts</th>\n",
              "      <th>layer_sizes</th>\n",
              "      <th>best_epoch</th>\n",
              "      <th>max_epochs</th>\n",
              "      <th>rf_estimators</th>\n",
              "      <th>rf_max_features</th>\n",
              "      <th>rf_max_depth</th>\n",
              "      <th>model_choice_score</th>\n",
              "      <th>train_r2_score</th>\n",
              "      <th>train_rms_score</th>\n",
              "      <th>train_mae_score</th>\n",
              "      <th>valid_r2_score</th>\n",
              "      <th>valid_rms_score</th>\n",
              "      <th>valid_mae_score</th>\n",
              "      <th>test_r2_score</th>\n",
              "      <th>test_rms_score</th>\n",
              "      <th>test_mae_score</th>\n",
              "    </tr>\n",
              "  </thead>\n",
              "  <tbody>\n",
              "    <tr>\n",
              "      <th>0</th>\n",
              "      <td>8fd4192d-10ee-4ddf-85ce-d11ebc39ffb1</td>\n",
              "      <td>NN</td>\n",
              "      <td>/content/ChEMBL26_SCN5A_IC50_human_ml_ready.csv</td>\n",
              "      <td>graphconv</td>\n",
              "      <td>scaffold</td>\n",
              "      <td>r2</td>\n",
              "      <td>normalization</td>\n",
              "      <td>0.0007</td>\n",
              "      <td>0.00,0.00,0.00</td>\n",
              "      <td>64,64,32</td>\n",
              "      <td>59</td>\n",
              "      <td>100</td>\n",
              "      <td>NaN</td>\n",
              "      <td>NaN</td>\n",
              "      <td>NaN</td>\n",
              "      <td>0.387155</td>\n",
              "      <td>0.782672</td>\n",
              "      <td>0.298918</td>\n",
              "      <td>0.220824</td>\n",
              "      <td>0.387155</td>\n",
              "      <td>0.460054</td>\n",
              "      <td>0.33941</td>\n",
              "      <td>0.253781</td>\n",
              "      <td>0.606358</td>\n",
              "      <td>0.393074</td>\n",
              "    </tr>\n",
              "  </tbody>\n",
              "</table>\n",
              "</div>"
            ],
            "text/plain": [
              "                             model_uuid  ... test_mae_score\n",
              "0  8fd4192d-10ee-4ddf-85ce-d11ebc39ffb1  ...       0.393074\n",
              "\n",
              "[1 rows x 25 columns]"
            ]
          },
          "metadata": {
            "tags": []
          },
          "execution_count": 30
        }
      ]
    }
  ]
}