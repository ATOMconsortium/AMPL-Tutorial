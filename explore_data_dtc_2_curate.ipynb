{
  "nbformat": 4,
  "nbformat_minor": 0,
  "metadata": {
    "extensions": {
      "jupyter_dashboards": {
        "activeView": "report_default",
        "version": 1,
        "views": {
          "grid_default": {
            "cellMargin": 10,
            "defaultCellHeight": 20,
            "maxColumns": 12,
            "name": "grid",
            "type": "grid"
          },
          "report_default": {
            "name": "report",
            "type": "report"
          }
        }
      }
    },
    "kernelspec": {
      "display_name": "Python 3",
      "language": "python",
      "name": "python3"
    },
    "language_info": {
      "codemirror_mode": {
        "name": "ipython",
        "version": 3
      },
      "file_extension": ".py",
      "mimetype": "text/x-python",
      "name": "python",
      "nbconvert_exporter": "python",
      "pygments_lexer": "ipython3",
      "version": "3.6.12"
    },
    "colab": {
      "name": "explore_data_dtc_2_curate.ipynb",
      "provenance": [],
      "collapsed_sections": [],
      "machine_shape": "hm",
      "include_colab_link": true
    },
    "accelerator": "GPU"
  },
  "cells": [
    {
      "cell_type": "markdown",
      "metadata": {
        "id": "view-in-github",
        "colab_type": "text"
      },
      "source": [
        "<a href=\"https://colab.research.google.com/github/ravichas/AMPL-Tutorial/blob/master/explore_data_dtc_2_curate.ipynb\" target=\"_parent\"><img src=\"https://colab.research.google.com/assets/colab-badge.svg\" alt=\"Open In Colab\"/></a>"
      ]
    },
    {
      "cell_type": "markdown",
      "metadata": {
        "id": "0V2ybLgAH-0V"
      },
      "source": [
        "# Exploring HTR3A protein target activity data from Drug Target Commons\r\n",
        "\r\n",
        "The Target specific data was downloaded from https://drugtargetcommons.fimm.fi/\r\n",
        "\r\n",
        "Please refer to the ExCAPE-DB publication (https://pubmed.ncbi.nlm.nih.gov/29276046/) for details about the database "
      ]
    },
    {
      "cell_type": "markdown",
      "metadata": {
        "id": "FYelWdOkIGwC"
      },
      "source": [
        "Here are some details about HTR3A gene (taken from RefSeq NCBI)\r\n",
        "*The product of this gene belongs to the ligand-gated ion channel receptor superfamily. This gene encodes subunit A of the type 3 receptor for 5-hydroxytryptamine (serotonin), a biogenic hormone that functions as a neurotransmitter, a hormone, and a mitogen. This receptor causes fast, depolarizing responses in neurons after activation. It appears that the heteromeric combination of A and B subunits is necessary to provide the full functional features of this receptor, since either subunit alone results in receptors with very low conductance and response amplitude. Alternatively spliced transcript variants encoding different isoforms have been identified.*"
      ]
    },
    {
      "cell_type": "markdown",
      "metadata": {
        "id": "zxDMhFSoIL15"
      },
      "source": [
        "Diseases associated with HTR3A include Irritable Bowel Syndrome and Motion Sickness."
      ]
    },
    {
      "cell_type": "markdown",
      "metadata": {
        "id": "7J41ky8ULQdh"
      },
      "source": [
        "## Basic information about HTR3A gene:\r\n",
        "\r\n",
        "**Present in** Chromosome 11\r\n",
        "**Exon count:** 10\r\n",
        "\r\n",
        "mRNA and protein information\r\n",
        "\r\n",
        "*   NM_000869.6 → NP_000860.3 \r\n",
        "*   NM_001161772.3 → NP_001155244.1\r\n",
        "*   NM_213621.4 → NP_998786.3 \r\n",
        "\r\n",
        "\r\n",
        "\r\n",
        "\r\n",
        "\r\n",
        "\r\n"
      ]
    },
    {
      "cell_type": "markdown",
      "metadata": {
        "id": "od_Bn9W5gCh9"
      },
      "source": [
        "# Before you begin, make sure you close all other COLAB notebooks. "
      ]
    },
    {
      "cell_type": "markdown",
      "metadata": {
        "id": "2DWqm4Cxm5h_"
      },
      "source": [
        "# Change Runtime settings\r\n",
        "\r\n",
        "## Plesae change your runtime settings to use GPU and high-memory, if you have \r\n",
        "\r\n",
        "## Runtime --> Change Runtime Type --> GPU wityh high-RAM"
      ]
    },
    {
      "cell_type": "code",
      "metadata": {
        "id": "rlYz7j65MDcb",
        "colab": {
          "base_uri": "https://localhost:8080/"
        },
        "outputId": "4e84703c-5483-4cf6-f01b-8ebf10c64b6a"
      },
      "source": [
        "!date # starting time"
      ],
      "execution_count": null,
      "outputs": [
        {
          "output_type": "stream",
          "text": [
            "Tue Feb 16 02:24:11 UTC 2021\n"
          ],
          "name": "stdout"
        }
      ]
    },
    {
      "cell_type": "markdown",
      "metadata": {
        "id": "5qGO2T0cIvIm"
      },
      "source": [
        "## Install AMPL GPU version\r\n",
        "\r\n",
        "```\r\n",
        "real\t2m59.739s\r\n",
        "user\t1m48.995s\r\n",
        "sys\t0m20.614s\r\n",
        "```"
      ]
    },
    {
      "cell_type": "code",
      "metadata": {
        "id": "TW1L0cVrIqxm",
        "colab": {
          "base_uri": "https://localhost:8080/"
        },
        "outputId": "19b96e1c-388d-4060-dc7a-47b70d4a81d9"
      },
      "source": [
        "import requests\r\n",
        "\r\n",
        "# Copy AMPL install script\r\n",
        "url='https://raw.githubusercontent.com/ravichas/AMPL-Tutorial/master/config/install_AMPL_GPU.sh'\r\n",
        "\r\n",
        "downloaded_obj = requests.get(url)\r\n",
        "with open(\"install_AMPL_GPU.sh\", \"wb\") as file:\r\n",
        "    file.write(downloaded_obj.content)\r\n",
        "\r\n",
        "\r\n",
        "# Install and load AMPL\r\n",
        "!chmod u+x install_AMPL_GPU.sh\r\n",
        "!time ./install_AMPL_GPU.sh\r\n",
        "import sys\r\n",
        "if '/content/AMPL/lib/python3.6/site-packages' not in sys.path:\r\n",
        "    sys.path.insert(1, '/content/AMPL/lib/python3.6/site-packages')\r\n",
        "\r\n",
        "sys.path"
      ],
      "execution_count": null,
      "outputs": [
        {
          "output_type": "stream",
          "text": [
            "--2021-02-16 02:24:12--  https://repo.anaconda.com/miniconda/Miniconda3-latest-Linux-x86_64.sh\n",
            "Resolving repo.anaconda.com (repo.anaconda.com)... 104.16.131.3, 104.16.130.3, 2606:4700::6810:8303, ...\n",
            "Connecting to repo.anaconda.com (repo.anaconda.com)|104.16.131.3|:443... connected.\n",
            "HTTP request sent, awaiting response... 200 OK\n",
            "Length: 94235922 (90M) [application/x-sh]\n",
            "Saving to: ‘Miniconda3-latest-Linux-x86_64.sh’\n",
            "\n",
            "Miniconda3-latest-L 100%[===================>]  89.87M   241MB/s    in 0.4s    \n",
            "\n",
            "2021-02-16 02:24:13 (241 MB/s) - ‘Miniconda3-latest-Linux-x86_64.sh’ saved [94235922/94235922]\n",
            "\n",
            "PREFIX=/content/AMPL\n",
            "Unpacking payload ...\n",
            "Collecting package metadata (current_repodata.json): - \b\b\\ \b\b| \b\bdone\n",
            "Solving environment: - \b\b\\ \b\bdone\n",
            "\n",
            "## Package Plan ##\n",
            "\n",
            "  environment location: /content/AMPL\n",
            "\n",
            "  added / updated specs:\n",
            "    - _libgcc_mutex==0.1=main\n",
            "    - brotlipy==0.7.0=py38h27cfd23_1003\n",
            "    - ca-certificates==2020.10.14=0\n",
            "    - certifi==2020.6.20=pyhd3eb1b0_3\n",
            "    - cffi==1.14.3=py38h261ae71_2\n",
            "    - chardet==3.0.4=py38h06a4308_1003\n",
            "    - conda-package-handling==1.7.2=py38h03888b9_0\n",
            "    - conda==4.9.2=py38h06a4308_0\n",
            "    - cryptography==3.2.1=py38h3c74f83_1\n",
            "    - idna==2.10=py_0\n",
            "    - ld_impl_linux-64==2.33.1=h53a641e_7\n",
            "    - libedit==3.1.20191231=h14c3975_1\n",
            "    - libffi==3.3=he6710b0_2\n",
            "    - libgcc-ng==9.1.0=hdf63c60_0\n",
            "    - libstdcxx-ng==9.1.0=hdf63c60_0\n",
            "    - ncurses==6.2=he6710b0_1\n",
            "    - openssl==1.1.1h=h7b6447c_0\n",
            "    - pip==20.2.4=py38h06a4308_0\n",
            "    - pycosat==0.6.3=py38h7b6447c_1\n",
            "    - pycparser==2.20=py_2\n",
            "    - pyopenssl==19.1.0=pyhd3eb1b0_1\n",
            "    - pysocks==1.7.1=py38h06a4308_0\n",
            "    - python==3.8.5=h7579374_1\n",
            "    - readline==8.0=h7b6447c_0\n",
            "    - requests==2.24.0=py_0\n",
            "    - ruamel_yaml==0.15.87=py38h7b6447c_1\n",
            "    - setuptools==50.3.1=py38h06a4308_1\n",
            "    - six==1.15.0=py38h06a4308_0\n",
            "    - sqlite==3.33.0=h62c20be_0\n",
            "    - tk==8.6.10=hbc83047_0\n",
            "    - tqdm==4.51.0=pyhd3eb1b0_0\n",
            "    - urllib3==1.25.11=py_0\n",
            "    - wheel==0.35.1=pyhd3eb1b0_0\n",
            "    - xz==5.2.5=h7b6447c_0\n",
            "    - yaml==0.2.5=h7b6447c_0\n",
            "    - zlib==1.2.11=h7b6447c_3\n",
            "\n",
            "\n",
            "The following NEW packages will be INSTALLED:\n",
            "\n",
            "  _libgcc_mutex      pkgs/main/linux-64::_libgcc_mutex-0.1-main\n",
            "  brotlipy           pkgs/main/linux-64::brotlipy-0.7.0-py38h27cfd23_1003\n",
            "  ca-certificates    pkgs/main/linux-64::ca-certificates-2020.10.14-0\n",
            "  certifi            pkgs/main/noarch::certifi-2020.6.20-pyhd3eb1b0_3\n",
            "  cffi               pkgs/main/linux-64::cffi-1.14.3-py38h261ae71_2\n",
            "  chardet            pkgs/main/linux-64::chardet-3.0.4-py38h06a4308_1003\n",
            "  conda              pkgs/main/linux-64::conda-4.9.2-py38h06a4308_0\n",
            "  conda-package-han~ pkgs/main/linux-64::conda-package-handling-1.7.2-py38h03888b9_0\n",
            "  cryptography       pkgs/main/linux-64::cryptography-3.2.1-py38h3c74f83_1\n",
            "  idna               pkgs/main/noarch::idna-2.10-py_0\n",
            "  ld_impl_linux-64   pkgs/main/linux-64::ld_impl_linux-64-2.33.1-h53a641e_7\n",
            "  libedit            pkgs/main/linux-64::libedit-3.1.20191231-h14c3975_1\n",
            "  libffi             pkgs/main/linux-64::libffi-3.3-he6710b0_2\n",
            "  libgcc-ng          pkgs/main/linux-64::libgcc-ng-9.1.0-hdf63c60_0\n",
            "  libstdcxx-ng       pkgs/main/linux-64::libstdcxx-ng-9.1.0-hdf63c60_0\n",
            "  ncurses            pkgs/main/linux-64::ncurses-6.2-he6710b0_1\n",
            "  openssl            pkgs/main/linux-64::openssl-1.1.1h-h7b6447c_0\n",
            "  pip                pkgs/main/linux-64::pip-20.2.4-py38h06a4308_0\n",
            "  pycosat            pkgs/main/linux-64::pycosat-0.6.3-py38h7b6447c_1\n",
            "  pycparser          pkgs/main/noarch::pycparser-2.20-py_2\n",
            "  pyopenssl          pkgs/main/noarch::pyopenssl-19.1.0-pyhd3eb1b0_1\n",
            "  pysocks            pkgs/main/linux-64::pysocks-1.7.1-py38h06a4308_0\n",
            "  python             pkgs/main/linux-64::python-3.8.5-h7579374_1\n",
            "  readline           pkgs/main/linux-64::readline-8.0-h7b6447c_0\n",
            "  requests           pkgs/main/noarch::requests-2.24.0-py_0\n",
            "  ruamel_yaml        pkgs/main/linux-64::ruamel_yaml-0.15.87-py38h7b6447c_1\n",
            "  setuptools         pkgs/main/linux-64::setuptools-50.3.1-py38h06a4308_1\n",
            "  six                pkgs/main/linux-64::six-1.15.0-py38h06a4308_0\n",
            "  sqlite             pkgs/main/linux-64::sqlite-3.33.0-h62c20be_0\n",
            "  tk                 pkgs/main/linux-64::tk-8.6.10-hbc83047_0\n",
            "  tqdm               pkgs/main/noarch::tqdm-4.51.0-pyhd3eb1b0_0\n",
            "  urllib3            pkgs/main/noarch::urllib3-1.25.11-py_0\n",
            "  wheel              pkgs/main/noarch::wheel-0.35.1-pyhd3eb1b0_0\n",
            "  xz                 pkgs/main/linux-64::xz-5.2.5-h7b6447c_0\n",
            "  yaml               pkgs/main/linux-64::yaml-0.2.5-h7b6447c_0\n",
            "  zlib               pkgs/main/linux-64::zlib-1.2.11-h7b6447c_3\n",
            "\n",
            "\n",
            "Preparing transaction: / \b\b- \b\b\\ \b\bdone\n",
            "Executing transaction: / \b\b- \b\b\\ \b\b| \b\b/ \b\b- \b\b\\ \b\b| \b\b/ \b\bdone\n",
            "installation finished.\n",
            "WARNING:\n",
            "    You currently have a PYTHONPATH environment variable set. This may cause\n",
            "    unexpected behavior when running the Python interpreter in Miniconda3.\n",
            "    For best results, please verify that your PYTHONPATH only points to\n",
            "    directories of packages that are compatible with the Python interpreter\n",
            "    in Miniconda3: /content/AMPL\n",
            "\n",
            "Downloading and Extracting Packages\n",
            "_libgcc_mutex-0.1    | : 100% 1.0/1 [00:00<00:00,  6.93it/s]\n",
            "ca-certificates-2020 | : 100% 1.0/1 [00:00<00:00, 18.68it/s]\n",
            "cudatoolkit-9.0      | : 100% 1.0/1 [00:05<00:00,  5.68s/it]              \n",
            "fftw3f-3.3.4         | : 100% 1.0/1 [00:03<00:00,  3.18s/it]\n",
            "libgfortran-3.0.0    | : 100% 1.0/1 [00:00<00:00, 11.80it/s]\n",
            "libgfortran-ng-7.5.0 | : 100% 1.0/1 [00:00<00:00,  3.41it/s]\n",
            "libstdcxx-ng-9.2.0   | : 100% 1.0/1 [00:00<00:00,  1.51it/s]\n",
            "pandoc-2.9.2.1       | : 100% 1.0/1 [00:03<00:00,  3.70s/it]\n",
            "cudnn-7.6.5          | : 100% 1.0/1 [00:09<00:00,  9.95s/it]               \n",
            "cupti-9.0.176        | : 100% 1.0/1 [00:00<00:00, 13.97it/s]\n",
            "libgomp-9.2.0        | : 100% 1.0/1 [00:00<00:00,  8.57it/s]\n",
            "openblas-0.2.20      | : 100% 1.0/1 [00:03<00:00,  3.36s/it]\n",
            "_openmp_mutex-4.5    | : 100% 1.0/1 [00:00<00:00, 13.20it/s]\n",
            "blas-1.1             | : 100% 1.0/1 [00:00<00:00, 30.26it/s]\n",
            "libgcc-ng-9.2.0      | : 100% 1.0/1 [00:01<00:00,  1.14s/it]\n",
            "blosc-1.18.1         | : 100% 1.0/1 [00:00<00:00,  6.68it/s]\n",
            "bzip2-1.0.8          | : 100% 1.0/1 [00:00<00:00, 12.12it/s]\n",
            "c-ares-1.15.0        | : 100% 1.0/1 [00:00<00:00, 23.00it/s]\n",
            "expat-2.2.9          | : 100% 1.0/1 [00:00<00:00, 10.98it/s]\n",
            "icu-58.2             | : 100% 1.0/1 [00:03<00:00,  3.21s/it]               \n",
            "jpeg-9c              | : 100% 1.0/1 [00:00<00:00, 13.95it/s]\n",
            "libffi-3.2.1         | : 100% 1.0/1 [00:00<00:00,  2.59it/s]             \n",
            "libiconv-1.15        | : 100% 1.0/1 [00:02<00:00,  2.63s/it]\n",
            "libllvm8-8.0.1       | : 100% 1.0/1 [00:03<00:00,  3.55s/it]               \n",
            "libsodium-1.0.17     | : 100% 1.0/1 [00:00<00:00, 11.10it/s]\n",
            "libuuid-2.32.1       | : 100% 1.0/1 [00:00<00:00, 23.78it/s]\n",
            "lzo-2.10             | : 100% 1.0/1 [00:00<00:00, 11.69it/s]\n",
            "ncurses-6.1          | : 100% 1.0/1 [00:00<00:00,  2.40it/s]\n",
            "openssl-1.0.2u       | : 100% 1.0/1 [00:00<00:00,  1.89it/s]\n",
            "pcre-8.44            | : 100% 1.0/1 [00:00<00:00, 11.21it/s]\n",
            "pixman-0.34.0        | : 100% 1.0/1 [00:00<00:00,  8.41it/s]\n",
            "pthread-stubs-0.4    | : 100% 1.0/1 [00:00<00:00, 31.47it/s]\n",
            "tbb-2020.1           | : 100% 1.0/1 [00:00<00:00,  4.24it/s]\n",
            "xorg-kbproto-1.0.7   | : 100% 1.0/1 [00:00<00:00, 28.57it/s]\n",
            "xorg-libice-1.0.10   | : 100% 1.0/1 [00:00<00:00, 27.03it/s]\n",
            "xorg-libxau-1.0.9    | : 100% 1.0/1 [00:00<00:00, 39.52it/s]\n",
            "xorg-libxdmcp-1.1.3  | : 100% 1.0/1 [00:00<00:00, 32.93it/s]\n",
            "xorg-renderproto-0.1 | : 100% 1.0/1 [00:00<00:00, 32.12it/s]\n",
            "xorg-xextproto-7.3.0 | : 100% 1.0/1 [00:00<00:00, 22.96it/s]\n",
            "xorg-xproto-7.0.31   | : 100% 1.0/1 [00:00<00:00, 23.49it/s]\n",
            "xz-5.2.5             | : 100% 1.0/1 [00:00<00:00,  7.28it/s]\n",
            "yaml-0.2.4           | : 100% 1.0/1 [00:00<00:00, 22.35it/s]\n",
            "zlib-1.2.11          | : 100% 1.0/1 [00:00<00:00, 24.62it/s]\n",
            "dbus-1.13.0          | : 100% 1.0/1 [00:00<00:00,  8.78it/s]\n",
            "gettext-0.19.8.1     | : 100% 1.0/1 [00:00<00:00,  1.26it/s]\n",
            "hdf5-1.10.6          | : 100% 1.0/1 [00:00<00:00,  2.28it/s]\n",
            "libpng-1.6.37        | : 100% 1.0/1 [00:00<00:00, 11.73it/s]\n",
            "libprotobuf-3.12.1   | : 100% 1.0/1 [00:00<00:00,  1.09it/s]\n",
            "libtiff-4.0.9        | : 100% 1.0/1 [00:00<00:00,  2.22it/s]\n",
            "libxcb-1.13          | : 100% 1.0/1 [00:00<00:00,  7.46it/s]\n",
            "libxml2-2.9.9        | : 100% 1.0/1 [00:00<00:00,  3.07it/s]\n",
            "readline-7.0         | : 100% 1.0/1 [00:00<00:00, 10.27it/s]\n",
            "tk-8.6.10            | : 100% 1.0/1 [00:00<00:00,  1.92it/s]\n",
            "xorg-libsm-1.2.3     | : 100% 1.0/1 [00:00<00:00, 28.81it/s]\n",
            "zeromq-4.3.2         | : 100% 1.0/1 [00:00<00:00,  6.99it/s]\n",
            "freetype-2.8.1       | : 100% 1.0/1 [00:00<00:00,  5.83it/s]\n",
            "glib-2.55.0          | : 100% 1.0/1 [00:02<00:00,  2.40s/it] \n",
            "sqlite-3.28.0        | : 100% 1.0/1 [00:00<00:00,  3.16it/s]\n",
            "xorg-libx11-1.6.9    | : 100% 1.0/1 [00:00<00:00,  5.48it/s]\n",
            "fontconfig-2.13.0    | : 100% 1.0/1 [00:00<00:00, 13.13it/s]\n",
            "gstreamer-1.12.5     | : 100% 1.0/1 [00:00<00:00,  2.85it/s]\n",
            "python-3.6.7         | : 100% 1.0/1 [00:04<00:00,  4.24s/it]               \n",
            "xorg-libxext-1.3.4   | : 100% 1.0/1 [00:00<00:00, 27.21it/s]\n",
            "xorg-libxrender-0.9. | : 100% 1.0/1 [00:00<00:00, 31.40it/s]\n",
            "astor-0.7.1          | : 100% 1.0/1 [00:00<00:00, 38.98it/s]\n",
            "attrs-19.3.0         | : 100% 1.0/1 [00:00<00:00, 33.43it/s]\n",
            "backcall-0.1.0       | : 100% 1.0/1 [00:00<00:00, 36.10it/s]\n",
            "cairo-1.14.12        | : 100% 1.0/1 [00:00<00:00,  3.27it/s]\n",
            "decorator-4.4.2      | : 100% 1.0/1 [00:00<00:00, 17.70it/s]\n",
            "defusedxml-0.6.0     | : 100% 1.0/1 [00:00<00:00, 39.54it/s]\n",
            "gast-0.3.3           | : 100% 1.0/1 [00:00<00:00, 39.71it/s]\n",
            "gst-plugins-base-1.1 | : 100% 1.0/1 [00:00<00:00,  1.51it/s]\n",
            "idna-2.6             | : 100% 1.0/1 [00:00<00:00, 22.37it/s]\n",
            "ipython_genutils-0.2 | : 100% 1.0/1 [00:00<00:00,  3.25it/s]               \n",
            "joblib-0.11          | : 100% 1.0/1 [00:00<00:00, 12.01it/s]\n",
            "jsonref-0.2          | : 100% 1.0/1 [00:00<00:00, 26.79it/s]\n",
            "monotonic-1.5        | : 100% 1.0/1 [00:00<00:00, 29.09it/s]\n",
            "more-itertools-8.3.0 | : 100% 1.0/1 [00:00<00:00, 34.02it/s]\n",
            "msgpack-python-0.5.5 | : 100% 1.0/1 [00:00<00:00, 15.25it/s]\n",
            "numpy-1.15.2         | : 100% 1.0/1 [00:03<00:00,  3.70s/it]               \n",
            "olefile-0.46         | : 100% 1.0/1 [00:00<00:00, 27.41it/s]\n",
            "pandocfilters-1.4.2  | : 100% 1.0/1 [00:00<00:00, 30.26it/s]\n",
            "parso-0.7.0          | : 100% 1.0/1 [00:00<00:00, 22.32it/s]\n",
            "prometheus_client-0. | : 100% 1.0/1 [00:00<00:00, 27.39it/s]\n",
            "ptyprocess-0.6.0     | : 100% 1.0/1 [00:00<00:00, 33.65it/s]\n",
            "py-1.8.1             | : 100% 1.0/1 [00:00<00:00, 20.81it/s]\n",
            "pycparser-2.20       | : 100% 1.0/1 [00:00<00:00, 18.74it/s]\n",
            "pyparsing-2.4.7      | : 100% 1.0/1 [00:00<00:00, 25.87it/s]\n",
            "python_abi-3.6       | : 100% 1.0/1 [00:00<00:00, 35.07it/s]\n",
            "pytz-2020.1          | : 100% 1.0/1 [00:00<00:00,  9.49it/s]\n",
            "qtpy-1.9.0           | : 100% 1.0/1 [00:00<00:00, 28.04it/s]\n",
            "send2trash-1.5.0     | : 100% 1.0/1 [00:00<00:00, 33.51it/s]\n",
            "sip-4.18.1           | : 100% 1.0/1 [00:00<00:00, 15.82it/s]\n",
            "six-1.15.0           | : 100% 1.0/1 [00:00<00:00, 39.36it/s]\n",
            "termcolor-1.1.0      | : 100% 1.0/1 [00:00<00:00, 41.06it/s]\n",
            "testpath-0.4.4       | : 100% 1.0/1 [00:00<00:00, 30.09it/s]\n",
            "tqdm-4.46.0          | : 100% 1.0/1 [00:00<00:00, 29.40it/s]\n",
            "wcwidth-0.1.9        | : 100% 1.0/1 [00:00<00:00, 31.40it/s]\n",
            "webencodings-0.5.1   | : 100% 1.0/1 [00:00<00:00,  3.05it/s]\n",
            "werkzeug-1.0.1       | : 100% 1.0/1 [00:00<00:00, 14.43it/s]\n",
            "zipp-3.1.0           | : 100% 1.0/1 [00:00<00:00,  3.34it/s]\n",
            "absl-py-0.9.0        | : 100% 1.0/1 [00:00<00:00, 14.72it/s]\n",
            "asn1crypto-1.3.0     | : 100% 1.0/1 [00:00<00:00,  5.57it/s]               \n",
            "boost-1.63.0         | : 100% 1.0/1 [00:08<00:00,  8.03s/it]\n",
            "certifi-2020.4.5.1   | : 100% 1.0/1 [00:00<00:00, 16.77it/s]\n",
            "cffi-1.14.0          | : 100% 1.0/1 [00:00<00:00, 11.77it/s]\n",
            "chardet-3.0.4        | : 100% 1.0/1 [00:00<00:00, 13.40it/s]\n",
            "conda-package-handli | : 100% 1.0/1 [00:00<00:00,  4.94it/s]\n",
            "cycler-0.10.0        | : 100% 1.0/1 [00:00<00:00, 30.76it/s]\n",
            "cython-0.29.19       | : 100% 1.0/1 [00:00<00:00,  2.47it/s]\n",
            "entrypoints-0.3      | : 100% 1.0/1 [00:00<00:00, 30.68it/s]\n",
            "html5lib-0.9999999   | : 100% 1.0/1 [00:00<00:00, 15.67it/s]\n",
            "importlib-metadata-1 | : 100% 1.0/1 [00:00<00:00, 29.88it/s]\n",
            "jedi-0.17.0          | : 100% 1.0/1 [00:00<00:00,  3.26it/s]\n",
            "kiwisolver-1.2.0     | : 100% 1.0/1 [00:00<00:00, 25.58it/s]\n",
            "llvmlite-0.32.0      | : 100% 1.0/1 [00:00<00:00, 12.15it/s]\n",
            "markupsafe-1.1.1     | : 100% 1.0/1 [00:00<00:00, 24.06it/s]\n",
            "mistune-0.8.4        | : 100% 1.0/1 [00:00<00:00, 23.52it/s]\n",
            "mock-4.0.2           | : 100% 1.0/1 [00:00<00:00, 29.06it/s]\n",
            "packaging-20.4       | : 100% 1.0/1 [00:00<00:00, 34.87it/s]\n",
            "pexpect-4.8.0        | : 100% 1.0/1 [00:00<00:00, 24.02it/s]\n",
            "pickleshare-0.7.5    | : 100% 1.0/1 [00:00<00:00, 32.84it/s]\n",
            "pillow-5.0.0         | : 100% 1.0/1 [00:00<00:00,  5.58it/s]\n",
            "pycosat-0.6.3        | : 100% 1.0/1 [00:00<00:00, 24.08it/s]\n",
            "pyrsistent-0.16.0    | : 100% 1.0/1 [00:00<00:00, 19.54it/s]\n",
            "pysocks-1.7.1        | : 100% 1.0/1 [00:00<00:00, 27.15it/s]\n",
            "python-dateutil-2.8. | : 100% 1.0/1 [00:00<00:00, 18.00it/s]\n",
            "pyyaml-5.3.1         | : 100% 1.0/1 [00:00<00:00, 17.20it/s]\n",
            "pyzmq-19.0.1         | : 100% 1.0/1 [00:00<00:00,  7.73it/s]\n",
            "qt-5.6.2             | : 100% 1.0/1 [00:01<00:00,  1.52s/it]               \n",
            "ruamel_yaml-0.15.80  | : 100% 1.0/1 [00:00<00:00, 12.92it/s]\n",
            "scipy-1.1.0          | : 100% 1.0/1 [00:05<00:00,  5.87s/it]\n",
            "simplejson-3.17.0    | : 100% 1.0/1 [00:00<00:00, 16.92it/s]\n",
            "tornado-6.0.4        | : 100% 1.0/1 [00:00<00:00,  6.16it/s]\n",
            "traitlets-4.3.3      | : 100% 1.0/1 [00:00<00:00,  2.60it/s]                \n",
            "bleach-1.5.0         | : 100% 1.0/1 [00:00<00:00, 30.62it/s]\n",
            "cryptography-2.5     | : 100% 1.0/1 [00:00<00:00,  6.25it/s]\n",
            "importlib_metadata-1 | : 100% 1.0/1 [00:00<00:00, 40.04it/s]\n",
            "jupyter_core-4.6.3   | : 100% 1.0/1 [00:00<00:00, 18.85it/s]\n",
            "markdown-3.2.2       | : 100% 1.0/1 [00:00<00:00, 26.58it/s]\n",
            "openmm-7.4.2         | : 100% 1.0/1 [00:06<00:00,  6.47s/it]\n",
            "pandas-0.22.0        | : 100% 1.0/1 [00:04<00:00,  4.11s/it]\n",
            "patsy-0.5.1          | : 100% 1.0/1 [00:00<00:00, 15.86it/s]\n",
            "pyqt-5.6.0           | : 100% 1.0/1 [00:01<00:00,  1.08s/it]\n",
            "scikit-learn-0.19.1  | : 100% 1.0/1 [00:02<00:00,  2.05s/it]\n",
            "setuptools-47.1.1    | : 100% 1.0/1 [00:00<00:00,  1.24it/s]\n",
            "terminado-0.8.3      | : 100% 1.0/1 [00:00<00:00, 31.08it/s]\n",
            "xgboost-0.6a2        | : 100% 1.0/1 [00:00<00:00,  4.26it/s]\n",
            "anyconfig-0.9.10     | : 100% 1.0/1 [00:00<00:00, 27.28it/s]\n",
            "grpcio-1.16.0        | : 100% 1.0/1 [00:00<00:00,  5.05it/s]\n",
            "jinja2-2.11.2        | : 100% 1.0/1 [00:00<00:00, 19.52it/s]\n",
            "jsonschema-3.2.0     | : 100% 1.0/1 [00:00<00:00, 16.17it/s]\n",
            "jupyter_client-6.1.3 | : 100% 1.0/1 [00:00<00:00, 21.76it/s]\n",
            "matplotlib-2.2.2     | : 100% 1.0/1 [00:00<00:00,  5.23it/s]\n",
            "networkx-2.1         | : 100% 1.0/1 [00:00<00:00,  4.42it/s]\n",
            "numba-0.49.1         | : 100% 1.0/1 [00:00<00:00,  1.28it/s]\n",
            "numexpr-2.7.1        | : 100% 1.0/1 [00:00<00:00, 15.60it/s]\n",
            "pdbfixer-1.4         | : 100% 1.0/1 [00:01<00:00,  1.82s/it]\n",
            "pluggy-0.13.1        | : 100% 1.0/1 [00:00<00:00, 26.75it/s]\n",
            "protobuf-3.12.1      | : 100% 1.0/1 [00:00<00:00,  5.13it/s]\n",
            "pygments-2.6.1       | : 100% 1.0/1 [00:00<00:00,  5.99it/s]\n",
            "pyopenssl-19.0.0     | : 100% 1.0/1 [00:00<00:00, 12.37it/s]\n",
            "rdkit-2017.09.1      | : 100% 1.0/1 [00:07<00:00,  7.05s/it]\n",
            "statsmodels-0.10.2   | : 100% 1.0/1 [00:01<00:00,  1.69s/it]\n",
            "wheel-0.34.2         | : 100% 1.0/1 [00:00<00:00, 29.30it/s]\n",
            "molvs-0.1.1          | : 100% 1.0/1 [00:00<00:00, 31.58it/s]\n",
            "mordred-1.2.0        | : 100% 1.0/1 [00:00<00:00, 17.31it/s]\n",
            "nbformat-5.0.6       | : 100% 1.0/1 [00:00<00:00, 21.41it/s]\n",
            "pip-20.1.1           | : 100% 1.0/1 [00:00<00:00,  4.26it/s]\n",
            "prompt-toolkit-3.0.5 | : 100% 1.0/1 [00:00<00:00, 11.93it/s]\n",
            "pytables-3.6.1       | : 100% 1.0/1 [00:00<00:00,  3.33it/s]\n",
            "pytest-5.4.2         | : 100% 1.0/1 [00:00<00:00,  8.04it/s]\n",
            "seaborn-0.10.0       | : 100% 1.0/1 [00:00<00:00, 17.97it/s]\n",
            "simdna-0.4.2         | : 100% 1.0/1 [00:02<00:00,  2.23s/it]\n",
            "swagger-spec-validat | : 100% 1.0/1 [00:00<00:00, 30.11it/s]\n",
            "tensorboard-1.6.0    | : 100% 1.0/1 [00:00<00:00,  3.07it/s]\n",
            "tensorflow-gpu-base- | : 100% 1.0/1 [00:04<00:00,  4.31s/it]               \n",
            "umap-learn-0.4.2     | : 100% 1.0/1 [00:00<00:00, 15.96it/s]\n",
            "urllib3-1.22         | : 100% 1.0/1 [00:00<00:00, 11.44it/s]\n",
            "bravado-core-5.16.0  | : 100% 1.0/1 [00:00<00:00, 12.90it/s]\n",
            "ipython-7.15.0       | : 100% 1.0/1 [00:00<00:00,  3.12it/s]\n",
            "mdtraj-1.9.1         | : 100% 1.0/1 [00:04<00:00,  4.32s/it]\n",
            "nbconvert-5.6.1      | : 100% 1.0/1 [00:00<00:00,  7.45it/s]\n",
            "prompt_toolkit-3.0.5 | : 100% 1.0/1 [00:00<00:00, 35.76it/s]\n",
            "requests-2.18.4      | : 100% 1.0/1 [00:00<00:00, 24.71it/s]\n",
            "tensorflow-gpu-1.6.0 | : 100% 1.0/1 [00:00<00:00, 27.88it/s]\n",
            "bravado-10.4.3       | : 100% 1.0/1 [00:00<00:00, 34.33it/s]\n",
            "conda-4.8.3          | : 100% 1.0/1 [00:00<00:00,  1.86it/s]\n",
            "ipykernel-5.3.0      | : 100% 1.0/1 [00:00<00:00, 13.00it/s]\n",
            "jupyter_console-6.1. | : 100% 1.0/1 [00:00<00:00, 35.02it/s]\n",
            "notebook-6.0.3       | : 100% 1.0/1 [00:01<00:00,  1.20s/it]\n",
            "qtconsole-4.7.4      | : 100% 1.0/1 [00:00<00:00, 19.99it/s]\n",
            "widgetsnbextension-3 | : 100% 1.0/1 [00:00<00:00,  2.69it/s]\n",
            "ipywidgets-7.5.1     | : 100% 1.0/1 [00:00<00:00, 21.64it/s]\n",
            "jupyter-1.0.0        | : 100% 1.0/1 [00:00<00:00, 42.52it/s]\n",
            "deepchem-gpu-2.1.0   | : 100% 1.0/1 [00:02<00:00,  2.96s/it]\n",
            "Preparing transaction: - \b\b\\ \b\b| \b\b/ \b\b- \b\b\\ \b\b| \b\b/ \b\b- \b\b\\ \b\b| \b\b/ \b\b- \b\b\\ \b\b| \b\b/ \b\b- \b\b\\ \b\bdone\n",
            "Verifying transaction: / \b\b- \b\b\\ \b\b| \b\b/ \b\b- \b\b\\ \b\b| \b\b/ \b\b- \b\b\\ \b\b| \b\b/ \b\b- \b\b\\ \b\b| \b\b/ \b\b- \b\b\\ \b\b| \b\b/ \b\b- \b\b\\ \b\b| \b\b/ \b\b- \b\b\\ \b\b| \b\b/ \b\b- \b\b\\ \b\b| \b\b/ \b\b- \b\b\\ \b\b| \b\b/ \b\b- \b\b\\ \b\b| \b\b/ \b\b- \b\b\\ \b\b| \b\b/ \b\b- \b\b\\ \b\b| \b\b/ \b\b- \b\b\\ \b\b| \b\b/ \b\b- \b\b\\ \b\b| \b\b/ \b\b- \b\b\\ \b\b| \b\b/ \b\b- \b\b\\ \b\b| \b\b/ \b\b- \b\b\\ \b\b| \b\b/ \b\b- \b\b\\ \b\b| \b\b/ \b\b- \b\bdone\n",
            "Executing transaction: | \b\b/ \b\b- \b\b\\ \b\b| \b\b/ \b\b- \b\b\\ \b\b| \b\b/ \b\b- \b\b\\ \b\b| \b\b/ \b\b- \b\b\\ \b\b| \b\b/ \b\b- \b\b\\ \b\b| \b\b/ \b\b- \b\b\\ \b\b| \b\b/ \b\b- \b\b\\ \b\b| \b\b/ Enabling notebook extension jupyter-js-widgets/extension...\n",
            "Paths used for configuration of notebook: \n",
            "    \t/content/AMPL/etc/jupyter/nbconfig/notebook.d/widgetsnbextension.json\n",
            "    \t/content/AMPL/etc/jupyter/nbconfig/notebook.json\n",
            "Paths used for configuration of notebook: \n",
            "    \t/content/AMPL/etc/jupyter/nbconfig/notebook.d/widgetsnbextension.json\n",
            "      - Validating: \u001b[32mOK\u001b[0m\n",
            "Paths used for configuration of notebook: \n",
            "    \t/content/AMPL/etc/jupyter/nbconfig/notebook.d/widgetsnbextension.json\n",
            "    \t/content/AMPL/etc/jupyter/nbconfig/notebook.json\n",
            "\n",
            "\b\b- \b\b\\ \b\b| \b\b/ \b\b- \b\b\\ \b\b| \b\b/ \b\b- \b\b\\ \b\b| \b\b/ \b\b- \b\b\\ \b\b| \b\b/ \b\b- \b\b\\ \b\b| \b\b/ \b\b- \b\b\\ \b\b| \b\b/ \b\b- \b\b\\ \b\b| \b\b/ \b\b- \b\b\\ \b\b| \b\b/ \b\b- \b\b\\ \b\b| \b\b/ \b\b- \b\b\\ \b\b| \b\b/ \b\b- \b\b\\ \b\b| \b\b/ \b\b- \b\b\\ \b\b| \b\b/ \b\bdone\n",
            "Cloning into 'AMPL'...\n",
            "remote: Enumerating objects: 243, done.\u001b[K\n",
            "remote: Counting objects: 100% (243/243), done.\u001b[K\n",
            "remote: Compressing objects: 100% (128/128), done.\u001b[K\n",
            "remote: Total 1763 (delta 184), reused 144 (delta 115), pack-reused 1520\u001b[K\n",
            "Receiving objects: 100% (1763/1763), 9.59 MiB | 6.67 MiB/s, done.\n",
            "Resolving deltas: 100% (1005/1005), done.\n",
            "patching file /content/github/AMPL/atomsci/ddm/pipeline/transformations.py\n",
            "patching file /content/github/AMPL/atomsci/ddm/__init__.py\n",
            "running build\n",
            "running build_py\n",
            "creating /content/github/AMPL.build/ampl/lib\n",
            "creating /content/github/AMPL.build/ampl/lib/atomsci\n",
            "copying atomsci/__init__.py -> /content/github/AMPL.build/ampl/lib/atomsci\n",
            "creating /content/github/AMPL.build/ampl/lib/atomsci/ddm\n",
            "copying atomsci/ddm/__init__.py -> /content/github/AMPL.build/ampl/lib/atomsci/ddm\n",
            "creating /content/github/AMPL.build/ampl/lib/atomsci/ddm/utils\n",
            "copying atomsci/ddm/utils/llnl_utils.py -> /content/github/AMPL.build/ampl/lib/atomsci/ddm/utils\n",
            "copying atomsci/ddm/utils/datastore_functions.py -> /content/github/AMPL.build/ampl/lib/atomsci/ddm/utils\n",
            "copying atomsci/ddm/utils/curate_data.py -> /content/github/AMPL.build/ampl/lib/atomsci/ddm/utils\n",
            "copying atomsci/ddm/utils/process_slurm.py -> /content/github/AMPL.build/ampl/lib/atomsci/ddm/utils\n",
            "copying atomsci/ddm/utils/genTestset.py -> /content/github/AMPL.build/ampl/lib/atomsci/ddm/utils\n",
            "copying atomsci/ddm/utils/__init__.py -> /content/github/AMPL.build/ampl/lib/atomsci/ddm/utils\n",
            "copying atomsci/ddm/utils/struct_utils.py -> /content/github/AMPL.build/ampl/lib/atomsci/ddm/utils\n",
            "copying atomsci/ddm/utils/rdkit_easy.py -> /content/github/AMPL.build/ampl/lib/atomsci/ddm/utils\n",
            "copying atomsci/ddm/utils/pubchem_utils.py -> /content/github/AMPL.build/ampl/lib/atomsci/ddm/utils\n",
            "copying atomsci/ddm/utils/hyperparam_search_wrapper.py -> /content/github/AMPL.build/ampl/lib/atomsci/ddm/utils\n",
            "copying atomsci/ddm/utils/data_curation_functions.py -> /content/github/AMPL.build/ampl/lib/atomsci/ddm/utils\n",
            "copying atomsci/ddm/utils/open-docs.py -> /content/github/AMPL.build/ampl/lib/atomsci/ddm/utils\n",
            "creating /content/github/AMPL.build/ampl/lib/atomsci/ddm/pipeline\n",
            "copying atomsci/ddm/pipeline/splitting.py -> /content/github/AMPL.build/ampl/lib/atomsci/ddm/pipeline\n",
            "copying atomsci/ddm/pipeline/ave_splitter.py -> /content/github/AMPL.build/ampl/lib/atomsci/ddm/pipeline\n",
            "copying atomsci/ddm/pipeline/parameter_parser.py -> /content/github/AMPL.build/ampl/lib/atomsci/ddm/pipeline\n",
            "copying atomsci/ddm/pipeline/perf_data.py -> /content/github/AMPL.build/ampl/lib/atomsci/ddm/pipeline\n",
            "copying atomsci/ddm/pipeline/featurization.py -> /content/github/AMPL.build/ampl/lib/atomsci/ddm/pipeline\n",
            "copying atomsci/ddm/pipeline/model_pipeline.py -> /content/github/AMPL.build/ampl/lib/atomsci/ddm/pipeline\n",
            "copying atomsci/ddm/pipeline/compare_models.py -> /content/github/AMPL.build/ampl/lib/atomsci/ddm/pipeline\n",
            "copying atomsci/ddm/pipeline/transformations.py -> /content/github/AMPL.build/ampl/lib/atomsci/ddm/pipeline\n",
            "copying atomsci/ddm/pipeline/model_tracker.py -> /content/github/AMPL.build/ampl/lib/atomsci/ddm/pipeline\n",
            "copying atomsci/ddm/pipeline/__init__.py -> /content/github/AMPL.build/ampl/lib/atomsci/ddm/pipeline\n",
            "copying atomsci/ddm/pipeline/hyper_perf_plots.py -> /content/github/AMPL.build/ampl/lib/atomsci/ddm/pipeline\n",
            "copying atomsci/ddm/pipeline/diversity_plots.py -> /content/github/AMPL.build/ampl/lib/atomsci/ddm/pipeline\n",
            "copying atomsci/ddm/pipeline/model_datasets.py -> /content/github/AMPL.build/ampl/lib/atomsci/ddm/pipeline\n",
            "copying atomsci/ddm/pipeline/perf_plots.py -> /content/github/AMPL.build/ampl/lib/atomsci/ddm/pipeline\n",
            "copying atomsci/ddm/pipeline/temporal_splitter.py -> /content/github/AMPL.build/ampl/lib/atomsci/ddm/pipeline\n",
            "copying atomsci/ddm/pipeline/dist_metrics.py -> /content/github/AMPL.build/ampl/lib/atomsci/ddm/pipeline\n",
            "copying atomsci/ddm/pipeline/predict_from_model.py -> /content/github/AMPL.build/ampl/lib/atomsci/ddm/pipeline\n",
            "copying atomsci/ddm/pipeline/chem_diversity.py -> /content/github/AMPL.build/ampl/lib/atomsci/ddm/pipeline\n",
            "copying atomsci/ddm/pipeline/model_wrapper.py -> /content/github/AMPL.build/ampl/lib/atomsci/ddm/pipeline\n",
            "running egg_info\n",
            "creating /content/github/AMPL.build/ampl/atomsci_ampl.egg-info\n",
            "writing /content/github/AMPL.build/ampl/atomsci_ampl.egg-info/PKG-INFO\n",
            "writing dependency_links to /content/github/AMPL.build/ampl/atomsci_ampl.egg-info/dependency_links.txt\n",
            "writing namespace_packages to /content/github/AMPL.build/ampl/atomsci_ampl.egg-info/namespace_packages.txt\n",
            "writing top-level names to /content/github/AMPL.build/ampl/atomsci_ampl.egg-info/top_level.txt\n",
            "writing manifest file '/content/github/AMPL.build/ampl/atomsci_ampl.egg-info/SOURCES.txt'\n",
            "reading manifest file '/content/github/AMPL.build/ampl/atomsci_ampl.egg-info/SOURCES.txt'\n",
            "reading manifest template 'MANIFEST.in'\n",
            "warning: no files found matching 'atomsci/*/*.yaml'\n",
            "writing manifest file '/content/github/AMPL.build/ampl/atomsci_ampl.egg-info/SOURCES.txt'\n",
            "creating /content/github/AMPL.build/ampl/lib/atomsci/ddm/data\n",
            "copying atomsci/ddm/data/descriptor_sets_sources_by_descr_type.csv -> /content/github/AMPL.build/ampl/lib/atomsci/ddm/data\n",
            "running bdist_wheel\n",
            "installing to /content/github/AMPL.build/ampl/bdist.linux-x86_64/wheel\n",
            "running install\n",
            "running install_lib\n",
            "Skipping installation of /content/github/AMPL.build/ampl/bdist.linux-x86_64/wheel/atomsci/__init__.py (namespace package)\n",
            "copying atomsci/ddm/__init__.py -> /content/github/AMPL.build/ampl/bdist.linux-x86_64/wheel/atomsci/ddm\n",
            "copying atomsci/ddm/utils/llnl_utils.py -> /content/github/AMPL.build/ampl/bdist.linux-x86_64/wheel/atomsci/ddm/utils\n",
            "copying atomsci/ddm/utils/datastore_functions.py -> /content/github/AMPL.build/ampl/bdist.linux-x86_64/wheel/atomsci/ddm/utils\n",
            "copying atomsci/ddm/utils/curate_data.py -> /content/github/AMPL.build/ampl/bdist.linux-x86_64/wheel/atomsci/ddm/utils\n",
            "copying atomsci/ddm/utils/process_slurm.py -> /content/github/AMPL.build/ampl/bdist.linux-x86_64/wheel/atomsci/ddm/utils\n",
            "copying atomsci/ddm/utils/genTestset.py -> /content/github/AMPL.build/ampl/bdist.linux-x86_64/wheel/atomsci/ddm/utils\n",
            "copying atomsci/ddm/utils/__init__.py -> /content/github/AMPL.build/ampl/bdist.linux-x86_64/wheel/atomsci/ddm/utils\n",
            "copying atomsci/ddm/utils/struct_utils.py -> /content/github/AMPL.build/ampl/bdist.linux-x86_64/wheel/atomsci/ddm/utils\n",
            "copying atomsci/ddm/utils/rdkit_easy.py -> /content/github/AMPL.build/ampl/bdist.linux-x86_64/wheel/atomsci/ddm/utils\n",
            "copying atomsci/ddm/utils/pubchem_utils.py -> /content/github/AMPL.build/ampl/bdist.linux-x86_64/wheel/atomsci/ddm/utils\n",
            "copying atomsci/ddm/utils/hyperparam_search_wrapper.py -> /content/github/AMPL.build/ampl/bdist.linux-x86_64/wheel/atomsci/ddm/utils\n",
            "copying atomsci/ddm/utils/data_curation_functions.py -> /content/github/AMPL.build/ampl/bdist.linux-x86_64/wheel/atomsci/ddm/utils\n",
            "copying atomsci/ddm/utils/open-docs.py -> /content/github/AMPL.build/ampl/bdist.linux-x86_64/wheel/atomsci/ddm/utils\n",
            "copying atomsci/ddm/data/descriptor_sets_sources_by_descr_type.csv -> /content/github/AMPL.build/ampl/bdist.linux-x86_64/wheel/atomsci/ddm/data\n",
            "copying atomsci/ddm/pipeline/splitting.py -> /content/github/AMPL.build/ampl/bdist.linux-x86_64/wheel/atomsci/ddm/pipeline\n",
            "copying atomsci/ddm/pipeline/ave_splitter.py -> /content/github/AMPL.build/ampl/bdist.linux-x86_64/wheel/atomsci/ddm/pipeline\n",
            "copying atomsci/ddm/pipeline/parameter_parser.py -> /content/github/AMPL.build/ampl/bdist.linux-x86_64/wheel/atomsci/ddm/pipeline\n",
            "copying atomsci/ddm/pipeline/perf_data.py -> /content/github/AMPL.build/ampl/bdist.linux-x86_64/wheel/atomsci/ddm/pipeline\n",
            "copying atomsci/ddm/pipeline/featurization.py -> /content/github/AMPL.build/ampl/bdist.linux-x86_64/wheel/atomsci/ddm/pipeline\n",
            "copying atomsci/ddm/pipeline/model_pipeline.py -> /content/github/AMPL.build/ampl/bdist.linux-x86_64/wheel/atomsci/ddm/pipeline\n",
            "copying atomsci/ddm/pipeline/compare_models.py -> /content/github/AMPL.build/ampl/bdist.linux-x86_64/wheel/atomsci/ddm/pipeline\n",
            "copying atomsci/ddm/pipeline/transformations.py -> /content/github/AMPL.build/ampl/bdist.linux-x86_64/wheel/atomsci/ddm/pipeline\n",
            "copying atomsci/ddm/pipeline/model_tracker.py -> /content/github/AMPL.build/ampl/bdist.linux-x86_64/wheel/atomsci/ddm/pipeline\n",
            "copying atomsci/ddm/pipeline/__init__.py -> /content/github/AMPL.build/ampl/bdist.linux-x86_64/wheel/atomsci/ddm/pipeline\n",
            "copying atomsci/ddm/pipeline/hyper_perf_plots.py -> /content/github/AMPL.build/ampl/bdist.linux-x86_64/wheel/atomsci/ddm/pipeline\n",
            "copying atomsci/ddm/pipeline/diversity_plots.py -> /content/github/AMPL.build/ampl/bdist.linux-x86_64/wheel/atomsci/ddm/pipeline\n",
            "copying atomsci/ddm/pipeline/model_datasets.py -> /content/github/AMPL.build/ampl/bdist.linux-x86_64/wheel/atomsci/ddm/pipeline\n",
            "copying atomsci/ddm/pipeline/perf_plots.py -> /content/github/AMPL.build/ampl/bdist.linux-x86_64/wheel/atomsci/ddm/pipeline\n",
            "copying atomsci/ddm/pipeline/temporal_splitter.py -> /content/github/AMPL.build/ampl/bdist.linux-x86_64/wheel/atomsci/ddm/pipeline\n",
            "copying atomsci/ddm/pipeline/dist_metrics.py -> /content/github/AMPL.build/ampl/bdist.linux-x86_64/wheel/atomsci/ddm/pipeline\n",
            "copying atomsci/ddm/pipeline/predict_from_model.py -> /content/github/AMPL.build/ampl/bdist.linux-x86_64/wheel/atomsci/ddm/pipeline\n",
            "copying atomsci/ddm/pipeline/chem_diversity.py -> /content/github/AMPL.build/ampl/bdist.linux-x86_64/wheel/atomsci/ddm/pipeline\n",
            "copying atomsci/ddm/pipeline/model_wrapper.py -> /content/github/AMPL.build/ampl/bdist.linux-x86_64/wheel/atomsci/ddm/pipeline\n",
            "running install_egg_info\n",
            "Copying /content/github/AMPL.build/ampl/atomsci_ampl.egg-info to /content/github/AMPL.build/ampl/bdist.linux-x86_64/wheel/atomsci_ampl-1.0.0.dev1-py3.6.egg-info\n",
            "Installing /content/github/AMPL.build/ampl/bdist.linux-x86_64/wheel/atomsci_ampl-1.0.0.dev1-py3.6-nspkg.pth\n",
            "running install_scripts\n",
            "adding license file \"LICENSE\" (matched pattern \"LICEN[CS]E*\")\n",
            "adding license file \"NOTICE\" (matched pattern \"NOTICE*\")\n",
            "creating /content/github/AMPL.build/ampl/bdist.linux-x86_64/wheel/atomsci_ampl-1.0.0.dev1.dist-info/WHEEL\n",
            "creating '/content/github/AMPL.dist/atomsci_ampl-1.0.0.dev1-py3-none-any.whl' and adding '/content/github/AMPL.build/ampl/bdist.linux-x86_64/wheel' to it\n",
            "adding 'atomsci_ampl-1.0.0.dev1-py3.6-nspkg.pth'\n",
            "adding 'atomsci/ddm/__init__.py'\n",
            "adding 'atomsci/ddm/data/descriptor_sets_sources_by_descr_type.csv'\n",
            "adding 'atomsci/ddm/pipeline/__init__.py'\n",
            "adding 'atomsci/ddm/pipeline/ave_splitter.py'\n",
            "adding 'atomsci/ddm/pipeline/chem_diversity.py'\n",
            "adding 'atomsci/ddm/pipeline/compare_models.py'\n",
            "adding 'atomsci/ddm/pipeline/dist_metrics.py'\n",
            "adding 'atomsci/ddm/pipeline/diversity_plots.py'\n",
            "adding 'atomsci/ddm/pipeline/featurization.py'\n",
            "adding 'atomsci/ddm/pipeline/hyper_perf_plots.py'\n",
            "adding 'atomsci/ddm/pipeline/model_datasets.py'\n",
            "adding 'atomsci/ddm/pipeline/model_pipeline.py'\n",
            "adding 'atomsci/ddm/pipeline/model_tracker.py'\n",
            "adding 'atomsci/ddm/pipeline/model_wrapper.py'\n",
            "adding 'atomsci/ddm/pipeline/parameter_parser.py'\n",
            "adding 'atomsci/ddm/pipeline/perf_data.py'\n",
            "adding 'atomsci/ddm/pipeline/perf_plots.py'\n",
            "adding 'atomsci/ddm/pipeline/predict_from_model.py'\n",
            "adding 'atomsci/ddm/pipeline/splitting.py'\n",
            "adding 'atomsci/ddm/pipeline/temporal_splitter.py'\n",
            "adding 'atomsci/ddm/pipeline/transformations.py'\n",
            "adding 'atomsci/ddm/utils/__init__.py'\n",
            "adding 'atomsci/ddm/utils/curate_data.py'\n",
            "adding 'atomsci/ddm/utils/data_curation_functions.py'\n",
            "adding 'atomsci/ddm/utils/datastore_functions.py'\n",
            "adding 'atomsci/ddm/utils/genTestset.py'\n",
            "adding 'atomsci/ddm/utils/hyperparam_search_wrapper.py'\n",
            "adding 'atomsci/ddm/utils/llnl_utils.py'\n",
            "adding 'atomsci/ddm/utils/open-docs.py'\n",
            "adding 'atomsci/ddm/utils/process_slurm.py'\n",
            "adding 'atomsci/ddm/utils/pubchem_utils.py'\n",
            "adding 'atomsci/ddm/utils/rdkit_easy.py'\n",
            "adding 'atomsci/ddm/utils/struct_utils.py'\n",
            "adding 'atomsci_ampl-1.0.0.dev1.dist-info/LICENSE'\n",
            "adding 'atomsci_ampl-1.0.0.dev1.dist-info/METADATA'\n",
            "adding 'atomsci_ampl-1.0.0.dev1.dist-info/NOTICE'\n",
            "adding 'atomsci_ampl-1.0.0.dev1.dist-info/WHEEL'\n",
            "adding 'atomsci_ampl-1.0.0.dev1.dist-info/namespace_packages.txt'\n",
            "adding 'atomsci_ampl-1.0.0.dev1.dist-info/top_level.txt'\n",
            "adding 'atomsci_ampl-1.0.0.dev1.dist-info/RECORD'\n",
            "removing /content/github/AMPL.build/ampl/bdist.linux-x86_64/wheel\n",
            "DIR: /content/github/AMPL\n",
            "Non-user install because site-packages writeable\n",
            "Ignoring indexes: https://pypi.org/simple\n",
            "Created temporary directory: /tmp/pip-ephem-wheel-cache-y3kjia5w\n",
            "Created temporary directory: /tmp/pip-req-tracker-g15fgfdm\n",
            "Initialized build tracking at /tmp/pip-req-tracker-g15fgfdm\n",
            "Created build tracker: /tmp/pip-req-tracker-g15fgfdm\n",
            "Entered build tracker: /tmp/pip-req-tracker-g15fgfdm\n",
            "Created temporary directory: /tmp/pip-install-sn9hyz0c\n",
            "Looking in links: /content/github/AMPL.dist\n",
            "0 location(s) to search for versions of atomsci-ampl:\n",
            "Skipping link: unsupported archive format: .dist: /content/github/AMPL.dist (from -f)\n",
            "Found link file:///content/github/AMPL.dist/atomsci_ampl-1.0.0.dev1-py3-none-any.whl, version: 1.0.0.dev1\n",
            "Local files found: /content/github/AMPL.dist/atomsci_ampl-1.0.0.dev1-py3-none-any.whl\n",
            "Given no hashes to check 1 links for project 'atomsci-ampl': discarding no candidates\n",
            "Using version 1.0.0.dev1 (newest of versions: 1.0.0.dev1)\n",
            "Processing /content/github/AMPL.dist/atomsci_ampl-1.0.0.dev1-py3-none-any.whl\n",
            "  Added atomsci_ampl from file:///content/github/AMPL.dist/atomsci_ampl-1.0.0.dev1-py3-none-any.whl to build tracker '/tmp/pip-req-tracker-g15fgfdm'\n",
            "  Removed atomsci_ampl from file:///content/github/AMPL.dist/atomsci_ampl-1.0.0.dev1-py3-none-any.whl from build tracker '/tmp/pip-req-tracker-g15fgfdm'\n",
            "Installing collected packages: atomsci-ampl\n",
            "  Created temporary directory: /tmp/pip-unpacked-wheel-g126r5yk\n",
            "\n",
            "Successfully installed atomsci-ampl-1.0.0.dev1\n",
            "Removed build tracker: '/tmp/pip-req-tracker-g15fgfdm'\n",
            "\n",
            "real\t2m40.360s\n",
            "user\t1m29.255s\n",
            "sys\t0m17.010s\n"
          ],
          "name": "stdout"
        },
        {
          "output_type": "execute_result",
          "data": {
            "text/plain": [
              "['',\n",
              " '/content/AMPL/lib/python3.6/site-packages',\n",
              " '/env/python',\n",
              " '/usr/lib/python36.zip',\n",
              " '/usr/lib/python3.6',\n",
              " '/usr/lib/python3.6/lib-dynload',\n",
              " '/usr/local/lib/python3.6/dist-packages',\n",
              " '/usr/lib/python3/dist-packages',\n",
              " '/usr/local/lib/python3.6/dist-packages/IPython/extensions',\n",
              " '/root/.ipython']"
            ]
          },
          "metadata": {
            "tags": []
          },
          "execution_count": 2
        }
      ]
    },
    {
      "cell_type": "markdown",
      "metadata": {
        "id": "4qtjXXtuWZLQ"
      },
      "source": [
        "## Exploring target activity data from selected database\r\n",
        "## Data source = ExcapeDB\r\n",
        "## Target activity for the receptor HTR3A"
      ]
    },
    {
      "cell_type": "code",
      "metadata": {
        "id": "jY36yy5lI9rG"
      },
      "source": [
        "# There is a problem with the previously imported cffi, so delete it and \r\n",
        "# load it with AMPL instead\r\n",
        "if 'cffi' in sys.modules:\r\n",
        "  del sys.modules['cffi']"
      ],
      "execution_count": null,
      "outputs": []
    },
    {
      "cell_type": "code",
      "metadata": {
        "id": "F-c9OaSoJHmG"
      },
      "source": [
        "# We temporarily disable warnings for demonstration.\r\n",
        "# FutureWarnings and DeprecationWarnings are present from some of the AMPL \r\n",
        "# dependency modules.\r\n",
        "import warnings\r\n",
        "warnings.filterwarnings('ignore')\r\n",
        "\r\n",
        "import json\r\n",
        "# import numpy as np\r\n",
        "# import pandas as pd\r\n",
        "import os\r\n",
        "import requests"
      ],
      "execution_count": null,
      "outputs": []
    },
    {
      "cell_type": "code",
      "metadata": {
        "scrolled": false,
        "id": "6r_-HG0aHwsE",
        "colab": {
          "base_uri": "https://localhost:8080/"
        },
        "outputId": "484a54bd-cf6c-460b-f22c-51fd44a863b6"
      },
      "source": [
        "#\n",
        "# Import AMPL libraries\n",
        "# \n",
        "import atomsci.ddm.utils.data_curation_functions as dcf\n",
        "import atomsci.ddm.utils.curate_data as curate_data\n",
        "import atomsci.ddm.pipeline.diversity_plots as dp\n",
        "import atomsci.ddm.pipeline.chem_diversity as cd\n",
        "# Additional python libraries\n",
        "import pandas as pd\n",
        "import numpy as np\n",
        "import getpass,os"
      ],
      "execution_count": null,
      "outputs": [
        {
          "output_type": "stream",
          "text": [
            "/content/AMPL/lib/python3.6/site-packages/sklearn/ensemble/weight_boosting.py:29: DeprecationWarning: numpy.core.umath_tests is an internal NumPy module and should not be imported. It will be removed in a future NumPy release.\n",
            "  from numpy.core.umath_tests import inner1d\n"
          ],
          "name": "stderr"
        }
      ]
    },
    {
      "cell_type": "markdown",
      "metadata": {
        "id": "1X7qQCYVHwsG"
      },
      "source": [
        "## Select a target to work with \n",
        "### (e.g. PDE2A, KCNH2, SCNA5)"
      ]
    },
    {
      "cell_type": "code",
      "metadata": {
        "id": "tkweVTMSHwsG"
      },
      "source": [
        "target_name='HTR3A'"
      ],
      "execution_count": null,
      "outputs": []
    },
    {
      "cell_type": "markdown",
      "metadata": {
        "id": "yCA0PykcHwsH"
      },
      "source": [
        "# Define data locations "
      ]
    },
    {
      "cell_type": "code",
      "metadata": {
        "id": "1SVhXwHgJiZN"
      },
      "source": [
        "# ofile=target_name+'_excape_curated.csv'\r\n",
        "ofile=target_name+'_dtc_smiles.csv'"
      ],
      "execution_count": null,
      "outputs": []
    },
    {
      "cell_type": "markdown",
      "metadata": {
        "id": "f1RXnxhVVcxt"
      },
      "source": [
        "## Note the file `HTR3A_dtc_smiles.csv` was the output from https://github.com/ravichas/AMPL-Tutorial/blob/master/explore_data_dtc_min_viable_one.ipynb notebook"
      ]
    },
    {
      "cell_type": "code",
      "metadata": {
        "id": "bN1KN4sGJjjM"
      },
      "source": [
        "import io\r\n",
        "url = 'https://raw.githubusercontent.com/ravichas/AMPL-Tutorial/master/datasets/HTR3A_dtc_smiles.csv'\r\n",
        "download = requests.get(url).content"
      ],
      "execution_count": null,
      "outputs": []
    },
    {
      "cell_type": "code",
      "metadata": {
        "id": "XBDmluXMKD38"
      },
      "source": [
        "# Reading the downloaded content and turning it into a pandas dataframe\r\n",
        "save_smiles_df = pd.read_csv(io.StringIO(download.decode('utf-8')), sep=',', header=0 )"
      ],
      "execution_count": null,
      "outputs": []
    },
    {
      "cell_type": "code",
      "metadata": {
        "id": "fRw8B47gqtpA"
      },
      "source": [
        "# save_smiles_df.rename( columns={ \"PIC50\" : \"PXC50\" }, inplace=True) "
      ],
      "execution_count": null,
      "outputs": []
    },
    {
      "cell_type": "markdown",
      "metadata": {
        "id": "SWCSjlwyq_HZ"
      },
      "source": [
        "##Check for assay replicates with high measurement variation and flag them "
      ]
    },
    {
      "cell_type": "code",
      "metadata": {
        "colab": {
          "base_uri": "https://localhost:8080/"
        },
        "id": "inaUPauW-BFE",
        "outputId": "aa55ec7c-9505-4e43-ff9b-fb42bd678c4b"
      },
      "source": [
        "import os\r\n",
        "\r\n",
        "# From our dataframe, we are working with the PIC50 column \r\n",
        "data=save_smiles_df\r\n",
        "\r\n",
        "# Here we are defining our response column, which will be PIC50\r\n",
        "column = 'PIC50'\r\n",
        "\r\n",
        "# tolerance: Percentage of individual respsonse values allowed to different from \r\n",
        "# the average to be included in averaging\r\n",
        "tolerance = 10\r\n",
        "\r\n",
        "# list_bad_duplicates: Print structures with bad duplicates\r\n",
        "list_bad_duplicates = 'Yes'\r\n",
        "\r\n",
        "# max_std: Maximum allowed standard deviation for computed average response value\r\n",
        "# NOTE: In this example, we set this value very high to disable this feature\r\n",
        "max_std = 1\r\n",
        "\r\n",
        "# compound_id: Compound ID column\r\n",
        "compound_id = 'standard_inchi_key'\r\n",
        "\r\n",
        "# smiles_col: SMILES column\r\n",
        "smiles_col = 'rdkit_smiles'\r\n",
        "\r\n",
        "# Here we are creating a new dataframe, called check_df\r\n",
        "check_df = curate_data.average_and_remove_duplicates(column, tolerance, \r\n",
        "                                                       list_bad_duplicates, \r\n",
        "                                                       data, max_std, \r\n",
        "                                                       compound_id=compound_id, \r\n",
        "                                                       smiles_col=smiles_col)"
      ],
      "execution_count": null,
      "outputs": [
        {
          "output_type": "stream",
          "text": [
            "Bad duplicates removed from dataset\n",
            "Dataframe size (197, 52)\n",
            "List of 'bad' duplicates removed\n",
            "              standard_inchi_key     PIC50  ...   Perc_Var  VALUE_NUM_std\n",
            "172  FZGWDCDUMFWUEO-UHFFFAOYSA-N  8.159894  ...  11.975455       1.234152\n",
            "173  FZGWDCDUMFWUEO-UHFFFAOYSA-N  6.414539  ...  11.975455       1.234152\n",
            "67   KQKPFRSPSRPDEB-UHFFFAOYSA-N  5.000000  ...  23.262963       2.143606\n",
            "68   KQKPFRSPSRPDEB-UHFFFAOYSA-N  8.031517  ...  23.262963       2.143606\n",
            "\n",
            "[4 rows x 5 columns]\n",
            "\n",
            "Dataset de-duplicated\n",
            "Dataframe size (170, 52)\n",
            "New column created with averaged values:  VALUE_NUM_mean\n"
          ],
          "name": "stdout"
        }
      ]
    },
    {
      "cell_type": "markdown",
      "metadata": {
        "id": "wwWNUc9nsjdT"
      },
      "source": [
        "## Examine the rejected compounds and examine them"
      ]
    },
    {
      "cell_type": "code",
      "metadata": {
        "colab": {
          "base_uri": "https://localhost:8080/",
          "height": 585
        },
        "id": "iimss0y6soSA",
        "outputId": "c11d0af2-2554-4dd9-f468-ab40b89bc961"
      },
      "source": [
        "old_compound_id='rdkit_smiles'\r\n",
        "new_compound_id='rdkit_smiles'\r\n",
        "\r\n",
        "# Takes all the compounds that aren't part of the curated data frame and prints them\r\n",
        "reject=data[~data[old_compound_id].isin(check_df[new_compound_id])]\r\n",
        "reject"
      ],
      "execution_count": null,
      "outputs": [
        {
          "output_type": "execute_result",
          "data": {
            "text/html": [
              "<div>\n",
              "<style scoped>\n",
              "    .dataframe tbody tr th:only-of-type {\n",
              "        vertical-align: middle;\n",
              "    }\n",
              "\n",
              "    .dataframe tbody tr th {\n",
              "        vertical-align: top;\n",
              "    }\n",
              "\n",
              "    .dataframe thead th {\n",
              "        text-align: right;\n",
              "    }\n",
              "</style>\n",
              "<table border=\"1\" class=\"dataframe\">\n",
              "  <thead>\n",
              "    <tr style=\"text-align: right;\">\n",
              "      <th></th>\n",
              "      <th>compound_id</th>\n",
              "      <th>uniprot_id</th>\n",
              "      <th>compound_name</th>\n",
              "      <th>standard_inchi_key</th>\n",
              "      <th>max_phase</th>\n",
              "      <th>target_pref_name</th>\n",
              "      <th>gene_names</th>\n",
              "      <th>target_class</th>\n",
              "      <th>wildtype_or_mutant</th>\n",
              "      <th>mutation_information</th>\n",
              "      <th>pubmed_id</th>\n",
              "      <th>standard_type</th>\n",
              "      <th>standard_relation</th>\n",
              "      <th>standard_value</th>\n",
              "      <th>standard_units</th>\n",
              "      <th>mode_of_action</th>\n",
              "      <th>assay_format</th>\n",
              "      <th>assay_type</th>\n",
              "      <th>assay_sub_type</th>\n",
              "      <th>inhibitor_type</th>\n",
              "      <th>detection_technology</th>\n",
              "      <th>compound_concentration_value</th>\n",
              "      <th>compound_concentration_value_units</th>\n",
              "      <th>substrate_type</th>\n",
              "      <th>substrate_type_standard_relation</th>\n",
              "      <th>substrate_type_standard_value</th>\n",
              "      <th>substrate_type_standard_units</th>\n",
              "      <th>assay_cell_line</th>\n",
              "      <th>assay_description</th>\n",
              "      <th>activity_comments</th>\n",
              "      <th>title</th>\n",
              "      <th>journal</th>\n",
              "      <th>year</th>\n",
              "      <th>volume</th>\n",
              "      <th>issue</th>\n",
              "      <th>authors</th>\n",
              "      <th>annotation_comments</th>\n",
              "      <th>assay_id</th>\n",
              "      <th>dtc_tid</th>\n",
              "      <th>dtc_activity_id</th>\n",
              "      <th>dtc_molregno</th>\n",
              "      <th>record_id</th>\n",
              "      <th>dtc_document_id</th>\n",
              "      <th>PIC50</th>\n",
              "      <th>Unnamed: 0</th>\n",
              "      <th>CID</th>\n",
              "      <th>smiles</th>\n",
              "      <th>rdkit_smiles</th>\n",
              "    </tr>\n",
              "  </thead>\n",
              "  <tbody>\n",
              "    <tr>\n",
              "      <th>67</th>\n",
              "      <td>CHEMBL128</td>\n",
              "      <td>P46098</td>\n",
              "      <td>SUMATRIPTAN</td>\n",
              "      <td>KQKPFRSPSRPDEB-UHFFFAOYSA-N</td>\n",
              "      <td>4</td>\n",
              "      <td>SEROTONIN 3A (5-HT3A) RECEPTOR</td>\n",
              "      <td>HTR3A</td>\n",
              "      <td>Ion channel</td>\n",
              "      <td>NaN</td>\n",
              "      <td>NaN</td>\n",
              "      <td>7752204.0</td>\n",
              "      <td>IC50</td>\n",
              "      <td>&gt;</td>\n",
              "      <td>10000.00</td>\n",
              "      <td>NM</td>\n",
              "      <td>NaN</td>\n",
              "      <td>NaN</td>\n",
              "      <td>NaN</td>\n",
              "      <td>NaN</td>\n",
              "      <td>NaN</td>\n",
              "      <td>NaN</td>\n",
              "      <td>NaN</td>\n",
              "      <td>NaN</td>\n",
              "      <td>NaN</td>\n",
              "      <td>NaN</td>\n",
              "      <td>NaN</td>\n",
              "      <td>NaN</td>\n",
              "      <td>NaN</td>\n",
              "      <td>Binding activity radioligand.</td>\n",
              "      <td>NaN</td>\n",
              "      <td>Synthesis and serotonergic activity of N,N-dim...</td>\n",
              "      <td>J. Med. Chem.</td>\n",
              "      <td>1995.0</td>\n",
              "      <td>38.0</td>\n",
              "      <td>10.0</td>\n",
              "      <td>Street LJ, Baker R, Davey WB, Guiblin AR, Jell...</td>\n",
              "      <td>NaN</td>\n",
              "      <td>3126.0</td>\n",
              "      <td>DTCT0023221</td>\n",
              "      <td>520894</td>\n",
              "      <td>DTCC00154636</td>\n",
              "      <td>658692</td>\n",
              "      <td>13017</td>\n",
              "      <td>5.000000</td>\n",
              "      <td>110</td>\n",
              "      <td>5358</td>\n",
              "      <td>CNS(=O)(=O)CC1=CC2=C(C=C1)NC=C2CCN(C)C</td>\n",
              "      <td>CNS(=O)(=O)Cc1ccc2[nH]cc(CCN(C)C)c2c1</td>\n",
              "    </tr>\n",
              "    <tr>\n",
              "      <th>68</th>\n",
              "      <td>CHEMBL128</td>\n",
              "      <td>P46098</td>\n",
              "      <td>SUMATRIPTAN</td>\n",
              "      <td>KQKPFRSPSRPDEB-UHFFFAOYSA-N</td>\n",
              "      <td>4</td>\n",
              "      <td>SEROTONIN 3A (5-HT3A) RECEPTOR</td>\n",
              "      <td>HTR3A</td>\n",
              "      <td>Ion channel</td>\n",
              "      <td>NaN</td>\n",
              "      <td>NaN</td>\n",
              "      <td>9357515.0</td>\n",
              "      <td>IC50</td>\n",
              "      <td>=</td>\n",
              "      <td>9.30</td>\n",
              "      <td>NM</td>\n",
              "      <td>NaN</td>\n",
              "      <td>NaN</td>\n",
              "      <td>NaN</td>\n",
              "      <td>NaN</td>\n",
              "      <td>NaN</td>\n",
              "      <td>NaN</td>\n",
              "      <td>NaN</td>\n",
              "      <td>NaN</td>\n",
              "      <td>NaN</td>\n",
              "      <td>NaN</td>\n",
              "      <td>NaN</td>\n",
              "      <td>NaN</td>\n",
              "      <td>NaN</td>\n",
              "      <td>Compound was evaluated for the affinity at 5-h...</td>\n",
              "      <td>NaN</td>\n",
              "      <td>Selective, orally active 5-HT1D receptor agoni...</td>\n",
              "      <td>J. Med. Chem.</td>\n",
              "      <td>1997.0</td>\n",
              "      <td>40.0</td>\n",
              "      <td>22.0</td>\n",
              "      <td>MacLeod AM, Street LJ, Reeve AJ, Jelley RA, St...</td>\n",
              "      <td>NaN</td>\n",
              "      <td>3459.0</td>\n",
              "      <td>DTCT0023221</td>\n",
              "      <td>712596</td>\n",
              "      <td>DTCC00154636</td>\n",
              "      <td>659675</td>\n",
              "      <td>14385</td>\n",
              "      <td>8.031517</td>\n",
              "      <td>110</td>\n",
              "      <td>5358</td>\n",
              "      <td>CNS(=O)(=O)CC1=CC2=C(C=C1)NC=C2CCN(C)C</td>\n",
              "      <td>CNS(=O)(=O)Cc1ccc2[nH]cc(CCN(C)C)c2c1</td>\n",
              "    </tr>\n",
              "    <tr>\n",
              "      <th>172</th>\n",
              "      <td>CHEMBL470432</td>\n",
              "      <td>P46098</td>\n",
              "      <td>NaN</td>\n",
              "      <td>FZGWDCDUMFWUEO-UHFFFAOYSA-N</td>\n",
              "      <td>0</td>\n",
              "      <td>SEROTONIN 3A (5-HT3A) RECEPTOR</td>\n",
              "      <td>HTR3A</td>\n",
              "      <td>Ion channel</td>\n",
              "      <td>NaN</td>\n",
              "      <td>NaN</td>\n",
              "      <td>19261477.0</td>\n",
              "      <td>IC50</td>\n",
              "      <td>=</td>\n",
              "      <td>6.92</td>\n",
              "      <td>NM</td>\n",
              "      <td>NaN</td>\n",
              "      <td>NaN</td>\n",
              "      <td>NaN</td>\n",
              "      <td>NaN</td>\n",
              "      <td>NaN</td>\n",
              "      <td>NaN</td>\n",
              "      <td>NaN</td>\n",
              "      <td>NaN</td>\n",
              "      <td>NaN</td>\n",
              "      <td>NaN</td>\n",
              "      <td>NaN</td>\n",
              "      <td>NaN</td>\n",
              "      <td>NaN</td>\n",
              "      <td>Displacement of [3H]granisetron from human rec...</td>\n",
              "      <td>NaN</td>\n",
              "      <td>Novel antagonists of serotonin-4 receptors: sy...</td>\n",
              "      <td>Bioorg. Med. Chem.</td>\n",
              "      <td>2009.0</td>\n",
              "      <td>17.0</td>\n",
              "      <td>6.0</td>\n",
              "      <td>Lemaître S, Lepailleur A, Bureau R, Butt-Gueul...</td>\n",
              "      <td>NaN</td>\n",
              "      <td>564583.0</td>\n",
              "      <td>DTCT0023221</td>\n",
              "      <td>2613037</td>\n",
              "      <td>DTCC00570224</td>\n",
              "      <td>1082935</td>\n",
              "      <td>33265</td>\n",
              "      <td>8.159894</td>\n",
              "      <td>723</td>\n",
              "      <td>42636941</td>\n",
              "      <td>CCCN1CCC(CC1)COC2=NC3=C(C(=CS3)C)N4C2=CC=C4</td>\n",
              "      <td>CCCN1CCC(COc2nc3scc(C)c3n3cccc23)CC1</td>\n",
              "    </tr>\n",
              "    <tr>\n",
              "      <th>173</th>\n",
              "      <td>CHEMBL470432</td>\n",
              "      <td>P46098</td>\n",
              "      <td>NaN</td>\n",
              "      <td>FZGWDCDUMFWUEO-UHFFFAOYSA-N</td>\n",
              "      <td>0</td>\n",
              "      <td>SEROTONIN 3A (5-HT3A) RECEPTOR</td>\n",
              "      <td>HTR3A</td>\n",
              "      <td>Ion channel</td>\n",
              "      <td>NaN</td>\n",
              "      <td>NaN</td>\n",
              "      <td>19261477.0</td>\n",
              "      <td>IC50</td>\n",
              "      <td>=</td>\n",
              "      <td>385.00</td>\n",
              "      <td>NM</td>\n",
              "      <td>NaN</td>\n",
              "      <td>cell_based</td>\n",
              "      <td>NaN</td>\n",
              "      <td>NaN</td>\n",
              "      <td>NaN</td>\n",
              "      <td>NaN</td>\n",
              "      <td>NaN</td>\n",
              "      <td>NaN</td>\n",
              "      <td>NaN</td>\n",
              "      <td>NaN</td>\n",
              "      <td>NaN</td>\n",
              "      <td>NaN</td>\n",
              "      <td>NG108-15</td>\n",
              "      <td>Antagonist activity at 5HT3 receptor in hybrid...</td>\n",
              "      <td>NaN</td>\n",
              "      <td>Novel antagonists of serotonin-4 receptors: sy...</td>\n",
              "      <td>Bioorg. Med. Chem.</td>\n",
              "      <td>2009.0</td>\n",
              "      <td>17.0</td>\n",
              "      <td>6.0</td>\n",
              "      <td>Lemaître S, Lepailleur A, Bureau R, Butt-Gueul...</td>\n",
              "      <td>NaN</td>\n",
              "      <td>564575.0</td>\n",
              "      <td>DTCT0023221</td>\n",
              "      <td>2613019</td>\n",
              "      <td>DTCC00570224</td>\n",
              "      <td>1082935</td>\n",
              "      <td>33265</td>\n",
              "      <td>6.414539</td>\n",
              "      <td>723</td>\n",
              "      <td>42636941</td>\n",
              "      <td>CCCN1CCC(CC1)COC2=NC3=C(C(=CS3)C)N4C2=CC=C4</td>\n",
              "      <td>CCCN1CCC(COc2nc3scc(C)c3n3cccc23)CC1</td>\n",
              "    </tr>\n",
              "  </tbody>\n",
              "</table>\n",
              "</div>"
            ],
            "text/plain": [
              "      compound_id  ...                           rdkit_smiles\n",
              "67      CHEMBL128  ...  CNS(=O)(=O)Cc1ccc2[nH]cc(CCN(C)C)c2c1\n",
              "68      CHEMBL128  ...  CNS(=O)(=O)Cc1ccc2[nH]cc(CCN(C)C)c2c1\n",
              "172  CHEMBL470432  ...   CCCN1CCC(COc2nc3scc(C)c3n3cccc23)CC1\n",
              "173  CHEMBL470432  ...   CCCN1CCC(COc2nc3scc(C)c3n3cccc23)CC1\n",
              "\n",
              "[4 rows x 48 columns]"
            ]
          },
          "metadata": {
            "tags": []
          },
          "execution_count": 14
        }
      ]
    },
    {
      "cell_type": "code",
      "metadata": {
        "colab": {
          "base_uri": "https://localhost:8080/"
        },
        "id": "EIOxXzq8s8vg",
        "outputId": "9d86d184-1aea-41ad-b6ac-2eada33c4853"
      },
      "source": [
        "# Prints number of unique rejected compound names and rows\r\n",
        "print(\"Number of discarded compounds\",reject[compound_id].nunique())\r\n",
        "\r\n",
        "# Apecifies directory for csv file to send rejected data to, saving it as ofile \r\n",
        "ofile = target_name+'.reject_check'\r\n",
        "\r\n",
        "# Sends the rejected compound dataframe to a csv file with the path (ofile) specified above\r\n",
        "reject.to_csv(ofile,index=False)"
      ],
      "execution_count": null,
      "outputs": [
        {
          "output_type": "stream",
          "text": [
            "Number of discarded compounds 2\n"
          ],
          "name": "stdout"
        }
      ]
    },
    {
      "cell_type": "code",
      "metadata": {
        "colab": {
          "base_uri": "https://localhost:8080/"
        },
        "id": "XgF6g71ItUhf",
        "outputId": "0ecf1bde-ae65-4f34-c452-9a6b83c4e6ba"
      },
      "source": [
        "# Prints all the results of the unique assay tests run on this target\r\n",
        "save_smiles_df['assay_description'].unique()"
      ],
      "execution_count": null,
      "outputs": [
        {
          "output_type": "execute_result",
          "data": {
            "text/plain": [
              "array(['Inhibitory concentration required against 5-HT3 receptor in bovine area postrema using [3H]GR-65630',\n",
              "       'Binding affinity to human recombinant serotonin 5HT3 receptor',\n",
              "       'Agonist activity at human 5HT3A receptor expressed in HEK293 cells by FLIPR assay',\n",
              "       'Displacement of [3H]granisetron from human recombinant 5-HT3 receptor expressed in HEK293 cells',\n",
              "       nan,\n",
              "       'Antagonist activity at human wild type 5-HT3A receptor expressed in HEK293 cells assessed as inhibition of 5-HT-induced response after 45 mins by FLIPR assay',\n",
              "       'Compound was tested for its affinity towards 5-hydroxytryptamine 3 receptor',\n",
              "       'Displacement of [3H]BRL 43694 from human recombinant 5HT3 receptor expressed in CHO cells',\n",
              "       'Antagonist activity at human 5HT3 receptor',\n",
              "       'Displacement of [3H]BRL-43694 from human 5HT3 receptor expressed in HEK293 cells by liquid scintillation counting',\n",
              "       'Displacement of [3H]BRL-43694 from human recombinant 5HT3 receptor',\n",
              "       'Binding activity radioligand.',\n",
              "       'Compound was evaluated for the affinity at 5-hydroxytryptamine 3 receptor',\n",
              "       'Displacement of [3H]BRL43694 from human recombinant 5-HT3 receptor expressed in CHO cells',\n",
              "       'Inhibition of GR-65630 binding to 5-hydroxytryptamine 3 receptor',\n",
              "       'Binding affinity to 5-HT3 receptor',\n",
              "       'Inhibitory activity against 5-hydroxytryptamine 3 receptor expressed in NG 108 cells',\n",
              "       'Antagonist activity at human 5HT3A receptor expressed in HEK293 cells by FMP assay',\n",
              "       'Antagonist activity at human 5HT3A receptor expressed in HEK293 cells assessed as inhibition of m-chlorophenylbiguanide-induced calcium influx measured every 1 sec for 1 min followed by every 3 secs for 3 mins by FLIPR assay',\n",
              "       'Binding affinity to 5HT3 receptor',\n",
              "       'Agonist activity at human 5HT3R expressed in HEK293 cells assessed as stimulation of calcium flux by FLIPR',\n",
              "       'Antagonist activity at human 5HT3A receptor expressed in xenopus oocytes assessed as inhibition of 5HT-induced effect by electrophysiological method',\n",
              "       'Antagonist activity at 5HT3A receptor expressed in Xenopus oocyte',\n",
              "       'Inhibition of 5HT3 receptor (unknown origin)',\n",
              "       'Displacement of [3H]BRL43694 from 5HT3 receptor',\n",
              "       'Displacement of radioligand from 5HT3 receptor by liquid scintillation spectrometry',\n",
              "       'Inhibition of 5HT3 receptor',\n",
              "       'Antagonist activity at human 5HT3 receptor by calcium influx assay',\n",
              "       'Displacement of [3H]granisetron from human recombinant 5HT3 receptor',\n",
              "       'Antagonist activity at 5HT3 receptor in hybrid NG108-15 cells assessed as inhibition of 5HT-induced current by electrophysiology',\n",
              "       'Displacement of [3H]granisetron form 5HT3 receptor in hybrid NG180-15 cells',\n",
              "       'Displacement of [3H]LY278584 from human 5HT3 receptor expressed in HEK293 cells',\n",
              "       'Agonist activity at human 5HT3 receptor expressed in human skin epithelial cells assessed as stimulation of calcium flux by FLIPR assay'],\n",
              "      dtype=object)"
            ]
          },
          "metadata": {
            "tags": []
          },
          "execution_count": 18
        }
      ]
    },
    {
      "cell_type": "code",
      "metadata": {
        "colab": {
          "base_uri": "https://localhost:8080/"
        },
        "id": "IVeRrPCNtitM",
        "outputId": "cc18f6f1-d283-464b-ba14-b6adff567f2c"
      },
      "source": [
        "# Collects all the non-rejected data into a new frame called data\r\n",
        "data=save_smiles_df[~save_smiles_df[compound_id].isin(reject[compound_id])]\r\n",
        "\r\n",
        "# Prints the rows & columns (in that order) of the dataset from above (i.e. all the matching data)\r\n",
        "# Shape is an array that can check how large the dataframe is \r\n",
        "# It will print out (x, y), the x is the rows, or lines, and y is the number of columns \r\n",
        "print(data.shape)"
      ],
      "execution_count": null,
      "outputs": [
        {
          "output_type": "stream",
          "text": [
            "(197, 48)\n"
          ],
          "name": "stdout"
        }
      ]
    },
    {
      "cell_type": "code",
      "metadata": {
        "colab": {
          "base_uri": "https://localhost:8080/",
          "height": 203
        },
        "id": "aBtqLk9XuZ4k",
        "outputId": "62661535-09e5-4f9f-d331-4824c49b08d4"
      },
      "source": [
        "data[['standard_inchi_key','rdkit_smiles','standard_relation']].head(5)"
      ],
      "execution_count": null,
      "outputs": [
        {
          "output_type": "execute_result",
          "data": {
            "text/html": [
              "<div>\n",
              "<style scoped>\n",
              "    .dataframe tbody tr th:only-of-type {\n",
              "        vertical-align: middle;\n",
              "    }\n",
              "\n",
              "    .dataframe tbody tr th {\n",
              "        vertical-align: top;\n",
              "    }\n",
              "\n",
              "    .dataframe thead th {\n",
              "        text-align: right;\n",
              "    }\n",
              "</style>\n",
              "<table border=\"1\" class=\"dataframe\">\n",
              "  <thead>\n",
              "    <tr style=\"text-align: right;\">\n",
              "      <th></th>\n",
              "      <th>standard_inchi_key</th>\n",
              "      <th>rdkit_smiles</th>\n",
              "      <th>standard_relation</th>\n",
              "    </tr>\n",
              "  </thead>\n",
              "  <tbody>\n",
              "    <tr>\n",
              "      <th>0</th>\n",
              "      <td>OSVMSQACZRYAPT-UHFFFAOYSA-N</td>\n",
              "      <td>COc1cccc(CN2CCN(C3CCC(O)(c4ccc5c(c4)OCO5)CC3)C...</td>\n",
              "      <td>&gt;</td>\n",
              "    </tr>\n",
              "    <tr>\n",
              "      <th>1</th>\n",
              "      <td>CKLPLPZSUQEDRT-WPCRTTGESA-N</td>\n",
              "      <td>CC1Cc2c([nH]c3cc(Cl)c(F)cc23)C2(N1)C(=O)Nc1ccc...</td>\n",
              "      <td>&gt;</td>\n",
              "    </tr>\n",
              "    <tr>\n",
              "      <th>2</th>\n",
              "      <td>YOCUJVXRRWEPDN-UHFFFAOYSA-N</td>\n",
              "      <td>O=C(NCCCCN1CCCCC1)Nc1ccc(-c2ccccc2F)nc1</td>\n",
              "      <td>&gt;</td>\n",
              "    </tr>\n",
              "    <tr>\n",
              "      <th>3</th>\n",
              "      <td>LMGUUVWYFJIKCD-UHFFFAOYSA-N</td>\n",
              "      <td>O=C(NCCCCN1CCCCC1)Nc1ccc(-c2ccc(F)cc2)nc1</td>\n",
              "      <td>&gt;</td>\n",
              "    </tr>\n",
              "    <tr>\n",
              "      <th>4</th>\n",
              "      <td>DFBQTBNRGSIKHN-UHFFFAOYSA-N</td>\n",
              "      <td>O=C(NCCCCN1CCCCC1)Nc1ccc(-c2ccc(F)nc2)nc1</td>\n",
              "      <td>&gt;</td>\n",
              "    </tr>\n",
              "  </tbody>\n",
              "</table>\n",
              "</div>"
            ],
            "text/plain": [
              "            standard_inchi_key  ... standard_relation\n",
              "0  OSVMSQACZRYAPT-UHFFFAOYSA-N  ...                 >\n",
              "1  CKLPLPZSUQEDRT-WPCRTTGESA-N  ...                 >\n",
              "2  YOCUJVXRRWEPDN-UHFFFAOYSA-N  ...                 >\n",
              "3  LMGUUVWYFJIKCD-UHFFFAOYSA-N  ...                 >\n",
              "4  DFBQTBNRGSIKHN-UHFFFAOYSA-N  ...                 >\n",
              "\n",
              "[5 rows x 3 columns]"
            ]
          },
          "metadata": {
            "tags": []
          },
          "execution_count": 22
        }
      ]
    },
    {
      "cell_type": "code",
      "metadata": {
        "colab": {
          "base_uri": "https://localhost:8080/"
        },
        "id": "bZWJcTGwuEo9",
        "outputId": "2f853995-b4f0-44df-f5a7-229773c70ada"
      },
      "source": [
        "#specifies the column we want (response value) and also tells it to include the duplicates\r\n",
        "column='PIC50'; #'standard_value'\r\n",
        "list_bad_duplicates='Yes'\r\n",
        "\r\n",
        "# Actually compiles all the data with the specifies column and tells what columns to include \r\n",
        "# (inchi_key, smiles, and relation)\r\n",
        "temp_df=curate_data.aggregate_assay_data(data, \r\n",
        "                                         value_col=column, \r\n",
        "                                         output_value_col=None,\r\n",
        "                                         label_actives=True,\r\n",
        "                                         active_thresh=6,\r\n",
        "                                         id_col='standard_inchi_key', \r\n",
        "                                         smiles_col='rdkit_smiles', \r\n",
        "                                         relation_col='standard_relation')\r\n",
        "\r\n",
        "#Removes all duplicates from the data frame and puts it in the final, curated dataframe\r\n",
        "curated_df = temp_df[~temp_df.isin([np.inf]).any(1)]"
      ],
      "execution_count": null,
      "outputs": [
        {
          "output_type": "stream",
          "text": [
            "0 entries in input table are missing SMILES strings\n",
            "170 unique SMILES strings are reduced to 170 unique base SMILES strings\n"
          ],
          "name": "stdout"
        }
      ]
    },
    {
      "cell_type": "markdown",
      "metadata": {
        "id": "IghTbhQ_vNKS"
      },
      "source": [
        "## Save data to a file"
      ]
    },
    {
      "cell_type": "code",
      "metadata": {
        "colab": {
          "base_uri": "https://localhost:8080/",
          "height": 221
        },
        "id": "oELdfonJvMYc",
        "outputId": "ea9a1f40-402b-4bde-b757-98eb3c5b786e"
      },
      "source": [
        "# prints the number of rows in the before and after curation \r\n",
        "print(\"before\",data.shape[0],\"after\",curated_df.shape[0])\r\n",
        "\r\n",
        "#prints the first few rows of the \"after\" (after curation) dataframes\r\n",
        "curated_df.head()"
      ],
      "execution_count": null,
      "outputs": [
        {
          "output_type": "stream",
          "text": [
            "before 197 after 170\n"
          ],
          "name": "stdout"
        },
        {
          "output_type": "execute_result",
          "data": {
            "text/html": [
              "<div>\n",
              "<style scoped>\n",
              "    .dataframe tbody tr th:only-of-type {\n",
              "        vertical-align: middle;\n",
              "    }\n",
              "\n",
              "    .dataframe tbody tr th {\n",
              "        vertical-align: top;\n",
              "    }\n",
              "\n",
              "    .dataframe thead th {\n",
              "        text-align: right;\n",
              "    }\n",
              "</style>\n",
              "<table border=\"1\" class=\"dataframe\">\n",
              "  <thead>\n",
              "    <tr style=\"text-align: right;\">\n",
              "      <th></th>\n",
              "      <th>compound_id</th>\n",
              "      <th>base_rdkit_smiles</th>\n",
              "      <th>relation</th>\n",
              "      <th>PIC50</th>\n",
              "      <th>active</th>\n",
              "    </tr>\n",
              "  </thead>\n",
              "  <tbody>\n",
              "    <tr>\n",
              "      <th>0</th>\n",
              "      <td>WLYLIKBNGQZDFH-UHFFFAOYSA-N</td>\n",
              "      <td>O=C(NCCCN1CCOCC1)c1ccc2c(=O)n(Cc3ccc(Cl)cc3)c(...</td>\n",
              "      <td></td>\n",
              "      <td>5.886057</td>\n",
              "      <td>0</td>\n",
              "    </tr>\n",
              "    <tr>\n",
              "      <th>1</th>\n",
              "      <td>PNHTUMMCJLWVTR-UHFFFAOYSA-N</td>\n",
              "      <td>COc1ccc(-c2cc(NC(=O)CCCCN3CCCOCC3)n[nH]2)cc1</td>\n",
              "      <td>&gt;</td>\n",
              "      <td>4.522879</td>\n",
              "      <td>0</td>\n",
              "    </tr>\n",
              "    <tr>\n",
              "      <th>2</th>\n",
              "      <td>PYCJRTFNOGPLEL-UHFFFAOYSA-N</td>\n",
              "      <td>Nn1c(CCCCN2CCN(c3ccc4ccccc4n3)CC2)nc2cc(Cl)ccc...</td>\n",
              "      <td>&gt;</td>\n",
              "      <td>7.000000</td>\n",
              "      <td>1</td>\n",
              "    </tr>\n",
              "    <tr>\n",
              "      <th>3</th>\n",
              "      <td>MMIPHEFKLSFNNB-MWGLOKQDSA-L</td>\n",
              "      <td>COc1ccc(C[N+]23CCC4C5C6C(CC42)C(=CCOC6N2c4cccc...</td>\n",
              "      <td></td>\n",
              "      <td>4.511439</td>\n",
              "      <td>0</td>\n",
              "    </tr>\n",
              "    <tr>\n",
              "      <th>4</th>\n",
              "      <td>PWVBQEUMVVPFJT-UHFFFAOYSA-N</td>\n",
              "      <td>Nn1c(CCCCN2CCN(c3ccc4ccccc4n3)CC2)nc2cc(F)ccc2...</td>\n",
              "      <td>&gt;</td>\n",
              "      <td>7.000000</td>\n",
              "      <td>1</td>\n",
              "    </tr>\n",
              "  </tbody>\n",
              "</table>\n",
              "</div>"
            ],
            "text/plain": [
              "                   compound_id  ... active\n",
              "0  WLYLIKBNGQZDFH-UHFFFAOYSA-N  ...      0\n",
              "1  PNHTUMMCJLWVTR-UHFFFAOYSA-N  ...      0\n",
              "2  PYCJRTFNOGPLEL-UHFFFAOYSA-N  ...      1\n",
              "3  MMIPHEFKLSFNNB-MWGLOKQDSA-L  ...      0\n",
              "4  PWVBQEUMVVPFJT-UHFFFAOYSA-N  ...      1\n",
              "\n",
              "[5 rows x 5 columns]"
            ]
          },
          "metadata": {
            "tags": []
          },
          "execution_count": 24
        }
      ]
    },
    {
      "cell_type": "code",
      "metadata": {
        "id": "j-lhDvMwu_NS"
      },
      "source": [
        "# Prints number of unique resjected compound names/rows\r\n",
        "print(\"Number of discarded compounds\",reject[compound_id].nunique())\r\n",
        "\r\n",
        "# Apecifies directory for csv file to send rejected data to, saving it as ofile \r\n",
        "ofile=tmp_dir+target_name+'.reject_check.'+username\r\n",
        "\r\n",
        "# Sends the rejected compound dataframe to a csv file with the path (ofile) specified above\r\n",
        "reject.to_csv(ofile,index=False)"
      ],
      "execution_count": null,
      "outputs": []
    },
    {
      "cell_type": "code",
      "metadata": {
        "id": "HPZ8bb4qvXtQ"
      },
      "source": [
        "# specifies file path to save the curated data to\r\n",
        "ofile = target_name+'_dtc_smiles_curated.csv'\r\n",
        "\r\n",
        "# sends data from the curated_df to csv with specified path above\r\n",
        "curated_df.to_csv(ofile,index=False)"
      ],
      "execution_count": null,
      "outputs": []
    },
    {
      "cell_type": "code",
      "metadata": {
        "colab": {
          "base_uri": "https://localhost:8080/",
          "height": 302
        },
        "id": "kFz8VF17vmvn",
        "outputId": "018f3f74-22da-4f96-ad42-1eec9f924193"
      },
      "source": [
        "# load graphics libraries matplotlib and seaborn (sns)\r\n",
        "import matplotlib.pyplot as plt\r\n",
        "import seaborn as sns\r\n",
        "\r\n",
        "# plt.subplots is a function that creates a full grid of subplots in a single array, and returning \r\n",
        "# them in a NumPy array\r\n",
        "# A NumPy array is a grid of values, all of the same type, and is indexed by a tubule of nonnegative integers \r\n",
        "# We are saving this subplots we're creating as fig, ax variables\r\n",
        "fig, ax = plt.subplots()\r\n",
        "\r\n",
        "# compiles the data frames before and after all the curation with the specified column value (response values)\r\n",
        "# If we remember or look up further in the notebook, we created two dataframes: data and curated_df \r\n",
        "# Our data dataframe consists of ofile (target_name+'_excape_curated.csv.'+username) and we will be using the PIC50 column of our dataframe\r\n",
        "# This will be our before variable\r\n",
        "before=save_smiles_df[\"PIC50\"]\r\n",
        "\r\n",
        "# Our after variable is comprised of our curated_df dataframe \r\n",
        "# Our curated_df was configured earlier to discard any out of range values\r\n",
        "after=curated_df[\"PIC50\"]\r\n",
        "\r\n",
        "# plots the values of the response value column of both the before and after dataframes from above\r\n",
        "# sns.distplot is a Seaborn distplot, which allows you to show a histogram with a line on it\r\n",
        "# A distplot plots a univariate distribution of observations \r\n",
        "# Below, we are separating our data set into a before section and an after section \r\n",
        "# To break down the sns.distplot functions: \r\n",
        "# bins=range(0, 12, 1) is used to bin our range of values, meaning to divide the entire range of values into a series of intervals\r\n",
        "# ax=ax \r\n",
        "# kde is a kernel density estimate plot that represents the data using a continuous probability density curve\r\n",
        "# kde=False will remove the density line on the histogram\r\n",
        "# The label= function is used to label different sections of our plot \r\n",
        "sns.distplot(before, bins=range(0, 12, 1), ax=ax, kde=False, label='before')\r\n",
        "sns.distplot(after, bins=range(0, 12, 1), ax=ax, kde=False, label='after')\r\n",
        "\r\n",
        "#configures plot by adding a legend and setting the x axis limits for readability\r\n",
        "# plt.legend() adds the legend to the plot\r\n",
        "plt.legend()\r\n",
        "\r\n",
        "# ax.set_xlim is setting the x-axis limits of the graph, setting it to be from (0,12)\r\n",
        "ax.set_xlim([0, 12])\r\n"
      ],
      "execution_count": null,
      "outputs": [
        {
          "output_type": "execute_result",
          "data": {
            "text/plain": [
              "(0.0, 12.0)"
            ]
          },
          "metadata": {
            "tags": []
          },
          "execution_count": 28
        },
        {
          "output_type": "display_data",
          "data": {
            "image/png": "[encoded data removed]",
            "text/plain": [
              "<Figure size 432x288 with 1 Axes>"
            ]
          },
          "metadata": {
            "tags": [],
            "needs_background": "light"
          }
        }
      ]
    },
    {
      "cell_type": "code",
      "metadata": {
        "id": "101z-_vAhdlp",
        "colab": {
          "base_uri": "https://localhost:8080/"
        },
        "outputId": "beebd59f-7f51-4b31-faf1-1d0d98006102"
      },
      "source": [
        "!date # ending time"
      ],
      "execution_count": null,
      "outputs": [
        {
          "output_type": "stream",
          "text": [
            "Fri Feb 12 20:53:04 UTC 2021\n"
          ],
          "name": "stdout"
        }
      ]
    },
    {
      "cell_type": "code",
      "metadata": {
        "id": "ccA_urdUgRoz"
      },
      "source": [
        ""
      ],
      "execution_count": null,
      "outputs": []
    }
  ]
}