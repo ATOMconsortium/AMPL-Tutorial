{
  "nbformat": 4,
  "nbformat_minor": 0,
  "metadata": {
    "colab": {
      "name": "make_AMPL_Google_Drive_2.ipynb",
      "provenance": [],
      "collapsed_sections": [],
      "toc_visible": true,
      "include_colab_link": true
    },
    "kernelspec": {
      "name": "python3",
      "display_name": "Python 3"
    }
  },
  "cells": [
    {
      "cell_type": "markdown",
      "metadata": {
        "id": "view-in-github",
        "colab_type": "text"
      },
      "source": [
        "<a href=\"https://colab.research.google.com/github/ravichas/AMPL-Tutorial/blob/master/make_AMPL_Google_Drive_2.ipynb\" target=\"_parent\"><img src=\"https://colab.research.google.com/assets/colab-badge.svg\" alt=\"Open In Colab\"/></a>"
      ]
    },
    {
      "cell_type": "markdown",
      "metadata": {
        "id": "DKOt6zePpD62",
        "colab_type": "text"
      },
      "source": [
        "# Make AMPL on Google Drive\n",
        "\n",
        "# Warning: This is an experimental notebook\n",
        "- AMPL is using Python 3.6.7 while Colab is currently using 3.6.9 so they do not currently match. Your mileage may vary.\n",
        "\n",
        "# Goals\n",
        "- Create a reusable installation of AMPL in Colab and transfer to Google Drive\n",
        "\n",
        "# Requirements\n",
        "- Datasets are required for testing AMPL. delaney-processed_curated_fit.csv and delaney-processed_curated_external.csv are copied to this runtime from Google Drive."
      ]
    },
    {
      "cell_type": "code",
      "metadata": {
        "id": "_GXT6tJbCP5q",
        "colab_type": "code",
        "colab": {
          "base_uri": "https://localhost:8080/",
          "height": 34
        },
        "outputId": "be39eb0b-b87f-4289-c8b4-a38113cea67a"
      },
      "source": [
        "# Mount Google Drive\n",
        "from google.colab import drive\n",
        "drive.mount(\"/content/drive\")"
      ],
      "execution_count": 2,
      "outputs": [
        {
          "output_type": "stream",
          "text": [
            "Drive already mounted at /content/drive; to attempt to forcibly remount, call drive.mount(\"/content/drive\", force_remount=True).\n"
          ],
          "name": "stdout"
        }
      ]
    },
    {
      "cell_type": "code",
      "metadata": {
        "id": "Z9QywF_CyOsB",
        "colab_type": "code",
        "colab": {}
      },
      "source": [
        "# Copy examples to runtime\n",
        "!cp '/content/drive/My Drive/colab/delaney-processed_curated_fit.csv' /content\n",
        "!cp '/content/drive/My Drive/colab/delaney-processed_curated_external.csv' /content"
      ],
      "execution_count": 3,
      "outputs": []
    },
    {
      "cell_type": "code",
      "metadata": {
        "id": "n3RE8OYSKqqd",
        "colab_type": "code",
        "colab": {}
      },
      "source": [
        "import pandas as pd\n",
        "import requests\n",
        "import io\n",
        "url = 'https://raw.githubusercontent.com/ravichas/AMPL-Tutorial/master/datasets/delaney-processed_curated_external.csv'\n",
        "url1 = 'https://raw.githubusercontent.com/ravichas/AMPL-Tutorial/master/datasets/delaney-processed_curated_fit.csv'\n",
        "download = requests.get(url).content\n",
        "df = pd.read_csv(url, index_col=0)\n",
        "# Reading the downloaded content and turning it into a pandas dataframe\n",
        "df = pd.read_csv(io.StringIO(download.decode('utf-8')))\n",
        "df.iloc[0:5, 0:5]\n",
        "df.to_csv(url, index=False)\n",
        "df.to_csv(url1, index=False)"
      ],
      "execution_count": null,
      "outputs": []
    },
    {
      "cell_type": "code",
      "metadata": {
        "id": "0QOnTbujmcTA",
        "colab_type": "code",
        "colab": {}
      },
      "source": [
        "# # Check files are present\n",
        "# import os\n",
        "# assert(os.path.isfile('/content/delaney-processed_curated_fit.csv'))\n",
        "# assert(os.path.isfile('/content/delaney-processed_curated_external.csv'))"
      ],
      "execution_count": 4,
      "outputs": []
    },
    {
      "cell_type": "code",
      "metadata": {
        "id": "KfQDH9NRiJVi",
        "colab_type": "code",
        "colab": {
          "base_uri": "https://localhost:8080/",
          "height": 34
        },
        "outputId": "8e0f72b2-fcea-4ea6-85e7-0817982281b2"
      },
      "source": [
        "# Get Colab Python version\n",
        "# Python 3.6.9\n",
        "!python --version"
      ],
      "execution_count": 5,
      "outputs": [
        {
          "output_type": "stream",
          "text": [
            "Python 3.6.9\n"
          ],
          "name": "stdout"
        }
      ]
    },
    {
      "cell_type": "code",
      "metadata": {
        "id": "N-4zItgVib3L",
        "colab_type": "code",
        "colab": {
          "base_uri": "https://localhost:8080/",
          "height": 1000
        },
        "outputId": "7b26a063-7157-41b1-84e3-fb69e9bf32c7"
      },
      "source": [
        "# Install Miniconda to /content/AMPL\n",
        "# Conda include hard coded paths so this is the only location it can go\n",
        "# 25 s\n",
        "!wget https://repo.anaconda.com/miniconda/Miniconda3-latest-Linux-x86_64.sh\n",
        "!time bash Miniconda3-latest-Linux-x86_64.sh -b -p /content/AMPL"
      ],
      "execution_count": 6,
      "outputs": [
        {
          "output_type": "stream",
          "text": [
            "--2020-09-21 12:13:49--  https://repo.anaconda.com/miniconda/Miniconda3-latest-Linux-x86_64.sh\n",
            "Resolving repo.anaconda.com (repo.anaconda.com)... 104.16.130.3, 104.16.131.3, 2606:4700::6810:8203, ...\n",
            "Connecting to repo.anaconda.com (repo.anaconda.com)|104.16.130.3|:443... connected.\n",
            "HTTP request sent, awaiting response... 200 OK\n",
            "Length: 93052469 (89M) [application/x-sh]\n",
            "Saving to: ‘Miniconda3-latest-Linux-x86_64.sh’\n",
            "\n",
            "Miniconda3-latest-L 100%[===================>]  88.74M   154MB/s    in 0.6s    \n",
            "\n",
            "2020-09-21 12:13:50 (154 MB/s) - ‘Miniconda3-latest-Linux-x86_64.sh’ saved [93052469/93052469]\n",
            "\n",
            "PREFIX=/content/AMPL\n",
            "Unpacking payload ...\n",
            "Collecting package metadata (current_repodata.json): - \b\b\\ \b\bdone\n",
            "Solving environment: / \b\b- \b\bdone\n",
            "\n",
            "## Package Plan ##\n",
            "\n",
            "  environment location: /content/AMPL\n",
            "\n",
            "  added / updated specs:\n",
            "    - _libgcc_mutex==0.1=main\n",
            "    - ca-certificates==2020.1.1=0\n",
            "    - certifi==2020.4.5.1=py38_0\n",
            "    - cffi==1.14.0=py38he30daa8_1\n",
            "    - chardet==3.0.4=py38_1003\n",
            "    - conda-package-handling==1.6.1=py38h7b6447c_0\n",
            "    - conda==4.8.3=py38_0\n",
            "    - cryptography==2.9.2=py38h1ba5d50_0\n",
            "    - idna==2.9=py_1\n",
            "    - ld_impl_linux-64==2.33.1=h53a641e_7\n",
            "    - libedit==3.1.20181209=hc058e9b_0\n",
            "    - libffi==3.3=he6710b0_1\n",
            "    - libgcc-ng==9.1.0=hdf63c60_0\n",
            "    - libstdcxx-ng==9.1.0=hdf63c60_0\n",
            "    - ncurses==6.2=he6710b0_1\n",
            "    - openssl==1.1.1g=h7b6447c_0\n",
            "    - pip==20.0.2=py38_3\n",
            "    - pycosat==0.6.3=py38h7b6447c_1\n",
            "    - pycparser==2.20=py_0\n",
            "    - pyopenssl==19.1.0=py38_0\n",
            "    - pysocks==1.7.1=py38_0\n",
            "    - python==3.8.3=hcff3b4d_0\n",
            "    - readline==8.0=h7b6447c_0\n",
            "    - requests==2.23.0=py38_0\n",
            "    - ruamel_yaml==0.15.87=py38h7b6447c_0\n",
            "    - setuptools==46.4.0=py38_0\n",
            "    - six==1.14.0=py38_0\n",
            "    - sqlite==3.31.1=h62c20be_1\n",
            "    - tk==8.6.8=hbc83047_0\n",
            "    - tqdm==4.46.0=py_0\n",
            "    - urllib3==1.25.8=py38_0\n",
            "    - wheel==0.34.2=py38_0\n",
            "    - xz==5.2.5=h7b6447c_0\n",
            "    - yaml==0.1.7=had09818_2\n",
            "    - zlib==1.2.11=h7b6447c_3\n",
            "\n",
            "\n",
            "The following NEW packages will be INSTALLED:\n",
            "\n",
            "  _libgcc_mutex      pkgs/main/linux-64::_libgcc_mutex-0.1-main\n",
            "  ca-certificates    pkgs/main/linux-64::ca-certificates-2020.1.1-0\n",
            "  certifi            pkgs/main/linux-64::certifi-2020.4.5.1-py38_0\n",
            "  cffi               pkgs/main/linux-64::cffi-1.14.0-py38he30daa8_1\n",
            "  chardet            pkgs/main/linux-64::chardet-3.0.4-py38_1003\n",
            "  conda              pkgs/main/linux-64::conda-4.8.3-py38_0\n",
            "  conda-package-han~ pkgs/main/linux-64::conda-package-handling-1.6.1-py38h7b6447c_0\n",
            "  cryptography       pkgs/main/linux-64::cryptography-2.9.2-py38h1ba5d50_0\n",
            "  idna               pkgs/main/noarch::idna-2.9-py_1\n",
            "  ld_impl_linux-64   pkgs/main/linux-64::ld_impl_linux-64-2.33.1-h53a641e_7\n",
            "  libedit            pkgs/main/linux-64::libedit-3.1.20181209-hc058e9b_0\n",
            "  libffi             pkgs/main/linux-64::libffi-3.3-he6710b0_1\n",
            "  libgcc-ng          pkgs/main/linux-64::libgcc-ng-9.1.0-hdf63c60_0\n",
            "  libstdcxx-ng       pkgs/main/linux-64::libstdcxx-ng-9.1.0-hdf63c60_0\n",
            "  ncurses            pkgs/main/linux-64::ncurses-6.2-he6710b0_1\n",
            "  openssl            pkgs/main/linux-64::openssl-1.1.1g-h7b6447c_0\n",
            "  pip                pkgs/main/linux-64::pip-20.0.2-py38_3\n",
            "  pycosat            pkgs/main/linux-64::pycosat-0.6.3-py38h7b6447c_1\n",
            "  pycparser          pkgs/main/noarch::pycparser-2.20-py_0\n",
            "  pyopenssl          pkgs/main/linux-64::pyopenssl-19.1.0-py38_0\n",
            "  pysocks            pkgs/main/linux-64::pysocks-1.7.1-py38_0\n",
            "  python             pkgs/main/linux-64::python-3.8.3-hcff3b4d_0\n",
            "  readline           pkgs/main/linux-64::readline-8.0-h7b6447c_0\n",
            "  requests           pkgs/main/linux-64::requests-2.23.0-py38_0\n",
            "  ruamel_yaml        pkgs/main/linux-64::ruamel_yaml-0.15.87-py38h7b6447c_0\n",
            "  setuptools         pkgs/main/linux-64::setuptools-46.4.0-py38_0\n",
            "  six                pkgs/main/linux-64::six-1.14.0-py38_0\n",
            "  sqlite             pkgs/main/linux-64::sqlite-3.31.1-h62c20be_1\n",
            "  tk                 pkgs/main/linux-64::tk-8.6.8-hbc83047_0\n",
            "  tqdm               pkgs/main/noarch::tqdm-4.46.0-py_0\n",
            "  urllib3            pkgs/main/linux-64::urllib3-1.25.8-py38_0\n",
            "  wheel              pkgs/main/linux-64::wheel-0.34.2-py38_0\n",
            "  xz                 pkgs/main/linux-64::xz-5.2.5-h7b6447c_0\n",
            "  yaml               pkgs/main/linux-64::yaml-0.1.7-had09818_2\n",
            "  zlib               pkgs/main/linux-64::zlib-1.2.11-h7b6447c_3\n",
            "\n",
            "\n",
            "Preparing transaction: | \b\b/ \b\b- \b\bdone\n",
            "Executing transaction: | \b\b/ \b\b- \b\b\\ \b\b| \b\b/ \b\b- \b\b\\ \b\bdone\n",
            "installation finished.\n",
            "WARNING:\n",
            "    You currently have a PYTHONPATH environment variable set. This may cause\n",
            "    unexpected behavior when running the Python interpreter in Miniconda3.\n",
            "    For best results, please verify that your PYTHONPATH only points to\n",
            "    directories of packages that are compatible with the Python interpreter\n",
            "    in Miniconda3: /content/AMPL\n",
            "\n",
            "real\t0m10.603s\n",
            "user\t0m8.962s\n",
            "sys\t0m2.181s\n"
          ],
          "name": "stdout"
        }
      ]
    },
    {
      "cell_type": "code",
      "metadata": {
        "id": "XEWkd489mFBp",
        "colab_type": "code",
        "colab": {
          "base_uri": "https://localhost:8080/",
          "height": 87
        },
        "outputId": "ee5a7d35-58b0-42ed-b4a3-f0df536d7682"
      },
      "source": [
        "!ls "
      ],
      "execution_count": 12,
      "outputs": [
        {
          "output_type": "stream",
          "text": [
            "AMPL\t\t\t\t\tdrive\n",
            "AMPL.txt\t\t\t\tMiniconda3-latest-Linux-x86_64.sh\n",
            "delaney-processed_curated_external.csv\tsample_data\n",
            "delaney-processed_curated_fit.csv\n"
          ],
          "name": "stdout"
        }
      ]
    },
    {
      "cell_type": "markdown",
      "metadata": {
        "id": "fXjPtjAYmanv",
        "colab_type": "text"
      },
      "source": [
        "## Create AMPL code dependency and save it to AMPL.txt"
      ]
    },
    {
      "cell_type": "code",
      "metadata": {
        "id": "NB6BEO-SmKdk",
        "colab_type": "code",
        "colab": {}
      },
      "source": [
        "# Create AMPL conda dependency file\n",
        "%%bash\n",
        "cat << \"EOF\" > AMPL.txt\n",
        "# This file may be used to create an environment using:\n",
        "# $ conda create --name <env> --file <this file>\n",
        "# platform: linux-64\n",
        "@EXPLICIT\n",
        "https://conda.anaconda.org/conda-forge/linux-64/_libgcc_mutex-0.1-conda_forge.tar.bz2\n",
        "https://conda.anaconda.org/conda-forge/linux-64/ca-certificates-2020.6.20-hecda079_0.tar.bz2\n",
        "https://conda.anaconda.org/omnia/linux-64/fftw3f-3.3.4-2.tar.bz2\n",
        "https://conda.anaconda.org/conda-forge/linux-64/libgfortran-3.0.0-1.tar.bz2\n",
        "https://conda.anaconda.org/conda-forge/linux-64/libgfortran-ng-7.5.0-hdf63c60_16.tar.bz2\n",
        "https://conda.anaconda.org/conda-forge/linux-64/libstdcxx-ng-9.3.0-hdf63c60_16.tar.bz2\n",
        "https://conda.anaconda.org/conda-forge/linux-64/pandoc-2.10.1-h516909a_0.tar.bz2\n",
        "https://conda.anaconda.org/conda-forge/linux-64/libgomp-9.3.0-h24d8f2e_16.tar.bz2\n",
        "https://conda.anaconda.org/conda-forge/linux-64/openblas-0.2.20-8.tar.bz2\n",
        "https://conda.anaconda.org/conda-forge/linux-64/_openmp_mutex-4.5-1_gnu.tar.bz2\n",
        "https://conda.anaconda.org/conda-forge/linux-64/blas-1.1-openblas.tar.bz2\n",
        "https://conda.anaconda.org/conda-forge/linux-64/libgcc-ng-9.3.0-h24d8f2e_16.tar.bz2\n",
        "https://conda.anaconda.org/conda-forge/linux-64/blosc-1.20.0-he1b5a44_0.tar.bz2\n",
        "https://conda.anaconda.org/conda-forge/linux-64/bzip2-1.0.8-h516909a_3.tar.bz2\n",
        "https://conda.anaconda.org/conda-forge/linux-64/c-ares-1.16.1-h516909a_3.tar.bz2\n",
        "https://conda.anaconda.org/conda-forge/linux-64/expat-2.2.9-he1b5a44_2.tar.bz2\n",
        "https://conda.anaconda.org/conda-forge/linux-64/icu-58.2-hf484d3e_1000.tar.bz2\n",
        "https://conda.anaconda.org/conda-forge/linux-64/jpeg-9d-h516909a_0.tar.bz2\n",
        "https://conda.anaconda.org/conda-forge/linux-64/libffi-3.2.1-he1b5a44_1007.tar.bz2\n",
        "https://conda.anaconda.org/conda-forge/linux-64/libiconv-1.16-h516909a_0.tar.bz2\n",
        "https://conda.anaconda.org/conda-forge/linux-64/libsodium-1.0.18-h516909a_0.tar.bz2\n",
        "https://conda.anaconda.org/conda-forge/linux-64/libuuid-2.32.1-h14c3975_1000.tar.bz2\n",
        "https://conda.anaconda.org/conda-forge/linux-64/lzo-2.10-h516909a_1000.tar.bz2\n",
        "https://conda.anaconda.org/conda-forge/linux-64/ncurses-6.2-he1b5a44_1.tar.bz2\n",
        "https://conda.anaconda.org/conda-forge/linux-64/openssl-1.0.2u-h516909a_0.tar.bz2\n",
        "https://conda.anaconda.org/conda-forge/linux-64/pcre-8.44-he1b5a44_0.tar.bz2\n",
        "https://conda.anaconda.org/conda-forge/linux-64/pixman-0.34.0-h14c3975_1003.tar.bz2\n",
        "https://conda.anaconda.org/conda-forge/linux-64/pthread-stubs-0.4-h14c3975_1001.tar.bz2\n",
        "https://conda.anaconda.org/conda-forge/linux-64/tbb-2020.2-hc9558a2_0.tar.bz2\n",
        "https://conda.anaconda.org/conda-forge/linux-64/xorg-kbproto-1.0.7-h14c3975_1002.tar.bz2\n",
        "https://conda.anaconda.org/conda-forge/linux-64/xorg-libice-1.0.10-h516909a_0.tar.bz2\n",
        "https://conda.anaconda.org/conda-forge/linux-64/xorg-libxau-1.0.9-h14c3975_0.tar.bz2\n",
        "https://conda.anaconda.org/conda-forge/linux-64/xorg-libxdmcp-1.1.3-h516909a_0.tar.bz2\n",
        "https://conda.anaconda.org/conda-forge/linux-64/xorg-renderproto-0.11.1-h14c3975_1002.tar.bz2\n",
        "https://conda.anaconda.org/conda-forge/linux-64/xorg-xextproto-7.3.0-h14c3975_1002.tar.bz2\n",
        "https://conda.anaconda.org/conda-forge/linux-64/xorg-xproto-7.0.31-h14c3975_1007.tar.bz2\n",
        "https://conda.anaconda.org/conda-forge/linux-64/xz-5.2.5-h516909a_1.tar.bz2\n",
        "https://conda.anaconda.org/conda-forge/linux-64/yaml-0.2.5-h516909a_0.tar.bz2\n",
        "https://conda.anaconda.org/conda-forge/linux-64/zlib-1.2.11-h516909a_1009.tar.bz2\n",
        "https://conda.anaconda.org/conda-forge/linux-64/dbus-1.13.0-h4e0c4b3_1000.tar.bz2\n",
        "https://conda.anaconda.org/conda-forge/linux-64/gettext-0.19.8.1-hc5be6a0_1002.tar.bz2\n",
        "https://conda.anaconda.org/conda-forge/linux-64/hdf5-1.10.6-nompi_h3c11f04_101.tar.bz2\n",
        "https://conda.anaconda.org/conda-forge/linux-64/libllvm9-9.0.1-he513fc3_1.tar.bz2\n",
        "https://conda.anaconda.org/conda-forge/linux-64/libpng-1.6.37-hed695b0_2.tar.bz2\n",
        "https://conda.anaconda.org/conda-forge/linux-64/libprotobuf-3.13.0-h8b12597_0.tar.bz2\n",
        "https://conda.anaconda.org/conda-forge/linux-64/libtiff-4.0.9-h648cc4a_1002.tar.bz2\n",
        "https://conda.anaconda.org/conda-forge/linux-64/libxcb-1.13-h14c3975_1002.tar.bz2\n",
        "https://conda.anaconda.org/conda-forge/linux-64/libxml2-2.9.9-h13577e0_2.tar.bz2\n",
        "https://conda.anaconda.org/conda-forge/linux-64/readline-7.0-hf8c457e_1001.tar.bz2\n",
        "https://conda.anaconda.org/conda-forge/linux-64/tk-8.6.10-hed695b0_0.tar.bz2\n",
        "https://conda.anaconda.org/conda-forge/linux-64/xorg-libsm-1.2.3-h84519dc_1000.tar.bz2\n",
        "https://conda.anaconda.org/conda-forge/linux-64/zeromq-4.3.2-he1b5a44_3.tar.bz2\n",
        "https://conda.anaconda.org/conda-forge/linux-64/freetype-2.8.1-hfa320df_1.tar.bz2\n",
        "https://conda.anaconda.org/conda-forge/linux-64/glib-2.55.0-h464dc38_2.tar.bz2\n",
        "https://conda.anaconda.org/conda-forge/linux-64/sqlite-3.28.0-h8b20d00_0.tar.bz2\n",
        "https://conda.anaconda.org/conda-forge/linux-64/xorg-libx11-1.6.12-h516909a_0.tar.bz2\n",
        "https://conda.anaconda.org/conda-forge/linux-64/fontconfig-2.13.0-hd36ec8e_5.tar.bz2\n",
        "https://conda.anaconda.org/conda-forge/linux-64/gstreamer-1.12.5-h61a6719_0.tar.bz2\n",
        "https://conda.anaconda.org/conda-forge/linux-64/python-3.6.7-hd21baee_1002.tar.bz2\n",
        "https://conda.anaconda.org/conda-forge/linux-64/xorg-libxext-1.3.4-h516909a_0.tar.bz2\n",
        "https://conda.anaconda.org/conda-forge/linux-64/xorg-libxrender-0.9.10-h516909a_1002.tar.bz2\n",
        "https://conda.anaconda.org/conda-forge/noarch/asn1crypto-1.4.0-pyh9f0ad1d_0.tar.bz2\n",
        "https://conda.anaconda.org/conda-forge/noarch/astor-0.8.1-pyh9f0ad1d_0.tar.bz2\n",
        "https://conda.anaconda.org/conda-forge/noarch/attrs-20.1.0-pyh9f0ad1d_0.tar.bz2\n",
        "https://conda.anaconda.org/conda-forge/noarch/backcall-0.2.0-pyh9f0ad1d_0.tar.bz2\n",
        "https://conda.anaconda.org/conda-forge/noarch/backports-1.0-py_2.tar.bz2\n",
        "https://conda.anaconda.org/conda-forge/linux-64/cairo-1.14.12-he56eebe_3.tar.bz2\n",
        "https://conda.anaconda.org/conda-forge/noarch/decorator-4.4.2-py_0.tar.bz2\n",
        "https://conda.anaconda.org/conda-forge/noarch/defusedxml-0.6.0-py_0.tar.bz2\n",
        "https://conda.anaconda.org/conda-forge/noarch/gast-0.4.0-pyh9f0ad1d_0.tar.bz2\n",
        "https://conda.anaconda.org/conda-forge/linux-64/gst-plugins-base-1.12.5-h3865690_1000.tar.bz2\n",
        "https://conda.anaconda.org/conda-forge/linux-64/idna-2.6-py36_1.tar.bz2\n",
        "https://conda.anaconda.org/conda-forge/noarch/iniconfig-1.0.1-pyh9f0ad1d_0.tar.bz2\n",
        "https://conda.anaconda.org/conda-forge/noarch/ipython_genutils-0.2.0-py_1.tar.bz2\n",
        "https://conda.anaconda.org/conda-forge/linux-64/joblib-0.11-py36_0.tar.bz2\n",
        "https://conda.anaconda.org/conda-forge/noarch/jsonref-0.2-py_0.tar.bz2\n",
        "https://conda.anaconda.org/conda-forge/noarch/monotonic-1.5-py_0.tar.bz2\n",
        "https://conda.anaconda.org/conda-forge/noarch/more-itertools-8.5.0-py_0.tar.bz2\n",
        "https://conda.anaconda.org/conda-forge/linux-64/msgpack-python-0.5.5-py36_0.tar.bz2\n",
        "https://conda.anaconda.org/conda-forge/linux-64/numpy-1.15.2-py36_blas_openblashd3ea46f_1.tar.bz2\n",
        "https://conda.anaconda.org/conda-forge/noarch/olefile-0.46-py_0.tar.bz2\n",
        "https://conda.anaconda.org/conda-forge/noarch/pandocfilters-1.4.2-py_1.tar.bz2\n",
        "https://conda.anaconda.org/conda-forge/noarch/parso-0.7.1-pyh9f0ad1d_0.tar.bz2\n",
        "https://conda.anaconda.org/conda-forge/noarch/prometheus_client-0.8.0-pyh9f0ad1d_0.tar.bz2\n",
        "https://conda.anaconda.org/conda-forge/noarch/ptyprocess-0.6.0-py_1001.tar.bz2\n",
        "https://conda.anaconda.org/conda-forge/noarch/py-1.9.0-pyh9f0ad1d_0.tar.bz2\n",
        "https://conda.anaconda.org/conda-forge/noarch/pycparser-2.20-pyh9f0ad1d_2.tar.bz2\n",
        "https://conda.anaconda.org/conda-forge/noarch/pyparsing-2.4.7-pyh9f0ad1d_0.tar.bz2\n",
        "https://conda.anaconda.org/conda-forge/linux-64/python_abi-3.6-1_cp36m.tar.bz2\n",
        "https://conda.anaconda.org/conda-forge/noarch/pytz-2020.1-pyh9f0ad1d_0.tar.bz2\n",
        "https://conda.anaconda.org/conda-forge/noarch/qtpy-1.9.0-py_0.tar.bz2\n",
        "https://conda.anaconda.org/conda-forge/noarch/send2trash-1.5.0-py_0.tar.bz2\n",
        "https://conda.anaconda.org/conda-forge/linux-64/sip-4.18.1-py36hf484d3e_1000.tar.bz2\n",
        "https://conda.anaconda.org/conda-forge/noarch/six-1.15.0-pyh9f0ad1d_0.tar.bz2\n",
        "https://conda.anaconda.org/conda-forge/noarch/termcolor-1.1.0-py_2.tar.bz2\n",
        "https://conda.anaconda.org/conda-forge/noarch/testpath-0.4.4-py_0.tar.bz2\n",
        "https://conda.anaconda.org/conda-forge/noarch/toml-0.10.1-pyh9f0ad1d_0.tar.bz2\n",
        "https://conda.anaconda.org/conda-forge/noarch/tqdm-4.48.2-pyh9f0ad1d_0.tar.bz2\n",
        "https://conda.anaconda.org/conda-forge/noarch/webencodings-0.5.1-py_1.tar.bz2\n",
        "https://conda.anaconda.org/conda-forge/noarch/werkzeug-1.0.1-pyh9f0ad1d_0.tar.bz2\n",
        "https://conda.anaconda.org/conda-forge/noarch/wheel-0.35.1-pyh9f0ad1d_0.tar.bz2\n",
        "https://conda.anaconda.org/conda-forge/noarch/zipp-3.1.0-py_0.tar.bz2\n",
        "https://conda.anaconda.org/conda-forge/linux-64/absl-py-0.10.0-py36h9f0ad1d_0.tar.bz2\n",
        "https://conda.anaconda.org/rdkit/linux-64/boost-1.63.0-py36h415b752_1.tar.bz2\n",
        "https://conda.anaconda.org/conda-forge/linux-64/certifi-2020.6.20-py36h9f0ad1d_0.tar.bz2\n",
        "https://conda.anaconda.org/conda-forge/linux-64/cffi-1.14.1-py36h0ff685e_0.tar.bz2\n",
        "https://conda.anaconda.org/conda-forge/linux-64/chardet-3.0.4-py36h9f0ad1d_1006.tar.bz2\n",
        "https://conda.anaconda.org/conda-forge/linux-64/conda-package-handling-1.7.0-py36h8c4c3a4_4.tar.bz2\n",
        "https://conda.anaconda.org/conda-forge/noarch/cycler-0.10.0-py_2.tar.bz2\n",
        "https://conda.anaconda.org/conda-forge/linux-64/cython-0.29.21-py36h831f99a_0.tar.bz2\n",
        "https://conda.anaconda.org/conda-forge/linux-64/entrypoints-0.3-py36h9f0ad1d_1001.tar.bz2\n",
        "https://conda.anaconda.org/conda-forge/linux-64/html5lib-0.9999999-py36_0.tar.bz2\n",
        "https://conda.anaconda.org/conda-forge/linux-64/importlib-metadata-1.7.0-py36h9f0ad1d_0.tar.bz2\n",
        "https://conda.anaconda.org/conda-forge/linux-64/jedi-0.17.2-py36h9f0ad1d_0.tar.bz2\n",
        "https://conda.anaconda.org/conda-forge/linux-64/kiwisolver-1.2.0-py36hdb11119_0.tar.bz2\n",
        "https://conda.anaconda.org/conda-forge/linux-64/llvmlite-0.33.0-py36hfa65bc7_1.tar.bz2\n",
        "https://conda.anaconda.org/conda-forge/linux-64/markupsafe-1.1.1-py36h8c4c3a4_1.tar.bz2\n",
        "https://conda.anaconda.org/conda-forge/linux-64/mistune-0.8.4-py36h8c4c3a4_1001.tar.bz2\n",
        "https://conda.anaconda.org/conda-forge/linux-64/mock-4.0.2-py36h9f0ad1d_0.tar.bz2\n",
        "https://conda.anaconda.org/conda-forge/noarch/packaging-20.4-pyh9f0ad1d_0.tar.bz2\n",
        "https://conda.anaconda.org/conda-forge/linux-64/pexpect-4.8.0-py36h9f0ad1d_1.tar.bz2\n",
        "https://conda.anaconda.org/conda-forge/linux-64/pickleshare-0.7.5-py36h9f0ad1d_1001.tar.bz2\n",
        "https://conda.anaconda.org/conda-forge/linux-64/pillow-5.0.0-py36_0.tar.bz2\n",
        "https://conda.anaconda.org/conda-forge/linux-64/pycosat-0.6.3-py36h8c4c3a4_1004.tar.bz2\n",
        "https://conda.anaconda.org/conda-forge/linux-64/pyrsistent-0.16.0-py36h8c4c3a4_0.tar.bz2\n",
        "https://conda.anaconda.org/conda-forge/linux-64/pysocks-1.7.1-py36h9f0ad1d_1.tar.bz2\n",
        "https://conda.anaconda.org/conda-forge/noarch/python-dateutil-2.8.1-py_0.tar.bz2\n",
        "https://conda.anaconda.org/conda-forge/linux-64/pyyaml-5.3.1-py36h8c4c3a4_0.tar.bz2\n",
        "https://conda.anaconda.org/conda-forge/linux-64/pyzmq-19.0.2-py36h9947dbf_0.tar.bz2\n",
        "https://repo.anaconda.com/pkgs/main/linux-64/qt-5.6.2-hd25b39d_14.conda\n",
        "https://conda.anaconda.org/conda-forge/linux-64/ruamel_yaml-0.15.80-py36h8c4c3a4_1002.tar.bz2\n",
        "https://conda.anaconda.org/conda-forge/linux-64/scipy-1.1.0-py36_blas_openblash7943236_201.tar.bz2\n",
        "https://conda.anaconda.org/conda-forge/linux-64/simplejson-3.17.2-py36h8c4c3a4_0.tar.bz2\n",
        "https://conda.anaconda.org/conda-forge/linux-64/tornado-6.0.4-py36h8c4c3a4_1.tar.bz2\n",
        "https://conda.anaconda.org/conda-forge/linux-64/traitlets-4.3.3-py36h9f0ad1d_1.tar.bz2\n",
        "https://conda.anaconda.org/conda-forge/linux-64/argon2-cffi-20.1.0-py36h8c4c3a4_1.tar.bz2\n",
        "https://conda.anaconda.org/conda-forge/linux-64/bleach-1.5.0-py36_0.tar.bz2\n",
        "https://conda.anaconda.org/conda-forge/linux-64/cryptography-2.5-py36hb7f436b_1.tar.bz2\n",
        "https://conda.anaconda.org/conda-forge/noarch/importlib_metadata-1.7.0-0.tar.bz2\n",
        "https://conda.anaconda.org/conda-forge/linux-64/jupyter_core-4.6.3-py36h9f0ad1d_1.tar.bz2\n",
        "https://conda.anaconda.org/conda-forge/noarch/markdown-3.2.2-py_0.tar.bz2\n",
        "https://conda.anaconda.org/omnia/linux-64/openmm-7.4.2-py36_cuda101_rc_1.tar.bz2\n",
        "https://conda.anaconda.org/conda-forge/linux-64/pandas-0.22.0-py36_1.tar.bz2\n",
        "https://conda.anaconda.org/conda-forge/noarch/patsy-0.5.1-py_0.tar.bz2\n",
        "https://conda.anaconda.org/conda-forge/linux-64/pyqt-5.6.0-py36h13b7fb3_1008.tar.bz2\n",
        "https://conda.anaconda.org/conda-forge/linux-64/scikit-learn-0.19.1-py36_blas_openblas_201.tar.bz2\n",
        "https://conda.anaconda.org/conda-forge/linux-64/setuptools-49.6.0-py36h9f0ad1d_0.tar.bz2\n",
        "https://conda.anaconda.org/conda-forge/linux-64/terminado-0.8.3-py36h9f0ad1d_1.tar.bz2\n",
        "https://conda.anaconda.org/conda-forge/linux-64/xgboost-0.6a2-py36_2.tar.bz2\n",
        "https://conda.anaconda.org/conda-forge/noarch/anyconfig-0.9.10-py_0.tar.bz2\n",
        "https://conda.anaconda.org/conda-forge/noarch/backports.functools_lru_cache-1.6.1-py_0.tar.bz2\n",
        "https://conda.anaconda.org/conda-forge/linux-64/grpcio-1.16.0-py36h4f00d22_1000.tar.bz2\n",
        "https://conda.anaconda.org/conda-forge/noarch/jinja2-2.11.2-pyh9f0ad1d_0.tar.bz2\n",
        "https://conda.anaconda.org/conda-forge/linux-64/jsonschema-3.2.0-py36h9f0ad1d_1.tar.bz2\n",
        "https://conda.anaconda.org/conda-forge/noarch/jupyter_client-6.1.7-py_0.tar.bz2\n",
        "https://repo.anaconda.com/pkgs/main/linux-64/matplotlib-2.2.2-py36h0e671d2_0.conda\n",
        "https://conda.anaconda.org/conda-forge/noarch/networkx-2.1-py_1.tar.bz2\n",
        "https://conda.anaconda.org/conda-forge/linux-64/numba-0.50.1-py36h830a2c2_1.tar.bz2\n",
        "https://conda.anaconda.org/conda-forge/linux-64/numexpr-2.7.1-py36h830a2c2_1.tar.bz2\n",
        "https://conda.anaconda.org/omnia/linux-64/pdbfixer-1.4-py36_0.tar.bz2\n",
        "https://conda.anaconda.org/conda-forge/noarch/pip-20.2.2-py_0.tar.bz2\n",
        "https://conda.anaconda.org/conda-forge/linux-64/pluggy-0.13.1-py36h9f0ad1d_2.tar.bz2\n",
        "https://conda.anaconda.org/conda-forge/linux-64/protobuf-3.13.0-py36h831f99a_0.tar.bz2\n",
        "https://conda.anaconda.org/conda-forge/noarch/pygments-2.6.1-py_0.tar.bz2\n",
        "https://conda.anaconda.org/conda-forge/linux-64/pyopenssl-19.0.0-py36_0.tar.bz2\n",
        "https://conda.anaconda.org/rdkit/linux-64/rdkit-2017.09.1-py36_1.tar.bz2\n",
        "https://conda.anaconda.org/conda-forge/linux-64/statsmodels-0.10.2-py36hc1659b7_0.tar.bz2\n",
        "https://conda.anaconda.org/conda-forge/noarch/molvs-0.1.1-py_0.tar.bz2\n",
        "https://conda.anaconda.org/conda-forge/noarch/mordred-1.2.0-py_1.tar.bz2\n",
        "https://conda.anaconda.org/conda-forge/noarch/nbformat-5.0.7-py_0.tar.bz2\n",
        "https://conda.anaconda.org/conda-forge/linux-64/pytables-3.6.1-py36h7b0bd57_2.tar.bz2\n",
        "https://conda.anaconda.org/conda-forge/linux-64/pytest-6.0.1-py36h9f0ad1d_0.tar.bz2\n",
        "https://conda.anaconda.org/conda-forge/noarch/seaborn-0.10.0-py_0.tar.bz2\n",
        "https://conda.anaconda.org/deepchem/noarch/simdna-0.4.2-py_0.tar.bz2\n",
        "https://conda.anaconda.org/conda-forge/noarch/swagger-spec-validator-2.7.3-pyh9f0ad1d_0.tar.bz2\n",
        "https://conda.anaconda.org/conda-forge/linux-64/tensorboard-1.6.0-py36_0.tar.bz2\n",
        "https://conda.anaconda.org/conda-forge/linux-64/umap-learn-0.4.2-py36h9f0ad1d_0.tar.bz2\n",
        "https://conda.anaconda.org/conda-forge/linux-64/urllib3-1.22-py36_0.tar.bz2\n",
        "https://conda.anaconda.org/conda-forge/noarch/wcwidth-0.2.5-pyh9f0ad1d_1.tar.bz2\n",
        "https://conda.anaconda.org/conda-forge/noarch/bravado-core-5.16.0-py_0.tar.bz2\n",
        "https://conda.anaconda.org/deepchem/linux-64/mdtraj-1.9.1-py36_1.tar.bz2\n",
        "https://conda.anaconda.org/conda-forge/linux-64/nbconvert-5.6.1-py36h9f0ad1d_1.tar.bz2\n",
        "https://conda.anaconda.org/conda-forge/noarch/prompt-toolkit-3.0.7-py_0.tar.bz2\n",
        "https://conda.anaconda.org/conda-forge/linux-64/requests-2.18.4-py36_1.tar.bz2\n",
        "https://conda.anaconda.org/conda-forge/linux-64/tensorflow-1.6.0-py36_0.tar.bz2\n",
        "https://conda.anaconda.org/conda-forge/noarch/bravado-10.4.3-py_0.tar.bz2\n",
        "https://conda.anaconda.org/conda-forge/linux-64/conda-4.8.4-py36h9f0ad1d_2.tar.bz2\n",
        "https://conda.anaconda.org/conda-forge/linux-64/ipython-7.16.1-py36h95af2a2_0.tar.bz2\n",
        "https://conda.anaconda.org/conda-forge/noarch/prompt_toolkit-3.0.7-0.tar.bz2\n",
        "https://conda.anaconda.org/conda-forge/linux-64/ipykernel-5.3.4-py36h95af2a2_0.tar.bz2\n",
        "https://conda.anaconda.org/conda-forge/noarch/jupyter_console-6.2.0-py_0.tar.bz2\n",
        "https://conda.anaconda.org/conda-forge/linux-64/notebook-6.1.3-py36h9f0ad1d_0.tar.bz2\n",
        "https://conda.anaconda.org/conda-forge/noarch/qtconsole-4.7.7-pyh9f0ad1d_0.tar.bz2\n",
        "https://conda.anaconda.org/conda-forge/linux-64/widgetsnbextension-3.5.1-py36h9f0ad1d_1.tar.bz2\n",
        "https://conda.anaconda.org/conda-forge/noarch/ipywidgets-7.5.1-py_0.tar.bz2\n",
        "https://conda.anaconda.org/conda-forge/noarch/jupyter-1.0.0-py_2.tar.bz2\n",
        "https://conda.anaconda.org/deepchem/linux-64/deepchem-2.1.0-py36_0.tar.bz2\n",
        "EOF"
      ],
      "execution_count": 8,
      "outputs": []
    },
    {
      "cell_type": "markdown",
      "metadata": {
        "id": "LadFpvDUmkyU",
        "colab_type": "text"
      },
      "source": [
        "## Install code dependencies"
      ]
    },
    {
      "cell_type": "markdown",
      "metadata": {
        "id": "8NhgLsxfnvIK",
        "colab_type": "text"
      },
      "source": [
        "# Install AMPL conda dependencies\n",
        "# 4 min\n",
        "```\n",
        "real\t1m53.391s\n",
        "user\t1m12.443s\n",
        "sys\t0m9.643s\n",
        "```"
      ]
    },
    {
      "cell_type": "code",
      "metadata": {
        "id": "NadTbhGOjEFl",
        "colab_type": "code",
        "colab": {
          "base_uri": "https://localhost:8080/",
          "height": 1000
        },
        "outputId": "08ef5381-ece2-4e46-89d4-1ee2059624ce"
      },
      "source": [
        "!time /content/AMPL/bin/conda install --file AMPL.txt -y"
      ],
      "execution_count": 13,
      "outputs": [
        {
          "output_type": "stream",
          "text": [
            "\n",
            "Downloading and Extracting Packages\n",
            "_libgcc_mutex-0.1    | : 100% 1.0/1 [00:00<00:00,  7.23it/s]\n",
            "ca-certificates-2020 | : 100% 1.0/1 [00:00<00:00, 17.81it/s]\n",
            "fftw3f-3.3.4         | : 100% 1.0/1 [00:01<00:00,  1.88s/it]\n",
            "libgfortran-3.0.0    | : 100% 1.0/1 [00:00<00:00, 14.82it/s]\n",
            "libgfortran-ng-7.5.0 | : 100% 1.0/1 [00:00<00:00,  4.56it/s]\n",
            "libstdcxx-ng-9.3.0   | : 100% 1.0/1 [00:00<00:00,  1.89it/s]\n",
            "pandoc-2.10.1        | : 100% 1.0/1 [00:03<00:00,  3.45s/it]\n",
            "libgomp-9.3.0        | : 100% 1.0/1 [00:00<00:00, 13.90it/s]\n",
            "openblas-0.2.20      | : 100% 1.0/1 [00:02<00:00,  3.33s/it]               \n",
            "_openmp_mutex-4.5    | : 100% 1.0/1 [00:00<00:00, 31.84it/s]\n",
            "blas-1.1             | : 100% 1.0/1 [00:00<00:00, 42.59it/s]\n",
            "libgcc-ng-9.3.0      | : 100% 1.0/1 [00:00<00:00,  1.01it/s]\n",
            "blosc-1.20.0         | : 100% 1.0/1 [00:00<00:00,  4.44s/it]                 \n",
            "bzip2-1.0.8          | : 100% 1.0/1 [00:00<00:00, 12.57it/s]\n",
            "c-ares-1.16.1        | : 100% 1.0/1 [00:00<00:00, 24.90it/s]\n",
            "expat-2.2.9          | : 100% 1.0/1 [00:00<00:00, 20.33it/s]\n",
            "icu-58.2             | : 100% 1.0/1 [00:02<00:00,  2.97s/it]               \n",
            "jpeg-9d              | : 100% 1.0/1 [00:00<00:00, 15.22it/s]\n",
            "libffi-3.2.1         | : 100% 1.0/1 [00:00<00:00, 33.17it/s]\n",
            "libiconv-1.16        | : 100% 1.0/1 [00:00<00:00,  6.21it/s]\n",
            "libsodium-1.0.18     | : 100% 1.0/1 [00:00<00:00,  4.79it/s]                \n",
            "libuuid-2.32.1       | : 100% 1.0/1 [00:00<00:00, 17.27it/s]\n",
            "lzo-2.10             | : 100% 1.0/1 [00:00<00:00, 13.21it/s]\n",
            "ncurses-6.2          | : 100% 1.0/1 [00:00<00:00,  3.44it/s]\n",
            "openssl-1.0.2u       | : 100% 1.0/1 [00:00<00:00,  2.20it/s]\n",
            "pcre-8.44            | : 100% 1.0/1 [00:00<00:00, 15.06it/s]\n",
            "pixman-0.34.0        | : 100% 1.0/1 [00:00<00:00,  9.60it/s]\n",
            "pthread-stubs-0.4    | : 100% 1.0/1 [00:00<00:00, 46.03it/s]\n",
            "tbb-2020.2           | : 100% 1.0/1 [00:00<00:00,  5.52it/s]\n",
            "xorg-kbproto-1.0.7   | : 100% 1.0/1 [00:00<00:00, 35.39it/s]\n",
            "xorg-libice-1.0.10   | : 100% 1.0/1 [00:00<00:00, 33.35it/s]\n",
            "xorg-libxau-1.0.9    | : 100% 1.0/1 [00:00<00:00, 45.02it/s]\n",
            "xorg-libxdmcp-1.1.3  | : 100% 1.0/1 [00:00<00:00, 34.06it/s]\n",
            "xorg-renderproto-0.1 | : 100% 1.0/1 [00:00<00:00, 46.65it/s]\n",
            "xorg-xextproto-7.3.0 | : 100% 1.0/1 [00:00<00:00, 32.89it/s]\n",
            "xorg-xproto-7.0.31   | : 100% 1.0/1 [00:00<00:00, 29.70it/s]\n",
            "xz-5.2.5             | : 100% 1.0/1 [00:00<00:00, 10.22it/s]\n",
            "yaml-0.2.5           | : 100% 1.0/1 [00:00<00:00, 18.90it/s]\n",
            "zlib-1.2.11          | : 100% 1.0/1 [00:00<00:00, 24.31it/s]\n",
            "dbus-1.13.0          | : 100% 1.0/1 [00:00<00:00,  5.18it/s]                \n",
            "gettext-0.19.8.1     | : 100% 1.0/1 [00:00<00:00,  1.50it/s]\n",
            "hdf5-1.10.6          | : 100% 1.0/1 [00:00<00:00,  2.57it/s]\n",
            "libllvm9-9.0.1       | : 100% 1.0/1 [00:03<00:00,  4.93s/it]               \n",
            "libpng-1.6.37        | : 100% 1.0/1 [00:00<00:00, 11.11it/s]\n",
            "libprotobuf-3.13.0   | : 100% 1.0/1 [00:00<00:00,  2.46it/s]\n",
            "libtiff-4.0.9        | : 100% 1.0/1 [00:00<00:00,  9.53it/s]\n",
            "libxcb-1.13          | : 100% 1.0/1 [00:00<00:00,  8.73it/s]\n",
            "libxml2-2.9.9        | : 100% 1.0/1 [00:00<00:00,  3.50it/s]\n",
            "readline-7.0         | : 100% 1.0/1 [00:00<00:00, 11.88it/s]\n",
            "tk-8.6.10            | : 100% 1.0/1 [00:00<00:00,  2.17it/s]\n",
            "xorg-libsm-1.2.3     | : 100% 1.0/1 [00:00<00:00, 41.19it/s]\n",
            "zeromq-4.3.2         | : 100% 1.0/1 [00:00<00:00, 13.16it/s]\n",
            "freetype-2.8.1       | : 100% 1.0/1 [00:00<00:00,  3.47s/it]                \n",
            "glib-2.55.0          | : 100% 1.0/1 [00:01<00:00,  1.17s/it]\n",
            "sqlite-3.28.0        | : 100% 1.0/1 [00:00<00:00,  3.94it/s]\n",
            "xorg-libx11-1.6.12   | : 100% 1.0/1 [00:00<00:00,  5.87it/s]\n",
            "fontconfig-2.13.0    | : 100% 1.0/1 [00:00<00:00,  6.08it/s]                \n",
            "gstreamer-1.12.5     | : 100% 1.0/1 [00:00<00:00,  7.16s/it]               \n",
            "python-3.6.7         | : 100% 1.0/1 [00:03<00:00,  3.76s/it]               \n",
            "xorg-libxext-1.3.4   | : 100% 1.0/1 [00:00<00:00, 35.54it/s]\n",
            "xorg-libxrender-0.9. | : 100% 1.0/1 [00:00<00:00, 38.41it/s]\n",
            "asn1crypto-1.4.0     | : 100% 1.0/1 [00:00<00:00, 25.65it/s]\n",
            "astor-0.8.1          | : 100% 1.0/1 [00:00<00:00, 33.23it/s]\n",
            "attrs-20.1.0         | : 100% 1.0/1 [00:00<00:00, 34.26it/s]\n",
            "backcall-0.2.0       | : 100% 1.0/1 [00:00<00:00, 40.36it/s]\n",
            "backports-1.0        | : 100% 1.0/1 [00:00<00:00, 50.48it/s]\n",
            "cairo-1.14.12        | : 100% 1.0/1 [00:00<00:00,  6.24s/it]                 \n",
            "decorator-4.4.2      | : 100% 1.0/1 [00:00<00:00, 33.32it/s]\n",
            "defusedxml-0.6.0     | : 100% 1.0/1 [00:00<00:00, 35.42it/s]\n",
            "gast-0.4.0           | : 100% 1.0/1 [00:00<00:00, 43.07it/s]\n",
            "gst-plugins-base-1.1 | : 100% 1.0/1 [00:00<00:00, 16.76s/it]               \n",
            "idna-2.6             | : 100% 1.0/1 [00:00<00:00,  7.73it/s]                \n",
            "iniconfig-1.0.1      | : 100% 1.0/1 [00:00<00:00, 46.09it/s]\n",
            "ipython_genutils-0.2 | : 100% 1.0/1 [00:00<00:00, 41.52it/s]\n",
            "joblib-0.11          | : 100% 1.0/1 [00:00<00:00,  5.74it/s]                \n",
            "jsonref-0.2          | : 100% 1.0/1 [00:00<00:00,  9.22it/s]\n",
            "monotonic-1.5        | : 100% 1.0/1 [00:00<00:00, 40.87it/s]\n",
            "more-itertools-8.5.0 | : 100% 1.0/1 [00:00<00:00, 35.74it/s]\n",
            "msgpack-python-0.5.5 | : 100% 1.0/1 [00:00<00:00,  1.79s/it]                 \n",
            "numpy-1.15.2         | : 100% 1.0/1 [00:02<00:00, 12.99s/it]               \n",
            "olefile-0.46         | : 100% 1.0/1 [00:00<00:00, 28.50it/s]\n",
            "pandocfilters-1.4.2  | : 100% 1.0/1 [00:00<00:00, 43.60it/s]\n",
            "parso-0.7.1          | : 100% 1.0/1 [00:00<00:00, 23.26it/s]\n",
            "prometheus_client-0. | : 100% 1.0/1 [00:00<00:00, 31.04it/s]\n",
            "ptyprocess-0.6.0     | : 100% 1.0/1 [00:00<00:00, 44.88it/s]\n",
            "py-1.9.0             | : 100% 1.0/1 [00:00<00:00, 27.49it/s]\n",
            "pycparser-2.20       | : 100% 1.0/1 [00:00<00:00, 21.67it/s]\n",
            "pyparsing-2.4.7      | : 100% 1.0/1 [00:00<00:00, 28.97it/s]\n",
            "python_abi-3.6       | : 100% 1.0/1 [00:00<00:00, 40.38it/s]\n",
            "pytz-2020.1          | : 100% 1.0/1 [00:00<00:00, 10.79it/s]\n",
            "qtpy-1.9.0           | : 100% 1.0/1 [00:00<00:00, 26.88it/s]\n",
            "send2trash-1.5.0     | : 100% 1.0/1 [00:00<00:00, 39.34it/s]\n",
            "sip-4.18.1           | : 100% 1.0/1 [00:00<00:00,  2.52it/s]                \n",
            "six-1.15.0           | : 100% 1.0/1 [00:00<00:00, 37.66it/s]\n",
            "termcolor-1.1.0      | : 100% 1.0/1 [00:00<00:00, 30.19it/s]\n",
            "testpath-0.4.4       | : 100% 1.0/1 [00:00<00:00, 31.97it/s]\n",
            "toml-0.10.1          | : 100% 1.0/1 [00:00<00:00, 42.42it/s]\n",
            "tqdm-4.48.2          | : 100% 1.0/1 [00:00<00:00,  8.76it/s]               \n",
            "webencodings-0.5.1   | : 100% 1.0/1 [00:00<00:00, 43.61it/s]\n",
            "werkzeug-1.0.1       | : 100% 1.0/1 [00:00<00:00, 12.39it/s]\n",
            "wheel-0.35.1         | : 100% 1.0/1 [00:00<00:00, 41.36it/s]\n",
            "zipp-3.1.0           | : 100% 1.0/1 [00:00<00:00, 50.27it/s]\n",
            "absl-py-0.10.0       | : 100% 1.0/1 [00:00<00:00, 19.11it/s]\n",
            "boost-1.63.0         | : 100% 1.0/1 [00:05<00:00,  5.90s/it]\n",
            "certifi-2020.6.20    | : 100% 1.0/1 [00:00<00:00, 22.16it/s]\n",
            "cffi-1.14.1          | : 100% 1.0/1 [00:00<00:00, 16.03it/s]\n",
            "chardet-3.0.4        | : 100% 1.0/1 [00:00<00:00, 19.09it/s]\n",
            "conda-package-handli | : 100% 1.0/1 [00:00<00:00,  9.84s/it]                 \n",
            "cycler-0.10.0        | : 100% 1.0/1 [00:00<00:00, 36.95it/s]\n",
            "cython-0.29.21       | : 100% 1.0/1 [00:00<00:00,  2.60it/s]\n",
            "entrypoints-0.3      | : 100% 1.0/1 [00:00<00:00, 38.93it/s]\n",
            "html5lib-0.9999999   | : 100% 1.0/1 [00:00<00:00,  5.94it/s]               \n",
            "importlib-metadata-1 | : 100% 1.0/1 [00:00<00:00, 32.63it/s]\n",
            "jedi-0.17.2          | : 100% 1.0/1 [00:00<00:00,  3.10it/s]\n",
            "kiwisolver-1.2.0     | : 100% 1.0/1 [00:00<00:00, 30.29it/s]\n",
            "llvmlite-0.33.0      | : 100% 1.0/1 [00:00<00:00, 13.89it/s]\n",
            "markupsafe-1.1.1     | : 100% 1.0/1 [00:00<00:00, 32.20it/s]\n",
            "mistune-0.8.4        | : 100% 1.0/1 [00:00<00:00, 26.59it/s]\n",
            "mock-4.0.2           | : 100% 1.0/1 [00:00<00:00, 30.20it/s]\n",
            "packaging-20.4       | : 100% 1.0/1 [00:00<00:00, 34.22it/s]\n",
            "pexpect-4.8.0        | : 100% 1.0/1 [00:00<00:00, 29.54it/s]\n",
            "pickleshare-0.7.5    | : 100% 1.0/1 [00:00<00:00, 29.82it/s]\n",
            "pillow-5.0.0         | : 100% 1.0/1 [00:00<00:00,  3.37s/it]               \n",
            "pycosat-0.6.3        | : 100% 1.0/1 [00:00<00:00, 25.84it/s]\n",
            "pyrsistent-0.16.0    | : 100% 1.0/1 [00:00<00:00, 22.32it/s]\n",
            "pysocks-1.7.1        | : 100% 1.0/1 [00:00<00:00, 37.18it/s]\n",
            "python-dateutil-2.8. | : 100% 1.0/1 [00:00<00:00, 21.55it/s]\n",
            "pyyaml-5.3.1         | : 100% 1.0/1 [00:00<00:00, 18.23it/s]\n",
            "pyzmq-19.0.2         | : 100% 1.0/1 [00:00<00:00,  8.32it/s]\n",
            "qt-5.6.2             | : 100% 1.0/1 [00:01<00:00,  1.53s/it]              \n",
            "ruamel_yaml-0.15.80  | : 100% 1.0/1 [00:00<00:00, 14.37it/s]\n",
            "scipy-1.1.0          | : 100% 1.0/1 [00:05<00:00,  3.97s/it]               \n",
            "simplejson-3.17.2    | : 100% 1.0/1 [00:00<00:00, 23.36it/s]\n",
            "tornado-6.0.4        | : 100% 1.0/1 [00:00<00:00,  7.85it/s]\n",
            "traitlets-4.3.3      | : 100% 1.0/1 [00:00<00:00, 17.85it/s]\n",
            "argon2-cffi-20.1.0   | : 100% 1.0/1 [00:00<00:00, 32.73it/s]\n",
            "bleach-1.5.0         | : 100% 1.0/1 [00:00<00:00,  7.97it/s]               \n",
            "cryptography-2.5     | : 100% 1.0/1 [00:00<00:00,  7.18it/s]\n",
            "importlib_metadata-1 | : 100% 1.0/1 [00:00<00:00, 34.08it/s]\n",
            "jupyter_core-4.6.3   | : 100% 1.0/1 [00:00<00:00, 26.97it/s]\n",
            "markdown-3.2.2       | : 100% 1.0/1 [00:00<00:00, 29.94it/s]\n",
            "openmm-7.4.2         | : 100% 1.0/1 [00:04<00:00,  4.33s/it]\n",
            "pandas-0.22.0        | : 100% 1.0/1 [00:04<00:00,  4.61s/it]               \n",
            "patsy-0.5.1          | : 100% 1.0/1 [00:00<00:00, 20.24it/s]\n",
            "pyqt-5.6.0           | : 100% 1.0/1 [00:01<00:00, 18.83s/it]               \n",
            "scikit-learn-0.19.1  | : 100% 1.0/1 [00:02<00:00,  2.56s/it]               \n",
            "setuptools-49.6.0    | : 100% 1.0/1 [00:00<00:00,  4.68s/it]                 \n",
            "terminado-0.8.3      | : 100% 1.0/1 [00:00<00:00, 37.38it/s]\n",
            "xgboost-0.6a2        | : 100% 1.0/1 [00:00<00:00,  5.18s/it]                 \n",
            "anyconfig-0.9.10     | : 100% 1.0/1 [00:00<00:00, 29.72it/s]\n",
            "backports.functools_ | : 100% 1.0/1 [00:00<00:00, 41.34it/s]\n",
            "grpcio-1.16.0        | : 100% 1.0/1 [00:00<00:00,  5.95it/s]\n",
            "jinja2-2.11.2        | : 100% 1.0/1 [00:00<00:00, 25.91it/s]\n",
            "jsonschema-3.2.0     | : 100% 1.0/1 [00:00<00:00, 22.30it/s]\n",
            "jupyter_client-6.1.7 | : 100% 1.0/1 [00:00<00:00, 24.80it/s]\n",
            "matplotlib-2.2.2     | : 100% 1.0/1 [00:00<00:00, 21.29s/it]               \n",
            "networkx-2.1         | : 100% 1.0/1 [00:00<00:00,  5.50s/it]                 \n",
            "numba-0.50.1         | : 100% 1.0/1 [00:00<00:00,  1.46it/s]\n",
            "numexpr-2.7.1        | : 100% 1.0/1 [00:00<00:00, 21.98it/s]\n",
            "pdbfixer-1.4         | : 100% 1.0/1 [00:01<00:00,  1.37s/it]\n",
            "pip-20.2.2           | : 100% 1.0/1 [00:00<00:00,  5.05it/s]\n",
            "pluggy-0.13.1        | : 100% 1.0/1 [00:00<00:00, 31.43it/s]\n",
            "protobuf-3.13.0      | : 100% 1.0/1 [00:00<00:00,  5.15it/s]\n",
            "pygments-2.6.1       | : 100% 1.0/1 [00:00<00:00,  7.17it/s]\n",
            "pyopenssl-19.0.0     | : 100% 1.0/1 [00:00<00:00, 23.88it/s]\n",
            "rdkit-2017.09.1      | : 100% 1.0/1 [00:05<00:00,  5.18s/it]\n",
            "statsmodels-0.10.2   | : 100% 1.0/1 [00:01<00:00, 20.04s/it]               \n",
            "molvs-0.1.1          | : 100% 1.0/1 [00:00<00:00,  8.54it/s]               \n",
            "mordred-1.2.0        | : 100% 1.0/1 [00:00<00:00,  6.90it/s]               \n",
            "nbformat-5.0.7       | : 100% 1.0/1 [00:00<00:00, 22.19it/s]\n",
            "pytables-3.6.1       | : 100% 1.0/1 [00:00<00:00,  3.78it/s]\n",
            "pytest-6.0.1         | : 100% 1.0/1 [00:00<00:00, 10.68it/s]\n",
            "seaborn-0.10.0       | : 100% 1.0/1 [00:00<00:00,  6.63it/s]                \n",
            "simdna-0.4.2         | : 100% 1.0/1 [00:01<00:00,  1.67s/it]\n",
            "swagger-spec-validat | : 100% 1.0/1 [00:00<00:00,  8.49it/s]               \n",
            "tensorboard-1.6.0    | : 100% 1.0/1 [00:00<00:00, 14.33s/it]                  \n",
            "umap-learn-0.4.2     | : 100% 1.0/1 [00:00<00:00,  7.98it/s]                \n",
            "urllib3-1.22         | : 100% 1.0/1 [00:00<00:00,  4.80it/s]               \n",
            "wcwidth-0.2.5        | : 100% 1.0/1 [00:00<00:00, 30.69it/s]\n",
            "bravado-core-5.16.0  | : 100% 1.0/1 [00:00<00:00,  7.95it/s]               \n",
            "mdtraj-1.9.1         | : 100% 1.0/1 [00:02<00:00,  2.74s/it]\n",
            "nbconvert-5.6.1      | : 100% 1.0/1 [00:00<00:00,  7.51it/s]\n",
            "prompt-toolkit-3.0.7 | : 100% 1.0/1 [00:00<00:00, 14.82it/s]\n",
            "requests-2.18.4      | : 100% 1.0/1 [00:00<00:00,  7.57it/s]                \n",
            "tensorflow-1.6.0     | : 100% 1.0/1 [00:08<00:00,  8.66s/it]               \n",
            "bravado-10.4.3       | : 100% 1.0/1 [00:00<00:00,  8.69it/s]              \n",
            "conda-4.8.4          | : 100% 1.0/1 [00:00<00:00,  2.05it/s]\n",
            "ipython-7.16.1       | : 100% 1.0/1 [00:00<00:00,  3.87it/s]\n",
            "prompt_toolkit-3.0.7 | : 100% 1.0/1 [00:00<00:00, 38.53it/s]\n",
            "ipykernel-5.3.4      | : 100% 1.0/1 [00:00<00:00, 16.62it/s]\n",
            "jupyter_console-6.2. | : 100% 1.0/1 [00:00<00:00, 38.89it/s]\n",
            "notebook-6.1.3       | : 100% 1.0/1 [00:01<00:00,  1.03s/it]\n",
            "qtconsole-4.7.7      | : 100% 1.0/1 [00:00<00:00, 24.79it/s]\n",
            "widgetsnbextension-3 | : 100% 1.0/1 [00:00<00:00,  2.85it/s]\n",
            "ipywidgets-7.5.1     | : 100% 1.0/1 [00:00<00:00, 20.14it/s]\n",
            "jupyter-1.0.0        | : 100% 1.0/1 [00:00<00:00, 42.49it/s]\n",
            "deepchem-2.1.0       | : 100% 1.0/1 [00:01<00:00,  1.97s/it]\n",
            "Preparing transaction: - \b\b\\ \b\b| \b\b/ \b\b- \b\b\\ \b\b| \b\b/ \b\b- \b\b\\ \b\b| \b\b/ \b\b- \b\b\\ \b\b| \b\b/ \b\b- \b\b\\ \b\bdone\n",
            "Verifying transaction: / \b\b- \b\b\\ \b\b| \b\b/ \b\b- \b\b\\ \b\b| \b\b/ \b\b- \b\b\\ \b\b| \b\b/ \b\b- \b\b\\ \b\b| \b\b/ \b\b- \b\b\\ \b\b| \b\b/ \b\b- \b\b\\ \b\b| \b\b/ \b\b- \b\b\\ \b\b| \b\b/ \b\b- \b\b\\ \b\b| \b\b/ \b\b- \b\b\\ \b\b| \b\b/ \b\b- \b\b\\ \b\b| \b\b/ \b\b- \b\b\\ \b\b| \b\b/ \b\b- \b\b\\ \b\b| \b\b/ \b\b- \b\b\\ \b\b| \b\b/ \b\b- \b\b\\ \b\b| \b\b/ \b\b- \b\b\\ \b\b| \b\b/ \b\b- \b\b\\ \b\b| \b\b/ \b\b- \b\b\\ \b\b| \b\b/ \b\bdone\n",
            "Executing transaction: \\ \b\b| \b\b/ \b\b- \b\b\\ \b\b| \b\b/ \b\b- \b\b\\ \b\b| \b\b/ \b\b- \b\b\\ \b\b| \b\b/ \b\b- \b\b\\ \b\b| \b\b/ \b\b- \b\b\\ \b\b| \b\b/ \b\b- \b\b\\ \b\b| \b\b/ \b\b- \b\b\\ b'Enabling notebook extension jupyter-js-widgets/extension...\\nPaths used for configuration of notebook: \\n    \\t/content/AMPL/etc/jupyter/nbconfig/notebook.d/widgetsnbextension.json\\n    \\t/content/AMPL/etc/jupyter/nbconfig/notebook.json\\nPaths used for configuration of notebook: \\n    \\t/content/AMPL/etc/jupyter/nbconfig/notebook.d/widgetsnbextension.json\\n      - Validating: \\x1b[32mOK\\x1b[0m\\nPaths used for configuration of notebook: \\n    \\t/content/AMPL/etc/jupyter/nbconfig/notebook.d/widgetsnbextension.json\\n    \\t/content/AMPL/etc/jupyter/nbconfig/notebook.json\\n'\n",
            "\b\b| \b\b/ \b\b- \b\b\\ \b\b| \b\b/ \b\b- \b\b\\ \b\b| \b\b/ \b\b- \b\b\\ \b\b| \b\b/ \b\b- \b\b\\ \b\b| \b\b/ \b\b- \b\b\\ \b\b| \b\b/ \b\b- \b\b\\ \b\b| \b\b/ \b\b- \b\b\\ \b\b| \b\b/ \b\b- \b\b\\ \b\b| \b\b/ \b\b- \b\b\\ \b\b| \b\b/ \b\b- \b\b\\ \b\b| \b\b/ \b\b- \b\b\\ \b\b| \b\b/ \b\bdone\n",
            "\n",
            "real\t1m53.391s\n",
            "user\t1m12.443s\n",
            "sys\t0m9.643s\n"
          ],
          "name": "stdout"
        }
      ]
    },
    {
      "cell_type": "code",
      "metadata": {
        "id": "FsCjVvPu83Ql",
        "colab_type": "code",
        "colab": {
          "base_uri": "https://localhost:8080/",
          "height": 70
        },
        "outputId": "8c904ce5-94df-4f24-b4fb-7ce279c6aa21"
      },
      "source": [
        "# Get AMPL Python version\n",
        "!/content/AMPL/bin/python -V\n",
        "!/content/AMPL/bin/pip -V\n",
        "!/content/AMPL/bin/conda -V"
      ],
      "execution_count": 15,
      "outputs": [
        {
          "output_type": "stream",
          "text": [
            "Python 3.6.7\n",
            "pip 20.2.2 from /content/AMPL/lib/python3.6/site-packages/pip (python 3.6)\n",
            "conda 4.8.4\n"
          ],
          "name": "stdout"
        }
      ]
    },
    {
      "cell_type": "code",
      "metadata": {
        "id": "t1JgqHIGiuTs",
        "colab_type": "code",
        "colab": {
          "base_uri": "https://localhost:8080/",
          "height": 34
        },
        "outputId": "f43421e9-6a3d-4daf-eb83-b6c6a5fa7571"
      },
      "source": [
        "# Clone AMPL source\n",
        "%%bash\n",
        "mkdir github\n",
        "cd github\n",
        "git clone https://github.com/ATOMconsortium/AMPL.git"
      ],
      "execution_count": 20,
      "outputs": [
        {
          "output_type": "stream",
          "text": [
            "Cloning into 'AMPL'...\n"
          ],
          "name": "stderr"
        }
      ]
    },
    {
      "cell_type": "code",
      "metadata": {
        "id": "SiJL8BImEpSb",
        "colab_type": "code",
        "colab": {
          "base_uri": "https://localhost:8080/",
          "height": 34
        },
        "outputId": "67441908-fb12-4af4-9c5c-a38536c19347"
      },
      "source": [
        "# There is a problem with the UMAP package so remove umap import\n",
        "%%bash\n",
        "cat << \"EOF\" > transformations_py.patch\n",
        "--- transformations.py  2020-09-14 17:08:22.225747322 -0700\n",
        "+++ transformations_patched.py  2020-09-14 17:08:07.869651225 -0700\n",
        "@@ -9,7 +9,7 @@\n",
        "\n",
        " import numpy as np\n",
        " import pandas as pd\n",
        "-import umap\n",
        "+# import umap\n",
        "\n",
        " import deepchem as dc\n",
        " from deepchem.trans.transformers import Transformer, NormalizationTransformer\n",
        "EOF\n",
        "\n",
        "patch -N /content/github/AMPL/atomsci/ddm/pipeline/transformations.py transformations_py.patch"
      ],
      "execution_count": 21,
      "outputs": [
        {
          "output_type": "stream",
          "text": [
            "patching file /content/github/AMPL/atomsci/ddm/pipeline/transformations.py\n"
          ],
          "name": "stdout"
        }
      ]
    },
    {
      "cell_type": "code",
      "metadata": {
        "id": "54cu-gGYlYzM",
        "colab_type": "code",
        "colab": {
          "base_uri": "https://localhost:8080/",
          "height": 34
        },
        "outputId": "690d5b3f-ebf2-40cf-eff3-44665e929646"
      },
      "source": [
        "# There is a problem with dependency checking on import after install\n",
        "%%bash\n",
        "cat << \"EOF\" > __init___py.patch\n",
        "--- /content/AMPL/atomsci/ddm/__init__.py.backup\t2020-09-19 18:10:05.264013977 +0000\n",
        "+++ /content/AMPL/atomsci/ddm/__init__.py\t2020-09-19 18:15:37.338771924 +0000\n",
        "@@ -1,6 +1,6 @@\n",
        " import pkg_resources\n",
        " try:\n",
        "     __version__ = pkg_resources.require(\"atomsci-ampl\")[0].version\n",
        "-except TypeError:\n",
        "+except:\n",
        "     pass\n",
        "EOF\n",
        "\n",
        "patch -N /content/github/AMPL/atomsci/ddm/__init__.py __init___py.patch"
      ],
      "execution_count": 22,
      "outputs": [
        {
          "output_type": "stream",
          "text": [
            "patching file /content/github/AMPL/atomsci/ddm/__init__.py\n"
          ],
          "name": "stdout"
        }
      ]
    },
    {
      "cell_type": "code",
      "metadata": {
        "id": "mGZQvkfnjU0L",
        "colab_type": "code",
        "colab": {
          "base_uri": "https://localhost:8080/",
          "height": 1000
        },
        "outputId": "51b7a6ca-f351-4f1b-b4e5-0fc009a71954"
      },
      "source": [
        "# Build and install AMPL\n",
        "%%bash\n",
        "# Move conda python to beginning of PATH in this cell\n",
        "PATH=/content/AMPL/bin:$PATH\n",
        "# Clear PYTHONPATH\n",
        "PYTHONPATH=\n",
        "\n",
        "cd /content/github/AMPL\n",
        "./build.sh\n",
        "./install.sh system"
      ],
      "execution_count": 23,
      "outputs": [
        {
          "output_type": "stream",
          "text": [
            "running build\n",
            "running build_py\n",
            "creating /content/github/AMPL.build/ampl/lib\n",
            "creating /content/github/AMPL.build/ampl/lib/atomsci\n",
            "copying atomsci/__init__.py -> /content/github/AMPL.build/ampl/lib/atomsci\n",
            "creating /content/github/AMPL.build/ampl/lib/atomsci/ddm\n",
            "copying atomsci/ddm/__init__.py -> /content/github/AMPL.build/ampl/lib/atomsci/ddm\n",
            "creating /content/github/AMPL.build/ampl/lib/atomsci/ddm/utils\n",
            "copying atomsci/ddm/utils/struct_utils.py -> /content/github/AMPL.build/ampl/lib/atomsci/ddm/utils\n",
            "copying atomsci/ddm/utils/data_curation_functions.py -> /content/github/AMPL.build/ampl/lib/atomsci/ddm/utils\n",
            "copying atomsci/ddm/utils/process_slurm.py -> /content/github/AMPL.build/ampl/lib/atomsci/ddm/utils\n",
            "copying atomsci/ddm/utils/hyperparam_search_wrapper.py -> /content/github/AMPL.build/ampl/lib/atomsci/ddm/utils\n",
            "copying atomsci/ddm/utils/genTestset.py -> /content/github/AMPL.build/ampl/lib/atomsci/ddm/utils\n",
            "copying atomsci/ddm/utils/pubchem_utils.py -> /content/github/AMPL.build/ampl/lib/atomsci/ddm/utils\n",
            "copying atomsci/ddm/utils/curate_data.py -> /content/github/AMPL.build/ampl/lib/atomsci/ddm/utils\n",
            "copying atomsci/ddm/utils/datastore_functions.py -> /content/github/AMPL.build/ampl/lib/atomsci/ddm/utils\n",
            "copying atomsci/ddm/utils/__init__.py -> /content/github/AMPL.build/ampl/lib/atomsci/ddm/utils\n",
            "copying atomsci/ddm/utils/llnl_utils.py -> /content/github/AMPL.build/ampl/lib/atomsci/ddm/utils\n",
            "copying atomsci/ddm/utils/open-docs.py -> /content/github/AMPL.build/ampl/lib/atomsci/ddm/utils\n",
            "creating /content/github/AMPL.build/ampl/lib/atomsci/ddm/pipeline\n",
            "copying atomsci/ddm/pipeline/parameter_parser.py -> /content/github/AMPL.build/ampl/lib/atomsci/ddm/pipeline\n",
            "copying atomsci/ddm/pipeline/hyper_perf_plots.py -> /content/github/AMPL.build/ampl/lib/atomsci/ddm/pipeline\n",
            "copying atomsci/ddm/pipeline/perf_plots.py -> /content/github/AMPL.build/ampl/lib/atomsci/ddm/pipeline\n",
            "copying atomsci/ddm/pipeline/featurization.py -> /content/github/AMPL.build/ampl/lib/atomsci/ddm/pipeline\n",
            "copying atomsci/ddm/pipeline/diversity_plots.py -> /content/github/AMPL.build/ampl/lib/atomsci/ddm/pipeline\n",
            "copying atomsci/ddm/pipeline/dist_metrics.py -> /content/github/AMPL.build/ampl/lib/atomsci/ddm/pipeline\n",
            "copying atomsci/ddm/pipeline/ave_splitter.py -> /content/github/AMPL.build/ampl/lib/atomsci/ddm/pipeline\n",
            "copying atomsci/ddm/pipeline/__init__.py -> /content/github/AMPL.build/ampl/lib/atomsci/ddm/pipeline\n",
            "copying atomsci/ddm/pipeline/model_tracker.py -> /content/github/AMPL.build/ampl/lib/atomsci/ddm/pipeline\n",
            "copying atomsci/ddm/pipeline/model_datasets.py -> /content/github/AMPL.build/ampl/lib/atomsci/ddm/pipeline\n",
            "copying atomsci/ddm/pipeline/transformations.py -> /content/github/AMPL.build/ampl/lib/atomsci/ddm/pipeline\n",
            "copying atomsci/ddm/pipeline/chem_diversity.py -> /content/github/AMPL.build/ampl/lib/atomsci/ddm/pipeline\n",
            "copying atomsci/ddm/pipeline/model_wrapper.py -> /content/github/AMPL.build/ampl/lib/atomsci/ddm/pipeline\n",
            "copying atomsci/ddm/pipeline/splitting.py -> /content/github/AMPL.build/ampl/lib/atomsci/ddm/pipeline\n",
            "copying atomsci/ddm/pipeline/compare_models.py -> /content/github/AMPL.build/ampl/lib/atomsci/ddm/pipeline\n",
            "copying atomsci/ddm/pipeline/perf_data.py -> /content/github/AMPL.build/ampl/lib/atomsci/ddm/pipeline\n",
            "copying atomsci/ddm/pipeline/temporal_splitter.py -> /content/github/AMPL.build/ampl/lib/atomsci/ddm/pipeline\n",
            "copying atomsci/ddm/pipeline/model_pipeline.py -> /content/github/AMPL.build/ampl/lib/atomsci/ddm/pipeline\n",
            "running egg_info\n",
            "creating /content/github/AMPL.build/ampl/atomsci_ampl.egg-info\n",
            "writing /content/github/AMPL.build/ampl/atomsci_ampl.egg-info/PKG-INFO\n",
            "writing dependency_links to /content/github/AMPL.build/ampl/atomsci_ampl.egg-info/dependency_links.txt\n",
            "writing namespace_packages to /content/github/AMPL.build/ampl/atomsci_ampl.egg-info/namespace_packages.txt\n",
            "writing top-level names to /content/github/AMPL.build/ampl/atomsci_ampl.egg-info/top_level.txt\n",
            "writing manifest file '/content/github/AMPL.build/ampl/atomsci_ampl.egg-info/SOURCES.txt'\n",
            "reading manifest file '/content/github/AMPL.build/ampl/atomsci_ampl.egg-info/SOURCES.txt'\n",
            "reading manifest template 'MANIFEST.in'\n",
            "writing manifest file '/content/github/AMPL.build/ampl/atomsci_ampl.egg-info/SOURCES.txt'\n",
            "creating /content/github/AMPL.build/ampl/lib/atomsci/ddm/data\n",
            "copying atomsci/ddm/data/descriptor_sets_sources_by_descr_type.csv -> /content/github/AMPL.build/ampl/lib/atomsci/ddm/data\n",
            "running bdist_wheel\n",
            "installing to /content/github/AMPL.build/ampl/bdist.linux-x86_64/wheel\n",
            "running install\n",
            "running install_lib\n",
            "copying atomsci/ddm/__init__.py -> /content/github/AMPL.build/ampl/bdist.linux-x86_64/wheel/atomsci/ddm\n",
            "copying atomsci/ddm/data/descriptor_sets_sources_by_descr_type.csv -> /content/github/AMPL.build/ampl/bdist.linux-x86_64/wheel/atomsci/ddm/data\n",
            "copying atomsci/ddm/utils/struct_utils.py -> /content/github/AMPL.build/ampl/bdist.linux-x86_64/wheel/atomsci/ddm/utils\n",
            "copying atomsci/ddm/utils/data_curation_functions.py -> /content/github/AMPL.build/ampl/bdist.linux-x86_64/wheel/atomsci/ddm/utils\n",
            "copying atomsci/ddm/utils/process_slurm.py -> /content/github/AMPL.build/ampl/bdist.linux-x86_64/wheel/atomsci/ddm/utils\n",
            "copying atomsci/ddm/utils/hyperparam_search_wrapper.py -> /content/github/AMPL.build/ampl/bdist.linux-x86_64/wheel/atomsci/ddm/utils\n",
            "copying atomsci/ddm/utils/genTestset.py -> /content/github/AMPL.build/ampl/bdist.linux-x86_64/wheel/atomsci/ddm/utils\n",
            "copying atomsci/ddm/utils/pubchem_utils.py -> /content/github/AMPL.build/ampl/bdist.linux-x86_64/wheel/atomsci/ddm/utils\n",
            "copying atomsci/ddm/utils/curate_data.py -> /content/github/AMPL.build/ampl/bdist.linux-x86_64/wheel/atomsci/ddm/utils\n",
            "copying atomsci/ddm/utils/datastore_functions.py -> /content/github/AMPL.build/ampl/bdist.linux-x86_64/wheel/atomsci/ddm/utils\n",
            "copying atomsci/ddm/utils/__init__.py -> /content/github/AMPL.build/ampl/bdist.linux-x86_64/wheel/atomsci/ddm/utils\n",
            "copying atomsci/ddm/utils/llnl_utils.py -> /content/github/AMPL.build/ampl/bdist.linux-x86_64/wheel/atomsci/ddm/utils\n",
            "copying atomsci/ddm/utils/open-docs.py -> /content/github/AMPL.build/ampl/bdist.linux-x86_64/wheel/atomsci/ddm/utils\n",
            "copying atomsci/ddm/pipeline/parameter_parser.py -> /content/github/AMPL.build/ampl/bdist.linux-x86_64/wheel/atomsci/ddm/pipeline\n",
            "copying atomsci/ddm/pipeline/hyper_perf_plots.py -> /content/github/AMPL.build/ampl/bdist.linux-x86_64/wheel/atomsci/ddm/pipeline\n",
            "copying atomsci/ddm/pipeline/perf_plots.py -> /content/github/AMPL.build/ampl/bdist.linux-x86_64/wheel/atomsci/ddm/pipeline\n",
            "copying atomsci/ddm/pipeline/featurization.py -> /content/github/AMPL.build/ampl/bdist.linux-x86_64/wheel/atomsci/ddm/pipeline\n",
            "copying atomsci/ddm/pipeline/diversity_plots.py -> /content/github/AMPL.build/ampl/bdist.linux-x86_64/wheel/atomsci/ddm/pipeline\n",
            "copying atomsci/ddm/pipeline/dist_metrics.py -> /content/github/AMPL.build/ampl/bdist.linux-x86_64/wheel/atomsci/ddm/pipeline\n",
            "copying atomsci/ddm/pipeline/ave_splitter.py -> /content/github/AMPL.build/ampl/bdist.linux-x86_64/wheel/atomsci/ddm/pipeline\n",
            "copying atomsci/ddm/pipeline/__init__.py -> /content/github/AMPL.build/ampl/bdist.linux-x86_64/wheel/atomsci/ddm/pipeline\n",
            "copying atomsci/ddm/pipeline/model_tracker.py -> /content/github/AMPL.build/ampl/bdist.linux-x86_64/wheel/atomsci/ddm/pipeline\n",
            "copying atomsci/ddm/pipeline/model_datasets.py -> /content/github/AMPL.build/ampl/bdist.linux-x86_64/wheel/atomsci/ddm/pipeline\n",
            "copying atomsci/ddm/pipeline/transformations.py -> /content/github/AMPL.build/ampl/bdist.linux-x86_64/wheel/atomsci/ddm/pipeline\n",
            "copying atomsci/ddm/pipeline/chem_diversity.py -> /content/github/AMPL.build/ampl/bdist.linux-x86_64/wheel/atomsci/ddm/pipeline\n",
            "copying atomsci/ddm/pipeline/model_wrapper.py -> /content/github/AMPL.build/ampl/bdist.linux-x86_64/wheel/atomsci/ddm/pipeline\n",
            "copying atomsci/ddm/pipeline/splitting.py -> /content/github/AMPL.build/ampl/bdist.linux-x86_64/wheel/atomsci/ddm/pipeline\n",
            "copying atomsci/ddm/pipeline/compare_models.py -> /content/github/AMPL.build/ampl/bdist.linux-x86_64/wheel/atomsci/ddm/pipeline\n",
            "copying atomsci/ddm/pipeline/perf_data.py -> /content/github/AMPL.build/ampl/bdist.linux-x86_64/wheel/atomsci/ddm/pipeline\n",
            "copying atomsci/ddm/pipeline/temporal_splitter.py -> /content/github/AMPL.build/ampl/bdist.linux-x86_64/wheel/atomsci/ddm/pipeline\n",
            "copying atomsci/ddm/pipeline/model_pipeline.py -> /content/github/AMPL.build/ampl/bdist.linux-x86_64/wheel/atomsci/ddm/pipeline\n",
            "running install_egg_info\n",
            "Copying /content/github/AMPL.build/ampl/atomsci_ampl.egg-info to /content/github/AMPL.build/ampl/bdist.linux-x86_64/wheel/atomsci_ampl-1.0.0.dev1-py3.6.egg-info\n",
            "Installing /content/github/AMPL.build/ampl/bdist.linux-x86_64/wheel/atomsci_ampl-1.0.0.dev1-py3.6-nspkg.pth\n",
            "running install_scripts\n",
            "adding license file \"LICENSE\" (matched pattern \"LICEN[CS]E*\")\n",
            "adding license file \"NOTICE\" (matched pattern \"NOTICE*\")\n",
            "creating /content/github/AMPL.build/ampl/bdist.linux-x86_64/wheel/atomsci_ampl-1.0.0.dev1.dist-info/WHEEL\n",
            "creating '/content/github/AMPL.dist/atomsci_ampl-1.0.0.dev1-py3-none-any.whl' and adding '/content/github/AMPL.build/ampl/bdist.linux-x86_64/wheel' to it\n",
            "adding 'atomsci_ampl-1.0.0.dev1-py3.6-nspkg.pth'\n",
            "adding 'atomsci/ddm/__init__.py'\n",
            "adding 'atomsci/ddm/data/descriptor_sets_sources_by_descr_type.csv'\n",
            "adding 'atomsci/ddm/pipeline/__init__.py'\n",
            "adding 'atomsci/ddm/pipeline/ave_splitter.py'\n",
            "adding 'atomsci/ddm/pipeline/chem_diversity.py'\n",
            "adding 'atomsci/ddm/pipeline/compare_models.py'\n",
            "adding 'atomsci/ddm/pipeline/dist_metrics.py'\n",
            "adding 'atomsci/ddm/pipeline/diversity_plots.py'\n",
            "adding 'atomsci/ddm/pipeline/featurization.py'\n",
            "adding 'atomsci/ddm/pipeline/hyper_perf_plots.py'\n",
            "adding 'atomsci/ddm/pipeline/model_datasets.py'\n",
            "adding 'atomsci/ddm/pipeline/model_pipeline.py'\n",
            "adding 'atomsci/ddm/pipeline/model_tracker.py'\n",
            "adding 'atomsci/ddm/pipeline/model_wrapper.py'\n",
            "adding 'atomsci/ddm/pipeline/parameter_parser.py'\n",
            "adding 'atomsci/ddm/pipeline/perf_data.py'\n",
            "adding 'atomsci/ddm/pipeline/perf_plots.py'\n",
            "adding 'atomsci/ddm/pipeline/splitting.py'\n",
            "adding 'atomsci/ddm/pipeline/temporal_splitter.py'\n",
            "adding 'atomsci/ddm/pipeline/transformations.py'\n",
            "adding 'atomsci/ddm/utils/__init__.py'\n",
            "adding 'atomsci/ddm/utils/curate_data.py'\n",
            "adding 'atomsci/ddm/utils/data_curation_functions.py'\n",
            "adding 'atomsci/ddm/utils/datastore_functions.py'\n",
            "adding 'atomsci/ddm/utils/genTestset.py'\n",
            "adding 'atomsci/ddm/utils/hyperparam_search_wrapper.py'\n",
            "adding 'atomsci/ddm/utils/llnl_utils.py'\n",
            "adding 'atomsci/ddm/utils/open-docs.py'\n",
            "adding 'atomsci/ddm/utils/process_slurm.py'\n",
            "adding 'atomsci/ddm/utils/pubchem_utils.py'\n",
            "adding 'atomsci/ddm/utils/struct_utils.py'\n",
            "adding 'atomsci_ampl-1.0.0.dev1.dist-info/LICENSE'\n",
            "adding 'atomsci_ampl-1.0.0.dev1.dist-info/METADATA'\n",
            "adding 'atomsci_ampl-1.0.0.dev1.dist-info/NOTICE'\n",
            "adding 'atomsci_ampl-1.0.0.dev1.dist-info/WHEEL'\n",
            "adding 'atomsci_ampl-1.0.0.dev1.dist-info/namespace_packages.txt'\n",
            "adding 'atomsci_ampl-1.0.0.dev1.dist-info/top_level.txt'\n",
            "adding 'atomsci_ampl-1.0.0.dev1.dist-info/RECORD'\n",
            "removing /content/github/AMPL.build/ampl/bdist.linux-x86_64/wheel\n",
            "DIR: /content/github/AMPL\n",
            "Using pip 20.2.2 from /content/AMPL/lib/python3.6/site-packages/pip (python 3.6)\n",
            "Non-user install because site-packages writeable\n",
            "Ignoring indexes: https://pypi.org/simple\n",
            "Created temporary directory: /tmp/pip-ephem-wheel-cache-z9d62nf0\n",
            "Created temporary directory: /tmp/pip-req-tracker-sjcyabfm\n",
            "Initialized build tracking at /tmp/pip-req-tracker-sjcyabfm\n",
            "Created build tracker: /tmp/pip-req-tracker-sjcyabfm\n",
            "Entered build tracker: /tmp/pip-req-tracker-sjcyabfm\n",
            "Created temporary directory: /tmp/pip-install-2wh6bgm7\n",
            "Looking in links: /content/github/AMPL.dist\n",
            "0 location(s) to search for versions of atomsci-ampl:\n",
            "Skipping link: unsupported archive format: .dist: /content/github/AMPL.dist (from -f)\n",
            "Found link file:///content/github/AMPL.dist/atomsci_ampl-1.0.0.dev1-py3-none-any.whl, version: 1.0.0.dev1\n",
            "Local files found: /content/github/AMPL.dist/atomsci_ampl-1.0.0.dev1-py3-none-any.whl\n",
            "Given no hashes to check 1 links for project 'atomsci-ampl': discarding no candidates\n",
            "Using version 1.0.0.dev1 (newest of versions: 1.0.0.dev1)\n",
            "Processing /content/github/AMPL.dist/atomsci_ampl-1.0.0.dev1-py3-none-any.whl\n",
            "  Added atomsci_ampl from file:///content/github/AMPL.dist/atomsci_ampl-1.0.0.dev1-py3-none-any.whl to build tracker '/tmp/pip-req-tracker-sjcyabfm'\n",
            "  Removed atomsci_ampl from file:///content/github/AMPL.dist/atomsci_ampl-1.0.0.dev1-py3-none-any.whl from build tracker '/tmp/pip-req-tracker-sjcyabfm'\n",
            "Installing collected packages: atomsci-ampl\n",
            "\n",
            "Successfully installed atomsci-ampl-1.0.0.dev1\n",
            "Removed build tracker: '/tmp/pip-req-tracker-sjcyabfm'\n"
          ],
          "name": "stdout"
        },
        {
          "output_type": "stream",
          "text": [
            "warning: no files found matching 'atomsci/*/*.yaml'\n",
            "Skipping installation of /content/github/AMPL.build/ampl/bdist.linux-x86_64/wheel/atomsci/__init__.py (namespace package)\n"
          ],
          "name": "stderr"
        }
      ]
    },
    {
      "cell_type": "code",
      "metadata": {
        "id": "BvxUIzdUY8CR",
        "colab_type": "code",
        "colab": {
          "base_uri": "https://localhost:8080/",
          "height": 194
        },
        "outputId": "ffd20cd1-40bf-4e58-fbf6-2c09317dc71e"
      },
      "source": [
        "# Load AMPL in this notebook\n",
        "import sys\n",
        "\n",
        "site_packages_path = '/content/AMPL/lib/python3.6/site-packages'\n",
        "if site_packages_path not in sys.path:\n",
        "  sys.path.insert(1, site_packages_path)\n",
        "sys.path"
      ],
      "execution_count": 24,
      "outputs": [
        {
          "output_type": "execute_result",
          "data": {
            "text/plain": [
              "['',\n",
              " '/content/AMPL/lib/python3.6/site-packages',\n",
              " '/env/python',\n",
              " '/usr/lib/python36.zip',\n",
              " '/usr/lib/python3.6',\n",
              " '/usr/lib/python3.6/lib-dynload',\n",
              " '/usr/local/lib/python3.6/dist-packages',\n",
              " '/usr/lib/python3/dist-packages',\n",
              " '/usr/local/lib/python3.6/dist-packages/IPython/extensions',\n",
              " '/root/.ipython']"
            ]
          },
          "metadata": {
            "tags": []
          },
          "execution_count": 24
        }
      ]
    },
    {
      "cell_type": "code",
      "metadata": {
        "id": "o2o-4E8WZFNO",
        "colab_type": "code",
        "colab": {
          "base_uri": "https://localhost:8080/",
          "height": 1000
        },
        "outputId": "19dc28f3-51e4-4ba7-9f11-8c8520e51b24"
      },
      "source": [
        "# Test AMPL\n",
        "# 90 min\n",
        "import pandas as pd\n",
        "import os\n",
        "\n",
        "import atomsci.ddm.pipeline.compare_models as cmp\n",
        "import atomsci.ddm.pipeline.model_pipeline as mp\n",
        "import atomsci.ddm.pipeline.parameter_parser as parse\n",
        "\n",
        "# Train model\n",
        "train_config = {\n",
        "    \"system\": \"LC\",\n",
        "    \"datastore\": \"False\",\n",
        "    \"save_results\": \"False\",\n",
        "    \"data_owner\": \"username\",\n",
        "    \"dataset_key\": \"./delaney-processed_curated_fit.csv\",\n",
        "    \"id_col\": \"Compound ID\",\n",
        "    \"smiles_col\": \"smiles\",\n",
        "    \"response_cols\": \"measured log solubility in mols per litre\",\n",
        "    \"featurizer\": \"graphconv\",\n",
        "    \"model_type\": \"NN\",\n",
        "    \"dropouts\": \"0.10,0.10,0.10\",\n",
        "    \"layer_sizes\": \"64,64,64\",\n",
        "    \"learning_rate\": \"0.000753\",\n",
        "    \"max_epochs\": \"500\",\n",
        "    \"result_dir\": \"result\"\n",
        "}\n",
        "\n",
        "train_params = parse.wrapper(train_config)\n",
        "train_pipeline = mp.ModelPipeline(train_params)\n",
        "%time train_pipeline.train_model()\n",
        "\n",
        "# Make prediction\n",
        "walker = os.walk('result/delaney-processed_curated_fit/NN_graphconv_scaffold_regression')\n",
        "dirs = [d for d in walker]\n",
        "uuid = dirs[0][1][0]\n",
        "reload_dir = 'result/delaney-processed_curated_fit/NN_graphconv_scaffold_regression/'+uuid\n",
        "\n",
        "predict_config = {\n",
        "    \"id_col\": \"Compound ID\",\n",
        "    \"smiles_col\": \"smiles\",\n",
        "    \"response_cols\": \"measured log solubility in mols per litre\",\n",
        "    \"transformer_key\": reload_dir+'transformers.pkl',\n",
        "    \"result_dir\": \"predict\"\n",
        "}\n",
        "\n",
        "predict_params = parse.wrapper(predict_config)\n",
        "\n",
        "external = pd.read_csv('delaney-processed_curated_external.csv')\n",
        "external = external[[predict_params.id_col, predict_params.smiles_col, predict_params.response_cols[0]]]\n",
        "external = external.rename(columns={predict_params.response_cols[0]: 'experimental_values'})\n",
        "\n",
        "predict_pipeline = mp.create_prediction_pipeline_from_file(predict_params, reload_dir)\n",
        "\n",
        "predict = predict_pipeline.predict_on_dataframe(external)\n",
        "predict.to_csv('predict.csv')"
      ],
      "execution_count": 25,
      "outputs": [
        {
          "output_type": "stream",
          "text": [
            "/content/AMPL/lib/python3.6/site-packages/tensorflow/python/framework/dtypes.py:517: FutureWarning: Passing (type, 1) or '1type' as a synonym of type is deprecated; in a future version of numpy, it will be understood as (type, (1,)) / '(1,)type'.\n",
            "  _np_qint8 = np.dtype([(\"qint8\", np.int8, 1)])\n",
            "/content/AMPL/lib/python3.6/site-packages/tensorflow/python/framework/dtypes.py:518: FutureWarning: Passing (type, 1) or '1type' as a synonym of type is deprecated; in a future version of numpy, it will be understood as (type, (1,)) / '(1,)type'.\n",
            "  _np_quint8 = np.dtype([(\"quint8\", np.uint8, 1)])\n",
            "/content/AMPL/lib/python3.6/site-packages/tensorflow/python/framework/dtypes.py:519: FutureWarning: Passing (type, 1) or '1type' as a synonym of type is deprecated; in a future version of numpy, it will be understood as (type, (1,)) / '(1,)type'.\n",
            "  _np_qint16 = np.dtype([(\"qint16\", np.int16, 1)])\n",
            "/content/AMPL/lib/python3.6/site-packages/tensorflow/python/framework/dtypes.py:520: FutureWarning: Passing (type, 1) or '1type' as a synonym of type is deprecated; in a future version of numpy, it will be understood as (type, (1,)) / '(1,)type'.\n",
            "  _np_quint16 = np.dtype([(\"quint16\", np.uint16, 1)])\n",
            "/content/AMPL/lib/python3.6/site-packages/tensorflow/python/framework/dtypes.py:521: FutureWarning: Passing (type, 1) or '1type' as a synonym of type is deprecated; in a future version of numpy, it will be understood as (type, (1,)) / '(1,)type'.\n",
            "  _np_qint32 = np.dtype([(\"qint32\", np.int32, 1)])\n",
            "/content/AMPL/lib/python3.6/site-packages/tensorflow/python/framework/dtypes.py:526: FutureWarning: Passing (type, 1) or '1type' as a synonym of type is deprecated; in a future version of numpy, it will be understood as (type, (1,)) / '(1,)type'.\n",
            "  np_resource = np.dtype([(\"resource\", np.ubyte, 1)])\n",
            "/content/AMPL/lib/python3.6/site-packages/sklearn/ensemble/weight_boosting.py:29: DeprecationWarning: numpy.core.umath_tests is an internal NumPy module and should not be imported. It will be removed in a future NumPy release.\n",
            "  from numpy.core.umath_tests import inner1d\n",
            "/content/AMPL/lib/python3.6/site-packages/sklearn/cross_validation.py:41: DeprecationWarning: This module was deprecated in version 0.18 in favor of the model_selection module into which all the refactored classes and functions are moved. Also note that the interface of the new CV iterators are different from that of this module. This module will be removed in 0.20.\n",
            "  \"This module will be removed in 0.20.\", DeprecationWarning)\n"
          ],
          "name": "stderr"
        },
        {
          "output_type": "stream",
          "text": [
            "number of features: 75\n"
          ],
          "name": "stdout"
        },
        {
          "output_type": "stream",
          "text": [
            "2020-09-21 12:47:23,907 Splitting data by scaffold\n",
            "2020-09-21 12:47:25,653 Dataset split table saved to ./delaney-processed_curated_fit_train_valid_test_scaffold_c4c78bd6-5abe-41f3-afb6-3d7618adbb03.csv\n"
          ],
          "name": "stderr"
        },
        {
          "output_type": "stream",
          "text": [
            "n_cnt [1000.]\n",
            "y_means [-3.020952]\n",
            "y_stds [2.0818195]\n",
            "TIMING: dataset construction took 0.276 s\n",
            "Loading dataset from disk.\n",
            "TIMING: dataset construction took 0.031 s\n",
            "Loading dataset from disk.\n",
            "TIMING: dataset construction took 0.032 s\n",
            "Loading dataset from disk.\n"
          ],
          "name": "stdout"
        },
        {
          "output_type": "stream",
          "text": [
            "/content/AMPL/lib/python3.6/site-packages/tensorflow/python/ops/gradients_impl.py:98: UserWarning: Converting sparse IndexedSlices to a dense Tensor of unknown shape. This may consume a large amount of memory.\n",
            "  \"Converting sparse IndexedSlices to a dense Tensor of unknown shape. \"\n"
          ],
          "name": "stderr"
        },
        {
          "output_type": "stream",
          "text": [
            "INFO:tensorflow:Restoring parameters from result/delaney-processed_curated_fit/NN_graphconv_scaffold_regression/7018bc25-5b13-47fe-b904-36ee622879b4/model/model-16\n"
          ],
          "name": "stdout"
        },
        {
          "output_type": "stream",
          "text": [
            "2020-09-21 12:51:31,631 Restoring parameters from result/delaney-processed_curated_fit/NN_graphconv_scaffold_regression/7018bc25-5b13-47fe-b904-36ee622879b4/model/model-16\n"
          ],
          "name": "stderr"
        },
        {
          "output_type": "stream",
          "text": [
            "INFO:tensorflow:Restoring parameters from result/delaney-processed_curated_fit/NN_graphconv_scaffold_regression/7018bc25-5b13-47fe-b904-36ee622879b4/model/model-32\n"
          ],
          "name": "stdout"
        },
        {
          "output_type": "stream",
          "text": [
            "2020-09-21 12:51:33,524 Restoring parameters from result/delaney-processed_curated_fit/NN_graphconv_scaffold_regression/7018bc25-5b13-47fe-b904-36ee622879b4/model/model-32\n"
          ],
          "name": "stderr"
        },
        {
          "output_type": "stream",
          "text": [
            "INFO:tensorflow:Restoring parameters from result/delaney-processed_curated_fit/NN_graphconv_scaffold_regression/7018bc25-5b13-47fe-b904-36ee622879b4/model/model-48\n"
          ],
          "name": "stdout"
        },
        {
          "output_type": "stream",
          "text": [
            "2020-09-21 12:51:35,243 Restoring parameters from result/delaney-processed_curated_fit/NN_graphconv_scaffold_regression/7018bc25-5b13-47fe-b904-36ee622879b4/model/model-48\n"
          ],
          "name": "stderr"
        },
        {
          "output_type": "stream",
          "text": [
            "INFO:tensorflow:Restoring parameters from result/delaney-processed_curated_fit/NN_graphconv_scaffold_regression/7018bc25-5b13-47fe-b904-36ee622879b4/model/model-64\n"
          ],
          "name": "stdout"
        },
        {
          "output_type": "stream",
          "text": [
            "2020-09-21 12:51:37,169 Restoring parameters from result/delaney-processed_curated_fit/NN_graphconv_scaffold_regression/7018bc25-5b13-47fe-b904-36ee622879b4/model/model-64\n"
          ],
          "name": "stderr"
        },
        {
          "output_type": "stream",
          "text": [
            "INFO:tensorflow:Restoring parameters from result/delaney-processed_curated_fit/NN_graphconv_scaffold_regression/7018bc25-5b13-47fe-b904-36ee622879b4/model/model-80\n"
          ],
          "name": "stdout"
        },
        {
          "output_type": "stream",
          "text": [
            "2020-09-21 12:51:38,935 Restoring parameters from result/delaney-processed_curated_fit/NN_graphconv_scaffold_regression/7018bc25-5b13-47fe-b904-36ee622879b4/model/model-80\n"
          ],
          "name": "stderr"
        },
        {
          "output_type": "stream",
          "text": [
            "INFO:tensorflow:Restoring parameters from result/delaney-processed_curated_fit/NN_graphconv_scaffold_regression/7018bc25-5b13-47fe-b904-36ee622879b4/model/model-96\n"
          ],
          "name": "stdout"
        },
        {
          "output_type": "stream",
          "text": [
            "2020-09-21 12:51:40,918 Restoring parameters from result/delaney-processed_curated_fit/NN_graphconv_scaffold_regression/7018bc25-5b13-47fe-b904-36ee622879b4/model/model-96\n"
          ],
          "name": "stderr"
        },
        {
          "output_type": "stream",
          "text": [
            "INFO:tensorflow:Restoring parameters from result/delaney-processed_curated_fit/NN_graphconv_scaffold_regression/7018bc25-5b13-47fe-b904-36ee622879b4/model/model-112\n"
          ],
          "name": "stdout"
        },
        {
          "output_type": "stream",
          "text": [
            "2020-09-21 12:51:42,728 Restoring parameters from result/delaney-processed_curated_fit/NN_graphconv_scaffold_regression/7018bc25-5b13-47fe-b904-36ee622879b4/model/model-112\n"
          ],
          "name": "stderr"
        },
        {
          "output_type": "stream",
          "text": [
            "INFO:tensorflow:Restoring parameters from result/delaney-processed_curated_fit/NN_graphconv_scaffold_regression/7018bc25-5b13-47fe-b904-36ee622879b4/model/model-128\n"
          ],
          "name": "stdout"
        },
        {
          "output_type": "stream",
          "text": [
            "2020-09-21 12:51:44,738 Restoring parameters from result/delaney-processed_curated_fit/NN_graphconv_scaffold_regression/7018bc25-5b13-47fe-b904-36ee622879b4/model/model-128\n"
          ],
          "name": "stderr"
        },
        {
          "output_type": "stream",
          "text": [
            "INFO:tensorflow:Restoring parameters from result/delaney-processed_curated_fit/NN_graphconv_scaffold_regression/7018bc25-5b13-47fe-b904-36ee622879b4/model/model-144\n"
          ],
          "name": "stdout"
        },
        {
          "output_type": "stream",
          "text": [
            "2020-09-21 12:51:46,777 Restoring parameters from result/delaney-processed_curated_fit/NN_graphconv_scaffold_regression/7018bc25-5b13-47fe-b904-36ee622879b4/model/model-144\n"
          ],
          "name": "stderr"
        },
        {
          "output_type": "stream",
          "text": [
            "INFO:tensorflow:Restoring parameters from result/delaney-processed_curated_fit/NN_graphconv_scaffold_regression/7018bc25-5b13-47fe-b904-36ee622879b4/model/model-160\n"
          ],
          "name": "stdout"
        },
        {
          "output_type": "stream",
          "text": [
            "2020-09-21 12:51:48,637 Restoring parameters from result/delaney-processed_curated_fit/NN_graphconv_scaffold_regression/7018bc25-5b13-47fe-b904-36ee622879b4/model/model-160\n"
          ],
          "name": "stderr"
        },
        {
          "output_type": "stream",
          "text": [
            "INFO:tensorflow:Restoring parameters from result/delaney-processed_curated_fit/NN_graphconv_scaffold_regression/7018bc25-5b13-47fe-b904-36ee622879b4/model/model-176\n"
          ],
          "name": "stdout"
        },
        {
          "output_type": "stream",
          "text": [
            "2020-09-21 12:51:50,740 Restoring parameters from result/delaney-processed_curated_fit/NN_graphconv_scaffold_regression/7018bc25-5b13-47fe-b904-36ee622879b4/model/model-176\n"
          ],
          "name": "stderr"
        },
        {
          "output_type": "stream",
          "text": [
            "INFO:tensorflow:Restoring parameters from result/delaney-processed_curated_fit/NN_graphconv_scaffold_regression/7018bc25-5b13-47fe-b904-36ee622879b4/model/model-192\n"
          ],
          "name": "stdout"
        },
        {
          "output_type": "stream",
          "text": [
            "2020-09-21 12:51:52,618 Restoring parameters from result/delaney-processed_curated_fit/NN_graphconv_scaffold_regression/7018bc25-5b13-47fe-b904-36ee622879b4/model/model-192\n"
          ],
          "name": "stderr"
        },
        {
          "output_type": "stream",
          "text": [
            "INFO:tensorflow:Restoring parameters from result/delaney-processed_curated_fit/NN_graphconv_scaffold_regression/7018bc25-5b13-47fe-b904-36ee622879b4/model/model-208\n"
          ],
          "name": "stdout"
        },
        {
          "output_type": "stream",
          "text": [
            "2020-09-21 12:51:54,721 Restoring parameters from result/delaney-processed_curated_fit/NN_graphconv_scaffold_regression/7018bc25-5b13-47fe-b904-36ee622879b4/model/model-208\n"
          ],
          "name": "stderr"
        },
        {
          "output_type": "stream",
          "text": [
            "INFO:tensorflow:Restoring parameters from result/delaney-processed_curated_fit/NN_graphconv_scaffold_regression/7018bc25-5b13-47fe-b904-36ee622879b4/model/model-224\n"
          ],
          "name": "stdout"
        },
        {
          "output_type": "stream",
          "text": [
            "2020-09-21 12:51:56,651 Restoring parameters from result/delaney-processed_curated_fit/NN_graphconv_scaffold_regression/7018bc25-5b13-47fe-b904-36ee622879b4/model/model-224\n"
          ],
          "name": "stderr"
        },
        {
          "output_type": "stream",
          "text": [
            "INFO:tensorflow:Restoring parameters from result/delaney-processed_curated_fit/NN_graphconv_scaffold_regression/7018bc25-5b13-47fe-b904-36ee622879b4/model/model-240\n"
          ],
          "name": "stdout"
        },
        {
          "output_type": "stream",
          "text": [
            "2020-09-21 12:51:58,813 Restoring parameters from result/delaney-processed_curated_fit/NN_graphconv_scaffold_regression/7018bc25-5b13-47fe-b904-36ee622879b4/model/model-240\n"
          ],
          "name": "stderr"
        },
        {
          "output_type": "stream",
          "text": [
            "INFO:tensorflow:Restoring parameters from result/delaney-processed_curated_fit/NN_graphconv_scaffold_regression/7018bc25-5b13-47fe-b904-36ee622879b4/model/model-256\n"
          ],
          "name": "stdout"
        },
        {
          "output_type": "stream",
          "text": [
            "2020-09-21 12:52:00,773 Restoring parameters from result/delaney-processed_curated_fit/NN_graphconv_scaffold_regression/7018bc25-5b13-47fe-b904-36ee622879b4/model/model-256\n"
          ],
          "name": "stderr"
        },
        {
          "output_type": "stream",
          "text": [
            "INFO:tensorflow:Restoring parameters from result/delaney-processed_curated_fit/NN_graphconv_scaffold_regression/7018bc25-5b13-47fe-b904-36ee622879b4/model/model-272\n"
          ],
          "name": "stdout"
        },
        {
          "output_type": "stream",
          "text": [
            "2020-09-21 12:52:02,951 Restoring parameters from result/delaney-processed_curated_fit/NN_graphconv_scaffold_regression/7018bc25-5b13-47fe-b904-36ee622879b4/model/model-272\n"
          ],
          "name": "stderr"
        },
        {
          "output_type": "stream",
          "text": [
            "INFO:tensorflow:Restoring parameters from result/delaney-processed_curated_fit/NN_graphconv_scaffold_regression/7018bc25-5b13-47fe-b904-36ee622879b4/model/model-288\n"
          ],
          "name": "stdout"
        },
        {
          "output_type": "stream",
          "text": [
            "2020-09-21 12:52:04,948 Restoring parameters from result/delaney-processed_curated_fit/NN_graphconv_scaffold_regression/7018bc25-5b13-47fe-b904-36ee622879b4/model/model-288\n"
          ],
          "name": "stderr"
        },
        {
          "output_type": "stream",
          "text": [
            "INFO:tensorflow:Restoring parameters from result/delaney-processed_curated_fit/NN_graphconv_scaffold_regression/7018bc25-5b13-47fe-b904-36ee622879b4/model/model-304\n"
          ],
          "name": "stdout"
        },
        {
          "output_type": "stream",
          "text": [
            "2020-09-21 12:52:07,181 Restoring parameters from result/delaney-processed_curated_fit/NN_graphconv_scaffold_regression/7018bc25-5b13-47fe-b904-36ee622879b4/model/model-304\n"
          ],
          "name": "stderr"
        },
        {
          "output_type": "stream",
          "text": [
            "INFO:tensorflow:Restoring parameters from result/delaney-processed_curated_fit/NN_graphconv_scaffold_regression/7018bc25-5b13-47fe-b904-36ee622879b4/model/model-320\n"
          ],
          "name": "stdout"
        },
        {
          "output_type": "stream",
          "text": [
            "2020-09-21 12:52:09,210 Restoring parameters from result/delaney-processed_curated_fit/NN_graphconv_scaffold_regression/7018bc25-5b13-47fe-b904-36ee622879b4/model/model-320\n"
          ],
          "name": "stderr"
        },
        {
          "output_type": "stream",
          "text": [
            "INFO:tensorflow:Restoring parameters from result/delaney-processed_curated_fit/NN_graphconv_scaffold_regression/7018bc25-5b13-47fe-b904-36ee622879b4/model/model-336\n"
          ],
          "name": "stdout"
        },
        {
          "output_type": "stream",
          "text": [
            "2020-09-21 12:52:11,463 Restoring parameters from result/delaney-processed_curated_fit/NN_graphconv_scaffold_regression/7018bc25-5b13-47fe-b904-36ee622879b4/model/model-336\n"
          ],
          "name": "stderr"
        },
        {
          "output_type": "stream",
          "text": [
            "INFO:tensorflow:Restoring parameters from result/delaney-processed_curated_fit/NN_graphconv_scaffold_regression/7018bc25-5b13-47fe-b904-36ee622879b4/model/model-352\n"
          ],
          "name": "stdout"
        },
        {
          "output_type": "stream",
          "text": [
            "2020-09-21 12:52:13,518 Restoring parameters from result/delaney-processed_curated_fit/NN_graphconv_scaffold_regression/7018bc25-5b13-47fe-b904-36ee622879b4/model/model-352\n"
          ],
          "name": "stderr"
        },
        {
          "output_type": "stream",
          "text": [
            "INFO:tensorflow:Restoring parameters from result/delaney-processed_curated_fit/NN_graphconv_scaffold_regression/7018bc25-5b13-47fe-b904-36ee622879b4/model/model-368\n"
          ],
          "name": "stdout"
        },
        {
          "output_type": "stream",
          "text": [
            "2020-09-21 12:52:15,606 Restoring parameters from result/delaney-processed_curated_fit/NN_graphconv_scaffold_regression/7018bc25-5b13-47fe-b904-36ee622879b4/model/model-368\n"
          ],
          "name": "stderr"
        },
        {
          "output_type": "stream",
          "text": [
            "INFO:tensorflow:Restoring parameters from result/delaney-processed_curated_fit/NN_graphconv_scaffold_regression/7018bc25-5b13-47fe-b904-36ee622879b4/model/model-384\n"
          ],
          "name": "stdout"
        },
        {
          "output_type": "stream",
          "text": [
            "2020-09-21 12:52:17,939 Restoring parameters from result/delaney-processed_curated_fit/NN_graphconv_scaffold_regression/7018bc25-5b13-47fe-b904-36ee622879b4/model/model-384\n"
          ],
          "name": "stderr"
        },
        {
          "output_type": "stream",
          "text": [
            "INFO:tensorflow:Restoring parameters from result/delaney-processed_curated_fit/NN_graphconv_scaffold_regression/7018bc25-5b13-47fe-b904-36ee622879b4/model/model-400\n"
          ],
          "name": "stdout"
        },
        {
          "output_type": "stream",
          "text": [
            "2020-09-21 12:52:20,067 Restoring parameters from result/delaney-processed_curated_fit/NN_graphconv_scaffold_regression/7018bc25-5b13-47fe-b904-36ee622879b4/model/model-400\n"
          ],
          "name": "stderr"
        },
        {
          "output_type": "stream",
          "text": [
            "INFO:tensorflow:Restoring parameters from result/delaney-processed_curated_fit/NN_graphconv_scaffold_regression/7018bc25-5b13-47fe-b904-36ee622879b4/model/model-416\n"
          ],
          "name": "stdout"
        },
        {
          "output_type": "stream",
          "text": [
            "2020-09-21 12:52:22,454 Restoring parameters from result/delaney-processed_curated_fit/NN_graphconv_scaffold_regression/7018bc25-5b13-47fe-b904-36ee622879b4/model/model-416\n"
          ],
          "name": "stderr"
        },
        {
          "output_type": "stream",
          "text": [
            "INFO:tensorflow:Restoring parameters from result/delaney-processed_curated_fit/NN_graphconv_scaffold_regression/7018bc25-5b13-47fe-b904-36ee622879b4/model/model-432\n"
          ],
          "name": "stdout"
        },
        {
          "output_type": "stream",
          "text": [
            "2020-09-21 12:52:24,621 Restoring parameters from result/delaney-processed_curated_fit/NN_graphconv_scaffold_regression/7018bc25-5b13-47fe-b904-36ee622879b4/model/model-432\n"
          ],
          "name": "stderr"
        },
        {
          "output_type": "stream",
          "text": [
            "INFO:tensorflow:Restoring parameters from result/delaney-processed_curated_fit/NN_graphconv_scaffold_regression/7018bc25-5b13-47fe-b904-36ee622879b4/model/model-448\n"
          ],
          "name": "stdout"
        },
        {
          "output_type": "stream",
          "text": [
            "2020-09-21 12:52:27,018 Restoring parameters from result/delaney-processed_curated_fit/NN_graphconv_scaffold_regression/7018bc25-5b13-47fe-b904-36ee622879b4/model/model-448\n"
          ],
          "name": "stderr"
        },
        {
          "output_type": "stream",
          "text": [
            "INFO:tensorflow:Restoring parameters from result/delaney-processed_curated_fit/NN_graphconv_scaffold_regression/7018bc25-5b13-47fe-b904-36ee622879b4/model/model-464\n"
          ],
          "name": "stdout"
        },
        {
          "output_type": "stream",
          "text": [
            "2020-09-21 12:52:29,243 Restoring parameters from result/delaney-processed_curated_fit/NN_graphconv_scaffold_regression/7018bc25-5b13-47fe-b904-36ee622879b4/model/model-464\n"
          ],
          "name": "stderr"
        },
        {
          "output_type": "stream",
          "text": [
            "INFO:tensorflow:Restoring parameters from result/delaney-processed_curated_fit/NN_graphconv_scaffold_regression/7018bc25-5b13-47fe-b904-36ee622879b4/model/model-480\n"
          ],
          "name": "stdout"
        },
        {
          "output_type": "stream",
          "text": [
            "2020-09-21 12:52:31,770 Restoring parameters from result/delaney-processed_curated_fit/NN_graphconv_scaffold_regression/7018bc25-5b13-47fe-b904-36ee622879b4/model/model-480\n"
          ],
          "name": "stderr"
        },
        {
          "output_type": "stream",
          "text": [
            "INFO:tensorflow:Restoring parameters from result/delaney-processed_curated_fit/NN_graphconv_scaffold_regression/7018bc25-5b13-47fe-b904-36ee622879b4/model/model-496\n"
          ],
          "name": "stdout"
        },
        {
          "output_type": "stream",
          "text": [
            "2020-09-21 12:52:34,059 Restoring parameters from result/delaney-processed_curated_fit/NN_graphconv_scaffold_regression/7018bc25-5b13-47fe-b904-36ee622879b4/model/model-496\n"
          ],
          "name": "stderr"
        },
        {
          "output_type": "stream",
          "text": [
            "INFO:tensorflow:Restoring parameters from result/delaney-processed_curated_fit/NN_graphconv_scaffold_regression/7018bc25-5b13-47fe-b904-36ee622879b4/model/model-512\n"
          ],
          "name": "stdout"
        },
        {
          "output_type": "stream",
          "text": [
            "2020-09-21 12:52:36,402 Restoring parameters from result/delaney-processed_curated_fit/NN_graphconv_scaffold_regression/7018bc25-5b13-47fe-b904-36ee622879b4/model/model-512\n"
          ],
          "name": "stderr"
        },
        {
          "output_type": "stream",
          "text": [
            "INFO:tensorflow:Restoring parameters from result/delaney-processed_curated_fit/NN_graphconv_scaffold_regression/7018bc25-5b13-47fe-b904-36ee622879b4/model/model-528\n"
          ],
          "name": "stdout"
        },
        {
          "output_type": "stream",
          "text": [
            "2020-09-21 12:52:38,931 Restoring parameters from result/delaney-processed_curated_fit/NN_graphconv_scaffold_regression/7018bc25-5b13-47fe-b904-36ee622879b4/model/model-528\n"
          ],
          "name": "stderr"
        },
        {
          "output_type": "stream",
          "text": [
            "INFO:tensorflow:Restoring parameters from result/delaney-processed_curated_fit/NN_graphconv_scaffold_regression/7018bc25-5b13-47fe-b904-36ee622879b4/model/model-544\n"
          ],
          "name": "stdout"
        },
        {
          "output_type": "stream",
          "text": [
            "2020-09-21 12:52:41,182 Restoring parameters from result/delaney-processed_curated_fit/NN_graphconv_scaffold_regression/7018bc25-5b13-47fe-b904-36ee622879b4/model/model-544\n"
          ],
          "name": "stderr"
        },
        {
          "output_type": "stream",
          "text": [
            "INFO:tensorflow:Restoring parameters from result/delaney-processed_curated_fit/NN_graphconv_scaffold_regression/7018bc25-5b13-47fe-b904-36ee622879b4/model/model-560\n"
          ],
          "name": "stdout"
        },
        {
          "output_type": "stream",
          "text": [
            "2020-09-21 12:52:43,663 Restoring parameters from result/delaney-processed_curated_fit/NN_graphconv_scaffold_regression/7018bc25-5b13-47fe-b904-36ee622879b4/model/model-560\n"
          ],
          "name": "stderr"
        },
        {
          "output_type": "stream",
          "text": [
            "INFO:tensorflow:Restoring parameters from result/delaney-processed_curated_fit/NN_graphconv_scaffold_regression/7018bc25-5b13-47fe-b904-36ee622879b4/model/model-576\n"
          ],
          "name": "stdout"
        },
        {
          "output_type": "stream",
          "text": [
            "2020-09-21 12:52:45,931 Restoring parameters from result/delaney-processed_curated_fit/NN_graphconv_scaffold_regression/7018bc25-5b13-47fe-b904-36ee622879b4/model/model-576\n"
          ],
          "name": "stderr"
        },
        {
          "output_type": "stream",
          "text": [
            "INFO:tensorflow:Restoring parameters from result/delaney-processed_curated_fit/NN_graphconv_scaffold_regression/7018bc25-5b13-47fe-b904-36ee622879b4/model/model-592\n"
          ],
          "name": "stdout"
        },
        {
          "output_type": "stream",
          "text": [
            "2020-09-21 12:52:48,223 Restoring parameters from result/delaney-processed_curated_fit/NN_graphconv_scaffold_regression/7018bc25-5b13-47fe-b904-36ee622879b4/model/model-592\n"
          ],
          "name": "stderr"
        },
        {
          "output_type": "stream",
          "text": [
            "INFO:tensorflow:Restoring parameters from result/delaney-processed_curated_fit/NN_graphconv_scaffold_regression/7018bc25-5b13-47fe-b904-36ee622879b4/model/model-608\n"
          ],
          "name": "stdout"
        },
        {
          "output_type": "stream",
          "text": [
            "2020-09-21 12:52:50,797 Restoring parameters from result/delaney-processed_curated_fit/NN_graphconv_scaffold_regression/7018bc25-5b13-47fe-b904-36ee622879b4/model/model-608\n"
          ],
          "name": "stderr"
        },
        {
          "output_type": "stream",
          "text": [
            "INFO:tensorflow:Restoring parameters from result/delaney-processed_curated_fit/NN_graphconv_scaffold_regression/7018bc25-5b13-47fe-b904-36ee622879b4/model/model-624\n"
          ],
          "name": "stdout"
        },
        {
          "output_type": "stream",
          "text": [
            "2020-09-21 12:52:53,100 Restoring parameters from result/delaney-processed_curated_fit/NN_graphconv_scaffold_regression/7018bc25-5b13-47fe-b904-36ee622879b4/model/model-624\n"
          ],
          "name": "stderr"
        },
        {
          "output_type": "stream",
          "text": [
            "INFO:tensorflow:Restoring parameters from result/delaney-processed_curated_fit/NN_graphconv_scaffold_regression/7018bc25-5b13-47fe-b904-36ee622879b4/model/model-640\n"
          ],
          "name": "stdout"
        },
        {
          "output_type": "stream",
          "text": [
            "2020-09-21 12:52:55,466 Restoring parameters from result/delaney-processed_curated_fit/NN_graphconv_scaffold_regression/7018bc25-5b13-47fe-b904-36ee622879b4/model/model-640\n"
          ],
          "name": "stderr"
        },
        {
          "output_type": "stream",
          "text": [
            "INFO:tensorflow:Restoring parameters from result/delaney-processed_curated_fit/NN_graphconv_scaffold_regression/7018bc25-5b13-47fe-b904-36ee622879b4/model/model-656\n"
          ],
          "name": "stdout"
        },
        {
          "output_type": "stream",
          "text": [
            "2020-09-21 12:52:58,090 Restoring parameters from result/delaney-processed_curated_fit/NN_graphconv_scaffold_regression/7018bc25-5b13-47fe-b904-36ee622879b4/model/model-656\n"
          ],
          "name": "stderr"
        },
        {
          "output_type": "stream",
          "text": [
            "INFO:tensorflow:Restoring parameters from result/delaney-processed_curated_fit/NN_graphconv_scaffold_regression/7018bc25-5b13-47fe-b904-36ee622879b4/model/model-672\n"
          ],
          "name": "stdout"
        },
        {
          "output_type": "stream",
          "text": [
            "2020-09-21 12:53:00,460 Restoring parameters from result/delaney-processed_curated_fit/NN_graphconv_scaffold_regression/7018bc25-5b13-47fe-b904-36ee622879b4/model/model-672\n"
          ],
          "name": "stderr"
        },
        {
          "output_type": "stream",
          "text": [
            "INFO:tensorflow:Restoring parameters from result/delaney-processed_curated_fit/NN_graphconv_scaffold_regression/7018bc25-5b13-47fe-b904-36ee622879b4/model/model-688\n"
          ],
          "name": "stdout"
        },
        {
          "output_type": "stream",
          "text": [
            "2020-09-21 12:53:03,130 Restoring parameters from result/delaney-processed_curated_fit/NN_graphconv_scaffold_regression/7018bc25-5b13-47fe-b904-36ee622879b4/model/model-688\n"
          ],
          "name": "stderr"
        },
        {
          "output_type": "stream",
          "text": [
            "INFO:tensorflow:Restoring parameters from result/delaney-processed_curated_fit/NN_graphconv_scaffold_regression/7018bc25-5b13-47fe-b904-36ee622879b4/model/model-704\n"
          ],
          "name": "stdout"
        },
        {
          "output_type": "stream",
          "text": [
            "2020-09-21 12:53:05,540 Restoring parameters from result/delaney-processed_curated_fit/NN_graphconv_scaffold_regression/7018bc25-5b13-47fe-b904-36ee622879b4/model/model-704\n"
          ],
          "name": "stderr"
        },
        {
          "output_type": "stream",
          "text": [
            "INFO:tensorflow:Restoring parameters from result/delaney-processed_curated_fit/NN_graphconv_scaffold_regression/7018bc25-5b13-47fe-b904-36ee622879b4/model/model-720\n"
          ],
          "name": "stdout"
        },
        {
          "output_type": "stream",
          "text": [
            "2020-09-21 12:53:08,001 Restoring parameters from result/delaney-processed_curated_fit/NN_graphconv_scaffold_regression/7018bc25-5b13-47fe-b904-36ee622879b4/model/model-720\n"
          ],
          "name": "stderr"
        },
        {
          "output_type": "stream",
          "text": [
            "INFO:tensorflow:Restoring parameters from result/delaney-processed_curated_fit/NN_graphconv_scaffold_regression/7018bc25-5b13-47fe-b904-36ee622879b4/model/model-736\n"
          ],
          "name": "stdout"
        },
        {
          "output_type": "stream",
          "text": [
            "2020-09-21 12:53:10,744 Restoring parameters from result/delaney-processed_curated_fit/NN_graphconv_scaffold_regression/7018bc25-5b13-47fe-b904-36ee622879b4/model/model-736\n"
          ],
          "name": "stderr"
        },
        {
          "output_type": "stream",
          "text": [
            "INFO:tensorflow:Restoring parameters from result/delaney-processed_curated_fit/NN_graphconv_scaffold_regression/7018bc25-5b13-47fe-b904-36ee622879b4/model/model-752\n"
          ],
          "name": "stdout"
        },
        {
          "output_type": "stream",
          "text": [
            "2020-09-21 12:53:13,218 Restoring parameters from result/delaney-processed_curated_fit/NN_graphconv_scaffold_regression/7018bc25-5b13-47fe-b904-36ee622879b4/model/model-752\n"
          ],
          "name": "stderr"
        },
        {
          "output_type": "stream",
          "text": [
            "INFO:tensorflow:Restoring parameters from result/delaney-processed_curated_fit/NN_graphconv_scaffold_regression/7018bc25-5b13-47fe-b904-36ee622879b4/model/model-768\n"
          ],
          "name": "stdout"
        },
        {
          "output_type": "stream",
          "text": [
            "2020-09-21 12:53:15,683 Restoring parameters from result/delaney-processed_curated_fit/NN_graphconv_scaffold_regression/7018bc25-5b13-47fe-b904-36ee622879b4/model/model-768\n"
          ],
          "name": "stderr"
        },
        {
          "output_type": "stream",
          "text": [
            "INFO:tensorflow:Restoring parameters from result/delaney-processed_curated_fit/NN_graphconv_scaffold_regression/7018bc25-5b13-47fe-b904-36ee622879b4/model/model-784\n"
          ],
          "name": "stdout"
        },
        {
          "output_type": "stream",
          "text": [
            "2020-09-21 12:53:18,461 Restoring parameters from result/delaney-processed_curated_fit/NN_graphconv_scaffold_regression/7018bc25-5b13-47fe-b904-36ee622879b4/model/model-784\n"
          ],
          "name": "stderr"
        },
        {
          "output_type": "stream",
          "text": [
            "INFO:tensorflow:Restoring parameters from result/delaney-processed_curated_fit/NN_graphconv_scaffold_regression/7018bc25-5b13-47fe-b904-36ee622879b4/model/model-800\n"
          ],
          "name": "stdout"
        },
        {
          "output_type": "stream",
          "text": [
            "2020-09-21 12:53:20,960 Restoring parameters from result/delaney-processed_curated_fit/NN_graphconv_scaffold_regression/7018bc25-5b13-47fe-b904-36ee622879b4/model/model-800\n"
          ],
          "name": "stderr"
        },
        {
          "output_type": "stream",
          "text": [
            "INFO:tensorflow:Restoring parameters from result/delaney-processed_curated_fit/NN_graphconv_scaffold_regression/7018bc25-5b13-47fe-b904-36ee622879b4/model/model-816\n"
          ],
          "name": "stdout"
        },
        {
          "output_type": "stream",
          "text": [
            "2020-09-21 12:53:23,507 Restoring parameters from result/delaney-processed_curated_fit/NN_graphconv_scaffold_regression/7018bc25-5b13-47fe-b904-36ee622879b4/model/model-816\n"
          ],
          "name": "stderr"
        },
        {
          "output_type": "stream",
          "text": [
            "INFO:tensorflow:Restoring parameters from result/delaney-processed_curated_fit/NN_graphconv_scaffold_regression/7018bc25-5b13-47fe-b904-36ee622879b4/model/model-832\n"
          ],
          "name": "stdout"
        },
        {
          "output_type": "stream",
          "text": [
            "2020-09-21 12:53:26,340 Restoring parameters from result/delaney-processed_curated_fit/NN_graphconv_scaffold_regression/7018bc25-5b13-47fe-b904-36ee622879b4/model/model-832\n"
          ],
          "name": "stderr"
        },
        {
          "output_type": "stream",
          "text": [
            "INFO:tensorflow:Restoring parameters from result/delaney-processed_curated_fit/NN_graphconv_scaffold_regression/7018bc25-5b13-47fe-b904-36ee622879b4/model/model-848\n"
          ],
          "name": "stdout"
        },
        {
          "output_type": "stream",
          "text": [
            "2020-09-21 12:53:28,914 Restoring parameters from result/delaney-processed_curated_fit/NN_graphconv_scaffold_regression/7018bc25-5b13-47fe-b904-36ee622879b4/model/model-848\n"
          ],
          "name": "stderr"
        },
        {
          "output_type": "stream",
          "text": [
            "INFO:tensorflow:Restoring parameters from result/delaney-processed_curated_fit/NN_graphconv_scaffold_regression/7018bc25-5b13-47fe-b904-36ee622879b4/model/model-864\n"
          ],
          "name": "stdout"
        },
        {
          "output_type": "stream",
          "text": [
            "2020-09-21 12:53:31,471 Restoring parameters from result/delaney-processed_curated_fit/NN_graphconv_scaffold_regression/7018bc25-5b13-47fe-b904-36ee622879b4/model/model-864\n"
          ],
          "name": "stderr"
        },
        {
          "output_type": "stream",
          "text": [
            "INFO:tensorflow:Restoring parameters from result/delaney-processed_curated_fit/NN_graphconv_scaffold_regression/7018bc25-5b13-47fe-b904-36ee622879b4/model/model-880\n"
          ],
          "name": "stdout"
        },
        {
          "output_type": "stream",
          "text": [
            "2020-09-21 12:53:34,371 Restoring parameters from result/delaney-processed_curated_fit/NN_graphconv_scaffold_regression/7018bc25-5b13-47fe-b904-36ee622879b4/model/model-880\n"
          ],
          "name": "stderr"
        },
        {
          "output_type": "stream",
          "text": [
            "INFO:tensorflow:Restoring parameters from result/delaney-processed_curated_fit/NN_graphconv_scaffold_regression/7018bc25-5b13-47fe-b904-36ee622879b4/model/model-896\n"
          ],
          "name": "stdout"
        },
        {
          "output_type": "stream",
          "text": [
            "2020-09-21 12:53:36,976 Restoring parameters from result/delaney-processed_curated_fit/NN_graphconv_scaffold_regression/7018bc25-5b13-47fe-b904-36ee622879b4/model/model-896\n"
          ],
          "name": "stderr"
        },
        {
          "output_type": "stream",
          "text": [
            "INFO:tensorflow:Restoring parameters from result/delaney-processed_curated_fit/NN_graphconv_scaffold_regression/7018bc25-5b13-47fe-b904-36ee622879b4/model/model-912\n"
          ],
          "name": "stdout"
        },
        {
          "output_type": "stream",
          "text": [
            "2020-09-21 12:53:39,605 Restoring parameters from result/delaney-processed_curated_fit/NN_graphconv_scaffold_regression/7018bc25-5b13-47fe-b904-36ee622879b4/model/model-912\n"
          ],
          "name": "stderr"
        },
        {
          "output_type": "stream",
          "text": [
            "INFO:tensorflow:Restoring parameters from result/delaney-processed_curated_fit/NN_graphconv_scaffold_regression/7018bc25-5b13-47fe-b904-36ee622879b4/model/model-928\n"
          ],
          "name": "stdout"
        },
        {
          "output_type": "stream",
          "text": [
            "2020-09-21 12:53:42,544 Restoring parameters from result/delaney-processed_curated_fit/NN_graphconv_scaffold_regression/7018bc25-5b13-47fe-b904-36ee622879b4/model/model-928\n"
          ],
          "name": "stderr"
        },
        {
          "output_type": "stream",
          "text": [
            "INFO:tensorflow:Restoring parameters from result/delaney-processed_curated_fit/NN_graphconv_scaffold_regression/7018bc25-5b13-47fe-b904-36ee622879b4/model/model-944\n"
          ],
          "name": "stdout"
        },
        {
          "output_type": "stream",
          "text": [
            "2020-09-21 12:53:45,253 Restoring parameters from result/delaney-processed_curated_fit/NN_graphconv_scaffold_regression/7018bc25-5b13-47fe-b904-36ee622879b4/model/model-944\n"
          ],
          "name": "stderr"
        },
        {
          "output_type": "stream",
          "text": [
            "INFO:tensorflow:Restoring parameters from result/delaney-processed_curated_fit/NN_graphconv_scaffold_regression/7018bc25-5b13-47fe-b904-36ee622879b4/model/model-960\n"
          ],
          "name": "stdout"
        },
        {
          "output_type": "stream",
          "text": [
            "2020-09-21 12:53:47,915 Restoring parameters from result/delaney-processed_curated_fit/NN_graphconv_scaffold_regression/7018bc25-5b13-47fe-b904-36ee622879b4/model/model-960\n"
          ],
          "name": "stderr"
        },
        {
          "output_type": "stream",
          "text": [
            "INFO:tensorflow:Restoring parameters from result/delaney-processed_curated_fit/NN_graphconv_scaffold_regression/7018bc25-5b13-47fe-b904-36ee622879b4/model/model-976\n"
          ],
          "name": "stdout"
        },
        {
          "output_type": "stream",
          "text": [
            "2020-09-21 12:53:50,933 Restoring parameters from result/delaney-processed_curated_fit/NN_graphconv_scaffold_regression/7018bc25-5b13-47fe-b904-36ee622879b4/model/model-976\n"
          ],
          "name": "stderr"
        },
        {
          "output_type": "stream",
          "text": [
            "INFO:tensorflow:Restoring parameters from result/delaney-processed_curated_fit/NN_graphconv_scaffold_regression/7018bc25-5b13-47fe-b904-36ee622879b4/model/model-992\n"
          ],
          "name": "stdout"
        },
        {
          "output_type": "stream",
          "text": [
            "2020-09-21 12:53:53,642 Restoring parameters from result/delaney-processed_curated_fit/NN_graphconv_scaffold_regression/7018bc25-5b13-47fe-b904-36ee622879b4/model/model-992\n"
          ],
          "name": "stderr"
        },
        {
          "output_type": "stream",
          "text": [
            "INFO:tensorflow:Restoring parameters from result/delaney-processed_curated_fit/NN_graphconv_scaffold_regression/7018bc25-5b13-47fe-b904-36ee622879b4/model/model-1008\n"
          ],
          "name": "stdout"
        },
        {
          "output_type": "stream",
          "text": [
            "2020-09-21 12:53:57,184 Restoring parameters from result/delaney-processed_curated_fit/NN_graphconv_scaffold_regression/7018bc25-5b13-47fe-b904-36ee622879b4/model/model-1008\n"
          ],
          "name": "stderr"
        },
        {
          "output_type": "stream",
          "text": [
            "INFO:tensorflow:Restoring parameters from result/delaney-processed_curated_fit/NN_graphconv_scaffold_regression/7018bc25-5b13-47fe-b904-36ee622879b4/model/model-1024\n"
          ],
          "name": "stdout"
        },
        {
          "output_type": "stream",
          "text": [
            "2020-09-21 12:54:00,280 Restoring parameters from result/delaney-processed_curated_fit/NN_graphconv_scaffold_regression/7018bc25-5b13-47fe-b904-36ee622879b4/model/model-1024\n"
          ],
          "name": "stderr"
        },
        {
          "output_type": "stream",
          "text": [
            "INFO:tensorflow:Restoring parameters from result/delaney-processed_curated_fit/NN_graphconv_scaffold_regression/7018bc25-5b13-47fe-b904-36ee622879b4/model/model-1040\n"
          ],
          "name": "stdout"
        },
        {
          "output_type": "stream",
          "text": [
            "2020-09-21 12:54:03,023 Restoring parameters from result/delaney-processed_curated_fit/NN_graphconv_scaffold_regression/7018bc25-5b13-47fe-b904-36ee622879b4/model/model-1040\n"
          ],
          "name": "stderr"
        },
        {
          "output_type": "stream",
          "text": [
            "INFO:tensorflow:Restoring parameters from result/delaney-processed_curated_fit/NN_graphconv_scaffold_regression/7018bc25-5b13-47fe-b904-36ee622879b4/model/model-1056\n"
          ],
          "name": "stdout"
        },
        {
          "output_type": "stream",
          "text": [
            "2020-09-21 12:54:05,806 Restoring parameters from result/delaney-processed_curated_fit/NN_graphconv_scaffold_regression/7018bc25-5b13-47fe-b904-36ee622879b4/model/model-1056\n"
          ],
          "name": "stderr"
        },
        {
          "output_type": "stream",
          "text": [
            "INFO:tensorflow:Restoring parameters from result/delaney-processed_curated_fit/NN_graphconv_scaffold_regression/7018bc25-5b13-47fe-b904-36ee622879b4/model/model-1072\n"
          ],
          "name": "stdout"
        },
        {
          "output_type": "stream",
          "text": [
            "2020-09-21 12:54:08,608 Restoring parameters from result/delaney-processed_curated_fit/NN_graphconv_scaffold_regression/7018bc25-5b13-47fe-b904-36ee622879b4/model/model-1072\n"
          ],
          "name": "stderr"
        },
        {
          "output_type": "stream",
          "text": [
            "INFO:tensorflow:Restoring parameters from result/delaney-processed_curated_fit/NN_graphconv_scaffold_regression/7018bc25-5b13-47fe-b904-36ee622879b4/model/model-1088\n"
          ],
          "name": "stdout"
        },
        {
          "output_type": "stream",
          "text": [
            "2020-09-21 12:54:11,732 Restoring parameters from result/delaney-processed_curated_fit/NN_graphconv_scaffold_regression/7018bc25-5b13-47fe-b904-36ee622879b4/model/model-1088\n"
          ],
          "name": "stderr"
        },
        {
          "output_type": "stream",
          "text": [
            "INFO:tensorflow:Restoring parameters from result/delaney-processed_curated_fit/NN_graphconv_scaffold_regression/7018bc25-5b13-47fe-b904-36ee622879b4/model/model-1104\n"
          ],
          "name": "stdout"
        },
        {
          "output_type": "stream",
          "text": [
            "2020-09-21 12:54:14,530 Restoring parameters from result/delaney-processed_curated_fit/NN_graphconv_scaffold_regression/7018bc25-5b13-47fe-b904-36ee622879b4/model/model-1104\n"
          ],
          "name": "stderr"
        },
        {
          "output_type": "stream",
          "text": [
            "INFO:tensorflow:Restoring parameters from result/delaney-processed_curated_fit/NN_graphconv_scaffold_regression/7018bc25-5b13-47fe-b904-36ee622879b4/model/model-1120\n"
          ],
          "name": "stdout"
        },
        {
          "output_type": "stream",
          "text": [
            "2020-09-21 12:54:17,373 Restoring parameters from result/delaney-processed_curated_fit/NN_graphconv_scaffold_regression/7018bc25-5b13-47fe-b904-36ee622879b4/model/model-1120\n"
          ],
          "name": "stderr"
        },
        {
          "output_type": "stream",
          "text": [
            "INFO:tensorflow:Restoring parameters from result/delaney-processed_curated_fit/NN_graphconv_scaffold_regression/7018bc25-5b13-47fe-b904-36ee622879b4/model/model-1136\n"
          ],
          "name": "stdout"
        },
        {
          "output_type": "stream",
          "text": [
            "2020-09-21 12:54:20,549 Restoring parameters from result/delaney-processed_curated_fit/NN_graphconv_scaffold_regression/7018bc25-5b13-47fe-b904-36ee622879b4/model/model-1136\n"
          ],
          "name": "stderr"
        },
        {
          "output_type": "stream",
          "text": [
            "INFO:tensorflow:Restoring parameters from result/delaney-processed_curated_fit/NN_graphconv_scaffold_regression/7018bc25-5b13-47fe-b904-36ee622879b4/model/model-1152\n"
          ],
          "name": "stdout"
        },
        {
          "output_type": "stream",
          "text": [
            "2020-09-21 12:54:23,414 Restoring parameters from result/delaney-processed_curated_fit/NN_graphconv_scaffold_regression/7018bc25-5b13-47fe-b904-36ee622879b4/model/model-1152\n"
          ],
          "name": "stderr"
        },
        {
          "output_type": "stream",
          "text": [
            "INFO:tensorflow:Restoring parameters from result/delaney-processed_curated_fit/NN_graphconv_scaffold_regression/7018bc25-5b13-47fe-b904-36ee622879b4/model/model-1168\n"
          ],
          "name": "stdout"
        },
        {
          "output_type": "stream",
          "text": [
            "2020-09-21 12:54:26,311 Restoring parameters from result/delaney-processed_curated_fit/NN_graphconv_scaffold_regression/7018bc25-5b13-47fe-b904-36ee622879b4/model/model-1168\n"
          ],
          "name": "stderr"
        },
        {
          "output_type": "stream",
          "text": [
            "INFO:tensorflow:Restoring parameters from result/delaney-processed_curated_fit/NN_graphconv_scaffold_regression/7018bc25-5b13-47fe-b904-36ee622879b4/model/model-1184\n"
          ],
          "name": "stdout"
        },
        {
          "output_type": "stream",
          "text": [
            "2020-09-21 12:54:29,246 Restoring parameters from result/delaney-processed_curated_fit/NN_graphconv_scaffold_regression/7018bc25-5b13-47fe-b904-36ee622879b4/model/model-1184\n"
          ],
          "name": "stderr"
        },
        {
          "output_type": "stream",
          "text": [
            "INFO:tensorflow:Restoring parameters from result/delaney-processed_curated_fit/NN_graphconv_scaffold_regression/7018bc25-5b13-47fe-b904-36ee622879b4/model/model-1200\n"
          ],
          "name": "stdout"
        },
        {
          "output_type": "stream",
          "text": [
            "2020-09-21 12:54:32,499 Restoring parameters from result/delaney-processed_curated_fit/NN_graphconv_scaffold_regression/7018bc25-5b13-47fe-b904-36ee622879b4/model/model-1200\n"
          ],
          "name": "stderr"
        },
        {
          "output_type": "stream",
          "text": [
            "INFO:tensorflow:Restoring parameters from result/delaney-processed_curated_fit/NN_graphconv_scaffold_regression/7018bc25-5b13-47fe-b904-36ee622879b4/model/model-1216\n"
          ],
          "name": "stdout"
        },
        {
          "output_type": "stream",
          "text": [
            "2020-09-21 12:54:35,518 Restoring parameters from result/delaney-processed_curated_fit/NN_graphconv_scaffold_regression/7018bc25-5b13-47fe-b904-36ee622879b4/model/model-1216\n"
          ],
          "name": "stderr"
        },
        {
          "output_type": "stream",
          "text": [
            "INFO:tensorflow:Restoring parameters from result/delaney-processed_curated_fit/NN_graphconv_scaffold_regression/7018bc25-5b13-47fe-b904-36ee622879b4/model/model-1232\n"
          ],
          "name": "stdout"
        },
        {
          "output_type": "stream",
          "text": [
            "2020-09-21 12:54:38,489 Restoring parameters from result/delaney-processed_curated_fit/NN_graphconv_scaffold_regression/7018bc25-5b13-47fe-b904-36ee622879b4/model/model-1232\n"
          ],
          "name": "stderr"
        },
        {
          "output_type": "stream",
          "text": [
            "INFO:tensorflow:Restoring parameters from result/delaney-processed_curated_fit/NN_graphconv_scaffold_regression/7018bc25-5b13-47fe-b904-36ee622879b4/model/model-1248\n"
          ],
          "name": "stdout"
        },
        {
          "output_type": "stream",
          "text": [
            "2020-09-21 12:54:41,814 Restoring parameters from result/delaney-processed_curated_fit/NN_graphconv_scaffold_regression/7018bc25-5b13-47fe-b904-36ee622879b4/model/model-1248\n"
          ],
          "name": "stderr"
        },
        {
          "output_type": "stream",
          "text": [
            "INFO:tensorflow:Restoring parameters from result/delaney-processed_curated_fit/NN_graphconv_scaffold_regression/7018bc25-5b13-47fe-b904-36ee622879b4/model/model-1264\n"
          ],
          "name": "stdout"
        },
        {
          "output_type": "stream",
          "text": [
            "2020-09-21 12:54:44,830 Restoring parameters from result/delaney-processed_curated_fit/NN_graphconv_scaffold_regression/7018bc25-5b13-47fe-b904-36ee622879b4/model/model-1264\n"
          ],
          "name": "stderr"
        },
        {
          "output_type": "stream",
          "text": [
            "INFO:tensorflow:Restoring parameters from result/delaney-processed_curated_fit/NN_graphconv_scaffold_regression/7018bc25-5b13-47fe-b904-36ee622879b4/model/model-1280\n"
          ],
          "name": "stdout"
        },
        {
          "output_type": "stream",
          "text": [
            "2020-09-21 12:54:47,853 Restoring parameters from result/delaney-processed_curated_fit/NN_graphconv_scaffold_regression/7018bc25-5b13-47fe-b904-36ee622879b4/model/model-1280\n"
          ],
          "name": "stderr"
        },
        {
          "output_type": "stream",
          "text": [
            "INFO:tensorflow:Restoring parameters from result/delaney-processed_curated_fit/NN_graphconv_scaffold_regression/7018bc25-5b13-47fe-b904-36ee622879b4/model/model-1296\n"
          ],
          "name": "stdout"
        },
        {
          "output_type": "stream",
          "text": [
            "2020-09-21 12:54:50,874 Restoring parameters from result/delaney-processed_curated_fit/NN_graphconv_scaffold_regression/7018bc25-5b13-47fe-b904-36ee622879b4/model/model-1296\n"
          ],
          "name": "stderr"
        },
        {
          "output_type": "stream",
          "text": [
            "INFO:tensorflow:Restoring parameters from result/delaney-processed_curated_fit/NN_graphconv_scaffold_regression/7018bc25-5b13-47fe-b904-36ee622879b4/model/model-1312\n"
          ],
          "name": "stdout"
        },
        {
          "output_type": "stream",
          "text": [
            "2020-09-21 12:54:54,297 Restoring parameters from result/delaney-processed_curated_fit/NN_graphconv_scaffold_regression/7018bc25-5b13-47fe-b904-36ee622879b4/model/model-1312\n"
          ],
          "name": "stderr"
        },
        {
          "output_type": "stream",
          "text": [
            "INFO:tensorflow:Restoring parameters from result/delaney-processed_curated_fit/NN_graphconv_scaffold_regression/7018bc25-5b13-47fe-b904-36ee622879b4/model/model-1328\n"
          ],
          "name": "stdout"
        },
        {
          "output_type": "stream",
          "text": [
            "2020-09-21 12:54:57,406 Restoring parameters from result/delaney-processed_curated_fit/NN_graphconv_scaffold_regression/7018bc25-5b13-47fe-b904-36ee622879b4/model/model-1328\n"
          ],
          "name": "stderr"
        },
        {
          "output_type": "stream",
          "text": [
            "INFO:tensorflow:Restoring parameters from result/delaney-processed_curated_fit/NN_graphconv_scaffold_regression/7018bc25-5b13-47fe-b904-36ee622879b4/model/model-1344\n"
          ],
          "name": "stdout"
        },
        {
          "output_type": "stream",
          "text": [
            "2020-09-21 12:55:00,489 Restoring parameters from result/delaney-processed_curated_fit/NN_graphconv_scaffold_regression/7018bc25-5b13-47fe-b904-36ee622879b4/model/model-1344\n"
          ],
          "name": "stderr"
        },
        {
          "output_type": "stream",
          "text": [
            "INFO:tensorflow:Restoring parameters from result/delaney-processed_curated_fit/NN_graphconv_scaffold_regression/7018bc25-5b13-47fe-b904-36ee622879b4/model/model-1360\n"
          ],
          "name": "stdout"
        },
        {
          "output_type": "stream",
          "text": [
            "2020-09-21 12:55:03,584 Restoring parameters from result/delaney-processed_curated_fit/NN_graphconv_scaffold_regression/7018bc25-5b13-47fe-b904-36ee622879b4/model/model-1360\n"
          ],
          "name": "stderr"
        },
        {
          "output_type": "stream",
          "text": [
            "INFO:tensorflow:Restoring parameters from result/delaney-processed_curated_fit/NN_graphconv_scaffold_regression/7018bc25-5b13-47fe-b904-36ee622879b4/model/model-1376\n"
          ],
          "name": "stdout"
        },
        {
          "output_type": "stream",
          "text": [
            "2020-09-21 12:55:07,057 Restoring parameters from result/delaney-processed_curated_fit/NN_graphconv_scaffold_regression/7018bc25-5b13-47fe-b904-36ee622879b4/model/model-1376\n"
          ],
          "name": "stderr"
        },
        {
          "output_type": "stream",
          "text": [
            "INFO:tensorflow:Restoring parameters from result/delaney-processed_curated_fit/NN_graphconv_scaffold_regression/7018bc25-5b13-47fe-b904-36ee622879b4/model/model-1392\n"
          ],
          "name": "stdout"
        },
        {
          "output_type": "stream",
          "text": [
            "2020-09-21 12:55:10,204 Restoring parameters from result/delaney-processed_curated_fit/NN_graphconv_scaffold_regression/7018bc25-5b13-47fe-b904-36ee622879b4/model/model-1392\n"
          ],
          "name": "stderr"
        },
        {
          "output_type": "stream",
          "text": [
            "INFO:tensorflow:Restoring parameters from result/delaney-processed_curated_fit/NN_graphconv_scaffold_regression/7018bc25-5b13-47fe-b904-36ee622879b4/model/model-1408\n"
          ],
          "name": "stdout"
        },
        {
          "output_type": "stream",
          "text": [
            "2020-09-21 12:55:13,344 Restoring parameters from result/delaney-processed_curated_fit/NN_graphconv_scaffold_regression/7018bc25-5b13-47fe-b904-36ee622879b4/model/model-1408\n"
          ],
          "name": "stderr"
        },
        {
          "output_type": "stream",
          "text": [
            "INFO:tensorflow:Restoring parameters from result/delaney-processed_curated_fit/NN_graphconv_scaffold_regression/7018bc25-5b13-47fe-b904-36ee622879b4/model/model-1424\n"
          ],
          "name": "stdout"
        },
        {
          "output_type": "stream",
          "text": [
            "2020-09-21 12:55:16,557 Restoring parameters from result/delaney-processed_curated_fit/NN_graphconv_scaffold_regression/7018bc25-5b13-47fe-b904-36ee622879b4/model/model-1424\n"
          ],
          "name": "stderr"
        },
        {
          "output_type": "stream",
          "text": [
            "INFO:tensorflow:Restoring parameters from result/delaney-processed_curated_fit/NN_graphconv_scaffold_regression/7018bc25-5b13-47fe-b904-36ee622879b4/model/model-1440\n"
          ],
          "name": "stdout"
        },
        {
          "output_type": "stream",
          "text": [
            "2020-09-21 12:55:20,135 Restoring parameters from result/delaney-processed_curated_fit/NN_graphconv_scaffold_regression/7018bc25-5b13-47fe-b904-36ee622879b4/model/model-1440\n"
          ],
          "name": "stderr"
        },
        {
          "output_type": "stream",
          "text": [
            "INFO:tensorflow:Restoring parameters from result/delaney-processed_curated_fit/NN_graphconv_scaffold_regression/7018bc25-5b13-47fe-b904-36ee622879b4/model/model-1456\n"
          ],
          "name": "stdout"
        },
        {
          "output_type": "stream",
          "text": [
            "2020-09-21 12:55:23,338 Restoring parameters from result/delaney-processed_curated_fit/NN_graphconv_scaffold_regression/7018bc25-5b13-47fe-b904-36ee622879b4/model/model-1456\n"
          ],
          "name": "stderr"
        },
        {
          "output_type": "stream",
          "text": [
            "INFO:tensorflow:Restoring parameters from result/delaney-processed_curated_fit/NN_graphconv_scaffold_regression/7018bc25-5b13-47fe-b904-36ee622879b4/model/model-1472\n"
          ],
          "name": "stdout"
        },
        {
          "output_type": "stream",
          "text": [
            "2020-09-21 12:55:26,600 Restoring parameters from result/delaney-processed_curated_fit/NN_graphconv_scaffold_regression/7018bc25-5b13-47fe-b904-36ee622879b4/model/model-1472\n"
          ],
          "name": "stderr"
        },
        {
          "output_type": "stream",
          "text": [
            "INFO:tensorflow:Restoring parameters from result/delaney-processed_curated_fit/NN_graphconv_scaffold_regression/7018bc25-5b13-47fe-b904-36ee622879b4/model/model-1488\n"
          ],
          "name": "stdout"
        },
        {
          "output_type": "stream",
          "text": [
            "2020-09-21 12:55:30,235 Restoring parameters from result/delaney-processed_curated_fit/NN_graphconv_scaffold_regression/7018bc25-5b13-47fe-b904-36ee622879b4/model/model-1488\n"
          ],
          "name": "stderr"
        },
        {
          "output_type": "stream",
          "text": [
            "INFO:tensorflow:Restoring parameters from result/delaney-processed_curated_fit/NN_graphconv_scaffold_regression/7018bc25-5b13-47fe-b904-36ee622879b4/model/model-1504\n"
          ],
          "name": "stdout"
        },
        {
          "output_type": "stream",
          "text": [
            "2020-09-21 12:55:33,529 Restoring parameters from result/delaney-processed_curated_fit/NN_graphconv_scaffold_regression/7018bc25-5b13-47fe-b904-36ee622879b4/model/model-1504\n"
          ],
          "name": "stderr"
        },
        {
          "output_type": "stream",
          "text": [
            "INFO:tensorflow:Restoring parameters from result/delaney-processed_curated_fit/NN_graphconv_scaffold_regression/7018bc25-5b13-47fe-b904-36ee622879b4/model/model-1520\n"
          ],
          "name": "stdout"
        },
        {
          "output_type": "stream",
          "text": [
            "2020-09-21 12:55:36,819 Restoring parameters from result/delaney-processed_curated_fit/NN_graphconv_scaffold_regression/7018bc25-5b13-47fe-b904-36ee622879b4/model/model-1520\n"
          ],
          "name": "stderr"
        },
        {
          "output_type": "stream",
          "text": [
            "INFO:tensorflow:Restoring parameters from result/delaney-processed_curated_fit/NN_graphconv_scaffold_regression/7018bc25-5b13-47fe-b904-36ee622879b4/model/model-1536\n"
          ],
          "name": "stdout"
        },
        {
          "output_type": "stream",
          "text": [
            "2020-09-21 12:55:40,117 Restoring parameters from result/delaney-processed_curated_fit/NN_graphconv_scaffold_regression/7018bc25-5b13-47fe-b904-36ee622879b4/model/model-1536\n"
          ],
          "name": "stderr"
        },
        {
          "output_type": "stream",
          "text": [
            "INFO:tensorflow:Restoring parameters from result/delaney-processed_curated_fit/NN_graphconv_scaffold_regression/7018bc25-5b13-47fe-b904-36ee622879b4/model/model-1552\n"
          ],
          "name": "stdout"
        },
        {
          "output_type": "stream",
          "text": [
            "2020-09-21 12:55:43,465 Restoring parameters from result/delaney-processed_curated_fit/NN_graphconv_scaffold_regression/7018bc25-5b13-47fe-b904-36ee622879b4/model/model-1552\n"
          ],
          "name": "stderr"
        },
        {
          "output_type": "stream",
          "text": [
            "INFO:tensorflow:Restoring parameters from result/delaney-processed_curated_fit/NN_graphconv_scaffold_regression/7018bc25-5b13-47fe-b904-36ee622879b4/model/model-1568\n"
          ],
          "name": "stdout"
        },
        {
          "output_type": "stream",
          "text": [
            "2020-09-21 12:55:47,181 Restoring parameters from result/delaney-processed_curated_fit/NN_graphconv_scaffold_regression/7018bc25-5b13-47fe-b904-36ee622879b4/model/model-1568\n"
          ],
          "name": "stderr"
        },
        {
          "output_type": "stream",
          "text": [
            "INFO:tensorflow:Restoring parameters from result/delaney-processed_curated_fit/NN_graphconv_scaffold_regression/7018bc25-5b13-47fe-b904-36ee622879b4/model/model-1584\n"
          ],
          "name": "stdout"
        },
        {
          "output_type": "stream",
          "text": [
            "2020-09-21 12:55:50,614 Restoring parameters from result/delaney-processed_curated_fit/NN_graphconv_scaffold_regression/7018bc25-5b13-47fe-b904-36ee622879b4/model/model-1584\n"
          ],
          "name": "stderr"
        },
        {
          "output_type": "stream",
          "text": [
            "INFO:tensorflow:Restoring parameters from result/delaney-processed_curated_fit/NN_graphconv_scaffold_regression/7018bc25-5b13-47fe-b904-36ee622879b4/model/model-1600\n"
          ],
          "name": "stdout"
        },
        {
          "output_type": "stream",
          "text": [
            "2020-09-21 12:55:53,995 Restoring parameters from result/delaney-processed_curated_fit/NN_graphconv_scaffold_regression/7018bc25-5b13-47fe-b904-36ee622879b4/model/model-1600\n"
          ],
          "name": "stderr"
        },
        {
          "output_type": "stream",
          "text": [
            "INFO:tensorflow:Restoring parameters from result/delaney-processed_curated_fit/NN_graphconv_scaffold_regression/7018bc25-5b13-47fe-b904-36ee622879b4/model/model-1616\n"
          ],
          "name": "stdout"
        },
        {
          "output_type": "stream",
          "text": [
            "2020-09-21 12:55:57,387 Restoring parameters from result/delaney-processed_curated_fit/NN_graphconv_scaffold_regression/7018bc25-5b13-47fe-b904-36ee622879b4/model/model-1616\n"
          ],
          "name": "stderr"
        },
        {
          "output_type": "stream",
          "text": [
            "INFO:tensorflow:Restoring parameters from result/delaney-processed_curated_fit/NN_graphconv_scaffold_regression/7018bc25-5b13-47fe-b904-36ee622879b4/model/model-1632\n"
          ],
          "name": "stdout"
        },
        {
          "output_type": "stream",
          "text": [
            "2020-09-21 12:56:01,202 Restoring parameters from result/delaney-processed_curated_fit/NN_graphconv_scaffold_regression/7018bc25-5b13-47fe-b904-36ee622879b4/model/model-1632\n"
          ],
          "name": "stderr"
        },
        {
          "output_type": "stream",
          "text": [
            "INFO:tensorflow:Restoring parameters from result/delaney-processed_curated_fit/NN_graphconv_scaffold_regression/7018bc25-5b13-47fe-b904-36ee622879b4/model/model-1648\n"
          ],
          "name": "stdout"
        },
        {
          "output_type": "stream",
          "text": [
            "2020-09-21 12:56:04,648 Restoring parameters from result/delaney-processed_curated_fit/NN_graphconv_scaffold_regression/7018bc25-5b13-47fe-b904-36ee622879b4/model/model-1648\n"
          ],
          "name": "stderr"
        },
        {
          "output_type": "stream",
          "text": [
            "INFO:tensorflow:Restoring parameters from result/delaney-processed_curated_fit/NN_graphconv_scaffold_regression/7018bc25-5b13-47fe-b904-36ee622879b4/model/model-1664\n"
          ],
          "name": "stdout"
        },
        {
          "output_type": "stream",
          "text": [
            "2020-09-21 12:56:08,158 Restoring parameters from result/delaney-processed_curated_fit/NN_graphconv_scaffold_regression/7018bc25-5b13-47fe-b904-36ee622879b4/model/model-1664\n"
          ],
          "name": "stderr"
        },
        {
          "output_type": "stream",
          "text": [
            "INFO:tensorflow:Restoring parameters from result/delaney-processed_curated_fit/NN_graphconv_scaffold_regression/7018bc25-5b13-47fe-b904-36ee622879b4/model/model-1680\n"
          ],
          "name": "stdout"
        },
        {
          "output_type": "stream",
          "text": [
            "2020-09-21 12:56:11,615 Restoring parameters from result/delaney-processed_curated_fit/NN_graphconv_scaffold_regression/7018bc25-5b13-47fe-b904-36ee622879b4/model/model-1680\n"
          ],
          "name": "stderr"
        },
        {
          "output_type": "stream",
          "text": [
            "INFO:tensorflow:Restoring parameters from result/delaney-processed_curated_fit/NN_graphconv_scaffold_regression/7018bc25-5b13-47fe-b904-36ee622879b4/model/model-1696\n"
          ],
          "name": "stdout"
        },
        {
          "output_type": "stream",
          "text": [
            "2020-09-21 12:56:15,494 Restoring parameters from result/delaney-processed_curated_fit/NN_graphconv_scaffold_regression/7018bc25-5b13-47fe-b904-36ee622879b4/model/model-1696\n"
          ],
          "name": "stderr"
        },
        {
          "output_type": "stream",
          "text": [
            "INFO:tensorflow:Restoring parameters from result/delaney-processed_curated_fit/NN_graphconv_scaffold_regression/7018bc25-5b13-47fe-b904-36ee622879b4/model/model-1712\n"
          ],
          "name": "stdout"
        },
        {
          "output_type": "stream",
          "text": [
            "2020-09-21 12:56:19,003 Restoring parameters from result/delaney-processed_curated_fit/NN_graphconv_scaffold_regression/7018bc25-5b13-47fe-b904-36ee622879b4/model/model-1712\n"
          ],
          "name": "stderr"
        },
        {
          "output_type": "stream",
          "text": [
            "INFO:tensorflow:Restoring parameters from result/delaney-processed_curated_fit/NN_graphconv_scaffold_regression/7018bc25-5b13-47fe-b904-36ee622879b4/model/model-1728\n"
          ],
          "name": "stdout"
        },
        {
          "output_type": "stream",
          "text": [
            "2020-09-21 12:56:22,582 Restoring parameters from result/delaney-processed_curated_fit/NN_graphconv_scaffold_regression/7018bc25-5b13-47fe-b904-36ee622879b4/model/model-1728\n"
          ],
          "name": "stderr"
        },
        {
          "output_type": "stream",
          "text": [
            "INFO:tensorflow:Restoring parameters from result/delaney-processed_curated_fit/NN_graphconv_scaffold_regression/7018bc25-5b13-47fe-b904-36ee622879b4/model/model-1744\n"
          ],
          "name": "stdout"
        },
        {
          "output_type": "stream",
          "text": [
            "2020-09-21 12:56:26,109 Restoring parameters from result/delaney-processed_curated_fit/NN_graphconv_scaffold_regression/7018bc25-5b13-47fe-b904-36ee622879b4/model/model-1744\n"
          ],
          "name": "stderr"
        },
        {
          "output_type": "stream",
          "text": [
            "INFO:tensorflow:Restoring parameters from result/delaney-processed_curated_fit/NN_graphconv_scaffold_regression/7018bc25-5b13-47fe-b904-36ee622879b4/model/model-1760\n"
          ],
          "name": "stdout"
        },
        {
          "output_type": "stream",
          "text": [
            "2020-09-21 12:56:29,692 Restoring parameters from result/delaney-processed_curated_fit/NN_graphconv_scaffold_regression/7018bc25-5b13-47fe-b904-36ee622879b4/model/model-1760\n"
          ],
          "name": "stderr"
        },
        {
          "output_type": "stream",
          "text": [
            "INFO:tensorflow:Restoring parameters from result/delaney-processed_curated_fit/NN_graphconv_scaffold_regression/7018bc25-5b13-47fe-b904-36ee622879b4/model/model-1776\n"
          ],
          "name": "stdout"
        },
        {
          "output_type": "stream",
          "text": [
            "2020-09-21 12:56:33,699 Restoring parameters from result/delaney-processed_curated_fit/NN_graphconv_scaffold_regression/7018bc25-5b13-47fe-b904-36ee622879b4/model/model-1776\n"
          ],
          "name": "stderr"
        },
        {
          "output_type": "stream",
          "text": [
            "INFO:tensorflow:Restoring parameters from result/delaney-processed_curated_fit/NN_graphconv_scaffold_regression/7018bc25-5b13-47fe-b904-36ee622879b4/model/model-1792\n"
          ],
          "name": "stdout"
        },
        {
          "output_type": "stream",
          "text": [
            "2020-09-21 12:56:37,334 Restoring parameters from result/delaney-processed_curated_fit/NN_graphconv_scaffold_regression/7018bc25-5b13-47fe-b904-36ee622879b4/model/model-1792\n"
          ],
          "name": "stderr"
        },
        {
          "output_type": "stream",
          "text": [
            "INFO:tensorflow:Restoring parameters from result/delaney-processed_curated_fit/NN_graphconv_scaffold_regression/7018bc25-5b13-47fe-b904-36ee622879b4/model/model-1808\n"
          ],
          "name": "stdout"
        },
        {
          "output_type": "stream",
          "text": [
            "2020-09-21 12:56:40,957 Restoring parameters from result/delaney-processed_curated_fit/NN_graphconv_scaffold_regression/7018bc25-5b13-47fe-b904-36ee622879b4/model/model-1808\n"
          ],
          "name": "stderr"
        },
        {
          "output_type": "stream",
          "text": [
            "INFO:tensorflow:Restoring parameters from result/delaney-processed_curated_fit/NN_graphconv_scaffold_regression/7018bc25-5b13-47fe-b904-36ee622879b4/model/model-1824\n"
          ],
          "name": "stdout"
        },
        {
          "output_type": "stream",
          "text": [
            "2020-09-21 12:56:44,622 Restoring parameters from result/delaney-processed_curated_fit/NN_graphconv_scaffold_regression/7018bc25-5b13-47fe-b904-36ee622879b4/model/model-1824\n"
          ],
          "name": "stderr"
        },
        {
          "output_type": "stream",
          "text": [
            "INFO:tensorflow:Restoring parameters from result/delaney-processed_curated_fit/NN_graphconv_scaffold_regression/7018bc25-5b13-47fe-b904-36ee622879b4/model/model-1840\n"
          ],
          "name": "stdout"
        },
        {
          "output_type": "stream",
          "text": [
            "2020-09-21 12:56:48,710 Restoring parameters from result/delaney-processed_curated_fit/NN_graphconv_scaffold_regression/7018bc25-5b13-47fe-b904-36ee622879b4/model/model-1840\n"
          ],
          "name": "stderr"
        },
        {
          "output_type": "stream",
          "text": [
            "INFO:tensorflow:Restoring parameters from result/delaney-processed_curated_fit/NN_graphconv_scaffold_regression/7018bc25-5b13-47fe-b904-36ee622879b4/model/model-1856\n"
          ],
          "name": "stdout"
        },
        {
          "output_type": "stream",
          "text": [
            "2020-09-21 12:56:52,418 Restoring parameters from result/delaney-processed_curated_fit/NN_graphconv_scaffold_regression/7018bc25-5b13-47fe-b904-36ee622879b4/model/model-1856\n"
          ],
          "name": "stderr"
        },
        {
          "output_type": "stream",
          "text": [
            "INFO:tensorflow:Restoring parameters from result/delaney-processed_curated_fit/NN_graphconv_scaffold_regression/7018bc25-5b13-47fe-b904-36ee622879b4/model/model-1872\n"
          ],
          "name": "stdout"
        },
        {
          "output_type": "stream",
          "text": [
            "2020-09-21 12:56:56,120 Restoring parameters from result/delaney-processed_curated_fit/NN_graphconv_scaffold_regression/7018bc25-5b13-47fe-b904-36ee622879b4/model/model-1872\n"
          ],
          "name": "stderr"
        },
        {
          "output_type": "stream",
          "text": [
            "INFO:tensorflow:Restoring parameters from result/delaney-processed_curated_fit/NN_graphconv_scaffold_regression/7018bc25-5b13-47fe-b904-36ee622879b4/model/model-1888\n"
          ],
          "name": "stdout"
        },
        {
          "output_type": "stream",
          "text": [
            "2020-09-21 12:56:59,838 Restoring parameters from result/delaney-processed_curated_fit/NN_graphconv_scaffold_regression/7018bc25-5b13-47fe-b904-36ee622879b4/model/model-1888\n"
          ],
          "name": "stderr"
        },
        {
          "output_type": "stream",
          "text": [
            "INFO:tensorflow:Restoring parameters from result/delaney-processed_curated_fit/NN_graphconv_scaffold_regression/7018bc25-5b13-47fe-b904-36ee622879b4/model/model-1904\n"
          ],
          "name": "stdout"
        },
        {
          "output_type": "stream",
          "text": [
            "2020-09-21 12:57:03,616 Restoring parameters from result/delaney-processed_curated_fit/NN_graphconv_scaffold_regression/7018bc25-5b13-47fe-b904-36ee622879b4/model/model-1904\n"
          ],
          "name": "stderr"
        },
        {
          "output_type": "stream",
          "text": [
            "INFO:tensorflow:Restoring parameters from result/delaney-processed_curated_fit/NN_graphconv_scaffold_regression/7018bc25-5b13-47fe-b904-36ee622879b4/model/model-1920\n"
          ],
          "name": "stdout"
        },
        {
          "output_type": "stream",
          "text": [
            "2020-09-21 12:57:07,774 Restoring parameters from result/delaney-processed_curated_fit/NN_graphconv_scaffold_regression/7018bc25-5b13-47fe-b904-36ee622879b4/model/model-1920\n"
          ],
          "name": "stderr"
        },
        {
          "output_type": "stream",
          "text": [
            "INFO:tensorflow:Restoring parameters from result/delaney-processed_curated_fit/NN_graphconv_scaffold_regression/7018bc25-5b13-47fe-b904-36ee622879b4/model/model-1936\n"
          ],
          "name": "stdout"
        },
        {
          "output_type": "stream",
          "text": [
            "2020-09-21 12:57:11,567 Restoring parameters from result/delaney-processed_curated_fit/NN_graphconv_scaffold_regression/7018bc25-5b13-47fe-b904-36ee622879b4/model/model-1936\n"
          ],
          "name": "stderr"
        },
        {
          "output_type": "stream",
          "text": [
            "INFO:tensorflow:Restoring parameters from result/delaney-processed_curated_fit/NN_graphconv_scaffold_regression/7018bc25-5b13-47fe-b904-36ee622879b4/model/model-1952\n"
          ],
          "name": "stdout"
        },
        {
          "output_type": "stream",
          "text": [
            "2020-09-21 12:57:15,372 Restoring parameters from result/delaney-processed_curated_fit/NN_graphconv_scaffold_regression/7018bc25-5b13-47fe-b904-36ee622879b4/model/model-1952\n"
          ],
          "name": "stderr"
        },
        {
          "output_type": "stream",
          "text": [
            "INFO:tensorflow:Restoring parameters from result/delaney-processed_curated_fit/NN_graphconv_scaffold_regression/7018bc25-5b13-47fe-b904-36ee622879b4/model/model-1968\n"
          ],
          "name": "stdout"
        },
        {
          "output_type": "stream",
          "text": [
            "2020-09-21 12:57:19,194 Restoring parameters from result/delaney-processed_curated_fit/NN_graphconv_scaffold_regression/7018bc25-5b13-47fe-b904-36ee622879b4/model/model-1968\n"
          ],
          "name": "stderr"
        },
        {
          "output_type": "stream",
          "text": [
            "INFO:tensorflow:Restoring parameters from result/delaney-processed_curated_fit/NN_graphconv_scaffold_regression/7018bc25-5b13-47fe-b904-36ee622879b4/model/model-1984\n"
          ],
          "name": "stdout"
        },
        {
          "output_type": "stream",
          "text": [
            "2020-09-21 12:57:23,041 Restoring parameters from result/delaney-processed_curated_fit/NN_graphconv_scaffold_regression/7018bc25-5b13-47fe-b904-36ee622879b4/model/model-1984\n"
          ],
          "name": "stderr"
        },
        {
          "output_type": "stream",
          "text": [
            "INFO:tensorflow:Restoring parameters from result/delaney-processed_curated_fit/NN_graphconv_scaffold_regression/7018bc25-5b13-47fe-b904-36ee622879b4/model/model-2000\n"
          ],
          "name": "stdout"
        },
        {
          "output_type": "stream",
          "text": [
            "2020-09-21 12:57:28,708 Restoring parameters from result/delaney-processed_curated_fit/NN_graphconv_scaffold_regression/7018bc25-5b13-47fe-b904-36ee622879b4/model/model-2000\n"
          ],
          "name": "stderr"
        },
        {
          "output_type": "stream",
          "text": [
            "INFO:tensorflow:Restoring parameters from result/delaney-processed_curated_fit/NN_graphconv_scaffold_regression/7018bc25-5b13-47fe-b904-36ee622879b4/model/model-2016\n"
          ],
          "name": "stdout"
        },
        {
          "output_type": "stream",
          "text": [
            "2020-09-21 12:57:32,613 Restoring parameters from result/delaney-processed_curated_fit/NN_graphconv_scaffold_regression/7018bc25-5b13-47fe-b904-36ee622879b4/model/model-2016\n"
          ],
          "name": "stderr"
        },
        {
          "output_type": "stream",
          "text": [
            "INFO:tensorflow:Restoring parameters from result/delaney-processed_curated_fit/NN_graphconv_scaffold_regression/7018bc25-5b13-47fe-b904-36ee622879b4/model/model-2032\n"
          ],
          "name": "stdout"
        },
        {
          "output_type": "stream",
          "text": [
            "2020-09-21 12:57:36,543 Restoring parameters from result/delaney-processed_curated_fit/NN_graphconv_scaffold_regression/7018bc25-5b13-47fe-b904-36ee622879b4/model/model-2032\n"
          ],
          "name": "stderr"
        },
        {
          "output_type": "stream",
          "text": [
            "INFO:tensorflow:Restoring parameters from result/delaney-processed_curated_fit/NN_graphconv_scaffold_regression/7018bc25-5b13-47fe-b904-36ee622879b4/model/model-2048\n"
          ],
          "name": "stdout"
        },
        {
          "output_type": "stream",
          "text": [
            "2020-09-21 12:57:40,561 Restoring parameters from result/delaney-processed_curated_fit/NN_graphconv_scaffold_regression/7018bc25-5b13-47fe-b904-36ee622879b4/model/model-2048\n"
          ],
          "name": "stderr"
        },
        {
          "output_type": "stream",
          "text": [
            "INFO:tensorflow:Restoring parameters from result/delaney-processed_curated_fit/NN_graphconv_scaffold_regression/7018bc25-5b13-47fe-b904-36ee622879b4/model/model-2064\n"
          ],
          "name": "stdout"
        },
        {
          "output_type": "stream",
          "text": [
            "2020-09-21 12:57:45,072 Restoring parameters from result/delaney-processed_curated_fit/NN_graphconv_scaffold_regression/7018bc25-5b13-47fe-b904-36ee622879b4/model/model-2064\n"
          ],
          "name": "stderr"
        },
        {
          "output_type": "stream",
          "text": [
            "INFO:tensorflow:Restoring parameters from result/delaney-processed_curated_fit/NN_graphconv_scaffold_regression/7018bc25-5b13-47fe-b904-36ee622879b4/model/model-2080\n"
          ],
          "name": "stdout"
        },
        {
          "output_type": "stream",
          "text": [
            "2020-09-21 12:57:49,150 Restoring parameters from result/delaney-processed_curated_fit/NN_graphconv_scaffold_regression/7018bc25-5b13-47fe-b904-36ee622879b4/model/model-2080\n"
          ],
          "name": "stderr"
        },
        {
          "output_type": "stream",
          "text": [
            "INFO:tensorflow:Restoring parameters from result/delaney-processed_curated_fit/NN_graphconv_scaffold_regression/7018bc25-5b13-47fe-b904-36ee622879b4/model/model-2096\n"
          ],
          "name": "stdout"
        },
        {
          "output_type": "stream",
          "text": [
            "2020-09-21 12:57:53,229 Restoring parameters from result/delaney-processed_curated_fit/NN_graphconv_scaffold_regression/7018bc25-5b13-47fe-b904-36ee622879b4/model/model-2096\n"
          ],
          "name": "stderr"
        },
        {
          "output_type": "stream",
          "text": [
            "INFO:tensorflow:Restoring parameters from result/delaney-processed_curated_fit/NN_graphconv_scaffold_regression/7018bc25-5b13-47fe-b904-36ee622879b4/model/model-2112\n"
          ],
          "name": "stdout"
        },
        {
          "output_type": "stream",
          "text": [
            "2020-09-21 12:57:57,350 Restoring parameters from result/delaney-processed_curated_fit/NN_graphconv_scaffold_regression/7018bc25-5b13-47fe-b904-36ee622879b4/model/model-2112\n"
          ],
          "name": "stderr"
        },
        {
          "output_type": "stream",
          "text": [
            "INFO:tensorflow:Restoring parameters from result/delaney-processed_curated_fit/NN_graphconv_scaffold_regression/7018bc25-5b13-47fe-b904-36ee622879b4/model/model-2128\n"
          ],
          "name": "stdout"
        },
        {
          "output_type": "stream",
          "text": [
            "2020-09-21 12:58:01,544 Restoring parameters from result/delaney-processed_curated_fit/NN_graphconv_scaffold_regression/7018bc25-5b13-47fe-b904-36ee622879b4/model/model-2128\n"
          ],
          "name": "stderr"
        },
        {
          "output_type": "stream",
          "text": [
            "INFO:tensorflow:Restoring parameters from result/delaney-processed_curated_fit/NN_graphconv_scaffold_regression/7018bc25-5b13-47fe-b904-36ee622879b4/model/model-2144\n"
          ],
          "name": "stdout"
        },
        {
          "output_type": "stream",
          "text": [
            "2020-09-21 12:58:06,133 Restoring parameters from result/delaney-processed_curated_fit/NN_graphconv_scaffold_regression/7018bc25-5b13-47fe-b904-36ee622879b4/model/model-2144\n"
          ],
          "name": "stderr"
        },
        {
          "output_type": "stream",
          "text": [
            "INFO:tensorflow:Restoring parameters from result/delaney-processed_curated_fit/NN_graphconv_scaffold_regression/7018bc25-5b13-47fe-b904-36ee622879b4/model/model-2160\n"
          ],
          "name": "stdout"
        },
        {
          "output_type": "stream",
          "text": [
            "2020-09-21 12:58:10,317 Restoring parameters from result/delaney-processed_curated_fit/NN_graphconv_scaffold_regression/7018bc25-5b13-47fe-b904-36ee622879b4/model/model-2160\n"
          ],
          "name": "stderr"
        },
        {
          "output_type": "stream",
          "text": [
            "INFO:tensorflow:Restoring parameters from result/delaney-processed_curated_fit/NN_graphconv_scaffold_regression/7018bc25-5b13-47fe-b904-36ee622879b4/model/model-2176\n"
          ],
          "name": "stdout"
        },
        {
          "output_type": "stream",
          "text": [
            "2020-09-21 12:58:14,542 Restoring parameters from result/delaney-processed_curated_fit/NN_graphconv_scaffold_regression/7018bc25-5b13-47fe-b904-36ee622879b4/model/model-2176\n"
          ],
          "name": "stderr"
        },
        {
          "output_type": "stream",
          "text": [
            "INFO:tensorflow:Restoring parameters from result/delaney-processed_curated_fit/NN_graphconv_scaffold_regression/7018bc25-5b13-47fe-b904-36ee622879b4/model/model-2192\n"
          ],
          "name": "stdout"
        },
        {
          "output_type": "stream",
          "text": [
            "2020-09-21 12:58:18,743 Restoring parameters from result/delaney-processed_curated_fit/NN_graphconv_scaffold_regression/7018bc25-5b13-47fe-b904-36ee622879b4/model/model-2192\n"
          ],
          "name": "stderr"
        },
        {
          "output_type": "stream",
          "text": [
            "INFO:tensorflow:Restoring parameters from result/delaney-processed_curated_fit/NN_graphconv_scaffold_regression/7018bc25-5b13-47fe-b904-36ee622879b4/model/model-2208\n"
          ],
          "name": "stdout"
        },
        {
          "output_type": "stream",
          "text": [
            "2020-09-21 12:58:22,974 Restoring parameters from result/delaney-processed_curated_fit/NN_graphconv_scaffold_regression/7018bc25-5b13-47fe-b904-36ee622879b4/model/model-2208\n"
          ],
          "name": "stderr"
        },
        {
          "output_type": "stream",
          "text": [
            "INFO:tensorflow:Restoring parameters from result/delaney-processed_curated_fit/NN_graphconv_scaffold_regression/7018bc25-5b13-47fe-b904-36ee622879b4/model/model-2224\n"
          ],
          "name": "stdout"
        },
        {
          "output_type": "stream",
          "text": [
            "2020-09-21 12:58:27,212 Restoring parameters from result/delaney-processed_curated_fit/NN_graphconv_scaffold_regression/7018bc25-5b13-47fe-b904-36ee622879b4/model/model-2224\n"
          ],
          "name": "stderr"
        },
        {
          "output_type": "stream",
          "text": [
            "INFO:tensorflow:Restoring parameters from result/delaney-processed_curated_fit/NN_graphconv_scaffold_regression/7018bc25-5b13-47fe-b904-36ee622879b4/model/model-2240\n"
          ],
          "name": "stdout"
        },
        {
          "output_type": "stream",
          "text": [
            "2020-09-21 12:58:31,960 Restoring parameters from result/delaney-processed_curated_fit/NN_graphconv_scaffold_regression/7018bc25-5b13-47fe-b904-36ee622879b4/model/model-2240\n"
          ],
          "name": "stderr"
        },
        {
          "output_type": "stream",
          "text": [
            "INFO:tensorflow:Restoring parameters from result/delaney-processed_curated_fit/NN_graphconv_scaffold_regression/7018bc25-5b13-47fe-b904-36ee622879b4/model/model-2256\n"
          ],
          "name": "stdout"
        },
        {
          "output_type": "stream",
          "text": [
            "2020-09-21 12:58:36,325 Restoring parameters from result/delaney-processed_curated_fit/NN_graphconv_scaffold_regression/7018bc25-5b13-47fe-b904-36ee622879b4/model/model-2256\n"
          ],
          "name": "stderr"
        },
        {
          "output_type": "stream",
          "text": [
            "INFO:tensorflow:Restoring parameters from result/delaney-processed_curated_fit/NN_graphconv_scaffold_regression/7018bc25-5b13-47fe-b904-36ee622879b4/model/model-2272\n"
          ],
          "name": "stdout"
        },
        {
          "output_type": "stream",
          "text": [
            "2020-09-21 12:58:40,616 Restoring parameters from result/delaney-processed_curated_fit/NN_graphconv_scaffold_regression/7018bc25-5b13-47fe-b904-36ee622879b4/model/model-2272\n"
          ],
          "name": "stderr"
        },
        {
          "output_type": "stream",
          "text": [
            "INFO:tensorflow:Restoring parameters from result/delaney-processed_curated_fit/NN_graphconv_scaffold_regression/7018bc25-5b13-47fe-b904-36ee622879b4/model/model-2288\n"
          ],
          "name": "stdout"
        },
        {
          "output_type": "stream",
          "text": [
            "2020-09-21 12:58:44,931 Restoring parameters from result/delaney-processed_curated_fit/NN_graphconv_scaffold_regression/7018bc25-5b13-47fe-b904-36ee622879b4/model/model-2288\n"
          ],
          "name": "stderr"
        },
        {
          "output_type": "stream",
          "text": [
            "INFO:tensorflow:Restoring parameters from result/delaney-processed_curated_fit/NN_graphconv_scaffold_regression/7018bc25-5b13-47fe-b904-36ee622879b4/model/model-2304\n"
          ],
          "name": "stdout"
        },
        {
          "output_type": "stream",
          "text": [
            "2020-09-21 12:58:49,288 Restoring parameters from result/delaney-processed_curated_fit/NN_graphconv_scaffold_regression/7018bc25-5b13-47fe-b904-36ee622879b4/model/model-2304\n"
          ],
          "name": "stderr"
        },
        {
          "output_type": "stream",
          "text": [
            "INFO:tensorflow:Restoring parameters from result/delaney-processed_curated_fit/NN_graphconv_scaffold_regression/7018bc25-5b13-47fe-b904-36ee622879b4/model/model-2320\n"
          ],
          "name": "stdout"
        },
        {
          "output_type": "stream",
          "text": [
            "2020-09-21 12:58:54,098 Restoring parameters from result/delaney-processed_curated_fit/NN_graphconv_scaffold_regression/7018bc25-5b13-47fe-b904-36ee622879b4/model/model-2320\n"
          ],
          "name": "stderr"
        },
        {
          "output_type": "stream",
          "text": [
            "INFO:tensorflow:Restoring parameters from result/delaney-processed_curated_fit/NN_graphconv_scaffold_regression/7018bc25-5b13-47fe-b904-36ee622879b4/model/model-2336\n"
          ],
          "name": "stdout"
        },
        {
          "output_type": "stream",
          "text": [
            "2020-09-21 12:58:58,455 Restoring parameters from result/delaney-processed_curated_fit/NN_graphconv_scaffold_regression/7018bc25-5b13-47fe-b904-36ee622879b4/model/model-2336\n"
          ],
          "name": "stderr"
        },
        {
          "output_type": "stream",
          "text": [
            "INFO:tensorflow:Restoring parameters from result/delaney-processed_curated_fit/NN_graphconv_scaffold_regression/7018bc25-5b13-47fe-b904-36ee622879b4/model/model-2352\n"
          ],
          "name": "stdout"
        },
        {
          "output_type": "stream",
          "text": [
            "2020-09-21 12:59:02,870 Restoring parameters from result/delaney-processed_curated_fit/NN_graphconv_scaffold_regression/7018bc25-5b13-47fe-b904-36ee622879b4/model/model-2352\n"
          ],
          "name": "stderr"
        },
        {
          "output_type": "stream",
          "text": [
            "INFO:tensorflow:Restoring parameters from result/delaney-processed_curated_fit/NN_graphconv_scaffold_regression/7018bc25-5b13-47fe-b904-36ee622879b4/model/model-2368\n"
          ],
          "name": "stdout"
        },
        {
          "output_type": "stream",
          "text": [
            "2020-09-21 12:59:07,294 Restoring parameters from result/delaney-processed_curated_fit/NN_graphconv_scaffold_regression/7018bc25-5b13-47fe-b904-36ee622879b4/model/model-2368\n"
          ],
          "name": "stderr"
        },
        {
          "output_type": "stream",
          "text": [
            "INFO:tensorflow:Restoring parameters from result/delaney-processed_curated_fit/NN_graphconv_scaffold_regression/7018bc25-5b13-47fe-b904-36ee622879b4/model/model-2384\n"
          ],
          "name": "stdout"
        },
        {
          "output_type": "stream",
          "text": [
            "2020-09-21 12:59:11,700 Restoring parameters from result/delaney-processed_curated_fit/NN_graphconv_scaffold_regression/7018bc25-5b13-47fe-b904-36ee622879b4/model/model-2384\n"
          ],
          "name": "stderr"
        },
        {
          "output_type": "stream",
          "text": [
            "INFO:tensorflow:Restoring parameters from result/delaney-processed_curated_fit/NN_graphconv_scaffold_regression/7018bc25-5b13-47fe-b904-36ee622879b4/model/model-2400\n"
          ],
          "name": "stdout"
        },
        {
          "output_type": "stream",
          "text": [
            "2020-09-21 12:59:16,588 Restoring parameters from result/delaney-processed_curated_fit/NN_graphconv_scaffold_regression/7018bc25-5b13-47fe-b904-36ee622879b4/model/model-2400\n"
          ],
          "name": "stderr"
        },
        {
          "output_type": "stream",
          "text": [
            "INFO:tensorflow:Restoring parameters from result/delaney-processed_curated_fit/NN_graphconv_scaffold_regression/7018bc25-5b13-47fe-b904-36ee622879b4/model/model-2416\n"
          ],
          "name": "stdout"
        },
        {
          "output_type": "stream",
          "text": [
            "2020-09-21 12:59:21,002 Restoring parameters from result/delaney-processed_curated_fit/NN_graphconv_scaffold_regression/7018bc25-5b13-47fe-b904-36ee622879b4/model/model-2416\n"
          ],
          "name": "stderr"
        },
        {
          "output_type": "stream",
          "text": [
            "INFO:tensorflow:Restoring parameters from result/delaney-processed_curated_fit/NN_graphconv_scaffold_regression/7018bc25-5b13-47fe-b904-36ee622879b4/model/model-2432\n"
          ],
          "name": "stdout"
        },
        {
          "output_type": "stream",
          "text": [
            "2020-09-21 12:59:25,479 Restoring parameters from result/delaney-processed_curated_fit/NN_graphconv_scaffold_regression/7018bc25-5b13-47fe-b904-36ee622879b4/model/model-2432\n"
          ],
          "name": "stderr"
        },
        {
          "output_type": "stream",
          "text": [
            "INFO:tensorflow:Restoring parameters from result/delaney-processed_curated_fit/NN_graphconv_scaffold_regression/7018bc25-5b13-47fe-b904-36ee622879b4/model/model-2448\n"
          ],
          "name": "stdout"
        },
        {
          "output_type": "stream",
          "text": [
            "2020-09-21 12:59:29,924 Restoring parameters from result/delaney-processed_curated_fit/NN_graphconv_scaffold_regression/7018bc25-5b13-47fe-b904-36ee622879b4/model/model-2448\n"
          ],
          "name": "stderr"
        },
        {
          "output_type": "stream",
          "text": [
            "INFO:tensorflow:Restoring parameters from result/delaney-processed_curated_fit/NN_graphconv_scaffold_regression/7018bc25-5b13-47fe-b904-36ee622879b4/model/model-2464\n"
          ],
          "name": "stdout"
        },
        {
          "output_type": "stream",
          "text": [
            "2020-09-21 12:59:34,373 Restoring parameters from result/delaney-processed_curated_fit/NN_graphconv_scaffold_regression/7018bc25-5b13-47fe-b904-36ee622879b4/model/model-2464\n"
          ],
          "name": "stderr"
        },
        {
          "output_type": "stream",
          "text": [
            "INFO:tensorflow:Restoring parameters from result/delaney-processed_curated_fit/NN_graphconv_scaffold_regression/7018bc25-5b13-47fe-b904-36ee622879b4/model/model-2480\n"
          ],
          "name": "stdout"
        },
        {
          "output_type": "stream",
          "text": [
            "2020-09-21 12:59:38,775 Restoring parameters from result/delaney-processed_curated_fit/NN_graphconv_scaffold_regression/7018bc25-5b13-47fe-b904-36ee622879b4/model/model-2480\n"
          ],
          "name": "stderr"
        },
        {
          "output_type": "stream",
          "text": [
            "INFO:tensorflow:Restoring parameters from result/delaney-processed_curated_fit/NN_graphconv_scaffold_regression/7018bc25-5b13-47fe-b904-36ee622879b4/model/model-2496\n"
          ],
          "name": "stdout"
        },
        {
          "output_type": "stream",
          "text": [
            "2020-09-21 12:59:43,711 Restoring parameters from result/delaney-processed_curated_fit/NN_graphconv_scaffold_regression/7018bc25-5b13-47fe-b904-36ee622879b4/model/model-2496\n"
          ],
          "name": "stderr"
        },
        {
          "output_type": "stream",
          "text": [
            "INFO:tensorflow:Restoring parameters from result/delaney-processed_curated_fit/NN_graphconv_scaffold_regression/7018bc25-5b13-47fe-b904-36ee622879b4/model/model-2512\n"
          ],
          "name": "stdout"
        },
        {
          "output_type": "stream",
          "text": [
            "2020-09-21 12:59:48,188 Restoring parameters from result/delaney-processed_curated_fit/NN_graphconv_scaffold_regression/7018bc25-5b13-47fe-b904-36ee622879b4/model/model-2512\n"
          ],
          "name": "stderr"
        },
        {
          "output_type": "stream",
          "text": [
            "INFO:tensorflow:Restoring parameters from result/delaney-processed_curated_fit/NN_graphconv_scaffold_regression/7018bc25-5b13-47fe-b904-36ee622879b4/model/model-2528\n"
          ],
          "name": "stdout"
        },
        {
          "output_type": "stream",
          "text": [
            "2020-09-21 12:59:52,680 Restoring parameters from result/delaney-processed_curated_fit/NN_graphconv_scaffold_regression/7018bc25-5b13-47fe-b904-36ee622879b4/model/model-2528\n"
          ],
          "name": "stderr"
        },
        {
          "output_type": "stream",
          "text": [
            "INFO:tensorflow:Restoring parameters from result/delaney-processed_curated_fit/NN_graphconv_scaffold_regression/7018bc25-5b13-47fe-b904-36ee622879b4/model/model-2544\n"
          ],
          "name": "stdout"
        },
        {
          "output_type": "stream",
          "text": [
            "2020-09-21 12:59:57,308 Restoring parameters from result/delaney-processed_curated_fit/NN_graphconv_scaffold_regression/7018bc25-5b13-47fe-b904-36ee622879b4/model/model-2544\n"
          ],
          "name": "stderr"
        },
        {
          "output_type": "stream",
          "text": [
            "INFO:tensorflow:Restoring parameters from result/delaney-processed_curated_fit/NN_graphconv_scaffold_regression/7018bc25-5b13-47fe-b904-36ee622879b4/model/model-2560\n"
          ],
          "name": "stdout"
        },
        {
          "output_type": "stream",
          "text": [
            "2020-09-21 13:00:01,865 Restoring parameters from result/delaney-processed_curated_fit/NN_graphconv_scaffold_regression/7018bc25-5b13-47fe-b904-36ee622879b4/model/model-2560\n"
          ],
          "name": "stderr"
        },
        {
          "output_type": "stream",
          "text": [
            "INFO:tensorflow:Restoring parameters from result/delaney-processed_curated_fit/NN_graphconv_scaffold_regression/7018bc25-5b13-47fe-b904-36ee622879b4/model/model-2576\n"
          ],
          "name": "stdout"
        },
        {
          "output_type": "stream",
          "text": [
            "2020-09-21 13:00:06,864 Restoring parameters from result/delaney-processed_curated_fit/NN_graphconv_scaffold_regression/7018bc25-5b13-47fe-b904-36ee622879b4/model/model-2576\n"
          ],
          "name": "stderr"
        },
        {
          "output_type": "stream",
          "text": [
            "INFO:tensorflow:Restoring parameters from result/delaney-processed_curated_fit/NN_graphconv_scaffold_regression/7018bc25-5b13-47fe-b904-36ee622879b4/model/model-2592\n"
          ],
          "name": "stdout"
        },
        {
          "output_type": "stream",
          "text": [
            "2020-09-21 13:00:11,467 Restoring parameters from result/delaney-processed_curated_fit/NN_graphconv_scaffold_regression/7018bc25-5b13-47fe-b904-36ee622879b4/model/model-2592\n"
          ],
          "name": "stderr"
        },
        {
          "output_type": "stream",
          "text": [
            "INFO:tensorflow:Restoring parameters from result/delaney-processed_curated_fit/NN_graphconv_scaffold_regression/7018bc25-5b13-47fe-b904-36ee622879b4/model/model-2608\n"
          ],
          "name": "stdout"
        },
        {
          "output_type": "stream",
          "text": [
            "2020-09-21 13:00:16,070 Restoring parameters from result/delaney-processed_curated_fit/NN_graphconv_scaffold_regression/7018bc25-5b13-47fe-b904-36ee622879b4/model/model-2608\n"
          ],
          "name": "stderr"
        },
        {
          "output_type": "stream",
          "text": [
            "INFO:tensorflow:Restoring parameters from result/delaney-processed_curated_fit/NN_graphconv_scaffold_regression/7018bc25-5b13-47fe-b904-36ee622879b4/model/model-2624\n"
          ],
          "name": "stdout"
        },
        {
          "output_type": "stream",
          "text": [
            "2020-09-21 13:00:20,670 Restoring parameters from result/delaney-processed_curated_fit/NN_graphconv_scaffold_regression/7018bc25-5b13-47fe-b904-36ee622879b4/model/model-2624\n"
          ],
          "name": "stderr"
        },
        {
          "output_type": "stream",
          "text": [
            "INFO:tensorflow:Restoring parameters from result/delaney-processed_curated_fit/NN_graphconv_scaffold_regression/7018bc25-5b13-47fe-b904-36ee622879b4/model/model-2640\n"
          ],
          "name": "stdout"
        },
        {
          "output_type": "stream",
          "text": [
            "2020-09-21 13:00:25,301 Restoring parameters from result/delaney-processed_curated_fit/NN_graphconv_scaffold_regression/7018bc25-5b13-47fe-b904-36ee622879b4/model/model-2640\n"
          ],
          "name": "stderr"
        },
        {
          "output_type": "stream",
          "text": [
            "INFO:tensorflow:Restoring parameters from result/delaney-processed_curated_fit/NN_graphconv_scaffold_regression/7018bc25-5b13-47fe-b904-36ee622879b4/model/model-2656\n"
          ],
          "name": "stdout"
        },
        {
          "output_type": "stream",
          "text": [
            "2020-09-21 13:00:30,062 Restoring parameters from result/delaney-processed_curated_fit/NN_graphconv_scaffold_regression/7018bc25-5b13-47fe-b904-36ee622879b4/model/model-2656\n"
          ],
          "name": "stderr"
        },
        {
          "output_type": "stream",
          "text": [
            "INFO:tensorflow:Restoring parameters from result/delaney-processed_curated_fit/NN_graphconv_scaffold_regression/7018bc25-5b13-47fe-b904-36ee622879b4/model/model-2672\n"
          ],
          "name": "stdout"
        },
        {
          "output_type": "stream",
          "text": [
            "2020-09-21 13:00:35,224 Restoring parameters from result/delaney-processed_curated_fit/NN_graphconv_scaffold_regression/7018bc25-5b13-47fe-b904-36ee622879b4/model/model-2672\n"
          ],
          "name": "stderr"
        },
        {
          "output_type": "stream",
          "text": [
            "INFO:tensorflow:Restoring parameters from result/delaney-processed_curated_fit/NN_graphconv_scaffold_regression/7018bc25-5b13-47fe-b904-36ee622879b4/model/model-2688\n"
          ],
          "name": "stdout"
        },
        {
          "output_type": "stream",
          "text": [
            "2020-09-21 13:00:39,924 Restoring parameters from result/delaney-processed_curated_fit/NN_graphconv_scaffold_regression/7018bc25-5b13-47fe-b904-36ee622879b4/model/model-2688\n"
          ],
          "name": "stderr"
        },
        {
          "output_type": "stream",
          "text": [
            "INFO:tensorflow:Restoring parameters from result/delaney-processed_curated_fit/NN_graphconv_scaffold_regression/7018bc25-5b13-47fe-b904-36ee622879b4/model/model-2704\n"
          ],
          "name": "stdout"
        },
        {
          "output_type": "stream",
          "text": [
            "2020-09-21 13:00:44,590 Restoring parameters from result/delaney-processed_curated_fit/NN_graphconv_scaffold_regression/7018bc25-5b13-47fe-b904-36ee622879b4/model/model-2704\n"
          ],
          "name": "stderr"
        },
        {
          "output_type": "stream",
          "text": [
            "INFO:tensorflow:Restoring parameters from result/delaney-processed_curated_fit/NN_graphconv_scaffold_regression/7018bc25-5b13-47fe-b904-36ee622879b4/model/model-2720\n"
          ],
          "name": "stdout"
        },
        {
          "output_type": "stream",
          "text": [
            "2020-09-21 13:00:49,342 Restoring parameters from result/delaney-processed_curated_fit/NN_graphconv_scaffold_regression/7018bc25-5b13-47fe-b904-36ee622879b4/model/model-2720\n"
          ],
          "name": "stderr"
        },
        {
          "output_type": "stream",
          "text": [
            "INFO:tensorflow:Restoring parameters from result/delaney-processed_curated_fit/NN_graphconv_scaffold_regression/7018bc25-5b13-47fe-b904-36ee622879b4/model/model-2736\n"
          ],
          "name": "stdout"
        },
        {
          "output_type": "stream",
          "text": [
            "2020-09-21 13:00:54,079 Restoring parameters from result/delaney-processed_curated_fit/NN_graphconv_scaffold_regression/7018bc25-5b13-47fe-b904-36ee622879b4/model/model-2736\n"
          ],
          "name": "stderr"
        },
        {
          "output_type": "stream",
          "text": [
            "INFO:tensorflow:Restoring parameters from result/delaney-processed_curated_fit/NN_graphconv_scaffold_regression/7018bc25-5b13-47fe-b904-36ee622879b4/model/model-2752\n"
          ],
          "name": "stdout"
        },
        {
          "output_type": "stream",
          "text": [
            "2020-09-21 13:00:58,808 Restoring parameters from result/delaney-processed_curated_fit/NN_graphconv_scaffold_regression/7018bc25-5b13-47fe-b904-36ee622879b4/model/model-2752\n"
          ],
          "name": "stderr"
        },
        {
          "output_type": "stream",
          "text": [
            "INFO:tensorflow:Restoring parameters from result/delaney-processed_curated_fit/NN_graphconv_scaffold_regression/7018bc25-5b13-47fe-b904-36ee622879b4/model/model-2768\n"
          ],
          "name": "stdout"
        },
        {
          "output_type": "stream",
          "text": [
            "2020-09-21 13:01:04,084 Restoring parameters from result/delaney-processed_curated_fit/NN_graphconv_scaffold_regression/7018bc25-5b13-47fe-b904-36ee622879b4/model/model-2768\n"
          ],
          "name": "stderr"
        },
        {
          "output_type": "stream",
          "text": [
            "INFO:tensorflow:Restoring parameters from result/delaney-processed_curated_fit/NN_graphconv_scaffold_regression/7018bc25-5b13-47fe-b904-36ee622879b4/model/model-2784\n"
          ],
          "name": "stdout"
        },
        {
          "output_type": "stream",
          "text": [
            "2020-09-21 13:01:08,901 Restoring parameters from result/delaney-processed_curated_fit/NN_graphconv_scaffold_regression/7018bc25-5b13-47fe-b904-36ee622879b4/model/model-2784\n"
          ],
          "name": "stderr"
        },
        {
          "output_type": "stream",
          "text": [
            "INFO:tensorflow:Restoring parameters from result/delaney-processed_curated_fit/NN_graphconv_scaffold_regression/7018bc25-5b13-47fe-b904-36ee622879b4/model/model-2800\n"
          ],
          "name": "stdout"
        },
        {
          "output_type": "stream",
          "text": [
            "2020-09-21 13:01:13,703 Restoring parameters from result/delaney-processed_curated_fit/NN_graphconv_scaffold_regression/7018bc25-5b13-47fe-b904-36ee622879b4/model/model-2800\n"
          ],
          "name": "stderr"
        },
        {
          "output_type": "stream",
          "text": [
            "INFO:tensorflow:Restoring parameters from result/delaney-processed_curated_fit/NN_graphconv_scaffold_regression/7018bc25-5b13-47fe-b904-36ee622879b4/model/model-2816\n"
          ],
          "name": "stdout"
        },
        {
          "output_type": "stream",
          "text": [
            "2020-09-21 13:01:18,496 Restoring parameters from result/delaney-processed_curated_fit/NN_graphconv_scaffold_regression/7018bc25-5b13-47fe-b904-36ee622879b4/model/model-2816\n"
          ],
          "name": "stderr"
        },
        {
          "output_type": "stream",
          "text": [
            "INFO:tensorflow:Restoring parameters from result/delaney-processed_curated_fit/NN_graphconv_scaffold_regression/7018bc25-5b13-47fe-b904-36ee622879b4/model/model-2832\n"
          ],
          "name": "stdout"
        },
        {
          "output_type": "stream",
          "text": [
            "2020-09-21 13:01:23,372 Restoring parameters from result/delaney-processed_curated_fit/NN_graphconv_scaffold_regression/7018bc25-5b13-47fe-b904-36ee622879b4/model/model-2832\n"
          ],
          "name": "stderr"
        },
        {
          "output_type": "stream",
          "text": [
            "INFO:tensorflow:Restoring parameters from result/delaney-processed_curated_fit/NN_graphconv_scaffold_regression/7018bc25-5b13-47fe-b904-36ee622879b4/model/model-2848\n"
          ],
          "name": "stdout"
        },
        {
          "output_type": "stream",
          "text": [
            "2020-09-21 13:01:28,251 Restoring parameters from result/delaney-processed_curated_fit/NN_graphconv_scaffold_regression/7018bc25-5b13-47fe-b904-36ee622879b4/model/model-2848\n"
          ],
          "name": "stderr"
        },
        {
          "output_type": "stream",
          "text": [
            "INFO:tensorflow:Restoring parameters from result/delaney-processed_curated_fit/NN_graphconv_scaffold_regression/7018bc25-5b13-47fe-b904-36ee622879b4/model/model-2864\n"
          ],
          "name": "stdout"
        },
        {
          "output_type": "stream",
          "text": [
            "2020-09-21 13:01:33,701 Restoring parameters from result/delaney-processed_curated_fit/NN_graphconv_scaffold_regression/7018bc25-5b13-47fe-b904-36ee622879b4/model/model-2864\n"
          ],
          "name": "stderr"
        },
        {
          "output_type": "stream",
          "text": [
            "INFO:tensorflow:Restoring parameters from result/delaney-processed_curated_fit/NN_graphconv_scaffold_regression/7018bc25-5b13-47fe-b904-36ee622879b4/model/model-2880\n"
          ],
          "name": "stdout"
        },
        {
          "output_type": "stream",
          "text": [
            "2020-09-21 13:01:38,603 Restoring parameters from result/delaney-processed_curated_fit/NN_graphconv_scaffold_regression/7018bc25-5b13-47fe-b904-36ee622879b4/model/model-2880\n"
          ],
          "name": "stderr"
        },
        {
          "output_type": "stream",
          "text": [
            "INFO:tensorflow:Restoring parameters from result/delaney-processed_curated_fit/NN_graphconv_scaffold_regression/7018bc25-5b13-47fe-b904-36ee622879b4/model/model-2896\n"
          ],
          "name": "stdout"
        },
        {
          "output_type": "stream",
          "text": [
            "2020-09-21 13:01:43,510 Restoring parameters from result/delaney-processed_curated_fit/NN_graphconv_scaffold_regression/7018bc25-5b13-47fe-b904-36ee622879b4/model/model-2896\n"
          ],
          "name": "stderr"
        },
        {
          "output_type": "stream",
          "text": [
            "INFO:tensorflow:Restoring parameters from result/delaney-processed_curated_fit/NN_graphconv_scaffold_regression/7018bc25-5b13-47fe-b904-36ee622879b4/model/model-2912\n"
          ],
          "name": "stdout"
        },
        {
          "output_type": "stream",
          "text": [
            "2020-09-21 13:01:48,418 Restoring parameters from result/delaney-processed_curated_fit/NN_graphconv_scaffold_regression/7018bc25-5b13-47fe-b904-36ee622879b4/model/model-2912\n"
          ],
          "name": "stderr"
        },
        {
          "output_type": "stream",
          "text": [
            "INFO:tensorflow:Restoring parameters from result/delaney-processed_curated_fit/NN_graphconv_scaffold_regression/7018bc25-5b13-47fe-b904-36ee622879b4/model/model-2928\n"
          ],
          "name": "stdout"
        },
        {
          "output_type": "stream",
          "text": [
            "2020-09-21 13:01:53,382 Restoring parameters from result/delaney-processed_curated_fit/NN_graphconv_scaffold_regression/7018bc25-5b13-47fe-b904-36ee622879b4/model/model-2928\n"
          ],
          "name": "stderr"
        },
        {
          "output_type": "stream",
          "text": [
            "INFO:tensorflow:Restoring parameters from result/delaney-processed_curated_fit/NN_graphconv_scaffold_regression/7018bc25-5b13-47fe-b904-36ee622879b4/model/model-2944\n"
          ],
          "name": "stdout"
        },
        {
          "output_type": "stream",
          "text": [
            "2020-09-21 13:01:58,352 Restoring parameters from result/delaney-processed_curated_fit/NN_graphconv_scaffold_regression/7018bc25-5b13-47fe-b904-36ee622879b4/model/model-2944\n"
          ],
          "name": "stderr"
        },
        {
          "output_type": "stream",
          "text": [
            "INFO:tensorflow:Restoring parameters from result/delaney-processed_curated_fit/NN_graphconv_scaffold_regression/7018bc25-5b13-47fe-b904-36ee622879b4/model/model-2960\n"
          ],
          "name": "stdout"
        },
        {
          "output_type": "stream",
          "text": [
            "2020-09-21 13:02:03,375 Restoring parameters from result/delaney-processed_curated_fit/NN_graphconv_scaffold_regression/7018bc25-5b13-47fe-b904-36ee622879b4/model/model-2960\n"
          ],
          "name": "stderr"
        },
        {
          "output_type": "stream",
          "text": [
            "INFO:tensorflow:Restoring parameters from result/delaney-processed_curated_fit/NN_graphconv_scaffold_regression/7018bc25-5b13-47fe-b904-36ee622879b4/model/model-2976\n"
          ],
          "name": "stdout"
        },
        {
          "output_type": "stream",
          "text": [
            "2020-09-21 13:02:08,910 Restoring parameters from result/delaney-processed_curated_fit/NN_graphconv_scaffold_regression/7018bc25-5b13-47fe-b904-36ee622879b4/model/model-2976\n"
          ],
          "name": "stderr"
        },
        {
          "output_type": "stream",
          "text": [
            "INFO:tensorflow:Restoring parameters from result/delaney-processed_curated_fit/NN_graphconv_scaffold_regression/7018bc25-5b13-47fe-b904-36ee622879b4/model/model-2992\n"
          ],
          "name": "stdout"
        },
        {
          "output_type": "stream",
          "text": [
            "2020-09-21 13:02:13,958 Restoring parameters from result/delaney-processed_curated_fit/NN_graphconv_scaffold_regression/7018bc25-5b13-47fe-b904-36ee622879b4/model/model-2992\n"
          ],
          "name": "stderr"
        },
        {
          "output_type": "stream",
          "text": [
            "INFO:tensorflow:Restoring parameters from result/delaney-processed_curated_fit/NN_graphconv_scaffold_regression/7018bc25-5b13-47fe-b904-36ee622879b4/model/model-3008\n"
          ],
          "name": "stdout"
        },
        {
          "output_type": "stream",
          "text": [
            "2020-09-21 13:02:20,960 Restoring parameters from result/delaney-processed_curated_fit/NN_graphconv_scaffold_regression/7018bc25-5b13-47fe-b904-36ee622879b4/model/model-3008\n"
          ],
          "name": "stderr"
        },
        {
          "output_type": "stream",
          "text": [
            "INFO:tensorflow:Restoring parameters from result/delaney-processed_curated_fit/NN_graphconv_scaffold_regression/7018bc25-5b13-47fe-b904-36ee622879b4/model/model-3024\n"
          ],
          "name": "stdout"
        },
        {
          "output_type": "stream",
          "text": [
            "2020-09-21 13:02:25,983 Restoring parameters from result/delaney-processed_curated_fit/NN_graphconv_scaffold_regression/7018bc25-5b13-47fe-b904-36ee622879b4/model/model-3024\n"
          ],
          "name": "stderr"
        },
        {
          "output_type": "stream",
          "text": [
            "INFO:tensorflow:Restoring parameters from result/delaney-processed_curated_fit/NN_graphconv_scaffold_regression/7018bc25-5b13-47fe-b904-36ee622879b4/model/model-3040\n"
          ],
          "name": "stdout"
        },
        {
          "output_type": "stream",
          "text": [
            "2020-09-21 13:02:31,073 Restoring parameters from result/delaney-processed_curated_fit/NN_graphconv_scaffold_regression/7018bc25-5b13-47fe-b904-36ee622879b4/model/model-3040\n"
          ],
          "name": "stderr"
        },
        {
          "output_type": "stream",
          "text": [
            "INFO:tensorflow:Restoring parameters from result/delaney-processed_curated_fit/NN_graphconv_scaffold_regression/7018bc25-5b13-47fe-b904-36ee622879b4/model/model-3056\n"
          ],
          "name": "stdout"
        },
        {
          "output_type": "stream",
          "text": [
            "2020-09-21 13:02:36,319 Restoring parameters from result/delaney-processed_curated_fit/NN_graphconv_scaffold_regression/7018bc25-5b13-47fe-b904-36ee622879b4/model/model-3056\n"
          ],
          "name": "stderr"
        },
        {
          "output_type": "stream",
          "text": [
            "INFO:tensorflow:Restoring parameters from result/delaney-processed_curated_fit/NN_graphconv_scaffold_regression/7018bc25-5b13-47fe-b904-36ee622879b4/model/model-3072\n"
          ],
          "name": "stdout"
        },
        {
          "output_type": "stream",
          "text": [
            "2020-09-21 13:02:42,004 Restoring parameters from result/delaney-processed_curated_fit/NN_graphconv_scaffold_regression/7018bc25-5b13-47fe-b904-36ee622879b4/model/model-3072\n"
          ],
          "name": "stderr"
        },
        {
          "output_type": "stream",
          "text": [
            "INFO:tensorflow:Restoring parameters from result/delaney-processed_curated_fit/NN_graphconv_scaffold_regression/7018bc25-5b13-47fe-b904-36ee622879b4/model/model-3088\n"
          ],
          "name": "stdout"
        },
        {
          "output_type": "stream",
          "text": [
            "2020-09-21 13:02:47,171 Restoring parameters from result/delaney-processed_curated_fit/NN_graphconv_scaffold_regression/7018bc25-5b13-47fe-b904-36ee622879b4/model/model-3088\n"
          ],
          "name": "stderr"
        },
        {
          "output_type": "stream",
          "text": [
            "INFO:tensorflow:Restoring parameters from result/delaney-processed_curated_fit/NN_graphconv_scaffold_regression/7018bc25-5b13-47fe-b904-36ee622879b4/model/model-3104\n"
          ],
          "name": "stdout"
        },
        {
          "output_type": "stream",
          "text": [
            "2020-09-21 13:02:52,354 Restoring parameters from result/delaney-processed_curated_fit/NN_graphconv_scaffold_regression/7018bc25-5b13-47fe-b904-36ee622879b4/model/model-3104\n"
          ],
          "name": "stderr"
        },
        {
          "output_type": "stream",
          "text": [
            "INFO:tensorflow:Restoring parameters from result/delaney-processed_curated_fit/NN_graphconv_scaffold_regression/7018bc25-5b13-47fe-b904-36ee622879b4/model/model-3120\n"
          ],
          "name": "stdout"
        },
        {
          "output_type": "stream",
          "text": [
            "2020-09-21 13:02:57,531 Restoring parameters from result/delaney-processed_curated_fit/NN_graphconv_scaffold_regression/7018bc25-5b13-47fe-b904-36ee622879b4/model/model-3120\n"
          ],
          "name": "stderr"
        },
        {
          "output_type": "stream",
          "text": [
            "INFO:tensorflow:Restoring parameters from result/delaney-processed_curated_fit/NN_graphconv_scaffold_regression/7018bc25-5b13-47fe-b904-36ee622879b4/model/model-3136\n"
          ],
          "name": "stdout"
        },
        {
          "output_type": "stream",
          "text": [
            "2020-09-21 13:03:02,814 Restoring parameters from result/delaney-processed_curated_fit/NN_graphconv_scaffold_regression/7018bc25-5b13-47fe-b904-36ee622879b4/model/model-3136\n"
          ],
          "name": "stderr"
        },
        {
          "output_type": "stream",
          "text": [
            "INFO:tensorflow:Restoring parameters from result/delaney-processed_curated_fit/NN_graphconv_scaffold_regression/7018bc25-5b13-47fe-b904-36ee622879b4/model/model-3152\n"
          ],
          "name": "stdout"
        },
        {
          "output_type": "stream",
          "text": [
            "2020-09-21 13:03:08,064 Restoring parameters from result/delaney-processed_curated_fit/NN_graphconv_scaffold_regression/7018bc25-5b13-47fe-b904-36ee622879b4/model/model-3152\n"
          ],
          "name": "stderr"
        },
        {
          "output_type": "stream",
          "text": [
            "INFO:tensorflow:Restoring parameters from result/delaney-processed_curated_fit/NN_graphconv_scaffold_regression/7018bc25-5b13-47fe-b904-36ee622879b4/model/model-3168\n"
          ],
          "name": "stdout"
        },
        {
          "output_type": "stream",
          "text": [
            "2020-09-21 13:03:13,304 Restoring parameters from result/delaney-processed_curated_fit/NN_graphconv_scaffold_regression/7018bc25-5b13-47fe-b904-36ee622879b4/model/model-3168\n"
          ],
          "name": "stderr"
        },
        {
          "output_type": "stream",
          "text": [
            "INFO:tensorflow:Restoring parameters from result/delaney-processed_curated_fit/NN_graphconv_scaffold_regression/7018bc25-5b13-47fe-b904-36ee622879b4/model/model-3184\n"
          ],
          "name": "stdout"
        },
        {
          "output_type": "stream",
          "text": [
            "2020-09-21 13:03:19,174 Restoring parameters from result/delaney-processed_curated_fit/NN_graphconv_scaffold_regression/7018bc25-5b13-47fe-b904-36ee622879b4/model/model-3184\n"
          ],
          "name": "stderr"
        },
        {
          "output_type": "stream",
          "text": [
            "INFO:tensorflow:Restoring parameters from result/delaney-processed_curated_fit/NN_graphconv_scaffold_regression/7018bc25-5b13-47fe-b904-36ee622879b4/model/model-3200\n"
          ],
          "name": "stdout"
        },
        {
          "output_type": "stream",
          "text": [
            "2020-09-21 13:03:24,438 Restoring parameters from result/delaney-processed_curated_fit/NN_graphconv_scaffold_regression/7018bc25-5b13-47fe-b904-36ee622879b4/model/model-3200\n"
          ],
          "name": "stderr"
        },
        {
          "output_type": "stream",
          "text": [
            "INFO:tensorflow:Restoring parameters from result/delaney-processed_curated_fit/NN_graphconv_scaffold_regression/7018bc25-5b13-47fe-b904-36ee622879b4/model/model-3216\n"
          ],
          "name": "stdout"
        },
        {
          "output_type": "stream",
          "text": [
            "2020-09-21 13:03:29,727 Restoring parameters from result/delaney-processed_curated_fit/NN_graphconv_scaffold_regression/7018bc25-5b13-47fe-b904-36ee622879b4/model/model-3216\n"
          ],
          "name": "stderr"
        },
        {
          "output_type": "stream",
          "text": [
            "INFO:tensorflow:Restoring parameters from result/delaney-processed_curated_fit/NN_graphconv_scaffold_regression/7018bc25-5b13-47fe-b904-36ee622879b4/model/model-3232\n"
          ],
          "name": "stdout"
        },
        {
          "output_type": "stream",
          "text": [
            "2020-09-21 13:03:35,152 Restoring parameters from result/delaney-processed_curated_fit/NN_graphconv_scaffold_regression/7018bc25-5b13-47fe-b904-36ee622879b4/model/model-3232\n"
          ],
          "name": "stderr"
        },
        {
          "output_type": "stream",
          "text": [
            "INFO:tensorflow:Restoring parameters from result/delaney-processed_curated_fit/NN_graphconv_scaffold_regression/7018bc25-5b13-47fe-b904-36ee622879b4/model/model-3248\n"
          ],
          "name": "stdout"
        },
        {
          "output_type": "stream",
          "text": [
            "2020-09-21 13:03:40,526 Restoring parameters from result/delaney-processed_curated_fit/NN_graphconv_scaffold_regression/7018bc25-5b13-47fe-b904-36ee622879b4/model/model-3248\n"
          ],
          "name": "stderr"
        },
        {
          "output_type": "stream",
          "text": [
            "INFO:tensorflow:Restoring parameters from result/delaney-processed_curated_fit/NN_graphconv_scaffold_regression/7018bc25-5b13-47fe-b904-36ee622879b4/model/model-3264\n"
          ],
          "name": "stdout"
        },
        {
          "output_type": "stream",
          "text": [
            "2020-09-21 13:03:45,904 Restoring parameters from result/delaney-processed_curated_fit/NN_graphconv_scaffold_regression/7018bc25-5b13-47fe-b904-36ee622879b4/model/model-3264\n"
          ],
          "name": "stderr"
        },
        {
          "output_type": "stream",
          "text": [
            "INFO:tensorflow:Restoring parameters from result/delaney-processed_curated_fit/NN_graphconv_scaffold_regression/7018bc25-5b13-47fe-b904-36ee622879b4/model/model-3280\n"
          ],
          "name": "stdout"
        },
        {
          "output_type": "stream",
          "text": [
            "2020-09-21 13:03:51,330 Restoring parameters from result/delaney-processed_curated_fit/NN_graphconv_scaffold_regression/7018bc25-5b13-47fe-b904-36ee622879b4/model/model-3280\n"
          ],
          "name": "stderr"
        },
        {
          "output_type": "stream",
          "text": [
            "INFO:tensorflow:Restoring parameters from result/delaney-processed_curated_fit/NN_graphconv_scaffold_regression/7018bc25-5b13-47fe-b904-36ee622879b4/model/model-3296\n"
          ],
          "name": "stdout"
        },
        {
          "output_type": "stream",
          "text": [
            "2020-09-21 13:03:57,293 Restoring parameters from result/delaney-processed_curated_fit/NN_graphconv_scaffold_regression/7018bc25-5b13-47fe-b904-36ee622879b4/model/model-3296\n"
          ],
          "name": "stderr"
        },
        {
          "output_type": "stream",
          "text": [
            "INFO:tensorflow:Restoring parameters from result/delaney-processed_curated_fit/NN_graphconv_scaffold_regression/7018bc25-5b13-47fe-b904-36ee622879b4/model/model-3312\n"
          ],
          "name": "stdout"
        },
        {
          "output_type": "stream",
          "text": [
            "2020-09-21 13:04:02,775 Restoring parameters from result/delaney-processed_curated_fit/NN_graphconv_scaffold_regression/7018bc25-5b13-47fe-b904-36ee622879b4/model/model-3312\n"
          ],
          "name": "stderr"
        },
        {
          "output_type": "stream",
          "text": [
            "INFO:tensorflow:Restoring parameters from result/delaney-processed_curated_fit/NN_graphconv_scaffold_regression/7018bc25-5b13-47fe-b904-36ee622879b4/model/model-3328\n"
          ],
          "name": "stdout"
        },
        {
          "output_type": "stream",
          "text": [
            "2020-09-21 13:04:08,269 Restoring parameters from result/delaney-processed_curated_fit/NN_graphconv_scaffold_regression/7018bc25-5b13-47fe-b904-36ee622879b4/model/model-3328\n"
          ],
          "name": "stderr"
        },
        {
          "output_type": "stream",
          "text": [
            "INFO:tensorflow:Restoring parameters from result/delaney-processed_curated_fit/NN_graphconv_scaffold_regression/7018bc25-5b13-47fe-b904-36ee622879b4/model/model-3344\n"
          ],
          "name": "stdout"
        },
        {
          "output_type": "stream",
          "text": [
            "2020-09-21 13:04:13,734 Restoring parameters from result/delaney-processed_curated_fit/NN_graphconv_scaffold_regression/7018bc25-5b13-47fe-b904-36ee622879b4/model/model-3344\n"
          ],
          "name": "stderr"
        },
        {
          "output_type": "stream",
          "text": [
            "INFO:tensorflow:Restoring parameters from result/delaney-processed_curated_fit/NN_graphconv_scaffold_regression/7018bc25-5b13-47fe-b904-36ee622879b4/model/model-3360\n"
          ],
          "name": "stdout"
        },
        {
          "output_type": "stream",
          "text": [
            "2020-09-21 13:04:19,294 Restoring parameters from result/delaney-processed_curated_fit/NN_graphconv_scaffold_regression/7018bc25-5b13-47fe-b904-36ee622879b4/model/model-3360\n"
          ],
          "name": "stderr"
        },
        {
          "output_type": "stream",
          "text": [
            "INFO:tensorflow:Restoring parameters from result/delaney-processed_curated_fit/NN_graphconv_scaffold_regression/7018bc25-5b13-47fe-b904-36ee622879b4/model/model-3376\n"
          ],
          "name": "stdout"
        },
        {
          "output_type": "stream",
          "text": [
            "2020-09-21 13:04:24,837 Restoring parameters from result/delaney-processed_curated_fit/NN_graphconv_scaffold_regression/7018bc25-5b13-47fe-b904-36ee622879b4/model/model-3376\n"
          ],
          "name": "stderr"
        },
        {
          "output_type": "stream",
          "text": [
            "INFO:tensorflow:Restoring parameters from result/delaney-processed_curated_fit/NN_graphconv_scaffold_regression/7018bc25-5b13-47fe-b904-36ee622879b4/model/model-3392\n"
          ],
          "name": "stdout"
        },
        {
          "output_type": "stream",
          "text": [
            "2020-09-21 13:04:30,328 Restoring parameters from result/delaney-processed_curated_fit/NN_graphconv_scaffold_regression/7018bc25-5b13-47fe-b904-36ee622879b4/model/model-3392\n"
          ],
          "name": "stderr"
        },
        {
          "output_type": "stream",
          "text": [
            "INFO:tensorflow:Restoring parameters from result/delaney-processed_curated_fit/NN_graphconv_scaffold_regression/7018bc25-5b13-47fe-b904-36ee622879b4/model/model-3408\n"
          ],
          "name": "stdout"
        },
        {
          "output_type": "stream",
          "text": [
            "2020-09-21 13:04:36,470 Restoring parameters from result/delaney-processed_curated_fit/NN_graphconv_scaffold_regression/7018bc25-5b13-47fe-b904-36ee622879b4/model/model-3408\n"
          ],
          "name": "stderr"
        },
        {
          "output_type": "stream",
          "text": [
            "INFO:tensorflow:Restoring parameters from result/delaney-processed_curated_fit/NN_graphconv_scaffold_regression/7018bc25-5b13-47fe-b904-36ee622879b4/model/model-3424\n"
          ],
          "name": "stdout"
        },
        {
          "output_type": "stream",
          "text": [
            "2020-09-21 13:04:42,053 Restoring parameters from result/delaney-processed_curated_fit/NN_graphconv_scaffold_regression/7018bc25-5b13-47fe-b904-36ee622879b4/model/model-3424\n"
          ],
          "name": "stderr"
        },
        {
          "output_type": "stream",
          "text": [
            "INFO:tensorflow:Restoring parameters from result/delaney-processed_curated_fit/NN_graphconv_scaffold_regression/7018bc25-5b13-47fe-b904-36ee622879b4/model/model-3440\n"
          ],
          "name": "stdout"
        },
        {
          "output_type": "stream",
          "text": [
            "2020-09-21 13:04:47,630 Restoring parameters from result/delaney-processed_curated_fit/NN_graphconv_scaffold_regression/7018bc25-5b13-47fe-b904-36ee622879b4/model/model-3440\n"
          ],
          "name": "stderr"
        },
        {
          "output_type": "stream",
          "text": [
            "INFO:tensorflow:Restoring parameters from result/delaney-processed_curated_fit/NN_graphconv_scaffold_regression/7018bc25-5b13-47fe-b904-36ee622879b4/model/model-3456\n"
          ],
          "name": "stdout"
        },
        {
          "output_type": "stream",
          "text": [
            "2020-09-21 13:04:53,223 Restoring parameters from result/delaney-processed_curated_fit/NN_graphconv_scaffold_regression/7018bc25-5b13-47fe-b904-36ee622879b4/model/model-3456\n"
          ],
          "name": "stderr"
        },
        {
          "output_type": "stream",
          "text": [
            "INFO:tensorflow:Restoring parameters from result/delaney-processed_curated_fit/NN_graphconv_scaffold_regression/7018bc25-5b13-47fe-b904-36ee622879b4/model/model-3472\n"
          ],
          "name": "stdout"
        },
        {
          "output_type": "stream",
          "text": [
            "2020-09-21 13:04:58,843 Restoring parameters from result/delaney-processed_curated_fit/NN_graphconv_scaffold_regression/7018bc25-5b13-47fe-b904-36ee622879b4/model/model-3472\n"
          ],
          "name": "stderr"
        },
        {
          "output_type": "stream",
          "text": [
            "INFO:tensorflow:Restoring parameters from result/delaney-processed_curated_fit/NN_graphconv_scaffold_regression/7018bc25-5b13-47fe-b904-36ee622879b4/model/model-3488\n"
          ],
          "name": "stdout"
        },
        {
          "output_type": "stream",
          "text": [
            "2020-09-21 13:05:04,506 Restoring parameters from result/delaney-processed_curated_fit/NN_graphconv_scaffold_regression/7018bc25-5b13-47fe-b904-36ee622879b4/model/model-3488\n"
          ],
          "name": "stderr"
        },
        {
          "output_type": "stream",
          "text": [
            "INFO:tensorflow:Restoring parameters from result/delaney-processed_curated_fit/NN_graphconv_scaffold_regression/7018bc25-5b13-47fe-b904-36ee622879b4/model/model-3504\n"
          ],
          "name": "stdout"
        },
        {
          "output_type": "stream",
          "text": [
            "2020-09-21 13:05:10,178 Restoring parameters from result/delaney-processed_curated_fit/NN_graphconv_scaffold_regression/7018bc25-5b13-47fe-b904-36ee622879b4/model/model-3504\n"
          ],
          "name": "stderr"
        },
        {
          "output_type": "stream",
          "text": [
            "INFO:tensorflow:Restoring parameters from result/delaney-processed_curated_fit/NN_graphconv_scaffold_regression/7018bc25-5b13-47fe-b904-36ee622879b4/model/model-3520\n"
          ],
          "name": "stdout"
        },
        {
          "output_type": "stream",
          "text": [
            "2020-09-21 13:05:16,478 Restoring parameters from result/delaney-processed_curated_fit/NN_graphconv_scaffold_regression/7018bc25-5b13-47fe-b904-36ee622879b4/model/model-3520\n"
          ],
          "name": "stderr"
        },
        {
          "output_type": "stream",
          "text": [
            "INFO:tensorflow:Restoring parameters from result/delaney-processed_curated_fit/NN_graphconv_scaffold_regression/7018bc25-5b13-47fe-b904-36ee622879b4/model/model-3536\n"
          ],
          "name": "stdout"
        },
        {
          "output_type": "stream",
          "text": [
            "2020-09-21 13:05:22,210 Restoring parameters from result/delaney-processed_curated_fit/NN_graphconv_scaffold_regression/7018bc25-5b13-47fe-b904-36ee622879b4/model/model-3536\n"
          ],
          "name": "stderr"
        },
        {
          "output_type": "stream",
          "text": [
            "INFO:tensorflow:Restoring parameters from result/delaney-processed_curated_fit/NN_graphconv_scaffold_regression/7018bc25-5b13-47fe-b904-36ee622879b4/model/model-3552\n"
          ],
          "name": "stdout"
        },
        {
          "output_type": "stream",
          "text": [
            "2020-09-21 13:05:27,955 Restoring parameters from result/delaney-processed_curated_fit/NN_graphconv_scaffold_regression/7018bc25-5b13-47fe-b904-36ee622879b4/model/model-3552\n"
          ],
          "name": "stderr"
        },
        {
          "output_type": "stream",
          "text": [
            "INFO:tensorflow:Restoring parameters from result/delaney-processed_curated_fit/NN_graphconv_scaffold_regression/7018bc25-5b13-47fe-b904-36ee622879b4/model/model-3568\n"
          ],
          "name": "stdout"
        },
        {
          "output_type": "stream",
          "text": [
            "2020-09-21 13:05:33,742 Restoring parameters from result/delaney-processed_curated_fit/NN_graphconv_scaffold_regression/7018bc25-5b13-47fe-b904-36ee622879b4/model/model-3568\n"
          ],
          "name": "stderr"
        },
        {
          "output_type": "stream",
          "text": [
            "INFO:tensorflow:Restoring parameters from result/delaney-processed_curated_fit/NN_graphconv_scaffold_regression/7018bc25-5b13-47fe-b904-36ee622879b4/model/model-3584\n"
          ],
          "name": "stdout"
        },
        {
          "output_type": "stream",
          "text": [
            "2020-09-21 13:05:39,565 Restoring parameters from result/delaney-processed_curated_fit/NN_graphconv_scaffold_regression/7018bc25-5b13-47fe-b904-36ee622879b4/model/model-3584\n"
          ],
          "name": "stderr"
        },
        {
          "output_type": "stream",
          "text": [
            "INFO:tensorflow:Restoring parameters from result/delaney-processed_curated_fit/NN_graphconv_scaffold_regression/7018bc25-5b13-47fe-b904-36ee622879b4/model/model-3600\n"
          ],
          "name": "stdout"
        },
        {
          "output_type": "stream",
          "text": [
            "2020-09-21 13:05:45,374 Restoring parameters from result/delaney-processed_curated_fit/NN_graphconv_scaffold_regression/7018bc25-5b13-47fe-b904-36ee622879b4/model/model-3600\n"
          ],
          "name": "stderr"
        },
        {
          "output_type": "stream",
          "text": [
            "INFO:tensorflow:Restoring parameters from result/delaney-processed_curated_fit/NN_graphconv_scaffold_regression/7018bc25-5b13-47fe-b904-36ee622879b4/model/model-3616\n"
          ],
          "name": "stdout"
        },
        {
          "output_type": "stream",
          "text": [
            "2020-09-21 13:05:51,225 Restoring parameters from result/delaney-processed_curated_fit/NN_graphconv_scaffold_regression/7018bc25-5b13-47fe-b904-36ee622879b4/model/model-3616\n"
          ],
          "name": "stderr"
        },
        {
          "output_type": "stream",
          "text": [
            "INFO:tensorflow:Restoring parameters from result/delaney-processed_curated_fit/NN_graphconv_scaffold_regression/7018bc25-5b13-47fe-b904-36ee622879b4/model/model-3632\n"
          ],
          "name": "stdout"
        },
        {
          "output_type": "stream",
          "text": [
            "2020-09-21 13:05:57,753 Restoring parameters from result/delaney-processed_curated_fit/NN_graphconv_scaffold_regression/7018bc25-5b13-47fe-b904-36ee622879b4/model/model-3632\n"
          ],
          "name": "stderr"
        },
        {
          "output_type": "stream",
          "text": [
            "INFO:tensorflow:Restoring parameters from result/delaney-processed_curated_fit/NN_graphconv_scaffold_regression/7018bc25-5b13-47fe-b904-36ee622879b4/model/model-3648\n"
          ],
          "name": "stdout"
        },
        {
          "output_type": "stream",
          "text": [
            "2020-09-21 13:06:03,720 Restoring parameters from result/delaney-processed_curated_fit/NN_graphconv_scaffold_regression/7018bc25-5b13-47fe-b904-36ee622879b4/model/model-3648\n"
          ],
          "name": "stderr"
        },
        {
          "output_type": "stream",
          "text": [
            "INFO:tensorflow:Restoring parameters from result/delaney-processed_curated_fit/NN_graphconv_scaffold_regression/7018bc25-5b13-47fe-b904-36ee622879b4/model/model-3664\n"
          ],
          "name": "stdout"
        },
        {
          "output_type": "stream",
          "text": [
            "2020-09-21 13:06:10,126 Restoring parameters from result/delaney-processed_curated_fit/NN_graphconv_scaffold_regression/7018bc25-5b13-47fe-b904-36ee622879b4/model/model-3664\n"
          ],
          "name": "stderr"
        },
        {
          "output_type": "stream",
          "text": [
            "INFO:tensorflow:Restoring parameters from result/delaney-processed_curated_fit/NN_graphconv_scaffold_regression/7018bc25-5b13-47fe-b904-36ee622879b4/model/model-3680\n"
          ],
          "name": "stdout"
        },
        {
          "output_type": "stream",
          "text": [
            "2020-09-21 13:06:16,039 Restoring parameters from result/delaney-processed_curated_fit/NN_graphconv_scaffold_regression/7018bc25-5b13-47fe-b904-36ee622879b4/model/model-3680\n"
          ],
          "name": "stderr"
        },
        {
          "output_type": "stream",
          "text": [
            "INFO:tensorflow:Restoring parameters from result/delaney-processed_curated_fit/NN_graphconv_scaffold_regression/7018bc25-5b13-47fe-b904-36ee622879b4/model/model-3696\n"
          ],
          "name": "stdout"
        },
        {
          "output_type": "stream",
          "text": [
            "2020-09-21 13:06:21,970 Restoring parameters from result/delaney-processed_curated_fit/NN_graphconv_scaffold_regression/7018bc25-5b13-47fe-b904-36ee622879b4/model/model-3696\n"
          ],
          "name": "stderr"
        },
        {
          "output_type": "stream",
          "text": [
            "INFO:tensorflow:Restoring parameters from result/delaney-processed_curated_fit/NN_graphconv_scaffold_regression/7018bc25-5b13-47fe-b904-36ee622879b4/model/model-3712\n"
          ],
          "name": "stdout"
        },
        {
          "output_type": "stream",
          "text": [
            "2020-09-21 13:06:27,837 Restoring parameters from result/delaney-processed_curated_fit/NN_graphconv_scaffold_regression/7018bc25-5b13-47fe-b904-36ee622879b4/model/model-3712\n"
          ],
          "name": "stderr"
        },
        {
          "output_type": "stream",
          "text": [
            "INFO:tensorflow:Restoring parameters from result/delaney-processed_curated_fit/NN_graphconv_scaffold_regression/7018bc25-5b13-47fe-b904-36ee622879b4/model/model-3728\n"
          ],
          "name": "stdout"
        },
        {
          "output_type": "stream",
          "text": [
            "2020-09-21 13:06:33,753 Restoring parameters from result/delaney-processed_curated_fit/NN_graphconv_scaffold_regression/7018bc25-5b13-47fe-b904-36ee622879b4/model/model-3728\n"
          ],
          "name": "stderr"
        },
        {
          "output_type": "stream",
          "text": [
            "INFO:tensorflow:Restoring parameters from result/delaney-processed_curated_fit/NN_graphconv_scaffold_regression/7018bc25-5b13-47fe-b904-36ee622879b4/model/model-3744\n"
          ],
          "name": "stdout"
        },
        {
          "output_type": "stream",
          "text": [
            "2020-09-21 13:06:39,659 Restoring parameters from result/delaney-processed_curated_fit/NN_graphconv_scaffold_regression/7018bc25-5b13-47fe-b904-36ee622879b4/model/model-3744\n"
          ],
          "name": "stderr"
        },
        {
          "output_type": "stream",
          "text": [
            "INFO:tensorflow:Restoring parameters from result/delaney-processed_curated_fit/NN_graphconv_scaffold_regression/7018bc25-5b13-47fe-b904-36ee622879b4/model/model-3760\n"
          ],
          "name": "stdout"
        },
        {
          "output_type": "stream",
          "text": [
            "2020-09-21 13:06:46,229 Restoring parameters from result/delaney-processed_curated_fit/NN_graphconv_scaffold_regression/7018bc25-5b13-47fe-b904-36ee622879b4/model/model-3760\n"
          ],
          "name": "stderr"
        },
        {
          "output_type": "stream",
          "text": [
            "INFO:tensorflow:Restoring parameters from result/delaney-processed_curated_fit/NN_graphconv_scaffold_regression/7018bc25-5b13-47fe-b904-36ee622879b4/model/model-3776\n"
          ],
          "name": "stdout"
        },
        {
          "output_type": "stream",
          "text": [
            "2020-09-21 13:06:52,189 Restoring parameters from result/delaney-processed_curated_fit/NN_graphconv_scaffold_regression/7018bc25-5b13-47fe-b904-36ee622879b4/model/model-3776\n"
          ],
          "name": "stderr"
        },
        {
          "output_type": "stream",
          "text": [
            "INFO:tensorflow:Restoring parameters from result/delaney-processed_curated_fit/NN_graphconv_scaffold_regression/7018bc25-5b13-47fe-b904-36ee622879b4/model/model-3792\n"
          ],
          "name": "stdout"
        },
        {
          "output_type": "stream",
          "text": [
            "2020-09-21 13:06:58,175 Restoring parameters from result/delaney-processed_curated_fit/NN_graphconv_scaffold_regression/7018bc25-5b13-47fe-b904-36ee622879b4/model/model-3792\n"
          ],
          "name": "stderr"
        },
        {
          "output_type": "stream",
          "text": [
            "INFO:tensorflow:Restoring parameters from result/delaney-processed_curated_fit/NN_graphconv_scaffold_regression/7018bc25-5b13-47fe-b904-36ee622879b4/model/model-3808\n"
          ],
          "name": "stdout"
        },
        {
          "output_type": "stream",
          "text": [
            "2020-09-21 13:07:04,218 Restoring parameters from result/delaney-processed_curated_fit/NN_graphconv_scaffold_regression/7018bc25-5b13-47fe-b904-36ee622879b4/model/model-3808\n"
          ],
          "name": "stderr"
        },
        {
          "output_type": "stream",
          "text": [
            "INFO:tensorflow:Restoring parameters from result/delaney-processed_curated_fit/NN_graphconv_scaffold_regression/7018bc25-5b13-47fe-b904-36ee622879b4/model/model-3824\n"
          ],
          "name": "stdout"
        },
        {
          "output_type": "stream",
          "text": [
            "2020-09-21 13:07:10,241 Restoring parameters from result/delaney-processed_curated_fit/NN_graphconv_scaffold_regression/7018bc25-5b13-47fe-b904-36ee622879b4/model/model-3824\n"
          ],
          "name": "stderr"
        },
        {
          "output_type": "stream",
          "text": [
            "INFO:tensorflow:Restoring parameters from result/delaney-processed_curated_fit/NN_graphconv_scaffold_regression/7018bc25-5b13-47fe-b904-36ee622879b4/model/model-3840\n"
          ],
          "name": "stdout"
        },
        {
          "output_type": "stream",
          "text": [
            "2020-09-21 13:07:16,254 Restoring parameters from result/delaney-processed_curated_fit/NN_graphconv_scaffold_regression/7018bc25-5b13-47fe-b904-36ee622879b4/model/model-3840\n"
          ],
          "name": "stderr"
        },
        {
          "output_type": "stream",
          "text": [
            "INFO:tensorflow:Restoring parameters from result/delaney-processed_curated_fit/NN_graphconv_scaffold_regression/7018bc25-5b13-47fe-b904-36ee622879b4/model/model-3856\n"
          ],
          "name": "stdout"
        },
        {
          "output_type": "stream",
          "text": [
            "2020-09-21 13:07:22,315 Restoring parameters from result/delaney-processed_curated_fit/NN_graphconv_scaffold_regression/7018bc25-5b13-47fe-b904-36ee622879b4/model/model-3856\n"
          ],
          "name": "stderr"
        },
        {
          "output_type": "stream",
          "text": [
            "INFO:tensorflow:Restoring parameters from result/delaney-processed_curated_fit/NN_graphconv_scaffold_regression/7018bc25-5b13-47fe-b904-36ee622879b4/model/model-3872\n"
          ],
          "name": "stdout"
        },
        {
          "output_type": "stream",
          "text": [
            "2020-09-21 13:07:28,355 Restoring parameters from result/delaney-processed_curated_fit/NN_graphconv_scaffold_regression/7018bc25-5b13-47fe-b904-36ee622879b4/model/model-3872\n"
          ],
          "name": "stderr"
        },
        {
          "output_type": "stream",
          "text": [
            "INFO:tensorflow:Restoring parameters from result/delaney-processed_curated_fit/NN_graphconv_scaffold_regression/7018bc25-5b13-47fe-b904-36ee622879b4/model/model-3888\n"
          ],
          "name": "stdout"
        },
        {
          "output_type": "stream",
          "text": [
            "2020-09-21 13:07:35,122 Restoring parameters from result/delaney-processed_curated_fit/NN_graphconv_scaffold_regression/7018bc25-5b13-47fe-b904-36ee622879b4/model/model-3888\n"
          ],
          "name": "stderr"
        },
        {
          "output_type": "stream",
          "text": [
            "INFO:tensorflow:Restoring parameters from result/delaney-processed_curated_fit/NN_graphconv_scaffold_regression/7018bc25-5b13-47fe-b904-36ee622879b4/model/model-3904\n"
          ],
          "name": "stdout"
        },
        {
          "output_type": "stream",
          "text": [
            "2020-09-21 13:07:41,279 Restoring parameters from result/delaney-processed_curated_fit/NN_graphconv_scaffold_regression/7018bc25-5b13-47fe-b904-36ee622879b4/model/model-3904\n"
          ],
          "name": "stderr"
        },
        {
          "output_type": "stream",
          "text": [
            "INFO:tensorflow:Restoring parameters from result/delaney-processed_curated_fit/NN_graphconv_scaffold_regression/7018bc25-5b13-47fe-b904-36ee622879b4/model/model-3920\n"
          ],
          "name": "stdout"
        },
        {
          "output_type": "stream",
          "text": [
            "2020-09-21 13:07:47,354 Restoring parameters from result/delaney-processed_curated_fit/NN_graphconv_scaffold_regression/7018bc25-5b13-47fe-b904-36ee622879b4/model/model-3920\n"
          ],
          "name": "stderr"
        },
        {
          "output_type": "stream",
          "text": [
            "INFO:tensorflow:Restoring parameters from result/delaney-processed_curated_fit/NN_graphconv_scaffold_regression/7018bc25-5b13-47fe-b904-36ee622879b4/model/model-3936\n"
          ],
          "name": "stdout"
        },
        {
          "output_type": "stream",
          "text": [
            "2020-09-21 13:07:53,462 Restoring parameters from result/delaney-processed_curated_fit/NN_graphconv_scaffold_regression/7018bc25-5b13-47fe-b904-36ee622879b4/model/model-3936\n"
          ],
          "name": "stderr"
        },
        {
          "output_type": "stream",
          "text": [
            "INFO:tensorflow:Restoring parameters from result/delaney-processed_curated_fit/NN_graphconv_scaffold_regression/7018bc25-5b13-47fe-b904-36ee622879b4/model/model-3952\n"
          ],
          "name": "stdout"
        },
        {
          "output_type": "stream",
          "text": [
            "2020-09-21 13:07:59,628 Restoring parameters from result/delaney-processed_curated_fit/NN_graphconv_scaffold_regression/7018bc25-5b13-47fe-b904-36ee622879b4/model/model-3952\n"
          ],
          "name": "stderr"
        },
        {
          "output_type": "stream",
          "text": [
            "INFO:tensorflow:Restoring parameters from result/delaney-processed_curated_fit/NN_graphconv_scaffold_regression/7018bc25-5b13-47fe-b904-36ee622879b4/model/model-3968\n"
          ],
          "name": "stdout"
        },
        {
          "output_type": "stream",
          "text": [
            "2020-09-21 13:08:05,834 Restoring parameters from result/delaney-processed_curated_fit/NN_graphconv_scaffold_regression/7018bc25-5b13-47fe-b904-36ee622879b4/model/model-3968\n"
          ],
          "name": "stderr"
        },
        {
          "output_type": "stream",
          "text": [
            "INFO:tensorflow:Restoring parameters from result/delaney-processed_curated_fit/NN_graphconv_scaffold_regression/7018bc25-5b13-47fe-b904-36ee622879b4/model/model-3984\n"
          ],
          "name": "stdout"
        },
        {
          "output_type": "stream",
          "text": [
            "2020-09-21 13:08:12,094 Restoring parameters from result/delaney-processed_curated_fit/NN_graphconv_scaffold_regression/7018bc25-5b13-47fe-b904-36ee622879b4/model/model-3984\n"
          ],
          "name": "stderr"
        },
        {
          "output_type": "stream",
          "text": [
            "INFO:tensorflow:Restoring parameters from result/delaney-processed_curated_fit/NN_graphconv_scaffold_regression/7018bc25-5b13-47fe-b904-36ee622879b4/model/model-4000\n"
          ],
          "name": "stdout"
        },
        {
          "output_type": "stream",
          "text": [
            "2020-09-21 13:08:21,045 Restoring parameters from result/delaney-processed_curated_fit/NN_graphconv_scaffold_regression/7018bc25-5b13-47fe-b904-36ee622879b4/model/model-4000\n"
          ],
          "name": "stderr"
        },
        {
          "output_type": "stream",
          "text": [
            "INFO:tensorflow:Restoring parameters from result/delaney-processed_curated_fit/NN_graphconv_scaffold_regression/7018bc25-5b13-47fe-b904-36ee622879b4/model/model-4016\n"
          ],
          "name": "stdout"
        },
        {
          "output_type": "stream",
          "text": [
            "2020-09-21 13:08:28,174 Restoring parameters from result/delaney-processed_curated_fit/NN_graphconv_scaffold_regression/7018bc25-5b13-47fe-b904-36ee622879b4/model/model-4016\n"
          ],
          "name": "stderr"
        },
        {
          "output_type": "stream",
          "text": [
            "INFO:tensorflow:Restoring parameters from result/delaney-processed_curated_fit/NN_graphconv_scaffold_regression/7018bc25-5b13-47fe-b904-36ee622879b4/model/model-4032\n"
          ],
          "name": "stdout"
        },
        {
          "output_type": "stream",
          "text": [
            "2020-09-21 13:08:34,525 Restoring parameters from result/delaney-processed_curated_fit/NN_graphconv_scaffold_regression/7018bc25-5b13-47fe-b904-36ee622879b4/model/model-4032\n"
          ],
          "name": "stderr"
        },
        {
          "output_type": "stream",
          "text": [
            "INFO:tensorflow:Restoring parameters from result/delaney-processed_curated_fit/NN_graphconv_scaffold_regression/7018bc25-5b13-47fe-b904-36ee622879b4/model/model-4048\n"
          ],
          "name": "stdout"
        },
        {
          "output_type": "stream",
          "text": [
            "2020-09-21 13:08:40,873 Restoring parameters from result/delaney-processed_curated_fit/NN_graphconv_scaffold_regression/7018bc25-5b13-47fe-b904-36ee622879b4/model/model-4048\n"
          ],
          "name": "stderr"
        },
        {
          "output_type": "stream",
          "text": [
            "INFO:tensorflow:Restoring parameters from result/delaney-processed_curated_fit/NN_graphconv_scaffold_regression/7018bc25-5b13-47fe-b904-36ee622879b4/model/model-4064\n"
          ],
          "name": "stdout"
        },
        {
          "output_type": "stream",
          "text": [
            "2020-09-21 13:08:47,160 Restoring parameters from result/delaney-processed_curated_fit/NN_graphconv_scaffold_regression/7018bc25-5b13-47fe-b904-36ee622879b4/model/model-4064\n"
          ],
          "name": "stderr"
        },
        {
          "output_type": "stream",
          "text": [
            "INFO:tensorflow:Restoring parameters from result/delaney-processed_curated_fit/NN_graphconv_scaffold_regression/7018bc25-5b13-47fe-b904-36ee622879b4/model/model-4080\n"
          ],
          "name": "stdout"
        },
        {
          "output_type": "stream",
          "text": [
            "2020-09-21 13:08:53,540 Restoring parameters from result/delaney-processed_curated_fit/NN_graphconv_scaffold_regression/7018bc25-5b13-47fe-b904-36ee622879b4/model/model-4080\n"
          ],
          "name": "stderr"
        },
        {
          "output_type": "stream",
          "text": [
            "INFO:tensorflow:Restoring parameters from result/delaney-processed_curated_fit/NN_graphconv_scaffold_regression/7018bc25-5b13-47fe-b904-36ee622879b4/model/model-4096\n"
          ],
          "name": "stdout"
        },
        {
          "output_type": "stream",
          "text": [
            "2020-09-21 13:08:59,980 Restoring parameters from result/delaney-processed_curated_fit/NN_graphconv_scaffold_regression/7018bc25-5b13-47fe-b904-36ee622879b4/model/model-4096\n"
          ],
          "name": "stderr"
        },
        {
          "output_type": "stream",
          "text": [
            "INFO:tensorflow:Restoring parameters from result/delaney-processed_curated_fit/NN_graphconv_scaffold_regression/7018bc25-5b13-47fe-b904-36ee622879b4/model/model-4112\n"
          ],
          "name": "stdout"
        },
        {
          "output_type": "stream",
          "text": [
            "2020-09-21 13:09:06,421 Restoring parameters from result/delaney-processed_curated_fit/NN_graphconv_scaffold_regression/7018bc25-5b13-47fe-b904-36ee622879b4/model/model-4112\n"
          ],
          "name": "stderr"
        },
        {
          "output_type": "stream",
          "text": [
            "INFO:tensorflow:Restoring parameters from result/delaney-processed_curated_fit/NN_graphconv_scaffold_regression/7018bc25-5b13-47fe-b904-36ee622879b4/model/model-4128\n"
          ],
          "name": "stdout"
        },
        {
          "output_type": "stream",
          "text": [
            "2020-09-21 13:09:12,879 Restoring parameters from result/delaney-processed_curated_fit/NN_graphconv_scaffold_regression/7018bc25-5b13-47fe-b904-36ee622879b4/model/model-4128\n"
          ],
          "name": "stderr"
        },
        {
          "output_type": "stream",
          "text": [
            "INFO:tensorflow:Restoring parameters from result/delaney-processed_curated_fit/NN_graphconv_scaffold_regression/7018bc25-5b13-47fe-b904-36ee622879b4/model/model-4144\n"
          ],
          "name": "stdout"
        },
        {
          "output_type": "stream",
          "text": [
            "2020-09-21 13:09:20,141 Restoring parameters from result/delaney-processed_curated_fit/NN_graphconv_scaffold_regression/7018bc25-5b13-47fe-b904-36ee622879b4/model/model-4144\n"
          ],
          "name": "stderr"
        },
        {
          "output_type": "stream",
          "text": [
            "INFO:tensorflow:Restoring parameters from result/delaney-processed_curated_fit/NN_graphconv_scaffold_regression/7018bc25-5b13-47fe-b904-36ee622879b4/model/model-4160\n"
          ],
          "name": "stdout"
        },
        {
          "output_type": "stream",
          "text": [
            "2020-09-21 13:09:26,743 Restoring parameters from result/delaney-processed_curated_fit/NN_graphconv_scaffold_regression/7018bc25-5b13-47fe-b904-36ee622879b4/model/model-4160\n"
          ],
          "name": "stderr"
        },
        {
          "output_type": "stream",
          "text": [
            "INFO:tensorflow:Restoring parameters from result/delaney-processed_curated_fit/NN_graphconv_scaffold_regression/7018bc25-5b13-47fe-b904-36ee622879b4/model/model-4176\n"
          ],
          "name": "stdout"
        },
        {
          "output_type": "stream",
          "text": [
            "2020-09-21 13:09:33,352 Restoring parameters from result/delaney-processed_curated_fit/NN_graphconv_scaffold_regression/7018bc25-5b13-47fe-b904-36ee622879b4/model/model-4176\n"
          ],
          "name": "stderr"
        },
        {
          "output_type": "stream",
          "text": [
            "INFO:tensorflow:Restoring parameters from result/delaney-processed_curated_fit/NN_graphconv_scaffold_regression/7018bc25-5b13-47fe-b904-36ee622879b4/model/model-4192\n"
          ],
          "name": "stdout"
        },
        {
          "output_type": "stream",
          "text": [
            "2020-09-21 13:09:39,806 Restoring parameters from result/delaney-processed_curated_fit/NN_graphconv_scaffold_regression/7018bc25-5b13-47fe-b904-36ee622879b4/model/model-4192\n"
          ],
          "name": "stderr"
        },
        {
          "output_type": "stream",
          "text": [
            "INFO:tensorflow:Restoring parameters from result/delaney-processed_curated_fit/NN_graphconv_scaffold_regression/7018bc25-5b13-47fe-b904-36ee622879b4/model/model-4208\n"
          ],
          "name": "stdout"
        },
        {
          "output_type": "stream",
          "text": [
            "2020-09-21 13:09:46,296 Restoring parameters from result/delaney-processed_curated_fit/NN_graphconv_scaffold_regression/7018bc25-5b13-47fe-b904-36ee622879b4/model/model-4208\n"
          ],
          "name": "stderr"
        },
        {
          "output_type": "stream",
          "text": [
            "INFO:tensorflow:Restoring parameters from result/delaney-processed_curated_fit/NN_graphconv_scaffold_regression/7018bc25-5b13-47fe-b904-36ee622879b4/model/model-4224\n"
          ],
          "name": "stdout"
        },
        {
          "output_type": "stream",
          "text": [
            "2020-09-21 13:09:52,769 Restoring parameters from result/delaney-processed_curated_fit/NN_graphconv_scaffold_regression/7018bc25-5b13-47fe-b904-36ee622879b4/model/model-4224\n"
          ],
          "name": "stderr"
        },
        {
          "output_type": "stream",
          "text": [
            "INFO:tensorflow:Restoring parameters from result/delaney-processed_curated_fit/NN_graphconv_scaffold_regression/7018bc25-5b13-47fe-b904-36ee622879b4/model/model-4240\n"
          ],
          "name": "stdout"
        },
        {
          "output_type": "stream",
          "text": [
            "2020-09-21 13:09:59,351 Restoring parameters from result/delaney-processed_curated_fit/NN_graphconv_scaffold_regression/7018bc25-5b13-47fe-b904-36ee622879b4/model/model-4240\n"
          ],
          "name": "stderr"
        },
        {
          "output_type": "stream",
          "text": [
            "INFO:tensorflow:Restoring parameters from result/delaney-processed_curated_fit/NN_graphconv_scaffold_regression/7018bc25-5b13-47fe-b904-36ee622879b4/model/model-4256\n"
          ],
          "name": "stdout"
        },
        {
          "output_type": "stream",
          "text": [
            "2020-09-21 13:10:05,923 Restoring parameters from result/delaney-processed_curated_fit/NN_graphconv_scaffold_regression/7018bc25-5b13-47fe-b904-36ee622879b4/model/model-4256\n"
          ],
          "name": "stderr"
        },
        {
          "output_type": "stream",
          "text": [
            "INFO:tensorflow:Restoring parameters from result/delaney-processed_curated_fit/NN_graphconv_scaffold_regression/7018bc25-5b13-47fe-b904-36ee622879b4/model/model-4272\n"
          ],
          "name": "stdout"
        },
        {
          "output_type": "stream",
          "text": [
            "2020-09-21 13:10:13,176 Restoring parameters from result/delaney-processed_curated_fit/NN_graphconv_scaffold_regression/7018bc25-5b13-47fe-b904-36ee622879b4/model/model-4272\n"
          ],
          "name": "stderr"
        },
        {
          "output_type": "stream",
          "text": [
            "INFO:tensorflow:Restoring parameters from result/delaney-processed_curated_fit/NN_graphconv_scaffold_regression/7018bc25-5b13-47fe-b904-36ee622879b4/model/model-4288\n"
          ],
          "name": "stdout"
        },
        {
          "output_type": "stream",
          "text": [
            "2020-09-21 13:10:19,880 Restoring parameters from result/delaney-processed_curated_fit/NN_graphconv_scaffold_regression/7018bc25-5b13-47fe-b904-36ee622879b4/model/model-4288\n"
          ],
          "name": "stderr"
        },
        {
          "output_type": "stream",
          "text": [
            "INFO:tensorflow:Restoring parameters from result/delaney-processed_curated_fit/NN_graphconv_scaffold_regression/7018bc25-5b13-47fe-b904-36ee622879b4/model/model-4304\n"
          ],
          "name": "stdout"
        },
        {
          "output_type": "stream",
          "text": [
            "2020-09-21 13:10:26,538 Restoring parameters from result/delaney-processed_curated_fit/NN_graphconv_scaffold_regression/7018bc25-5b13-47fe-b904-36ee622879b4/model/model-4304\n"
          ],
          "name": "stderr"
        },
        {
          "output_type": "stream",
          "text": [
            "INFO:tensorflow:Restoring parameters from result/delaney-processed_curated_fit/NN_graphconv_scaffold_regression/7018bc25-5b13-47fe-b904-36ee622879b4/model/model-4320\n"
          ],
          "name": "stdout"
        },
        {
          "output_type": "stream",
          "text": [
            "2020-09-21 13:10:33,282 Restoring parameters from result/delaney-processed_curated_fit/NN_graphconv_scaffold_regression/7018bc25-5b13-47fe-b904-36ee622879b4/model/model-4320\n"
          ],
          "name": "stderr"
        },
        {
          "output_type": "stream",
          "text": [
            "INFO:tensorflow:Restoring parameters from result/delaney-processed_curated_fit/NN_graphconv_scaffold_regression/7018bc25-5b13-47fe-b904-36ee622879b4/model/model-4336\n"
          ],
          "name": "stdout"
        },
        {
          "output_type": "stream",
          "text": [
            "2020-09-21 13:10:39,996 Restoring parameters from result/delaney-processed_curated_fit/NN_graphconv_scaffold_regression/7018bc25-5b13-47fe-b904-36ee622879b4/model/model-4336\n"
          ],
          "name": "stderr"
        },
        {
          "output_type": "stream",
          "text": [
            "INFO:tensorflow:Restoring parameters from result/delaney-processed_curated_fit/NN_graphconv_scaffold_regression/7018bc25-5b13-47fe-b904-36ee622879b4/model/model-4352\n"
          ],
          "name": "stdout"
        },
        {
          "output_type": "stream",
          "text": [
            "2020-09-21 13:10:47,004 Restoring parameters from result/delaney-processed_curated_fit/NN_graphconv_scaffold_regression/7018bc25-5b13-47fe-b904-36ee622879b4/model/model-4352\n"
          ],
          "name": "stderr"
        },
        {
          "output_type": "stream",
          "text": [
            "INFO:tensorflow:Restoring parameters from result/delaney-processed_curated_fit/NN_graphconv_scaffold_regression/7018bc25-5b13-47fe-b904-36ee622879b4/model/model-4368\n"
          ],
          "name": "stdout"
        },
        {
          "output_type": "stream",
          "text": [
            "2020-09-21 13:10:53,948 Restoring parameters from result/delaney-processed_curated_fit/NN_graphconv_scaffold_regression/7018bc25-5b13-47fe-b904-36ee622879b4/model/model-4368\n"
          ],
          "name": "stderr"
        },
        {
          "output_type": "stream",
          "text": [
            "INFO:tensorflow:Restoring parameters from result/delaney-processed_curated_fit/NN_graphconv_scaffold_regression/7018bc25-5b13-47fe-b904-36ee622879b4/model/model-4384\n"
          ],
          "name": "stdout"
        },
        {
          "output_type": "stream",
          "text": [
            "2020-09-21 13:11:00,881 Restoring parameters from result/delaney-processed_curated_fit/NN_graphconv_scaffold_regression/7018bc25-5b13-47fe-b904-36ee622879b4/model/model-4384\n"
          ],
          "name": "stderr"
        },
        {
          "output_type": "stream",
          "text": [
            "INFO:tensorflow:Restoring parameters from result/delaney-processed_curated_fit/NN_graphconv_scaffold_regression/7018bc25-5b13-47fe-b904-36ee622879b4/model/model-4400\n"
          ],
          "name": "stdout"
        },
        {
          "output_type": "stream",
          "text": [
            "2020-09-21 13:11:07,635 Restoring parameters from result/delaney-processed_curated_fit/NN_graphconv_scaffold_regression/7018bc25-5b13-47fe-b904-36ee622879b4/model/model-4400\n"
          ],
          "name": "stderr"
        },
        {
          "output_type": "stream",
          "text": [
            "INFO:tensorflow:Restoring parameters from result/delaney-processed_curated_fit/NN_graphconv_scaffold_regression/7018bc25-5b13-47fe-b904-36ee622879b4/model/model-4416\n"
          ],
          "name": "stdout"
        },
        {
          "output_type": "stream",
          "text": [
            "2020-09-21 13:11:15,236 Restoring parameters from result/delaney-processed_curated_fit/NN_graphconv_scaffold_regression/7018bc25-5b13-47fe-b904-36ee622879b4/model/model-4416\n"
          ],
          "name": "stderr"
        },
        {
          "output_type": "stream",
          "text": [
            "INFO:tensorflow:Restoring parameters from result/delaney-processed_curated_fit/NN_graphconv_scaffold_regression/7018bc25-5b13-47fe-b904-36ee622879b4/model/model-4432\n"
          ],
          "name": "stdout"
        },
        {
          "output_type": "stream",
          "text": [
            "2020-09-21 13:11:22,127 Restoring parameters from result/delaney-processed_curated_fit/NN_graphconv_scaffold_regression/7018bc25-5b13-47fe-b904-36ee622879b4/model/model-4432\n"
          ],
          "name": "stderr"
        },
        {
          "output_type": "stream",
          "text": [
            "INFO:tensorflow:Restoring parameters from result/delaney-processed_curated_fit/NN_graphconv_scaffold_regression/7018bc25-5b13-47fe-b904-36ee622879b4/model/model-4448\n"
          ],
          "name": "stdout"
        },
        {
          "output_type": "stream",
          "text": [
            "2020-09-21 13:11:29,157 Restoring parameters from result/delaney-processed_curated_fit/NN_graphconv_scaffold_regression/7018bc25-5b13-47fe-b904-36ee622879b4/model/model-4448\n"
          ],
          "name": "stderr"
        },
        {
          "output_type": "stream",
          "text": [
            "INFO:tensorflow:Restoring parameters from result/delaney-processed_curated_fit/NN_graphconv_scaffold_regression/7018bc25-5b13-47fe-b904-36ee622879b4/model/model-4464\n"
          ],
          "name": "stdout"
        },
        {
          "output_type": "stream",
          "text": [
            "2020-09-21 13:11:36,027 Restoring parameters from result/delaney-processed_curated_fit/NN_graphconv_scaffold_regression/7018bc25-5b13-47fe-b904-36ee622879b4/model/model-4464\n"
          ],
          "name": "stderr"
        },
        {
          "output_type": "stream",
          "text": [
            "INFO:tensorflow:Restoring parameters from result/delaney-processed_curated_fit/NN_graphconv_scaffold_regression/7018bc25-5b13-47fe-b904-36ee622879b4/model/model-4480\n"
          ],
          "name": "stdout"
        },
        {
          "output_type": "stream",
          "text": [
            "2020-09-21 13:11:42,938 Restoring parameters from result/delaney-processed_curated_fit/NN_graphconv_scaffold_regression/7018bc25-5b13-47fe-b904-36ee622879b4/model/model-4480\n"
          ],
          "name": "stderr"
        },
        {
          "output_type": "stream",
          "text": [
            "INFO:tensorflow:Restoring parameters from result/delaney-processed_curated_fit/NN_graphconv_scaffold_regression/7018bc25-5b13-47fe-b904-36ee622879b4/model/model-4496\n"
          ],
          "name": "stdout"
        },
        {
          "output_type": "stream",
          "text": [
            "2020-09-21 13:11:49,774 Restoring parameters from result/delaney-processed_curated_fit/NN_graphconv_scaffold_regression/7018bc25-5b13-47fe-b904-36ee622879b4/model/model-4496\n"
          ],
          "name": "stderr"
        },
        {
          "output_type": "stream",
          "text": [
            "INFO:tensorflow:Restoring parameters from result/delaney-processed_curated_fit/NN_graphconv_scaffold_regression/7018bc25-5b13-47fe-b904-36ee622879b4/model/model-4512\n"
          ],
          "name": "stdout"
        },
        {
          "output_type": "stream",
          "text": [
            "2020-09-21 13:11:56,839 Restoring parameters from result/delaney-processed_curated_fit/NN_graphconv_scaffold_regression/7018bc25-5b13-47fe-b904-36ee622879b4/model/model-4512\n"
          ],
          "name": "stderr"
        },
        {
          "output_type": "stream",
          "text": [
            "INFO:tensorflow:Restoring parameters from result/delaney-processed_curated_fit/NN_graphconv_scaffold_regression/7018bc25-5b13-47fe-b904-36ee622879b4/model/model-4528\n"
          ],
          "name": "stdout"
        },
        {
          "output_type": "stream",
          "text": [
            "2020-09-21 13:12:03,880 Restoring parameters from result/delaney-processed_curated_fit/NN_graphconv_scaffold_regression/7018bc25-5b13-47fe-b904-36ee622879b4/model/model-4528\n"
          ],
          "name": "stderr"
        },
        {
          "output_type": "stream",
          "text": [
            "INFO:tensorflow:Restoring parameters from result/delaney-processed_curated_fit/NN_graphconv_scaffold_regression/7018bc25-5b13-47fe-b904-36ee622879b4/model/model-4544\n"
          ],
          "name": "stdout"
        },
        {
          "output_type": "stream",
          "text": [
            "2020-09-21 13:12:11,590 Restoring parameters from result/delaney-processed_curated_fit/NN_graphconv_scaffold_regression/7018bc25-5b13-47fe-b904-36ee622879b4/model/model-4544\n"
          ],
          "name": "stderr"
        },
        {
          "output_type": "stream",
          "text": [
            "INFO:tensorflow:Restoring parameters from result/delaney-processed_curated_fit/NN_graphconv_scaffold_regression/7018bc25-5b13-47fe-b904-36ee622879b4/model/model-4560\n"
          ],
          "name": "stdout"
        },
        {
          "output_type": "stream",
          "text": [
            "2020-09-21 13:12:18,592 Restoring parameters from result/delaney-processed_curated_fit/NN_graphconv_scaffold_regression/7018bc25-5b13-47fe-b904-36ee622879b4/model/model-4560\n"
          ],
          "name": "stderr"
        },
        {
          "output_type": "stream",
          "text": [
            "INFO:tensorflow:Restoring parameters from result/delaney-processed_curated_fit/NN_graphconv_scaffold_regression/7018bc25-5b13-47fe-b904-36ee622879b4/model/model-4576\n"
          ],
          "name": "stdout"
        },
        {
          "output_type": "stream",
          "text": [
            "2020-09-21 13:12:25,687 Restoring parameters from result/delaney-processed_curated_fit/NN_graphconv_scaffold_regression/7018bc25-5b13-47fe-b904-36ee622879b4/model/model-4576\n"
          ],
          "name": "stderr"
        },
        {
          "output_type": "stream",
          "text": [
            "INFO:tensorflow:Restoring parameters from result/delaney-processed_curated_fit/NN_graphconv_scaffold_regression/7018bc25-5b13-47fe-b904-36ee622879b4/model/model-4592\n"
          ],
          "name": "stdout"
        },
        {
          "output_type": "stream",
          "text": [
            "2020-09-21 13:12:32,878 Restoring parameters from result/delaney-processed_curated_fit/NN_graphconv_scaffold_regression/7018bc25-5b13-47fe-b904-36ee622879b4/model/model-4592\n"
          ],
          "name": "stderr"
        },
        {
          "output_type": "stream",
          "text": [
            "INFO:tensorflow:Restoring parameters from result/delaney-processed_curated_fit/NN_graphconv_scaffold_regression/7018bc25-5b13-47fe-b904-36ee622879b4/model/model-4608\n"
          ],
          "name": "stdout"
        },
        {
          "output_type": "stream",
          "text": [
            "2020-09-21 13:12:39,976 Restoring parameters from result/delaney-processed_curated_fit/NN_graphconv_scaffold_regression/7018bc25-5b13-47fe-b904-36ee622879b4/model/model-4608\n"
          ],
          "name": "stderr"
        },
        {
          "output_type": "stream",
          "text": [
            "INFO:tensorflow:Restoring parameters from result/delaney-processed_curated_fit/NN_graphconv_scaffold_regression/7018bc25-5b13-47fe-b904-36ee622879b4/model/model-4624\n"
          ],
          "name": "stdout"
        },
        {
          "output_type": "stream",
          "text": [
            "2020-09-21 13:12:47,193 Restoring parameters from result/delaney-processed_curated_fit/NN_graphconv_scaffold_regression/7018bc25-5b13-47fe-b904-36ee622879b4/model/model-4624\n"
          ],
          "name": "stderr"
        },
        {
          "output_type": "stream",
          "text": [
            "INFO:tensorflow:Restoring parameters from result/delaney-processed_curated_fit/NN_graphconv_scaffold_regression/7018bc25-5b13-47fe-b904-36ee622879b4/model/model-4640\n"
          ],
          "name": "stdout"
        },
        {
          "output_type": "stream",
          "text": [
            "2020-09-21 13:12:54,244 Restoring parameters from result/delaney-processed_curated_fit/NN_graphconv_scaffold_regression/7018bc25-5b13-47fe-b904-36ee622879b4/model/model-4640\n"
          ],
          "name": "stderr"
        },
        {
          "output_type": "stream",
          "text": [
            "INFO:tensorflow:Restoring parameters from result/delaney-processed_curated_fit/NN_graphconv_scaffold_regression/7018bc25-5b13-47fe-b904-36ee622879b4/model/model-4656\n"
          ],
          "name": "stdout"
        },
        {
          "output_type": "stream",
          "text": [
            "2020-09-21 13:13:01,350 Restoring parameters from result/delaney-processed_curated_fit/NN_graphconv_scaffold_regression/7018bc25-5b13-47fe-b904-36ee622879b4/model/model-4656\n"
          ],
          "name": "stderr"
        },
        {
          "output_type": "stream",
          "text": [
            "INFO:tensorflow:Restoring parameters from result/delaney-processed_curated_fit/NN_graphconv_scaffold_regression/7018bc25-5b13-47fe-b904-36ee622879b4/model/model-4672\n"
          ],
          "name": "stdout"
        },
        {
          "output_type": "stream",
          "text": [
            "2020-09-21 13:13:08,489 Restoring parameters from result/delaney-processed_curated_fit/NN_graphconv_scaffold_regression/7018bc25-5b13-47fe-b904-36ee622879b4/model/model-4672\n"
          ],
          "name": "stderr"
        },
        {
          "output_type": "stream",
          "text": [
            "INFO:tensorflow:Restoring parameters from result/delaney-processed_curated_fit/NN_graphconv_scaffold_regression/7018bc25-5b13-47fe-b904-36ee622879b4/model/model-4688\n"
          ],
          "name": "stdout"
        },
        {
          "output_type": "stream",
          "text": [
            "2020-09-21 13:13:15,690 Restoring parameters from result/delaney-processed_curated_fit/NN_graphconv_scaffold_regression/7018bc25-5b13-47fe-b904-36ee622879b4/model/model-4688\n"
          ],
          "name": "stderr"
        },
        {
          "output_type": "stream",
          "text": [
            "INFO:tensorflow:Restoring parameters from result/delaney-processed_curated_fit/NN_graphconv_scaffold_regression/7018bc25-5b13-47fe-b904-36ee622879b4/model/model-4704\n"
          ],
          "name": "stdout"
        },
        {
          "output_type": "stream",
          "text": [
            "2020-09-21 13:13:23,583 Restoring parameters from result/delaney-processed_curated_fit/NN_graphconv_scaffold_regression/7018bc25-5b13-47fe-b904-36ee622879b4/model/model-4704\n"
          ],
          "name": "stderr"
        },
        {
          "output_type": "stream",
          "text": [
            "INFO:tensorflow:Restoring parameters from result/delaney-processed_curated_fit/NN_graphconv_scaffold_regression/7018bc25-5b13-47fe-b904-36ee622879b4/model/model-4720\n"
          ],
          "name": "stdout"
        },
        {
          "output_type": "stream",
          "text": [
            "2020-09-21 13:13:30,758 Restoring parameters from result/delaney-processed_curated_fit/NN_graphconv_scaffold_regression/7018bc25-5b13-47fe-b904-36ee622879b4/model/model-4720\n"
          ],
          "name": "stderr"
        },
        {
          "output_type": "stream",
          "text": [
            "INFO:tensorflow:Restoring parameters from result/delaney-processed_curated_fit/NN_graphconv_scaffold_regression/7018bc25-5b13-47fe-b904-36ee622879b4/model/model-4736\n"
          ],
          "name": "stdout"
        },
        {
          "output_type": "stream",
          "text": [
            "2020-09-21 13:13:37,979 Restoring parameters from result/delaney-processed_curated_fit/NN_graphconv_scaffold_regression/7018bc25-5b13-47fe-b904-36ee622879b4/model/model-4736\n"
          ],
          "name": "stderr"
        },
        {
          "output_type": "stream",
          "text": [
            "INFO:tensorflow:Restoring parameters from result/delaney-processed_curated_fit/NN_graphconv_scaffold_regression/7018bc25-5b13-47fe-b904-36ee622879b4/model/model-4752\n"
          ],
          "name": "stdout"
        },
        {
          "output_type": "stream",
          "text": [
            "2020-09-21 13:13:45,204 Restoring parameters from result/delaney-processed_curated_fit/NN_graphconv_scaffold_regression/7018bc25-5b13-47fe-b904-36ee622879b4/model/model-4752\n"
          ],
          "name": "stderr"
        },
        {
          "output_type": "stream",
          "text": [
            "INFO:tensorflow:Restoring parameters from result/delaney-processed_curated_fit/NN_graphconv_scaffold_regression/7018bc25-5b13-47fe-b904-36ee622879b4/model/model-4768\n"
          ],
          "name": "stdout"
        },
        {
          "output_type": "stream",
          "text": [
            "2020-09-21 13:13:52,409 Restoring parameters from result/delaney-processed_curated_fit/NN_graphconv_scaffold_regression/7018bc25-5b13-47fe-b904-36ee622879b4/model/model-4768\n"
          ],
          "name": "stderr"
        },
        {
          "output_type": "stream",
          "text": [
            "INFO:tensorflow:Restoring parameters from result/delaney-processed_curated_fit/NN_graphconv_scaffold_regression/7018bc25-5b13-47fe-b904-36ee622879b4/model/model-4784\n"
          ],
          "name": "stdout"
        },
        {
          "output_type": "stream",
          "text": [
            "2020-09-21 13:13:59,549 Restoring parameters from result/delaney-processed_curated_fit/NN_graphconv_scaffold_regression/7018bc25-5b13-47fe-b904-36ee622879b4/model/model-4784\n"
          ],
          "name": "stderr"
        },
        {
          "output_type": "stream",
          "text": [
            "INFO:tensorflow:Restoring parameters from result/delaney-processed_curated_fit/NN_graphconv_scaffold_regression/7018bc25-5b13-47fe-b904-36ee622879b4/model/model-4800\n"
          ],
          "name": "stdout"
        },
        {
          "output_type": "stream",
          "text": [
            "2020-09-21 13:14:06,774 Restoring parameters from result/delaney-processed_curated_fit/NN_graphconv_scaffold_regression/7018bc25-5b13-47fe-b904-36ee622879b4/model/model-4800\n"
          ],
          "name": "stderr"
        },
        {
          "output_type": "stream",
          "text": [
            "INFO:tensorflow:Restoring parameters from result/delaney-processed_curated_fit/NN_graphconv_scaffold_regression/7018bc25-5b13-47fe-b904-36ee622879b4/model/model-4816\n"
          ],
          "name": "stdout"
        },
        {
          "output_type": "stream",
          "text": [
            "2020-09-21 13:14:14,104 Restoring parameters from result/delaney-processed_curated_fit/NN_graphconv_scaffold_regression/7018bc25-5b13-47fe-b904-36ee622879b4/model/model-4816\n"
          ],
          "name": "stderr"
        },
        {
          "output_type": "stream",
          "text": [
            "INFO:tensorflow:Restoring parameters from result/delaney-processed_curated_fit/NN_graphconv_scaffold_regression/7018bc25-5b13-47fe-b904-36ee622879b4/model/model-4832\n"
          ],
          "name": "stdout"
        },
        {
          "output_type": "stream",
          "text": [
            "2020-09-21 13:14:21,518 Restoring parameters from result/delaney-processed_curated_fit/NN_graphconv_scaffold_regression/7018bc25-5b13-47fe-b904-36ee622879b4/model/model-4832\n"
          ],
          "name": "stderr"
        },
        {
          "output_type": "stream",
          "text": [
            "INFO:tensorflow:Restoring parameters from result/delaney-processed_curated_fit/NN_graphconv_scaffold_regression/7018bc25-5b13-47fe-b904-36ee622879b4/model/model-4848\n"
          ],
          "name": "stdout"
        },
        {
          "output_type": "stream",
          "text": [
            "2020-09-21 13:14:29,696 Restoring parameters from result/delaney-processed_curated_fit/NN_graphconv_scaffold_regression/7018bc25-5b13-47fe-b904-36ee622879b4/model/model-4848\n"
          ],
          "name": "stderr"
        },
        {
          "output_type": "stream",
          "text": [
            "INFO:tensorflow:Restoring parameters from result/delaney-processed_curated_fit/NN_graphconv_scaffold_regression/7018bc25-5b13-47fe-b904-36ee622879b4/model/model-4864\n"
          ],
          "name": "stdout"
        },
        {
          "output_type": "stream",
          "text": [
            "2020-09-21 13:14:37,286 Restoring parameters from result/delaney-processed_curated_fit/NN_graphconv_scaffold_regression/7018bc25-5b13-47fe-b904-36ee622879b4/model/model-4864\n"
          ],
          "name": "stderr"
        },
        {
          "output_type": "stream",
          "text": [
            "INFO:tensorflow:Restoring parameters from result/delaney-processed_curated_fit/NN_graphconv_scaffold_regression/7018bc25-5b13-47fe-b904-36ee622879b4/model/model-4880\n"
          ],
          "name": "stdout"
        },
        {
          "output_type": "stream",
          "text": [
            "2020-09-21 13:14:44,648 Restoring parameters from result/delaney-processed_curated_fit/NN_graphconv_scaffold_regression/7018bc25-5b13-47fe-b904-36ee622879b4/model/model-4880\n"
          ],
          "name": "stderr"
        },
        {
          "output_type": "stream",
          "text": [
            "INFO:tensorflow:Restoring parameters from result/delaney-processed_curated_fit/NN_graphconv_scaffold_regression/7018bc25-5b13-47fe-b904-36ee622879b4/model/model-4896\n"
          ],
          "name": "stdout"
        },
        {
          "output_type": "stream",
          "text": [
            "2020-09-21 13:14:52,234 Restoring parameters from result/delaney-processed_curated_fit/NN_graphconv_scaffold_regression/7018bc25-5b13-47fe-b904-36ee622879b4/model/model-4896\n"
          ],
          "name": "stderr"
        },
        {
          "output_type": "stream",
          "text": [
            "INFO:tensorflow:Restoring parameters from result/delaney-processed_curated_fit/NN_graphconv_scaffold_regression/7018bc25-5b13-47fe-b904-36ee622879b4/model/model-4912\n"
          ],
          "name": "stdout"
        },
        {
          "output_type": "stream",
          "text": [
            "2020-09-21 13:14:59,694 Restoring parameters from result/delaney-processed_curated_fit/NN_graphconv_scaffold_regression/7018bc25-5b13-47fe-b904-36ee622879b4/model/model-4912\n"
          ],
          "name": "stderr"
        },
        {
          "output_type": "stream",
          "text": [
            "INFO:tensorflow:Restoring parameters from result/delaney-processed_curated_fit/NN_graphconv_scaffold_regression/7018bc25-5b13-47fe-b904-36ee622879b4/model/model-4928\n"
          ],
          "name": "stdout"
        },
        {
          "output_type": "stream",
          "text": [
            "2020-09-21 13:15:07,314 Restoring parameters from result/delaney-processed_curated_fit/NN_graphconv_scaffold_regression/7018bc25-5b13-47fe-b904-36ee622879b4/model/model-4928\n"
          ],
          "name": "stderr"
        },
        {
          "output_type": "stream",
          "text": [
            "INFO:tensorflow:Restoring parameters from result/delaney-processed_curated_fit/NN_graphconv_scaffold_regression/7018bc25-5b13-47fe-b904-36ee622879b4/model/model-4944\n"
          ],
          "name": "stdout"
        },
        {
          "output_type": "stream",
          "text": [
            "2020-09-21 13:15:14,831 Restoring parameters from result/delaney-processed_curated_fit/NN_graphconv_scaffold_regression/7018bc25-5b13-47fe-b904-36ee622879b4/model/model-4944\n"
          ],
          "name": "stderr"
        },
        {
          "output_type": "stream",
          "text": [
            "INFO:tensorflow:Restoring parameters from result/delaney-processed_curated_fit/NN_graphconv_scaffold_regression/7018bc25-5b13-47fe-b904-36ee622879b4/model/model-4960\n"
          ],
          "name": "stdout"
        },
        {
          "output_type": "stream",
          "text": [
            "2020-09-21 13:15:22,626 Restoring parameters from result/delaney-processed_curated_fit/NN_graphconv_scaffold_regression/7018bc25-5b13-47fe-b904-36ee622879b4/model/model-4960\n"
          ],
          "name": "stderr"
        },
        {
          "output_type": "stream",
          "text": [
            "INFO:tensorflow:Restoring parameters from result/delaney-processed_curated_fit/NN_graphconv_scaffold_regression/7018bc25-5b13-47fe-b904-36ee622879b4/model/model-4976\n"
          ],
          "name": "stdout"
        },
        {
          "output_type": "stream",
          "text": [
            "2020-09-21 13:15:30,190 Restoring parameters from result/delaney-processed_curated_fit/NN_graphconv_scaffold_regression/7018bc25-5b13-47fe-b904-36ee622879b4/model/model-4976\n"
          ],
          "name": "stderr"
        },
        {
          "output_type": "stream",
          "text": [
            "INFO:tensorflow:Restoring parameters from result/delaney-processed_curated_fit/NN_graphconv_scaffold_regression/7018bc25-5b13-47fe-b904-36ee622879b4/model/model-4992\n"
          ],
          "name": "stdout"
        },
        {
          "output_type": "stream",
          "text": [
            "2020-09-21 13:15:38,663 Restoring parameters from result/delaney-processed_curated_fit/NN_graphconv_scaffold_regression/7018bc25-5b13-47fe-b904-36ee622879b4/model/model-4992\n"
          ],
          "name": "stderr"
        },
        {
          "output_type": "stream",
          "text": [
            "INFO:tensorflow:Restoring parameters from result/delaney-processed_curated_fit/NN_graphconv_scaffold_regression/7018bc25-5b13-47fe-b904-36ee622879b4/model/model-5008\n"
          ],
          "name": "stdout"
        },
        {
          "output_type": "stream",
          "text": [
            "2020-09-21 13:15:49,320 Restoring parameters from result/delaney-processed_curated_fit/NN_graphconv_scaffold_regression/7018bc25-5b13-47fe-b904-36ee622879b4/model/model-5008\n"
          ],
          "name": "stderr"
        },
        {
          "output_type": "stream",
          "text": [
            "INFO:tensorflow:Restoring parameters from result/delaney-processed_curated_fit/NN_graphconv_scaffold_regression/7018bc25-5b13-47fe-b904-36ee622879b4/model/model-5024\n"
          ],
          "name": "stdout"
        },
        {
          "output_type": "stream",
          "text": [
            "2020-09-21 13:15:56,883 Restoring parameters from result/delaney-processed_curated_fit/NN_graphconv_scaffold_regression/7018bc25-5b13-47fe-b904-36ee622879b4/model/model-5024\n"
          ],
          "name": "stderr"
        },
        {
          "output_type": "stream",
          "text": [
            "INFO:tensorflow:Restoring parameters from result/delaney-processed_curated_fit/NN_graphconv_scaffold_regression/7018bc25-5b13-47fe-b904-36ee622879b4/model/model-5040\n"
          ],
          "name": "stdout"
        },
        {
          "output_type": "stream",
          "text": [
            "2020-09-21 13:16:04,623 Restoring parameters from result/delaney-processed_curated_fit/NN_graphconv_scaffold_regression/7018bc25-5b13-47fe-b904-36ee622879b4/model/model-5040\n"
          ],
          "name": "stderr"
        },
        {
          "output_type": "stream",
          "text": [
            "INFO:tensorflow:Restoring parameters from result/delaney-processed_curated_fit/NN_graphconv_scaffold_regression/7018bc25-5b13-47fe-b904-36ee622879b4/model/model-5056\n"
          ],
          "name": "stdout"
        },
        {
          "output_type": "stream",
          "text": [
            "2020-09-21 13:16:12,433 Restoring parameters from result/delaney-processed_curated_fit/NN_graphconv_scaffold_regression/7018bc25-5b13-47fe-b904-36ee622879b4/model/model-5056\n"
          ],
          "name": "stderr"
        },
        {
          "output_type": "stream",
          "text": [
            "INFO:tensorflow:Restoring parameters from result/delaney-processed_curated_fit/NN_graphconv_scaffold_regression/7018bc25-5b13-47fe-b904-36ee622879b4/model/model-5072\n"
          ],
          "name": "stdout"
        },
        {
          "output_type": "stream",
          "text": [
            "2020-09-21 13:16:20,368 Restoring parameters from result/delaney-processed_curated_fit/NN_graphconv_scaffold_regression/7018bc25-5b13-47fe-b904-36ee622879b4/model/model-5072\n"
          ],
          "name": "stderr"
        },
        {
          "output_type": "stream",
          "text": [
            "INFO:tensorflow:Restoring parameters from result/delaney-processed_curated_fit/NN_graphconv_scaffold_regression/7018bc25-5b13-47fe-b904-36ee622879b4/model/model-5088\n"
          ],
          "name": "stdout"
        },
        {
          "output_type": "stream",
          "text": [
            "2020-09-21 13:16:28,062 Restoring parameters from result/delaney-processed_curated_fit/NN_graphconv_scaffold_regression/7018bc25-5b13-47fe-b904-36ee622879b4/model/model-5088\n"
          ],
          "name": "stderr"
        },
        {
          "output_type": "stream",
          "text": [
            "INFO:tensorflow:Restoring parameters from result/delaney-processed_curated_fit/NN_graphconv_scaffold_regression/7018bc25-5b13-47fe-b904-36ee622879b4/model/model-5104\n"
          ],
          "name": "stdout"
        },
        {
          "output_type": "stream",
          "text": [
            "2020-09-21 13:16:35,854 Restoring parameters from result/delaney-processed_curated_fit/NN_graphconv_scaffold_regression/7018bc25-5b13-47fe-b904-36ee622879b4/model/model-5104\n"
          ],
          "name": "stderr"
        },
        {
          "output_type": "stream",
          "text": [
            "INFO:tensorflow:Restoring parameters from result/delaney-processed_curated_fit/NN_graphconv_scaffold_regression/7018bc25-5b13-47fe-b904-36ee622879b4/model/model-5120\n"
          ],
          "name": "stdout"
        },
        {
          "output_type": "stream",
          "text": [
            "2020-09-21 13:16:43,747 Restoring parameters from result/delaney-processed_curated_fit/NN_graphconv_scaffold_regression/7018bc25-5b13-47fe-b904-36ee622879b4/model/model-5120\n"
          ],
          "name": "stderr"
        },
        {
          "output_type": "stream",
          "text": [
            "INFO:tensorflow:Restoring parameters from result/delaney-processed_curated_fit/NN_graphconv_scaffold_regression/7018bc25-5b13-47fe-b904-36ee622879b4/model/model-5136\n"
          ],
          "name": "stdout"
        },
        {
          "output_type": "stream",
          "text": [
            "2020-09-21 13:16:51,593 Restoring parameters from result/delaney-processed_curated_fit/NN_graphconv_scaffold_regression/7018bc25-5b13-47fe-b904-36ee622879b4/model/model-5136\n"
          ],
          "name": "stderr"
        },
        {
          "output_type": "stream",
          "text": [
            "INFO:tensorflow:Restoring parameters from result/delaney-processed_curated_fit/NN_graphconv_scaffold_regression/7018bc25-5b13-47fe-b904-36ee622879b4/model/model-5152\n"
          ],
          "name": "stdout"
        },
        {
          "output_type": "stream",
          "text": [
            "2020-09-21 13:17:00,351 Restoring parameters from result/delaney-processed_curated_fit/NN_graphconv_scaffold_regression/7018bc25-5b13-47fe-b904-36ee622879b4/model/model-5152\n"
          ],
          "name": "stderr"
        },
        {
          "output_type": "stream",
          "text": [
            "INFO:tensorflow:Restoring parameters from result/delaney-processed_curated_fit/NN_graphconv_scaffold_regression/7018bc25-5b13-47fe-b904-36ee622879b4/model/model-5168\n"
          ],
          "name": "stdout"
        },
        {
          "output_type": "stream",
          "text": [
            "2020-09-21 13:17:08,214 Restoring parameters from result/delaney-processed_curated_fit/NN_graphconv_scaffold_regression/7018bc25-5b13-47fe-b904-36ee622879b4/model/model-5168\n"
          ],
          "name": "stderr"
        },
        {
          "output_type": "stream",
          "text": [
            "INFO:tensorflow:Restoring parameters from result/delaney-processed_curated_fit/NN_graphconv_scaffold_regression/7018bc25-5b13-47fe-b904-36ee622879b4/model/model-5184\n"
          ],
          "name": "stdout"
        },
        {
          "output_type": "stream",
          "text": [
            "2020-09-21 13:17:16,073 Restoring parameters from result/delaney-processed_curated_fit/NN_graphconv_scaffold_regression/7018bc25-5b13-47fe-b904-36ee622879b4/model/model-5184\n"
          ],
          "name": "stderr"
        },
        {
          "output_type": "stream",
          "text": [
            "INFO:tensorflow:Restoring parameters from result/delaney-processed_curated_fit/NN_graphconv_scaffold_regression/7018bc25-5b13-47fe-b904-36ee622879b4/model/model-5200\n"
          ],
          "name": "stdout"
        },
        {
          "output_type": "stream",
          "text": [
            "2020-09-21 13:17:24,094 Restoring parameters from result/delaney-processed_curated_fit/NN_graphconv_scaffold_regression/7018bc25-5b13-47fe-b904-36ee622879b4/model/model-5200\n"
          ],
          "name": "stderr"
        },
        {
          "output_type": "stream",
          "text": [
            "INFO:tensorflow:Restoring parameters from result/delaney-processed_curated_fit/NN_graphconv_scaffold_regression/7018bc25-5b13-47fe-b904-36ee622879b4/model/model-5216\n"
          ],
          "name": "stdout"
        },
        {
          "output_type": "stream",
          "text": [
            "2020-09-21 13:17:32,175 Restoring parameters from result/delaney-processed_curated_fit/NN_graphconv_scaffold_regression/7018bc25-5b13-47fe-b904-36ee622879b4/model/model-5216\n"
          ],
          "name": "stderr"
        },
        {
          "output_type": "stream",
          "text": [
            "INFO:tensorflow:Restoring parameters from result/delaney-processed_curated_fit/NN_graphconv_scaffold_regression/7018bc25-5b13-47fe-b904-36ee622879b4/model/model-5232\n"
          ],
          "name": "stdout"
        },
        {
          "output_type": "stream",
          "text": [
            "2020-09-21 13:17:40,368 Restoring parameters from result/delaney-processed_curated_fit/NN_graphconv_scaffold_regression/7018bc25-5b13-47fe-b904-36ee622879b4/model/model-5232\n"
          ],
          "name": "stderr"
        },
        {
          "output_type": "stream",
          "text": [
            "INFO:tensorflow:Restoring parameters from result/delaney-processed_curated_fit/NN_graphconv_scaffold_regression/7018bc25-5b13-47fe-b904-36ee622879b4/model/model-5248\n"
          ],
          "name": "stdout"
        },
        {
          "output_type": "stream",
          "text": [
            "2020-09-21 13:17:48,164 Restoring parameters from result/delaney-processed_curated_fit/NN_graphconv_scaffold_regression/7018bc25-5b13-47fe-b904-36ee622879b4/model/model-5248\n"
          ],
          "name": "stderr"
        },
        {
          "output_type": "stream",
          "text": [
            "INFO:tensorflow:Restoring parameters from result/delaney-processed_curated_fit/NN_graphconv_scaffold_regression/7018bc25-5b13-47fe-b904-36ee622879b4/model/model-5264\n"
          ],
          "name": "stdout"
        },
        {
          "output_type": "stream",
          "text": [
            "2020-09-21 13:17:56,183 Restoring parameters from result/delaney-processed_curated_fit/NN_graphconv_scaffold_regression/7018bc25-5b13-47fe-b904-36ee622879b4/model/model-5264\n"
          ],
          "name": "stderr"
        },
        {
          "output_type": "stream",
          "text": [
            "INFO:tensorflow:Restoring parameters from result/delaney-processed_curated_fit/NN_graphconv_scaffold_regression/7018bc25-5b13-47fe-b904-36ee622879b4/model/model-5280\n"
          ],
          "name": "stdout"
        },
        {
          "output_type": "stream",
          "text": [
            "2020-09-21 13:18:04,187 Restoring parameters from result/delaney-processed_curated_fit/NN_graphconv_scaffold_regression/7018bc25-5b13-47fe-b904-36ee622879b4/model/model-5280\n"
          ],
          "name": "stderr"
        },
        {
          "output_type": "stream",
          "text": [
            "INFO:tensorflow:Restoring parameters from result/delaney-processed_curated_fit/NN_graphconv_scaffold_regression/7018bc25-5b13-47fe-b904-36ee622879b4/model/model-5296\n"
          ],
          "name": "stdout"
        },
        {
          "output_type": "stream",
          "text": [
            "2020-09-21 13:18:12,304 Restoring parameters from result/delaney-processed_curated_fit/NN_graphconv_scaffold_regression/7018bc25-5b13-47fe-b904-36ee622879b4/model/model-5296\n"
          ],
          "name": "stderr"
        },
        {
          "output_type": "stream",
          "text": [
            "INFO:tensorflow:Restoring parameters from result/delaney-processed_curated_fit/NN_graphconv_scaffold_regression/7018bc25-5b13-47fe-b904-36ee622879b4/model/model-5312\n"
          ],
          "name": "stdout"
        },
        {
          "output_type": "stream",
          "text": [
            "2020-09-21 13:18:21,300 Restoring parameters from result/delaney-processed_curated_fit/NN_graphconv_scaffold_regression/7018bc25-5b13-47fe-b904-36ee622879b4/model/model-5312\n"
          ],
          "name": "stderr"
        },
        {
          "output_type": "stream",
          "text": [
            "INFO:tensorflow:Restoring parameters from result/delaney-processed_curated_fit/NN_graphconv_scaffold_regression/7018bc25-5b13-47fe-b904-36ee622879b4/model/model-5328\n"
          ],
          "name": "stdout"
        },
        {
          "output_type": "stream",
          "text": [
            "2020-09-21 13:18:29,497 Restoring parameters from result/delaney-processed_curated_fit/NN_graphconv_scaffold_regression/7018bc25-5b13-47fe-b904-36ee622879b4/model/model-5328\n"
          ],
          "name": "stderr"
        },
        {
          "output_type": "stream",
          "text": [
            "INFO:tensorflow:Restoring parameters from result/delaney-processed_curated_fit/NN_graphconv_scaffold_regression/7018bc25-5b13-47fe-b904-36ee622879b4/model/model-5344\n"
          ],
          "name": "stdout"
        },
        {
          "output_type": "stream",
          "text": [
            "2020-09-21 13:18:37,769 Restoring parameters from result/delaney-processed_curated_fit/NN_graphconv_scaffold_regression/7018bc25-5b13-47fe-b904-36ee622879b4/model/model-5344\n"
          ],
          "name": "stderr"
        },
        {
          "output_type": "stream",
          "text": [
            "INFO:tensorflow:Restoring parameters from result/delaney-processed_curated_fit/NN_graphconv_scaffold_regression/7018bc25-5b13-47fe-b904-36ee622879b4/model/model-5360\n"
          ],
          "name": "stdout"
        },
        {
          "output_type": "stream",
          "text": [
            "2020-09-21 13:18:45,963 Restoring parameters from result/delaney-processed_curated_fit/NN_graphconv_scaffold_regression/7018bc25-5b13-47fe-b904-36ee622879b4/model/model-5360\n"
          ],
          "name": "stderr"
        },
        {
          "output_type": "stream",
          "text": [
            "INFO:tensorflow:Restoring parameters from result/delaney-processed_curated_fit/NN_graphconv_scaffold_regression/7018bc25-5b13-47fe-b904-36ee622879b4/model/model-5376\n"
          ],
          "name": "stdout"
        },
        {
          "output_type": "stream",
          "text": [
            "2020-09-21 13:18:54,130 Restoring parameters from result/delaney-processed_curated_fit/NN_graphconv_scaffold_regression/7018bc25-5b13-47fe-b904-36ee622879b4/model/model-5376\n"
          ],
          "name": "stderr"
        },
        {
          "output_type": "stream",
          "text": [
            "INFO:tensorflow:Restoring parameters from result/delaney-processed_curated_fit/NN_graphconv_scaffold_regression/7018bc25-5b13-47fe-b904-36ee622879b4/model/model-5392\n"
          ],
          "name": "stdout"
        },
        {
          "output_type": "stream",
          "text": [
            "2020-09-21 13:19:02,456 Restoring parameters from result/delaney-processed_curated_fit/NN_graphconv_scaffold_regression/7018bc25-5b13-47fe-b904-36ee622879b4/model/model-5392\n"
          ],
          "name": "stderr"
        },
        {
          "output_type": "stream",
          "text": [
            "INFO:tensorflow:Restoring parameters from result/delaney-processed_curated_fit/NN_graphconv_scaffold_regression/7018bc25-5b13-47fe-b904-36ee622879b4/model/model-5408\n"
          ],
          "name": "stdout"
        },
        {
          "output_type": "stream",
          "text": [
            "2020-09-21 13:19:10,804 Restoring parameters from result/delaney-processed_curated_fit/NN_graphconv_scaffold_regression/7018bc25-5b13-47fe-b904-36ee622879b4/model/model-5408\n"
          ],
          "name": "stderr"
        },
        {
          "output_type": "stream",
          "text": [
            "INFO:tensorflow:Restoring parameters from result/delaney-processed_curated_fit/NN_graphconv_scaffold_regression/7018bc25-5b13-47fe-b904-36ee622879b4/model/model-5424\n"
          ],
          "name": "stdout"
        },
        {
          "output_type": "stream",
          "text": [
            "2020-09-21 13:19:19,332 Restoring parameters from result/delaney-processed_curated_fit/NN_graphconv_scaffold_regression/7018bc25-5b13-47fe-b904-36ee622879b4/model/model-5424\n"
          ],
          "name": "stderr"
        },
        {
          "output_type": "stream",
          "text": [
            "INFO:tensorflow:Restoring parameters from result/delaney-processed_curated_fit/NN_graphconv_scaffold_regression/7018bc25-5b13-47fe-b904-36ee622879b4/model/model-5440\n"
          ],
          "name": "stdout"
        },
        {
          "output_type": "stream",
          "text": [
            "2020-09-21 13:19:28,080 Restoring parameters from result/delaney-processed_curated_fit/NN_graphconv_scaffold_regression/7018bc25-5b13-47fe-b904-36ee622879b4/model/model-5440\n"
          ],
          "name": "stderr"
        },
        {
          "output_type": "stream",
          "text": [
            "INFO:tensorflow:Restoring parameters from result/delaney-processed_curated_fit/NN_graphconv_scaffold_regression/7018bc25-5b13-47fe-b904-36ee622879b4/model/model-5456\n"
          ],
          "name": "stdout"
        },
        {
          "output_type": "stream",
          "text": [
            "2020-09-21 13:19:36,658 Restoring parameters from result/delaney-processed_curated_fit/NN_graphconv_scaffold_regression/7018bc25-5b13-47fe-b904-36ee622879b4/model/model-5456\n"
          ],
          "name": "stderr"
        },
        {
          "output_type": "stream",
          "text": [
            "INFO:tensorflow:Restoring parameters from result/delaney-processed_curated_fit/NN_graphconv_scaffold_regression/7018bc25-5b13-47fe-b904-36ee622879b4/model/model-5472\n"
          ],
          "name": "stdout"
        },
        {
          "output_type": "stream",
          "text": [
            "2020-09-21 13:19:45,861 Restoring parameters from result/delaney-processed_curated_fit/NN_graphconv_scaffold_regression/7018bc25-5b13-47fe-b904-36ee622879b4/model/model-5472\n"
          ],
          "name": "stderr"
        },
        {
          "output_type": "stream",
          "text": [
            "INFO:tensorflow:Restoring parameters from result/delaney-processed_curated_fit/NN_graphconv_scaffold_regression/7018bc25-5b13-47fe-b904-36ee622879b4/model/model-5488\n"
          ],
          "name": "stdout"
        },
        {
          "output_type": "stream",
          "text": [
            "2020-09-21 13:19:54,012 Restoring parameters from result/delaney-processed_curated_fit/NN_graphconv_scaffold_regression/7018bc25-5b13-47fe-b904-36ee622879b4/model/model-5488\n"
          ],
          "name": "stderr"
        },
        {
          "output_type": "stream",
          "text": [
            "INFO:tensorflow:Restoring parameters from result/delaney-processed_curated_fit/NN_graphconv_scaffold_regression/7018bc25-5b13-47fe-b904-36ee622879b4/model/model-5504\n"
          ],
          "name": "stdout"
        },
        {
          "output_type": "stream",
          "text": [
            "2020-09-21 13:20:02,423 Restoring parameters from result/delaney-processed_curated_fit/NN_graphconv_scaffold_regression/7018bc25-5b13-47fe-b904-36ee622879b4/model/model-5504\n"
          ],
          "name": "stderr"
        },
        {
          "output_type": "stream",
          "text": [
            "INFO:tensorflow:Restoring parameters from result/delaney-processed_curated_fit/NN_graphconv_scaffold_regression/7018bc25-5b13-47fe-b904-36ee622879b4/model/model-5520\n"
          ],
          "name": "stdout"
        },
        {
          "output_type": "stream",
          "text": [
            "2020-09-21 13:20:10,644 Restoring parameters from result/delaney-processed_curated_fit/NN_graphconv_scaffold_regression/7018bc25-5b13-47fe-b904-36ee622879b4/model/model-5520\n"
          ],
          "name": "stderr"
        },
        {
          "output_type": "stream",
          "text": [
            "INFO:tensorflow:Restoring parameters from result/delaney-processed_curated_fit/NN_graphconv_scaffold_regression/7018bc25-5b13-47fe-b904-36ee622879b4/model/model-5536\n"
          ],
          "name": "stdout"
        },
        {
          "output_type": "stream",
          "text": [
            "2020-09-21 13:20:18,855 Restoring parameters from result/delaney-processed_curated_fit/NN_graphconv_scaffold_regression/7018bc25-5b13-47fe-b904-36ee622879b4/model/model-5536\n"
          ],
          "name": "stderr"
        },
        {
          "output_type": "stream",
          "text": [
            "INFO:tensorflow:Restoring parameters from result/delaney-processed_curated_fit/NN_graphconv_scaffold_regression/7018bc25-5b13-47fe-b904-36ee622879b4/model/model-5552\n"
          ],
          "name": "stdout"
        },
        {
          "output_type": "stream",
          "text": [
            "2020-09-21 13:20:27,073 Restoring parameters from result/delaney-processed_curated_fit/NN_graphconv_scaffold_regression/7018bc25-5b13-47fe-b904-36ee622879b4/model/model-5552\n"
          ],
          "name": "stderr"
        },
        {
          "output_type": "stream",
          "text": [
            "INFO:tensorflow:Restoring parameters from result/delaney-processed_curated_fit/NN_graphconv_scaffold_regression/7018bc25-5b13-47fe-b904-36ee622879b4/model/model-5568\n"
          ],
          "name": "stdout"
        },
        {
          "output_type": "stream",
          "text": [
            "2020-09-21 13:20:35,365 Restoring parameters from result/delaney-processed_curated_fit/NN_graphconv_scaffold_regression/7018bc25-5b13-47fe-b904-36ee622879b4/model/model-5568\n"
          ],
          "name": "stderr"
        },
        {
          "output_type": "stream",
          "text": [
            "INFO:tensorflow:Restoring parameters from result/delaney-processed_curated_fit/NN_graphconv_scaffold_regression/7018bc25-5b13-47fe-b904-36ee622879b4/model/model-5584\n"
          ],
          "name": "stdout"
        },
        {
          "output_type": "stream",
          "text": [
            "2020-09-21 13:20:43,694 Restoring parameters from result/delaney-processed_curated_fit/NN_graphconv_scaffold_regression/7018bc25-5b13-47fe-b904-36ee622879b4/model/model-5584\n"
          ],
          "name": "stderr"
        },
        {
          "output_type": "stream",
          "text": [
            "INFO:tensorflow:Restoring parameters from result/delaney-processed_curated_fit/NN_graphconv_scaffold_regression/7018bc25-5b13-47fe-b904-36ee622879b4/model/model-5600\n"
          ],
          "name": "stdout"
        },
        {
          "output_type": "stream",
          "text": [
            "2020-09-21 13:20:52,357 Restoring parameters from result/delaney-processed_curated_fit/NN_graphconv_scaffold_regression/7018bc25-5b13-47fe-b904-36ee622879b4/model/model-5600\n"
          ],
          "name": "stderr"
        },
        {
          "output_type": "stream",
          "text": [
            "INFO:tensorflow:Restoring parameters from result/delaney-processed_curated_fit/NN_graphconv_scaffold_regression/7018bc25-5b13-47fe-b904-36ee622879b4/model/model-5616\n"
          ],
          "name": "stdout"
        },
        {
          "output_type": "stream",
          "text": [
            "2020-09-21 13:21:00,703 Restoring parameters from result/delaney-processed_curated_fit/NN_graphconv_scaffold_regression/7018bc25-5b13-47fe-b904-36ee622879b4/model/model-5616\n"
          ],
          "name": "stderr"
        },
        {
          "output_type": "stream",
          "text": [
            "INFO:tensorflow:Restoring parameters from result/delaney-processed_curated_fit/NN_graphconv_scaffold_regression/7018bc25-5b13-47fe-b904-36ee622879b4/model/model-5632\n"
          ],
          "name": "stdout"
        },
        {
          "output_type": "stream",
          "text": [
            "2020-09-21 13:21:09,304 Restoring parameters from result/delaney-processed_curated_fit/NN_graphconv_scaffold_regression/7018bc25-5b13-47fe-b904-36ee622879b4/model/model-5632\n"
          ],
          "name": "stderr"
        },
        {
          "output_type": "stream",
          "text": [
            "INFO:tensorflow:Restoring parameters from result/delaney-processed_curated_fit/NN_graphconv_scaffold_regression/7018bc25-5b13-47fe-b904-36ee622879b4/model/model-5648\n"
          ],
          "name": "stdout"
        },
        {
          "output_type": "stream",
          "text": [
            "2020-09-21 13:21:18,422 Restoring parameters from result/delaney-processed_curated_fit/NN_graphconv_scaffold_regression/7018bc25-5b13-47fe-b904-36ee622879b4/model/model-5648\n"
          ],
          "name": "stderr"
        },
        {
          "output_type": "stream",
          "text": [
            "INFO:tensorflow:Restoring parameters from result/delaney-processed_curated_fit/NN_graphconv_scaffold_regression/7018bc25-5b13-47fe-b904-36ee622879b4/model/model-5664\n"
          ],
          "name": "stdout"
        },
        {
          "output_type": "stream",
          "text": [
            "2020-09-21 13:21:27,340 Restoring parameters from result/delaney-processed_curated_fit/NN_graphconv_scaffold_regression/7018bc25-5b13-47fe-b904-36ee622879b4/model/model-5664\n"
          ],
          "name": "stderr"
        },
        {
          "output_type": "stream",
          "text": [
            "INFO:tensorflow:Restoring parameters from result/delaney-processed_curated_fit/NN_graphconv_scaffold_regression/7018bc25-5b13-47fe-b904-36ee622879b4/model/model-5680\n"
          ],
          "name": "stdout"
        },
        {
          "output_type": "stream",
          "text": [
            "2020-09-21 13:21:35,875 Restoring parameters from result/delaney-processed_curated_fit/NN_graphconv_scaffold_regression/7018bc25-5b13-47fe-b904-36ee622879b4/model/model-5680\n"
          ],
          "name": "stderr"
        },
        {
          "output_type": "stream",
          "text": [
            "INFO:tensorflow:Restoring parameters from result/delaney-processed_curated_fit/NN_graphconv_scaffold_regression/7018bc25-5b13-47fe-b904-36ee622879b4/model/model-5696\n"
          ],
          "name": "stdout"
        },
        {
          "output_type": "stream",
          "text": [
            "2020-09-21 13:21:44,446 Restoring parameters from result/delaney-processed_curated_fit/NN_graphconv_scaffold_regression/7018bc25-5b13-47fe-b904-36ee622879b4/model/model-5696\n"
          ],
          "name": "stderr"
        },
        {
          "output_type": "stream",
          "text": [
            "INFO:tensorflow:Restoring parameters from result/delaney-processed_curated_fit/NN_graphconv_scaffold_regression/7018bc25-5b13-47fe-b904-36ee622879b4/model/model-5712\n"
          ],
          "name": "stdout"
        },
        {
          "output_type": "stream",
          "text": [
            "2020-09-21 13:21:53,038 Restoring parameters from result/delaney-processed_curated_fit/NN_graphconv_scaffold_regression/7018bc25-5b13-47fe-b904-36ee622879b4/model/model-5712\n"
          ],
          "name": "stderr"
        },
        {
          "output_type": "stream",
          "text": [
            "INFO:tensorflow:Restoring parameters from result/delaney-processed_curated_fit/NN_graphconv_scaffold_regression/7018bc25-5b13-47fe-b904-36ee622879b4/model/model-5728\n"
          ],
          "name": "stdout"
        },
        {
          "output_type": "stream",
          "text": [
            "2020-09-21 13:22:01,739 Restoring parameters from result/delaney-processed_curated_fit/NN_graphconv_scaffold_regression/7018bc25-5b13-47fe-b904-36ee622879b4/model/model-5728\n"
          ],
          "name": "stderr"
        },
        {
          "output_type": "stream",
          "text": [
            "INFO:tensorflow:Restoring parameters from result/delaney-processed_curated_fit/NN_graphconv_scaffold_regression/7018bc25-5b13-47fe-b904-36ee622879b4/model/model-5744\n"
          ],
          "name": "stdout"
        },
        {
          "output_type": "stream",
          "text": [
            "2020-09-21 13:22:10,699 Restoring parameters from result/delaney-processed_curated_fit/NN_graphconv_scaffold_regression/7018bc25-5b13-47fe-b904-36ee622879b4/model/model-5744\n"
          ],
          "name": "stderr"
        },
        {
          "output_type": "stream",
          "text": [
            "INFO:tensorflow:Restoring parameters from result/delaney-processed_curated_fit/NN_graphconv_scaffold_regression/7018bc25-5b13-47fe-b904-36ee622879b4/model/model-5760\n"
          ],
          "name": "stdout"
        },
        {
          "output_type": "stream",
          "text": [
            "2020-09-21 13:22:19,324 Restoring parameters from result/delaney-processed_curated_fit/NN_graphconv_scaffold_regression/7018bc25-5b13-47fe-b904-36ee622879b4/model/model-5760\n"
          ],
          "name": "stderr"
        },
        {
          "output_type": "stream",
          "text": [
            "INFO:tensorflow:Restoring parameters from result/delaney-processed_curated_fit/NN_graphconv_scaffold_regression/7018bc25-5b13-47fe-b904-36ee622879b4/model/model-5776\n"
          ],
          "name": "stdout"
        },
        {
          "output_type": "stream",
          "text": [
            "2020-09-21 13:22:27,757 Restoring parameters from result/delaney-processed_curated_fit/NN_graphconv_scaffold_regression/7018bc25-5b13-47fe-b904-36ee622879b4/model/model-5776\n"
          ],
          "name": "stderr"
        },
        {
          "output_type": "stream",
          "text": [
            "INFO:tensorflow:Restoring parameters from result/delaney-processed_curated_fit/NN_graphconv_scaffold_regression/7018bc25-5b13-47fe-b904-36ee622879b4/model/model-5792\n"
          ],
          "name": "stdout"
        },
        {
          "output_type": "stream",
          "text": [
            "2020-09-21 13:22:36,288 Restoring parameters from result/delaney-processed_curated_fit/NN_graphconv_scaffold_regression/7018bc25-5b13-47fe-b904-36ee622879b4/model/model-5792\n"
          ],
          "name": "stderr"
        },
        {
          "output_type": "stream",
          "text": [
            "INFO:tensorflow:Restoring parameters from result/delaney-processed_curated_fit/NN_graphconv_scaffold_regression/7018bc25-5b13-47fe-b904-36ee622879b4/model/model-5808\n"
          ],
          "name": "stdout"
        },
        {
          "output_type": "stream",
          "text": [
            "2020-09-21 13:22:44,814 Restoring parameters from result/delaney-processed_curated_fit/NN_graphconv_scaffold_regression/7018bc25-5b13-47fe-b904-36ee622879b4/model/model-5808\n"
          ],
          "name": "stderr"
        },
        {
          "output_type": "stream",
          "text": [
            "INFO:tensorflow:Restoring parameters from result/delaney-processed_curated_fit/NN_graphconv_scaffold_regression/7018bc25-5b13-47fe-b904-36ee622879b4/model/model-5824\n"
          ],
          "name": "stdout"
        },
        {
          "output_type": "stream",
          "text": [
            "2020-09-21 13:22:54,293 Restoring parameters from result/delaney-processed_curated_fit/NN_graphconv_scaffold_regression/7018bc25-5b13-47fe-b904-36ee622879b4/model/model-5824\n"
          ],
          "name": "stderr"
        },
        {
          "output_type": "stream",
          "text": [
            "INFO:tensorflow:Restoring parameters from result/delaney-processed_curated_fit/NN_graphconv_scaffold_regression/7018bc25-5b13-47fe-b904-36ee622879b4/model/model-5840\n"
          ],
          "name": "stdout"
        },
        {
          "output_type": "stream",
          "text": [
            "2020-09-21 13:23:02,960 Restoring parameters from result/delaney-processed_curated_fit/NN_graphconv_scaffold_regression/7018bc25-5b13-47fe-b904-36ee622879b4/model/model-5840\n"
          ],
          "name": "stderr"
        },
        {
          "output_type": "stream",
          "text": [
            "INFO:tensorflow:Restoring parameters from result/delaney-processed_curated_fit/NN_graphconv_scaffold_regression/7018bc25-5b13-47fe-b904-36ee622879b4/model/model-5856\n"
          ],
          "name": "stdout"
        },
        {
          "output_type": "stream",
          "text": [
            "2020-09-21 13:23:11,491 Restoring parameters from result/delaney-processed_curated_fit/NN_graphconv_scaffold_regression/7018bc25-5b13-47fe-b904-36ee622879b4/model/model-5856\n"
          ],
          "name": "stderr"
        },
        {
          "output_type": "stream",
          "text": [
            "INFO:tensorflow:Restoring parameters from result/delaney-processed_curated_fit/NN_graphconv_scaffold_regression/7018bc25-5b13-47fe-b904-36ee622879b4/model/model-5872\n"
          ],
          "name": "stdout"
        },
        {
          "output_type": "stream",
          "text": [
            "2020-09-21 13:23:20,028 Restoring parameters from result/delaney-processed_curated_fit/NN_graphconv_scaffold_regression/7018bc25-5b13-47fe-b904-36ee622879b4/model/model-5872\n"
          ],
          "name": "stderr"
        },
        {
          "output_type": "stream",
          "text": [
            "INFO:tensorflow:Restoring parameters from result/delaney-processed_curated_fit/NN_graphconv_scaffold_regression/7018bc25-5b13-47fe-b904-36ee622879b4/model/model-5888\n"
          ],
          "name": "stdout"
        },
        {
          "output_type": "stream",
          "text": [
            "2020-09-21 13:23:28,666 Restoring parameters from result/delaney-processed_curated_fit/NN_graphconv_scaffold_regression/7018bc25-5b13-47fe-b904-36ee622879b4/model/model-5888\n"
          ],
          "name": "stderr"
        },
        {
          "output_type": "stream",
          "text": [
            "INFO:tensorflow:Restoring parameters from result/delaney-processed_curated_fit/NN_graphconv_scaffold_regression/7018bc25-5b13-47fe-b904-36ee622879b4/model/model-5904\n"
          ],
          "name": "stdout"
        },
        {
          "output_type": "stream",
          "text": [
            "2020-09-21 13:23:37,298 Restoring parameters from result/delaney-processed_curated_fit/NN_graphconv_scaffold_regression/7018bc25-5b13-47fe-b904-36ee622879b4/model/model-5904\n"
          ],
          "name": "stderr"
        },
        {
          "output_type": "stream",
          "text": [
            "INFO:tensorflow:Restoring parameters from result/delaney-processed_curated_fit/NN_graphconv_scaffold_regression/7018bc25-5b13-47fe-b904-36ee622879b4/model/model-5920\n"
          ],
          "name": "stdout"
        },
        {
          "output_type": "stream",
          "text": [
            "2020-09-21 13:23:45,937 Restoring parameters from result/delaney-processed_curated_fit/NN_graphconv_scaffold_regression/7018bc25-5b13-47fe-b904-36ee622879b4/model/model-5920\n"
          ],
          "name": "stderr"
        },
        {
          "output_type": "stream",
          "text": [
            "INFO:tensorflow:Restoring parameters from result/delaney-processed_curated_fit/NN_graphconv_scaffold_regression/7018bc25-5b13-47fe-b904-36ee622879b4/model/model-5936\n"
          ],
          "name": "stdout"
        },
        {
          "output_type": "stream",
          "text": [
            "2020-09-21 13:23:54,486 Restoring parameters from result/delaney-processed_curated_fit/NN_graphconv_scaffold_regression/7018bc25-5b13-47fe-b904-36ee622879b4/model/model-5936\n"
          ],
          "name": "stderr"
        },
        {
          "output_type": "stream",
          "text": [
            "INFO:tensorflow:Restoring parameters from result/delaney-processed_curated_fit/NN_graphconv_scaffold_regression/7018bc25-5b13-47fe-b904-36ee622879b4/model/model-5952\n"
          ],
          "name": "stdout"
        },
        {
          "output_type": "stream",
          "text": [
            "2020-09-21 13:24:03,246 Restoring parameters from result/delaney-processed_curated_fit/NN_graphconv_scaffold_regression/7018bc25-5b13-47fe-b904-36ee622879b4/model/model-5952\n"
          ],
          "name": "stderr"
        },
        {
          "output_type": "stream",
          "text": [
            "INFO:tensorflow:Restoring parameters from result/delaney-processed_curated_fit/NN_graphconv_scaffold_regression/7018bc25-5b13-47fe-b904-36ee622879b4/model/model-5968\n"
          ],
          "name": "stdout"
        },
        {
          "output_type": "stream",
          "text": [
            "2020-09-21 13:24:11,970 Restoring parameters from result/delaney-processed_curated_fit/NN_graphconv_scaffold_regression/7018bc25-5b13-47fe-b904-36ee622879b4/model/model-5968\n"
          ],
          "name": "stderr"
        },
        {
          "output_type": "stream",
          "text": [
            "INFO:tensorflow:Restoring parameters from result/delaney-processed_curated_fit/NN_graphconv_scaffold_regression/7018bc25-5b13-47fe-b904-36ee622879b4/model/model-5984\n"
          ],
          "name": "stdout"
        },
        {
          "output_type": "stream",
          "text": [
            "2020-09-21 13:24:20,863 Restoring parameters from result/delaney-processed_curated_fit/NN_graphconv_scaffold_regression/7018bc25-5b13-47fe-b904-36ee622879b4/model/model-5984\n"
          ],
          "name": "stderr"
        },
        {
          "output_type": "stream",
          "text": [
            "INFO:tensorflow:Restoring parameters from result/delaney-processed_curated_fit/NN_graphconv_scaffold_regression/7018bc25-5b13-47fe-b904-36ee622879b4/model/model-6000\n"
          ],
          "name": "stdout"
        },
        {
          "output_type": "stream",
          "text": [
            "2020-09-21 13:24:34,105 Restoring parameters from result/delaney-processed_curated_fit/NN_graphconv_scaffold_regression/7018bc25-5b13-47fe-b904-36ee622879b4/model/model-6000\n"
          ],
          "name": "stderr"
        },
        {
          "output_type": "stream",
          "text": [
            "INFO:tensorflow:Restoring parameters from result/delaney-processed_curated_fit/NN_graphconv_scaffold_regression/7018bc25-5b13-47fe-b904-36ee622879b4/model/model-6016\n"
          ],
          "name": "stdout"
        },
        {
          "output_type": "stream",
          "text": [
            "2020-09-21 13:24:42,874 Restoring parameters from result/delaney-processed_curated_fit/NN_graphconv_scaffold_regression/7018bc25-5b13-47fe-b904-36ee622879b4/model/model-6016\n"
          ],
          "name": "stderr"
        },
        {
          "output_type": "stream",
          "text": [
            "INFO:tensorflow:Restoring parameters from result/delaney-processed_curated_fit/NN_graphconv_scaffold_regression/7018bc25-5b13-47fe-b904-36ee622879b4/model/model-6032\n"
          ],
          "name": "stdout"
        },
        {
          "output_type": "stream",
          "text": [
            "2020-09-21 13:24:51,622 Restoring parameters from result/delaney-processed_curated_fit/NN_graphconv_scaffold_regression/7018bc25-5b13-47fe-b904-36ee622879b4/model/model-6032\n"
          ],
          "name": "stderr"
        },
        {
          "output_type": "stream",
          "text": [
            "INFO:tensorflow:Restoring parameters from result/delaney-processed_curated_fit/NN_graphconv_scaffold_regression/7018bc25-5b13-47fe-b904-36ee622879b4/model/model-6048\n"
          ],
          "name": "stdout"
        },
        {
          "output_type": "stream",
          "text": [
            "2020-09-21 13:25:00,362 Restoring parameters from result/delaney-processed_curated_fit/NN_graphconv_scaffold_regression/7018bc25-5b13-47fe-b904-36ee622879b4/model/model-6048\n"
          ],
          "name": "stderr"
        },
        {
          "output_type": "stream",
          "text": [
            "INFO:tensorflow:Restoring parameters from result/delaney-processed_curated_fit/NN_graphconv_scaffold_regression/7018bc25-5b13-47fe-b904-36ee622879b4/model/model-6064\n"
          ],
          "name": "stdout"
        },
        {
          "output_type": "stream",
          "text": [
            "2020-09-21 13:25:09,245 Restoring parameters from result/delaney-processed_curated_fit/NN_graphconv_scaffold_regression/7018bc25-5b13-47fe-b904-36ee622879b4/model/model-6064\n"
          ],
          "name": "stderr"
        },
        {
          "output_type": "stream",
          "text": [
            "INFO:tensorflow:Restoring parameters from result/delaney-processed_curated_fit/NN_graphconv_scaffold_regression/7018bc25-5b13-47fe-b904-36ee622879b4/model/model-6080\n"
          ],
          "name": "stdout"
        },
        {
          "output_type": "stream",
          "text": [
            "2020-09-21 13:25:17,973 Restoring parameters from result/delaney-processed_curated_fit/NN_graphconv_scaffold_regression/7018bc25-5b13-47fe-b904-36ee622879b4/model/model-6080\n"
          ],
          "name": "stderr"
        },
        {
          "output_type": "stream",
          "text": [
            "INFO:tensorflow:Restoring parameters from result/delaney-processed_curated_fit/NN_graphconv_scaffold_regression/7018bc25-5b13-47fe-b904-36ee622879b4/model/model-6096\n"
          ],
          "name": "stdout"
        },
        {
          "output_type": "stream",
          "text": [
            "2020-09-21 13:25:27,002 Restoring parameters from result/delaney-processed_curated_fit/NN_graphconv_scaffold_regression/7018bc25-5b13-47fe-b904-36ee622879b4/model/model-6096\n"
          ],
          "name": "stderr"
        },
        {
          "output_type": "stream",
          "text": [
            "INFO:tensorflow:Restoring parameters from result/delaney-processed_curated_fit/NN_graphconv_scaffold_regression/7018bc25-5b13-47fe-b904-36ee622879b4/model/model-6112\n"
          ],
          "name": "stdout"
        },
        {
          "output_type": "stream",
          "text": [
            "2020-09-21 13:25:36,088 Restoring parameters from result/delaney-processed_curated_fit/NN_graphconv_scaffold_regression/7018bc25-5b13-47fe-b904-36ee622879b4/model/model-6112\n"
          ],
          "name": "stderr"
        },
        {
          "output_type": "stream",
          "text": [
            "INFO:tensorflow:Restoring parameters from result/delaney-processed_curated_fit/NN_graphconv_scaffold_regression/7018bc25-5b13-47fe-b904-36ee622879b4/model/model-6128\n"
          ],
          "name": "stdout"
        },
        {
          "output_type": "stream",
          "text": [
            "2020-09-21 13:25:45,100 Restoring parameters from result/delaney-processed_curated_fit/NN_graphconv_scaffold_regression/7018bc25-5b13-47fe-b904-36ee622879b4/model/model-6128\n"
          ],
          "name": "stderr"
        },
        {
          "output_type": "stream",
          "text": [
            "INFO:tensorflow:Restoring parameters from result/delaney-processed_curated_fit/NN_graphconv_scaffold_regression/7018bc25-5b13-47fe-b904-36ee622879b4/model/model-6144\n"
          ],
          "name": "stdout"
        },
        {
          "output_type": "stream",
          "text": [
            "2020-09-21 13:25:54,116 Restoring parameters from result/delaney-processed_curated_fit/NN_graphconv_scaffold_regression/7018bc25-5b13-47fe-b904-36ee622879b4/model/model-6144\n"
          ],
          "name": "stderr"
        },
        {
          "output_type": "stream",
          "text": [
            "INFO:tensorflow:Restoring parameters from result/delaney-processed_curated_fit/NN_graphconv_scaffold_regression/7018bc25-5b13-47fe-b904-36ee622879b4/model/model-6160\n"
          ],
          "name": "stdout"
        },
        {
          "output_type": "stream",
          "text": [
            "2020-09-21 13:26:03,119 Restoring parameters from result/delaney-processed_curated_fit/NN_graphconv_scaffold_regression/7018bc25-5b13-47fe-b904-36ee622879b4/model/model-6160\n"
          ],
          "name": "stderr"
        },
        {
          "output_type": "stream",
          "text": [
            "INFO:tensorflow:Restoring parameters from result/delaney-processed_curated_fit/NN_graphconv_scaffold_regression/7018bc25-5b13-47fe-b904-36ee622879b4/model/model-6176\n"
          ],
          "name": "stdout"
        },
        {
          "output_type": "stream",
          "text": [
            "2020-09-21 13:26:13,269 Restoring parameters from result/delaney-processed_curated_fit/NN_graphconv_scaffold_regression/7018bc25-5b13-47fe-b904-36ee622879b4/model/model-6176\n"
          ],
          "name": "stderr"
        },
        {
          "output_type": "stream",
          "text": [
            "INFO:tensorflow:Restoring parameters from result/delaney-processed_curated_fit/NN_graphconv_scaffold_regression/7018bc25-5b13-47fe-b904-36ee622879b4/model/model-6192\n"
          ],
          "name": "stdout"
        },
        {
          "output_type": "stream",
          "text": [
            "2020-09-21 13:26:22,180 Restoring parameters from result/delaney-processed_curated_fit/NN_graphconv_scaffold_regression/7018bc25-5b13-47fe-b904-36ee622879b4/model/model-6192\n"
          ],
          "name": "stderr"
        },
        {
          "output_type": "stream",
          "text": [
            "INFO:tensorflow:Restoring parameters from result/delaney-processed_curated_fit/NN_graphconv_scaffold_regression/7018bc25-5b13-47fe-b904-36ee622879b4/model/model-6208\n"
          ],
          "name": "stdout"
        },
        {
          "output_type": "stream",
          "text": [
            "2020-09-21 13:26:31,164 Restoring parameters from result/delaney-processed_curated_fit/NN_graphconv_scaffold_regression/7018bc25-5b13-47fe-b904-36ee622879b4/model/model-6208\n"
          ],
          "name": "stderr"
        },
        {
          "output_type": "stream",
          "text": [
            "INFO:tensorflow:Restoring parameters from result/delaney-processed_curated_fit/NN_graphconv_scaffold_regression/7018bc25-5b13-47fe-b904-36ee622879b4/model/model-6224\n"
          ],
          "name": "stdout"
        },
        {
          "output_type": "stream",
          "text": [
            "2020-09-21 13:26:40,124 Restoring parameters from result/delaney-processed_curated_fit/NN_graphconv_scaffold_regression/7018bc25-5b13-47fe-b904-36ee622879b4/model/model-6224\n"
          ],
          "name": "stderr"
        },
        {
          "output_type": "stream",
          "text": [
            "INFO:tensorflow:Restoring parameters from result/delaney-processed_curated_fit/NN_graphconv_scaffold_regression/7018bc25-5b13-47fe-b904-36ee622879b4/model/model-6240\n"
          ],
          "name": "stdout"
        },
        {
          "output_type": "stream",
          "text": [
            "2020-09-21 13:26:49,282 Restoring parameters from result/delaney-processed_curated_fit/NN_graphconv_scaffold_regression/7018bc25-5b13-47fe-b904-36ee622879b4/model/model-6240\n"
          ],
          "name": "stderr"
        },
        {
          "output_type": "stream",
          "text": [
            "INFO:tensorflow:Restoring parameters from result/delaney-processed_curated_fit/NN_graphconv_scaffold_regression/7018bc25-5b13-47fe-b904-36ee622879b4/model/model-6256\n"
          ],
          "name": "stdout"
        },
        {
          "output_type": "stream",
          "text": [
            "2020-09-21 13:26:58,371 Restoring parameters from result/delaney-processed_curated_fit/NN_graphconv_scaffold_regression/7018bc25-5b13-47fe-b904-36ee622879b4/model/model-6256\n"
          ],
          "name": "stderr"
        },
        {
          "output_type": "stream",
          "text": [
            "INFO:tensorflow:Restoring parameters from result/delaney-processed_curated_fit/NN_graphconv_scaffold_regression/7018bc25-5b13-47fe-b904-36ee622879b4/model/model-6272\n"
          ],
          "name": "stdout"
        },
        {
          "output_type": "stream",
          "text": [
            "2020-09-21 13:27:07,261 Restoring parameters from result/delaney-processed_curated_fit/NN_graphconv_scaffold_regression/7018bc25-5b13-47fe-b904-36ee622879b4/model/model-6272\n"
          ],
          "name": "stderr"
        },
        {
          "output_type": "stream",
          "text": [
            "INFO:tensorflow:Restoring parameters from result/delaney-processed_curated_fit/NN_graphconv_scaffold_regression/7018bc25-5b13-47fe-b904-36ee622879b4/model/model-6288\n"
          ],
          "name": "stdout"
        },
        {
          "output_type": "stream",
          "text": [
            "2020-09-21 13:27:16,483 Restoring parameters from result/delaney-processed_curated_fit/NN_graphconv_scaffold_regression/7018bc25-5b13-47fe-b904-36ee622879b4/model/model-6288\n"
          ],
          "name": "stderr"
        },
        {
          "output_type": "stream",
          "text": [
            "INFO:tensorflow:Restoring parameters from result/delaney-processed_curated_fit/NN_graphconv_scaffold_regression/7018bc25-5b13-47fe-b904-36ee622879b4/model/model-6304\n"
          ],
          "name": "stdout"
        },
        {
          "output_type": "stream",
          "text": [
            "2020-09-21 13:27:25,709 Restoring parameters from result/delaney-processed_curated_fit/NN_graphconv_scaffold_regression/7018bc25-5b13-47fe-b904-36ee622879b4/model/model-6304\n"
          ],
          "name": "stderr"
        },
        {
          "output_type": "stream",
          "text": [
            "INFO:tensorflow:Restoring parameters from result/delaney-processed_curated_fit/NN_graphconv_scaffold_regression/7018bc25-5b13-47fe-b904-36ee622879b4/model/model-6320\n"
          ],
          "name": "stdout"
        },
        {
          "output_type": "stream",
          "text": [
            "2020-09-21 13:27:34,897 Restoring parameters from result/delaney-processed_curated_fit/NN_graphconv_scaffold_regression/7018bc25-5b13-47fe-b904-36ee622879b4/model/model-6320\n"
          ],
          "name": "stderr"
        },
        {
          "output_type": "stream",
          "text": [
            "INFO:tensorflow:Restoring parameters from result/delaney-processed_curated_fit/NN_graphconv_scaffold_regression/7018bc25-5b13-47fe-b904-36ee622879b4/model/model-6336\n"
          ],
          "name": "stdout"
        },
        {
          "output_type": "stream",
          "text": [
            "2020-09-21 13:27:44,003 Restoring parameters from result/delaney-processed_curated_fit/NN_graphconv_scaffold_regression/7018bc25-5b13-47fe-b904-36ee622879b4/model/model-6336\n"
          ],
          "name": "stderr"
        },
        {
          "output_type": "stream",
          "text": [
            "INFO:tensorflow:Restoring parameters from result/delaney-processed_curated_fit/NN_graphconv_scaffold_regression/7018bc25-5b13-47fe-b904-36ee622879b4/model/model-6352\n"
          ],
          "name": "stdout"
        },
        {
          "output_type": "stream",
          "text": [
            "2020-09-21 13:27:53,076 Restoring parameters from result/delaney-processed_curated_fit/NN_graphconv_scaffold_regression/7018bc25-5b13-47fe-b904-36ee622879b4/model/model-6352\n"
          ],
          "name": "stderr"
        },
        {
          "output_type": "stream",
          "text": [
            "INFO:tensorflow:Restoring parameters from result/delaney-processed_curated_fit/NN_graphconv_scaffold_regression/7018bc25-5b13-47fe-b904-36ee622879b4/model/model-6368\n"
          ],
          "name": "stdout"
        },
        {
          "output_type": "stream",
          "text": [
            "2020-09-21 13:28:03,152 Restoring parameters from result/delaney-processed_curated_fit/NN_graphconv_scaffold_regression/7018bc25-5b13-47fe-b904-36ee622879b4/model/model-6368\n"
          ],
          "name": "stderr"
        },
        {
          "output_type": "stream",
          "text": [
            "INFO:tensorflow:Restoring parameters from result/delaney-processed_curated_fit/NN_graphconv_scaffold_regression/7018bc25-5b13-47fe-b904-36ee622879b4/model/model-6384\n"
          ],
          "name": "stdout"
        },
        {
          "output_type": "stream",
          "text": [
            "2020-09-21 13:28:12,264 Restoring parameters from result/delaney-processed_curated_fit/NN_graphconv_scaffold_regression/7018bc25-5b13-47fe-b904-36ee622879b4/model/model-6384\n"
          ],
          "name": "stderr"
        },
        {
          "output_type": "stream",
          "text": [
            "INFO:tensorflow:Restoring parameters from result/delaney-processed_curated_fit/NN_graphconv_scaffold_regression/7018bc25-5b13-47fe-b904-36ee622879b4/model/model-6400\n"
          ],
          "name": "stdout"
        },
        {
          "output_type": "stream",
          "text": [
            "2020-09-21 13:28:21,400 Restoring parameters from result/delaney-processed_curated_fit/NN_graphconv_scaffold_regression/7018bc25-5b13-47fe-b904-36ee622879b4/model/model-6400\n"
          ],
          "name": "stderr"
        },
        {
          "output_type": "stream",
          "text": [
            "INFO:tensorflow:Restoring parameters from result/delaney-processed_curated_fit/NN_graphconv_scaffold_regression/7018bc25-5b13-47fe-b904-36ee622879b4/model/model-6416\n"
          ],
          "name": "stdout"
        },
        {
          "output_type": "stream",
          "text": [
            "2020-09-21 13:28:30,625 Restoring parameters from result/delaney-processed_curated_fit/NN_graphconv_scaffold_regression/7018bc25-5b13-47fe-b904-36ee622879b4/model/model-6416\n"
          ],
          "name": "stderr"
        },
        {
          "output_type": "stream",
          "text": [
            "INFO:tensorflow:Restoring parameters from result/delaney-processed_curated_fit/NN_graphconv_scaffold_regression/7018bc25-5b13-47fe-b904-36ee622879b4/model/model-6432\n"
          ],
          "name": "stdout"
        },
        {
          "output_type": "stream",
          "text": [
            "2020-09-21 13:28:39,971 Restoring parameters from result/delaney-processed_curated_fit/NN_graphconv_scaffold_regression/7018bc25-5b13-47fe-b904-36ee622879b4/model/model-6432\n"
          ],
          "name": "stderr"
        },
        {
          "output_type": "stream",
          "text": [
            "INFO:tensorflow:Restoring parameters from result/delaney-processed_curated_fit/NN_graphconv_scaffold_regression/7018bc25-5b13-47fe-b904-36ee622879b4/model/model-6448\n"
          ],
          "name": "stdout"
        },
        {
          "output_type": "stream",
          "text": [
            "2020-09-21 13:28:49,211 Restoring parameters from result/delaney-processed_curated_fit/NN_graphconv_scaffold_regression/7018bc25-5b13-47fe-b904-36ee622879b4/model/model-6448\n"
          ],
          "name": "stderr"
        },
        {
          "output_type": "stream",
          "text": [
            "INFO:tensorflow:Restoring parameters from result/delaney-processed_curated_fit/NN_graphconv_scaffold_regression/7018bc25-5b13-47fe-b904-36ee622879b4/model/model-6464\n"
          ],
          "name": "stdout"
        },
        {
          "output_type": "stream",
          "text": [
            "2020-09-21 13:28:58,396 Restoring parameters from result/delaney-processed_curated_fit/NN_graphconv_scaffold_regression/7018bc25-5b13-47fe-b904-36ee622879b4/model/model-6464\n"
          ],
          "name": "stderr"
        },
        {
          "output_type": "stream",
          "text": [
            "INFO:tensorflow:Restoring parameters from result/delaney-processed_curated_fit/NN_graphconv_scaffold_regression/7018bc25-5b13-47fe-b904-36ee622879b4/model/model-6480\n"
          ],
          "name": "stdout"
        },
        {
          "output_type": "stream",
          "text": [
            "2020-09-21 13:29:07,526 Restoring parameters from result/delaney-processed_curated_fit/NN_graphconv_scaffold_regression/7018bc25-5b13-47fe-b904-36ee622879b4/model/model-6480\n"
          ],
          "name": "stderr"
        },
        {
          "output_type": "stream",
          "text": [
            "INFO:tensorflow:Restoring parameters from result/delaney-processed_curated_fit/NN_graphconv_scaffold_regression/7018bc25-5b13-47fe-b904-36ee622879b4/model/model-6496\n"
          ],
          "name": "stdout"
        },
        {
          "output_type": "stream",
          "text": [
            "2020-09-21 13:29:16,892 Restoring parameters from result/delaney-processed_curated_fit/NN_graphconv_scaffold_regression/7018bc25-5b13-47fe-b904-36ee622879b4/model/model-6496\n"
          ],
          "name": "stderr"
        },
        {
          "output_type": "stream",
          "text": [
            "INFO:tensorflow:Restoring parameters from result/delaney-processed_curated_fit/NN_graphconv_scaffold_regression/7018bc25-5b13-47fe-b904-36ee622879b4/model/model-6512\n"
          ],
          "name": "stdout"
        },
        {
          "output_type": "stream",
          "text": [
            "2020-09-21 13:29:26,266 Restoring parameters from result/delaney-processed_curated_fit/NN_graphconv_scaffold_regression/7018bc25-5b13-47fe-b904-36ee622879b4/model/model-6512\n"
          ],
          "name": "stderr"
        },
        {
          "output_type": "stream",
          "text": [
            "INFO:tensorflow:Restoring parameters from result/delaney-processed_curated_fit/NN_graphconv_scaffold_regression/7018bc25-5b13-47fe-b904-36ee622879b4/model/model-6528\n"
          ],
          "name": "stdout"
        },
        {
          "output_type": "stream",
          "text": [
            "2020-09-21 13:29:35,630 Restoring parameters from result/delaney-processed_curated_fit/NN_graphconv_scaffold_regression/7018bc25-5b13-47fe-b904-36ee622879b4/model/model-6528\n"
          ],
          "name": "stderr"
        },
        {
          "output_type": "stream",
          "text": [
            "INFO:tensorflow:Restoring parameters from result/delaney-processed_curated_fit/NN_graphconv_scaffold_regression/7018bc25-5b13-47fe-b904-36ee622879b4/model/model-6544\n"
          ],
          "name": "stdout"
        },
        {
          "output_type": "stream",
          "text": [
            "2020-09-21 13:29:45,001 Restoring parameters from result/delaney-processed_curated_fit/NN_graphconv_scaffold_regression/7018bc25-5b13-47fe-b904-36ee622879b4/model/model-6544\n"
          ],
          "name": "stderr"
        },
        {
          "output_type": "stream",
          "text": [
            "INFO:tensorflow:Restoring parameters from result/delaney-processed_curated_fit/NN_graphconv_scaffold_regression/7018bc25-5b13-47fe-b904-36ee622879b4/model/model-6560\n"
          ],
          "name": "stdout"
        },
        {
          "output_type": "stream",
          "text": [
            "2020-09-21 13:29:55,296 Restoring parameters from result/delaney-processed_curated_fit/NN_graphconv_scaffold_regression/7018bc25-5b13-47fe-b904-36ee622879b4/model/model-6560\n"
          ],
          "name": "stderr"
        },
        {
          "output_type": "stream",
          "text": [
            "INFO:tensorflow:Restoring parameters from result/delaney-processed_curated_fit/NN_graphconv_scaffold_regression/7018bc25-5b13-47fe-b904-36ee622879b4/model/model-6576\n"
          ],
          "name": "stdout"
        },
        {
          "output_type": "stream",
          "text": [
            "2020-09-21 13:30:04,638 Restoring parameters from result/delaney-processed_curated_fit/NN_graphconv_scaffold_regression/7018bc25-5b13-47fe-b904-36ee622879b4/model/model-6576\n"
          ],
          "name": "stderr"
        },
        {
          "output_type": "stream",
          "text": [
            "INFO:tensorflow:Restoring parameters from result/delaney-processed_curated_fit/NN_graphconv_scaffold_regression/7018bc25-5b13-47fe-b904-36ee622879b4/model/model-6592\n"
          ],
          "name": "stdout"
        },
        {
          "output_type": "stream",
          "text": [
            "2020-09-21 13:30:14,174 Restoring parameters from result/delaney-processed_curated_fit/NN_graphconv_scaffold_regression/7018bc25-5b13-47fe-b904-36ee622879b4/model/model-6592\n"
          ],
          "name": "stderr"
        },
        {
          "output_type": "stream",
          "text": [
            "INFO:tensorflow:Restoring parameters from result/delaney-processed_curated_fit/NN_graphconv_scaffold_regression/7018bc25-5b13-47fe-b904-36ee622879b4/model/model-6608\n"
          ],
          "name": "stdout"
        },
        {
          "output_type": "stream",
          "text": [
            "2020-09-21 13:30:23,560 Restoring parameters from result/delaney-processed_curated_fit/NN_graphconv_scaffold_regression/7018bc25-5b13-47fe-b904-36ee622879b4/model/model-6608\n"
          ],
          "name": "stderr"
        },
        {
          "output_type": "stream",
          "text": [
            "INFO:tensorflow:Restoring parameters from result/delaney-processed_curated_fit/NN_graphconv_scaffold_regression/7018bc25-5b13-47fe-b904-36ee622879b4/model/model-6624\n"
          ],
          "name": "stdout"
        },
        {
          "output_type": "stream",
          "text": [
            "2020-09-21 13:30:32,967 Restoring parameters from result/delaney-processed_curated_fit/NN_graphconv_scaffold_regression/7018bc25-5b13-47fe-b904-36ee622879b4/model/model-6624\n"
          ],
          "name": "stderr"
        },
        {
          "output_type": "stream",
          "text": [
            "INFO:tensorflow:Restoring parameters from result/delaney-processed_curated_fit/NN_graphconv_scaffold_regression/7018bc25-5b13-47fe-b904-36ee622879b4/model/model-6640\n"
          ],
          "name": "stdout"
        },
        {
          "output_type": "stream",
          "text": [
            "2020-09-21 13:30:42,404 Restoring parameters from result/delaney-processed_curated_fit/NN_graphconv_scaffold_regression/7018bc25-5b13-47fe-b904-36ee622879b4/model/model-6640\n"
          ],
          "name": "stderr"
        },
        {
          "output_type": "stream",
          "text": [
            "INFO:tensorflow:Restoring parameters from result/delaney-processed_curated_fit/NN_graphconv_scaffold_regression/7018bc25-5b13-47fe-b904-36ee622879b4/model/model-6656\n"
          ],
          "name": "stdout"
        },
        {
          "output_type": "stream",
          "text": [
            "2020-09-21 13:30:51,832 Restoring parameters from result/delaney-processed_curated_fit/NN_graphconv_scaffold_regression/7018bc25-5b13-47fe-b904-36ee622879b4/model/model-6656\n"
          ],
          "name": "stderr"
        },
        {
          "output_type": "stream",
          "text": [
            "INFO:tensorflow:Restoring parameters from result/delaney-processed_curated_fit/NN_graphconv_scaffold_regression/7018bc25-5b13-47fe-b904-36ee622879b4/model/model-6672\n"
          ],
          "name": "stdout"
        },
        {
          "output_type": "stream",
          "text": [
            "2020-09-21 13:31:01,434 Restoring parameters from result/delaney-processed_curated_fit/NN_graphconv_scaffold_regression/7018bc25-5b13-47fe-b904-36ee622879b4/model/model-6672\n"
          ],
          "name": "stderr"
        },
        {
          "output_type": "stream",
          "text": [
            "INFO:tensorflow:Restoring parameters from result/delaney-processed_curated_fit/NN_graphconv_scaffold_regression/7018bc25-5b13-47fe-b904-36ee622879b4/model/model-6688\n"
          ],
          "name": "stdout"
        },
        {
          "output_type": "stream",
          "text": [
            "2020-09-21 13:31:10,984 Restoring parameters from result/delaney-processed_curated_fit/NN_graphconv_scaffold_regression/7018bc25-5b13-47fe-b904-36ee622879b4/model/model-6688\n"
          ],
          "name": "stderr"
        },
        {
          "output_type": "stream",
          "text": [
            "INFO:tensorflow:Restoring parameters from result/delaney-processed_curated_fit/NN_graphconv_scaffold_regression/7018bc25-5b13-47fe-b904-36ee622879b4/model/model-6704\n"
          ],
          "name": "stdout"
        },
        {
          "output_type": "stream",
          "text": [
            "2020-09-21 13:31:20,785 Restoring parameters from result/delaney-processed_curated_fit/NN_graphconv_scaffold_regression/7018bc25-5b13-47fe-b904-36ee622879b4/model/model-6704\n"
          ],
          "name": "stderr"
        },
        {
          "output_type": "stream",
          "text": [
            "INFO:tensorflow:Restoring parameters from result/delaney-processed_curated_fit/NN_graphconv_scaffold_regression/7018bc25-5b13-47fe-b904-36ee622879b4/model/model-6720\n"
          ],
          "name": "stdout"
        },
        {
          "output_type": "stream",
          "text": [
            "2020-09-21 13:31:30,687 Restoring parameters from result/delaney-processed_curated_fit/NN_graphconv_scaffold_regression/7018bc25-5b13-47fe-b904-36ee622879b4/model/model-6720\n"
          ],
          "name": "stderr"
        },
        {
          "output_type": "stream",
          "text": [
            "INFO:tensorflow:Restoring parameters from result/delaney-processed_curated_fit/NN_graphconv_scaffold_regression/7018bc25-5b13-47fe-b904-36ee622879b4/model/model-6736\n"
          ],
          "name": "stdout"
        },
        {
          "output_type": "stream",
          "text": [
            "2020-09-21 13:31:40,384 Restoring parameters from result/delaney-processed_curated_fit/NN_graphconv_scaffold_regression/7018bc25-5b13-47fe-b904-36ee622879b4/model/model-6736\n"
          ],
          "name": "stderr"
        },
        {
          "output_type": "stream",
          "text": [
            "INFO:tensorflow:Restoring parameters from result/delaney-processed_curated_fit/NN_graphconv_scaffold_regression/7018bc25-5b13-47fe-b904-36ee622879b4/model/model-6752\n"
          ],
          "name": "stdout"
        },
        {
          "output_type": "stream",
          "text": [
            "2020-09-21 13:31:51,698 Restoring parameters from result/delaney-processed_curated_fit/NN_graphconv_scaffold_regression/7018bc25-5b13-47fe-b904-36ee622879b4/model/model-6752\n"
          ],
          "name": "stderr"
        },
        {
          "output_type": "stream",
          "text": [
            "INFO:tensorflow:Restoring parameters from result/delaney-processed_curated_fit/NN_graphconv_scaffold_regression/7018bc25-5b13-47fe-b904-36ee622879b4/model/model-6768\n"
          ],
          "name": "stdout"
        },
        {
          "output_type": "stream",
          "text": [
            "2020-09-21 13:32:01,830 Restoring parameters from result/delaney-processed_curated_fit/NN_graphconv_scaffold_regression/7018bc25-5b13-47fe-b904-36ee622879b4/model/model-6768\n"
          ],
          "name": "stderr"
        },
        {
          "output_type": "stream",
          "text": [
            "INFO:tensorflow:Restoring parameters from result/delaney-processed_curated_fit/NN_graphconv_scaffold_regression/7018bc25-5b13-47fe-b904-36ee622879b4/model/model-6784\n"
          ],
          "name": "stdout"
        },
        {
          "output_type": "stream",
          "text": [
            "2020-09-21 13:32:11,770 Restoring parameters from result/delaney-processed_curated_fit/NN_graphconv_scaffold_regression/7018bc25-5b13-47fe-b904-36ee622879b4/model/model-6784\n"
          ],
          "name": "stderr"
        },
        {
          "output_type": "stream",
          "text": [
            "INFO:tensorflow:Restoring parameters from result/delaney-processed_curated_fit/NN_graphconv_scaffold_regression/7018bc25-5b13-47fe-b904-36ee622879b4/model/model-6800\n"
          ],
          "name": "stdout"
        },
        {
          "output_type": "stream",
          "text": [
            "2020-09-21 13:32:21,760 Restoring parameters from result/delaney-processed_curated_fit/NN_graphconv_scaffold_regression/7018bc25-5b13-47fe-b904-36ee622879b4/model/model-6800\n"
          ],
          "name": "stderr"
        },
        {
          "output_type": "stream",
          "text": [
            "INFO:tensorflow:Restoring parameters from result/delaney-processed_curated_fit/NN_graphconv_scaffold_regression/7018bc25-5b13-47fe-b904-36ee622879b4/model/model-6816\n"
          ],
          "name": "stdout"
        },
        {
          "output_type": "stream",
          "text": [
            "2020-09-21 13:32:31,683 Restoring parameters from result/delaney-processed_curated_fit/NN_graphconv_scaffold_regression/7018bc25-5b13-47fe-b904-36ee622879b4/model/model-6816\n"
          ],
          "name": "stderr"
        },
        {
          "output_type": "stream",
          "text": [
            "INFO:tensorflow:Restoring parameters from result/delaney-processed_curated_fit/NN_graphconv_scaffold_regression/7018bc25-5b13-47fe-b904-36ee622879b4/model/model-6832\n"
          ],
          "name": "stdout"
        },
        {
          "output_type": "stream",
          "text": [
            "2020-09-21 13:32:42,491 Restoring parameters from result/delaney-processed_curated_fit/NN_graphconv_scaffold_regression/7018bc25-5b13-47fe-b904-36ee622879b4/model/model-6832\n"
          ],
          "name": "stderr"
        },
        {
          "output_type": "stream",
          "text": [
            "INFO:tensorflow:Restoring parameters from result/delaney-processed_curated_fit/NN_graphconv_scaffold_regression/7018bc25-5b13-47fe-b904-36ee622879b4/model/model-6848\n"
          ],
          "name": "stdout"
        },
        {
          "output_type": "stream",
          "text": [
            "2020-09-21 13:32:52,491 Restoring parameters from result/delaney-processed_curated_fit/NN_graphconv_scaffold_regression/7018bc25-5b13-47fe-b904-36ee622879b4/model/model-6848\n"
          ],
          "name": "stderr"
        },
        {
          "output_type": "stream",
          "text": [
            "INFO:tensorflow:Restoring parameters from result/delaney-processed_curated_fit/NN_graphconv_scaffold_regression/7018bc25-5b13-47fe-b904-36ee622879b4/model/model-6864\n"
          ],
          "name": "stdout"
        },
        {
          "output_type": "stream",
          "text": [
            "2020-09-21 13:33:02,523 Restoring parameters from result/delaney-processed_curated_fit/NN_graphconv_scaffold_regression/7018bc25-5b13-47fe-b904-36ee622879b4/model/model-6864\n"
          ],
          "name": "stderr"
        },
        {
          "output_type": "stream",
          "text": [
            "INFO:tensorflow:Restoring parameters from result/delaney-processed_curated_fit/NN_graphconv_scaffold_regression/7018bc25-5b13-47fe-b904-36ee622879b4/model/model-6880\n"
          ],
          "name": "stdout"
        },
        {
          "output_type": "stream",
          "text": [
            "2020-09-21 13:33:12,786 Restoring parameters from result/delaney-processed_curated_fit/NN_graphconv_scaffold_regression/7018bc25-5b13-47fe-b904-36ee622879b4/model/model-6880\n"
          ],
          "name": "stderr"
        },
        {
          "output_type": "stream",
          "text": [
            "INFO:tensorflow:Restoring parameters from result/delaney-processed_curated_fit/NN_graphconv_scaffold_regression/7018bc25-5b13-47fe-b904-36ee622879b4/model/model-6896\n"
          ],
          "name": "stdout"
        },
        {
          "output_type": "stream",
          "text": [
            "2020-09-21 13:33:22,804 Restoring parameters from result/delaney-processed_curated_fit/NN_graphconv_scaffold_regression/7018bc25-5b13-47fe-b904-36ee622879b4/model/model-6896\n"
          ],
          "name": "stderr"
        },
        {
          "output_type": "stream",
          "text": [
            "INFO:tensorflow:Restoring parameters from result/delaney-processed_curated_fit/NN_graphconv_scaffold_regression/7018bc25-5b13-47fe-b904-36ee622879b4/model/model-6912\n"
          ],
          "name": "stdout"
        },
        {
          "output_type": "stream",
          "text": [
            "2020-09-21 13:33:32,681 Restoring parameters from result/delaney-processed_curated_fit/NN_graphconv_scaffold_regression/7018bc25-5b13-47fe-b904-36ee622879b4/model/model-6912\n"
          ],
          "name": "stderr"
        },
        {
          "output_type": "stream",
          "text": [
            "INFO:tensorflow:Restoring parameters from result/delaney-processed_curated_fit/NN_graphconv_scaffold_regression/7018bc25-5b13-47fe-b904-36ee622879b4/model/model-6928\n"
          ],
          "name": "stdout"
        },
        {
          "output_type": "stream",
          "text": [
            "2020-09-21 13:33:42,964 Restoring parameters from result/delaney-processed_curated_fit/NN_graphconv_scaffold_regression/7018bc25-5b13-47fe-b904-36ee622879b4/model/model-6928\n"
          ],
          "name": "stderr"
        },
        {
          "output_type": "stream",
          "text": [
            "INFO:tensorflow:Restoring parameters from result/delaney-processed_curated_fit/NN_graphconv_scaffold_regression/7018bc25-5b13-47fe-b904-36ee622879b4/model/model-6944\n"
          ],
          "name": "stdout"
        },
        {
          "output_type": "stream",
          "text": [
            "2020-09-21 13:33:53,340 Restoring parameters from result/delaney-processed_curated_fit/NN_graphconv_scaffold_regression/7018bc25-5b13-47fe-b904-36ee622879b4/model/model-6944\n"
          ],
          "name": "stderr"
        },
        {
          "output_type": "stream",
          "text": [
            "INFO:tensorflow:Restoring parameters from result/delaney-processed_curated_fit/NN_graphconv_scaffold_regression/7018bc25-5b13-47fe-b904-36ee622879b4/model/model-6960\n"
          ],
          "name": "stdout"
        },
        {
          "output_type": "stream",
          "text": [
            "2020-09-21 13:34:04,616 Restoring parameters from result/delaney-processed_curated_fit/NN_graphconv_scaffold_regression/7018bc25-5b13-47fe-b904-36ee622879b4/model/model-6960\n"
          ],
          "name": "stderr"
        },
        {
          "output_type": "stream",
          "text": [
            "INFO:tensorflow:Restoring parameters from result/delaney-processed_curated_fit/NN_graphconv_scaffold_regression/7018bc25-5b13-47fe-b904-36ee622879b4/model/model-6976\n"
          ],
          "name": "stdout"
        },
        {
          "output_type": "stream",
          "text": [
            "2020-09-21 13:34:14,888 Restoring parameters from result/delaney-processed_curated_fit/NN_graphconv_scaffold_regression/7018bc25-5b13-47fe-b904-36ee622879b4/model/model-6976\n"
          ],
          "name": "stderr"
        },
        {
          "output_type": "stream",
          "text": [
            "INFO:tensorflow:Restoring parameters from result/delaney-processed_curated_fit/NN_graphconv_scaffold_regression/7018bc25-5b13-47fe-b904-36ee622879b4/model/model-6992\n"
          ],
          "name": "stdout"
        },
        {
          "output_type": "stream",
          "text": [
            "2020-09-21 13:34:25,504 Restoring parameters from result/delaney-processed_curated_fit/NN_graphconv_scaffold_regression/7018bc25-5b13-47fe-b904-36ee622879b4/model/model-6992\n"
          ],
          "name": "stderr"
        },
        {
          "output_type": "stream",
          "text": [
            "INFO:tensorflow:Restoring parameters from result/delaney-processed_curated_fit/NN_graphconv_scaffold_regression/7018bc25-5b13-47fe-b904-36ee622879b4/model/model-7008\n"
          ],
          "name": "stdout"
        },
        {
          "output_type": "stream",
          "text": [
            "2020-09-21 13:34:40,807 Restoring parameters from result/delaney-processed_curated_fit/NN_graphconv_scaffold_regression/7018bc25-5b13-47fe-b904-36ee622879b4/model/model-7008\n"
          ],
          "name": "stderr"
        },
        {
          "output_type": "stream",
          "text": [
            "INFO:tensorflow:Restoring parameters from result/delaney-processed_curated_fit/NN_graphconv_scaffold_regression/7018bc25-5b13-47fe-b904-36ee622879b4/model/model-7024\n"
          ],
          "name": "stdout"
        },
        {
          "output_type": "stream",
          "text": [
            "2020-09-21 13:34:51,045 Restoring parameters from result/delaney-processed_curated_fit/NN_graphconv_scaffold_regression/7018bc25-5b13-47fe-b904-36ee622879b4/model/model-7024\n"
          ],
          "name": "stderr"
        },
        {
          "output_type": "stream",
          "text": [
            "INFO:tensorflow:Restoring parameters from result/delaney-processed_curated_fit/NN_graphconv_scaffold_regression/7018bc25-5b13-47fe-b904-36ee622879b4/model/model-7040\n"
          ],
          "name": "stdout"
        },
        {
          "output_type": "stream",
          "text": [
            "2020-09-21 13:35:01,253 Restoring parameters from result/delaney-processed_curated_fit/NN_graphconv_scaffold_regression/7018bc25-5b13-47fe-b904-36ee622879b4/model/model-7040\n"
          ],
          "name": "stderr"
        },
        {
          "output_type": "stream",
          "text": [
            "INFO:tensorflow:Restoring parameters from result/delaney-processed_curated_fit/NN_graphconv_scaffold_regression/7018bc25-5b13-47fe-b904-36ee622879b4/model/model-7056\n"
          ],
          "name": "stdout"
        },
        {
          "output_type": "stream",
          "text": [
            "2020-09-21 13:35:11,255 Restoring parameters from result/delaney-processed_curated_fit/NN_graphconv_scaffold_regression/7018bc25-5b13-47fe-b904-36ee622879b4/model/model-7056\n"
          ],
          "name": "stderr"
        },
        {
          "output_type": "stream",
          "text": [
            "INFO:tensorflow:Restoring parameters from result/delaney-processed_curated_fit/NN_graphconv_scaffold_regression/7018bc25-5b13-47fe-b904-36ee622879b4/model/model-7072\n"
          ],
          "name": "stdout"
        },
        {
          "output_type": "stream",
          "text": [
            "2020-09-21 13:35:21,301 Restoring parameters from result/delaney-processed_curated_fit/NN_graphconv_scaffold_regression/7018bc25-5b13-47fe-b904-36ee622879b4/model/model-7072\n"
          ],
          "name": "stderr"
        },
        {
          "output_type": "stream",
          "text": [
            "INFO:tensorflow:Restoring parameters from result/delaney-processed_curated_fit/NN_graphconv_scaffold_regression/7018bc25-5b13-47fe-b904-36ee622879b4/model/model-7088\n"
          ],
          "name": "stdout"
        },
        {
          "output_type": "stream",
          "text": [
            "2020-09-21 13:35:31,772 Restoring parameters from result/delaney-processed_curated_fit/NN_graphconv_scaffold_regression/7018bc25-5b13-47fe-b904-36ee622879b4/model/model-7088\n"
          ],
          "name": "stderr"
        },
        {
          "output_type": "stream",
          "text": [
            "INFO:tensorflow:Restoring parameters from result/delaney-processed_curated_fit/NN_graphconv_scaffold_regression/7018bc25-5b13-47fe-b904-36ee622879b4/model/model-7104\n"
          ],
          "name": "stdout"
        },
        {
          "output_type": "stream",
          "text": [
            "2020-09-21 13:35:41,830 Restoring parameters from result/delaney-processed_curated_fit/NN_graphconv_scaffold_regression/7018bc25-5b13-47fe-b904-36ee622879b4/model/model-7104\n"
          ],
          "name": "stderr"
        },
        {
          "output_type": "stream",
          "text": [
            "INFO:tensorflow:Restoring parameters from result/delaney-processed_curated_fit/NN_graphconv_scaffold_regression/7018bc25-5b13-47fe-b904-36ee622879b4/model/model-7120\n"
          ],
          "name": "stdout"
        },
        {
          "output_type": "stream",
          "text": [
            "2020-09-21 13:35:51,974 Restoring parameters from result/delaney-processed_curated_fit/NN_graphconv_scaffold_regression/7018bc25-5b13-47fe-b904-36ee622879b4/model/model-7120\n"
          ],
          "name": "stderr"
        },
        {
          "output_type": "stream",
          "text": [
            "INFO:tensorflow:Restoring parameters from result/delaney-processed_curated_fit/NN_graphconv_scaffold_regression/7018bc25-5b13-47fe-b904-36ee622879b4/model/model-7136\n"
          ],
          "name": "stdout"
        },
        {
          "output_type": "stream",
          "text": [
            "2020-09-21 13:36:02,548 Restoring parameters from result/delaney-processed_curated_fit/NN_graphconv_scaffold_regression/7018bc25-5b13-47fe-b904-36ee622879b4/model/model-7136\n"
          ],
          "name": "stderr"
        },
        {
          "output_type": "stream",
          "text": [
            "INFO:tensorflow:Restoring parameters from result/delaney-processed_curated_fit/NN_graphconv_scaffold_regression/7018bc25-5b13-47fe-b904-36ee622879b4/model/model-7152\n"
          ],
          "name": "stdout"
        },
        {
          "output_type": "stream",
          "text": [
            "2020-09-21 13:36:13,282 Restoring parameters from result/delaney-processed_curated_fit/NN_graphconv_scaffold_regression/7018bc25-5b13-47fe-b904-36ee622879b4/model/model-7152\n"
          ],
          "name": "stderr"
        },
        {
          "output_type": "stream",
          "text": [
            "INFO:tensorflow:Restoring parameters from result/delaney-processed_curated_fit/NN_graphconv_scaffold_regression/7018bc25-5b13-47fe-b904-36ee622879b4/model/model-7168\n"
          ],
          "name": "stdout"
        },
        {
          "output_type": "stream",
          "text": [
            "2020-09-21 13:36:25,158 Restoring parameters from result/delaney-processed_curated_fit/NN_graphconv_scaffold_regression/7018bc25-5b13-47fe-b904-36ee622879b4/model/model-7168\n"
          ],
          "name": "stderr"
        },
        {
          "output_type": "stream",
          "text": [
            "INFO:tensorflow:Restoring parameters from result/delaney-processed_curated_fit/NN_graphconv_scaffold_regression/7018bc25-5b13-47fe-b904-36ee622879b4/model/model-7184\n"
          ],
          "name": "stdout"
        },
        {
          "output_type": "stream",
          "text": [
            "2020-09-21 13:36:36,486 Restoring parameters from result/delaney-processed_curated_fit/NN_graphconv_scaffold_regression/7018bc25-5b13-47fe-b904-36ee622879b4/model/model-7184\n"
          ],
          "name": "stderr"
        },
        {
          "output_type": "stream",
          "text": [
            "INFO:tensorflow:Restoring parameters from result/delaney-processed_curated_fit/NN_graphconv_scaffold_regression/7018bc25-5b13-47fe-b904-36ee622879b4/model/model-7200\n"
          ],
          "name": "stdout"
        },
        {
          "output_type": "stream",
          "text": [
            "2020-09-21 13:36:47,626 Restoring parameters from result/delaney-processed_curated_fit/NN_graphconv_scaffold_regression/7018bc25-5b13-47fe-b904-36ee622879b4/model/model-7200\n"
          ],
          "name": "stderr"
        },
        {
          "output_type": "stream",
          "text": [
            "INFO:tensorflow:Restoring parameters from result/delaney-processed_curated_fit/NN_graphconv_scaffold_regression/7018bc25-5b13-47fe-b904-36ee622879b4/model/model-7216\n"
          ],
          "name": "stdout"
        },
        {
          "output_type": "stream",
          "text": [
            "2020-09-21 13:36:58,001 Restoring parameters from result/delaney-processed_curated_fit/NN_graphconv_scaffold_regression/7018bc25-5b13-47fe-b904-36ee622879b4/model/model-7216\n"
          ],
          "name": "stderr"
        },
        {
          "output_type": "stream",
          "text": [
            "INFO:tensorflow:Restoring parameters from result/delaney-processed_curated_fit/NN_graphconv_scaffold_regression/7018bc25-5b13-47fe-b904-36ee622879b4/model/model-7232\n"
          ],
          "name": "stdout"
        },
        {
          "output_type": "stream",
          "text": [
            "2020-09-21 13:37:08,360 Restoring parameters from result/delaney-processed_curated_fit/NN_graphconv_scaffold_regression/7018bc25-5b13-47fe-b904-36ee622879b4/model/model-7232\n"
          ],
          "name": "stderr"
        },
        {
          "output_type": "stream",
          "text": [
            "INFO:tensorflow:Restoring parameters from result/delaney-processed_curated_fit/NN_graphconv_scaffold_regression/7018bc25-5b13-47fe-b904-36ee622879b4/model/model-7248\n"
          ],
          "name": "stdout"
        },
        {
          "output_type": "stream",
          "text": [
            "2020-09-21 13:37:18,878 Restoring parameters from result/delaney-processed_curated_fit/NN_graphconv_scaffold_regression/7018bc25-5b13-47fe-b904-36ee622879b4/model/model-7248\n"
          ],
          "name": "stderr"
        },
        {
          "output_type": "stream",
          "text": [
            "INFO:tensorflow:Restoring parameters from result/delaney-processed_curated_fit/NN_graphconv_scaffold_regression/7018bc25-5b13-47fe-b904-36ee622879b4/model/model-7264\n"
          ],
          "name": "stdout"
        },
        {
          "output_type": "stream",
          "text": [
            "2020-09-21 13:37:29,716 Restoring parameters from result/delaney-processed_curated_fit/NN_graphconv_scaffold_regression/7018bc25-5b13-47fe-b904-36ee622879b4/model/model-7264\n"
          ],
          "name": "stderr"
        },
        {
          "output_type": "stream",
          "text": [
            "INFO:tensorflow:Restoring parameters from result/delaney-processed_curated_fit/NN_graphconv_scaffold_regression/7018bc25-5b13-47fe-b904-36ee622879b4/model/model-7280\n"
          ],
          "name": "stdout"
        },
        {
          "output_type": "stream",
          "text": [
            "2020-09-21 13:37:40,382 Restoring parameters from result/delaney-processed_curated_fit/NN_graphconv_scaffold_regression/7018bc25-5b13-47fe-b904-36ee622879b4/model/model-7280\n"
          ],
          "name": "stderr"
        },
        {
          "output_type": "stream",
          "text": [
            "INFO:tensorflow:Restoring parameters from result/delaney-processed_curated_fit/NN_graphconv_scaffold_regression/7018bc25-5b13-47fe-b904-36ee622879b4/model/model-7296\n"
          ],
          "name": "stdout"
        },
        {
          "output_type": "stream",
          "text": [
            "2020-09-21 13:37:50,795 Restoring parameters from result/delaney-processed_curated_fit/NN_graphconv_scaffold_regression/7018bc25-5b13-47fe-b904-36ee622879b4/model/model-7296\n"
          ],
          "name": "stderr"
        },
        {
          "output_type": "stream",
          "text": [
            "INFO:tensorflow:Restoring parameters from result/delaney-processed_curated_fit/NN_graphconv_scaffold_regression/7018bc25-5b13-47fe-b904-36ee622879b4/model/model-7312\n"
          ],
          "name": "stdout"
        },
        {
          "output_type": "stream",
          "text": [
            "2020-09-21 13:38:01,214 Restoring parameters from result/delaney-processed_curated_fit/NN_graphconv_scaffold_regression/7018bc25-5b13-47fe-b904-36ee622879b4/model/model-7312\n"
          ],
          "name": "stderr"
        },
        {
          "output_type": "stream",
          "text": [
            "INFO:tensorflow:Restoring parameters from result/delaney-processed_curated_fit/NN_graphconv_scaffold_regression/7018bc25-5b13-47fe-b904-36ee622879b4/model/model-7328\n"
          ],
          "name": "stdout"
        },
        {
          "output_type": "stream",
          "text": [
            "2020-09-21 13:38:11,876 Restoring parameters from result/delaney-processed_curated_fit/NN_graphconv_scaffold_regression/7018bc25-5b13-47fe-b904-36ee622879b4/model/model-7328\n"
          ],
          "name": "stderr"
        },
        {
          "output_type": "stream",
          "text": [
            "INFO:tensorflow:Restoring parameters from result/delaney-processed_curated_fit/NN_graphconv_scaffold_regression/7018bc25-5b13-47fe-b904-36ee622879b4/model/model-7344\n"
          ],
          "name": "stdout"
        },
        {
          "output_type": "stream",
          "text": [
            "2020-09-21 13:38:22,464 Restoring parameters from result/delaney-processed_curated_fit/NN_graphconv_scaffold_regression/7018bc25-5b13-47fe-b904-36ee622879b4/model/model-7344\n"
          ],
          "name": "stderr"
        },
        {
          "output_type": "stream",
          "text": [
            "INFO:tensorflow:Restoring parameters from result/delaney-processed_curated_fit/NN_graphconv_scaffold_regression/7018bc25-5b13-47fe-b904-36ee622879b4/model/model-7360\n"
          ],
          "name": "stdout"
        },
        {
          "output_type": "stream",
          "text": [
            "2020-09-21 13:38:33,562 Restoring parameters from result/delaney-processed_curated_fit/NN_graphconv_scaffold_regression/7018bc25-5b13-47fe-b904-36ee622879b4/model/model-7360\n"
          ],
          "name": "stderr"
        },
        {
          "output_type": "stream",
          "text": [
            "INFO:tensorflow:Restoring parameters from result/delaney-processed_curated_fit/NN_graphconv_scaffold_regression/7018bc25-5b13-47fe-b904-36ee622879b4/model/model-7376\n"
          ],
          "name": "stdout"
        },
        {
          "output_type": "stream",
          "text": [
            "2020-09-21 13:38:45,250 Restoring parameters from result/delaney-processed_curated_fit/NN_graphconv_scaffold_regression/7018bc25-5b13-47fe-b904-36ee622879b4/model/model-7376\n"
          ],
          "name": "stderr"
        },
        {
          "output_type": "stream",
          "text": [
            "INFO:tensorflow:Restoring parameters from result/delaney-processed_curated_fit/NN_graphconv_scaffold_regression/7018bc25-5b13-47fe-b904-36ee622879b4/model/model-7392\n"
          ],
          "name": "stdout"
        },
        {
          "output_type": "stream",
          "text": [
            "2020-09-21 13:38:55,868 Restoring parameters from result/delaney-processed_curated_fit/NN_graphconv_scaffold_regression/7018bc25-5b13-47fe-b904-36ee622879b4/model/model-7392\n"
          ],
          "name": "stderr"
        },
        {
          "output_type": "stream",
          "text": [
            "INFO:tensorflow:Restoring parameters from result/delaney-processed_curated_fit/NN_graphconv_scaffold_regression/7018bc25-5b13-47fe-b904-36ee622879b4/model/model-7408\n"
          ],
          "name": "stdout"
        },
        {
          "output_type": "stream",
          "text": [
            "2020-09-21 13:39:06,493 Restoring parameters from result/delaney-processed_curated_fit/NN_graphconv_scaffold_regression/7018bc25-5b13-47fe-b904-36ee622879b4/model/model-7408\n"
          ],
          "name": "stderr"
        },
        {
          "output_type": "stream",
          "text": [
            "INFO:tensorflow:Restoring parameters from result/delaney-processed_curated_fit/NN_graphconv_scaffold_regression/7018bc25-5b13-47fe-b904-36ee622879b4/model/model-7424\n"
          ],
          "name": "stdout"
        },
        {
          "output_type": "stream",
          "text": [
            "2020-09-21 13:39:17,220 Restoring parameters from result/delaney-processed_curated_fit/NN_graphconv_scaffold_regression/7018bc25-5b13-47fe-b904-36ee622879b4/model/model-7424\n"
          ],
          "name": "stderr"
        },
        {
          "output_type": "stream",
          "text": [
            "INFO:tensorflow:Restoring parameters from result/delaney-processed_curated_fit/NN_graphconv_scaffold_regression/7018bc25-5b13-47fe-b904-36ee622879b4/model/model-7440\n"
          ],
          "name": "stdout"
        },
        {
          "output_type": "stream",
          "text": [
            "2020-09-21 13:39:27,996 Restoring parameters from result/delaney-processed_curated_fit/NN_graphconv_scaffold_regression/7018bc25-5b13-47fe-b904-36ee622879b4/model/model-7440\n"
          ],
          "name": "stderr"
        },
        {
          "output_type": "stream",
          "text": [
            "INFO:tensorflow:Restoring parameters from result/delaney-processed_curated_fit/NN_graphconv_scaffold_regression/7018bc25-5b13-47fe-b904-36ee622879b4/model/model-7456\n"
          ],
          "name": "stdout"
        },
        {
          "output_type": "stream",
          "text": [
            "2020-09-21 13:39:39,191 Restoring parameters from result/delaney-processed_curated_fit/NN_graphconv_scaffold_regression/7018bc25-5b13-47fe-b904-36ee622879b4/model/model-7456\n"
          ],
          "name": "stderr"
        },
        {
          "output_type": "stream",
          "text": [
            "INFO:tensorflow:Restoring parameters from result/delaney-processed_curated_fit/NN_graphconv_scaffold_regression/7018bc25-5b13-47fe-b904-36ee622879b4/model/model-7472\n"
          ],
          "name": "stdout"
        },
        {
          "output_type": "stream",
          "text": [
            "2020-09-21 13:39:50,222 Restoring parameters from result/delaney-processed_curated_fit/NN_graphconv_scaffold_regression/7018bc25-5b13-47fe-b904-36ee622879b4/model/model-7472\n"
          ],
          "name": "stderr"
        },
        {
          "output_type": "stream",
          "text": [
            "INFO:tensorflow:Restoring parameters from result/delaney-processed_curated_fit/NN_graphconv_scaffold_regression/7018bc25-5b13-47fe-b904-36ee622879b4/model/model-7488\n"
          ],
          "name": "stdout"
        },
        {
          "output_type": "stream",
          "text": [
            "2020-09-21 13:40:01,641 Restoring parameters from result/delaney-processed_curated_fit/NN_graphconv_scaffold_regression/7018bc25-5b13-47fe-b904-36ee622879b4/model/model-7488\n"
          ],
          "name": "stderr"
        },
        {
          "output_type": "stream",
          "text": [
            "INFO:tensorflow:Restoring parameters from result/delaney-processed_curated_fit/NN_graphconv_scaffold_regression/7018bc25-5b13-47fe-b904-36ee622879b4/model/model-7504\n"
          ],
          "name": "stdout"
        },
        {
          "output_type": "stream",
          "text": [
            "2020-09-21 13:40:12,300 Restoring parameters from result/delaney-processed_curated_fit/NN_graphconv_scaffold_regression/7018bc25-5b13-47fe-b904-36ee622879b4/model/model-7504\n"
          ],
          "name": "stderr"
        },
        {
          "output_type": "stream",
          "text": [
            "INFO:tensorflow:Restoring parameters from result/delaney-processed_curated_fit/NN_graphconv_scaffold_regression/7018bc25-5b13-47fe-b904-36ee622879b4/model/model-7520\n"
          ],
          "name": "stdout"
        },
        {
          "output_type": "stream",
          "text": [
            "2020-09-21 13:40:23,277 Restoring parameters from result/delaney-processed_curated_fit/NN_graphconv_scaffold_regression/7018bc25-5b13-47fe-b904-36ee622879b4/model/model-7520\n"
          ],
          "name": "stderr"
        },
        {
          "output_type": "stream",
          "text": [
            "INFO:tensorflow:Restoring parameters from result/delaney-processed_curated_fit/NN_graphconv_scaffold_regression/7018bc25-5b13-47fe-b904-36ee622879b4/model/model-7536\n"
          ],
          "name": "stdout"
        },
        {
          "output_type": "stream",
          "text": [
            "2020-09-21 13:40:33,796 Restoring parameters from result/delaney-processed_curated_fit/NN_graphconv_scaffold_regression/7018bc25-5b13-47fe-b904-36ee622879b4/model/model-7536\n"
          ],
          "name": "stderr"
        },
        {
          "output_type": "stream",
          "text": [
            "INFO:tensorflow:Restoring parameters from result/delaney-processed_curated_fit/NN_graphconv_scaffold_regression/7018bc25-5b13-47fe-b904-36ee622879b4/model/model-7552\n"
          ],
          "name": "stdout"
        },
        {
          "output_type": "stream",
          "text": [
            "2020-09-21 13:40:45,041 Restoring parameters from result/delaney-processed_curated_fit/NN_graphconv_scaffold_regression/7018bc25-5b13-47fe-b904-36ee622879b4/model/model-7552\n"
          ],
          "name": "stderr"
        },
        {
          "output_type": "stream",
          "text": [
            "INFO:tensorflow:Restoring parameters from result/delaney-processed_curated_fit/NN_graphconv_scaffold_regression/7018bc25-5b13-47fe-b904-36ee622879b4/model/model-7568\n"
          ],
          "name": "stdout"
        },
        {
          "output_type": "stream",
          "text": [
            "2020-09-21 13:40:55,694 Restoring parameters from result/delaney-processed_curated_fit/NN_graphconv_scaffold_regression/7018bc25-5b13-47fe-b904-36ee622879b4/model/model-7568\n"
          ],
          "name": "stderr"
        },
        {
          "output_type": "stream",
          "text": [
            "INFO:tensorflow:Restoring parameters from result/delaney-processed_curated_fit/NN_graphconv_scaffold_regression/7018bc25-5b13-47fe-b904-36ee622879b4/model/model-7584\n"
          ],
          "name": "stdout"
        },
        {
          "output_type": "stream",
          "text": [
            "2020-09-21 13:41:06,477 Restoring parameters from result/delaney-processed_curated_fit/NN_graphconv_scaffold_regression/7018bc25-5b13-47fe-b904-36ee622879b4/model/model-7584\n"
          ],
          "name": "stderr"
        },
        {
          "output_type": "stream",
          "text": [
            "INFO:tensorflow:Restoring parameters from result/delaney-processed_curated_fit/NN_graphconv_scaffold_regression/7018bc25-5b13-47fe-b904-36ee622879b4/model/model-7600\n"
          ],
          "name": "stdout"
        },
        {
          "output_type": "stream",
          "text": [
            "2020-09-21 13:41:18,266 Restoring parameters from result/delaney-processed_curated_fit/NN_graphconv_scaffold_regression/7018bc25-5b13-47fe-b904-36ee622879b4/model/model-7600\n"
          ],
          "name": "stderr"
        },
        {
          "output_type": "stream",
          "text": [
            "INFO:tensorflow:Restoring parameters from result/delaney-processed_curated_fit/NN_graphconv_scaffold_regression/7018bc25-5b13-47fe-b904-36ee622879b4/model/model-7616\n"
          ],
          "name": "stdout"
        },
        {
          "output_type": "stream",
          "text": [
            "2020-09-21 13:41:28,841 Restoring parameters from result/delaney-processed_curated_fit/NN_graphconv_scaffold_regression/7018bc25-5b13-47fe-b904-36ee622879b4/model/model-7616\n"
          ],
          "name": "stderr"
        },
        {
          "output_type": "stream",
          "text": [
            "INFO:tensorflow:Restoring parameters from result/delaney-processed_curated_fit/NN_graphconv_scaffold_regression/7018bc25-5b13-47fe-b904-36ee622879b4/model/model-7632\n"
          ],
          "name": "stdout"
        },
        {
          "output_type": "stream",
          "text": [
            "2020-09-21 13:41:39,896 Restoring parameters from result/delaney-processed_curated_fit/NN_graphconv_scaffold_regression/7018bc25-5b13-47fe-b904-36ee622879b4/model/model-7632\n"
          ],
          "name": "stderr"
        },
        {
          "output_type": "stream",
          "text": [
            "INFO:tensorflow:Restoring parameters from result/delaney-processed_curated_fit/NN_graphconv_scaffold_regression/7018bc25-5b13-47fe-b904-36ee622879b4/model/model-7648\n"
          ],
          "name": "stdout"
        },
        {
          "output_type": "stream",
          "text": [
            "2020-09-21 13:41:50,957 Restoring parameters from result/delaney-processed_curated_fit/NN_graphconv_scaffold_regression/7018bc25-5b13-47fe-b904-36ee622879b4/model/model-7648\n"
          ],
          "name": "stderr"
        },
        {
          "output_type": "stream",
          "text": [
            "INFO:tensorflow:Restoring parameters from result/delaney-processed_curated_fit/NN_graphconv_scaffold_regression/7018bc25-5b13-47fe-b904-36ee622879b4/model/model-7664\n"
          ],
          "name": "stdout"
        },
        {
          "output_type": "stream",
          "text": [
            "2020-09-21 13:42:02,193 Restoring parameters from result/delaney-processed_curated_fit/NN_graphconv_scaffold_regression/7018bc25-5b13-47fe-b904-36ee622879b4/model/model-7664\n"
          ],
          "name": "stderr"
        },
        {
          "output_type": "stream",
          "text": [
            "INFO:tensorflow:Restoring parameters from result/delaney-processed_curated_fit/NN_graphconv_scaffold_regression/7018bc25-5b13-47fe-b904-36ee622879b4/model/model-7680\n"
          ],
          "name": "stdout"
        },
        {
          "output_type": "stream",
          "text": [
            "2020-09-21 13:42:13,222 Restoring parameters from result/delaney-processed_curated_fit/NN_graphconv_scaffold_regression/7018bc25-5b13-47fe-b904-36ee622879b4/model/model-7680\n"
          ],
          "name": "stderr"
        },
        {
          "output_type": "stream",
          "text": [
            "INFO:tensorflow:Restoring parameters from result/delaney-processed_curated_fit/NN_graphconv_scaffold_regression/7018bc25-5b13-47fe-b904-36ee622879b4/model/model-7696\n"
          ],
          "name": "stdout"
        },
        {
          "output_type": "stream",
          "text": [
            "2020-09-21 13:42:24,143 Restoring parameters from result/delaney-processed_curated_fit/NN_graphconv_scaffold_regression/7018bc25-5b13-47fe-b904-36ee622879b4/model/model-7696\n"
          ],
          "name": "stderr"
        },
        {
          "output_type": "stream",
          "text": [
            "INFO:tensorflow:Restoring parameters from result/delaney-processed_curated_fit/NN_graphconv_scaffold_regression/7018bc25-5b13-47fe-b904-36ee622879b4/model/model-7712\n"
          ],
          "name": "stdout"
        },
        {
          "output_type": "stream",
          "text": [
            "2020-09-21 13:42:35,277 Restoring parameters from result/delaney-processed_curated_fit/NN_graphconv_scaffold_regression/7018bc25-5b13-47fe-b904-36ee622879b4/model/model-7712\n"
          ],
          "name": "stderr"
        },
        {
          "output_type": "stream",
          "text": [
            "INFO:tensorflow:Restoring parameters from result/delaney-processed_curated_fit/NN_graphconv_scaffold_regression/7018bc25-5b13-47fe-b904-36ee622879b4/model/model-7728\n"
          ],
          "name": "stdout"
        },
        {
          "output_type": "stream",
          "text": [
            "2020-09-21 13:42:46,035 Restoring parameters from result/delaney-processed_curated_fit/NN_graphconv_scaffold_regression/7018bc25-5b13-47fe-b904-36ee622879b4/model/model-7728\n"
          ],
          "name": "stderr"
        },
        {
          "output_type": "stream",
          "text": [
            "INFO:tensorflow:Restoring parameters from result/delaney-processed_curated_fit/NN_graphconv_scaffold_regression/7018bc25-5b13-47fe-b904-36ee622879b4/model/model-7744\n"
          ],
          "name": "stdout"
        },
        {
          "output_type": "stream",
          "text": [
            "2020-09-21 13:42:56,977 Restoring parameters from result/delaney-processed_curated_fit/NN_graphconv_scaffold_regression/7018bc25-5b13-47fe-b904-36ee622879b4/model/model-7744\n"
          ],
          "name": "stderr"
        },
        {
          "output_type": "stream",
          "text": [
            "INFO:tensorflow:Restoring parameters from result/delaney-processed_curated_fit/NN_graphconv_scaffold_regression/7018bc25-5b13-47fe-b904-36ee622879b4/model/model-7760\n"
          ],
          "name": "stdout"
        },
        {
          "output_type": "stream",
          "text": [
            "2020-09-21 13:43:08,073 Restoring parameters from result/delaney-processed_curated_fit/NN_graphconv_scaffold_regression/7018bc25-5b13-47fe-b904-36ee622879b4/model/model-7760\n"
          ],
          "name": "stderr"
        },
        {
          "output_type": "stream",
          "text": [
            "INFO:tensorflow:Restoring parameters from result/delaney-processed_curated_fit/NN_graphconv_scaffold_regression/7018bc25-5b13-47fe-b904-36ee622879b4/model/model-7776\n"
          ],
          "name": "stdout"
        },
        {
          "output_type": "stream",
          "text": [
            "2020-09-21 13:43:19,778 Restoring parameters from result/delaney-processed_curated_fit/NN_graphconv_scaffold_regression/7018bc25-5b13-47fe-b904-36ee622879b4/model/model-7776\n"
          ],
          "name": "stderr"
        },
        {
          "output_type": "stream",
          "text": [
            "INFO:tensorflow:Restoring parameters from result/delaney-processed_curated_fit/NN_graphconv_scaffold_regression/7018bc25-5b13-47fe-b904-36ee622879b4/model/model-7792\n"
          ],
          "name": "stdout"
        },
        {
          "output_type": "stream",
          "text": [
            "2020-09-21 13:43:31,075 Restoring parameters from result/delaney-processed_curated_fit/NN_graphconv_scaffold_regression/7018bc25-5b13-47fe-b904-36ee622879b4/model/model-7792\n"
          ],
          "name": "stderr"
        },
        {
          "output_type": "stream",
          "text": [
            "INFO:tensorflow:Restoring parameters from result/delaney-processed_curated_fit/NN_graphconv_scaffold_regression/7018bc25-5b13-47fe-b904-36ee622879b4/model/model-7808\n"
          ],
          "name": "stdout"
        },
        {
          "output_type": "stream",
          "text": [
            "2020-09-21 13:43:42,107 Restoring parameters from result/delaney-processed_curated_fit/NN_graphconv_scaffold_regression/7018bc25-5b13-47fe-b904-36ee622879b4/model/model-7808\n"
          ],
          "name": "stderr"
        },
        {
          "output_type": "stream",
          "text": [
            "INFO:tensorflow:Restoring parameters from result/delaney-processed_curated_fit/NN_graphconv_scaffold_regression/7018bc25-5b13-47fe-b904-36ee622879b4/model/model-7824\n"
          ],
          "name": "stdout"
        },
        {
          "output_type": "stream",
          "text": [
            "2020-09-21 13:43:54,381 Restoring parameters from result/delaney-processed_curated_fit/NN_graphconv_scaffold_regression/7018bc25-5b13-47fe-b904-36ee622879b4/model/model-7824\n"
          ],
          "name": "stderr"
        },
        {
          "output_type": "stream",
          "text": [
            "INFO:tensorflow:Restoring parameters from result/delaney-processed_curated_fit/NN_graphconv_scaffold_regression/7018bc25-5b13-47fe-b904-36ee622879b4/model/model-7840\n"
          ],
          "name": "stdout"
        },
        {
          "output_type": "stream",
          "text": [
            "2020-09-21 13:44:05,672 Restoring parameters from result/delaney-processed_curated_fit/NN_graphconv_scaffold_regression/7018bc25-5b13-47fe-b904-36ee622879b4/model/model-7840\n"
          ],
          "name": "stderr"
        },
        {
          "output_type": "stream",
          "text": [
            "INFO:tensorflow:Restoring parameters from result/delaney-processed_curated_fit/NN_graphconv_scaffold_regression/7018bc25-5b13-47fe-b904-36ee622879b4/model/model-7856\n"
          ],
          "name": "stdout"
        },
        {
          "output_type": "stream",
          "text": [
            "2020-09-21 13:44:17,134 Restoring parameters from result/delaney-processed_curated_fit/NN_graphconv_scaffold_regression/7018bc25-5b13-47fe-b904-36ee622879b4/model/model-7856\n"
          ],
          "name": "stderr"
        },
        {
          "output_type": "stream",
          "text": [
            "INFO:tensorflow:Restoring parameters from result/delaney-processed_curated_fit/NN_graphconv_scaffold_regression/7018bc25-5b13-47fe-b904-36ee622879b4/model/model-7872\n"
          ],
          "name": "stdout"
        },
        {
          "output_type": "stream",
          "text": [
            "2020-09-21 13:44:28,373 Restoring parameters from result/delaney-processed_curated_fit/NN_graphconv_scaffold_regression/7018bc25-5b13-47fe-b904-36ee622879b4/model/model-7872\n"
          ],
          "name": "stderr"
        },
        {
          "output_type": "stream",
          "text": [
            "INFO:tensorflow:Restoring parameters from result/delaney-processed_curated_fit/NN_graphconv_scaffold_regression/7018bc25-5b13-47fe-b904-36ee622879b4/model/model-7888\n"
          ],
          "name": "stdout"
        },
        {
          "output_type": "stream",
          "text": [
            "2020-09-21 13:44:39,693 Restoring parameters from result/delaney-processed_curated_fit/NN_graphconv_scaffold_regression/7018bc25-5b13-47fe-b904-36ee622879b4/model/model-7888\n"
          ],
          "name": "stderr"
        },
        {
          "output_type": "stream",
          "text": [
            "INFO:tensorflow:Restoring parameters from result/delaney-processed_curated_fit/NN_graphconv_scaffold_regression/7018bc25-5b13-47fe-b904-36ee622879b4/model/model-7904\n"
          ],
          "name": "stdout"
        },
        {
          "output_type": "stream",
          "text": [
            "2020-09-21 13:44:50,778 Restoring parameters from result/delaney-processed_curated_fit/NN_graphconv_scaffold_regression/7018bc25-5b13-47fe-b904-36ee622879b4/model/model-7904\n"
          ],
          "name": "stderr"
        },
        {
          "output_type": "stream",
          "text": [
            "INFO:tensorflow:Restoring parameters from result/delaney-processed_curated_fit/NN_graphconv_scaffold_regression/7018bc25-5b13-47fe-b904-36ee622879b4/model/model-7920\n"
          ],
          "name": "stdout"
        },
        {
          "output_type": "stream",
          "text": [
            "2020-09-21 13:45:01,806 Restoring parameters from result/delaney-processed_curated_fit/NN_graphconv_scaffold_regression/7018bc25-5b13-47fe-b904-36ee622879b4/model/model-7920\n"
          ],
          "name": "stderr"
        },
        {
          "output_type": "stream",
          "text": [
            "INFO:tensorflow:Restoring parameters from result/delaney-processed_curated_fit/NN_graphconv_scaffold_regression/7018bc25-5b13-47fe-b904-36ee622879b4/model/model-7936\n"
          ],
          "name": "stdout"
        },
        {
          "output_type": "stream",
          "text": [
            "2020-09-21 13:45:12,789 Restoring parameters from result/delaney-processed_curated_fit/NN_graphconv_scaffold_regression/7018bc25-5b13-47fe-b904-36ee622879b4/model/model-7936\n"
          ],
          "name": "stderr"
        },
        {
          "output_type": "stream",
          "text": [
            "INFO:tensorflow:Restoring parameters from result/delaney-processed_curated_fit/NN_graphconv_scaffold_regression/7018bc25-5b13-47fe-b904-36ee622879b4/model/model-7952\n"
          ],
          "name": "stdout"
        },
        {
          "output_type": "stream",
          "text": [
            "2020-09-21 13:45:24,059 Restoring parameters from result/delaney-processed_curated_fit/NN_graphconv_scaffold_regression/7018bc25-5b13-47fe-b904-36ee622879b4/model/model-7952\n"
          ],
          "name": "stderr"
        },
        {
          "output_type": "stream",
          "text": [
            "INFO:tensorflow:Restoring parameters from result/delaney-processed_curated_fit/NN_graphconv_scaffold_regression/7018bc25-5b13-47fe-b904-36ee622879b4/model/model-7968\n"
          ],
          "name": "stdout"
        },
        {
          "output_type": "stream",
          "text": [
            "2020-09-21 13:45:35,568 Restoring parameters from result/delaney-processed_curated_fit/NN_graphconv_scaffold_regression/7018bc25-5b13-47fe-b904-36ee622879b4/model/model-7968\n"
          ],
          "name": "stderr"
        },
        {
          "output_type": "stream",
          "text": [
            "INFO:tensorflow:Restoring parameters from result/delaney-processed_curated_fit/NN_graphconv_scaffold_regression/7018bc25-5b13-47fe-b904-36ee622879b4/model/model-7984\n"
          ],
          "name": "stdout"
        },
        {
          "output_type": "stream",
          "text": [
            "2020-09-21 13:45:46,997 Restoring parameters from result/delaney-processed_curated_fit/NN_graphconv_scaffold_regression/7018bc25-5b13-47fe-b904-36ee622879b4/model/model-7984\n"
          ],
          "name": "stderr"
        },
        {
          "output_type": "stream",
          "text": [
            "INFO:tensorflow:Restoring parameters from result/delaney-processed_curated_fit/NN_graphconv_scaffold_regression/7018bc25-5b13-47fe-b904-36ee622879b4/model/model-480\n"
          ],
          "name": "stdout"
        },
        {
          "output_type": "stream",
          "text": [
            "/content/AMPL/lib/python3.6/site-packages/atomsci/ddm/pipeline/model_wrapper.py:767: YAMLLoadWarning: calling yaml.load() without Loader=... is deprecated, as the default Loader is unsafe. Please read https://msg.pyyaml.org/load for full details.\n",
            "  chkpt_dict = yaml.load(chkpt_in.read())\n",
            "2020-09-21 13:46:33,782 Restoring parameters from result/delaney-processed_curated_fit/NN_graphconv_scaffold_regression/7018bc25-5b13-47fe-b904-36ee622879b4/model/model-480\n",
            "2020-09-21 13:48:52,563 Wrote model metadata to file result/delaney-processed_curated_fit/NN_graphconv_scaffold_regression/7018bc25-5b13-47fe-b904-36ee622879b4/model_metadata.json\n",
            "2020-09-21 13:48:53,068 Wrote model metrics to file result/delaney-processed_curated_fit/NN_graphconv_scaffold_regression/7018bc25-5b13-47fe-b904-36ee622879b4/model_metrics.json\n",
            "2020-09-21 13:48:53,088 ['time_generated', 'best_epoch', 'time_built', 'dataset_metadata', 'training_metrics'] are not part of the accepted list of parameters and will be ignored\n"
          ],
          "name": "stderr"
        },
        {
          "output_type": "stream",
          "text": [
            "Wrote model tarball to result/delaney-processed_curated_fit_model_7018bc25-5b13-47fe-b904-36ee622879b4.tar.gz\n",
            "CPU times: user 1h 4min, sys: 1min 48s, total: 1h 5min 48s\n",
            "Wall time: 1h 1min 31s\n",
            "Featurization = DynamicFeaturization with graphconv features\n",
            "INFO:tensorflow:Restoring parameters from result/delaney-processed_curated_fit/NN_graphconv_scaffold_regression/7018bc25-5b13-47fe-b904-36ee622879b4/best_model/model-3648\n"
          ],
          "name": "stdout"
        },
        {
          "output_type": "stream",
          "text": [
            "2020-09-21 13:48:57,100 Restoring parameters from result/delaney-processed_curated_fit/NN_graphconv_scaffold_regression/7018bc25-5b13-47fe-b904-36ee622879b4/best_model/model-3648\n"
          ],
          "name": "stderr"
        },
        {
          "output_type": "stream",
          "text": [
            "number of features: 75\n",
            "TIMING: dataset construction took 0.032 s\n",
            "Loading dataset from disk.\n"
          ],
          "name": "stdout"
        }
      ]
    },
    {
      "cell_type": "code",
      "metadata": {
        "id": "ikYt_nHw4B8K",
        "colab_type": "code",
        "colab": {
          "base_uri": "https://localhost:8080/",
          "height": 1000
        },
        "outputId": "fb11e9f4-7f8b-4e72-b6ce-b0e8cb22a28f"
      },
      "source": [
        "# Remove conda package downloads to decrease package size\n",
        "# 1 min\n",
        "!time /content/AMPL/bin/conda clean -a -y"
      ],
      "execution_count": 26,
      "outputs": [
        {
          "output_type": "stream",
          "text": [
            "Cache location: /content/AMPL/pkgs\n",
            "Will remove the following tarballs:\n",
            "\n",
            "/content/AMPL/pkgs\n",
            "------------------\n",
            "openssl-1.0.2u-h516909a_0.tar.bz2            3.2 MB\n",
            "idna-2.6-py36_1.tar.bz2                      122 KB\n",
            "protobuf-3.13.0-py36h831f99a_0.tar.bz2       697 KB\n",
            "idna-2.9-py_1.conda                           49 KB\n",
            "statsmodels-0.10.2-py36hc1659b7_0.tar.bz2     9.7 MB\n",
            "openssl-1.1.1g-h7b6447c_0.conda              2.5 MB\n",
            "importlib-metadata-1.7.0-py36h9f0ad1d_0.tar.bz2      44 KB\n",
            "prompt_toolkit-3.0.7-0.tar.bz2                 4 KB\n",
            "pcre-8.44-he1b5a44_0.tar.bz2                 261 KB\n",
            "yaml-0.1.7-had09818_2.conda                   73 KB\n",
            "pycosat-0.6.3-py36h8c4c3a4_1004.tar.bz2      107 KB\n",
            "defusedxml-0.6.0-py_0.tar.bz2                 22 KB\n",
            "chardet-3.0.4-py38_1003.conda                174 KB\n",
            "pysocks-1.7.1-py38_0.conda                    28 KB\n",
            "backports-1.0-py_2.tar.bz2                     4 KB\n",
            "pillow-5.0.0-py36_0.tar.bz2                  975 KB\n",
            "ncurses-6.2-he1b5a44_1.tar.bz2               993 KB\n",
            "tensorboard-1.6.0-py36_0.tar.bz2             2.9 MB\n",
            "xorg-xextproto-7.3.0-h14c3975_1002.tar.bz2      27 KB\n",
            "libgfortran-ng-7.5.0-hdf63c60_16.tar.bz2     1.3 MB\n",
            "libtiff-4.0.9-h648cc4a_1002.tar.bz2          566 KB\n",
            "iniconfig-1.0.1-pyh9f0ad1d_0.tar.bz2           8 KB\n",
            "simdna-0.4.2-py_0.tar.bz2                    627 KB\n",
            "astor-0.8.1-pyh9f0ad1d_0.tar.bz2              25 KB\n",
            "six-1.15.0-pyh9f0ad1d_0.tar.bz2               14 KB\n",
            "ruamel_yaml-0.15.87-py38h7b6447c_0.conda     259 KB\n",
            "_libgcc_mutex-0.1-conda_forge.tar.bz2          3 KB\n",
            "conda-4.8.3-py38_0.tar.bz2                   3.0 MB\n",
            "terminado-0.8.3-py36h9f0ad1d_1.tar.bz2        23 KB\n",
            "ipython-7.16.1-py36h95af2a2_0.tar.bz2        1.1 MB\n",
            "xorg-libsm-1.2.3-h84519dc_1000.tar.bz2        25 KB\n",
            "chardet-3.0.4-py36h9f0ad1d_1006.tar.bz2      188 KB\n",
            "parso-0.7.1-pyh9f0ad1d_0.tar.bz2              70 KB\n",
            "hdf5-1.10.6-nompi_h3c11f04_101.tar.bz2       3.0 MB\n",
            "swagger-spec-validator-2.7.3-pyh9f0ad1d_0.tar.bz2      21 KB\n",
            "backports.functools_lru_cache-1.6.1-py_0.tar.bz2       8 KB\n",
            "packaging-20.4-pyh9f0ad1d_0.tar.bz2           32 KB\n",
            "rdkit-2017.09.1-py36_1.tar.bz2              19.7 MB\n",
            "xorg-kbproto-1.0.7-h14c3975_1002.tar.bz2      26 KB\n",
            "webencodings-0.5.1-py_1.tar.bz2               12 KB\n",
            "pickleshare-0.7.5-py36h9f0ad1d_1001.tar.bz2      13 KB\n",
            "werkzeug-1.0.1-pyh9f0ad1d_0.tar.bz2          239 KB\n",
            "asn1crypto-1.4.0-pyh9f0ad1d_0.tar.bz2         78 KB\n",
            "mistune-0.8.4-py36h8c4c3a4_1001.tar.bz2       53 KB\n",
            "mordred-1.2.0-py_1.tar.bz2                   124 KB\n",
            "jupyter_client-6.1.7-py_0.tar.bz2             76 KB\n",
            "pandas-0.22.0-py36_1.tar.bz2                26.1 MB\n",
            "msgpack-python-0.5.5-py36_0.tar.bz2          297 KB\n",
            "bravado-10.4.3-py_0.tar.bz2                   29 KB\n",
            "cffi-1.14.0-py38he30daa8_1.conda             225 KB\n",
            "libprotobuf-3.13.0-h8b12597_0.tar.bz2        2.3 MB\n",
            "zeromq-4.3.2-he1b5a44_3.tar.bz2              326 KB\n",
            "ca-certificates-2020.6.20-hecda079_0.tar.bz2     145 KB\n",
            "xorg-libice-1.0.10-h516909a_0.tar.bz2         57 KB\n",
            "libffi-3.2.1-he1b5a44_1007.tar.bz2            47 KB\n",
            "llvmlite-0.33.0-py36hfa65bc7_1.tar.bz2       329 KB\n",
            "pyopenssl-19.0.0-py36_0.tar.bz2               81 KB\n",
            "cairo-1.14.12-he56eebe_3.tar.bz2             1.3 MB\n",
            "pysocks-1.7.1-py36h9f0ad1d_1.tar.bz2          27 KB\n",
            "pyyaml-5.3.1-py36h8c4c3a4_0.tar.bz2          186 KB\n",
            "xz-5.2.5-h516909a_1.tar.bz2                  343 KB\n",
            "sip-4.18.1-py36hf484d3e_1000.tar.bz2         277 KB\n",
            "olefile-0.46-py_0.tar.bz2                     31 KB\n",
            "libffi-3.3-he6710b0_1.conda                   50 KB\n",
            "python-dateutil-2.8.1-py_0.tar.bz2           220 KB\n",
            "more-itertools-8.5.0-py_0.tar.bz2             37 KB\n",
            "jupyter_console-6.2.0-py_0.tar.bz2            22 KB\n",
            "xorg-libxdmcp-1.1.3-h516909a_0.tar.bz2        18 KB\n",
            "conda-4.8.4-py36h9f0ad1d_2.tar.bz2           3.1 MB\n",
            "prometheus_client-0.8.0-pyh9f0ad1d_0.tar.bz2      44 KB\n",
            "cffi-1.14.1-py36h0ff685e_0.tar.bz2           223 KB\n",
            "joblib-0.11-py36_0.tar.bz2                   193 KB\n",
            "blosc-1.20.0-he1b5a44_0.tar.bz2              878 KB\n",
            "libedit-3.1.20181209-hc058e9b_0.conda        163 KB\n",
            "qt-5.6.2-hd25b39d_14.conda                  34.8 MB\n",
            "xorg-xproto-7.0.31-h14c3975_1007.tar.bz2      72 KB\n",
            "prompt-toolkit-3.0.7-py_0.tar.bz2            235 KB\n",
            "gast-0.4.0-pyh9f0ad1d_0.tar.bz2               12 KB\n",
            "ncurses-6.2-he6710b0_1.conda                 817 KB\n",
            "libllvm9-9.0.1-he513fc3_1.tar.bz2           25.1 MB\n",
            "libiconv-1.16-h516909a_0.tar.bz2             1.4 MB\n",
            "bravado-core-5.16.0-py_0.tar.bz2              46 KB\n",
            "jupyter_core-4.6.3-py36h9f0ad1d_1.tar.bz2      71 KB\n",
            "traitlets-4.3.3-py36h9f0ad1d_1.tar.bz2       133 KB\n",
            "umap-learn-0.4.2-py36h9f0ad1d_0.tar.bz2      108 KB\n",
            "xorg-libx11-1.6.12-h516909a_0.tar.bz2        917 KB\n",
            "monotonic-1.5-py_0.tar.bz2                     9 KB\n",
            "markupsafe-1.1.1-py36h8c4c3a4_1.tar.bz2       26 KB\n",
            "argon2-cffi-20.1.0-py36h8c4c3a4_1.tar.bz2      47 KB\n",
            "cython-0.29.21-py36h831f99a_0.tar.bz2        2.1 MB\n",
            "conda-package-handling-1.6.1-py38h7b6447c_0.conda     799 KB\n",
            "conda-package-handling-1.7.0-py36h8c4c3a4_4.tar.bz2     2.0 MB\n",
            "html5lib-0.9999999-py36_0.tar.bz2            181 KB\n",
            "markdown-3.2.2-py_0.tar.bz2                   61 KB\n",
            "xgboost-0.6a2-py36_2.tar.bz2                 1.1 MB\n",
            "pexpect-4.8.0-py36h9f0ad1d_1.tar.bz2          79 KB\n",
            "setuptools-46.4.0-py38_0.conda               515 KB\n",
            "ipykernel-5.3.4-py36h95af2a2_0.tar.bz2       165 KB\n",
            "certifi-2020.6.20-py36h9f0ad1d_0.tar.bz2     151 KB\n",
            "python-3.8.3-hcff3b4d_0.conda               49.1 MB\n",
            "jsonschema-3.2.0-py36h9f0ad1d_1.tar.bz2       89 KB\n",
            "libgcc-ng-9.3.0-h24d8f2e_16.tar.bz2          7.8 MB\n",
            "xorg-renderproto-0.11.1-h14c3975_1002.tar.bz2       8 KB\n",
            "mdtraj-1.9.1-py36_1.tar.bz2                  5.9 MB\n",
            "readline-7.0-hf8c457e_1001.tar.bz2           391 KB\n",
            "cryptography-2.5-py36hb7f436b_1.tar.bz2      645 KB\n",
            "libpng-1.6.37-hed695b0_2.tar.bz2             359 KB\n",
            "pdbfixer-1.4-py36_0.tar.bz2                  187 KB\n",
            "tbb-2020.2-hc9558a2_0.tar.bz2                1.4 MB\n",
            "ld_impl_linux-64-2.33.1-h53a641e_7.conda     568 KB\n",
            "widgetsnbextension-3.5.1-py36h9f0ad1d_1.tar.bz2     1.8 MB\n",
            "pycparser-2.20-py_0.conda                     92 KB\n",
            "c-ares-1.16.1-h516909a_3.tar.bz2             107 KB\n",
            "tqdm-4.46.0-py_0.conda                        60 KB\n",
            "matplotlib-2.2.2-py36h0e671d2_0.conda        4.8 MB\n",
            "pytables-3.6.1-py36h7b0bd57_2.tar.bz2        1.4 MB\n",
            "toml-0.10.1-pyh9f0ad1d_0.tar.bz2              18 KB\n",
            "entrypoints-0.3-py36h9f0ad1d_1001.tar.bz2      12 KB\n",
            "pyzmq-19.0.2-py36h9947dbf_0.tar.bz2          465 KB\n",
            "python_abi-3.6-1_cp36m.tar.bz2                 4 KB\n",
            "pandocfilters-1.4.2-py_1.tar.bz2               9 KB\n",
            "cryptography-2.9.2-py38h1ba5d50_0.conda      556 KB\n",
            "openblas-0.2.20-8.tar.bz2                   17.0 MB\n",
            "libsodium-1.0.18-h516909a_0.tar.bz2          339 KB\n",
            "send2trash-1.5.0-py_0.tar.bz2                 12 KB\n",
            "ca-certificates-2020.1.1-0.conda             125 KB\n",
            "pandoc-2.10.1-h516909a_0.tar.bz2            19.3 MB\n",
            "notebook-6.1.3-py36h9f0ad1d_0.tar.bz2        6.2 MB\n",
            "molvs-0.1.1-py_0.tar.bz2                      25 KB\n",
            "pytz-2020.1-pyh9f0ad1d_0.tar.bz2             227 KB\n",
            "libxml2-2.9.9-h13577e0_2.tar.bz2             1.3 MB\n",
            "pyqt-5.6.0-py36h13b7fb3_1008.tar.bz2         5.4 MB\n",
            "urllib3-1.25.8-py38_0.conda                  170 KB\n",
            "scikit-learn-0.19.1-py36_blas_openblas_201.tar.bz2    12.8 MB\n",
            "libuuid-2.32.1-h14c3975_1000.tar.bz2          26 KB\n",
            "termcolor-1.1.0-py_2.tar.bz2                   6 KB\n",
            "pthread-stubs-0.4-h14c3975_1001.tar.bz2        5 KB\n",
            "pluggy-0.13.1-py36h9f0ad1d_2.tar.bz2          29 KB\n",
            "bzip2-1.0.8-h516909a_3.tar.bz2               398 KB\n",
            "libgcc-ng-9.1.0-hdf63c60_0.conda             5.1 MB\n",
            "cycler-0.10.0-py_2.tar.bz2                     9 KB\n",
            "xz-5.2.5-h7b6447c_0.conda                    341 KB\n",
            "icu-58.2-hf484d3e_1000.tar.bz2              22.6 MB\n",
            "tqdm-4.48.2-pyh9f0ad1d_0.tar.bz2              53 KB\n",
            "testpath-0.4.4-py_0.tar.bz2                   85 KB\n",
            "certifi-2020.4.5.1-py38_0.conda              156 KB\n",
            "xorg-libxext-1.3.4-h516909a_0.tar.bz2         51 KB\n",
            "jedi-0.17.2-py36h9f0ad1d_0.tar.bz2           950 KB\n",
            "qtconsole-4.7.7-pyh9f0ad1d_0.tar.bz2          88 KB\n",
            "six-1.14.0-py38_0.conda                       27 KB\n",
            "wheel-0.35.1-pyh9f0ad1d_0.tar.bz2             29 KB\n",
            "libstdcxx-ng-9.1.0-hdf63c60_0.conda          3.1 MB\n",
            "nbformat-5.0.7-py_0.tar.bz2                   99 KB\n",
            "pyrsistent-0.16.0-py36h8c4c3a4_0.tar.bz2      89 KB\n",
            "pycparser-2.20-pyh9f0ad1d_2.tar.bz2           94 KB\n",
            "requests-2.18.4-py36_1.tar.bz2                91 KB\n",
            "pytest-6.0.1-py36h9f0ad1d_0.tar.bz2          416 KB\n",
            "simplejson-3.17.2-py36h8c4c3a4_0.tar.bz2     102 KB\n",
            "wcwidth-0.2.5-pyh9f0ad1d_1.tar.bz2            33 KB\n",
            "tk-8.6.8-hbc83047_0.conda                    2.8 MB\n",
            "mock-4.0.2-py36h9f0ad1d_0.tar.bz2             51 KB\n",
            "tk-8.6.10-hed695b0_0.tar.bz2                 3.2 MB\n",
            "libstdcxx-ng-9.3.0-hdf63c60_16.tar.bz2       4.0 MB\n",
            "numpy-1.15.2-py36_blas_openblashd3ea46f_1.tar.bz2     9.3 MB\n",
            "pycosat-0.6.3-py38h7b6447c_1.conda            82 KB\n",
            "grpcio-1.16.0-py36h4f00d22_1000.tar.bz2      1.0 MB\n",
            "readline-8.0-h7b6447c_0.conda                356 KB\n",
            "absl-py-0.10.0-py36h9f0ad1d_0.tar.bz2        168 KB\n",
            "seaborn-0.10.0-py_0.tar.bz2                  158 KB\n",
            "requests-2.23.0-py38_0.conda                  93 KB\n",
            "pyopenssl-19.1.0-py38_0.conda                 88 KB\n",
            "pixman-0.34.0-h14c3975_1003.tar.bz2          595 KB\n",
            "pyparsing-2.4.7-pyh9f0ad1d_0.tar.bz2          60 KB\n",
            "fftw3f-3.3.4-2.tar.bz2                       1.2 MB\n",
            "_libgcc_mutex-0.1-main.conda                   3 KB\n",
            "urllib3-1.22-py36_0.tar.bz2                  154 KB\n",
            "pygments-2.6.1-py_0.tar.bz2                  683 KB\n",
            "py-1.9.0-pyh9f0ad1d_0.tar.bz2                 74 KB\n",
            "libgomp-9.3.0-h24d8f2e_16.tar.bz2            378 KB\n",
            "numexpr-2.7.1-py36h830a2c2_1.tar.bz2         197 KB\n",
            "dbus-1.13.0-h4e0c4b3_1000.tar.bz2            558 KB\n",
            "ptyprocess-0.6.0-py_1001.tar.bz2              15 KB\n",
            "libgfortran-3.0.0-1.tar.bz2                  281 KB\n",
            "jinja2-2.11.2-pyh9f0ad1d_0.tar.bz2            93 KB\n",
            "boost-1.63.0-py36h415b752_1.tar.bz2         11.8 MB\n",
            "bleach-1.5.0-py36_0.tar.bz2                   23 KB\n",
            "fontconfig-2.13.0-hd36ec8e_5.tar.bz2         284 KB\n",
            "pip-20.0.2-py38_3.conda                      1.7 MB\n",
            "wheel-0.34.2-py38_0.conda                     51 KB\n",
            "tornado-6.0.4-py36h8c4c3a4_1.tar.bz2         639 KB\n",
            "xorg-libxrender-0.9.10-h516909a_1002.tar.bz2      31 KB\n",
            "ipywidgets-7.5.1-py_0.tar.bz2                101 KB\n",
            "xorg-libxau-1.0.9-h14c3975_0.tar.bz2          13 KB\n",
            "patsy-0.5.1-py_0.tar.bz2                     187 KB\n",
            "glib-2.55.0-h464dc38_2.tar.bz2               6.1 MB\n",
            "zipp-3.1.0-py_0.tar.bz2                       10 KB\n",
            "sqlite-3.28.0-h8b20d00_0.tar.bz2             1.9 MB\n",
            "networkx-2.1-py_1.tar.bz2                    1.1 MB\n",
            "ruamel_yaml-0.15.80-py36h8c4c3a4_1002.tar.bz2     254 KB\n",
            "libxcb-1.13-h14c3975_1002.tar.bz2            396 KB\n",
            "gettext-0.19.8.1-hc5be6a0_1002.tar.bz2       3.6 MB\n",
            "blas-1.1-openblas.tar.bz2                      1 KB\n",
            "scipy-1.1.0-py36_blas_openblash7943236_201.tar.bz2    40.3 MB\n",
            "gstreamer-1.12.5-h61a6719_0.tar.bz2          2.1 MB\n",
            "expat-2.2.9-he1b5a44_2.tar.bz2               191 KB\n",
            "tensorflow-1.6.0-py36_0.tar.bz2             39.0 MB\n",
            "jpeg-9d-h516909a_0.tar.bz2                   266 KB\n",
            "decorator-4.4.2-py_0.tar.bz2                  11 KB\n",
            "python-3.6.7-hd21baee_1002.tar.bz2          34.6 MB\n",
            "ipython_genutils-0.2.0-py_1.tar.bz2           21 KB\n",
            "importlib_metadata-1.7.0-0.tar.bz2             3 KB\n",
            "attrs-20.1.0-pyh9f0ad1d_0.tar.bz2             41 KB\n",
            "backcall-0.2.0-pyh9f0ad1d_0.tar.bz2           13 KB\n",
            "deepchem-2.1.0-py36_0.tar.bz2                1.9 MB\n",
            "_openmp_mutex-4.5-1_gnu.tar.bz2               22 KB\n",
            "jsonref-0.2-py_0.tar.bz2                      11 KB\n",
            "lzo-2.10-h516909a_1000.tar.bz2               314 KB\n",
            "gst-plugins-base-1.12.5-h3865690_1000.tar.bz2     4.9 MB\n",
            "numba-0.50.1-py36h830a2c2_1.tar.bz2          3.5 MB\n",
            "anyconfig-0.9.10-py_0.tar.bz2                 48 KB\n",
            "pip-20.2.2-py_0.tar.bz2                      1.1 MB\n",
            "nbconvert-5.6.1-py36h9f0ad1d_1.tar.bz2       487 KB\n",
            "qtpy-1.9.0-py_0.tar.bz2                       34 KB\n",
            "kiwisolver-1.2.0-py36hdb11119_0.tar.bz2       87 KB\n",
            "sqlite-3.31.1-h62c20be_1.conda               1.1 MB\n",
            "yaml-0.2.5-h516909a_0.tar.bz2                 82 KB\n",
            "setuptools-49.6.0-py36h9f0ad1d_0.tar.bz2     935 KB\n",
            "jupyter-1.0.0-py_2.tar.bz2                     4 KB\n",
            "zlib-1.2.11-h516909a_1009.tar.bz2            106 KB\n",
            "freetype-2.8.1-hfa320df_1.tar.bz2            789 KB\n",
            "zlib-1.2.11-h7b6447c_3.conda                 103 KB\n",
            "openmm-7.4.2-py36_cuda101_rc_1.tar.bz2      11.9 MB\n",
            "\n",
            "---------------------------------------------------\n",
            "Total:                                     530.1 MB\n",
            "\n",
            "Removed openssl-1.0.2u-h516909a_0.tar.bz2\n",
            "Removed idna-2.6-py36_1.tar.bz2\n",
            "Removed protobuf-3.13.0-py36h831f99a_0.tar.bz2\n",
            "Removed idna-2.9-py_1.conda\n",
            "Removed statsmodels-0.10.2-py36hc1659b7_0.tar.bz2\n",
            "Removed openssl-1.1.1g-h7b6447c_0.conda\n",
            "Removed importlib-metadata-1.7.0-py36h9f0ad1d_0.tar.bz2\n",
            "Removed prompt_toolkit-3.0.7-0.tar.bz2\n",
            "Removed pcre-8.44-he1b5a44_0.tar.bz2\n",
            "Removed yaml-0.1.7-had09818_2.conda\n",
            "Removed pycosat-0.6.3-py36h8c4c3a4_1004.tar.bz2\n",
            "Removed defusedxml-0.6.0-py_0.tar.bz2\n",
            "Removed chardet-3.0.4-py38_1003.conda\n",
            "Removed pysocks-1.7.1-py38_0.conda\n",
            "Removed backports-1.0-py_2.tar.bz2\n",
            "Removed pillow-5.0.0-py36_0.tar.bz2\n",
            "Removed ncurses-6.2-he1b5a44_1.tar.bz2\n",
            "Removed tensorboard-1.6.0-py36_0.tar.bz2\n",
            "Removed xorg-xextproto-7.3.0-h14c3975_1002.tar.bz2\n",
            "Removed libgfortran-ng-7.5.0-hdf63c60_16.tar.bz2\n",
            "Removed libtiff-4.0.9-h648cc4a_1002.tar.bz2\n",
            "Removed iniconfig-1.0.1-pyh9f0ad1d_0.tar.bz2\n",
            "Removed simdna-0.4.2-py_0.tar.bz2\n",
            "Removed astor-0.8.1-pyh9f0ad1d_0.tar.bz2\n",
            "Removed six-1.15.0-pyh9f0ad1d_0.tar.bz2\n",
            "Removed ruamel_yaml-0.15.87-py38h7b6447c_0.conda\n",
            "Removed _libgcc_mutex-0.1-conda_forge.tar.bz2\n",
            "Removed conda-4.8.3-py38_0.tar.bz2\n",
            "Removed terminado-0.8.3-py36h9f0ad1d_1.tar.bz2\n",
            "Removed ipython-7.16.1-py36h95af2a2_0.tar.bz2\n",
            "Removed xorg-libsm-1.2.3-h84519dc_1000.tar.bz2\n",
            "Removed chardet-3.0.4-py36h9f0ad1d_1006.tar.bz2\n",
            "Removed parso-0.7.1-pyh9f0ad1d_0.tar.bz2\n",
            "Removed hdf5-1.10.6-nompi_h3c11f04_101.tar.bz2\n",
            "Removed swagger-spec-validator-2.7.3-pyh9f0ad1d_0.tar.bz2\n",
            "Removed backports.functools_lru_cache-1.6.1-py_0.tar.bz2\n",
            "Removed packaging-20.4-pyh9f0ad1d_0.tar.bz2\n",
            "Removed rdkit-2017.09.1-py36_1.tar.bz2\n",
            "Removed xorg-kbproto-1.0.7-h14c3975_1002.tar.bz2\n",
            "Removed webencodings-0.5.1-py_1.tar.bz2\n",
            "Removed pickleshare-0.7.5-py36h9f0ad1d_1001.tar.bz2\n",
            "Removed werkzeug-1.0.1-pyh9f0ad1d_0.tar.bz2\n",
            "Removed asn1crypto-1.4.0-pyh9f0ad1d_0.tar.bz2\n",
            "Removed mistune-0.8.4-py36h8c4c3a4_1001.tar.bz2\n",
            "Removed mordred-1.2.0-py_1.tar.bz2\n",
            "Removed jupyter_client-6.1.7-py_0.tar.bz2\n",
            "Removed pandas-0.22.0-py36_1.tar.bz2\n",
            "Removed msgpack-python-0.5.5-py36_0.tar.bz2\n",
            "Removed bravado-10.4.3-py_0.tar.bz2\n",
            "Removed cffi-1.14.0-py38he30daa8_1.conda\n",
            "Removed libprotobuf-3.13.0-h8b12597_0.tar.bz2\n",
            "Removed zeromq-4.3.2-he1b5a44_3.tar.bz2\n",
            "Removed ca-certificates-2020.6.20-hecda079_0.tar.bz2\n",
            "Removed xorg-libice-1.0.10-h516909a_0.tar.bz2\n",
            "Removed libffi-3.2.1-he1b5a44_1007.tar.bz2\n",
            "Removed llvmlite-0.33.0-py36hfa65bc7_1.tar.bz2\n",
            "Removed pyopenssl-19.0.0-py36_0.tar.bz2\n",
            "Removed cairo-1.14.12-he56eebe_3.tar.bz2\n",
            "Removed pysocks-1.7.1-py36h9f0ad1d_1.tar.bz2\n",
            "Removed pyyaml-5.3.1-py36h8c4c3a4_0.tar.bz2\n",
            "Removed xz-5.2.5-h516909a_1.tar.bz2\n",
            "Removed sip-4.18.1-py36hf484d3e_1000.tar.bz2\n",
            "Removed olefile-0.46-py_0.tar.bz2\n",
            "Removed libffi-3.3-he6710b0_1.conda\n",
            "Removed python-dateutil-2.8.1-py_0.tar.bz2\n",
            "Removed more-itertools-8.5.0-py_0.tar.bz2\n",
            "Removed jupyter_console-6.2.0-py_0.tar.bz2\n",
            "Removed xorg-libxdmcp-1.1.3-h516909a_0.tar.bz2\n",
            "Removed conda-4.8.4-py36h9f0ad1d_2.tar.bz2\n",
            "Removed prometheus_client-0.8.0-pyh9f0ad1d_0.tar.bz2\n",
            "Removed cffi-1.14.1-py36h0ff685e_0.tar.bz2\n",
            "Removed joblib-0.11-py36_0.tar.bz2\n",
            "Removed blosc-1.20.0-he1b5a44_0.tar.bz2\n",
            "Removed libedit-3.1.20181209-hc058e9b_0.conda\n",
            "Removed qt-5.6.2-hd25b39d_14.conda\n",
            "Removed xorg-xproto-7.0.31-h14c3975_1007.tar.bz2\n",
            "Removed prompt-toolkit-3.0.7-py_0.tar.bz2\n",
            "Removed gast-0.4.0-pyh9f0ad1d_0.tar.bz2\n",
            "Removed ncurses-6.2-he6710b0_1.conda\n",
            "Removed libllvm9-9.0.1-he513fc3_1.tar.bz2\n",
            "Removed libiconv-1.16-h516909a_0.tar.bz2\n",
            "Removed bravado-core-5.16.0-py_0.tar.bz2\n",
            "Removed jupyter_core-4.6.3-py36h9f0ad1d_1.tar.bz2\n",
            "Removed traitlets-4.3.3-py36h9f0ad1d_1.tar.bz2\n",
            "Removed umap-learn-0.4.2-py36h9f0ad1d_0.tar.bz2\n",
            "Removed xorg-libx11-1.6.12-h516909a_0.tar.bz2\n",
            "Removed monotonic-1.5-py_0.tar.bz2\n",
            "Removed markupsafe-1.1.1-py36h8c4c3a4_1.tar.bz2\n",
            "Removed argon2-cffi-20.1.0-py36h8c4c3a4_1.tar.bz2\n",
            "Removed cython-0.29.21-py36h831f99a_0.tar.bz2\n",
            "Removed conda-package-handling-1.6.1-py38h7b6447c_0.conda\n",
            "Removed conda-package-handling-1.7.0-py36h8c4c3a4_4.tar.bz2\n",
            "Removed html5lib-0.9999999-py36_0.tar.bz2\n",
            "Removed markdown-3.2.2-py_0.tar.bz2\n",
            "Removed xgboost-0.6a2-py36_2.tar.bz2\n",
            "Removed pexpect-4.8.0-py36h9f0ad1d_1.tar.bz2\n",
            "Removed setuptools-46.4.0-py38_0.conda\n",
            "Removed ipykernel-5.3.4-py36h95af2a2_0.tar.bz2\n",
            "Removed certifi-2020.6.20-py36h9f0ad1d_0.tar.bz2\n",
            "Removed python-3.8.3-hcff3b4d_0.conda\n",
            "Removed jsonschema-3.2.0-py36h9f0ad1d_1.tar.bz2\n",
            "Removed libgcc-ng-9.3.0-h24d8f2e_16.tar.bz2\n",
            "Removed xorg-renderproto-0.11.1-h14c3975_1002.tar.bz2\n",
            "Removed mdtraj-1.9.1-py36_1.tar.bz2\n",
            "Removed readline-7.0-hf8c457e_1001.tar.bz2\n",
            "Removed cryptography-2.5-py36hb7f436b_1.tar.bz2\n",
            "Removed libpng-1.6.37-hed695b0_2.tar.bz2\n",
            "Removed pdbfixer-1.4-py36_0.tar.bz2\n",
            "Removed tbb-2020.2-hc9558a2_0.tar.bz2\n",
            "Removed ld_impl_linux-64-2.33.1-h53a641e_7.conda\n",
            "Removed widgetsnbextension-3.5.1-py36h9f0ad1d_1.tar.bz2\n",
            "Removed pycparser-2.20-py_0.conda\n",
            "Removed c-ares-1.16.1-h516909a_3.tar.bz2\n",
            "Removed tqdm-4.46.0-py_0.conda\n",
            "Removed matplotlib-2.2.2-py36h0e671d2_0.conda\n",
            "Removed pytables-3.6.1-py36h7b0bd57_2.tar.bz2\n",
            "Removed toml-0.10.1-pyh9f0ad1d_0.tar.bz2\n",
            "Removed entrypoints-0.3-py36h9f0ad1d_1001.tar.bz2\n",
            "Removed pyzmq-19.0.2-py36h9947dbf_0.tar.bz2\n",
            "Removed python_abi-3.6-1_cp36m.tar.bz2\n",
            "Removed pandocfilters-1.4.2-py_1.tar.bz2\n",
            "Removed cryptography-2.9.2-py38h1ba5d50_0.conda\n",
            "Removed openblas-0.2.20-8.tar.bz2\n",
            "Removed libsodium-1.0.18-h516909a_0.tar.bz2\n",
            "Removed send2trash-1.5.0-py_0.tar.bz2\n",
            "Removed ca-certificates-2020.1.1-0.conda\n",
            "Removed pandoc-2.10.1-h516909a_0.tar.bz2\n",
            "Removed notebook-6.1.3-py36h9f0ad1d_0.tar.bz2\n",
            "Removed molvs-0.1.1-py_0.tar.bz2\n",
            "Removed pytz-2020.1-pyh9f0ad1d_0.tar.bz2\n",
            "Removed libxml2-2.9.9-h13577e0_2.tar.bz2\n",
            "Removed pyqt-5.6.0-py36h13b7fb3_1008.tar.bz2\n",
            "Removed urllib3-1.25.8-py38_0.conda\n",
            "Removed scikit-learn-0.19.1-py36_blas_openblas_201.tar.bz2\n",
            "Removed libuuid-2.32.1-h14c3975_1000.tar.bz2\n",
            "Removed termcolor-1.1.0-py_2.tar.bz2\n",
            "Removed pthread-stubs-0.4-h14c3975_1001.tar.bz2\n",
            "Removed pluggy-0.13.1-py36h9f0ad1d_2.tar.bz2\n",
            "Removed bzip2-1.0.8-h516909a_3.tar.bz2\n",
            "Removed libgcc-ng-9.1.0-hdf63c60_0.conda\n",
            "Removed cycler-0.10.0-py_2.tar.bz2\n",
            "Removed xz-5.2.5-h7b6447c_0.conda\n",
            "Removed icu-58.2-hf484d3e_1000.tar.bz2\n",
            "Removed tqdm-4.48.2-pyh9f0ad1d_0.tar.bz2\n",
            "Removed testpath-0.4.4-py_0.tar.bz2\n",
            "Removed certifi-2020.4.5.1-py38_0.conda\n",
            "Removed xorg-libxext-1.3.4-h516909a_0.tar.bz2\n",
            "Removed jedi-0.17.2-py36h9f0ad1d_0.tar.bz2\n",
            "Removed qtconsole-4.7.7-pyh9f0ad1d_0.tar.bz2\n",
            "Removed six-1.14.0-py38_0.conda\n",
            "Removed wheel-0.35.1-pyh9f0ad1d_0.tar.bz2\n",
            "Removed libstdcxx-ng-9.1.0-hdf63c60_0.conda\n",
            "Removed nbformat-5.0.7-py_0.tar.bz2\n",
            "Removed pyrsistent-0.16.0-py36h8c4c3a4_0.tar.bz2\n",
            "Removed pycparser-2.20-pyh9f0ad1d_2.tar.bz2\n",
            "Removed requests-2.18.4-py36_1.tar.bz2\n",
            "Removed pytest-6.0.1-py36h9f0ad1d_0.tar.bz2\n",
            "Removed simplejson-3.17.2-py36h8c4c3a4_0.tar.bz2\n",
            "Removed wcwidth-0.2.5-pyh9f0ad1d_1.tar.bz2\n",
            "Removed tk-8.6.8-hbc83047_0.conda\n",
            "Removed mock-4.0.2-py36h9f0ad1d_0.tar.bz2\n",
            "Removed tk-8.6.10-hed695b0_0.tar.bz2\n",
            "Removed libstdcxx-ng-9.3.0-hdf63c60_16.tar.bz2\n",
            "Removed numpy-1.15.2-py36_blas_openblashd3ea46f_1.tar.bz2\n",
            "Removed pycosat-0.6.3-py38h7b6447c_1.conda\n",
            "Removed grpcio-1.16.0-py36h4f00d22_1000.tar.bz2\n",
            "Removed readline-8.0-h7b6447c_0.conda\n",
            "Removed absl-py-0.10.0-py36h9f0ad1d_0.tar.bz2\n",
            "Removed seaborn-0.10.0-py_0.tar.bz2\n",
            "Removed requests-2.23.0-py38_0.conda\n",
            "Removed pyopenssl-19.1.0-py38_0.conda\n",
            "Removed pixman-0.34.0-h14c3975_1003.tar.bz2\n",
            "Removed pyparsing-2.4.7-pyh9f0ad1d_0.tar.bz2\n",
            "Removed fftw3f-3.3.4-2.tar.bz2\n",
            "Removed _libgcc_mutex-0.1-main.conda\n",
            "Removed urllib3-1.22-py36_0.tar.bz2\n",
            "Removed pygments-2.6.1-py_0.tar.bz2\n",
            "Removed py-1.9.0-pyh9f0ad1d_0.tar.bz2\n",
            "Removed libgomp-9.3.0-h24d8f2e_16.tar.bz2\n",
            "Removed numexpr-2.7.1-py36h830a2c2_1.tar.bz2\n",
            "Removed dbus-1.13.0-h4e0c4b3_1000.tar.bz2\n",
            "Removed ptyprocess-0.6.0-py_1001.tar.bz2\n",
            "Removed libgfortran-3.0.0-1.tar.bz2\n",
            "Removed jinja2-2.11.2-pyh9f0ad1d_0.tar.bz2\n",
            "Removed boost-1.63.0-py36h415b752_1.tar.bz2\n",
            "Removed bleach-1.5.0-py36_0.tar.bz2\n",
            "Removed fontconfig-2.13.0-hd36ec8e_5.tar.bz2\n",
            "Removed pip-20.0.2-py38_3.conda\n",
            "Removed wheel-0.34.2-py38_0.conda\n",
            "Removed tornado-6.0.4-py36h8c4c3a4_1.tar.bz2\n",
            "Removed xorg-libxrender-0.9.10-h516909a_1002.tar.bz2\n",
            "Removed ipywidgets-7.5.1-py_0.tar.bz2\n",
            "Removed xorg-libxau-1.0.9-h14c3975_0.tar.bz2\n",
            "Removed patsy-0.5.1-py_0.tar.bz2\n",
            "Removed glib-2.55.0-h464dc38_2.tar.bz2\n",
            "Removed zipp-3.1.0-py_0.tar.bz2\n",
            "Removed sqlite-3.28.0-h8b20d00_0.tar.bz2\n",
            "Removed networkx-2.1-py_1.tar.bz2\n",
            "Removed ruamel_yaml-0.15.80-py36h8c4c3a4_1002.tar.bz2\n",
            "Removed libxcb-1.13-h14c3975_1002.tar.bz2\n",
            "Removed gettext-0.19.8.1-hc5be6a0_1002.tar.bz2\n",
            "Removed blas-1.1-openblas.tar.bz2\n",
            "Removed scipy-1.1.0-py36_blas_openblash7943236_201.tar.bz2\n",
            "Removed gstreamer-1.12.5-h61a6719_0.tar.bz2\n",
            "Removed expat-2.2.9-he1b5a44_2.tar.bz2\n",
            "Removed tensorflow-1.6.0-py36_0.tar.bz2\n",
            "Removed jpeg-9d-h516909a_0.tar.bz2\n",
            "Removed decorator-4.4.2-py_0.tar.bz2\n",
            "Removed python-3.6.7-hd21baee_1002.tar.bz2\n",
            "Removed ipython_genutils-0.2.0-py_1.tar.bz2\n",
            "Removed importlib_metadata-1.7.0-0.tar.bz2\n",
            "Removed attrs-20.1.0-pyh9f0ad1d_0.tar.bz2\n",
            "Removed backcall-0.2.0-pyh9f0ad1d_0.tar.bz2\n",
            "Removed deepchem-2.1.0-py36_0.tar.bz2\n",
            "Removed _openmp_mutex-4.5-1_gnu.tar.bz2\n",
            "Removed jsonref-0.2-py_0.tar.bz2\n",
            "Removed lzo-2.10-h516909a_1000.tar.bz2\n",
            "Removed gst-plugins-base-1.12.5-h3865690_1000.tar.bz2\n",
            "Removed numba-0.50.1-py36h830a2c2_1.tar.bz2\n",
            "Removed anyconfig-0.9.10-py_0.tar.bz2\n",
            "Removed pip-20.2.2-py_0.tar.bz2\n",
            "Removed nbconvert-5.6.1-py36h9f0ad1d_1.tar.bz2\n",
            "Removed qtpy-1.9.0-py_0.tar.bz2\n",
            "Removed kiwisolver-1.2.0-py36hdb11119_0.tar.bz2\n",
            "Removed sqlite-3.31.1-h62c20be_1.conda\n",
            "Removed yaml-0.2.5-h516909a_0.tar.bz2\n",
            "Removed setuptools-49.6.0-py36h9f0ad1d_0.tar.bz2\n",
            "Removed jupyter-1.0.0-py_2.tar.bz2\n",
            "Removed zlib-1.2.11-h516909a_1009.tar.bz2\n",
            "Removed freetype-2.8.1-hfa320df_1.tar.bz2\n",
            "Removed zlib-1.2.11-h7b6447c_3.conda\n",
            "Removed openmm-7.4.2-py36_cuda101_rc_1.tar.bz2\n",
            "WARNING: /root/.conda/pkgs does not exist\n",
            "Cache location: /content/AMPL/pkgs\n",
            "Will remove the following packages:\n",
            "/content/AMPL/pkgs\n",
            "------------------\n",
            "\n",
            "prompt_toolkit-3.0.7-0                        11 KB\n",
            "xz-5.2.5-h7b6447c_0                          1.5 MB\n",
            "setuptools-46.4.0-py38_0                     2.8 MB\n",
            "pysocks-1.7.1-py38_0                          88 KB\n",
            "cryptography-2.9.2-py38h1ba5d50_0            3.4 MB\n",
            "python-3.8.3-hcff3b4d_0                    111.0 MB\n",
            "libstdcxx-ng-9.1.0-hdf63c60_0               12.6 MB\n",
            "zlib-1.2.11-h7b6447c_3                       417 KB\n",
            "chardet-3.0.4-py38_1003                      839 KB\n",
            "_libgcc_mutex-0.1-conda_forge                  6 KB\n",
            "libffi-3.3-he6710b0_1                        198 KB\n",
            "ncurses-6.2-he6710b0_1                       5.4 MB\n",
            "certifi-2020.4.5.1-py38_0                    324 KB\n",
            "blas-1.1-openblas                              3 KB\n",
            "six-1.14.0-py38_0                             87 KB\n",
            "idna-2.9-py_1                                289 KB\n",
            "importlib_metadata-1.7.0-0                     8 KB\n",
            "_libgcc_mutex-0.1-main                         7 KB\n",
            "conda-package-handling-1.6.1-py38h7b6447c_0     1.7 MB\n",
            "yaml-0.1.7-had09818_2                        362 KB\n",
            "pycparser-2.20-py_0                          573 KB\n",
            "openssl-1.1.1g-h7b6447c_0                   13.4 MB\n",
            "ca-certificates-2020.1.1-0                   238 KB\n",
            "wheel-0.34.2-py38_0                          163 KB\n",
            "cffi-1.14.0-py38he30daa8_1                   851 KB\n",
            "_openmp_mutex-4.5-1_gnu                       93 KB\n",
            "python_abi-3.6-1_cp36m                        10 KB\n",
            "tk-8.6.8-hbc83047_0                          9.8 MB\n",
            "urllib3-1.25.8-py38_0                        691 KB\n",
            "ruamel_yaml-0.15.87-py38h7b6447c_0           1.1 MB\n",
            "jupyter-1.0.0-py_2                            10 KB\n",
            "tqdm-4.46.0-py_0                             241 KB\n",
            "pyopenssl-19.1.0-py38_0                      419 KB\n",
            "pycosat-0.6.3-py38h7b6447c_1                 424 KB\n",
            "requests-2.23.0-py38_0                       358 KB\n",
            "readline-8.0-h7b6447c_0                      1.9 MB\n",
            "pip-20.0.2-py38_3                            7.5 MB\n",
            "pthread-stubs-0.4-h14c3975_1001               12 KB\n",
            "conda-4.8.3-py38_0                          11.5 MB\n",
            "sqlite-3.31.1-h62c20be_1                     5.4 MB\n",
            "libgcc-ng-9.1.0-hdf63c60_0                  25.6 MB\n",
            "\n",
            "---------------------------------------------------\n",
            "Total:                                     221.3 MB\n",
            "\n",
            "removing prompt_toolkit-3.0.7-0\n",
            "removing xz-5.2.5-h7b6447c_0\n",
            "removing setuptools-46.4.0-py38_0\n",
            "removing pysocks-1.7.1-py38_0\n",
            "removing cryptography-2.9.2-py38h1ba5d50_0\n",
            "removing python-3.8.3-hcff3b4d_0\n",
            "removing libstdcxx-ng-9.1.0-hdf63c60_0\n",
            "removing zlib-1.2.11-h7b6447c_3\n",
            "removing chardet-3.0.4-py38_1003\n",
            "removing _libgcc_mutex-0.1-conda_forge\n",
            "removing libffi-3.3-he6710b0_1\n",
            "removing ncurses-6.2-he6710b0_1\n",
            "removing certifi-2020.4.5.1-py38_0\n",
            "removing blas-1.1-openblas\n",
            "removing six-1.14.0-py38_0\n",
            "removing idna-2.9-py_1\n",
            "removing importlib_metadata-1.7.0-0\n",
            "removing _libgcc_mutex-0.1-main\n",
            "removing conda-package-handling-1.6.1-py38h7b6447c_0\n",
            "removing yaml-0.1.7-had09818_2\n",
            "removing pycparser-2.20-py_0\n",
            "removing openssl-1.1.1g-h7b6447c_0\n",
            "removing ca-certificates-2020.1.1-0\n",
            "removing wheel-0.34.2-py38_0\n",
            "removing cffi-1.14.0-py38he30daa8_1\n",
            "removing _openmp_mutex-4.5-1_gnu\n",
            "removing python_abi-3.6-1_cp36m\n",
            "removing tk-8.6.8-hbc83047_0\n",
            "removing urllib3-1.25.8-py38_0\n",
            "removing ruamel_yaml-0.15.87-py38h7b6447c_0\n",
            "removing jupyter-1.0.0-py_2\n",
            "removing tqdm-4.46.0-py_0\n",
            "removing pyopenssl-19.1.0-py38_0\n",
            "removing pycosat-0.6.3-py38h7b6447c_1\n",
            "removing requests-2.23.0-py38_0\n",
            "removing readline-8.0-h7b6447c_0\n",
            "removing pip-20.0.2-py38_3\n",
            "removing pthread-stubs-0.4-h14c3975_1001\n",
            "removing conda-4.8.3-py38_0\n",
            "removing sqlite-3.31.1-h62c20be_1\n",
            "removing libgcc-ng-9.1.0-hdf63c60_0\n",
            "\n",
            "real\t0m2.277s\n",
            "user\t0m0.986s\n",
            "sys\t0m0.788s\n"
          ],
          "name": "stdout"
        }
      ]
    },
    {
      "cell_type": "code",
      "metadata": {
        "id": "IFpk3ZVj0Hw4",
        "colab_type": "code",
        "colab": {
          "base_uri": "https://localhost:8080/",
          "height": 1000
        },
        "outputId": "36401154-0b92-40f2-ef2f-99fca037a1d3"
      },
      "source": [
        "# Compress AMPL\n",
        "# 7 min\n",
        "!time tar -cjvf AMPL.tar.bz2 AMPL"
      ],
      "execution_count": 27,
      "outputs": [
        {
          "output_type": "stream",
          "text": [
            "\u001b[1;30;43mStreaming output truncated to the last 5000 lines.\u001b[0m\n",
            "AMPL/share/doc/libxml2-2.9.9/html/tutorial/api.html\n",
            "AMPL/share/doc/libxml2-2.9.9/html/tutorial/ar01s09.html\n",
            "AMPL/share/doc/libxml2-2.9.9/html/tutorial/apc.html\n",
            "AMPL/share/doc/libxml2-2.9.9/html/tutorial/includexpath.c\n",
            "AMPL/share/doc/libxml2-2.9.9/html/tutorial/ar01s07.html\n",
            "AMPL/share/doc/libxml2-2.9.9/html/tutorial/includeaddkeyword.c\n",
            "AMPL/share/doc/libxml2-2.9.9/html/tutorial/ix01.html\n",
            "AMPL/share/doc/libxml2-2.9.9/html/tutorial/ar01s05.html\n",
            "AMPL/share/doc/libxml2-2.9.9/html/tutorial/index.html\n",
            "AMPL/share/doc/libxml2-2.9.9/html/tutorial/apb.html\n",
            "AMPL/share/doc/libxml2-2.9.9/html/xpath2.c\n",
            "AMPL/share/doc/libxml2-2.9.9/html/xml.html\n",
            "AMPL/share/doc/libxml2-2.9.9/html/xpath1.res\n",
            "AMPL/share/doc/libxml2-2.9.9/html/reader1.res\n",
            "AMPL/share/doc/libxml2-2.9.9/html/encoding.html\n",
            "AMPL/share/doc/libxml2-2.9.9/html/examples.xml\n",
            "AMPL/share/doc/libxml2-2.9.9/html/tree1.c\n",
            "AMPL/share/doc/libxml2-2.9.9/html/parse2.c\n",
            "AMPL/share/doc/libxml2-2.9.9/html/reader3.c\n",
            "AMPL/share/doc/libxml2-2.9.9/html/io2.c\n",
            "AMPL/share/doc/libxml2-2.9.9/html/Libxml2-Logo-180x168.gif\n",
            "AMPL/share/doc/libxml2-2.9.9/html/libxml.gif\n",
            "AMPL/share/doc/libxml2-2.9.9/html/html/\n",
            "AMPL/share/doc/libxml2-2.9.9/html/html/libxml-SAX.html\n",
            "AMPL/share/doc/libxml2-2.9.9/html/html/libxml-xmlreader.html\n",
            "AMPL/share/doc/libxml2-2.9.9/html/html/left.png\n",
            "AMPL/share/doc/libxml2-2.9.9/html/html/libxml-chvalid.html\n",
            "AMPL/share/doc/libxml2-2.9.9/html/html/libxml-xmlIO.html\n",
            "AMPL/share/doc/libxml2-2.9.9/html/html/libxml-DOCBparser.html\n",
            "AMPL/share/doc/libxml2-2.9.9/html/html/book1.html\n",
            "AMPL/share/doc/libxml2-2.9.9/html/html/libxml-xmlversion.html\n",
            "AMPL/share/doc/libxml2-2.9.9/html/html/libxml-xpathInternals.html\n",
            "AMPL/share/doc/libxml2-2.9.9/html/html/libxml-encoding.html\n",
            "AMPL/share/doc/libxml2-2.9.9/html/html/libxml-list.html\n",
            "AMPL/share/doc/libxml2-2.9.9/html/html/libxml-schemasInternals.html\n",
            "AMPL/share/doc/libxml2-2.9.9/html/html/libxml-lib.html\n",
            "AMPL/share/doc/libxml2-2.9.9/html/html/libxml-xlink.html\n",
            "AMPL/share/doc/libxml2-2.9.9/html/html/libxml-uri.html\n",
            "AMPL/share/doc/libxml2-2.9.9/html/html/libxml-xmlmodule.html\n",
            "AMPL/share/doc/libxml2-2.9.9/html/html/libxml-c14n.html\n",
            "AMPL/share/doc/libxml2-2.9.9/html/html/libxml-xmlschemas.html\n",
            "AMPL/share/doc/libxml2-2.9.9/html/html/libxml-xmlexports.html\n",
            "AMPL/share/doc/libxml2-2.9.9/html/html/libxml-SAX2.html\n",
            "AMPL/share/doc/libxml2-2.9.9/html/html/libxml-xmlmemory.html\n",
            "AMPL/share/doc/libxml2-2.9.9/html/html/libxml-HTMLtree.html\n",
            "AMPL/share/doc/libxml2-2.9.9/html/html/libxml-xmlstring.html\n",
            "AMPL/share/doc/libxml2-2.9.9/html/html/libxml-debugXML.html\n",
            "AMPL/share/doc/libxml2-2.9.9/html/html/libxml-hash.html\n",
            "AMPL/share/doc/libxml2-2.9.9/html/html/libxml-xinclude.html\n",
            "AMPL/share/doc/libxml2-2.9.9/html/html/libxml-valid.html\n",
            "AMPL/share/doc/libxml2-2.9.9/html/html/libxml-threads.html\n",
            "AMPL/share/doc/libxml2-2.9.9/html/html/libxml-tree.html\n",
            "AMPL/share/doc/libxml2-2.9.9/html/html/libxml-nanohttp.html\n",
            "AMPL/share/doc/libxml2-2.9.9/html/html/libxml-xpointer.html\n",
            "AMPL/share/doc/libxml2-2.9.9/html/html/libxml-schematron.html\n",
            "AMPL/share/doc/libxml2-2.9.9/html/html/libxml-nanoftp.html\n",
            "AMPL/share/doc/libxml2-2.9.9/html/html/libxml-xpath.html\n",
            "AMPL/share/doc/libxml2-2.9.9/html/html/libxml-parserInternals.html\n",
            "AMPL/share/doc/libxml2-2.9.9/html/html/libxml-xmlunicode.html\n",
            "AMPL/share/doc/libxml2-2.9.9/html/html/index.html\n",
            "AMPL/share/doc/libxml2-2.9.9/html/html/libxml-xmlwriter.html\n",
            "AMPL/share/doc/libxml2-2.9.9/html/html/libxml-xzlib.html\n",
            "AMPL/share/doc/libxml2-2.9.9/html/html/home.png\n",
            "AMPL/share/doc/libxml2-2.9.9/html/html/libxml-xmlschemastypes.html\n",
            "AMPL/share/doc/libxml2-2.9.9/html/html/libxml-HTMLparser.html\n",
            "AMPL/share/doc/libxml2-2.9.9/html/html/libxml-pattern.html\n",
            "AMPL/share/doc/libxml2-2.9.9/html/html/libxml-parser.html\n",
            "AMPL/share/doc/libxml2-2.9.9/html/html/libxml-globals.html\n",
            "AMPL/share/doc/libxml2-2.9.9/html/html/libxml-xmlsave.html\n",
            "AMPL/share/doc/libxml2-2.9.9/html/html/libxml-xmlerror.html\n",
            "AMPL/share/doc/libxml2-2.9.9/html/html/up.png\n",
            "AMPL/share/doc/libxml2-2.9.9/html/html/libxml-xmlregexp.html\n",
            "AMPL/share/doc/libxml2-2.9.9/html/html/libxml-entities.html\n",
            "AMPL/share/doc/libxml2-2.9.9/html/html/libxml-dict.html\n",
            "AMPL/share/doc/libxml2-2.9.9/html/html/libxml-relaxng.html\n",
            "AMPL/share/doc/libxml2-2.9.9/html/html/right.png\n",
            "AMPL/share/doc/libxml2-2.9.9/html/html/libxml-catalog.html\n",
            "AMPL/share/doc/libxml2-2.9.9/html/html/libxml-xmlautomata.html\n",
            "AMPL/share/doc/libxml2-2.9.9/html/io1.c\n",
            "AMPL/share/doc/libxml2-2.9.9/html/test1.xml\n",
            "AMPL/share/doc/libxml2-2.9.9/html/reader3.res\n",
            "AMPL/share/doc/libxml2-2.9.9/html/io2.res\n",
            "AMPL/share/doc/libxml2-2.9.9/html/reader4.c\n",
            "AMPL/share/doc/libxml2-2.9.9/html/w3c.png\n",
            "AMPL/share/doc/libxml2-2.9.9/html/reader1.c\n",
            "AMPL/share/doc/libxml2-2.9.9/html/test3.xml\n",
            "AMPL/share/doc/libxml2-2.9.9/html/tst.xml\n",
            "AMPL/share/doc/libxml2-2.9.9/html/tree2.res\n",
            "AMPL/share/doc/libxml2-2.9.9/html/tree1.res\n",
            "AMPL/share/doc/libxml2-2.9.9/html/FAQ.html\n",
            "AMPL/share/doc/libxml2-2.9.9/html/xpath1.c\n",
            "AMPL/share/doc/libxml2-2.9.9/html/tree2.c\n",
            "AMPL/share/doc/libxml2-2.9.9/html/Libxml2-Logo-90x34.gif\n",
            "AMPL/share/doc/libxml2-2.9.9/html/examples.xsl\n",
            "AMPL/share/doc/libxml2-2.9.9/html/xpath2.res\n",
            "AMPL/share/doc/libxml2-2.9.9/html/parse3.c\n",
            "AMPL/share/doc/libxml2-2.9.9/html/index.html\n",
            "AMPL/share/doc/libxml2-2.9.9/html/test2.xml\n",
            "AMPL/share/doc/libxml2-2.9.9/html/parse4.c\n",
            "AMPL/share/doc/libxml2-2.9.9/html/io1.res\n",
            "AMPL/share/doc/libxml2-2.9.9/html/testWriter.c\n",
            "AMPL/share/doc/libxml2-2.9.9/html/reader4.res\n",
            "AMPL/share/doc/libxml2-2.9.9/html/writer.xml\n",
            "AMPL/share/doc/libxml2-2.9.9/html/DOM.gif\n",
            "AMPL/share/doc/libxml2-2.9.9/Copyright\n",
            "AMPL/share/doc/expat/\n",
            "AMPL/share/doc/expat/AUTHORS\n",
            "AMPL/share/doc/expat/changelog\n",
            "AMPL/share/doc/xz/\n",
            "AMPL/share/doc/xz/examples/\n",
            "AMPL/share/doc/xz/examples/00_README.txt\n",
            "AMPL/share/doc/xz/examples/04_compress_easy_mt.c\n",
            "AMPL/share/doc/xz/examples/02_decompress.c\n",
            "AMPL/share/doc/xz/examples/03_compress_custom.c\n",
            "AMPL/share/doc/xz/examples/Makefile\n",
            "AMPL/share/doc/xz/examples/01_compress_easy.c\n",
            "AMPL/share/doc/xz/AUTHORS\n",
            "AMPL/share/doc/xz/NEWS\n",
            "AMPL/share/doc/xz/faq.txt\n",
            "AMPL/share/doc/xz/xz-file-format.txt\n",
            "AMPL/share/doc/xz/THANKS\n",
            "AMPL/share/doc/xz/lzma-file-format.txt\n",
            "AMPL/share/doc/xz/TODO\n",
            "AMPL/share/doc/xz/README\n",
            "AMPL/share/doc/xz/COPYING.GPLv2\n",
            "AMPL/share/doc/xz/examples_old/\n",
            "AMPL/share/doc/xz/examples_old/xz_pipe_comp.c\n",
            "AMPL/share/doc/xz/examples_old/xz_pipe_decomp.c\n",
            "AMPL/share/doc/xz/COPYING\n",
            "AMPL/share/doc/xz/history.txt\n",
            "AMPL/share/readline/\n",
            "AMPL/share/readline/rlptytest.c\n",
            "AMPL/share/readline/rltest.c\n",
            "AMPL/share/readline/hist_erasedups.c\n",
            "AMPL/share/readline/rl-fgets.c\n",
            "AMPL/share/readline/manexamp.c\n",
            "AMPL/share/readline/histexamp.c\n",
            "AMPL/share/readline/rlcat.c\n",
            "AMPL/share/readline/rlbasic.c\n",
            "AMPL/share/readline/excallback.c\n",
            "AMPL/share/readline/fileman.c\n",
            "AMPL/share/readline/hist_purgecmd.c\n",
            "AMPL/share/readline/rl-callbacktest.c\n",
            "AMPL/share/readline/rlversion.c\n",
            "AMPL/share/readline/rlevent.c\n",
            "AMPL/share/readline/rl.c\n",
            "AMPL/share/fontconfig/\n",
            "AMPL/share/fontconfig/conf.avail/\n",
            "AMPL/share/fontconfig/conf.avail/10-sub-pixel-bgr.conf\n",
            "AMPL/share/fontconfig/conf.avail/11-lcdfilter-legacy.conf\n",
            "AMPL/share/fontconfig/conf.avail/10-no-sub-pixel.conf\n",
            "AMPL/share/fontconfig/conf.avail/11-lcdfilter-light.conf\n",
            "AMPL/share/fontconfig/conf.avail/10-sub-pixel-vrgb.conf\n",
            "AMPL/share/fontconfig/conf.avail/50-user.conf\n",
            "AMPL/share/fontconfig/conf.avail/30-metric-aliases.conf\n",
            "AMPL/share/fontconfig/conf.avail/49-sansserif.conf\n",
            "AMPL/share/fontconfig/conf.avail/65-nonlatin.conf\n",
            "AMPL/share/fontconfig/conf.avail/10-autohint.conf\n",
            "AMPL/share/fontconfig/conf.avail/51-local.conf\n",
            "AMPL/share/fontconfig/conf.avail/45-latin.conf\n",
            "AMPL/share/fontconfig/conf.avail/10-unhinted.conf\n",
            "AMPL/share/fontconfig/conf.avail/70-yes-bitmaps.conf\n",
            "AMPL/share/fontconfig/conf.avail/10-scale-bitmap-fonts.conf\n",
            "AMPL/share/fontconfig/conf.avail/25-unhint-nonlatin.conf\n",
            "AMPL/share/fontconfig/conf.avail/69-unifont.conf\n",
            "AMPL/share/fontconfig/conf.avail/10-hinting-none.conf\n",
            "AMPL/share/fontconfig/conf.avail/10-sub-pixel-rgb.conf\n",
            "AMPL/share/fontconfig/conf.avail/60-generic.conf\n",
            "AMPL/share/fontconfig/conf.avail/10-sub-pixel-vbgr.conf\n",
            "AMPL/share/fontconfig/conf.avail/40-nonlatin.conf\n",
            "AMPL/share/fontconfig/conf.avail/45-generic.conf\n",
            "AMPL/share/fontconfig/conf.avail/60-latin.conf\n",
            "AMPL/share/fontconfig/conf.avail/70-no-bitmaps.conf\n",
            "AMPL/share/fontconfig/conf.avail/80-delicious.conf\n",
            "AMPL/share/fontconfig/conf.avail/10-hinting-full.conf\n",
            "AMPL/share/fontconfig/conf.avail/20-unhint-small-vera.conf\n",
            "AMPL/share/fontconfig/conf.avail/65-khmer.conf\n",
            "AMPL/share/fontconfig/conf.avail/65-fonts-persian.conf\n",
            "AMPL/share/fontconfig/conf.avail/10-hinting-medium.conf\n",
            "AMPL/share/fontconfig/conf.avail/11-lcdfilter-default.conf\n",
            "AMPL/share/fontconfig/conf.avail/90-synthetic.conf\n",
            "AMPL/share/fontconfig/conf.avail/10-hinting-slight.conf\n",
            "AMPL/share/aclocal/\n",
            "AMPL/share/aclocal/po.m4\n",
            "AMPL/share/aclocal/threadlib.m4\n",
            "AMPL/share/aclocal/lib-ld.m4\n",
            "AMPL/share/aclocal/inttypes_h.m4\n",
            "AMPL/share/aclocal/nls.m4\n",
            "AMPL/share/aclocal/codeset.m4\n",
            "AMPL/share/aclocal/visibility.m4\n",
            "AMPL/share/aclocal/glib-2.0.m4\n",
            "AMPL/share/aclocal/size_max.m4\n",
            "AMPL/share/aclocal/glib-gettext.m4\n",
            "AMPL/share/aclocal/gsettings.m4\n",
            "AMPL/share/aclocal/intdiv0.m4\n",
            "AMPL/share/aclocal/glibc2.m4\n",
            "AMPL/share/aclocal/intl.m4\n",
            "AMPL/share/aclocal/freetype2.m4\n",
            "AMPL/share/aclocal/stdint_h.m4\n",
            "AMPL/share/aclocal/gettext.m4\n",
            "AMPL/share/aclocal/lib-link.m4\n",
            "AMPL/share/aclocal/fcntl-o.m4\n",
            "AMPL/share/aclocal/progtest.m4\n",
            "AMPL/share/aclocal/iconv.m4\n",
            "AMPL/share/aclocal/lib-prefix.m4\n",
            "AMPL/share/aclocal/glibc21.m4\n",
            "AMPL/share/aclocal/intldir.m4\n",
            "AMPL/share/aclocal/wchar_t.m4\n",
            "AMPL/share/aclocal/extern-inline.m4\n",
            "AMPL/share/aclocal/xsize.m4\n",
            "AMPL/share/aclocal/lcmessage.m4\n",
            "AMPL/share/aclocal/wint_t.m4\n",
            "AMPL/share/aclocal/uintmax_t.m4\n",
            "AMPL/share/aclocal/intmax.m4\n",
            "AMPL/share/aclocal/intlmacosx.m4\n",
            "AMPL/share/aclocal/inttypes-pri.m4\n",
            "AMPL/share/aclocal/longlong.m4\n",
            "AMPL/share/aclocal/lock.m4\n",
            "AMPL/share/aclocal/libxml.m4\n",
            "AMPL/share/aclocal/printf-posix.m4\n",
            "AMPL/share/terminfo/\n",
            "AMPL/share/terminfo/5/\n",
            "AMPL/share/terminfo/5/5051\n",
            "AMPL/share/terminfo/5/5410-w\n",
            "AMPL/share/terminfo/5/5630DMD-24\n",
            "AMPL/share/terminfo/5/5630-24\n",
            "AMPL/share/terminfo/5/5620\n",
            "AMPL/share/terminfo/n/\n",
            "AMPL/share/terminfo/n/news40\n",
            "AMPL/share/terminfo/n/ntconsole-25\n",
            "AMPL/share/terminfo/n/ncr160vt300pp\n",
            "AMPL/share/terminfo/n/nwp513-o\n",
            "AMPL/share/terminfo/n/nd9500\n",
            "AMPL/share/terminfo/n/northstar\n",
            "AMPL/share/terminfo/n/news-o\n",
            "AMPL/share/terminfo/n/newscbm33\n",
            "AMPL/share/terminfo/n/ncr260wy60pp\n",
            "AMPL/share/terminfo/n/nsterm-m-7\n",
            "AMPL/share/terminfo/n/nsterm-build400\n",
            "AMPL/share/terminfo/n/ncr160vt200pp\n",
            "AMPL/share/terminfo/n/nsterm-acs-s\n",
            "AMPL/share/terminfo/n/ncr160vt300an\n",
            "AMPL/share/terminfo/n/nwp251-o\n",
            "AMPL/share/terminfo/n/ncr260wy50+pp\n",
            "AMPL/share/terminfo/n/ntconsole-25-w-vt\n",
            "AMPL/share/terminfo/n/nsterm-acs-c-s\n",
            "AMPL/share/terminfo/n/ncr260vt200pp\n",
            "AMPL/share/terminfo/n/news28\n",
            "AMPL/share/terminfo/n/nsterm-build343\n",
            "AMPL/share/terminfo/n/nsterm-7\n",
            "AMPL/share/terminfo/n/news31-a\n",
            "AMPL/share/terminfo/n/nsterm-c-s\n",
            "AMPL/share/terminfo/n/nsterm-7-c\n",
            "AMPL/share/terminfo/n/nwp-511\n",
            "AMPL/share/terminfo/n/ncr260wy325pp\n",
            "AMPL/share/terminfo/n/news-29-euc\n",
            "AMPL/share/terminfo/n/nwp-517-w\n",
            "AMPL/share/terminfo/n/news28-a\n",
            "AMPL/share/terminfo/n/nwp251-a\n",
            "AMPL/share/terminfo/n/ntconsole-60-nti\n",
            "AMPL/share/terminfo/n/ncr160vt100wpp\n",
            "AMPL/share/terminfo/n/nsterm-acs\n",
            "AMPL/share/terminfo/n/ntconsole-100-nti\n",
            "AMPL/share/terminfo/n/ncr260vt200an\n",
            "AMPL/share/terminfo/n/nsterm-direct\n",
            "AMPL/share/terminfo/n/nextshell\n",
            "AMPL/share/terminfo/n/nsterm-acs-m-s\n",
            "AMPL/share/terminfo/n/newscbm-a\n",
            "AMPL/share/terminfo/n/nsterm-m-s-acs\n",
            "AMPL/share/terminfo/n/ncr260vt100wpp\n",
            "AMPL/share/terminfo/n/nsterm+acs\n",
            "AMPL/share/terminfo/n/ncrvt100pp\n",
            "AMPL/share/terminfo/n/ncr260intwpp\n",
            "AMPL/share/terminfo/n/nsterm-c-s-acs\n",
            "AMPL/share/terminfo/n/nwp518\n",
            "AMPL/share/terminfo/n/ndr9500-25-mc\n",
            "AMPL/share/terminfo/n/nsterm-7-c-s\n",
            "AMPL/share/terminfo/n/ndr9500-25-nl\n",
            "AMPL/share/terminfo/n/nsterm-build326\n",
            "AMPL/share/terminfo/n/news42\n",
            "AMPL/share/terminfo/n/nsterm-s-7\n",
            "AMPL/share/terminfo/n/news\n",
            "AMPL/share/terminfo/n/nwp517\n",
            "AMPL/share/terminfo/n/ncr260vppp\n",
            "AMPL/share/terminfo/n/ncr160wy50+pp\n",
            "AMPL/share/terminfo/n/nsterm-256color\n",
            "AMPL/share/terminfo/n/ncr260vt300pp\n",
            "AMPL/share/terminfo/n/nwe501-o\n",
            "AMPL/share/terminfo/n/ncsa-m-ns\n",
            "AMPL/share/terminfo/n/news-unk\n",
            "AMPL/share/terminfo/n/ncr160vt200wan\n",
            "AMPL/share/terminfo/n/ncr160wy60pp\n",
            "AMPL/share/terminfo/n/ncr260wy50+wpp\n",
            "AMPL/share/terminfo/n/ncr160wy50+wpp\n",
            "AMPL/share/terminfo/n/nwp518-a\n",
            "AMPL/share/terminfo/n/nansi.sys\n",
            "AMPL/share/terminfo/n/nsterm-c-s-7\n",
            "AMPL/share/terminfo/n/nwp518-o\n",
            "AMPL/share/terminfo/n/netbsd6\n",
            "AMPL/share/terminfo/n/ntconsole-60-w\n",
            "AMPL/share/terminfo/n/ntconsole-w\n",
            "AMPL/share/terminfo/n/ndr9500-25\n",
            "AMPL/share/terminfo/n/nsterm-old\n",
            "AMPL/share/terminfo/n/ntconsole-35\n",
            "AMPL/share/terminfo/n/nsterm-7-m\n",
            "AMPL/share/terminfo/n/ndr9500-mc-nl\n",
            "AMPL/share/terminfo/n/ncr7900iv\n",
            "AMPL/share/terminfo/n/newscbm\n",
            "AMPL/share/terminfo/n/ntconsole-w-vt\n",
            "AMPL/share/terminfo/n/nsterm-acs-c\n",
            "AMPL/share/terminfo/n/ncr160vt200wpp\n",
            "AMPL/share/terminfo/n/nsterm-build309\n",
            "AMPL/share/terminfo/n/nwp514\n",
            "AMPL/share/terminfo/n/news-42\n",
            "AMPL/share/terminfo/n/ncsa-vt220\n",
            "AMPL/share/terminfo/n/newhpkeyboard\n",
            "AMPL/share/terminfo/n/nsterm-m-s-7\n",
            "AMPL/share/terminfo/n/next\n",
            "AMPL/share/terminfo/n/ncr260vt200wpp\n",
            "AMPL/share/terminfo/n/ncr260vt200wan\n",
            "AMPL/share/terminfo/n/ncr260wy60wpp\n",
            "AMPL/share/terminfo/n/nec\n",
            "AMPL/share/terminfo/n/nsterm+s\n",
            "AMPL/share/terminfo/n/nsterm-m-s\n",
            "AMPL/share/terminfo/n/nxterm\n",
            "AMPL/share/terminfo/n/nansisys\n",
            "AMPL/share/terminfo/n/nsterm-c-7\n",
            "AMPL/share/terminfo/n/nwp511\n",
            "AMPL/share/terminfo/n/ncr7900\n",
            "AMPL/share/terminfo/n/nansi.sysk\n",
            "AMPL/share/terminfo/n/ntconsole-50-w\n",
            "AMPL/share/terminfo/n/news-29-sjis\n",
            "AMPL/share/terminfo/n/ncr160wy60wpp\n",
            "AMPL/share/terminfo/n/ncr260vt100wan\n",
            "AMPL/share/terminfo/n/news29\n",
            "AMPL/share/terminfo/n/ncr260vt100an\n",
            "AMPL/share/terminfo/n/news31-o\n",
            "AMPL/share/terminfo/n/ncr260wy350pp\n",
            "AMPL/share/terminfo/n/ncr160vppp\n",
            "AMPL/share/terminfo/n/ncr160vpwpp\n",
            "AMPL/share/terminfo/n/news-33-sjis\n",
            "AMPL/share/terminfo/n/ntconsole-100\n",
            "AMPL/share/terminfo/n/news31\n",
            "AMPL/share/terminfo/n/ncsa-m\n",
            "AMPL/share/terminfo/n/news-42-sjis\n",
            "AMPL/share/terminfo/n/nsterm-acs-m\n",
            "AMPL/share/terminfo/n/nwe501-a\n",
            "AMPL/share/terminfo/n/nsterm+mac\n",
            "AMPL/share/terminfo/n/n7900\n",
            "AMPL/share/terminfo/n/nsterm+c\n",
            "AMPL/share/terminfo/n/ntconsole-50\n",
            "AMPL/share/terminfo/n/ncr260vpwpp\n",
            "AMPL/share/terminfo/n/ncrvt100wpp\n",
            "AMPL/share/terminfo/n/ndr9500-mc\n",
            "AMPL/share/terminfo/n/nwp514-o\n",
            "AMPL/share/terminfo/n/ntconsole-35-nti\n",
            "AMPL/share/terminfo/n/ncr260vt300wan\n",
            "AMPL/share/terminfo/n/ncr160vt100pp\n",
            "AMPL/share/terminfo/n/nsterm-m\n",
            "AMPL/share/terminfo/n/nsterm+c41\n",
            "AMPL/share/terminfo/n/ncr160vt300wan\n",
            "AMPL/share/terminfo/n/nsterm-bce\n",
            "AMPL/share/terminfo/n/nwp513\n",
            "AMPL/share/terminfo/n/news40-o\n",
            "AMPL/share/terminfo/n/ncrvt100wan\n",
            "AMPL/share/terminfo/n/newscbm-o\n",
            "AMPL/share/terminfo/n/ncrvt100an\n",
            "AMPL/share/terminfo/n/ncsa-ns\n",
            "AMPL/share/terminfo/n/nwp-517\n",
            "AMPL/share/terminfo/n/ncr260intan\n",
            "AMPL/share/terminfo/n/nsterm-m-acs\n",
            "AMPL/share/terminfo/n/nwe501\n",
            "AMPL/share/terminfo/n/ncr260vt300an\n",
            "AMPL/share/terminfo/n/nsterm-7-m-s\n",
            "AMPL/share/terminfo/n/ntconsole-25-nti\n",
            "AMPL/share/terminfo/n/newhp\n",
            "AMPL/share/terminfo/n/ncr160vt200an\n",
            "AMPL/share/terminfo/n/ntconsole-60\n",
            "AMPL/share/terminfo/n/ntconsole-50-nti\n",
            "AMPL/share/terminfo/n/ncr260wy325wpp\n",
            "AMPL/share/terminfo/n/ncr7901\n",
            "AMPL/share/terminfo/n/ncsa-vt220-8\n",
            "AMPL/share/terminfo/n/ncr260wy350wpp\n",
            "AMPL/share/terminfo/n/nwp514-a\n",
            "AMPL/share/terminfo/n/ntconsole\n",
            "AMPL/share/terminfo/n/nansisysk\n",
            "AMPL/share/terminfo/n/ncr260intwan\n",
            "AMPL/share/terminfo/n/nsterm-build361\n",
            "AMPL/share/terminfo/n/nwp512\n",
            "AMPL/share/terminfo/n/news33\n",
            "AMPL/share/terminfo/n/nwp513-a\n",
            "AMPL/share/terminfo/n/news-33\n",
            "AMPL/share/terminfo/n/nsterm-c\n",
            "AMPL/share/terminfo/n/ncr160vt300wpp\n",
            "AMPL/share/terminfo/n/nsterm\n",
            "AMPL/share/terminfo/n/ncr260vt300wpp\n",
            "AMPL/share/terminfo/n/news-a\n",
            "AMPL/share/terminfo/n/nsterm+7\n",
            "AMPL/share/terminfo/n/nwp512-a\n",
            "AMPL/share/terminfo/n/ncr7900i\n",
            "AMPL/share/terminfo/n/ncr260vt100pp\n",
            "AMPL/share/terminfo/n/ncr160vt100an\n",
            "AMPL/share/terminfo/n/nsterm-s\n",
            "AMPL/share/terminfo/n/news-33-euc\n",
            "AMPL/share/terminfo/n/ndr9500-25-mc-nl\n",
            "AMPL/share/terminfo/n/ncsa\n",
            "AMPL/share/terminfo/n/news-29\n",
            "AMPL/share/terminfo/n/ntconsole-35-w\n",
            "AMPL/share/terminfo/n/ndr9500-nl\n",
            "AMPL/share/terminfo/n/ntconsole-25-w\n",
            "AMPL/share/terminfo/n/nsterm-c-acs\n",
            "AMPL/share/terminfo/n/nec5520\n",
            "AMPL/share/terminfo/n/ncr160vt100wan\n",
            "AMPL/share/terminfo/n/nsterm-16color\n",
            "AMPL/share/terminfo/n/news40-a\n",
            "AMPL/share/terminfo/n/news-42-euc\n",
            "AMPL/share/terminfo/n/ncr260intpp\n",
            "AMPL/share/terminfo/n/news-old-unk\n",
            "AMPL/share/terminfo/n/nwp512-o\n",
            "AMPL/share/terminfo/n/ndr9500\n",
            "AMPL/share/terminfo/n/nsterm-s-acs\n",
            "AMPL/share/terminfo/n/nwp517-w\n",
            "AMPL/share/terminfo/n/nsterm-7-s\n",
            "AMPL/share/terminfo/p/\n",
            "AMPL/share/terminfo/p/pcansi-33\n",
            "AMPL/share/terminfo/p/pe1100\n",
            "AMPL/share/terminfo/p/pcansi-25\n",
            "AMPL/share/terminfo/p/printer\n",
            "AMPL/share/terminfo/p/putty-vt100\n",
            "AMPL/share/terminfo/p/pckermit\n",
            "AMPL/share/terminfo/p/p8-w\n",
            "AMPL/share/terminfo/p/pccon0\n",
            "AMPL/share/terminfo/p/pcansi-m\n",
            "AMPL/share/terminfo/p/prism14-m-w\n",
            "AMPL/share/terminfo/p/pcix\n",
            "AMPL/share/terminfo/p/pt200w\n",
            "AMPL/share/terminfo/p/pcansi-43-m\n",
            "AMPL/share/terminfo/p/pe7000c\n",
            "AMPL/share/terminfo/p/pcvt40w\n",
            "AMPL/share/terminfo/p/pe1251\n",
            "AMPL/share/terminfo/p/p14-m-w\n",
            "AMPL/share/terminfo/p/putty-m1b\n",
            "AMPL/share/terminfo/p/ps300\n",
            "AMPL/share/terminfo/p/pc3\n",
            "AMPL/share/terminfo/p/prism14-w\n",
            "AMPL/share/terminfo/p/pcansi25m\n",
            "AMPL/share/terminfo/p/pcvt28\n",
            "AMPL/share/terminfo/p/pcplot\n",
            "AMPL/share/terminfo/p/pro350\n",
            "AMPL/share/terminfo/p/putty+fnkeys+vt400\n",
            "AMPL/share/terminfo/p/pccon\n",
            "AMPL/share/terminfo/p/prism12-w\n",
            "AMPL/share/terminfo/p/pe6100\n",
            "AMPL/share/terminfo/p/pccon0-m\n",
            "AMPL/share/terminfo/p/pcansi33m\n",
            "AMPL/share/terminfo/p/pcvt50\n",
            "AMPL/share/terminfo/p/pcansi33\n",
            "AMPL/share/terminfo/p/pccon+sgr+acs\n",
            "AMPL/share/terminfo/p/p4\n",
            "AMPL/share/terminfo/p/psterm-fast\n",
            "AMPL/share/terminfo/p/prism9-8-w\n",
            "AMPL/share/terminfo/p/pt200\n",
            "AMPL/share/terminfo/p/p5\n",
            "AMPL/share/terminfo/p/p9-8\n",
            "AMPL/share/terminfo/p/pcansi43\n",
            "AMPL/share/terminfo/p/p12-m-w\n",
            "AMPL/share/terminfo/p/prism8\n",
            "AMPL/share/terminfo/p/putty+fnkeys+vt100\n",
            "AMPL/share/terminfo/p/pt250\n",
            "AMPL/share/terminfo/p/psterm-90x28\n",
            "AMPL/share/terminfo/p/pe6300\n",
            "AMPL/share/terminfo/p/pt100w\n",
            "AMPL/share/terminfo/p/psterm\n",
            "AMPL/share/terminfo/p/p9\n",
            "AMPL/share/terminfo/p/pccon+colors\n",
            "AMPL/share/terminfo/p/pcansi-33-m\n",
            "AMPL/share/terminfo/p/pccon+keys\n",
            "AMPL/share/terminfo/p/pe1200\n",
            "AMPL/share/terminfo/p/p14-w\n",
            "AMPL/share/terminfo/p/prism8gl\n",
            "AMPL/share/terminfo/p/pc-venix\n",
            "AMPL/share/terminfo/p/pty\n",
            "AMPL/share/terminfo/p/pcvt25-color\n",
            "AMPL/share/terminfo/p/prism12\n",
            "AMPL/share/terminfo/p/p19\n",
            "AMPL/share/terminfo/p/pcvt35w\n",
            "AMPL/share/terminfo/p/pc3r-m\n",
            "AMPL/share/terminfo/p/pcmw\n",
            "AMPL/share/terminfo/p/pe7000m\n",
            "AMPL/share/terminfo/p/putty-m2\n",
            "AMPL/share/terminfo/p/pcansi-25-m\n",
            "AMPL/share/terminfo/p/pt100\n",
            "AMPL/share/terminfo/p/pcvt50w\n",
            "AMPL/share/terminfo/p/putty+fnkeys+sco\n",
            "AMPL/share/terminfo/p/psterm-80x24\n",
            "AMPL/share/terminfo/p/pcconsole\n",
            "AMPL/share/terminfo/p/pcvt43w\n",
            "AMPL/share/terminfo/p/putty-m1\n",
            "AMPL/share/terminfo/p/prism12-m-w\n",
            "AMPL/share/terminfo/p/pc-minix\n",
            "AMPL/share/terminfo/p/putty-256color\n",
            "AMPL/share/terminfo/p/p12-m\n",
            "AMPL/share/terminfo/p/prism8-w\n",
            "AMPL/share/terminfo/p/p12-w\n",
            "AMPL/share/terminfo/p/putty+fnkeys+linux\n",
            "AMPL/share/terminfo/p/putty-sco\n",
            "AMPL/share/terminfo/p/pcansi25\n",
            "AMPL/share/terminfo/p/p7\n",
            "AMPL/share/terminfo/p/pmconsole\n",
            "AMPL/share/terminfo/p/pcvt35\n",
            "AMPL/share/terminfo/p/pc6300plus\n",
            "AMPL/share/terminfo/p/pt505-22\n",
            "AMPL/share/terminfo/p/prism12-m\n",
            "AMPL/share/terminfo/p/pe550\n",
            "AMPL/share/terminfo/p/prism9\n",
            "AMPL/share/terminfo/p/prism5\n",
            "AMPL/share/terminfo/p/pccon+base\n",
            "AMPL/share/terminfo/p/pt505-24\n",
            "AMPL/share/terminfo/p/pckermit120\n",
            "AMPL/share/terminfo/p/pcvt43\n",
            "AMPL/share/terminfo/p/prism14\n",
            "AMPL/share/terminfo/p/p8\n",
            "AMPL/share/terminfo/p/putty+fnkeys\n",
            "AMPL/share/terminfo/p/putty+fnkeys+esc\n",
            "AMPL/share/terminfo/p/prism9-8\n",
            "AMPL/share/terminfo/p/pcvt40\n",
            "AMPL/share/terminfo/p/pmcons\n",
            "AMPL/share/terminfo/p/pt250w\n",
            "AMPL/share/terminfo/p/pcvt25w\n",
            "AMPL/share/terminfo/p/prism7\n",
            "AMPL/share/terminfo/p/psterm-96x48\n",
            "AMPL/share/terminfo/p/prism2\n",
            "AMPL/share/terminfo/p/psterm-basic\n",
            "AMPL/share/terminfo/p/pc7300\n",
            "AMPL/share/terminfo/p/pcansi-43\n",
            "AMPL/share/terminfo/p/pcvt25\n",
            "AMPL/share/terminfo/p/p12\n",
            "AMPL/share/terminfo/p/pc3-bold\n",
            "AMPL/share/terminfo/p/putty-noapp\n",
            "AMPL/share/terminfo/p/pilot\n",
            "AMPL/share/terminfo/p/pcvtXX\n",
            "AMPL/share/terminfo/p/pcansi\n",
            "AMPL/share/terminfo/p/pcz19\n",
            "AMPL/share/terminfo/p/pccons\n",
            "AMPL/share/terminfo/p/pcansi-mono\n",
            "AMPL/share/terminfo/p/pc3r\n",
            "AMPL/share/terminfo/p/pcvt28w\n",
            "AMPL/share/terminfo/p/pccon-m\n",
            "AMPL/share/terminfo/p/prism9-w\n",
            "AMPL/share/terminfo/p/putty+fnkeys+xterm\n",
            "AMPL/share/terminfo/p/prism14-m\n",
            "AMPL/share/terminfo/p/pccon+sgr+acs0\n",
            "AMPL/share/terminfo/p/pe6312\n",
            "AMPL/share/terminfo/p/pckermit12\n",
            "AMPL/share/terminfo/p/pt505\n",
            "AMPL/share/terminfo/p/prism4\n",
            "AMPL/share/terminfo/p/psx_ansi\n",
            "AMPL/share/terminfo/p/p14\n",
            "AMPL/share/terminfo/p/p9-w\n",
            "AMPL/share/terminfo/p/p14-m\n",
            "AMPL/share/terminfo/p/putty\n",
            "AMPL/share/terminfo/p/p8gl\n",
            "AMPL/share/terminfo/p/pt210\n",
            "AMPL/share/terminfo/p/p9-8-w\n",
            "AMPL/share/terminfo/p/pc-coherent\n",
            "AMPL/share/terminfo/i/\n",
            "AMPL/share/terminfo/i/iterm\n",
            "AMPL/share/terminfo/i/ibm+color\n",
            "AMPL/share/terminfo/i/iTerm2.app\n",
            "AMPL/share/terminfo/i/ibm8513\n",
            "AMPL/share/terminfo/i/ibm8514-c\n",
            "AMPL/share/terminfo/i/ifmr\n",
            "AMPL/share/terminfo/i/ibm-apl\n",
            "AMPL/share/terminfo/i/ibmapa8c\n",
            "AMPL/share/terminfo/i/ibmx\n",
            "AMPL/share/terminfo/i/iris-ansi-ap\n",
            "AMPL/share/terminfo/i/ibm3151\n",
            "AMPL/share/terminfo/i/interix\n",
            "AMPL/share/terminfo/i/ibm6153-40\n",
            "AMPL/share/terminfo/i/ibcs2\n",
            "AMPL/share/terminfo/i/ims950-rv\n",
            "AMPL/share/terminfo/i/iTerm.app\n",
            "AMPL/share/terminfo/i/ibmega\n",
            "AMPL/share/terminfo/i/ibm5154-c\n",
            "AMPL/share/terminfo/i/ibm5081\n",
            "AMPL/share/terminfo/i/ibm6154\n",
            "AMPL/share/terminfo/i/ibm6155\n",
            "AMPL/share/terminfo/i/i100\n",
            "AMPL/share/terminfo/i/iris-ansi\n",
            "AMPL/share/terminfo/i/i3101\n",
            "AMPL/share/terminfo/i/ibmega-c\n",
            "AMPL/share/terminfo/i/iq140\n",
            "AMPL/share/terminfo/i/ipsi\n",
            "AMPL/share/terminfo/i/ibm6153-90\n",
            "AMPL/share/terminfo/i/ibm8507\n",
            "AMPL/share/terminfo/i/ibm5081-c\n",
            "AMPL/share/terminfo/i/ibm5154\n",
            "AMPL/share/terminfo/i/icl6402\n",
            "AMPL/share/terminfo/i/ibmapa8\n",
            "AMPL/share/terminfo/i/ibmapa16\n",
            "AMPL/share/terminfo/i/icl6404\n",
            "AMPL/share/terminfo/i/ibm6154-c\n",
            "AMPL/share/terminfo/i/ibm8512\n",
            "AMPL/share/terminfo/i/ibm-pc\n",
            "AMPL/share/terminfo/i/iterm2-direct\n",
            "AMPL/share/terminfo/i/ibm3161\n",
            "AMPL/share/terminfo/i/ibmvga\n",
            "AMPL/share/terminfo/i/intertube2\n",
            "AMPL/share/terminfo/i/intext2\n",
            "AMPL/share/terminfo/i/ips\n",
            "AMPL/share/terminfo/i/ims-ansi\n",
            "AMPL/share/terminfo/i/infoton\n",
            "AMPL/share/terminfo/i/ibm5051\n",
            "AMPL/share/terminfo/i/iq120\n",
            "AMPL/share/terminfo/i/ibm3163\n",
            "AMPL/share/terminfo/i/ibmapa8c-c\n",
            "AMPL/share/terminfo/i/ibmpc3r-mono\n",
            "AMPL/share/terminfo/i/ibmvga-c\n",
            "AMPL/share/terminfo/i/ibm8503\n",
            "AMPL/share/terminfo/i/intextii\n",
            "AMPL/share/terminfo/i/ibmaed\n",
            "AMPL/share/terminfo/i/ibmpcx\n",
            "AMPL/share/terminfo/i/intertec\n",
            "AMPL/share/terminfo/i/i3164\n",
            "AMPL/share/terminfo/i/ims950\n",
            "AMPL/share/terminfo/i/ibm3162\n",
            "AMPL/share/terminfo/i/iris-color\n",
            "AMPL/share/terminfo/i/ibmmono\n",
            "AMPL/share/terminfo/i/ibm8514\n",
            "AMPL/share/terminfo/i/ibmpc3\n",
            "AMPL/share/terminfo/i/ibmpc3r\n",
            "AMPL/share/terminfo/i/ibmmpel-c\n",
            "AMPL/share/terminfo/i/iterm2\n",
            "AMPL/share/terminfo/i/ibm3161-C\n",
            "AMPL/share/terminfo/i/ims950-b\n",
            "AMPL/share/terminfo/i/ibm3164\n",
            "AMPL/share/terminfo/i/ibm327x\n",
            "AMPL/share/terminfo/i/icl6404-w\n",
            "AMPL/share/terminfo/i/intertube\n",
            "AMPL/share/terminfo/i/iris40\n",
            "AMPL/share/terminfo/i/ibm3101\n",
            "AMPL/share/terminfo/i/iris-ansi-net\n",
            "AMPL/share/terminfo/i/ibm-system1\n",
            "AMPL/share/terminfo/i/interix-nti\n",
            "AMPL/share/terminfo/i/intext\n",
            "AMPL/share/terminfo/i/i400\n",
            "AMPL/share/terminfo/i/ibm8604\n",
            "AMPL/share/terminfo/i/ibm+16color\n",
            "AMPL/share/terminfo/i/ibm5151\n",
            "AMPL/share/terminfo/i/ibmpc\n",
            "AMPL/share/terminfo/i/ibm6153\n",
            "AMPL/share/terminfo/t/\n",
            "AMPL/share/terminfo/t/tvi912b\n",
            "AMPL/share/terminfo/t/tek4013\n",
            "AMPL/share/terminfo/t/tvi920c\n",
            "AMPL/share/terminfo/t/tvi920\n",
            "AMPL/share/terminfo/t/tvi920c-2p-p\n",
            "AMPL/share/terminfo/t/tvi920c-p\n",
            "AMPL/share/terminfo/t/trs16\n",
            "AMPL/share/terminfo/t/tvi920c-mc-vb\n",
            "AMPL/share/terminfo/t/tvi921\n",
            "AMPL/share/terminfo/t/tty5410\n",
            "AMPL/share/terminfo/t/terminology-0.6.1\n",
            "AMPL/share/terminfo/t/tvi920c-unk-vb\n",
            "AMPL/share/terminfo/t/tvi912\n",
            "AMPL/share/terminfo/t/ts100\n",
            "AMPL/share/terminfo/t/tvi912b-unk-vb\n",
            "AMPL/share/terminfo/t/tvi912c-p\n",
            "AMPL/share/terminfo/t/tvi970-vb\n",
            "AMPL/share/terminfo/t/tek4105-30\n",
            "AMPL/share/terminfo/t/tvi920b-mc-2p\n",
            "AMPL/share/terminfo/t/ts100-ctxt\n",
            "AMPL/share/terminfo/t/teken\n",
            "AMPL/share/terminfo/t/tvi920b-2p-unk\n",
            "AMPL/share/terminfo/t/terminology-1.0.0\n",
            "AMPL/share/terminfo/t/tvi920c-vb-unk\n",
            "AMPL/share/terminfo/t/tvi912c-vb-p\n",
            "AMPL/share/terminfo/t/tvi920b+fn\n",
            "AMPL/share/terminfo/t/t1061\n",
            "AMPL/share/terminfo/t/tvi920b-unk-vb\n",
            "AMPL/share/terminfo/t/tek4015\n",
            "AMPL/share/terminfo/t/tab132-w\n",
            "AMPL/share/terminfo/t/t3700\n",
            "AMPL/share/terminfo/t/tvi920c-2p\n",
            "AMPL/share/terminfo/t/tvi920c-p-2p\n",
            "AMPL/share/terminfo/t/tek4025-17-ws\n",
            "AMPL/share/terminfo/t/tvi955-hb\n",
            "AMPL/share/terminfo/t/ti928-8\n",
            "AMPL/share/terminfo/t/tty5620-1\n",
            "AMPL/share/terminfo/t/tek4112-nd\n",
            "AMPL/share/terminfo/t/tty5410v1\n",
            "AMPL/share/terminfo/t/tvi925-hi\n",
            "AMPL/share/terminfo/t/tvi912c-2p-mc\n",
            "AMPL/share/terminfo/t/ti926-8\n",
            "AMPL/share/terminfo/t/tek4024\n",
            "AMPL/share/terminfo/t/ti735\n",
            "AMPL/share/terminfo/t/tek4109\n",
            "AMPL/share/terminfo/t/t653x\n",
            "AMPL/share/terminfo/t/tgtelnet\n",
            "AMPL/share/terminfo/t/tty5620-24\n",
            "AMPL/share/terminfo/t/tty5420-rv\n",
            "AMPL/share/terminfo/t/tvi9065\n",
            "AMPL/share/terminfo/t/tmux\n",
            "AMPL/share/terminfo/t/tek4014\n",
            "AMPL/share/terminfo/t/tt52\n",
            "AMPL/share/terminfo/t/tab132\n",
            "AMPL/share/terminfo/t/tek4115\n",
            "AMPL/share/terminfo/t/ti703\n",
            "AMPL/share/terminfo/t/tmux-256color\n",
            "AMPL/share/terminfo/t/tek4205\n",
            "AMPL/share/terminfo/t/tvi920c-vb-mc\n",
            "AMPL/share/terminfo/t/tvi912c-vb\n",
            "AMPL/share/terminfo/t/ti703-w\n",
            "AMPL/share/terminfo/t/tek4014-sm\n",
            "AMPL/share/terminfo/t/tvi912c-p-2p\n",
            "AMPL/share/terminfo/t/tvi912b-2p-mc\n",
            "AMPL/share/terminfo/t/tty5425\n",
            "AMPL/share/terminfo/t/ti928\n",
            "AMPL/share/terminfo/t/tty5620\n",
            "AMPL/share/terminfo/t/terminator\n",
            "AMPL/share/terminfo/t/tw52\n",
            "AMPL/share/terminfo/t/teleray\n",
            "AMPL/share/terminfo/t/tvi920b-p-vb\n",
            "AMPL/share/terminfo/t/tek4027\n",
            "AMPL/share/terminfo/t/tty37\n",
            "AMPL/share/terminfo/t/ti916-220-8\n",
            "AMPL/share/terminfo/t/terminet300\n",
            "AMPL/share/terminfo/t/tek4025-ex\n",
            "AMPL/share/terminfo/t/terminet\n",
            "AMPL/share/terminfo/t/tvi912c-mc-vb\n",
            "AMPL/share/terminfo/t/tek\n",
            "AMPL/share/terminfo/t/tvi970-2p\n",
            "AMPL/share/terminfo/t/tek4107brl\n",
            "AMPL/share/terminfo/t/tws2102-sna\n",
            "AMPL/share/terminfo/t/tty5425-nl\n",
            "AMPL/share/terminfo/t/trsII\n",
            "AMPL/share/terminfo/t/tek4113-34\n",
            "AMPL/share/terminfo/t/ts1\n",
            "AMPL/share/terminfo/t/tvi912c-unk\n",
            "AMPL/share/terminfo/t/tek4207\n",
            "AMPL/share/terminfo/t/tvi912c-mc-2p\n",
            "AMPL/share/terminfo/t/tek4105\n",
            "AMPL/share/terminfo/t/tws2103\n",
            "AMPL/share/terminfo/t/tek4112-5\n",
            "AMPL/share/terminfo/t/tek4027-ex\n",
            "AMPL/share/terminfo/t/ti916\n",
            "AMPL/share/terminfo/t/tws-generic\n",
            "AMPL/share/terminfo/t/tek4025a\n",
            "AMPL/share/terminfo/t/ti700\n",
            "AMPL/share/terminfo/t/tws2103-sna\n",
            "AMPL/share/terminfo/t/tek4106brl\n",
            "AMPL/share/terminfo/t/ti916-8\n",
            "AMPL/share/terminfo/t/tek4012\n",
            "AMPL/share/terminfo/t/tvi910\n",
            "AMPL/share/terminfo/t/tvi920c-mc-2p\n",
            "AMPL/share/terminfo/t/ti707-w\n",
            "AMPL/share/terminfo/t/tvi912b-vb-mc\n",
            "AMPL/share/terminfo/t/tek4025\n",
            "AMPL/share/terminfo/t/ts100-sp\n",
            "AMPL/share/terminfo/t/tty33\n",
            "AMPL/share/terminfo/t/tty40\n",
            "AMPL/share/terminfo/t/tvi920c-p-vb\n",
            "AMPL/share/terminfo/t/tvi920b-vb-unk\n",
            "AMPL/share/terminfo/t/tvi950-rv-4p\n",
            "AMPL/share/terminfo/t/ti_ansi\n",
            "AMPL/share/terminfo/t/tty5420-w-rv\n",
            "AMPL/share/terminfo/t/tek4113\n",
            "AMPL/share/terminfo/t/tvi912c-unk-2p\n",
            "AMPL/share/terminfo/t/tvi912c-mc\n",
            "AMPL/share/terminfo/t/tvi920b-p-2p\n",
            "AMPL/share/terminfo/t/tvi950-2p\n",
            "AMPL/share/terminfo/t/teraterm4.59\n",
            "AMPL/share/terminfo/t/teraterm\n",
            "AMPL/share/terminfo/t/tty5420+nl\n",
            "AMPL/share/terminfo/t/tty43\n",
            "AMPL/share/terminfo/t/tek4113-nd\n",
            "AMPL/share/terminfo/t/tvi912c-2p-p\n",
            "AMPL/share/terminfo/t/tty4424\n",
            "AMPL/share/terminfo/t/tvi912b-mc-2p\n",
            "AMPL/share/terminfo/t/tvi912b-2p-p\n",
            "AMPL/share/terminfo/t/tvi912c-2p\n",
            "AMPL/share/terminfo/t/tvi920b-vb\n",
            "AMPL/share/terminfo/t/tvi920b-vb-p\n",
            "AMPL/share/terminfo/t/ti745\n",
            "AMPL/share/terminfo/t/tvi912b-2p\n",
            "AMPL/share/terminfo/t/tvi920b-p\n",
            "AMPL/share/terminfo/t/ti916-8-132\n",
            "AMPL/share/terminfo/t/tvi920b-2p\n",
            "AMPL/share/terminfo/t/tvi950-4p\n",
            "AMPL/share/terminfo/t/t1061f\n",
            "AMPL/share/terminfo/t/tvi914\n",
            "AMPL/share/terminfo/t/tek4207-s\n",
            "AMPL/share/terminfo/t/ti916-220-7\n",
            "AMPL/share/terminfo/t/tvi950-rv-2p\n",
            "AMPL/share/terminfo/t/tvi920c-unk-2p\n",
            "AMPL/share/terminfo/t/tvi912b-vb-p\n",
            "AMPL/share/terminfo/t/tvipt\n",
            "AMPL/share/terminfo/t/tt\n",
            "AMPL/share/terminfo/t/teletec\n",
            "AMPL/share/terminfo/t/tvi920c-vb-p\n",
            "AMPL/share/terminfo/t/terminology\n",
            "AMPL/share/terminfo/t/ti733\n",
            "AMPL/share/terminfo/t/ti800\n",
            "AMPL/share/terminfo/t/tvi912b-mc\n",
            "AMPL/share/terminfo/t/tvi920b\n",
            "AMPL/share/terminfo/t/tek4125\n",
            "AMPL/share/terminfo/t/tvi912b-vb\n",
            "AMPL/share/terminfo/t/tandem653\n",
            "AMPL/share/terminfo/t/tn1200\n",
            "AMPL/share/terminfo/t/tty4424-1\n",
            "AMPL/share/terminfo/t/tvi920c-2p-unk\n",
            "AMPL/share/terminfo/t/tt505-22\n",
            "AMPL/share/terminfo/t/tek4025-cr\n",
            "AMPL/share/terminfo/t/tvi912c-vb-unk\n",
            "AMPL/share/terminfo/t/tek4109brl\n",
            "AMPL/share/terminfo/t/tty5420-w\n",
            "AMPL/share/terminfo/t/tw100\n",
            "AMPL/share/terminfo/t/tvi912b-unk-2p\n",
            "AMPL/share/terminfo/t/tvi912c-vb-mc\n",
            "AMPL/share/terminfo/t/teraterm2.3\n",
            "AMPL/share/terminfo/t/tvi920c-unk\n",
            "AMPL/share/terminfo/t/tek4107\n",
            "AMPL/share/terminfo/t/tvi955-w\n",
            "AMPL/share/terminfo/t/tab132-15\n",
            "AMPL/share/terminfo/t/tvi912c-unk-vb\n",
            "AMPL/share/terminfo/t/t10\n",
            "AMPL/share/terminfo/t/ts1p\n",
            "AMPL/share/terminfo/t/tty35\n",
            "AMPL/share/terminfo/t/tvi912c-2p-unk\n",
            "AMPL/share/terminfo/t/tvi920b-mc\n",
            "AMPL/share/terminfo/t/ti924w\n",
            "AMPL/share/terminfo/t/tw52-color\n",
            "AMPL/share/terminfo/t/t16\n",
            "AMPL/share/terminfo/t/tvi920b-unk\n",
            "AMPL/share/terminfo/t/tvi92B\n",
            "AMPL/share/terminfo/t/tvi803\n",
            "AMPL/share/terminfo/t/tvi920b-vb-mc\n",
            "AMPL/share/terminfo/t/tvi950-rv\n",
            "AMPL/share/terminfo/t/teraterm-256color\n",
            "AMPL/share/terminfo/t/tvi912b+vb\n",
            "AMPL/share/terminfo/t/tw52-m\n",
            "AMPL/share/terminfo/t/tvi912b+dim\n",
            "AMPL/share/terminfo/t/tek4404\n",
            "AMPL/share/terminfo/t/tty5620-34\n",
            "AMPL/share/terminfo/t/tvi912b-unk\n",
            "AMPL/share/terminfo/t/tek4112\n",
            "AMPL/share/terminfo/t/tvi955\n",
            "AMPL/share/terminfo/t/tek4025-17\n",
            "AMPL/share/terminfo/t/tvi912b+2p\n",
            "AMPL/share/terminfo/t/tvi912c\n",
            "AMPL/share/terminfo/t/tvi912b-p-2p\n",
            "AMPL/share/terminfo/t/trs2\n",
            "AMPL/share/terminfo/t/ti924\n",
            "AMPL/share/terminfo/t/tvi910+\n",
            "AMPL/share/terminfo/t/trs80II\n",
            "AMPL/share/terminfo/t/ttydmd\n",
            "AMPL/share/terminfo/t/tvi912b+printer\n",
            "AMPL/share/terminfo/t/tvi970\n",
            "AMPL/share/terminfo/t/tvi912b+mc\n",
            "AMPL/share/terminfo/t/tvi920c-2p-mc\n",
            "AMPL/share/terminfo/t/ti924-8\n",
            "AMPL/share/terminfo/t/ti916-132\n",
            "AMPL/share/terminfo/t/tty5425-w\n",
            "AMPL/share/terminfo/t/teraterm4.97\n",
            "AMPL/share/terminfo/t/tty5420-w-rv-n\n",
            "AMPL/share/terminfo/t/t3800\n",
            "AMPL/share/terminfo/t/ts-1p\n",
            "AMPL/share/terminfo/t/tvi920c-mc\n",
            "AMPL/share/terminfo/t/tvi920c-vb\n",
            "AMPL/share/terminfo/t/tvi924\n",
            "AMPL/share/terminfo/t/tek4023\n",
            "AMPL/share/terminfo/t/tty5410v1-w\n",
            "AMPL/share/terminfo/t/tvi920b-2p-p\n",
            "AMPL/share/terminfo/t/tty5420\n",
            "AMPL/share/terminfo/t/tty5420-rv-nl\n",
            "AMPL/share/terminfo/t/tvi912c-p-vb\n",
            "AMPL/share/terminfo/t/tek4025ex\n",
            "AMPL/share/terminfo/t/tty5410-w\n",
            "AMPL/share/terminfo/t/tvi950\n",
            "AMPL/share/terminfo/t/tek4105a\n",
            "AMPL/share/terminfo/t/tab132-rv\n",
            "AMPL/share/terminfo/t/tab132-w-rv\n",
            "AMPL/share/terminfo/t/tty5420-nl\n",
            "AMPL/share/terminfo/t/tn300\n",
            "AMPL/share/terminfo/t/tvi912b-2p-unk\n",
            "AMPL/share/terminfo/t/tty4426\n",
            "AMPL/share/terminfo/t/tvi912b-vb-unk\n",
            "AMPL/share/terminfo/t/termite\n",
            "AMPL/share/terminfo/t/tkterm\n",
            "AMPL/share/terminfo/t/terminet1200\n",
            "AMPL/share/terminfo/t/tty4420\n",
            "AMPL/share/terminfo/t/tab\n",
            "AMPL/share/terminfo/t/tandem6510\n",
            "AMPL/share/terminfo/t/tty5420-w-nl\n",
            "AMPL/share/terminfo/t/tvi925\n",
            "AMPL/share/terminfo/t/tvi912cc\n",
            "AMPL/share/terminfo/t/tvi912b-mc-vb\n",
            "AMPL/share/terminfo/t/ti924-8w\n",
            "AMPL/share/terminfo/t/tvi920b-mc-vb\n",
            "AMPL/share/terminfo/t/tvi912b-p-vb\n",
            "AMPL/share/terminfo/t/ti926\n",
            "AMPL/share/terminfo/t/tek4114\n",
            "AMPL/share/terminfo/t/tvi912b-p\n",
            "AMPL/share/terminfo/t/tty5620-s\n",
            "AMPL/share/terminfo/t/tek4015-sm\n",
            "AMPL/share/terminfo/t/ti931\n",
            "AMPL/share/terminfo/t/ts-1\n",
            "AMPL/share/terminfo/t/tvi92D\n",
            "AMPL/share/terminfo/t/ti707\n",
            "AMPL/share/terminfo/t/tvi920b-2p-mc\n",
            "AMPL/share/terminfo/t/tty4424m\n",
            "AMPL/share/terminfo/t/tvi920b-unk-2p\n",
            "AMPL/share/terminfo/X/\n",
            "AMPL/share/terminfo/X/X-hpterm\n",
            "AMPL/share/terminfo/c/\n",
            "AMPL/share/terminfo/c/crt-vt220\n",
            "AMPL/share/terminfo/c/c100-rv-4p\n",
            "AMPL/share/terminfo/c/citoh\n",
            "AMPL/share/terminfo/c/citoh-8lpi\n",
            "AMPL/share/terminfo/c/cons30\n",
            "AMPL/share/terminfo/c/cad68-3\n",
            "AMPL/share/terminfo/c/cons50-iso8859\n",
            "AMPL/share/terminfo/c/cs10-w\n",
            "AMPL/share/terminfo/c/cdc721ll\n",
            "AMPL/share/terminfo/c/cdc721-esc\n",
            "AMPL/share/terminfo/c/cit101e\n",
            "AMPL/share/terminfo/c/c108\n",
            "AMPL/share/terminfo/c/cons25\n",
            "AMPL/share/terminfo/c/cit500\n",
            "AMPL/share/terminfo/c/concept108\n",
            "AMPL/share/terminfo/c/cdc721\n",
            "AMPL/share/terminfo/c/cons30-m\n",
            "AMPL/share/terminfo/c/cons50r\n",
            "AMPL/share/terminfo/c/concept108-w8p\n",
            "AMPL/share/terminfo/c/cons43\n",
            "AMPL/share/terminfo/c/crt\n",
            "AMPL/share/terminfo/c/cons60-iso-m\n",
            "AMPL/share/terminfo/c/cons60r-m\n",
            "AMPL/share/terminfo/c/cons25-iso8859\n",
            "AMPL/share/terminfo/c/coco3\n",
            "AMPL/share/terminfo/c/commodore\n",
            "AMPL/share/terminfo/c/cons60-koi8r-m\n",
            "AMPL/share/terminfo/c/c108-rv-8p\n",
            "AMPL/share/terminfo/c/cx100\n",
            "AMPL/share/terminfo/c/contel300\n",
            "AMPL/share/terminfo/c/cons60r\n",
            "AMPL/share/terminfo/c/citoh-comp\n",
            "AMPL/share/terminfo/c/cons50r-m\n",
            "AMPL/share/terminfo/c/cons50\n",
            "AMPL/share/terminfo/c/cons60-iso\n",
            "AMPL/share/terminfo/c/cons60-koi8r\n",
            "AMPL/share/terminfo/c/cgc3\n",
            "AMPL/share/terminfo/c/ci8510\n",
            "AMPL/share/terminfo/c/cbunix\n",
            "AMPL/share/terminfo/c/c108-w\n",
            "AMPL/share/terminfo/c/concept\n",
            "AMPL/share/terminfo/c/cit101\n",
            "AMPL/share/terminfo/c/cdc752\n",
            "AMPL/share/terminfo/c/c100-rv\n",
            "AMPL/share/terminfo/c/cons50l1-m\n",
            "AMPL/share/terminfo/c/ctrm\n",
            "AMPL/share/terminfo/c/cons50-koi8r-m\n",
            "AMPL/share/terminfo/c/cit101e-rv\n",
            "AMPL/share/terminfo/c/cons50-iso-m\n",
            "AMPL/share/terminfo/c/cons25-koi8r-m\n",
            "AMPL/share/terminfo/c/cit-80\n",
            "AMPL/share/terminfo/c/contel320\n",
            "AMPL/share/terminfo/c/cit101e-132\n",
            "AMPL/share/terminfo/c/concept100\n",
            "AMPL/share/terminfo/c/cygwinB19\n",
            "AMPL/share/terminfo/c/c108-4p\n",
            "AMPL/share/terminfo/c/citoh-pica\n",
            "AMPL/share/terminfo/c/c321\n",
            "AMPL/share/terminfo/c/citoh-6lpi\n",
            "AMPL/share/terminfo/c/concept108-4p\n",
            "AMPL/share/terminfo/c/cons43-m\n",
            "AMPL/share/terminfo/c/citc\n",
            "AMPL/share/terminfo/c/cit80\n",
            "AMPL/share/terminfo/c/cons60-m\n",
            "AMPL/share/terminfo/c/cons60\n",
            "AMPL/share/terminfo/c/concept108-8p\n",
            "AMPL/share/terminfo/c/cygwinDBG\n",
            "AMPL/share/terminfo/c/c300\n",
            "AMPL/share/terminfo/c/cons50l1\n",
            "AMPL/share/terminfo/c/c301\n",
            "AMPL/share/terminfo/c/cg7900\n",
            "AMPL/share/terminfo/c/concept100-rv\n",
            "AMPL/share/terminfo/c/c104\n",
            "AMPL/share/terminfo/c/cons60l1-m\n",
            "AMPL/share/terminfo/c/cops\n",
            "AMPL/share/terminfo/c/cyb110\n",
            "AMPL/share/terminfo/c/concept108rv4p\n",
            "AMPL/share/terminfo/c/coherent\n",
            "AMPL/share/terminfo/c/cons50-koi8r\n",
            "AMPL/share/terminfo/c/c100-4p\n",
            "AMPL/share/terminfo/c/cons25-m\n",
            "AMPL/share/terminfo/c/cx\n",
            "AMPL/share/terminfo/c/ct82\n",
            "AMPL/share/terminfo/c/cons25-koi8-r\n",
            "AMPL/share/terminfo/c/citoh-ps\n",
            "AMPL/share/terminfo/c/cgc2\n",
            "AMPL/share/terminfo/c/cad68-2\n",
            "AMPL/share/terminfo/c/cdc456\n",
            "AMPL/share/terminfo/c/cons25w\n",
            "AMPL/share/terminfo/c/ct8500\n",
            "AMPL/share/terminfo/c/cons25r\n",
            "AMPL/share/terminfo/c/cit101e-n\n",
            "AMPL/share/terminfo/c/cdc756\n",
            "AMPL/share/terminfo/c/cops-10\n",
            "AMPL/share/terminfo/c/cyb83\n",
            "AMPL/share/terminfo/c/cygwin\n",
            "AMPL/share/terminfo/c/ca22851\n",
            "AMPL/share/terminfo/c/c108-w-8p\n",
            "AMPL/share/terminfo/c/c100-1p\n",
            "AMPL/share/terminfo/c/contel321\n",
            "AMPL/share/terminfo/c/citoh-elite\n",
            "AMPL/share/terminfo/c/cit101e-n132\n",
            "AMPL/share/terminfo/c/cons25l1-m\n",
            "AMPL/share/terminfo/c/cons25l1\n",
            "AMPL/share/terminfo/c/cbblit\n",
            "AMPL/share/terminfo/c/cons60l1\n",
            "AMPL/share/terminfo/c/c100\n",
            "AMPL/share/terminfo/c/citoh-prop\n",
            "AMPL/share/terminfo/c/cs10\n",
            "AMPL/share/terminfo/c/cci\n",
            "AMPL/share/terminfo/c/cons25-iso-m\n",
            "AMPL/share/terminfo/c/concept108-w-8\n",
            "AMPL/share/terminfo/c/c108-8p\n",
            "AMPL/share/terminfo/c/chromatics\n",
            "AMPL/share/terminfo/c/color_xterm\n",
            "AMPL/share/terminfo/c/cons25r-m\n",
            "AMPL/share/terminfo/c/c108-rv-4p\n",
            "AMPL/share/terminfo/c/cons50-m\n",
            "AMPL/share/terminfo/c/cops10\n",
            "AMPL/share/terminfo/c/concept-avt\n",
            "AMPL/share/terminfo/c/colorscan\n",
            "AMPL/share/terminfo/c/cci1\n",
            "AMPL/share/terminfo/c/cons25-debian\n",
            "AMPL/share/terminfo/c/c108-rv\n",
            "AMPL/share/terminfo/c/contel301\n",
            "AMPL/share/terminfo/m/\n",
            "AMPL/share/terminfo/m/memhp\n",
            "AMPL/share/terminfo/m/microb\n",
            "AMPL/share/terminfo/m/mac-w\n",
            "AMPL/share/terminfo/m/minitel12-80\n",
            "AMPL/share/terminfo/m/mach\n",
            "AMPL/share/terminfo/m/minitel2-80\n",
            "AMPL/share/terminfo/m/mintty-direct\n",
            "AMPL/share/terminfo/m/modgraph2\n",
            "AMPL/share/terminfo/m/mach-gnu-color\n",
            "AMPL/share/terminfo/m/mgt\n",
            "AMPL/share/terminfo/m/mm340\n",
            "AMPL/share/terminfo/m/mach-color\n",
            "AMPL/share/terminfo/m/mai\n",
            "AMPL/share/terminfo/m/mt-70\n",
            "AMPL/share/terminfo/m/mskermit227am\n",
            "AMPL/share/terminfo/m/mskermit22714\n",
            "AMPL/share/terminfo/m/macintosh\n",
            "AMPL/share/terminfo/m/mono-emx\n",
            "AMPL/share/terminfo/m/mouse-sun\n",
            "AMPL/share/terminfo/m/mimeii\n",
            "AMPL/share/terminfo/m/minitel1b\n",
            "AMPL/share/terminfo/m/mime2a-s\n",
            "AMPL/share/terminfo/m/mime2a-v\n",
            "AMPL/share/terminfo/m/msk227am\n",
            "AMPL/share/terminfo/m/mrxvt-256color\n",
            "AMPL/share/terminfo/m/mime2a\n",
            "AMPL/share/terminfo/m/mlterm-256color\n",
            "AMPL/share/terminfo/m/modgraph48\n",
            "AMPL/share/terminfo/m/mime-hb\n",
            "AMPL/share/terminfo/m/minix-3.0\n",
            "AMPL/share/terminfo/m/megatek\n",
            "AMPL/share/terminfo/m/masscomp\n",
            "AMPL/share/terminfo/m/mod24\n",
            "AMPL/share/terminfo/m/mt70\n",
            "AMPL/share/terminfo/m/mgr\n",
            "AMPL/share/terminfo/m/minix\n",
            "AMPL/share/terminfo/m/mlterm\n",
            "AMPL/share/terminfo/m/ms-vt100-color\n",
            "AMPL/share/terminfo/m/mgterm\n",
            "AMPL/share/terminfo/m/mintty+common\n",
            "AMPL/share/terminfo/m/mime-fb\n",
            "AMPL/share/terminfo/m/ms-vt100\n",
            "AMPL/share/terminfo/m/minitel1-nb\n",
            "AMPL/share/terminfo/m/mvterm\n",
            "AMPL/share/terminfo/m/mgr-sun\n",
            "AMPL/share/terminfo/m/mrxvt\n",
            "AMPL/share/terminfo/m/mintty\n",
            "AMPL/share/terminfo/m/msk22714\n",
            "AMPL/share/terminfo/m/mterm-ansi\n",
            "AMPL/share/terminfo/m/mimei\n",
            "AMPL/share/terminfo/m/mdl110\n",
            "AMPL/share/terminfo/m/mach-gnu\n",
            "AMPL/share/terminfo/m/minitel1\n",
            "AMPL/share/terminfo/m/microterm\n",
            "AMPL/share/terminfo/m/ms-terminal\n",
            "AMPL/share/terminfo/m/mach-bold\n",
            "AMPL/share/terminfo/m/macterminal-w\n",
            "AMPL/share/terminfo/m/mlterm-direct\n",
            "AMPL/share/terminfo/m/minitel-2\n",
            "AMPL/share/terminfo/m/mime3ax\n",
            "AMPL/share/terminfo/m/msk227\n",
            "AMPL/share/terminfo/m/mime1\n",
            "AMPL/share/terminfo/m/morphos\n",
            "AMPL/share/terminfo/m/minitel-2-nam\n",
            "AMPL/share/terminfo/m/mgr-linux\n",
            "AMPL/share/terminfo/m/minitel1b-80\n",
            "AMPL/share/terminfo/m/mlterm2\n",
            "AMPL/share/terminfo/m/mac\n",
            "AMPL/share/terminfo/m/mm314\n",
            "AMPL/share/terminfo/m/mskermit227\n",
            "AMPL/share/terminfo/m/masscomp2\n",
            "AMPL/share/terminfo/m/minix-old\n",
            "AMPL/share/terminfo/m/mime340\n",
            "AMPL/share/terminfo/m/minix-old-am\n",
            "AMPL/share/terminfo/m/ms-vt100+\n",
            "AMPL/share/terminfo/m/minix-1.5\n",
            "AMPL/share/terminfo/m/mime3a\n",
            "AMPL/share/terminfo/m/mod\n",
            "AMPL/share/terminfo/m/mime314\n",
            "AMPL/share/terminfo/m/microbee\n",
            "AMPL/share/terminfo/m/mime\n",
            "AMPL/share/terminfo/m/minitel\n",
            "AMPL/share/terminfo/m/mterm\n",
            "AMPL/share/terminfo/m/mime2\n",
            "AMPL/share/terminfo/m/modgraph\n",
            "AMPL/share/terminfo/m/masscomp1\n",
            "AMPL/share/terminfo/m/mt4520-rv\n",
            "AMPL/share/terminfo/m/minix-1.7\n",
            "AMPL/share/terminfo/m/minitel1b-nb\n",
            "AMPL/share/terminfo/m/mlterm+pcfkeys\n",
            "AMPL/share/terminfo/m/mlterm3\n",
            "AMPL/share/terminfo/m/microterm5\n",
            "AMPL/share/terminfo/m/m2-nam\n",
            "AMPL/share/terminfo/m/ms-vt-utf8\n",
            "AMPL/share/terminfo/m/mime-3ax\n",
            "AMPL/share/terminfo/o/\n",
            "AMPL/share/terminfo/o/osborne\n",
            "AMPL/share/terminfo/o/otek4115\n",
            "AMPL/share/terminfo/o/opennt-50\n",
            "AMPL/share/terminfo/o/opennt-25\n",
            "AMPL/share/terminfo/o/opennt-w\n",
            "AMPL/share/terminfo/o/owl\n",
            "AMPL/share/terminfo/o/opennt-50-w\n",
            "AMPL/share/terminfo/o/opennt-100\n",
            "AMPL/share/terminfo/o/o4112-nd\n",
            "AMPL/share/terminfo/o/o85h\n",
            "AMPL/share/terminfo/o/osborne1\n",
            "AMPL/share/terminfo/o/oc100\n",
            "AMPL/share/terminfo/o/opennt-25-w\n",
            "AMPL/share/terminfo/o/otek4112\n",
            "AMPL/share/terminfo/o/opennt-25-w-vt\n",
            "AMPL/share/terminfo/o/oconcept\n",
            "AMPL/share/terminfo/o/oldibmpc3\n",
            "AMPL/share/terminfo/o/opennt-35-w\n",
            "AMPL/share/terminfo/o/opennt-35\n",
            "AMPL/share/terminfo/o/opennt-35-nti\n",
            "AMPL/share/terminfo/o/origpc3\n",
            "AMPL/share/terminfo/o/osexec\n",
            "AMPL/share/terminfo/o/opennt-100-nti\n",
            "AMPL/share/terminfo/o/opennt\n",
            "AMPL/share/terminfo/o/opennt-60-nti\n",
            "AMPL/share/terminfo/o/os9LII\n",
            "AMPL/share/terminfo/o/oblit\n",
            "AMPL/share/terminfo/o/opus3n1+\n",
            "AMPL/share/terminfo/o/opennt-60-w\n",
            "AMPL/share/terminfo/o/old-st\n",
            "AMPL/share/terminfo/o/oldsun\n",
            "AMPL/share/terminfo/o/ojerq\n",
            "AMPL/share/terminfo/o/o31\n",
            "AMPL/share/terminfo/o/origibmpc3\n",
            "AMPL/share/terminfo/o/otek4114\n",
            "AMPL/share/terminfo/o/oabm85h\n",
            "AMPL/share/terminfo/o/osborne-w\n",
            "AMPL/share/terminfo/o/opennt-nti\n",
            "AMPL/share/terminfo/o/osborne1-w\n",
            "AMPL/share/terminfo/o/opennt-50-nti\n",
            "AMPL/share/terminfo/o/opennt-w-vt\n",
            "AMPL/share/terminfo/o/opennt-60\n",
            "AMPL/share/terminfo/o/omron\n",
            "AMPL/share/terminfo/o/ofcons\n",
            "AMPL/share/terminfo/o/opennt-25-nti\n",
            "AMPL/share/terminfo/o/oldpc3\n",
            "AMPL/share/terminfo/o/otek4113\n",
            "AMPL/share/terminfo/w/\n",
            "AMPL/share/terminfo/w/wy99gt-wvb\n",
            "AMPL/share/terminfo/w/wy185-w\n",
            "AMPL/share/terminfo/w/wy325-42w-vb\n",
            "AMPL/share/terminfo/w/wyse520-pc-24\n",
            "AMPL/share/terminfo/w/wsvt25\n",
            "AMPL/share/terminfo/w/wy350-wvb\n",
            "AMPL/share/terminfo/w/wy99a-ansi\n",
            "AMPL/share/terminfo/w/wy100\n",
            "AMPL/share/terminfo/w/wy350-w\n",
            "AMPL/share/terminfo/w/wy370-vb\n",
            "AMPL/share/terminfo/w/wyse60-PC\n",
            "AMPL/share/terminfo/w/wy99fgta\n",
            "AMPL/share/terminfo/w/wy99f\n",
            "AMPL/share/terminfo/w/wyse50-vb\n",
            "AMPL/share/terminfo/w/wyse60-25\n",
            "AMPL/share/terminfo/w/wy60\n",
            "AMPL/share/terminfo/w/wyse350-wvb\n",
            "AMPL/share/terminfo/w/wyse160-43\n",
            "AMPL/share/terminfo/w/wyse185-24\n",
            "AMPL/share/terminfo/w/wyse520-36w\n",
            "AMPL/share/terminfo/w/wyse60-25-w\n",
            "AMPL/share/terminfo/w/wy150\n",
            "AMPL/share/terminfo/w/wsvt25m\n",
            "AMPL/share/terminfo/w/wyse120-25\n",
            "AMPL/share/terminfo/w/wyse150-25\n",
            "AMPL/share/terminfo/w/wyse30-mc\n",
            "AMPL/share/terminfo/w/wy520-epc-w\n",
            "AMPL/share/terminfo/w/wy370-tek\n",
            "AMPL/share/terminfo/w/wy160-w\n",
            "AMPL/share/terminfo/w/wyse85-vb\n",
            "AMPL/share/terminfo/w/wy520-vb\n",
            "AMPL/share/terminfo/w/wy185-vb\n",
            "AMPL/share/terminfo/w/wy50-vb\n",
            "AMPL/share/terminfo/w/wy325-w\n",
            "AMPL/share/terminfo/w/wy325-80\n",
            "AMPL/share/terminfo/w/wy520-36w\n",
            "AMPL/share/terminfo/w/wy370-wvb\n",
            "AMPL/share/terminfo/w/wyse99gt-25-w\n",
            "AMPL/share/terminfo/w/wy-75ap\n",
            "AMPL/share/terminfo/w/wyse520-36pc\n",
            "AMPL/share/terminfo/w/wyse520-vb\n",
            "AMPL/share/terminfo/w/wy370-101k\n",
            "AMPL/share/terminfo/w/wyse-vp\n",
            "AMPL/share/terminfo/w/wyse-325\n",
            "AMPL/share/terminfo/w/wyse160\n",
            "AMPL/share/terminfo/w/wyse99gt-vb\n",
            "AMPL/share/terminfo/w/wy60-316X\n",
            "AMPL/share/terminfo/w/wyse75ap\n",
            "AMPL/share/terminfo/w/wy75-vb\n",
            "AMPL/share/terminfo/w/wy520-wvb\n",
            "AMPL/share/terminfo/w/wy150-25-w\n",
            "AMPL/share/terminfo/w/wy370-105k\n",
            "AMPL/share/terminfo/w/wy150-w-vb\n",
            "AMPL/share/terminfo/w/wyse60-42-w\n",
            "AMPL/share/terminfo/w/wy120-wvb\n",
            "AMPL/share/terminfo/w/wy325w-24\n",
            "AMPL/share/terminfo/w/wy99gt-w\n",
            "AMPL/share/terminfo/w/wyse150-vb\n",
            "AMPL/share/terminfo/w/wy99gt-vb\n",
            "AMPL/share/terminfo/w/wy160-43-w\n",
            "AMPL/share/terminfo/w/wyse60\n",
            "AMPL/share/terminfo/w/wy160-43\n",
            "AMPL/share/terminfo/w/wy520-24\n",
            "AMPL/share/terminfo/w/wy370-w\n",
            "AMPL/share/terminfo/w/wyse75\n",
            "AMPL/share/terminfo/w/wyse160-43-w\n",
            "AMPL/share/terminfo/w/wy370\n",
            "AMPL/share/terminfo/w/wyse60-43\n",
            "AMPL/share/terminfo/w/wy370-EPC\n",
            "AMPL/share/terminfo/w/wyse325-25w\n",
            "AMPL/share/terminfo/w/wyse60-316X\n",
            "AMPL/share/terminfo/w/wyse30-vb\n",
            "AMPL/share/terminfo/w/wyse60-42\n",
            "AMPL/share/terminfo/w/wyse30\n",
            "AMPL/share/terminfo/w/wy325-42wvb\n",
            "AMPL/share/terminfo/w/wy60-25-w\n",
            "AMPL/share/terminfo/w/wyse160-wvb\n",
            "AMPL/share/terminfo/w/wyse325\n",
            "AMPL/share/terminfo/w/wy30\n",
            "AMPL/share/terminfo/w/wyse99gt-w\n",
            "AMPL/share/terminfo/w/wy120\n",
            "AMPL/share/terminfo/w/wy99gt-w-vb\n",
            "AMPL/share/terminfo/w/wyse185-vb\n",
            "AMPL/share/terminfo/w/wyse325-wvb\n",
            "AMPL/share/terminfo/w/wy325-w-vb\n",
            "AMPL/share/terminfo/w/wy350-vb\n",
            "AMPL/share/terminfo/w/wy99gt-tek\n",
            "AMPL/share/terminfo/w/wy325-42\n",
            "AMPL/share/terminfo/w/wy160-25\n",
            "AMPL/share/terminfo/w/wyse50-wvb\n",
            "AMPL/share/terminfo/w/wy60-w\n",
            "AMPL/share/terminfo/w/wy520-w\n",
            "AMPL/share/terminfo/w/wy370-rv\n",
            "AMPL/share/terminfo/w/wy99gt-25\n",
            "AMPL/share/terminfo/w/wyse99gt-wvb\n",
            "AMPL/share/terminfo/w/wy120-25\n",
            "AMPL/share/terminfo/w/wyse325-w\n",
            "AMPL/share/terminfo/w/wyse520\n",
            "AMPL/share/terminfo/w/wy185\n",
            "AMPL/share/terminfo/w/wy50\n",
            "AMPL/share/terminfo/w/wyse160-w\n",
            "AMPL/share/terminfo/w/wyse160-vb\n",
            "AMPL/share/terminfo/w/wy160-42\n",
            "AMPL/share/terminfo/w/wyse370\n",
            "AMPL/share/terminfo/w/wyse120\n",
            "AMPL/share/terminfo/w/wyse325-43\n",
            "AMPL/share/terminfo/w/wy520-epc-vb\n",
            "AMPL/share/terminfo/w/wy60-w-vb\n",
            "AMPL/share/terminfo/w/wy520-epc-wvb\n",
            "AMPL/share/terminfo/w/wy325-42w\n",
            "AMPL/share/terminfo/w/wy120-w-vb\n",
            "AMPL/share/terminfo/w/wyse520-epc-w\n",
            "AMPL/share/terminfo/w/wyse350-w\n",
            "AMPL/share/terminfo/w/wy185-wvb\n",
            "AMPL/share/terminfo/w/wy150-25\n",
            "AMPL/share/terminfo/w/wy60-43\n",
            "AMPL/share/terminfo/w/wy85-8bit\n",
            "AMPL/share/terminfo/w/wy325-25w\n",
            "AMPL/share/terminfo/w/wyse120-vb\n",
            "AMPL/share/terminfo/w/wren\n",
            "AMPL/share/terminfo/w/wyse50-w\n",
            "AMPL/share/terminfo/w/wyse520-wvb\n",
            "AMPL/share/terminfo/w/wyse-75ap\n",
            "AMPL/share/terminfo/w/wy160-vb\n",
            "AMPL/share/terminfo/w/wy75\n",
            "AMPL/share/terminfo/w/wy60-25\n",
            "AMPL/share/terminfo/w/wyse99gt-25\n",
            "AMPL/share/terminfo/w/wy520\n",
            "AMPL/share/terminfo/w/wy60-43-w\n",
            "AMPL/share/terminfo/w/wy85-w\n",
            "AMPL/share/terminfo/w/wyse75-wvb\n",
            "AMPL/share/terminfo/w/wy75-wvb\n",
            "AMPL/share/terminfo/w/wy520-48w\n",
            "AMPL/share/terminfo/w/wyse520-p-wvb\n",
            "AMPL/share/terminfo/w/wy75-mc\n",
            "AMPL/share/terminfo/w/wy60-PC\n",
            "AMPL/share/terminfo/w/wyse120-25-w\n",
            "AMPL/share/terminfo/w/wy350\n",
            "AMPL/share/terminfo/w/wy160-42-w\n",
            "AMPL/share/terminfo/w/wyse185\n",
            "AMPL/share/terminfo/w/wy60-wvb\n",
            "AMPL/share/terminfo/w/wyse160-42-w\n",
            "AMPL/share/terminfo/w/wyse120-w\n",
            "AMPL/share/terminfo/w/wyse520-48\n",
            "AMPL/share/terminfo/w/wy325\n",
            "AMPL/share/terminfo/w/wy30-vb\n",
            "AMPL/share/terminfo/w/wyse520-36wpc\n",
            "AMPL/share/terminfo/w/wyse325-42\n",
            "AMPL/share/terminfo/w/wyse85-w\n",
            "AMPL/share/terminfo/w/wy99-ansi\n",
            "AMPL/share/terminfo/w/wyse150-25-w\n",
            "AMPL/share/terminfo/w/wyse350\n",
            "AMPL/share/terminfo/w/wyse520-48w\n",
            "AMPL/share/terminfo/w/wy60-42\n",
            "AMPL/share/terminfo/w/wyse75-vb\n",
            "AMPL/share/terminfo/w/wy520-48wpc\n",
            "AMPL/share/terminfo/w/wyse50-mc\n",
            "AMPL/share/terminfo/w/wyse520-48wpc\n",
            "AMPL/share/terminfo/w/wy99gt-25-w\n",
            "AMPL/share/terminfo/w/wyse120-wvb\n",
            "AMPL/share/terminfo/w/wy520-48\n",
            "AMPL/share/terminfo/w/wy325-wvb\n",
            "AMPL/share/terminfo/w/wy325-43\n",
            "AMPL/share/terminfo/w/wy99fa\n",
            "AMPL/share/terminfo/w/wyse520-epc\n",
            "AMPL/share/terminfo/w/wy50-mc\n",
            "AMPL/share/terminfo/w/wyse60-43-w\n",
            "AMPL/share/terminfo/w/wy160-25-w\n",
            "AMPL/share/terminfo/w/wyse75-mc\n",
            "AMPL/share/terminfo/w/wy99gt\n",
            "AMPL/share/terminfo/w/wy520-48pc\n",
            "AMPL/share/terminfo/w/wy150-w\n",
            "AMPL/share/terminfo/w/wy75ap\n",
            "AMPL/share/terminfo/w/wsiris\n",
            "AMPL/share/terminfo/w/wyse185-w\n",
            "AMPL/share/terminfo/w/wyse520-w\n",
            "AMPL/share/terminfo/w/wy50-w\n",
            "AMPL/share/terminfo/w/wy75-w\n",
            "AMPL/share/terminfo/w/wyse85-8bit\n",
            "AMPL/share/terminfo/w/wy120-w\n",
            "AMPL/share/terminfo/w/wyse99gt\n",
            "AMPL/share/terminfo/w/wy160-tek\n",
            "AMPL/share/terminfo/w/wyse325-43w\n",
            "AMPL/share/terminfo/w/wy60-AT\n",
            "AMPL/share/terminfo/w/wy60-vb\n",
            "AMPL/share/terminfo/w/wyse350-vb\n",
            "AMPL/share/terminfo/w/wyse60-vb\n",
            "AMPL/share/terminfo/w/wyse160-25-w\n",
            "AMPL/share/terminfo/w/wy325-vb\n",
            "AMPL/share/terminfo/w/wyse520-36\n",
            "AMPL/share/terminfo/w/wyse60-wvb\n",
            "AMPL/share/terminfo/w/wy-99fgta\n",
            "AMPL/share/terminfo/w/wy520-36pc\n",
            "AMPL/share/terminfo/w/wyse325-vb\n",
            "AMPL/share/terminfo/w/wy325-43w-vb\n",
            "AMPL/share/terminfo/w/wy325-25\n",
            "AMPL/share/terminfo/w/wyse60-AT\n",
            "AMPL/share/terminfo/w/wyse60-w\n",
            "AMPL/share/terminfo/w/wy325-43w\n",
            "AMPL/share/terminfo/w/wyse85-wvb\n",
            "AMPL/share/terminfo/w/wyse325-25\n",
            "AMPL/share/terminfo/w/wy85\n",
            "AMPL/share/terminfo/w/wy160-wvb\n",
            "AMPL/share/terminfo/w/wy520-epc\n",
            "AMPL/share/terminfo/w/wy30-mc\n",
            "AMPL/share/terminfo/w/wy85-vb\n",
            "AMPL/share/terminfo/w/wyse520-48pc\n",
            "AMPL/share/terminfo/w/wyse150-w-vb\n",
            "AMPL/share/terminfo/w/wyse150\n",
            "AMPL/share/terminfo/w/wyse85\n",
            "AMPL/share/terminfo/w/wy60-42-w\n",
            "AMPL/share/terminfo/w/wy160-w-vb\n",
            "AMPL/share/terminfo/w/wyse150-w\n",
            "AMPL/share/terminfo/w/wy99fgt\n",
            "AMPL/share/terminfo/w/wy150-vb\n",
            "AMPL/share/terminfo/w/wy160\n",
            "AMPL/share/terminfo/w/wy185-24\n",
            "AMPL/share/terminfo/w/wyse50\n",
            "AMPL/share/terminfo/w/wy50-wvb\n",
            "AMPL/share/terminfo/w/wyse160-25\n",
            "AMPL/share/terminfo/w/wy100q\n",
            "AMPL/share/terminfo/w/wy120-vb\n",
            "AMPL/share/terminfo/w/wy370-nk\n",
            "AMPL/share/terminfo/w/wy520-36\n",
            "AMPL/share/terminfo/w/wy520-epc-24\n",
            "AMPL/share/terminfo/w/wrenw\n",
            "AMPL/share/terminfo/w/wyse520-pc-vb\n",
            "AMPL/share/terminfo/w/wy85-wvb\n",
            "AMPL/share/terminfo/w/wy520-36wpc\n",
            "AMPL/share/terminfo/w/wyse185-wvb\n",
            "AMPL/share/terminfo/w/wyse520-24\n",
            "AMPL/share/terminfo/w/wyse75-w\n",
            "AMPL/share/terminfo/w/wy120-25-w\n",
            "AMPL/share/terminfo/w/wyse160-42\n",
            "AMPL/share/terminfo/w/wyse325-42w\n",
            "AMPL/share/terminfo/w/wy-99fgt\n",
            "AMPL/share/terminfo/w/wy325-43wvb\n",
            "AMPL/share/terminfo/7/\n",
            "AMPL/share/terminfo/7/730MTGr-24\n",
            "AMPL/share/terminfo/7/730MTGr\n",
            "AMPL/share/terminfo/7/730MTG-41\n",
            "AMPL/share/terminfo/7/730MTG-41r\n",
            "AMPL/share/terminfo/7/730MTG-24\n",
            "AMPL/share/terminfo/L/\n",
            "AMPL/share/terminfo/L/LFT-PC850\n",
            "AMPL/share/terminfo/j/\n",
            "AMPL/share/terminfo/j/jaixterm-m\n",
            "AMPL/share/terminfo/j/jaixterm\n",
            "AMPL/share/terminfo/j/jfbterm\n",
            "AMPL/share/terminfo/j/jerq\n",
            "AMPL/share/terminfo/2/\n",
            "AMPL/share/terminfo/2/2621A\n",
            "AMPL/share/terminfo/2/2621-wl\n",
            "AMPL/share/terminfo/2/2621\n",
            "AMPL/share/terminfo/2/2621a\n",
            "AMPL/share/terminfo/E/\n",
            "AMPL/share/terminfo/E/Eterm-256color\n",
            "AMPL/share/terminfo/E/Eterm-color\n",
            "AMPL/share/terminfo/E/Eterm-88color\n",
            "AMPL/share/terminfo/E/Eterm\n",
            "AMPL/share/terminfo/P/\n",
            "AMPL/share/terminfo/P/P9-8-W\n",
            "AMPL/share/terminfo/P/P9\n",
            "AMPL/share/terminfo/P/P14-M\n",
            "AMPL/share/terminfo/P/P12-M-W\n",
            "AMPL/share/terminfo/P/P14-M-W\n",
            "AMPL/share/terminfo/P/P12-W\n",
            "AMPL/share/terminfo/P/P7\n",
            "AMPL/share/terminfo/P/P8-W\n",
            "AMPL/share/terminfo/P/P14\n",
            "AMPL/share/terminfo/P/P9-W\n",
            "AMPL/share/terminfo/P/P4\n",
            "AMPL/share/terminfo/P/P9-8\n",
            "AMPL/share/terminfo/P/P5\n",
            "AMPL/share/terminfo/P/P12-M\n",
            "AMPL/share/terminfo/P/P12\n",
            "AMPL/share/terminfo/P/P14-W\n",
            "AMPL/share/terminfo/P/P8\n",
            "AMPL/share/terminfo/b/\n",
            "AMPL/share/terminfo/b/bq300-w\n",
            "AMPL/share/terminfo/b/bitgraph\n",
            "AMPL/share/terminfo/b/bq300-8-pc-w-rv\n",
            "AMPL/share/terminfo/b/bsdos-ppc\n",
            "AMPL/share/terminfo/b/blit\n",
            "AMPL/share/terminfo/b/beehive4\n",
            "AMPL/share/terminfo/b/bg3.10rv\n",
            "AMPL/share/terminfo/b/beehive\n",
            "AMPL/share/terminfo/b/bq300-8-pc-w\n",
            "AMPL/share/terminfo/b/bg2.0rv\n",
            "AMPL/share/terminfo/b/bq300-w-8rv\n",
            "AMPL/share/terminfo/b/bobcat\n",
            "AMPL/share/terminfo/b/bq300-8w\n",
            "AMPL/share/terminfo/b/bg1.25nv\n",
            "AMPL/share/terminfo/b/bg1.25\n",
            "AMPL/share/terminfo/b/bq300-8-pc-rv\n",
            "AMPL/share/terminfo/b/bq300-rv\n",
            "AMPL/share/terminfo/b/bct510a\n",
            "AMPL/share/terminfo/b/bterm\n",
            "AMPL/share/terminfo/b/beehive3\n",
            "AMPL/share/terminfo/b/b-128\n",
            "AMPL/share/terminfo/b/bg2.0nv\n",
            "AMPL/share/terminfo/b/bg2.0\n",
            "AMPL/share/terminfo/b/bee\n",
            "AMPL/share/terminfo/b/bsdos-pc-mono\n",
            "AMPL/share/terminfo/b/bsdos-sparc\n",
            "AMPL/share/terminfo/b/bq300-8\n",
            "AMPL/share/terminfo/b/bg1.25rv\n",
            "AMPL/share/terminfo/b/bsdos-pc-m\n",
            "AMPL/share/terminfo/b/bq300-pc-w-rv\n",
            "AMPL/share/terminfo/b/bsdos-pc\n",
            "AMPL/share/terminfo/b/bg3.10nv\n",
            "AMPL/share/terminfo/b/basic4\n",
            "AMPL/share/terminfo/b/bq300-pc-w\n",
            "AMPL/share/terminfo/b/beehiveIIIm\n",
            "AMPL/share/terminfo/b/bq300-8-pc\n",
            "AMPL/share/terminfo/b/bq300-w-rv\n",
            "AMPL/share/terminfo/b/beterm\n",
            "AMPL/share/terminfo/b/bct510d\n",
            "AMPL/share/terminfo/b/bh4\n",
            "AMPL/share/terminfo/b/bq300-pc\n",
            "AMPL/share/terminfo/b/bq300\n",
            "AMPL/share/terminfo/b/bq300-pc-rv\n",
            "AMPL/share/terminfo/b/bh3m\n",
            "AMPL/share/terminfo/b/basis\n",
            "AMPL/share/terminfo/b/bq300-8rv\n",
            "AMPL/share/terminfo/b/bg3.10\n",
            "AMPL/share/terminfo/b/bantam\n",
            "AMPL/share/terminfo/b/bsdos-pc-nobold\n",
            "AMPL/share/terminfo/b/beacon\n",
            "AMPL/share/terminfo/9/\n",
            "AMPL/share/terminfo/9/9term\n",
            "AMPL/share/terminfo/9/955-hb\n",
            "AMPL/share/terminfo/9/955-w\n",
            "AMPL/share/terminfo/6/\n",
            "AMPL/share/terminfo/6/6053\n",
            "AMPL/share/terminfo/6/630MTG-24\n",
            "AMPL/share/terminfo/6/605x\n",
            "AMPL/share/terminfo/6/6053-dg\n",
            "AMPL/share/terminfo/6/605x-dg\n",
            "AMPL/share/terminfo/6/630-lm\n",
            "AMPL/share/terminfo/e/\n",
            "AMPL/share/terminfo/e/emx-base\n",
            "AMPL/share/terminfo/e/exec80\n",
            "AMPL/share/terminfo/e/ecma+index\n",
            "AMPL/share/terminfo/e/excel62-w\n",
            "AMPL/share/terminfo/e/emu\n",
            "AMPL/share/terminfo/e/ecma+italics\n",
            "AMPL/share/terminfo/e/elks-glasstty\n",
            "AMPL/share/terminfo/e/ecma+color\n",
            "AMPL/share/terminfo/e/eterm\n",
            "AMPL/share/terminfo/e/excel64-rv\n",
            "AMPL/share/terminfo/e/env230\n",
            "AMPL/share/terminfo/e/excel62\n",
            "AMPL/share/terminfo/e/ep4000\n",
            "AMPL/share/terminfo/e/ep48\n",
            "AMPL/share/terminfo/e/elks-vt52\n",
            "AMPL/share/terminfo/e/envision230\n",
            "AMPL/share/terminfo/e/ecma+strikeout\n",
            "AMPL/share/terminfo/e/esprit-am\n",
            "AMPL/share/terminfo/e/emu-220\n",
            "AMPL/share/terminfo/e/emots\n",
            "AMPL/share/terminfo/e/ergo4000\n",
            "AMPL/share/terminfo/e/eterm-color\n",
            "AMPL/share/terminfo/e/ex155\n",
            "AMPL/share/terminfo/e/excel64\n",
            "AMPL/share/terminfo/e/elks\n",
            "AMPL/share/terminfo/e/ep4080\n",
            "AMPL/share/terminfo/e/ep40\n",
            "AMPL/share/terminfo/e/elks-ansi\n",
            "AMPL/share/terminfo/e/excel62-rv\n",
            "AMPL/share/terminfo/e/excel64-w\n",
            "AMPL/share/terminfo/e/esprit\n",
            "AMPL/share/terminfo/e/ecma+sgr\n",
            "AMPL/share/terminfo/s/\n",
            "AMPL/share/terminfo/s/scanset\n",
            "AMPL/share/terminfo/s/sun-c\n",
            "AMPL/share/terminfo/s/stv52pc\n",
            "AMPL/share/terminfo/s/screen-256color-bce\n",
            "AMPL/share/terminfo/s/superbee-xsb\n",
            "AMPL/share/terminfo/s/screen.minitel1b-80\n",
            "AMPL/share/terminfo/s/soroc140\n",
            "AMPL/share/terminfo/s/st52-m\n",
            "AMPL/share/terminfo/s/sc415\n",
            "AMPL/share/terminfo/s/screen2\n",
            "AMPL/share/terminfo/s/stterm-256color\n",
            "AMPL/share/terminfo/s/screen-bce.mrxvt\n",
            "AMPL/share/terminfo/s/sc410\n",
            "AMPL/share/terminfo/s/screen-256color\n",
            "AMPL/share/terminfo/s/sun-e\n",
            "AMPL/share/terminfo/s/screen-w\n",
            "AMPL/share/terminfo/s/screen.mlterm\n",
            "AMPL/share/terminfo/s/s4\n",
            "AMPL/share/terminfo/s/screen-bce.linux\n",
            "AMPL/share/terminfo/s/simpleterm\n",
            "AMPL/share/terminfo/s/screen.linux-m1b\n",
            "AMPL/share/terminfo/s/sun-il\n",
            "AMPL/share/terminfo/s/stterm-16color\n",
            "AMPL/share/terminfo/s/sb2\n",
            "AMPL/share/terminfo/s/st52\n",
            "AMPL/share/terminfo/s/superbeeic\n",
            "AMPL/share/terminfo/s/stterm\n",
            "AMPL/share/terminfo/s/screen.minitel1-nb\n",
            "AMPL/share/terminfo/s/screen.putty-m1\n",
            "AMPL/share/terminfo/s/screen.vte-256color\n",
            "AMPL/share/terminfo/s/stv52\n",
            "AMPL/share/terminfo/s/sun2\n",
            "AMPL/share/terminfo/s/screen-bce.rxvt\n",
            "AMPL/share/terminfo/s/screen.vte\n",
            "AMPL/share/terminfo/s/st-direct\n",
            "AMPL/share/terminfo/s/st\n",
            "AMPL/share/terminfo/s/st52-old\n",
            "AMPL/share/terminfo/s/screen.linux-m1\n",
            "AMPL/share/terminfo/s/sun-48\n",
            "AMPL/share/terminfo/s/synertek380\n",
            "AMPL/share/terminfo/s/sun-e-s\n",
            "AMPL/share/terminfo/s/sun1\n",
            "AMPL/share/terminfo/s/screen.rxvt\n",
            "AMPL/share/terminfo/s/scoansi-new\n",
            "AMPL/share/terminfo/s/screen5\n",
            "AMPL/share/terminfo/s/screen.mlterm-256color\n",
            "AMPL/share/terminfo/s/screen.xterm-new\n",
            "AMPL/share/terminfo/s/sun-17\n",
            "AMPL/share/terminfo/s/simterm\n",
            "AMPL/share/terminfo/s/screen-bce.konsole\n",
            "AMPL/share/terminfo/s/screen3\n",
            "AMPL/share/terminfo/s/sun-nic\n",
            "AMPL/share/terminfo/s/superbee\n",
            "AMPL/share/terminfo/s/screen.putty-256color\n",
            "AMPL/share/terminfo/s/scrhp\n",
            "AMPL/share/terminfo/s/st-0.8\n",
            "AMPL/share/terminfo/s/screen.linux-m2\n",
            "AMPL/share/terminfo/s/screen-bce.Eterm\n",
            "AMPL/share/terminfo/s/screen-bce.gnome\n",
            "AMPL/share/terminfo/s/screen-256color-bce-s\n",
            "AMPL/share/terminfo/s/sun-12\n",
            "AMPL/share/terminfo/s/screen.linux\n",
            "AMPL/share/terminfo/s/sv80\n",
            "AMPL/share/terminfo/s/soroc\n",
            "AMPL/share/terminfo/s/st52-color\n",
            "AMPL/share/terminfo/s/sun+sl\n",
            "AMPL/share/terminfo/s/screen.Eterm\n",
            "AMPL/share/terminfo/s/screen.minitel1b\n",
            "AMPL/share/terminfo/s/screen.teraterm\n",
            "AMPL/share/terminfo/s/sun-s\n",
            "AMPL/share/terminfo/s/sibo\n",
            "AMPL/share/terminfo/s/screen.konsole-256color\n",
            "AMPL/share/terminfo/s/sun-34\n",
            "AMPL/share/terminfo/s/sb3\n",
            "AMPL/share/terminfo/s/scoansi\n",
            "AMPL/share/terminfo/s/screen.putty-m2\n",
            "AMPL/share/terminfo/s/scoansi-old\n",
            "AMPL/share/terminfo/s/sun-ss5\n",
            "AMPL/share/terminfo/s/screen.minitel12-80\n",
            "AMPL/share/terminfo/s/sun-cmd\n",
            "AMPL/share/terminfo/s/screen-16color-bce\n",
            "AMPL/share/terminfo/s/sb1\n",
            "AMPL/share/terminfo/s/screen.minitel1\n",
            "AMPL/share/terminfo/s/screen-256color-s\n",
            "AMPL/share/terminfo/s/screen+fkeys\n",
            "AMPL/share/terminfo/s/screen.mrxvt\n",
            "AMPL/share/terminfo/s/screen-16color-s\n",
            "AMPL/share/terminfo/s/st-16color\n",
            "AMPL/share/terminfo/s/sun-cgsix\n",
            "AMPL/share/terminfo/s/screen.xterm-xfree86\n",
            "AMPL/share/terminfo/s/swtp\n",
            "AMPL/share/terminfo/s/sun-24\n",
            "AMPL/share/terminfo/s/screen.konsole\n",
            "AMPL/share/terminfo/s/screen.minitel1b-nb\n",
            "AMPL/share/terminfo/s/screen-s\n",
            "AMPL/share/terminfo/s/system1\n",
            "AMPL/share/terminfo/s/screen-16color-bce-s\n",
            "AMPL/share/terminfo/s/st-256color\n",
            "AMPL/share/terminfo/s/screen+italics\n",
            "AMPL/share/terminfo/s/screen.xterm-256color\n",
            "AMPL/share/terminfo/s/screen.putty-m1b\n",
            "AMPL/share/terminfo/s/screen.putty\n",
            "AMPL/share/terminfo/s/soroc120\n",
            "AMPL/share/terminfo/s/screen-bce\n",
            "AMPL/share/terminfo/s/screen.xterm-r6\n",
            "AMPL/share/terminfo/s/screwpoint\n",
            "AMPL/share/terminfo/s/superbrain\n",
            "AMPL/share/terminfo/s/synertek\n",
            "AMPL/share/terminfo/s/sun-1\n",
            "AMPL/share/terminfo/s/screen-16color\n",
            "AMPL/share/terminfo/s/sbi\n",
            "AMPL/share/terminfo/s/screen4\n",
            "AMPL/share/terminfo/s/sun\n",
            "AMPL/share/terminfo/s/st-0.7\n",
            "AMPL/share/terminfo/s/sun-type4\n",
            "AMPL/share/terminfo/s/screen.gnome\n",
            "AMPL/share/terminfo/s/screen-bce.xterm-new\n",
            "AMPL/share/terminfo/s/sun-color\n",
            "AMPL/share/terminfo/s/screen\n",
            "AMPL/share/terminfo/s/sbobcat\n",
            "AMPL/share/terminfo/s/sune\n",
            "AMPL/share/terminfo/s/sun-s-e\n",
            "AMPL/share/terminfo/s/st-0.6\n",
            "AMPL/share/terminfo/s/spinwriter\n",
            "AMPL/share/terminfo/s/screen.minitel2-80\n",
            "AMPL/share/terminfo/f/\n",
            "AMPL/share/terminfo/f/freedom100\n",
            "AMPL/share/terminfo/f/f110-14\n",
            "AMPL/share/terminfo/f/falco\n",
            "AMPL/share/terminfo/f/f100-rv\n",
            "AMPL/share/terminfo/f/f200vi\n",
            "AMPL/share/terminfo/f/f200\n",
            "AMPL/share/terminfo/f/freedom200\n",
            "AMPL/share/terminfo/f/fortune\n",
            "AMPL/share/terminfo/f/f110-14w\n",
            "AMPL/share/terminfo/f/f110\n",
            "AMPL/share/terminfo/f/freedom\n",
            "AMPL/share/terminfo/f/fbterm\n",
            "AMPL/share/terminfo/f/falco-p\n",
            "AMPL/share/terminfo/f/fixterm\n",
            "AMPL/share/terminfo/f/fos\n",
            "AMPL/share/terminfo/f/fenixw\n",
            "AMPL/share/terminfo/f/f200-w\n",
            "AMPL/share/terminfo/f/freedom110\n",
            "AMPL/share/terminfo/f/f100\n",
            "AMPL/share/terminfo/f/f110-w\n",
            "AMPL/share/terminfo/f/fenix\n",
            "AMPL/share/terminfo/f/f1720\n",
            "AMPL/share/terminfo/f/f1720a\n",
            "AMPL/share/terminfo/f/f200vi-w\n",
            "AMPL/share/terminfo/f/freedom-rv\n",
            "AMPL/share/terminfo/f/fox\n",
            "AMPL/share/terminfo/a/\n",
            "AMPL/share/terminfo/a/apple-uterm\n",
            "AMPL/share/terminfo/a/att4420\n",
            "AMPL/share/terminfo/a/ansil-mono\n",
            "AMPL/share/terminfo/a/att4415-nl\n",
            "AMPL/share/terminfo/a/ampex210\n",
            "AMPL/share/terminfo/a/aj832\n",
            "AMPL/share/terminfo/a/addsvp60\n",
            "AMPL/share/terminfo/a/apollo_15P\n",
            "AMPL/share/terminfo/a/ansi-color-3-emx\n",
            "AMPL/share/terminfo/a/aaa-22\n",
            "AMPL/share/terminfo/a/att4418\n",
            "AMPL/share/terminfo/a/ansi43m\n",
            "AMPL/share/terminfo/a/apple-uterm-vb\n",
            "AMPL/share/terminfo/a/avt-rv\n",
            "AMPL/share/terminfo/a/att4425\n",
            "AMPL/share/terminfo/a/aaa-18-rv\n",
            "AMPL/share/terminfo/a/avt\n",
            "AMPL/share/terminfo/a/att620-w\n",
            "AMPL/share/terminfo/a/alto-heath\n",
            "AMPL/share/terminfo/a/adm2\n",
            "AMPL/share/terminfo/a/adm5\n",
            "AMPL/share/terminfo/a/att700\n",
            "AMPL/share/terminfo/a/aepro\n",
            "AMPL/share/terminfo/a/adm42\n",
            "AMPL/share/terminfo/a/att615-103k-w\n",
            "AMPL/share/terminfo/a/appleIIgs\n",
            "AMPL/share/terminfo/a/aaa-24\n",
            "AMPL/share/terminfo/a/apple-videx3\n",
            "AMPL/share/terminfo/a/avt-w-s\n",
            "AMPL/share/terminfo/a/apple-videx2\n",
            "AMPL/share/terminfo/a/appleIIc\n",
            "AMPL/share/terminfo/a/amiga\n",
            "AMPL/share/terminfo/a/adm31-old\n",
            "AMPL/share/terminfo/a/apple-soroc\n",
            "AMPL/share/terminfo/a/ansi.sys\n",
            "AMPL/share/terminfo/a/att4418-w\n",
            "AMPL/share/terminfo/a/alt5\n",
            "AMPL/share/terminfo/a/avt+s\n",
            "AMPL/share/terminfo/a/att630-24\n",
            "AMPL/share/terminfo/a/adm22\n",
            "AMPL/share/terminfo/a/altos7\n",
            "AMPL/share/terminfo/a/altoh19\n",
            "AMPL/share/terminfo/a/att5430\n",
            "AMPL/share/terminfo/a/att605\n",
            "AMPL/share/terminfo/a/ampex-232\n",
            "AMPL/share/terminfo/a/att510d\n",
            "AMPL/share/terminfo/a/adm3a\n",
            "AMPL/share/terminfo/a/altos4\n",
            "AMPL/share/terminfo/a/att4415-w\n",
            "AMPL/share/terminfo/a/att615-103k\n",
            "AMPL/share/terminfo/a/att4415+nl\n",
            "AMPL/share/terminfo/a/altos7pc\n",
            "AMPL/share/terminfo/a/amiga-h\n",
            "AMPL/share/terminfo/a/at-m\n",
            "AMPL/share/terminfo/a/awsc\n",
            "AMPL/share/terminfo/a/att4425-nl\n",
            "AMPL/share/terminfo/a/ansi+pp\n",
            "AMPL/share/terminfo/a/alto-h19\n",
            "AMPL/share/terminfo/a/altos-3\n",
            "AMPL/share/terminfo/a/ansi+local\n",
            "AMPL/share/terminfo/a/altos5\n",
            "AMPL/share/terminfo/a/ansiterm\n",
            "AMPL/share/terminfo/a/att5420-rv-nl\n",
            "AMPL/share/terminfo/a/apl\n",
            "AMPL/share/terminfo/a/ansisysk\n",
            "AMPL/share/terminfo/a/ansi-mono\n",
            "AMPL/share/terminfo/a/adm1\n",
            "AMPL/share/terminfo/a/aaa-rv-unk\n",
            "AMPL/share/terminfo/a/aaa-60-s\n",
            "AMPL/share/terminfo/a/att5410v1-w\n",
            "AMPL/share/terminfo/a/ansi+rep\n",
            "AMPL/share/terminfo/a/altos-4\n",
            "AMPL/share/terminfo/a/ansi.sysk\n",
            "AMPL/share/terminfo/a/aaa+dec\n",
            "AMPL/share/terminfo/a/aaa-30-rv-ctxt\n",
            "AMPL/share/terminfo/a/avatar1\n",
            "AMPL/share/terminfo/a/arm100-wam\n",
            "AMPL/share/terminfo/a/aaa-30-s-rv\n",
            "AMPL/share/terminfo/a/att5420+nl\n",
            "AMPL/share/terminfo/a/aaa-36-rv\n",
            "AMPL/share/terminfo/a/arm100-am\n",
            "AMPL/share/terminfo/a/att5620-s\n",
            "AMPL/share/terminfo/a/att5410\n",
            "AMPL/share/terminfo/a/avt-rv-ns\n",
            "AMPL/share/terminfo/a/att4415-w-rv-n\n",
            "AMPL/share/terminfo/a/altos-5\n",
            "AMPL/share/terminfo/a/apollo_color\n",
            "AMPL/share/terminfo/a/ansi+csr\n",
            "AMPL/share/terminfo/a/ansi80x60-mono\n",
            "AMPL/share/terminfo/a/ansi+sgr\n",
            "AMPL/share/terminfo/a/apple-videx\n",
            "AMPL/share/terminfo/a/att5620\n",
            "AMPL/share/terminfo/a/aaa-30-rv\n",
            "AMPL/share/terminfo/a/aaa-s-ctxt\n",
            "AMPL/share/terminfo/a/att4410-w\n",
            "AMPL/share/terminfo/a/amiga-8bit\n",
            "AMPL/share/terminfo/a/aaa-rv-ctxt\n",
            "AMPL/share/terminfo/a/att5410-w\n",
            "AMPL/share/terminfo/a/adm36\n",
            "AMPL/share/terminfo/a/act5\n",
            "AMPL/share/terminfo/a/aaa-60-rv\n",
            "AMPL/share/terminfo/a/aaa-20\n",
            "AMPL/share/terminfo/a/ansi+tabs\n",
            "AMPL/share/terminfo/a/ambas\n",
            "AMPL/share/terminfo/a/ansi+sgrso\n",
            "AMPL/share/terminfo/a/att4410v1-w\n",
            "AMPL/share/terminfo/a/att5418\n",
            "AMPL/share/terminfo/a/addsviewpoint\n",
            "AMPL/share/terminfo/a/adm1178\n",
            "AMPL/share/terminfo/a/avt-w-rv\n",
            "AMPL/share/terminfo/a/att4415-rv-nl\n",
            "AMPL/share/terminfo/a/ansi\n",
            "AMPL/share/terminfo/a/att5420_2\n",
            "AMPL/share/terminfo/a/alt2\n",
            "AMPL/share/terminfo/a/alacritty-direct\n",
            "AMPL/share/terminfo/a/att5420-w\n",
            "AMPL/share/terminfo/a/abm85h\n",
            "AMPL/share/terminfo/a/att5620-34\n",
            "AMPL/share/terminfo/a/a210\n",
            "AMPL/share/terminfo/a/aterm\n",
            "AMPL/share/terminfo/a/aaa+rv\n",
            "AMPL/share/terminfo/a/at386\n",
            "AMPL/share/terminfo/a/at-color\n",
            "AMPL/share/terminfo/a/att5320\n",
            "AMPL/share/terminfo/a/adm+sgr\n",
            "AMPL/share/terminfo/a/adm3a+\n",
            "AMPL/share/terminfo/a/ansiw\n",
            "AMPL/share/terminfo/a/apple80p\n",
            "AMPL/share/terminfo/a/att5420-w-rv\n",
            "AMPL/share/terminfo/a/adm1a\n",
            "AMPL/share/terminfo/a/apollo\n",
            "AMPL/share/terminfo/a/att4415-w-nl\n",
            "AMPL/share/terminfo/a/atari-old\n",
            "AMPL/share/terminfo/a/ampex219w\n",
            "AMPL/share/terminfo/a/att6386\n",
            "AMPL/share/terminfo/a/aaa-40-rv\n",
            "AMPL/share/terminfo/a/avt-w-rv-s\n",
            "AMPL/share/terminfo/a/apple2e\n",
            "AMPL/share/terminfo/a/att513\n",
            "AMPL/share/terminfo/a/altos3\n",
            "AMPL/share/terminfo/a/aaa-26\n",
            "AMPL/share/terminfo/a/alt7\n",
            "AMPL/share/terminfo/a/avt-ns\n",
            "AMPL/share/terminfo/a/adm3\n",
            "AMPL/share/terminfo/a/adm42-ns\n",
            "AMPL/share/terminfo/a/appleIIe\n",
            "AMPL/share/terminfo/a/att620-103k\n",
            "AMPL/share/terminfo/a/addrinfo\n",
            "AMPL/share/terminfo/a/ansi80x43\n",
            "AMPL/share/terminfo/a/att620\n",
            "AMPL/share/terminfo/a/att610-w\n",
            "AMPL/share/terminfo/a/aaa-40\n",
            "AMPL/share/terminfo/a/ansi-emx\n",
            "AMPL/share/terminfo/a/att5420_2-w\n",
            "AMPL/share/terminfo/a/att730-41\n",
            "AMPL/share/terminfo/a/ansi+sgrbold\n",
            "AMPL/share/terminfo/a/ansi-nt\n",
            "AMPL/share/terminfo/a/ansis\n",
            "AMPL/share/terminfo/a/avt-w-ns\n",
            "AMPL/share/terminfo/a/adm31\n",
            "AMPL/share/terminfo/a/aaa-rv\n",
            "AMPL/share/terminfo/a/ansi+arrows\n",
            "AMPL/share/terminfo/a/aixterm-16color\n",
            "AMPL/share/terminfo/a/ampex175-b\n",
            "AMPL/share/terminfo/a/att4415-w-rv\n",
            "AMPL/share/terminfo/a/adm12\n",
            "AMPL/share/terminfo/a/arm100-w\n",
            "AMPL/share/terminfo/a/ansi80x30-mono\n",
            "AMPL/share/terminfo/a/att4424-1\n",
            "AMPL/share/terminfo/a/aaa-db\n",
            "AMPL/share/terminfo/a/aaa-60-s-rv\n",
            "AMPL/share/terminfo/a/att4425-w\n",
            "AMPL/share/terminfo/a/ansi.sys-old\n",
            "AMPL/share/terminfo/a/appleII\n",
            "AMPL/share/terminfo/a/att730r\n",
            "AMPL/share/terminfo/a/att620-103k-w\n",
            "AMPL/share/terminfo/a/ampex175\n",
            "AMPL/share/terminfo/a/abm85\n",
            "AMPL/share/terminfo/a/ansi+rca\n",
            "AMPL/share/terminfo/a/ansi+sgrul\n",
            "AMPL/share/terminfo/a/att5420\n",
            "AMPL/share/terminfo/a/att730-24\n",
            "AMPL/share/terminfo/a/ansi-mtabs\n",
            "AMPL/share/terminfo/a/apple-vm80\n",
            "AMPL/share/terminfo/a/aas1901\n",
            "AMPL/share/terminfo/a/amiga-vnc\n",
            "AMPL/share/terminfo/a/ampex80\n",
            "AMPL/share/terminfo/a/aj830\n",
            "AMPL/share/terminfo/a/ansi80x25-mono\n",
            "AMPL/share/terminfo/a/aaa-28\n",
            "AMPL/share/terminfo/a/ampex-219w\n",
            "AMPL/share/terminfo/a/ap-vm80\n",
            "AMPL/share/terminfo/a/att4424m\n",
            "AMPL/share/terminfo/a/att4410\n",
            "AMPL/share/terminfo/a/aixterm\n",
            "AMPL/share/terminfo/a/avt-w-rv-ns\n",
            "AMPL/share/terminfo/a/ansi+idl\n",
            "AMPL/share/terminfo/a/aj510\n",
            "AMPL/share/terminfo/a/att4415-rv\n",
            "AMPL/share/terminfo/a/aaa-unk\n",
            "AMPL/share/terminfo/a/ansi-m\n",
            "AMPL/share/terminfo/a/aaa-s-rv\n",
            "AMPL/share/terminfo/a/att5420-w-nl\n",
            "AMPL/share/terminfo/a/aaa-s-rv-ctxt\n",
            "AMPL/share/terminfo/a/amp219\n",
            "AMPL/share/terminfo/a/att4426\n",
            "AMPL/share/terminfo/a/att4410v1\n",
            "AMPL/share/terminfo/a/avt-s\n",
            "AMPL/share/terminfo/a/annarbor4080\n",
            "AMPL/share/terminfo/a/att5418-w\n",
            "AMPL/share/terminfo/a/ansil\n",
            "AMPL/share/terminfo/a/aa4080\n",
            "AMPL/share/terminfo/a/ansi77\n",
            "AMPL/share/terminfo/a/att5420-nl\n",
            "AMPL/share/terminfo/a/avatar0\n",
            "AMPL/share/terminfo/a/avt-w\n",
            "AMPL/share/terminfo/a/abm85e\n",
            "AMPL/share/terminfo/a/aj\n",
            "AMPL/share/terminfo/a/avatar0+\n",
            "AMPL/share/terminfo/a/att5425\n",
            "AMPL/share/terminfo/a/aaa\n",
            "AMPL/share/terminfo/a/ambassador\n",
            "AMPL/share/terminfo/a/altoheath\n",
            "AMPL/share/terminfo/a/ansi+inittabs\n",
            "AMPL/share/terminfo/a/ansi80x30\n",
            "AMPL/share/terminfo/a/ansi80x43-mono\n",
            "AMPL/share/terminfo/a/atari_st-color\n",
            "AMPL/share/terminfo/a/att605-w\n",
            "AMPL/share/terminfo/a/ansi+idc1\n",
            "AMPL/share/terminfo/a/ansi-color-2-emx\n",
            "AMPL/share/terminfo/a/att610\n",
            "AMPL/share/terminfo/a/att630\n",
            "AMPL/share/terminfo/a/ansi+enq\n",
            "AMPL/share/terminfo/a/apple2e-p\n",
            "AMPL/share/terminfo/a/att610-103k\n",
            "AMPL/share/terminfo/a/att4415\n",
            "AMPL/share/terminfo/a/att7300\n",
            "AMPL/share/terminfo/a/act4\n",
            "AMPL/share/terminfo/a/aaa-30\n",
            "AMPL/share/terminfo/a/atarist-m\n",
            "AMPL/share/terminfo/a/ansi-mini\n",
            "AMPL/share/terminfo/a/att2300\n",
            "AMPL/share/terminfo/a/arm100\n",
            "AMPL/share/terminfo/a/adds980\n",
            "AMPL/share/terminfo/a/adm21\n",
            "AMPL/share/terminfo/a/att5620-24\n",
            "AMPL/share/terminfo/a/aaa+unk\n",
            "AMPL/share/terminfo/a/aixterm-m\n",
            "AMPL/share/terminfo/a/att4424\n",
            "AMPL/share/terminfo/a/abm85h-old\n",
            "AMPL/share/terminfo/a/abm80\n",
            "AMPL/share/terminfo/a/ampex-219\n",
            "AMPL/share/terminfo/a/aaa-60-dec-rv\n",
            "AMPL/share/terminfo/a/ampex232w\n",
            "AMPL/share/terminfo/a/apple-80\n",
            "AMPL/share/terminfo/a/aaa-30-s-rv-ct\n",
            "AMPL/share/terminfo/a/a980\n",
            "AMPL/share/terminfo/a/alt3\n",
            "AMPL/share/terminfo/a/amp219w\n",
            "AMPL/share/terminfo/a/adm11\n",
            "AMPL/share/terminfo/a/ansi+idc\n",
            "AMPL/share/terminfo/a/atari_st\n",
            "AMPL/share/terminfo/a/att5410v1\n",
            "AMPL/share/terminfo/a/ansi-generic\n",
            "AMPL/share/terminfo/a/att730\n",
            "AMPL/share/terminfo/a/aaa-30-s\n",
            "AMPL/share/terminfo/a/a80\n",
            "AMPL/share/terminfo/a/atari\n",
            "AMPL/share/terminfo/a/aaa-ctxt\n",
            "AMPL/share/terminfo/a/aaa-18\n",
            "AMPL/share/terminfo/a/att605-pc\n",
            "AMPL/share/terminfo/a/ansi80x25-raw\n",
            "AMPL/share/terminfo/a/att5620-1\n",
            "AMPL/share/terminfo/a/ansi+sgrdim\n",
            "AMPL/share/terminfo/a/ansi80x60\n",
            "AMPL/share/terminfo/a/adm20\n",
            "AMPL/share/terminfo/a/att5425-w\n",
            "AMPL/share/terminfo/a/alt7pc\n",
            "AMPL/share/terminfo/a/ampex219\n",
            "AMPL/share/terminfo/a/alacritty+common\n",
            "AMPL/share/terminfo/a/aaa-36\n",
            "AMPL/share/terminfo/a/ansi80x25\n",
            "AMPL/share/terminfo/a/aixterm-m-old\n",
            "AMPL/share/terminfo/a/att5425-nl\n",
            "AMPL/share/terminfo/a/apple-ae\n",
            "AMPL/share/terminfo/a/ansi80x50-mono\n",
            "AMPL/share/terminfo/a/adds200\n",
            "AMPL/share/terminfo/a/att505\n",
            "AMPL/share/terminfo/a/att505-24\n",
            "AMPL/share/terminfo/a/avatar\n",
            "AMPL/share/terminfo/a/aaa-24-rv\n",
            "AMPL/share/terminfo/a/at\n",
            "AMPL/share/terminfo/a/apollo_19L\n",
            "AMPL/share/terminfo/a/att500\n",
            "AMPL/share/terminfo/a/ansi+cup\n",
            "AMPL/share/terminfo/a/ansi+local1\n",
            "AMPL/share/terminfo/a/alt4\n",
            "AMPL/share/terminfo/a/altos2\n",
            "AMPL/share/terminfo/a/ansi-mr\n",
            "AMPL/share/terminfo/a/atari-m\n",
            "AMPL/share/terminfo/a/att730r-41\n",
            "AMPL/share/terminfo/a/att2350\n",
            "AMPL/share/terminfo/a/att5420-rv\n",
            "AMPL/share/terminfo/a/att610-103k-w\n",
            "AMPL/share/terminfo/a/att510a\n",
            "AMPL/share/terminfo/a/aws\n",
            "AMPL/share/terminfo/a/att5310\n",
            "AMPL/share/terminfo/a/ansi+idl1\n",
            "AMPL/share/terminfo/a/atari-color\n",
            "AMPL/share/terminfo/a/ansis-mono\n",
            "AMPL/share/terminfo/a/att5420-w-rv-n\n",
            "AMPL/share/terminfo/a/att730r-24\n",
            "AMPL/share/terminfo/a/aaa-60\n",
            "AMPL/share/terminfo/a/ampex232\n",
            "AMPL/share/terminfo/a/aaa-s\n",
            "AMPL/share/terminfo/a/aaa-48-rv\n",
            "AMPL/share/terminfo/a/aaa-30-ctxt\n",
            "AMPL/share/terminfo/a/alacritty\n",
            "AMPL/share/terminfo/a/avt-rv-s\n",
            "AMPL/share/terminfo/a/altos-2\n",
            "AMPL/share/terminfo/a/att615\n",
            "AMPL/share/terminfo/a/aaa-48\n",
            "AMPL/share/terminfo/a/ansi80x50\n",
            "AMPL/share/terminfo/a/att615-w\n",
            "AMPL/share/terminfo/a/aaa-30-s-ctxt\n",
            "AMPL/share/terminfo/a/ansi+erase\n",
            "AMPL/share/terminfo/8/\n",
            "AMPL/share/terminfo/8/8510\n",
            "AMPL/share/terminfo/A/\n",
            "AMPL/share/terminfo/A/Apple_Terminal\n",
            "AMPL/share/terminfo/N/\n",
            "AMPL/share/terminfo/N/NCR260VT300WPP\n",
            "AMPL/share/terminfo/N/NCRVT100WPP\n",
            "AMPL/share/terminfo/z/\n",
            "AMPL/share/terminfo/z/zenith29\n",
            "AMPL/share/terminfo/z/z39-a\n",
            "AMPL/share/terminfo/z/z29a-nkc-uc\n",
            "AMPL/share/terminfo/z/z29a-nkc-bc\n",
            "AMPL/share/terminfo/z/z8001\n",
            "AMPL/share/terminfo/z/zenith\n",
            "AMPL/share/terminfo/z/z29a\n",
            "AMPL/share/terminfo/z/z19\n",
            "AMPL/share/terminfo/z/zt-1\n",
            "AMPL/share/terminfo/z/z100bw\n",
            "AMPL/share/terminfo/z/ztx\n",
            "AMPL/share/terminfo/z/zen50\n",
            "AMPL/share/terminfo/z/zenith39-a\n",
            "AMPL/share/terminfo/z/z29\n",
            "AMPL/share/terminfo/z/z29a-kc-bc\n",
            "AMPL/share/terminfo/z/z50\n",
            "AMPL/share/terminfo/z/z29b\n",
            "AMPL/share/terminfo/z/z30\n",
            "AMPL/share/terminfo/z/ztx11\n",
            "AMPL/share/terminfo/z/z340\n",
            "AMPL/share/terminfo/z/z110bw\n",
            "AMPL/share/terminfo/z/z29a-kc-uc\n",
            "AMPL/share/terminfo/z/z-100bw\n",
            "AMPL/share/terminfo/z/z340-nam\n",
            "AMPL/share/terminfo/z/zen8001\n",
            "AMPL/share/terminfo/z/z-100\n",
            "AMPL/share/terminfo/z/z39a\n",
            "AMPL/share/terminfo/z/zen30\n",
            "AMPL/share/terminfo/z/zenith39-ansi\n",
            "AMPL/share/terminfo/z/ztx-1-a\n",
            "AMPL/share/terminfo/z/z110\n",
            "AMPL/share/terminfo/z/z100\n",
            "AMPL/share/terminfo/r/\n",
            "AMPL/share/terminfo/r/rxvt-16color\n",
            "AMPL/share/terminfo/r/regent60\n",
            "AMPL/share/terminfo/r/rbcomm-nam\n",
            "AMPL/share/terminfo/r/rebus3180\n",
            "AMPL/share/terminfo/r/rcons-color\n",
            "AMPL/share/terminfo/r/rxvt+pcfkeys\n",
            "AMPL/share/terminfo/r/rt6221\n",
            "AMPL/share/terminfo/r/rxvt\n",
            "AMPL/share/terminfo/r/rxvt-basic\n",
            "AMPL/share/terminfo/r/regent20\n",
            "AMPL/share/terminfo/r/rxvt-cygwin-native\n",
            "AMPL/share/terminfo/r/regent\n",
            "AMPL/share/terminfo/r/rxvt-xpm\n",
            "AMPL/share/terminfo/r/rt6221-w\n",
            "AMPL/share/terminfo/r/rxvt-cygwin\n",
            "AMPL/share/terminfo/r/rtpc\n",
            "AMPL/share/terminfo/r/rxvt-256color\n",
            "AMPL/share/terminfo/r/regent25\n",
            "AMPL/share/terminfo/r/regent200\n",
            "AMPL/share/terminfo/r/rca\n",
            "AMPL/share/terminfo/r/rbcomm\n",
            "AMPL/share/terminfo/r/regent100\n",
            "AMPL/share/terminfo/r/rcons\n",
            "AMPL/share/terminfo/r/rbcomm-w\n",
            "AMPL/share/terminfo/r/regent40\n",
            "AMPL/share/terminfo/r/rxvt-88color\n",
            "AMPL/share/terminfo/r/rxvt-color\n",
            "AMPL/share/terminfo/r/regent40+\n",
            "AMPL/share/terminfo/Q/\n",
            "AMPL/share/terminfo/Q/Q310-vip-H-am\n",
            "AMPL/share/terminfo/Q/Q310-vip-w-am\n",
            "AMPL/share/terminfo/Q/Q306-8-pc\n",
            "AMPL/share/terminfo/Q/Q310-vip-Hw\n",
            "AMPL/share/terminfo/Q/Q310-vip-w\n",
            "AMPL/share/terminfo/Q/Q310-vip-H\n",
            "AMPL/share/terminfo/v/\n",
            "AMPL/share/terminfo/v/vt200-js\n",
            "AMPL/share/terminfo/v/vt300-w\n",
            "AMPL/share/terminfo/v/vv100\n",
            "AMPL/share/terminfo/v/visa50\n",
            "AMPL/share/terminfo/v/vi200-f\n",
            "AMPL/share/terminfo/v/vte+pcfkeys\n",
            "AMPL/share/terminfo/v/vi500\n",
            "AMPL/share/terminfo/v/vip-w\n",
            "AMPL/share/terminfo/v/vt420pc\n",
            "AMPL/share/terminfo/v/vt100-bm\n",
            "AMPL/share/terminfo/v/vt510\n",
            "AMPL/share/terminfo/v/vremote\n",
            "AMPL/share/terminfo/v/vip7800-H\n",
            "AMPL/share/terminfo/v/v5410\n",
            "AMPL/share/terminfo/v/vc303\n",
            "AMPL/share/terminfo/v/vt100-bm-o\n",
            "AMPL/share/terminfo/v/vc403a\n",
            "AMPL/share/terminfo/v/vt100-nav-w\n",
            "AMPL/share/terminfo/v/vi55\n",
            "AMPL/share/terminfo/v/vi200\n",
            "AMPL/share/terminfo/v/viewpoint3a+\n",
            "AMPL/share/terminfo/v/vte\n",
            "AMPL/share/terminfo/v/vt100-w-am\n",
            "AMPL/share/terminfo/v/vt420+lrmm\n",
            "AMPL/share/terminfo/v/vt510pcdos\n",
            "AMPL/share/terminfo/v/versaterm\n",
            "AMPL/share/terminfo/v/vt100-s-top\n",
            "AMPL/share/terminfo/v/v200-nam\n",
            "AMPL/share/terminfo/v/vt100-w-nav\n",
            "AMPL/share/terminfo/v/vt320\n",
            "AMPL/share/terminfo/v/vt102-w\n",
            "AMPL/share/terminfo/v/viewpoint60\n",
            "AMPL/share/terminfo/v/vsc\n",
            "AMPL/share/terminfo/v/vip7800-w\n",
            "AMPL/share/terminfo/v/vc203\n",
            "AMPL/share/terminfo/v/vt220\n",
            "AMPL/share/terminfo/v/vt520\n",
            "AMPL/share/terminfo/v/vc404\n",
            "AMPL/share/terminfo/v/vt400-24\n",
            "AMPL/share/terminfo/v/vt200-8bit\n",
            "AMPL/share/terminfo/v/vte-direct\n",
            "AMPL/share/terminfo/v/vc404-s\n",
            "AMPL/share/terminfo/v/viewdata\n",
            "AMPL/share/terminfo/v/vp90\n",
            "AMPL/share/terminfo/v/vte-2014\n",
            "AMPL/share/terminfo/v/vt-utf8\n",
            "AMPL/share/terminfo/v/vscode-direct\n",
            "AMPL/share/terminfo/v/vt100+pfkeys\n",
            "AMPL/share/terminfo/v/vt525\n",
            "AMPL/share/terminfo/v/vt220-w\n",
            "AMPL/share/terminfo/v/vt50\n",
            "AMPL/share/terminfo/v/vt100\n",
            "AMPL/share/terminfo/v/vt-61\n",
            "AMPL/share/terminfo/v/vt131\n",
            "AMPL/share/terminfo/v/vt300-w-nam\n",
            "AMPL/share/terminfo/v/vt100-nam\n",
            "AMPL/share/terminfo/v/vs100\n",
            "AMPL/share/terminfo/v/vp3a+\n",
            "AMPL/share/terminfo/v/vt320-k3\n",
            "AMPL/share/terminfo/v/vt132\n",
            "AMPL/share/terminfo/v/vt100-nav\n",
            "AMPL/share/terminfo/v/vip\n",
            "AMPL/share/terminfo/v/vt340\n",
            "AMPL/share/terminfo/v/vt510pc\n",
            "AMPL/share/terminfo/v/vc415\n",
            "AMPL/share/terminfo/v/vt300-nam\n",
            "AMPL/share/terminfo/v/vip-H\n",
            "AMPL/share/terminfo/v/vt100+\n",
            "AMPL/share/terminfo/v/vt320-nam\n",
            "AMPL/share/terminfo/v/vwmterm\n",
            "AMPL/share/terminfo/v/vt52\n",
            "AMPL/share/terminfo/v/vt220-8\n",
            "AMPL/share/terminfo/v/vt220+keypad\n",
            "AMPL/share/terminfo/v/vt50h\n",
            "AMPL/share/terminfo/v/vc103\n",
            "AMPL/share/terminfo/v/vanilla\n",
            "AMPL/share/terminfo/v/vt100+4bsd\n",
            "AMPL/share/terminfo/v/visual603\n",
            "AMPL/share/terminfo/v/vt100-vb\n",
            "AMPL/share/terminfo/v/vt200-w\n",
            "AMPL/share/terminfo/v/vt125\n",
            "AMPL/share/terminfo/v/vp60\n",
            "AMPL/share/terminfo/v/vt200-8\n",
            "AMPL/share/terminfo/v/vt220-nam\n",
            "AMPL/share/terminfo/v/viewpoint\n",
            "AMPL/share/terminfo/v/vt220-old\n",
            "AMPL/share/terminfo/v/vte-256color\n",
            "AMPL/share/terminfo/v/vip-Hw\n",
            "AMPL/share/terminfo/v/vapple\n",
            "AMPL/share/terminfo/v/vt100-s\n",
            "AMPL/share/terminfo/v/vc414\n",
            "AMPL/share/terminfo/v/vte-2008\n",
            "AMPL/share/terminfo/v/venix\n",
            "AMPL/share/terminfo/v/vt220-8bit\n",
            "AMPL/share/terminfo/v/vt61\n",
            "AMPL/share/terminfo/v/vi200-rv\n",
            "AMPL/share/terminfo/v/vt100-w\n",
            "AMPL/share/terminfo/v/vt200\n",
            "AMPL/share/terminfo/v/vi50\n",
            "AMPL/share/terminfo/v/vt320-w-nam\n",
            "AMPL/share/terminfo/v/vt100-w-nam\n",
            "AMPL/share/terminfo/v/viewdata-o\n",
            "AMPL/share/terminfo/v/vscode\n",
            "AMPL/share/terminfo/v/vt100-bot-s\n",
            "AMPL/share/terminfo/v/vitty\n",
            "AMPL/share/terminfo/v/vc303a\n",
            "AMPL/share/terminfo/v/vt320nam\n",
            "AMPL/share/terminfo/v/vi300\n",
            "AMPL/share/terminfo/v/vt102-nsgr\n",
            "AMPL/share/terminfo/v/vt220d\n",
            "AMPL/share/terminfo/v/vs100-x10\n",
            "AMPL/share/terminfo/v/vt200-old\n",
            "AMPL/share/terminfo/v/vt520ansi\n",
            "AMPL/share/terminfo/v/vte-2007\n",
            "AMPL/share/terminfo/v/vt100+enq\n",
            "AMPL/share/terminfo/v/vt400\n",
            "AMPL/share/terminfo/v/vt320-k311\n",
            "AMPL/share/terminfo/v/vt100nam\n",
            "AMPL/share/terminfo/v/vt102\n",
            "AMPL/share/terminfo/v/vte-2017\n",
            "AMPL/share/terminfo/v/vtnt\n",
            "AMPL/share/terminfo/v/vi550\n",
            "AMPL/share/terminfo/v/viewpoint90\n",
            "AMPL/share/terminfo/v/vt100-s-bot\n",
            "AMPL/share/terminfo/v/v320n\n",
            "AMPL/share/terminfo/v/vt220-js\n",
            "AMPL/share/terminfo/v/vt100+keypad\n",
            "AMPL/share/terminfo/v/vip7800-Hw\n",
            "AMPL/share/terminfo/v/vte-2012\n",
            "AMPL/share/terminfo/v/v3220\n",
            "AMPL/share/terminfo/v/vt100-am\n",
            "AMPL/share/terminfo/v/vi50adm\n",
            "AMPL/share/terminfo/v/vt61.5\n",
            "AMPL/share/terminfo/v/vt330\n",
            "AMPL/share/terminfo/v/vt100-nam-w\n",
            "AMPL/share/terminfo/v/vc414h\n",
            "AMPL/share/terminfo/v/vk100\n",
            "AMPL/share/terminfo/v/vt100-putty\n",
            "AMPL/share/terminfo/v/vt420\n",
            "AMPL/share/terminfo/v/vt100+fnkeys\n",
            "AMPL/share/terminfo/v/vi300-old\n",
            "AMPL/share/terminfo/v/vt420pcdos\n",
            "AMPL/share/terminfo/v/vt300\n",
            "AMPL/share/terminfo/v/vt420f\n",
            "AMPL/share/terminfo/v/vt102+enq\n",
            "AMPL/share/terminfo/v/vt100-top-s\n",
            "AMPL/share/terminfo/v/vte-2018\n",
            "AMPL/share/terminfo/v/vt320-w\n",
            "AMPL/share/terminfo/v/vi603\n",
            "AMPL/share/terminfo/v/viewdata-rv\n",
            "AMPL/share/terminfo/l/\n",
            "AMPL/share/terminfo/l/linux-16color\n",
            "AMPL/share/terminfo/l/lisaterm-w\n",
            "AMPL/share/terminfo/l/linux-m\n",
            "AMPL/share/terminfo/l/lft\n",
            "AMPL/share/terminfo/l/lpr\n",
            "AMPL/share/terminfo/l/linux2.6\n",
            "AMPL/share/terminfo/l/linux-vt\n",
            "AMPL/share/terminfo/l/linux-nic\n",
            "AMPL/share/terminfo/l/linux-m1\n",
            "AMPL/share/terminfo/l/linux-basic\n",
            "AMPL/share/terminfo/l/lisa\n",
            "AMPL/share/terminfo/l/linux-koi8r\n",
            "AMPL/share/terminfo/l/linux-m1b\n",
            "AMPL/share/terminfo/l/la120\n",
            "AMPL/share/terminfo/l/linux-lat\n",
            "AMPL/share/terminfo/l/ln03-w\n",
            "AMPL/share/terminfo/l/linux-c-nc\n",
            "AMPL/share/terminfo/l/linux-c\n",
            "AMPL/share/terminfo/l/linux-koi8\n",
            "AMPL/share/terminfo/l/ln03\n",
            "AMPL/share/terminfo/l/luna\n",
            "AMPL/share/terminfo/l/lisaterm\n",
            "AMPL/share/terminfo/l/liswb\n",
            "AMPL/share/terminfo/l/linux2.6.26\n",
            "AMPL/share/terminfo/l/linux\n",
            "AMPL/share/terminfo/l/luna68k\n",
            "AMPL/share/terminfo/l/layer\n",
            "AMPL/share/terminfo/l/linux-m2\n",
            "AMPL/share/terminfo/l/linux3.0\n",
            "AMPL/share/terminfo/l/linux2.2\n",
            "AMPL/share/terminfo/l/lft-pc850\n",
            "AMPL/share/terminfo/q/\n",
            "AMPL/share/terminfo/q/qvt101\n",
            "AMPL/share/terminfo/q/qvt119+\n",
            "AMPL/share/terminfo/q/qume5\n",
            "AMPL/share/terminfo/q/qnxt4\n",
            "AMPL/share/terminfo/q/qvt119p\n",
            "AMPL/share/terminfo/q/qvt119-w\n",
            "AMPL/share/terminfo/q/qvt119p-25-w\n",
            "AMPL/share/terminfo/q/qansi\n",
            "AMPL/share/terminfo/q/qume\n",
            "AMPL/share/terminfo/q/qnx\n",
            "AMPL/share/terminfo/q/qvt108\n",
            "AMPL/share/terminfo/q/qvt119-25-w\n",
            "AMPL/share/terminfo/q/qdcons\n",
            "AMPL/share/terminfo/q/qvt119+-w\n",
            "AMPL/share/terminfo/q/qvt101p\n",
            "AMPL/share/terminfo/q/qnx4\n",
            "AMPL/share/terminfo/q/qnxt2\n",
            "AMPL/share/terminfo/q/qnxm\n",
            "AMPL/share/terminfo/q/qansi-m\n",
            "AMPL/share/terminfo/q/qvt203-25\n",
            "AMPL/share/terminfo/q/qvt119\n",
            "AMPL/share/terminfo/q/qansi-g\n",
            "AMPL/share/terminfo/q/qdss\n",
            "AMPL/share/terminfo/q/qvt101+\n",
            "AMPL/share/terminfo/q/qvt119+-25-w\n",
            "AMPL/share/terminfo/q/qvt203-w-am\n",
            "AMPL/share/terminfo/q/qnxw\n",
            "AMPL/share/terminfo/q/qvt203-25-w\n",
            "AMPL/share/terminfo/q/qvt203\n",
            "AMPL/share/terminfo/q/qnxt\n",
            "AMPL/share/terminfo/q/qansi-t\n",
            "AMPL/share/terminfo/q/qvt102\n",
            "AMPL/share/terminfo/q/qansi-w\n",
            "AMPL/share/terminfo/q/qnxtmono\n",
            "AMPL/share/terminfo/q/qvt119+-25\n",
            "AMPL/share/terminfo/q/qvt103-w\n",
            "AMPL/share/terminfo/q/qvt203+\n",
            "AMPL/share/terminfo/q/qvt119p-25\n",
            "AMPL/share/terminfo/q/qvt103\n",
            "AMPL/share/terminfo/q/qvt203-w\n",
            "AMPL/share/terminfo/q/qvt119p-w\n",
            "AMPL/share/terminfo/3/\n",
            "AMPL/share/terminfo/3/3b1\n",
            "AMPL/share/terminfo/3/386at\n",
            "AMPL/share/terminfo/u/\n",
            "AMPL/share/terminfo/u/ultimaII\n",
            "AMPL/share/terminfo/u/uwin\n",
            "AMPL/share/terminfo/u/ultima2\n",
            "AMPL/share/terminfo/u/uniterm\n",
            "AMPL/share/terminfo/u/unknown\n",
            "AMPL/share/terminfo/u/unixpc\n",
            "AMPL/share/terminfo/u/uts30\n",
            "AMPL/share/terminfo/u/uniterm49\n",
            "AMPL/share/terminfo/M/\n",
            "AMPL/share/terminfo/M/MtxOrb162\n",
            "AMPL/share/terminfo/M/MtxOrb\n",
            "AMPL/share/terminfo/M/MtxOrb204\n",
            "AMPL/share/terminfo/x/\n",
            "AMPL/share/terminfo/x/xl83\n",
            "AMPL/share/terminfo/x/x68k-ite\n",
            "AMPL/share/terminfo/x/xnuppc+c\n",
            "AMPL/share/terminfo/x/xterm+app\n",
            "AMPL/share/terminfo/x/xterm+sm+1002\n",
            "AMPL/share/terminfo/x/xterm\n",
            "AMPL/share/terminfo/x/xterm-basic\n",
            "AMPL/share/terminfo/x/x1700\n",
            "AMPL/share/terminfo/x/xterm+sl-twm\n",
            "AMPL/share/terminfo/x/xterm+sm+1003\n",
            "AMPL/share/terminfo/x/xterm-16color\n",
            "AMPL/share/terminfo/x/xnuppc-100x37-m\n",
            "AMPL/share/terminfo/x/xerox1720\n",
            "AMPL/share/terminfo/x/xnuppc-200x75-m\n",
            "AMPL/share/terminfo/x/x1720\n",
            "AMPL/share/terminfo/x/xnuppc+256x96\n",
            "AMPL/share/terminfo/x/xenix\n",
            "AMPL/share/terminfo/x/xterms\n",
            "AMPL/share/terminfo/x/xterm+vt+edit\n",
            "AMPL/share/terminfo/x/xnuppc-90x30-m\n",
            "AMPL/share/terminfo/x/xterm+noapp\n",
            "AMPL/share/terminfo/x/xtermm\n",
            "AMPL/share/terminfo/x/xnuppc+200x64\n",
            "AMPL/share/terminfo/x/xterm+pcfkeys\n",
            "AMPL/share/terminfo/x/xterm+tmux\n",
            "AMPL/share/terminfo/x/xterm+pcc3\n",
            "AMPL/share/terminfo/x/xterm-r6\n",
            "AMPL/share/terminfo/x/xnuppc-128x48-m\n",
            "AMPL/share/terminfo/x/xterm-direct2\n",
            "AMPL/share/terminfo/x/xterm+256color\n",
            "AMPL/share/terminfo/x/xterm+keypad\n",
            "AMPL/share/terminfo/x/xterm-nic\n",
            "AMPL/share/terminfo/x/xterm+r6f2\n",
            "AMPL/share/terminfo/x/xnuppc\n",
            "AMPL/share/terminfo/x/xnuppc-200x64\n",
            "AMPL/share/terminfo/x/xnuppc-f\n",
            "AMPL/share/terminfo/x/xterms-sun\n",
            "AMPL/share/terminfo/x/xnuppc-m\n",
            "AMPL/share/terminfo/x/xterm+sl\n",
            "AMPL/share/terminfo/x/xwsh\n",
            "AMPL/share/terminfo/x/xerox820\n",
            "AMPL/share/terminfo/x/xterm+direct\n",
            "AMPL/share/terminfo/x/xterm-bold\n",
            "AMPL/share/terminfo/x/xterm-x11mouse\n",
            "AMPL/share/terminfo/x/xterm+pcc1\n",
            "AMPL/share/terminfo/x/xterm-xfree86\n",
            "AMPL/share/terminfo/x/xterm+pcf2\n",
            "AMPL/share/terminfo/x/xnuppc+144x48\n",
            "AMPL/share/terminfo/x/xnuppc+b\n",
            "AMPL/share/terminfo/x/xnuppc-80x25-m\n",
            "AMPL/share/terminfo/x/xnuppc-128x40\n",
            "AMPL/share/terminfo/x/xnuppc-256x96-m\n",
            "AMPL/share/terminfo/x/xterm+pce2\n",
            "AMPL/share/terminfo/x/xnuppc-f2\n",
            "AMPL/share/terminfo/x/xterm+88color\n",
            "AMPL/share/terminfo/x/xterm.js\n",
            "AMPL/share/terminfo/x/xnuppc-160x64-m\n",
            "AMPL/share/terminfo/x/xterm+edit\n",
            "AMPL/share/terminfo/x/xnuppc-m-b\n",
            "AMPL/share/terminfo/x/x1750\n",
            "AMPL/share/terminfo/x/xnuppc-144x48-m\n",
            "AMPL/share/terminfo/x/xterm-new\n",
            "AMPL/share/terminfo/x/xnuppc-256x96\n",
            "AMPL/share/terminfo/x/xterm-xi\n",
            "AMPL/share/terminfo/x/xterm-utf8\n",
            "AMPL/share/terminfo/x/xnuppc+f2\n",
            "AMPL/share/terminfo/x/xnuppc-144x48\n",
            "AMPL/share/terminfo/x/xterm-xf86-v33\n",
            "AMPL/share/terminfo/x/xterm-vt52\n",
            "AMPL/share/terminfo/x/xerox\n",
            "AMPL/share/terminfo/x/xnuppc-200x75\n",
            "AMPL/share/terminfo/x/xterm+x11mouse\n",
            "AMPL/share/terminfo/x/xterm-xf86-v333\n",
            "AMPL/share/terminfo/x/xterm+256setaf\n",
            "AMPL/share/terminfo/x/xterm-noapp\n",
            "AMPL/share/terminfo/x/xtermc\n",
            "AMPL/share/terminfo/x/xterm-1002\n",
            "AMPL/share/terminfo/x/xnuppc+basic\n",
            "AMPL/share/terminfo/x/xnuppc+200x75\n",
            "AMPL/share/terminfo/x/xnuppc-b\n",
            "AMPL/share/terminfo/x/xterm-1005\n",
            "AMPL/share/terminfo/x/xterm-1003\n",
            "AMPL/share/terminfo/x/xnuppc+80x30\n",
            "AMPL/share/terminfo/x/xterm-24\n",
            "AMPL/share/terminfo/x/xterm+noalt\n",
            "AMPL/share/terminfo/x/xterm-88color\n",
            "AMPL/share/terminfo/x/xiterm\n",
            "AMPL/share/terminfo/x/xterm+titlestack\n",
            "AMPL/share/terminfo/x/xterm-hp\n",
            "AMPL/share/terminfo/x/xterm+alt+title\n",
            "AMPL/share/terminfo/x/xtalk\n",
            "AMPL/share/terminfo/x/xnuppc-128x48\n",
            "AMPL/share/terminfo/x/xnuppc+90x30\n",
            "AMPL/share/terminfo/x/xnuppc-80x25\n",
            "AMPL/share/terminfo/x/xterm+pc+edit\n",
            "AMPL/share/terminfo/x/xnuppc-90x30\n",
            "AMPL/share/terminfo/x/xdku\n",
            "AMPL/share/terminfo/x/x820\n",
            "AMPL/share/terminfo/x/xnuppc-m-f\n",
            "AMPL/share/terminfo/x/xnuppc-m-f2\n",
            "AMPL/share/terminfo/x/xterm-8bit\n",
            "AMPL/share/terminfo/x/xterm-mono\n",
            "AMPL/share/terminfo/x/xterm-1006\n",
            "AMPL/share/terminfo/x/xnuppc+f\n",
            "AMPL/share/terminfo/x/xterm-xf86-v44\n",
            "AMPL/share/terminfo/x/xterm+direct2\n",
            "AMPL/share/terminfo/x/xterm-sco\n",
            "AMPL/share/terminfo/x/xnuppc-100x37\n",
            "AMPL/share/terminfo/x/xterm-vt220\n",
            "AMPL/share/terminfo/x/xterm-sun\n",
            "AMPL/share/terminfo/x/xterm+sm+1006\n",
            "AMPL/share/terminfo/x/xterm+sm+1005\n",
            "AMPL/share/terminfo/x/xterm-xf86-v43\n",
            "AMPL/share/terminfo/x/xterm-direct\n",
            "AMPL/share/terminfo/x/xnuppc+112x37\n",
            "AMPL/share/terminfo/x/xfce\n",
            "AMPL/share/terminfo/x/xterm-x10mouse\n",
            "AMPL/share/terminfo/x/xterm-xf86-v40\n",
            "AMPL/share/terminfo/x/xnuppc-200x64-m\n",
            "AMPL/share/terminfo/x/xnuppc+128x48\n",
            "AMPL/share/terminfo/x/xnuppc+128x40\n",
            "AMPL/share/terminfo/x/xterm+osc104\n",
            "AMPL/share/terminfo/x/xterm+kbs\n",
            "AMPL/share/terminfo/x/xterm-xf86-v32\n",
            "AMPL/share/terminfo/x/xterm+alt1049\n",
            "AMPL/share/terminfo/x/xnuppc+100x37\n",
            "AMPL/share/terminfo/x/xnuppc-80x30-m\n",
            "AMPL/share/terminfo/x/xnuppc-112x37\n",
            "AMPL/share/terminfo/x/xnuppc-160x64\n",
            "AMPL/share/terminfo/x/xnuppc-128x40-m\n",
            "AMPL/share/terminfo/x/xterm-color\n",
            "AMPL/share/terminfo/x/xterm+x10mouse\n",
            "AMPL/share/terminfo/x/x68k\n",
            "AMPL/share/terminfo/x/xterm1\n",
            "AMPL/share/terminfo/x/xnuppc+80x25\n",
            "AMPL/share/terminfo/x/xterm+pcf0\n",
            "AMPL/share/terminfo/x/xterm+x11hilite\n",
            "AMPL/share/terminfo/x/xterm+pcc2\n",
            "AMPL/share/terminfo/x/xterm-r5\n",
            "AMPL/share/terminfo/x/xerox-lm\n",
            "AMPL/share/terminfo/x/xnuppc-80x30\n",
            "AMPL/share/terminfo/x/xterm-256color\n",
            "AMPL/share/terminfo/x/x1700-lm\n",
            "AMPL/share/terminfo/x/xterm-x11hilite\n",
            "AMPL/share/terminfo/x/xterm-pcolor\n",
            "AMPL/share/terminfo/x/xnuppc+160x64\n",
            "AMPL/share/terminfo/x/xterm-old\n",
            "AMPL/share/terminfo/x/xnuppc-112x37-m\n",
            "AMPL/share/terminfo/x/xterm+indirect\n",
            "AMPL/share/terminfo/x/x10term\n",
            "AMPL/share/terminfo/x/xterm+pcc0\n",
            "AMPL/share/terminfo/k/\n",
            "AMPL/share/terminfo/k/kaypro\n",
            "AMPL/share/terminfo/k/kermit-am\n",
            "AMPL/share/terminfo/k/klone+koi8acs\n",
            "AMPL/share/terminfo/k/konsole-linux\n",
            "AMPL/share/terminfo/k/kds6402\n",
            "AMPL/share/terminfo/k/kterm-color\n",
            "AMPL/share/terminfo/k/konsole-vt100\n",
            "AMPL/share/terminfo/k/konsole\n",
            "AMPL/share/terminfo/k/klone+color\n",
            "AMPL/share/terminfo/k/kds7372\n",
            "AMPL/share/terminfo/k/kterm-co\n",
            "AMPL/share/terminfo/k/klone+sgr-dumb\n",
            "AMPL/share/terminfo/k/konsole-16color\n",
            "AMPL/share/terminfo/k/kvt\n",
            "AMPL/share/terminfo/k/konsole+pcfkeys\n",
            "AMPL/share/terminfo/k/kermit\n",
            "AMPL/share/terminfo/k/kitty-direct\n",
            "AMPL/share/terminfo/k/konsole-solaris\n",
            "AMPL/share/terminfo/k/klone+sgr8\n",
            "AMPL/share/terminfo/k/kitty+common\n",
            "AMPL/share/terminfo/k/kon\n",
            "AMPL/share/terminfo/k/kt7ix\n",
            "AMPL/share/terminfo/k/kon2\n",
            "AMPL/share/terminfo/k/kt7\n",
            "AMPL/share/terminfo/k/kitty\n",
            "AMPL/share/terminfo/k/k45\n",
            "AMPL/share/terminfo/k/konsole-256color\n",
            "AMPL/share/terminfo/k/ktm\n",
            "AMPL/share/terminfo/k/kds7372-w\n",
            "AMPL/share/terminfo/k/klone+acs\n",
            "AMPL/share/terminfo/k/konsole-direct\n",
            "AMPL/share/terminfo/k/kaypro2\n",
            "AMPL/share/terminfo/k/konsole-xf4x\n",
            "AMPL/share/terminfo/k/klone+sgr\n",
            "AMPL/share/terminfo/k/konsole-base\n",
            "AMPL/share/terminfo/k/kterm\n",
            "AMPL/share/terminfo/k/konsole-xf3x\n",
            "AMPL/share/terminfo/k/konsole-vt420pc\n",
            "AMPL/share/terminfo/d/\n",
            "AMPL/share/terminfo/d/dt80-sas\n",
            "AMPL/share/terminfo/d/d430c-dg-ccc\n",
            "AMPL/share/terminfo/d/d461\n",
            "AMPL/share/terminfo/d/d2\n",
            "AMPL/share/terminfo/d/d80\n",
            "AMPL/share/terminfo/d/darwin-100x37\n",
            "AMPL/share/terminfo/d/darwin-m-f\n",
            "AMPL/share/terminfo/d/dgunix+fixed\n",
            "AMPL/share/terminfo/d/dm3045\n",
            "AMPL/share/terminfo/d/datamedia2500\n",
            "AMPL/share/terminfo/d/diablo1730\n",
            "AMPL/share/terminfo/d/d220\n",
            "AMPL/share/terminfo/d/d430c-unix-s-ccc\n",
            "AMPL/share/terminfo/d/dg211\n",
            "AMPL/share/terminfo/d/darwin-144x48-m\n",
            "AMPL/share/terminfo/d/dm1521\n",
            "AMPL/share/terminfo/d/dmd1\n",
            "AMPL/share/terminfo/d/dg200\n",
            "AMPL/share/terminfo/d/d462-unix-w\n",
            "AMPL/share/terminfo/d/d215-7b\n",
            "AMPL/share/terminfo/d/dd5000\n",
            "AMPL/share/terminfo/d/d578\n",
            "AMPL/share/terminfo/d/domterm\n",
            "AMPL/share/terminfo/d/d462-unix\n",
            "AMPL/share/terminfo/d/d464-unix-25\n",
            "AMPL/share/terminfo/d/dm1520\n",
            "AMPL/share/terminfo/d/d430-unix-25\n",
            "AMPL/share/terminfo/d/dwk-vt\n",
            "AMPL/share/terminfo/d/dec+sl\n",
            "AMPL/share/terminfo/d/dp8242\n",
            "AMPL/share/terminfo/d/darwin-90x30\n",
            "AMPL/share/terminfo/d/d217-dg\n",
            "AMPL/share/terminfo/d/d462+dg\n",
            "AMPL/share/terminfo/d/dg+ccc\n",
            "AMPL/share/terminfo/d/dgmode+color8\n",
            "AMPL/share/terminfo/d/dmdt80w\n",
            "AMPL/share/terminfo/d/dg6053-old\n",
            "AMPL/share/terminfo/d/d410-7b\n",
            "AMPL/share/terminfo/d/d413-dg\n",
            "AMPL/share/terminfo/d/d411-w\n",
            "AMPL/share/terminfo/d/d430c-unix-sr-ccc\n",
            "AMPL/share/terminfo/d/dku7102-old\n",
            "AMPL/share/terminfo/d/dtc300s\n",
            "AMPL/share/terminfo/d/d430-unix-sr\n",
            "AMPL/share/terminfo/d/d211-dg\n",
            "AMPL/share/terminfo/d/dg+fixed\n",
            "AMPL/share/terminfo/d/dt100\n",
            "AMPL/share/terminfo/d/dw1\n",
            "AMPL/share/terminfo/d/dgkeys+7b\n",
            "AMPL/share/terminfo/d/dmd\n",
            "AMPL/share/terminfo/d/diablo1640\n",
            "AMPL/share/terminfo/d/d216-unix-25\n",
            "AMPL/share/terminfo/d/dec-vt220\n",
            "AMPL/share/terminfo/d/d460-7b-w\n",
            "AMPL/share/terminfo/d/d412+w\n",
            "AMPL/share/terminfo/d/d414-unix\n",
            "AMPL/share/terminfo/d/d412+\n",
            "AMPL/share/terminfo/d/d430-dg-ccc\n",
            "AMPL/share/terminfo/d/darwin-f2\n",
            "AMPL/share/terminfo/d/dku7202\n",
            "AMPL/share/terminfo/d/darwin-256x96-m\n",
            "AMPL/share/terminfo/d/darwin-f\n",
            "AMPL/share/terminfo/d/dmchat\n",
            "AMPL/share/terminfo/d/d462+s\n",
            "AMPL/share/terminfo/d/ds40\n",
            "AMPL/share/terminfo/d/d430-unix-ccc\n",
            "AMPL/share/terminfo/d/dw\n",
            "AMPL/share/terminfo/d/dec-vt100\n",
            "AMPL/share/terminfo/d/dt80\n",
            "AMPL/share/terminfo/d/d410-w\n",
            "AMPL/share/terminfo/d/d462e-dg\n",
            "AMPL/share/terminfo/d/dg-ansi\n",
            "AMPL/share/terminfo/d/darwin-m\n",
            "AMPL/share/terminfo/d/d430-unix-s-ccc\n",
            "AMPL/share/terminfo/d/decansi\n",
            "AMPL/share/terminfo/d/d410-dg\n",
            "AMPL/share/terminfo/d/djgpp203\n",
            "AMPL/share/terminfo/d/d462+sr\n",
            "AMPL/share/terminfo/d/d2-dg\n",
            "AMPL/share/terminfo/d/datagraphix\n",
            "AMPL/share/terminfo/d/dwk\n",
            "AMPL/share/terminfo/d/digilog\n",
            "AMPL/share/terminfo/d/darwin-m-b\n",
            "AMPL/share/terminfo/d/dataspeed40\n",
            "AMPL/share/terminfo/d/darwin-128x48\n",
            "AMPL/share/terminfo/d/dg460-ansi\n",
            "AMPL/share/terminfo/d/dgkeys+15\n",
            "AMPL/share/terminfo/d/d217-unix-25\n",
            "AMPL/share/terminfo/d/darwin-100x37-m\n",
            "AMPL/share/terminfo/d/d214-dg\n",
            "AMPL/share/terminfo/d/dmd-24\n",
            "AMPL/share/terminfo/d/d577-7b-w\n",
            "AMPL/share/terminfo/d/d463-unix-sr\n",
            "AMPL/share/terminfo/d/diablo450\n",
            "AMPL/share/terminfo/d/diablo630\n",
            "AMPL/share/terminfo/d/dku7103-sna\n",
            "AMPL/share/terminfo/d/d411-7b-w\n",
            "AMPL/share/terminfo/d/dgmode+color\n",
            "AMPL/share/terminfo/d/d430-dg\n",
            "AMPL/share/terminfo/d/diablo1620-m8\n",
            "AMPL/share/terminfo/d/d430c-dg\n",
            "AMPL/share/terminfo/d/dec-vt400\n",
            "AMPL/share/terminfo/d/dg-generic\n",
            "AMPL/share/terminfo/d/dt110\n",
            "AMPL/share/terminfo/d/d216+dg\n",
            "AMPL/share/terminfo/d/d464-unix-w\n",
            "AMPL/share/terminfo/d/diablo\n",
            "AMPL/share/terminfo/d/d412-unix-w\n",
            "AMPL/share/terminfo/d/d430c-unix-sr\n",
            "AMPL/share/terminfo/d/dg100\n",
            "AMPL/share/terminfo/d/d463-dg\n",
            "AMPL/share/terminfo/d/d555\n",
            "AMPL/share/terminfo/d/d578-dg\n",
            "AMPL/share/terminfo/d/dt-100\n",
            "AMPL/share/terminfo/d/d211-7b\n",
            "AMPL/share/terminfo/d/darwin-90x30-m\n",
            "AMPL/share/terminfo/d/dg+color\n",
            "AMPL/share/terminfo/d/d430c-unix-s\n",
            "AMPL/share/terminfo/d/dt-100w\n",
            "AMPL/share/terminfo/d/dg605x\n",
            "AMPL/share/terminfo/d/d412+sr\n",
            "AMPL/share/terminfo/d/d462-unix-sr\n",
            "AMPL/share/terminfo/d/dg+color8\n",
            "AMPL/share/terminfo/d/d555-7b\n",
            "AMPL/share/terminfo/d/d411-7b\n",
            "AMPL/share/terminfo/d/d577-7b\n",
            "AMPL/share/terminfo/d/d430c-unix-25\n",
            "AMPL/share/terminfo/d/dtc382\n",
            "AMPL/share/terminfo/d/d412-unix-s\n",
            "AMPL/share/terminfo/d/d413-unix-s\n",
            "AMPL/share/terminfo/d/d400\n",
            "AMPL/share/terminfo/d/d216+25\n",
            "AMPL/share/terminfo/d/dec-vt340\n",
            "AMPL/share/terminfo/d/dg210\n",
            "AMPL/share/terminfo/d/d463-unix-25\n",
            "AMPL/share/terminfo/d/d461-7b\n",
            "AMPL/share/terminfo/d/d230-dg\n",
            "AMPL/share/terminfo/d/d462+\n",
            "AMPL/share/terminfo/d/darwin-80x25-m\n",
            "AMPL/share/terminfo/d/diablo1620\n",
            "AMPL/share/terminfo/d/d400-dg\n",
            "AMPL/share/terminfo/d/dw4\n",
            "AMPL/share/terminfo/d/djgpp\n",
            "AMPL/share/terminfo/d/d412-unix-25\n",
            "AMPL/share/terminfo/d/d413-unix-sr\n",
            "AMPL/share/terminfo/d/darwin-200x64-m\n",
            "AMPL/share/terminfo/d/d462+w\n",
            "AMPL/share/terminfo/d/delta\n",
            "AMPL/share/terminfo/d/d132\n",
            "AMPL/share/terminfo/d/darwin-80x30\n",
            "AMPL/share/terminfo/d/ddr\n",
            "AMPL/share/terminfo/d/dt100w\n",
            "AMPL/share/terminfo/d/dm80w\n",
            "AMPL/share/terminfo/d/d413-unix-w\n",
            "AMPL/share/terminfo/d/dku7003-dumb\n",
            "AMPL/share/terminfo/d/d216+\n",
            "AMPL/share/terminfo/d/dku7102\n",
            "AMPL/share/terminfo/d/d412-dg\n",
            "AMPL/share/terminfo/d/d230c\n",
            "AMPL/share/terminfo/d/dg6053\n",
            "AMPL/share/terminfo/d/d470-7b\n",
            "AMPL/share/terminfo/d/dku7003\n",
            "AMPL/share/terminfo/d/d210\n",
            "AMPL/share/terminfo/d/darwin-112x37\n",
            "AMPL/share/terminfo/d/d215\n",
            "AMPL/share/terminfo/d/d463-unix-s\n",
            "AMPL/share/terminfo/d/d414-unix-sr\n",
            "AMPL/share/terminfo/d/d460-w\n",
            "AMPL/share/terminfo/d/d460-7b\n",
            "AMPL/share/terminfo/d/d410-7b-w\n",
            "AMPL/share/terminfo/d/darwin-200x75-m\n",
            "AMPL/share/terminfo/d/diablo1740\n",
            "AMPL/share/terminfo/d/d470c-dg\n",
            "AMPL/share/terminfo/d/d214\n",
            "AMPL/share/terminfo/d/diablo1720\n",
            "AMPL/share/terminfo/d/darwin-128x48-m\n",
            "AMPL/share/terminfo/d/diablo1740-lm\n",
            "AMPL/share/terminfo/d/dg6134\n",
            "AMPL/share/terminfo/d/d430-unix-s\n",
            "AMPL/share/terminfo/d/d430c-unix\n",
            "AMPL/share/terminfo/d/d211\n",
            "AMPL/share/terminfo/d/darwin-200x64\n",
            "AMPL/share/terminfo/d/darwin-128x40-m\n",
            "AMPL/share/terminfo/d/d461-w\n",
            "AMPL/share/terminfo/d/d410\n",
            "AMPL/share/terminfo/d/d430-unix-25-ccc\n",
            "AMPL/share/terminfo/d/d470c-7b\n",
            "AMPL/share/terminfo/d/d430-unix-sr-ccc\n",
            "AMPL/share/terminfo/d/darwin-m-f2\n",
            "AMPL/share/terminfo/d/dmd-34\n",
            "AMPL/share/terminfo/d/dumb-emacs-ansi\n",
            "AMPL/share/terminfo/d/dgkeys+8b\n",
            "AMPL/share/terminfo/d/d414-unix-w\n",
            "AMPL/share/terminfo/d/d462+25\n",
            "AMPL/share/terminfo/d/dm2500\n",
            "AMPL/share/terminfo/d/d430c-unix-w-ccc\n",
            "AMPL/share/terminfo/d/d577\n",
            "AMPL/share/terminfo/d/d470c\n",
            "AMPL/share/terminfo/d/dvtm\n",
            "AMPL/share/terminfo/d/dgkeys+11\n",
            "AMPL/share/terminfo/d/d463-unix\n",
            "AMPL/share/terminfo/d/d216e-unix\n",
            "AMPL/share/terminfo/d/dtterm\n",
            "AMPL/share/terminfo/d/d411-dg\n",
            "AMPL/share/terminfo/d/d230\n",
            "AMPL/share/terminfo/d/dumb\n",
            "AMPL/share/terminfo/d/d430-unix-w\n",
            "AMPL/share/terminfo/d/decwriter\n",
            "AMPL/share/terminfo/d/darwin\n",
            "AMPL/share/terminfo/d/datapoint\n",
            "AMPL/share/terminfo/d/d430c-unix-ccc\n",
            "AMPL/share/terminfo/d/dmdt80\n",
            "AMPL/share/terminfo/d/d413-unix-25\n",
            "AMPL/share/terminfo/d/d411\n",
            "AMPL/share/terminfo/d/d555-7b-w\n",
            "AMPL/share/terminfo/d/d216e+dg\n",
            "AMPL/share/terminfo/d/dt80w\n",
            "AMPL/share/terminfo/d/d450\n",
            "AMPL/share/terminfo/d/d577-dg\n",
            "AMPL/share/terminfo/d/dec+pp\n",
            "AMPL/share/terminfo/d/dp3360\n",
            "AMPL/share/terminfo/d/d460-dg\n",
            "AMPL/share/terminfo/d/darwin-80x30-m\n",
            "AMPL/share/terminfo/d/d462-unix-25\n",
            "AMPL/share/terminfo/d/diablo1640-lm\n",
            "AMPL/share/terminfo/d/d216-unix\n",
            "AMPL/share/terminfo/d/d450-dg\n",
            "AMPL/share/terminfo/d/darwin-256x96\n",
            "AMPL/share/terminfo/d/d412-unix-sr\n",
            "AMPL/share/terminfo/d/dmterm\n",
            "AMPL/share/terminfo/d/d412+dg\n",
            "AMPL/share/terminfo/d/darwin-160x64\n",
            "AMPL/share/terminfo/d/d464-unix-s\n",
            "AMPL/share/terminfo/d/darwin-b\n",
            "AMPL/share/terminfo/d/d220-dg\n",
            "AMPL/share/terminfo/d/darwin-80x25\n",
            "AMPL/share/terminfo/d/d210-dg\n",
            "AMPL/share/terminfo/d/dec-vt330\n",
            "AMPL/share/terminfo/d/d461-dg\n",
            "AMPL/share/terminfo/d/d430-unix\n",
            "AMPL/share/terminfo/d/d462-unix-s\n",
            "AMPL/share/terminfo/d/d216e+\n",
            "AMPL/share/terminfo/d/d414-unix-25\n",
            "AMPL/share/terminfo/d/d412-unix\n",
            "AMPL/share/terminfo/d/d577-w\n",
            "AMPL/share/terminfo/d/d464-unix-sr\n",
            "AMPL/share/terminfo/d/d461-7b-w\n",
            "AMPL/share/terminfo/d/djgpp204\n",
            "AMPL/share/terminfo/d/d470-dg\n",
            "AMPL/share/terminfo/d/ds40-2\n",
            "AMPL/share/terminfo/d/d430c-unix-25-ccc\n",
            "AMPL/share/terminfo/d/d414-unix-s\n",
            "AMPL/share/terminfo/d/d464-unix\n",
            "AMPL/share/terminfo/d/darwin-160x64-m\n",
            "AMPL/share/terminfo/d/d578-7b\n",
            "AMPL/share/terminfo/d/darwin-200x75\n",
            "AMPL/share/terminfo/d/d555-w\n",
            "AMPL/share/terminfo/d/dm3025\n",
            "AMPL/share/terminfo/d/d460\n",
            "AMPL/share/terminfo/d/d215-dg\n",
            "AMPL/share/terminfo/d/d430c-unix-w\n",
            "AMPL/share/terminfo/d/d220-7b\n",
            "AMPL/share/terminfo/d/d470\n",
            "AMPL/share/terminfo/d/d230c-dg\n",
            "AMPL/share/terminfo/d/d462-dg\n",
            "AMPL/share/terminfo/d/dku7102-sna\n",
            "AMPL/share/terminfo/d/d200-dg\n",
            "AMPL/share/terminfo/d/d413-unix\n",
            "AMPL/share/terminfo/d/d463-unix-w\n",
            "AMPL/share/terminfo/d/d412+s\n",
            "AMPL/share/terminfo/d/d216-dg\n",
            "AMPL/share/terminfo/d/dialogue\n",
            "AMPL/share/terminfo/d/d555-dg\n",
            "AMPL/share/terminfo/d/darwin-128x40\n",
            "AMPL/share/terminfo/d/darwin-112x37-m\n",
            "AMPL/share/terminfo/d/dw3\n",
            "AMPL/share/terminfo/d/diablo1640-m8\n",
            "AMPL/share/terminfo/d/diablo-lm\n",
            "AMPL/share/terminfo/d/dgunix+ccc\n",
            "AMPL/share/terminfo/d/dvtm-256color\n",
            "AMPL/share/terminfo/d/ddr3180\n",
            "AMPL/share/terminfo/d/d200\n",
            "AMPL/share/terminfo/d/d412+25\n",
            "AMPL/share/terminfo/d/dialogue80\n",
            "AMPL/share/terminfo/d/d217-unix\n",
            "AMPL/share/terminfo/d/dw2\n",
            "AMPL/share/terminfo/d/d216e-dg\n",
            "AMPL/share/terminfo/d/d800\n",
            "AMPL/share/terminfo/d/dg450\n",
            "AMPL/share/terminfo/d/dm80\n",
            "AMPL/share/terminfo/d/d430-unix-w-ccc\n",
            "AMPL/share/terminfo/d/darwin-144x48\n",
            "AMPL/share/terminfo/d/decpro\n",
            "AMPL/share/terminfo/1/\n",
            "AMPL/share/terminfo/1/1730-lm\n",
            "AMPL/share/terminfo/1/1178\n",
            "AMPL/share/terminfo/g/\n",
            "AMPL/share/terminfo/g/guru\n",
            "AMPL/share/terminfo/g/guru+s\n",
            "AMPL/share/terminfo/g/gnome-fc5\n",
            "AMPL/share/terminfo/g/gnome-2008\n",
            "AMPL/share/terminfo/g/guru-s\n",
            "AMPL/share/terminfo/g/gnome-rh80\n",
            "AMPL/share/terminfo/g/guru-76-w-s\n",
            "AMPL/share/terminfo/g/gator-52t\n",
            "AMPL/share/terminfo/g/guru-33-rv\n",
            "AMPL/share/terminfo/g/guru-76-wm\n",
            "AMPL/share/terminfo/g/guru-nctxt\n",
            "AMPL/share/terminfo/g/gnome-256color\n",
            "AMPL/share/terminfo/g/guru-44-s\n",
            "AMPL/share/terminfo/g/gnome\n",
            "AMPL/share/terminfo/g/gnome-rh90\n",
            "AMPL/share/terminfo/g/gator-52\n",
            "AMPL/share/terminfo/g/go225\n",
            "AMPL/share/terminfo/g/guru-76-w\n",
            "AMPL/share/terminfo/g/guru-24\n",
            "AMPL/share/terminfo/g/gnome-2007\n",
            "AMPL/share/terminfo/g/go-225\n",
            "AMPL/share/terminfo/g/gt40\n",
            "AMPL/share/terminfo/g/gator-t\n",
            "AMPL/share/terminfo/g/gnome-rh62\n",
            "AMPL/share/terminfo/g/guru-76-lp\n",
            "AMPL/share/terminfo/g/guru-76-s\n",
            "AMPL/share/terminfo/g/guru-76\n",
            "AMPL/share/terminfo/g/gt100a\n",
            "AMPL/share/terminfo/g/glasstty\n",
            "AMPL/share/terminfo/g/gator\n",
            "AMPL/share/terminfo/g/gnome-rh72\n",
            "AMPL/share/terminfo/g/guru-rv\n",
            "AMPL/share/terminfo/g/guru-33\n",
            "AMPL/share/terminfo/g/gt42\n",
            "AMPL/share/terminfo/g/gs5430-22\n",
            "AMPL/share/terminfo/g/gnome+pcfkeys\n",
            "AMPL/share/terminfo/g/graphos\n",
            "AMPL/share/terminfo/g/gs5430-24\n",
            "AMPL/share/terminfo/g/gs6300\n",
            "AMPL/share/terminfo/g/guru-33-s\n",
            "AMPL/share/terminfo/g/gnome-2012\n",
            "AMPL/share/terminfo/g/go140w\n",
            "AMPL/share/terminfo/g/guru-44\n",
            "AMPL/share/terminfo/g/graphos-30\n",
            "AMPL/share/terminfo/g/gigi\n",
            "AMPL/share/terminfo/g/gt100\n",
            "AMPL/share/terminfo/g/guru+unk\n",
            "AMPL/share/terminfo/g/gs5430\n",
            "AMPL/share/terminfo/g/guru+rv\n",
            "AMPL/share/terminfo/g/go140\n",
            "AMPL/share/terminfo/g/gsi\n",
            "AMPL/share/terminfo/g/guru-lp\n",
            "AMPL/share/terminfo/4/\n",
            "AMPL/share/terminfo/4/4025ex\n",
            "AMPL/share/terminfo/4/4410-w\n",
            "AMPL/share/terminfo/4/4027ex\n",
            "AMPL/share/terminfo/h/\n",
            "AMPL/share/terminfo/h/hft-c-old\n",
            "AMPL/share/terminfo/h/hz1552-rv\n",
            "AMPL/share/terminfo/h/hp2621p-a\n",
            "AMPL/share/terminfo/h/hp2621a\n",
            "AMPL/share/terminfo/h/hp2626-s\n",
            "AMPL/share/terminfo/h/hp2621b-kx-p\n",
            "AMPL/share/terminfo/h/hp2621a-a\n",
            "AMPL/share/terminfo/h/h19-a\n",
            "AMPL/share/terminfo/h/hp+labels\n",
            "AMPL/share/terminfo/h/htx11\n",
            "AMPL/share/terminfo/h/hp2645a\n",
            "AMPL/share/terminfo/h/hurd\n",
            "AMPL/share/terminfo/h/h29a-kc-uc\n",
            "AMPL/share/terminfo/h/hp2648\n",
            "AMPL/share/terminfo/h/hp45\n",
            "AMPL/share/terminfo/h/heath-ansi\n",
            "AMPL/share/terminfo/h/hp2627a\n",
            "AMPL/share/terminfo/h/hp9837\n",
            "AMPL/share/terminfo/h/hp2621-ba\n",
            "AMPL/share/terminfo/h/hp2626-x40\n",
            "AMPL/share/terminfo/h/hp2624-10p\n",
            "AMPL/share/terminfo/h/h100bw\n",
            "AMPL/share/terminfo/h/hp2640b\n",
            "AMPL/share/terminfo/h/hp2621-nl\n",
            "AMPL/share/terminfo/h/hp2626a\n",
            "AMPL/share/terminfo/h/hp2624b-10p\n",
            "AMPL/share/terminfo/h/hz1000\n",
            "AMPL/share/terminfo/h/hz1552\n",
            "AMPL/share/terminfo/h/h19-u\n",
            "AMPL/share/terminfo/h/hp2626-12-s\n",
            "AMPL/share/terminfo/h/hp110\n",
            "AMPL/share/terminfo/h/hp236\n",
            "AMPL/share/terminfo/h/h19-b\n",
            "AMPL/share/terminfo/h/h19-g\n",
            "AMPL/share/terminfo/h/hp9845\n",
            "AMPL/share/terminfo/h/hp+pfk-cr\n",
            "AMPL/share/terminfo/h/hp98550a\n",
            "AMPL/share/terminfo/h/h-100bw\n",
            "AMPL/share/terminfo/h/hp2621\n",
            "AMPL/share/terminfo/h/hz2000\n",
            "AMPL/share/terminfo/h/hp2\n",
            "AMPL/share/terminfo/h/hp2397\n",
            "AMPL/share/terminfo/h/h29a-kc-bc\n",
            "AMPL/share/terminfo/h/hp70092\n",
            "AMPL/share/terminfo/h/hpsub\n",
            "AMPL/share/terminfo/h/hpgeneric\n",
            "AMPL/share/terminfo/h/hds200\n",
            "AMPL/share/terminfo/h/h19-smul\n",
            "AMPL/share/terminfo/h/h-100\n",
            "AMPL/share/terminfo/h/hp2621-a\n",
            "AMPL/share/terminfo/h/hp+arrows\n",
            "AMPL/share/terminfo/h/hp2644a\n",
            "AMPL/share/terminfo/h/h100\n",
            "AMPL/share/terminfo/h/hp2626-12x40\n",
            "AMPL/share/terminfo/h/hp2622\n",
            "AMPL/share/terminfo/h/hirez100-w\n",
            "AMPL/share/terminfo/h/hz1510\n",
            "AMPL/share/terminfo/h/he80\n",
            "AMPL/share/terminfo/h/hp2648a\n",
            "AMPL/share/terminfo/h/hpansi\n",
            "AMPL/share/terminfo/h/hp70092a\n",
            "AMPL/share/terminfo/h/hpex\n",
            "AMPL/share/terminfo/h/hft-c\n",
            "AMPL/share/terminfo/h/hp2624b-p\n",
            "AMPL/share/terminfo/h/hz1500\n",
            "AMPL/share/terminfo/h/hp2621b\n",
            "AMPL/share/terminfo/h/h80\n",
            "AMPL/share/terminfo/h/hp262x\n",
            "AMPL/share/terminfo/h/hp2621-wl\n",
            "AMPL/share/terminfo/h/h19g\n",
            "AMPL/share/terminfo/h/h19-bs\n",
            "AMPL/share/terminfo/h/hz1420\n",
            "AMPL/share/terminfo/h/hp2626p\n",
            "AMPL/share/terminfo/h/hmod1\n",
            "AMPL/share/terminfo/h/hp+pfk+cr\n",
            "AMPL/share/terminfo/h/hp2640a\n",
            "AMPL/share/terminfo/h/hp700\n",
            "AMPL/share/terminfo/h/hp70092A\n",
            "AMPL/share/terminfo/h/ha8686\n",
            "AMPL/share/terminfo/h/hp98721\n",
            "AMPL/share/terminfo/h/hp+printer\n",
            "AMPL/share/terminfo/h/hp150\n",
            "AMPL/share/terminfo/h/hp300h\n",
            "AMPL/share/terminfo/h/hp2621b-kx\n",
            "AMPL/share/terminfo/h/hp2397a\n",
            "AMPL/share/terminfo/h/heath\n",
            "AMPL/share/terminfo/h/hz1520-noesc\n",
            "AMPL/share/terminfo/h/hp2641a\n",
            "AMPL/share/terminfo/h/heathkit-a\n",
            "AMPL/share/terminfo/h/hp2621-nt\n",
            "AMPL/share/terminfo/h/hazel\n",
            "AMPL/share/terminfo/h/hp2621k45\n",
            "AMPL/share/terminfo/h/h19-us\n",
            "AMPL/share/terminfo/h/hp2627a-rev\n",
            "AMPL/share/terminfo/h/hp98720\n",
            "AMPL/share/terminfo/h/hp2624\n",
            "AMPL/share/terminfo/h/hp2621-48\n",
            "AMPL/share/terminfo/h/hp2624b-10p-p\n",
            "AMPL/share/terminfo/h/hp2623a\n",
            "AMPL/share/terminfo/h/hp2645\n",
            "AMPL/share/terminfo/h/hpterm\n",
            "AMPL/share/terminfo/h/h19a\n",
            "AMPL/share/terminfo/h/hp2626-12\n",
            "AMPL/share/terminfo/h/hpex2\n",
            "AMPL/share/terminfo/h/ha8675\n",
            "AMPL/share/terminfo/h/hp2624a\n",
            "AMPL/share/terminfo/h/h19k\n",
            "AMPL/share/terminfo/h/hft-old\n",
            "AMPL/share/terminfo/h/h19\n",
            "AMPL/share/terminfo/h/hp2626\n",
            "AMPL/share/terminfo/h/h19us\n",
            "AMPL/share/terminfo/h/hp\n",
            "AMPL/share/terminfo/h/hirez100\n",
            "AMPL/share/terminfo/h/hp2621-k45\n",
            "AMPL/share/terminfo/h/hpterm-color\n",
            "AMPL/share/terminfo/h/hp+color\n",
            "AMPL/share/terminfo/h/hp2624b\n",
            "AMPL/share/terminfo/h/hp2621A\n",
            "AMPL/share/terminfo/h/hp98550\n",
            "AMPL/share/terminfo/h/hp2621b-p\n",
            "AMPL/share/terminfo/h/hp2392\n",
            "AMPL/share/terminfo/h/hp2622a\n",
            "AMPL/share/terminfo/h/hp2624b-4p-p\n",
            "AMPL/share/terminfo/h/hp2624a-10p\n",
            "AMPL/share/terminfo/h/heath-19\n",
            "AMPL/share/terminfo/h/hp2626-ns\n",
            "AMPL/share/terminfo/h/hp2382\n",
            "AMPL/share/terminfo/h/hp+pfk+arrows\n",
            "AMPL/share/terminfo/h/hp700-wy\n",
            "AMPL/share/terminfo/h/h29a-nkc-bc\n",
            "AMPL/share/terminfo/h/hp2627c\n",
            "AMPL/share/terminfo/h/h19kermit\n",
            "AMPL/share/terminfo/h/hp2382a\n",
            "AMPL/share/terminfo/h/heathkit\n",
            "AMPL/share/terminfo/h/h29a-nkc-uc\n",
            "AMPL/share/terminfo/h/hp2621p\n",
            "AMPL/share/terminfo/h/hft\n",
            "AMPL/share/terminfo/h/hp2623\n",
            "AMPL/share/terminfo/h/hp2621-fl\n",
            "AMPL/share/terminfo/h/hz1520\n",
            "AMPL/share/terminfo/h/hp2647a\n",
            "AMPL/share/terminfo/h/hp2624b-4p\n",
            "AMPL/share/gettext-0.19.8/\n",
            "AMPL/share/gettext-0.19.8/its/\n",
            "AMPL/share/gettext-0.19.8/its/glade2.its\n",
            "AMPL/share/gettext-0.19.8/its/glade.loc\n",
            "AMPL/share/gettext-0.19.8/its/glade1.its\n",
            "AMPL/share/gettext-0.19.8/its/gtkbuilder.its\n",
            "AMPL/share/gettext-0.19.8/its/appdata.loc\n",
            "AMPL/share/gettext-0.19.8/its/gsettings.loc\n",
            "AMPL/share/gettext-0.19.8/its/appdata.its\n",
            "AMPL/share/gettext-0.19.8/its/gsettings.its\n",
            "AMPL/share/xml/\n",
            "AMPL/share/xml/fontconfig/\n",
            "AMPL/share/xml/fontconfig/fonts.dtd\n",
            "AMPL/share/xml/dbus-1/\n",
            "AMPL/share/xml/dbus-1/busconfig.dtd\n",
            "AMPL/share/xml/dbus-1/introspect.dtd\n",
            "AMPL/share/RDKit/\n",
            "AMPL/share/RDKit/Docs/\n",
            "AMPL/share/RDKit/Docs/RD.css\n",
            "AMPL/share/RDKit/Docs/Images/\n",
            "AMPL/share/RDKit/Docs/Images/logo_plain.png\n",
            "AMPL/share/RDKit/Docs/Images/wiki/\n",
            "AMPL/share/RDKit/Docs/Images/wiki/morganfp_atomenv1.png\n",
            "AMPL/share/RDKit/Docs/Images/logo.png\n",
            "AMPL/share/RDKit/Docs/Images/logo.lrg.png\n",
            "AMPL/share/RDKit/Docs/Images/logo.ai\n",
            "AMPL/share/RDKit/Docs/Images/logo_plain.inkscape.svg\n",
            "AMPL/share/RDKit/Docs/Images/logo.inkscape.svg\n",
            "AMPL/share/RDKit/Docs/Analysis/\n",
            "AMPL/share/RDKit/Docs/Analysis/Descriptors/\n",
            "AMPL/share/RDKit/Docs/Analysis/Descriptors/Correlations/\n",
            "AMPL/share/RDKit/Docs/Analysis/Descriptors/Correlations/DrugLikeT80_CorrMat.png\n",
            "AMPL/share/RDKit/Docs/Analysis/Descriptors/Correlations/LeadLikeT80_CorrMat.png\n",
            "AMPL/share/RDKit/Docs/Analysis/Descriptors/Correlations/README\n",
            "AMPL/share/RDKit/Docs/Analysis/Descriptors/Correlations/DrugLikeT80_Correlation.csv\n",
            "AMPL/share/RDKit/Docs/Analysis/Descriptors/Correlations/FragmentLikeT80_CorrMat.png\n",
            "AMPL/share/RDKit/Docs/Analysis/Descriptors/Correlations/FragmentLikeT80_Correlation.csv\n",
            "AMPL/share/RDKit/Docs/Analysis/Descriptors/Correlations/LeadLikeT80_Correlation.csv\n",
            "AMPL/share/RDKit/Docs/Analysis/ForceField/\n",
            "AMPL/share/RDKit/Docs/Analysis/ForceField/UFF Parameters.ods\n",
            "AMPL/share/RDKit/Docs/Analysis/ForceField/ForceFieldTerms.new.odt\n",
            "AMPL/share/RDKit/Docs/Code/\n",
            "AMPL/share/RDKit/Docs/Code/Chem/\n",
            "AMPL/share/RDKit/Docs/Code/Chem/Pharm2D.triangles.jpg\n",
            "AMPL/share/RDKit/Docs/Code/Chem/Pharm2D.triangles.ai\n",
            "AMPL/share/RDKit/Docs/Code/Chem/FragmentCatalogs.html\n",
            "AMPL/share/RDKit/Docs/Code/Chem/Pharm2D.signatures.jpg\n",
            "AMPL/share/RDKit/Docs/Code/Chem/Pharm2D.signatures.ai\n",
            "AMPL/share/RDKit/Docs/Code/CodingStandards.md\n",
            "AMPL/share/RDKit/Docs/Programs/\n",
            "AMPL/share/RDKit/Docs/Programs/RDPharm3D/\n",
            "AMPL/share/RDKit/Docs/Programs/RDPharm3D/Refine-shot2.jpg\n",
            "AMPL/share/RDKit/Docs/Programs/RDPharm3D/contents.htm\n",
            "AMPL/share/RDKit/Docs/Programs/RDPharm3D/MatchingPharmacophores.htm\n",
            "AMPL/share/RDKit/Docs/Programs/RDPharm3D/RDPharm3D-Splash.jpg\n",
            "AMPL/share/RDKit/Docs/Programs/RDPharm3D/RDPharm3D.hhc\n",
            "AMPL/share/RDKit/Docs/Programs/RDPharm3D/AddPoints-shot1.jpg\n",
            "AMPL/share/RDKit/Docs/Programs/RDPharm3D/FindingMappings.htm\n",
            "AMPL/share/RDKit/Docs/Programs/RDPharm3D/Index.hhk\n",
            "AMPL/share/RDKit/Docs/Programs/RDPharm3D/RD.css\n",
            "AMPL/share/RDKit/Docs/Programs/RDPharm3D/ViewOptions.htm\n",
            "AMPL/share/RDKit/Docs/Programs/RDPharm3D/GeneratingStructures.htm\n",
            "AMPL/share/RDKit/Docs/Programs/RDPharm3D/RDPharm3D.hhp\n",
            "AMPL/share/RDKit/Docs/Programs/RDPharm3D/FDefFile.htm\n",
            "AMPL/share/RDKit/Docs/Programs/RDPharm3D/SavingResults.htm\n",
            "AMPL/share/RDKit/Docs/Programs/RDPharm3D/Using.htm\n",
            "AMPL/share/RDKit/Docs/Programs/RDPharm3D/AddPoints-shot2.jpg\n",
            "AMPL/share/RDKit/Docs/Programs/RDPharm3D/index.htm\n",
            "AMPL/share/RDKit/Docs/Programs/RDPharm3D/ScoringAlignments.htm\n",
            "AMPL/share/RDKit/Docs/Programs/RDPharm3D/RDPharm3D.chm\n",
            "AMPL/share/RDKit/Docs/Programs/RDPharm3D/ImproveAlignments.htm\n",
            "AMPL/share/RDKit/Docs/Programs/RDPharm3D/AddingMolecules.htm\n",
            "AMPL/share/RDKit/Docs/Programs/RDPharm3D/ExploringHits.htm\n",
            "AMPL/share/RDKit/Docs/Programs/RDPharm3D/Icon.ico\n",
            "AMPL/share/RDKit/Docs/Programs/RDPharm3D/Refine-shot1.jpg\n",
            "AMPL/share/RDKit/Docs/Programs/RDPharm3D/AddingPoints.htm\n",
            "AMPL/share/RDKit/Docs/Programs/RDPharm3D/BuildingBoundsMatrix.htm\n",
            "AMPL/share/RDKit/Docs/Programs/RDPharm3D/References.htm\n",
            "AMPL/share/RDKit/Docs/Programs/RDPharm3D/EditingMolecules.htm\n",
            "AMPL/share/RDKit/Docs/Programs/RDPharm3D/GettingStarted.htm\n",
            "AMPL/share/RDKit/Docs/Programs/RDPharm3D/Intro.htm\n",
            "AMPL/share/RDKit/Docs/Programs/RDPharm3D/AddPoints-shot3.jpg\n",
            "AMPL/share/RDKit/Docs/Programs/RDPharm3D/MethodOverview.htm\n",
            "AMPL/share/RDKit/Docs/Notebooks/\n",
            "AMPL/share/RDKit/Docs/Notebooks/RGroupDecomposition-RingSubstitution.ipynb\n",
            "AMPL/share/RDKit/Docs/Notebooks/RGroupDecomposition-MutipleCores.ipynb\n",
            "AMPL/share/RDKit/Docs/Notebooks/RGroupDecomposition-GenericCores.ipynb\n",
            "AMPL/share/RDKit/Docs/Notebooks/compounds.txt\n",
            "AMPL/share/RDKit/Docs/Notebooks/RGroupDecomposition-StereoChemTest.ipynb\n",
            "AMPL/share/RDKit/Docs/Notebooks/RGroupDecomposition-example-lactam.ipynb\n",
            "AMPL/share/RDKit/Docs/Notebooks/RGroupDecomposition-DummyCores.ipynb\n",
            "AMPL/share/RDKit/Docs/Book/\n",
            "AMPL/share/RDKit/Docs/Book/Install.md\n",
            "AMPL/share/RDKit/Docs/Book/GettingStartedInC++.md\n",
            "AMPL/share/RDKit/Docs/Book/data/\n",
            "AMPL/share/RDKit/Docs/Book/data/actives_5ht3.sdf\n",
            "AMPL/share/RDKit/Docs/Book/data/AmideBond.rxn\n",
            "AMPL/share/RDKit/Docs/Book/data/invalid.mol\n",
            "AMPL/share/RDKit/Docs/Book/data/input.mol\n",
            "AMPL/share/RDKit/Docs/Book/data/bzr.smi\n",
            "AMPL/share/RDKit/Docs/Book/data/solubility.test.sdf\n",
            "AMPL/share/RDKit/Docs/Book/data/bzr.sdf\n",
            "AMPL/share/RDKit/Docs/Book/data/cdk2.sdf\n",
            "AMPL/share/RDKit/Docs/Book/data/chiral.mol\n",
            "AMPL/share/RDKit/Docs/Book/data/solubility.train.sdf\n",
            "AMPL/share/RDKit/Docs/Book/data/MinimalFeatures.fdef\n",
            "AMPL/share/RDKit/Docs/Book/data/5ht3ligs.sdf\n",
            "AMPL/share/RDKit/Docs/Book/data/actives_5ht3.sdf.gz\n",
            "AMPL/share/RDKit/Docs/Book/images/\n",
            "AMPL/share/RDKit/Docs/Book/images/similarity_map_crippen.png\n",
            "AMPL/share/RDKit/Docs/Book/images/similarity_map_fp2.png\n",
            "AMPL/share/RDKit/Docs/Book/images/picture_2.png\n",
            "AMPL/share/RDKit/Docs/Book/images/picture_4.png\n",
            "AMPL/share/RDKit/Docs/Book/images/picture_11.png\n",
            "AMPL/share/RDKit/Docs/Book/images/cdk2_mol1.png\n",
            "AMPL/share/RDKit/Docs/Book/images/picture_7.png\n",
            "AMPL/share/RDKit/Docs/Book/images/picture_1.png\n",
            "AMPL/share/RDKit/Docs/Book/images/similarity_map_fp1.png\n",
            "AMPL/share/RDKit/Docs/Book/images/cdk2_molgrid_aligned.png\n",
            "AMPL/share/RDKit/Docs/Book/images/similarity_map_charges.png\n",
            "AMPL/share/RDKit/Docs/Book/images/cdk2_molgrid.png\n",
            "AMPL/share/RDKit/Docs/Book/images/picture_8.png\n",
            "AMPL/share/RDKit/Docs/Book/images/picture_0.png\n",
            "AMPL/share/RDKit/Docs/Book/images/indole1.png\n",
            "AMPL/share/RDKit/Docs/Book/images/cdk2_mol2.png\n",
            "AMPL/share/RDKit/Docs/Book/images/picture_9.png\n",
            "AMPL/share/RDKit/Docs/Book/images/picture_10.jpg\n",
            "AMPL/share/RDKit/Docs/Book/images/similarity_map_fp3.png\n",
            "AMPL/share/RDKit/Docs/Book/images/picture_10.png\n",
            "AMPL/share/RDKit/Docs/Book/images/picture_3.png\n",
            "AMPL/share/RDKit/Docs/Book/images/picture_5.png\n",
            "AMPL/share/RDKit/Docs/Book/images/picture_6.png\n",
            "AMPL/share/RDKit/Docs/Book/images/similarity_map_rf.png\n",
            "AMPL/share/RDKit/Docs/Book/__pycache__/\n",
            "AMPL/share/RDKit/Docs/Book/__pycache__/conf.cpython-36.pyc\n",
            "AMPL/share/RDKit/Docs/Book/C++Examples/\n",
            "AMPL/share/RDKit/Docs/Book/C++Examples/example5.cpp\n",
            "AMPL/share/RDKit/Docs/Book/C++Examples/example7.cpp\n",
            "AMPL/share/RDKit/Docs/Book/C++Examples/example4.cpp\n",
            "AMPL/share/RDKit/Docs/Book/C++Examples/example10.cpp\n",
            "AMPL/share/RDKit/Docs/Book/C++Examples/example13.cpp\n",
            "AMPL/share/RDKit/Docs/Book/C++Examples/example6.cpp\n",
            "AMPL/share/RDKit/Docs/Book/C++Examples/example2.cpp\n",
            "AMPL/share/RDKit/Docs/Book/C++Examples/CMakeLists.txt\n",
            "AMPL/share/RDKit/Docs/Book/C++Examples/example9.cpp\n",
            "AMPL/share/RDKit/Docs/Book/C++Examples/example11.cpp\n",
            "AMPL/share/RDKit/Docs/Book/C++Examples/example1.cpp\n",
            "AMPL/share/RDKit/Docs/Book/C++Examples/example16.cpp\n",
            "AMPL/share/RDKit/Docs/Book/C++Examples/example15.cpp\n",
            "AMPL/share/RDKit/Docs/Book/C++Examples/example14.cpp\n",
            "AMPL/share/RDKit/Docs/Book/C++Examples/example3.cpp\n",
            "AMPL/share/RDKit/Docs/Book/C++Examples/example8.cpp\n",
            "AMPL/share/RDKit/Docs/Book/C++Examples/example12.cpp\n",
            "AMPL/share/RDKit/Docs/Book/conf.py\n",
            "AMPL/share/RDKit/Docs/Book/index.rst\n",
            "AMPL/share/RDKit/Docs/Book/exts/\n",
            "AMPL/share/RDKit/Docs/Book/exts/extapi.py\n",
            "AMPL/share/RDKit/Docs/Book/exts/__pycache__/\n",
            "AMPL/share/RDKit/Docs/Book/exts/__pycache__/extapi.cpython-36.pyc\n",
            "AMPL/share/RDKit/Docs/Book/Overview.md\n",
            "AMPL/share/RDKit/Docs/Book/Cartridge.md\n",
            "AMPL/share/RDKit/Docs/Book/Makefile\n",
            "AMPL/share/RDKit/Docs/Book/RDKit_Book.rst\n",
            "AMPL/share/RDKit/Docs/Book/Cookbook.md\n",
            "AMPL/share/RDKit/Docs/Book/GettingStartedInPython.rst\n",
            "AMPL/share/RDKit/license.txt\n",
            "AMPL/share/RDKit/README\n",
            "AMPL/share/RDKit/Projects/\n",
            "AMPL/share/RDKit/Projects/cmake_install.cmake\n",
            "AMPL/share/RDKit/Projects/DbCLI/\n",
            "AMPL/share/RDKit/Projects/DbCLI/SearchDb.py\n",
            "AMPL/share/RDKit/Projects/DbCLI/__pycache__/\n",
            "AMPL/share/RDKit/Projects/DbCLI/__pycache__/TestDbCLI.cpython-36.pyc\n",
            "AMPL/share/RDKit/Projects/DbCLI/__pycache__/CreateDb.cpython-36.pyc\n",
            "AMPL/share/RDKit/Projects/DbCLI/__pycache__/SearchDb.cpython-36.pyc\n",
            "AMPL/share/RDKit/Projects/DbCLI/moe_like.dsc\n",
            "AMPL/share/RDKit/Projects/DbCLI/CreateDb.py\n",
            "AMPL/share/RDKit/Projects/DbCLI/testData/\n",
            "AMPL/share/RDKit/Projects/DbCLI/testData/bzr/\n",
            "AMPL/share/RDKit/Projects/DbCLI/testData/bzr/Compounds.sqlt\n",
            "AMPL/share/RDKit/Projects/DbCLI/testData/bzr/AtomPairs.sqlt\n",
            "AMPL/share/RDKit/Projects/DbCLI/testData/bzr/Descriptors.sqlt\n",
            "AMPL/share/RDKit/Projects/DbCLI/testData/bzr/loadErrors.txt\n",
            "AMPL/share/RDKit/Projects/DbCLI/testData/bzr/Fingerprints.sqlt\n",
            "AMPL/share/RDKit/Projects/DbCLI/testData/bzr.smi\n",
            "AMPL/share/RDKit/Projects/DbCLI/testData/pubchem.200.sdf\n",
            "AMPL/share/RDKit/Projects/DbCLI/testData/bzr.2.smi\n",
            "AMPL/share/RDKit/Projects/DbCLI/testData/bzr_q1.mol\n",
            "AMPL/share/RDKit/Projects/DbCLI/testData/README\n",
            "AMPL/share/RDKit/Projects/DbCLI/testData/bzr.sdf\n",
            "AMPL/share/RDKit/Projects/DbCLI/TestDbCLI.py\n",
            "AMPL/share/RDKit/Projects/CTestTestfile.cmake\n",
            "AMPL/share/RDKit/Projects/Makefile\n",
            "AMPL/share/RDKit/Contrib/\n",
            "AMPL/share/RDKit/Contrib/SA_Score/\n",
            "AMPL/share/RDKit/Contrib/SA_Score/data/\n",
            "AMPL/share/RDKit/Contrib/SA_Score/data/zim.100.txt\n",
            "AMPL/share/RDKit/Contrib/SA_Score/fpscores.pkl.gz\n",
            "AMPL/share/RDKit/Contrib/SA_Score/__pycache__/\n",
            "AMPL/share/RDKit/Contrib/SA_Score/__pycache__/UnitTestSAScore.cpython-36.pyc\n",
            "AMPL/share/RDKit/Contrib/SA_Score/__pycache__/sascorer.cpython-36.pyc\n",
            "AMPL/share/RDKit/Contrib/SA_Score/sascorer.py\n",
            "AMPL/share/RDKit/Contrib/SA_Score/README\n",
            "AMPL/share/RDKit/Contrib/SA_Score/UnitTestSAScore.py\n",
            "AMPL/share/RDKit/Contrib/mmpa/\n",
            "AMPL/share/RDKit/Contrib/mmpa/data/\n",
            "AMPL/share/RDKit/Contrib/mmpa/data/sample_mmps_default.csv\n",
            "AMPL/share/RDKit/Contrib/mmpa/data/sample_db_input_subs.txt\n",
            "AMPL/share/RDKit/Contrib/mmpa/data/sample_mmps_sym.csv\n",
            "AMPL/share/RDKit/Contrib/mmpa/data/sample_db_search_trans_smarts_output.txt\n",
            "AMPL/share/RDKit/Contrib/mmpa/data/sample_mmps_sym_maxheavy.csv\n",
            "AMPL/share/RDKit/Contrib/mmpa/data/sample_db_input_subs_smarts.txt\n",
            "AMPL/share/RDKit/Contrib/mmpa/data/sample_transfroms.txt\n",
            "AMPL/share/RDKit/Contrib/mmpa/data/sample_cansmirks.txt\n",
            "AMPL/share/RDKit/Contrib/mmpa/data/sample_fragmented.txt\n",
            "AMPL/share/RDKit/Contrib/mmpa/data/sample_db_search_subs_output.txt\n",
            "AMPL/share/RDKit/Contrib/mmpa/data/sample_smirks_mol_trans.txt\n",
            "AMPL/share/RDKit/Contrib/mmpa/data/sample_smirks.txt\n",
            "AMPL/share/RDKit/Contrib/mmpa/data/sample.smi\n",
            "AMPL/share/RDKit/Contrib/mmpa/data/sample_db_search_smi_output.txt\n",
            "AMPL/share/RDKit/Contrib/mmpa/data/sample_mmps_maxratio.csv\n",
            "AMPL/share/RDKit/Contrib/mmpa/data/sample_mol_trans_output.txt\n",
            "AMPL/share/RDKit/Contrib/mmpa/data/sample_db_input_smi.txt\n",
            "AMPL/share/RDKit/Contrib/mmpa/data/sample_mmps_maxheavy.csv\n",
            "AMPL/share/RDKit/Contrib/mmpa/data/sample_db_search_subs_smart_output.txt\n",
            "AMPL/share/RDKit/Contrib/mmpa/data/sample_db_search_trans_output.txt\n",
            "AMPL/share/RDKit/Contrib/mmpa/data/sample_smiles_mol_trans.smi\n",
            "AMPL/share/RDKit/Contrib/mmpa/data/simple.smi\n",
            "AMPL/share/RDKit/Contrib/mmpa/data/sample_db_input_trans.txt\n",
            "AMPL/share/RDKit/Contrib/mmpa/data/sample_db_input_trans_smarts.txt\n",
            "AMPL/share/RDKit/Contrib/mmpa/indexing.py\n",
            "AMPL/share/RDKit/Contrib/mmpa/mol_transform.py\n",
            "AMPL/share/RDKit/Contrib/mmpa/__pycache__/\n",
            "AMPL/share/RDKit/Contrib/mmpa/__pycache__/search_mmp_db.cpython-36.pyc\n",
            "AMPL/share/RDKit/Contrib/mmpa/__pycache__/create_mmp_db.cpython-36.pyc\n",
            "AMPL/share/RDKit/Contrib/mmpa/__pycache__/test_rfrag.cpython-36.pyc\n",
            "AMPL/share/RDKit/Contrib/mmpa/__pycache__/indexing.cpython-36.pyc\n",
            "AMPL/share/RDKit/Contrib/mmpa/__pycache__/cansmirk.cpython-36.pyc\n",
            "AMPL/share/RDKit/Contrib/mmpa/__pycache__/rfrag.cpython-36.pyc\n",
            "AMPL/share/RDKit/Contrib/mmpa/__pycache__/mol_transform.cpython-36.pyc\n",
            "AMPL/share/RDKit/Contrib/mmpa/__pycache__/test_list.cpython-36.pyc\n",
            "AMPL/share/RDKit/Contrib/mmpa/test_rfrag.py\n",
            "AMPL/share/RDKit/Contrib/mmpa/create_mmp_db.py\n",
            "AMPL/share/RDKit/Contrib/mmpa/cansmirk.py\n",
            "AMPL/share/RDKit/Contrib/mmpa/rfrag.py\n",
            "AMPL/share/RDKit/Contrib/mmpa/README.txt\n",
            "AMPL/share/RDKit/Contrib/mmpa/search_mmp_db.py\n",
            "AMPL/share/RDKit/Contrib/mmpa/test_list.py\n",
            "AMPL/share/RDKit/Contrib/LEF/\n",
            "AMPL/share/RDKit/Contrib/LEF/DistancePredict.py\n",
            "AMPL/share/RDKit/Contrib/LEF/__pycache__/\n",
            "AMPL/share/RDKit/Contrib/LEF/__pycache__/ClusterFps.cpython-36.pyc\n",
            "AMPL/share/RDKit/Contrib/LEF/__pycache__/DistancePredict.cpython-36.pyc\n",
            "AMPL/share/RDKit/Contrib/LEF/__pycache__/DistancePlot.cpython-36.pyc\n",
            "AMPL/share/RDKit/Contrib/LEF/__pycache__/AddLabels.cpython-36.pyc\n",
            "AMPL/share/RDKit/Contrib/LEF/__pycache__/CreateFps.cpython-36.pyc\n",
            "AMPL/share/RDKit/Contrib/LEF/ClusterFps.py\n",
            "AMPL/share/RDKit/Contrib/LEF/AddLabels.py\n",
            "AMPL/share/RDKit/Contrib/LEF/CreateFps.py\n",
            "AMPL/share/RDKit/Contrib/LEF/README.txt\n",
            "AMPL/share/RDKit/Contrib/LEF/DistancePlot.py\n",
            "AMPL/share/RDKit/Contrib/PBF/\n",
            "AMPL/share/RDKit/Contrib/PBF/PBFRDKit.cpp\n",
            "AMPL/share/RDKit/Contrib/PBF/__pycache__/\n",
            "AMPL/share/RDKit/Contrib/PBF/__pycache__/pbf.cpython-36.pyc\n",
            "AMPL/share/RDKit/Contrib/PBF/README\n",
            "AMPL/share/RDKit/Contrib/PBF/demo.cpp\n",
            "AMPL/share/RDKit/Contrib/PBF/testData/\n",
            "AMPL/share/RDKit/Contrib/PBF/testData/egfr.out\n",
            "AMPL/share/RDKit/Contrib/PBF/testData/egfr.sdf\n",
            "AMPL/share/RDKit/Contrib/PBF/PBFRDKit.h\n",
            "AMPL/share/RDKit/Contrib/PBF/Makefile\n",
            "AMPL/share/RDKit/Contrib/PBF/pbf.py\n",
            "AMPL/share/RDKit/Contrib/NP_Score/\n",
            "AMPL/share/RDKit/Contrib/NP_Score/publicnp.model.gz\n",
            "AMPL/share/RDKit/Contrib/NP_Score/__pycache__/\n",
            "AMPL/share/RDKit/Contrib/NP_Score/__pycache__/npscorer.cpython-36.pyc\n",
            "AMPL/share/RDKit/Contrib/NP_Score/README\n",
            "AMPL/share/RDKit/Contrib/NP_Score/npscorer.py\n",
            "AMPL/share/RDKit/Contrib/M_Kossner/\n",
            "AMPL/share/RDKit/Contrib/M_Kossner/BaseFeatures_DIP2_NoMicrospecies.fdef\n",
            "AMPL/share/RDKit/Contrib/M_Kossner/Frames.py\n",
            "AMPL/share/RDKit/Contrib/M_Kossner/__pycache__/\n",
            "AMPL/share/RDKit/Contrib/M_Kossner/__pycache__/Frames.cpython-36.pyc\n",
            "AMPL/share/RDKit/Contrib/M_Kossner/README\n",
            "AMPL/share/RDKit/Contrib/pzc/\n",
            "AMPL/share/RDKit/Contrib/pzc/p_con.html\n",
            "AMPL/share/RDKit/Contrib/pzc/__pycache__/\n",
            "AMPL/share/RDKit/Contrib/pzc/__pycache__/p_con.cpython-36.pyc\n",
            "AMPL/share/RDKit/Contrib/pzc/readme.md\n",
            "AMPL/share/RDKit/Contrib/pzc/p_con.py\n",
            "AMPL/share/RDKit/Contrib/RxnRoleAssignment/\n",
            "AMPL/share/RDKit/Contrib/RxnRoleAssignment/utils.py\n",
            "AMPL/share/RDKit/Contrib/RxnRoleAssignment/identifyReactants.py\n",
            "AMPL/share/RDKit/Contrib/RxnRoleAssignment/__pycache__/\n",
            "AMPL/share/RDKit/Contrib/RxnRoleAssignment/__pycache__/__init__.cpython-36.pyc\n",
            "AMPL/share/RDKit/Contrib/RxnRoleAssignment/__pycache__/identifyReactants.cpython-36.pyc\n",
            "AMPL/share/RDKit/Contrib/RxnRoleAssignment/__pycache__/utils.cpython-36.pyc\n",
            "AMPL/share/RDKit/Contrib/RxnRoleAssignment/__init__.py\n",
            "AMPL/share/RDKit/Contrib/RxnRoleAssignment/README.txt\n",
            "AMPL/share/RDKit/Contrib/AtomAtomSimilarity/\n",
            "AMPL/share/RDKit/Contrib/AtomAtomSimilarity/__pycache__/\n",
            "AMPL/share/RDKit/Contrib/AtomAtomSimilarity/__pycache__/AtomAtomPathSimilarity.cpython-36.pyc\n",
            "AMPL/share/RDKit/Contrib/AtomAtomSimilarity/AtomAtomPathSimilarity.py\n",
            "AMPL/share/RDKit/Contrib/ConformerParser/\n",
            "AMPL/share/RDKit/Contrib/ConformerParser/ConformerParser.cpp\n",
            "AMPL/share/RDKit/Contrib/ConformerParser/Wrap/\n",
            "AMPL/share/RDKit/Contrib/ConformerParser/Wrap/testConformerParser.py\n",
            "AMPL/share/RDKit/Contrib/ConformerParser/Wrap/__pycache__/\n",
            "AMPL/share/RDKit/Contrib/ConformerParser/Wrap/__pycache__/testConformerParser.cpython-36.pyc\n",
            "AMPL/share/RDKit/Contrib/ConformerParser/Wrap/__pycache__/test_list.cpython-36.pyc\n",
            "AMPL/share/RDKit/Contrib/ConformerParser/Wrap/rdConformerParser.cpp\n",
            "AMPL/share/RDKit/Contrib/ConformerParser/Wrap/CMakeLists.txt\n",
            "AMPL/share/RDKit/Contrib/ConformerParser/Wrap/test_list.py\n",
            "AMPL/share/RDKit/Contrib/ConformerParser/__pycache__/\n",
            "AMPL/share/RDKit/Contrib/ConformerParser/__pycache__/test_list.cpython-36.pyc\n",
            "AMPL/share/RDKit/Contrib/ConformerParser/CMakeLists.txt\n",
            "AMPL/share/RDKit/Contrib/ConformerParser/ConformerParser.h\n",
            "AMPL/share/RDKit/Contrib/ConformerParser/test.cpp\n",
            "AMPL/share/RDKit/Contrib/ConformerParser/test_list.py\n",
            "AMPL/share/RDKit/Contrib/CMakeLists.txt\n",
            "AMPL/share/RDKit/Contrib/Glare/\n",
            "AMPL/share/RDKit/Contrib/Glare/__pycache__/\n",
            "AMPL/share/RDKit/Contrib/Glare/__pycache__/glare.cpython-36.pyc\n",
            "AMPL/share/RDKit/Contrib/Glare/glare.py\n",
            "AMPL/share/RDKit/Contrib/Glare/README.txt\n",
            "AMPL/share/RDKit/Contrib/fraggle/\n",
            "AMPL/share/RDKit/Contrib/fraggle/atomcontrib.py\n",
            "AMPL/share/RDKit/Contrib/fraggle/cxn_tversky.py\n",
            "AMPL/share/RDKit/Contrib/fraggle/data/\n",
            "AMPL/share/RDKit/Contrib/fraggle/data/ChEMBL_11265_actives.smi\n",
            "AMPL/share/RDKit/Contrib/fraggle/data/final_fraggle_results.csv\n",
            "AMPL/share/RDKit/Contrib/fraggle/data/fragmentation_tversky_out\n",
            "AMPL/share/RDKit/Contrib/fraggle/data/query.smi\n",
            "AMPL/share/RDKit/Contrib/fraggle/data/query_fragmentation.csv\n",
            "AMPL/share/RDKit/Contrib/fraggle/fraggle.py\n",
            "AMPL/share/RDKit/Contrib/fraggle/__pycache__/\n",
            "AMPL/share/RDKit/Contrib/fraggle/__pycache__/fraggle.cpython-36.pyc\n",
            "AMPL/share/RDKit/Contrib/fraggle/__pycache__/cxn_tversky.cpython-36.pyc\n",
            "AMPL/share/RDKit/Contrib/fraggle/__pycache__/rdkit_tversky.cpython-36.pyc\n",
            "AMPL/share/RDKit/Contrib/fraggle/__pycache__/atomcontrib.cpython-36.pyc\n",
            "AMPL/share/RDKit/Contrib/fraggle/readme.txt\n",
            "AMPL/share/RDKit/Contrib/fraggle/rdkit_tversky.py\n",
            "AMPL/share/RDKit/Data/\n",
            "AMPL/share/RDKit/Data/NCI/\n",
            "AMPL/share/RDKit/Data/NCI/first_5K.smi\n",
            "AMPL/share/RDKit/Data/NCI/first_200.tpsa.csv\n",
            "AMPL/share/RDKit/Data/NCI/first_5k.tpsa.csv\n",
            "AMPL/share/RDKit/Data/NCI/first_200.props.sdf\n",
            "AMPL/share/RDKit/Data/rddata.sql\n",
            "AMPL/share/RDKit/Data/Salts.txt\n",
            "AMPL/share/RDKit/Data/RDData.sqlt\n",
            "AMPL/share/RDKit/Data/BaseFeatures.fdef\n",
            "AMPL/share/RDKit/Data/FunctionalGroups.txt\n",
            "AMPL/share/RDKit/Data/SmartsLib/\n",
            "AMPL/share/RDKit/Data/SmartsLib/RLewis_smarts.txt\n",
            "AMPL/share/RDKit/Data/SmartsLib/patty_rules.txt\n",
            "AMPL/share/RDKit/Data/SmartsLib/tests/\n",
            "AMPL/share/RDKit/Data/SmartsLib/tests/bench2.py\n",
            "AMPL/share/RDKit/Data/SmartsLib/tests/__pycache__/\n",
            "AMPL/share/RDKit/Data/SmartsLib/tests/__pycache__/bench2.cpython-36.pyc\n",
            "AMPL/share/RDKit/Data/SmartsLib/tests/mols.1000.pkl.gz\n",
            "AMPL/share/RDKit/Data/SmartsLib/tests/fps.1000.counts.pkl.gz\n",
            "AMPL/share/RDKit/Data/FragmentDescriptors.csv\n",
            "AMPL/share/RDKit/Data/DTDs/\n",
            "AMPL/share/RDKit/Data/DTDs/RD_Dataset.dtd\n",
            "AMPL/share/RDKit/Data/DTDs/RD_Model.dtd\n",
            "AMPL/share/RDKit/Data/DTDs/__pycache__/\n",
            "AMPL/share/RDKit/Data/DTDs/__pycache__/validate.cpython-36.pyc\n",
            "AMPL/share/RDKit/Data/DTDs/validate.py\n",
            "AMPL/share/RDKit/Data/Functional_Group_Hierarchy.txt\n",
            "AMPL/share/RDKit/Data/Pains/\n",
            "AMPL/share/RDKit/Data/Pains/test_data/\n",
            "AMPL/share/RDKit/Data/Pains/test_data/test_set3.txt\n",
            "AMPL/share/RDKit/Data/Pains/test_data/__pycache__/\n",
            "AMPL/share/RDKit/Data/Pains/test_data/__pycache__/run_tests.cpython-36.pyc\n",
            "AMPL/share/RDKit/Data/Pains/test_data/wehi_mols.csv\n",
            "AMPL/share/RDKit/Data/Pains/test_data/run_tests.py\n",
            "AMPL/share/RDKit/Data/Pains/wehi_pains.csv\n",
            "AMPL/share/RDKit/Data/Pains/README.md\n",
            "AMPL/share/RDKit/Data/RDTests.sqlt\n",
            "AMPL/share/RDKit/Data/Crippen.txt\n",
            "AMPL/share/RDKit/Data/struchk/\n",
            "AMPL/share/RDKit/Data/struchk/checkfgs.chk\n",
            "AMPL/share/RDKit/Data/struchk/checkfgs.trn\n",
            "AMPL/share/RDKit/Data/struchk/checkfgs.opt\n",
            "AMPL/share/licenses/\n",
            "AMPL/share/licenses/gcc-libs/\n",
            "AMPL/share/licenses/gcc-libs/RUNTIME.LIBRARY.EXCEPTION\n",
            "AMPL/share/licenses/gcc-libs/RUNTIME.LIBRARY.EXCEPTION.gomp_copy\n",
            "AMPL/share/licenses/libstdc++/\n",
            "AMPL/share/licenses/libstdc++/RUNTIME.LIBRARY.EXCEPTION\n",
            "AMPL/share/licenses/libgfortran/\n",
            "AMPL/share/licenses/libgfortran/RUNTIME.LIBRARY.EXCEPTION\n",
            "AMPL/share/X11/\n",
            "AMPL/share/X11/locale/\n",
            "AMPL/share/X11/locale/locale.alias\n",
            "AMPL/share/X11/locale/iso8859-9e/\n",
            "AMPL/share/X11/locale/iso8859-9e/Compose\n",
            "AMPL/share/X11/locale/iso8859-9e/XI18N_OBJS\n",
            "AMPL/share/X11/locale/iso8859-9e/XLC_LOCALE\n",
            "AMPL/share/X11/locale/zh_HK.big5/\n",
            "AMPL/share/X11/locale/zh_HK.big5/Compose\n",
            "AMPL/share/X11/locale/zh_HK.big5/XI18N_OBJS\n",
            "AMPL/share/X11/locale/zh_HK.big5/XLC_LOCALE\n",
            "AMPL/share/X11/locale/fi_FI.UTF-8/\n",
            "AMPL/share/X11/locale/fi_FI.UTF-8/Compose\n",
            "AMPL/share/X11/locale/fi_FI.UTF-8/XI18N_OBJS\n",
            "AMPL/share/X11/locale/fi_FI.UTF-8/XLC_LOCALE\n",
            "AMPL/share/X11/locale/iso8859-4/\n",
            "AMPL/share/X11/locale/iso8859-4/Compose\n",
            "AMPL/share/X11/locale/iso8859-4/XI18N_OBJS\n",
            "AMPL/share/X11/locale/iso8859-4/XLC_LOCALE\n",
            "AMPL/share/X11/locale/zh_TW.big5/\n",
            "AMPL/share/X11/locale/zh_TW.big5/Compose\n",
            "AMPL/share/X11/locale/zh_TW.big5/XI18N_OBJS\n",
            "AMPL/share/X11/locale/zh_TW.big5/XLC_LOCALE\n",
            "AMPL/share/X11/locale/zh_TW/\n",
            "AMPL/share/X11/locale/zh_TW/Compose\n",
            "AMPL/share/X11/locale/zh_TW/XI18N_OBJS\n",
            "AMPL/share/X11/locale/zh_TW/XLC_LOCALE\n",
            "AMPL/share/X11/locale/georgian-ps/\n",
            "AMPL/share/X11/locale/georgian-ps/Compose\n",
            "AMPL/share/X11/locale/georgian-ps/XI18N_OBJS\n",
            "AMPL/share/X11/locale/georgian-ps/XLC_LOCALE\n",
            "AMPL/share/X11/locale/iso8859-2/\n",
            "AMPL/share/X11/locale/iso8859-2/Compose\n",
            "AMPL/share/X11/locale/iso8859-2/XI18N_OBJS\n",
            "AMPL/share/X11/locale/iso8859-2/XLC_LOCALE\n",
            "AMPL/share/X11/locale/tscii-0/\n",
            "AMPL/share/X11/locale/tscii-0/Compose\n",
            "AMPL/share/X11/locale/tscii-0/XI18N_OBJS\n",
            "AMPL/share/X11/locale/tscii-0/XLC_LOCALE\n",
            "AMPL/share/X11/locale/iso8859-7/\n",
            "AMPL/share/X11/locale/iso8859-7/Compose\n",
            "AMPL/share/X11/locale/iso8859-7/XI18N_OBJS\n",
            "AMPL/share/X11/locale/iso8859-7/XLC_LOCALE\n",
            "AMPL/share/X11/locale/C/\n",
            "AMPL/share/X11/locale/C/Compose\n",
            "AMPL/share/X11/locale/C/XI18N_OBJS\n",
            "AMPL/share/X11/locale/C/XLC_LOCALE\n",
            "AMPL/share/X11/locale/mulelao-1/\n",
            "AMPL/share/X11/locale/mulelao-1/Compose\n",
            "AMPL/share/X11/locale/mulelao-1/XI18N_OBJS\n",
            "AMPL/share/X11/locale/mulelao-1/XLC_LOCALE\n",
            "AMPL/share/X11/locale/pt_PT.UTF-8/\n",
            "AMPL/share/X11/locale/pt_PT.UTF-8/Compose\n",
            "AMPL/share/X11/locale/pt_PT.UTF-8/XI18N_OBJS\n",
            "AMPL/share/X11/locale/pt_PT.UTF-8/XLC_LOCALE\n",
            "AMPL/share/X11/locale/iscii-dev/\n",
            "AMPL/share/X11/locale/iscii-dev/Compose\n",
            "AMPL/share/X11/locale/iscii-dev/XI18N_OBJS\n",
            "AMPL/share/X11/locale/iscii-dev/XLC_LOCALE\n",
            "AMPL/share/X11/locale/isiri-3342/\n",
            "AMPL/share/X11/locale/isiri-3342/Compose\n",
            "AMPL/share/X11/locale/isiri-3342/XI18N_OBJS\n",
            "AMPL/share/X11/locale/isiri-3342/XLC_LOCALE\n",
            "AMPL/share/X11/locale/tatar-cyr/\n",
            "AMPL/share/X11/locale/tatar-cyr/Compose\n",
            "AMPL/share/X11/locale/tatar-cyr/XI18N_OBJS\n",
            "AMPL/share/X11/locale/tatar-cyr/XLC_LOCALE\n",
            "AMPL/share/X11/locale/zh_HK.big5hkscs/\n",
            "AMPL/share/X11/locale/zh_HK.big5hkscs/Compose\n",
            "AMPL/share/X11/locale/zh_HK.big5hkscs/XI18N_OBJS\n",
            "AMPL/share/X11/locale/zh_HK.big5hkscs/XLC_LOCALE\n",
            "AMPL/share/X11/locale/ja_JP.UTF-8/\n",
            "AMPL/share/X11/locale/ja_JP.UTF-8/Compose\n",
            "AMPL/share/X11/locale/ja_JP.UTF-8/XI18N_OBJS\n",
            "AMPL/share/X11/locale/ja_JP.UTF-8/XLC_LOCALE\n",
            "AMPL/share/X11/locale/koi8-r/\n",
            "AMPL/share/X11/locale/koi8-r/Compose\n",
            "AMPL/share/X11/locale/koi8-r/XI18N_OBJS\n",
            "AMPL/share/X11/locale/koi8-r/XLC_LOCALE\n",
            "AMPL/share/X11/locale/el_GR.UTF-8/\n",
            "AMPL/share/X11/locale/el_GR.UTF-8/Compose\n",
            "AMPL/share/X11/locale/el_GR.UTF-8/XI18N_OBJS\n",
            "AMPL/share/X11/locale/el_GR.UTF-8/XLC_LOCALE\n",
            "AMPL/share/X11/locale/microsoft-cp1256/\n",
            "AMPL/share/X11/locale/microsoft-cp1256/Compose\n",
            "AMPL/share/X11/locale/microsoft-cp1256/XI18N_OBJS\n",
            "AMPL/share/X11/locale/microsoft-cp1256/XLC_LOCALE\n",
            "AMPL/share/X11/locale/zh_CN/\n",
            "AMPL/share/X11/locale/zh_CN/Compose\n",
            "AMPL/share/X11/locale/zh_CN/XI18N_OBJS\n",
            "AMPL/share/X11/locale/zh_CN/XLC_LOCALE\n",
            "AMPL/share/X11/locale/am_ET.UTF-8/\n",
            "AMPL/share/X11/locale/am_ET.UTF-8/Compose\n",
            "AMPL/share/X11/locale/am_ET.UTF-8/XI18N_OBJS\n",
            "AMPL/share/X11/locale/am_ET.UTF-8/XLC_LOCALE\n",
            "AMPL/share/X11/locale/koi8-c/\n",
            "AMPL/share/X11/locale/koi8-c/Compose\n",
            "AMPL/share/X11/locale/koi8-c/XI18N_OBJS\n",
            "AMPL/share/X11/locale/koi8-c/XLC_LOCALE\n",
            "AMPL/share/X11/locale/georgian-academy/\n",
            "AMPL/share/X11/locale/georgian-academy/Compose\n",
            "AMPL/share/X11/locale/georgian-academy/XI18N_OBJS\n",
            "AMPL/share/X11/locale/georgian-academy/XLC_LOCALE\n",
            "AMPL/share/X11/locale/koi8-u/\n",
            "AMPL/share/X11/locale/koi8-u/Compose\n",
            "AMPL/share/X11/locale/koi8-u/XI18N_OBJS\n",
            "AMPL/share/X11/locale/koi8-u/XLC_LOCALE\n",
            "AMPL/share/X11/locale/iso8859-10/\n",
            "AMPL/share/X11/locale/iso8859-10/Compose\n",
            "AMPL/share/X11/locale/iso8859-10/XI18N_OBJS\n",
            "AMPL/share/X11/locale/iso8859-10/XLC_LOCALE\n",
            "AMPL/share/X11/locale/ko_KR.UTF-8/\n",
            "AMPL/share/X11/locale/ko_KR.UTF-8/Compose\n",
            "AMPL/share/X11/locale/ko_KR.UTF-8/XI18N_OBJS\n",
            "AMPL/share/X11/locale/ko_KR.UTF-8/XLC_LOCALE\n",
            "AMPL/share/X11/locale/iso8859-6/\n",
            "AMPL/share/X11/locale/iso8859-6/Compose\n",
            "AMPL/share/X11/locale/iso8859-6/XI18N_OBJS\n",
            "AMPL/share/X11/locale/iso8859-6/XLC_LOCALE\n",
            "AMPL/share/X11/locale/ja/\n",
            "AMPL/share/X11/locale/ja/Compose\n",
            "AMPL/share/X11/locale/ja/XI18N_OBJS\n",
            "AMPL/share/X11/locale/ja/XLC_LOCALE\n",
            "AMPL/share/X11/locale/iso8859-13/\n",
            "AMPL/share/X11/locale/iso8859-13/Compose\n",
            "AMPL/share/X11/locale/iso8859-13/XI18N_OBJS\n",
            "AMPL/share/X11/locale/iso8859-13/XLC_LOCALE\n",
            "AMPL/share/X11/locale/iso8859-5/\n",
            "AMPL/share/X11/locale/iso8859-5/Compose\n",
            "AMPL/share/X11/locale/iso8859-5/XI18N_OBJS\n",
            "AMPL/share/X11/locale/iso8859-5/XLC_LOCALE\n",
            "AMPL/share/X11/locale/ja.SJIS/\n",
            "AMPL/share/X11/locale/ja.SJIS/Compose\n",
            "AMPL/share/X11/locale/ja.SJIS/XI18N_OBJS\n",
            "AMPL/share/X11/locale/ja.SJIS/XLC_LOCALE\n",
            "AMPL/share/X11/locale/sr_CS.UTF-8/\n",
            "AMPL/share/X11/locale/sr_CS.UTF-8/Compose\n",
            "AMPL/share/X11/locale/sr_CS.UTF-8/XI18N_OBJS\n",
            "AMPL/share/X11/locale/sr_CS.UTF-8/XLC_LOCALE\n",
            "AMPL/share/X11/locale/th_TH/\n",
            "AMPL/share/X11/locale/th_TH/Compose\n",
            "AMPL/share/X11/locale/th_TH/XI18N_OBJS\n",
            "AMPL/share/X11/locale/th_TH/XLC_LOCALE\n",
            "AMPL/share/X11/locale/en_US.UTF-8/\n",
            "AMPL/share/X11/locale/en_US.UTF-8/Compose\n",
            "AMPL/share/X11/locale/en_US.UTF-8/XI18N_OBJS\n",
            "AMPL/share/X11/locale/en_US.UTF-8/XLC_LOCALE\n",
            "AMPL/share/X11/locale/ru_RU.UTF-8/\n",
            "AMPL/share/X11/locale/ru_RU.UTF-8/Compose\n",
            "AMPL/share/X11/locale/ru_RU.UTF-8/XI18N_OBJS\n",
            "AMPL/share/X11/locale/ru_RU.UTF-8/XLC_LOCALE\n",
            "AMPL/share/X11/locale/iso8859-1/\n",
            "AMPL/share/X11/locale/iso8859-1/Compose\n",
            "AMPL/share/X11/locale/iso8859-1/XI18N_OBJS\n",
            "AMPL/share/X11/locale/iso8859-1/XLC_LOCALE\n",
            "AMPL/share/X11/locale/armscii-8/\n",
            "AMPL/share/X11/locale/armscii-8/Compose\n",
            "AMPL/share/X11/locale/armscii-8/XI18N_OBJS\n",
            "AMPL/share/X11/locale/armscii-8/XLC_LOCALE\n",
            "AMPL/share/X11/locale/km_KH.UTF-8/\n",
            "AMPL/share/X11/locale/km_KH.UTF-8/Compose\n",
            "AMPL/share/X11/locale/km_KH.UTF-8/XI18N_OBJS\n",
            "AMPL/share/X11/locale/km_KH.UTF-8/XLC_LOCALE\n",
            "AMPL/share/X11/locale/iso8859-3/\n",
            "AMPL/share/X11/locale/iso8859-3/Compose\n",
            "AMPL/share/X11/locale/iso8859-3/XI18N_OBJS\n",
            "AMPL/share/X11/locale/iso8859-3/XLC_LOCALE\n",
            "AMPL/share/X11/locale/pt_BR.UTF-8/\n",
            "AMPL/share/X11/locale/pt_BR.UTF-8/Compose\n",
            "AMPL/share/X11/locale/pt_BR.UTF-8/XI18N_OBJS\n",
            "AMPL/share/X11/locale/pt_BR.UTF-8/XLC_LOCALE\n",
            "AMPL/share/X11/locale/nokhchi-1/\n",
            "AMPL/share/X11/locale/nokhchi-1/Compose\n",
            "AMPL/share/X11/locale/nokhchi-1/XI18N_OBJS\n",
            "AMPL/share/X11/locale/nokhchi-1/XLC_LOCALE\n",
            "AMPL/share/X11/locale/iso8859-11/\n",
            "AMPL/share/X11/locale/iso8859-11/Compose\n",
            "AMPL/share/X11/locale/iso8859-11/XI18N_OBJS\n",
            "AMPL/share/X11/locale/iso8859-11/XLC_LOCALE\n",
            "AMPL/share/X11/locale/iso8859-15/\n",
            "AMPL/share/X11/locale/iso8859-15/Compose\n",
            "AMPL/share/X11/locale/iso8859-15/XI18N_OBJS\n",
            "AMPL/share/X11/locale/iso8859-15/XLC_LOCALE\n",
            "AMPL/share/X11/locale/zh_TW.UTF-8/\n",
            "AMPL/share/X11/locale/zh_TW.UTF-8/Compose\n",
            "AMPL/share/X11/locale/zh_TW.UTF-8/XI18N_OBJS\n",
            "AMPL/share/X11/locale/zh_TW.UTF-8/XLC_LOCALE\n",
            "AMPL/share/X11/locale/microsoft-cp1251/\n",
            "AMPL/share/X11/locale/microsoft-cp1251/Compose\n",
            "AMPL/share/X11/locale/microsoft-cp1251/XI18N_OBJS\n",
            "AMPL/share/X11/locale/microsoft-cp1251/XLC_LOCALE\n",
            "AMPL/share/X11/locale/compose.dir\n",
            "AMPL/share/X11/locale/th_TH.UTF-8/\n",
            "AMPL/share/X11/locale/th_TH.UTF-8/Compose\n",
            "AMPL/share/X11/locale/th_TH.UTF-8/XI18N_OBJS\n",
            "AMPL/share/X11/locale/th_TH.UTF-8/XLC_LOCALE\n",
            "AMPL/share/X11/locale/microsoft-cp1255/\n",
            "AMPL/share/X11/locale/microsoft-cp1255/Compose\n",
            "AMPL/share/X11/locale/microsoft-cp1255/XI18N_OBJS\n",
            "AMPL/share/X11/locale/microsoft-cp1255/XLC_LOCALE\n",
            "AMPL/share/X11/locale/iso8859-14/\n",
            "AMPL/share/X11/locale/iso8859-14/Compose\n",
            "AMPL/share/X11/locale/iso8859-14/XI18N_OBJS\n",
            "AMPL/share/X11/locale/iso8859-14/XLC_LOCALE\n",
            "AMPL/share/X11/locale/ko/\n",
            "AMPL/share/X11/locale/ko/Compose\n",
            "AMPL/share/X11/locale/ko/XI18N_OBJS\n",
            "AMPL/share/X11/locale/ko/XLC_LOCALE\n",
            "AMPL/share/X11/locale/ibm-cp1133/\n",
            "AMPL/share/X11/locale/ibm-cp1133/Compose\n",
            "AMPL/share/X11/locale/ibm-cp1133/XI18N_OBJS\n",
            "AMPL/share/X11/locale/ibm-cp1133/XLC_LOCALE\n",
            "AMPL/share/X11/locale/zh_CN.UTF-8/\n",
            "AMPL/share/X11/locale/zh_CN.UTF-8/Compose\n",
            "AMPL/share/X11/locale/zh_CN.UTF-8/XI18N_OBJS\n",
            "AMPL/share/X11/locale/zh_CN.UTF-8/XLC_LOCALE\n",
            "AMPL/share/X11/locale/cs_CZ.UTF-8/\n",
            "AMPL/share/X11/locale/cs_CZ.UTF-8/Compose\n",
            "AMPL/share/X11/locale/cs_CZ.UTF-8/XI18N_OBJS\n",
            "AMPL/share/X11/locale/cs_CZ.UTF-8/XLC_LOCALE\n",
            "AMPL/share/X11/locale/zh_HK.UTF-8/\n",
            "AMPL/share/X11/locale/zh_HK.UTF-8/Compose\n",
            "AMPL/share/X11/locale/zh_HK.UTF-8/XI18N_OBJS\n",
            "AMPL/share/X11/locale/zh_HK.UTF-8/XLC_LOCALE\n",
            "AMPL/share/X11/locale/zh_CN.gbk/\n",
            "AMPL/share/X11/locale/zh_CN.gbk/Compose\n",
            "AMPL/share/X11/locale/zh_CN.gbk/XI18N_OBJS\n",
            "AMPL/share/X11/locale/zh_CN.gbk/XLC_LOCALE\n",
            "AMPL/share/X11/locale/zh_CN.gb18030/\n",
            "AMPL/share/X11/locale/zh_CN.gb18030/Compose\n",
            "AMPL/share/X11/locale/zh_CN.gb18030/XI18N_OBJS\n",
            "AMPL/share/X11/locale/zh_CN.gb18030/XLC_LOCALE\n",
            "AMPL/share/X11/locale/vi_VN.tcvn/\n",
            "AMPL/share/X11/locale/vi_VN.tcvn/Compose\n",
            "AMPL/share/X11/locale/vi_VN.tcvn/XI18N_OBJS\n",
            "AMPL/share/X11/locale/vi_VN.tcvn/XLC_LOCALE\n",
            "AMPL/share/X11/locale/iso8859-8/\n",
            "AMPL/share/X11/locale/iso8859-8/Compose\n",
            "AMPL/share/X11/locale/iso8859-8/XI18N_OBJS\n",
            "AMPL/share/X11/locale/iso8859-8/XLC_LOCALE\n",
            "AMPL/share/X11/locale/locale.dir\n",
            "AMPL/share/X11/locale/vi_VN.viscii/\n",
            "AMPL/share/X11/locale/vi_VN.viscii/Compose\n",
            "AMPL/share/X11/locale/vi_VN.viscii/XI18N_OBJS\n",
            "AMPL/share/X11/locale/vi_VN.viscii/XLC_LOCALE\n",
            "AMPL/share/X11/locale/iso8859-9/\n",
            "AMPL/share/X11/locale/iso8859-9/Compose\n",
            "AMPL/share/X11/locale/iso8859-9/XI18N_OBJS\n",
            "AMPL/share/X11/locale/iso8859-9/XLC_LOCALE\n",
            "AMPL/share/X11/locale/ja.JIS/\n",
            "AMPL/share/X11/locale/ja.JIS/Compose\n",
            "AMPL/share/X11/locale/ja.JIS/XI18N_OBJS\n",
            "AMPL/share/X11/locale/ja.JIS/XLC_LOCALE\n",
            "AMPL/share/X11/XErrorDB\n",
            "AMPL/share/X11/Xcms.txt\n",
            "AMPL/share/man/\n",
            "AMPL/share/man/de/\n",
            "AMPL/share/man/de/man1/\n",
            "AMPL/share/man/de/man1/xzgrep.1\n",
            "AMPL/share/man/de/man1/lzfgrep.1\n",
            "AMPL/share/man/de/man1/lzmore.1\n",
            "AMPL/share/man/de/man1/xzegrep.1\n",
            "AMPL/share/man/de/man1/lzdiff.1\n",
            "AMPL/share/man/de/man1/xz.1\n",
            "AMPL/share/man/de/man1/lzcat.1\n",
            "AMPL/share/man/de/man1/xzfgrep.1\n",
            "AMPL/share/man/de/man1/lzcmp.1\n",
            "AMPL/share/man/de/man1/xzless.1\n",
            "AMPL/share/man/de/man1/lzgrep.1\n",
            "AMPL/share/man/de/man1/unlzma.1\n",
            "AMPL/share/man/de/man1/lzegrep.1\n",
            "AMPL/share/man/de/man1/xzcmp.1\n",
            "AMPL/share/man/de/man1/lzma.1\n",
            "AMPL/share/man/de/man1/unxz.1\n",
            "AMPL/share/man/de/man1/lzless.1\n",
            "AMPL/share/man/de/man1/lzmadec.1\n",
            "AMPL/share/man/de/man1/xzdec.1\n",
            "AMPL/share/man/de/man1/xzdiff.1\n",
            "AMPL/share/man/de/man1/xzcat.1\n",
            "AMPL/share/man/de/man1/xzmore.1\n",
            "AMPL/share/man/man1/\n",
            "AMPL/share/man/man1/genrb.1\n",
            "AMPL/share/man/man1/xzgrep.1\n",
            "AMPL/share/man/man1/lzfgrep.1\n",
            "AMPL/share/man/man1/autopoint.1\n",
            "AMPL/share/man/man1/acountry.1\n",
            "AMPL/share/man/man1/msguniq.1\n",
            "AMPL/share/man/man1/msginit.1\n",
            "AMPL/share/man/man1/lzmore.1\n",
            "AMPL/share/man/man1/msgattrib.1\n",
            "AMPL/share/man/man1/msgen.1\n",
            "AMPL/share/man/man1/msgcomm.1\n",
            "AMPL/share/man/man1/genbrk.1\n",
            "AMPL/share/man/man1/ngettext.1\n",
            "AMPL/share/man/man1/fftwf-wisdom.1\n",
            "AMPL/share/man/man1/xzegrep.1\n",
            "AMPL/share/man/man1/xmlcatalog.1\n",
            "AMPL/share/man/man1/lzdiff.1\n",
            "AMPL/share/man/man1/icu-config.1\n",
            "AMPL/share/man/man1/sqlite3.1\n",
            "AMPL/share/man/man1/recode-sr-latin.1\n",
            "AMPL/share/man/man1/gettextize.1\n",
            "AMPL/share/man/man1/msgcmp.1\n",
            "AMPL/share/man/man1/xz.1\n",
            "AMPL/share/man/man1/anyconfig_cli.1\n",
            "AMPL/share/man/man1/gencfu.1\n",
            "AMPL/share/man/man1/lzcat.1\n",
            "AMPL/share/man/man1/ipython.1\n",
            "AMPL/share/man/man1/iconv.1\n",
            "AMPL/share/man/man1/freetype-config.1\n",
            "AMPL/share/man/man1/msgfilter.1\n",
            "AMPL/share/man/man1/python3.1\n",
            "AMPL/share/man/man1/xzfgrep.1\n",
            "AMPL/share/man/man1/msgfmt.1\n",
            "AMPL/share/man/man1/xmllint.1\n",
            "AMPL/share/man/man1/msgconv.1\n",
            "AMPL/share/man/man1/lzcmp.1\n",
            "AMPL/share/man/man1/pkgdata.1\n",
            "AMPL/share/man/man1/adig.1\n",
            "AMPL/share/man/man1/cjpeg.1\n",
            "AMPL/share/man/man1/wrjpgcom.1\n",
            "AMPL/share/man/man1/xgettext.1\n",
            "AMPL/share/man/man1/xzless.1\n",
            "AMPL/share/man/man1/msgmerge.1\n",
            "AMPL/share/man/man1/msgunfmt.1\n",
            "AMPL/share/man/man1/lzgrep.1\n",
            "AMPL/share/man/man1/makeconv.1\n",
            "AMPL/share/man/man1/unlzma.1\n",
            "AMPL/share/man/man1/lzmainfo.1\n",
            "AMPL/share/man/man1/python3.6.1\n",
            "AMPL/share/man/man1/msgexec.1\n",
            "AMPL/share/man/man1/gettext.1\n",
            "AMPL/share/man/man1/envsubst.1\n",
            "AMPL/share/man/man1/rdjpgcom.1\n",
            "AMPL/share/man/man1/ahost.1\n",
            "AMPL/share/man/man1/lzegrep.1\n",
            "AMPL/share/man/man1/xzcmp.1\n",
            "AMPL/share/man/man1/lzma.1\n",
            "AMPL/share/man/man1/derb.1\n",
            "AMPL/share/man/man1/jpegtran.1\n",
            "AMPL/share/man/man1/unxz.1\n",
            "AMPL/share/man/man1/lzless.1\n",
            "AMPL/share/man/man1/lzmadec.1\n",
            "AMPL/share/man/man1/xzdec.1\n",
            "AMPL/share/man/man1/xzdiff.1\n",
            "AMPL/share/man/man1/gendict.1\n",
            "AMPL/share/man/man1/xzcat.1\n",
            "AMPL/share/man/man1/msgcat.1\n",
            "AMPL/share/man/man1/xml2-config.1\n",
            "AMPL/share/man/man1/msggrep.1\n",
            "AMPL/share/man/man1/gencnval.1\n",
            "AMPL/share/man/man1/djpeg.1\n",
            "AMPL/share/man/man1/fftw-wisdom-to-conf.1\n",
            "AMPL/share/man/man1/xzmore.1\n",
            "AMPL/share/man/man3/\n",
            "AMPL/share/man/man3/ffi_call.3\n",
            "AMPL/share/man/man3/zmq_errno.3\n",
            "AMPL/share/man/man3/ares_free_data.3\n",
            "AMPL/share/man/man3/libpngpf.3\n",
            "AMPL/share/man/man3/zmq_send_const.3\n",
            "AMPL/share/man/man3/ares_fds.3\n",
            "AMPL/share/man/man3/zmq_getsockopt.3\n",
            "AMPL/share/man/man3/zmq_msg_init.3\n",
            "AMPL/share/man/man3/zmq_strerror.3\n",
            "AMPL/share/man/man3/tok_reset.3\n",
            "AMPL/share/man/man3/ares_parse_naptr_reply.3\n",
            "AMPL/share/man/man3/ares_inet_ntop.3\n",
            "AMPL/share/man/man3/zmq_close.3\n",
            "AMPL/share/man/man3/ares_send.3\n",
            "AMPL/share/man/man3/ares_set_local_ip4.3\n",
            "AMPL/share/man/man3/textdomain.3\n",
            "AMPL/share/man/man3/tok_wreset.3\n",
            "AMPL/share/man/man3/zmq_msg_set.3\n",
            "AMPL/share/man/man3/el_source.3\n",
            "AMPL/share/man/man3/history_wend.3\n",
            "AMPL/share/man/man3/zmq_socket_monitor_versioned.3\n",
            "AMPL/share/man/man3/ares_set_socket_callback.3\n",
            "AMPL/share/man/man3/el_wset.3\n",
            "AMPL/share/man/man3/ares_parse_srv_reply.3\n",
            "AMPL/share/man/man3/el_push.3\n",
            "AMPL/share/man/man3/ares_set_sortlist.3\n",
            "AMPL/share/man/man3/zmq_recvmsg.3\n",
            "AMPL/share/man/man3/ngettext.3\n",
            "AMPL/share/man/man3/ares_set_servers.3\n",
            "AMPL/share/man/man3/zmq_sendmsg.3\n",
            "AMPL/share/man/man3/ares_set_socket_functions.3\n",
            "AMPL/share/man/man3/zmq_msg_gets.3\n",
            "AMPL/share/man/man3/ares_expand_name.3\n",
            "AMPL/share/man/man3/zmq_msg_routing_id.3\n",
            "AMPL/share/man/man3/zmq_socket_monitor.3\n",
            "AMPL/share/man/man3/zmq_bind.3\n",
            "AMPL/share/man/man3/zmq_msg_init_data.3\n",
            "AMPL/share/man/man3/zmq_version.3\n",
            "AMPL/share/man/man3/tok_wstr.3\n",
            "AMPL/share/man/man3/ares_gethostbyname.3\n",
            "AMPL/share/man/man3/el_end.3\n",
            "AMPL/share/man/man3/ares_parse_mx_reply.3\n",
            "AMPL/share/man/man3/el_parse.3\n",
            "AMPL/share/man/man3/el_wline.3\n",
            "AMPL/share/man/man3/zmq_ctx_term.3\n",
            "AMPL/share/man/man3/ares_set_local_ip6.3\n",
            "AMPL/share/man/man3/ffi_prep_cif_var.3\n",
            "AMPL/share/man/man3/zmq_msg_init_size.3\n",
            "AMPL/share/man/man3/zmq_msg_more.3\n",
            "AMPL/share/man/man3/ares_query.3\n",
            "AMPL/share/man/man3/el_winsertstr.3\n",
            "AMPL/share/man/man3/zmq_atomic_counter_inc.3\n",
            "AMPL/share/man/man3/zmq_msg_move.3\n",
            "AMPL/share/man/man3/history_init.3\n",
            "AMPL/share/man/man3/zmq_z85_encode.3\n",
            "AMPL/share/man/man3/history_end.3\n",
            "AMPL/share/man/man3/zmq_connect.3\n",
            "AMPL/share/man/man3/ares_free_hostent.3\n",
            "AMPL/share/man/man3/ares_create_query.3\n",
            "AMPL/share/man/man3/zmq_setsockopt.3\n",
            "AMPL/share/man/man3/history_w.3\n",
            "AMPL/share/man/man3/zmq_msg_set_routing_id.3\n",
            "AMPL/share/man/man3/ares_getnameinfo.3\n",
            "AMPL/share/man/man3/ares_init.3\n",
            "AMPL/share/man/man3/dcngettext.3\n",
            "AMPL/share/man/man3/zmq_has.3\n",
            "AMPL/share/man/man3/ares_inet_pton.3\n",
            "AMPL/share/man/man3/zmq_unbind.3\n",
            "AMPL/share/man/man3/ares_getaddrinfo.3\n",
            "AMPL/share/man/man3/ares_get_servers.3\n",
            "AMPL/share/man/man3/ares_version.3\n",
            "AMPL/share/man/man3/history.3\n",
            "AMPL/share/man/man3/bindtextdomain.3\n",
            "AMPL/share/man/man3/ares_parse_soa_reply.3\n",
            "AMPL/share/man/man3/ares_cancel.3\n",
            "AMPL/share/man/man3/zmq_proxy_steerable.3\n",
            "AMPL/share/man/man3/zmq_atomic_counter_new.3\n",
            "AMPL/share/man/man3/ares_parse_aaaa_reply.3\n",
            "AMPL/share/man/man3/zmq_ctx_set.3\n",
            "AMPL/share/man/man3/ares_parse_a_reply.3\n",
            "AMPL/share/man/man3/ares_save_options.3\n",
            "AMPL/share/man/man3/el_wgetc.3\n",
            "AMPL/share/man/man3/zmq_atomic_counter_dec.3\n",
            "AMPL/share/man/man3/ares_set_servers_ports.3\n",
            "AMPL/share/man/man3/zmq_curve_keypair.3\n",
            "AMPL/share/man/man3/ares_get_servers_ports.3\n",
            "AMPL/share/man/man3/ares_set_servers_ports_csv.3\n",
            "AMPL/share/man/man3/readline.3\n",
            "AMPL/share/man/man3/el_insertstr.3\n",
            "AMPL/share/man/man3/zmq_ctx_get.3\n",
            "AMPL/share/man/man3/el_line.3\n",
            "AMPL/share/man/man3/iconv_close.3\n",
            "AMPL/share/man/man3/zmq_send.3\n",
            "AMPL/share/man/man3/el_wgets.3\n",
            "AMPL/share/man/man3/gettext.3\n",
            "AMPL/share/man/man3/el_resize.3\n",
            "AMPL/share/man/man3/el_getc.3\n",
            "AMPL/share/man/man3/ares_dup.3\n",
            "AMPL/share/man/man3/ares_gethostbyname_file.3\n",
            "AMPL/share/man/man3/libpng.3\n",
            "AMPL/share/man/man3/ffi.3\n",
            "AMPL/share/man/man3/el_init_fd.3\n",
            "AMPL/share/man/man3/el_wparse.3\n",
            "AMPL/share/man/man3/zmq_poll.3\n",
            "AMPL/share/man/man3/zmq_msg_send.3\n",
            "AMPL/share/man/man3/ffi_prep_cif.3\n",
            "AMPL/share/man/man3/ares_parse_txt_reply.3\n",
            "AMPL/share/man/man3/zmq_msg_get.3\n",
            "AMPL/share/man/man3/el_wdeletestr.3\n",
            "AMPL/share/man/man3/tok_str.3\n",
            "AMPL/share/man/man3/tok_line.3\n",
            "AMPL/share/man/man3/zmq_curve_public.3\n",
            "AMPL/share/man/man3/dngettext.3\n",
            "AMPL/share/man/man3/tok_end.3\n",
            "AMPL/share/man/man3/tok_wline.3\n",
            "AMPL/share/man/man3/el_set.3\n",
            "AMPL/share/man/man3/ares_parse_ns_reply.3\n",
            "AMPL/share/man/man3/dcgettext.3\n",
            "AMPL/share/man/man3/ares_process.3\n",
            "AMPL/share/man/man3/tok_winit.3\n",
            "AMPL/share/man/man3/zmq_disconnect.3\n",
            "AMPL/share/man/man3/zmq_atomic_counter_value.3\n",
            "AMPL/share/man/man3/zmq_msg_size.3\n",
            "AMPL/share/man/man3/zmq_msg_copy.3\n",
            "AMPL/share/man/man3/el_reset.3\n",
            "AMPL/share/man/man3/ares_destroy.3\n",
            "AMPL/share/man/man3/zmq_msg_recv.3\n",
            "AMPL/share/man/man3/zmq_timers.3\n",
            "AMPL/share/man/man3/ares_parse_ptr_reply.3\n",
            "AMPL/share/man/man3/ares_search.3\n",
            "AMPL/share/man/man3/ares_set_servers_csv.3\n",
            "AMPL/share/man/man3/tok_init.3\n",
            "AMPL/share/man/man3/ares_timeout.3\n",
            "AMPL/share/man/man3/bind_textdomain_codeset.3\n",
            "AMPL/share/man/man3/ares_free_string.3\n",
            "AMPL/share/man/man3/zmq_proxy.3\n",
            "AMPL/share/man/man3/el_deletestr.3\n",
            "AMPL/share/man/man3/iconv_open.3\n",
            "AMPL/share/man/man3/zmq_atomic_counter_destroy.3\n",
            "AMPL/share/man/man3/el_init.3\n",
            "AMPL/share/man/man3/el_wget.3\n",
            "AMPL/share/man/man3/zmq_z85_decode.3\n",
            "AMPL/share/man/man3/ares_init_options.3\n",
            "AMPL/share/man/man3/dgettext.3\n",
            "AMPL/share/man/man3/zmq_atomic_counter_set.3\n",
            "AMPL/share/man/man3/ares_library_init_android.3\n",
            "AMPL/share/man/man3/iconv.3\n",
            "AMPL/share/man/man3/zmq_recv.3\n",
            "AMPL/share/man/man3/zmq_msg_data.3\n",
            "AMPL/share/man/man3/ares_mkquery.3\n",
            "AMPL/share/man/man3/el_get.3\n",
            "AMPL/share/man/man3/ares_freeaddrinfo.3\n",
            "AMPL/share/man/man3/iconvctl.3\n",
            "AMPL/share/man/man3/zmq_ctx_new.3\n",
            "AMPL/share/man/man3/ares_expand_string.3\n",
            "AMPL/share/man/man3/ares_gethostbyaddr.3\n",
            "AMPL/share/man/man3/ares_library_cleanup.3\n",
            "AMPL/share/man/man3/el_gets.3\n",
            "AMPL/share/man/man3/ares_destroy_options.3\n",
            "AMPL/share/man/man3/ares_getsock.3\n",
            "AMPL/share/man/man3/editline.3\n",
            "AMPL/share/man/man3/ares_library_initialized.3\n",
            "AMPL/share/man/man3/zmq_msg_close.3\n",
            "AMPL/share/man/man3/ares_set_local_dev.3\n",
            "AMPL/share/man/man3/history_winit.3\n",
            "AMPL/share/man/man3/libxml.3\n",
            "AMPL/share/man/man3/ares_library_init.3\n",
            "AMPL/share/man/man3/el_wpush.3\n",
            "AMPL/share/man/man3/tok_wend.3\n",
            "AMPL/share/man/man3/iconv_open_into.3\n",
            "AMPL/share/man/man3/zmq_ctx_shutdown.3\n",
            "AMPL/share/man/man3/ares_strerror.3\n",
            "AMPL/share/man/man3/zmq_poller.3\n",
            "AMPL/share/man/man3/ares_set_socket_configure_callback.3\n",
            "AMPL/share/man/man3/zmq_socket.3\n",
            "AMPL/share/man/man5/\n",
            "AMPL/share/man/man5/editrc.5\n",
            "AMPL/share/man/man5/png.5\n",
            "AMPL/share/man/man8/\n",
            "AMPL/share/man/man8/gensprep.8\n",
            "AMPL/share/man/man8/gencmn.8\n",
            "AMPL/share/man/man8/icupkg.8\n",
            "AMPL/share/man/man8/genccode.8\n",
            "AMPL/share/man/man7/\n",
            "AMPL/share/man/man7/zmq_null.7\n",
            "AMPL/share/man/man7/zmq_gssapi.7\n",
            "AMPL/share/man/man7/zmq_tcp.7\n",
            "AMPL/share/man/man7/zmq_plain.7\n",
            "AMPL/share/man/man7/zmq_udp.7\n",
            "AMPL/share/man/man7/zmq_ipc.7\n",
            "AMPL/share/man/man7/zmq_curve.7\n",
            "AMPL/share/man/man7/zmq_inproc.7\n",
            "AMPL/share/man/man7/zmq_tipc.7\n",
            "AMPL/share/man/man7/zmq_pgm.7\n",
            "AMPL/share/man/man7/zmq_vmci.7\n",
            "AMPL/share/man/man7/zmq.7\n",
            "AMPL/share/man/man7/editline.7\n",
            "AMPL/share/info/\n",
            "AMPL/share/info/readline.info\n",
            "AMPL/share/info/gettext.info\n",
            "AMPL/share/info/fftw3.info\n",
            "AMPL/share/info/libquadmath.info\n",
            "AMPL/share/info/dir\n",
            "AMPL/share/info/libffi.info\n",
            "AMPL/share/info/fftw3.info-2\n",
            "AMPL/share/info/fftw3.info-1\n",
            "AMPL/share/info/rluserman.info\n",
            "AMPL/share/info/history.info\n",
            "AMPL/share/info/libgomp.info\n",
            "AMPL/share/dbus-1/\n",
            "AMPL/share/dbus-1/session.conf\n",
            "AMPL/share/dbus-1/system.conf\n",
            "AMPL/share/bash-completion/\n",
            "AMPL/share/bash-completion/completions/\n",
            "AMPL/share/bash-completion/completions/gapplication\n",
            "AMPL/share/bash-completion/completions/gdbus\n",
            "AMPL/share/bash-completion/completions/gsettings\n",
            "AMPL/share/bash-completion/completions/gresource\n",
            "AMPL/mkspecs/\n",
            "AMPL/mkspecs/macx-ios-clang/\n",
            "AMPL/mkspecs/macx-ios-clang/Default-568h@2x.png\n",
            "AMPL/mkspecs/macx-ios-clang/qmake.conf\n",
            "AMPL/mkspecs/macx-ios-clang/ios_devices.pl\n",
            "AMPL/mkspecs/macx-ios-clang/qplatformdefs.h\n",
            "AMPL/mkspecs/macx-ios-clang/features/\n",
            "AMPL/mkspecs/macx-ios-clang/features/default_pre.prf\n",
            "AMPL/mkspecs/macx-ios-clang/features/xcodebuild.prf\n",
            "AMPL/mkspecs/macx-ios-clang/features/qt_config.prf\n",
            "AMPL/mkspecs/macx-ios-clang/features/qt.prf\n",
            "AMPL/mkspecs/macx-ios-clang/features/sdk.prf\n",
            "AMPL/mkspecs/macx-ios-clang/features/default_post.prf\n",
            "AMPL/mkspecs/macx-ios-clang/features/exclusive_builds_post.prf\n",
            "AMPL/mkspecs/macx-ios-clang/features/testcase_targets.prf\n",
            "AMPL/mkspecs/macx-ios-clang/features/qt_parts.prf\n",
            "AMPL/mkspecs/macx-ios-clang/features/testcase.prf\n",
            "AMPL/mkspecs/macx-ios-clang/features/resolve_config.prf\n",
            "AMPL/mkspecs/macx-ios-clang/Info.plist.lib\n",
            "AMPL/mkspecs/macx-ios-clang/ios_destinations.sh\n",
            "AMPL/mkspecs/macx-ios-clang/Info.plist.dSYM.in\n",
            "AMPL/mkspecs/macx-ios-clang/Info.plist.app\n",
            "AMPL/mkspecs/macx-ios-clang/xcodebuild.mk\n",
            "AMPL/mkspecs/macx-ios-clang/LaunchScreen.xib\n",
            "AMPL/mkspecs/solaris-g++/\n",
            "AMPL/mkspecs/solaris-g++/qmake.conf\n",
            "AMPL/mkspecs/solaris-g++/qplatformdefs.h\n",
            "AMPL/mkspecs/linux-lsb-g++/\n",
            "AMPL/mkspecs/linux-lsb-g++/qmake.conf\n",
            "AMPL/mkspecs/linux-lsb-g++/qplatformdefs.h\n",
            "AMPL/mkspecs/solaris-cc/\n",
            "AMPL/mkspecs/solaris-cc/qmake.conf\n",
            "AMPL/mkspecs/solaris-cc/qplatformdefs.h\n",
            "AMPL/mkspecs/macx-g++40/\n",
            "AMPL/mkspecs/macx-g++40/qmake.conf\n",
            "AMPL/mkspecs/macx-g++40/qplatformdefs.h\n",
            "AMPL/mkspecs/macx-g++40/Info.plist.lib\n",
            "AMPL/mkspecs/macx-g++40/Info.plist.dSYM.in\n",
            "AMPL/mkspecs/macx-g++40/Info.plist.app\n",
            "AMPL/mkspecs/modules/\n",
            "AMPL/mkspecs/modules/qt_lib_gui_private.pri\n",
            "AMPL/mkspecs/modules/qt_lib_network.pri\n",
            "AMPL/mkspecs/modules/qt_lib_printsupport_private.pri\n",
            "AMPL/mkspecs/modules/qt_lib_quick_private.pri\n",
            "AMPL/mkspecs/modules/qt_lib_openglextensions.pri\n",
            "AMPL/mkspecs/modules/qt_lib_bluetooth.pri\n",
            "AMPL/mkspecs/modules/qt_lib_multimedia.pri\n",
            "AMPL/mkspecs/modules/qt_lib_designer_private.pri\n",
            "AMPL/mkspecs/modules/qt_lib_platformsupport_private.pri\n",
            "AMPL/mkspecs/modules/qt_lib_svg.pri\n",
            "AMPL/mkspecs/modules/qt_lib_webchannel.pri\n",
            "AMPL/mkspecs/modules/qt_lib_uitools.pri\n",
            "AMPL/mkspecs/modules/qt_lib_webchannel_private.pri\n",
            "AMPL/mkspecs/modules/qt_lib_bluetooth_private.pri\n",
            "AMPL/mkspecs/modules/qt_lib_x11extras_private.pri\n",
            "AMPL/mkspecs/modules/qt_lib_webkitwidgets_private.pri\n",
            "AMPL/mkspecs/modules/qt_lib_widgets_private.pri\n",
            "AMPL/mkspecs/modules/qt_lib_quickwidgets_private.pri\n",
            "AMPL/mkspecs/modules/qt_lib_designer.pri\n",
            "AMPL/mkspecs/modules/qt_lib_opengl.pri\n",
            "AMPL/mkspecs/modules/qt_lib_core.pri\n",
            "AMPL/mkspecs/modules/qt_lib_multimediawidgets_private.pri\n",
            "AMPL/mkspecs/modules/qt_lib_concurrent.pri\n",
            "AMPL/mkspecs/modules/qt_lib_testlib_private.pri\n",
            "AMPL/mkspecs/modules/qt_lib_clucene_private.pri\n",
            "AMPL/mkspecs/modules/qt_lib_network_private.pri\n",
            "AMPL/mkspecs/modules/qt_lib_svg_private.pri\n",
            "AMPL/mkspecs/modules/qt_lib_scripttools.pri\n",
            "AMPL/mkspecs/modules/qt_lib_script_private.pri\n",
            "AMPL/mkspecs/modules/qt_lib_bootstrap_private.pri\n",
            "AMPL/mkspecs/modules/qt_lib_websockets.pri\n",
            "AMPL/mkspecs/modules/qt_lib_designercomponents_private.pri\n",
            "AMPL/mkspecs/modules/qt_lib_x11extras.pri\n",
            "AMPL/mkspecs/modules/qt_lib_quickparticles_private.pri\n",
            "AMPL/mkspecs/modules/qt_lib_qmltest_private.pri\n",
            "AMPL/mkspecs/modules/qt_lib_webkitwidgets.pri\n",
            "AMPL/mkspecs/modules/qt_lib_xmlpatterns_private.pri\n",
            "AMPL/mkspecs/modules/qt_lib_dbus_private.pri\n",
            "AMPL/mkspecs/modules/qt_lib_qmldevtools_private.pri\n",
            "AMPL/mkspecs/modules/qt_lib_dbus.pri\n",
            "AMPL/mkspecs/modules/qt_lib_webkit.pri\n",
            "AMPL/mkspecs/modules/qt_lib_concurrent_private.pri\n",
            "AMPL/mkspecs/modules/qt_lib_sql.pri\n",
            "AMPL/mkspecs/modules/qt_lib_openglextensions_private.pri\n",
            "AMPL/mkspecs/modules/qt_lib_xml.pri\n",
            "AMPL/mkspecs/modules/qt_lib_gui.pri\n",
            "AMPL/mkspecs/modules/qt_lib_quick.pri\n",
            "AMPL/mkspecs/modules/qt_lib_multimediawidgets.pri\n",
            "AMPL/mkspecs/modules/qt_lib_help_private.pri\n",
            "AMPL/mkspecs/modules/qt_lib_widgets.pri\n",
            "AMPL/mkspecs/modules/qt_lib_uitools_private.pri\n",
            "AMPL/mkspecs/modules/qt_lib_scripttools_private.pri\n",
            "AMPL/mkspecs/modules/qt_lib_multimedia_private.pri\n",
            "AMPL/mkspecs/modules/qt_lib_help.pri\n",
            "AMPL/mkspecs/modules/qt_lib_xcb_qpa_lib_private.pri\n",
            "AMPL/mkspecs/modules/qt_lib_opengl_private.pri\n",
            "AMPL/mkspecs/modules/qt_lib_webkit_private.pri\n",
            "AMPL/mkspecs/modules/qt_lib_uiplugin.pri\n",
            "AMPL/mkspecs/modules/qt_lib_script.pri\n",
            "AMPL/mkspecs/modules/qt_lib_xml_private.pri\n",
            "AMPL/mkspecs/modules/qt_lib_qml.pri\n",
            "AMPL/mkspecs/modules/qt_lib_qtmultimediaquicktools_private.pri\n",
            "AMPL/mkspecs/modules/qt_lib_nfc.pri\n",
            "AMPL/mkspecs/modules/qt_lib_core_private.pri\n",
            "AMPL/mkspecs/modules/qt_lib_websockets_private.pri\n",
            "AMPL/mkspecs/modules/qt_lib_nfc_private.pri\n",
            "AMPL/mkspecs/modules/qt_lib_qml_private.pri\n",
            "AMPL/mkspecs/modules/qt_lib_sql_private.pri\n",
            "AMPL/mkspecs/modules/qt_lib_quickwidgets.pri\n",
            "AMPL/mkspecs/modules/qt_lib_qmltest.pri\n",
            "AMPL/mkspecs/modules/qt_lib_xmlpatterns.pri\n",
            "AMPL/mkspecs/modules/qt_lib_testlib.pri\n",
            "AMPL/mkspecs/modules/qt_lib_printsupport.pri\n",
            "AMPL/mkspecs/qnx-x86-64-qcc/\n",
            "AMPL/mkspecs/qnx-x86-64-qcc/qmake.conf\n",
            "AMPL/mkspecs/qnx-x86-64-qcc/qplatformdefs.h\n",
            "AMPL/mkspecs/linux-g++/\n",
            "AMPL/mkspecs/linux-g++/qmake.conf\n",
            "AMPL/mkspecs/linux-g++/qplatformdefs.h\n",
            "AMPL/mkspecs/win32-g++/\n",
            "AMPL/mkspecs/win32-g++/qmake.conf\n",
            "AMPL/mkspecs/win32-g++/qplatformdefs.h\n",
            "AMPL/mkspecs/aix-xlc-64/\n",
            "AMPL/mkspecs/aix-xlc-64/qmake.conf\n",
            "AMPL/mkspecs/aix-xlc-64/qplatformdefs.h\n",
            "AMPL/mkspecs/qconfig.pri\n",
            "AMPL/mkspecs/freebsd-clang/\n",
            "AMPL/mkspecs/freebsd-clang/qmake.conf\n",
            "AMPL/mkspecs/freebsd-clang/qplatformdefs.h\n",
            "AMPL/mkspecs/android-clang/\n",
            "AMPL/mkspecs/android-clang/qmake.conf\n",
            "AMPL/mkspecs/android-clang/qplatformdefs.h\n",
            "AMPL/mkspecs/wince70embedded-x86-msvc2008/\n",
            "AMPL/mkspecs/wince70embedded-x86-msvc2008/qmake.conf\n",
            "AMPL/mkspecs/wince70embedded-x86-msvc2008/qplatformdefs.h\n",
            "AMPL/mkspecs/linux-icc-64/\n",
            "AMPL/mkspecs/linux-icc-64/qmake.conf\n",
            "AMPL/mkspecs/linux-icc-64/qplatformdefs.h\n",
            "AMPL/mkspecs/solaris-cc-stlport/\n",
            "AMPL/mkspecs/solaris-cc-stlport/qmake.conf\n",
            "AMPL/mkspecs/solaris-cc-stlport/qplatformdefs.h\n",
            "AMPL/mkspecs/macx-clang/\n",
            "AMPL/mkspecs/macx-clang/qmake.conf\n",
            "AMPL/mkspecs/macx-clang/qplatformdefs.h\n",
            "AMPL/mkspecs/macx-clang/Info.plist.lib\n",
            "AMPL/mkspecs/macx-clang/Info.plist.dSYM.in\n",
            "AMPL/mkspecs/macx-clang/Info.plist.app\n",
            "AMPL/mkspecs/winrt-x64-msvc2013/\n",
            "AMPL/mkspecs/winrt-x64-msvc2013/qmake.conf\n",
            "AMPL/mkspecs/winrt-x64-msvc2013/qplatformdefs.h\n",
            "AMPL/mkspecs/hpux-g++/\n",
            "AMPL/mkspecs/hpux-g++/qmake.conf\n",
            "AMPL/mkspecs/hpux-g++/qplatformdefs.h\n",
            "AMPL/mkspecs/tru64-cxx/\n",
            "AMPL/mkspecs/tru64-cxx/qmake.conf\n",
            "AMPL/mkspecs/tru64-cxx/qplatformdefs.h\n",
            "AMPL/mkspecs/android-g++/\n",
            "AMPL/mkspecs/android-g++/qmake.conf\n",
            "AMPL/mkspecs/android-g++/qplatformdefs.h\n",
            "AMPL/mkspecs/freebsd-g++/\n",
            "AMPL/mkspecs/freebsd-g++/qmake.conf\n",
            "AMPL/mkspecs/freebsd-g++/qplatformdefs.h\n",
            "AMPL/mkspecs/netbsd-g++/\n",
            "AMPL/mkspecs/netbsd-g++/qmake.conf\n",
            "AMPL/mkspecs/netbsd-g++/qplatformdefs.h\n",
            "AMPL/mkspecs/linux-icc-32/\n",
            "AMPL/mkspecs/linux-icc-32/qmake.conf\n",
            "AMPL/mkspecs/linux-icc-32/qplatformdefs.h\n",
            "AMPL/mkspecs/linux-clang/\n",
            "AMPL/mkspecs/linux-clang/qmake.conf\n",
            "AMPL/mkspecs/linux-clang/qplatformdefs.h\n",
            "AMPL/mkspecs/linux-pgcc/\n",
            "AMPL/mkspecs/linux-pgcc/qmake.conf\n",
            "AMPL/mkspecs/linux-pgcc/qplatformdefs.h\n",
            "AMPL/mkspecs/linux-cxx/\n",
            "AMPL/mkspecs/linux-cxx/qmake.conf\n",
            "AMPL/mkspecs/linux-cxx/qplatformdefs.h\n",
            "AMPL/mkspecs/win32-msvc2013/\n",
            "AMPL/mkspecs/win32-msvc2013/qmake.conf\n",
            "AMPL/mkspecs/win32-msvc2013/qplatformdefs.h\n",
            "AMPL/mkspecs/wince80colibri-armv7-msvc2012/\n",
            "AMPL/mkspecs/wince80colibri-armv7-msvc2012/qmake.conf\n",
            "AMPL/mkspecs/wince80colibri-armv7-msvc2012/qplatformdefs.h\n",
            "AMPL/mkspecs/linux-g++-32/\n",
            "AMPL/mkspecs/linux-g++-32/qmake.conf\n",
            "AMPL/mkspecs/linux-g++-32/qplatformdefs.h\n",
            "AMPL/mkspecs/macx-xcode/\n",
            "AMPL/mkspecs/macx-xcode/qmake.conf\n",
            "AMPL/mkspecs/macx-xcode/default.xcscheme\n",
            "AMPL/mkspecs/macx-xcode/WorkspaceSettings.xcsettings\n",
            "AMPL/mkspecs/macx-xcode/qplatformdefs.h\n",
            "AMPL/mkspecs/macx-xcode/QtTest.plist\n",
            "AMPL/mkspecs/hpuxi-acc-32/\n",
            "AMPL/mkspecs/hpuxi-acc-32/qmake.conf\n",
            "AMPL/mkspecs/hpuxi-acc-32/qplatformdefs.h\n",
            "AMPL/mkspecs/aix-xlc/\n",
            "AMPL/mkspecs/aix-xlc/qmake.conf\n",
            "AMPL/mkspecs/aix-xlc/qplatformdefs.h\n",
            "AMPL/mkspecs/win32-msvc2015/\n",
            "AMPL/mkspecs/win32-msvc2015/qmake.conf\n",
            "AMPL/mkspecs/win32-msvc2015/qplatformdefs.h\n",
            "AMPL/mkspecs/qmodule.pri\n",
            "AMPL/mkspecs/wince60standard-x86-msvc2005/\n",
            "AMPL/mkspecs/wince60standard-x86-msvc2005/qmake.conf\n",
            "AMPL/mkspecs/wince60standard-x86-msvc2005/qplatformdefs.h\n",
            "AMPL/mkspecs/win32-icc/\n",
            "AMPL/mkspecs/win32-icc/qmake.conf\n",
            "AMPL/mkspecs/win32-icc/qplatformdefs.h\n",
            "AMPL/mkspecs/solaris-cc-64/\n",
            "AMPL/mkspecs/solaris-cc-64/qmake.conf\n",
            "AMPL/mkspecs/solaris-cc-64/qplatformdefs.h\n",
            "AMPL/mkspecs/unixware-g++/\n",
            "AMPL/mkspecs/unixware-g++/qmake.conf\n",
            "AMPL/mkspecs/unixware-g++/qplatformdefs.h\n",
            "AMPL/mkspecs/haiku-g++/\n",
            "AMPL/mkspecs/haiku-g++/qmake.conf\n",
            "AMPL/mkspecs/haiku-g++/qplatformdefs.h\n",
            "AMPL/mkspecs/blackberry-x86-qcc/\n",
            "AMPL/mkspecs/blackberry-x86-qcc/qmake.conf\n",
            "AMPL/mkspecs/blackberry-x86-qcc/qplatformdefs.h\n",
            "AMPL/mkspecs/hpux-acc/\n",
            "AMPL/mkspecs/hpux-acc/qmake.conf\n",
            "AMPL/mkspecs/hpux-acc/qplatformdefs.h\n",
            "AMPL/mkspecs/wince60standard-armv4i-msvc2005/\n",
            "AMPL/mkspecs/wince60standard-armv4i-msvc2005/qmake.conf\n",
            "AMPL/mkspecs/wince60standard-armv4i-msvc2005/qplatformdefs.h\n",
            "AMPL/mkspecs/features/\n",
            "AMPL/mkspecs/features/default_pre.prf\n",
            "AMPL/mkspecs/features/lex.prf\n",
            "AMPL/mkspecs/features/file_copies.prf\n",
            "AMPL/mkspecs/features/incredibuild_xge.prf\n",
            "AMPL/mkspecs/features/spec_pre.prf\n",
            "AMPL/mkspecs/features/qt_helper_lib.prf\n",
            "AMPL/mkspecs/features/qgltf.prf\n",
            "AMPL/mkspecs/features/qt_targets.prf\n",
            "AMPL/mkspecs/features/data/\n",
            "AMPL/mkspecs/features/data/cmake/\n",
            "AMPL/mkspecs/features/data/cmake/Qt5ConfigVersion.cmake.in\n",
            "AMPL/mkspecs/features/data/cmake/Qt5BasicConfig.cmake.in\n",
            "AMPL/mkspecs/features/data/cmake/Qt5PluginTarget.cmake.in\n",
            "AMPL/mkspecs/features/data/cmake/ExtraSourceIncludes.cmake.in\n",
            "AMPL/mkspecs/features/data/dummy.cpp\n",
            "AMPL/mkspecs/features/data/unix/\n",
            "AMPL/mkspecs/features/data/unix/findclasslist.pl\n",
            "AMPL/mkspecs/features/data/mac/\n",
            "AMPL/mkspecs/features/data/mac/objc_namespace.sh\n",
            "AMPL/mkspecs/features/data/android/\n",
            "AMPL/mkspecs/features/data/android/dx.bat\n",
            "AMPL/mkspecs/features/ltcg.prf\n",
            "AMPL/mkspecs/features/qml_module.prf\n",
            "AMPL/mkspecs/features/qt_installs.prf\n",
            "AMPL/mkspecs/features/qt_build_config.prf\n",
            "AMPL/mkspecs/features/create_cmake.prf\n",
            "AMPL/mkspecs/features/gcov.prf\n",
            "AMPL/mkspecs/features/qt_example_installs.prf\n",
            "AMPL/mkspecs/features/include_source_dir.prf\n",
            "AMPL/mkspecs/features/qt_config.prf\n",
            "AMPL/mkspecs/features/qt_build_paths.prf\n",
            "AMPL/mkspecs/features/winrt/\n",
            "AMPL/mkspecs/features/winrt/default_pre.prf\n",
            "AMPL/mkspecs/features/winrt/package_manifest.prf\n",
            "AMPL/mkspecs/features/winrt/console.prf\n",
            "AMPL/mkspecs/features/qt_docs.prf\n",
            "AMPL/mkspecs/features/dbusinterfaces.prf\n",
            "AMPL/mkspecs/features/qt.prf\n",
            "AMPL/mkspecs/features/qpa/\n",
            "AMPL/mkspecs/features/qpa/basicunixfontdatabase.prf\n",
            "AMPL/mkspecs/features/qpa/genericunixfontdatabase.prf\n",
            "AMPL/mkspecs/features/qt_plugin.prf\n",
            "AMPL/mkspecs/features/win32/\n",
            "AMPL/mkspecs/features/win32/default_pre.prf\n",
            "AMPL/mkspecs/features/win32/qt_dll.prf\n",
            "AMPL/mkspecs/features/win32/stl.prf\n",
            "AMPL/mkspecs/features/win32/openvg.prf\n",
            "AMPL/mkspecs/features/win32/windeployqt.prf\n",
            "AMPL/mkspecs/features/win32/opengl.prf\n",
            "AMPL/mkspecs/features/win32/qt_config.prf\n",
            "AMPL/mkspecs/features/win32/rtti.prf\n",
            "AMPL/mkspecs/features/win32/msvc_mp.prf\n",
            "AMPL/mkspecs/features/win32/rtti_off.prf\n",
            "AMPL/mkspecs/features/win32/dumpcpp.prf\n",
            "AMPL/mkspecs/features/win32/idcidl.prf\n",
            "AMPL/mkspecs/features/win32/separate_debug_info.prf\n",
            "AMPL/mkspecs/features/win32/windows.prf\n",
            "AMPL/mkspecs/features/win32/stl_off.prf\n",
            "AMPL/mkspecs/features/win32/console.prf\n",
            "AMPL/mkspecs/features/precompile_header.prf\n",
            "AMPL/mkspecs/features/exceptions_off.prf\n",
            "AMPL/mkspecs/features/qt_clear_installs.prf\n",
            "AMPL/mkspecs/features/dbuscommon.pri\n",
            "AMPL/mkspecs/features/ctest_testcase_installed.prf\n",
            "AMPL/mkspecs/features/moc.prf\n",
            "AMPL/mkspecs/features/link_ltcg.prf\n",
            "AMPL/mkspecs/features/qt_module_headers.prf\n",
            "AMPL/mkspecs/features/silent.prf\n",
            "AMPL/mkspecs/features/qml1_module.prf\n",
            "AMPL/mkspecs/features/qlalr.prf\n",
            "AMPL/mkspecs/features/qt_docs_targets.prf\n",
            "AMPL/mkspecs/features/qt_tool.prf\n",
            "AMPL/mkspecs/features/default_post.prf\n",
            "AMPL/mkspecs/features/yacc.prf\n",
            "AMPL/mkspecs/features/egl.prf\n",
            "AMPL/mkspecs/features/wayland-scanner.prf\n",
            "AMPL/mkspecs/features/cmake_functions.prf\n",
            "AMPL/mkspecs/features/qt_build_extra.prf\n",
            "AMPL/mkspecs/features/device_config.prf\n",
            "AMPL/mkspecs/features/exclusive_builds_post.prf\n",
            "AMPL/mkspecs/features/ctest_testcase_common.prf\n",
            "AMPL/mkspecs/features/benchmark.prf\n",
            "AMPL/mkspecs/features/qt_android_deps.prf\n",
            "AMPL/mkspecs/features/qt_functions.prf\n",
            "AMPL/mkspecs/features/unix/\n",
            "AMPL/mkspecs/features/unix/x11inc.prf\n",
            "AMPL/mkspecs/features/unix/openvg.prf\n",
            "AMPL/mkspecs/features/unix/opengl.prf\n",
            "AMPL/mkspecs/features/unix/bsymbolic_functions.prf\n",
            "AMPL/mkspecs/features/unix/largefile.prf\n",
            "AMPL/mkspecs/features/unix/hide_symbols.prf\n",
            "AMPL/mkspecs/features/unix/thread.prf\n",
            "AMPL/mkspecs/features/unix/x11.prf\n",
            "AMPL/mkspecs/features/unix/separate_debug_info.prf\n",
            "AMPL/mkspecs/features/unix/x11sm.prf\n",
            "AMPL/mkspecs/features/unix/x11lib.prf\n",
            "AMPL/mkspecs/features/testcocoon.prf\n",
            "AMPL/mkspecs/features/xctest.prf\n",
            "AMPL/mkspecs/features/spec_post.prf\n",
            "AMPL/mkspecs/features/vxworks.prf\n",
            "AMPL/mkspecs/features/qt_module_pris.prf\n",
            "AMPL/mkspecs/features/resolve_target.prf\n",
            "AMPL/mkspecs/features/testlib_defines.prf\n",
            "AMPL/mkspecs/features/designer_defines.prf\n",
            "AMPL/mkspecs/features/exclusive_builds.prf\n",
            "AMPL/mkspecs/features/simd.prf\n",
            "AMPL/mkspecs/features/qt_app.prf\n",
            "AMPL/mkspecs/features/qmltestcase.prf\n",
            "AMPL/mkspecs/features/declarative_debug.prf\n",
            "AMPL/mkspecs/features/plugin_bundle.prf\n",
            "AMPL/mkspecs/features/java.prf\n",
            "AMPL/mkspecs/features/no_debug_info.prf\n",
            "AMPL/mkspecs/features/static_runtime.prf\n",
            "AMPL/mkspecs/features/qml_plugin.prf\n",
            "AMPL/mkspecs/features/mac/\n",
            "AMPL/mkspecs/features/mac/default_pre.prf\n",
            "AMPL/mkspecs/features/mac/objective_c.prf\n",
            "AMPL/mkspecs/features/mac/sdk.prf\n",
            "AMPL/mkspecs/features/mac/unsupported/\n",
            "AMPL/mkspecs/features/mac/unsupported/objc_namespace.prf\n",
            "AMPL/mkspecs/features/mac/default_post.prf\n",
            "AMPL/mkspecs/features/mac/rez.prf\n",
            "AMPL/mkspecs/features/testcase_targets.prf\n",
            "AMPL/mkspecs/features/warn_on.prf\n",
            "AMPL/mkspecs/features/exceptions.prf\n",
            "AMPL/mkspecs/features/resources.prf\n",
            "AMPL/mkspecs/features/use_c_linker.prf\n",
            "AMPL/mkspecs/features/qt_module.prf\n",
            "AMPL/mkspecs/features/link_pkgconfig.prf\n",
            "AMPL/mkspecs/features/uic.prf\n",
            "AMPL/mkspecs/features/qfeatures.prf\n",
            "AMPL/mkspecs/features/qt_parts.prf\n",
            "AMPL/mkspecs/features/android/\n",
            "AMPL/mkspecs/features/android/android_deployment_settings.prf\n",
            "AMPL/mkspecs/features/android/android.prf\n",
            "AMPL/mkspecs/features/qml_debug.prf\n",
            "AMPL/mkspecs/features/ctest_testcase.prf\n",
            "AMPL/mkspecs/features/sanitizer.prf\n",
            "AMPL/mkspecs/features/testcase.prf\n",
            "AMPL/mkspecs/features/qt_common.prf\n",
            "AMPL/mkspecs/features/qml1_plugin.prf\n",
            "AMPL/mkspecs/features/warn_off.prf\n",
            "AMPL/mkspecs/features/resolve_config.prf\n",
            "AMPL/mkspecs/features/build_pass.prf\n",
            "AMPL/mkspecs/features/dbusadaptors.prf\n",
            "AMPL/mkspecs/features/configure.prf\n",
            "AMPL/mkspecs/unsupported/\n",
            "AMPL/mkspecs/unsupported/android-g++/\n",
            "AMPL/mkspecs/unsupported/android-g++/qmake.conf\n",
            "AMPL/mkspecs/unsupported/android-g++/qplatformdefs.h\n",
            "AMPL/mkspecs/unsupported/android-g++/qeglfshooks_surfaceflinger.cpp\n",
            "AMPL/mkspecs/unsupported/vxworks-ppc-g++/\n",
            "AMPL/mkspecs/unsupported/vxworks-ppc-g++/qmake.conf\n",
            "AMPL/mkspecs/unsupported/vxworks-ppc-g++/qplatformdefs.h\n",
            "AMPL/mkspecs/unsupported/linux-host-g++/\n",
            "AMPL/mkspecs/unsupported/linux-host-g++/qmake.conf\n",
            "AMPL/mkspecs/unsupported/linux-host-g++/qplatformdefs.h\n",
            "AMPL/mkspecs/unsupported/qnx-X11-g++/\n",
            "AMPL/mkspecs/unsupported/qnx-X11-g++/qmake.conf\n",
            "AMPL/mkspecs/unsupported/qnx-X11-g++/qplatformdefs.h\n",
            "AMPL/mkspecs/unsupported/vxworks-simpentium-dcc/\n",
            "AMPL/mkspecs/unsupported/vxworks-simpentium-dcc/qmake.conf\n",
            "AMPL/mkspecs/unsupported/vxworks-simpentium-dcc/qplatformdefs.h\n",
            "AMPL/mkspecs/unsupported/vxworks-ppc-dcc/\n",
            "AMPL/mkspecs/unsupported/vxworks-ppc-dcc/qmake.conf\n",
            "AMPL/mkspecs/unsupported/vxworks-ppc-dcc/qplatformdefs.h\n",
            "AMPL/mkspecs/unsupported/nacl-g++/\n",
            "AMPL/mkspecs/unsupported/nacl-g++/qmake.conf\n",
            "AMPL/mkspecs/unsupported/nacl-g++/qplatformdefs.h\n",
            "AMPL/mkspecs/unsupported/nacl64-g++/\n",
            "AMPL/mkspecs/unsupported/nacl64-g++/qmake.conf\n",
            "AMPL/mkspecs/unsupported/nacl64-g++/qplatformdefs.h\n",
            "AMPL/mkspecs/unsupported/vxworks-simpentium-g++/\n",
            "AMPL/mkspecs/unsupported/vxworks-simpentium-g++/qmake.conf\n",
            "AMPL/mkspecs/unsupported/vxworks-simpentium-g++/qplatformdefs.h\n",
            "AMPL/mkspecs/unsupported/linux-scratchbox2-g++/\n",
            "AMPL/mkspecs/unsupported/linux-scratchbox2-g++/qmake.conf\n",
            "AMPL/mkspecs/unsupported/linux-scratchbox2-g++/qplatformdefs.h\n",
            "AMPL/mkspecs/winrt-x86-msvc2015/\n",
            "AMPL/mkspecs/winrt-x86-msvc2015/qmake.conf\n",
            "AMPL/mkspecs/winrt-x86-msvc2015/qplatformdefs.h\n",
            "AMPL/mkspecs/linux-kcc/\n",
            "AMPL/mkspecs/linux-kcc/qmake.conf\n",
            "AMPL/mkspecs/linux-kcc/qplatformdefs.h\n",
            "AMPL/mkspecs/irix-g++-64/\n",
            "AMPL/mkspecs/irix-g++-64/qmake.conf\n",
            "AMPL/mkspecs/irix-g++-64/qplatformdefs.h\n",
            "AMPL/mkspecs/macx-llvm/\n",
            "AMPL/mkspecs/macx-llvm/qmake.conf\n",
            "AMPL/mkspecs/macx-llvm/qplatformdefs.h\n",
            "AMPL/mkspecs/macx-llvm/Info.plist.lib\n",
            "AMPL/mkspecs/macx-llvm/Info.plist.dSYM.in\n",
            "AMPL/mkspecs/macx-llvm/Info.plist.app\n",
            "AMPL/mkspecs/solaris-cc-64-stlport/\n",
            "AMPL/mkspecs/solaris-cc-64-stlport/qmake.conf\n",
            "AMPL/mkspecs/solaris-cc-64-stlport/qplatformdefs.h\n",
            "AMPL/mkspecs/linux-llvm/\n",
            "AMPL/mkspecs/linux-llvm/qmake.conf\n",
            "AMPL/mkspecs/linux-llvm/qplatformdefs.h\n",
            "AMPL/mkspecs/win32-msvc2005/\n",
            "AMPL/mkspecs/win32-msvc2005/qmake.conf\n",
            "AMPL/mkspecs/win32-msvc2005/qplatformdefs.h\n",
            "AMPL/mkspecs/win32-msvc2010/\n",
            "AMPL/mkspecs/win32-msvc2010/qmake.conf\n",
            "AMPL/mkspecs/win32-msvc2010/qplatformdefs.h\n",
            "AMPL/mkspecs/linux-arm-gnueabi-g++/\n",
            "AMPL/mkspecs/linux-arm-gnueabi-g++/qmake.conf\n",
            "AMPL/mkspecs/linux-arm-gnueabi-g++/qplatformdefs.h\n",
            "AMPL/mkspecs/qnx-armle-v7-qcc/\n",
            "AMPL/mkspecs/qnx-armle-v7-qcc/qmake.conf\n",
            "AMPL/mkspecs/qnx-armle-v7-qcc/qplatformdefs.h\n",
            "AMPL/mkspecs/linux-clang-libc++/\n",
            "AMPL/mkspecs/linux-clang-libc++/qmake.conf\n",
            "AMPL/mkspecs/linux-clang-libc++/qplatformdefs.h\n",
            "AMPL/mkspecs/darwin-g++/\n",
            "AMPL/mkspecs/darwin-g++/qmake.conf\n",
            "AMPL/mkspecs/darwin-g++/qplatformdefs.h\n",
            "AMPL/mkspecs/hpuxi-acc-64/\n",
            "AMPL/mkspecs/hpuxi-acc-64/qmake.conf\n",
            "AMPL/mkspecs/hpuxi-acc-64/qplatformdefs.h\n",
            "AMPL/mkspecs/macx-icc/\n",
            "AMPL/mkspecs/macx-icc/qmake.conf\n",
            "AMPL/mkspecs/macx-icc/qplatformdefs.h\n",
            "AMPL/mkspecs/macx-icc/Info.plist.lib\n",
            "AMPL/mkspecs/macx-icc/Info.plist.dSYM.in\n",
            "AMPL/mkspecs/macx-icc/Info.plist.app\n",
            "AMPL/mkspecs/devices/\n",
            "AMPL/mkspecs/devices/linux-rpi3-g++/\n",
            "AMPL/mkspecs/devices/linux-rpi3-g++/qmake.conf\n",
            "AMPL/mkspecs/devices/linux-rpi3-g++/qplatformdefs.h\n",
            "AMPL/mkspecs/devices/linux-rasp-pi2-g++/\n",
            "AMPL/mkspecs/devices/linux-rasp-pi2-g++/qmake.conf\n",
            "AMPL/mkspecs/devices/linux-rasp-pi2-g++/qplatformdefs.h\n",
            "AMPL/mkspecs/devices/linux-arm-generic-g++/\n",
            "AMPL/mkspecs/devices/linux-arm-generic-g++/qmake.conf\n",
            "AMPL/mkspecs/devices/linux-arm-generic-g++/qplatformdefs.h\n",
            "AMPL/mkspecs/devices/linux-rpi3-vc4-g++/\n",
            "AMPL/mkspecs/devices/linux-rpi3-vc4-g++/qmake.conf\n",
            "AMPL/mkspecs/devices/linux-rpi3-vc4-g++/qplatformdefs.h\n",
            "AMPL/mkspecs/devices/linux-imx6-g++/\n",
            "AMPL/mkspecs/devices/linux-imx6-g++/qmake.conf\n",
            "AMPL/mkspecs/devices/linux-imx6-g++/qplatformdefs.h\n",
            "AMPL/mkspecs/devices/linux-mipsel-broadcom-97425-g++/\n",
            "AMPL/mkspecs/devices/linux-mipsel-broadcom-97425-g++/qdirectfbeglhooks_bcm97425.cpp\n",
            "AMPL/mkspecs/devices/linux-mipsel-broadcom-97425-g++/qmake.conf\n",
            "AMPL/mkspecs/devices/linux-mipsel-broadcom-97425-g++/qplatformdefs.h\n",
            "AMPL/mkspecs/devices/linux-nuc-g++/\n",
            "AMPL/mkspecs/devices/linux-nuc-g++/qmake.conf\n",
            "AMPL/mkspecs/devices/linux-nuc-g++/qplatformdefs.h\n",
            "AMPL/mkspecs/devices/linux-arm-hisilicon-hix5hd2-g++/\n",
            "AMPL/mkspecs/devices/linux-arm-hisilicon-hix5hd2-g++/qmake.conf\n",
            "AMPL/mkspecs/devices/linux-arm-hisilicon-hix5hd2-g++/qplatformdefs.h\n",
            "AMPL/mkspecs/devices/linux-archos-gen8-g++/\n",
            "AMPL/mkspecs/devices/linux-archos-gen8-g++/qmake.conf\n",
            "AMPL/mkspecs/devices/linux-archos-gen8-g++/qplatformdefs.h\n",
            "AMPL/mkspecs/devices/linux-odroid-xu3-g++/\n",
            "AMPL/mkspecs/devices/linux-odroid-xu3-g++/qmake.conf\n",
            "AMPL/mkspecs/devices/linux-odroid-xu3-g++/qplatformdefs.h\n",
            "AMPL/mkspecs/devices/linux-tegra2-g++/\n",
            "AMPL/mkspecs/devices/linux-tegra2-g++/qmake.conf\n",
            "AMPL/mkspecs/devices/linux-tegra2-g++/qplatformdefs.h\n",
            "AMPL/mkspecs/devices/linux-imx53qsb-g++/\n",
            "AMPL/mkspecs/devices/linux-imx53qsb-g++/qmake.conf\n",
            "AMPL/mkspecs/devices/linux-imx53qsb-g++/qplatformdefs.h\n",
            "AMPL/mkspecs/devices/linux-rasp-pi-g++/\n",
            "AMPL/mkspecs/devices/linux-rasp-pi-g++/qmake.conf\n",
            "AMPL/mkspecs/devices/linux-rasp-pi-g++/qplatformdefs.h\n",
            "AMPL/mkspecs/devices/linux-beagleboard-g++/\n",
            "AMPL/mkspecs/devices/linux-beagleboard-g++/qmake.conf\n",
            "AMPL/mkspecs/devices/linux-beagleboard-g++/qplatformdefs.h\n",
            "AMPL/mkspecs/devices/linux-snowball-g++/\n",
            "AMPL/mkspecs/devices/linux-snowball-g++/qmake.conf\n",
            "AMPL/mkspecs/devices/linux-snowball-g++/qplatformdefs.h\n",
            "AMPL/mkspecs/devices/linux-arm-trident-pnx8473-g++/\n",
            "AMPL/mkspecs/devices/linux-arm-trident-pnx8473-g++/qmake.conf\n",
            "AMPL/mkspecs/devices/linux-arm-trident-pnx8473-g++/qplatformdefs.h\n",
            "AMPL/mkspecs/devices/linux-jetson-tk1-pro-g++/\n",
            "AMPL/mkspecs/devices/linux-jetson-tk1-pro-g++/qmake.conf\n",
            "AMPL/mkspecs/devices/linux-jetson-tk1-pro-g++/qplatformdefs.h\n",
            "AMPL/mkspecs/devices/common/\n",
            "AMPL/mkspecs/devices/common/linux_arm_device_post.conf\n",
            "AMPL/mkspecs/devices/common/linux_device_post.conf\n",
            "AMPL/mkspecs/devices/common/linux_device_pre.conf\n",
            "AMPL/mkspecs/devices/linux-sh4-stmicro-ST7540-g++/\n",
            "AMPL/mkspecs/devices/linux-sh4-stmicro-ST7540-g++/qmake.conf\n",
            "AMPL/mkspecs/devices/linux-sh4-stmicro-ST7540-g++/qplatformdefs.h\n",
            "AMPL/mkspecs/devices/linux-sh4-stmicro-ST7108-g++/\n",
            "AMPL/mkspecs/devices/linux-sh4-stmicro-ST7108-g++/qmake.conf\n",
            "AMPL/mkspecs/devices/linux-sh4-stmicro-ST7108-g++/qplatformdefs.h\n",
            "AMPL/mkspecs/devices/linux-arm-amlogic-8726M-g++/\n",
            "AMPL/mkspecs/devices/linux-arm-amlogic-8726M-g++/qmake.conf\n",
            "AMPL/mkspecs/devices/linux-arm-amlogic-8726M-g++/qeglfshooks_8726m.cpp\n",
            "AMPL/mkspecs/devices/linux-arm-amlogic-8726M-g++/qplatformdefs.h\n",
            "AMPL/mkspecs/tru64-g++/\n",
            "AMPL/mkspecs/tru64-g++/qmake.conf\n",
            "AMPL/mkspecs/tru64-g++/qplatformdefs.h\n",
            "AMPL/mkspecs/aix-g++/\n",
            "AMPL/mkspecs/aix-g++/qmake.conf\n",
            "AMPL/mkspecs/aix-g++/qplatformdefs.h\n",
            "AMPL/mkspecs/openbsd-g++/\n",
            "AMPL/mkspecs/openbsd-g++/qmake.conf\n",
            "AMPL/mkspecs/openbsd-g++/qplatformdefs.h\n",
            "AMPL/mkspecs/winrt-x64-msvc2015/\n",
            "AMPL/mkspecs/winrt-x64-msvc2015/qmake.conf\n",
            "AMPL/mkspecs/winrt-x64-msvc2015/qplatformdefs.h\n",
            "AMPL/mkspecs/win32-msvc2012/\n",
            "AMPL/mkspecs/win32-msvc2012/qmake.conf\n",
            "AMPL/mkspecs/win32-msvc2012/qplatformdefs.h\n",
            "AMPL/mkspecs/solaris-g++-64/\n",
            "AMPL/mkspecs/solaris-g++-64/qmake.conf\n",
            "AMPL/mkspecs/solaris-g++-64/qplatformdefs.h\n",
            "AMPL/mkspecs/qnx-x86-qcc/\n",
            "AMPL/mkspecs/qnx-x86-qcc/qmake.conf\n",
            "AMPL/mkspecs/qnx-x86-qcc/qplatformdefs.h\n",
            "AMPL/mkspecs/linux-icc/\n",
            "AMPL/mkspecs/linux-icc/qmake.conf\n",
            "AMPL/mkspecs/linux-icc/qplatformdefs.h\n",
            "AMPL/mkspecs/macx-g++-32/\n",
            "AMPL/mkspecs/macx-g++-32/qmake.conf\n",
            "AMPL/mkspecs/macx-g++-32/qplatformdefs.h\n",
            "AMPL/mkspecs/macx-g++-32/Info.plist.lib\n",
            "AMPL/mkspecs/macx-g++-32/Info.plist.dSYM.in\n",
            "AMPL/mkspecs/macx-g++-32/Info.plist.app\n",
            "AMPL/mkspecs/winrt-arm-msvc2013/\n",
            "AMPL/mkspecs/winrt-arm-msvc2013/qmake.conf\n",
            "AMPL/mkspecs/winrt-arm-msvc2013/qplatformdefs.h\n",
            "AMPL/mkspecs/irix-cc/\n",
            "AMPL/mkspecs/irix-cc/qmake.conf\n",
            "AMPL/mkspecs/irix-cc/qplatformdefs.h\n",
            "AMPL/mkspecs/qnx-aarch64le-qcc/\n",
            "AMPL/mkspecs/qnx-aarch64le-qcc/qmake.conf\n",
            "AMPL/mkspecs/qnx-aarch64le-qcc/qplatformdefs.h\n",
            "AMPL/mkspecs/qfeatures.pri\n",
            "AMPL/mkspecs/wince70embedded-armv4i-msvc2008/\n",
            "AMPL/mkspecs/wince70embedded-armv4i-msvc2008/qmake.conf\n",
            "AMPL/mkspecs/wince70embedded-armv4i-msvc2008/qplatformdefs.h\n",
            "AMPL/mkspecs/linux-g++-64/\n",
            "AMPL/mkspecs/linux-g++-64/qmake.conf\n",
            "AMPL/mkspecs/linux-g++-64/qplatformdefs.h\n",
            "AMPL/mkspecs/sco-cc/\n",
            "AMPL/mkspecs/sco-cc/qmake.conf\n",
            "AMPL/mkspecs/sco-cc/qplatformdefs.h\n",
            "AMPL/mkspecs/macx-g++/\n",
            "AMPL/mkspecs/macx-g++/qmake.conf\n",
            "AMPL/mkspecs/macx-g++/qplatformdefs.h\n",
            "AMPL/mkspecs/macx-g++/Info.plist.lib\n",
            "AMPL/mkspecs/macx-g++/Info.plist.dSYM.in\n",
            "AMPL/mkspecs/macx-g++/Info.plist.app\n",
            "AMPL/mkspecs/hurd-g++/\n",
            "AMPL/mkspecs/hurd-g++/qmake.conf\n",
            "AMPL/mkspecs/hurd-g++/qplatformdefs.h\n",
            "AMPL/mkspecs/hpux-acc-64/\n",
            "AMPL/mkspecs/hpux-acc-64/qmake.conf\n",
            "AMPL/mkspecs/hpux-acc-64/qplatformdefs.h\n",
            "AMPL/mkspecs/sco-g++/\n",
            "AMPL/mkspecs/sco-g++/qmake.conf\n",
            "AMPL/mkspecs/sco-g++/qplatformdefs.h\n",
            "AMPL/mkspecs/win32-msvc2008/\n",
            "AMPL/mkspecs/win32-msvc2008/qmake.conf\n",
            "AMPL/mkspecs/win32-msvc2008/qplatformdefs.h\n",
            "AMPL/mkspecs/macx-clang-32/\n",
            "AMPL/mkspecs/macx-clang-32/qmake.conf\n",
            "AMPL/mkspecs/macx-clang-32/qplatformdefs.h\n",
            "AMPL/mkspecs/macx-clang-32/Info.plist.lib\n",
            "AMPL/mkspecs/macx-clang-32/Info.plist.dSYM.in\n",
            "AMPL/mkspecs/macx-clang-32/Info.plist.app\n",
            "AMPL/mkspecs/hpux-acc-o64/\n",
            "AMPL/mkspecs/hpux-acc-o64/qmake.conf\n",
            "AMPL/mkspecs/hpux-acc-o64/qplatformdefs.h\n",
            "AMPL/mkspecs/cygwin-g++/\n",
            "AMPL/mkspecs/cygwin-g++/qmake.conf\n",
            "AMPL/mkspecs/cygwin-g++/qplatformdefs.h\n",
            "AMPL/mkspecs/hpux-g++-64/\n",
            "AMPL/mkspecs/hpux-g++-64/qmake.conf\n",
            "AMPL/mkspecs/hpux-g++-64/qplatformdefs.h\n",
            "AMPL/mkspecs/irix-g++/\n",
            "AMPL/mkspecs/irix-g++/qmake.conf\n",
            "AMPL/mkspecs/irix-g++/qplatformdefs.h\n",
            "AMPL/mkspecs/macx-g++42/\n",
            "AMPL/mkspecs/macx-g++42/qmake.conf\n",
            "AMPL/mkspecs/macx-g++42/qplatformdefs.h\n",
            "AMPL/mkspecs/macx-g++42/Info.plist.lib\n",
            "AMPL/mkspecs/macx-g++42/Info.plist.dSYM.in\n",
            "AMPL/mkspecs/macx-g++42/Info.plist.app\n",
            "AMPL/mkspecs/irix-cc-64/\n",
            "AMPL/mkspecs/irix-cc-64/qmake.conf\n",
            "AMPL/mkspecs/irix-cc-64/qplatformdefs.h\n",
            "AMPL/mkspecs/unixware-cc/\n",
            "AMPL/mkspecs/unixware-cc/qmake.conf\n",
            "AMPL/mkspecs/unixware-cc/qplatformdefs.h\n",
            "AMPL/mkspecs/lynxos-g++/\n",
            "AMPL/mkspecs/lynxos-g++/qmake.conf\n",
            "AMPL/mkspecs/lynxos-g++/qplatformdefs.h\n",
            "AMPL/mkspecs/common/\n",
            "AMPL/mkspecs/common/bsd/\n",
            "AMPL/mkspecs/common/bsd/qplatformdefs.h\n",
            "AMPL/mkspecs/common/bsd/bsd.conf\n",
            "AMPL/mkspecs/common/llvm.conf\n",
            "AMPL/mkspecs/common/qcc-base-qnx-aarch64le.conf\n",
            "AMPL/mkspecs/common/angle.conf\n",
            "AMPL/mkspecs/common/macx.conf\n",
            "AMPL/mkspecs/common/linux-android.conf\n",
            "AMPL/mkspecs/common/msvc-desktop.conf\n",
            "AMPL/mkspecs/common/shell-unix.conf\n",
            "AMPL/mkspecs/common/qcc-base-qnx.conf\n",
            "AMPL/mkspecs/common/ios/\n",
            "AMPL/mkspecs/common/ios/qmake.conf\n",
            "AMPL/mkspecs/common/ios/clang.conf\n",
            "AMPL/mkspecs/common/ios/GLES2/\n",
            "AMPL/mkspecs/common/ios/GLES2/gl2.h\n",
            "AMPL/mkspecs/common/android-base-tail.conf\n",
            "AMPL/mkspecs/common/gcc-base.conf\n",
            "AMPL/mkspecs/common/qnx/\n",
            "AMPL/mkspecs/common/qnx/qplatformdefs.h\n",
            "AMPL/mkspecs/common/ios.conf\n",
            "AMPL/mkspecs/common/gcc-base-mac.conf\n",
            "AMPL/mkspecs/common/qcc-base-qnx-x86-64.conf\n",
            "AMPL/mkspecs/common/clang.conf\n",
            "AMPL/mkspecs/common/winrt_winphone/\n",
            "AMPL/mkspecs/common/winrt_winphone/qmake.conf\n",
            "AMPL/mkspecs/common/winrt_winphone/qplatformdefs.h\n",
            "AMPL/mkspecs/common/winrt_winphone/manifests/\n",
            "AMPL/mkspecs/common/winrt_winphone/manifests/10.0/\n",
            "AMPL/mkspecs/common/winrt_winphone/manifests/10.0/AppxManifest.xml.in\n",
            "AMPL/mkspecs/common/winrt_winphone/manifests/8.1/\n",
            "AMPL/mkspecs/common/winrt_winphone/manifests/8.1/AppxManifest.xml.in\n",
            "AMPL/mkspecs/common/winrt_winphone/manifests/8.1_wp/\n",
            "AMPL/mkspecs/common/winrt_winphone/manifests/8.1_wp/AppxManifest.xml.in\n",
            "AMPL/mkspecs/common/winrt_winphone/assets/\n",
            "AMPL/mkspecs/common/winrt_winphone/assets/logo_480x800.png\n",
            "AMPL/mkspecs/common/winrt_winphone/assets/logo_310x310.png\n",
            "AMPL/mkspecs/common/winrt_winphone/assets/logo_150x150.png\n",
            "AMPL/mkspecs/common/winrt_winphone/assets/logo_71x71.png\n",
            "AMPL/mkspecs/common/winrt_winphone/assets/logo_310x150.png\n",
            "AMPL/mkspecs/common/winrt_winphone/assets/logo_70x70.png\n",
            "AMPL/mkspecs/common/winrt_winphone/assets/logo_store.png\n",
            "AMPL/mkspecs/common/winrt_winphone/assets/logo_620x300.png\n",
            "AMPL/mkspecs/common/winrt_winphone/assets/logo_44x44.png\n",
            "AMPL/mkspecs/common/winrt_winphone/assets/logo_30x30.png\n",
            "AMPL/mkspecs/common/msvc-base.conf\n",
            "AMPL/mkspecs/common/c89/\n",
            "AMPL/mkspecs/common/c89/qplatformdefs.h\n",
            "AMPL/mkspecs/common/qcc-base-qnx-x86.conf\n",
            "AMPL/mkspecs/common/gcc-base-unix.conf\n",
            "AMPL/mkspecs/common/linux.conf\n",
            "AMPL/mkspecs/common/android-base-head.conf\n",
            "AMPL/mkspecs/common/g++-base.conf\n",
            "AMPL/mkspecs/common/unix.conf\n",
            "AMPL/mkspecs/common/aix/\n",
            "AMPL/mkspecs/common/aix/qplatformdefs.h\n",
            "AMPL/mkspecs/common/wince/\n",
            "AMPL/mkspecs/common/wince/qmake.conf\n",
            "AMPL/mkspecs/common/wince/qplatformdefs.h\n",
            "AMPL/mkspecs/common/mac/\n",
            "AMPL/mkspecs/common/mac/qplatformdefs.h\n",
            "AMPL/mkspecs/common/g++.conf\n",
            "AMPL/mkspecs/common/qcc-base.conf\n",
            "AMPL/mkspecs/common/sanitize.conf\n",
            "AMPL/mkspecs/common/g++-macx.conf\n",
            "AMPL/mkspecs/common/posix/\n",
            "AMPL/mkspecs/common/posix/qplatformdefs.h\n",
            "AMPL/mkspecs/common/android/\n",
            "AMPL/mkspecs/common/android/qplatformdefs.h\n",
            "AMPL/mkspecs/common/clang-mac.conf\n",
            "AMPL/mkspecs/common/shell-win32.conf\n",
            "AMPL/mkspecs/common/g++-unix.conf\n",
            "AMPL/mkspecs/common/mac.conf\n",
            "AMPL/mkspecs/common/qcc-base-qnx-armle-v7.conf\n",
            "AMPL/mkspecs/common/nacl/\n",
            "AMPL/mkspecs/common/nacl/qplatformdefs.h\n",
            "AMPL/mkspecs/common/nacl/g++-nacl32.conf\n",
            "AMPL/mkspecs/common/nacl/nacl-base.conf\n",
            "AMPL/mkspecs/common/nacl/g++-nacl64.conf\n",
            "AMPL/mkspecs/winphone-arm-msvc2013/\n",
            "AMPL/mkspecs/winphone-arm-msvc2013/qmake.conf\n",
            "AMPL/mkspecs/winphone-arm-msvc2013/qplatformdefs.h\n",
            "AMPL/mkspecs/winrt-arm-msvc2015/\n",
            "AMPL/mkspecs/winrt-arm-msvc2015/qmake.conf\n",
            "AMPL/mkspecs/winrt-arm-msvc2015/qplatformdefs.h\n",
            "AMPL/mkspecs/aix-g++-64/\n",
            "AMPL/mkspecs/aix-g++-64/qmake.conf\n",
            "AMPL/mkspecs/aix-g++-64/qplatformdefs.h\n",
            "AMPL/mkspecs/winphone-x86-msvc2013/\n",
            "AMPL/mkspecs/winphone-x86-msvc2013/qmake.conf\n",
            "AMPL/mkspecs/winphone-x86-msvc2013/qplatformdefs.h\n",
            "AMPL/mkspecs/qdevice.pri\n",
            "AMPL/mkspecs/hpuxi-g++-64/\n",
            "AMPL/mkspecs/hpuxi-g++-64/qmake.conf\n",
            "AMPL/mkspecs/hpuxi-g++-64/qplatformdefs.h\n",
            "AMPL/mkspecs/blackberry-armle-v7-qcc/\n",
            "AMPL/mkspecs/blackberry-armle-v7-qcc/qmake.conf\n",
            "AMPL/mkspecs/blackberry-armle-v7-qcc/qplatformdefs.h\n",
            "AMPL/mkspecs/winrt-x86-msvc2013/\n",
            "AMPL/mkspecs/winrt-x86-msvc2013/qmake.conf\n",
            "AMPL/mkspecs/winrt-x86-msvc2013/qplatformdefs.h\n",
            "AMPL/licenses/\n",
            "AMPL/licenses/LGPL.txt\n",
            "AMPL/licenses/GPL.txt\n",
            "AMPL/licenses/Licenses.txt\n",
            "AMPL/ssl/\n",
            "AMPL/ssl/misc/\n",
            "AMPL/ssl/misc/c_hash\n",
            "AMPL/ssl/misc/c_info\n",
            "AMPL/ssl/misc/CA.sh\n",
            "AMPL/ssl/misc/c_issuer\n",
            "AMPL/ssl/misc/tsget\n",
            "AMPL/ssl/misc/CA.pl\n",
            "AMPL/ssl/misc/c_name\n",
            "AMPL/ssl/openssl.cnf\n",
            "AMPL/ssl/cert.pem\n",
            "AMPL/ssl/cacert.pem\n",
            "AMPL/translations/\n",
            "AMPL/translations/assistant_en.qm\n",
            "AMPL/translations/linguist_cs.qm\n",
            "AMPL/translations/qtconnectivity_ko.qm\n",
            "AMPL/translations/qt_help_da.qm\n",
            "AMPL/translations/qtdeclarative_pl.qm\n",
            "AMPL/translations/assistant_zh_CN.qm\n",
            "AMPL/translations/qt_help_en.qm\n",
            "AMPL/translations/qtquick1_de.qm\n",
            "AMPL/translations/qtlocation_ru.qm\n",
            "AMPL/translations/designer_fr.qm\n",
            "AMPL/translations/assistant_uk.qm\n",
            "AMPL/translations/qt_zh_TW.qm\n",
            "AMPL/translations/qt_help_sk.qm\n",
            "AMPL/translations/designer_pl.qm\n",
            "AMPL/translations/qtxmlpatterns_hu.qm\n",
            "AMPL/translations/assistant_fr.qm\n",
            "AMPL/translations/qtscript_ru.qm\n",
            "AMPL/translations/qtmultimedia_hu.qm\n",
            "AMPL/translations/qtbase_ko.qm\n",
            "AMPL/translations/qtscript_lv.qm\n",
            "AMPL/translations/qtconfig_hu.qm\n",
            "AMPL/translations/qtbase_uk.qm\n",
            "AMPL/translations/assistant_da.qm\n",
            "AMPL/translations/assistant_sk.qm\n",
            "AMPL/translations/qtwebsockets_ru.qm\n",
            "AMPL/translations/qtquick1_he.qm\n",
            "AMPL/translations/qt_help_zh_TW.qm\n",
            "AMPL/translations/qtquick1_ru.qm\n",
            "AMPL/translations/qtconfig_sl.qm\n",
            "AMPL/translations/qtxmlpatterns_ja.qm\n",
            "AMPL/translations/qt_fr.qm\n",
            "AMPL/translations/linguist_en.qm\n",
            "AMPL/translations/designer_hu.qm\n",
            "AMPL/translations/designer_ru.qm\n",
            "AMPL/translations/qtquickcontrols2_uk.qm\n",
            "AMPL/translations/qtserialport_ja.qm\n",
            "AMPL/translations/qt_gl.qm\n",
            "AMPL/translations/qtxmlpatterns_fr.qm\n",
            "AMPL/translations/qtdeclarative_ko.qm\n",
            "AMPL/translations/qtxmlpatterns_en.qm\n",
            "AMPL/translations/qtquick1_it.qm\n",
            "AMPL/translations/designer_sl.qm\n",
            "AMPL/translations/linguist_fr.qm\n",
            "AMPL/translations/qtquick1_en.qm\n",
            "AMPL/translations/qtscript_fi.qm\n",
            "AMPL/translations/qt_hu.qm\n",
            "AMPL/translations/qt_ko.qm\n",
            "AMPL/translations/qtscript_hu.qm\n",
            "AMPL/translations/qt_help_gl.qm\n",
            "AMPL/translations/assistant_pl.qm\n",
            "AMPL/translations/qtdeclarative_lv.qm\n",
            "AMPL/translations/qtxmlpatterns_cs.qm\n",
            "AMPL/translations/qtserialport_en.qm\n",
            "AMPL/translations/qtwebengine_ru.qm\n",
            "AMPL/translations/qtxmlpatterns_it.qm\n",
            "AMPL/translations/qtdeclarative_de.qm\n",
            "AMPL/translations/qtscript_fr.qm\n",
            "AMPL/translations/qtmultimedia_ru.qm\n",
            "AMPL/translations/designer_cs.qm\n",
            "AMPL/translations/designer_sk.qm\n",
            "AMPL/translations/qtwebengine_de.qm\n",
            "AMPL/translations/qtscript_ja.qm\n",
            "AMPL/translations/qt_es.qm\n",
            "AMPL/translations/qt_sk.qm\n",
            "AMPL/translations/qt_he.qm\n",
            "AMPL/translations/qt_ca.qm\n",
            "AMPL/translations/qtwebsockets_ja.qm\n",
            "AMPL/translations/qtmultimedia_fr.qm\n",
            "AMPL/translations/qt_ru.qm\n",
            "AMPL/translations/qtserialport_de.qm\n",
            "AMPL/translations/qt_help_pl.qm\n",
            "AMPL/translations/linguist_uk.qm\n",
            "AMPL/translations/designer_uk.qm\n",
            "AMPL/translations/qtquick1_cs.qm\n",
            "AMPL/translations/qtbase_fi.qm\n",
            "AMPL/translations/linguist_ja.qm\n",
            "AMPL/translations/qtconfig_ko.qm\n",
            "AMPL/translations/qtbase_pl.qm\n",
            "AMPL/translations/qtquick1_ca.qm\n",
            "AMPL/translations/qtmultimedia_uk.qm\n",
            "AMPL/translations/qtscript_he.qm\n",
            "AMPL/translations/qtmultimedia_sk.qm\n",
            "AMPL/translations/assistant_de.qm\n",
            "AMPL/translations/qtquick1_sk.qm\n",
            "AMPL/translations/qtmultimedia_cs.qm\n",
            "AMPL/translations/qt_help_ja.qm\n",
            "AMPL/translations/qtmultimedia_de.qm\n",
            "AMPL/translations/qtscript_sk.qm\n",
            "AMPL/translations/qtbase_he.qm\n",
            "AMPL/translations/qtquickcontrols2_en.qm\n",
            "AMPL/translations/qt_ja.qm\n",
            "AMPL/translations/qtconfig_uk.qm\n",
            "AMPL/translations/qtquickcontrols_en.qm\n",
            "AMPL/translations/qtxmlpatterns_ca.qm\n",
            "AMPL/translations/qtxmlpatterns_ru.qm\n",
            "AMPL/translations/qtdeclarative_ru.qm\n",
            "AMPL/translations/qtconfig_zh_TW.qm\n",
            "AMPL/translations/qtquick1_ko.qm\n",
            "AMPL/translations/qtbase_en.qm\n",
            "AMPL/translations/qt_en.qm\n",
            "AMPL/translations/qtquickcontrols_ja.qm\n",
            "AMPL/translations/assistant_zh_TW.qm\n",
            "AMPL/translations/qt_da.qm\n",
            "AMPL/translations/qtmultimedia_pl.qm\n",
            "AMPL/translations/qtmultimedia_en.qm\n",
            "AMPL/translations/qtbase_ja.qm\n",
            "AMPL/translations/qmlviewer_uk.qm\n",
            "AMPL/translations/qtquickcontrols_fr.qm\n",
            "AMPL/translations/qtxmlpatterns_de.qm\n",
            "AMPL/translations/qtscript_ca.qm\n",
            "AMPL/translations/qtmultimedia_ko.qm\n",
            "AMPL/translations/designer_ja.qm\n",
            "AMPL/translations/qtquickcontrols_fi.qm\n",
            "AMPL/translations/qt_help_zh_CN.qm\n",
            "AMPL/translations/qtscript_de.qm\n",
            "AMPL/translations/qtbase_de.qm\n",
            "AMPL/translations/qt_help_uk.qm\n",
            "AMPL/translations/qmlviewer_he.qm\n",
            "AMPL/translations/qt_cs.qm\n",
            "AMPL/translations/qtscript_pl.qm\n",
            "AMPL/translations/qtconnectivity_en.qm\n",
            "AMPL/translations/qtconnectivity_de.qm\n",
            "AMPL/translations/qmlviewer_en.qm\n",
            "AMPL/translations/qmlviewer_sk.qm\n",
            "AMPL/translations/qtconnectivity_ru.qm\n",
            "AMPL/translations/qt_pt.qm\n",
            "AMPL/translations/linguist_zh_TW.qm\n",
            "AMPL/translations/qtconfig_pl.qm\n",
            "AMPL/translations/qtdeclarative_ja.qm\n",
            "AMPL/translations/qt_fi.qm\n",
            "AMPL/translations/qtbase_ru.qm\n",
            "AMPL/translations/designer_ko.qm\n",
            "AMPL/translations/designer_zh_CN.qm\n",
            "AMPL/translations/qtquick1_uk.qm\n",
            "AMPL/translations/qtmultimedia_it.qm\n",
            "AMPL/translations/qt_help_it.qm\n",
            "AMPL/translations/linguist_pl.qm\n",
            "AMPL/translations/qtwebsockets_uk.qm\n",
            "AMPL/translations/qtdeclarative_sk.qm\n",
            "AMPL/translations/qtbase_fr.qm\n",
            "AMPL/translations/qt_fa.qm\n",
            "AMPL/translations/designer_en.qm\n",
            "AMPL/translations/qtquickcontrols_ru.qm\n",
            "AMPL/translations/qtmultimedia_fi.qm\n",
            "AMPL/translations/qtxmlpatterns_pl.qm\n",
            "AMPL/translations/assistant_sl.qm\n",
            "AMPL/translations/qtxmlpatterns_sk.qm\n",
            "AMPL/translations/qt_help_sl.qm\n",
            "AMPL/translations/qtscript_en.qm\n",
            "AMPL/translations/qt_ar.qm\n",
            "AMPL/translations/qtbase_lv.qm\n",
            "AMPL/translations/qtconfig_ru.qm\n",
            "AMPL/translations/qtbase_cs.qm\n",
            "AMPL/translations/linguist_sk.qm\n",
            "AMPL/translations/linguist_de.qm\n",
            "AMPL/translations/linguist_ko.qm\n",
            "AMPL/translations/qtquick1_pl.qm\n",
            "AMPL/translations/qtdeclarative_fi.qm\n",
            "AMPL/translations/qtconfig_ja.qm\n",
            "AMPL/translations/qt_help_ko.qm\n",
            "AMPL/translations/qt_it.qm\n",
            "AMPL/translations/qt_sl.qm\n",
            "AMPL/translations/assistant_hu.qm\n",
            "AMPL/translations/qtdeclarative_uk.qm\n",
            "AMPL/translations/qtwebsockets_fr.qm\n",
            "AMPL/translations/qtbase_ca.qm\n",
            "AMPL/translations/qtquickcontrols_de.qm\n",
            "AMPL/translations/qtwebsockets_de.qm\n",
            "AMPL/translations/qtconnectivity_uk.qm\n",
            "AMPL/translations/designer_de.qm\n",
            "AMPL/translations/linguist_hu.qm\n",
            "AMPL/translations/qmlviewer_ru.qm\n",
            "AMPL/translations/qt_help_de.qm\n",
            "AMPL/translations/qtwebsockets_en.qm\n",
            "AMPL/translations/qtxmlpatterns_uk.qm\n",
            "AMPL/translations/linguist_zh_CN.qm\n",
            "AMPL/translations/designer_zh_TW.qm\n",
            "AMPL/translations/qmlviewer_fi.qm\n",
            "AMPL/translations/qtquick1_hu.qm\n",
            "AMPL/translations/qtscript_ko.qm\n",
            "AMPL/translations/qtwebengine_en.qm\n",
            "AMPL/translations/qtserialport_ru.qm\n",
            "AMPL/translations/qtmultimedia_ja.qm\n",
            "AMPL/translations/qtquickcontrols_uk.qm\n",
            "AMPL/translations/qtmultimedia_ca.qm\n",
            "AMPL/translations/qt_zh_CN.qm\n",
            "AMPL/translations/qtbase_it.qm\n",
            "AMPL/translations/qt_uk.qm\n",
            "AMPL/translations/qtbase_hu.qm\n",
            "AMPL/translations/qmlviewer_ko.qm\n",
            "AMPL/translations/qmlviewer_hu.qm\n",
            "AMPL/translations/qt_pl.qm\n",
            "AMPL/translations/qmlviewer_ja.qm\n",
            "AMPL/translations/qtquick1_fi.qm\n",
            "AMPL/translations/qtlocation_fr.qm\n",
            "AMPL/translations/qmlviewer_fr.qm\n",
            "AMPL/translations/qt_de.qm\n",
            "AMPL/translations/qmlviewer_pl.qm\n",
            "AMPL/translations/qt_lt.qm\n",
            "AMPL/translations/linguist_sl.qm\n",
            "AMPL/translations/qtserialport_uk.qm\n",
            "AMPL/translations/qtbase_sk.qm\n",
            "AMPL/translations/qtscript_it.qm\n",
            "AMPL/translations/qtquick1_ja.qm\n",
            "AMPL/translations/assistant_ko.qm\n",
            "AMPL/translations/linguist_ru.qm\n",
            "AMPL/translations/qtscript_cs.qm\n",
            "AMPL/translations/qtlocation_de.qm\n",
            "AMPL/translations/qt_help_cs.qm\n",
            "AMPL/translations/qtconfig_sk.qm\n",
            "AMPL/translations/qtxmlpatterns_ko.qm\n",
            "AMPL/translations/qt_help_fr.qm\n",
            "AMPL/translations/qt_help_hu.qm\n",
            "AMPL/translations/qt_help_ru.qm\n",
            "AMPL/translations/qmlviewer_cs.qm\n",
            "AMPL/translations/assistant_cs.qm\n",
            "AMPL/translations/qtwebengine_uk.qm\n",
            "AMPL/translations/qtconfig_zh_CN.qm\n",
            "AMPL/translations/assistant_ru.qm\n",
            "AMPL/translations/assistant_ja.qm\n",
            "AMPL/translations/qtdeclarative_en.qm\n",
            "AMPL/translations/qtlocation_ko.qm\n",
            "AMPL/translations/qtlocation_uk.qm\n",
            "AMPL/translations/qtdeclarative_fr.qm\n",
            "AMPL/translations/qtscript_uk.qm\n",
            "AMPL/translations/qtlocation_en.qm\n",
            "AMPL/translations/qtquick1_fr.qm\n",
            "AMPL/translations/qt_sv.qm\n",
            "AMPL/man/\n",
            "AMPL/man/man1/\n",
            "AMPL/man/man1/bzcmp.1\n",
            "AMPL/man/man1/bzfgrep.1\n",
            "AMPL/man/man1/bzless.1\n",
            "AMPL/man/man1/bzmore.1\n",
            "AMPL/man/man1/bzip2.1\n",
            "AMPL/man/man1/bzgrep.1\n",
            "AMPL/man/man1/bzegrep.1\n",
            "AMPL/man/man1/bzdiff.1\n",
            "AMPL/shell/\n",
            "AMPL/shell/condabin/\n",
            "AMPL/shell/condabin/Conda.psm1\n",
            "AMPL/shell/condabin/conda-hook.ps1\n",
            "AMPL/docs/\n",
            "AMPL/docs/openmm/\n",
            "AMPL/docs/openmm/Python API Reference.html\n",
            "AMPL/docs/openmm/C++ API Reference.html\n",
            "\n",
            "real\t4m21.671s\n",
            "user\t3m33.176s\n",
            "sys\t0m13.268s\n"
          ],
          "name": "stdout"
        }
      ]
    },
    {
      "cell_type": "code",
      "metadata": {
        "id": "oiTpEHspt5kD",
        "colab_type": "code",
        "colab": {
          "base_uri": "https://localhost:8080/",
          "height": 87
        },
        "outputId": "96abfdeb-acc7-4c2e-8a45-c43a118b3ead"
      },
      "source": [
        "# Copy to Google Drive\n",
        "# 1 min\n",
        "!time cp AMPL.tar.bz2 '/content/drive/My Drive/colab'"
      ],
      "execution_count": 33,
      "outputs": [
        {
          "output_type": "stream",
          "text": [
            "\n",
            "real\t0m7.467s\n",
            "user\t0m0.014s\n",
            "sys\t0m0.530s\n"
          ],
          "name": "stdout"
        }
      ]
    },
    {
      "cell_type": "code",
      "metadata": {
        "id": "I1m6ihq_xWBJ",
        "colab_type": "code",
        "colab": {
          "base_uri": "https://localhost:8080/",
          "height": 52
        },
        "outputId": "ffaef245-eb61-4770-b1fb-184a3db8c694"
      },
      "source": [
        "!ls '/content/drive/My Drive/colab'"
      ],
      "execution_count": 34,
      "outputs": [
        {
          "output_type": "stream",
          "text": [
            "AMPL.tar.bz2\t\t\t\tdelaney-processed_curated_fit.csv\n",
            "delaney-processed_curated_external.csv\n"
          ],
          "name": "stdout"
        }
      ]
    },
    {
      "cell_type": "markdown",
      "metadata": {
        "id": "ZlV1j5ehwjcq",
        "colab_type": "text"
      },
      "source": [
        "# Note\n",
        "- Check https://drive.google.com/ for AMPL.tar.bz2. It may take minutes to synchronize."
      ]
    },
    {
      "cell_type": "code",
      "metadata": {
        "id": "6-Epz26ewqeG",
        "colab_type": "code",
        "colab": {}
      },
      "source": [
        ""
      ],
      "execution_count": null,
      "outputs": []
    }
  ]
}