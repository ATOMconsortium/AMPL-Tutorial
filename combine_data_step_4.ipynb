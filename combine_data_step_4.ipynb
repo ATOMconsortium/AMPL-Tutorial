{
  "nbformat": 4,
  "nbformat_minor": 0,
  "metadata": {
    "kernelspec": {
      "display_name": "Python 3",
      "language": "python",
      "name": "python3"
    },
    "language_info": {
      "codemirror_mode": {
        "name": "ipython",
        "version": 3
      },
      "file_extension": ".py",
      "mimetype": "text/x-python",
      "name": "python",
      "nbconvert_exporter": "python",
      "pygments_lexer": "ipython3",
      "version": "3.6.12"
    },
    "colab": {
      "name": "combine_data_step_4.ipynb",
      "provenance": [],
      "collapsed_sections": [],
      "include_colab_link": true
    }
  },
  "cells": [
    {
      "cell_type": "markdown",
      "metadata": {
        "id": "view-in-github",
        "colab_type": "text"
      },
      "source": [
        "<a href=\"https://colab.research.google.com/github/ravichas/AMPL-Tutorial/blob/master/combine_data_step_4.ipynb\" target=\"_parent\"><img src=\"https://colab.research.google.com/assets/colab-badge.svg\" alt=\"Open In Colab\"/></a>"
      ]
    },
    {
      "cell_type": "markdown",
      "metadata": {
        "id": "0V2ybLgAH-0V"
      },
      "source": [
        "# Exploring and combining HTR3A protein target activity data from ExcapeDB and DTC databases. \r\n",
        "\r\n",
        "The Target specific data was downloaded from https://zenodo.org/record/173258#.X_44kuhKi70\r\n",
        "\r\n",
        "Please refer to the ExCAPE-DB publication (https://pubmed.ncbi.nlm.nih.gov/28316655/) for details about the database "
      ]
    },
    {
      "cell_type": "markdown",
      "metadata": {
        "id": "FYelWdOkIGwC"
      },
      "source": [
        "Here are some details about HTR3A gene (taken from RefSeq NCBI)\r\n",
        "*The product of this gene belongs to the ligand-gated ion channel receptor superfamily. This gene encodes subunit A of the type 3 receptor for 5-hydroxytryptamine (serotonin), a biogenic hormone that functions as a neurotransmitter, a hormone, and a mitogen. This receptor causes fast, depolarizing responses in neurons after activation. It appears that the heteromeric combination of A and B subunits is necessary to provide the full functional features of this receptor, since either subunit alone results in receptors with very low conductance and response amplitude. Alternatively spliced transcript variants encoding different isoforms have been identified.*"
      ]
    },
    {
      "cell_type": "markdown",
      "metadata": {
        "id": "7J41ky8ULQdh"
      },
      "source": [
        "## Basic information about HTR3A gene:\r\n",
        "\r\n",
        "**Present in** Chromosome 11\r\n",
        "**Exon count:** 10\r\n",
        "\r\n",
        "mRNA and protein information\r\n",
        "\r\n",
        "*   NM_000869.6 → NP_000860.3 \r\n",
        "*   NM_001161772.3 → NP_001155244.1\r\n",
        "*   NM_213621.4 → NP_998786.3 \r\n",
        "\r\n",
        "\r\n",
        "\r\n",
        "\r\n",
        "\r\n",
        "\r\n"
      ]
    },
    {
      "cell_type": "markdown",
      "metadata": {
        "id": "od_Bn9W5gCh9"
      },
      "source": [
        "# Before you begin, make sure you close all other COLAB notebooks. "
      ]
    },
    {
      "cell_type": "markdown",
      "metadata": {
        "id": "2DWqm4Cxm5h_"
      },
      "source": [
        "# Change Runtime settings\r\n",
        "\r\n",
        "## Plesae change your runtime settings to use GPU and high-memory, if you have \r\n",
        "\r\n",
        "## Runtime --> Change Runtime Type --> GPU wityh high-RAM"
      ]
    },
    {
      "cell_type": "code",
      "metadata": {
        "colab": {
          "base_uri": "https://localhost:8080/"
        },
        "id": "oTrsX65u2wzG",
        "outputId": "486140f3-a7b2-44aa-ec60-431963d291a2"
      },
      "source": [
        "!date # starting time"
      ],
      "execution_count": null,
      "outputs": [
        {
          "output_type": "stream",
          "text": [
            "Thu Feb 18 20:56:13 UTC 2021\n"
          ],
          "name": "stdout"
        }
      ]
    },
    {
      "cell_type": "markdown",
      "metadata": {
        "id": "EYE99bW128O1"
      },
      "source": [
        "## Install AMPL GPU version\r\n",
        "\r\n",
        "```\r\n",
        "real\t2m59.739s\r\n",
        "user\t1m48.995s\r\n",
        "sys\t0m20.614s\r\n",
        "```"
      ]
    },
    {
      "cell_type": "code",
      "metadata": {
        "id": "4SQGta_o21Iq"
      },
      "source": [
        ""
      ],
      "execution_count": null,
      "outputs": []
    },
    {
      "cell_type": "code",
      "metadata": {
        "id": "TW1L0cVrIqxm",
        "colab": {
          "base_uri": "https://localhost:8080/"
        },
        "outputId": "ad926d60-82ee-43e5-9374-631c83d7f52d"
      },
      "source": [
        "import requests\r\n",
        "\r\n",
        "# Copy AMPL install script\r\n",
        "url='https://raw.githubusercontent.com/ravichas/AMPL-Tutorial/master/config/install_AMPL_GPU.sh'\r\n",
        "\r\n",
        "downloaded_obj = requests.get(url)\r\n",
        "with open(\"install_AMPL_GPU.sh\", \"wb\") as file:\r\n",
        "    file.write(downloaded_obj.content)\r\n",
        "\r\n",
        "\r\n",
        "# Install and load AMPL\r\n",
        "!chmod u+x install_AMPL_GPU.sh\r\n",
        "!time ./install_AMPL_GPU.sh\r\n",
        "import sys\r\n",
        "if '/content/AMPL/lib/python3.6/site-packages' not in sys.path:\r\n",
        "    sys.path.insert(1, '/content/AMPL/lib/python3.6/site-packages')\r\n",
        "\r\n",
        "sys.path"
      ],
      "execution_count": null,
      "outputs": [
        {
          "output_type": "stream",
          "text": [
            "--2021-02-18 20:56:14--  https://repo.anaconda.com/miniconda/Miniconda3-latest-Linux-x86_64.sh\n",
            "Resolving repo.anaconda.com (repo.anaconda.com)... 104.16.131.3, 104.16.130.3, 2606:4700::6810:8203, ...\n",
            "Connecting to repo.anaconda.com (repo.anaconda.com)|104.16.131.3|:443... connected.\n",
            "HTTP request sent, awaiting response... 200 OK\n",
            "Length: 94235922 (90M) [application/x-sh]\n",
            "Saving to: ‘Miniconda3-latest-Linux-x86_64.sh’\n",
            "\n",
            "Miniconda3-latest-L 100%[===================>]  89.87M   148MB/s    in 0.6s    \n",
            "\n",
            "2021-02-18 20:56:14 (148 MB/s) - ‘Miniconda3-latest-Linux-x86_64.sh’ saved [94235922/94235922]\n",
            "\n",
            "PREFIX=/content/AMPL\n",
            "Unpacking payload ...\n",
            "Collecting package metadata (current_repodata.json): - \b\b\\ \b\b| \b\bdone\n",
            "Solving environment: - \b\b\\ \b\bdone\n",
            "\n",
            "## Package Plan ##\n",
            "\n",
            "  environment location: /content/AMPL\n",
            "\n",
            "  added / updated specs:\n",
            "    - _libgcc_mutex==0.1=main\n",
            "    - brotlipy==0.7.0=py38h27cfd23_1003\n",
            "    - ca-certificates==2020.10.14=0\n",
            "    - certifi==2020.6.20=pyhd3eb1b0_3\n",
            "    - cffi==1.14.3=py38h261ae71_2\n",
            "    - chardet==3.0.4=py38h06a4308_1003\n",
            "    - conda-package-handling==1.7.2=py38h03888b9_0\n",
            "    - conda==4.9.2=py38h06a4308_0\n",
            "    - cryptography==3.2.1=py38h3c74f83_1\n",
            "    - idna==2.10=py_0\n",
            "    - ld_impl_linux-64==2.33.1=h53a641e_7\n",
            "    - libedit==3.1.20191231=h14c3975_1\n",
            "    - libffi==3.3=he6710b0_2\n",
            "    - libgcc-ng==9.1.0=hdf63c60_0\n",
            "    - libstdcxx-ng==9.1.0=hdf63c60_0\n",
            "    - ncurses==6.2=he6710b0_1\n",
            "    - openssl==1.1.1h=h7b6447c_0\n",
            "    - pip==20.2.4=py38h06a4308_0\n",
            "    - pycosat==0.6.3=py38h7b6447c_1\n",
            "    - pycparser==2.20=py_2\n",
            "    - pyopenssl==19.1.0=pyhd3eb1b0_1\n",
            "    - pysocks==1.7.1=py38h06a4308_0\n",
            "    - python==3.8.5=h7579374_1\n",
            "    - readline==8.0=h7b6447c_0\n",
            "    - requests==2.24.0=py_0\n",
            "    - ruamel_yaml==0.15.87=py38h7b6447c_1\n",
            "    - setuptools==50.3.1=py38h06a4308_1\n",
            "    - six==1.15.0=py38h06a4308_0\n",
            "    - sqlite==3.33.0=h62c20be_0\n",
            "    - tk==8.6.10=hbc83047_0\n",
            "    - tqdm==4.51.0=pyhd3eb1b0_0\n",
            "    - urllib3==1.25.11=py_0\n",
            "    - wheel==0.35.1=pyhd3eb1b0_0\n",
            "    - xz==5.2.5=h7b6447c_0\n",
            "    - yaml==0.2.5=h7b6447c_0\n",
            "    - zlib==1.2.11=h7b6447c_3\n",
            "\n",
            "\n",
            "The following NEW packages will be INSTALLED:\n",
            "\n",
            "  _libgcc_mutex      pkgs/main/linux-64::_libgcc_mutex-0.1-main\n",
            "  brotlipy           pkgs/main/linux-64::brotlipy-0.7.0-py38h27cfd23_1003\n",
            "  ca-certificates    pkgs/main/linux-64::ca-certificates-2020.10.14-0\n",
            "  certifi            pkgs/main/noarch::certifi-2020.6.20-pyhd3eb1b0_3\n",
            "  cffi               pkgs/main/linux-64::cffi-1.14.3-py38h261ae71_2\n",
            "  chardet            pkgs/main/linux-64::chardet-3.0.4-py38h06a4308_1003\n",
            "  conda              pkgs/main/linux-64::conda-4.9.2-py38h06a4308_0\n",
            "  conda-package-han~ pkgs/main/linux-64::conda-package-handling-1.7.2-py38h03888b9_0\n",
            "  cryptography       pkgs/main/linux-64::cryptography-3.2.1-py38h3c74f83_1\n",
            "  idna               pkgs/main/noarch::idna-2.10-py_0\n",
            "  ld_impl_linux-64   pkgs/main/linux-64::ld_impl_linux-64-2.33.1-h53a641e_7\n",
            "  libedit            pkgs/main/linux-64::libedit-3.1.20191231-h14c3975_1\n",
            "  libffi             pkgs/main/linux-64::libffi-3.3-he6710b0_2\n",
            "  libgcc-ng          pkgs/main/linux-64::libgcc-ng-9.1.0-hdf63c60_0\n",
            "  libstdcxx-ng       pkgs/main/linux-64::libstdcxx-ng-9.1.0-hdf63c60_0\n",
            "  ncurses            pkgs/main/linux-64::ncurses-6.2-he6710b0_1\n",
            "  openssl            pkgs/main/linux-64::openssl-1.1.1h-h7b6447c_0\n",
            "  pip                pkgs/main/linux-64::pip-20.2.4-py38h06a4308_0\n",
            "  pycosat            pkgs/main/linux-64::pycosat-0.6.3-py38h7b6447c_1\n",
            "  pycparser          pkgs/main/noarch::pycparser-2.20-py_2\n",
            "  pyopenssl          pkgs/main/noarch::pyopenssl-19.1.0-pyhd3eb1b0_1\n",
            "  pysocks            pkgs/main/linux-64::pysocks-1.7.1-py38h06a4308_0\n",
            "  python             pkgs/main/linux-64::python-3.8.5-h7579374_1\n",
            "  readline           pkgs/main/linux-64::readline-8.0-h7b6447c_0\n",
            "  requests           pkgs/main/noarch::requests-2.24.0-py_0\n",
            "  ruamel_yaml        pkgs/main/linux-64::ruamel_yaml-0.15.87-py38h7b6447c_1\n",
            "  setuptools         pkgs/main/linux-64::setuptools-50.3.1-py38h06a4308_1\n",
            "  six                pkgs/main/linux-64::six-1.15.0-py38h06a4308_0\n",
            "  sqlite             pkgs/main/linux-64::sqlite-3.33.0-h62c20be_0\n",
            "  tk                 pkgs/main/linux-64::tk-8.6.10-hbc83047_0\n",
            "  tqdm               pkgs/main/noarch::tqdm-4.51.0-pyhd3eb1b0_0\n",
            "  urllib3            pkgs/main/noarch::urllib3-1.25.11-py_0\n",
            "  wheel              pkgs/main/noarch::wheel-0.35.1-pyhd3eb1b0_0\n",
            "  xz                 pkgs/main/linux-64::xz-5.2.5-h7b6447c_0\n",
            "  yaml               pkgs/main/linux-64::yaml-0.2.5-h7b6447c_0\n",
            "  zlib               pkgs/main/linux-64::zlib-1.2.11-h7b6447c_3\n",
            "\n",
            "\n",
            "Preparing transaction: / \b\b- \b\b\\ \b\bdone\n",
            "Executing transaction: / \b\b- \b\b\\ \b\b| \b\b/ \b\b- \b\b\\ \b\b| \b\b/ \b\b- \b\b\\ \b\b| \b\bdone\n",
            "installation finished.\n",
            "WARNING:\n",
            "    You currently have a PYTHONPATH environment variable set. This may cause\n",
            "    unexpected behavior when running the Python interpreter in Miniconda3.\n",
            "    For best results, please verify that your PYTHONPATH only points to\n",
            "    directories of packages that are compatible with the Python interpreter\n",
            "    in Miniconda3: /content/AMPL\n",
            "\n",
            "Downloading and Extracting Packages\n",
            "_libgcc_mutex-0.1    | : 100% 1.0/1 [00:00<00:00,  4.07it/s]\n",
            "ca-certificates-2020 | : 100% 1.0/1 [00:00<00:00,  8.80it/s]\n",
            "cudatoolkit-9.0      | : 100% 1.0/1 [00:06<00:00,  6.18s/it]               \n",
            "fftw3f-3.3.4         | : 100% 1.0/1 [00:00<00:00,  1.94it/s]\n",
            "libgfortran-3.0.0    | : 100% 1.0/1 [00:00<00:00,  9.97it/s]\n",
            "libgfortran-ng-7.5.0 | : 100% 1.0/1 [00:00<00:00,  2.57it/s]\n",
            "libstdcxx-ng-9.2.0   | : 100% 1.0/1 [00:00<00:00,  1.22it/s]\n",
            "pandoc-2.9.2.1       | : 100% 1.0/1 [00:05<00:00,  5.14s/it]\n",
            "cudnn-7.6.5          | : 100% 1.0/1 [00:03<00:00,  3.96s/it]               \n",
            "cupti-9.0.176        | : 100% 1.0/1 [00:00<00:00, 10.40it/s]\n",
            "libgomp-9.2.0        | : 100% 1.0/1 [00:00<00:00,  5.65it/s]\n",
            "openblas-0.2.20      | : 100% 1.0/1 [00:04<00:00,  4.65s/it]               \n",
            "_openmp_mutex-4.5    | : 100% 1.0/1 [00:00<00:00, 11.05it/s]\n",
            "blas-1.1             | : 100% 1.0/1 [00:00<00:00, 19.13it/s]\n",
            "libgcc-ng-9.2.0      | : 100% 1.0/1 [00:01<00:00,  1.48s/it]\n",
            "blosc-1.18.1         | : 100% 1.0/1 [00:00<00:00,  4.50it/s]\n",
            "bzip2-1.0.8          | : 100% 1.0/1 [00:00<00:00,  7.52it/s]\n",
            "c-ares-1.15.0        | : 100% 1.0/1 [00:00<00:00, 14.40it/s]\n",
            "expat-2.2.9          | : 100% 1.0/1 [00:00<00:00, 11.40it/s]\n",
            "icu-58.2             | : 100% 1.0/1 [00:04<00:00,  4.48s/it]               \n",
            "jpeg-9c              | : 100% 1.0/1 [00:00<00:00,  8.80it/s]\n",
            "libffi-3.2.1         | : 100% 1.0/1 [00:00<00:00, 15.89it/s]\n",
            "libiconv-1.15        | : 100% 1.0/1 [00:00<00:00,  2.97it/s]\n",
            "libllvm8-8.0.1       | : 100% 1.0/1 [00:04<00:00,  4.84s/it]               \n",
            "libsodium-1.0.17     | : 100% 1.0/1 [00:00<00:00,  7.39it/s]\n",
            "libuuid-2.32.1       | : 100% 1.0/1 [00:00<00:00, 16.23it/s]\n",
            "lzo-2.10             | : 100% 1.0/1 [00:00<00:00,  7.78it/s]\n",
            "ncurses-6.1          | : 100% 1.0/1 [00:00<00:00,  1.66it/s]\n",
            "openssl-1.0.2u       | : 100% 1.0/1 [00:00<00:00,  1.41it/s]\n",
            "pcre-8.44            | : 100% 1.0/1 [00:00<00:00,  9.49it/s]\n",
            "pixman-0.34.0        | : 100% 1.0/1 [00:00<00:00,  6.05it/s]\n",
            "pthread-stubs-0.4    | : 100% 1.0/1 [00:00<00:00, 16.65it/s]\n",
            "tbb-2020.1           | : 100% 1.0/1 [00:00<00:00,  2.70it/s]\n",
            "xorg-kbproto-1.0.7   | : 100% 1.0/1 [00:00<00:00, 21.14it/s]\n",
            "xorg-libice-1.0.10   | : 100% 1.0/1 [00:00<00:00, 17.87it/s]\n",
            "xorg-libxau-1.0.9    | : 100% 1.0/1 [00:00<00:00, 16.48it/s]\n",
            "xorg-libxdmcp-1.1.3  | : 100% 1.0/1 [00:00<00:00, 22.62it/s]\n",
            "xorg-renderproto-0.1 | : 100% 1.0/1 [00:00<00:00, 19.37it/s]\n",
            "xorg-xextproto-7.3.0 | : 100% 1.0/1 [00:00<00:00, 19.92it/s]\n",
            "xorg-xproto-7.0.31   | : 100% 1.0/1 [00:00<00:00, 15.31it/s]\n",
            "xz-5.2.5             | : 100% 1.0/1 [00:00<00:00,  6.75it/s]\n",
            "yaml-0.2.4           | : 100% 1.0/1 [00:00<00:00, 15.48it/s]\n",
            "zlib-1.2.11          | : 100% 1.0/1 [00:00<00:00, 12.72it/s]\n",
            "dbus-1.13.0          | : 100% 1.0/1 [00:00<00:00,  4.97it/s]\n",
            "gettext-0.19.8.1     | : 100% 1.0/1 [00:01<00:00,  1.14s/it]\n",
            "hdf5-1.10.6          | : 100% 1.0/1 [00:00<00:00,  1.67it/s]\n",
            "libpng-1.6.37        | : 100% 1.0/1 [00:00<00:00,  8.18it/s]\n",
            "libprotobuf-3.12.1   | : 100% 1.0/1 [00:01<00:00,  1.27s/it]\n",
            "libtiff-4.0.9        | : 100% 1.0/1 [00:00<00:00,  5.57it/s]\n",
            "libxcb-1.13          | : 100% 1.0/1 [00:00<00:00,  5.82it/s]\n",
            "libxml2-2.9.9        | : 100% 1.0/1 [00:00<00:00,  2.41it/s]\n",
            "readline-7.0         | : 100% 1.0/1 [00:00<00:00,  5.08it/s]\n",
            "tk-8.6.10            | : 100% 1.0/1 [00:00<00:00,  1.22it/s]\n",
            "xorg-libsm-1.2.3     | : 100% 1.0/1 [00:00<00:00,  5.58it/s]               \n",
            "zeromq-4.3.2         | : 100% 1.0/1 [00:00<00:00,  4.25it/s]\n",
            "freetype-2.8.1       | : 100% 1.0/1 [00:00<00:00,  4.03it/s]\n",
            "glib-2.55.0          | : 100% 1.0/1 [00:01<00:00,  1.80s/it]\n",
            "sqlite-3.28.0        | : 100% 1.0/1 [00:00<00:00,  2.59it/s]\n",
            "xorg-libx11-1.6.9    | : 100% 1.0/1 [00:00<00:00,  4.33it/s]\n",
            "fontconfig-2.13.0    | : 100% 1.0/1 [00:00<00:00,  7.78it/s]\n",
            "gstreamer-1.12.5     | : 100% 1.0/1 [00:00<00:00,  1.97it/s]\n",
            "python-3.6.7         | : 100% 1.0/1 [00:06<00:00,  6.03s/it]               \n",
            "xorg-libxext-1.3.4   | : 100% 1.0/1 [00:00<00:00, 19.79it/s]\n",
            "xorg-libxrender-0.9. | : 100% 1.0/1 [00:00<00:00, 16.10it/s]\n",
            "astor-0.7.1          | : 100% 1.0/1 [00:00<00:00, 22.54it/s]\n",
            "attrs-19.3.0         | : 100% 1.0/1 [00:00<00:00, 19.66it/s]\n",
            "backcall-0.1.0       | : 100% 1.0/1 [00:00<00:00, 20.98it/s]\n",
            "cairo-1.14.12        | : 100% 1.0/1 [00:00<00:00,  2.52it/s]\n",
            "decorator-4.4.2      | : 100% 1.0/1 [00:00<00:00, 20.50it/s]\n",
            "defusedxml-0.6.0     | : 100% 1.0/1 [00:00<00:00, 22.30it/s]\n",
            "gast-0.3.3           | : 100% 1.0/1 [00:00<00:00, 23.53it/s]\n",
            "gst-plugins-base-1.1 | : 100% 1.0/1 [00:00<00:00,  1.09it/s]\n",
            "idna-2.6             | : 100% 1.0/1 [00:00<00:00, 15.43it/s]\n",
            "ipython_genutils-0.2 | : 100% 1.0/1 [00:00<00:00, 14.68it/s]\n",
            "joblib-0.11          | : 100% 1.0/1 [00:00<00:00,  9.87it/s]\n",
            "jsonref-0.2          | : 100% 1.0/1 [00:00<00:00, 21.92it/s]\n",
            "monotonic-1.5        | : 100% 1.0/1 [00:00<00:00, 19.42it/s]\n",
            "more-itertools-8.3.0 | : 100% 1.0/1 [00:00<00:00, 20.38it/s]\n",
            "msgpack-python-0.5.5 | : 100% 1.0/1 [00:00<00:00, 11.05it/s]\n",
            "numpy-1.15.2         | : 100% 1.0/1 [00:02<00:00,  2.20s/it]               \n",
            "olefile-0.46         | : 100% 1.0/1 [00:00<00:00, 15.14it/s]\n",
            "pandocfilters-1.4.2  | : 100% 1.0/1 [00:00<00:00, 17.63it/s]\n",
            "parso-0.7.0          | : 100% 1.0/1 [00:00<00:00, 12.90it/s]\n",
            "prometheus_client-0. | : 100% 1.0/1 [00:00<00:00, 18.97it/s]\n",
            "ptyprocess-0.6.0     | : 100% 1.0/1 [00:00<00:00, 23.27it/s]\n",
            "py-1.8.1             | : 100% 1.0/1 [00:00<00:00, 14.28it/s]\n",
            "pycparser-2.20       | : 100% 1.0/1 [00:00<00:00, 14.80it/s]\n",
            "pyparsing-2.4.7      | : 100% 1.0/1 [00:00<00:00, 17.54it/s]\n",
            "python_abi-3.6       | : 100% 1.0/1 [00:00<00:00, 23.99it/s]\n",
            "pytz-2020.1          | : 100% 1.0/1 [00:00<00:00,  6.27it/s]\n",
            "qtpy-1.9.0           | : 100% 1.0/1 [00:00<00:00, 14.83it/s]\n",
            "send2trash-1.5.0     | : 100% 1.0/1 [00:00<00:00, 21.87it/s]\n",
            "sip-4.18.1           | : 100% 1.0/1 [00:00<00:00, 10.92it/s]\n",
            "six-1.15.0           | : 100% 1.0/1 [00:00<00:00, 14.30it/s]\n",
            "termcolor-1.1.0      | : 100% 1.0/1 [00:00<00:00, 18.53it/s]\n",
            "testpath-0.4.4       | : 100% 1.0/1 [00:00<00:00, 17.64it/s]\n",
            "tqdm-4.46.0          | : 100% 1.0/1 [00:00<00:00, 16.56it/s]\n",
            "wcwidth-0.1.9        | : 100% 1.0/1 [00:00<00:00, 20.11it/s]\n",
            "webencodings-0.5.1   | : 100% 1.0/1 [00:00<00:00, 22.65it/s]\n",
            "werkzeug-1.0.1       | : 100% 1.0/1 [00:00<00:00,  9.72it/s]\n",
            "zipp-3.1.0           | : 100% 1.0/1 [00:00<00:00, 18.10it/s]\n",
            "absl-py-0.9.0        | : 100% 1.0/1 [00:00<00:00, 11.45it/s]\n",
            "asn1crypto-1.3.0     | : 100% 1.0/1 [00:00<00:00, 10.61it/s]\n",
            "boost-1.63.0         | : 100% 1.0/1 [00:06<00:00,  6.12s/it]\n",
            "certifi-2020.4.5.1   | : 100% 1.0/1 [00:00<00:00, 15.57it/s]\n",
            "cffi-1.14.0          | : 100% 1.0/1 [00:00<00:00,  8.96it/s]\n",
            "chardet-3.0.4        | : 100% 1.0/1 [00:00<00:00, 10.30it/s]\n",
            "conda-package-handli | : 100% 1.0/1 [00:00<00:00,  5.14it/s]\n",
            "cycler-0.10.0        | : 100% 1.0/1 [00:00<00:00, 21.54it/s]\n",
            "cython-0.29.19       | : 100% 1.0/1 [00:00<00:00,  1.61it/s]\n",
            "entrypoints-0.3      | : 100% 1.0/1 [00:00<00:00, 18.84it/s]\n",
            "html5lib-0.9999999   | : 100% 1.0/1 [00:00<00:00, 11.15it/s]\n",
            "importlib-metadata-1 | : 100% 1.0/1 [00:00<00:00, 19.09it/s]\n",
            "jedi-0.17.0          | : 100% 1.0/1 [00:00<00:00,  2.20it/s]\n",
            "kiwisolver-1.2.0     | : 100% 1.0/1 [00:00<00:00, 19.21it/s]\n",
            "llvmlite-0.32.0      | : 100% 1.0/1 [00:00<00:00,  7.37it/s]\n",
            "markupsafe-1.1.1     | : 100% 1.0/1 [00:00<00:00, 19.61it/s]\n",
            "mistune-0.8.4        | : 100% 1.0/1 [00:00<00:00, 15.25it/s]\n",
            "mock-4.0.2           | : 100% 1.0/1 [00:00<00:00, 19.27it/s]\n",
            "packaging-20.4       | : 100% 1.0/1 [00:00<00:00, 22.57it/s]\n",
            "pexpect-4.8.0        | : 100% 1.0/1 [00:00<00:00, 16.66it/s]\n",
            "pickleshare-0.7.5    | : 100% 1.0/1 [00:00<00:00, 19.57it/s]\n",
            "pillow-5.0.0         | : 100% 1.0/1 [00:00<00:00,  3.43it/s]\n",
            "pycosat-0.6.3        | : 100% 1.0/1 [00:00<00:00, 14.91it/s]\n",
            "pyrsistent-0.16.0    | : 100% 1.0/1 [00:00<00:00, 11.35it/s]\n",
            "pysocks-1.7.1        | : 100% 1.0/1 [00:00<00:00, 17.72it/s]\n",
            "python-dateutil-2.8. | : 100% 1.0/1 [00:00<00:00, 12.40it/s]\n",
            "pyyaml-5.3.1         | : 100% 1.0/1 [00:00<00:00, 12.04it/s]\n",
            "pyzmq-19.0.1         | : 100% 1.0/1 [00:00<00:00,  5.05it/s]\n",
            "qt-5.6.2             | : 100% 1.0/1 [00:01<00:00,  1.78s/it]              \n",
            "ruamel_yaml-0.15.80  | : 100% 1.0/1 [00:00<00:00,  7.88it/s]\n",
            "scipy-1.1.0          | : 100% 1.0/1 [00:08<00:00,  8.21s/it]               \n",
            "simplejson-3.17.0    | : 100% 1.0/1 [00:00<00:00, 14.92it/s]\n",
            "tornado-6.0.4        | : 100% 1.0/1 [00:00<00:00,  4.28it/s]\n",
            "traitlets-4.3.3      | : 100% 1.0/1 [00:00<00:00, 11.54it/s]\n",
            "bleach-1.5.0         | : 100% 1.0/1 [00:00<00:00, 22.05it/s]\n",
            "cryptography-2.5     | : 100% 1.0/1 [00:00<00:00,  4.34it/s]\n",
            "importlib_metadata-1 | : 100% 1.0/1 [00:00<00:00, 20.21it/s]\n",
            "jupyter_core-4.6.3   | : 100% 1.0/1 [00:00<00:00, 15.21it/s]\n",
            "markdown-3.2.2       | : 100% 1.0/1 [00:00<00:00, 19.79it/s]\n",
            "openmm-7.4.2         | : 100% 1.0/1 [00:03<00:00,  3.50s/it]\n",
            "pandas-0.22.0        | : 100% 1.0/1 [00:06<00:00,  6.14s/it]               \n",
            "patsy-0.5.1          | : 100% 1.0/1 [00:00<00:00, 11.27it/s]\n",
            "pyqt-5.6.0           | : 100% 1.0/1 [00:01<00:00,  1.47s/it]\n",
            "scikit-learn-0.19.1  | : 100% 1.0/1 [00:02<00:00,  2.75s/it]               \n",
            "setuptools-47.1.1    | : 100% 1.0/1 [00:00<00:00,  3.23it/s]\n",
            "terminado-0.8.3      | : 100% 1.0/1 [00:00<00:00, 21.48it/s]\n",
            "xgboost-0.6a2        | : 100% 1.0/1 [00:00<00:00,  3.00it/s]\n",
            "anyconfig-0.9.10     | : 100% 1.0/1 [00:00<00:00, 17.92it/s]\n",
            "grpcio-1.16.0        | : 100% 1.0/1 [00:00<00:00,  4.08it/s]\n",
            "jinja2-2.11.2        | : 100% 1.0/1 [00:00<00:00, 15.23it/s]\n",
            "jsonschema-3.2.0     | : 100% 1.0/1 [00:00<00:00, 14.84it/s]\n",
            "jupyter_client-6.1.3 | : 100% 1.0/1 [00:00<00:00, 15.25it/s]\n",
            "matplotlib-2.2.2     | : 100% 1.0/1 [00:00<00:00,  3.16it/s]\n",
            "networkx-2.1         | : 100% 1.0/1 [00:00<00:00,  2.42it/s]\n",
            "numba-0.49.1         | : 100% 1.0/1 [00:01<00:00,  1.19s/it]\n",
            "numexpr-2.7.1        | : 100% 1.0/1 [00:00<00:00, 10.91it/s]\n",
            "pdbfixer-1.4         | : 100% 1.0/1 [00:00<00:00,  4.24it/s]\n",
            "pluggy-0.13.1        | : 100% 1.0/1 [00:00<00:00, 19.54it/s]\n",
            "protobuf-3.12.1      | : 100% 1.0/1 [00:00<00:00,  3.29it/s]\n",
            "pygments-2.6.1       | : 100% 1.0/1 [00:00<00:00,  4.18it/s]\n",
            "pyopenssl-19.0.0     | : 100% 1.0/1 [00:00<00:00, 13.03it/s]\n",
            "rdkit-2017.09.1      | : 100% 1.0/1 [00:04<00:00,  4.27s/it]\n",
            "statsmodels-0.10.2   | : 100% 1.0/1 [00:02<00:00,  2.57s/it]\n",
            "wheel-0.34.2         | : 100% 1.0/1 [00:00<00:00, 14.85it/s]\n",
            "molvs-0.1.1          | : 100% 1.0/1 [00:00<00:00,  7.55it/s]               \n",
            "mordred-1.2.0        | : 100% 1.0/1 [00:00<00:00,  7.11it/s]\n",
            "nbformat-5.0.6       | : 100% 1.0/1 [00:00<00:00, 12.42it/s]\n",
            "pip-20.1.1           | : 100% 1.0/1 [00:00<00:00,  2.49it/s]               \n",
            "prompt-toolkit-3.0.5 | : 100% 1.0/1 [00:00<00:00,  5.18it/s]               \n",
            "pytables-3.6.1       | : 100% 1.0/1 [00:00<00:00,  2.22it/s]\n",
            "pytest-5.4.2         | : 100% 1.0/1 [00:00<00:00,  6.09it/s]\n",
            "seaborn-0.10.0       | : 100% 1.0/1 [00:00<00:00,  8.33it/s]\n",
            "simdna-0.4.2         | : 100% 1.0/1 [00:00<00:00,  3.67it/s]\n",
            "swagger-spec-validat | : 100% 1.0/1 [00:00<00:00, 16.07it/s]\n",
            "tensorboard-1.6.0    | : 100% 1.0/1 [00:00<00:00,  1.67it/s]               \n",
            "tensorflow-gpu-base- | : 100% 1.0/1 [00:05<00:00,  5.64s/it]               \n",
            "umap-learn-0.4.2     | : 100% 1.0/1 [00:00<00:00,  4.54it/s]                \n",
            "urllib3-1.22         | : 100% 1.0/1 [00:00<00:00,  8.91it/s]\n",
            "bravado-core-5.16.0  | : 100% 1.0/1 [00:00<00:00, 14.85it/s]\n",
            "ipython-7.15.0       | : 100% 1.0/1 [00:00<00:00,  2.48it/s]\n",
            "mdtraj-1.9.1         | : 100% 1.0/1 [00:01<00:00,  1.42s/it]\n",
            "nbconvert-5.6.1      | : 100% 1.0/1 [00:00<00:00,  5.77it/s]\n",
            "prompt_toolkit-3.0.5 | : 100% 1.0/1 [00:00<00:00, 14.59it/s]\n",
            "requests-2.18.4      | : 100% 1.0/1 [00:00<00:00, 14.35it/s]\n",
            "tensorflow-gpu-1.6.0 | : 100% 1.0/1 [00:00<00:00, 17.81it/s]\n",
            "bravado-10.4.3       | : 100% 1.0/1 [00:00<00:00, 22.12it/s]\n",
            "conda-4.8.3          | : 100% 1.0/1 [00:00<00:00,  1.31it/s]\n",
            "ipykernel-5.3.0      | : 100% 1.0/1 [00:00<00:00, 10.11it/s]\n",
            "jupyter_console-6.1. | : 100% 1.0/1 [00:00<00:00, 19.98it/s]\n",
            "notebook-6.0.3       | : 100% 1.0/1 [00:01<00:00,  1.95s/it]\n",
            "qtconsole-4.7.4      | : 100% 1.0/1 [00:00<00:00, 15.77it/s]\n",
            "widgetsnbextension-3 | : 100% 1.0/1 [00:00<00:00,  1.78it/s]\n",
            "ipywidgets-7.5.1     | : 100% 1.0/1 [00:00<00:00, 14.14it/s]\n",
            "jupyter-1.0.0        | : 100% 1.0/1 [00:00<00:00, 26.03it/s]\n",
            "deepchem-gpu-2.1.0   | : 100% 1.0/1 [00:00<00:00,  1.43it/s]\n",
            "Preparing transaction: - \b\b\\ \b\b| \b\b/ \b\b- \b\b\\ \b\b| \b\b/ \b\b- \b\b\\ \b\b| \b\b/ \b\b- \b\b\\ \b\b| \b\b/ \b\b- \b\b\\ \b\b| \b\b/ \b\b- \b\b\\ \b\bdone\n",
            "Verifying transaction: / \b\b- \b\b\\ \b\b| \b\b/ \b\b- \b\b\\ \b\b| \b\b/ \b\b- \b\b\\ \b\b| \b\b/ \b\b- \b\b\\ \b\b| \b\b/ \b\b- \b\b\\ \b\b| \b\b/ \b\b- \b\b\\ \b\b| \b\b/ \b\b- \b\b\\ \b\b| \b\b/ \b\b- \b\b\\ \b\b| \b\b/ \b\b- \b\b\\ \b\b| \b\b/ \b\b- \b\b\\ \b\b| \b\b/ \b\b- \b\b\\ \b\b| \b\b/ \b\b- \b\b\\ \b\b| \b\b/ \b\b- \b\b\\ \b\b| \b\b/ \b\b- \b\b\\ \b\b| \b\b/ \b\b- \b\b\\ \b\b| \b\b/ \b\b- \b\b\\ \b\b| \b\b/ \b\b- \b\b\\ \b\b| \b\b/ \b\b- \b\b\\ \b\b| \b\b/ \b\b- \b\b\\ \b\b| \b\b/ \b\b- \b\b\\ \b\b| \b\b/ \b\b- \b\b\\ \b\b| \b\b/ \b\b- \b\b\\ \b\b| \b\b/ \b\b- \b\b\\ \b\b| \b\b/ \b\b- \b\bdone\n",
            "Executing transaction: | \b\b/ \b\b- \b\b\\ \b\b| \b\b/ \b\b- \b\b\\ \b\b| \b\b/ \b\b- \b\b\\ \b\b| \b\b/ \b\b- \b\b\\ \b\b| \b\b/ \b\b- \b\b\\ \b\b| \b\b/ \b\b- \b\b\\ \b\b| \b\b/ \b\b- \b\b\\ \b\b| \b\b/ \b\b- \b\b\\ \b\b| \b\b/ \b\b- \b\b\\ \b\b| \b\b/ \b\b- \b\b\\ Enabling notebook extension jupyter-js-widgets/extension...\n",
            "Paths used for configuration of notebook: \n",
            "    \t/content/AMPL/etc/jupyter/nbconfig/notebook.d/widgetsnbextension.json\n",
            "    \t/content/AMPL/etc/jupyter/nbconfig/notebook.json\n",
            "Paths used for configuration of notebook: \n",
            "    \t/content/AMPL/etc/jupyter/nbconfig/notebook.d/widgetsnbextension.json\n",
            "      - Validating: \u001b[32mOK\u001b[0m\n",
            "Paths used for configuration of notebook: \n",
            "    \t/content/AMPL/etc/jupyter/nbconfig/notebook.d/widgetsnbextension.json\n",
            "    \t/content/AMPL/etc/jupyter/nbconfig/notebook.json\n",
            "\n",
            "\b\b| \b\b/ \b\b- \b\b\\ \b\b| \b\b/ \b\b- \b\b\\ \b\b| \b\b/ \b\b- \b\b\\ \b\b| \b\b/ \b\b- \b\b\\ \b\b| \b\b/ \b\b- \b\b\\ \b\b| \b\b/ \b\b- \b\b\\ \b\b| \b\b/ \b\b- \b\b\\ \b\b| \b\b/ \b\b- \b\b\\ \b\b| \b\b/ \b\b- \b\b\\ \b\b| \b\b/ \b\b- \b\b\\ \b\b| \b\b/ \b\b- \b\b\\ \b\b| \b\b/ \b\b- \b\b\\ \b\b| \b\b/ \b\b- \b\b\\ \b\b| \b\b/ \b\b- \b\b\\ \b\b| \b\b/ \b\b- \b\b\\ \b\b| \b\b/ \b\b- \b\b\\ \b\bdone\n",
            "Cloning into 'AMPL'...\n",
            "remote: Enumerating objects: 207, done.\u001b[K\n",
            "remote: Counting objects: 100% (207/207), done.\u001b[K\n",
            "remote: Compressing objects: 100% (109/109), done.\u001b[K\n",
            "remote: Total 1727 (delta 160), reused 113 (delta 98), pack-reused 1520\u001b[K\n",
            "Receiving objects: 100% (1727/1727), 9.60 MiB | 20.86 MiB/s, done.\n",
            "Resolving deltas: 100% (981/981), done.\n",
            "patching file /content/github/AMPL/atomsci/ddm/pipeline/transformations.py\n",
            "patching file /content/github/AMPL/atomsci/ddm/__init__.py\n",
            "running build\n",
            "running build_py\n",
            "creating /content/github/AMPL.build/ampl/lib\n",
            "creating /content/github/AMPL.build/ampl/lib/atomsci\n",
            "copying atomsci/__init__.py -> /content/github/AMPL.build/ampl/lib/atomsci\n",
            "creating /content/github/AMPL.build/ampl/lib/atomsci/ddm\n",
            "copying atomsci/ddm/__init__.py -> /content/github/AMPL.build/ampl/lib/atomsci/ddm\n",
            "creating /content/github/AMPL.build/ampl/lib/atomsci/ddm/utils\n",
            "copying atomsci/ddm/utils/data_curation_functions.py -> /content/github/AMPL.build/ampl/lib/atomsci/ddm/utils\n",
            "copying atomsci/ddm/utils/process_slurm.py -> /content/github/AMPL.build/ampl/lib/atomsci/ddm/utils\n",
            "copying atomsci/ddm/utils/hyperparam_search_wrapper.py -> /content/github/AMPL.build/ampl/lib/atomsci/ddm/utils\n",
            "copying atomsci/ddm/utils/struct_utils.py -> /content/github/AMPL.build/ampl/lib/atomsci/ddm/utils\n",
            "copying atomsci/ddm/utils/pubchem_utils.py -> /content/github/AMPL.build/ampl/lib/atomsci/ddm/utils\n",
            "copying atomsci/ddm/utils/rdkit_easy.py -> /content/github/AMPL.build/ampl/lib/atomsci/ddm/utils\n",
            "copying atomsci/ddm/utils/llnl_utils.py -> /content/github/AMPL.build/ampl/lib/atomsci/ddm/utils\n",
            "copying atomsci/ddm/utils/genTestset.py -> /content/github/AMPL.build/ampl/lib/atomsci/ddm/utils\n",
            "copying atomsci/ddm/utils/open-docs.py -> /content/github/AMPL.build/ampl/lib/atomsci/ddm/utils\n",
            "copying atomsci/ddm/utils/curate_data.py -> /content/github/AMPL.build/ampl/lib/atomsci/ddm/utils\n",
            "copying atomsci/ddm/utils/__init__.py -> /content/github/AMPL.build/ampl/lib/atomsci/ddm/utils\n",
            "copying atomsci/ddm/utils/datastore_functions.py -> /content/github/AMPL.build/ampl/lib/atomsci/ddm/utils\n",
            "creating /content/github/AMPL.build/ampl/lib/atomsci/ddm/pipeline\n",
            "copying atomsci/ddm/pipeline/model_wrapper.py -> /content/github/AMPL.build/ampl/lib/atomsci/ddm/pipeline\n",
            "copying atomsci/ddm/pipeline/predict_from_model.py -> /content/github/AMPL.build/ampl/lib/atomsci/ddm/pipeline\n",
            "copying atomsci/ddm/pipeline/diversity_plots.py -> /content/github/AMPL.build/ampl/lib/atomsci/ddm/pipeline\n",
            "copying atomsci/ddm/pipeline/dist_metrics.py -> /content/github/AMPL.build/ampl/lib/atomsci/ddm/pipeline\n",
            "copying atomsci/ddm/pipeline/perf_data.py -> /content/github/AMPL.build/ampl/lib/atomsci/ddm/pipeline\n",
            "copying atomsci/ddm/pipeline/featurization.py -> /content/github/AMPL.build/ampl/lib/atomsci/ddm/pipeline\n",
            "copying atomsci/ddm/pipeline/model_pipeline.py -> /content/github/AMPL.build/ampl/lib/atomsci/ddm/pipeline\n",
            "copying atomsci/ddm/pipeline/transformations.py -> /content/github/AMPL.build/ampl/lib/atomsci/ddm/pipeline\n",
            "copying atomsci/ddm/pipeline/model_datasets.py -> /content/github/AMPL.build/ampl/lib/atomsci/ddm/pipeline\n",
            "copying atomsci/ddm/pipeline/compare_models.py -> /content/github/AMPL.build/ampl/lib/atomsci/ddm/pipeline\n",
            "copying atomsci/ddm/pipeline/chem_diversity.py -> /content/github/AMPL.build/ampl/lib/atomsci/ddm/pipeline\n",
            "copying atomsci/ddm/pipeline/splitting.py -> /content/github/AMPL.build/ampl/lib/atomsci/ddm/pipeline\n",
            "copying atomsci/ddm/pipeline/ave_splitter.py -> /content/github/AMPL.build/ampl/lib/atomsci/ddm/pipeline\n",
            "copying atomsci/ddm/pipeline/temporal_splitter.py -> /content/github/AMPL.build/ampl/lib/atomsci/ddm/pipeline\n",
            "copying atomsci/ddm/pipeline/hyper_perf_plots.py -> /content/github/AMPL.build/ampl/lib/atomsci/ddm/pipeline\n",
            "copying atomsci/ddm/pipeline/model_tracker.py -> /content/github/AMPL.build/ampl/lib/atomsci/ddm/pipeline\n",
            "copying atomsci/ddm/pipeline/perf_plots.py -> /content/github/AMPL.build/ampl/lib/atomsci/ddm/pipeline\n",
            "copying atomsci/ddm/pipeline/__init__.py -> /content/github/AMPL.build/ampl/lib/atomsci/ddm/pipeline\n",
            "copying atomsci/ddm/pipeline/parameter_parser.py -> /content/github/AMPL.build/ampl/lib/atomsci/ddm/pipeline\n",
            "running egg_info\n",
            "creating /content/github/AMPL.build/ampl/atomsci_ampl.egg-info\n",
            "writing /content/github/AMPL.build/ampl/atomsci_ampl.egg-info/PKG-INFO\n",
            "writing dependency_links to /content/github/AMPL.build/ampl/atomsci_ampl.egg-info/dependency_links.txt\n",
            "writing namespace_packages to /content/github/AMPL.build/ampl/atomsci_ampl.egg-info/namespace_packages.txt\n",
            "writing top-level names to /content/github/AMPL.build/ampl/atomsci_ampl.egg-info/top_level.txt\n",
            "writing manifest file '/content/github/AMPL.build/ampl/atomsci_ampl.egg-info/SOURCES.txt'\n",
            "reading manifest file '/content/github/AMPL.build/ampl/atomsci_ampl.egg-info/SOURCES.txt'\n",
            "reading manifest template 'MANIFEST.in'\n",
            "warning: no files found matching 'atomsci/*/*.yaml'\n",
            "writing manifest file '/content/github/AMPL.build/ampl/atomsci_ampl.egg-info/SOURCES.txt'\n",
            "creating /content/github/AMPL.build/ampl/lib/atomsci/ddm/data\n",
            "copying atomsci/ddm/data/descriptor_sets_sources_by_descr_type.csv -> /content/github/AMPL.build/ampl/lib/atomsci/ddm/data\n",
            "running bdist_wheel\n",
            "installing to /content/github/AMPL.build/ampl/bdist.linux-x86_64/wheel\n",
            "running install\n",
            "running install_lib\n",
            "Skipping installation of /content/github/AMPL.build/ampl/bdist.linux-x86_64/wheel/atomsci/__init__.py (namespace package)\n",
            "copying atomsci/ddm/__init__.py -> /content/github/AMPL.build/ampl/bdist.linux-x86_64/wheel/atomsci/ddm\n",
            "copying atomsci/ddm/data/descriptor_sets_sources_by_descr_type.csv -> /content/github/AMPL.build/ampl/bdist.linux-x86_64/wheel/atomsci/ddm/data\n",
            "copying atomsci/ddm/utils/data_curation_functions.py -> /content/github/AMPL.build/ampl/bdist.linux-x86_64/wheel/atomsci/ddm/utils\n",
            "copying atomsci/ddm/utils/process_slurm.py -> /content/github/AMPL.build/ampl/bdist.linux-x86_64/wheel/atomsci/ddm/utils\n",
            "copying atomsci/ddm/utils/hyperparam_search_wrapper.py -> /content/github/AMPL.build/ampl/bdist.linux-x86_64/wheel/atomsci/ddm/utils\n",
            "copying atomsci/ddm/utils/struct_utils.py -> /content/github/AMPL.build/ampl/bdist.linux-x86_64/wheel/atomsci/ddm/utils\n",
            "copying atomsci/ddm/utils/pubchem_utils.py -> /content/github/AMPL.build/ampl/bdist.linux-x86_64/wheel/atomsci/ddm/utils\n",
            "copying atomsci/ddm/utils/rdkit_easy.py -> /content/github/AMPL.build/ampl/bdist.linux-x86_64/wheel/atomsci/ddm/utils\n",
            "copying atomsci/ddm/utils/llnl_utils.py -> /content/github/AMPL.build/ampl/bdist.linux-x86_64/wheel/atomsci/ddm/utils\n",
            "copying atomsci/ddm/utils/genTestset.py -> /content/github/AMPL.build/ampl/bdist.linux-x86_64/wheel/atomsci/ddm/utils\n",
            "copying atomsci/ddm/utils/open-docs.py -> /content/github/AMPL.build/ampl/bdist.linux-x86_64/wheel/atomsci/ddm/utils\n",
            "copying atomsci/ddm/utils/curate_data.py -> /content/github/AMPL.build/ampl/bdist.linux-x86_64/wheel/atomsci/ddm/utils\n",
            "copying atomsci/ddm/utils/__init__.py -> /content/github/AMPL.build/ampl/bdist.linux-x86_64/wheel/atomsci/ddm/utils\n",
            "copying atomsci/ddm/utils/datastore_functions.py -> /content/github/AMPL.build/ampl/bdist.linux-x86_64/wheel/atomsci/ddm/utils\n",
            "copying atomsci/ddm/pipeline/model_wrapper.py -> /content/github/AMPL.build/ampl/bdist.linux-x86_64/wheel/atomsci/ddm/pipeline\n",
            "copying atomsci/ddm/pipeline/predict_from_model.py -> /content/github/AMPL.build/ampl/bdist.linux-x86_64/wheel/atomsci/ddm/pipeline\n",
            "copying atomsci/ddm/pipeline/diversity_plots.py -> /content/github/AMPL.build/ampl/bdist.linux-x86_64/wheel/atomsci/ddm/pipeline\n",
            "copying atomsci/ddm/pipeline/dist_metrics.py -> /content/github/AMPL.build/ampl/bdist.linux-x86_64/wheel/atomsci/ddm/pipeline\n",
            "copying atomsci/ddm/pipeline/perf_data.py -> /content/github/AMPL.build/ampl/bdist.linux-x86_64/wheel/atomsci/ddm/pipeline\n",
            "copying atomsci/ddm/pipeline/featurization.py -> /content/github/AMPL.build/ampl/bdist.linux-x86_64/wheel/atomsci/ddm/pipeline\n",
            "copying atomsci/ddm/pipeline/model_pipeline.py -> /content/github/AMPL.build/ampl/bdist.linux-x86_64/wheel/atomsci/ddm/pipeline\n",
            "copying atomsci/ddm/pipeline/transformations.py -> /content/github/AMPL.build/ampl/bdist.linux-x86_64/wheel/atomsci/ddm/pipeline\n",
            "copying atomsci/ddm/pipeline/model_datasets.py -> /content/github/AMPL.build/ampl/bdist.linux-x86_64/wheel/atomsci/ddm/pipeline\n",
            "copying atomsci/ddm/pipeline/compare_models.py -> /content/github/AMPL.build/ampl/bdist.linux-x86_64/wheel/atomsci/ddm/pipeline\n",
            "copying atomsci/ddm/pipeline/chem_diversity.py -> /content/github/AMPL.build/ampl/bdist.linux-x86_64/wheel/atomsci/ddm/pipeline\n",
            "copying atomsci/ddm/pipeline/splitting.py -> /content/github/AMPL.build/ampl/bdist.linux-x86_64/wheel/atomsci/ddm/pipeline\n",
            "copying atomsci/ddm/pipeline/ave_splitter.py -> /content/github/AMPL.build/ampl/bdist.linux-x86_64/wheel/atomsci/ddm/pipeline\n",
            "copying atomsci/ddm/pipeline/temporal_splitter.py -> /content/github/AMPL.build/ampl/bdist.linux-x86_64/wheel/atomsci/ddm/pipeline\n",
            "copying atomsci/ddm/pipeline/hyper_perf_plots.py -> /content/github/AMPL.build/ampl/bdist.linux-x86_64/wheel/atomsci/ddm/pipeline\n",
            "copying atomsci/ddm/pipeline/model_tracker.py -> /content/github/AMPL.build/ampl/bdist.linux-x86_64/wheel/atomsci/ddm/pipeline\n",
            "copying atomsci/ddm/pipeline/perf_plots.py -> /content/github/AMPL.build/ampl/bdist.linux-x86_64/wheel/atomsci/ddm/pipeline\n",
            "copying atomsci/ddm/pipeline/__init__.py -> /content/github/AMPL.build/ampl/bdist.linux-x86_64/wheel/atomsci/ddm/pipeline\n",
            "copying atomsci/ddm/pipeline/parameter_parser.py -> /content/github/AMPL.build/ampl/bdist.linux-x86_64/wheel/atomsci/ddm/pipeline\n",
            "running install_egg_info\n",
            "Copying /content/github/AMPL.build/ampl/atomsci_ampl.egg-info to /content/github/AMPL.build/ampl/bdist.linux-x86_64/wheel/atomsci_ampl-1.0.0.dev1-py3.6.egg-info\n",
            "Installing /content/github/AMPL.build/ampl/bdist.linux-x86_64/wheel/atomsci_ampl-1.0.0.dev1-py3.6-nspkg.pth\n",
            "running install_scripts\n",
            "adding license file \"LICENSE\" (matched pattern \"LICEN[CS]E*\")\n",
            "adding license file \"NOTICE\" (matched pattern \"NOTICE*\")\n",
            "creating /content/github/AMPL.build/ampl/bdist.linux-x86_64/wheel/atomsci_ampl-1.0.0.dev1.dist-info/WHEEL\n",
            "creating '/content/github/AMPL.dist/atomsci_ampl-1.0.0.dev1-py3-none-any.whl' and adding '/content/github/AMPL.build/ampl/bdist.linux-x86_64/wheel' to it\n",
            "adding 'atomsci_ampl-1.0.0.dev1-py3.6-nspkg.pth'\n",
            "adding 'atomsci/ddm/__init__.py'\n",
            "adding 'atomsci/ddm/data/descriptor_sets_sources_by_descr_type.csv'\n",
            "adding 'atomsci/ddm/pipeline/__init__.py'\n",
            "adding 'atomsci/ddm/pipeline/ave_splitter.py'\n",
            "adding 'atomsci/ddm/pipeline/chem_diversity.py'\n",
            "adding 'atomsci/ddm/pipeline/compare_models.py'\n",
            "adding 'atomsci/ddm/pipeline/dist_metrics.py'\n",
            "adding 'atomsci/ddm/pipeline/diversity_plots.py'\n",
            "adding 'atomsci/ddm/pipeline/featurization.py'\n",
            "adding 'atomsci/ddm/pipeline/hyper_perf_plots.py'\n",
            "adding 'atomsci/ddm/pipeline/model_datasets.py'\n",
            "adding 'atomsci/ddm/pipeline/model_pipeline.py'\n",
            "adding 'atomsci/ddm/pipeline/model_tracker.py'\n",
            "adding 'atomsci/ddm/pipeline/model_wrapper.py'\n",
            "adding 'atomsci/ddm/pipeline/parameter_parser.py'\n",
            "adding 'atomsci/ddm/pipeline/perf_data.py'\n",
            "adding 'atomsci/ddm/pipeline/perf_plots.py'\n",
            "adding 'atomsci/ddm/pipeline/predict_from_model.py'\n",
            "adding 'atomsci/ddm/pipeline/splitting.py'\n",
            "adding 'atomsci/ddm/pipeline/temporal_splitter.py'\n",
            "adding 'atomsci/ddm/pipeline/transformations.py'\n",
            "adding 'atomsci/ddm/utils/__init__.py'\n",
            "adding 'atomsci/ddm/utils/curate_data.py'\n",
            "adding 'atomsci/ddm/utils/data_curation_functions.py'\n",
            "adding 'atomsci/ddm/utils/datastore_functions.py'\n",
            "adding 'atomsci/ddm/utils/genTestset.py'\n",
            "adding 'atomsci/ddm/utils/hyperparam_search_wrapper.py'\n",
            "adding 'atomsci/ddm/utils/llnl_utils.py'\n",
            "adding 'atomsci/ddm/utils/open-docs.py'\n",
            "adding 'atomsci/ddm/utils/process_slurm.py'\n",
            "adding 'atomsci/ddm/utils/pubchem_utils.py'\n",
            "adding 'atomsci/ddm/utils/rdkit_easy.py'\n",
            "adding 'atomsci/ddm/utils/struct_utils.py'\n",
            "adding 'atomsci_ampl-1.0.0.dev1.dist-info/LICENSE'\n",
            "adding 'atomsci_ampl-1.0.0.dev1.dist-info/METADATA'\n",
            "adding 'atomsci_ampl-1.0.0.dev1.dist-info/NOTICE'\n",
            "adding 'atomsci_ampl-1.0.0.dev1.dist-info/WHEEL'\n",
            "adding 'atomsci_ampl-1.0.0.dev1.dist-info/namespace_packages.txt'\n",
            "adding 'atomsci_ampl-1.0.0.dev1.dist-info/top_level.txt'\n",
            "adding 'atomsci_ampl-1.0.0.dev1.dist-info/RECORD'\n",
            "removing /content/github/AMPL.build/ampl/bdist.linux-x86_64/wheel\n",
            "DIR: /content/github/AMPL\n",
            "Non-user install because site-packages writeable\n",
            "Ignoring indexes: https://pypi.org/simple\n",
            "Created temporary directory: /tmp/pip-ephem-wheel-cache-cvk9o0v9\n",
            "Created temporary directory: /tmp/pip-req-tracker-nzow5bnr\n",
            "Initialized build tracking at /tmp/pip-req-tracker-nzow5bnr\n",
            "Created build tracker: /tmp/pip-req-tracker-nzow5bnr\n",
            "Entered build tracker: /tmp/pip-req-tracker-nzow5bnr\n",
            "Created temporary directory: /tmp/pip-install-656_n31g\n",
            "Looking in links: /content/github/AMPL.dist\n",
            "0 location(s) to search for versions of atomsci-ampl:\n",
            "Skipping link: unsupported archive format: .dist: /content/github/AMPL.dist (from -f)\n",
            "Found link file:///content/github/AMPL.dist/atomsci_ampl-1.0.0.dev1-py3-none-any.whl, version: 1.0.0.dev1\n",
            "Local files found: /content/github/AMPL.dist/atomsci_ampl-1.0.0.dev1-py3-none-any.whl\n",
            "Given no hashes to check 1 links for project 'atomsci-ampl': discarding no candidates\n",
            "Using version 1.0.0.dev1 (newest of versions: 1.0.0.dev1)\n",
            "Processing /content/github/AMPL.dist/atomsci_ampl-1.0.0.dev1-py3-none-any.whl\n",
            "  Added atomsci_ampl from file:///content/github/AMPL.dist/atomsci_ampl-1.0.0.dev1-py3-none-any.whl to build tracker '/tmp/pip-req-tracker-nzow5bnr'\n",
            "  Removed atomsci_ampl from file:///content/github/AMPL.dist/atomsci_ampl-1.0.0.dev1-py3-none-any.whl from build tracker '/tmp/pip-req-tracker-nzow5bnr'\n",
            "Installing collected packages: atomsci-ampl\n",
            "  Created temporary directory: /tmp/pip-unpacked-wheel-mf5r2sbg\n",
            "\n",
            "Successfully installed atomsci-ampl-1.0.0.dev1\n",
            "Removed build tracker: '/tmp/pip-req-tracker-nzow5bnr'\n",
            "\n",
            "real\t2m42.477s\n",
            "user\t2m0.745s\n",
            "sys\t0m22.119s\n"
          ],
          "name": "stdout"
        },
        {
          "output_type": "execute_result",
          "data": {
            "text/plain": [
              "['',\n",
              " '/content/AMPL/lib/python3.6/site-packages',\n",
              " '/env/python',\n",
              " '/usr/lib/python36.zip',\n",
              " '/usr/lib/python3.6',\n",
              " '/usr/lib/python3.6/lib-dynload',\n",
              " '/usr/local/lib/python3.6/dist-packages',\n",
              " '/usr/lib/python3/dist-packages',\n",
              " '/usr/local/lib/python3.6/dist-packages/IPython/extensions',\n",
              " '/root/.ipython']"
            ]
          },
          "metadata": {
            "tags": []
          },
          "execution_count": 2
        }
      ]
    },
    {
      "cell_type": "markdown",
      "metadata": {
        "id": "ficxcAXp3MDR"
      },
      "source": [
        "## Exploring target activity data from selected database\r\n",
        "## Data source = ExcapeDB\r\n",
        "## Target activity for the receptor HTR3A"
      ]
    },
    {
      "cell_type": "code",
      "metadata": {
        "id": "VVckfG8S3LRy"
      },
      "source": [
        "# There is a problem with the previously imported cffi, so delete it and \r\n",
        "# load it with AMPL instead\r\n",
        "if 'cffi' in sys.modules:\r\n",
        "  del sys.modules['cffi']"
      ],
      "execution_count": null,
      "outputs": []
    },
    {
      "cell_type": "code",
      "metadata": {
        "id": "imuHt43N3WZ1"
      },
      "source": [
        "# We temporarily disable warnings for demonstration.\r\n",
        "# FutureWarnings and DeprecationWarnings are present from some of the AMPL \r\n",
        "# dependency modules.\r\n",
        "import warnings\r\n",
        "warnings.filterwarnings('ignore')\r\n",
        "\r\n",
        "import json\r\n",
        "# import numpy as np\r\n",
        "# import pandas as pd\r\n",
        "import os\r\n",
        "import requests"
      ],
      "execution_count": null,
      "outputs": []
    },
    {
      "cell_type": "code",
      "metadata": {
        "colab": {
          "base_uri": "https://localhost:8080/"
        },
        "id": "cgWpnMWG3aBS",
        "outputId": "7521c99b-66fe-49f8-c673-6853ab3692d6"
      },
      "source": [
        "#\r\n",
        "# Import AMPL libraries\r\n",
        "# \r\n",
        "import atomsci.ddm.utils.data_curation_functions as dcf\r\n",
        "import atomsci.ddm.utils.curate_data as curate_data\r\n",
        "import atomsci.ddm.pipeline.diversity_plots as dp\r\n",
        "import atomsci.ddm.pipeline.chem_diversity as cd\r\n",
        "# Additional python libraries\r\n",
        "import pandas as pd\r\n",
        "import numpy as np\r\n",
        "import getpass,os"
      ],
      "execution_count": null,
      "outputs": [
        {
          "output_type": "stream",
          "text": [
            "/content/AMPL/lib/python3.6/site-packages/sklearn/ensemble/weight_boosting.py:29: DeprecationWarning: numpy.core.umath_tests is an internal NumPy module and should not be imported. It will be removed in a future NumPy release.\n",
            "  from numpy.core.umath_tests import inner1d\n"
          ],
          "name": "stderr"
        }
      ]
    },
    {
      "cell_type": "code",
      "metadata": {
        "id": "DNrJZc8TXcVY"
      },
      "source": [
        "from matplotlib_venn import venn2\n",
        "import getpass, os\n",
        "import pandas as pd\n",
        "import matplotlib.pyplot as plt\n",
        "import atomsci.ddm.utils.curate_data as curate_data\n",
        "import atomsci.ddm.pipeline.chem_diversity as cd"
      ],
      "execution_count": null,
      "outputs": []
    },
    {
      "cell_type": "markdown",
      "metadata": {
        "id": "IHs9W--43e47"
      },
      "source": [
        "## Select a target to work with \r\n",
        "### (e.g. PDE2A, KCNH2, SCNA5)"
      ]
    },
    {
      "cell_type": "code",
      "metadata": {
        "id": "Woten-IlXcVf"
      },
      "source": [
        "target_name='HTR3A'"
      ],
      "execution_count": null,
      "outputs": []
    },
    {
      "cell_type": "code",
      "metadata": {
        "id": "-1QfIZYJ8-bT"
      },
      "source": [
        "import io\r\n",
        "url2 = 'https://raw.githubusercontent.com/ravichas/AMPL-Tutorial/master/datasets/HTR3A_excape_curated.csv'\r\n",
        "download = requests.get(url2).content\r\n",
        "\r\n",
        "# Reading the downloaded content and turning it into a pandas dataframe\r\n",
        "d2_df = pd.read_csv(io.StringIO(download.decode('utf-8')), sep=',', header=0 )\r\n",
        "\r\n",
        "url1 = 'https://raw.githubusercontent.com/ravichas/AMPL-Tutorial/master/datasets/HTR3A_dtc_smiles_curated.csv'\r\n",
        "download = requests.get(url1).content\r\n",
        "# Reading the downloaded content and turning it into a pandas dataframe\r\n",
        "d1_df = pd.read_csv(io.StringIO(download.decode('utf-8')), sep=',', header=0 )"
      ],
      "execution_count": null,
      "outputs": []
    },
    {
      "cell_type": "code",
      "metadata": {
        "id": "hmOMx5dzXcVg"
      },
      "source": [
        "# #get username so that people don't overwrite others work\n",
        "# username = getpass.getuser()\n",
        "# ## make sure there's a valid username\n",
        "# assert username != ''\n",
        "# val=os.getenv(\"USER\")\n",
        "# assert val == username\n",
        "\n",
        "# #A local example\n",
        "# input_dir='/Users/allen99/Documents/dev/AMPL/atomsci/ddm/examples/data_curation/'\n",
        "# tmp_dir='/Users/allen99/Documents/dev/AMPL/atomsci/ddm/examples/data_curation/'\n",
        "\n",
        "# #On Scholar site\n",
        "# #input_dir='/class/datamine/corporate/llnl/ExcapeDB/'\n",
        "# #tmp_dir='/class/datamine/corporate/llnl/DataCuration/tmp/'\n",
        "# # make sure username is consistent\n",
        "# #Final output will go in another directory\n",
        "# #output_dir='/class/datamine/corporate/llnl/DataCuration/'"
      ],
      "execution_count": null,
      "outputs": []
    },
    {
      "cell_type": "code",
      "metadata": {
        "id": "z7de1z3pXcVg"
      },
      "source": [
        "# d1_file = target_name+'_dtc_smiles_curated.csv'\n",
        "# d2_file = target_name+'_excape_curated.csv'\n",
        "# d1_df=pd.read_csv(d1_file)\n",
        "# d2_df=pd.read_csv(d2_file)"
      ],
      "execution_count": null,
      "outputs": []
    },
    {
      "cell_type": "code",
      "metadata": {
        "colab": {
          "base_uri": "https://localhost:8080/"
        },
        "id": "y8mqsOsV-k2t",
        "outputId": "a298f1cc-bf59-4ce1-e4b3-7840c5a47988"
      },
      "source": [
        "d1a_df=d1_df.drop(columns=['relation'])\r\n",
        "d1a_df.rename( columns={ \"base_rdkit_smiles\" : \"rdkit_smiles\" }, inplace=True)\r\n",
        "print(d1a_df.columns)"
      ],
      "execution_count": null,
      "outputs": [
        {
          "output_type": "stream",
          "text": [
            "Index(['compound_id', 'rdkit_smiles', 'PIC50', 'active'], dtype='object')\n"
          ],
          "name": "stdout"
        }
      ]
    },
    {
      "cell_type": "code",
      "metadata": {
        "id": "mNTjPHaUXcVh",
        "colab": {
          "base_uri": "https://localhost:8080/"
        },
        "outputId": "216b177d-fe16-4be4-a627-6155095f099b"
      },
      "source": [
        "d2a_df=d2_df.drop(columns=['Original_Entry_ID', 'Entrez_ID','PXC50', 'DB', \n",
        "                           'Original_Assay_ID', 'Tax_ID', 'Gene_Symbol',\n",
        "                           'VALUE_NUM_std', 'Perc_Var', 'Remove_BadDuplicate',\n",
        "                           'Ortholog_Group', 'InChI', 'SMILES'])\n",
        "d2a_df.rename( columns={ \"Activity_Flag\" : \"active\", \"VALUE_NUM_mean\": \"PXC50\" }, \n",
        "              inplace=True)\n",
        "\n",
        "\n",
        "print(d2a_df.columns)"
      ],
      "execution_count": null,
      "outputs": [
        {
          "output_type": "stream",
          "text": [
            "Index(['compound_id', 'active', 'rdkit_smiles', 'PXC50'], dtype='object')\n"
          ],
          "name": "stdout"
        }
      ]
    },
    {
      "cell_type": "code",
      "metadata": {
        "id": "VF3tJ_pgAJAK"
      },
      "source": [
        "d1a_df.rename( columns={\"PIC50\" : \"PXC50\"}, inplace = True)"
      ],
      "execution_count": null,
      "outputs": []
    },
    {
      "cell_type": "code",
      "metadata": {
        "colab": {
          "base_uri": "https://localhost:8080/",
          "height": 642
        },
        "id": "xJ4KnjSuAMQT",
        "outputId": "0b3820eb-dbcc-4351-c9b2-68cdb08153bd"
      },
      "source": [
        "d2_df"
      ],
      "execution_count": null,
      "outputs": [
        {
          "output_type": "execute_result",
          "data": {
            "text/html": [
              "<div>\n",
              "<style scoped>\n",
              "    .dataframe tbody tr th:only-of-type {\n",
              "        vertical-align: middle;\n",
              "    }\n",
              "\n",
              "    .dataframe tbody tr th {\n",
              "        vertical-align: top;\n",
              "    }\n",
              "\n",
              "    .dataframe thead th {\n",
              "        text-align: right;\n",
              "    }\n",
              "</style>\n",
              "<table border=\"1\" class=\"dataframe\">\n",
              "  <thead>\n",
              "    <tr style=\"text-align: right;\">\n",
              "      <th></th>\n",
              "      <th>compound_id</th>\n",
              "      <th>Original_Entry_ID</th>\n",
              "      <th>Entrez_ID</th>\n",
              "      <th>Activity_Flag</th>\n",
              "      <th>PXC50</th>\n",
              "      <th>DB</th>\n",
              "      <th>Original_Assay_ID</th>\n",
              "      <th>Tax_ID</th>\n",
              "      <th>Gene_Symbol</th>\n",
              "      <th>Ortholog_Group</th>\n",
              "      <th>InChI</th>\n",
              "      <th>SMILES</th>\n",
              "      <th>rdkit_smiles</th>\n",
              "      <th>VALUE_NUM_mean</th>\n",
              "      <th>VALUE_NUM_std</th>\n",
              "      <th>Perc_Var</th>\n",
              "      <th>Remove_BadDuplicate</th>\n",
              "    </tr>\n",
              "  </thead>\n",
              "  <tbody>\n",
              "    <tr>\n",
              "      <th>0</th>\n",
              "      <td>ABIDZKZAFOTHFB-CCUGXXBONA-N</td>\n",
              "      <td>CHEMBL1271790</td>\n",
              "      <td>3359</td>\n",
              "      <td>A</td>\n",
              "      <td>8.17000</td>\n",
              "      <td>chembl20</td>\n",
              "      <td>674333</td>\n",
              "      <td>9606</td>\n",
              "      <td>HTR3A</td>\n",
              "      <td>2102</td>\n",
              "      <td>InChI=1/C21H28N4O3/c1-13-11-27-12-14(2)25(13)2...</td>\n",
              "      <td>C1C2CCN(C1)C[C@H]2NC(C3=C4N=C(OC4=CC=C3)N5[C@H...</td>\n",
              "      <td>C[C@H]1COC[C@H](C)N1c1nc2c(C(=O)N[C@@H]3CN4CCC...</td>\n",
              "      <td>8.170000</td>\n",
              "      <td>NaN</td>\n",
              "      <td>0.000000</td>\n",
              "      <td>0</td>\n",
              "    </tr>\n",
              "    <tr>\n",
              "      <th>1</th>\n",
              "      <td>ABSDJNLAUZQHJY-UHFFFAOYNA-N</td>\n",
              "      <td>CHEMBL2205048</td>\n",
              "      <td>3359</td>\n",
              "      <td>A</td>\n",
              "      <td>7.21000</td>\n",
              "      <td>chembl20</td>\n",
              "      <td>880265</td>\n",
              "      <td>9606</td>\n",
              "      <td>HTR3A</td>\n",
              "      <td>2102</td>\n",
              "      <td>InChI=1/C17H20N2OS/c1-20-14-5-4-6-15(13-14)21-...</td>\n",
              "      <td>N1(CCNCC1)C=2C(=CC=CC2)SC=3C=C(C=CC3)OC</td>\n",
              "      <td>COc1cccc(Sc2ccccc2N2CCNCC2)c1</td>\n",
              "      <td>7.210000</td>\n",
              "      <td>NaN</td>\n",
              "      <td>0.000000</td>\n",
              "      <td>0</td>\n",
              "    </tr>\n",
              "    <tr>\n",
              "      <th>2</th>\n",
              "      <td>ACKJXXOVSOCBPX-PHLAQJRANA-N</td>\n",
              "      <td>11376655</td>\n",
              "      <td>79246</td>\n",
              "      <td>A</td>\n",
              "      <td>8.25181</td>\n",
              "      <td>pubchem</td>\n",
              "      <td>652569</td>\n",
              "      <td>10116</td>\n",
              "      <td>HTR3A</td>\n",
              "      <td>2102</td>\n",
              "      <td>InChI=1/C36H46N6O/c1-26-33(27-14-6-9-17-30(27)...</td>\n",
              "      <td>O=C(NCCCCCCCNC=1C=2CCCCC2N=C3C1C=CC=C3)C4=C(C(...</td>\n",
              "      <td>Cc1c(N2CCN(C)CC2)nc2ccccc2c1C(=O)NCCCCCCCNc1c2...</td>\n",
              "      <td>8.250905</td>\n",
              "      <td>0.00128</td>\n",
              "      <td>0.010968</td>\n",
              "      <td>0</td>\n",
              "    </tr>\n",
              "    <tr>\n",
              "      <th>3</th>\n",
              "      <td>ADYMTDFOOCWUHC-UHFFFAOYNA-N</td>\n",
              "      <td>CHEMBL305582</td>\n",
              "      <td>3359</td>\n",
              "      <td>A</td>\n",
              "      <td>8.13000</td>\n",
              "      <td>chembl20</td>\n",
              "      <td>3480</td>\n",
              "      <td>9606</td>\n",
              "      <td>HTR3A</td>\n",
              "      <td>2102</td>\n",
              "      <td>InChI=1/C19H22N4/c1-2-6-16(7-3-1)10-13-23-18-9...</td>\n",
              "      <td>C=1(N(C2=CC=CC=C2N1)CCC3=CC=CC=C3)N4CCNCC4</td>\n",
              "      <td>c1ccc(CCn2c(N3CCNCC3)nc3ccccc32)cc1</td>\n",
              "      <td>8.130000</td>\n",
              "      <td>NaN</td>\n",
              "      <td>0.000000</td>\n",
              "      <td>0</td>\n",
              "    </tr>\n",
              "    <tr>\n",
              "      <th>4</th>\n",
              "      <td>AFLJKKMTBWNZFE-KAASGWQYNA-N</td>\n",
              "      <td>CHEMBL378349</td>\n",
              "      <td>3359</td>\n",
              "      <td>A</td>\n",
              "      <td>6.76000</td>\n",
              "      <td>chembl20</td>\n",
              "      <td>851152</td>\n",
              "      <td>9606</td>\n",
              "      <td>HTR3A</td>\n",
              "      <td>2102</td>\n",
              "      <td>InChI=1/C16H18N2OS/c19-16(13-2-1-12-5-8-20-15(...</td>\n",
              "      <td>C1N2CCC([C@@H](NC(C3=CC4=C(C=C3)C=CS4)=O)C2)C1</td>\n",
              "      <td>O=C(N[C@H]1CN2CCC1CC2)c1ccc2ccsc2c1</td>\n",
              "      <td>6.760000</td>\n",
              "      <td>NaN</td>\n",
              "      <td>0.000000</td>\n",
              "      <td>0</td>\n",
              "    </tr>\n",
              "    <tr>\n",
              "      <th>...</th>\n",
              "      <td>...</td>\n",
              "      <td>...</td>\n",
              "      <td>...</td>\n",
              "      <td>...</td>\n",
              "      <td>...</td>\n",
              "      <td>...</td>\n",
              "      <td>...</td>\n",
              "      <td>...</td>\n",
              "      <td>...</td>\n",
              "      <td>...</td>\n",
              "      <td>...</td>\n",
              "      <td>...</td>\n",
              "      <td>...</td>\n",
              "      <td>...</td>\n",
              "      <td>...</td>\n",
              "      <td>...</td>\n",
              "      <td>...</td>\n",
              "    </tr>\n",
              "    <tr>\n",
              "      <th>591</th>\n",
              "      <td>ZTOYBNWVJQYBOX-KKBRQIQINA-N</td>\n",
              "      <td>CHEMBL3084772</td>\n",
              "      <td>3359</td>\n",
              "      <td>A</td>\n",
              "      <td>7.14000</td>\n",
              "      <td>chembl20</td>\n",
              "      <td>674333</td>\n",
              "      <td>9606</td>\n",
              "      <td>HTR3A</td>\n",
              "      <td>2102</td>\n",
              "      <td>InChI=1/C21H29N5O2/c1-25-15-4-2-5-16(25)13-14(...</td>\n",
              "      <td>[C@@H]12N([C@@H](C[C@H](C1)NC(C3=C4C(OC(=N4)N5...</td>\n",
              "      <td>CN1[C@H]2CCC[C@@H]1C[C@@H](NC(=O)c1cccc3oc(N4C...</td>\n",
              "      <td>7.140000</td>\n",
              "      <td>NaN</td>\n",
              "      <td>0.000000</td>\n",
              "      <td>0</td>\n",
              "    </tr>\n",
              "    <tr>\n",
              "      <th>592</th>\n",
              "      <td>ZUFRPGFBOPXENO-UHFFFAOYNA-N</td>\n",
              "      <td>CHEMBL1278175</td>\n",
              "      <td>3359</td>\n",
              "      <td>A</td>\n",
              "      <td>7.32000</td>\n",
              "      <td>chembl20</td>\n",
              "      <td>684849</td>\n",
              "      <td>9606</td>\n",
              "      <td>HTR3A</td>\n",
              "      <td>2102</td>\n",
              "      <td>InChI=1/C26H34N6O/c1-19-9-11-23-21(18-19)26(33...</td>\n",
              "      <td>N=1C(N(C(C2CC(CCC12)C)=O)N)=CCCCN3CCN(CC3)C=4N...</td>\n",
              "      <td>CC1CCC2=NC(=CCCCN3CCN(c4ccc5ccccc5n4)CC3)N(N)C...</td>\n",
              "      <td>7.320000</td>\n",
              "      <td>NaN</td>\n",
              "      <td>0.000000</td>\n",
              "      <td>0</td>\n",
              "    </tr>\n",
              "    <tr>\n",
              "      <th>593</th>\n",
              "      <td>ZXDOWRQWHIUDFJ-ALLFDXPCNA-N</td>\n",
              "      <td>76313441</td>\n",
              "      <td>3359</td>\n",
              "      <td>A</td>\n",
              "      <td>7.39362</td>\n",
              "      <td>pubchem</td>\n",
              "      <td>526452</td>\n",
              "      <td>9606</td>\n",
              "      <td>HTR3A</td>\n",
              "      <td>2102</td>\n",
              "      <td>InChI=1/C23H25N3O2/c1-26-17-9-5-10-18(26)14-16...</td>\n",
              "      <td>O=C(NC1C[C@@H]2N([C@H](C1)CCC2)C)C3=C4OC(=NC4=...</td>\n",
              "      <td>CN1[C@H]2CCC[C@@H]1CC(NC(=O)c1cccc3nc(-c4ccccc...</td>\n",
              "      <td>7.393620</td>\n",
              "      <td>NaN</td>\n",
              "      <td>0.000000</td>\n",
              "      <td>0</td>\n",
              "    </tr>\n",
              "    <tr>\n",
              "      <th>594</th>\n",
              "      <td>ZXDOWRQWHIUDFJ-JJVVVXOKNA-N</td>\n",
              "      <td>CHEMBL3084783</td>\n",
              "      <td>3359</td>\n",
              "      <td>A</td>\n",
              "      <td>7.39000</td>\n",
              "      <td>chembl20</td>\n",
              "      <td>674333</td>\n",
              "      <td>9606</td>\n",
              "      <td>HTR3A</td>\n",
              "      <td>2102</td>\n",
              "      <td>InChI=1/C23H25N3O2/c1-26-17-9-5-10-18(26)14-16...</td>\n",
              "      <td>[C@@H]12N([C@@H](C[C@H](C1)NC(C3=C4C(N=C(O4)C=...</td>\n",
              "      <td>CN1[C@H]2CCC[C@@H]1C[C@@H](NC(=O)c1cccc3nc(-c4...</td>\n",
              "      <td>7.390000</td>\n",
              "      <td>NaN</td>\n",
              "      <td>0.000000</td>\n",
              "      <td>0</td>\n",
              "    </tr>\n",
              "    <tr>\n",
              "      <th>595</th>\n",
              "      <td>ZXEGJFBTERHJCI-UHFFFAOYNA-N</td>\n",
              "      <td>CHEMBL1278088</td>\n",
              "      <td>3359</td>\n",
              "      <td>A</td>\n",
              "      <td>8.33000</td>\n",
              "      <td>chembl20</td>\n",
              "      <td>684895</td>\n",
              "      <td>9606</td>\n",
              "      <td>HTR3A</td>\n",
              "      <td>2102</td>\n",
              "      <td>InChI=1/C25H32N6O/c26-31-24(28-22-10-4-2-8-20(...</td>\n",
              "      <td>N=1C(N(C(C2CCCCC12)=O)N)=CCCCN3CCN(CC3)C=4N=C5...</td>\n",
              "      <td>NN1C(=O)C2CCCCC2=NC1=CCCCN1CCN(c2ccc3ccccc3n2)CC1</td>\n",
              "      <td>8.330000</td>\n",
              "      <td>NaN</td>\n",
              "      <td>0.000000</td>\n",
              "      <td>0</td>\n",
              "    </tr>\n",
              "  </tbody>\n",
              "</table>\n",
              "<p>596 rows × 17 columns</p>\n",
              "</div>"
            ],
            "text/plain": [
              "                     compound_id  ... Remove_BadDuplicate\n",
              "0    ABIDZKZAFOTHFB-CCUGXXBONA-N  ...                   0\n",
              "1    ABSDJNLAUZQHJY-UHFFFAOYNA-N  ...                   0\n",
              "2    ACKJXXOVSOCBPX-PHLAQJRANA-N  ...                   0\n",
              "3    ADYMTDFOOCWUHC-UHFFFAOYNA-N  ...                   0\n",
              "4    AFLJKKMTBWNZFE-KAASGWQYNA-N  ...                   0\n",
              "..                           ...  ...                 ...\n",
              "591  ZTOYBNWVJQYBOX-KKBRQIQINA-N  ...                   0\n",
              "592  ZUFRPGFBOPXENO-UHFFFAOYNA-N  ...                   0\n",
              "593  ZXDOWRQWHIUDFJ-ALLFDXPCNA-N  ...                   0\n",
              "594  ZXDOWRQWHIUDFJ-JJVVVXOKNA-N  ...                   0\n",
              "595  ZXEGJFBTERHJCI-UHFFFAOYNA-N  ...                   0\n",
              "\n",
              "[596 rows x 17 columns]"
            ]
          },
          "metadata": {
            "tags": []
          },
          "execution_count": 24
        }
      ]
    },
    {
      "cell_type": "code",
      "metadata": {
        "id": "LDLfLfCmXcVj",
        "colab": {
          "base_uri": "https://localhost:8080/",
          "height": 285
        },
        "outputId": "6f6086da-458d-42bc-ee02-c85549010c76"
      },
      "source": [
        "# Plot venn3 distribution \n",
        "d1_s = d1a_df['rdkit_smiles'].tolist()\n",
        "d2_s = d2a_df['rdkit_smiles'].tolist()\n",
        "#display(d1_s)\n",
        "#display(d2_s)\n",
        "dlst = [set(d1_s),set(d2_s)]\n",
        "\n",
        "fig = plt.figure()\n",
        "venn2(dlst, ('DTC', 'Excape'))\n",
        "plt.title(target_name)\n",
        "#fig.savefig('./plots/'+target_name+'_union_venn.png')\n",
        "#fig"
      ],
      "execution_count": null,
      "outputs": [
        {
          "output_type": "execute_result",
          "data": {
            "text/plain": [
              "Text(0.5, 1.0, 'HTR3A')"
            ]
          },
          "metadata": {
            "tags": []
          },
          "execution_count": 25
        },
        {
          "output_type": "display_data",
          "data": {
            "image/png": "[encoded data removed]",
            "text/plain": [
              "<Figure size 432x288 with 1 Axes>"
            ]
          },
          "metadata": {
            "tags": []
          }
        }
      ]
    },
    {
      "cell_type": "markdown",
      "metadata": {
        "id": "9yJZEzXV_MDK"
      },
      "source": [
        "## Combine d1a_df and d2a_df dataframes "
      ]
    },
    {
      "cell_type": "code",
      "metadata": {
        "id": "Kg5Ym1khXcVk"
      },
      "source": [
        "comb_df=pd.concat([d1a_df, d2a_df])"
      ],
      "execution_count": null,
      "outputs": []
    },
    {
      "cell_type": "code",
      "metadata": {
        "colab": {
          "base_uri": "https://localhost:8080/"
        },
        "id": "LPHoZLGS_3dd",
        "outputId": "f48689cb-0deb-488f-d3c7-4aa89262a139"
      },
      "source": [
        "comb_df.columns"
      ],
      "execution_count": null,
      "outputs": [
        {
          "output_type": "execute_result",
          "data": {
            "text/plain": [
              "Index(['compound_id', 'rdkit_smiles', 'PXC50', 'active'], dtype='object')"
            ]
          },
          "metadata": {
            "tags": []
          },
          "execution_count": 27
        }
      ]
    },
    {
      "cell_type": "code",
      "metadata": {
        "colab": {
          "base_uri": "https://localhost:8080/",
          "height": 203
        },
        "id": "rMAq5teq_-jz",
        "outputId": "ccb170e9-d7d1-48d0-9ce1-ac736034794c"
      },
      "source": [
        "comb_df.head(5)"
      ],
      "execution_count": null,
      "outputs": [
        {
          "output_type": "execute_result",
          "data": {
            "text/html": [
              "<div>\n",
              "<style scoped>\n",
              "    .dataframe tbody tr th:only-of-type {\n",
              "        vertical-align: middle;\n",
              "    }\n",
              "\n",
              "    .dataframe tbody tr th {\n",
              "        vertical-align: top;\n",
              "    }\n",
              "\n",
              "    .dataframe thead th {\n",
              "        text-align: right;\n",
              "    }\n",
              "</style>\n",
              "<table border=\"1\" class=\"dataframe\">\n",
              "  <thead>\n",
              "    <tr style=\"text-align: right;\">\n",
              "      <th></th>\n",
              "      <th>compound_id</th>\n",
              "      <th>rdkit_smiles</th>\n",
              "      <th>PXC50</th>\n",
              "      <th>active</th>\n",
              "    </tr>\n",
              "  </thead>\n",
              "  <tbody>\n",
              "    <tr>\n",
              "      <th>0</th>\n",
              "      <td>WLYLIKBNGQZDFH-UHFFFAOYSA-N</td>\n",
              "      <td>O=C(NCCCN1CCOCC1)c1ccc2c(=O)n(Cc3ccc(Cl)cc3)c(...</td>\n",
              "      <td>5.886057</td>\n",
              "      <td>0</td>\n",
              "    </tr>\n",
              "    <tr>\n",
              "      <th>1</th>\n",
              "      <td>PNHTUMMCJLWVTR-UHFFFAOYSA-N</td>\n",
              "      <td>COc1ccc(-c2cc(NC(=O)CCCCN3CCCOCC3)n[nH]2)cc1</td>\n",
              "      <td>4.522879</td>\n",
              "      <td>0</td>\n",
              "    </tr>\n",
              "    <tr>\n",
              "      <th>2</th>\n",
              "      <td>PYCJRTFNOGPLEL-UHFFFAOYSA-N</td>\n",
              "      <td>Nn1c(CCCCN2CCN(c3ccc4ccccc4n3)CC2)nc2cc(Cl)ccc...</td>\n",
              "      <td>7.000000</td>\n",
              "      <td>1</td>\n",
              "    </tr>\n",
              "    <tr>\n",
              "      <th>3</th>\n",
              "      <td>MMIPHEFKLSFNNB-MWGLOKQDSA-L</td>\n",
              "      <td>COc1ccc(C[N+]23CCC4C5C6C(CC42)C(=CCOC6N2c4cccc...</td>\n",
              "      <td>4.511439</td>\n",
              "      <td>0</td>\n",
              "    </tr>\n",
              "    <tr>\n",
              "      <th>4</th>\n",
              "      <td>PWVBQEUMVVPFJT-UHFFFAOYSA-N</td>\n",
              "      <td>Nn1c(CCCCN2CCN(c3ccc4ccccc4n3)CC2)nc2cc(F)ccc2...</td>\n",
              "      <td>7.000000</td>\n",
              "      <td>1</td>\n",
              "    </tr>\n",
              "  </tbody>\n",
              "</table>\n",
              "</div>"
            ],
            "text/plain": [
              "                   compound_id  ... active\n",
              "0  WLYLIKBNGQZDFH-UHFFFAOYSA-N  ...      0\n",
              "1  PNHTUMMCJLWVTR-UHFFFAOYSA-N  ...      0\n",
              "2  PYCJRTFNOGPLEL-UHFFFAOYSA-N  ...      1\n",
              "3  MMIPHEFKLSFNNB-MWGLOKQDSA-L  ...      0\n",
              "4  PWVBQEUMVVPFJT-UHFFFAOYSA-N  ...      1\n",
              "\n",
              "[5 rows x 4 columns]"
            ]
          },
          "metadata": {
            "tags": []
          },
          "execution_count": 28
        }
      ]
    },
    {
      "cell_type": "code",
      "metadata": {
        "id": "8IccMSvcXcVk",
        "colab": {
          "base_uri": "https://localhost:8080/"
        },
        "outputId": "133624d8-d580-47d7-e2b6-a837c8877abb"
      },
      "source": [
        "ofile=target_name+'_combine_curated.csv'\n",
        "\n",
        "# column: Response values column\n",
        "column = 'PXC50'\n",
        "\n",
        "# tolerance: Percentage of individual respsonse values allowed to different \n",
        "# from the average to be included in averaging\n",
        "tolerance = 10\n",
        "\n",
        "# list_bad_duplicates: Print structures with bad duplicates\n",
        "list_bad_duplicates = 'Yes'\n",
        "\n",
        "# max_std: Maximum allowed standard deviation for computed average response value\n",
        "# NOTE: In this example, we set this value very high to disable this feature\n",
        "max_std = 1\n",
        "\n",
        "# compound_id: Compound ID column\n",
        "compound_id = 'compound_id'\n",
        "\n",
        "# smiles_col: SMILES column\n",
        "smiles_col = 'rdkit_smiles'\n",
        "\n",
        "curated_df = curate_data.average_and_remove_duplicates(column, tolerance, \n",
        "                                                       list_bad_duplicates, \n",
        "                                                       comb_df, max_std, \n",
        "                                                       compound_id=compound_id, \n",
        "                                                       smiles_col=smiles_col)"
      ],
      "execution_count": null,
      "outputs": [
        {
          "output_type": "stream",
          "text": [
            "Bad duplicates removed from dataset\n",
            "Dataframe size (766, 8)\n",
            "List of 'bad' duplicates removed\n",
            "Empty DataFrame\n",
            "Columns: [compound_id, PXC50, VALUE_NUM_mean, Perc_Var, VALUE_NUM_std]\n",
            "Index: []\n",
            "\n",
            "Dataset de-duplicated\n",
            "Dataframe size (702, 8)\n",
            "New column created with averaged values:  VALUE_NUM_mean\n"
          ],
          "name": "stdout"
        }
      ]
    },
    {
      "cell_type": "code",
      "metadata": {
        "id": "h9D4OZCBXcVl",
        "colab": {
          "base_uri": "https://localhost:8080/",
          "height": 441
        },
        "outputId": "bfa49e06-a24f-4aa1-c147-65ab7f051539"
      },
      "source": [
        "# Define the outcome column as PXC50\n",
        "column = 'PXC50'\n",
        "\n",
        "# # of 'bins' for the histogram\n",
        "num_bins = 20\n",
        "\n",
        "title = target_name\n",
        "\n",
        "units = 'NM'\n",
        "\n",
        "filepath = \"\"\n",
        "\n",
        "data=curated_df\n",
        "\n",
        "curate_data.summarize_data(column, num_bins, title, units, filepath, data)"
      ],
      "execution_count": null,
      "outputs": [
        {
          "output_type": "stream",
          "text": [
            "Post-processing dataset\n",
            "\n",
            "Total Number of results = 702\n",
            "dataset mean = 6.738187704369989 NM\n",
            "dataset stdev = 1.5379201957059792 NM\n",
            "dataset max = 10.5 NM\n",
            "dataset min = 3.06 NM\n",
            "\n"
          ],
          "name": "stdout"
        },
        {
          "output_type": "display_data",
          "data": {
            "image/png": "[encoded data removed]",
            "text/plain": [
              "<Figure size 432x288 with 1 Axes>"
            ]
          },
          "metadata": {
            "tags": [],
            "needs_background": "light"
          }
        }
      ]
    },
    {
      "cell_type": "code",
      "metadata": {
        "id": "Z4yi4LM-XcVl"
      },
      "source": [
        "feat_type='ECFP'\n",
        "dist_metric='tanimoto'\n",
        "\n",
        "smiles_lst1 = d1a_df['rdkit_smiles'].tolist()\n",
        "smiles_lst2 = d2a_df['rdkit_smiles'].tolist()\n",
        "\n",
        "## Have the dataset with more compounds be the point of reference\n",
        "\n",
        "if len(smiles_lst1) > len(smiles_lst2) :\n",
        "    s1,s2=smiles_lst1,smiles_lst2\n",
        "else:\n",
        "    s1,s2=smiles_lst2,smiles_lst1\n",
        "calc_type='nearest'\n",
        "dist_sample=cd.calc_dist_smiles(feat_type,dist_metric,s1,s2,calc_type)"
      ],
      "execution_count": null,
      "outputs": []
    },
    {
      "cell_type": "code",
      "metadata": {
        "id": "l0AUWd56XcVm",
        "colab": {
          "base_uri": "https://localhost:8080/",
          "height": 534
        },
        "outputId": "fe311e05-5ee5-4ef6-a583-dec7f44f340b"
      },
      "source": [
        "from scipy.stats.kde import gaussian_kde\n",
        "\n",
        "import numpy as np\n",
        "import matplotlib.pyplot as plt\n",
        "\n",
        "odir='./'\n",
        "task_name='between dataset'\n",
        "dist_pdf = gaussian_kde(dist_sample)\n",
        "x_plt = np.linspace(min(dist_sample), max(dist_sample), 500)\n",
        "y_plt = dist_pdf(x_plt)    \n",
        "fig, ax = plt.subplots(figsize=(8.0,8.0))\n",
        "ax.plot(x_plt, y_plt, color='forestgreen')\n",
        "ax.set_xlabel('%s distance' % dist_metric)\n",
        "ax.set_ylabel('Density')\n",
        "ax.set_title(\"%s dataset\\nDistribution of %s distances between %s feature vectors\" % (\n",
        "              task_name, dist_metric, feat_type))\n",
        "fig.savefig(odir+'distance_to_background_mol.png')"
      ],
      "execution_count": null,
      "outputs": [
        {
          "output_type": "display_data",
          "data": {
            "image/png": "[encoded data removed]",
            "text/plain": [
              "<Figure size 576x576 with 1 Axes>"
            ]
          },
          "metadata": {
            "tags": [],
            "needs_background": "light"
          }
        }
      ]
    },
    {
      "cell_type": "code",
      "metadata": {
        "id": "7ylJxIIzChvH"
      },
      "source": [
        ""
      ],
      "execution_count": null,
      "outputs": []
    }
  ]
}